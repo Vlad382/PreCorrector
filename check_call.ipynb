{
 "cells": [
  {
   "cell_type": "code",
   "execution_count": 1,
   "id": "aa696388",
   "metadata": {},
   "outputs": [],
   "source": [
    "import warnings\n",
    "import sys\n",
    "import os\n",
    "\n",
    "warnings.filterwarnings('ignore')\n",
    "os.environ[\"CUDA_VISIBLE_DEVICES\"] = '1'\n",
    "os.environ['XLA_PYTHON_CLIENT_MEM_FRACTION'] = '.95'\n",
    "sys.path.append('/mnt/local/data/vtrifonov/prec-learning-Notay-loss/')"
   ]
  },
  {
   "cell_type": "code",
   "execution_count": 9,
   "id": "67d82f8b",
   "metadata": {},
   "outputs": [],
   "source": [
    "import jax.numpy as jnp\n",
    "from jax import random, vmap, clear_caches, jit\n",
    "import numpy as np\n",
    "import jax \n",
    "\n",
    "import optax\n",
    "import equinox as eqx\n",
    "from equinox.nn import Conv1d\n",
    "import matplotlib.pyplot as plt\n",
    "from functools import partial\n",
    "from time import perf_counter\n",
    "import cloudpickle\n",
    "\n",
    "from data.dataset import dataset_qtt\n",
    "from linsolve.cg import ConjGrad\n",
    "from linsolve.precond import llt_prec_trig_solve, llt_inv_prec\n",
    "from model import MessagePassing, FullyConnectedNet, PrecNet, ConstantConv1d, MessagePassingWithDot, CorrectionNet\n",
    "\n",
    "from utils import params_count, asses_cond, iter_per_residual, batch_indices\n",
    "from data.graph_utils import direc_graph_from_linear_system_sparse\n",
    "from train import train\n",
    "\n",
    "plt.rcParams['figure.figsize'] = (11, 7)"
   ]
  },
  {
   "cell_type": "markdown",
   "id": "489cc2a4",
   "metadata": {},
   "source": [
    "# Train/retrain/overwrite"
   ]
  },
  {
   "cell_type": "code",
   "execution_count": 10,
   "id": "ed52a385",
   "metadata": {},
   "outputs": [],
   "source": [
    "save_path = '/mnt/local/data/vtrifonov/prec-learning-Notay-loss/trained_models/'\n",
    "model_name = 'check27.11_div_k_grad_64_0.5_ilu0_llt_loss_1000epoch'\n",
    "train_from_scratch = True"
   ]
  },
  {
   "cell_type": "code",
   "execution_count": 31,
   "id": "318907c7",
   "metadata": {},
   "outputs": [],
   "source": [
    "class CorrectionNet_old(eqx.Module):\n",
    "    '''L = L + alpha * GNN(L)\n",
    "    Perseving diagonal as: diag(A) = diag(D) from A = LDL^T'''\n",
    "    NodeEncoder: eqx.Module\n",
    "    EdgeEncoder: eqx.Module\n",
    "    MessagePass: eqx.Module\n",
    "    EdgeDecoder: eqx.Module\n",
    "    alpha: jax.Array\n",
    "\n",
    "    def __init__(self, NodeEncoder, EdgeEncoder, MessagePass, EdgeDecoder, alpha):\n",
    "        super(CorrectionNet_old, self).__init__()\n",
    "        self.NodeEncoder = NodeEncoder\n",
    "        self.EdgeEncoder = EdgeEncoder\n",
    "        self.MessagePass = MessagePass\n",
    "        self.EdgeDecoder = EdgeDecoder\n",
    "        self.alpha = alpha\n",
    "        return    \n",
    "    \n",
    "    def __call__(self, train_graph, bi_edges_indx):#, lhs_graph):\n",
    "        nodes, edges_init, receivers, senders = train_graph\n",
    "        print([a.shape for a in [nodes, edges_init, receivers, senders]])\n",
    "        norm = jnp.abs(edges_init).max()\n",
    "        edges = edges_init / norm\n",
    "#         nodes = nodes / jnp.abs(nodes).max()\n",
    "        \n",
    "        nodes = self.NodeEncoder(nodes[None, ...])\n",
    "        edges = self.EdgeEncoder(edges[None, ...])\n",
    "        nodes, edges, receivers, senders = self.MessagePass(nodes, edges, receivers, senders)\n",
    "        edges = bi_direc_edge_avg(edges, bi_edges_indx)\n",
    "        edges = self.EdgeDecoder(edges)[0, ...]\n",
    "        \n",
    "        edges = edges * norm\n",
    "        edges = edges_init + self.alpha * edges\n",
    "        \n",
    "        nodes, edges, receivers, senders = graph_tril(nodes, jnp.squeeze(edges), receivers, senders)\n",
    "        low_tri = graph_to_low_tri_mat_sparse(nodes, edges, receivers, senders)\n",
    "        return low_tri"
   ]
  },
  {
   "cell_type": "code",
   "execution_count": 32,
   "id": "3aa0accd",
   "metadata": {},
   "outputs": [],
   "source": [
    "class CorrectionNet_new(eqx.Module):\n",
    "    '''L = L + alpha * GNN(L)\n",
    "    Perseving diagonal as: diag(A) = diag(D) from A = LDL^T'''\n",
    "    NodeEncoder: eqx.Module\n",
    "    EdgeEncoder: eqx.Module\n",
    "    MessagePass: eqx.Module\n",
    "    EdgeDecoder: eqx.Module\n",
    "    alpha: jax.Array\n",
    "\n",
    "    def __init__(self, NodeEncoder, EdgeEncoder, MessagePass, EdgeDecoder, alpha):\n",
    "        super(CorrectionNet_new, self).__init__()\n",
    "        self.NodeEncoder = NodeEncoder\n",
    "        self.EdgeEncoder = EdgeEncoder\n",
    "        self.MessagePass = MessagePass\n",
    "        self.EdgeDecoder = EdgeDecoder\n",
    "        self.alpha = alpha\n",
    "        return    \n",
    "    \n",
    "    def __call__(self, train_graph):#, lhs_graph):\n",
    "        nodes, edges_init, receivers, senders = train_graph\n",
    "        print([a.shape for a in [nodes, edges_init, receivers, senders]])\n",
    "        norm = jnp.abs(edges_init).max()\n",
    "        edges = edges_init / norm\n",
    "#         nodes = nodes / jnp.abs(nodes).max()\n",
    "        \n",
    "        nodes = self.NodeEncoder(nodes[None, ...])\n",
    "        edges = self.EdgeEncoder(edges[None, ...])\n",
    "        nodes, edges, receivers, senders = self.MessagePass(nodes, edges, receivers, senders)\n",
    "#         edges = bi_direc_edge_avg(edges, bi_edges_indx)\n",
    "        edges = self.EdgeDecoder(edges)[0, ...]\n",
    "        \n",
    "        edges = edges * norm\n",
    "        edges = edges_init + self.alpha * edges\n",
    "        \n",
    "        nodes, edges, receivers, senders = graph_tril(nodes, jnp.squeeze(edges), receivers, senders)\n",
    "        low_tri = graph_to_low_tri_mat_sparse(nodes, edges, receivers, senders)\n",
    "        return low_tri"
   ]
  },
  {
   "cell_type": "markdown",
   "id": "bd824203",
   "metadata": {},
   "source": [
    "# Setup experiment"
   ]
  },
  {
   "cell_type": "code",
   "execution_count": 13,
   "id": "4aaa1a44",
   "metadata": {},
   "outputs": [],
   "source": [
    "pde = 'div_k_grad'      # 'poisson', 'div_k_grad'\n",
    "grid = 64            # 32, 64, 128\n",
    "variance = .5        # 0.1, 0.5, 1.0 1.5\n",
    "lhs_type = 'l_ilu0'      # 'fd', 'ilu0', 'ilu1', 'ilu2', 'ict', 'l_ict', 'a_pow'\n",
    "N_train = 1000\n",
    "N_test = 200\n",
    "precision = 'f64'\n",
    "\n",
    "fill_factor = 1     # int\n",
    "threshold = 1e-4     # float\n",
    "power = 2            # int\n",
    "N_valid_CG = 300     # Number of CG iterations for validation in the very end"
   ]
  },
  {
   "cell_type": "code",
   "execution_count": 14,
   "id": "e1204ebc",
   "metadata": {},
   "outputs": [
    {
     "name": "stderr",
     "output_type": "stream",
     "text": [
      "2024-11-27 07:14:12.459240: W external/xla/xla/service/gpu/nvptx_compiler.cc:760] The NVIDIA driver's CUDA version is 12.4 which is older than the ptxas CUDA version (12.5.40). Because the driver is older than the ptxas version, XLA is disabling parallel compilation, which may slow down compilation. You should update your NVIDIA driver or use the NVIDIA-provided CUDA forward compatibility packages.\n"
     ]
    }
   ],
   "source": [
    "with_cond = False\n",
    "layer_ = Conv1d\n",
    "# layer_ = ConstantConv1d         # 'ConstantConv1d' to make a \"zero\" NN initialization; 'Conv1d' to make a random initialization\n",
    "alpha = jnp.array([0.])\n",
    "\n",
    "loss_type = 'llt'               # 'llt', 'llt-res', 'inv-prec'"
   ]
  },
  {
   "cell_type": "code",
   "execution_count": 15,
   "id": "35d1f1e6",
   "metadata": {},
   "outputs": [],
   "source": [
    "batch_size = 8\n",
    "epoch_num = 1000\n",
    "lr = 1e-3\n",
    "schedule_params = None #[1700, 2001, 300, 1e-1]    # [start, stop, step, decay_size]"
   ]
  },
  {
   "cell_type": "code",
   "execution_count": 16,
   "id": "a6eca7bb",
   "metadata": {},
   "outputs": [],
   "source": [
    "# if (loss_type in {'notay', 'llt-res', 'llt-res-norm'} and dataset == 'simple') or (loss_type in {'llt', 'llt-norm'} and dataset == 'krylov'):\n",
    "#     raise ValueError('Not valid dataset for a chosen loss')\n",
    "\n",
    "if schedule_params != None:\n",
    "    assert len(schedule_params) == 4\n",
    "    \n",
    "    start, stop, step, decay_size = schedule_params\n",
    "    steps_per_batch = N_train // batch_size\n",
    "    start, stop, step = start*steps_per_batch, stop*steps_per_batch, step*steps_per_batch\n",
    "    lr = optax.piecewise_constant_schedule(\n",
    "        lr,\n",
    "        {k: v for k, v in zip(np.arange(start, stop, step), [decay_size, ] * len(jnp.arange(start, stop, step)))}\n",
    "    )"
   ]
  },
  {
   "cell_type": "code",
   "execution_count": 17,
   "id": "c4ca9c9b",
   "metadata": {},
   "outputs": [],
   "source": [
    "model_config = {\n",
    "    'node_enc': {\n",
    "        'features': [1, 16, 16],\n",
    "        'N_layers': 2,\n",
    "        'layer_': layer_\n",
    "    },\n",
    "    'edge_enc': {\n",
    "        'features': [1, 16, 16],\n",
    "        'N_layers': 2,\n",
    "        'layer_': layer_\n",
    "    },\n",
    "    'edge_dec': {\n",
    "        'features': [16, 16, 1],\n",
    "        'N_layers': 2,\n",
    "        'layer_': layer_\n",
    "    },\n",
    "    'mp': {\n",
    "        'edge_upd': {\n",
    "            'features': [48, 16, 16],\n",
    "            'N_layers': 2,\n",
    "            'layer_': layer_\n",
    "        },\n",
    "        'node_upd': {\n",
    "            'features': [32, 16, 16],\n",
    "            'N_layers': 2,\n",
    "            'layer_': layer_\n",
    "        },\n",
    "        'mp_rounds': 5\n",
    "    }\n",
    "}"
   ]
  },
  {
   "cell_type": "markdown",
   "id": "9cb5fbf5",
   "metadata": {},
   "source": [
    "# Make dataset"
   ]
  },
  {
   "cell_type": "code",
   "execution_count": 18,
   "id": "2562b44f",
   "metadata": {},
   "outputs": [
    {
     "name": "stdout",
     "output_type": "stream",
     "text": [
      "23.958647273480892\n"
     ]
    }
   ],
   "source": [
    "s1 = perf_counter()\n",
    "A_train, A_pad_train, b_train, u_exact_train, bi_edges_train = dataset_qtt(pde, grid, variance, lhs_type,\n",
    "                                                                           return_train=True, N_samples=N_train,\n",
    "                                                                           fill_factor=fill_factor, threshold=threshold,\n",
    "                                                                           power=power, precision=precision)\n",
    "A_test, A_pad_test, b_test, u_exact_test, bi_edges_test = dataset_qtt(pde, grid, variance, lhs_type,\n",
    "                                                                      return_train=False, N_samples=N_test,\n",
    "                                                                      fill_factor=fill_factor, threshold=threshold,\n",
    "                                                                      power=power, precision=precision)\n",
    "print(perf_counter() - s1)"
   ]
  },
  {
   "cell_type": "markdown",
   "id": "83287d63",
   "metadata": {},
   "source": [
    "# Train model"
   ]
  },
  {
   "cell_type": "code",
   "execution_count": 19,
   "id": "579afca4",
   "metadata": {},
   "outputs": [
    {
     "name": "stdout",
     "output_type": "stream",
     "text": [
      "Parameter number: 2754\n"
     ]
    }
   ],
   "source": [
    "seed = 42\n",
    "NodeEncoder = FullyConnectedNet(**model_config['node_enc'], key=random.PRNGKey(seed))\n",
    "EdgeEncoder = FullyConnectedNet(**model_config['edge_enc'], key=random.PRNGKey(seed))\n",
    "EdgeDecoder = FullyConnectedNet(**model_config['edge_dec'], key=random.PRNGKey(seed))\n",
    "\n",
    "mp_rounds = 5\n",
    "MessagePass = MessagePassing(\n",
    "    update_edge_fn = FullyConnectedNet(**model_config['mp']['edge_upd'], key=random.PRNGKey(seed)),    \n",
    "    update_node_fn = FullyConnectedNet(**model_config['mp']['node_upd'], key=random.PRNGKey(seed)),\n",
    "    mp_rounds=model_config['mp']['mp_rounds']\n",
    ")\n",
    "\n",
    "# model = PrecNet(NodeEncoder=NodeEncoder, EdgeEncoder=EdgeEncoder, \n",
    "#                 EdgeDecoder=EdgeDecoder, MessagePass=MessagePass)\n",
    "\n",
    "model = CorrectionNet(NodeEncoder=NodeEncoder, EdgeEncoder=EdgeEncoder, \n",
    "                EdgeDecoder=EdgeDecoder, MessagePass=MessagePass, alpha=alpha)\n",
    "\n",
    "# w = jnp.zeros(A_pad_train[0, ...].nse)\n",
    "# b = alpha\n",
    "# model = ShiftNet(NodeEncoder=NodeEncoder, EdgeEncoder=EdgeEncoder, \n",
    "#                 EdgeDecoder=EdgeDecoder, MessagePass=MessagePass, w=w, b=b)\n",
    "print(f'Parameter number: {params_count(model)}')"
   ]
  },
  {
   "cell_type": "code",
   "execution_count": 20,
   "id": "41a282bf",
   "metadata": {},
   "outputs": [],
   "source": [
    "# data = (X_train, X_test, y_train, y_test)\n",
    "data = (\n",
    "    [A_train, A_pad_train, b_train, bi_edges_train, u_exact_train],\n",
    "    [A_test, A_pad_test, b_test, bi_edges_test, u_exact_test],\n",
    "    jnp.array([1]), jnp.array([1])\n",
    ")\n",
    "train_config = {\n",
    "    'optimizer': optax.adam,\n",
    "    'lr': lr,\n",
    "    'optim_params': {},#{'weight_decay': 1e-8}, \n",
    "    'epoch_num': epoch_num,\n",
    "    'batch_size': batch_size,\n",
    "}"
   ]
  },
  {
   "cell_type": "code",
   "execution_count": null,
   "id": "aae158ef",
   "metadata": {},
   "outputs": [],
   "source": []
  },
  {
   "cell_type": "code",
   "execution_count": null,
   "id": "8871ad67",
   "metadata": {},
   "outputs": [],
   "source": []
  },
  {
   "cell_type": "code",
   "execution_count": null,
   "id": "d6c90070",
   "metadata": {},
   "outputs": [],
   "source": []
  },
  {
   "cell_type": "code",
   "execution_count": 33,
   "id": "bcb571c7",
   "metadata": {},
   "outputs": [],
   "source": [
    "model_new = CorrectionNet_new(NodeEncoder=NodeEncoder, EdgeEncoder=EdgeEncoder, \n",
    "                EdgeDecoder=EdgeDecoder, MessagePass=MessagePass, alpha=alpha)\n",
    "model_old = CorrectionNet_old(NodeEncoder=NodeEncoder, EdgeEncoder=EdgeEncoder, \n",
    "                EdgeDecoder=EdgeDecoder, MessagePass=MessagePass, alpha=alpha)\n",
    "nodes, edges, receivers, senders, _ = direc_graph_from_linear_system_sparse(A_pad_test, b_test)\n"
   ]
  },
  {
   "cell_type": "code",
   "execution_count": 34,
   "id": "577abe6e",
   "metadata": {},
   "outputs": [
    {
     "name": "stdout",
     "output_type": "stream",
     "text": [
      "[(4096,), (20224,), (20224,), (20224,)]\n"
     ]
    },
    {
     "ename": "NameError",
     "evalue": "name 'graph_tril' is not defined",
     "output_type": "error",
     "traceback": [
      "\u001b[0;31m---------------------------------------------------------------------------\u001b[0m",
      "\u001b[0;31mNameError\u001b[0m                                 Traceback (most recent call last)",
      "Cell \u001b[0;32mIn[34], line 1\u001b[0m\n\u001b[0;32m----> 1\u001b[0m L \u001b[38;5;241m=\u001b[39m \u001b[43mvmap\u001b[49m\u001b[43m(\u001b[49m\u001b[43mmodel_new\u001b[49m\u001b[43m,\u001b[49m\u001b[43m \u001b[49m\u001b[43min_axes\u001b[49m\u001b[38;5;241;43m=\u001b[39;49m\u001b[43m(\u001b[49m\u001b[38;5;241;43m0\u001b[39;49m\u001b[43m)\u001b[49m\u001b[43m,\u001b[49m\u001b[43m \u001b[49m\u001b[43mout_axes\u001b[49m\u001b[38;5;241;43m=\u001b[39;49m\u001b[43m(\u001b[49m\u001b[38;5;241;43m0\u001b[39;49m\u001b[43m)\u001b[49m\u001b[43m)\u001b[49m\u001b[43m(\u001b[49m\u001b[43m(\u001b[49m\u001b[43mnodes\u001b[49m\u001b[43m,\u001b[49m\u001b[43m \u001b[49m\u001b[43medges\u001b[49m\u001b[43m,\u001b[49m\u001b[43m \u001b[49m\u001b[43mreceivers\u001b[49m\u001b[43m,\u001b[49m\u001b[43m \u001b[49m\u001b[43msenders\u001b[49m\u001b[43m)\u001b[49m\u001b[43m)\u001b[49m\u001b[38;5;66;03m#, bi_edges_test)#, (lhs_nodes, lhs_edges, lhs_receivers, lhs_senders))\u001b[39;00m\n",
      "    \u001b[0;31m[... skipping hidden 3 frame]\u001b[0m\n",
      "Cell \u001b[0;32mIn[32], line 35\u001b[0m, in \u001b[0;36mCorrectionNet_new.__call__\u001b[0;34m(self, train_graph)\u001b[0m\n\u001b[1;32m     32\u001b[0m edges \u001b[38;5;241m=\u001b[39m edges \u001b[38;5;241m*\u001b[39m norm\n\u001b[1;32m     33\u001b[0m edges \u001b[38;5;241m=\u001b[39m edges_init \u001b[38;5;241m+\u001b[39m \u001b[38;5;28mself\u001b[39m\u001b[38;5;241m.\u001b[39malpha \u001b[38;5;241m*\u001b[39m edges\n\u001b[0;32m---> 35\u001b[0m nodes, edges, receivers, senders \u001b[38;5;241m=\u001b[39m \u001b[43mgraph_tril\u001b[49m(nodes, jnp\u001b[38;5;241m.\u001b[39msqueeze(edges), receivers, senders)\n\u001b[1;32m     36\u001b[0m low_tri \u001b[38;5;241m=\u001b[39m graph_to_low_tri_mat_sparse(nodes, edges, receivers, senders)\n\u001b[1;32m     37\u001b[0m \u001b[38;5;28;01mreturn\u001b[39;00m low_tri\n",
      "\u001b[0;31mNameError\u001b[0m: name 'graph_tril' is not defined"
     ]
    }
   ],
   "source": [
    "L = vmap(model_new, in_axes=(0), out_axes=(0))((nodes, edges, receivers, senders))#, bi_edges_test)#, (lhs_nodes, lhs_edges, lhs_receivers, lhs_senders))"
   ]
  },
  {
   "cell_type": "code",
   "execution_count": 35,
   "id": "bf7108a8",
   "metadata": {},
   "outputs": [
    {
     "name": "stdout",
     "output_type": "stream",
     "text": [
      "[(4096,), (20224,), (20224,), (20224,)]\n"
     ]
    },
    {
     "ename": "NameError",
     "evalue": "name 'bi_direc_edge_avg' is not defined",
     "output_type": "error",
     "traceback": [
      "\u001b[0;31m---------------------------------------------------------------------------\u001b[0m",
      "\u001b[0;31mNameError\u001b[0m                                 Traceback (most recent call last)",
      "Cell \u001b[0;32mIn[35], line 1\u001b[0m\n\u001b[0;32m----> 1\u001b[0m L \u001b[38;5;241m=\u001b[39m \u001b[43mvmap\u001b[49m\u001b[43m(\u001b[49m\u001b[43mmodel_old\u001b[49m\u001b[43m,\u001b[49m\u001b[43m \u001b[49m\u001b[43min_axes\u001b[49m\u001b[38;5;241;43m=\u001b[39;49m\u001b[43m(\u001b[49m\u001b[43m(\u001b[49m\u001b[38;5;241;43m0\u001b[39;49m\u001b[43m,\u001b[49m\u001b[43m \u001b[49m\u001b[38;5;241;43m0\u001b[39;49m\u001b[43m,\u001b[49m\u001b[43m \u001b[49m\u001b[38;5;241;43m0\u001b[39;49m\u001b[43m,\u001b[49m\u001b[43m \u001b[49m\u001b[38;5;241;43m0\u001b[39;49m\u001b[43m)\u001b[49m\u001b[43m,\u001b[49m\u001b[43m \u001b[49m\u001b[38;5;241;43m0\u001b[39;49m\u001b[43m)\u001b[49m\u001b[43m,\u001b[49m\u001b[43m \u001b[49m\u001b[43mout_axes\u001b[49m\u001b[38;5;241;43m=\u001b[39;49m\u001b[43m(\u001b[49m\u001b[38;5;241;43m0\u001b[39;49m\u001b[43m)\u001b[49m\u001b[43m)\u001b[49m\u001b[43m(\u001b[49m\u001b[43m(\u001b[49m\u001b[43mnodes\u001b[49m\u001b[43m,\u001b[49m\u001b[43m \u001b[49m\u001b[43medges\u001b[49m\u001b[43m,\u001b[49m\u001b[43m \u001b[49m\u001b[43mreceivers\u001b[49m\u001b[43m,\u001b[49m\u001b[43m \u001b[49m\u001b[43msenders\u001b[49m\u001b[43m)\u001b[49m\u001b[43m,\u001b[49m\u001b[43m \u001b[49m\u001b[43mbi_edges_test\u001b[49m\u001b[43m)\u001b[49m\u001b[38;5;66;03m#, (lhs_nodes, lhs_edges, lhs_receivers, lhs_senders))\u001b[39;00m\n",
      "    \u001b[0;31m[... skipping hidden 3 frame]\u001b[0m\n",
      "Cell \u001b[0;32mIn[31], line 29\u001b[0m, in \u001b[0;36mCorrectionNet_old.__call__\u001b[0;34m(self, train_graph, bi_edges_indx)\u001b[0m\n\u001b[1;32m     27\u001b[0m edges \u001b[38;5;241m=\u001b[39m \u001b[38;5;28mself\u001b[39m\u001b[38;5;241m.\u001b[39mEdgeEncoder(edges[\u001b[38;5;28;01mNone\u001b[39;00m, \u001b[38;5;241m.\u001b[39m\u001b[38;5;241m.\u001b[39m\u001b[38;5;241m.\u001b[39m])\n\u001b[1;32m     28\u001b[0m nodes, edges, receivers, senders \u001b[38;5;241m=\u001b[39m \u001b[38;5;28mself\u001b[39m\u001b[38;5;241m.\u001b[39mMessagePass(nodes, edges, receivers, senders)\n\u001b[0;32m---> 29\u001b[0m edges \u001b[38;5;241m=\u001b[39m \u001b[43mbi_direc_edge_avg\u001b[49m(edges, bi_edges_indx)\n\u001b[1;32m     30\u001b[0m edges \u001b[38;5;241m=\u001b[39m \u001b[38;5;28mself\u001b[39m\u001b[38;5;241m.\u001b[39mEdgeDecoder(edges)[\u001b[38;5;241m0\u001b[39m, \u001b[38;5;241m.\u001b[39m\u001b[38;5;241m.\u001b[39m\u001b[38;5;241m.\u001b[39m]\n\u001b[1;32m     32\u001b[0m edges \u001b[38;5;241m=\u001b[39m edges \u001b[38;5;241m*\u001b[39m norm\n",
      "\u001b[0;31mNameError\u001b[0m: name 'bi_direc_edge_avg' is not defined"
     ]
    }
   ],
   "source": [
    "L = vmap(model_old, in_axes=((0, 0, 0, 0), 0), out_axes=(0))((nodes, edges, receivers, senders), bi_edges_test)#, (lhs_nodes, lhs_edges, lhs_receivers, lhs_senders))"
   ]
  },
  {
   "cell_type": "code",
   "execution_count": null,
   "id": "aa7ce9b1",
   "metadata": {},
   "outputs": [],
   "source": [
    "if train_from_scratch:\n",
    "    s = perf_counter()\n",
    "    model, losses = train(model, data, train_config, loss_name=loss_type, repeat_step=1, with_cond=with_cond)\n",
    "    dt = perf_counter() - s\n",
    "    \n",
    "    with open(save_path + model_name + '.pkl', 'wb') as f:\n",
    "        cloudpickle.dump(model, f)\n",
    "else:\n",
    "    with open(save_path + model_name + '.pkl', 'rb') as f:\n",
    "        model = cloudpickle.load(f)\n",
    "    losses, dt = [np.nan], np.nan"
   ]
  },
  {
   "cell_type": "code",
   "execution_count": null,
   "id": "d38dcdc5",
   "metadata": {},
   "outputs": [],
   "source": [
    "dt"
   ]
  },
  {
   "cell_type": "code",
   "execution_count": null,
   "id": "ed1a135e",
   "metadata": {},
   "outputs": [],
   "source": [
    "print('alpha:', end='')\n",
    "model.alpha"
   ]
  },
  {
   "cell_type": "code",
   "execution_count": null,
   "id": "f09c91a8",
   "metadata": {},
   "outputs": [],
   "source": [
    "_, axes = plt.subplots(1, 2, figsize=(15, 5))\n",
    "\n",
    "axes[0].plot(range(len(losses[0])), losses[1], label='Test')\n",
    "axes[0].plot(range(len(losses[0])), losses[0], label='Train')\n",
    "axes[0].legend()\n",
    "axes[0].set_yscale('log')\n",
    "axes[0].set_xlabel('Epoch')\n",
    "axes[0].set_ylabel('Loss');\n",
    "axes[0].grid();\n",
    "\n",
    "axes[1].plot(range(len(losses[0])), losses[2], label='Test')\n",
    "axes[1].legend()\n",
    "axes[1].set_yscale('log')\n",
    "axes[1].set_xlabel('Epoch')\n",
    "axes[1].set_ylabel('Cond of $P^{-1}A$')\n",
    "axes[1].grid();\n",
    "\n",
    "plt.tight_layout()\n",
    "\n",
    "print(f'Final values\\n  train loss: {losses[0][-1]:.4f}\\n   test loss: {losses[1][-1]:.4f}\\n    LLT cond: {losses[2][-1]:.0f}')\n",
    "print(f'\\nMinimim test loss `{jnp.min(losses[1]).item():.4f}` at epoch `{jnp.argmin(losses[1]).item():.0f}`')\n",
    "print(f'\\nMinimim test P^(-1)A cond `{jnp.min(losses[2]).item():.0f}` at epoch `{jnp.argmin(losses[2]).item():.0f}`')"
   ]
  },
  {
   "cell_type": "code",
   "execution_count": null,
   "id": "3c9c483a",
   "metadata": {},
   "outputs": [],
   "source": [
    "losses[1][500], losses[1][-1]"
   ]
  },
  {
   "cell_type": "markdown",
   "id": "178d99d7",
   "metadata": {},
   "source": [
    "## Make precs"
   ]
  },
  {
   "cell_type": "code",
   "execution_count": 16,
   "id": "f47039be",
   "metadata": {},
   "outputs": [],
   "source": [
    "nodes, edges, receivers, senders, _ = direc_graph_from_linear_system_sparse(A_pad_test, b_test)\n",
    "# lhs_nodes, lhs_edges, lhs_receivers, lhs_senders, _ = direc_graph_from_linear_system_sparse(A_test, b_test)\n",
    "\n",
    "L = vmap(model, in_axes=(0), out_axes=(0))((nodes, edges, receivers, senders))#, bi_edges_test)#, (lhs_nodes, lhs_edges, lhs_receivers, lhs_senders))\n",
    "# del model, data, A_train, A_pad_train, b_train, u_exact_train, bi_edges_train, bi_edges_test\n",
    "# clear_caches()"
   ]
  },
  {
   "cell_type": "markdown",
   "id": "6f5f6cb5",
   "metadata": {},
   "source": [
    "# Apply model to CG"
   ]
  },
  {
   "cell_type": "code",
   "execution_count": 19,
   "id": "9e2f5784",
   "metadata": {},
   "outputs": [],
   "source": [
    "from linsolve.scipy_linsolve import batched_cg_scipy, make_Chol_prec_from_bcoo, cg_scipy\n",
    "from utils import jBCOO_to_scipyCSR\n",
    "\n",
    "import scipy.sparse.linalg as sci_sp_linalg\n",
    "import scipy.linalg as sci_linalg"
   ]
  },
  {
   "cell_type": "code",
   "execution_count": 20,
   "id": "4d62182d",
   "metadata": {},
   "outputs": [],
   "source": [
    "P = make_Chol_prec_from_bcoo(L)"
   ]
  },
  {
   "cell_type": "code",
   "execution_count": 22,
   "id": "359921a7",
   "metadata": {},
   "outputs": [
    {
     "ename": "IndexError",
     "evalue": "only integers, slices (`:`), ellipsis (`...`), numpy.newaxis (`None`) and integer or boolean arrays are valid indices",
     "output_type": "error",
     "traceback": [
      "\u001b[0;31m---------------------------------------------------------------------------\u001b[0m",
      "\u001b[0;31mIndexError\u001b[0m                                Traceback (most recent call last)",
      "Cell \u001b[0;32mIn[22], line 1\u001b[0m\n\u001b[0;32m----> 1\u001b[0m _, iters_mean, iters_std, time_mean, time_std \u001b[38;5;241m=\u001b[39m \u001b[43mbatched_cg_scipy\u001b[49m\u001b[43m(\u001b[49m\u001b[43mA_test\u001b[49m\u001b[43m,\u001b[49m\u001b[43m \u001b[49m\u001b[43mb_test\u001b[49m\u001b[43m,\u001b[49m\u001b[43m \u001b[49m\u001b[43mP\u001b[49m\u001b[38;5;241;43m=\u001b[39;49m\u001b[43mP\u001b[49m\u001b[43m,\u001b[49m\u001b[43m \u001b[49m\u001b[43matol\u001b[49m\u001b[38;5;241;43m=\u001b[39;49m\u001b[38;5;241;43m1e-12\u001b[39;49m\u001b[43m,\u001b[49m\u001b[43m \u001b[49m\u001b[43mmaxiter\u001b[49m\u001b[38;5;241;43m=\u001b[39;49m\u001b[38;5;241;43m300\u001b[39;49m\u001b[43m)\u001b[49m\n",
      "File \u001b[0;32m/mnt/local/data/vtrifonov/prec-learning-Notay-loss/linsolve/scipy_linsolve.py:34\u001b[0m, in \u001b[0;36mbatched_cg_scipy\u001b[0;34m(A, b, P, atol, maxiter, x0)\u001b[0m\n\u001b[1;32m     32\u001b[0m     time_ls[\u001b[38;5;241m1\u001b[39m]\u001b[38;5;241m.\u001b[39mappend(time_i[iters_ls[\u001b[38;5;241m1\u001b[39m][\u001b[38;5;241m-\u001b[39m\u001b[38;5;241m1\u001b[39m]])\n\u001b[1;32m     33\u001b[0m     time_ls[\u001b[38;5;241m2\u001b[39m]\u001b[38;5;241m.\u001b[39mappend(time_i[iters_ls[\u001b[38;5;241m2\u001b[39m][\u001b[38;5;241m-\u001b[39m\u001b[38;5;241m1\u001b[39m]])\n\u001b[0;32m---> 34\u001b[0m     time_ls[\u001b[38;5;241m3\u001b[39m]\u001b[38;5;241m.\u001b[39mappend(\u001b[43mtime_i\u001b[49m\u001b[43m[\u001b[49m\u001b[43miters_ls\u001b[49m\u001b[43m[\u001b[49m\u001b[38;5;241;43m3\u001b[39;49m\u001b[43m]\u001b[49m\u001b[43m[\u001b[49m\u001b[38;5;241;43m-\u001b[39;49m\u001b[38;5;241;43m1\u001b[39;49m\u001b[43m]\u001b[49m\u001b[43m]\u001b[49m)\n\u001b[1;32m     36\u001b[0m \u001b[38;5;28;01mif\u001b[39;00m np\u001b[38;5;241m.\u001b[39misnan(iters_ls[\u001b[38;5;241m0\u001b[39m])\u001b[38;5;241m.\u001b[39many():\n\u001b[1;32m     37\u001b[0m     \u001b[38;5;28mprint\u001b[39m(\u001b[38;5;124mf\u001b[39m\u001b[38;5;124m'\u001b[39m\u001b[38;5;124mAll nans to 1e-3? \u001b[39m\u001b[38;5;132;01m{\u001b[39;00mnp\u001b[38;5;241m.\u001b[39misnan(iters_ls[\u001b[38;5;241m0\u001b[39m])\u001b[38;5;241m.\u001b[39mall()\u001b[38;5;132;01m}\u001b[39;00m\u001b[38;5;124m'\u001b[39m)\n",
      "\u001b[0;31mIndexError\u001b[0m: only integers, slices (`:`), ellipsis (`...`), numpy.newaxis (`None`) and integer or boolean arrays are valid indices"
     ]
    }
   ],
   "source": [
    "_, iters_mean, iters_std, time_mean, time_std = batched_cg_scipy(A_test, b_test, P=P, atol=1e-12, maxiter=300)"
   ]
  },
  {
   "cell_type": "code",
   "execution_count": null,
   "id": "b6b93f2c",
   "metadata": {},
   "outputs": [],
   "source": [
    "print('iters')\n",
    "display(iters_mean)\n",
    "iters_std"
   ]
  },
  {
   "cell_type": "markdown",
   "id": "6d1a27c3",
   "metadata": {},
   "source": [
    "### Classical prec"
   ]
  },
  {
   "cell_type": "code",
   "execution_count": 69,
   "id": "d73764d0",
   "metadata": {},
   "outputs": [],
   "source": [
    "from linsolve.scipy_linsolve import make_Chol_prec"
   ]
  },
  {
   "cell_type": "code",
   "execution_count": null,
   "id": "f333baa9",
   "metadata": {},
   "outputs": [],
   "source": [
    "P_class = make_Chol_prec(L)"
   ]
  },
  {
   "cell_type": "code",
   "execution_count": null,
   "id": "ac287900",
   "metadata": {},
   "outputs": [],
   "source": [
    "_, iters_mean, iters_std, time_mean, time_std = batched_cg_scipy(A_test, b_test, P=P_class, atol=1e-12, maxiter=400)"
   ]
  },
  {
   "cell_type": "code",
   "execution_count": null,
   "id": "ce1ce13a",
   "metadata": {},
   "outputs": [],
   "source": [
    "print('iters')\n",
    "display(iters_mean)\n",
    "iters_std"
   ]
  },
  {
   "cell_type": "code",
   "execution_count": null,
   "id": "687d11f9",
   "metadata": {},
   "outputs": [],
   "source": []
  }
 ],
 "metadata": {
  "kernelspec": {
   "display_name": "Python 3 (ipykernel)",
   "language": "python",
   "name": "python3"
  },
  "language_info": {
   "codemirror_mode": {
    "name": "ipython",
    "version": 3
   },
   "file_extension": ".py",
   "mimetype": "text/x-python",
   "name": "python",
   "nbconvert_exporter": "python",
   "pygments_lexer": "ipython3",
   "version": "3.10.6"
  }
 },
 "nbformat": 4,
 "nbformat_minor": 5
}
