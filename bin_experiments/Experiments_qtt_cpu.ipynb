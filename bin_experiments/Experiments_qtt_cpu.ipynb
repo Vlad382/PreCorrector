{
 "cells": [
  {
   "cell_type": "code",
   "execution_count": 1,
   "id": "a530d550",
   "metadata": {},
   "outputs": [],
   "source": [
    "import numpy as np"
   ]
  },
  {
   "cell_type": "code",
   "execution_count": 2,
   "id": "95f5361b",
   "metadata": {},
   "outputs": [
    {
     "data": {
      "text/plain": [
       "array([0.040279, 0.051979, 0.066079])"
      ]
     },
     "execution_count": 2,
     "metadata": {},
     "output_type": "execute_result"
    }
   ],
   "source": [
    "1.5*1e-4 + np.array([0.0402, 0.0519, 0.0660])"
   ]
  },
  {
   "cell_type": "code",
   "execution_count": null,
   "id": "3d613806",
   "metadata": {},
   "outputs": [],
   "source": []
  },
  {
   "cell_type": "code",
   "execution_count": null,
   "id": "470d9bf6",
   "metadata": {},
   "outputs": [],
   "source": []
  },
  {
   "cell_type": "code",
   "execution_count": 1,
   "id": "374e9100",
   "metadata": {},
   "outputs": [],
   "source": [
    "import warnings\n",
    "import sys\n",
    "import os\n",
    "\n",
    "warnings.filterwarnings('ignore')\n",
    "os.environ[\"CUDA_VISIBLE_DEVICES\"] = ''\n",
    "os.environ['XLA_PYTHON_CLIENT_MEM_FRACTION'] = '.95'\n",
    "os.environ['JAX_PLATFORMS'] = 'cpu'\n",
    "sys.path.append('/mnt/local/data/vtrifonov/prec-learning-Notay-loss/')"
   ]
  },
  {
   "cell_type": "code",
   "execution_count": 2,
   "id": "f3d95c55",
   "metadata": {},
   "outputs": [],
   "source": [
    "import jax.numpy as jnp\n",
    "from jax import random, vmap, clear_caches, jit\n",
    "import numpy as np\n",
    "\n",
    "import optax\n",
    "from equinox.nn import Conv1d\n",
    "import matplotlib.pyplot as plt\n",
    "from functools import partial\n",
    "from time import perf_counter\n",
    "\n",
    "from data.dataset import dataset_qtt\n",
    "from linsolve.cg import ConjGrad\n",
    "from linsolve.precond import llt_prec_trig_solve, llt_inv_prec\n",
    "from model import MessagePassing, FullyConnectedNet, PrecNet, ConstantConv1d, MessagePassingWithDot, CorrectionNet, ShiftNet\n",
    "\n",
    "from utils import params_count, asses_cond, iter_per_residual, batch_indices\n",
    "from data.utils import direc_graph_from_linear_system_sparse\n",
    "from train import train\n",
    "\n",
    "plt.rcParams['figure.figsize'] = (11, 7)"
   ]
  },
  {
   "cell_type": "markdown",
   "id": "9f51f537",
   "metadata": {},
   "source": [
    "# Setup experiment"
   ]
  },
  {
   "cell_type": "code",
   "execution_count": 12,
   "id": "8e79dd9b",
   "metadata": {},
   "outputs": [],
   "source": [
    "pde = 'div_k_grad'      # 'poisson', 'div_k_grad'\n",
    "grid = 64            # 32, 64, 128\n",
    "variance = .1        # 0.1, 0.5, 1.0 1.5\n",
    "lhs_type = 'fd'      # 'fd', 'ilu0', 'ilu1', 'ilu2', 'ict', 'l_ict', 'a_pow'\n",
    "N_train = 1000\n",
    "N_test = 200\n",
    "\n",
    "\n",
    "fill_factor = 1     # int\n",
    "threshold = 1e-4     # float\n",
    "power = 2            # int\n",
    "N_valid_CG = 100     # Number of CG iterations for validation in the very end"
   ]
  },
  {
   "cell_type": "code",
   "execution_count": 13,
   "id": "7dcf37c8",
   "metadata": {},
   "outputs": [],
   "source": [
    "with_cond = False\n",
    "layer_ = Conv1d         # 'ConstantConv1d' to make a \"zero\" NN initialization; 'Conv1d' to make a random initialization\n",
    "alpha = jnp.array([0.])\n",
    "\n",
    "loss_type = 'llt'               # 'llt', 'llt-res', 'inv-prec'"
   ]
  },
  {
   "cell_type": "code",
   "execution_count": 14,
   "id": "c1b01946",
   "metadata": {},
   "outputs": [],
   "source": [
    "batch_size = 16\n",
    "epoch_num = 700\n",
    "lr = 1e-3\n",
    "schedule_params = None #[1700, 2001, 300, 1e-1]    # [start, stop, step, decay_size]"
   ]
  },
  {
   "cell_type": "code",
   "execution_count": 15,
   "id": "8d5e202e",
   "metadata": {},
   "outputs": [],
   "source": [
    "# if (loss_type in {'notay', 'llt-res', 'llt-res-norm'} and dataset == 'simple') or (loss_type in {'llt', 'llt-norm'} and dataset == 'krylov'):\n",
    "#     raise ValueError('Not valid dataset for a chosen loss')\n",
    "\n",
    "if schedule_params != None:\n",
    "    assert len(schedule_params) == 4\n",
    "    \n",
    "    start, stop, step, decay_size = schedule_params\n",
    "    steps_per_batch = N_train // batch_size\n",
    "    start, stop, step = start*steps_per_batch, stop*steps_per_batch, step*steps_per_batch\n",
    "    lr = optax.piecewise_constant_schedule(\n",
    "        lr,\n",
    "        {k: v for k, v in zip(np.arange(start, stop, step), [decay_size, ] * len(jnp.arange(start, stop, step)))}\n",
    "    )"
   ]
  },
  {
   "cell_type": "code",
   "execution_count": 16,
   "id": "ec649df9",
   "metadata": {},
   "outputs": [],
   "source": [
    "model_config = {\n",
    "    'node_enc': {\n",
    "        'features': [1, 16, 16],\n",
    "        'N_layers': 2,\n",
    "        'layer_': layer_\n",
    "    },\n",
    "    'edge_enc': {\n",
    "        'features': [1, 16, 16],\n",
    "        'N_layers': 2,\n",
    "        'layer_': layer_\n",
    "    },\n",
    "    'edge_dec': {\n",
    "        'features': [16, 16, 1],\n",
    "        'N_layers': 2,\n",
    "        'layer_': layer_\n",
    "    },\n",
    "    'mp': {\n",
    "        'edge_upd': {\n",
    "            'features': [48, 16, 16],\n",
    "            'N_layers': 2,\n",
    "            'layer_': layer_\n",
    "        },\n",
    "        'node_upd': {\n",
    "            'features': [32, 16, 16],\n",
    "            'N_layers': 2,\n",
    "            'layer_': layer_\n",
    "        },\n",
    "        'mp_rounds': 5\n",
    "    }\n",
    "}"
   ]
  },
  {
   "cell_type": "markdown",
   "id": "8c199e0f",
   "metadata": {},
   "source": [
    "# Make dataset"
   ]
  },
  {
   "cell_type": "code",
   "execution_count": 17,
   "id": "0965e28d",
   "metadata": {},
   "outputs": [
    {
     "name": "stdout",
     "output_type": "stream",
     "text": [
      "1.285313343629241\n"
     ]
    }
   ],
   "source": [
    "s1 = perf_counter()\n",
    "A_train, A_pad_train, b_train, u_exact_train, bi_edges_train = dataset_qtt(pde, grid, variance, lhs_type, return_train=True, N_samples=N_train, fill_factor=fill_factor, threshold=threshold, power=power)\n",
    "A_test, A_pad_test, b_test, u_exact_test, bi_edges_test = dataset_qtt(pde, grid, variance, lhs_type, return_train=False, N_samples=N_test, fill_factor=fill_factor, threshold=threshold, power=power)\n",
    "print(perf_counter() - s1)"
   ]
  },
  {
   "cell_type": "code",
   "execution_count": null,
   "id": "b00aa2f4",
   "metadata": {},
   "outputs": [],
   "source": []
  },
  {
   "cell_type": "code",
   "execution_count": null,
   "id": "926f90e7",
   "metadata": {},
   "outputs": [],
   "source": []
  },
  {
   "cell_type": "code",
   "execution_count": 18,
   "id": "a2a2da8d",
   "metadata": {},
   "outputs": [
    {
     "name": "stdout",
     "output_type": "stream",
     "text": [
      "mean = 0.000154, std = 0.000012\n"
     ]
    }
   ],
   "source": [
    "from utils import jBCOO_to_scipyCSR\n",
    "import ilupp\n",
    "\n",
    "N = A_train.shape[0]\n",
    "time_ls = []\n",
    "\n",
    "for n in range(N):\n",
    "    A_n = jBCOO_to_scipyCSR(A_train[n, ...])\n",
    "    \n",
    "    t_s = perf_counter()\n",
    "    L = ilupp.ichol0(A_n)\n",
    "    time_ls.append(perf_counter() - t_s)\n",
    "print(f'mean = {np.mean(time_ls):.6f}, std = {np.std(time_ls):.6f}')"
   ]
  },
  {
   "cell_type": "code",
   "execution_count": null,
   "id": "b381adcd",
   "metadata": {},
   "outputs": [],
   "source": []
  },
  {
   "cell_type": "code",
   "execution_count": null,
   "id": "a4476e1d",
   "metadata": {},
   "outputs": [],
   "source": []
  },
  {
   "cell_type": "code",
   "execution_count": null,
   "id": "40d9e1ca",
   "metadata": {},
   "outputs": [],
   "source": []
  },
  {
   "cell_type": "code",
   "execution_count": 10,
   "id": "a849c58b",
   "metadata": {},
   "outputs": [],
   "source": [
    "from scipy.sparse.linalg import LinearOperator, cg, spsolve_triangular\n",
    "import pyamg\n",
    "from scipy.sparse import tril\n",
    "from utils import jBCOO_to_scipyCSR\n",
    "from jax import random\n",
    "from tqdm import trange\n",
    "\n",
    "def run_all_test_AMG(A, b, atol):\n",
    "    amg_iters = []\n",
    "    amg_p_time = []\n",
    "    amg_cg_time = []\n",
    "    \n",
    "    for i in trange(A.shape[0]):\n",
    "        iters = 0\n",
    "        def nonlocal_iterate(arr):\n",
    "            nonlocal iters\n",
    "            iters += 1\n",
    "        \n",
    "        A_i, b_i = jBCOO_to_scipyCSR(A[i, ...]).astype(np.float32), np.asarray(b[i, ...]).astype(np.float32)\n",
    "        \n",
    "        t_prec = perf_counter()\n",
    "        ml = pyamg.aggregation.smoothed_aggregation_solver(A_i)\n",
    "        M_i = ml.aspreconditioner(cycle='V')\n",
    "        amg_p_time.append(perf_counter() - t_prec)\n",
    "        \n",
    "        t_cg = perf_counter()\n",
    "        solution, info = cg(A_i, b_i, M=M_i, callback=nonlocal_iterate, rtol=1e-30, atol=atol, maxiter=1000, x0=np.array(random.normal(random.PRNGKey(42), b_i.shape)))\n",
    "        amg_cg_time.append(perf_counter() - t_cg)\n",
    "        \n",
    "        amg_iters.append(iters)\n",
    "    return amg_iters, amg_p_time, amg_cg_time"
   ]
  },
  {
   "cell_type": "code",
   "execution_count": 11,
   "id": "18d4fbb6",
   "metadata": {},
   "outputs": [
    {
     "name": "stderr",
     "output_type": "stream",
     "text": [
      "100%|████████████████████████████████████████████████████████████████████████████████████████████████████████████████████████████████████████████████████████████████████████████| 200/200 [00:20<00:00,  9.67it/s]\n"
     ]
    },
    {
     "name": "stdout",
     "output_type": "stream",
     "text": [
      "atol = 0.001\n",
      "AMG\n",
      "  iters\n",
      "   mean = 8.6250, std = 0.4841\n",
      "  time prec\n",
      "   mean = 0.0566, std = 0.0062\n",
      "  time cg\n",
      "   mean = 0.0336, std = 0.0216\n",
      "\n"
     ]
    },
    {
     "name": "stderr",
     "output_type": "stream",
     "text": [
      " 97%|██████████████████████████████████████████████████████████████████████████████████████████████████████████████████████████████████████████████████████████████████████▊     | 194/200 [00:20<00:00,  9.34it/s]\n"
     ]
    },
    {
     "ename": "KeyboardInterrupt",
     "evalue": "",
     "output_type": "error",
     "traceback": [
      "\u001b[0;31m---------------------------------------------------------------------------\u001b[0m",
      "\u001b[0;31mKeyboardInterrupt\u001b[0m                         Traceback (most recent call last)",
      "Cell \u001b[0;32mIn[11], line 2\u001b[0m\n\u001b[1;32m      1\u001b[0m \u001b[38;5;28;01mfor\u001b[39;00m atol \u001b[38;5;129;01min\u001b[39;00m [\u001b[38;5;241m1e-3\u001b[39m, \u001b[38;5;241m1e-6\u001b[39m, \u001b[38;5;241m1e-9\u001b[39m]:\n\u001b[0;32m----> 2\u001b[0m     amg_iters, amg_p_time, amg_cg_time \u001b[38;5;241m=\u001b[39m \u001b[43mrun_all_test_AMG\u001b[49m\u001b[43m(\u001b[49m\u001b[43mA_test\u001b[49m\u001b[43m,\u001b[49m\u001b[43m \u001b[49m\u001b[43mb_test\u001b[49m\u001b[43m,\u001b[49m\u001b[43m \u001b[49m\u001b[43matol\u001b[49m\u001b[43m)\u001b[49m\n\u001b[1;32m      3\u001b[0m     \u001b[38;5;28mprint\u001b[39m(\u001b[38;5;124mf\u001b[39m\u001b[38;5;124m'\u001b[39m\u001b[38;5;124matol = \u001b[39m\u001b[38;5;132;01m{\u001b[39;00matol\u001b[38;5;132;01m}\u001b[39;00m\u001b[38;5;124m'\u001b[39m)\n\u001b[1;32m      4\u001b[0m     \u001b[38;5;28mprint\u001b[39m(\u001b[38;5;124mf\u001b[39m\u001b[38;5;124m'\u001b[39m\u001b[38;5;124mAMG\u001b[39m\u001b[38;5;130;01m\\n\u001b[39;00m\u001b[38;5;124m  iters\u001b[39m\u001b[38;5;130;01m\\n\u001b[39;00m\u001b[38;5;124m   mean = \u001b[39m\u001b[38;5;132;01m{\u001b[39;00mnp\u001b[38;5;241m.\u001b[39mmean(amg_iters)\u001b[38;5;132;01m:\u001b[39;00m\u001b[38;5;124m.4f\u001b[39m\u001b[38;5;132;01m}\u001b[39;00m\u001b[38;5;124m, std = \u001b[39m\u001b[38;5;132;01m{\u001b[39;00mnp\u001b[38;5;241m.\u001b[39mstd(amg_iters)\u001b[38;5;132;01m:\u001b[39;00m\u001b[38;5;124m.4f\u001b[39m\u001b[38;5;132;01m}\u001b[39;00m\u001b[38;5;130;01m\\n\u001b[39;00m\u001b[38;5;124m  time prec\u001b[39m\u001b[38;5;130;01m\\n\u001b[39;00m\u001b[38;5;124m   mean = \u001b[39m\u001b[38;5;132;01m{\u001b[39;00mnp\u001b[38;5;241m.\u001b[39mmean(amg_p_time)\u001b[38;5;132;01m:\u001b[39;00m\u001b[38;5;124m.4f\u001b[39m\u001b[38;5;132;01m}\u001b[39;00m\u001b[38;5;124m, std = \u001b[39m\u001b[38;5;132;01m{\u001b[39;00mnp\u001b[38;5;241m.\u001b[39mstd(amg_p_time)\u001b[38;5;132;01m:\u001b[39;00m\u001b[38;5;124m.4f\u001b[39m\u001b[38;5;132;01m}\u001b[39;00m\u001b[38;5;124m'\u001b[39m)\n",
      "Cell \u001b[0;32mIn[10], line 22\u001b[0m, in \u001b[0;36mrun_all_test_AMG\u001b[0;34m(A, b, atol)\u001b[0m\n\u001b[1;32m     19\u001b[0m A_i, b_i \u001b[38;5;241m=\u001b[39m jBCOO_to_scipyCSR(A[i, \u001b[38;5;241m.\u001b[39m\u001b[38;5;241m.\u001b[39m\u001b[38;5;241m.\u001b[39m])\u001b[38;5;241m.\u001b[39mastype(np\u001b[38;5;241m.\u001b[39mfloat32), np\u001b[38;5;241m.\u001b[39masarray(b[i, \u001b[38;5;241m.\u001b[39m\u001b[38;5;241m.\u001b[39m\u001b[38;5;241m.\u001b[39m])\u001b[38;5;241m.\u001b[39mastype(np\u001b[38;5;241m.\u001b[39mfloat32)\n\u001b[1;32m     21\u001b[0m t_prec \u001b[38;5;241m=\u001b[39m perf_counter()\n\u001b[0;32m---> 22\u001b[0m ml \u001b[38;5;241m=\u001b[39m \u001b[43mpyamg\u001b[49m\u001b[38;5;241;43m.\u001b[39;49m\u001b[43maggregation\u001b[49m\u001b[38;5;241;43m.\u001b[39;49m\u001b[43msmoothed_aggregation_solver\u001b[49m\u001b[43m(\u001b[49m\u001b[43mA_i\u001b[49m\u001b[43m)\u001b[49m\n\u001b[1;32m     23\u001b[0m M_i \u001b[38;5;241m=\u001b[39m ml\u001b[38;5;241m.\u001b[39maspreconditioner(cycle\u001b[38;5;241m=\u001b[39m\u001b[38;5;124m'\u001b[39m\u001b[38;5;124mV\u001b[39m\u001b[38;5;124m'\u001b[39m)\n\u001b[1;32m     24\u001b[0m amg_p_time\u001b[38;5;241m.\u001b[39mappend(perf_counter() \u001b[38;5;241m-\u001b[39m t_prec)\n",
      "File \u001b[0;32m/usr/local/lib/python3.10/dist-packages/pyamg/aggregation/aggregation.py:280\u001b[0m, in \u001b[0;36msmoothed_aggregation_solver\u001b[0;34m(A, B, BH, symmetry, strength, aggregate, smooth, presmoother, postsmoother, improve_candidates, max_levels, max_coarse, diagonal_dominance, keep, **kwargs)\u001b[0m\n\u001b[1;32m    276\u001b[0m     levels[\u001b[38;5;241m-\u001b[39m\u001b[38;5;241m1\u001b[39m]\u001b[38;5;241m.\u001b[39mBH \u001b[38;5;241m=\u001b[39m BH    \u001b[38;5;66;03m# left candidates\u001b[39;00m\n\u001b[1;32m    278\u001b[0m \u001b[38;5;28;01mwhile\u001b[39;00m \u001b[38;5;28mlen\u001b[39m(levels) \u001b[38;5;241m<\u001b[39m max_levels \u001b[38;5;129;01mand\u001b[39;00m\\\n\u001b[1;32m    279\u001b[0m         \u001b[38;5;28mint\u001b[39m(levels[\u001b[38;5;241m-\u001b[39m\u001b[38;5;241m1\u001b[39m]\u001b[38;5;241m.\u001b[39mA\u001b[38;5;241m.\u001b[39mshape[\u001b[38;5;241m0\u001b[39m]\u001b[38;5;241m/\u001b[39mget_blocksize(levels[\u001b[38;5;241m-\u001b[39m\u001b[38;5;241m1\u001b[39m]\u001b[38;5;241m.\u001b[39mA)) \u001b[38;5;241m>\u001b[39m max_coarse:\n\u001b[0;32m--> 280\u001b[0m     \u001b[43m_extend_hierarchy\u001b[49m\u001b[43m(\u001b[49m\u001b[43mlevels\u001b[49m\u001b[43m,\u001b[49m\u001b[43m \u001b[49m\u001b[43mstrength\u001b[49m\u001b[43m,\u001b[49m\u001b[43m \u001b[49m\u001b[43maggregate\u001b[49m\u001b[43m,\u001b[49m\u001b[43m \u001b[49m\u001b[43msmooth\u001b[49m\u001b[43m,\u001b[49m\n\u001b[1;32m    281\u001b[0m \u001b[43m                      \u001b[49m\u001b[43mimprove_candidates\u001b[49m\u001b[43m,\u001b[49m\u001b[43m \u001b[49m\u001b[43mdiagonal_dominance\u001b[49m\u001b[43m,\u001b[49m\u001b[43m \u001b[49m\u001b[43mkeep\u001b[49m\u001b[43m)\u001b[49m\n\u001b[1;32m    283\u001b[0m ml \u001b[38;5;241m=\u001b[39m MultilevelSolver(levels, \u001b[38;5;241m*\u001b[39m\u001b[38;5;241m*\u001b[39mkwargs)\n\u001b[1;32m    284\u001b[0m change_smoothers(ml, presmoother, postsmoother)\n",
      "File \u001b[0;32m/usr/local/lib/python3.10/dist-packages/pyamg/aggregation/aggregation.py:381\u001b[0m, in \u001b[0;36m_extend_hierarchy\u001b[0;34m(levels, strength, aggregate, smooth, improve_candidates, diagonal_dominance, keep)\u001b[0m\n\u001b[1;32m    379\u001b[0m fn, kwargs \u001b[38;5;241m=\u001b[39m unpack_arg(smooth[\u001b[38;5;28mlen\u001b[39m(levels)\u001b[38;5;241m-\u001b[39m\u001b[38;5;241m1\u001b[39m])\n\u001b[1;32m    380\u001b[0m \u001b[38;5;28;01mif\u001b[39;00m fn \u001b[38;5;241m==\u001b[39m \u001b[38;5;124m'\u001b[39m\u001b[38;5;124mjacobi\u001b[39m\u001b[38;5;124m'\u001b[39m:\n\u001b[0;32m--> 381\u001b[0m     P \u001b[38;5;241m=\u001b[39m \u001b[43mjacobi_prolongation_smoother\u001b[49m\u001b[43m(\u001b[49m\u001b[43mA\u001b[49m\u001b[43m,\u001b[49m\u001b[43m \u001b[49m\u001b[43mT\u001b[49m\u001b[43m,\u001b[49m\u001b[43m \u001b[49m\u001b[43mC\u001b[49m\u001b[43m,\u001b[49m\u001b[43m \u001b[49m\u001b[43mB\u001b[49m\u001b[43m,\u001b[49m\u001b[43m \u001b[49m\u001b[38;5;241;43m*\u001b[39;49m\u001b[38;5;241;43m*\u001b[39;49m\u001b[43mkwargs\u001b[49m\u001b[43m)\u001b[49m\n\u001b[1;32m    382\u001b[0m \u001b[38;5;28;01melif\u001b[39;00m fn \u001b[38;5;241m==\u001b[39m \u001b[38;5;124m'\u001b[39m\u001b[38;5;124mrichardson\u001b[39m\u001b[38;5;124m'\u001b[39m:\n\u001b[1;32m    383\u001b[0m     P \u001b[38;5;241m=\u001b[39m richardson_prolongation_smoother(A, T, \u001b[38;5;241m*\u001b[39m\u001b[38;5;241m*\u001b[39mkwargs)\n",
      "File \u001b[0;32m/usr/local/lib/python3.10/dist-packages/pyamg/aggregation/smooth.py:157\u001b[0m, in \u001b[0;36mjacobi_prolongation_smoother\u001b[0;34m(S, T, C, B, omega, degree, filter_entries, weighting)\u001b[0m\n\u001b[1;32m    155\u001b[0m     D_inv \u001b[38;5;241m=\u001b[39m get_diagonal(S, inv\u001b[38;5;241m=\u001b[39m\u001b[38;5;28;01mTrue\u001b[39;00m)\n\u001b[1;32m    156\u001b[0m     D_inv_S \u001b[38;5;241m=\u001b[39m scale_rows(S, D_inv, copy\u001b[38;5;241m=\u001b[39m\u001b[38;5;28;01mTrue\u001b[39;00m)\n\u001b[0;32m--> 157\u001b[0m     D_inv_S \u001b[38;5;241m=\u001b[39m (omega\u001b[38;5;241m/\u001b[39m\u001b[43mapproximate_spectral_radius\u001b[49m\u001b[43m(\u001b[49m\u001b[43mD_inv_S\u001b[49m\u001b[43m)\u001b[49m)\u001b[38;5;241m*\u001b[39mD_inv_S\n\u001b[1;32m    158\u001b[0m \u001b[38;5;28;01melif\u001b[39;00m weighting \u001b[38;5;241m==\u001b[39m \u001b[38;5;124m'\u001b[39m\u001b[38;5;124mblock\u001b[39m\u001b[38;5;124m'\u001b[39m:\n\u001b[1;32m    159\u001b[0m     \u001b[38;5;66;03m# Use block diagonal of S\u001b[39;00m\n\u001b[1;32m    160\u001b[0m     D_inv \u001b[38;5;241m=\u001b[39m get_block_diag(S, blocksize\u001b[38;5;241m=\u001b[39mS\u001b[38;5;241m.\u001b[39mblocksize[\u001b[38;5;241m0\u001b[39m], inv_flag\u001b[38;5;241m=\u001b[39m\u001b[38;5;28;01mTrue\u001b[39;00m)\n",
      "File \u001b[0;32m/usr/local/lib/python3.10/dist-packages/pyamg/util/linalg.py:352\u001b[0m, in \u001b[0;36mapproximate_spectral_radius\u001b[0;34m(A, tol, maxiter, restart, symmetric, initial_guess, return_vector)\u001b[0m\n\u001b[1;32m    348\u001b[0m     v0 \u001b[38;5;241m=\u001b[39m np\u001b[38;5;241m.\u001b[39marray(v0, dtype\u001b[38;5;241m=\u001b[39mA\u001b[38;5;241m.\u001b[39mdtype)\n\u001b[1;32m    350\u001b[0m \u001b[38;5;28;01mfor\u001b[39;00m j \u001b[38;5;129;01min\u001b[39;00m \u001b[38;5;28mrange\u001b[39m(restart\u001b[38;5;241m+\u001b[39m\u001b[38;5;241m1\u001b[39m):\n\u001b[1;32m    351\u001b[0m     [evect, ev, H, V, breakdown_flag] \u001b[38;5;241m=\u001b[39m\\\n\u001b[0;32m--> 352\u001b[0m         \u001b[43m_approximate_eigenvalues\u001b[49m\u001b[43m(\u001b[49m\u001b[43mA\u001b[49m\u001b[43m,\u001b[49m\u001b[43m \u001b[49m\u001b[43mmaxiter\u001b[49m\u001b[43m,\u001b[49m\u001b[43m \u001b[49m\u001b[43msymmetric\u001b[49m\u001b[43m,\u001b[49m\u001b[43m \u001b[49m\u001b[43minitial_guess\u001b[49m\u001b[38;5;241;43m=\u001b[39;49m\u001b[43mv0\u001b[49m\u001b[43m)\u001b[49m\n\u001b[1;32m    353\u001b[0m     \u001b[38;5;66;03m# Calculate error in dominant eigenvector\u001b[39;00m\n\u001b[1;32m    354\u001b[0m     nvecs \u001b[38;5;241m=\u001b[39m ev\u001b[38;5;241m.\u001b[39mshape[\u001b[38;5;241m0\u001b[39m]\n",
      "File \u001b[0;32m/usr/local/lib/python3.10/dist-packages/pyamg/util/linalg.py:227\u001b[0m, in \u001b[0;36m_approximate_eigenvalues\u001b[0;34m(A, maxiter, symmetric, initial_guess)\u001b[0m\n\u001b[1;32m    224\u001b[0m     H[i, j] \u001b[38;5;241m=\u001b[39m np\u001b[38;5;241m.\u001b[39mdot(np\u001b[38;5;241m.\u001b[39mconjugate(v\u001b[38;5;241m.\u001b[39mravel()), w\u001b[38;5;241m.\u001b[39mravel())\n\u001b[1;32m    225\u001b[0m     w \u001b[38;5;241m=\u001b[39m w \u001b[38;5;241m-\u001b[39m H[i, j]\u001b[38;5;241m*\u001b[39mv\n\u001b[0;32m--> 227\u001b[0m H[j\u001b[38;5;241m+\u001b[39m\u001b[38;5;241m1\u001b[39m, j] \u001b[38;5;241m=\u001b[39m \u001b[43mnorm\u001b[49m\u001b[43m(\u001b[49m\u001b[43mw\u001b[49m\u001b[43m)\u001b[49m\n\u001b[1;32m    229\u001b[0m \u001b[38;5;28;01mif\u001b[39;00m (H[j\u001b[38;5;241m+\u001b[39m\u001b[38;5;241m1\u001b[39m, j] \u001b[38;5;241m<\u001b[39m breakdown):\n\u001b[1;32m    230\u001b[0m     breakdown_flag \u001b[38;5;241m=\u001b[39m \u001b[38;5;28;01mTrue\u001b[39;00m\n",
      "File \u001b[0;32m/usr/local/lib/python3.10/dist-packages/pyamg/util/linalg.py:42\u001b[0m, in \u001b[0;36mnorm\u001b[0;34m(x, pnorm)\u001b[0m\n\u001b[1;32m     13\u001b[0m \u001b[38;5;28;01mdef\u001b[39;00m \u001b[38;5;21mnorm\u001b[39m(x, pnorm\u001b[38;5;241m=\u001b[39m\u001b[38;5;124m'\u001b[39m\u001b[38;5;124m2\u001b[39m\u001b[38;5;124m'\u001b[39m):\n\u001b[1;32m     14\u001b[0m \u001b[38;5;250m    \u001b[39m\u001b[38;5;124;03m\"\"\"2-norm of a vector.\u001b[39;00m\n\u001b[1;32m     15\u001b[0m \n\u001b[1;32m     16\u001b[0m \u001b[38;5;124;03m    Parameters\u001b[39;00m\n\u001b[0;32m   (...)\u001b[0m\n\u001b[1;32m     40\u001b[0m \n\u001b[1;32m     41\u001b[0m \u001b[38;5;124;03m    \"\"\"\u001b[39;00m\n\u001b[0;32m---> 42\u001b[0m     x \u001b[38;5;241m=\u001b[39m \u001b[43mnp\u001b[49m\u001b[38;5;241;43m.\u001b[39;49m\u001b[43mravel\u001b[49m\u001b[43m(\u001b[49m\u001b[43mx\u001b[49m\u001b[43m)\u001b[49m\n\u001b[1;32m     44\u001b[0m     \u001b[38;5;28;01mif\u001b[39;00m pnorm \u001b[38;5;241m==\u001b[39m \u001b[38;5;124m'\u001b[39m\u001b[38;5;124m2\u001b[39m\u001b[38;5;124m'\u001b[39m:\n\u001b[1;32m     45\u001b[0m         \u001b[38;5;28;01mreturn\u001b[39;00m np\u001b[38;5;241m.\u001b[39msqrt(np\u001b[38;5;241m.\u001b[39minner(x\u001b[38;5;241m.\u001b[39mconj(), x)\u001b[38;5;241m.\u001b[39mreal)  \u001b[38;5;66;03m# pylint: disable=no-member\u001b[39;00m\n",
      "File \u001b[0;32m/usr/local/lib/python3.10/dist-packages/numpy/core/fromnumeric.py:1874\u001b[0m, in \u001b[0;36mravel\u001b[0;34m(a, order)\u001b[0m\n\u001b[1;32m   1872\u001b[0m     \u001b[38;5;28;01mreturn\u001b[39;00m asarray(a)\u001b[38;5;241m.\u001b[39mravel(order\u001b[38;5;241m=\u001b[39morder)\n\u001b[1;32m   1873\u001b[0m \u001b[38;5;28;01melse\u001b[39;00m:\n\u001b[0;32m-> 1874\u001b[0m     \u001b[38;5;28;01mreturn\u001b[39;00m \u001b[43masanyarray\u001b[49m\u001b[43m(\u001b[49m\u001b[43ma\u001b[49m\u001b[43m)\u001b[49m\u001b[38;5;241;43m.\u001b[39;49m\u001b[43mravel\u001b[49m\u001b[43m(\u001b[49m\u001b[43morder\u001b[49m\u001b[38;5;241;43m=\u001b[39;49m\u001b[43morder\u001b[49m\u001b[43m)\u001b[49m\n",
      "\u001b[0;31mKeyboardInterrupt\u001b[0m: "
     ]
    }
   ],
   "source": [
    "for atol in [1e-3, 1e-6, 1e-9]:\n",
    "    amg_iters, amg_p_time, amg_cg_time = run_all_test_AMG(A_test, b_test, atol)\n",
    "    print(f'atol = {atol}')\n",
    "    print(f'AMG\\n  iters\\n   mean = {np.mean(amg_iters):.4f}, std = {np.std(amg_iters):.4f}\\n  time prec\\n   mean = {np.mean(amg_p_time):.4f}, std = {np.std(amg_p_time):.4f}')\n",
    "    print(f'  time cg\\n   mean = {np.mean(amg_cg_time):.4f}, std = {np.std(amg_cg_time):.4f}')\n",
    "    print()"
   ]
  },
  {
   "cell_type": "code",
   "execution_count": null,
   "id": "08a3ab60",
   "metadata": {},
   "outputs": [],
   "source": []
  },
  {
   "cell_type": "code",
   "execution_count": null,
   "id": "1497e3d9",
   "metadata": {},
   "outputs": [],
   "source": []
  },
  {
   "cell_type": "code",
   "execution_count": null,
   "id": "ce5b0dd3",
   "metadata": {},
   "outputs": [],
   "source": []
  },
  {
   "cell_type": "code",
   "execution_count": null,
   "id": "e1f13e0f",
   "metadata": {},
   "outputs": [],
   "source": []
  },
  {
   "cell_type": "code",
   "execution_count": null,
   "id": "4b4fa15b",
   "metadata": {},
   "outputs": [],
   "source": [
    "from pyamg.aggregation import smoothed_aggregation_solver\n",
    "from pyamg.gallery import poisson\n",
    "from scipy.sparse.linalg import cg\n",
    "import scipy as sp\n",
    "\n",
    "for i in range(A_test.shape[0]):\n",
    "    A_i = A_test[0 ...]\n",
    "    A = poisson((100, 100), format='csr')\n",
    "    b = np.random.rand(A.shape[0])\n",
    "    ml = smoothed_aggregation_solver(A)\n",
    "    M = ml.aspreconditioner(cycle='V')\n",
    "    x, info = cg(A, b, tol=1e-8, maxiter=30, M=M)"
   ]
  },
  {
   "cell_type": "code",
   "execution_count": null,
   "id": "813d07fa",
   "metadata": {},
   "outputs": [],
   "source": []
  },
  {
   "cell_type": "code",
   "execution_count": null,
   "id": "9b93f44b",
   "metadata": {},
   "outputs": [],
   "source": []
  },
  {
   "cell_type": "code",
   "execution_count": 75,
   "id": "9d8d4283",
   "metadata": {},
   "outputs": [
    {
     "name": "stdout",
     "output_type": "stream",
     "text": [
      "15\n",
      "5.85840734947895e-14\n"
     ]
    }
   ],
   "source": [
    "import pyamg\n",
    "import numpy as np\n",
    "from utils import jBCOO_to_scipyCSR\n",
    "\n",
    "iters = 0\n",
    "def nonlocal_iterate(arr):\n",
    "    global iters\n",
    "    iters += 1\n",
    "\n",
    "A = jBCOO_to_scipyCSR(A_test[0, ...])#.astype(np.float32)\n",
    "b = np.asarray(b_test[0, ...])#.astype(np.float32)\n",
    "    \n",
    "ml = pyamg.smoothed_aggregation_solver(A=A)\n",
    "accelerated_residuals = []\n",
    "x = ml.solve(b, tol=1e-15, accel='cg', residuals=accelerated_residuals, callback=nonlocal_iterate)\n",
    "print(iters)\n",
    "print(accelerated_residuals[-1])\n",
    "\n",
    "# ml = pyamg.ruge_stuben_solver(A)\n",
    "# print(ml)\n",
    "\n",
    "# atol = 1e-9*jnp.linalg.norm(b)\n",
    "# print('atol:', atol)\n",
    "# x, info = ml.solve(b, tol=1e-9, maxiter=1000, return_info=True, callback=nonlocal_iterate, x0=np.array(random.normal(random.PRNGKey(42), b.shape)))\n",
    "# print(\"residual: \", np.linalg.norm(b-A*x))\n",
    "# iters"
   ]
  },
  {
   "cell_type": "code",
   "execution_count": null,
   "id": "9991506c",
   "metadata": {},
   "outputs": [],
   "source": []
  },
  {
   "cell_type": "code",
   "execution_count": 1,
   "id": "0c62708b",
   "metadata": {},
   "outputs": [
    {
     "data": {
      "text/plain": [
       "0.5559999999999999"
      ]
     },
     "execution_count": 1,
     "metadata": {},
     "output_type": "execute_result"
    }
   ],
   "source": [
    "0.470 + 8.6*1e-2"
   ]
  },
  {
   "cell_type": "code",
   "execution_count": 2,
   "id": "83a7169c",
   "metadata": {},
   "outputs": [
    {
     "data": {
      "text/plain": [
       "2.2017857142857142"
      ]
     },
     "execution_count": 2,
     "metadata": {},
     "output_type": "execute_result"
    }
   ],
   "source": [
    "1.233/0.56"
   ]
  },
  {
   "cell_type": "code",
   "execution_count": 12,
   "id": "a502b513",
   "metadata": {},
   "outputs": [
    {
     "data": {
      "text/plain": [
       "BCOO(float32[1000, 16384, 16384], nse=81408, n_batch=1)"
      ]
     },
     "execution_count": 12,
     "metadata": {},
     "output_type": "execute_result"
    }
   ],
   "source": [
    "A_train"
   ]
  },
  {
   "cell_type": "code",
   "execution_count": null,
   "id": "f099b82f",
   "metadata": {},
   "outputs": [],
   "source": []
  },
  {
   "cell_type": "code",
   "execution_count": 9,
   "id": "ba75e598",
   "metadata": {},
   "outputs": [],
   "source": [
    "# A_pad_train[80, ...].indices[300, :]"
   ]
  },
  {
   "cell_type": "code",
   "execution_count": 10,
   "id": "83ccf850",
   "metadata": {},
   "outputs": [],
   "source": [
    "# plt.rcParams['figure.figsize'] = (11, 7)\n",
    "# start, stop = 300, 350\n",
    "# start_im = 45\n",
    "# stop_im = start_im + 64\n",
    "\n",
    "# for j, ind in enumerate(bi_edges_train[80, start:stop, :]):\n",
    "#     A_loc = A_pad_train[80, ...]\n",
    "#     A_loc.data = A_loc.data * 0 + 1\n",
    "#     A_loc.data = A_loc.data.at[ind].set(5)\n",
    "#     plt.imshow(A_loc[start_im:stop_im, start_im:stop_im].todense())\n",
    "#     plt.axis(False)\n",
    "#     plt.show()\n",
    "    \n",
    "#     if j == 64: break"
   ]
  },
  {
   "cell_type": "markdown",
   "id": "a1f7c7e1",
   "metadata": {},
   "source": [
    "# Train model"
   ]
  },
  {
   "cell_type": "code",
   "execution_count": 76,
   "id": "b41a002a",
   "metadata": {},
   "outputs": [
    {
     "name": "stdout",
     "output_type": "stream",
     "text": [
      "Parameter number: 2754\n"
     ]
    }
   ],
   "source": [
    "seed = 42\n",
    "NodeEncoder = FullyConnectedNet(**model_config['node_enc'], key=random.PRNGKey(seed))\n",
    "EdgeEncoder = FullyConnectedNet(**model_config['edge_enc'], key=random.PRNGKey(seed))\n",
    "EdgeDecoder = FullyConnectedNet(**model_config['edge_dec'], key=random.PRNGKey(seed))\n",
    "\n",
    "mp_rounds = 5\n",
    "MessagePass = MessagePassing(\n",
    "    update_edge_fn = FullyConnectedNet(**model_config['mp']['edge_upd'], key=random.PRNGKey(seed)),    \n",
    "    update_node_fn = FullyConnectedNet(**model_config['mp']['node_upd'], key=random.PRNGKey(seed)),\n",
    "    mp_rounds=model_config['mp']['mp_rounds']\n",
    ")\n",
    "\n",
    "# model = PrecNet(NodeEncoder=NodeEncoder, EdgeEncoder=EdgeEncoder, \n",
    "#                 EdgeDecoder=EdgeDecoder, MessagePass=MessagePass)\n",
    "\n",
    "\n",
    "model = CorrectionNet(NodeEncoder=NodeEncoder, EdgeEncoder=EdgeEncoder, \n",
    "                EdgeDecoder=EdgeDecoder, MessagePass=MessagePass, alpha=alpha)\n",
    "\n",
    "# w = jnp.zeros(A_pad_train[0, ...].nse)\n",
    "# b = alpha\n",
    "# model = ShiftNet(NodeEncoder=NodeEncoder, EdgeEncoder=EdgeEncoder, \n",
    "#                 EdgeDecoder=EdgeDecoder, MessagePass=MessagePass, w=w, b=b)\n",
    "print(f'Parameter number: {params_count(model)}')"
   ]
  },
  {
   "cell_type": "code",
   "execution_count": 77,
   "id": "66961ce1",
   "metadata": {},
   "outputs": [],
   "source": [
    "# data = (X_train, X_test, y_train, y_test)\n",
    "data = (\n",
    "    [A_train, A_pad_train, b_train, bi_edges_train, u_exact_train],\n",
    "    [A_test, A_pad_test, b_test, bi_edges_test, u_exact_test],\n",
    "    jnp.array([1]), jnp.array([1])\n",
    ")\n",
    "train_config = {\n",
    "    'optimizer': optax.adam,\n",
    "    'lr': lr,\n",
    "    'optim_params': {},#{'weight_decay': 1e-8}, \n",
    "    'epoch_num': epoch_num,\n",
    "    'batch_size': batch_size,\n",
    "}"
   ]
  },
  {
   "cell_type": "code",
   "execution_count": null,
   "id": "55cf4277",
   "metadata": {},
   "outputs": [],
   "source": []
  },
  {
   "cell_type": "code",
   "execution_count": null,
   "id": "729cd1a7",
   "metadata": {},
   "outputs": [],
   "source": []
  },
  {
   "cell_type": "code",
   "execution_count": null,
   "id": "293a36eb",
   "metadata": {},
   "outputs": [],
   "source": []
  },
  {
   "cell_type": "code",
   "execution_count": null,
   "id": "5074eb18",
   "metadata": {},
   "outputs": [],
   "source": []
  },
  {
   "cell_type": "code",
   "execution_count": 93,
   "id": "537f48e1",
   "metadata": {},
   "outputs": [],
   "source": [
    "def calc_forward_call(model, X, y, repeats=100):\n",
    "    '''Placeholder for supervised learning `y`.\n",
    "       Positions in `X`:\n",
    "         X[0] - lhs A (for cond calc).\n",
    "         X[1] - padded lhs A (for training).\n",
    "         X[2] - rhs b.\n",
    "         X[3] - indices of bi-directional edges in the graph.\n",
    "         X[4] - solution of linear system x.\n",
    "     '''\n",
    "    nodes, edges, receivers, senders, _ = direc_graph_from_linear_system_sparse(X[1], X[2])\n",
    "    lhs_nodes, lhs_edges, lhs_receivers, lhs_senders, _ = direc_graph_from_linear_system_sparse(X[0], X[2])\n",
    "    \n",
    "    time_ls = []\n",
    "    for I in range(repeats):\n",
    "        t_s = perf_counter()\n",
    "        L = model((nodes[0, ...], edges[0, ...], receivers[0, ...], senders[0, ...]), X[3][0, ...], (lhs_nodes[0, ...], lhs_edges[0, ...], lhs_receivers[0, ...], lhs_senders[0, ...]))\n",
    "        time_ls.append(perf_counter() - t_s)\n",
    "    return time_ls\n",
    "\n",
    "time_ls = calc_forward_call(model, data[0], data[2], 1000)"
   ]
  },
  {
   "cell_type": "code",
   "execution_count": 94,
   "id": "5fd70b31",
   "metadata": {},
   "outputs": [
    {
     "data": {
      "text/plain": [
       "(0.5499, 0.0231)"
      ]
     },
     "execution_count": 94,
     "metadata": {},
     "output_type": "execute_result"
    }
   ],
   "source": [
    "np.round(np.mean(time_ls), 4), np.round(np.std(time_ls), 4)"
   ]
  },
  {
   "cell_type": "code",
   "execution_count": null,
   "id": "15a17d71",
   "metadata": {},
   "outputs": [],
   "source": []
  },
  {
   "cell_type": "code",
   "execution_count": 96,
   "id": "a03cc70f",
   "metadata": {},
   "outputs": [
    {
     "data": {
      "text/plain": [
       "2.2017857142857142"
      ]
     },
     "execution_count": 96,
     "metadata": {},
     "output_type": "execute_result"
    }
   ],
   "source": [
    "1.233 / 0.560"
   ]
  },
  {
   "cell_type": "code",
   "execution_count": null,
   "id": "07e7b393",
   "metadata": {},
   "outputs": [],
   "source": []
  },
  {
   "cell_type": "code",
   "execution_count": null,
   "id": "557b624f",
   "metadata": {},
   "outputs": [],
   "source": []
  },
  {
   "cell_type": "code",
   "execution_count": 3,
   "id": "a4443245",
   "metadata": {},
   "outputs": [
    {
     "ename": "NameError",
     "evalue": "name 'model' is not defined",
     "output_type": "error",
     "traceback": [
      "\u001b[0;31m---------------------------------------------------------------------------\u001b[0m",
      "\u001b[0;31mNameError\u001b[0m                                 Traceback (most recent call last)",
      "Cell \u001b[0;32mIn[3], line 2\u001b[0m\n\u001b[1;32m      1\u001b[0m s \u001b[38;5;241m=\u001b[39m perf_counter()\n\u001b[0;32m----> 2\u001b[0m model, losses \u001b[38;5;241m=\u001b[39m train(\u001b[43mmodel\u001b[49m, data, train_config, loss_name\u001b[38;5;241m=\u001b[39mloss_type, repeat_step\u001b[38;5;241m=\u001b[39m\u001b[38;5;241m1\u001b[39m, with_cond\u001b[38;5;241m=\u001b[39mwith_cond)\n\u001b[1;32m      3\u001b[0m dt \u001b[38;5;241m=\u001b[39m perf_counter() \u001b[38;5;241m-\u001b[39m s\n",
      "\u001b[0;31mNameError\u001b[0m: name 'model' is not defined"
     ]
    }
   ],
   "source": [
    "s = perf_counter()\n",
    "model, losses = train(model, data, train_config, loss_name=loss_type, repeat_step=1, with_cond=with_cond)\n",
    "dt = perf_counter() - s"
   ]
  },
  {
   "cell_type": "code",
   "execution_count": null,
   "id": "c47dbead",
   "metadata": {},
   "outputs": [],
   "source": [
    "dt"
   ]
  },
  {
   "cell_type": "code",
   "execution_count": null,
   "id": "b0f0d5f6",
   "metadata": {},
   "outputs": [],
   "source": [
    "print('alpha:', end='')\n",
    "model.alpha"
   ]
  },
  {
   "cell_type": "code",
   "execution_count": null,
   "id": "a6206c90",
   "metadata": {},
   "outputs": [],
   "source": [
    "# print('w:', end='')\n",
    "# print(model.w)\n",
    "# print('b:', end='')\n",
    "# model.b"
   ]
  },
  {
   "cell_type": "code",
   "execution_count": null,
   "id": "1aadab92",
   "metadata": {},
   "outputs": [],
   "source": [
    "nodes, edges, receivers, senders, _ = direc_graph_from_linear_system_sparse(A_pad_test, b_test)\n",
    "lhs_nodes, lhs_edges, lhs_receivers, lhs_senders, _ = direc_graph_from_linear_system_sparse(A_test, b_test)\n",
    "\n",
    "L = vmap(model, in_axes=((0, 0, 0, 0), 0, (0, 0, 0, 0)), out_axes=(0))((nodes, edges, receivers, senders), bi_edges_test, (lhs_nodes, lhs_edges, lhs_receivers, lhs_senders))\n",
    "del model, data, A_train, A_pad_train, b_train, u_exact_train, bi_edges_train, bi_edges_test\n",
    "clear_caches()"
   ]
  },
  {
   "cell_type": "code",
   "execution_count": null,
   "id": "79295c60",
   "metadata": {},
   "outputs": [],
   "source": [
    "_, axes = plt.subplots(1, 2, figsize=(15, 5))\n",
    "\n",
    "axes[0].plot(range(len(losses[0])), losses[1], label='Test')\n",
    "axes[0].plot(range(len(losses[0])), losses[0], label='Train')\n",
    "axes[0].legend()\n",
    "axes[0].set_yscale('log')\n",
    "axes[0].set_xlabel('Epoch')\n",
    "axes[0].set_ylabel('Loss');\n",
    "axes[0].grid();\n",
    "\n",
    "axes[1].plot(range(len(losses[0])), losses[2], label='Test')\n",
    "axes[1].legend()\n",
    "axes[1].set_yscale('log')\n",
    "axes[1].set_xlabel('Epoch')\n",
    "axes[1].set_ylabel('Cond of $P^{-1}A$')\n",
    "axes[1].grid();\n",
    "\n",
    "plt.tight_layout()\n",
    "\n",
    "print(f'Final values\\n  train loss: {losses[0][-1]:.4f}\\n   test loss: {losses[1][-1]:.4f}\\n    LLT cond: {losses[2][-1]:.0f}')\n",
    "print(f'\\nMinimim test loss `{jnp.min(losses[1]).item():.4f}` at epoch `{jnp.argmin(losses[1]).item():.0f}`')\n",
    "print(f'\\nMinimim test P^(-1)A cond `{jnp.min(losses[2]).item():.0f}` at epoch `{jnp.argmin(losses[2]).item():.0f}`')"
   ]
  },
  {
   "cell_type": "code",
   "execution_count": null,
   "id": "3365fadd",
   "metadata": {},
   "outputs": [],
   "source": [
    "import ilupp\n",
    "from utils import jBCOO_to_scipyCSR, asses_cond_with_res\n",
    "import jax.experimental.sparse as jsparse\n",
    "\n",
    "cg = partial(ConjGrad, prec_func=partial(llt_prec_trig_solve, L=L[0, ...][None, ...]))\n",
    "print('Approx cond with constructed:', asses_cond_with_res(A_test[0:1, ...], b_test[0:1, ...], cg))\n",
    "\n",
    "cg = partial(ConjGrad, prec_func=partial(llt_prec_trig_solve, L=jsparse.BCOO.from_scipy_sparse(ilupp.ichol0(jBCOO_to_scipyCSR(A_test[0, ...])))[None, ...]))\n",
    "print('Approx cond with IC(0):      ', asses_cond_with_res(A_test[0:1, ...], b_test[0:1, ...], cg))"
   ]
  },
  {
   "cell_type": "markdown",
   "id": "3d5d7d51",
   "metadata": {},
   "source": [
    "# Apply model to CG"
   ]
  },
  {
   "cell_type": "code",
   "execution_count": 23,
   "id": "94ea438e",
   "metadata": {},
   "outputs": [],
   "source": [
    "# Not preconditioned\n",
    "X_I, R_I = ConjGrad(A_test, b_test, N_iter=N_valid_CG, prec_func=None, seed=42)"
   ]
  },
  {
   "cell_type": "code",
   "execution_count": 24,
   "id": "26be2ef8",
   "metadata": {},
   "outputs": [
    {
     "name": "stdout",
     "output_type": "stream",
     "text": [
      "79.2555962339975\n"
     ]
    }
   ],
   "source": [
    "if loss_type != 'inv-prec':\n",
    "    # P = LL^T\n",
    "    prec = partial(llt_prec_trig_solve, L=L)\n",
    "else:\n",
    "    # P^{-1} = LL^T\n",
    "    prec = partial(llt_inv_prec, L=L)\n",
    "\n",
    "s_prec = perf_counter()\n",
    "X_LLT, R_LLT = ConjGrad(A_test, b_test, N_iter=N_valid_CG, prec_func=prec, seed=42)\n",
    "print(perf_counter() - s_prec)"
   ]
  },
  {
   "cell_type": "code",
   "execution_count": 25,
   "id": "e0dbd406",
   "metadata": {},
   "outputs": [],
   "source": [
    "# print(A_pad_test.shape)\n",
    "# a = A_pad_test[0, :100, :100]\n",
    "# a.data = a.data * 0 + 1\n",
    "# plt.imshow(a.todense())"
   ]
  },
  {
   "cell_type": "code",
   "execution_count": 11,
   "id": "81e7dfd8",
   "metadata": {},
   "outputs": [
    {
     "data": {
      "text/plain": [
       "1.2337900000000002"
      ]
     },
     "execution_count": 11,
     "metadata": {},
     "output_type": "execute_result"
    }
   ],
   "source": [
    "1.2331 + 6.9 * 1e-4"
   ]
  },
  {
   "cell_type": "code",
   "execution_count": 26,
   "id": "db81832f",
   "metadata": {},
   "outputs": [
    {
     "name": "stdout",
     "output_type": "stream",
     "text": [
      " CG: {0.001: nan, 1e-06: nan, 1e-09: nan, 1e-12: nan}\n",
      "PCG: {0.001: nan, 1e-06: nan, 1e-09: nan, 1e-12: nan}\n"
     ]
    },
    {
     "data": {
      "image/png": "[encoded data removed]",
      "text/plain": [
       "<Figure size 1100x700 with 1 Axes>"
      ]
     },
     "metadata": {},
     "output_type": "display_data"
    }
   ],
   "source": [
    "plt.plot(range(R_I.shape[-1]), jnp.linalg.norm(R_I, axis=1).mean(0), label=\"CG\")\n",
    "plt.plot(range(R_LLT.shape[-1]), jnp.linalg.norm(R_LLT, axis=1).mean(0), label=\"PCG\")\n",
    "\n",
    "plt.xlabel('Iteration')\n",
    "plt.ylabel('Norm residual')\n",
    "plt.legend();\n",
    "plt.yscale('log')\n",
    "plt.grid();\n",
    "    \n",
    "res_I_dict = iter_per_residual(jnp.linalg.norm(R_I, axis=1).mean(0))\n",
    "res_LLT_dict = iter_per_residual(jnp.linalg.norm(R_LLT, axis=1).mean(0))\n",
    "print(' CG:', res_I_dict)\n",
    "print('PCG:', res_LLT_dict)"
   ]
  },
  {
   "cell_type": "code",
   "execution_count": 27,
   "id": "61f87638",
   "metadata": {},
   "outputs": [
    {
     "data": {
      "image/png": "[encoded data removed]",
      "text/plain": [
       "<Figure size 1400x1400 with 3 Axes>"
      ]
     },
     "metadata": {},
     "output_type": "display_data"
    }
   ],
   "source": [
    "_, axes = plt.subplots(1, 3, figsize=(14, 14))\n",
    "\n",
    "axes[0].imshow(X_I[0, :, -1].reshape([grid]*2))\n",
    "axes[1].imshow(X_LLT[0, :, -1].reshape([grid]*2))\n",
    "axes[2].imshow(u_exact_test[0, :].reshape([grid]*2))\n",
    "\n",
    "axes[0].set_title('No prec')\n",
    "axes[1].set_title('Notay-loss prec')\n",
    "axes[2].set_title('Exact solution')\n",
    "\n",
    "plt.tight_layout()"
   ]
  },
  {
   "cell_type": "code",
   "execution_count": null,
   "id": "10f916b5",
   "metadata": {},
   "outputs": [],
   "source": []
  },
  {
   "cell_type": "code",
   "execution_count": null,
   "id": "42f2e404",
   "metadata": {},
   "outputs": [],
   "source": []
  }
 ],
 "metadata": {
  "kernelspec": {
   "display_name": "Python 3 (ipykernel)",
   "language": "python",
   "name": "python3"
  },
  "language_info": {
   "codemirror_mode": {
    "name": "ipython",
    "version": 3
   },
   "file_extension": ".py",
   "mimetype": "text/x-python",
   "name": "python",
   "nbconvert_exporter": "python",
   "pygments_lexer": "ipython3",
   "version": "3.10.6"
  }
 },
 "nbformat": 4,
 "nbformat_minor": 5
}
