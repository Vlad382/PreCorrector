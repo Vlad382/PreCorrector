{
 "cells": [
  {
   "cell_type": "code",
   "execution_count": 1,
   "id": "bf15e1bc",
   "metadata": {},
   "outputs": [],
   "source": [
    "import warnings\n",
    "import sys\n",
    "import os\n",
    "\n",
    "warnings.filterwarnings('ignore')\n",
    "os.environ[\"CUDA_VISIBLE_DEVICES\"] = '0'\n",
    "os.environ['XLA_PYTHON_CLIENT_MEM_FRACTION'] = '.95'\n",
    "sys.path.append('/mnt/local/data/vtrifonov/prec-learning-Notay-loss/')"
   ]
  },
  {
   "cell_type": "code",
   "execution_count": 2,
   "id": "4e412434",
   "metadata": {},
   "outputs": [],
   "source": [
    "from functools import partial\n",
    "\n",
    "import parafields\n",
    "import ilupp\n",
    "\n",
    "import numpy as np\n",
    "import scipy.sparse as sp\n",
    "from scipy.sparse import spdiags, dia_matrix, tril, coo_matrix\n",
    "import matplotlib.pyplot as plt\n",
    "\n",
    "import jax.numpy as jnp\n",
    "from jax import device_put, random, vmap, jit, lax\n",
    "import jax\n",
    "from jax.experimental import sparse as jsparse\n",
    "\n",
    "import optax\n",
    "import equinox as eqx\n",
    "from equinox.nn import Conv1d"
   ]
  },
  {
   "cell_type": "code",
   "execution_count": 3,
   "id": "9c35b594",
   "metadata": {},
   "outputs": [],
   "source": [
    "def fd_mtx2(a):\n",
    "    \"\"\"\n",
    "    Finite difference approximation of a 2D scalar diffusion equation in QTT.\n",
    "    This function creates a finite difference Laplacian matrix with Dirichlet boundary conditions.\n",
    "    \"\"\"\n",
    "    n = a.shape[0] - 1  # The coefficient is (n+1)x(n+1)\n",
    "\n",
    "    # Initialize arrays\n",
    "    ad = np.zeros((n, n))\n",
    "    for i in range(n-1):\n",
    "        for j in range(n):\n",
    "            ad[i, j] = 0.5 * (a[i+1, j] + a[i+1, j+1])\n",
    "\n",
    "    au = np.zeros((n, n))\n",
    "    au[1:n, :] = ad[0:n-1, :]\n",
    "\n",
    "    al = np.zeros((n, n))\n",
    "    for i in range(n):\n",
    "        for j in range(n-1):\n",
    "            al[i, j] = 0.5 * (a[i, j+1] + a[i+1, j+1])\n",
    "\n",
    "    ar = np.zeros((n, n))\n",
    "    ar[:, 1:n] = al[:, 0:n-1]\n",
    "\n",
    "    ac = np.zeros((n, n))\n",
    "    for i in range(n):\n",
    "        for j in range(n):\n",
    "            ac[i, j] = a[i, j] + a[i, j+1] + a[i+1, j] + a[i+1, j+1]\n",
    "\n",
    "    # Flatten arrays and combine into matrix\n",
    "    bar_a = np.column_stack((-al.flatten(\"F\"), -ad.flatten(\"F\"), ac.flatten(\"F\"), -au.flatten(\"F\"), -ar.flatten(\"F\")))\n",
    "\n",
    "    # Create diagonal offsets for the sparse matrix\n",
    "    offsets = [-n, -1, 0, 1, n]\n",
    "\n",
    "    # Create the sparse matrix using spdiags\n",
    "    mat = spdiags(bar_a.T, offsets, n*n, n*n)\n",
    "\n",
    "    # Multiply by scaling factor (n+1)^2\n",
    "    mat = mat * (n + 1) ** 2\n",
    "\n",
    "    return mat.tocsc()\n",
    "\n",
    "def div_k_grad(n_samples, grid, cov_model, var, tril_func, rhs_func=lambda grid: np.random.randn(grid*grid)):\n",
    "    A_ls, L_ls, b_ls, x_ls, k_ls = [], [], [], [], []\n",
    "    for _ in range(n_samples):\n",
    "        field = parafields.generate_field(cells=[grid+1, grid+1], covariance=cov_model, variance=var)\n",
    "        k = field.evaluate()\n",
    "        dk = k.max() - k.min()\n",
    "        A = fd_mtx2(np.exp(k))\n",
    "        k_ls.append(np.exp(dk))\n",
    "        \n",
    "        b = rhs_func(grid)\n",
    "        x = sp.linalg.spsolve(A, b)\n",
    "        L = tril_func(A)\n",
    "        \n",
    "        A_ls.append(jsparse.BCOO.from_scipy_sparse(A.tocoo())[None, ...])\n",
    "        L_ls.append(jsparse.BCOO.from_scipy_sparse(L.tocoo())[None, ...])\n",
    "        b_ls.append(jnp.asarray(b))\n",
    "        x_ls.append(jnp.asarray(x))\n",
    "    \n",
    "    A_ls = device_put(jsparse.bcoo_concatenate(A_ls, dimension=0))\n",
    "    L_ls = device_put(jsparse.bcoo_concatenate(L_ls, dimension=0))\n",
    "    b_ls = device_put(jnp.stack(b_ls, axis=0))\n",
    "    x_ls = device_put(jnp.stack(x_ls, axis=0))\n",
    "    print(f'Average k contrast: {np.mean(k_ls):.0f}')\n",
    "    return A_ls, L_ls, b_ls, x_ls\n",
    "\n",
    "def factorsILUp(A, p):\n",
    "    l, u = ilupp.ilu0(A)\n",
    "    for _ in range(p):\n",
    "        lu = l @ u\n",
    "        lu.data = np.clip(lu.data, a_min=1e-15, a_max=None)\n",
    "        l, u = ilupp.ilu0(lu)\n",
    "    return l, u"
   ]
  },
  {
   "cell_type": "code",
   "execution_count": 4,
   "id": "ab967f44",
   "metadata": {},
   "outputs": [],
   "source": [
    "## DO NOT RUN THIS CELL\n",
    "\n",
    "# grid = 32\n",
    "# A_val, _, b_val, x_val = div_k_grad(1, grid, 'gaussian', .5, lambda A: tril(A))\n",
    "# jnp.savez('/mnt/local/data/vtrifonov/prec-learning-Notay-loss/inplace_mat_upd/val'+str(grid), Aval=A_val.data, Aind=A_val.indices, b=b_val, x=x_val)"
   ]
  },
  {
   "cell_type": "code",
   "execution_count": 5,
   "id": "2e619780",
   "metadata": {},
   "outputs": [
    {
     "name": "stderr",
     "output_type": "stream",
     "text": [
      "2024-05-06 10:41:02.509973: W external/xla/xla/service/gpu/nvptx_compiler.cc:718] The NVIDIA driver's CUDA version is 12.2 which is older than the ptxas CUDA version (12.4.131). Because the driver is older than the ptxas version, XLA is disabling parallel compilation, which may slow down compilation. You should update your NVIDIA driver or use the NVIDIA-provided CUDA forward compatibility packages.\n"
     ]
    },
    {
     "name": "stdout",
     "output_type": "stream",
     "text": [
      "Average k contrast: 119\n",
      "Average k contrast: 128\n"
     ]
    }
   ],
   "source": [
    "# tril_func = lambda A: tril(A)\n",
    "tril_func = lambda A: factorsILUp(A, 0)[0]\n",
    "\n",
    "A_train, L_train, b_train, x_train = div_k_grad(1000, 128, 'gaussian', .5, tril_func)\n",
    "A_test, L_test, b_test, x_test = div_k_grad(200, 128, 'gaussian', .5, tril_func)"
   ]
  },
  {
   "cell_type": "code",
   "execution_count": 6,
   "id": "b0735f17",
   "metadata": {},
   "outputs": [],
   "source": [
    "from typing import Callable, Union, Iterable\n",
    "import jax.nn as jnn\n",
    "\n",
    "class FullyConnectedNet(eqx.Module):\n",
    "    layers: list\n",
    "    act: Callable = eqx.field(static=True)\n",
    "        \n",
    "    def __init__(self, features, N_layers, key, act=jnn.relu, layer_=eqx.nn.Conv1d):\n",
    "        super(FullyConnectedNet, self).__init__()\n",
    "        N_in, N_pr, N_out = features\n",
    "        keys = random.split(key, N_layers)\n",
    "        Ns = [N_in,] + [N_pr,] * (N_layers - 1) + [N_out,]\n",
    "        self.layers = [layer_(in_channels=N_in, out_channels=N_out, kernel_size=1, key=key) for N_in, N_out, key in zip(Ns[:-1], Ns[1:], keys)]\n",
    "        self.act = act\n",
    "        return\n",
    "    \n",
    "    def __call__(self, x):\n",
    "        for l in self.layers[:-1]:\n",
    "            x = l(x)\n",
    "            x = self.act(x)\n",
    "        x = self.layers[-1](x)\n",
    "        return x\n",
    "\n",
    "class InplaceTril(eqx.Module):\n",
    "    DecoderL: eqx.Module\n",
    "    def __init__(self, DecoderL):\n",
    "        super(InplaceTril, self).__init__()\n",
    "        self.DecoderL = DecoderL\n",
    "        return\n",
    "    \n",
    "    def __call__(self, L, system_size):\n",
    "        Lval = self.DecoderL(L.data[None, ...])[0, ...]\n",
    "        L = jsparse.BCOO((Lval, L.indices), shape=(system_size, system_size))\n",
    "        return L\n",
    "    \n",
    "@jsparse.sparsify\n",
    "def llt_loss(L, b, x):\n",
    "    return jnp.square(jnp.linalg.norm(L @ (L.T @ x) - b, ord=2))\n",
    "\n",
    "def compute_loss(model, X):\n",
    "    L, b, x = X[0], X[1], X[2]\n",
    "    L = vmap(model, in_axes=(0, None), out_axes=(0))(L, b.shape[-1])\n",
    "    loss = vmap(llt_loss, in_axes=(0, 0, 0), out_axes=(0))(L, b, x)\n",
    "    return loss.mean()"
   ]
  },
  {
   "cell_type": "code",
   "execution_count": 7,
   "id": "ea86f06b",
   "metadata": {},
   "outputs": [],
   "source": [
    "def params_count(model):\n",
    "    return sum([2*i.size if i.dtype == jnp.complex128 else i.size for i in jax.tree_util.tree_leaves(eqx.filter(model, eqx.is_array))])\n",
    "\n",
    "def batch_indices(key, arr, batch_size):\n",
    "    dataset_size = len(arr)\n",
    "    batch_indices = random.choice(key, jnp.arange(dataset_size, dtype=jnp.int64), shape=[dataset_size // batch_size, batch_size])\n",
    "    return batch_indices"
   ]
  },
  {
   "cell_type": "code",
   "execution_count": 8,
   "id": "1c2be595",
   "metadata": {},
   "outputs": [
    {
     "data": {
      "text/plain": [
       "49"
      ]
     },
     "execution_count": 8,
     "metadata": {},
     "output_type": "execute_result"
    }
   ],
   "source": [
    "lr = 1e-2\n",
    "epoch_num = 800\n",
    "batch_size = 32\n",
    "\n",
    "train_config = {\n",
    "    'optimizer': optax.adam,\n",
    "    'lr': lr,\n",
    "    'optim_params': {},#{'weight_decay': 1e-8}, \n",
    "    'epoch_num': epoch_num,\n",
    "    'batch_size': batch_size\n",
    "}\n",
    "\n",
    "DecoderL = FullyConnectedNet(features=[1, 16, 1], N_layers=2, key=random.PRNGKey(42), layer_=Conv1d)\n",
    "model = InplaceTril(DecoderL)\n",
    "params_count(model)"
   ]
  },
  {
   "cell_type": "code",
   "execution_count": 9,
   "id": "108f4a85",
   "metadata": {},
   "outputs": [],
   "source": [
    "def train(model, X_train, X_test, train_config, key=42, repeat_step=1):\n",
    "    assert isinstance(train_config, dict)\n",
    "    assert isinstance(X_train, Iterable)\n",
    "    assert isinstance(X_test, Iterable)\n",
    "    \n",
    "    optim = train_config['optimizer'](train_config['lr'], **train_config['optim_params'])\n",
    "    opt_state = optim.init(eqx.filter(model, eqx.is_array))\n",
    "    bacth_size = train_config['batch_size']\n",
    "    assert len(X_train[1]) >= bacth_size, 'Batch size is greater than the dataset size'\n",
    "    \n",
    "    compute_loss_and_grads = eqx.filter_value_and_grad(compute_loss)\n",
    "    \n",
    "    def make_step(carry, ind):\n",
    "        model, opt_state = carry\n",
    "        batched_X = [arr[ind, ...] for arr in X_train]\n",
    "        \n",
    "        loss, grads = compute_loss_and_grads(model, batched_X)\n",
    "        updates, opt_state = optim.update(grads, opt_state, eqx.filter(model, eqx.is_array))\n",
    "        model = eqx.apply_updates(model, updates)\n",
    "        return (model, opt_state), loss\n",
    "    \n",
    "    def make_val_step(model, X):\n",
    "        return compute_loss(model, X)\n",
    "    \n",
    "    def train_body(carry, x):\n",
    "        model, opt_state = carry\n",
    "        key = random.PRNGKey(x)\n",
    "        b = batch_indices(key, X_train[0], bacth_size)\n",
    "        \n",
    "        carry_inner_init = (model, opt_state)\n",
    "        (model, opt_state), loss_train = lax.scan(make_step, carry_inner_init, b)\n",
    "        loss_test = make_val_step(model, X_test)\n",
    "        return (model, opt_state), [jnp.mean(loss_train), loss_test] \n",
    "    \n",
    "    carry_init = (model, opt_state)\n",
    "    (model, _), losses = lax.scan(train_body, carry_init, jnp.arange(train_config['epoch_num']))\n",
    "    return model, losses"
   ]
  },
  {
   "cell_type": "code",
   "execution_count": 10,
   "id": "321dbd9a",
   "metadata": {},
   "outputs": [],
   "source": [
    "model, losses = train(model, [L_train, b_train, x_train], [L_test, b_test, x_test], train_config)"
   ]
  },
  {
   "cell_type": "code",
   "execution_count": 11,
   "id": "6febac81",
   "metadata": {},
   "outputs": [
    {
     "data": {
      "image/png": "[encoded data removed]",
      "text/plain": [
       "<Figure size 640x480 with 1 Axes>"
      ]
     },
     "metadata": {},
     "output_type": "display_data"
    }
   ],
   "source": [
    "plt.plot(range(len(losses[0])), losses[1], label='Test')\n",
    "plt.plot(range(len(losses[0])), losses[0], label='Train')\n",
    "\n",
    "plt.legend()\n",
    "plt.yscale('log')\n",
    "plt.xlabel('Epoch')\n",
    "plt.ylabel('Loss');\n",
    "plt.grid();"
   ]
  },
  {
   "cell_type": "code",
   "execution_count": 12,
   "id": "d1abbdfc",
   "metadata": {},
   "outputs": [],
   "source": [
    "def nonlocal_iterate(arr):\n",
    "    global iters\n",
    "    iters += 1\n",
    "\n",
    "iters = 0\n",
    "\n",
    "def solve_prec(L, x):\n",
    "    #(LL')^{-1} x\n",
    "    LTinvx = sp.linalg.spsolve_triangular(L, x, lower=True)\n",
    "    res = sp.linalg.spsolve_triangular(L.T, LTinvx, lower=False)\n",
    "    return res\n",
    "\n",
    "def jBCOO_to_scipyCSR(A):\n",
    "    return coo_matrix((A.data, (A.indices[:, 0], A.indices[:, 1])), shape=A.shape, dtype=np.float64).tocsr()"
   ]
  },
  {
   "cell_type": "code",
   "execution_count": null,
   "id": "79077cf9",
   "metadata": {},
   "outputs": [
    {
     "name": "stdout",
     "output_type": "stream",
     "text": [
      "CG: 920\n"
     ]
    }
   ],
   "source": [
    "from scipy.sparse.linalg import LinearOperator, cg\n",
    "\n",
    "# Run single val model\n",
    "valid = jnp.load('/mnt/local/data/vtrifonov/prec-learning-Notay-loss/inplace_mat_upd/val128.npz')\n",
    "A = coo_matrix((valid['Aval'][0, ...], (valid['Aind'][0, :, 0], valid['Aind'][0, :, 1])), shape=L_test[0, ...].shape, dtype=np.float64).tocsr()\n",
    "b = np.asarray(valid['b'][0, ...])\n",
    "L = jsparse.BCOO.from_scipy_sparse(tril_func(A).tocoo())\n",
    "L = jBCOO_to_scipyCSR(model(L, b.shape[-1]))\n",
    "\n",
    "iters = 0\n",
    "prec_opt = LinearOperator(A.shape, lambda x: x)\n",
    "solution, info = cg(A, b, M=prec_opt, tol=1e-6, callback=nonlocal_iterate)\n",
    "print(f'CG: {iters}')\n",
    "\n",
    "iters = 0\n",
    "prec_opt = LinearOperator(A.shape, lambda x: solve_prec(L, x))\n",
    "solution, info = cg(A, b, M=prec_opt, tol=1e-6, callback=nonlocal_iterate, maxiter=920)\n",
    "print(f'PCG: {iters}')"
   ]
  },
  {
   "cell_type": "code",
   "execution_count": null,
   "id": "9788a594",
   "metadata": {},
   "outputs": [],
   "source": []
  },
  {
   "cell_type": "code",
   "execution_count": null,
   "id": "32c72dad",
   "metadata": {},
   "outputs": [],
   "source": []
  },
  {
   "cell_type": "code",
   "execution_count": null,
   "id": "4869ee54",
   "metadata": {},
   "outputs": [],
   "source": []
  }
 ],
 "metadata": {
  "kernelspec": {
   "display_name": "Python 3 (ipykernel)",
   "language": "python",
   "name": "python3"
  },
  "language_info": {
   "codemirror_mode": {
    "name": "ipython",
    "version": 3
   },
   "file_extension": ".py",
   "mimetype": "text/x-python",
   "name": "python",
   "nbconvert_exporter": "python",
   "pygments_lexer": "ipython3",
   "version": "3.10.6"
  }
 },
 "nbformat": 4,
 "nbformat_minor": 5
}
