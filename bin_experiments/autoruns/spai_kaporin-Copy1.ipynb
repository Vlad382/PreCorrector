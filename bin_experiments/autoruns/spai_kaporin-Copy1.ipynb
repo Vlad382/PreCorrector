{
 "cells": [
  {
   "cell_type": "code",
   "execution_count": 1,
   "id": "bae493dc",
   "metadata": {},
   "outputs": [],
   "source": [
    "import warnings\n",
    "import sys\n",
    "import os\n",
    "import jax\n",
    "\n",
    "jax.config.update(\"jax_enable_x64\", True)\n",
    "warnings.filterwarnings('ignore')\n",
    "os.environ[\"CUDA_VISIBLE_DEVICES\"] = '0'\n",
    "os.environ['XLA_PYTHON_CLIENT_MEM_FRACTION'] = '.95'\n",
    "sys.path.append('/mnt/local/data/vtrifonov/prec-learning-Notay-loss/')"
   ]
  },
  {
   "cell_type": "code",
   "execution_count": 1,
   "id": "02f4efed",
   "metadata": {},
   "outputs": [
    {
     "data": {
      "text/plain": [
       "5"
      ]
     },
     "execution_count": 1,
     "metadata": {},
     "output_type": "execute_result"
    }
   ],
   "source": [
    "2+3"
   ]
  },
  {
   "cell_type": "code",
   "execution_count": 3,
   "id": "5501bc10",
   "metadata": {},
   "outputs": [],
   "source": [
    "import jax.numpy as jnp\n",
    "from train_utils import training_search\n",
    "from sklearn.model_selection import ParameterGrid"
   ]
  },
  {
   "cell_type": "code",
   "execution_count": 4,
   "id": "cf9a5401",
   "metadata": {},
   "outputs": [],
   "source": [
    "# 'pde': [],                # 'poisson', 'div_k_grad'\n",
    "# 'grid': [],               # 32, 64, 128, 256\n",
    "# 'variance': [],           # 0.1, 0.5, 0.7\n",
    "# 'N_samples_train': [],    # int in {1, 1000}\n",
    "# 'N_samples_test': [],     # int in {1, 200}\n",
    "# 'lhs_type': [],           # 'i_ilu0', 'l_ict', 'fd', 'a_pow'\n",
    "# 'batch_size': [],         # int\n",
    "# 'epoch_num': [],          # int\n",
    "# 'lr_start': [],           # float\n",
    "# 'schedule_params': [],    # None or [start, stop, step, decay_size], type:[int, int, int, float]\n",
    "# 'cg_valid_repeats': [],   # int; 400 is a good value\n",
    "# 'corrector_net': [],      # 'True' for PreCorrector; 'False' for simple GNN\n",
    "# 'norm_prec_net': [],      # 'True' for normalization in simple GNN similar to normaliztion in PreCorrector; ignored for PreCorrector\n",
    "# 'precision': [],          # 'f32', 'f64'\n",
    "# 'prec_inverse': [],       # 'True' to use pres as z = Pr. 'False' to use prec as Pz = r\n",
    "# 'loss_type': [],          # 'llt_loss', 'llt_minus_A', 'log_kaporin', 'spai_P_hutch', 'spai_Pinv_hutch', 'spai_P_direct', 'spai_Pinv_direct'\n",
    "# 'power': [],              # int; A^{power} for padding"
   ]
  },
  {
   "cell_type": "markdown",
   "id": "95cb1565",
   "metadata": {},
   "source": [
    "## Run all the experiments in double precision \n",
    "\n",
    "### (!) Same hyperparameters used as with single precision"
   ]
  },
  {
   "cell_type": "code",
   "execution_count": 5,
   "id": "f3eb21ff",
   "metadata": {},
   "outputs": [],
   "source": [
    "folder = 'spai_kaporin'"
   ]
  },
  {
   "cell_type": "code",
   "execution_count": 6,
   "id": "50496e19",
   "metadata": {},
   "outputs": [],
   "source": [
    "main_part_config = {\n",
    "    'pde': ['poisson'],\n",
    "    'grid': [32],\n",
    "    'variance': [.1],\n",
    "    'N_samples_train': [1000],\n",
    "    'N_samples_test': [200],\n",
    "    'lhs_type': ['l_ilu0', 'fd', 'a_pow'],\n",
    "    'batch_size': [8],\n",
    "    'epoch_num': [500], #!!!!!!\n",
    "    'lr_start': [1e-3],\n",
    "    'schedule_params': [None],\n",
    "    'cg_valid_repeats': [120], #!!!!!!\n",
    "    'corrector_net': [False],\n",
    "    'norm_prec_net': [False],\n",
    "    'precision': ['f64'],\n",
    "    'prec_inverse': [True, False],\n",
    "    'loss_type': ['log_kaporin', 'spai_P_hutch', 'spai_Pinv_hutch', 'spai_P_direct', 'spai_Pinv_direct'],\n",
    "    'power': [2],\n",
    "}"
   ]
  },
  {
   "cell_type": "code",
   "execution_count": null,
   "id": "c8738252",
   "metadata": {},
   "outputs": [
    {
     "name": "stdout",
     "output_type": "stream",
     "text": [
      "Started: 0\n"
     ]
    }
   ],
   "source": [
    "params_grid = ParameterGrid(main_part_config)\n",
    "training_search(params_grid, folder)"
   ]
  },
  {
   "cell_type": "code",
   "execution_count": null,
   "id": "434d8059",
   "metadata": {},
   "outputs": [],
   "source": [
    "2+3"
   ]
  },
  {
   "cell_type": "code",
   "execution_count": null,
   "id": "82d053d4",
   "metadata": {},
   "outputs": [],
   "source": []
  }
 ],
 "metadata": {
  "kernelspec": {
   "display_name": "Python 3 (ipykernel)",
   "language": "python",
   "name": "python3"
  },
  "language_info": {
   "codemirror_mode": {
    "name": "ipython",
    "version": 3
   },
   "file_extension": ".py",
   "mimetype": "text/x-python",
   "name": "python",
   "nbconvert_exporter": "python",
   "pygments_lexer": "ipython3",
   "version": "3.10.6"
  }
 },
 "nbformat": 4,
 "nbformat_minor": 5
}
