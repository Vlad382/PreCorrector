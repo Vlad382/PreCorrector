{
 "cells": [
  {
   "cell_type": "code",
   "execution_count": 1,
   "id": "f1c48280",
   "metadata": {},
   "outputs": [],
   "source": [
    "import sys\n",
    "import os\n",
    "import jax\n",
    "\n",
    "jax.config.update(\"jax_enable_x64\", True)\n",
    "os.environ[\"CUDA_VISIBLE_DEVICES\"] = '3'\n",
    "os.environ['XLA_PYTHON_CLIENT_MEM_FRACTION'] = '.95'\n",
    "sys.path.append('/mnt/local/data/vtrifonov/prec-learning-Notay-loss/')"
   ]
  },
  {
   "cell_type": "code",
   "execution_count": 3,
   "id": "1c7bbfc6",
   "metadata": {},
   "outputs": [],
   "source": [
    "import jax.numpy as jnp\n",
    "\n",
    "from data.qtt import poisson, div_k_grad"
   ]
  },
  {
   "cell_type": "code",
   "execution_count": 4,
   "id": "4feafc81",
   "metadata": {},
   "outputs": [],
   "source": [
    "path = '/mnt/local/data/vtrifonov/prec-learning-Notay-loss/'\n",
    "try: os.mkdir(os.path.join(path, 'paper_datasets'))\n",
    "except: pass\n",
    "\n",
    "save_dir = os.path.join(path, 'paper_datasets')\n",
    "N_train = 1000\n",
    "N_test = 200"
   ]
  },
  {
   "cell_type": "code",
   "execution_count": 5,
   "id": "e8ada32f",
   "metadata": {},
   "outputs": [
    {
     "name": "stderr",
     "output_type": "stream",
     "text": [
      "2025-01-21 12:02:15.984922: W external/xla/xla/service/gpu/nvptx_compiler.cc:760] The NVIDIA driver's CUDA version is 12.4 which is older than the ptxas CUDA version (12.5.40). Because the driver is older than the ptxas version, XLA is disabling parallel compilation, which may slow down compilation. You should update your NVIDIA driver or use the NVIDIA-provided CUDA forward compatibility packages.\n"
     ]
    }
   ],
   "source": [
    "# Poisson\n",
    "for g in [256]:\n",
    "    A_train, b_train, x_train = poisson(N_train, g)\n",
    "    A_test, b_test, x_test = poisson(N_test, g)\n",
    "    jnp.savez(os.path.join(save_dir, 'poisson'+str(g)+'_train.npz'), Aval=A_train.data, Aind=A_train.indices, b=b_train, x=x_train)\n",
    "    jnp.savez(os.path.join(save_dir, 'poisson'+str(g)+'_test.npz'), Aval=A_test.data, Aind=A_test.indices, b=b_test, x=x_test)"
   ]
  },
  {
   "cell_type": "code",
   "execution_count": 6,
   "id": "c0d96dbf",
   "metadata": {},
   "outputs": [],
   "source": [
    "# Div-k-grad grid 64, 128\n",
    "boundaries_ls = [\n",
    "    [[400, 1200]],\n",
    "    [[400, 1200]],\n",
    "]\n",
    "var_ls = [1.1]\n",
    "\n",
    "for g, bound_ls in zip([64, 128], boundaries_ls):\n",
    "    for var_i, b_ in zip(var_ls, bound_ls):\n",
    "        A_train, b_train, x_train, k_stats_train = div_k_grad(N_train, g, bounds=b_, cov_model='gaussian', var=var_i)\n",
    "        A_test, b_test, x_test, k_stats_test = div_k_grad(N_test, g, bounds=b_, cov_model='gaussian', var=var_i)\n",
    "        \n",
    "        jnp.savez(os.path.join(save_dir, 'div_k_grad'+str(g)+'_Gauss'+str(var_i)+'_train.npz'),\n",
    "                  Aval=A_train.data, Aind=A_train.indices, b=b_train, x=x_train,\n",
    "                  kmin=k_stats_train['min'], kmax=k_stats_train['max'], kmean=k_stats_train['mean'])\n",
    "        jnp.savez(os.path.join(save_dir, 'div_k_grad'+str(g)+'_Gauss'+str(var_i)+'_test.npz'),\n",
    "                  Aval=A_test.data, Aind=A_test.indices, b=b_test, x=x_test,\n",
    "                  kmin=k_stats_test['min'], kmax=k_stats_test['max'], kmean=k_stats_test['mean'])"
   ]
  },
  {
   "cell_type": "code",
   "execution_count": 7,
   "id": "fa992a96",
   "metadata": {},
   "outputs": [],
   "source": [
    "# Div-k-grad grid 256\n",
    "boundaries_ls = [\n",
    "    [[80, 250], [250, 900], [400, 1200]],\n",
    "]\n",
    "var_ls = [0.5, 0.7, 1.1]\n",
    "\n",
    "for g, bound_ls in zip([256], boundaries_ls):\n",
    "    for var_i, b_ in zip(var_ls, bound_ls):\n",
    "        A_train, b_train, x_train, k_stats_train = div_k_grad(N_train, g, bounds=b_, cov_model='gaussian', var=var_i)\n",
    "        A_test, b_test, x_test, k_stats_test = div_k_grad(N_test, g, bounds=b_, cov_model='gaussian', var=var_i)\n",
    "        \n",
    "        jnp.savez(os.path.join(save_dir, 'div_k_grad'+str(g)+'_Gauss'+str(var_i)+'_train.npz'),\n",
    "                  Aval=A_train.data, Aind=A_train.indices, b=b_train, x=x_train,\n",
    "                  kmin=k_stats_train['min'], kmax=k_stats_train['max'], kmean=k_stats_train['mean'])\n",
    "        jnp.savez(os.path.join(save_dir, 'div_k_grad'+str(g)+'_Gauss'+str(var_i)+'_test.npz'),\n",
    "                  Aval=A_test.data, Aind=A_test.indices, b=b_test, x=x_test,\n",
    "                  kmin=k_stats_test['min'], kmax=k_stats_test['max'], kmean=k_stats_test['mean'])"
   ]
  },
  {
   "cell_type": "code",
   "execution_count": 8,
   "id": "594147d5",
   "metadata": {},
   "outputs": [
    {
     "name": "stdout",
     "output_type": "stream",
     "text": [
      "Grid 32, test,  var 0.1. Min k: 5, mean k: 7, max k: 11\n",
      "Grid 32, train, var 0.1. Min k: 5, mean k: 7, max k: 11\n",
      "Grid 32, test,  var 0.5. Min k: 37, mean k: 86, max k: 172\n",
      "Grid 32, train, var 0.5. Min k: 35, mean k: 86, max k: 178\n",
      "Grid 32, test,  var 0.7. Min k: 180, mean k: 280, max k: 692\n",
      "Grid 32, train, var 0.7. Min k: 180, mean k: 278, max k: 682\n",
      "\n",
      "Grid 64, test,  var 0.1. Min k: 5, mean k: 8, max k: 12\n",
      "Grid 64, train, var 0.1. Min k: 5, mean k: 8, max k: 12\n",
      "Grid 64, test,  var 0.5. Min k: 46, mean k: 103, max k: 188\n",
      "Grid 64, train, var 0.5. Min k: 46, mean k: 103, max k: 199\n",
      "Grid 64, test,  var 0.7. Min k: 202, mean k: 308, max k: 702\n",
      "Grid 64, train, var 0.7. Min k: 200, mean k: 317, max k: 742\n",
      "Grid 64, test,  var 1.1. Min k: 404, mean k: 757, max k: 1182\n",
      "Grid 64, train, var 1.1. Min k: 401, mean k: 768, max k: 1199\n",
      "\n",
      "Grid 128, test,  var 0.1. Min k: 6, mean k: 8, max k: 13\n",
      "Grid 128, train, var 0.1. Min k: 6, mean k: 8, max k: 14\n",
      "Grid 128, test,  var 0.5. Min k: 52, mean k: 117, max k: 296\n",
      "Grid 128, train, var 0.5. Min k: 50, mean k: 118, max k: 294\n",
      "Grid 128, test,  var 0.7. Min k: 300, mean k: 431, max k: 776\n",
      "Grid 128, train, var 0.7. Min k: 300, mean k: 414, max k: 793\n",
      "Grid 128, test,  var 1.1. Min k: 406, mean k: 790, max k: 1186\n",
      "Grid 128, train, var 1.1. Min k: 400, mean k: 786, max k: 1198\n",
      "\n",
      "Grid 256, test,  var 0.5. Min k: 81, mean k: 127, max k: 229\n",
      "Grid 256, train, var 0.5. Min k: 80, mean k: 127, max k: 249\n",
      "Grid 256, test,  var 0.7. Min k: 251, mean k: 387, max k: 865\n",
      "Grid 256, train, var 0.7. Min k: 250, mean k: 389, max k: 879\n",
      "Grid 256, test,  var 1.1. Min k: 405, mean k: 803, max k: 1196\n",
      "Grid 256, train, var 1.1. Min k: 401, mean k: 814, max k: 1200\n"
     ]
    }
   ],
   "source": [
    "ls32, ls64, ls128, ls256 = [], [], [], []\n",
    "for f in os.listdir(save_dir):\n",
    "    if os.path.isdir(f):\n",
    "        continue\n",
    "    if 'div_k_grad32' in f:\n",
    "        ls32.append(os.path.join(save_dir, f))\n",
    "    elif 'div_k_grad64' in f:\n",
    "        ls64.append(os.path.join(save_dir, f))\n",
    "    elif 'div_k_grad128' in f:\n",
    "        ls128.append(os.path.join(save_dir, f))\n",
    "    elif 'div_k_grad256' in f:\n",
    "        ls256.append(os.path.join(save_dir, f))\n",
    "        \n",
    "ls32.sort()\n",
    "ls64.sort()\n",
    "ls128.sort()\n",
    "ls256.sort()\n",
    "\n",
    "for d in ls32:\n",
    "    a = jnp.load(os.path.join(save_dir, d))\n",
    "    if 'train' in d:\n",
    "        print(f\"Grid 32, train, var {d.split('Gauss')[1][:3]}. Min k: {a['kmin']:.0f}, mean k: {a['kmean']:.0f}, max k: {a['kmax']:.0f}\")\n",
    "    elif 'test' in d:\n",
    "        print(f\"Grid 32, test,  var {d.split('Gauss')[1][:3]}. Min k: {a['kmin']:.0f}, mean k: {a['kmean']:.0f}, max k: {a['kmax']:.0f}\")\n",
    "        \n",
    "print()\n",
    "for d in ls64:\n",
    "    a = jnp.load(os.path.join(save_dir, d))\n",
    "    if 'train' in d:\n",
    "        print(f\"Grid 64, train, var {d.split('Gauss')[1][:3]}. Min k: {a['kmin']:.0f}, mean k: {a['kmean']:.0f}, max k: {a['kmax']:.0f}\")\n",
    "    elif 'test' in d:\n",
    "        print(f\"Grid 64, test,  var {d.split('Gauss')[1][:3]}. Min k: {a['kmin']:.0f}, mean k: {a['kmean']:.0f}, max k: {a['kmax']:.0f}\")\n",
    "\n",
    "print()\n",
    "for d in ls128:\n",
    "    a = jnp.load(os.path.join(save_dir, d))\n",
    "    if 'train' in d:\n",
    "        print(f\"Grid 128, train, var {d.split('Gauss')[1][:3]}. Min k: {a['kmin']:.0f}, mean k: {a['kmean']:.0f}, max k: {a['kmax']:.0f}\")\n",
    "    elif 'test' in d:\n",
    "        print(f\"Grid 128, test,  var {d.split('Gauss')[1][:3]}. Min k: {a['kmin']:.0f}, mean k: {a['kmean']:.0f}, max k: {a['kmax']:.0f}\")\n",
    "        \n",
    "print()\n",
    "for d in ls256:\n",
    "    a = jnp.load(os.path.join(save_dir, d))\n",
    "    if 'train' in d:\n",
    "        print(f\"Grid 256, train, var {d.split('Gauss')[1][:3]}. Min k: {a['kmin']:.0f}, mean k: {a['kmean']:.0f}, max k: {a['kmax']:.0f}\")\n",
    "    elif 'test' in d:\n",
    "        print(f\"Grid 256, test,  var {d.split('Gauss')[1][:3]}. Min k: {a['kmin']:.0f}, mean k: {a['kmean']:.0f}, max k: {a['kmax']:.0f}\")"
   ]
  },
  {
   "cell_type": "code",
   "execution_count": null,
   "id": "bcd64caa",
   "metadata": {},
   "outputs": [],
   "source": []
  }
 ],
 "metadata": {
  "kernelspec": {
   "display_name": "Python 3 (ipykernel)",
   "language": "python",
   "name": "python3"
  },
  "language_info": {
   "codemirror_mode": {
    "name": "ipython",
    "version": 3
   },
   "file_extension": ".py",
   "mimetype": "text/x-python",
   "name": "python",
   "nbconvert_exporter": "python",
   "pygments_lexer": "ipython3",
   "version": "3.10.6"
  }
 },
 "nbformat": 4,
 "nbformat_minor": 5
}
