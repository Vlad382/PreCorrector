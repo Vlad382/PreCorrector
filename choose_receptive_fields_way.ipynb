{
 "cells": [
  {
   "cell_type": "code",
   "execution_count": 1,
   "id": "5c92538c",
   "metadata": {},
   "outputs": [],
   "source": [
    "import sys\n",
    "import os\n",
    "os.environ[\"CUDA_VISIBLE_DEVICES\"] = ''\n",
    "os.environ['XLA_PYTHON_CLIENT_MEM_FRACTION'] = '.95'\n",
    "sys.path.append('/mnt/local/data/vtrifonov/prec-learning-Notay-loss/')"
   ]
  },
  {
   "cell_type": "code",
   "execution_count": 2,
   "id": "c1a45bef",
   "metadata": {},
   "outputs": [],
   "source": [
    "import ast\n",
    "import numpy as np\n",
    "import pandas as pd\n",
    "import matplotlib.pyplot as plt\n",
    "from sklearn.model_selection import ParameterGrid\n",
    "\n",
    "from utils import params_count\n",
    "pd.set_option('display.max_columns', 1000)\n",
    "pd.set_option('display.max_rows', 100)"
   ]
  },
  {
   "cell_type": "code",
   "execution_count": 7,
   "id": "6eb44da8",
   "metadata": {},
   "outputs": [],
   "source": [
    "path = '/mnt/local/data/vtrifonov/prec-learning-Notay-loss/'\n",
    "path_class_prec = 'results_cases/22.01_benchmark_elliptic_datasets'\n",
    "path_precor_mp_shared = 'results_cases/22.01_elliptic_grid64_128_ablation_precor_gnn'\n",
    "path_precor_mp_blocks_r2 = 'results_cases/29.01_elliptic_grid64_128_multiBlockMp_precor_gnn/mp_rounds2'\n",
    "path_precor_mp_blocks_r3 = 'results_cases/29.01_elliptic_grid64_128_multiBlockMp_precor_gnn/mp_rounds3'\n",
    "path_precor_mp_blocks_r5 = 'results_cases/29.01_elliptic_grid64_128_multiBlockMp_precor_gnn/mp_rounds5'"
   ]
  },
  {
   "cell_type": "code",
   "execution_count": 8,
   "id": "b5b33d37",
   "metadata": {},
   "outputs": [],
   "source": [
    "df_class_prec = pd.read_csv(os.path.join(path, path_class_prec, 'meta_data.csv'), index_col=0)\n",
    "df_precor_mp_shared = pd.read_csv(os.path.join(path, path_precor_mp_shared, 'meta_data.csv'), index_col=0)\n",
    "df_precor_mp_blocks_r2 = pd.read_csv(os.path.join(path, path_precor_mp_blocks_r2, 'meta_data.csv'), index_col=0)\n",
    "df_precor_mp_blocks_r3 = pd.read_csv(os.path.join(path, path_precor_mp_blocks_r3, 'meta_data.csv'), index_col=0)\n",
    "df_precor_mp_blocks_r5 = pd.read_csv(os.path.join(path, path_precor_mp_blocks_r5, 'meta_data.csv'), index_col=0)"
   ]
  },
  {
   "cell_type": "code",
   "execution_count": 14,
   "id": "19c358e4",
   "metadata": {},
   "outputs": [
    {
     "data": {
      "text/plain": [
       "Index(['model_use', 'cg_maxiter', 'cg_atol', 'seed', 'model_type', 'use_nodes',\n",
       "       'node_upd_mlp', 'static_diag', 'aggregate_edges', 'loss_type',\n",
       "       'batch_size', 'lr', 'epoch_num', 'pde', 'grid', 'variance', 'lhs_type',\n",
       "       'N_samples_train', 'N_samples_test', 'fill_factor', 'threshold',\n",
       "       'train_loss', 'test_loss', 'alpha', 'time_data', 'time_train',\n",
       "       'iters_1e_3', 'iters_1e_6', 'iters_1e_9', 'iters_1e_12', 'time_1e_3',\n",
       "       'time_1e_6', 'time_1e_9', 'time_1e_12', 'nans_1e_3', 'nans_1e_6',\n",
       "       'nans_1e_9', 'nans_1e_12', 't_gnn_prec'],\n",
       "      dtype='object')"
      ]
     },
     "execution_count": 14,
     "metadata": {},
     "output_type": "execute_result"
    }
   ],
   "source": [
    "df_precor_mp_blocks_r2.columns"
   ]
  },
  {
   "cell_type": "code",
   "execution_count": 69,
   "id": "39fcf265",
   "metadata": {},
   "outputs": [],
   "source": [
    "pde = 'div_k_grad'\n",
    "grid = 128\n",
    "var = 1.1\n",
    "lhs = 'l_ict'"
   ]
  },
  {
   "cell_type": "code",
   "execution_count": 70,
   "id": "29415f6b",
   "metadata": {},
   "outputs": [],
   "source": [
    "q = f'pde == \"{pde}\" and grid == {grid} and variance == {var} and lhs_type == \"{lhs}\"'\n",
    "fields_gnn = ['pde', 'grid', 'variance', 'lhs_type', 'iters_1e_3', 'iters_1e_6', 'time_1e_6', 'time_1e_9', 'nans_1e_3', 'nans_1e_6', 'nans_1e_9', 'nans_1e_12', 'model_type', 'static_diag', 'loss_type', 'aggregate_edges', 'train_loss', 'test_loss', 't_gnn_prec']\n",
    "fields_class = ['pde', 'grid', 'variance', 'lhs_type', 'iters_1e_3', 'iters_1e_6', 'time_1e_6', 'time_1e_9', 'nans_1e_3', 'nans_1e_6', 'nans_1e_9', 'nans_1e_12', 't_class_prec']"
   ]
  },
  {
   "cell_type": "code",
   "execution_count": 71,
   "id": "f11104d5",
   "metadata": {},
   "outputs": [
    {
     "name": "stdout",
     "output_type": "stream",
     "text": [
      "Classical\n"
     ]
    },
    {
     "data": {
      "text/html": [
       "<div>\n",
       "<style scoped>\n",
       "    .dataframe tbody tr th:only-of-type {\n",
       "        vertical-align: middle;\n",
       "    }\n",
       "\n",
       "    .dataframe tbody tr th {\n",
       "        vertical-align: top;\n",
       "    }\n",
       "\n",
       "    .dataframe thead th {\n",
       "        text-align: right;\n",
       "    }\n",
       "</style>\n",
       "<table border=\"1\" class=\"dataframe\">\n",
       "  <thead>\n",
       "    <tr style=\"text-align: right;\">\n",
       "      <th></th>\n",
       "      <th>pde</th>\n",
       "      <th>grid</th>\n",
       "      <th>variance</th>\n",
       "      <th>lhs_type</th>\n",
       "      <th>iters_1e_3</th>\n",
       "      <th>iters_1e_6</th>\n",
       "      <th>time_1e_6</th>\n",
       "      <th>time_1e_9</th>\n",
       "      <th>nans_1e_3</th>\n",
       "      <th>nans_1e_6</th>\n",
       "      <th>nans_1e_9</th>\n",
       "      <th>nans_1e_12</th>\n",
       "      <th>t_class_prec</th>\n",
       "    </tr>\n",
       "  </thead>\n",
       "  <tbody>\n",
       "    <tr>\n",
       "      <th>343732</th>\n",
       "      <td>div_k_grad</td>\n",
       "      <td>128.0</td>\n",
       "      <td>1.1</td>\n",
       "      <td>l_ict</td>\n",
       "      <td>[104.2, 4.14]</td>\n",
       "      <td>[129.4, 4.47]</td>\n",
       "      <td>[1.0399, 0.1479]</td>\n",
       "      <td>[1.2013, 0.1710]</td>\n",
       "      <td>0.0</td>\n",
       "      <td>0.0</td>\n",
       "      <td>0.0</td>\n",
       "      <td>0.0</td>\n",
       "      <td>[3.104e-03, 6.153e-05]</td>\n",
       "    </tr>\n",
       "  </tbody>\n",
       "</table>\n",
       "</div>"
      ],
      "text/plain": [
       "               pde   grid  variance lhs_type     iters_1e_3     iters_1e_6  \\\n",
       "343732  div_k_grad  128.0       1.1    l_ict  [104.2, 4.14]  [129.4, 4.47]   \n",
       "\n",
       "               time_1e_6         time_1e_9  nans_1e_3  nans_1e_6  nans_1e_9  \\\n",
       "343732  [1.0399, 0.1479]  [1.2013, 0.1710]        0.0        0.0        0.0   \n",
       "\n",
       "        nans_1e_12            t_class_prec  \n",
       "343732         0.0  [3.104e-03, 6.153e-05]  "
      ]
     },
     "metadata": {},
     "output_type": "display_data"
    },
    {
     "name": "stdout",
     "output_type": "stream",
     "text": [
      "Shared weights\n"
     ]
    },
    {
     "data": {
      "text/html": [
       "<div>\n",
       "<style scoped>\n",
       "    .dataframe tbody tr th:only-of-type {\n",
       "        vertical-align: middle;\n",
       "    }\n",
       "\n",
       "    .dataframe tbody tr th {\n",
       "        vertical-align: top;\n",
       "    }\n",
       "\n",
       "    .dataframe thead th {\n",
       "        text-align: right;\n",
       "    }\n",
       "</style>\n",
       "<table border=\"1\" class=\"dataframe\">\n",
       "  <thead>\n",
       "    <tr style=\"text-align: right;\">\n",
       "      <th></th>\n",
       "      <th>pde</th>\n",
       "      <th>grid</th>\n",
       "      <th>variance</th>\n",
       "      <th>lhs_type</th>\n",
       "      <th>iters_1e_3</th>\n",
       "      <th>iters_1e_6</th>\n",
       "      <th>time_1e_6</th>\n",
       "      <th>time_1e_9</th>\n",
       "      <th>nans_1e_3</th>\n",
       "      <th>nans_1e_6</th>\n",
       "      <th>nans_1e_9</th>\n",
       "      <th>nans_1e_12</th>\n",
       "      <th>model_type</th>\n",
       "      <th>static_diag</th>\n",
       "      <th>loss_type</th>\n",
       "      <th>aggregate_edges</th>\n",
       "      <th>train_loss</th>\n",
       "      <th>test_loss</th>\n",
       "      <th>t_gnn_prec</th>\n",
       "    </tr>\n",
       "  </thead>\n",
       "  <tbody>\n",
       "    <tr>\n",
       "      <th>wpw6x0</th>\n",
       "      <td>div_k_grad</td>\n",
       "      <td>128.0</td>\n",
       "      <td>1.1</td>\n",
       "      <td>l_ict</td>\n",
       "      <td>[68.7, 4.14]</td>\n",
       "      <td>[86.4, 5.00]</td>\n",
       "      <td>[0.9050, 0.1283]</td>\n",
       "      <td>[1.0741, 0.1407]</td>\n",
       "      <td>0.0</td>\n",
       "      <td>0.0</td>\n",
       "      <td>0.0</td>\n",
       "      <td>0.0</td>\n",
       "      <td>precorrector_gnn</td>\n",
       "      <td>True</td>\n",
       "      <td>low_freq_loss</td>\n",
       "      <td>min</td>\n",
       "      <td>1.140000e+03</td>\n",
       "      <td>1.114000e+03</td>\n",
       "      <td>[5.314e-03, 1.408e-04]</td>\n",
       "    </tr>\n",
       "    <tr>\n",
       "      <th>e0vjuj</th>\n",
       "      <td>div_k_grad</td>\n",
       "      <td>128.0</td>\n",
       "      <td>1.1</td>\n",
       "      <td>l_ict</td>\n",
       "      <td>[121.4, 4.81]</td>\n",
       "      <td>[150.9, 5.11]</td>\n",
       "      <td>[1.5940, 0.1462]</td>\n",
       "      <td>[1.8387, 0.1616]</td>\n",
       "      <td>0.0</td>\n",
       "      <td>0.0</td>\n",
       "      <td>0.0</td>\n",
       "      <td>0.0</td>\n",
       "      <td>precorrector_gnn</td>\n",
       "      <td>True</td>\n",
       "      <td>high_freq_loss</td>\n",
       "      <td>min</td>\n",
       "      <td>6.425000e+11</td>\n",
       "      <td>6.228000e+11</td>\n",
       "      <td>[5.176e-03, 1.617e-04]</td>\n",
       "    </tr>\n",
       "    <tr>\n",
       "      <th>mq4bhj</th>\n",
       "      <td>div_k_grad</td>\n",
       "      <td>128.0</td>\n",
       "      <td>1.1</td>\n",
       "      <td>l_ict</td>\n",
       "      <td>[62.5, 3.78]</td>\n",
       "      <td>[79.6, 4.62]</td>\n",
       "      <td>[0.5683, 0.0461]</td>\n",
       "      <td>[0.6846, 0.0550]</td>\n",
       "      <td>0.0</td>\n",
       "      <td>0.0</td>\n",
       "      <td>0.0</td>\n",
       "      <td>0.0</td>\n",
       "      <td>precorrector_gnn</td>\n",
       "      <td>False</td>\n",
       "      <td>low_freq_loss</td>\n",
       "      <td>min</td>\n",
       "      <td>7.652000e+02</td>\n",
       "      <td>7.550000e+02</td>\n",
       "      <td>[3.572e-03, 1.673e-04]</td>\n",
       "    </tr>\n",
       "    <tr>\n",
       "      <th>rirnq1</th>\n",
       "      <td>div_k_grad</td>\n",
       "      <td>128.0</td>\n",
       "      <td>1.1</td>\n",
       "      <td>l_ict</td>\n",
       "      <td>[123.1, 4.91]</td>\n",
       "      <td>[153.1, 5.21]</td>\n",
       "      <td>[1.2620, 0.1681]</td>\n",
       "      <td>[1.4579, 0.1936]</td>\n",
       "      <td>0.0</td>\n",
       "      <td>0.0</td>\n",
       "      <td>0.0</td>\n",
       "      <td>0.0</td>\n",
       "      <td>precorrector_gnn</td>\n",
       "      <td>False</td>\n",
       "      <td>high_freq_loss</td>\n",
       "      <td>min</td>\n",
       "      <td>6.317000e+11</td>\n",
       "      <td>6.122000e+11</td>\n",
       "      <td>[3.540e-03, 1.683e-04]</td>\n",
       "    </tr>\n",
       "  </tbody>\n",
       "</table>\n",
       "</div>"
      ],
      "text/plain": [
       "               pde   grid  variance lhs_type     iters_1e_3     iters_1e_6  \\\n",
       "wpw6x0  div_k_grad  128.0       1.1    l_ict   [68.7, 4.14]   [86.4, 5.00]   \n",
       "e0vjuj  div_k_grad  128.0       1.1    l_ict  [121.4, 4.81]  [150.9, 5.11]   \n",
       "mq4bhj  div_k_grad  128.0       1.1    l_ict   [62.5, 3.78]   [79.6, 4.62]   \n",
       "rirnq1  div_k_grad  128.0       1.1    l_ict  [123.1, 4.91]  [153.1, 5.21]   \n",
       "\n",
       "               time_1e_6         time_1e_9  nans_1e_3  nans_1e_6  nans_1e_9  \\\n",
       "wpw6x0  [0.9050, 0.1283]  [1.0741, 0.1407]        0.0        0.0        0.0   \n",
       "e0vjuj  [1.5940, 0.1462]  [1.8387, 0.1616]        0.0        0.0        0.0   \n",
       "mq4bhj  [0.5683, 0.0461]  [0.6846, 0.0550]        0.0        0.0        0.0   \n",
       "rirnq1  [1.2620, 0.1681]  [1.4579, 0.1936]        0.0        0.0        0.0   \n",
       "\n",
       "        nans_1e_12        model_type  static_diag       loss_type  \\\n",
       "wpw6x0         0.0  precorrector_gnn         True   low_freq_loss   \n",
       "e0vjuj         0.0  precorrector_gnn         True  high_freq_loss   \n",
       "mq4bhj         0.0  precorrector_gnn        False   low_freq_loss   \n",
       "rirnq1         0.0  precorrector_gnn        False  high_freq_loss   \n",
       "\n",
       "       aggregate_edges    train_loss     test_loss              t_gnn_prec  \n",
       "wpw6x0             min  1.140000e+03  1.114000e+03  [5.314e-03, 1.408e-04]  \n",
       "e0vjuj             min  6.425000e+11  6.228000e+11  [5.176e-03, 1.617e-04]  \n",
       "mq4bhj             min  7.652000e+02  7.550000e+02  [3.572e-03, 1.673e-04]  \n",
       "rirnq1             min  6.317000e+11  6.122000e+11  [3.540e-03, 1.683e-04]  "
      ]
     },
     "metadata": {},
     "output_type": "display_data"
    },
    {
     "name": "stdout",
     "output_type": "stream",
     "text": [
      "Block MP, 2 rounds\n"
     ]
    },
    {
     "data": {
      "text/html": [
       "<div>\n",
       "<style scoped>\n",
       "    .dataframe tbody tr th:only-of-type {\n",
       "        vertical-align: middle;\n",
       "    }\n",
       "\n",
       "    .dataframe tbody tr th {\n",
       "        vertical-align: top;\n",
       "    }\n",
       "\n",
       "    .dataframe thead th {\n",
       "        text-align: right;\n",
       "    }\n",
       "</style>\n",
       "<table border=\"1\" class=\"dataframe\">\n",
       "  <thead>\n",
       "    <tr style=\"text-align: right;\">\n",
       "      <th></th>\n",
       "      <th>pde</th>\n",
       "      <th>grid</th>\n",
       "      <th>variance</th>\n",
       "      <th>lhs_type</th>\n",
       "      <th>iters_1e_3</th>\n",
       "      <th>iters_1e_6</th>\n",
       "      <th>time_1e_6</th>\n",
       "      <th>time_1e_9</th>\n",
       "      <th>nans_1e_3</th>\n",
       "      <th>nans_1e_6</th>\n",
       "      <th>nans_1e_9</th>\n",
       "      <th>nans_1e_12</th>\n",
       "      <th>model_type</th>\n",
       "      <th>static_diag</th>\n",
       "      <th>loss_type</th>\n",
       "      <th>aggregate_edges</th>\n",
       "      <th>train_loss</th>\n",
       "      <th>test_loss</th>\n",
       "      <th>t_gnn_prec</th>\n",
       "    </tr>\n",
       "  </thead>\n",
       "  <tbody>\n",
       "  </tbody>\n",
       "</table>\n",
       "</div>"
      ],
      "text/plain": [
       "Empty DataFrame\n",
       "Columns: [pde, grid, variance, lhs_type, iters_1e_3, iters_1e_6, time_1e_6, time_1e_9, nans_1e_3, nans_1e_6, nans_1e_9, nans_1e_12, model_type, static_diag, loss_type, aggregate_edges, train_loss, test_loss, t_gnn_prec]\n",
       "Index: []"
      ]
     },
     "metadata": {},
     "output_type": "display_data"
    },
    {
     "name": "stdout",
     "output_type": "stream",
     "text": [
      "Block MP, 3 rounds\n"
     ]
    },
    {
     "data": {
      "text/html": [
       "<div>\n",
       "<style scoped>\n",
       "    .dataframe tbody tr th:only-of-type {\n",
       "        vertical-align: middle;\n",
       "    }\n",
       "\n",
       "    .dataframe tbody tr th {\n",
       "        vertical-align: top;\n",
       "    }\n",
       "\n",
       "    .dataframe thead th {\n",
       "        text-align: right;\n",
       "    }\n",
       "</style>\n",
       "<table border=\"1\" class=\"dataframe\">\n",
       "  <thead>\n",
       "    <tr style=\"text-align: right;\">\n",
       "      <th></th>\n",
       "      <th>pde</th>\n",
       "      <th>grid</th>\n",
       "      <th>variance</th>\n",
       "      <th>lhs_type</th>\n",
       "      <th>iters_1e_3</th>\n",
       "      <th>iters_1e_6</th>\n",
       "      <th>time_1e_6</th>\n",
       "      <th>time_1e_9</th>\n",
       "      <th>nans_1e_3</th>\n",
       "      <th>nans_1e_6</th>\n",
       "      <th>nans_1e_9</th>\n",
       "      <th>nans_1e_12</th>\n",
       "      <th>model_type</th>\n",
       "      <th>static_diag</th>\n",
       "      <th>loss_type</th>\n",
       "      <th>aggregate_edges</th>\n",
       "      <th>train_loss</th>\n",
       "      <th>test_loss</th>\n",
       "      <th>t_gnn_prec</th>\n",
       "    </tr>\n",
       "  </thead>\n",
       "  <tbody>\n",
       "  </tbody>\n",
       "</table>\n",
       "</div>"
      ],
      "text/plain": [
       "Empty DataFrame\n",
       "Columns: [pde, grid, variance, lhs_type, iters_1e_3, iters_1e_6, time_1e_6, time_1e_9, nans_1e_3, nans_1e_6, nans_1e_9, nans_1e_12, model_type, static_diag, loss_type, aggregate_edges, train_loss, test_loss, t_gnn_prec]\n",
       "Index: []"
      ]
     },
     "metadata": {},
     "output_type": "display_data"
    },
    {
     "name": "stdout",
     "output_type": "stream",
     "text": [
      "Block MP, 5 rounds\n"
     ]
    },
    {
     "data": {
      "text/html": [
       "<div>\n",
       "<style scoped>\n",
       "    .dataframe tbody tr th:only-of-type {\n",
       "        vertical-align: middle;\n",
       "    }\n",
       "\n",
       "    .dataframe tbody tr th {\n",
       "        vertical-align: top;\n",
       "    }\n",
       "\n",
       "    .dataframe thead th {\n",
       "        text-align: right;\n",
       "    }\n",
       "</style>\n",
       "<table border=\"1\" class=\"dataframe\">\n",
       "  <thead>\n",
       "    <tr style=\"text-align: right;\">\n",
       "      <th></th>\n",
       "      <th>pde</th>\n",
       "      <th>grid</th>\n",
       "      <th>variance</th>\n",
       "      <th>lhs_type</th>\n",
       "      <th>iters_1e_3</th>\n",
       "      <th>iters_1e_6</th>\n",
       "      <th>time_1e_6</th>\n",
       "      <th>time_1e_9</th>\n",
       "      <th>nans_1e_3</th>\n",
       "      <th>nans_1e_6</th>\n",
       "      <th>nans_1e_9</th>\n",
       "      <th>nans_1e_12</th>\n",
       "      <th>model_type</th>\n",
       "      <th>static_diag</th>\n",
       "      <th>loss_type</th>\n",
       "      <th>aggregate_edges</th>\n",
       "      <th>train_loss</th>\n",
       "      <th>test_loss</th>\n",
       "      <th>t_gnn_prec</th>\n",
       "    </tr>\n",
       "  </thead>\n",
       "  <tbody>\n",
       "  </tbody>\n",
       "</table>\n",
       "</div>"
      ],
      "text/plain": [
       "Empty DataFrame\n",
       "Columns: [pde, grid, variance, lhs_type, iters_1e_3, iters_1e_6, time_1e_6, time_1e_9, nans_1e_3, nans_1e_6, nans_1e_9, nans_1e_12, model_type, static_diag, loss_type, aggregate_edges, train_loss, test_loss, t_gnn_prec]\n",
       "Index: []"
      ]
     },
     "metadata": {},
     "output_type": "display_data"
    }
   ],
   "source": [
    "print('Classical')\n",
    "display(df_class_prec.query(q)[fields_class])\n",
    "\n",
    "print('Shared weights')\n",
    "display(df_precor_mp_shared.query(q)[fields_gnn])\n",
    "\n",
    "print('Block MP, 2 rounds')\n",
    "display(df_precor_mp_blocks_r2.query(q)[fields_gnn])\n",
    "\n",
    "print('Block MP, 3 rounds')\n",
    "display(df_precor_mp_blocks_r3.query(q)[fields_gnn])\n",
    "\n",
    "print('Block MP, 5 rounds')\n",
    "display(df_precor_mp_blocks_r5.query(q)[fields_gnn])"
   ]
  },
  {
   "cell_type": "code",
   "execution_count": 1,
   "id": "efd822f8",
   "metadata": {},
   "outputs": [],
   "source": [
    "import sys\n",
    "import os\n",
    "os.environ[\"CUDA_VISIBLE_DEVICES\"] = '3'\n",
    "os.environ['XLA_PYTHON_CLIENT_MEM_FRACTION'] = '.95'\n",
    "sys.path.append('/mnt/local/data/vtrifonov/prec-learning-Notay-loss/')"
   ]
  },
  {
   "cell_type": "code",
   "execution_count": 2,
   "id": "f6ea9be3",
   "metadata": {},
   "outputs": [],
   "source": [
    "from copy import deepcopy\n",
    "\n",
    "from train import make_neural_prec_model\n",
    "from config import default_precorrector_gnn_config\n",
    "from utils import params_count\n",
    "\n",
    "from jax import random "
   ]
  },
  {
   "cell_type": "code",
   "execution_count": 3,
   "id": "a0a4a470",
   "metadata": {},
   "outputs": [
    {
     "name": "stderr",
     "output_type": "stream",
     "text": [
      "2025-01-29 07:34:16.477713: W external/xla/xla/service/gpu/nvptx_compiler.cc:760] The NVIDIA driver's CUDA version is 12.4 which is older than the ptxas CUDA version (12.5.40). Because the driver is older than the ptxas version, XLA is disabling parallel compilation, which may slow down compilation. You should update your NVIDIA driver or use the NVIDIA-provided CUDA forward compatibility packages.\n"
     ]
    },
    {
     "name": "stdout",
     "output_type": "stream",
     "text": [
      "model_type: precorrector_gnn, mp_rounds = 2, model_params = 1170\n",
      "model_type: precorrector_gnn, mp_rounds = 3, model_params = 1170\n",
      "model_type: precorrector_gnn, mp_rounds = 4, model_params = 1170\n",
      "model_type: precorrector_gnn, mp_rounds = 5, model_params = 1170\n"
     ]
    }
   ],
   "source": [
    "for mp_r in range(2, 6):\n",
    "    model_type = 'precorrector_gnn'\n",
    "\n",
    "    model_config = deepcopy(default_precorrector_gnn_config)\n",
    "    model_config['static_diag'] = False\n",
    "    model_config['mp']['mp_rounds'] = mp_r\n",
    "\n",
    "    model = make_neural_prec_model(key=random.PRNGKey(42), config=model_config, model_type=model_type)\n",
    "    print(f'model_type: {model_type}, mp_rounds = {mp_r}, model_params = {params_count(model)}')"
   ]
  },
  {
   "cell_type": "code",
   "execution_count": null,
   "id": "8218342f",
   "metadata": {},
   "outputs": [],
   "source": []
  },
  {
   "cell_type": "code",
   "execution_count": 4,
   "id": "510a7590",
   "metadata": {},
   "outputs": [
    {
     "name": "stdout",
     "output_type": "stream",
     "text": [
      "model_type: precorrector_gnn_multiblock, mp_rounds = 2, model_params = 1746\n",
      "model_type: precorrector_gnn_multiblock, mp_rounds = 3, model_params = 2322\n",
      "model_type: precorrector_gnn_multiblock, mp_rounds = 4, model_params = 2898\n",
      "model_type: precorrector_gnn_multiblock, mp_rounds = 5, model_params = 3474\n"
     ]
    }
   ],
   "source": [
    "for mp_r in range(2, 6):\n",
    "    model_type = 'precorrector_gnn_multiblock'\n",
    "\n",
    "    model_config = deepcopy(default_precorrector_gnn_config)\n",
    "    model_config['static_diag'] = False\n",
    "    model_config['mp']['mp_rounds'] = mp_r\n",
    "\n",
    "    model = make_neural_prec_model(key=random.PRNGKey(42), config=model_config, model_type=model_type)\n",
    "    print(f'model_type: {model_type}, mp_rounds = {mp_r}, model_params = {params_count(model)}')"
   ]
  },
  {
   "cell_type": "code",
   "execution_count": null,
   "id": "a37065be",
   "metadata": {},
   "outputs": [],
   "source": []
  }
 ],
 "metadata": {
  "kernelspec": {
   "display_name": "Python 3 (ipykernel)",
   "language": "python",
   "name": "python3"
  },
  "language_info": {
   "codemirror_mode": {
    "name": "ipython",
    "version": 3
   },
   "file_extension": ".py",
   "mimetype": "text/x-python",
   "name": "python",
   "nbconvert_exporter": "python",
   "pygments_lexer": "ipython3",
   "version": "3.10.6"
  }
 },
 "nbformat": 4,
 "nbformat_minor": 5
}
