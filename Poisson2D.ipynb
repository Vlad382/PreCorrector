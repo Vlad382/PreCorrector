{
 "cells": [
  {
   "cell_type": "code",
   "execution_count": null,
   "id": "6ce6bfc2",
   "metadata": {},
   "outputs": [],
   "source": [
    "import warnings\n",
    "import os\n",
    "\n",
    "warnings.filterwarnings('ignore')\n",
    "os.environ[\"CUDA_VISIBLE_DEVICES\"] = '1'"
   ]
  },
  {
   "cell_type": "code",
   "execution_count": 2,
   "id": "8de6bdbe",
   "metadata": {},
   "outputs": [],
   "source": [
    "import itertools\n",
    "import time\n",
    "\n",
    "import jax\n",
    "import jax.numpy as jnp\n",
    "from jax import random\n",
    "from jax.experimental import sparse as jsparse\n",
    "from jax.lax import scan, dot_general\n",
    "import jax.nn as jnn\n",
    "\n",
    "import optax\n",
    "import numpy as np\n",
    "\n",
    "from data import dataset_LLT\n",
    "from conj_grad import ConjGrad, apply_LLT\n",
    "from loss import LLT_loss\n",
    "from model import MessagePassing, FullyConnectedNet, PrecNet\n",
    "from train import train, compute_loss_LLT"
   ]
  },
  {
   "cell_type": "code",
   "execution_count": 3,
   "id": "68ecaad2",
   "metadata": {},
   "outputs": [],
   "source": [
    "grid = 32\n",
    "N_samples = 32"
   ]
  },
  {
   "cell_type": "code",
   "execution_count": 4,
   "id": "177d2b24",
   "metadata": {},
   "outputs": [
    {
     "name": "stderr",
     "output_type": "stream",
     "text": [
      "2024-03-04 17:33:55.871482: W external/xla/xla/service/gpu/nvptx_compiler.cc:744] The NVIDIA driver's CUDA version is 12.2 which is older than the ptxas CUDA version (12.3.107). Because the driver is older than the ptxas version, XLA is disabling parallel compilation, which may slow down compilation. You should update your NVIDIA driver or use the NVIDIA-provided CUDA forward compatibility packages.\n"
     ]
    }
   ],
   "source": [
    "A_train, b_train, u_exact_train, bi_edges_train, nodes_train, edges_train, receivers_train, senders_train = dataset_LLT(grid, N_samples, seed=42)\n",
    "A_test, b_test, u_exact_test, bi_edges_test, nodes_test, edges_test, receivers_test, senders_test = dataset_LLT(grid, 4, seed=43)"
   ]
  },
  {
   "cell_type": "code",
   "execution_count": 5,
   "id": "56b7d9e0",
   "metadata": {},
   "outputs": [],
   "source": [
    "seed = 42\n",
    "NodeEncoder = FullyConnectedNet(features=[1, 16, 16], N_layers=2, key=random.PRNGKey(seed))\n",
    "EdgeEncoder = FullyConnectedNet(features=[1, 16, 16], N_layers=2, key=random.PRNGKey(seed))\n",
    "EdgeDecoder = FullyConnectedNet(features=[16, 16, 1], N_layers=2, key=random.PRNGKey(seed))\n",
    "\n",
    "mp_rounds = 5\n",
    "MessagePass = MessagePassing(\n",
    "    update_edge_fn = FullyConnectedNet(features=[48, 16, 16], N_layers=2, key=random.PRNGKey(seed)),    \n",
    "    update_node_fn = FullyConnectedNet(features=[48, 16, 16], N_layers=2, key=random.PRNGKey(seed)),\n",
    "    mp_rounds=mp_rounds\n",
    ")\n",
    "\n",
    "model = PrecNet(NodeEncoder=NodeEncoder, EdgeEncoder=EdgeEncoder, \n",
    "                EdgeDecoder=EdgeDecoder, MessagePass=MessagePass)"
   ]
  },
  {
   "cell_type": "code",
   "execution_count": 6,
   "id": "68b512cb",
   "metadata": {
    "collapsed": true,
    "jupyter": {
     "outputs_hidden": true
    }
   },
   "outputs": [
    {
     "data": {
      "application/vnd.jupyter.widget-view+json": {
       "model_id": "e8a2dda7d6cb49e7bb1e7de271ddec08",
       "version_major": 2,
       "version_minor": 0
      },
      "text/plain": [
       "  0%|          | 0/100 [00:00<?, ?it/s]"
      ]
     },
     "metadata": {},
     "output_type": "display_data"
    },
    {
     "name": "stdout",
     "output_type": "stream",
     "text": [
      "Epoch: 0, train loss: 451859.71875, test loss:212144.578125\n",
      "Epoch: 1, train loss: 369349.9375, test loss:178501.21875\n",
      "Epoch: 2, train loss: 310762.84375, test loss:151652.625\n",
      "Epoch: 3, train loss: 264140.125, test loss:129914.515625\n",
      "Epoch: 4, train loss: 226308.21875, test loss:110428.25\n",
      "Epoch: 5, train loss: 192369.328125, test loss:92875.390625\n",
      "Epoch: 6, train loss: 161823.203125, test loss:77105.328125\n",
      "Epoch: 7, train loss: 134368.375, test loss:63085.76171875\n",
      "Epoch: 8, train loss: 109952.2890625, test loss:50917.55859375\n",
      "Epoch: 9, train loss: 88755.2421875, test loss:40310.21875\n",
      "Epoch: 10, train loss: 70275.953125, test loss:31198.216796875\n",
      "Epoch: 11, train loss: 54400.265625, test loss:23504.44921875\n",
      "Epoch: 12, train loss: 40993.90625, test loss:17130.529296875\n",
      "Epoch: 13, train loss: 29886.005859375, test loss:12259.498046875\n",
      "Epoch: 14, train loss: 21403.640625, test loss:9263.623046875\n",
      "Epoch: 15, train loss: 16179.890625, test loss:6787.37353515625\n",
      "Epoch: 16, train loss: 11860.484375, test loss:4211.6865234375\n",
      "Epoch: 17, train loss: 7358.99951171875, test loss:2213.90625\n",
      "Epoch: 18, train loss: 3869.9931640625, test loss:835.1503295898438\n",
      "Epoch: 19, train loss: 1453.905029296875, test loss:204.19813537597656\n",
      "Epoch: 20, train loss: 340.13299560546875, test loss:125.4000015258789\n",
      "Epoch: 21, train loss: 189.31524658203125, test loss:261.9520263671875\n",
      "Epoch: 22, train loss: 417.1412048339844, test loss:381.76751708984375\n",
      "Epoch: 23, train loss: 620.52587890625, test loss:390.98870849609375\n",
      "Epoch: 24, train loss: 636.123291015625, test loss:292.7078857421875\n",
      "Epoch: 25, train loss: 469.23577880859375, test loss:166.41488647460938\n",
      "Epoch: 26, train loss: 258.0806579589844, test loss:155.03350830078125\n",
      "Epoch: 27, train loss: 251.4849090576172, test loss:423.32928466796875\n",
      "Epoch: 28, train loss: 734.6605224609375, test loss:865.723388671875\n",
      "Epoch: 29, train loss: 1518.0478515625, test loss:1035.408935546875\n",
      "Epoch: 30, train loss: 1817.1629638671875, test loss:786.9779052734375\n",
      "Epoch: 31, train loss: 1378.39013671875, test loss:423.8375244140625\n",
      "Epoch: 32, train loss: 735.1988525390625, test loss:197.6387939453125\n",
      "Epoch: 33, train loss: 329.84710693359375, test loss:133.2484893798828\n",
      "Epoch: 34, train loss: 208.127197265625, test loss:159.31544494628906\n",
      "Epoch: 35, train loss: 246.4259796142578, test loss:211.09994506835938\n",
      "Epoch: 36, train loss: 331.8934631347656, test loss:258.88372802734375\n",
      "Epoch: 37, train loss: 412.07525634765625, test loss:295.0809326171875\n",
      "Epoch: 38, train loss: 473.17669677734375, test loss:320.47296142578125\n",
      "Epoch: 39, train loss: 516.1807861328125, test loss:337.53973388671875\n",
      "Epoch: 40, train loss: 545.139892578125, test loss:348.66558837890625\n",
      "Epoch: 41, train loss: 564.033203125, test loss:355.61663818359375\n",
      "Epoch: 42, train loss: 575.844482421875, test loss:359.44287109375\n",
      "Epoch: 43, train loss: 582.359130859375, test loss:361.8661804199219\n",
      "Epoch: 44, train loss: 586.4880981445312, test loss:362.55963134765625\n",
      "Epoch: 45, train loss: 587.7063598632812, test loss:362.16845703125\n",
      "Epoch: 46, train loss: 587.0297241210938, test loss:360.0738525390625\n",
      "Epoch: 47, train loss: 583.469482421875, test loss:356.3631286621094\n",
      "Epoch: 48, train loss: 577.15283203125, test loss:350.8367614746094\n",
      "Epoch: 49, train loss: 567.7495727539062, test loss:343.2989196777344\n",
      "Epoch: 50, train loss: 554.9310913085938, test loss:333.4833068847656\n",
      "Epoch: 51, train loss: 538.2506103515625, test loss:321.07733154296875\n",
      "Epoch: 52, train loss: 517.1888427734375, test loss:305.7646179199219\n",
      "Epoch: 53, train loss: 491.227294921875, test loss:287.30108642578125\n",
      "Epoch: 54, train loss: 459.9789733886719, test loss:265.59637451171875\n",
      "Epoch: 55, train loss: 423.3238525390625, test loss:240.9085693359375\n",
      "Epoch: 56, train loss: 381.759033203125, test loss:214.08407592773438\n",
      "Epoch: 57, train loss: 336.80242919921875, test loss:186.81930541992188\n",
      "Epoch: 58, train loss: 291.4427795410156, test loss:161.8470916748047\n",
      "Epoch: 59, train loss: 250.447509765625, test loss:142.78256225585938\n",
      "Epoch: 60, train loss: 220.07398986816406, test loss:133.35543823242188\n",
      "Epoch: 61, train loss: 206.7081298828125, test loss:135.66879272460938\n",
      "Epoch: 62, train loss: 213.79531860351562, test loss:148.01925659179688\n",
      "Epoch: 63, train loss: 238.07321166992188, test loss:164.1233673095703\n",
      "Epoch: 64, train loss: 268.24285888671875, test loss:175.46604919433594\n",
      "Epoch: 65, train loss: 289.1777648925781, test loss:176.26341247558594\n",
      "Epoch: 66, train loss: 290.6459045410156, test loss:166.95925903320312\n",
      "Epoch: 67, train loss: 273.5, test loss:153.06532287597656\n",
      "Epoch: 68, train loss: 247.61863708496094, test loss:140.87152099609375\n",
      "Epoch: 69, train loss: 224.30470275878906, test loss:134.0340576171875\n",
      "Epoch: 70, train loss: 210.23733520507812, test loss:132.9645538330078\n",
      "Epoch: 71, train loss: 206.3710174560547, test loss:136.0418701171875\n",
      "Epoch: 72, train loss: 210.02163696289062, test loss:141.04727172851562\n",
      "Epoch: 73, train loss: 217.38616943359375, test loss:146.08489990234375\n",
      "Epoch: 74, train loss: 225.17855834960938, test loss:149.872802734375\n",
      "Epoch: 75, train loss: 231.1555938720703, test loss:151.743408203125\n",
      "Epoch: 76, train loss: 234.1318359375, test loss:151.5305633544922\n",
      "Epoch: 77, train loss: 233.7910614013672, test loss:149.451416015625\n",
      "Epoch: 78, train loss: 230.48313903808594, test loss:146.0090789794922\n",
      "Epoch: 79, train loss: 225.053466796875, test loss:141.90286254882812\n",
      "Epoch: 80, train loss: 218.68344116210938, test loss:137.922607421875\n",
      "Epoch: 81, train loss: 212.702392578125, test loss:134.804443359375\n",
      "Epoch: 82, train loss: 208.33258056640625, test loss:133.05426025390625\n",
      "Epoch: 83, train loss: 206.3807373046875, test loss:132.78738403320312\n",
      "Epoch: 84, train loss: 206.96128845214844, test loss:133.6664276123047\n",
      "Epoch: 85, train loss: 209.39578247070312, test loss:135.0081787109375\n",
      "Epoch: 86, train loss: 212.41390991210938, test loss:136.06333923339844\n",
      "Epoch: 87, train loss: 214.65103149414062, test loss:136.33346557617188\n",
      "Epoch: 88, train loss: 215.21331787109375, test loss:135.75558471679688\n",
      "Epoch: 89, train loss: 214.00692749023438, test loss:134.66065979003906\n",
      "Epoch: 90, train loss: 211.65975952148438, test loss:133.5501251220703\n",
      "Epoch: 91, train loss: 209.12066650390625, test loss:132.84738159179688\n",
      "Epoch: 92, train loss: 207.20883178710938, test loss:132.7427520751953\n",
      "Epoch: 93, train loss: 206.33218383789062, test loss:133.1781463623047\n",
      "Epoch: 94, train loss: 206.45367431640625, test loss:133.93032836914062\n",
      "Epoch: 95, train loss: 207.2313690185547, test loss:134.72213745117188\n",
      "Epoch: 96, train loss: 208.21258544921875, test loss:135.31524658203125\n",
      "Epoch: 97, train loss: 208.9972686767578, test loss:135.56475830078125\n",
      "Epoch: 98, train loss: 209.33547973632812, test loss:135.43643188476562\n",
      "Epoch: 99, train loss: 209.1599578857422, test loss:134.99478149414062\n"
     ]
    }
   ],
   "source": [
    "X_train = (nodes_train, edges_train, receivers_train, senders_train, bi_edges_train, u_exact_train, b_train)\n",
    "X_test = (nodes_test, edges_test, receivers_test, senders_test, bi_edges_test, u_exact_test, b_test)\n",
    "data = (X_train, X_test, jnp.array([1]), jnp.array([1]))\n",
    "\n",
    "train_config = {'optimizer': optax.adamw, 'lr': 1e-3,\n",
    "                'optim_params': {'weight_decay': 1e-4}, \n",
    "                'epoch_num': 100}\n",
    "model, losses = train(model, data, train_config, compute_loss_LLT)"
   ]
  },
  {
   "cell_type": "code",
   "execution_count": 7,
   "id": "e658e49f",
   "metadata": {},
   "outputs": [
    {
     "data": {
      "image/png": "[encoded data removed]",
      "text/plain": [
       "<Figure size 640x480 with 1 Axes>"
      ]
     },
     "metadata": {},
     "output_type": "display_data"
    }
   ],
   "source": [
    "import matplotlib.pyplot as plt\n",
    "\n",
    "plt.plot(range(losses.shape[0]), losses[:, 0], label='Train')\n",
    "plt.plot(range(losses.shape[0]), losses[:, 1], label='Test')\n",
    "plt.legend();\n",
    "plt.yscale('log')"
   ]
  },
  {
   "cell_type": "code",
   "execution_count": null,
   "id": "34c3ad66",
   "metadata": {},
   "outputs": [],
   "source": []
  }
 ],
 "metadata": {
  "kernelspec": {
   "display_name": "Python 3 (ipykernel)",
   "language": "python",
   "name": "python3"
  },
  "language_info": {
   "codemirror_mode": {
    "name": "ipython",
    "version": 3
   },
   "file_extension": ".py",
   "mimetype": "text/x-python",
   "name": "python",
   "nbconvert_exporter": "python",
   "pygments_lexer": "ipython3",
   "version": "3.10.6"
  }
 },
 "nbformat": 4,
 "nbformat_minor": 5
}
