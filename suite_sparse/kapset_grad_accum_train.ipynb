{
 "cells": [
  {
   "cell_type": "code",
   "execution_count": 1,
   "id": "124fa44d",
   "metadata": {},
   "outputs": [],
   "source": [
    "import warnings\n",
    "import sys\n",
    "import os\n",
    "\n",
    "warnings.filterwarnings('ignore')\n",
    "os.environ[\"CUDA_VISIBLE_DEVICES\"] = '1'\n",
    "os.environ['XLA_PYTHON_CLIENT_MEM_FRACTION'] = '.95'\n",
    "os.environ['JAX_ENABLE_X64'] = 'False'\n",
    "sys.path.append('/mnt/local/data/vtrifonov/prec-learning-Notay-loss/')"
   ]
  },
  {
   "cell_type": "code",
   "execution_count": 2,
   "id": "065174f4",
   "metadata": {},
   "outputs": [],
   "source": [
    "import jax.numpy as jnp\n",
    "from jax import random, vmap, clear_caches, jit\n",
    "import jax.experimental.sparse as jsparse\n",
    "import numpy as np\n",
    "\n",
    "import optax\n",
    "from equinox.nn import Conv1d\n",
    "import matplotlib.pyplot as plt\n",
    "from functools import partial\n",
    "from time import perf_counter\n",
    "import cloudpickle\n",
    "\n",
    "from model import MessagePassing, FullyConnectedNet\n",
    "from utils import params_count, asses_cond, iter_per_residual, batch_indices\n",
    "from data.graph_utils import direc_graph_from_linear_system_sparse\n",
    "\n",
    "from suite_sparse.naive_training import naive_train, dataset_subset_accum_grad\n",
    "from suite_sparse.suitesparse_utils import KAPORIN_SUSBET, get_kaporin_subset, kapset_msize\n",
    "from suite_sparse.suitesparse_utils import CorrectionNetKapSet\n",
    "\n",
    "plt.rcParams['figure.figsize'] = (11, 7)"
   ]
  },
  {
   "cell_type": "markdown",
   "id": "b06c4385",
   "metadata": {},
   "source": [
    "# Train/retrain/overwrite"
   ]
  },
  {
   "cell_type": "code",
   "execution_count": 3,
   "id": "7d8eb0d0",
   "metadata": {},
   "outputs": [],
   "source": [
    "save_path = '/mnt/local/data/vtrifonov/prec-learning-Notay-loss/trained_models/'\n",
    "model_name = 'div_k_grad_128_0.7_ilu0_llt_loss_1000epoch' # 'check_grad_accum_training'\n",
    "load_model = True\n",
    "train_model = True\n",
    "save_model = False"
   ]
  },
  {
   "cell_type": "markdown",
   "id": "4803b994",
   "metadata": {},
   "source": [
    "# Setup experiment"
   ]
  },
  {
   "cell_type": "code",
   "execution_count": 4,
   "id": "8e8bdace",
   "metadata": {},
   "outputs": [
    {
     "name": "stdout",
     "output_type": "stream",
     "text": [
      "8\n"
     ]
    }
   ],
   "source": [
    "mat_set_suitesparse = kapset_msize(1e5)[:8]  #KAPORIN_SUSBET\n",
    "print(len(mat_set_suitesparse))\n",
    "prec_type = 'load_pymatting'"
   ]
  },
  {
   "cell_type": "code",
   "execution_count": 5,
   "id": "28d21ed4",
   "metadata": {},
   "outputs": [
    {
     "name": "stderr",
     "output_type": "stream",
     "text": [
      "2024-11-23 07:08:49.168727: W external/xla/xla/service/gpu/nvptx_compiler.cc:760] The NVIDIA driver's CUDA version is 12.4 which is older than the ptxas CUDA version (12.5.40). Because the driver is older than the ptxas version, XLA is disabling parallel compilation, which may slow down compilation. You should update your NVIDIA driver or use the NVIDIA-provided CUDA forward compatibility packages.\n"
     ]
    }
   ],
   "source": [
    "with_cond = False\n",
    "layer_ = Conv1d\n",
    "alpha = jnp.array([0.])"
   ]
  },
  {
   "cell_type": "code",
   "execution_count": 23,
   "id": "368bf39a",
   "metadata": {},
   "outputs": [],
   "source": [
    "batch_size = 2\n",
    "epoch_num = 2\n",
    "lr = 1e-3\n",
    "schedule_params = None #[1700, 2001, 300, 1e-1]    # [start, stop, step, decay_size]"
   ]
  },
  {
   "cell_type": "code",
   "execution_count": 24,
   "id": "cccd9c30",
   "metadata": {},
   "outputs": [],
   "source": [
    "if schedule_params != None:\n",
    "    assert len(schedule_params) == 4\n",
    "    \n",
    "    start, stop, step, decay_size = schedule_params\n",
    "    steps_per_batch = N_train // batch_size\n",
    "    start, stop, step = start*steps_per_batch, stop*steps_per_batch, step*steps_per_batch\n",
    "    lr = optax.piecewise_constant_schedule(\n",
    "        lr,\n",
    "        {k: v for k, v in zip(np.arange(start, stop, step), [decay_size, ] * len(jnp.arange(start, stop, step)))}\n",
    "    )"
   ]
  },
  {
   "cell_type": "code",
   "execution_count": 6,
   "id": "f445b774",
   "metadata": {},
   "outputs": [],
   "source": [
    "model_config = {\n",
    "    'node_enc': {\n",
    "        'features': [1, 16, 16],\n",
    "        'N_layers': 2,\n",
    "        'layer_': layer_\n",
    "    },\n",
    "    'edge_enc': {\n",
    "        'features': [1, 16, 16],\n",
    "        'N_layers': 2,\n",
    "        'layer_': layer_\n",
    "    },\n",
    "    'edge_dec': {\n",
    "        'features': [16, 16, 1],\n",
    "        'N_layers': 2,\n",
    "        'layer_': layer_\n",
    "    },\n",
    "    'mp': {\n",
    "        'edge_upd': {\n",
    "            'features': [48, 16, 16],\n",
    "            'N_layers': 2,\n",
    "            'layer_': layer_\n",
    "        },\n",
    "        'node_upd': {\n",
    "            'features': [32, 16, 16],\n",
    "            'N_layers': 2,\n",
    "            'layer_': layer_\n",
    "        },\n",
    "        'mp_rounds': 5\n",
    "    }\n",
    "}"
   ]
  },
  {
   "cell_type": "markdown",
   "id": "49b31ea2",
   "metadata": {},
   "source": [
    "# Make dataset"
   ]
  },
  {
   "cell_type": "code",
   "execution_count": 26,
   "id": "9bbea244",
   "metadata": {},
   "outputs": [
    {
     "name": "stdout",
     "output_type": "stream",
     "text": [
      "Loading and decomposition: bodyy6, bcsstk18, bcsstk25, cvxbqp1, bcsstk17, gridgena, apache1, Pres_Poisson, \n",
      "  Loading is done\n",
      "Data time: 0.785\n"
     ]
    }
   ],
   "source": [
    "s1 = perf_counter()\n",
    "A, A_pad, b, x = dataset_subset_accum_grad(mat_set=mat_set_suitesparse, prec_type=prec_type)\n",
    "\n",
    "data_t = perf_counter() - s1\n",
    "print(f\"Data time: {data_t:.3f}\")"
   ]
  },
  {
   "cell_type": "code",
   "execution_count": 27,
   "id": "a1985865",
   "metadata": {},
   "outputs": [
    {
     "data": {
      "text/plain": [
       "<Compressed Sparse Row sparse matrix of dtype 'float64'\n",
       "\twith 134208 stored elements and shape (19366, 19366)>"
      ]
     },
     "execution_count": 27,
     "metadata": {},
     "output_type": "execute_result"
    }
   ],
   "source": [
    "A[0]"
   ]
  },
  {
   "cell_type": "code",
   "execution_count": 28,
   "id": "d8ca1fbe",
   "metadata": {},
   "outputs": [
    {
     "data": {
      "text/plain": [
       "BCOO(float32[19366, 19366], nse=97034)"
      ]
     },
     "execution_count": 28,
     "metadata": {},
     "output_type": "execute_result"
    }
   ],
   "source": [
    "A_pad[0]"
   ]
  },
  {
   "cell_type": "code",
   "execution_count": 29,
   "id": "6e0a00ee",
   "metadata": {},
   "outputs": [
    {
     "data": {
      "text/plain": [
       "dtype('float32')"
      ]
     },
     "execution_count": 29,
     "metadata": {},
     "output_type": "execute_result"
    }
   ],
   "source": [
    "A_pad[0].data.dtype"
   ]
  },
  {
   "cell_type": "markdown",
   "id": "716cdb0b",
   "metadata": {},
   "source": [
    "# Train model"
   ]
  },
  {
   "cell_type": "code",
   "execution_count": 7,
   "id": "d492b41f",
   "metadata": {},
   "outputs": [
    {
     "name": "stdout",
     "output_type": "stream",
     "text": [
      "Parameter number: 2754\n"
     ]
    }
   ],
   "source": [
    "seed = 42\n",
    "NodeEncoder = FullyConnectedNet(**model_config['node_enc'], key=random.PRNGKey(seed))\n",
    "EdgeEncoder = FullyConnectedNet(**model_config['edge_enc'], key=random.PRNGKey(seed))\n",
    "EdgeDecoder = FullyConnectedNet(**model_config['edge_dec'], key=random.PRNGKey(seed))\n",
    "\n",
    "MessagePass = MessagePassing(\n",
    "    update_edge_fn = FullyConnectedNet(**model_config['mp']['edge_upd'], key=random.PRNGKey(seed)),    \n",
    "    update_node_fn = FullyConnectedNet(**model_config['mp']['node_upd'], key=random.PRNGKey(seed)),\n",
    "    mp_rounds=model_config['mp']['mp_rounds']\n",
    ")\n",
    "\n",
    "model = CorrectionNetKapSet(NodeEncoder=NodeEncoder, EdgeEncoder=EdgeEncoder, \n",
    "                EdgeDecoder=EdgeDecoder, MessagePass=MessagePass, alpha=alpha)\n",
    "print(f'Parameter number: {params_count(model)}')"
   ]
  },
  {
   "cell_type": "code",
   "execution_count": 31,
   "id": "a12cec97",
   "metadata": {},
   "outputs": [],
   "source": [
    "# data = (X_train, X_test, y_train, y_test)\n",
    "data = (\n",
    "    [A_pad, b, x],\n",
    "    [A_pad, b, x]\n",
    ")\n",
    "train_config = {\n",
    "    'optimizer': optax.adam,\n",
    "    'lr': lr,\n",
    "    'optim_params': {},#{'weight_decay': 1e-8}, \n",
    "    'epoch_num': epoch_num,\n",
    "    'batch_size': batch_size,\n",
    "}"
   ]
  },
  {
   "cell_type": "code",
   "execution_count": 32,
   "id": "f1d75a70",
   "metadata": {},
   "outputs": [
    {
     "name": "stdout",
     "output_type": "stream",
     "text": [
      "Epoch 0\n",
      " Batch 0\n",
      " Batch 1\n",
      " Batch 2\n",
      " Batch 3\n",
      "Epoch 1\n",
      " Batch 0\n",
      " Batch 1\n",
      " Batch 2\n",
      " Batch 3\n"
     ]
    }
   ],
   "source": [
    "if load_model:\n",
    "    with open(save_path + model_name + '.pkl', 'rb') as f:\n",
    "        model = cloudpickle.load(f)\n",
    "        \n",
    "if train_model:\n",
    "    s = perf_counter()\n",
    "    model, losses = naive_train(model, data, train_config, grad_accum_batch=True)\n",
    "    dt = perf_counter() - s\n",
    "    \n",
    "else:\n",
    "    losses, dt = [np.nan], np.nan\n",
    "    \n",
    "if save_model:\n",
    "    with open(save_path + model_name + '.pkl', 'wb') as f:\n",
    "        cloudpickle.dump(model, f)"
   ]
  },
  {
   "cell_type": "code",
   "execution_count": 34,
   "id": "aca11891",
   "metadata": {},
   "outputs": [
    {
     "name": "stdout",
     "output_type": "stream",
     "text": [
      "[Array(nan, dtype=float32), Array(nan, dtype=float32)]\n"
     ]
    },
    {
     "data": {
      "image/png": "[encoded data removed]",
      "text/plain": [
       "<Figure size 1100x700 with 1 Axes>"
      ]
     },
     "metadata": {},
     "output_type": "display_data"
    }
   ],
   "source": [
    "print(losses)\n",
    "plt.plot(range(len(losses)), losses)\n",
    "plt.yscale('log');"
   ]
  },
  {
   "cell_type": "markdown",
   "id": "7b86fcb1",
   "metadata": {},
   "source": [
    "## Check loss"
   ]
  },
  {
   "cell_type": "code",
   "execution_count": null,
   "id": "1805bd9c",
   "metadata": {},
   "outputs": [],
   "source": [
    "# jnp.square(jnp.linalg.norm(L @ (L.T @ x) - b, ord=2))"
   ]
  },
  {
   "cell_type": "code",
   "execution_count": null,
   "id": "44880bb9",
   "metadata": {},
   "outputs": [],
   "source": [
    "A_pad[0][None, ...]"
   ]
  },
  {
   "cell_type": "code",
   "execution_count": null,
   "id": "7e5a2b0b",
   "metadata": {},
   "outputs": [],
   "source": [
    "from data.graph_utils import graph_to_low_tri_mat_sparse, graph_tril\n",
    "\n",
    "nodes, edges, receivers, senders, _ = direc_graph_from_linear_system_sparse(A_pad[0][None, ...], b[0][None, ...])\n",
    "nodes, edges, receivers, senders = graph_tril(nodes, edges[0, ...], receivers[0, ...], senders[0, ...])\n",
    "low_tri = graph_to_low_tri_mat_sparse(nodes, edges, receivers, senders)"
   ]
  },
  {
   "cell_type": "code",
   "execution_count": 19,
   "id": "1c53fee3",
   "metadata": {},
   "outputs": [
    {
     "data": {
      "text/plain": [
       "BCOO(float32[19366, 19366], nse=76787)"
      ]
     },
     "execution_count": 19,
     "metadata": {},
     "output_type": "execute_result"
    }
   ],
   "source": [
    "low_tri"
   ]
  },
  {
   "cell_type": "code",
   "execution_count": 29,
   "id": "a164bd8d",
   "metadata": {},
   "outputs": [
    {
     "data": {
      "text/plain": [
       "Array(3.1366928e+08, dtype=float32)"
      ]
     },
     "execution_count": 29,
     "metadata": {},
     "output_type": "execute_result"
    }
   ],
   "source": [
    "from loss.llt_loss import llt_loss\n",
    "llt_loss(low_tri, x[0], b[0])"
   ]
  },
  {
   "cell_type": "code",
   "execution_count": 30,
   "id": "19a39592",
   "metadata": {},
   "outputs": [],
   "source": [
    "def compute_loss(model, A_pad, b, x):\n",
    "    nodes, edges, receivers, senders, _ = direc_graph_from_linear_system_sparse(A_pad, b)\n",
    "    print([arr.shape for arr in (nodes, edges, receivers, senders)])\n",
    "    L = vmap(model, in_axes=(0), out_axes=(0))((nodes, edges, receivers, senders))\n",
    "    print([arr.shape for arr in (L, x, b)])\n",
    "    loss = vmap(llt_loss, in_axes=(0, 0, 0), out_axes=(0))(L, x, b)\n",
    "    return L, loss[0, ...]"
   ]
  },
  {
   "cell_type": "code",
   "execution_count": 32,
   "id": "7f13dd4e",
   "metadata": {},
   "outputs": [
    {
     "name": "stdout",
     "output_type": "stream",
     "text": [
      "[(1, 19366), (1, 134208), (1, 134208), (1, 134208)]\n",
      "[(1, 19366, 19366), (1, 19366), (1, 19366)]\n"
     ]
    },
    {
     "data": {
      "text/plain": [
       "Array(nan, dtype=float32)"
      ]
     },
     "execution_count": 32,
     "metadata": {},
     "output_type": "execute_result"
    }
   ],
   "source": [
    "L, loss = compute_loss(model, A_pad[0][None, ...], b[0][None, ...], x[0][None, ...])\n",
    "loss"
   ]
  },
  {
   "cell_type": "code",
   "execution_count": 35,
   "id": "26187d39",
   "metadata": {},
   "outputs": [
    {
     "data": {
      "text/plain": [
       "BCOO(float32[1, 19366, 19366], nse=76787, n_batch=1)"
      ]
     },
     "metadata": {},
     "output_type": "display_data"
    },
    {
     "data": {
      "text/plain": [
       "Array(nan, dtype=float32)"
      ]
     },
     "execution_count": 35,
     "metadata": {},
     "output_type": "execute_result"
    }
   ],
   "source": [
    "display(L)\n",
    "llt_loss(L[0, ...], x[0], b[0])"
   ]
  },
  {
   "cell_type": "code",
   "execution_count": 36,
   "id": "3ea13e6b",
   "metadata": {},
   "outputs": [],
   "source": [
    "from utils import jBCOO_to_scipyCSR"
   ]
  },
  {
   "cell_type": "code",
   "execution_count": 57,
   "id": "b02f8a63",
   "metadata": {},
   "outputs": [
    {
     "ename": "TypeError",
     "evalue": "NumPy boolean array indexing assignment requires a 0 or 1-dimensional input, input has 2 dimensions",
     "output_type": "error",
     "traceback": [
      "\u001b[0;31m---------------------------------------------------------------------------\u001b[0m",
      "\u001b[0;31mTypeError\u001b[0m                                 Traceback (most recent call last)",
      "Cell \u001b[0;32mIn[57], line 1\u001b[0m\n\u001b[0;32m----> 1\u001b[0m \u001b[43mnp\u001b[49m\u001b[38;5;241;43m.\u001b[39;49m\u001b[43mallclose\u001b[49m\u001b[43m(\u001b[49m\u001b[43mL_nn_dense\u001b[49m\u001b[43m,\u001b[49m\u001b[43m \u001b[49m\u001b[43mL_init_dense\u001b[49m\u001b[43m)\u001b[49m\n",
      "File \u001b[0;32m/usr/local/lib/python3.10/dist-packages/numpy/core/numeric.py:2241\u001b[0m, in \u001b[0;36mallclose\u001b[0;34m(a, b, rtol, atol, equal_nan)\u001b[0m\n\u001b[1;32m   2170\u001b[0m \u001b[38;5;129m@array_function_dispatch\u001b[39m(_allclose_dispatcher)\n\u001b[1;32m   2171\u001b[0m \u001b[38;5;28;01mdef\u001b[39;00m \u001b[38;5;21mallclose\u001b[39m(a, b, rtol\u001b[38;5;241m=\u001b[39m\u001b[38;5;241m1.e-5\u001b[39m, atol\u001b[38;5;241m=\u001b[39m\u001b[38;5;241m1.e-8\u001b[39m, equal_nan\u001b[38;5;241m=\u001b[39m\u001b[38;5;28;01mFalse\u001b[39;00m):\n\u001b[1;32m   2172\u001b[0m \u001b[38;5;250m    \u001b[39m\u001b[38;5;124;03m\"\"\"\u001b[39;00m\n\u001b[1;32m   2173\u001b[0m \u001b[38;5;124;03m    Returns True if two arrays are element-wise equal within a tolerance.\u001b[39;00m\n\u001b[1;32m   2174\u001b[0m \n\u001b[0;32m   (...)\u001b[0m\n\u001b[1;32m   2239\u001b[0m \n\u001b[1;32m   2240\u001b[0m \u001b[38;5;124;03m    \"\"\"\u001b[39;00m\n\u001b[0;32m-> 2241\u001b[0m     res \u001b[38;5;241m=\u001b[39m \u001b[38;5;28mall\u001b[39m(\u001b[43misclose\u001b[49m\u001b[43m(\u001b[49m\u001b[43ma\u001b[49m\u001b[43m,\u001b[49m\u001b[43m \u001b[49m\u001b[43mb\u001b[49m\u001b[43m,\u001b[49m\u001b[43m \u001b[49m\u001b[43mrtol\u001b[49m\u001b[38;5;241;43m=\u001b[39;49m\u001b[43mrtol\u001b[49m\u001b[43m,\u001b[49m\u001b[43m \u001b[49m\u001b[43matol\u001b[49m\u001b[38;5;241;43m=\u001b[39;49m\u001b[43matol\u001b[49m\u001b[43m,\u001b[49m\u001b[43m \u001b[49m\u001b[43mequal_nan\u001b[49m\u001b[38;5;241;43m=\u001b[39;49m\u001b[43mequal_nan\u001b[49m\u001b[43m)\u001b[49m)\n\u001b[1;32m   2242\u001b[0m     \u001b[38;5;28;01mreturn\u001b[39;00m \u001b[38;5;28mbool\u001b[39m(res)\n",
      "File \u001b[0;32m/usr/local/lib/python3.10/dist-packages/numpy/core/numeric.py:2361\u001b[0m, in \u001b[0;36misclose\u001b[0;34m(a, b, rtol, atol, equal_nan)\u001b[0m\n\u001b[1;32m   2359\u001b[0m y \u001b[38;5;241m=\u001b[39m y \u001b[38;5;241m*\u001b[39m ones_like(cond)\n\u001b[1;32m   2360\u001b[0m \u001b[38;5;66;03m# Avoid subtraction with infinite/nan values...\u001b[39;00m\n\u001b[0;32m-> 2361\u001b[0m \u001b[43mcond\u001b[49m\u001b[43m[\u001b[49m\u001b[43mfinite\u001b[49m\u001b[43m]\u001b[49m \u001b[38;5;241m=\u001b[39m within_tol(x[finite], y[finite], atol, rtol)\n\u001b[1;32m   2362\u001b[0m \u001b[38;5;66;03m# Check for equality of infinite values...\u001b[39;00m\n\u001b[1;32m   2363\u001b[0m cond[\u001b[38;5;241m~\u001b[39mfinite] \u001b[38;5;241m=\u001b[39m (x[\u001b[38;5;241m~\u001b[39mfinite] \u001b[38;5;241m==\u001b[39m y[\u001b[38;5;241m~\u001b[39mfinite])\n",
      "\u001b[0;31mTypeError\u001b[0m: NumPy boolean array indexing assignment requires a 0 or 1-dimensional input, input has 2 dimensions"
     ]
    }
   ],
   "source": [
    "np.allclose(L_nn_dense, L_init_dense)"
   ]
  },
  {
   "cell_type": "code",
   "execution_count": 61,
   "id": "860e617a",
   "metadata": {},
   "outputs": [],
   "source": [
    "L_nn = jBCOO_to_scipyCSR(L[0, ...])\n",
    "L_init = jBCOO_to_scipyCSR(low_tri)\n",
    "\n",
    "L_nn_dense = L_nn.todense()\n",
    "L_init_dense = L_init.todense()\n",
    "\n",
    "b_ = np.asarray(b[0][None, ...])\n",
    "x_ = np.asarray(x[0][None, ...])"
   ]
  },
  {
   "cell_type": "code",
   "execution_count": 70,
   "id": "37e971e1",
   "metadata": {},
   "outputs": [
    {
     "data": {
      "text/plain": [
       "7038"
      ]
     },
     "execution_count": 70,
     "metadata": {},
     "output_type": "execute_result"
    }
   ],
   "source": [
    "np.sum(np.isnan(L_nn_dense).astype(np.int32))"
   ]
  },
  {
   "cell_type": "code",
   "execution_count": 63,
   "id": "86d80ab3",
   "metadata": {},
   "outputs": [
    {
     "ename": "TypeError",
     "evalue": "NumPy boolean array indexing assignment requires a 0 or 1-dimensional input, input has 2 dimensions",
     "output_type": "error",
     "traceback": [
      "\u001b[0;31m---------------------------------------------------------------------------\u001b[0m",
      "\u001b[0;31mTypeError\u001b[0m                                 Traceback (most recent call last)",
      "Cell \u001b[0;32mIn[63], line 1\u001b[0m\n\u001b[0;32m----> 1\u001b[0m \u001b[43mnp\u001b[49m\u001b[38;5;241;43m.\u001b[39;49m\u001b[43mallclose\u001b[49m\u001b[43m(\u001b[49m\u001b[43mL_nn_dense\u001b[49m\u001b[43m,\u001b[49m\u001b[43m \u001b[49m\u001b[43mL_init_dense\u001b[49m\u001b[43m)\u001b[49m\n",
      "File \u001b[0;32m/usr/local/lib/python3.10/dist-packages/numpy/core/numeric.py:2241\u001b[0m, in \u001b[0;36mallclose\u001b[0;34m(a, b, rtol, atol, equal_nan)\u001b[0m\n\u001b[1;32m   2170\u001b[0m \u001b[38;5;129m@array_function_dispatch\u001b[39m(_allclose_dispatcher)\n\u001b[1;32m   2171\u001b[0m \u001b[38;5;28;01mdef\u001b[39;00m \u001b[38;5;21mallclose\u001b[39m(a, b, rtol\u001b[38;5;241m=\u001b[39m\u001b[38;5;241m1.e-5\u001b[39m, atol\u001b[38;5;241m=\u001b[39m\u001b[38;5;241m1.e-8\u001b[39m, equal_nan\u001b[38;5;241m=\u001b[39m\u001b[38;5;28;01mFalse\u001b[39;00m):\n\u001b[1;32m   2172\u001b[0m \u001b[38;5;250m    \u001b[39m\u001b[38;5;124;03m\"\"\"\u001b[39;00m\n\u001b[1;32m   2173\u001b[0m \u001b[38;5;124;03m    Returns True if two arrays are element-wise equal within a tolerance.\u001b[39;00m\n\u001b[1;32m   2174\u001b[0m \n\u001b[0;32m   (...)\u001b[0m\n\u001b[1;32m   2239\u001b[0m \n\u001b[1;32m   2240\u001b[0m \u001b[38;5;124;03m    \"\"\"\u001b[39;00m\n\u001b[0;32m-> 2241\u001b[0m     res \u001b[38;5;241m=\u001b[39m \u001b[38;5;28mall\u001b[39m(\u001b[43misclose\u001b[49m\u001b[43m(\u001b[49m\u001b[43ma\u001b[49m\u001b[43m,\u001b[49m\u001b[43m \u001b[49m\u001b[43mb\u001b[49m\u001b[43m,\u001b[49m\u001b[43m \u001b[49m\u001b[43mrtol\u001b[49m\u001b[38;5;241;43m=\u001b[39;49m\u001b[43mrtol\u001b[49m\u001b[43m,\u001b[49m\u001b[43m \u001b[49m\u001b[43matol\u001b[49m\u001b[38;5;241;43m=\u001b[39;49m\u001b[43matol\u001b[49m\u001b[43m,\u001b[49m\u001b[43m \u001b[49m\u001b[43mequal_nan\u001b[49m\u001b[38;5;241;43m=\u001b[39;49m\u001b[43mequal_nan\u001b[49m\u001b[43m)\u001b[49m)\n\u001b[1;32m   2242\u001b[0m     \u001b[38;5;28;01mreturn\u001b[39;00m \u001b[38;5;28mbool\u001b[39m(res)\n",
      "File \u001b[0;32m/usr/local/lib/python3.10/dist-packages/numpy/core/numeric.py:2361\u001b[0m, in \u001b[0;36misclose\u001b[0;34m(a, b, rtol, atol, equal_nan)\u001b[0m\n\u001b[1;32m   2359\u001b[0m y \u001b[38;5;241m=\u001b[39m y \u001b[38;5;241m*\u001b[39m ones_like(cond)\n\u001b[1;32m   2360\u001b[0m \u001b[38;5;66;03m# Avoid subtraction with infinite/nan values...\u001b[39;00m\n\u001b[0;32m-> 2361\u001b[0m \u001b[43mcond\u001b[49m\u001b[43m[\u001b[49m\u001b[43mfinite\u001b[49m\u001b[43m]\u001b[49m \u001b[38;5;241m=\u001b[39m within_tol(x[finite], y[finite], atol, rtol)\n\u001b[1;32m   2362\u001b[0m \u001b[38;5;66;03m# Check for equality of infinite values...\u001b[39;00m\n\u001b[1;32m   2363\u001b[0m cond[\u001b[38;5;241m~\u001b[39mfinite] \u001b[38;5;241m=\u001b[39m (x[\u001b[38;5;241m~\u001b[39mfinite] \u001b[38;5;241m==\u001b[39m y[\u001b[38;5;241m~\u001b[39mfinite])\n",
      "\u001b[0;31mTypeError\u001b[0m: NumPy boolean array indexing assignment requires a 0 or 1-dimensional input, input has 2 dimensions"
     ]
    }
   ],
   "source": [
    "np.allclose(L_nn_dense, L_init_dense)"
   ]
  },
  {
   "cell_type": "code",
   "execution_count": null,
   "id": "d22fbabc",
   "metadata": {},
   "outputs": [],
   "source": []
  },
  {
   "cell_type": "code",
   "execution_count": 49,
   "id": "ad24a8f6",
   "metadata": {},
   "outputs": [
    {
     "data": {
      "text/plain": [
       "<matplotlib.image.AxesImage at 0x7f353079d8d0>"
      ]
     },
     "execution_count": 49,
     "metadata": {},
     "output_type": "execute_result"
    },
    {
     "data": {
      "image/png": "[encoded data removed]",
      "text/plain": [
       "<Figure size 1100x700 with 1 Axes>"
      ]
     },
     "metadata": {},
     "output_type": "display_data"
    }
   ],
   "source": [
    "l = L_nn[500:600, 500:600]\n",
    "l.data = l.data * 0 + 1\n",
    "plt.imshow(l.todense())"
   ]
  },
  {
   "cell_type": "code",
   "execution_count": 50,
   "id": "e1452dad",
   "metadata": {},
   "outputs": [
    {
     "data": {
      "text/plain": [
       "<matplotlib.image.AxesImage at 0x7f353062d1e0>"
      ]
     },
     "execution_count": 50,
     "metadata": {},
     "output_type": "execute_result"
    },
    {
     "data": {
      "image/png": "[encoded data removed]",
      "text/plain": [
       "<Figure size 1100x700 with 1 Axes>"
      ]
     },
     "metadata": {},
     "output_type": "display_data"
    }
   ],
   "source": [
    "l = L_init[500:600, 500:600]\n",
    "l.data = l.data * 0 + 1\n",
    "plt.imshow(l.todense())"
   ]
  },
  {
   "cell_type": "code",
   "execution_count": null,
   "id": "edd4a816",
   "metadata": {},
   "outputs": [],
   "source": []
  },
  {
   "cell_type": "code",
   "execution_count": null,
   "id": "a065322b",
   "metadata": {},
   "outputs": [],
   "source": []
  },
  {
   "cell_type": "code",
   "execution_count": null,
   "id": "a0646114",
   "metadata": {},
   "outputs": [],
   "source": []
  },
  {
   "cell_type": "markdown",
   "id": "fa1bbb2b",
   "metadata": {},
   "source": [
    "----"
   ]
  },
  {
   "cell_type": "code",
   "execution_count": 13,
   "id": "13b0e14f",
   "metadata": {},
   "outputs": [
    {
     "data": {
      "text/plain": [
       "22.566232109442353"
      ]
     },
     "execution_count": 13,
     "metadata": {},
     "output_type": "execute_result"
    }
   ],
   "source": [
    "dt"
   ]
  },
  {
   "cell_type": "code",
   "execution_count": 27,
   "id": "69e43b13",
   "metadata": {},
   "outputs": [
    {
     "name": "stdout",
     "output_type": "stream",
     "text": [
      "alpha:"
     ]
    },
    {
     "data": {
      "text/plain": [
       "Array([0.], dtype=float32)"
      ]
     },
     "execution_count": 27,
     "metadata": {},
     "output_type": "execute_result"
    }
   ],
   "source": [
    "print('alpha:', end='')\n",
    "model.alpha"
   ]
  },
  {
   "cell_type": "code",
   "execution_count": 15,
   "id": "e806c2b1",
   "metadata": {},
   "outputs": [
    {
     "ename": "TypeError",
     "evalue": "len() of unsized object",
     "output_type": "error",
     "traceback": [
      "\u001b[0;31m---------------------------------------------------------------------------\u001b[0m",
      "\u001b[0;31mIndexError\u001b[0m                                Traceback (most recent call last)",
      "File \u001b[0;32m/usr/local/lib/python3.10/dist-packages/jax/_src/array.py:254\u001b[0m, in \u001b[0;36mArrayImpl.__len__\u001b[0;34m(self)\u001b[0m\n\u001b[1;32m    253\u001b[0m \u001b[38;5;28;01mtry\u001b[39;00m:\n\u001b[0;32m--> 254\u001b[0m   \u001b[38;5;28;01mreturn\u001b[39;00m \u001b[38;5;28;43mself\u001b[39;49m\u001b[38;5;241;43m.\u001b[39;49m\u001b[43mshape\u001b[49m\u001b[43m[\u001b[49m\u001b[38;5;241;43m0\u001b[39;49m\u001b[43m]\u001b[49m\n\u001b[1;32m    255\u001b[0m \u001b[38;5;28;01mexcept\u001b[39;00m \u001b[38;5;167;01mIndexError\u001b[39;00m \u001b[38;5;28;01mas\u001b[39;00m err:\n",
      "\u001b[0;31mIndexError\u001b[0m: tuple index out of range",
      "\nThe above exception was the direct cause of the following exception:\n",
      "\u001b[0;31mTypeError\u001b[0m                                 Traceback (most recent call last)",
      "Cell \u001b[0;32mIn[15], line 3\u001b[0m\n\u001b[1;32m      1\u001b[0m _, axes \u001b[38;5;241m=\u001b[39m plt\u001b[38;5;241m.\u001b[39msubplots(\u001b[38;5;241m1\u001b[39m, \u001b[38;5;241m2\u001b[39m, figsize\u001b[38;5;241m=\u001b[39m(\u001b[38;5;241m15\u001b[39m, \u001b[38;5;241m5\u001b[39m))\n\u001b[0;32m----> 3\u001b[0m axes[\u001b[38;5;241m0\u001b[39m]\u001b[38;5;241m.\u001b[39mplot(\u001b[38;5;28mrange\u001b[39m(\u001b[38;5;28;43mlen\u001b[39;49m\u001b[43m(\u001b[49m\u001b[43mlosses\u001b[49m\u001b[43m[\u001b[49m\u001b[38;5;241;43m0\u001b[39;49m\u001b[43m]\u001b[49m\u001b[43m)\u001b[49m), losses[\u001b[38;5;241m1\u001b[39m], label\u001b[38;5;241m=\u001b[39m\u001b[38;5;124m'\u001b[39m\u001b[38;5;124mTest\u001b[39m\u001b[38;5;124m'\u001b[39m)\n\u001b[1;32m      4\u001b[0m axes[\u001b[38;5;241m0\u001b[39m]\u001b[38;5;241m.\u001b[39mplot(\u001b[38;5;28mrange\u001b[39m(\u001b[38;5;28mlen\u001b[39m(losses[\u001b[38;5;241m0\u001b[39m])), losses[\u001b[38;5;241m0\u001b[39m], label\u001b[38;5;241m=\u001b[39m\u001b[38;5;124m'\u001b[39m\u001b[38;5;124mTrain\u001b[39m\u001b[38;5;124m'\u001b[39m)\n\u001b[1;32m      5\u001b[0m axes[\u001b[38;5;241m0\u001b[39m]\u001b[38;5;241m.\u001b[39mlegend()\n",
      "File \u001b[0;32m/usr/local/lib/python3.10/dist-packages/jax/_src/array.py:256\u001b[0m, in \u001b[0;36mArrayImpl.__len__\u001b[0;34m(self)\u001b[0m\n\u001b[1;32m    254\u001b[0m   \u001b[38;5;28;01mreturn\u001b[39;00m \u001b[38;5;28mself\u001b[39m\u001b[38;5;241m.\u001b[39mshape[\u001b[38;5;241m0\u001b[39m]\n\u001b[1;32m    255\u001b[0m \u001b[38;5;28;01mexcept\u001b[39;00m \u001b[38;5;167;01mIndexError\u001b[39;00m \u001b[38;5;28;01mas\u001b[39;00m err:\n\u001b[0;32m--> 256\u001b[0m   \u001b[38;5;28;01mraise\u001b[39;00m \u001b[38;5;167;01mTypeError\u001b[39;00m(\u001b[38;5;124m\"\u001b[39m\u001b[38;5;124mlen() of unsized object\u001b[39m\u001b[38;5;124m\"\u001b[39m) \u001b[38;5;28;01mfrom\u001b[39;00m \u001b[38;5;21;01merr\u001b[39;00m\n",
      "\u001b[0;31mTypeError\u001b[0m: len() of unsized object"
     ]
    },
    {
     "data": {
      "image/png": "[encoded data removed]",
      "text/plain": [
       "<Figure size 1500x500 with 2 Axes>"
      ]
     },
     "metadata": {},
     "output_type": "display_data"
    }
   ],
   "source": [
    "_, axes = plt.subplots(1, 2, figsize=(15, 5))\n",
    "\n",
    "axes[0].plot(range(len(losses[0])), losses[1], label='Test')\n",
    "axes[0].plot(range(len(losses[0])), losses[0], label='Train')\n",
    "axes[0].legend()\n",
    "axes[0].set_yscale('log')\n",
    "axes[0].set_xlabel('Epoch')\n",
    "axes[0].set_ylabel('Loss');\n",
    "axes[0].grid();\n",
    "\n",
    "axes[1].plot(range(len(losses[0])), losses[2], label='Test')\n",
    "axes[1].legend()\n",
    "axes[1].set_yscale('log')\n",
    "axes[1].set_xlabel('Epoch')\n",
    "axes[1].set_ylabel('Cond of $P^{-1}A$')\n",
    "axes[1].grid();\n",
    "\n",
    "plt.tight_layout()\n",
    "\n",
    "print(f'Final values\\n  train loss: {losses[0][-1]:.4f}\\n   test loss: {losses[1][-1]:.4f}\\n    LLT cond: {losses[2][-1]:.0f}')\n",
    "print(f'\\nMinimim test loss `{jnp.min(losses[1]).item():.4f}` at epoch `{jnp.argmin(losses[1]).item():.0f}`')\n",
    "print(f'\\nMinimim test P^(-1)A cond `{jnp.min(losses[2]).item():.0f}` at epoch `{jnp.argmin(losses[2]).item():.0f}`')"
   ]
  },
  {
   "cell_type": "markdown",
   "id": "2eeb3043",
   "metadata": {},
   "source": [
    "## Forward call time"
   ]
  },
  {
   "cell_type": "code",
   "execution_count": 16,
   "id": "f5ead798",
   "metadata": {},
   "outputs": [],
   "source": [
    "from linsolve.scipy_linsolve import batched_cg_scipy, make_Chol_prec_from_bcoo, cg_scipy\n",
    "from utils import jBCOO_to_scipyCSR\n",
    "\n",
    "import scipy.sparse.linalg as sci_sp_linalg\n",
    "import scipy.linalg as sci_linalg"
   ]
  },
  {
   "cell_type": "code",
   "execution_count": 20,
   "id": "f1a68d01",
   "metadata": {},
   "outputs": [],
   "source": [
    "b = vmap(jsparse.sparsify(lambda A_, x_: A_ @ x_), in_axes=(0, 0), out_axes=(0))(A_pad, jnp.ones(A_pad.shape[0:2])\n",
    "\n",
    "\n",
    "(A_pad, jnp.ones(X[1]))\n",
    "nodes, edges, receivers, senders, _ = direc_graph_from_linear_system_sparse(A_pad, b)\n",
    "\n",
    "L = vmap(model, in_axes=((0, 0, 0, 0)), out_axes=(0))((nodes, edges, receivers, senders))\n",
    "# del model, data, A_train, A_pad_train, b_train, u_exact_train, bi_edges_train, bi_edges_test\n",
    "# clear_caches()"
   ]
  },
  {
   "cell_type": "code",
   "execution_count": 21,
   "id": "34bc9cd2",
   "metadata": {},
   "outputs": [],
   "source": [
    "P = make_Chol_prec_from_bcoo(L)\n",
    "_, iters_mean, iters_std, time_mean, time_std = batched_cg_scipy(A_test, b_test, P=P, atol=1e-12, maxiter=N_valid_CG)"
   ]
  },
  {
   "cell_type": "code",
   "execution_count": 22,
   "id": "ba856d2f",
   "metadata": {},
   "outputs": [
    {
     "name": "stdout",
     "output_type": "stream",
     "text": [
      "iters\n"
     ]
    },
    {
     "data": {
      "text/plain": [
       "[39.1, 51.085, 62.505, 73.85]"
      ]
     },
     "metadata": {},
     "output_type": "display_data"
    },
    {
     "data": {
      "text/plain": [
       "[1.104536101718726, 1.2719178432587537, 1.5264255632031325, 1.6393596310755]"
      ]
     },
     "execution_count": 22,
     "metadata": {},
     "output_type": "execute_result"
    }
   ],
   "source": [
    "print('iters')\n",
    "display(iters_mean)\n",
    "iters_std"
   ]
  },
  {
   "cell_type": "code",
   "execution_count": null,
   "id": "077c8714",
   "metadata": {},
   "outputs": [],
   "source": []
  },
  {
   "cell_type": "code",
   "execution_count": 23,
   "id": "50440433",
   "metadata": {},
   "outputs": [
    {
     "name": "stdout",
     "output_type": "stream",
     "text": [
      "Final values\n",
      "  train loss: 398.0046\n",
      "   test loss: 406.1051\n",
      "    LLT cond: 1\n",
      "\n",
      "Minimim test loss `394.2991` at epoch `994`\n",
      "\n",
      "Minimim test P^(-1)A cond `1` at epoch `0`\n"
     ]
    },
    {
     "data": {
      "image/png": "[encoded data removed]",
      "text/plain": [
       "<Figure size 1500x500 with 2 Axes>"
      ]
     },
     "metadata": {},
     "output_type": "display_data"
    }
   ],
   "source": [
    "_, axes = plt.subplots(1, 2, figsize=(15, 5))\n",
    "\n",
    "axes[0].plot(range(len(losses[0])), losses[1], label='Test')\n",
    "axes[0].plot(range(len(losses[0])), losses[0], label='Train')\n",
    "axes[0].legend()\n",
    "axes[0].set_yscale('log')\n",
    "axes[0].set_xlabel('Epoch')\n",
    "axes[0].set_ylabel('Loss');\n",
    "axes[0].grid();\n",
    "\n",
    "axes[1].plot(range(len(losses[0])), losses[2], label='Test')\n",
    "axes[1].legend()\n",
    "axes[1].set_yscale('log')\n",
    "axes[1].set_xlabel('Epoch')\n",
    "axes[1].set_ylabel('Cond of $P^{-1}A$')\n",
    "axes[1].grid();\n",
    "\n",
    "plt.tight_layout()\n",
    "\n",
    "print(f'Final values\\n  train loss: {losses[0][-1]:.4f}\\n   test loss: {losses[1][-1]:.4f}\\n    LLT cond: {losses[2][-1]:.0f}')\n",
    "print(f'\\nMinimim test loss `{jnp.min(losses[1]).item():.4f}` at epoch `{jnp.argmin(losses[1]).item():.0f}`')\n",
    "print(f'\\nMinimim test P^(-1)A cond `{jnp.min(losses[2]).item():.0f}` at epoch `{jnp.argmin(losses[2]).item():.0f}`')"
   ]
  },
  {
   "cell_type": "markdown",
   "id": "10ea9712",
   "metadata": {},
   "source": [
    "# Apply model to CG"
   ]
  },
  {
   "cell_type": "code",
   "execution_count": 22,
   "id": "c39cd2d7",
   "metadata": {},
   "outputs": [],
   "source": [
    "from linsolve.scipy_linsolve import batched_cg_scipy, make_Chol_prec_from_bcoo, cg_scipy\n",
    "from utils import jBCOO_to_scipyCSR\n",
    "\n",
    "import scipy.sparse.linalg as sci_sp_linalg\n",
    "import scipy.linalg as sci_linalg"
   ]
  },
  {
   "cell_type": "code",
   "execution_count": 23,
   "id": "f0ac020e",
   "metadata": {},
   "outputs": [],
   "source": [
    "P = make_Chol_prec_from_bcoo(L)"
   ]
  },
  {
   "cell_type": "code",
   "execution_count": 24,
   "id": "db92bcc1",
   "metadata": {},
   "outputs": [],
   "source": [
    "_, iters_mean, iters_std, time_mean, time_std = batched_cg_scipy(A_test, b_test, P=P, atol=1e-12, maxiter=N_valid_CG)"
   ]
  },
  {
   "cell_type": "code",
   "execution_count": 25,
   "id": "100b58b1",
   "metadata": {},
   "outputs": [
    {
     "name": "stdout",
     "output_type": "stream",
     "text": [
      "iters\n"
     ]
    },
    {
     "data": {
      "text/plain": [
       "[122.91, 155.29, 181.715, 204.38]"
      ]
     },
     "metadata": {},
     "output_type": "display_data"
    },
    {
     "data": {
      "text/plain": [
       "[4.95599636803741, 5.165839718767899, 5.301299369022655, 5.524092685681514]"
      ]
     },
     "execution_count": 25,
     "metadata": {},
     "output_type": "execute_result"
    }
   ],
   "source": [
    "print('iters')\n",
    "display(iters_mean)\n",
    "iters_std"
   ]
  },
  {
   "cell_type": "code",
   "execution_count": 26,
   "id": "d932e2af",
   "metadata": {},
   "outputs": [
    {
     "name": "stdout",
     "output_type": "stream",
     "text": [
      "time\n"
     ]
    },
    {
     "data": {
      "text/plain": [
       "[0.27288701000623405,\n",
       " 0.34374198608100415,\n",
       " 0.4013962604943663,\n",
       " 0.4508980005607009]"
      ]
     },
     "metadata": {},
     "output_type": "display_data"
    },
    {
     "data": {
      "text/plain": [
       "[0.01772112880748365,\n",
       " 0.02130081274863664,\n",
       " 0.023533461086636096,\n",
       " 0.02582814137454491]"
      ]
     },
     "execution_count": 26,
     "metadata": {},
     "output_type": "execute_result"
    }
   ],
   "source": [
    "print('time')\n",
    "display(time_mean)\n",
    "time_std"
   ]
  },
  {
   "cell_type": "code",
   "execution_count": 27,
   "id": "4612cc13",
   "metadata": {},
   "outputs": [
    {
     "name": "stdout",
     "output_type": "stream",
     "text": [
      " A, L and P are combined\n",
      " A and P are inverted\n",
      " Eigenvalues are calculated\n",
      " Norms are calculated\n",
      " All done\n",
      "  cond = 570.76399, lambda_min = 0.00329, lambda_max = 1.88014\n",
      "  loss = 312938.03237, lambda_max_bound = 91.80746\n",
      "  lambda_min_bound = 0.00176, lambda_min_long_bound = 0.00178\n"
     ]
    }
   ],
   "source": [
    "i = 0\n",
    "A_i = jBCOO_to_scipyCSR(A_test[i, ...]).todense(order='C')\n",
    "L_i = jBCOO_to_scipyCSR(L[i, ...])\n",
    "P_i = (L_i @ L_i.T).todense(order='C')\n",
    "print(' A, L and P are combined')\n",
    "\n",
    "Pinv_i = sci_linalg.inv(P_i)\n",
    "Ainv_i = sci_linalg.inv(A_i)\n",
    "print(' A and P are inverted')\n",
    "\n",
    "Pinv_A_i = Pinv_i @ A_i\n",
    "\n",
    "eigen_i = np.abs(sci_linalg.eigvals(Pinv_A_i))\n",
    "eigen_min_i = np.min(eigen_i)\n",
    "eigen_max_i = np.max(eigen_i)\n",
    "cond_i = eigen_max_i / eigen_min_i\n",
    "print(' Eigenvalues are calculated')\n",
    "\n",
    "\n",
    "P_Ainv_i = P_i @ Ainv_i\n",
    "sqrt_loss = np.linalg.norm(P_Ainv_i - np.eye(P_i.shape[0]), ord='fro')\n",
    "loss_i = np.square(sqrt_loss)\n",
    "min_bound_i = 1 / (np.linalg.norm(P_Ainv_i, ord='fro'))\n",
    "min_bound_long_i = 1 / (sqrt_loss + 1)\n",
    "max_bound_i = np.linalg.norm(A_i - P_i, ord=2) * np.linalg.norm(Pinv_i, ord=2) + 1\n",
    "print(' Norms are calculated')\n",
    "\n",
    "# cond.append(cond_i)\n",
    "# lambda_min.append(eigen_min_i)\n",
    "# lambda_max.append(eigen_max_i)\n",
    "# loss.append(loss_i)\n",
    "# lambda_max_bound.append(max_bound_i)\n",
    "# lambda_min_bound.append(min_bound_i)\n",
    "# lambda_min_long_bound.append(min_bound_long_i)\n",
    "print(' All done')\n",
    "print(f'  cond = {cond_i:.5f}, lambda_min = {eigen_min_i:.5f}, lambda_max = {eigen_max_i:.5f}')\n",
    "print(f'  loss = {loss_i:.5f}, lambda_max_bound = {max_bound_i:.5f}')\n",
    "print(f'  lambda_min_bound = {min_bound_i:.5f}, lambda_min_long_bound = {min_bound_long_i:.5f}')"
   ]
  },
  {
   "cell_type": "code",
   "execution_count": 28,
   "id": "6425088f",
   "metadata": {},
   "outputs": [],
   "source": [
    "eigen_i.sort()"
   ]
  },
  {
   "cell_type": "code",
   "execution_count": 32,
   "id": "095e54f0",
   "metadata": {},
   "outputs": [
    {
     "data": {
      "text/plain": [
       "[<matplotlib.lines.Line2D at 0x7f52ec464ee0>]"
      ]
     },
     "execution_count": 32,
     "metadata": {},
     "output_type": "execute_result"
    },
    {
     "data": {
      "image/png": "[encoded data removed]",
      "text/plain": [
       "<Figure size 1100x700 with 1 Axes>"
      ]
     },
     "metadata": {},
     "output_type": "display_data"
    }
   ],
   "source": [
    "plt.semilogy(eigen_i[::-1])"
   ]
  },
  {
   "cell_type": "code",
   "execution_count": 33,
   "id": "d7e8fdf5",
   "metadata": {},
   "outputs": [],
   "source": [
    "np.savez('/mnt/local/data/vtrifonov/prec-learning-Notay-loss/experiments/for_media_iclr/naive_loss_div_k_grad_64_0.7_ilu0___all_spectrum.npz', eigen_values=eigen_i)\n"
   ]
  },
  {
   "cell_type": "markdown",
   "id": "88479df9",
   "metadata": {},
   "source": [
    "# Spectrum w/ PreCorrecrtor"
   ]
  },
  {
   "cell_type": "code",
   "execution_count": 43,
   "id": "a45d8575",
   "metadata": {
    "collapsed": true,
    "jupyter": {
     "outputs_hidden": true
    }
   },
   "outputs": [
    {
     "name": "stdout",
     "output_type": "stream",
     "text": [
      "1\n",
      " A, L and P are combined\n",
      " A and P are inverted\n",
      " Eigenvalues are calculated\n",
      " Norms are calculated\n",
      " All done\n",
      "  cond = 131.24338, lambda_min = 0.15369, lambda_max = 20.17122\n",
      "  loss = 1706.49053, lambda_max_bound = 4402.34414\n",
      "  lambda_min_bound = 0.00829, lambda_min_long_bound = 0.02364\n",
      "2\n",
      " A, L and P are combined\n",
      " A and P are inverted\n",
      " Eigenvalues are calculated\n",
      " Norms are calculated\n",
      " All done\n",
      "  cond = 177.82838, lambda_min = 0.12098, lambda_max = 21.51283\n",
      "  loss = 1761.81278, lambda_max_bound = 4289.11751\n",
      "  lambda_min_bound = 0.00822, lambda_min_long_bound = 0.02327\n",
      "3\n",
      " A, L and P are combined\n",
      " A and P are inverted\n",
      " Eigenvalues are calculated\n",
      " Norms are calculated\n",
      " All done\n",
      "  cond = 93.24665, lambda_min = 0.22720, lambda_max = 21.18580\n",
      "  loss = 1755.87698, lambda_max_bound = 4426.08225\n",
      "  lambda_min_bound = 0.00840, lambda_min_long_bound = 0.02331\n",
      "4\n",
      " A, L and P are combined\n",
      " A and P are inverted\n",
      " Eigenvalues are calculated\n",
      " Norms are calculated\n",
      " All done\n",
      "  cond = 98.03062, lambda_min = 0.22059, lambda_max = 21.62421\n",
      "  loss = 1745.97701, lambda_max_bound = 4615.74773\n",
      "  lambda_min_bound = 0.00839, lambda_min_long_bound = 0.02337\n",
      "5\n",
      " A, L and P are combined\n",
      " A and P are inverted\n",
      " Eigenvalues are calculated\n",
      " Norms are calculated\n",
      " All done\n",
      "  cond = 142.28935, lambda_min = 0.13177, lambda_max = 18.74962\n",
      "  loss = 1709.50948, lambda_max_bound = 4274.83558\n",
      "  lambda_min_bound = 0.00825, lambda_min_long_bound = 0.02361\n",
      "6\n",
      " A, L and P are combined\n",
      " A and P are inverted\n",
      " Eigenvalues are calculated\n",
      " Norms are calculated\n",
      " All done\n",
      "  cond = 133.01298, lambda_min = 0.12987, lambda_max = 17.27445\n",
      "  loss = 1790.17930, lambda_max_bound = 3960.52087\n",
      "  lambda_min_bound = 0.00824, lambda_min_long_bound = 0.02309\n",
      "7\n",
      " A, L and P are combined\n",
      " A and P are inverted\n",
      " Eigenvalues are calculated\n",
      " Norms are calculated\n",
      " All done\n",
      "  cond = 92.11078, lambda_min = 0.23222, lambda_max = 21.39040\n",
      "  loss = 1768.57062, lambda_max_bound = 4223.33410\n",
      "  lambda_min_bound = 0.00843, lambda_min_long_bound = 0.02323\n",
      "8\n",
      " A, L and P are combined\n",
      " A and P are inverted\n",
      " Eigenvalues are calculated\n",
      " Norms are calculated\n",
      " All done\n",
      "  cond = 172.90504, lambda_min = 0.10307, lambda_max = 17.82164\n",
      "  loss = 1762.40739, lambda_max_bound = 4070.47972\n",
      "  lambda_min_bound = 0.00817, lambda_min_long_bound = 0.02327\n",
      "9\n",
      " A, L and P are combined\n",
      " A and P are inverted\n",
      " Eigenvalues are calculated\n",
      " Norms are calculated\n",
      " All done\n",
      "  cond = 111.28062, lambda_min = 0.11102, lambda_max = 12.35478\n",
      "  loss = 1718.80379, lambda_max_bound = 4079.41636\n",
      "  lambda_min_bound = 0.00819, lambda_min_long_bound = 0.02355\n",
      "10\n",
      " A, L and P are combined\n",
      " A and P are inverted\n",
      " Eigenvalues are calculated\n",
      " Norms are calculated\n",
      " All done\n",
      "  cond = 73.92465, lambda_min = 0.27704, lambda_max = 20.47979\n",
      "  loss = 1784.30369, lambda_max_bound = 4094.07463\n",
      "  lambda_min_bound = 0.00848, lambda_min_long_bound = 0.02313\n",
      "11\n",
      " A, L and P are combined\n",
      " A and P are inverted\n",
      " Eigenvalues are calculated\n",
      " Norms are calculated\n",
      " All done\n",
      "  cond = 175.02144, lambda_min = 0.09357, lambda_max = 16.37655\n",
      "  loss = 1790.95317, lambda_max_bound = 4174.55219\n",
      "  lambda_min_bound = 0.00815, lambda_min_long_bound = 0.02308\n",
      "12\n",
      " A, L and P are combined\n",
      " A and P are inverted\n",
      " Eigenvalues are calculated\n",
      " Norms are calculated\n",
      " All done\n",
      "  cond = 155.34146, lambda_min = 0.10890, lambda_max = 16.91627\n",
      "  loss = 1757.10181, lambda_max_bound = 4170.60223\n",
      "  lambda_min_bound = 0.00819, lambda_min_long_bound = 0.02330\n",
      "13\n",
      " A, L and P are combined\n",
      " A and P are inverted\n",
      " Eigenvalues are calculated\n",
      " Norms are calculated\n",
      " All done\n",
      "  cond = 159.15163, lambda_min = 0.11829, lambda_max = 18.82592\n",
      "  loss = 1775.28511, lambda_max_bound = 4168.52415\n",
      "  lambda_min_bound = 0.00821, lambda_min_long_bound = 0.02318\n",
      "14\n",
      " A, L and P are combined\n",
      " A and P are inverted\n",
      " Eigenvalues are calculated\n",
      " Norms are calculated\n",
      " All done\n",
      "  cond = 92.90124, lambda_min = 0.13039, lambda_max = 12.11344\n",
      "  loss = 1718.46792, lambda_max_bound = 3459.92253\n",
      "  lambda_min_bound = 0.00824, lambda_min_long_bound = 0.02355\n",
      "15\n",
      " A, L and P are combined\n",
      " A and P are inverted\n",
      " Eigenvalues are calculated\n",
      " Norms are calculated\n",
      " All done\n",
      "  cond = 100.92463, lambda_min = 0.19272, lambda_max = 19.45042\n",
      "  loss = 1731.77923, lambda_max_bound = 4334.73731\n",
      "  lambda_min_bound = 0.00835, lambda_min_long_bound = 0.02347\n",
      "16\n",
      " A, L and P are combined\n",
      " A and P are inverted\n",
      " Eigenvalues are calculated\n",
      " Norms are calculated\n",
      " All done\n",
      "  cond = 163.06244, lambda_min = 0.13385, lambda_max = 21.82618\n",
      "  loss = 1805.21603, lambda_max_bound = 4240.29439\n",
      "  lambda_min_bound = 0.00825, lambda_min_long_bound = 0.02299\n",
      "17\n",
      " A, L and P are combined\n",
      " A and P are inverted\n",
      " Eigenvalues are calculated\n",
      " Norms are calculated\n",
      " All done\n",
      "  cond = 163.70299, lambda_min = 0.13733, lambda_max = 22.48136\n",
      "  loss = 1753.24359, lambda_max_bound = 4367.39479\n",
      "  lambda_min_bound = 0.00826, lambda_min_long_bound = 0.02333\n",
      "18\n",
      " A, L and P are combined\n",
      " A and P are inverted\n",
      " Eigenvalues are calculated\n",
      " Norms are calculated\n",
      " All done\n",
      "  cond = 135.43942, lambda_min = 0.13373, lambda_max = 18.11237\n",
      "  loss = 1729.33950, lambda_max_bound = 4323.40647\n",
      "  lambda_min_bound = 0.00825, lambda_min_long_bound = 0.02348\n",
      "19\n",
      " A, L and P are combined\n",
      " A and P are inverted\n",
      " Eigenvalues are calculated\n",
      " Norms are calculated\n",
      " All done\n",
      "  cond = 141.60716, lambda_min = 0.10194, lambda_max = 14.43540\n",
      "  loss = 1790.05783, lambda_max_bound = 4504.54539\n",
      "  lambda_min_bound = 0.00820, lambda_min_long_bound = 0.02309\n",
      "20\n",
      " A, L and P are combined\n",
      " A and P are inverted\n",
      " Eigenvalues are calculated\n",
      " Norms are calculated\n",
      " All done\n",
      "  cond = 104.85071, lambda_min = 0.15256, lambda_max = 15.99572\n",
      "  loss = 1709.42750, lambda_max_bound = 4247.64930\n",
      "  lambda_min_bound = 0.00831, lambda_min_long_bound = 0.02362\n",
      "21\n",
      " A, L and P are combined\n",
      " A and P are inverted\n",
      " Eigenvalues are calculated\n",
      " Norms are calculated\n",
      " All done\n",
      "  cond = 123.30962, lambda_min = 0.13406, lambda_max = 16.53045\n",
      "  loss = 1716.20820, lambda_max_bound = 4153.83983\n",
      "  lambda_min_bound = 0.00824, lambda_min_long_bound = 0.02357\n",
      "22\n",
      " A, L and P are combined\n",
      " A and P are inverted\n",
      " Eigenvalues are calculated\n",
      " Norms are calculated\n",
      " All done\n",
      "  cond = 120.39143, lambda_min = 0.14824, lambda_max = 17.84629\n",
      "  loss = 1739.26036, lambda_max_bound = 4011.92869\n",
      "  lambda_min_bound = 0.00828, lambda_min_long_bound = 0.02342\n",
      "23\n",
      " A, L and P are combined\n",
      " A and P are inverted\n",
      " Eigenvalues are calculated\n",
      " Norms are calculated\n",
      " All done\n",
      "  cond = 115.93997, lambda_min = 0.16296, lambda_max = 18.89346\n",
      "  loss = 1745.71908, lambda_max_bound = 4123.14079\n",
      "  lambda_min_bound = 0.00830, lambda_min_long_bound = 0.02337\n",
      "24\n",
      " A, L and P are combined\n",
      " A and P are inverted\n",
      " Eigenvalues are calculated\n",
      " Norms are calculated\n",
      " All done\n",
      "  cond = 110.93232, lambda_min = 0.15780, lambda_max = 17.50487\n",
      "  loss = 1725.62097, lambda_max_bound = 4283.81361\n",
      "  lambda_min_bound = 0.00831, lambda_min_long_bound = 0.02351\n",
      "25\n",
      " A, L and P are combined\n",
      " A and P are inverted\n",
      " Eigenvalues are calculated\n",
      " Norms are calculated\n",
      " All done\n",
      "  cond = 85.84704, lambda_min = 0.22540, lambda_max = 19.35013\n",
      "  loss = 1741.62642, lambda_max_bound = 4255.01514\n",
      "  lambda_min_bound = 0.00842, lambda_min_long_bound = 0.02340\n",
      "26\n",
      " A, L and P are combined\n",
      " A and P are inverted\n",
      " Eigenvalues are calculated\n",
      " Norms are calculated\n",
      " All done\n",
      "  cond = 84.39095, lambda_min = 0.25408, lambda_max = 21.44237\n",
      "  loss = 1751.69196, lambda_max_bound = 4073.76255\n",
      "  lambda_min_bound = 0.00844, lambda_min_long_bound = 0.02334\n",
      "27\n",
      " A, L and P are combined\n",
      " A and P are inverted\n",
      " Eigenvalues are calculated\n",
      " Norms are calculated\n",
      " All done\n",
      "  cond = 103.18053, lambda_min = 0.16168, lambda_max = 16.68206\n",
      "  loss = 1734.55119, lambda_max_bound = 4063.99985\n",
      "  lambda_min_bound = 0.00829, lambda_min_long_bound = 0.02345\n",
      "28\n",
      " A, L and P are combined\n",
      " A and P are inverted\n",
      " Eigenvalues are calculated\n",
      " Norms are calculated\n",
      " All done\n",
      "  cond = 113.57142, lambda_min = 0.15572, lambda_max = 17.68482\n",
      "  loss = 1761.27364, lambda_max_bound = 4222.20193\n",
      "  lambda_min_bound = 0.00828, lambda_min_long_bound = 0.02327\n",
      "29\n",
      " A, L and P are combined\n",
      " A and P are inverted\n",
      " Eigenvalues are calculated\n",
      " Norms are calculated\n",
      " All done\n",
      "  cond = 110.36810, lambda_min = 0.17067, lambda_max = 18.83705\n",
      "  loss = 1725.84947, lambda_max_bound = 4292.28925\n",
      "  lambda_min_bound = 0.00832, lambda_min_long_bound = 0.02351\n",
      "30\n",
      " A, L and P are combined\n",
      " A and P are inverted\n",
      " Eigenvalues are calculated\n",
      " Norms are calculated\n",
      " All done\n",
      "  cond = 139.40905, lambda_min = 0.10370, lambda_max = 14.45705\n",
      "  loss = 1748.61665, lambda_max_bound = 3634.25593\n",
      "  lambda_min_bound = 0.00819, lambda_min_long_bound = 0.02336\n",
      "31\n",
      " A, L and P are combined\n",
      " A and P are inverted\n",
      " Eigenvalues are calculated\n",
      " Norms are calculated\n",
      " All done\n",
      "  cond = 113.31043, lambda_min = 0.19400, lambda_max = 21.98274\n",
      "  loss = 1747.59395, lambda_max_bound = 4481.88320\n",
      "  lambda_min_bound = 0.00835, lambda_min_long_bound = 0.02336\n",
      "32\n",
      " A, L and P are combined\n",
      " A and P are inverted\n",
      " Eigenvalues are calculated\n",
      " Norms are calculated\n",
      " All done\n",
      "  cond = 123.32256, lambda_min = 0.13387, lambda_max = 16.50895\n",
      "  loss = 1713.15830, lambda_max_bound = 4169.86371\n",
      "  lambda_min_bound = 0.00826, lambda_min_long_bound = 0.02359\n",
      "33\n",
      " A, L and P are combined\n",
      " A and P are inverted\n",
      " Eigenvalues are calculated\n",
      " Norms are calculated\n",
      " All done\n",
      "  cond = 86.64674, lambda_min = 0.18972, lambda_max = 16.43870\n",
      "  loss = 1793.86462, lambda_max_bound = 4436.67448\n",
      "  lambda_min_bound = 0.00838, lambda_min_long_bound = 0.02307\n",
      "34\n",
      " A, L and P are combined\n",
      " A and P are inverted\n",
      " Eigenvalues are calculated\n",
      " Norms are calculated\n",
      " All done\n",
      "  cond = 139.77921, lambda_min = 0.09679, lambda_max = 13.52938\n",
      "  loss = 1821.76940, lambda_max_bound = 3966.12265\n",
      "  lambda_min_bound = 0.00815, lambda_min_long_bound = 0.02289\n",
      "35\n",
      " A, L and P are combined\n",
      " A and P are inverted\n",
      " Eigenvalues are calculated\n",
      " Norms are calculated\n",
      " All done\n",
      "  cond = 112.79581, lambda_min = 0.11084, lambda_max = 12.50228\n",
      "  loss = 1732.62100, lambda_max_bound = 3990.12829\n",
      "  lambda_min_bound = 0.00819, lambda_min_long_bound = 0.02346\n",
      "36\n",
      " A, L and P are combined\n",
      " A and P are inverted\n",
      " Eigenvalues are calculated\n",
      " Norms are calculated\n",
      " All done\n",
      "  cond = 105.68391, lambda_min = 0.13774, lambda_max = 14.55719\n",
      "  loss = 1708.85101, lambda_max_bound = 4055.29943\n",
      "  lambda_min_bound = 0.00825, lambda_min_long_bound = 0.02362\n",
      "37\n",
      " A, L and P are combined\n",
      " A and P are inverted\n",
      " Eigenvalues are calculated\n",
      " Norms are calculated\n",
      " All done\n",
      "  cond = 76.63401, lambda_min = 0.24118, lambda_max = 18.48252\n",
      "  loss = 1770.51875, lambda_max_bound = 3998.84048\n",
      "  lambda_min_bound = 0.00842, lambda_min_long_bound = 0.02321\n",
      "38\n",
      " A, L and P are combined\n",
      " A and P are inverted\n",
      " Eigenvalues are calculated\n",
      " Norms are calculated\n",
      " All done\n",
      "  cond = 156.66772, lambda_min = 0.09928, lambda_max = 15.55357\n",
      "  loss = 1784.98454, lambda_max_bound = 4110.79060\n",
      "  lambda_min_bound = 0.00818, lambda_min_long_bound = 0.02312\n",
      "39\n",
      " A, L and P are combined\n",
      " A and P are inverted\n",
      " Eigenvalues are calculated\n",
      " Norms are calculated\n",
      " All done\n",
      "  cond = 94.33907, lambda_min = 0.17747, lambda_max = 16.74276\n",
      "  loss = 1729.44545, lambda_max_bound = 4175.71643\n",
      "  lambda_min_bound = 0.00832, lambda_min_long_bound = 0.02348\n",
      "40\n",
      " A, L and P are combined\n",
      " A and P are inverted\n",
      " Eigenvalues are calculated\n",
      " Norms are calculated\n",
      " All done\n",
      "  cond = 124.39477, lambda_min = 0.12324, lambda_max = 15.33006\n",
      "  loss = 1758.24029, lambda_max_bound = 3927.74935\n",
      "  lambda_min_bound = 0.00821, lambda_min_long_bound = 0.02329\n",
      "41\n",
      " A, L and P are combined\n",
      " A and P are inverted\n",
      " Eigenvalues are calculated\n",
      " Norms are calculated\n",
      " All done\n",
      "  cond = 72.48210, lambda_min = 0.27297, lambda_max = 19.78520\n",
      "  loss = 1788.13068, lambda_max_bound = 4136.16366\n",
      "  lambda_min_bound = 0.00847, lambda_min_long_bound = 0.02310\n",
      "42\n",
      " A, L and P are combined\n",
      " A and P are inverted\n",
      " Eigenvalues are calculated\n",
      " Norms are calculated\n",
      " All done\n",
      "  cond = 81.50172, lambda_min = 0.17226, lambda_max = 14.03970\n",
      "  loss = 1724.94700, lambda_max_bound = 4039.55913\n",
      "  lambda_min_bound = 0.00833, lambda_min_long_bound = 0.02351\n",
      "43\n",
      " A, L and P are combined\n",
      " A and P are inverted\n",
      " Eigenvalues are calculated\n",
      " Norms are calculated\n",
      " All done\n",
      "  cond = 114.97528, lambda_min = 0.13082, lambda_max = 15.04124\n",
      "  loss = 1738.14681, lambda_max_bound = 4182.21620\n",
      "  lambda_min_bound = 0.00825, lambda_min_long_bound = 0.02342\n",
      "44\n",
      " A, L and P are combined\n",
      " A and P are inverted\n",
      " Eigenvalues are calculated\n",
      " Norms are calculated\n",
      " All done\n",
      "  cond = 112.31000, lambda_min = 0.14597, lambda_max = 16.39384\n",
      "  loss = 1713.99502, lambda_max_bound = 4115.86619\n",
      "  lambda_min_bound = 0.00827, lambda_min_long_bound = 0.02358\n",
      "45\n",
      " A, L and P are combined\n",
      " A and P are inverted\n",
      " Eigenvalues are calculated\n",
      " Norms are calculated\n",
      " All done\n",
      "  cond = 141.58029, lambda_min = 0.13768, lambda_max = 19.49265\n",
      "  loss = 1755.75094, lambda_max_bound = 4311.62339\n",
      "  lambda_min_bound = 0.00827, lambda_min_long_bound = 0.02331\n",
      "46\n",
      " A, L and P are combined\n",
      " A and P are inverted\n",
      " Eigenvalues are calculated\n",
      " Norms are calculated\n",
      " All done\n",
      "  cond = 109.08101, lambda_min = 0.16935, lambda_max = 18.47282\n",
      "  loss = 1739.33971, lambda_max_bound = 4196.52261\n",
      "  lambda_min_bound = 0.00831, lambda_min_long_bound = 0.02342\n",
      "47\n",
      " A, L and P are combined\n",
      " A and P are inverted\n",
      " Eigenvalues are calculated\n",
      " Norms are calculated\n",
      " All done\n",
      "  cond = 65.64321, lambda_min = 0.27576, lambda_max = 18.10164\n",
      "  loss = 1755.56174, lambda_max_bound = 4225.99901\n",
      "  lambda_min_bound = 0.00848, lambda_min_long_bound = 0.02331\n",
      "48\n",
      " A, L and P are combined\n",
      " A and P are inverted\n",
      " Eigenvalues are calculated\n",
      " Norms are calculated\n",
      " All done\n",
      "  cond = 109.87292, lambda_min = 0.18372, lambda_max = 20.18602\n",
      "  loss = 1745.47131, lambda_max_bound = 4376.08989\n",
      "  lambda_min_bound = 0.00836, lambda_min_long_bound = 0.02338\n",
      "49\n",
      " A, L and P are combined\n",
      " A and P are inverted\n",
      " Eigenvalues are calculated\n",
      " Norms are calculated\n",
      " All done\n",
      "  cond = 106.56623, lambda_min = 0.18711, lambda_max = 19.94007\n",
      "  loss = 1756.77182, lambda_max_bound = 4154.95387\n",
      "  lambda_min_bound = 0.00836, lambda_min_long_bound = 0.02330\n",
      "50\n",
      " A, L and P are combined\n",
      " A and P are inverted\n",
      " Eigenvalues are calculated\n",
      " Norms are calculated\n",
      " All done\n",
      "  cond = 118.35713, lambda_min = 0.13342, lambda_max = 15.79146\n",
      "  loss = 1761.08247, lambda_max_bound = 4078.31567\n",
      "  lambda_min_bound = 0.00827, lambda_min_long_bound = 0.02327\n",
      "51\n",
      " A, L and P are combined\n",
      " A and P are inverted\n",
      " Eigenvalues are calculated\n",
      " Norms are calculated\n",
      " All done\n",
      "  cond = 119.62947, lambda_min = 0.12209, lambda_max = 14.60536\n",
      "  loss = 1779.03158, lambda_max_bound = 3994.69242\n",
      "  lambda_min_bound = 0.00822, lambda_min_long_bound = 0.02316\n",
      "52\n",
      " A, L and P are combined\n",
      " A and P are inverted\n",
      " Eigenvalues are calculated\n"
     ]
    },
    {
     "ename": "KeyboardInterrupt",
     "evalue": "",
     "output_type": "error",
     "traceback": [
      "\u001b[0;31m---------------------------------------------------------------------------\u001b[0m",
      "\u001b[0;31mKeyboardInterrupt\u001b[0m                         Traceback (most recent call last)",
      "Cell \u001b[0;32mIn[43], line 30\u001b[0m\n\u001b[1;32m     28\u001b[0m min_bound_i \u001b[38;5;241m=\u001b[39m \u001b[38;5;241m1\u001b[39m \u001b[38;5;241m/\u001b[39m (np\u001b[38;5;241m.\u001b[39mlinalg\u001b[38;5;241m.\u001b[39mnorm(P_Ainv_i, \u001b[38;5;28mord\u001b[39m\u001b[38;5;241m=\u001b[39m\u001b[38;5;124m'\u001b[39m\u001b[38;5;124mfro\u001b[39m\u001b[38;5;124m'\u001b[39m))\n\u001b[1;32m     29\u001b[0m min_bound_long_i \u001b[38;5;241m=\u001b[39m \u001b[38;5;241m1\u001b[39m \u001b[38;5;241m/\u001b[39m (sqrt_loss \u001b[38;5;241m+\u001b[39m \u001b[38;5;241m1\u001b[39m)\n\u001b[0;32m---> 30\u001b[0m max_bound_i \u001b[38;5;241m=\u001b[39m np\u001b[38;5;241m.\u001b[39mlinalg\u001b[38;5;241m.\u001b[39mnorm(A_i \u001b[38;5;241m-\u001b[39m P_i, \u001b[38;5;28mord\u001b[39m\u001b[38;5;241m=\u001b[39m\u001b[38;5;241m2\u001b[39m) \u001b[38;5;241m*\u001b[39m \u001b[43mnp\u001b[49m\u001b[38;5;241;43m.\u001b[39;49m\u001b[43mlinalg\u001b[49m\u001b[38;5;241;43m.\u001b[39;49m\u001b[43mnorm\u001b[49m\u001b[43m(\u001b[49m\u001b[43mPinv_i\u001b[49m\u001b[43m,\u001b[49m\u001b[43m \u001b[49m\u001b[38;5;28;43mord\u001b[39;49m\u001b[38;5;241;43m=\u001b[39;49m\u001b[38;5;241;43m2\u001b[39;49m\u001b[43m)\u001b[49m \u001b[38;5;241m+\u001b[39m \u001b[38;5;241m1\u001b[39m\n\u001b[1;32m     31\u001b[0m \u001b[38;5;28mprint\u001b[39m(\u001b[38;5;124m'\u001b[39m\u001b[38;5;124m Norms are calculated\u001b[39m\u001b[38;5;124m'\u001b[39m)\n\u001b[1;32m     33\u001b[0m cond\u001b[38;5;241m.\u001b[39mappend(cond_i)\n",
      "File \u001b[0;32m/usr/local/lib/python3.10/dist-packages/numpy/linalg/linalg.py:2601\u001b[0m, in \u001b[0;36mnorm\u001b[0;34m(x, ord, axis, keepdims)\u001b[0m\n\u001b[1;32m   2599\u001b[0m     \u001b[38;5;28;01mraise\u001b[39;00m \u001b[38;5;167;01mValueError\u001b[39;00m(\u001b[38;5;124m'\u001b[39m\u001b[38;5;124mDuplicate axes given.\u001b[39m\u001b[38;5;124m'\u001b[39m)\n\u001b[1;32m   2600\u001b[0m \u001b[38;5;28;01mif\u001b[39;00m \u001b[38;5;28mord\u001b[39m \u001b[38;5;241m==\u001b[39m \u001b[38;5;241m2\u001b[39m:\n\u001b[0;32m-> 2601\u001b[0m     ret \u001b[38;5;241m=\u001b[39m  \u001b[43m_multi_svd_norm\u001b[49m\u001b[43m(\u001b[49m\u001b[43mx\u001b[49m\u001b[43m,\u001b[49m\u001b[43m \u001b[49m\u001b[43mrow_axis\u001b[49m\u001b[43m,\u001b[49m\u001b[43m \u001b[49m\u001b[43mcol_axis\u001b[49m\u001b[43m,\u001b[49m\u001b[43m \u001b[49m\u001b[43mamax\u001b[49m\u001b[43m)\u001b[49m\n\u001b[1;32m   2602\u001b[0m \u001b[38;5;28;01melif\u001b[39;00m \u001b[38;5;28mord\u001b[39m \u001b[38;5;241m==\u001b[39m \u001b[38;5;241m-\u001b[39m\u001b[38;5;241m2\u001b[39m:\n\u001b[1;32m   2603\u001b[0m     ret \u001b[38;5;241m=\u001b[39m _multi_svd_norm(x, row_axis, col_axis, amin)\n",
      "File \u001b[0;32m/usr/local/lib/python3.10/dist-packages/numpy/linalg/linalg.py:2375\u001b[0m, in \u001b[0;36m_multi_svd_norm\u001b[0;34m(x, row_axis, col_axis, op)\u001b[0m\n\u001b[1;32m   2352\u001b[0m \u001b[38;5;250m\u001b[39m\u001b[38;5;124;03m\"\"\"Compute a function of the singular values of the 2-D matrices in `x`.\u001b[39;00m\n\u001b[1;32m   2353\u001b[0m \n\u001b[1;32m   2354\u001b[0m \u001b[38;5;124;03mThis is a private utility function used by `numpy.linalg.norm()`.\u001b[39;00m\n\u001b[0;32m   (...)\u001b[0m\n\u001b[1;32m   2372\u001b[0m \n\u001b[1;32m   2373\u001b[0m \u001b[38;5;124;03m\"\"\"\u001b[39;00m\n\u001b[1;32m   2374\u001b[0m y \u001b[38;5;241m=\u001b[39m moveaxis(x, (row_axis, col_axis), (\u001b[38;5;241m-\u001b[39m\u001b[38;5;241m2\u001b[39m, \u001b[38;5;241m-\u001b[39m\u001b[38;5;241m1\u001b[39m))\n\u001b[0;32m-> 2375\u001b[0m result \u001b[38;5;241m=\u001b[39m op(\u001b[43msvd\u001b[49m\u001b[43m(\u001b[49m\u001b[43my\u001b[49m\u001b[43m,\u001b[49m\u001b[43m \u001b[49m\u001b[43mcompute_uv\u001b[49m\u001b[38;5;241;43m=\u001b[39;49m\u001b[38;5;28;43;01mFalse\u001b[39;49;00m\u001b[43m)\u001b[49m, axis\u001b[38;5;241m=\u001b[39m\u001b[38;5;241m-\u001b[39m\u001b[38;5;241m1\u001b[39m)\n\u001b[1;32m   2376\u001b[0m \u001b[38;5;28;01mreturn\u001b[39;00m result\n",
      "File \u001b[0;32m/usr/local/lib/python3.10/dist-packages/numpy/linalg/linalg.py:1693\u001b[0m, in \u001b[0;36msvd\u001b[0;34m(a, full_matrices, compute_uv, hermitian)\u001b[0m\n\u001b[1;32m   1690\u001b[0m     gufunc \u001b[38;5;241m=\u001b[39m _umath_linalg\u001b[38;5;241m.\u001b[39msvd_n\n\u001b[1;32m   1692\u001b[0m signature \u001b[38;5;241m=\u001b[39m \u001b[38;5;124m'\u001b[39m\u001b[38;5;124mD->d\u001b[39m\u001b[38;5;124m'\u001b[39m \u001b[38;5;28;01mif\u001b[39;00m isComplexType(t) \u001b[38;5;28;01melse\u001b[39;00m \u001b[38;5;124m'\u001b[39m\u001b[38;5;124md->d\u001b[39m\u001b[38;5;124m'\u001b[39m\n\u001b[0;32m-> 1693\u001b[0m s \u001b[38;5;241m=\u001b[39m \u001b[43mgufunc\u001b[49m\u001b[43m(\u001b[49m\u001b[43ma\u001b[49m\u001b[43m,\u001b[49m\u001b[43m \u001b[49m\u001b[43msignature\u001b[49m\u001b[38;5;241;43m=\u001b[39;49m\u001b[43msignature\u001b[49m\u001b[43m,\u001b[49m\u001b[43m \u001b[49m\u001b[43mextobj\u001b[49m\u001b[38;5;241;43m=\u001b[39;49m\u001b[43mextobj\u001b[49m\u001b[43m)\u001b[49m\n\u001b[1;32m   1694\u001b[0m s \u001b[38;5;241m=\u001b[39m s\u001b[38;5;241m.\u001b[39mastype(_realType(result_t), copy\u001b[38;5;241m=\u001b[39m\u001b[38;5;28;01mFalse\u001b[39;00m)\n\u001b[1;32m   1695\u001b[0m \u001b[38;5;28;01mreturn\u001b[39;00m s\n",
      "\u001b[0;31mKeyboardInterrupt\u001b[0m: "
     ]
    }
   ],
   "source": [
    "cond, lambda_min, lambda_max = [], [], []\n",
    "loss, lambda_max_bound = [], []\n",
    "lambda_min_bound, lambda_min_long_bound = [], []\n",
    "i = \n",
    "\n",
    "\n",
    "# for i in range(1, A_test.shape[0]):\n",
    "print(i)\n",
    "A_i = jBCOO_to_scipyCSR(A_test[i, ...]).todense(order='C')\n",
    "L_i = jBCOO_to_scipyCSR(L[i, ...])\n",
    "P_i = (L_i @ L_i.T).todense(order='C')\n",
    "print(' A, L and P are combined')\n",
    "\n",
    "Pinv_i = sci_linalg.inv(P_i)\n",
    "Ainv_i = sci_linalg.inv(A_i)\n",
    "print(' A and P are inverted')\n",
    "\n",
    "Pinv_A_i = Pinv_i @ A_i\n",
    "\n",
    "eigen_i = np.abs(sci_linalg.eigvals(Pinv_A_i))\n",
    "eigen_min_i = np.min(eigen_i)\n",
    "eigen_max_i = np.max(eigen_i)\n",
    "cond_i = eigen_max_i / eigen_min_i\n",
    "print(' Eigenvalues are calculated')\n",
    "\n",
    "\n",
    "P_Ainv_i = P_i @ Ainv_i\n",
    "sqrt_loss = np.linalg.norm(P_Ainv_i - np.eye(P_i.shape[0]), ord='fro')\n",
    "loss_i = np.square(sqrt_loss)\n",
    "min_bound_i = 1 / (np.linalg.norm(P_Ainv_i, ord='fro'))\n",
    "min_bound_long_i = 1 / (sqrt_loss + 1)\n",
    "max_bound_i = np.linalg.norm(A_i - P_i, ord=2) * np.linalg.norm(Pinv_i, ord=2) + 1\n",
    "print(' Norms are calculated')\n",
    "\n",
    "cond.append(cond_i)\n",
    "lambda_min.append(eigen_min_i)\n",
    "lambda_max.append(eigen_max_i)\n",
    "loss.append(loss_i)\n",
    "lambda_max_bound.append(max_bound_i)\n",
    "lambda_min_bound.append(min_bound_i)\n",
    "lambda_min_long_bound.append(min_bound_long_i)\n",
    "print(' All done')\n",
    "print(f'  cond = {cond[-1]:.5f}, lambda_min = {lambda_min[-1]:.5f}, lambda_max = {lambda_max[-1]:.5f}')\n",
    "print(f'  loss = {loss[-1]:.5f}, lambda_max_bound = {lambda_max_bound[-1]:.5f}')\n",
    "print(f'  lambda_min_bound = {lambda_min_bound[-1]:.5f}, lambda_min_long_bound = {lambda_min_long_bound[-1]:.5f}')"
   ]
  },
  {
   "cell_type": "code",
   "execution_count": 42,
   "id": "8b231d33",
   "metadata": {},
   "outputs": [
    {
     "name": "stdout",
     "output_type": "stream",
     "text": [
      " All done\n",
      "  cond = 78.03987, lambda_min = 0.19814, lambda_max = 15.46266\n",
      "  loss = 1732.12761, lambda_max_bound = 4157.04033\n",
      "  lambda_min_bound = 0.00838, lambda_min_long_bound = 0.02346\n"
     ]
    }
   ],
   "source": [
    "cond.append(cond_i)\n",
    "lambda_min.append(eigen_min_i)\n",
    "lambda_max.append(eigen_max_i)\n",
    "loss.append(loss_i)\n",
    "lambda_max_bound.append(max_bound_i)\n",
    "lambda_min_bound.append(min_bound_i)\n",
    "lambda_min_long_bound.append(min_bound_long_i)\n",
    "print(' All done')\n",
    "print(f'  cond = {cond[-1]:.5f}, lambda_min = {lambda_min[-1]:.5f}, lambda_max = {lambda_max[-1]:.5f}')\n",
    "print(f'  loss = {loss[-1]:.5f}, lambda_max_bound = {lambda_max_bound[-1]:.5f}')\n",
    "print(f'  lambda_min_bound = {lambda_min_bound[-1]:.5f}, lambda_min_long_bound = {lambda_min_long_bound[-1]:.5f}')"
   ]
  },
  {
   "cell_type": "markdown",
   "id": "df662332",
   "metadata": {},
   "source": [
    "# Spectrum with NLA IC(0)"
   ]
  },
  {
   "cell_type": "code",
   "execution_count": 59,
   "id": "7179d7a5",
   "metadata": {},
   "outputs": [],
   "source": [
    "import ilupp"
   ]
  },
  {
   "cell_type": "code",
   "execution_count": 60,
   "id": "40e5db1a",
   "metadata": {},
   "outputs": [],
   "source": [
    "i = 0"
   ]
  },
  {
   "cell_type": "code",
   "execution_count": 61,
   "id": "7e47f110",
   "metadata": {},
   "outputs": [],
   "source": [
    "L = ilupp.ichol0(jBCOO_to_scipyCSR(A_test[i, ...]))"
   ]
  },
  {
   "cell_type": "code",
   "execution_count": 62,
   "id": "5e8267e1",
   "metadata": {},
   "outputs": [
    {
     "name": "stdout",
     "output_type": "stream",
     "text": [
      " A, L and P are combined\n",
      " A and P are inverted\n",
      " Eigenvalues are calculated\n",
      " Norms are calculated\n",
      " All done\n",
      "  cond = 200.80650, lambda_min = 0.00611, lambda_max = 1.22683\n",
      "  loss = 79575.70741, lambda_max_bound = 62.25092\n",
      "  lambda_min_bound = 0.00342, lambda_min_long_bound = 0.00353\n"
     ]
    }
   ],
   "source": [
    "A_i = jBCOO_to_scipyCSR(A_test[i, ...]).todense(order='C')\n",
    "L_i = L\n",
    "P_i = (L_i @ L_i.T).todense(order='C')\n",
    "print(' A, L and P are combined')\n",
    "\n",
    "Pinv_i = sci_linalg.inv(P_i)\n",
    "Ainv_i = sci_linalg.inv(A_i)\n",
    "print(' A and P are inverted')\n",
    "\n",
    "Pinv_A_i = Pinv_i @ A_i\n",
    "\n",
    "eigen_i = np.abs(sci_linalg.eigvals(Pinv_A_i))\n",
    "eigen_min_i = np.min(eigen_i)\n",
    "eigen_max_i = np.max(eigen_i)\n",
    "cond_i = eigen_max_i / eigen_min_i\n",
    "print(' Eigenvalues are calculated')\n",
    "\n",
    "\n",
    "P_Ainv_i = P_i @ Ainv_i\n",
    "sqrt_loss = np.linalg.norm(P_Ainv_i - np.eye(P_i.shape[0]), ord='fro')\n",
    "loss_i = np.square(sqrt_loss)\n",
    "min_bound_i = 1 / (np.linalg.norm(P_Ainv_i, ord='fro'))\n",
    "min_bound_long_i = 1 / (sqrt_loss + 1)\n",
    "max_bound_i = np.linalg.norm(A_i - P_i, ord=2) * np.linalg.norm(Pinv_i, ord=2) + 1\n",
    "print(' Norms are calculated')\n",
    "\n",
    "print(' All done')\n",
    "print(f'  cond = {cond_i:.5f}, lambda_min = {eigen_min_i:.5f}, lambda_max = {eigen_max_i:.5f}')\n",
    "print(f'  loss = {loss_i:.5f}, lambda_max_bound = {max_bound_i:.5f}')\n",
    "print(f'  lambda_min_bound = {min_bound_i:.5f}, lambda_min_long_bound = {min_bound_long_i:.5f}')"
   ]
  },
  {
   "cell_type": "code",
   "execution_count": 63,
   "id": "271b0034",
   "metadata": {},
   "outputs": [],
   "source": [
    "np.savez('/mnt/local/data/vtrifonov/prec-learning-Notay-loss/experiments/for_media_iclr/div_k_grad_64_0.7___ic0_spectrum.npz', eigen_values_ic0=eigen_i)"
   ]
  },
  {
   "cell_type": "markdown",
   "id": "89032276",
   "metadata": {},
   "source": [
    "# Inital lhs"
   ]
  },
  {
   "cell_type": "code",
   "execution_count": 57,
   "id": "93f4b27e",
   "metadata": {},
   "outputs": [
    {
     "name": "stdout",
     "output_type": "stream",
     "text": [
      " Eigenvalues are calculated\n",
      "  cond = 26808.89251, lambda_min = 18.96938, lambda_max = 508547.99942\n"
     ]
    }
   ],
   "source": [
    "A_i = jBCOO_to_scipyCSR(A_test[i, ...]).todense(order='C')\n",
    "\n",
    "eigen_i = np.abs(sci_linalg.eigvals(A_i))\n",
    "eigen_min_i = np.min(eigen_i)\n",
    "eigen_max_i = np.max(eigen_i)\n",
    "cond_i = eigen_max_i / eigen_min_i\n",
    "print(' Eigenvalues are calculated')\n",
    "print(f'  cond = {cond_i:.5f}, lambda_min = {eigen_min_i:.5f}, lambda_max = {eigen_max_i:.5f}')"
   ]
  },
  {
   "cell_type": "code",
   "execution_count": null,
   "id": "053663c7",
   "metadata": {},
   "outputs": [],
   "source": []
  },
  {
   "cell_type": "code",
   "execution_count": null,
   "id": "56363626",
   "metadata": {},
   "outputs": [],
   "source": []
  },
  {
   "cell_type": "code",
   "execution_count": null,
   "id": "9e328b19",
   "metadata": {},
   "outputs": [],
   "source": []
  },
  {
   "cell_type": "code",
   "execution_count": null,
   "id": "da1bcb77",
   "metadata": {},
   "outputs": [],
   "source": []
  },
  {
   "cell_type": "code",
   "execution_count": 22,
   "id": "1543a348",
   "metadata": {},
   "outputs": [
    {
     "data": {
      "image/png": "[encoded data removed]",
      "text/plain": [
       "<Figure size 1400x1400 with 3 Axes>"
      ]
     },
     "metadata": {},
     "output_type": "display_data"
    }
   ],
   "source": [
    "_, axes = plt.subplots(1, 3, figsize=(14, 14))\n",
    "\n",
    "axes[0].imshow(X_I[0, :, -1].reshape([grid]*2))\n",
    "axes[1].imshow(X_LLT[0, :, -1].reshape([grid]*2))\n",
    "axes[2].imshow(u_exact_test[0, :].reshape([grid]*2))\n",
    "\n",
    "axes[0].set_title('No prec')\n",
    "axes[1].set_title('Notay-loss prec')\n",
    "axes[2].set_title('Exact solution')\n",
    "\n",
    "plt.tight_layout()"
   ]
  },
  {
   "cell_type": "code",
   "execution_count": null,
   "id": "4fdf35b9",
   "metadata": {},
   "outputs": [],
   "source": []
  },
  {
   "cell_type": "code",
   "execution_count": null,
   "id": "9ddf6c33",
   "metadata": {},
   "outputs": [],
   "source": []
  }
 ],
 "metadata": {
  "kernelspec": {
   "display_name": "Python 3 (ipykernel)",
   "language": "python",
   "name": "python3"
  },
  "language_info": {
   "codemirror_mode": {
    "name": "ipython",
    "version": 3
   },
   "file_extension": ".py",
   "mimetype": "text/x-python",
   "name": "python",
   "nbconvert_exporter": "python",
   "pygments_lexer": "ipython3",
   "version": "3.10.6"
  }
 },
 "nbformat": 4,
 "nbformat_minor": 5
}
