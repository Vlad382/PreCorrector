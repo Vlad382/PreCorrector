{
 "cells": [
  {
   "cell_type": "code",
   "execution_count": 1,
   "id": "7b9e4cc8",
   "metadata": {},
   "outputs": [
    {
     "name": "stdout",
     "output_type": "stream",
     "text": [
      "\u001b[33mWARNING: Running pip as the 'root' user can result in broken permissions and conflicting behaviour with the system package manager. It is recommended to use a virtual environment instead: https://pip.pypa.io/warnings/venv\u001b[0m\u001b[33m\n",
      "\u001b[0m"
     ]
    }
   ],
   "source": [
    "!pip install --q ssgetpy"
   ]
  },
  {
   "cell_type": "code",
   "execution_count": 1,
   "id": "7d0d1778",
   "metadata": {},
   "outputs": [
    {
     "name": "stderr",
     "output_type": "stream",
     "text": [
      "/usr/local/lib/python3.10/dist-packages/tqdm/auto.py:21: TqdmWarning: IProgress not found. Please update jupyter and ipywidgets. See https://ipywidgets.readthedocs.io/en/stable/user_install.html\n",
      "  from .autonotebook import tqdm as notebook_tqdm\n"
     ]
    }
   ],
   "source": [
    "import ssgetpy"
   ]
  },
  {
   "cell_type": "code",
   "execution_count": 2,
   "id": "c9faf54e",
   "metadata": {},
   "outputs": [],
   "source": [
    "kaporin_ss_choice = a = 'bodyy6 bcsstk18 bcsstk25 cvxbqp1 bcsstk17 gridgena apache1 pres_poisson g2_circuit olafu gyro_k msc23052 bcsstk36 msc10848 raefsky4 cfd1 oilpan vanbody ct20stif nasasrb cfd2 shipsec8 shipsec1 dubcova3 parabolic_fem s3dkt3m2 smt ship_003 ship_001 cant offshore pdb1hys s3dkq4m2 thread shipsec5 apache2 ecology2 tmt_sym boneS01 consph bmw7st_1 g3_circuit x104 thermal2 m_t1 hood crankseg_1 bmwcra_1 pwtk crankseg_2 nd12k af_shell7 msdoor f1 nd24k ldoor'\n",
    "kaporin_ss_choice = kaporin_ss_choice.split(' ')\n",
    "# kaporin_ss_choice"
   ]
  },
  {
   "cell_type": "code",
   "execution_count": 3,
   "id": "c3b1ac91",
   "metadata": {},
   "outputs": [],
   "source": [
    "path = '/mnt/local/data/vtrifonov/susbet_SuiteSparse/'"
   ]
  },
  {
   "cell_type": "markdown",
   "id": "620245c1",
   "metadata": {},
   "source": [
    "# Load"
   ]
  },
  {
   "cell_type": "code",
   "execution_count": 4,
   "id": "64b799a0",
   "metadata": {
    "collapsed": true,
    "jupyter": {
     "outputs_hidden": true
    }
   },
   "outputs": [
    {
     "name": "stdout",
     "output_type": "stream",
     "text": [
      "bodyy6\n"
     ]
    },
    {
     "name": "stderr",
     "output_type": "stream",
     "text": [
      "Overall progress: 100%|███████████████████████████████████████████████████████████████████████████████████████████████████████████████████████████████████████████████████████████| 1/1 [00:00<00:00, 12557.80it/s]\n"
     ]
    },
    {
     "name": "stdout",
     "output_type": "stream",
     "text": [
      "bcsstk18\n"
     ]
    },
    {
     "name": "stderr",
     "output_type": "stream",
     "text": [
      "Overall progress: 100%|███████████████████████████████████████████████████████████████████████████████████████████████████████████████████████████████████████████████████████████| 1/1 [00:00<00:00, 16070.13it/s]\n"
     ]
    },
    {
     "name": "stdout",
     "output_type": "stream",
     "text": [
      "bcsstk25\n"
     ]
    },
    {
     "name": "stderr",
     "output_type": "stream",
     "text": [
      "Overall progress: 100%|███████████████████████████████████████████████████████████████████████████████████████████████████████████████████████████████████████████████████████████| 1/1 [00:00<00:00, 18315.74it/s]\n"
     ]
    },
    {
     "name": "stdout",
     "output_type": "stream",
     "text": [
      "cvxbqp1\n"
     ]
    },
    {
     "name": "stderr",
     "output_type": "stream",
     "text": [
      "Overall progress: 100%|███████████████████████████████████████████████████████████████████████████████████████████████████████████████████████████████████████████████████████████| 2/2 [00:00<00:00, 12633.45it/s]\n"
     ]
    },
    {
     "name": "stdout",
     "output_type": "stream",
     "text": [
      "bcsstk17\n"
     ]
    },
    {
     "name": "stderr",
     "output_type": "stream",
     "text": [
      "Overall progress: 100%|███████████████████████████████████████████████████████████████████████████████████████████████████████████████████████████████████████████████████████████| 1/1 [00:00<00:00, 18893.26it/s]\n"
     ]
    },
    {
     "name": "stdout",
     "output_type": "stream",
     "text": [
      "gridgena\n"
     ]
    },
    {
     "name": "stderr",
     "output_type": "stream",
     "text": [
      "Overall progress: 100%|███████████████████████████████████████████████████████████████████████████████████████████████████████████████████████████████████████████████████████████| 1/1 [00:00<00:00, 19328.59it/s]\n"
     ]
    },
    {
     "name": "stdout",
     "output_type": "stream",
     "text": [
      "apache1\n"
     ]
    },
    {
     "name": "stderr",
     "output_type": "stream",
     "text": [
      "Overall progress: 100%|███████████████████████████████████████████████████████████████████████████████████████████████████████████████████████████████████████████████████████████| 1/1 [00:00<00:00, 19328.59it/s]\n"
     ]
    },
    {
     "name": "stdout",
     "output_type": "stream",
     "text": [
      "pres_poisson\n"
     ]
    },
    {
     "name": "stderr",
     "output_type": "stream",
     "text": [
      "Overall progress: 100%|███████████████████████████████████████████████████████████████████████████████████████████████████████████████████████████████████████████████████████████| 1/1 [00:00<00:00, 18477.11it/s]\n"
     ]
    },
    {
     "name": "stdout",
     "output_type": "stream",
     "text": [
      "g2_circuit\n"
     ]
    },
    {
     "name": "stderr",
     "output_type": "stream",
     "text": [
      "Overall progress: 100%|████████████████████████████████████████████████████████████████████████████████████████████████████████████████████████████████████████████████████████████| 1/1 [00:00<00:00, 1215.39it/s]\n"
     ]
    },
    {
     "name": "stdout",
     "output_type": "stream",
     "text": [
      "olafu\n"
     ]
    },
    {
     "name": "stderr",
     "output_type": "stream",
     "text": [
      "Overall progress: 100%|████████████████████████████████████████████████████████████████████████████████████████████████████████████████████████████████████████████████████████████| 1/1 [00:00<00:00, 1223.19it/s]\n"
     ]
    },
    {
     "name": "stdout",
     "output_type": "stream",
     "text": [
      "gyro_k\n"
     ]
    },
    {
     "name": "stderr",
     "output_type": "stream",
     "text": [
      "Overall progress: 100%|████████████████████████████████████████████████████████████████████████████████████████████████████████████████████████████████████████████████████████████| 1/1 [00:00<00:00, 4310.69it/s]\n"
     ]
    },
    {
     "name": "stdout",
     "output_type": "stream",
     "text": [
      "msc23052\n"
     ]
    },
    {
     "name": "stderr",
     "output_type": "stream",
     "text": [
      "Overall progress: 100%|████████████████████████████████████████████████████████████████████████████████████████████████████████████████████████████████████████████████████████████| 1/1 [00:00<00:00, 1212.23it/s]\n"
     ]
    },
    {
     "name": "stdout",
     "output_type": "stream",
     "text": [
      "bcsstk36\n"
     ]
    },
    {
     "name": "stderr",
     "output_type": "stream",
     "text": [
      "Overall progress: 100%|████████████████████████████████████████████████████████████████████████████████████████████████████████████████████████████████████████████████████████████| 1/1 [00:00<00:00, 1211.88it/s]\n"
     ]
    },
    {
     "name": "stdout",
     "output_type": "stream",
     "text": [
      "msc10848\n"
     ]
    },
    {
     "name": "stderr",
     "output_type": "stream",
     "text": [
      "Overall progress: 100%|████████████████████████████████████████████████████████████████████████████████████████████████████████████████████████████████████████████████████████████| 2/2 [00:00<00:00, 3523.14it/s]\n"
     ]
    },
    {
     "name": "stdout",
     "output_type": "stream",
     "text": [
      "raefsky4\n"
     ]
    },
    {
     "name": "stderr",
     "output_type": "stream",
     "text": [
      "Overall progress: 100%|████████████████████████████████████████████████████████████████████████████████████████████████████████████████████████████████████████████████████████████| 1/1 [00:00<00:00, 1205.61it/s]\n"
     ]
    },
    {
     "name": "stdout",
     "output_type": "stream",
     "text": [
      "cfd1\n"
     ]
    },
    {
     "name": "stderr",
     "output_type": "stream",
     "text": [
      "Overall progress: 100%|████████████████████████████████████████████████████████████████████████████████████████████████████████████████████████████████████████████████████████████| 1/1 [00:00<00:00, 1196.66it/s]\n"
     ]
    },
    {
     "name": "stdout",
     "output_type": "stream",
     "text": [
      "oilpan\n"
     ]
    },
    {
     "name": "stderr",
     "output_type": "stream",
     "text": [
      "Overall progress: 100%|████████████████████████████████████████████████████████████████████████████████████████████████████████████████████████████████████████████████████████████| 1/1 [00:00<00:00, 6052.39it/s]\n"
     ]
    },
    {
     "name": "stdout",
     "output_type": "stream",
     "text": [
      "vanbody\n"
     ]
    },
    {
     "name": "stderr",
     "output_type": "stream",
     "text": [
      "Overall progress: 100%|████████████████████████████████████████████████████████████████████████████████████████████████████████████████████████████████████████████████████████████| 1/1 [00:00<00:00, 1767.51it/s]\n"
     ]
    },
    {
     "name": "stdout",
     "output_type": "stream",
     "text": [
      "ct20stif\n"
     ]
    },
    {
     "name": "stderr",
     "output_type": "stream",
     "text": [
      "Overall progress: 100%|████████████████████████████████████████████████████████████████████████████████████████████████████████████████████████████████████████████████████████████| 2/2 [00:00<00:00, 2343.19it/s]\n"
     ]
    },
    {
     "name": "stdout",
     "output_type": "stream",
     "text": [
      "nasasrb\n"
     ]
    },
    {
     "name": "stderr",
     "output_type": "stream",
     "text": [
      "Overall progress: 100%|████████████████████████████████████████████████████████████████████████████████████████████████████████████████████████████████████████████████████████████| 1/1 [00:00<00:00, 1176.52it/s]\n"
     ]
    },
    {
     "name": "stdout",
     "output_type": "stream",
     "text": [
      "cfd2\n"
     ]
    },
    {
     "name": "stderr",
     "output_type": "stream",
     "text": [
      "Overall progress: 100%|████████████████████████████████████████████████████████████████████████████████████████████████████████████████████████████████████████████████████████████| 1/1 [00:00<00:00, 1208.38it/s]\n"
     ]
    },
    {
     "name": "stdout",
     "output_type": "stream",
     "text": [
      "shipsec8\n"
     ]
    },
    {
     "name": "stderr",
     "output_type": "stream",
     "text": [
      "Overall progress: 100%|████████████████████████████████████████████████████████████████████████████████████████████████████████████████████████████████████████████████████████████| 1/1 [00:00<00:00, 1142.24it/s]\n"
     ]
    },
    {
     "name": "stdout",
     "output_type": "stream",
     "text": [
      "shipsec1\n"
     ]
    },
    {
     "name": "stderr",
     "output_type": "stream",
     "text": [
      "Overall progress: 100%|████████████████████████████████████████████████████████████████████████████████████████████████████████████████████████████████████████████████████████████| 1/1 [00:00<00:00, 1206.65it/s]\n"
     ]
    },
    {
     "name": "stdout",
     "output_type": "stream",
     "text": [
      "dubcova3\n"
     ]
    },
    {
     "name": "stderr",
     "output_type": "stream",
     "text": [
      "Overall progress: 100%|████████████████████████████████████████████████████████████████████████████████████████████████████████████████████████████████████████████████████████████| 1/1 [00:00<00:00, 1219.63it/s]\n"
     ]
    },
    {
     "name": "stdout",
     "output_type": "stream",
     "text": [
      "parabolic_fem\n"
     ]
    },
    {
     "name": "stderr",
     "output_type": "stream",
     "text": [
      "Overall progress: 100%|████████████████████████████████████████████████████████████████████████████████████████████████████████████████████████████████████████████████████████████| 1/1 [00:00<00:00, 1215.39it/s]\n"
     ]
    },
    {
     "name": "stdout",
     "output_type": "stream",
     "text": [
      "s3dkt3m2\n"
     ]
    },
    {
     "name": "stderr",
     "output_type": "stream",
     "text": [
      "Overall progress: 100%|████████████████████████████████████████████████████████████████████████████████████████████████████████████████████████████████████████████████████████████| 1/1 [00:00<00:00, 1218.57it/s]\n"
     ]
    },
    {
     "name": "stdout",
     "output_type": "stream",
     "text": [
      "smt\n"
     ]
    },
    {
     "name": "stderr",
     "output_type": "stream",
     "text": [
      "Overall progress: 100%|████████████████████████████████████████████████████████████████████████████████████████████████████████████████████████████████████████████████████████████| 1/1 [00:00<00:00, 1233.26it/s]\n"
     ]
    },
    {
     "name": "stdout",
     "output_type": "stream",
     "text": [
      "ship_003\n"
     ]
    },
    {
     "name": "stderr",
     "output_type": "stream",
     "text": [
      "Overall progress: 100%|████████████████████████████████████████████████████████████████████████████████████████████████████████████████████████████████████████████████████████████| 1/1 [00:00<00:00, 6061.13it/s]\n"
     ]
    },
    {
     "name": "stdout",
     "output_type": "stream",
     "text": [
      "ship_001\n"
     ]
    },
    {
     "name": "stderr",
     "output_type": "stream",
     "text": [
      "Overall progress: 100%|████████████████████████████████████████████████████████████████████████████████████████████████████████████████████████████████████████████████████████████| 1/1 [00:00<00:00, 6250.83it/s]"
     ]
    },
    {
     "name": "stdout",
     "output_type": "stream",
     "text": [
      "cant\n"
     ]
    },
    {
     "name": "stderr",
     "output_type": "stream",
     "text": [
      "\n",
      "Overall progress: 100%|████████████████████████████████████████████████████████████████████████████████████████████████████████████████████████████████████████████████████████████| 1/1 [00:00<00:00, 6990.51it/s]\n"
     ]
    },
    {
     "name": "stdout",
     "output_type": "stream",
     "text": [
      "offshore\n"
     ]
    },
    {
     "name": "stderr",
     "output_type": "stream",
     "text": [
      "Overall progress: 100%|████████████████████████████████████████████████████████████████████████████████████████████████████████████████████████████████████████████████████████████| 1/1 [00:00<00:00, 6944.21it/s]\n"
     ]
    },
    {
     "name": "stdout",
     "output_type": "stream",
     "text": [
      "pdb1hys\n"
     ]
    },
    {
     "name": "stderr",
     "output_type": "stream",
     "text": [
      "Overall progress: 100%|████████████████████████████████████████████████████████████████████████████████████████████████████████████████████████████████████████████████████████████| 1/1 [00:00<00:00, 1679.06it/s]\n"
     ]
    },
    {
     "name": "stdout",
     "output_type": "stream",
     "text": [
      "s3dkq4m2\n"
     ]
    },
    {
     "name": "stderr",
     "output_type": "stream",
     "text": [
      "Overall progress: 100%|████████████████████████████████████████████████████████████████████████████████████████████████████████████████████████████████████████████████████████████| 1/1 [00:00<00:00, 1727.47it/s]\n"
     ]
    },
    {
     "name": "stdout",
     "output_type": "stream",
     "text": [
      "thread\n"
     ]
    },
    {
     "name": "stderr",
     "output_type": "stream",
     "text": [
      "Overall progress: 100%|████████████████████████████████████████████████████████████████████████████████████████████████████████████████████████████████████████████████████████████| 1/1 [00:00<00:00, 1845.27it/s]\n"
     ]
    },
    {
     "name": "stdout",
     "output_type": "stream",
     "text": [
      "shipsec5\n"
     ]
    },
    {
     "name": "stderr",
     "output_type": "stream",
     "text": [
      "Overall progress: 100%|████████████████████████████████████████████████████████████████████████████████████████████████████████████████████████████████████████████████████████████| 1/1 [00:00<00:00, 1744.72it/s]\n"
     ]
    },
    {
     "name": "stdout",
     "output_type": "stream",
     "text": [
      "apache2\n"
     ]
    },
    {
     "name": "stderr",
     "output_type": "stream",
     "text": [
      "Overall progress: 100%|████████████████████████████████████████████████████████████████████████████████████████████████████████████████████████████████████████████████████████████| 1/1 [00:00<00:00, 1723.92it/s]\n"
     ]
    },
    {
     "name": "stdout",
     "output_type": "stream",
     "text": [
      "ecology2\n"
     ]
    },
    {
     "name": "stderr",
     "output_type": "stream",
     "text": [
      "Overall progress: 100%|████████████████████████████████████████████████████████████████████████████████████████████████████████████████████████████████████████████████████████████| 1/1 [00:00<00:00, 1474.79it/s]\n"
     ]
    },
    {
     "name": "stdout",
     "output_type": "stream",
     "text": [
      "tmt_sym\n"
     ]
    },
    {
     "name": "stderr",
     "output_type": "stream",
     "text": [
      "Overall progress: 100%|████████████████████████████████████████████████████████████████████████████████████████████████████████████████████████████████████████████████████████████| 1/1 [00:00<00:00, 1427.12it/s]\n"
     ]
    },
    {
     "name": "stdout",
     "output_type": "stream",
     "text": [
      "boneS01\n"
     ]
    },
    {
     "name": "stderr",
     "output_type": "stream",
     "text": [
      "Overall progress: 100%|████████████████████████████████████████████████████████████████████████████████████████████████████████████████████████████████████████████████████████████| 1/1 [00:00<00:00, 6087.52it/s]\n"
     ]
    },
    {
     "name": "stdout",
     "output_type": "stream",
     "text": [
      "consph\n"
     ]
    },
    {
     "name": "stderr",
     "output_type": "stream",
     "text": [
      "Overall progress: 100%|████████████████████████████████████████████████████████████████████████████████████████████████████████████████████████████████████████████████████████████| 1/1 [00:00<00:00, 1203.19it/s]\n"
     ]
    },
    {
     "name": "stdout",
     "output_type": "stream",
     "text": [
      "bmw7st_1\n"
     ]
    },
    {
     "name": "stderr",
     "output_type": "stream",
     "text": [
      "Overall progress: 100%|████████████████████████████████████████████████████████████████████████████████████████████████████████████████████████████████████████████████████████████| 1/1 [00:00<00:00, 1427.61it/s]\n"
     ]
    },
    {
     "name": "stdout",
     "output_type": "stream",
     "text": [
      "g3_circuit\n"
     ]
    },
    {
     "name": "stderr",
     "output_type": "stream",
     "text": [
      "Overall progress: 100%|████████████████████████████████████████████████████████████████████████████████████████████████████████████████████████████████████████████████████████████| 1/1 [00:00<00:00, 1205.61it/s]\n"
     ]
    },
    {
     "name": "stdout",
     "output_type": "stream",
     "text": [
      "x104\n"
     ]
    },
    {
     "name": "stderr",
     "output_type": "stream",
     "text": [
      "Overall progress: 100%|████████████████████████████████████████████████████████████████████████████████████████████████████████████████████████████████████████████████████████████| 1/1 [00:00<00:00, 4232.40it/s]\n"
     ]
    },
    {
     "name": "stdout",
     "output_type": "stream",
     "text": [
      "thermal2\n"
     ]
    },
    {
     "name": "stderr",
     "output_type": "stream",
     "text": [
      "Overall progress: 100%|████████████████████████████████████████████████████████████████████████████████████████████████████████████████████████████████████████████████████████████| 2/2 [00:00<00:00, 2850.36it/s]\n"
     ]
    },
    {
     "name": "stdout",
     "output_type": "stream",
     "text": [
      "m_t1\n"
     ]
    },
    {
     "name": "stderr",
     "output_type": "stream",
     "text": [
      "Overall progress: 100%|████████████████████████████████████████████████████████████████████████████████████████████████████████████████████████████████████████████████████████████| 7/7 [00:00<00:00, 8088.19it/s]\n"
     ]
    },
    {
     "name": "stdout",
     "output_type": "stream",
     "text": [
      "hood\n"
     ]
    },
    {
     "name": "stderr",
     "output_type": "stream",
     "text": [
      "Overall progress: 100%|█████████████████████████████████████████████████████████████████████████████████████████████████████████████████████████████████████████████████████████████| 1/1 [00:00<00:00, 988.76it/s]\n"
     ]
    },
    {
     "name": "stdout",
     "output_type": "stream",
     "text": [
      "crankseg_1\n"
     ]
    },
    {
     "name": "stderr",
     "output_type": "stream",
     "text": [
      "Overall progress: 100%|████████████████████████████████████████████████████████████████████████████████████████████████████████████████████████████████████████████████████████████| 1/1 [00:00<00:00, 1130.84it/s]\n"
     ]
    },
    {
     "name": "stdout",
     "output_type": "stream",
     "text": [
      "bmwcra_1\n"
     ]
    },
    {
     "name": "stderr",
     "output_type": "stream",
     "text": [
      "Overall progress: 100%|████████████████████████████████████████████████████████████████████████████████████████████████████████████████████████████████████████████████████████████| 1/1 [00:00<00:00, 1159.61it/s]\n"
     ]
    },
    {
     "name": "stdout",
     "output_type": "stream",
     "text": [
      "pwtk\n"
     ]
    },
    {
     "name": "stderr",
     "output_type": "stream",
     "text": [
      "Overall progress: 100%|████████████████████████████████████████████████████████████████████████████████████████████████████████████████████████████████████████████████████████████| 1/1 [00:00<00:00, 1175.86it/s]\n"
     ]
    },
    {
     "name": "stdout",
     "output_type": "stream",
     "text": [
      "crankseg_2\n"
     ]
    },
    {
     "name": "stderr",
     "output_type": "stream",
     "text": [
      "Overall progress: 100%|████████████████████████████████████████████████████████████████████████████████████████████████████████████████████████████████████████████████████████████| 1/1 [00:00<00:00, 1102.02it/s]\n"
     ]
    },
    {
     "name": "stdout",
     "output_type": "stream",
     "text": [
      "nd12k\n"
     ]
    },
    {
     "name": "stderr",
     "output_type": "stream",
     "text": [
      "Overall progress: 100%|████████████████████████████████████████████████████████████████████████████████████████████████████████████████████████████████████████████████████████████| 1/1 [00:00<00:00, 1121.47it/s]\n"
     ]
    },
    {
     "name": "stdout",
     "output_type": "stream",
     "text": [
      "af_shell7\n"
     ]
    },
    {
     "name": "stderr",
     "output_type": "stream",
     "text": [
      "Overall progress: 100%|████████████████████████████████████████████████████████████████████████████████████████████████████████████████████████████████████████████████████████████| 1/1 [00:00<00:00, 1107.55it/s]\n"
     ]
    },
    {
     "name": "stdout",
     "output_type": "stream",
     "text": [
      "msdoor\n"
     ]
    },
    {
     "name": "stderr",
     "output_type": "stream",
     "text": [
      "Overall progress: 100%|████████████████████████████████████████████████████████████████████████████████████████████████████████████████████████████████████████████████████████████| 1/1 [00:00<00:00, 1067.80it/s]\n"
     ]
    },
    {
     "name": "stdout",
     "output_type": "stream",
     "text": [
      "f1\n"
     ]
    },
    {
     "name": "stderr",
     "output_type": "stream",
     "text": [
      "Overall progress: 100%|██████████████████████████████████████████████████████████████████████████████████████████████████████████████████████████████████████████████████████████| 10/10 [00:00<00:00, 9421.17it/s]\n"
     ]
    },
    {
     "name": "stdout",
     "output_type": "stream",
     "text": [
      "nd24k\n"
     ]
    },
    {
     "name": "stderr",
     "output_type": "stream",
     "text": [
      "Overall progress: 100%|████████████████████████████████████████████████████████████████████████████████████████████████████████████████████████████████████████████████████████████| 1/1 [00:00<00:00, 1134.82it/s]\n"
     ]
    },
    {
     "name": "stdout",
     "output_type": "stream",
     "text": [
      "ldoor\n"
     ]
    },
    {
     "name": "stderr",
     "output_type": "stream",
     "text": [
      "Overall progress: 100%|█████████████████████████████████████████████████████████████████████████████████████████████████████████████████████████████████████████████████████████████| 1/1 [00:00<00:00, 975.87it/s]\n"
     ]
    }
   ],
   "source": [
    "for mat in kaporin_ss_choice:\n",
    "    print(mat)\n",
    "    mat_i = ssgetpy.search(name_or_id=mat)\n",
    "    mat_i.download(format='MAT', destpath=path, extract=True)"
   ]
  },
  {
   "cell_type": "code",
   "execution_count": 6,
   "id": "8d5b4bd0",
   "metadata": {},
   "outputs": [
    {
     "name": "stdout",
     "output_type": "stream",
     "text": [
      "dubcova3\n"
     ]
    },
    {
     "name": "stderr",
     "output_type": "stream",
     "text": [
      "Overall progress: 100%|████████████████████████████████████████████████████████████████████████████████████████████████████████████████████████████████████████████████████████████| 1/1 [00:00<00:00, 1398.57it/s]\n"
     ]
    },
    {
     "name": "stdout",
     "output_type": "stream",
     "text": [
      "f1\n"
     ]
    },
    {
     "name": "stderr",
     "output_type": "stream",
     "text": [
      "Overall progress: 100%|█████████████████████████████████████████████████████████████████████████████████████████████████████████████████████████████████████████████████████████| 10/10 [00:00<00:00, 32716.88it/s]\n"
     ]
    },
    {
     "name": "stdout",
     "output_type": "stream",
     "text": [
      "g2_circuit\n"
     ]
    },
    {
     "name": "stderr",
     "output_type": "stream",
     "text": [
      "Overall progress: 100%|████████████████████████████████████████████████████████████████████████████████████████████████████████████████████████████████████████████████████████████| 1/1 [00:00<00:00, 5753.50it/s]\n"
     ]
    },
    {
     "name": "stdout",
     "output_type": "stream",
     "text": [
      "g3_circuit\n"
     ]
    },
    {
     "name": "stderr",
     "output_type": "stream",
     "text": [
      "Overall progress: 100%|████████████████████████████████████████████████████████████████████████████████████████████████████████████████████████████████████████████████████████████| 1/1 [00:00<00:00, 1241.29it/s]\n"
     ]
    },
    {
     "name": "stdout",
     "output_type": "stream",
     "text": [
      "pdb1hys\n"
     ]
    },
    {
     "name": "stderr",
     "output_type": "stream",
     "text": [
      "Overall progress: 100%|████████████████████████████████████████████████████████████████████████████████████████████████████████████████████████████████████████████████████████████| 1/1 [00:00<00:00, 1251.28it/s]\n"
     ]
    },
    {
     "name": "stdout",
     "output_type": "stream",
     "text": [
      "pres_poisson\n"
     ]
    },
    {
     "name": "stderr",
     "output_type": "stream",
     "text": [
      "Overall progress: 100%|████████████████████████████████████████████████████████████████████████████████████████████████████████████████████████████████████████████████████████████| 1/1 [00:00<00:00, 6123.07it/s]\n"
     ]
    }
   ],
   "source": [
    "not_loaded = ['dubcova3', 'f1', 'g2_circuit', 'g3_circuit', 'pdb1hys', 'pres_poisson']\n",
    "for mat in not_loaded:\n",
    "    print(mat)\n",
    "    mat_i = ssgetpy.search(name_or_id=mat)\n",
    "    mat_i.download(format='MAT', destpath=path, extract=True)"
   ]
  },
  {
   "cell_type": "code",
   "execution_count": 5,
   "id": "5dc9e695",
   "metadata": {},
   "outputs": [
    {
     "data": {
      "text/plain": [
       "5"
      ]
     },
     "execution_count": 5,
     "metadata": {},
     "output_type": "execute_result"
    }
   ],
   "source": [
    "2+3"
   ]
  },
  {
   "cell_type": "markdown",
   "id": "5d9d6df9",
   "metadata": {},
   "source": [
    "# Observe"
   ]
  },
  {
   "cell_type": "code",
   "execution_count": 6,
   "id": "a45d14b0",
   "metadata": {},
   "outputs": [
    {
     "name": "stdout",
     "output_type": "stream",
     "text": [
      "bodyy6\n"
     ]
    },
    {
     "data": {
      "text/html": [
       "<table><thead><th>Id</th><th>Group</th><th>Name</th><th>Rows</th><th>Cols</th><th>NNZ</th><th>DType</th><th>2D/3D Discretization?</th><th>SPD?</th><th>Pattern Symmetry</th><th>Numerical Symmetry</th><th>Kind</th><th>Spy Plot</th></thead><tbody><tr><td>870</td><td><a href=\"https://sparse.tamu.edu/Pothen\" target=\"_blank\">Pothen</a></td><td><a href=\"https://sparse.tamu.edu/Pothen/bodyy6\" target=\"_blank\">bodyy6</a></td><td>19366</td><td>19366</td><td>134208</td><td>real</td><td>Yes</td><td>Yes</td><td>1.0</td><td>1.0</td><td>structural problem</td><td><img src=\"https://sparse.tamu.edu/files/Pothen/bodyy6.png\"></td></tr></tbody></table>"
      ],
      "text/plain": [
       "[Matrix(870, 'Pothen', 'bodyy6', 19366, 19366, 134208, 'real', True, True, 1.0, 1.0, 'structural problem', 'https://sparse.tamu.edu/files/Pothen/bodyy6.png')]"
      ]
     },
     "metadata": {},
     "output_type": "display_data"
    },
    {
     "name": "stdout",
     "output_type": "stream",
     "text": [
      "bcsstk18\n"
     ]
    },
    {
     "data": {
      "text/html": [
       "<table><thead><th>Id</th><th>Group</th><th>Name</th><th>Rows</th><th>Cols</th><th>NNZ</th><th>DType</th><th>2D/3D Discretization?</th><th>SPD?</th><th>Pattern Symmetry</th><th>Numerical Symmetry</th><th>Kind</th><th>Spy Plot</th></thead><tbody><tr><td>40</td><td><a href=\"https://sparse.tamu.edu/HB\" target=\"_blank\">HB</a></td><td><a href=\"https://sparse.tamu.edu/HB/bcsstk18\" target=\"_blank\">bcsstk18</a></td><td>11948</td><td>11948</td><td>149090</td><td>real</td><td>Yes</td><td>Yes</td><td>1.0</td><td>1.0</td><td>structural problem</td><td><img src=\"https://sparse.tamu.edu/files/HB/bcsstk18.png\"></td></tr></tbody></table>"
      ],
      "text/plain": [
       "[Matrix(40, 'HB', 'bcsstk18', 11948, 11948, 149090, 'real', True, True, 1.0, 1.0, 'structural problem', 'https://sparse.tamu.edu/files/HB/bcsstk18.png')]"
      ]
     },
     "metadata": {},
     "output_type": "display_data"
    },
    {
     "name": "stdout",
     "output_type": "stream",
     "text": [
      "bcsstk25\n"
     ]
    },
    {
     "data": {
      "text/html": [
       "<table><thead><th>Id</th><th>Group</th><th>Name</th><th>Rows</th><th>Cols</th><th>NNZ</th><th>DType</th><th>2D/3D Discretization?</th><th>SPD?</th><th>Pattern Symmetry</th><th>Numerical Symmetry</th><th>Kind</th><th>Spy Plot</th></thead><tbody><tr><td>47</td><td><a href=\"https://sparse.tamu.edu/HB\" target=\"_blank\">HB</a></td><td><a href=\"https://sparse.tamu.edu/HB/bcsstk25\" target=\"_blank\">bcsstk25</a></td><td>15439</td><td>15439</td><td>252241</td><td>real</td><td>Yes</td><td>Yes</td><td>1.0</td><td>1.0</td><td>structural problem</td><td><img src=\"https://sparse.tamu.edu/files/HB/bcsstk25.png\"></td></tr></tbody></table>"
      ],
      "text/plain": [
       "[Matrix(47, 'HB', 'bcsstk25', 15439, 15439, 252241, 'real', True, True, 1.0, 1.0, 'structural problem', 'https://sparse.tamu.edu/files/HB/bcsstk25.png')]"
      ]
     },
     "metadata": {},
     "output_type": "display_data"
    },
    {
     "name": "stdout",
     "output_type": "stream",
     "text": [
      "cvxbqp1\n"
     ]
    },
    {
     "data": {
      "text/html": [
       "<table><thead><th>Id</th><th>Group</th><th>Name</th><th>Rows</th><th>Cols</th><th>NNZ</th><th>DType</th><th>2D/3D Discretization?</th><th>SPD?</th><th>Pattern Symmetry</th><th>Numerical Symmetry</th><th>Kind</th><th>Spy Plot</th></thead><tbody><tr><td>1304</td><td><a href=\"https://sparse.tamu.edu/GHS_indef\" target=\"_blank\">GHS_indef</a></td><td><a href=\"https://sparse.tamu.edu/GHS_indef/ncvxbqp1\" target=\"_blank\">ncvxbqp1</a></td><td>50000</td><td>50000</td><td>349968</td><td>real</td><td>No</td><td>No</td><td>1.0</td><td>1.0</td><td>optimization problem</td><td><img src=\"https://sparse.tamu.edu/files/GHS_indef/ncvxbqp1.png\"></td></tr><tr><td>1310</td><td><a href=\"https://sparse.tamu.edu/GHS_psdef\" target=\"_blank\">GHS_psdef</a></td><td><a href=\"https://sparse.tamu.edu/GHS_psdef/cvxbqp1\" target=\"_blank\">cvxbqp1</a></td><td>50000</td><td>50000</td><td>349968</td><td>real</td><td>No</td><td>Yes</td><td>1.0</td><td>1.0</td><td>optimization problem</td><td><img src=\"https://sparse.tamu.edu/files/GHS_psdef/cvxbqp1.png\"></td></tr></tbody></table>"
      ],
      "text/plain": [
       "[Matrix(1304, 'GHS_indef', 'ncvxbqp1', 50000, 50000, 349968, 'real', False, False, 1.0, 1.0, 'optimization problem', 'https://sparse.tamu.edu/files/GHS_indef/ncvxbqp1.png'),\n",
       " Matrix(1310, 'GHS_psdef', 'cvxbqp1', 50000, 50000, 349968, 'real', False, True, 1.0, 1.0, 'optimization problem', 'https://sparse.tamu.edu/files/GHS_psdef/cvxbqp1.png')]"
      ]
     },
     "metadata": {},
     "output_type": "display_data"
    },
    {
     "name": "stdout",
     "output_type": "stream",
     "text": [
      "bcsstk17\n"
     ]
    },
    {
     "data": {
      "text/html": [
       "<table><thead><th>Id</th><th>Group</th><th>Name</th><th>Rows</th><th>Cols</th><th>NNZ</th><th>DType</th><th>2D/3D Discretization?</th><th>SPD?</th><th>Pattern Symmetry</th><th>Numerical Symmetry</th><th>Kind</th><th>Spy Plot</th></thead><tbody><tr><td>39</td><td><a href=\"https://sparse.tamu.edu/HB\" target=\"_blank\">HB</a></td><td><a href=\"https://sparse.tamu.edu/HB/bcsstk17\" target=\"_blank\">bcsstk17</a></td><td>10974</td><td>10974</td><td>428650</td><td>real</td><td>Yes</td><td>Yes</td><td>1.0</td><td>1.0</td><td>structural problem</td><td><img src=\"https://sparse.tamu.edu/files/HB/bcsstk17.png\"></td></tr></tbody></table>"
      ],
      "text/plain": [
       "[Matrix(39, 'HB', 'bcsstk17', 10974, 10974, 428650, 'real', True, True, 1.0, 1.0, 'structural problem', 'https://sparse.tamu.edu/files/HB/bcsstk17.png')]"
      ]
     },
     "metadata": {},
     "output_type": "display_data"
    },
    {
     "name": "stdout",
     "output_type": "stream",
     "text": [
      "gridgena\n"
     ]
    },
    {
     "data": {
      "text/html": [
       "<table><thead><th>Id</th><th>Group</th><th>Name</th><th>Rows</th><th>Cols</th><th>NNZ</th><th>DType</th><th>2D/3D Discretization?</th><th>SPD?</th><th>Pattern Symmetry</th><th>Numerical Symmetry</th><th>Kind</th><th>Spy Plot</th></thead><tbody><tr><td>1311</td><td><a href=\"https://sparse.tamu.edu/GHS_psdef\" target=\"_blank\">GHS_psdef</a></td><td><a href=\"https://sparse.tamu.edu/GHS_psdef/gridgena\" target=\"_blank\">gridgena</a></td><td>48962</td><td>48962</td><td>512084</td><td>real</td><td>No</td><td>Yes</td><td>1.0</td><td>1.0</td><td>optimization problem</td><td><img src=\"https://sparse.tamu.edu/files/GHS_psdef/gridgena.png\"></td></tr></tbody></table>"
      ],
      "text/plain": [
       "[Matrix(1311, 'GHS_psdef', 'gridgena', 48962, 48962, 512084, 'real', False, True, 1.0, 1.0, 'optimization problem', 'https://sparse.tamu.edu/files/GHS_psdef/gridgena.png')]"
      ]
     },
     "metadata": {},
     "output_type": "display_data"
    },
    {
     "name": "stdout",
     "output_type": "stream",
     "text": [
      "apache1\n"
     ]
    },
    {
     "data": {
      "text/html": [
       "<table><thead><th>Id</th><th>Group</th><th>Name</th><th>Rows</th><th>Cols</th><th>NNZ</th><th>DType</th><th>2D/3D Discretization?</th><th>SPD?</th><th>Pattern Symmetry</th><th>Numerical Symmetry</th><th>Kind</th><th>Spy Plot</th></thead><tbody><tr><td>1422</td><td><a href=\"https://sparse.tamu.edu/GHS_psdef\" target=\"_blank\">GHS_psdef</a></td><td><a href=\"https://sparse.tamu.edu/GHS_psdef/apache1\" target=\"_blank\">apache1</a></td><td>80800</td><td>80800</td><td>542184</td><td>real</td><td>Yes</td><td>Yes</td><td>1.0</td><td>1.0</td><td>structural problem</td><td><img src=\"https://sparse.tamu.edu/files/GHS_psdef/apache1.png\"></td></tr></tbody></table>"
      ],
      "text/plain": [
       "[Matrix(1422, 'GHS_psdef', 'apache1', 80800, 80800, 542184, 'real', True, True, 1.0, 1.0, 'structural problem', 'https://sparse.tamu.edu/files/GHS_psdef/apache1.png')]"
      ]
     },
     "metadata": {},
     "output_type": "display_data"
    },
    {
     "name": "stdout",
     "output_type": "stream",
     "text": [
      "pres_poisson\n"
     ]
    },
    {
     "data": {
      "text/html": [
       "<table><thead><th>Id</th><th>Group</th><th>Name</th><th>Rows</th><th>Cols</th><th>NNZ</th><th>DType</th><th>2D/3D Discretization?</th><th>SPD?</th><th>Pattern Symmetry</th><th>Numerical Symmetry</th><th>Kind</th><th>Spy Plot</th></thead><tbody><tr><td>1184</td><td><a href=\"https://sparse.tamu.edu/ACUSIM\" target=\"_blank\">ACUSIM</a></td><td><a href=\"https://sparse.tamu.edu/ACUSIM/Pres_Poisson\" target=\"_blank\">Pres_Poisson</a></td><td>14822</td><td>14822</td><td>715804</td><td>real</td><td>Yes</td><td>Yes</td><td>1.0</td><td>1.0</td><td>computational fluid dynamics problem</td><td><img src=\"https://sparse.tamu.edu/files/ACUSIM/Pres_Poisson.png\"></td></tr></tbody></table>"
      ],
      "text/plain": [
       "[Matrix(1184, 'ACUSIM', 'Pres_Poisson', 14822, 14822, 715804, 'real', True, True, 1.0, 1.0, 'computational fluid dynamics problem', 'https://sparse.tamu.edu/files/ACUSIM/Pres_Poisson.png')]"
      ]
     },
     "metadata": {},
     "output_type": "display_data"
    },
    {
     "name": "stdout",
     "output_type": "stream",
     "text": [
      "g2_circuit\n"
     ]
    },
    {
     "data": {
      "text/html": [
       "<table><thead><th>Id</th><th>Group</th><th>Name</th><th>Rows</th><th>Cols</th><th>NNZ</th><th>DType</th><th>2D/3D Discretization?</th><th>SPD?</th><th>Pattern Symmetry</th><th>Numerical Symmetry</th><th>Kind</th><th>Spy Plot</th></thead><tbody><tr><td>1412</td><td><a href=\"https://sparse.tamu.edu/AMD\" target=\"_blank\">AMD</a></td><td><a href=\"https://sparse.tamu.edu/AMD/G2_circuit\" target=\"_blank\">G2_circuit</a></td><td>150102</td><td>150102</td><td>726674</td><td>real</td><td>No</td><td>Yes</td><td>1.0</td><td>1.0</td><td>circuit simulation problem</td><td><img src=\"https://sparse.tamu.edu/files/AMD/G2_circuit.png\"></td></tr></tbody></table>"
      ],
      "text/plain": [
       "[Matrix(1412, 'AMD', 'G2_circuit', 150102, 150102, 726674, 'real', False, True, 1.0, 1.0, 'circuit simulation problem', 'https://sparse.tamu.edu/files/AMD/G2_circuit.png')]"
      ]
     },
     "metadata": {},
     "output_type": "display_data"
    },
    {
     "name": "stdout",
     "output_type": "stream",
     "text": [
      "olafu\n"
     ]
    },
    {
     "data": {
      "text/html": [
       "<table><thead><th>Id</th><th>Group</th><th>Name</th><th>Rows</th><th>Cols</th><th>NNZ</th><th>DType</th><th>2D/3D Discretization?</th><th>SPD?</th><th>Pattern Symmetry</th><th>Numerical Symmetry</th><th>Kind</th><th>Spy Plot</th></thead><tbody><tr><td>813</td><td><a href=\"https://sparse.tamu.edu/Simon\" target=\"_blank\">Simon</a></td><td><a href=\"https://sparse.tamu.edu/Simon/olafu\" target=\"_blank\">olafu</a></td><td>16146</td><td>16146</td><td>1015156</td><td>real</td><td>Yes</td><td>Yes</td><td>1.0</td><td>1.0</td><td>structural problem</td><td><img src=\"https://sparse.tamu.edu/files/Simon/olafu.png\"></td></tr></tbody></table>"
      ],
      "text/plain": [
       "[Matrix(813, 'Simon', 'olafu', 16146, 16146, 1015156, 'real', True, True, 1.0, 1.0, 'structural problem', 'https://sparse.tamu.edu/files/Simon/olafu.png')]"
      ]
     },
     "metadata": {},
     "output_type": "display_data"
    },
    {
     "name": "stdout",
     "output_type": "stream",
     "text": [
      "gyro_k\n"
     ]
    },
    {
     "data": {
      "text/html": [
       "<table><thead><th>Id</th><th>Group</th><th>Name</th><th>Rows</th><th>Cols</th><th>NNZ</th><th>DType</th><th>2D/3D Discretization?</th><th>SPD?</th><th>Pattern Symmetry</th><th>Numerical Symmetry</th><th>Kind</th><th>Spy Plot</th></thead><tbody><tr><td>1202</td><td><a href=\"https://sparse.tamu.edu/Oberwolfach\" target=\"_blank\">Oberwolfach</a></td><td><a href=\"https://sparse.tamu.edu/Oberwolfach/gyro_k\" target=\"_blank\">gyro_k</a></td><td>17361</td><td>17361</td><td>1021159</td><td>real</td><td>Yes</td><td>Yes</td><td>1.0</td><td>1.0</td><td>duplicate model reduction problem</td><td><img src=\"https://sparse.tamu.edu/files/Oberwolfach/gyro_k.png\"></td></tr></tbody></table>"
      ],
      "text/plain": [
       "[Matrix(1202, 'Oberwolfach', 'gyro_k', 17361, 17361, 1021159, 'real', True, True, 1.0, 1.0, 'duplicate model reduction problem', 'https://sparse.tamu.edu/files/Oberwolfach/gyro_k.png')]"
      ]
     },
     "metadata": {},
     "output_type": "display_data"
    },
    {
     "name": "stdout",
     "output_type": "stream",
     "text": [
      "msc23052\n"
     ]
    },
    {
     "data": {
      "text/html": [
       "<table><thead><th>Id</th><th>Group</th><th>Name</th><th>Rows</th><th>Cols</th><th>NNZ</th><th>DType</th><th>2D/3D Discretization?</th><th>SPD?</th><th>Pattern Symmetry</th><th>Numerical Symmetry</th><th>Kind</th><th>Spy Plot</th></thead><tbody><tr><td>362</td><td><a href=\"https://sparse.tamu.edu/Boeing\" target=\"_blank\">Boeing</a></td><td><a href=\"https://sparse.tamu.edu/Boeing/msc23052\" target=\"_blank\">msc23052</a></td><td>23052</td><td>23052</td><td>1142686</td><td>real</td><td>Yes</td><td>Yes</td><td>1.0</td><td>1.0</td><td>structural problem</td><td><img src=\"https://sparse.tamu.edu/files/Boeing/msc23052.png\"></td></tr></tbody></table>"
      ],
      "text/plain": [
       "[Matrix(362, 'Boeing', 'msc23052', 23052, 23052, 1142686, 'real', True, True, 1.0, 1.0, 'structural problem', 'https://sparse.tamu.edu/files/Boeing/msc23052.png')]"
      ]
     },
     "metadata": {},
     "output_type": "display_data"
    },
    {
     "name": "stdout",
     "output_type": "stream",
     "text": [
      "bcsstk36\n"
     ]
    },
    {
     "data": {
      "text/html": [
       "<table><thead><th>Id</th><th>Group</th><th>Name</th><th>Rows</th><th>Cols</th><th>NNZ</th><th>DType</th><th>2D/3D Discretization?</th><th>SPD?</th><th>Pattern Symmetry</th><th>Numerical Symmetry</th><th>Kind</th><th>Spy Plot</th></thead><tbody><tr><td>341</td><td><a href=\"https://sparse.tamu.edu/Boeing\" target=\"_blank\">Boeing</a></td><td><a href=\"https://sparse.tamu.edu/Boeing/bcsstk36\" target=\"_blank\">bcsstk36</a></td><td>23052</td><td>23052</td><td>1143140</td><td>real</td><td>Yes</td><td>Yes</td><td>1.0</td><td>1.0</td><td>structural problem</td><td><img src=\"https://sparse.tamu.edu/files/Boeing/bcsstk36.png\"></td></tr></tbody></table>"
      ],
      "text/plain": [
       "[Matrix(341, 'Boeing', 'bcsstk36', 23052, 23052, 1143140, 'real', True, True, 1.0, 1.0, 'structural problem', 'https://sparse.tamu.edu/files/Boeing/bcsstk36.png')]"
      ]
     },
     "metadata": {},
     "output_type": "display_data"
    },
    {
     "name": "stdout",
     "output_type": "stream",
     "text": [
      "msc10848\n"
     ]
    },
    {
     "data": {
      "text/html": [
       "<table><thead><th>Id</th><th>Group</th><th>Name</th><th>Rows</th><th>Cols</th><th>NNZ</th><th>DType</th><th>2D/3D Discretization?</th><th>SPD?</th><th>Pattern Symmetry</th><th>Numerical Symmetry</th><th>Kind</th><th>Spy Plot</th></thead><tbody><tr><td>361</td><td><a href=\"https://sparse.tamu.edu/Boeing\" target=\"_blank\">Boeing</a></td><td><a href=\"https://sparse.tamu.edu/Boeing/msc10848\" target=\"_blank\">msc10848</a></td><td>10848</td><td>10848</td><td>1229776</td><td>real</td><td>Yes</td><td>Yes</td><td>1.0</td><td>1.0</td><td>structural problem</td><td><img src=\"https://sparse.tamu.edu/files/Boeing/msc10848.png\"></td></tr><tr><td>2642</td><td><a href=\"https://sparse.tamu.edu/DIMACS10\" target=\"_blank\">DIMACS10</a></td><td><a href=\"https://sparse.tamu.edu/DIMACS10/vsp_msc10848_300sep_100in_1Kout\" target=\"_blank\">vsp_msc10848_300sep_100in_1Kout</a></td><td>21996</td><td>21996</td><td>2442056</td><td>binary</td><td>No</td><td>No</td><td>1.0</td><td>1.0</td><td>random unweighted graph</td><td><img src=\"https://sparse.tamu.edu/files/DIMACS10/vsp_msc10848_300sep_100in_1Kout.png\"></td></tr></tbody></table>"
      ],
      "text/plain": [
       "[Matrix(361, 'Boeing', 'msc10848', 10848, 10848, 1229776, 'real', True, True, 1.0, 1.0, 'structural problem', 'https://sparse.tamu.edu/files/Boeing/msc10848.png'),\n",
       " Matrix(2642, 'DIMACS10', 'vsp_msc10848_300sep_100in_1Kout', 21996, 21996, 2442056, 'binary', False, False, 1.0, 1.0, 'random unweighted graph', 'https://sparse.tamu.edu/files/DIMACS10/vsp_msc10848_300sep_100in_1Kout.png')]"
      ]
     },
     "metadata": {},
     "output_type": "display_data"
    },
    {
     "name": "stdout",
     "output_type": "stream",
     "text": [
      "raefsky4\n"
     ]
    },
    {
     "data": {
      "text/html": [
       "<table><thead><th>Id</th><th>Group</th><th>Name</th><th>Rows</th><th>Cols</th><th>NNZ</th><th>DType</th><th>2D/3D Discretization?</th><th>SPD?</th><th>Pattern Symmetry</th><th>Numerical Symmetry</th><th>Kind</th><th>Spy Plot</th></thead><tbody><tr><td>817</td><td><a href=\"https://sparse.tamu.edu/Simon\" target=\"_blank\">Simon</a></td><td><a href=\"https://sparse.tamu.edu/Simon/raefsky4\" target=\"_blank\">raefsky4</a></td><td>19779</td><td>19779</td><td>1316789</td><td>real</td><td>Yes</td><td>Yes</td><td>1.0</td><td>1.0</td><td>structural problem</td><td><img src=\"https://sparse.tamu.edu/files/Simon/raefsky4.png\"></td></tr></tbody></table>"
      ],
      "text/plain": [
       "[Matrix(817, 'Simon', 'raefsky4', 19779, 19779, 1316789, 'real', True, True, 1.0, 1.0, 'structural problem', 'https://sparse.tamu.edu/files/Simon/raefsky4.png')]"
      ]
     },
     "metadata": {},
     "output_type": "display_data"
    },
    {
     "name": "stdout",
     "output_type": "stream",
     "text": [
      "cfd1\n"
     ]
    },
    {
     "data": {
      "text/html": [
       "<table><thead><th>Id</th><th>Group</th><th>Name</th><th>Rows</th><th>Cols</th><th>NNZ</th><th>DType</th><th>2D/3D Discretization?</th><th>SPD?</th><th>Pattern Symmetry</th><th>Numerical Symmetry</th><th>Kind</th><th>Spy Plot</th></thead><tbody><tr><td>804</td><td><a href=\"https://sparse.tamu.edu/Rothberg\" target=\"_blank\">Rothberg</a></td><td><a href=\"https://sparse.tamu.edu/Rothberg/cfd1\" target=\"_blank\">cfd1</a></td><td>70656</td><td>70656</td><td>1825580</td><td>real</td><td>Yes</td><td>Yes</td><td>1.0</td><td>1.0</td><td>computational fluid dynamics problem</td><td><img src=\"https://sparse.tamu.edu/files/Rothberg/cfd1.png\"></td></tr></tbody></table>"
      ],
      "text/plain": [
       "[Matrix(804, 'Rothberg', 'cfd1', 70656, 70656, 1825580, 'real', True, True, 1.0, 1.0, 'computational fluid dynamics problem', 'https://sparse.tamu.edu/files/Rothberg/cfd1.png')]"
      ]
     },
     "metadata": {},
     "output_type": "display_data"
    },
    {
     "name": "stdout",
     "output_type": "stream",
     "text": [
      "oilpan\n"
     ]
    },
    {
     "data": {
      "text/html": [
       "<table><thead><th>Id</th><th>Group</th><th>Name</th><th>Rows</th><th>Cols</th><th>NNZ</th><th>DType</th><th>2D/3D Discretization?</th><th>SPD?</th><th>Pattern Symmetry</th><th>Numerical Symmetry</th><th>Kind</th><th>Spy Plot</th></thead><tbody><tr><td>1270</td><td><a href=\"https://sparse.tamu.edu/GHS_psdef\" target=\"_blank\">GHS_psdef</a></td><td><a href=\"https://sparse.tamu.edu/GHS_psdef/oilpan\" target=\"_blank\">oilpan</a></td><td>73752</td><td>73752</td><td>2148558</td><td>real</td><td>Yes</td><td>Yes</td><td>1.0</td><td>1.0</td><td>structural problem</td><td><img src=\"https://sparse.tamu.edu/files/GHS_psdef/oilpan.png\"></td></tr></tbody></table>"
      ],
      "text/plain": [
       "[Matrix(1270, 'GHS_psdef', 'oilpan', 73752, 73752, 2148558, 'real', True, True, 1.0, 1.0, 'structural problem', 'https://sparse.tamu.edu/files/GHS_psdef/oilpan.png')]"
      ]
     },
     "metadata": {},
     "output_type": "display_data"
    },
    {
     "name": "stdout",
     "output_type": "stream",
     "text": [
      "vanbody\n"
     ]
    },
    {
     "data": {
      "text/html": [
       "<table><thead><th>Id</th><th>Group</th><th>Name</th><th>Rows</th><th>Cols</th><th>NNZ</th><th>DType</th><th>2D/3D Discretization?</th><th>SPD?</th><th>Pattern Symmetry</th><th>Numerical Symmetry</th><th>Kind</th><th>Spy Plot</th></thead><tbody><tr><td>1287</td><td><a href=\"https://sparse.tamu.edu/GHS_psdef\" target=\"_blank\">GHS_psdef</a></td><td><a href=\"https://sparse.tamu.edu/GHS_psdef/vanbody\" target=\"_blank\">vanbody</a></td><td>47072</td><td>47072</td><td>2329056</td><td>real</td><td>Yes</td><td>Yes</td><td>1.0</td><td>1.0</td><td>structural problem</td><td><img src=\"https://sparse.tamu.edu/files/GHS_psdef/vanbody.png\"></td></tr></tbody></table>"
      ],
      "text/plain": [
       "[Matrix(1287, 'GHS_psdef', 'vanbody', 47072, 47072, 2329056, 'real', True, True, 1.0, 1.0, 'structural problem', 'https://sparse.tamu.edu/files/GHS_psdef/vanbody.png')]"
      ]
     },
     "metadata": {},
     "output_type": "display_data"
    },
    {
     "name": "stdout",
     "output_type": "stream",
     "text": [
      "ct20stif\n"
     ]
    },
    {
     "data": {
      "text/html": [
       "<table><thead><th>Id</th><th>Group</th><th>Name</th><th>Rows</th><th>Cols</th><th>NNZ</th><th>DType</th><th>2D/3D Discretization?</th><th>SPD?</th><th>Pattern Symmetry</th><th>Numerical Symmetry</th><th>Kind</th><th>Spy Plot</th></thead><tbody><tr><td>356</td><td><a href=\"https://sparse.tamu.edu/Boeing\" target=\"_blank\">Boeing</a></td><td><a href=\"https://sparse.tamu.edu/Boeing/ct20stif\" target=\"_blank\">ct20stif</a></td><td>52329</td><td>52329</td><td>2600295</td><td>real</td><td>Yes</td><td>Yes</td><td>1.0</td><td>1.0</td><td>structural problem</td><td><img src=\"https://sparse.tamu.edu/files/Boeing/ct20stif.png\"></td></tr><tr><td>368</td><td><a href=\"https://sparse.tamu.edu/Boeing\" target=\"_blank\">Boeing</a></td><td><a href=\"https://sparse.tamu.edu/Boeing/pct20stif\" target=\"_blank\">pct20stif</a></td><td>52329</td><td>52329</td><td>2698463</td><td>binary</td><td>Yes</td><td>No</td><td>1.0</td><td>1.0</td><td>structural problem</td><td><img src=\"https://sparse.tamu.edu/files/Boeing/pct20stif.png\"></td></tr></tbody></table>"
      ],
      "text/plain": [
       "[Matrix(356, 'Boeing', 'ct20stif', 52329, 52329, 2600295, 'real', True, True, 1.0, 1.0, 'structural problem', 'https://sparse.tamu.edu/files/Boeing/ct20stif.png'),\n",
       " Matrix(368, 'Boeing', 'pct20stif', 52329, 52329, 2698463, 'binary', True, False, 1.0, 1.0, 'structural problem', 'https://sparse.tamu.edu/files/Boeing/pct20stif.png')]"
      ]
     },
     "metadata": {},
     "output_type": "display_data"
    },
    {
     "name": "stdout",
     "output_type": "stream",
     "text": [
      "nasasrb\n"
     ]
    },
    {
     "data": {
      "text/html": [
       "<table><thead><th>Id</th><th>Group</th><th>Name</th><th>Rows</th><th>Cols</th><th>NNZ</th><th>DType</th><th>2D/3D Discretization?</th><th>SPD?</th><th>Pattern Symmetry</th><th>Numerical Symmetry</th><th>Kind</th><th>Spy Plot</th></thead><tbody><tr><td>761</td><td><a href=\"https://sparse.tamu.edu/Nasa\" target=\"_blank\">Nasa</a></td><td><a href=\"https://sparse.tamu.edu/Nasa/nasasrb\" target=\"_blank\">nasasrb</a></td><td>54870</td><td>54870</td><td>2677324</td><td>real</td><td>Yes</td><td>Yes</td><td>1.0</td><td>1.0</td><td>structural problem</td><td><img src=\"https://sparse.tamu.edu/files/Nasa/nasasrb.png\"></td></tr></tbody></table>"
      ],
      "text/plain": [
       "[Matrix(761, 'Nasa', 'nasasrb', 54870, 54870, 2677324, 'real', True, True, 1.0, 1.0, 'structural problem', 'https://sparse.tamu.edu/files/Nasa/nasasrb.png')]"
      ]
     },
     "metadata": {},
     "output_type": "display_data"
    },
    {
     "name": "stdout",
     "output_type": "stream",
     "text": [
      "cfd2\n"
     ]
    },
    {
     "data": {
      "text/html": [
       "<table><thead><th>Id</th><th>Group</th><th>Name</th><th>Rows</th><th>Cols</th><th>NNZ</th><th>DType</th><th>2D/3D Discretization?</th><th>SPD?</th><th>Pattern Symmetry</th><th>Numerical Symmetry</th><th>Kind</th><th>Spy Plot</th></thead><tbody><tr><td>805</td><td><a href=\"https://sparse.tamu.edu/Rothberg\" target=\"_blank\">Rothberg</a></td><td><a href=\"https://sparse.tamu.edu/Rothberg/cfd2\" target=\"_blank\">cfd2</a></td><td>123440</td><td>123440</td><td>3085406</td><td>real</td><td>Yes</td><td>Yes</td><td>1.0</td><td>1.0</td><td>computational fluid dynamics problem</td><td><img src=\"https://sparse.tamu.edu/files/Rothberg/cfd2.png\"></td></tr></tbody></table>"
      ],
      "text/plain": [
       "[Matrix(805, 'Rothberg', 'cfd2', 123440, 123440, 3085406, 'real', True, True, 1.0, 1.0, 'computational fluid dynamics problem', 'https://sparse.tamu.edu/files/Rothberg/cfd2.png')]"
      ]
     },
     "metadata": {},
     "output_type": "display_data"
    },
    {
     "name": "stdout",
     "output_type": "stream",
     "text": [
      "shipsec8\n"
     ]
    },
    {
     "data": {
      "text/html": [
       "<table><thead><th>Id</th><th>Group</th><th>Name</th><th>Rows</th><th>Cols</th><th>NNZ</th><th>DType</th><th>2D/3D Discretization?</th><th>SPD?</th><th>Pattern Symmetry</th><th>Numerical Symmetry</th><th>Kind</th><th>Spy Plot</th></thead><tbody><tr><td>1281</td><td><a href=\"https://sparse.tamu.edu/DNVS\" target=\"_blank\">DNVS</a></td><td><a href=\"https://sparse.tamu.edu/DNVS/shipsec8\" target=\"_blank\">shipsec8</a></td><td>114919</td><td>114919</td><td>3303553</td><td>real</td><td>Yes</td><td>Yes</td><td>1.0</td><td>1.0</td><td>structural problem</td><td><img src=\"https://sparse.tamu.edu/files/DNVS/shipsec8.png\"></td></tr></tbody></table>"
      ],
      "text/plain": [
       "[Matrix(1281, 'DNVS', 'shipsec8', 114919, 114919, 3303553, 'real', True, True, 1.0, 1.0, 'structural problem', 'https://sparse.tamu.edu/files/DNVS/shipsec8.png')]"
      ]
     },
     "metadata": {},
     "output_type": "display_data"
    },
    {
     "name": "stdout",
     "output_type": "stream",
     "text": [
      "shipsec1\n"
     ]
    },
    {
     "data": {
      "text/html": [
       "<table><thead><th>Id</th><th>Group</th><th>Name</th><th>Rows</th><th>Cols</th><th>NNZ</th><th>DType</th><th>2D/3D Discretization?</th><th>SPD?</th><th>Pattern Symmetry</th><th>Numerical Symmetry</th><th>Kind</th><th>Spy Plot</th></thead><tbody><tr><td>1279</td><td><a href=\"https://sparse.tamu.edu/DNVS\" target=\"_blank\">DNVS</a></td><td><a href=\"https://sparse.tamu.edu/DNVS/shipsec1\" target=\"_blank\">shipsec1</a></td><td>140874</td><td>140874</td><td>3568176</td><td>real</td><td>Yes</td><td>Yes</td><td>1.0</td><td>1.0</td><td>structural problem</td><td><img src=\"https://sparse.tamu.edu/files/DNVS/shipsec1.png\"></td></tr></tbody></table>"
      ],
      "text/plain": [
       "[Matrix(1279, 'DNVS', 'shipsec1', 140874, 140874, 3568176, 'real', True, True, 1.0, 1.0, 'structural problem', 'https://sparse.tamu.edu/files/DNVS/shipsec1.png')]"
      ]
     },
     "metadata": {},
     "output_type": "display_data"
    },
    {
     "name": "stdout",
     "output_type": "stream",
     "text": [
      "dubcova3\n"
     ]
    },
    {
     "data": {
      "text/html": [
       "<table><thead><th>Id</th><th>Group</th><th>Name</th><th>Rows</th><th>Cols</th><th>NNZ</th><th>DType</th><th>2D/3D Discretization?</th><th>SPD?</th><th>Pattern Symmetry</th><th>Numerical Symmetry</th><th>Kind</th><th>Spy Plot</th></thead><tbody><tr><td>1849</td><td><a href=\"https://sparse.tamu.edu/UTEP\" target=\"_blank\">UTEP</a></td><td><a href=\"https://sparse.tamu.edu/UTEP/Dubcova3\" target=\"_blank\">Dubcova3</a></td><td>146689</td><td>146689</td><td>3636643</td><td>real</td><td>Yes</td><td>Yes</td><td>1.0</td><td>1.0</td><td>2D/3D problem</td><td><img src=\"https://sparse.tamu.edu/files/UTEP/Dubcova3.png\"></td></tr></tbody></table>"
      ],
      "text/plain": [
       "[Matrix(1849, 'UTEP', 'Dubcova3', 146689, 146689, 3636643, 'real', True, True, 1.0, 1.0, '2D/3D problem', 'https://sparse.tamu.edu/files/UTEP/Dubcova3.png')]"
      ]
     },
     "metadata": {},
     "output_type": "display_data"
    },
    {
     "name": "stdout",
     "output_type": "stream",
     "text": [
      "parabolic_fem\n"
     ]
    },
    {
     "data": {
      "text/html": [
       "<table><thead><th>Id</th><th>Group</th><th>Name</th><th>Rows</th><th>Cols</th><th>NNZ</th><th>DType</th><th>2D/3D Discretization?</th><th>SPD?</th><th>Pattern Symmetry</th><th>Numerical Symmetry</th><th>Kind</th><th>Spy Plot</th></thead><tbody><tr><td>1853</td><td><a href=\"https://sparse.tamu.edu/Wissgott\" target=\"_blank\">Wissgott</a></td><td><a href=\"https://sparse.tamu.edu/Wissgott/parabolic_fem\" target=\"_blank\">parabolic_fem</a></td><td>525825</td><td>525825</td><td>3674625</td><td>real</td><td>Yes</td><td>Yes</td><td>1.0</td><td>1.0</td><td>computational fluid dynamics problem</td><td><img src=\"https://sparse.tamu.edu/files/Wissgott/parabolic_fem.png\"></td></tr></tbody></table>"
      ],
      "text/plain": [
       "[Matrix(1853, 'Wissgott', 'parabolic_fem', 525825, 525825, 3674625, 'real', True, True, 1.0, 1.0, 'computational fluid dynamics problem', 'https://sparse.tamu.edu/files/Wissgott/parabolic_fem.png')]"
      ]
     },
     "metadata": {},
     "output_type": "display_data"
    },
    {
     "name": "stdout",
     "output_type": "stream",
     "text": [
      "s3dkt3m2\n"
     ]
    },
    {
     "data": {
      "text/html": [
       "<table><thead><th>Id</th><th>Group</th><th>Name</th><th>Rows</th><th>Cols</th><th>NNZ</th><th>DType</th><th>2D/3D Discretization?</th><th>SPD?</th><th>Pattern Symmetry</th><th>Numerical Symmetry</th><th>Kind</th><th>Spy Plot</th></thead><tbody><tr><td>1276</td><td><a href=\"https://sparse.tamu.edu/GHS_psdef\" target=\"_blank\">GHS_psdef</a></td><td><a href=\"https://sparse.tamu.edu/GHS_psdef/s3dkt3m2\" target=\"_blank\">s3dkt3m2</a></td><td>90449</td><td>90449</td><td>3686223</td><td>real</td><td>Yes</td><td>Yes</td><td>1.0</td><td>1.0</td><td>structural problem</td><td><img src=\"https://sparse.tamu.edu/files/GHS_psdef/s3dkt3m2.png\"></td></tr></tbody></table>"
      ],
      "text/plain": [
       "[Matrix(1276, 'GHS_psdef', 's3dkt3m2', 90449, 90449, 3686223, 'real', True, True, 1.0, 1.0, 'structural problem', 'https://sparse.tamu.edu/files/GHS_psdef/s3dkt3m2.png')]"
      ]
     },
     "metadata": {},
     "output_type": "display_data"
    },
    {
     "name": "stdout",
     "output_type": "stream",
     "text": [
      "smt\n"
     ]
    },
    {
     "data": {
      "text/html": [
       "<table><thead><th>Id</th><th>Group</th><th>Name</th><th>Rows</th><th>Cols</th><th>NNZ</th><th>DType</th><th>2D/3D Discretization?</th><th>SPD?</th><th>Pattern Symmetry</th><th>Numerical Symmetry</th><th>Kind</th><th>Spy Plot</th></thead><tbody><tr><td>1909</td><td><a href=\"https://sparse.tamu.edu/TKK\" target=\"_blank\">TKK</a></td><td><a href=\"https://sparse.tamu.edu/TKK/smt\" target=\"_blank\">smt</a></td><td>25710</td><td>25710</td><td>3749582</td><td>real</td><td>Yes</td><td>Yes</td><td>1.0</td><td>1.0</td><td>structural problem</td><td><img src=\"https://sparse.tamu.edu/files/TKK/smt.png\"></td></tr></tbody></table>"
      ],
      "text/plain": [
       "[Matrix(1909, 'TKK', 'smt', 25710, 25710, 3749582, 'real', True, True, 1.0, 1.0, 'structural problem', 'https://sparse.tamu.edu/files/TKK/smt.png')]"
      ]
     },
     "metadata": {},
     "output_type": "display_data"
    },
    {
     "name": "stdout",
     "output_type": "stream",
     "text": [
      "ship_003\n"
     ]
    },
    {
     "data": {
      "text/html": [
       "<table><thead><th>Id</th><th>Group</th><th>Name</th><th>Rows</th><th>Cols</th><th>NNZ</th><th>DType</th><th>2D/3D Discretization?</th><th>SPD?</th><th>Pattern Symmetry</th><th>Numerical Symmetry</th><th>Kind</th><th>Spy Plot</th></thead><tbody><tr><td>1278</td><td><a href=\"https://sparse.tamu.edu/DNVS\" target=\"_blank\">DNVS</a></td><td><a href=\"https://sparse.tamu.edu/DNVS/ship_003\" target=\"_blank\">ship_003</a></td><td>121728</td><td>121728</td><td>3777036</td><td>real</td><td>Yes</td><td>Yes</td><td>1.0</td><td>1.0</td><td>structural problem</td><td><img src=\"https://sparse.tamu.edu/files/DNVS/ship_003.png\"></td></tr></tbody></table>"
      ],
      "text/plain": [
       "[Matrix(1278, 'DNVS', 'ship_003', 121728, 121728, 3777036, 'real', True, True, 1.0, 1.0, 'structural problem', 'https://sparse.tamu.edu/files/DNVS/ship_003.png')]"
      ]
     },
     "metadata": {},
     "output_type": "display_data"
    },
    {
     "name": "stdout",
     "output_type": "stream",
     "text": [
      "ship_001\n"
     ]
    },
    {
     "data": {
      "text/html": [
       "<table><thead><th>Id</th><th>Group</th><th>Name</th><th>Rows</th><th>Cols</th><th>NNZ</th><th>DType</th><th>2D/3D Discretization?</th><th>SPD?</th><th>Pattern Symmetry</th><th>Numerical Symmetry</th><th>Kind</th><th>Spy Plot</th></thead><tbody><tr><td>1277</td><td><a href=\"https://sparse.tamu.edu/DNVS\" target=\"_blank\">DNVS</a></td><td><a href=\"https://sparse.tamu.edu/DNVS/ship_001\" target=\"_blank\">ship_001</a></td><td>34920</td><td>34920</td><td>3896496</td><td>real</td><td>Yes</td><td>Yes</td><td>1.0</td><td>1.0</td><td>structural problem</td><td><img src=\"https://sparse.tamu.edu/files/DNVS/ship_001.png\"></td></tr></tbody></table>"
      ],
      "text/plain": [
       "[Matrix(1277, 'DNVS', 'ship_001', 34920, 34920, 3896496, 'real', True, True, 1.0, 1.0, 'structural problem', 'https://sparse.tamu.edu/files/DNVS/ship_001.png')]"
      ]
     },
     "metadata": {},
     "output_type": "display_data"
    },
    {
     "name": "stdout",
     "output_type": "stream",
     "text": [
      "cant\n"
     ]
    },
    {
     "data": {
      "text/html": [
       "<table><thead><th>Id</th><th>Group</th><th>Name</th><th>Rows</th><th>Cols</th><th>NNZ</th><th>DType</th><th>2D/3D Discretization?</th><th>SPD?</th><th>Pattern Symmetry</th><th>Numerical Symmetry</th><th>Kind</th><th>Spy Plot</th></thead><tbody><tr><td>2375</td><td><a href=\"https://sparse.tamu.edu/Williams\" target=\"_blank\">Williams</a></td><td><a href=\"https://sparse.tamu.edu/Williams/cant\" target=\"_blank\">cant</a></td><td>62451</td><td>62451</td><td>4007383</td><td>real</td><td>Yes</td><td>Yes</td><td>1.0</td><td>1.0</td><td>2D/3D problem</td><td><img src=\"https://sparse.tamu.edu/files/Williams/cant.png\"></td></tr></tbody></table>"
      ],
      "text/plain": [
       "[Matrix(2375, 'Williams', 'cant', 62451, 62451, 4007383, 'real', True, True, 1.0, 1.0, '2D/3D problem', 'https://sparse.tamu.edu/files/Williams/cant.png')]"
      ]
     },
     "metadata": {},
     "output_type": "display_data"
    },
    {
     "name": "stdout",
     "output_type": "stream",
     "text": [
      "offshore\n"
     ]
    },
    {
     "data": {
      "text/html": [
       "<table><thead><th>Id</th><th>Group</th><th>Name</th><th>Rows</th><th>Cols</th><th>NNZ</th><th>DType</th><th>2D/3D Discretization?</th><th>SPD?</th><th>Pattern Symmetry</th><th>Numerical Symmetry</th><th>Kind</th><th>Spy Plot</th></thead><tbody><tr><td>2283</td><td><a href=\"https://sparse.tamu.edu/Um\" target=\"_blank\">Um</a></td><td><a href=\"https://sparse.tamu.edu/Um/offshore\" target=\"_blank\">offshore</a></td><td>259789</td><td>259789</td><td>4242673</td><td>real</td><td>Yes</td><td>Yes</td><td>1.0</td><td>1.0</td><td>electromagnetics problem</td><td><img src=\"https://sparse.tamu.edu/files/Um/offshore.png\"></td></tr></tbody></table>"
      ],
      "text/plain": [
       "[Matrix(2283, 'Um', 'offshore', 259789, 259789, 4242673, 'real', True, True, 1.0, 1.0, 'electromagnetics problem', 'https://sparse.tamu.edu/files/Um/offshore.png')]"
      ]
     },
     "metadata": {},
     "output_type": "display_data"
    },
    {
     "name": "stdout",
     "output_type": "stream",
     "text": [
      "pdb1hys\n"
     ]
    },
    {
     "data": {
      "text/html": [
       "<table><thead><th>Id</th><th>Group</th><th>Name</th><th>Rows</th><th>Cols</th><th>NNZ</th><th>DType</th><th>2D/3D Discretization?</th><th>SPD?</th><th>Pattern Symmetry</th><th>Numerical Symmetry</th><th>Kind</th><th>Spy Plot</th></thead><tbody><tr><td>2373</td><td><a href=\"https://sparse.tamu.edu/Williams\" target=\"_blank\">Williams</a></td><td><a href=\"https://sparse.tamu.edu/Williams/pdb1HYS\" target=\"_blank\">pdb1HYS</a></td><td>36417</td><td>36417</td><td>4344765</td><td>real</td><td>No</td><td>Yes</td><td>1.0</td><td>1.0</td><td>weighted undirected graph</td><td><img src=\"https://sparse.tamu.edu/files/Williams/pdb1HYS.png\"></td></tr></tbody></table>"
      ],
      "text/plain": [
       "[Matrix(2373, 'Williams', 'pdb1HYS', 36417, 36417, 4344765, 'real', False, True, 1.0, 1.0, 'weighted undirected graph', 'https://sparse.tamu.edu/files/Williams/pdb1HYS.png')]"
      ]
     },
     "metadata": {},
     "output_type": "display_data"
    },
    {
     "name": "stdout",
     "output_type": "stream",
     "text": [
      "s3dkq4m2\n"
     ]
    },
    {
     "data": {
      "text/html": [
       "<table><thead><th>Id</th><th>Group</th><th>Name</th><th>Rows</th><th>Cols</th><th>NNZ</th><th>DType</th><th>2D/3D Discretization?</th><th>SPD?</th><th>Pattern Symmetry</th><th>Numerical Symmetry</th><th>Kind</th><th>Spy Plot</th></thead><tbody><tr><td>1275</td><td><a href=\"https://sparse.tamu.edu/GHS_psdef\" target=\"_blank\">GHS_psdef</a></td><td><a href=\"https://sparse.tamu.edu/GHS_psdef/s3dkq4m2\" target=\"_blank\">s3dkq4m2</a></td><td>90449</td><td>90449</td><td>4427725</td><td>real</td><td>Yes</td><td>Yes</td><td>1.0</td><td>1.0</td><td>structural problem</td><td><img src=\"https://sparse.tamu.edu/files/GHS_psdef/s3dkq4m2.png\"></td></tr></tbody></table>"
      ],
      "text/plain": [
       "[Matrix(1275, 'GHS_psdef', 's3dkq4m2', 90449, 90449, 4427725, 'real', True, True, 1.0, 1.0, 'structural problem', 'https://sparse.tamu.edu/files/GHS_psdef/s3dkq4m2.png')]"
      ]
     },
     "metadata": {},
     "output_type": "display_data"
    },
    {
     "name": "stdout",
     "output_type": "stream",
     "text": [
      "thread\n"
     ]
    },
    {
     "data": {
      "text/html": [
       "<table><thead><th>Id</th><th>Group</th><th>Name</th><th>Rows</th><th>Cols</th><th>NNZ</th><th>DType</th><th>2D/3D Discretization?</th><th>SPD?</th><th>Pattern Symmetry</th><th>Numerical Symmetry</th><th>Kind</th><th>Spy Plot</th></thead><tbody><tr><td>1283</td><td><a href=\"https://sparse.tamu.edu/DNVS\" target=\"_blank\">DNVS</a></td><td><a href=\"https://sparse.tamu.edu/DNVS/thread\" target=\"_blank\">thread</a></td><td>29736</td><td>29736</td><td>4444880</td><td>real</td><td>Yes</td><td>Yes</td><td>1.0</td><td>1.0</td><td>structural problem</td><td><img src=\"https://sparse.tamu.edu/files/DNVS/thread.png\"></td></tr></tbody></table>"
      ],
      "text/plain": [
       "[Matrix(1283, 'DNVS', 'thread', 29736, 29736, 4444880, 'real', True, True, 1.0, 1.0, 'structural problem', 'https://sparse.tamu.edu/files/DNVS/thread.png')]"
      ]
     },
     "metadata": {},
     "output_type": "display_data"
    },
    {
     "name": "stdout",
     "output_type": "stream",
     "text": [
      "shipsec5\n"
     ]
    },
    {
     "data": {
      "text/html": [
       "<table><thead><th>Id</th><th>Group</th><th>Name</th><th>Rows</th><th>Cols</th><th>NNZ</th><th>DType</th><th>2D/3D Discretization?</th><th>SPD?</th><th>Pattern Symmetry</th><th>Numerical Symmetry</th><th>Kind</th><th>Spy Plot</th></thead><tbody><tr><td>1280</td><td><a href=\"https://sparse.tamu.edu/DNVS\" target=\"_blank\">DNVS</a></td><td><a href=\"https://sparse.tamu.edu/DNVS/shipsec5\" target=\"_blank\">shipsec5</a></td><td>179860</td><td>179860</td><td>4598604</td><td>real</td><td>Yes</td><td>Yes</td><td>1.0</td><td>1.0</td><td>structural problem</td><td><img src=\"https://sparse.tamu.edu/files/DNVS/shipsec5.png\"></td></tr></tbody></table>"
      ],
      "text/plain": [
       "[Matrix(1280, 'DNVS', 'shipsec5', 179860, 179860, 4598604, 'real', True, True, 1.0, 1.0, 'structural problem', 'https://sparse.tamu.edu/files/DNVS/shipsec5.png')]"
      ]
     },
     "metadata": {},
     "output_type": "display_data"
    },
    {
     "name": "stdout",
     "output_type": "stream",
     "text": [
      "apache2\n"
     ]
    },
    {
     "data": {
      "text/html": [
       "<table><thead><th>Id</th><th>Group</th><th>Name</th><th>Rows</th><th>Cols</th><th>NNZ</th><th>DType</th><th>2D/3D Discretization?</th><th>SPD?</th><th>Pattern Symmetry</th><th>Numerical Symmetry</th><th>Kind</th><th>Spy Plot</th></thead><tbody><tr><td>1423</td><td><a href=\"https://sparse.tamu.edu/GHS_psdef\" target=\"_blank\">GHS_psdef</a></td><td><a href=\"https://sparse.tamu.edu/GHS_psdef/apache2\" target=\"_blank\">apache2</a></td><td>715176</td><td>715176</td><td>4817870</td><td>real</td><td>Yes</td><td>Yes</td><td>1.0</td><td>1.0</td><td>structural problem</td><td><img src=\"https://sparse.tamu.edu/files/GHS_psdef/apache2.png\"></td></tr></tbody></table>"
      ],
      "text/plain": [
       "[Matrix(1423, 'GHS_psdef', 'apache2', 715176, 715176, 4817870, 'real', True, True, 1.0, 1.0, 'structural problem', 'https://sparse.tamu.edu/files/GHS_psdef/apache2.png')]"
      ]
     },
     "metadata": {},
     "output_type": "display_data"
    },
    {
     "name": "stdout",
     "output_type": "stream",
     "text": [
      "ecology2\n"
     ]
    },
    {
     "data": {
      "text/html": [
       "<table><thead><th>Id</th><th>Group</th><th>Name</th><th>Rows</th><th>Cols</th><th>NNZ</th><th>DType</th><th>2D/3D Discretization?</th><th>SPD?</th><th>Pattern Symmetry</th><th>Numerical Symmetry</th><th>Kind</th><th>Spy Plot</th></thead><tbody><tr><td>1883</td><td><a href=\"https://sparse.tamu.edu/McRae\" target=\"_blank\">McRae</a></td><td><a href=\"https://sparse.tamu.edu/McRae/ecology2\" target=\"_blank\">ecology2</a></td><td>999999</td><td>999999</td><td>4995991</td><td>real</td><td>Yes</td><td>Yes</td><td>1.0</td><td>1.0</td><td>2D/3D problem</td><td><img src=\"https://sparse.tamu.edu/files/McRae/ecology2.png\"></td></tr></tbody></table>"
      ],
      "text/plain": [
       "[Matrix(1883, 'McRae', 'ecology2', 999999, 999999, 4995991, 'real', True, True, 1.0, 1.0, '2D/3D problem', 'https://sparse.tamu.edu/files/McRae/ecology2.png')]"
      ]
     },
     "metadata": {},
     "output_type": "display_data"
    },
    {
     "name": "stdout",
     "output_type": "stream",
     "text": [
      "tmt_sym\n"
     ]
    },
    {
     "data": {
      "text/html": [
       "<table><thead><th>Id</th><th>Group</th><th>Name</th><th>Rows</th><th>Cols</th><th>NNZ</th><th>DType</th><th>2D/3D Discretization?</th><th>SPD?</th><th>Pattern Symmetry</th><th>Numerical Symmetry</th><th>Kind</th><th>Spy Plot</th></thead><tbody><tr><td>1899</td><td><a href=\"https://sparse.tamu.edu/CEMW\" target=\"_blank\">CEMW</a></td><td><a href=\"https://sparse.tamu.edu/CEMW/tmt_sym\" target=\"_blank\">tmt_sym</a></td><td>726713</td><td>726713</td><td>5080961</td><td>real</td><td>Yes</td><td>Yes</td><td>1.0</td><td>1.0</td><td>electromagnetics problem</td><td><img src=\"https://sparse.tamu.edu/files/CEMW/tmt_sym.png\"></td></tr></tbody></table>"
      ],
      "text/plain": [
       "[Matrix(1899, 'CEMW', 'tmt_sym', 726713, 726713, 5080961, 'real', True, True, 1.0, 1.0, 'electromagnetics problem', 'https://sparse.tamu.edu/files/CEMW/tmt_sym.png')]"
      ]
     },
     "metadata": {},
     "output_type": "display_data"
    },
    {
     "name": "stdout",
     "output_type": "stream",
     "text": [
      "boneS01\n"
     ]
    },
    {
     "data": {
      "text/html": [
       "<table><thead><th>Id</th><th>Group</th><th>Name</th><th>Rows</th><th>Cols</th><th>NNZ</th><th>DType</th><th>2D/3D Discretization?</th><th>SPD?</th><th>Pattern Symmetry</th><th>Numerical Symmetry</th><th>Kind</th><th>Spy Plot</th></thead><tbody><tr><td>1454</td><td><a href=\"https://sparse.tamu.edu/Oberwolfach\" target=\"_blank\">Oberwolfach</a></td><td><a href=\"https://sparse.tamu.edu/Oberwolfach/boneS01\" target=\"_blank\">boneS01</a></td><td>127224</td><td>127224</td><td>5516602</td><td>real</td><td>Yes</td><td>Yes</td><td>1.0</td><td>1.0</td><td>model reduction problem</td><td><img src=\"https://sparse.tamu.edu/files/Oberwolfach/boneS01.png\"></td></tr></tbody></table>"
      ],
      "text/plain": [
       "[Matrix(1454, 'Oberwolfach', 'boneS01', 127224, 127224, 5516602, 'real', True, True, 1.0, 1.0, 'model reduction problem', 'https://sparse.tamu.edu/files/Oberwolfach/boneS01.png')]"
      ]
     },
     "metadata": {},
     "output_type": "display_data"
    },
    {
     "name": "stdout",
     "output_type": "stream",
     "text": [
      "consph\n"
     ]
    },
    {
     "data": {
      "text/html": [
       "<table><thead><th>Id</th><th>Group</th><th>Name</th><th>Rows</th><th>Cols</th><th>NNZ</th><th>DType</th><th>2D/3D Discretization?</th><th>SPD?</th><th>Pattern Symmetry</th><th>Numerical Symmetry</th><th>Kind</th><th>Spy Plot</th></thead><tbody><tr><td>2374</td><td><a href=\"https://sparse.tamu.edu/Williams\" target=\"_blank\">Williams</a></td><td><a href=\"https://sparse.tamu.edu/Williams/consph\" target=\"_blank\">consph</a></td><td>83334</td><td>83334</td><td>6010480</td><td>real</td><td>Yes</td><td>Yes</td><td>1.0</td><td>1.0</td><td>2D/3D problem</td><td><img src=\"https://sparse.tamu.edu/files/Williams/consph.png\"></td></tr></tbody></table>"
      ],
      "text/plain": [
       "[Matrix(2374, 'Williams', 'consph', 83334, 83334, 6010480, 'real', True, True, 1.0, 1.0, '2D/3D problem', 'https://sparse.tamu.edu/files/Williams/consph.png')]"
      ]
     },
     "metadata": {},
     "output_type": "display_data"
    },
    {
     "name": "stdout",
     "output_type": "stream",
     "text": [
      "bmw7st_1\n"
     ]
    },
    {
     "data": {
      "text/html": [
       "<table><thead><th>Id</th><th>Group</th><th>Name</th><th>Rows</th><th>Cols</th><th>NNZ</th><th>DType</th><th>2D/3D Discretization?</th><th>SPD?</th><th>Pattern Symmetry</th><th>Numerical Symmetry</th><th>Kind</th><th>Spy Plot</th></thead><tbody><tr><td>1253</td><td><a href=\"https://sparse.tamu.edu/GHS_psdef\" target=\"_blank\">GHS_psdef</a></td><td><a href=\"https://sparse.tamu.edu/GHS_psdef/bmw7st_1\" target=\"_blank\">bmw7st_1</a></td><td>141347</td><td>141347</td><td>7318399</td><td>real</td><td>Yes</td><td>Yes</td><td>1.0</td><td>1.0</td><td>structural problem</td><td><img src=\"https://sparse.tamu.edu/files/GHS_psdef/bmw7st_1.png\"></td></tr></tbody></table>"
      ],
      "text/plain": [
       "[Matrix(1253, 'GHS_psdef', 'bmw7st_1', 141347, 141347, 7318399, 'real', True, True, 1.0, 1.0, 'structural problem', 'https://sparse.tamu.edu/files/GHS_psdef/bmw7st_1.png')]"
      ]
     },
     "metadata": {},
     "output_type": "display_data"
    },
    {
     "name": "stdout",
     "output_type": "stream",
     "text": [
      "g3_circuit\n"
     ]
    },
    {
     "data": {
      "text/html": [
       "<table><thead><th>Id</th><th>Group</th><th>Name</th><th>Rows</th><th>Cols</th><th>NNZ</th><th>DType</th><th>2D/3D Discretization?</th><th>SPD?</th><th>Pattern Symmetry</th><th>Numerical Symmetry</th><th>Kind</th><th>Spy Plot</th></thead><tbody><tr><td>1421</td><td><a href=\"https://sparse.tamu.edu/AMD\" target=\"_blank\">AMD</a></td><td><a href=\"https://sparse.tamu.edu/AMD/G3_circuit\" target=\"_blank\">G3_circuit</a></td><td>1585478</td><td>1585478</td><td>7660826</td><td>real</td><td>No</td><td>Yes</td><td>1.0</td><td>1.0</td><td>circuit simulation problem</td><td><img src=\"https://sparse.tamu.edu/files/AMD/G3_circuit.png\"></td></tr></tbody></table>"
      ],
      "text/plain": [
       "[Matrix(1421, 'AMD', 'G3_circuit', 1585478, 1585478, 7660826, 'real', False, True, 1.0, 1.0, 'circuit simulation problem', 'https://sparse.tamu.edu/files/AMD/G3_circuit.png')]"
      ]
     },
     "metadata": {},
     "output_type": "display_data"
    },
    {
     "name": "stdout",
     "output_type": "stream",
     "text": [
      "x104\n"
     ]
    },
    {
     "data": {
      "text/html": [
       "<table><thead><th>Id</th><th>Group</th><th>Name</th><th>Rows</th><th>Cols</th><th>NNZ</th><th>DType</th><th>2D/3D Discretization?</th><th>SPD?</th><th>Pattern Symmetry</th><th>Numerical Symmetry</th><th>Kind</th><th>Spy Plot</th></thead><tbody><tr><td>1290</td><td><a href=\"https://sparse.tamu.edu/DNVS\" target=\"_blank\">DNVS</a></td><td><a href=\"https://sparse.tamu.edu/DNVS/x104\" target=\"_blank\">x104</a></td><td>108384</td><td>108384</td><td>8713602</td><td>real</td><td>Yes</td><td>Yes</td><td>1.0</td><td>1.0</td><td>structural problem</td><td><img src=\"https://sparse.tamu.edu/files/DNVS/x104.png\"></td></tr></tbody></table>"
      ],
      "text/plain": [
       "[Matrix(1290, 'DNVS', 'x104', 108384, 108384, 8713602, 'real', True, True, 1.0, 1.0, 'structural problem', 'https://sparse.tamu.edu/files/DNVS/x104.png')]"
      ]
     },
     "metadata": {},
     "output_type": "display_data"
    },
    {
     "name": "stdout",
     "output_type": "stream",
     "text": [
      "thermal2\n"
     ]
    },
    {
     "data": {
      "text/html": [
       "<table><thead><th>Id</th><th>Group</th><th>Name</th><th>Rows</th><th>Cols</th><th>NNZ</th><th>DType</th><th>2D/3D Discretization?</th><th>SPD?</th><th>Pattern Symmetry</th><th>Numerical Symmetry</th><th>Kind</th><th>Spy Plot</th></thead><tbody><tr><td>1403</td><td><a href=\"https://sparse.tamu.edu/Schmid\" target=\"_blank\">Schmid</a></td><td><a href=\"https://sparse.tamu.edu/Schmid/thermal2\" target=\"_blank\">thermal2</a></td><td>1228045</td><td>1228045</td><td>8580313</td><td>real</td><td>Yes</td><td>Yes</td><td>1.0</td><td>1.0</td><td>thermal problem</td><td><img src=\"https://sparse.tamu.edu/files/Schmid/thermal2.png\"></td></tr><tr><td>1852</td><td><a href=\"https://sparse.tamu.edu/Botonakis\" target=\"_blank\">Botonakis</a></td><td><a href=\"https://sparse.tamu.edu/Botonakis/FEM_3D_thermal2\" target=\"_blank\">FEM_3D_thermal2</a></td><td>147900</td><td>147900</td><td>3489300</td><td>real</td><td>Yes</td><td>No</td><td>1.0</td><td>0.95</td><td>thermal problem</td><td><img src=\"https://sparse.tamu.edu/files/Botonakis/FEM_3D_thermal2.png\"></td></tr></tbody></table>"
      ],
      "text/plain": [
       "[Matrix(1403, 'Schmid', 'thermal2', 1228045, 1228045, 8580313, 'real', True, True, 1.0, 1.0, 'thermal problem', 'https://sparse.tamu.edu/files/Schmid/thermal2.png'),\n",
       " Matrix(1852, 'Botonakis', 'FEM_3D_thermal2', 147900, 147900, 3489300, 'real', True, False, 1.0, 0.9502082959238642, 'thermal problem', 'https://sparse.tamu.edu/files/Botonakis/FEM_3D_thermal2.png')]"
      ]
     },
     "metadata": {},
     "output_type": "display_data"
    },
    {
     "name": "stdout",
     "output_type": "stream",
     "text": [
      "m_t1\n"
     ]
    },
    {
     "data": {
      "text/html": [
       "<table><thead><th>Id</th><th>Group</th><th>Name</th><th>Rows</th><th>Cols</th><th>NNZ</th><th>DType</th><th>2D/3D Discretization?</th><th>SPD?</th><th>Pattern Symmetry</th><th>Numerical Symmetry</th><th>Kind</th><th>Spy Plot</th></thead><tbody><tr><td>155</td><td><a href=\"https://sparse.tamu.edu/HB\" target=\"_blank\">HB</a></td><td><a href=\"https://sparse.tamu.edu/HB/gemat1\" target=\"_blank\">gemat1</a></td><td>4929</td><td>10595</td><td>46591</td><td>real</td><td>No</td><td>No</td><td>0.0</td><td>0.0</td><td>power network problem</td><td><img src=\"https://sparse.tamu.edu/files/HB/gemat1.png\"></td></tr><tr><td>156</td><td><a href=\"https://sparse.tamu.edu/HB\" target=\"_blank\">HB</a></td><td><a href=\"https://sparse.tamu.edu/HB/gemat11\" target=\"_blank\">gemat11</a></td><td>4929</td><td>4929</td><td>33108</td><td>real</td><td>No</td><td>No</td><td>0.0013</td><td>0.0</td><td>power network problem sequence</td><td><img src=\"https://sparse.tamu.edu/files/HB/gemat11.png\"></td></tr><tr><td>157</td><td><a href=\"https://sparse.tamu.edu/HB\" target=\"_blank\">HB</a></td><td><a href=\"https://sparse.tamu.edu/HB/gemat12\" target=\"_blank\">gemat12</a></td><td>4929</td><td>4929</td><td>33044</td><td>real</td><td>No</td><td>No</td><td>0.0015</td><td>0.0</td><td>subsequent power network problem</td><td><img src=\"https://sparse.tamu.edu/files/HB/gemat12.png\"></td></tr><tr><td>1269</td><td><a href=\"https://sparse.tamu.edu/DNVS\" target=\"_blank\">DNVS</a></td><td><a href=\"https://sparse.tamu.edu/DNVS/m_t1\" target=\"_blank\">m_t1</a></td><td>97578</td><td>97578</td><td>9753570</td><td>real</td><td>Yes</td><td>Yes</td><td>1.0</td><td>1.0</td><td>structural problem</td><td><img src=\"https://sparse.tamu.edu/files/DNVS/m_t1.png\"></td></tr><tr><td>1941</td><td><a href=\"https://sparse.tamu.edu/JGD_CAG\" target=\"_blank\">JGD_CAG</a></td><td><a href=\"https://sparse.tamu.edu/JGD_CAG/CAG_mat1916\" target=\"_blank\">CAG_mat1916</a></td><td>1916</td><td>1916</td><td>195985</td><td>real</td><td>No</td><td>No</td><td>0.3</td><td>0.21</td><td>combinatorial problem</td><td><img src=\"https://sparse.tamu.edu/files/JGD_CAG/CAG_mat1916.png\"></td></tr><tr><td>2000</td><td><a href=\"https://sparse.tamu.edu/JGD_Groebner\" target=\"_blank\">JGD_Groebner</a></td><td><a href=\"https://sparse.tamu.edu/JGD_Groebner/c8_mat11\" target=\"_blank\">c8_mat11</a></td><td>4562</td><td>5761</td><td>2462970</td><td>real</td><td>No</td><td>No</td><td>0.0</td><td>0.0</td><td>combinatorial problem</td><td><img src=\"https://sparse.tamu.edu/files/JGD_Groebner/c8_mat11.png\"></td></tr><tr><td>2001</td><td><a href=\"https://sparse.tamu.edu/JGD_Groebner\" target=\"_blank\">JGD_Groebner</a></td><td><a href=\"https://sparse.tamu.edu/JGD_Groebner/c8_mat11_I\" target=\"_blank\">c8_mat11_I</a></td><td>4562</td><td>5761</td><td>2462970</td><td>real</td><td>No</td><td>No</td><td>0.0</td><td>0.0</td><td>combinatorial problem</td><td><img src=\"https://sparse.tamu.edu/files/JGD_Groebner/c8_mat11_I.png\"></td></tr></tbody></table>"
      ],
      "text/plain": [
       "[Matrix(155, 'HB', 'gemat1', 4929, 10595, 46591, 'real', False, False, 0.0, 0.0, 'power network problem', 'https://sparse.tamu.edu/files/HB/gemat1.png'),\n",
       " Matrix(156, 'HB', 'gemat11', 4929, 4929, 33108, 'real', False, False, 0.001326419872181358, 0.0, 'power network problem sequence', 'https://sparse.tamu.edu/files/HB/gemat11.png'),\n",
       " Matrix(157, 'HB', 'gemat12', 4929, 4929, 33044, 'real', False, False, 0.001450063440275512, 0.0, 'subsequent power network problem', 'https://sparse.tamu.edu/files/HB/gemat12.png'),\n",
       " Matrix(1269, 'DNVS', 'm_t1', 97578, 97578, 9753570, 'real', True, True, 1.0, 1.0, 'structural problem', 'https://sparse.tamu.edu/files/DNVS/m_t1.png'),\n",
       " Matrix(1941, 'JGD_CAG', 'CAG_mat1916', 1916, 1916, 195985, 'real', False, False, 0.3002540333592691, 0.2119864584245809, 'combinatorial problem', 'https://sparse.tamu.edu/files/JGD_CAG/CAG_mat1916.png'),\n",
       " Matrix(2000, 'JGD_Groebner', 'c8_mat11', 4562, 5761, 2462970, 'real', False, False, 0.0, 0.0, 'combinatorial problem', 'https://sparse.tamu.edu/files/JGD_Groebner/c8_mat11.png'),\n",
       " Matrix(2001, 'JGD_Groebner', 'c8_mat11_I', 4562, 5761, 2462970, 'real', False, False, 0.0, 0.0, 'combinatorial problem', 'https://sparse.tamu.edu/files/JGD_Groebner/c8_mat11_I.png')]"
      ]
     },
     "metadata": {},
     "output_type": "display_data"
    },
    {
     "name": "stdout",
     "output_type": "stream",
     "text": [
      "hood\n"
     ]
    },
    {
     "data": {
      "text/html": [
       "<table><thead><th>Id</th><th>Group</th><th>Name</th><th>Rows</th><th>Cols</th><th>NNZ</th><th>DType</th><th>2D/3D Discretization?</th><th>SPD?</th><th>Pattern Symmetry</th><th>Numerical Symmetry</th><th>Kind</th><th>Spy Plot</th></thead><tbody><tr><td>1266</td><td><a href=\"https://sparse.tamu.edu/GHS_psdef\" target=\"_blank\">GHS_psdef</a></td><td><a href=\"https://sparse.tamu.edu/GHS_psdef/hood\" target=\"_blank\">hood</a></td><td>220542</td><td>220542</td><td>9895422</td><td>real</td><td>Yes</td><td>Yes</td><td>1.0</td><td>1.0</td><td>structural problem</td><td><img src=\"https://sparse.tamu.edu/files/GHS_psdef/hood.png\"></td></tr></tbody></table>"
      ],
      "text/plain": [
       "[Matrix(1266, 'GHS_psdef', 'hood', 220542, 220542, 9895422, 'real', True, True, 1.0, 1.0, 'structural problem', 'https://sparse.tamu.edu/files/GHS_psdef/hood.png')]"
      ]
     },
     "metadata": {},
     "output_type": "display_data"
    },
    {
     "name": "stdout",
     "output_type": "stream",
     "text": [
      "crankseg_1\n"
     ]
    },
    {
     "data": {
      "text/html": [
       "<table><thead><th>Id</th><th>Group</th><th>Name</th><th>Rows</th><th>Cols</th><th>NNZ</th><th>DType</th><th>2D/3D Discretization?</th><th>SPD?</th><th>Pattern Symmetry</th><th>Numerical Symmetry</th><th>Kind</th><th>Spy Plot</th></thead><tbody><tr><td>1257</td><td><a href=\"https://sparse.tamu.edu/GHS_psdef\" target=\"_blank\">GHS_psdef</a></td><td><a href=\"https://sparse.tamu.edu/GHS_psdef/crankseg_1\" target=\"_blank\">crankseg_1</a></td><td>52804</td><td>52804</td><td>10614210</td><td>real</td><td>Yes</td><td>Yes</td><td>1.0</td><td>1.0</td><td>structural problem</td><td><img src=\"https://sparse.tamu.edu/files/GHS_psdef/crankseg_1.png\"></td></tr></tbody></table>"
      ],
      "text/plain": [
       "[Matrix(1257, 'GHS_psdef', 'crankseg_1', 52804, 52804, 10614210, 'real', True, True, 1.0, 1.0, 'structural problem', 'https://sparse.tamu.edu/files/GHS_psdef/crankseg_1.png')]"
      ]
     },
     "metadata": {},
     "output_type": "display_data"
    },
    {
     "name": "stdout",
     "output_type": "stream",
     "text": [
      "bmwcra_1\n"
     ]
    },
    {
     "data": {
      "text/html": [
       "<table><thead><th>Id</th><th>Group</th><th>Name</th><th>Rows</th><th>Cols</th><th>NNZ</th><th>DType</th><th>2D/3D Discretization?</th><th>SPD?</th><th>Pattern Symmetry</th><th>Numerical Symmetry</th><th>Kind</th><th>Spy Plot</th></thead><tbody><tr><td>1254</td><td><a href=\"https://sparse.tamu.edu/GHS_psdef\" target=\"_blank\">GHS_psdef</a></td><td><a href=\"https://sparse.tamu.edu/GHS_psdef/bmwcra_1\" target=\"_blank\">bmwcra_1</a></td><td>148770</td><td>148770</td><td>10641602</td><td>real</td><td>Yes</td><td>Yes</td><td>1.0</td><td>1.0</td><td>structural problem</td><td><img src=\"https://sparse.tamu.edu/files/GHS_psdef/bmwcra_1.png\"></td></tr></tbody></table>"
      ],
      "text/plain": [
       "[Matrix(1254, 'GHS_psdef', 'bmwcra_1', 148770, 148770, 10641602, 'real', True, True, 1.0, 1.0, 'structural problem', 'https://sparse.tamu.edu/files/GHS_psdef/bmwcra_1.png')]"
      ]
     },
     "metadata": {},
     "output_type": "display_data"
    },
    {
     "name": "stdout",
     "output_type": "stream",
     "text": [
      "pwtk\n"
     ]
    },
    {
     "data": {
      "text/html": [
       "<table><thead><th>Id</th><th>Group</th><th>Name</th><th>Rows</th><th>Cols</th><th>NNZ</th><th>DType</th><th>2D/3D Discretization?</th><th>SPD?</th><th>Pattern Symmetry</th><th>Numerical Symmetry</th><th>Kind</th><th>Spy Plot</th></thead><tbody><tr><td>369</td><td><a href=\"https://sparse.tamu.edu/Boeing\" target=\"_blank\">Boeing</a></td><td><a href=\"https://sparse.tamu.edu/Boeing/pwtk\" target=\"_blank\">pwtk</a></td><td>217918</td><td>217918</td><td>11524432</td><td>real</td><td>Yes</td><td>Yes</td><td>1.0</td><td>1.0</td><td>structural problem</td><td><img src=\"https://sparse.tamu.edu/files/Boeing/pwtk.png\"></td></tr></tbody></table>"
      ],
      "text/plain": [
       "[Matrix(369, 'Boeing', 'pwtk', 217918, 217918, 11524432, 'real', True, True, 1.0, 1.0, 'structural problem', 'https://sparse.tamu.edu/files/Boeing/pwtk.png')]"
      ]
     },
     "metadata": {},
     "output_type": "display_data"
    },
    {
     "name": "stdout",
     "output_type": "stream",
     "text": [
      "crankseg_2\n"
     ]
    },
    {
     "data": {
      "text/html": [
       "<table><thead><th>Id</th><th>Group</th><th>Name</th><th>Rows</th><th>Cols</th><th>NNZ</th><th>DType</th><th>2D/3D Discretization?</th><th>SPD?</th><th>Pattern Symmetry</th><th>Numerical Symmetry</th><th>Kind</th><th>Spy Plot</th></thead><tbody><tr><td>1258</td><td><a href=\"https://sparse.tamu.edu/GHS_psdef\" target=\"_blank\">GHS_psdef</a></td><td><a href=\"https://sparse.tamu.edu/GHS_psdef/crankseg_2\" target=\"_blank\">crankseg_2</a></td><td>63838</td><td>63838</td><td>14148858</td><td>real</td><td>Yes</td><td>Yes</td><td>1.0</td><td>1.0</td><td>structural problem</td><td><img src=\"https://sparse.tamu.edu/files/GHS_psdef/crankseg_2.png\"></td></tr></tbody></table>"
      ],
      "text/plain": [
       "[Matrix(1258, 'GHS_psdef', 'crankseg_2', 63838, 63838, 14148858, 'real', True, True, 1.0, 1.0, 'structural problem', 'https://sparse.tamu.edu/files/GHS_psdef/crankseg_2.png')]"
      ]
     },
     "metadata": {},
     "output_type": "display_data"
    },
    {
     "name": "stdout",
     "output_type": "stream",
     "text": [
      "nd12k\n"
     ]
    },
    {
     "data": {
      "text/html": [
       "<table><thead><th>Id</th><th>Group</th><th>Name</th><th>Rows</th><th>Cols</th><th>NNZ</th><th>DType</th><th>2D/3D Discretization?</th><th>SPD?</th><th>Pattern Symmetry</th><th>Numerical Symmetry</th><th>Kind</th><th>Spy Plot</th></thead><tbody><tr><td>938</td><td><a href=\"https://sparse.tamu.edu/ND\" target=\"_blank\">ND</a></td><td><a href=\"https://sparse.tamu.edu/ND/nd12k\" target=\"_blank\">nd12k</a></td><td>36000</td><td>36000</td><td>14220946</td><td>real</td><td>Yes</td><td>Yes</td><td>1.0</td><td>1.0</td><td>2D/3D problem</td><td><img src=\"https://sparse.tamu.edu/files/ND/nd12k.png\"></td></tr></tbody></table>"
      ],
      "text/plain": [
       "[Matrix(938, 'ND', 'nd12k', 36000, 36000, 14220946, 'real', True, True, 1.0, 1.0, '2D/3D problem', 'https://sparse.tamu.edu/files/ND/nd12k.png')]"
      ]
     },
     "metadata": {},
     "output_type": "display_data"
    },
    {
     "name": "stdout",
     "output_type": "stream",
     "text": [
      "af_shell7\n"
     ]
    },
    {
     "data": {
      "text/html": [
       "<table><thead><th>Id</th><th>Group</th><th>Name</th><th>Rows</th><th>Cols</th><th>NNZ</th><th>DType</th><th>2D/3D Discretization?</th><th>SPD?</th><th>Pattern Symmetry</th><th>Numerical Symmetry</th><th>Kind</th><th>Spy Plot</th></thead><tbody><tr><td>946</td><td><a href=\"https://sparse.tamu.edu/Schenk_AFE\" target=\"_blank\">Schenk_AFE</a></td><td><a href=\"https://sparse.tamu.edu/Schenk_AFE/af_shell7\" target=\"_blank\">af_shell7</a></td><td>504855</td><td>504855</td><td>17579155</td><td>real</td><td>Yes</td><td>Yes</td><td>1.0</td><td>1.0</td><td>subsequent structural problem</td><td><img src=\"https://sparse.tamu.edu/files/Schenk_AFE/af_shell7.png\"></td></tr></tbody></table>"
      ],
      "text/plain": [
       "[Matrix(946, 'Schenk_AFE', 'af_shell7', 504855, 504855, 17579155, 'real', True, True, 1.0, 1.0, 'subsequent structural problem', 'https://sparse.tamu.edu/files/Schenk_AFE/af_shell7.png')]"
      ]
     },
     "metadata": {},
     "output_type": "display_data"
    },
    {
     "name": "stdout",
     "output_type": "stream",
     "text": [
      "msdoor\n"
     ]
    },
    {
     "data": {
      "text/html": [
       "<table><thead><th>Id</th><th>Group</th><th>Name</th><th>Rows</th><th>Cols</th><th>NNZ</th><th>DType</th><th>2D/3D Discretization?</th><th>SPD?</th><th>Pattern Symmetry</th><th>Numerical Symmetry</th><th>Kind</th><th>Spy Plot</th></thead><tbody><tr><td>1644</td><td><a href=\"https://sparse.tamu.edu/INPRO\" target=\"_blank\">INPRO</a></td><td><a href=\"https://sparse.tamu.edu/INPRO/msdoor\" target=\"_blank\">msdoor</a></td><td>415863</td><td>415863</td><td>19173163</td><td>real</td><td>Yes</td><td>Yes</td><td>1.0</td><td>1.0</td><td>structural problem</td><td><img src=\"https://sparse.tamu.edu/files/INPRO/msdoor.png\"></td></tr></tbody></table>"
      ],
      "text/plain": [
       "[Matrix(1644, 'INPRO', 'msdoor', 415863, 415863, 19173163, 'real', True, True, 1.0, 1.0, 'structural problem', 'https://sparse.tamu.edu/files/INPRO/msdoor.png')]"
      ]
     },
     "metadata": {},
     "output_type": "display_data"
    },
    {
     "name": "stdout",
     "output_type": "stream",
     "text": [
      "f1\n"
     ]
    },
    {
     "data": {
      "text/html": [
       "<table><thead><th>Id</th><th>Group</th><th>Name</th><th>Rows</th><th>Cols</th><th>NNZ</th><th>DType</th><th>2D/3D Discretization?</th><th>SPD?</th><th>Pattern Symmetry</th><th>Numerical Symmetry</th><th>Kind</th><th>Spy Plot</th></thead><tbody><tr><td>1411</td><td><a href=\"https://sparse.tamu.edu/Koutsovasilis\" target=\"_blank\">Koutsovasilis</a></td><td><a href=\"https://sparse.tamu.edu/Koutsovasilis/F1\" target=\"_blank\">F1</a></td><td>343791</td><td>343791</td><td>26837113</td><td>real</td><td>Yes</td><td>No</td><td>1.0</td><td>1.0</td><td>structural problem</td><td><img src=\"https://sparse.tamu.edu/files/Koutsovasilis/F1.png\"></td></tr><tr><td>1437</td><td><a href=\"https://sparse.tamu.edu/Oberwolfach\" target=\"_blank\">Oberwolfach</a></td><td><a href=\"https://sparse.tamu.edu/Oberwolfach/LF10000\" target=\"_blank\">LF10000</a></td><td>19998</td><td>19998</td><td>99982</td><td>real</td><td>Yes</td><td>Yes</td><td>1.0</td><td>1.0</td><td>model reduction problem</td><td><img src=\"https://sparse.tamu.edu/files/Oberwolfach/LF10000.png\"></td></tr><tr><td>1438</td><td><a href=\"https://sparse.tamu.edu/Oberwolfach\" target=\"_blank\">Oberwolfach</a></td><td><a href=\"https://sparse.tamu.edu/Oberwolfach/LF10\" target=\"_blank\">LF10</a></td><td>18</td><td>18</td><td>82</td><td>real</td><td>Yes</td><td>Yes</td><td>1.0</td><td>1.0</td><td>model reduction problem</td><td><img src=\"https://sparse.tamu.edu/files/Oberwolfach/LF10.png\"></td></tr><tr><td>1944</td><td><a href=\"https://sparse.tamu.edu/JGD_Forest\" target=\"_blank\">JGD_Forest</a></td><td><a href=\"https://sparse.tamu.edu/JGD_Forest/TF10\" target=\"_blank\">TF10</a></td><td>99</td><td>107</td><td>622</td><td>real</td><td>No</td><td>No</td><td>0.0</td><td>0.0</td><td>combinatorial problem</td><td><img src=\"https://sparse.tamu.edu/files/JGD_Forest/TF10.png\"></td></tr><tr><td>1945</td><td><a href=\"https://sparse.tamu.edu/JGD_Forest\" target=\"_blank\">JGD_Forest</a></td><td><a href=\"https://sparse.tamu.edu/JGD_Forest/TF11\" target=\"_blank\">TF11</a></td><td>216</td><td>236</td><td>1607</td><td>real</td><td>No</td><td>No</td><td>0.0</td><td>0.0</td><td>combinatorial problem</td><td><img src=\"https://sparse.tamu.edu/files/JGD_Forest/TF11.png\"></td></tr><tr><td>1946</td><td><a href=\"https://sparse.tamu.edu/JGD_Forest\" target=\"_blank\">JGD_Forest</a></td><td><a href=\"https://sparse.tamu.edu/JGD_Forest/TF12\" target=\"_blank\">TF12</a></td><td>488</td><td>552</td><td>4231</td><td>real</td><td>No</td><td>No</td><td>0.0</td><td>0.0</td><td>combinatorial problem</td><td><img src=\"https://sparse.tamu.edu/files/JGD_Forest/TF12.png\"></td></tr><tr><td>1947</td><td><a href=\"https://sparse.tamu.edu/JGD_Forest\" target=\"_blank\">JGD_Forest</a></td><td><a href=\"https://sparse.tamu.edu/JGD_Forest/TF13\" target=\"_blank\">TF13</a></td><td>1121</td><td>1302</td><td>11185</td><td>real</td><td>No</td><td>No</td><td>0.0</td><td>0.0</td><td>combinatorial problem</td><td><img src=\"https://sparse.tamu.edu/files/JGD_Forest/TF13.png\"></td></tr><tr><td>1948</td><td><a href=\"https://sparse.tamu.edu/JGD_Forest\" target=\"_blank\">JGD_Forest</a></td><td><a href=\"https://sparse.tamu.edu/JGD_Forest/TF14\" target=\"_blank\">TF14</a></td><td>2644</td><td>3160</td><td>29862</td><td>real</td><td>No</td><td>No</td><td>0.0</td><td>0.0</td><td>combinatorial problem</td><td><img src=\"https://sparse.tamu.edu/files/JGD_Forest/TF14.png\"></td></tr><tr><td>1949</td><td><a href=\"https://sparse.tamu.edu/JGD_Forest\" target=\"_blank\">JGD_Forest</a></td><td><a href=\"https://sparse.tamu.edu/JGD_Forest/TF15\" target=\"_blank\">TF15</a></td><td>6334</td><td>7742</td><td>80057</td><td>real</td><td>No</td><td>No</td><td>0.0</td><td>0.0</td><td>combinatorial problem</td><td><img src=\"https://sparse.tamu.edu/files/JGD_Forest/TF15.png\"></td></tr><tr><td>1950</td><td><a href=\"https://sparse.tamu.edu/JGD_Forest\" target=\"_blank\">JGD_Forest</a></td><td><a href=\"https://sparse.tamu.edu/JGD_Forest/TF16\" target=\"_blank\">TF16</a></td><td>15437</td><td>19321</td><td>216173</td><td>real</td><td>No</td><td>No</td><td>0.0</td><td>0.0</td><td>combinatorial problem</td><td><img src=\"https://sparse.tamu.edu/files/JGD_Forest/TF16.png\"></td></tr></tbody></table>"
      ],
      "text/plain": [
       "[Matrix(1411, 'Koutsovasilis', 'F1', 343791, 343791, 26837113, 'real', True, False, 1.0, 1.0, 'structural problem', 'https://sparse.tamu.edu/files/Koutsovasilis/F1.png'),\n",
       " Matrix(1437, 'Oberwolfach', 'LF10000', 19998, 19998, 99982, 'real', True, True, 1.0, 1.0, 'model reduction problem', 'https://sparse.tamu.edu/files/Oberwolfach/LF10000.png'),\n",
       " Matrix(1438, 'Oberwolfach', 'LF10', 18, 18, 82, 'real', True, True, 1.0, 1.0, 'model reduction problem', 'https://sparse.tamu.edu/files/Oberwolfach/LF10.png'),\n",
       " Matrix(1944, 'JGD_Forest', 'TF10', 99, 107, 622, 'real', False, False, 0.0, 0.0, 'combinatorial problem', 'https://sparse.tamu.edu/files/JGD_Forest/TF10.png'),\n",
       " Matrix(1945, 'JGD_Forest', 'TF11', 216, 236, 1607, 'real', False, False, 0.0, 0.0, 'combinatorial problem', 'https://sparse.tamu.edu/files/JGD_Forest/TF11.png'),\n",
       " Matrix(1946, 'JGD_Forest', 'TF12', 488, 552, 4231, 'real', False, False, 0.0, 0.0, 'combinatorial problem', 'https://sparse.tamu.edu/files/JGD_Forest/TF12.png'),\n",
       " Matrix(1947, 'JGD_Forest', 'TF13', 1121, 1302, 11185, 'real', False, False, 0.0, 0.0, 'combinatorial problem', 'https://sparse.tamu.edu/files/JGD_Forest/TF13.png'),\n",
       " Matrix(1948, 'JGD_Forest', 'TF14', 2644, 3160, 29862, 'real', False, False, 0.0, 0.0, 'combinatorial problem', 'https://sparse.tamu.edu/files/JGD_Forest/TF14.png'),\n",
       " Matrix(1949, 'JGD_Forest', 'TF15', 6334, 7742, 80057, 'real', False, False, 0.0, 0.0, 'combinatorial problem', 'https://sparse.tamu.edu/files/JGD_Forest/TF15.png'),\n",
       " Matrix(1950, 'JGD_Forest', 'TF16', 15437, 19321, 216173, 'real', False, False, 0.0, 0.0, 'combinatorial problem', 'https://sparse.tamu.edu/files/JGD_Forest/TF16.png')]"
      ]
     },
     "metadata": {},
     "output_type": "display_data"
    },
    {
     "name": "stdout",
     "output_type": "stream",
     "text": [
      "nd24k\n"
     ]
    },
    {
     "data": {
      "text/html": [
       "<table><thead><th>Id</th><th>Group</th><th>Name</th><th>Rows</th><th>Cols</th><th>NNZ</th><th>DType</th><th>2D/3D Discretization?</th><th>SPD?</th><th>Pattern Symmetry</th><th>Numerical Symmetry</th><th>Kind</th><th>Spy Plot</th></thead><tbody><tr><td>939</td><td><a href=\"https://sparse.tamu.edu/ND\" target=\"_blank\">ND</a></td><td><a href=\"https://sparse.tamu.edu/ND/nd24k\" target=\"_blank\">nd24k</a></td><td>72000</td><td>72000</td><td>28715634</td><td>real</td><td>Yes</td><td>Yes</td><td>1.0</td><td>1.0</td><td>2D/3D problem</td><td><img src=\"https://sparse.tamu.edu/files/ND/nd24k.png\"></td></tr></tbody></table>"
      ],
      "text/plain": [
       "[Matrix(939, 'ND', 'nd24k', 72000, 72000, 28715634, 'real', True, True, 1.0, 1.0, '2D/3D problem', 'https://sparse.tamu.edu/files/ND/nd24k.png')]"
      ]
     },
     "metadata": {},
     "output_type": "display_data"
    },
    {
     "name": "stdout",
     "output_type": "stream",
     "text": [
      "ldoor\n"
     ]
    },
    {
     "data": {
      "text/html": [
       "<table><thead><th>Id</th><th>Group</th><th>Name</th><th>Rows</th><th>Cols</th><th>NNZ</th><th>DType</th><th>2D/3D Discretization?</th><th>SPD?</th><th>Pattern Symmetry</th><th>Numerical Symmetry</th><th>Kind</th><th>Spy Plot</th></thead><tbody><tr><td>1268</td><td><a href=\"https://sparse.tamu.edu/GHS_psdef\" target=\"_blank\">GHS_psdef</a></td><td><a href=\"https://sparse.tamu.edu/GHS_psdef/ldoor\" target=\"_blank\">ldoor</a></td><td>952203</td><td>952203</td><td>42493817</td><td>real</td><td>Yes</td><td>Yes</td><td>1.0</td><td>1.0</td><td>structural problem</td><td><img src=\"https://sparse.tamu.edu/files/GHS_psdef/ldoor.png\"></td></tr></tbody></table>"
      ],
      "text/plain": [
       "[Matrix(1268, 'GHS_psdef', 'ldoor', 952203, 952203, 42493817, 'real', True, True, 1.0, 1.0, 'structural problem', 'https://sparse.tamu.edu/files/GHS_psdef/ldoor.png')]"
      ]
     },
     "metadata": {},
     "output_type": "display_data"
    }
   ],
   "source": [
    "for mat in kaporin_ss_choice:\n",
    "    print(mat)\n",
    "    display(ssgetpy.search(name_or_id=mat))"
   ]
  },
  {
   "cell_type": "code",
   "execution_count": null,
   "id": "164296f7",
   "metadata": {},
   "outputs": [],
   "source": []
  }
 ],
 "metadata": {
  "kernelspec": {
   "display_name": "Python 3 (ipykernel)",
   "language": "python",
   "name": "python3"
  },
  "language_info": {
   "codemirror_mode": {
    "name": "ipython",
    "version": 3
   },
   "file_extension": ".py",
   "mimetype": "text/x-python",
   "name": "python",
   "nbconvert_exporter": "python",
   "pygments_lexer": "ipython3",
   "version": "3.10.6"
  }
 },
 "nbformat": 4,
 "nbformat_minor": 5
}
