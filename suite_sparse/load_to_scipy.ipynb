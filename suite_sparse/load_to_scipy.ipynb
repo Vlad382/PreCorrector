{
 "cells": [
  {
   "cell_type": "code",
   "execution_count": 1,
   "id": "528fadfa",
   "metadata": {},
   "outputs": [],
   "source": [
    "from scipy import io, sparse\n",
    "import numpy as np\n",
    "import os"
   ]
  },
  {
   "cell_type": "code",
   "execution_count": 2,
   "id": "104e5328",
   "metadata": {},
   "outputs": [],
   "source": [
    "kaporin_ss = [\n",
    "    'bodyy6','bcsstk18','bcsstk25','cvxbqp1','bcsstk17','gridgena',\n",
    "    'apache1','Pres_Poisson','G2_circuit','olafu','gyro_k','msc23052',\n",
    "    'bcsstk36','msc10848','raefsky4','cfd1','oilpan','vanbody','ct20stif',\n",
    "    'nasasrb','cfd2','shipsec8','shipsec1','Dubcova3','parabolic_fem',\n",
    "    's3dkt3m2','smt','ship_003','ship_001','cant','offshore','pdb1HYS',\n",
    "    's3dkq4m2','thread','shipsec5','apache2','ecology2','tmt_sym','boneS01',\n",
    "    'consph','bmw7st_1','G3_circuit','x104','thermal2','m_t1','hood','crankseg_1',\n",
    "    'bmwcra_1','pwtk','crankseg_2','nd12k','af_shell7','msdoor','F1','nd24k','ldoor'\n",
    "]\n",
    "path = '/mnt/local/data/vtrifonov/susbet_SuiteSparse/'\n",
    "folder = 'scipy_sparse'"
   ]
  },
  {
   "cell_type": "code",
   "execution_count": 3,
   "id": "716d21f1",
   "metadata": {},
   "outputs": [],
   "source": [
    "# mat = io.loadmat(path + kaporin_ss[0] + '.mat')\n",
    "# mat = mat['Problem'][0][0].item()[0]\n",
    "# print(isinstance(mat, sparse.csc_matrix))\n",
    "# sparse.save_npz(os.path.join(path, folder, kaporin_ss[0]+'.npz'), mat)\n",
    "# mat_check = sparse.load_npz(os.path.join(path, folder, kaporin_ss[0]+'.npz'))"
   ]
  },
  {
   "cell_type": "code",
   "execution_count": 4,
   "id": "2bda5f7e",
   "metadata": {
    "collapsed": true,
    "jupyter": {
     "outputs_hidden": true
    }
   },
   "outputs": [
    {
     "name": "stdout",
     "output_type": "stream",
     "text": [
      "bodyy6\n",
      "  "
     ]
    },
    {
     "data": {
      "text/plain": [
       "<Compressed Sparse Column sparse matrix of dtype 'float64'\n",
       "\twith 134208 stored elements and shape (19366, 19366)>"
      ]
     },
     "metadata": {},
     "output_type": "display_data"
    },
    {
     "name": "stdout",
     "output_type": "stream",
     "text": [
      "bcsstk18\n",
      "  "
     ]
    },
    {
     "data": {
      "text/plain": [
       "<Compressed Sparse Column sparse matrix of dtype 'float64'\n",
       "\twith 149090 stored elements and shape (11948, 11948)>"
      ]
     },
     "metadata": {},
     "output_type": "display_data"
    },
    {
     "name": "stdout",
     "output_type": "stream",
     "text": [
      "bcsstk25\n",
      "  "
     ]
    },
    {
     "data": {
      "text/plain": [
       "<Compressed Sparse Column sparse matrix of dtype 'float64'\n",
       "\twith 252241 stored elements and shape (15439, 15439)>"
      ]
     },
     "metadata": {},
     "output_type": "display_data"
    },
    {
     "name": "stdout",
     "output_type": "stream",
     "text": [
      "cvxbqp1\n",
      "  "
     ]
    },
    {
     "data": {
      "text/plain": [
       "<Compressed Sparse Column sparse matrix of dtype 'float64'\n",
       "\twith 349968 stored elements and shape (50000, 50000)>"
      ]
     },
     "metadata": {},
     "output_type": "display_data"
    },
    {
     "name": "stdout",
     "output_type": "stream",
     "text": [
      "bcsstk17\n",
      "  "
     ]
    },
    {
     "data": {
      "text/plain": [
       "<Compressed Sparse Column sparse matrix of dtype 'float64'\n",
       "\twith 428650 stored elements and shape (10974, 10974)>"
      ]
     },
     "metadata": {},
     "output_type": "display_data"
    },
    {
     "name": "stdout",
     "output_type": "stream",
     "text": [
      "gridgena\n",
      "  "
     ]
    },
    {
     "data": {
      "text/plain": [
       "<Compressed Sparse Column sparse matrix of dtype 'float64'\n",
       "\twith 512084 stored elements and shape (48962, 48962)>"
      ]
     },
     "metadata": {},
     "output_type": "display_data"
    },
    {
     "name": "stdout",
     "output_type": "stream",
     "text": [
      "apache1\n",
      "  "
     ]
    },
    {
     "data": {
      "text/plain": [
       "<Compressed Sparse Column sparse matrix of dtype 'float64'\n",
       "\twith 542184 stored elements and shape (80800, 80800)>"
      ]
     },
     "metadata": {},
     "output_type": "display_data"
    },
    {
     "name": "stdout",
     "output_type": "stream",
     "text": [
      "Pres_Poisson\n",
      "  "
     ]
    },
    {
     "data": {
      "text/plain": [
       "<Compressed Sparse Column sparse matrix of dtype 'float64'\n",
       "\twith 715804 stored elements and shape (14822, 14822)>"
      ]
     },
     "metadata": {},
     "output_type": "display_data"
    },
    {
     "name": "stdout",
     "output_type": "stream",
     "text": [
      "G2_circuit\n",
      "  "
     ]
    },
    {
     "data": {
      "text/plain": [
       "<Compressed Sparse Column sparse matrix of dtype 'float64'\n",
       "\twith 726674 stored elements and shape (150102, 150102)>"
      ]
     },
     "metadata": {},
     "output_type": "display_data"
    },
    {
     "name": "stdout",
     "output_type": "stream",
     "text": [
      "olafu\n",
      "  "
     ]
    },
    {
     "data": {
      "text/plain": [
       "<Compressed Sparse Column sparse matrix of dtype 'float64'\n",
       "\twith 1015156 stored elements and shape (16146, 16146)>"
      ]
     },
     "metadata": {},
     "output_type": "display_data"
    },
    {
     "name": "stdout",
     "output_type": "stream",
     "text": [
      "gyro_k\n",
      "  "
     ]
    },
    {
     "data": {
      "text/plain": [
       "<Compressed Sparse Column sparse matrix of dtype 'float64'\n",
       "\twith 1021159 stored elements and shape (17361, 17361)>"
      ]
     },
     "metadata": {},
     "output_type": "display_data"
    },
    {
     "name": "stdout",
     "output_type": "stream",
     "text": [
      "msc23052\n",
      "  "
     ]
    },
    {
     "data": {
      "text/plain": [
       "<Compressed Sparse Column sparse matrix of dtype 'float64'\n",
       "\twith 1142686 stored elements and shape (23052, 23052)>"
      ]
     },
     "metadata": {},
     "output_type": "display_data"
    },
    {
     "name": "stdout",
     "output_type": "stream",
     "text": [
      "bcsstk36\n",
      "  "
     ]
    },
    {
     "data": {
      "text/plain": [
       "<Compressed Sparse Column sparse matrix of dtype 'float64'\n",
       "\twith 1143140 stored elements and shape (23052, 23052)>"
      ]
     },
     "metadata": {},
     "output_type": "display_data"
    },
    {
     "name": "stdout",
     "output_type": "stream",
     "text": [
      "msc10848\n",
      "  "
     ]
    },
    {
     "data": {
      "text/plain": [
       "<Compressed Sparse Column sparse matrix of dtype 'float64'\n",
       "\twith 1229776 stored elements and shape (10848, 10848)>"
      ]
     },
     "metadata": {},
     "output_type": "display_data"
    },
    {
     "name": "stdout",
     "output_type": "stream",
     "text": [
      "raefsky4\n",
      "  "
     ]
    },
    {
     "data": {
      "text/plain": [
       "<Compressed Sparse Column sparse matrix of dtype 'float64'\n",
       "\twith 1316789 stored elements and shape (19779, 19779)>"
      ]
     },
     "metadata": {},
     "output_type": "display_data"
    },
    {
     "name": "stdout",
     "output_type": "stream",
     "text": [
      "cfd1\n",
      "  "
     ]
    },
    {
     "data": {
      "text/plain": [
       "<Compressed Sparse Column sparse matrix of dtype 'float64'\n",
       "\twith 1825580 stored elements and shape (70656, 70656)>"
      ]
     },
     "metadata": {},
     "output_type": "display_data"
    },
    {
     "name": "stdout",
     "output_type": "stream",
     "text": [
      "oilpan\n",
      "  "
     ]
    },
    {
     "data": {
      "text/plain": [
       "<Compressed Sparse Column sparse matrix of dtype 'float64'\n",
       "\twith 2148558 stored elements and shape (73752, 73752)>"
      ]
     },
     "metadata": {},
     "output_type": "display_data"
    },
    {
     "name": "stdout",
     "output_type": "stream",
     "text": [
      "vanbody\n",
      "  "
     ]
    },
    {
     "data": {
      "text/plain": [
       "<Compressed Sparse Column sparse matrix of dtype 'float64'\n",
       "\twith 2329056 stored elements and shape (47072, 47072)>"
      ]
     },
     "metadata": {},
     "output_type": "display_data"
    },
    {
     "name": "stdout",
     "output_type": "stream",
     "text": [
      "ct20stif\n",
      "  "
     ]
    },
    {
     "data": {
      "text/plain": [
       "<Compressed Sparse Column sparse matrix of dtype 'float64'\n",
       "\twith 2600295 stored elements and shape (52329, 52329)>"
      ]
     },
     "metadata": {},
     "output_type": "display_data"
    },
    {
     "name": "stdout",
     "output_type": "stream",
     "text": [
      "nasasrb\n",
      "  "
     ]
    },
    {
     "data": {
      "text/plain": [
       "<Compressed Sparse Column sparse matrix of dtype 'float64'\n",
       "\twith 2677324 stored elements and shape (54870, 54870)>"
      ]
     },
     "metadata": {},
     "output_type": "display_data"
    },
    {
     "name": "stdout",
     "output_type": "stream",
     "text": [
      "cfd2\n",
      "  "
     ]
    },
    {
     "data": {
      "text/plain": [
       "<Compressed Sparse Column sparse matrix of dtype 'float64'\n",
       "\twith 3085406 stored elements and shape (123440, 123440)>"
      ]
     },
     "metadata": {},
     "output_type": "display_data"
    },
    {
     "name": "stdout",
     "output_type": "stream",
     "text": [
      "shipsec8\n",
      "  "
     ]
    },
    {
     "data": {
      "text/plain": [
       "<Compressed Sparse Column sparse matrix of dtype 'float64'\n",
       "\twith 3303553 stored elements and shape (114919, 114919)>"
      ]
     },
     "metadata": {},
     "output_type": "display_data"
    },
    {
     "name": "stdout",
     "output_type": "stream",
     "text": [
      "shipsec1\n",
      "  "
     ]
    },
    {
     "data": {
      "text/plain": [
       "<Compressed Sparse Column sparse matrix of dtype 'float64'\n",
       "\twith 3568176 stored elements and shape (140874, 140874)>"
      ]
     },
     "metadata": {},
     "output_type": "display_data"
    },
    {
     "name": "stdout",
     "output_type": "stream",
     "text": [
      "Dubcova3\n",
      "  "
     ]
    },
    {
     "data": {
      "text/plain": [
       "<Compressed Sparse Column sparse matrix of dtype 'float64'\n",
       "\twith 3636643 stored elements and shape (146689, 146689)>"
      ]
     },
     "metadata": {},
     "output_type": "display_data"
    },
    {
     "name": "stdout",
     "output_type": "stream",
     "text": [
      "parabolic_fem\n",
      "  "
     ]
    },
    {
     "data": {
      "text/plain": [
       "<Compressed Sparse Column sparse matrix of dtype 'float64'\n",
       "\twith 3674625 stored elements and shape (525825, 525825)>"
      ]
     },
     "metadata": {},
     "output_type": "display_data"
    },
    {
     "name": "stdout",
     "output_type": "stream",
     "text": [
      "s3dkt3m2\n",
      "  "
     ]
    },
    {
     "data": {
      "text/plain": [
       "<Compressed Sparse Column sparse matrix of dtype 'float64'\n",
       "\twith 3686223 stored elements and shape (90449, 90449)>"
      ]
     },
     "metadata": {},
     "output_type": "display_data"
    },
    {
     "name": "stdout",
     "output_type": "stream",
     "text": [
      "smt\n",
      "  "
     ]
    },
    {
     "data": {
      "text/plain": [
       "<Compressed Sparse Column sparse matrix of dtype 'float64'\n",
       "\twith 3749582 stored elements and shape (25710, 25710)>"
      ]
     },
     "metadata": {},
     "output_type": "display_data"
    },
    {
     "name": "stdout",
     "output_type": "stream",
     "text": [
      "ship_003\n",
      "  "
     ]
    },
    {
     "data": {
      "text/plain": [
       "<Compressed Sparse Column sparse matrix of dtype 'float64'\n",
       "\twith 3777036 stored elements and shape (121728, 121728)>"
      ]
     },
     "metadata": {},
     "output_type": "display_data"
    },
    {
     "name": "stdout",
     "output_type": "stream",
     "text": [
      "ship_001\n",
      "  "
     ]
    },
    {
     "data": {
      "text/plain": [
       "<Compressed Sparse Column sparse matrix of dtype 'float64'\n",
       "\twith 3896496 stored elements and shape (34920, 34920)>"
      ]
     },
     "metadata": {},
     "output_type": "display_data"
    },
    {
     "name": "stdout",
     "output_type": "stream",
     "text": [
      "cant\n",
      "  "
     ]
    },
    {
     "data": {
      "text/plain": [
       "<Compressed Sparse Column sparse matrix of dtype 'float64'\n",
       "\twith 4007383 stored elements and shape (62451, 62451)>"
      ]
     },
     "metadata": {},
     "output_type": "display_data"
    },
    {
     "name": "stdout",
     "output_type": "stream",
     "text": [
      "offshore\n",
      "  "
     ]
    },
    {
     "data": {
      "text/plain": [
       "<Compressed Sparse Column sparse matrix of dtype 'float64'\n",
       "\twith 4242673 stored elements and shape (259789, 259789)>"
      ]
     },
     "metadata": {},
     "output_type": "display_data"
    },
    {
     "name": "stdout",
     "output_type": "stream",
     "text": [
      "pdb1HYS\n",
      "  "
     ]
    },
    {
     "data": {
      "text/plain": [
       "<Compressed Sparse Column sparse matrix of dtype 'float64'\n",
       "\twith 4344765 stored elements and shape (36417, 36417)>"
      ]
     },
     "metadata": {},
     "output_type": "display_data"
    },
    {
     "name": "stdout",
     "output_type": "stream",
     "text": [
      "s3dkq4m2\n",
      "  "
     ]
    },
    {
     "data": {
      "text/plain": [
       "<Compressed Sparse Column sparse matrix of dtype 'float64'\n",
       "\twith 4427725 stored elements and shape (90449, 90449)>"
      ]
     },
     "metadata": {},
     "output_type": "display_data"
    },
    {
     "name": "stdout",
     "output_type": "stream",
     "text": [
      "thread\n",
      "  "
     ]
    },
    {
     "data": {
      "text/plain": [
       "<Compressed Sparse Column sparse matrix of dtype 'float64'\n",
       "\twith 4444880 stored elements and shape (29736, 29736)>"
      ]
     },
     "metadata": {},
     "output_type": "display_data"
    },
    {
     "name": "stdout",
     "output_type": "stream",
     "text": [
      "shipsec5\n",
      "  "
     ]
    },
    {
     "data": {
      "text/plain": [
       "<Compressed Sparse Column sparse matrix of dtype 'float64'\n",
       "\twith 4598604 stored elements and shape (179860, 179860)>"
      ]
     },
     "metadata": {},
     "output_type": "display_data"
    },
    {
     "name": "stdout",
     "output_type": "stream",
     "text": [
      "apache2\n",
      "  "
     ]
    },
    {
     "data": {
      "text/plain": [
       "<Compressed Sparse Column sparse matrix of dtype 'float64'\n",
       "\twith 4817870 stored elements and shape (715176, 715176)>"
      ]
     },
     "metadata": {},
     "output_type": "display_data"
    },
    {
     "name": "stdout",
     "output_type": "stream",
     "text": [
      "ecology2\n",
      "  "
     ]
    },
    {
     "data": {
      "text/plain": [
       "<Compressed Sparse Column sparse matrix of dtype 'float64'\n",
       "\twith 4995991 stored elements and shape (999999, 999999)>"
      ]
     },
     "metadata": {},
     "output_type": "display_data"
    },
    {
     "name": "stdout",
     "output_type": "stream",
     "text": [
      "tmt_sym\n",
      "  "
     ]
    },
    {
     "data": {
      "text/plain": [
       "<Compressed Sparse Column sparse matrix of dtype 'float64'\n",
       "\twith 5080961 stored elements and shape (726713, 726713)>"
      ]
     },
     "metadata": {},
     "output_type": "display_data"
    },
    {
     "name": "stdout",
     "output_type": "stream",
     "text": [
      "boneS01\n",
      "  "
     ]
    },
    {
     "data": {
      "text/plain": [
       "<Compressed Sparse Column sparse matrix of dtype 'float64'\n",
       "\twith 5516602 stored elements and shape (127224, 127224)>"
      ]
     },
     "metadata": {},
     "output_type": "display_data"
    },
    {
     "name": "stdout",
     "output_type": "stream",
     "text": [
      "consph\n",
      "  "
     ]
    },
    {
     "data": {
      "text/plain": [
       "<Compressed Sparse Column sparse matrix of dtype 'float64'\n",
       "\twith 6010480 stored elements and shape (83334, 83334)>"
      ]
     },
     "metadata": {},
     "output_type": "display_data"
    },
    {
     "name": "stdout",
     "output_type": "stream",
     "text": [
      "bmw7st_1\n",
      "  "
     ]
    },
    {
     "data": {
      "text/plain": [
       "<Compressed Sparse Column sparse matrix of dtype 'float64'\n",
       "\twith 7318399 stored elements and shape (141347, 141347)>"
      ]
     },
     "metadata": {},
     "output_type": "display_data"
    },
    {
     "name": "stdout",
     "output_type": "stream",
     "text": [
      "G3_circuit\n",
      "  "
     ]
    },
    {
     "data": {
      "text/plain": [
       "<Compressed Sparse Column sparse matrix of dtype 'float64'\n",
       "\twith 7660826 stored elements and shape (1585478, 1585478)>"
      ]
     },
     "metadata": {},
     "output_type": "display_data"
    },
    {
     "name": "stdout",
     "output_type": "stream",
     "text": [
      "x104\n",
      "  "
     ]
    },
    {
     "data": {
      "text/plain": [
       "<Compressed Sparse Column sparse matrix of dtype 'float64'\n",
       "\twith 8713602 stored elements and shape (108384, 108384)>"
      ]
     },
     "metadata": {},
     "output_type": "display_data"
    },
    {
     "name": "stdout",
     "output_type": "stream",
     "text": [
      "thermal2\n",
      "  "
     ]
    },
    {
     "data": {
      "text/plain": [
       "<Compressed Sparse Column sparse matrix of dtype 'float64'\n",
       "\twith 8580313 stored elements and shape (1228045, 1228045)>"
      ]
     },
     "metadata": {},
     "output_type": "display_data"
    },
    {
     "name": "stdout",
     "output_type": "stream",
     "text": [
      "m_t1\n",
      "  "
     ]
    },
    {
     "data": {
      "text/plain": [
       "<Compressed Sparse Column sparse matrix of dtype 'float64'\n",
       "\twith 9753570 stored elements and shape (97578, 97578)>"
      ]
     },
     "metadata": {},
     "output_type": "display_data"
    },
    {
     "name": "stdout",
     "output_type": "stream",
     "text": [
      "hood\n",
      "  "
     ]
    },
    {
     "data": {
      "text/plain": [
       "<Compressed Sparse Column sparse matrix of dtype 'float64'\n",
       "\twith 9895422 stored elements and shape (220542, 220542)>"
      ]
     },
     "metadata": {},
     "output_type": "display_data"
    },
    {
     "name": "stdout",
     "output_type": "stream",
     "text": [
      "crankseg_1\n",
      "  "
     ]
    },
    {
     "data": {
      "text/plain": [
       "<Compressed Sparse Column sparse matrix of dtype 'float64'\n",
       "\twith 10614210 stored elements and shape (52804, 52804)>"
      ]
     },
     "metadata": {},
     "output_type": "display_data"
    },
    {
     "name": "stdout",
     "output_type": "stream",
     "text": [
      "bmwcra_1\n",
      "  "
     ]
    },
    {
     "data": {
      "text/plain": [
       "<Compressed Sparse Column sparse matrix of dtype 'float64'\n",
       "\twith 10641602 stored elements and shape (148770, 148770)>"
      ]
     },
     "metadata": {},
     "output_type": "display_data"
    },
    {
     "name": "stdout",
     "output_type": "stream",
     "text": [
      "pwtk\n",
      "  "
     ]
    },
    {
     "data": {
      "text/plain": [
       "<Compressed Sparse Column sparse matrix of dtype 'float64'\n",
       "\twith 11524432 stored elements and shape (217918, 217918)>"
      ]
     },
     "metadata": {},
     "output_type": "display_data"
    },
    {
     "name": "stdout",
     "output_type": "stream",
     "text": [
      "crankseg_2\n",
      "  "
     ]
    },
    {
     "data": {
      "text/plain": [
       "<Compressed Sparse Column sparse matrix of dtype 'float64'\n",
       "\twith 14148858 stored elements and shape (63838, 63838)>"
      ]
     },
     "metadata": {},
     "output_type": "display_data"
    },
    {
     "name": "stdout",
     "output_type": "stream",
     "text": [
      "nd12k\n",
      "  "
     ]
    },
    {
     "data": {
      "text/plain": [
       "<Compressed Sparse Column sparse matrix of dtype 'float64'\n",
       "\twith 14220946 stored elements and shape (36000, 36000)>"
      ]
     },
     "metadata": {},
     "output_type": "display_data"
    },
    {
     "name": "stdout",
     "output_type": "stream",
     "text": [
      "af_shell7\n",
      "  "
     ]
    },
    {
     "data": {
      "text/plain": [
       "<Compressed Sparse Column sparse matrix of dtype 'float64'\n",
       "\twith 17579155 stored elements and shape (504855, 504855)>"
      ]
     },
     "metadata": {},
     "output_type": "display_data"
    },
    {
     "name": "stdout",
     "output_type": "stream",
     "text": [
      "msdoor\n",
      "  "
     ]
    },
    {
     "data": {
      "text/plain": [
       "<Compressed Sparse Column sparse matrix of dtype 'float64'\n",
       "\twith 19173163 stored elements and shape (415863, 415863)>"
      ]
     },
     "metadata": {},
     "output_type": "display_data"
    },
    {
     "name": "stdout",
     "output_type": "stream",
     "text": [
      "F1\n",
      "  "
     ]
    },
    {
     "data": {
      "text/plain": [
       "<Compressed Sparse Column sparse matrix of dtype 'float64'\n",
       "\twith 26837113 stored elements and shape (343791, 343791)>"
      ]
     },
     "metadata": {},
     "output_type": "display_data"
    },
    {
     "name": "stdout",
     "output_type": "stream",
     "text": [
      "nd24k\n",
      "  "
     ]
    },
    {
     "data": {
      "text/plain": [
       "<Compressed Sparse Column sparse matrix of dtype 'float64'\n",
       "\twith 28715634 stored elements and shape (72000, 72000)>"
      ]
     },
     "metadata": {},
     "output_type": "display_data"
    },
    {
     "name": "stdout",
     "output_type": "stream",
     "text": [
      "ldoor\n",
      "  "
     ]
    },
    {
     "data": {
      "text/plain": [
       "<Compressed Sparse Column sparse matrix of dtype 'float64'\n",
       "\twith 42493817 stored elements and shape (952203, 952203)>"
      ]
     },
     "metadata": {},
     "output_type": "display_data"
    }
   ],
   "source": [
    "for name_i in kaporin_ss:\n",
    "    mat = io.loadmat(os.path.join(path, name_i+'.mat'))['Problem'][0][0].item()\n",
    "    for elem in mat:\n",
    "        if isinstance(elem, sparse.csc_matrix) or isinstance(elem, sparse.csr_matrix):\n",
    "            print(name_i, end='\\n  ')\n",
    "            display(elem)\n",
    "            sparse.save_npz(os.path.join(path, folder, name_i+'.npz'), elem)\n",
    "            break"
   ]
  },
  {
   "cell_type": "code",
   "execution_count": 31,
   "id": "56af62ce",
   "metadata": {},
   "outputs": [
    {
     "data": {
      "text/plain": [
       "array(['S  STIFFNESS MATRIX - R.E.GINNA NUCLEAR POWER STATION'],\n",
       "      dtype='<U53')"
      ]
     },
     "execution_count": 31,
     "metadata": {},
     "output_type": "execute_result"
    }
   ],
   "source": [
    "mat['Problem'][0][0].item()[0]"
   ]
  },
  {
   "cell_type": "code",
   "execution_count": 28,
   "id": "3b77537b",
   "metadata": {},
   "outputs": [
    {
     "data": {
      "text/plain": [
       "(array(['S  STIFFNESS MATRIX - R.E.GINNA NUCLEAR POWER STATION'],\n",
       "       dtype='<U53'),\n",
       " <Compressed Sparse Column sparse matrix of dtype 'float64'\n",
       " \twith 149090 stored elements and shape (11948, 11948)>,\n",
       " array(['HB/bcsstk18'], dtype='<U11'),\n",
       " array([[40]], dtype=uint8),\n",
       " array(['1985'], dtype='<U4'),\n",
       " array(['M. Will'], dtype='<U7'),\n",
       " array(['I. Duff, R. Grimes, J. Lewis'], dtype='<U28'),\n",
       " array(['structural problem'], dtype='<U18'))"
      ]
     },
     "execution_count": 28,
     "metadata": {},
     "output_type": "execute_result"
    }
   ],
   "source": [
    "mat = loadmat(path + kaporin_ss[1] + '.mat')\n",
    "mat['Problem'][0][0].item()#[0]"
   ]
  },
  {
   "cell_type": "code",
   "execution_count": null,
   "id": "d8f31336",
   "metadata": {},
   "outputs": [],
   "source": []
  }
 ],
 "metadata": {
  "kernelspec": {
   "display_name": "Python 3 (ipykernel)",
   "language": "python",
   "name": "python3"
  },
  "language_info": {
   "codemirror_mode": {
    "name": "ipython",
    "version": 3
   },
   "file_extension": ".py",
   "mimetype": "text/x-python",
   "name": "python",
   "nbconvert_exporter": "python",
   "pygments_lexer": "ipython3",
   "version": "3.10.6"
  }
 },
 "nbformat": 4,
 "nbformat_minor": 5
}
