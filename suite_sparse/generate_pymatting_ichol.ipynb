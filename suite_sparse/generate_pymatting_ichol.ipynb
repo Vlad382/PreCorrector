{
 "cells": [
  {
   "cell_type": "code",
   "execution_count": 1,
   "id": "898554fe",
   "metadata": {},
   "outputs": [],
   "source": [
    "import os\n",
    "import pymatting\n",
    "from scipy import sparse"
   ]
  },
  {
   "cell_type": "code",
   "execution_count": 2,
   "id": "9c6f58ef",
   "metadata": {},
   "outputs": [],
   "source": [
    "kapset = [\n",
    "    'bodyy6','bcsstk18','bcsstk25','cvxbqp1','bcsstk17','gridgena',\n",
    "    'apache1','Pres_Poisson','G2_circuit','olafu','gyro_k','msc23052',\n",
    "    'bcsstk36','msc10848','raefsky4','cfd1','oilpan','vanbody','ct20stif',\n",
    "    'nasasrb','cfd2','shipsec8','shipsec1','Dubcova3','parabolic_fem',\n",
    "    's3dkt3m2','smt','ship_003','ship_001','cant','offshore','pdb1HYS',\n",
    "    's3dkq4m2','thread','shipsec5','apache2','ecology2','tmt_sym','boneS01',\n",
    "    'consph','bmw7st_1','G3_circuit','x104','thermal2','m_t1','hood','crankseg_1',\n",
    "    'bmwcra_1','pwtk','crankseg_2','nd12k','af_shell7','msdoor','F1','nd24k','ldoor'\n",
    "]\n",
    "path_load = '/mnt/local/data/vtrifonov/susbet_SuiteSparse/scipy_sparse'\n",
    "path_save = '/mnt/local/data/vtrifonov/susbet_SuiteSparse/pymatting_ichol'"
   ]
  },
  {
   "cell_type": "code",
   "execution_count": null,
   "id": "a651f1b6",
   "metadata": {},
   "outputs": [
    {
     "name": "stdout",
     "output_type": "stream",
     "text": [
      "\n",
      "   1. BODYY6 IS DONE \n",
      "\n",
      "\n",
      "   2. BCSSTK18 IS DONE \n",
      "\n",
      "\n",
      "   3. BCSSTK25 IS DONE \n",
      "\n",
      "\n",
      "   4. CVXBQP1 IS DONE \n",
      "\n",
      "\n",
      "   5. BCSSTK17 IS DONE \n",
      "\n",
      "\n",
      "   6. GRIDGENA IS DONE \n",
      "\n",
      "\n",
      "   7. APACHE1 IS DONE \n",
      "\n",
      "\n",
      "   8. PRES_POISSON IS DONE \n",
      "\n",
      "\n",
      "   9. G2_CIRCUIT IS DONE \n",
      "\n",
      "\n",
      "   10. OLAFU IS DONE \n",
      "\n",
      "\n",
      "   11. GYRO_K IS DONE \n",
      "\n",
      "\n",
      "   12. MSC23052 IS DONE \n",
      "\n",
      "PERFORMANCE WARNING:\n",
      "Thresholded incomplete Cholesky decomposition failed due to insufficient positive-definiteness of matrix A with parameters:\n",
      "    discard_threshold = 1.000000e-04\n",
      "    shift = 0.000000e+00\n",
      "Try decreasing discard_threshold or start with a larger shift\n",
      "\n",
      "PERFORMANCE WARNING:\n",
      "Thresholded incomplete Cholesky decomposition failed due to insufficient positive-definiteness of matrix A with parameters:\n",
      "    discard_threshold = 1.000000e-04\n",
      "    shift = 1.000000e-04\n",
      "Try decreasing discard_threshold or start with a larger shift\n",
      "\n",
      "PERFORMANCE WARNING:\n",
      "Thresholded incomplete Cholesky decomposition failed due to insufficient positive-definiteness of matrix A with parameters:\n",
      "    discard_threshold = 1.000000e-04\n",
      "    shift = 1.000000e-03\n",
      "Try decreasing discard_threshold or start with a larger shift\n",
      "\n"
     ]
    }
   ],
   "source": [
    "for i, name in enumerate(kapset):\n",
    "    A = sparse.load_npz(os.path.join(path_load, name+'.npz')).tocsr()\n",
    "    L = pymatting.ichol(A).L\n",
    "    sparse.save_npz(os.path.join(path_save, name+'_ichol_pymatting.npz'), L)\n",
    "    print(f'\\n   {i+1}. {name.upper()} IS DONE \\n')"
   ]
  },
  {
   "cell_type": "code",
   "execution_count": null,
   "id": "350e8709",
   "metadata": {},
   "outputs": [],
   "source": []
  }
 ],
 "metadata": {
  "kernelspec": {
   "display_name": "Python 3 (ipykernel)",
   "language": "python",
   "name": "python3"
  },
  "language_info": {
   "codemirror_mode": {
    "name": "ipython",
    "version": 3
   },
   "file_extension": ".py",
   "mimetype": "text/x-python",
   "name": "python",
   "nbconvert_exporter": "python",
   "pygments_lexer": "ipython3",
   "version": "3.10.6"
  }
 },
 "nbformat": 4,
 "nbformat_minor": 5
}
