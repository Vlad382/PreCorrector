{
 "cells": [
  {
   "cell_type": "code",
   "execution_count": 1,
   "id": "ea2e79de",
   "metadata": {},
   "outputs": [],
   "source": [
    "import os\n",
    "import time\n",
    "import pymatting\n",
    "from scipy import sparse"
   ]
  },
  {
   "cell_type": "code",
   "execution_count": 2,
   "id": "06029332",
   "metadata": {},
   "outputs": [],
   "source": [
    "kapset = [\n",
    "#     'bodyy6','bcsstk18','bcsstk25','cvxbqp1','bcsstk17','gridgena',\n",
    "#     'apache1','Pres_Poisson','G2_circuit','olafu','gyro_k','msc23052',\n",
    "#     'bcsstk36','msc10848','raefsky4','cfd1','oilpan','vanbody','ct20stif',\n",
    "#     'nasasrb','cfd2','shipsec8','shipsec1','Dubcova3','parabolic_fem',\n",
    "#     's3dkt3m2','smt','ship_003','ship_001','cant','offshore','pdb1HYS',\n",
    "#     's3dkq4m2','thread', 'shipsec5',\n",
    "    'apache2','ecology2','tmt_sym','boneS01',\n",
    "    'consph','bmw7st_1','G3_circuit','x104','thermal2','m_t1','hood','crankseg_1',\n",
    "    'bmwcra_1','pwtk','crankseg_2','nd12k','af_shell7','msdoor','F1','nd24k','ldoor'\n",
    "]\n",
    "path_load = '/mnt/local/data/vtrifonov/susbet_SuiteSparse/scipy_sparse'\n",
    "path_save = '/mnt/local/data/vtrifonov/susbet_SuiteSparse/pymatting_ichol'"
   ]
  },
  {
   "cell_type": "code",
   "execution_count": null,
   "id": "d09eb0bc",
   "metadata": {},
   "outputs": [
    {
     "name": "stdout",
     "output_type": "stream",
     "text": [
      "\n",
      "   !!! 1. APACHE2 FAILED !!!\n",
      "Thresholded incomplete Cholesky decomposition failed because more than max_nnz non-zero elements were created. Try increasing max_nnz or discard_threshold.\n",
      "\n",
      "\n",
      "   2. ECOLOGY2 IS DONE. TIME IS 15.4077 \n",
      "\n",
      "\n",
      "   3. TMT_SYM IS DONE. TIME IS 5.3672 \n",
      "\n"
     ]
    }
   ],
   "source": [
    "generation_time = {}\n",
    "for i, name in enumerate(kapset):\n",
    "    A = sparse.load_npz(os.path.join(path_load, name+'.npz')).tocsr()\n",
    "    \n",
    "    try:\n",
    "        s_ = time.perf_counter()\n",
    "        L = pymatting.ichol(A).L\n",
    "        generation_time[name] = time.perf_counter() - s_\n",
    "        \n",
    "        sparse.save_npz(os.path.join(path_save, name+'_ichol_pymatting.npz'), L)\n",
    "        print(f'\\n   {i+1}. {name.upper()} IS DONE. TIME IS {generation_time[name]:.4f} \\n')\n",
    "    except Exception as e:     \n",
    "        generation_time[name] = -42\n",
    "        print(f'\\n   !!! {i+1}. {name.upper()} FAILED !!!')\n",
    "        print(e, end='\\n\\n')"
   ]
  },
  {
   "cell_type": "code",
   "execution_count": null,
   "id": "83582b29",
   "metadata": {},
   "outputs": [],
   "source": [
    "2+3"
   ]
  },
  {
   "cell_type": "code",
   "execution_count": 4,
   "id": "37e36de8",
   "metadata": {},
   "outputs": [
    {
     "data": {
      "text/plain": [
       "56"
      ]
     },
     "execution_count": 4,
     "metadata": {},
     "output_type": "execute_result"
    }
   ],
   "source": [
    "len(kapset)"
   ]
  },
  {
   "cell_type": "code",
   "execution_count": 5,
   "id": "a47ba976",
   "metadata": {},
   "outputs": [
    {
     "data": {
      "text/plain": [
       "35"
      ]
     },
     "execution_count": 5,
     "metadata": {},
     "output_type": "execute_result"
    }
   ],
   "source": [
    "len(generation_time)"
   ]
  },
  {
   "cell_type": "code",
   "execution_count": 14,
   "id": "e6023fd4",
   "metadata": {},
   "outputs": [
    {
     "data": {
      "text/plain": [
       "{'bodyy6': 0.021569905802607536,\n",
       " 'bcsstk18': 1.3004358317703009,\n",
       " 'bcsstk25': 1.1791563928127289,\n",
       " 'cvxbqp1': 130.93423884548247,\n",
       " 'bcsstk17': 0.5702103078365326,\n",
       " 'gridgena': 6.502207072451711,\n",
       " 'apache1': 11.957784360274673,\n",
       " 'Pres_Poisson': 0.39162822254002094,\n",
       " 'G2_circuit': 3.2688043005764484,\n",
       " 'olafu': 1.9322341922670603,\n",
       " 'gyro_k': 20.64081352390349,\n",
       " 'msc23052': 1.2710442151874304,\n",
       " 'bcsstk36': 14.631502583622932,\n",
       " 'msc10848': 2.954164618626237,\n",
       " 'raefsky4': 75.62698814086616,\n",
       " 'cfd1': 10.756063090637326,\n",
       " 'oilpan': 22.32170508801937,\n",
       " 'vanbody': 69.88279010355473,\n",
       " 'ct20stif': 1233.8710161093622,\n",
       " 'nasasrb': 10.079380614683032,\n",
       " 'cfd2': 16.096904441714287,\n",
       " 'shipsec8': 354.35565544106066,\n",
       " 'shipsec1': 593.4069613758475,\n",
       " 'Dubcova3': 21.274051401764154,\n",
       " 'parabolic_fem': 2.0240740943700075,\n",
       " 's3dkt3m2': 20.433086661621928,\n",
       " 'smt': 171.25026018358767,\n",
       " 'ship_003': 454.93288640119135,\n",
       " 'ship_001': 2047.8710111435503,\n",
       " 'cant': 16.987062480300665,\n",
       " 'offshore': 778.0862692575902,\n",
       " 'pdb1HYS': 67.22338855825365,\n",
       " 's3dkq4m2': 21.14973164908588,\n",
       " 'thread': 2206.4020596202463,\n",
       " 'shipsec5': 455.7176949977875}"
      ]
     },
     "execution_count": 14,
     "metadata": {},
     "output_type": "execute_result"
    }
   ],
   "source": [
    "# import cloudpickle\n",
    "# with open(os.path.join(path_save, '.pkl'), 'wb') as f:\n",
    "#     cloudpickle.dump(generation_time, f)\n",
    "\n",
    "generation_time"
   ]
  },
  {
   "cell_type": "code",
   "execution_count": null,
   "id": "61b42e2d",
   "metadata": {},
   "outputs": [],
   "source": []
  }
 ],
 "metadata": {
  "kernelspec": {
   "display_name": "Python 3 (ipykernel)",
   "language": "python",
   "name": "python3"
  },
  "language_info": {
   "codemirror_mode": {
    "name": "ipython",
    "version": 3
   },
   "file_extension": ".py",
   "mimetype": "text/x-python",
   "name": "python",
   "nbconvert_exporter": "python",
   "pygments_lexer": "ipython3",
   "version": "3.10.6"
  }
 },
 "nbformat": 4,
 "nbformat_minor": 5
}
