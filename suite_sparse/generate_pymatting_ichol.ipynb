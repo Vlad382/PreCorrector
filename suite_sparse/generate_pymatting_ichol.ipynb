{
 "cells": [
  {
   "cell_type": "code",
   "execution_count": null,
   "id": "0e363668",
   "metadata": {},
   "outputs": [],
   "source": [
    "import os\n",
    "import time\n",
    "import pymatting\n",
    "from scipy import sparse"
   ]
  },
  {
   "cell_type": "code",
   "execution_count": null,
   "id": "64a21872",
   "metadata": {},
   "outputs": [],
   "source": [
    "kapset = [\n",
    "    'bodyy6','bcsstk18','bcsstk25','cvxbqp1','bcsstk17','gridgena',\n",
    "    'apache1','Pres_Poisson','G2_circuit','olafu','gyro_k','msc23052',\n",
    "    'bcsstk36','msc10848','raefsky4','cfd1','oilpan','vanbody','ct20stif',\n",
    "    'nasasrb','cfd2','shipsec8','shipsec1','Dubcova3','parabolic_fem',\n",
    "    's3dkt3m2','smt','ship_003','ship_001','cant','offshore','pdb1HYS',\n",
    "    's3dkq4m2','thread','shipsec5','apache2','ecology2','tmt_sym','boneS01',\n",
    "    'consph','bmw7st_1','G3_circuit','x104','thermal2','m_t1','hood','crankseg_1',\n",
    "    'bmwcra_1','pwtk','crankseg_2','nd12k','af_shell7','msdoor','F1','nd24k','ldoor'\n",
    "]\n",
    "path_load = '/mnt/local/data/vtrifonov/susbet_SuiteSparse/scipy_sparse'\n",
    "path_save = '/mnt/local/data/vtrifonov/susbet_SuiteSparse/pymatting_ichol'"
   ]
  },
  {
   "cell_type": "code",
   "execution_count": null,
   "id": "a652d58a",
   "metadata": {},
   "outputs": [],
   "source": [
    "generation_time = {}\n",
    "for i, name in enumerate(kapset):\n",
    "    A = sparse.load_npz(os.path.join(path_load, name+'.npz')).tocsr()\n",
    "    \n",
    "    s_ = time.perf_counter()\n",
    "    L = pymatting.ichol(A).L\n",
    "    generation_time[name] = time.perf_counter() - s_\n",
    "    \n",
    "    sparse.save_npz(os.path.join(path_save, name+'_ichol_pymatting.npz'), L)\n",
    "    print(f'\\n   {i+1}. {name.upper()} IS DONE. TIME IS {generation_time[name]:.4f} \\n')"
   ]
  },
  {
   "cell_type": "code",
   "execution_count": null,
   "id": "af40b8e9",
   "metadata": {},
   "outputs": [],
   "source": []
  }
 ],
 "metadata": {
  "kernelspec": {
   "display_name": "Python 3 (ipykernel)",
   "language": "python",
   "name": "python3"
  },
  "language_info": {
   "codemirror_mode": {
    "name": "ipython",
    "version": 3
   },
   "file_extension": ".py",
   "mimetype": "text/x-python",
   "name": "python",
   "nbconvert_exporter": "python",
   "pygments_lexer": "ipython3",
   "version": "3.10.6"
  }
 },
 "nbformat": 4,
 "nbformat_minor": 5
}
