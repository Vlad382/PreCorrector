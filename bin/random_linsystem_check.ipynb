{
 "cells": [
  {
   "cell_type": "code",
   "execution_count": 1,
   "id": "354ce191",
   "metadata": {},
   "outputs": [],
   "source": [
    "import os\n",
    "os.environ['CUDA_VISIBLE_DEVICES'] = ''\n",
    "\n",
    "import equinox as eqx\n",
    "import optax \n",
    "\n",
    "import jax\n",
    "import jax.numpy as jnp\n",
    "from jax.nn import relu\n",
    "from jax import random, jit, lax\n",
    "import jraph\n",
    "\n",
    "from tqdm.notebook import tqdm\n",
    "\n",
    "import matplotlib.pyplot as plt\n",
    "\n",
    "import sys\n",
    "from functools import partial\n",
    "from itertools import chain\n",
    "\n",
    "from data import direc_graph_from_linear_system, bi_direc_indx\n",
    "from train import TrainerLLT\n",
    "from loss import LLT_loss\n",
    "\n",
    "from model import MessagePassing, FullyConnectedNet, PrecNet\n",
    "\n",
    "\n",
    "\n",
    "from train_func import train, compute_loss"
   ]
  },
  {
   "cell_type": "code",
   "execution_count": 2,
   "id": "d4876294",
   "metadata": {},
   "outputs": [],
   "source": [
    "sys.path.append('/mnt/local/data/vtrifonov/PNO')\n",
    "from datasets.Elliptic import solvers\n",
    "\n",
    "from jax import config\n",
    "config.update('jax_enable_x64', True)\n",
    "os.environ['CUDA_VISIBLE_DEVICES'] = ''"
   ]
  },
  {
   "cell_type": "code",
   "execution_count": 3,
   "id": "56ecb7b5",
   "metadata": {},
   "outputs": [],
   "source": [
    "def random_lin_system(seed):\n",
    "    keys = random.split(random.PRNGKey(seed), 3)\n",
    "    A = jnp.eye(10, k=0)*random.randint(keys[0], [10], 1, 20) - jnp.eye(10, k=-1)*random.randint(keys[1], [10], 1, 20) - jnp.eye(10, k=1)*random.randint(keys[2], [10], 1, 20)\n",
    "    b = random.randint(random.PRNGKey(seed), [10], 0, 10)\n",
    "    return A * 1., b * 1.\n",
    "\n",
    "def make_random_dataset(seeds: list):\n",
    "    A_ls, b_ls, bi_edges_ls = [], [], []\n",
    "    nodes_ls, edges_ls, receivers_ls, senders_ls = [], [], [], []\n",
    "    ls_of_ls = [A_ls, b_ls, bi_edges_ls, nodes_ls, edges_ls, receivers_ls, senders_ls]\n",
    "    \n",
    "    for i, s in enumerate(seeds):\n",
    "        A, b = random_lin_system(s)\n",
    "        nodes, edges, receivers, senders, n_node, n_edge = direc_graph_from_linear_system(A, b)\n",
    "        indices = bi_direc_indx(receivers, senders, n_node)\n",
    "        \n",
    "        ls_of_val = [A, b, indices, nodes, edges, receivers, senders]\n",
    "        for ls, val in zip(ls_of_ls, ls_of_val):\n",
    "            ls.append(val)\n",
    "            \n",
    "    for i, ls in enumerate(ls_of_ls):\n",
    "        ls_of_ls[i] = jnp.stack(ls)\n",
    "    return ls_of_ls"
   ]
  },
  {
   "cell_type": "code",
   "execution_count": 4,
   "id": "f6300d8c",
   "metadata": {},
   "outputs": [
    {
     "name": "stderr",
     "output_type": "stream",
     "text": [
      "2024-03-01 11:32:02.430868: E external/xla/xla/stream_executor/cuda/cuda_driver.cc:282] failed call to cuInit: CUDA_ERROR_NO_DEVICE: no CUDA-capable device is detected\n",
      "CUDA backend failed to initialize: FAILED_PRECONDITION: No visible GPU devices. (Set TF_CPP_MIN_LOG_LEVEL=0 and rerun for more info.)\n"
     ]
    }
   ],
   "source": [
    "A, b, bi_edges, nodes, edges, receivers, senders = make_random_dataset(jnp.arange(20))"
   ]
  },
  {
   "cell_type": "code",
   "execution_count": 5,
   "id": "e46a2b27",
   "metadata": {},
   "outputs": [],
   "source": [
    "# x = b\n",
    "# X_train = X_test = (nodes, edges, receivers, senders, bi_edges, x, b)"
   ]
  },
  {
   "cell_type": "code",
   "execution_count": 6,
   "id": "99c37c16",
   "metadata": {},
   "outputs": [],
   "source": [
    "# training_params = {'optimizer': optax.adamw, 'lr': 1e-3,\n",
    "#                    'optim_params': {'weight_decay': 2e-4}, \n",
    "#                    'epoch_num': 10}\n",
    "\n",
    "# trainer = TrainerLLT(X_train, X_test, jnp.array([1]), jnp.array([1]), training_params, loss_function=LLT_loss)"
   ]
  },
  {
   "cell_type": "code",
   "execution_count": 7,
   "id": "c363622f",
   "metadata": {},
   "outputs": [],
   "source": [
    "seed = 42\n",
    "NodeEncoder = FullyConnectedNet(features=[1, 15, 15], N_layers=2, key=random.PRNGKey(seed), act=relu)\n",
    "EdgeEncoder = FullyConnectedNet(features=[1, 15, 15], N_layers=2, key=random.PRNGKey(seed), act=relu)\n",
    "EdgeDecoder = FullyConnectedNet(features=[15, 15, 1], N_layers=2, key=random.PRNGKey(seed), act=relu)\n",
    "mp_rounds = 3\n",
    "# MessagePass = MessagePassing(\n",
    "#     update_edge_fn = lambda e, sent, rec: FullyConnectedNet(\n",
    "#         features=[45, 15, 15], N_layers=2, key=random.PRNGKey(seed), act=relu\n",
    "#     )(jnp.concatenate([e, sent, rec], axis=0)),\n",
    "    \n",
    "#     update_node_fn = lambda n, sent, rec: FullyConnectedNet(\n",
    "#         features=[45, 15, 15], N_layers=2, key=random.PRNGKey(seed), act=relu\n",
    "#     )(jnp.concatenate([n, sent, rec], axis=0)),\n",
    "#     mp_rounds=mp_rounds\n",
    "# )\n",
    "\n",
    "MessagePass = MessagePassing(\n",
    "    update_edge_fn = FullyConnectedNet(features=[45, 15, 15], N_layers=2, key=random.PRNGKey(seed), act=relu),    \n",
    "    update_node_fn = FullyConnectedNet(features=[45, 15, 15], N_layers=2, key=random.PRNGKey(seed), act=relu),\n",
    "    mp_rounds=mp_rounds\n",
    ")\n",
    "\n",
    "model = PrecNet(NodeEncoder=NodeEncoder, EdgeEncoder=EdgeEncoder, \n",
    "                EdgeDecoder=EdgeDecoder, MessagePass=MessagePass)"
   ]
  },
  {
   "cell_type": "code",
   "execution_count": 8,
   "id": "3c8e4951",
   "metadata": {},
   "outputs": [],
   "source": [
    "# model_check = FullyConnectedNet(features=[1, 15, 1], N_layers=3, key=random.PRNGKey(seed), act=relu)"
   ]
  },
  {
   "cell_type": "code",
   "execution_count": 9,
   "id": "691f4df7",
   "metadata": {},
   "outputs": [],
   "source": [
    "x = b\n",
    "X_train = X_test = (nodes, edges, receivers, senders, bi_edges, x, b)\n",
    "data = (X_train, X_test, jnp.array([1]), jnp.array([1]))\n",
    "\n",
    "train_config = {'optimizer': optax.adamw, 'lr': 1e-3,\n",
    "                'optim_params': {'weight_decay': 2e-4}, \n",
    "                'epoch_num': 10}"
   ]
  },
  {
   "cell_type": "code",
   "execution_count": 10,
   "id": "8cff2d0f",
   "metadata": {},
   "outputs": [
    {
     "data": {
      "application/vnd.jupyter.widget-view+json": {
       "model_id": "79f3e4ee92de4d5ba1039659c72a5b7d",
       "version_major": 2,
       "version_minor": 0
      },
      "text/plain": [
       "  0%|          | 0/10 [00:00<?, ?it/s]"
      ]
     },
     "metadata": {},
     "output_type": "display_data"
    },
    {
     "name": "stdout",
     "output_type": "stream",
     "text": [
      "183.6775108829826 182.04373422280298\n",
      "183.6775108829826 182.04373422280298\n",
      "183.6775108829826 182.04373422280298\n",
      "183.6775108829826 182.04373422280298\n",
      "183.6775108829826 182.04373422280298\n",
      "183.6775108829826 182.04373422280298\n",
      "183.6775108829826 182.04373422280298\n",
      "183.6775108829826 182.04373422280298\n",
      "183.6775108829826 182.04373422280298\n",
      "183.6775108829826 182.04373422280298\n"
     ]
    }
   ],
   "source": [
    "model = train(model, data, train_config, compute_loss)\n",
    "# losses_ls = trainer(model)"
   ]
  },
  {
   "cell_type": "code",
   "execution_count": null,
   "id": "84d2c0b6",
   "metadata": {},
   "outputs": [],
   "source": []
  },
  {
   "cell_type": "code",
   "execution_count": 11,
   "id": "dd616ad8",
   "metadata": {},
   "outputs": [
    {
     "data": {
      "text/plain": [
       "(15, 28)"
      ]
     },
     "metadata": {},
     "output_type": "display_data"
    },
    {
     "data": {
      "text/plain": [
       "(28,)"
      ]
     },
     "metadata": {},
     "output_type": "display_data"
    },
    {
     "data": {
      "text/plain": [
       "(15, 14)"
      ]
     },
     "execution_count": 11,
     "metadata": {},
     "output_type": "execute_result"
    }
   ],
   "source": [
    "data = jnp.arange(15 * 28).reshape(15, 28)\n",
    "segment_ids = jnp.array(list(chain.from_iterable([[i, i] for i in range(0, 14)])))\n",
    "display(data.shape)\n",
    "display(segment_ids.shape)\n",
    "\n",
    "res = jax.ops.segment_sum(data.T, segment_ids)\n",
    "res.T.shape"
   ]
  },
  {
   "cell_type": "code",
   "execution_count": null,
   "id": "6ad76b1e",
   "metadata": {},
   "outputs": [],
   "source": []
  },
  {
   "cell_type": "code",
   "execution_count": null,
   "id": "c15c7bb3",
   "metadata": {},
   "outputs": [],
   "source": []
  },
  {
   "cell_type": "code",
   "execution_count": null,
   "id": "31e29937",
   "metadata": {},
   "outputs": [],
   "source": []
  }
 ],
 "metadata": {
  "kernelspec": {
   "display_name": "Python 3 (ipykernel)",
   "language": "python",
   "name": "python3"
  },
  "language_info": {
   "codemirror_mode": {
    "name": "ipython",
    "version": 3
   },
   "file_extension": ".py",
   "mimetype": "text/x-python",
   "name": "python",
   "nbconvert_exporter": "python",
   "pygments_lexer": "ipython3",
   "version": "3.10.6"
  }
 },
 "nbformat": 4,
 "nbformat_minor": 5
}
