{
 "cells": [
  {
   "cell_type": "code",
   "execution_count": 1,
   "id": "57c2c549",
   "metadata": {},
   "outputs": [],
   "source": [
    "import sys\n",
    "sys.path.append('/mnt/local/data/vtrifonov/PNO')\n",
    "sys.path.append('/mnt/local/data/vtrifonov/prec-learning-Notay-loss/')\n",
    "from datasets.Elliptic import solvers\n",
    "\n",
    "# from jax import config\n",
    "# config.update('jax_enable_x64', True)\n",
    "import os\n",
    "os.environ['CUDA_VISIBLE_DEVICES'] = ''"
   ]
  },
  {
   "cell_type": "code",
   "execution_count": 2,
   "id": "17ed1150",
   "metadata": {},
   "outputs": [],
   "source": [
    "import equinox as eqx\n",
    "import optax \n",
    "\n",
    "import jax\n",
    "import jax.numpy as jnp\n",
    "from jax.nn import relu\n",
    "from jax import random, jit, lax\n",
    "import jraph\n",
    "from jax.experimental import sparse as jsparse\n",
    "\n",
    "from tqdm.notebook import tqdm\n",
    "\n",
    "import matplotlib.pyplot as plt\n",
    "\n",
    "import sys\n",
    "from functools import partial\n",
    "from itertools import chain\n",
    "\n",
    "from data import dataset_LLT, direc_graph_from_linear_system_sparse, bi_direc_indx\n",
    "# from train import TrainerLLT\n",
    "from loss import LLT_loss\n",
    "\n",
    "from model import MessagePassing, FullyConnectedNet, PrecNet\n",
    "from train import train, compute_loss_LLT\n",
    "\n",
    "from jax.ops import segment_sum"
   ]
  },
  {
   "cell_type": "code",
   "execution_count": 3,
   "id": "03d03da7",
   "metadata": {},
   "outputs": [
    {
     "name": "stderr",
     "output_type": "stream",
     "text": [
      "2024-03-18 13:51:41.172313: E external/xla/xla/stream_executor/cuda/cuda_driver.cc:282] failed call to cuInit: CUDA_ERROR_NO_DEVICE: no CUDA-capable device is detected\n",
      "CUDA backend failed to initialize: FAILED_PRECONDITION: No visible GPU devices. (Set TF_CPP_MIN_LOG_LEVEL=0 and rerun for more info.)\n"
     ]
    },
    {
     "data": {
      "text/plain": [
       "Array([0, 1, 2, 3, 4], dtype=int64)"
      ]
     },
     "metadata": {},
     "output_type": "display_data"
    },
    {
     "data": {
      "text/plain": [
       "Array([1, 5, 4], dtype=int64)"
      ]
     },
     "execution_count": 3,
     "metadata": {},
     "output_type": "execute_result"
    }
   ],
   "source": [
    "data = jnp.arange(5)\n",
    "segment_ids = jnp.array([0, 0, 1, 1, 2])\n",
    "display(data)\n",
    "segment_sum(data, segment_ids)"
   ]
  },
  {
   "cell_type": "code",
   "execution_count": null,
   "id": "b9d96824",
   "metadata": {},
   "outputs": [],
   "source": []
  },
  {
   "cell_type": "code",
   "execution_count": 4,
   "id": "4a807909",
   "metadata": {},
   "outputs": [
    {
     "name": "stdout",
     "output_type": "stream",
     "text": [
      "(7, 10) (7, 10)\n"
     ]
    },
    {
     "data": {
      "text/plain": [
       "Array([[0, 0, 1, 1, 1, 2, 3, 3, 4, 5],\n",
       "       [0, 0, 1, 1, 1, 2, 3, 3, 4, 5],\n",
       "       [0, 0, 1, 1, 1, 2, 3, 3, 4, 5],\n",
       "       [0, 0, 1, 1, 1, 2, 3, 3, 4, 5],\n",
       "       [0, 0, 1, 1, 1, 2, 3, 3, 4, 5],\n",
       "       [0, 0, 1, 1, 1, 2, 3, 3, 4, 5],\n",
       "       [0, 0, 1, 1, 1, 2, 3, 3, 4, 5]], dtype=int64)"
      ]
     },
     "execution_count": 4,
     "metadata": {},
     "output_type": "execute_result"
    }
   ],
   "source": [
    "data = jnp.arange(7*10).reshape([7, 10])\n",
    "segment_ids = jnp.repeat(jnp.array([0, 0, 1, 1, 1, 2, 3, 3, 4, 5])[None, :], 7, axis=0)\n",
    "# display(data[0, ...])\n",
    "# segment_sum(data[0, ...], segment_ids)\n",
    "print(data.shape, segment_ids.shape)\n",
    "segment_ids"
   ]
  },
  {
   "cell_type": "code",
   "execution_count": 5,
   "id": "96725b31",
   "metadata": {},
   "outputs": [
    {
     "data": {
      "text/plain": [
       "Array([[ 0,  1,  2,  3,  4,  5,  6,  7,  8,  9],\n",
       "       [10, 11, 12, 13, 14, 15, 16, 17, 18, 19],\n",
       "       [20, 21, 22, 23, 24, 25, 26, 27, 28, 29],\n",
       "       [30, 31, 32, 33, 34, 35, 36, 37, 38, 39],\n",
       "       [40, 41, 42, 43, 44, 45, 46, 47, 48, 49],\n",
       "       [50, 51, 52, 53, 54, 55, 56, 57, 58, 59],\n",
       "       [60, 61, 62, 63, 64, 65, 66, 67, 68, 69]], dtype=int64)"
      ]
     },
     "execution_count": 5,
     "metadata": {},
     "output_type": "execute_result"
    }
   ],
   "source": [
    "data"
   ]
  },
  {
   "cell_type": "code",
   "execution_count": null,
   "id": "c47c6c5a",
   "metadata": {},
   "outputs": [],
   "source": []
  },
  {
   "cell_type": "code",
   "execution_count": 6,
   "id": "5c557401",
   "metadata": {},
   "outputs": [
    {
     "ename": "NameError",
     "evalue": "name 'sum_n_node' is not defined",
     "output_type": "error",
     "traceback": [
      "\u001b[0;31m---------------------------------------------------------------------------\u001b[0m",
      "\u001b[0;31mNameError\u001b[0m                                 Traceback (most recent call last)",
      "Cell \u001b[0;32mIn[6], line 1\u001b[0m\n\u001b[0;32m----> 1\u001b[0m segment_sum(data\u001b[38;5;241m.\u001b[39mT, segment_ids, \u001b[43msum_n_node\u001b[49m)\u001b[38;5;241m.\u001b[39mT\n",
      "\u001b[0;31mNameError\u001b[0m: name 'sum_n_node' is not defined"
     ]
    }
   ],
   "source": [
    "segment_sum(data.T, segment_ids, sum_n_node).T"
   ]
  },
  {
   "cell_type": "code",
   "execution_count": null,
   "id": "033981f3",
   "metadata": {},
   "outputs": [],
   "source": [
    "jax.vmap(segment_sum, in_axes=(0, 0, None), out_axes=(0))(data, segment_ids, sum_n_node)"
   ]
  },
  {
   "cell_type": "code",
   "execution_count": null,
   "id": "939c3ef9",
   "metadata": {},
   "outputs": [],
   "source": []
  },
  {
   "cell_type": "code",
   "execution_count": null,
   "id": "dc426f8c",
   "metadata": {},
   "outputs": [],
   "source": []
  },
  {
   "cell_type": "code",
   "execution_count": null,
   "id": "94009c87",
   "metadata": {},
   "outputs": [],
   "source": [
    "sum_n_node = 5\n",
    "sent_attributes = (lambda e: segment_sum(e, segment_ids, sum_n_node))(jnp.einsum('ij->ji', data))\n",
    "sent_attributes = jnp.einsum('ij->ji', sent_attributes)\n",
    "\n",
    "# received_attributes = tree.tree_map(lambda e: self.aggregate_edges_for_nodes_fn(e, receivers, sum_n_node), jnp.einsum('ij->ji', edges))\n",
    "# received_attributes = jnp.einsum('ij->ji', received_attributes)\n",
    "# nodes = self.update_node_fn(jnp.concatenate([nodes, sent_attributes, received_attributes], axis=0))"
   ]
  },
  {
   "cell_type": "code",
   "execution_count": null,
   "id": "28242c00",
   "metadata": {},
   "outputs": [],
   "source": [
    "sent_attributes"
   ]
  },
  {
   "cell_type": "code",
   "execution_count": null,
   "id": "67b98c1b",
   "metadata": {},
   "outputs": [],
   "source": [
    "sent_attributes_2 = jnp.zeros_like(sent_attributes)\n",
    "for i in range(data.shape[0]):\n",
    "    sent_attributes_2 = sent_attributes_2.at[i, :].set(segment_sum(data[i, :], segment_ids[i, :], 5))"
   ]
  },
  {
   "cell_type": "code",
   "execution_count": null,
   "id": "71c11e64",
   "metadata": {},
   "outputs": [],
   "source": [
    "sent_attributes_2"
   ]
  },
  {
   "cell_type": "code",
   "execution_count": null,
   "id": "83b0d140",
   "metadata": {},
   "outputs": [],
   "source": [
    "jnp.allclose(sent_attributes, sent_attributes_2)"
   ]
  },
  {
   "cell_type": "code",
   "execution_count": null,
   "id": "01d4080a",
   "metadata": {},
   "outputs": [],
   "source": []
  },
  {
   "cell_type": "code",
   "execution_count": null,
   "id": "ebec0ae2",
   "metadata": {},
   "outputs": [],
   "source": []
  },
  {
   "cell_type": "code",
   "execution_count": 7,
   "id": "24de61c9",
   "metadata": {},
   "outputs": [],
   "source": [
    "grid = 8\n",
    "N_samples = 5\n",
    "A, b, u_exact, bi_edges, nodes, edges, receivers, senders = dataset_LLT(grid, N_samples, seed=42)"
   ]
  },
  {
   "cell_type": "code",
   "execution_count": null,
   "id": "778f0884",
   "metadata": {},
   "outputs": [],
   "source": [
    "plt.imshow(A.todense()[0, ...])"
   ]
  },
  {
   "cell_type": "code",
   "execution_count": null,
   "id": "35f4b6dd",
   "metadata": {},
   "outputs": [],
   "source": [
    "A.shape"
   ]
  },
  {
   "cell_type": "code",
   "execution_count": null,
   "id": "3a8f6bff",
   "metadata": {},
   "outputs": [],
   "source": [
    "jnp.allclose(A[:, jnp.arange(A.shape[1]), jnp.arange(A.shape[1])].todense(), jax.vmap(jnp.diag)(A.todense()))"
   ]
  },
  {
   "cell_type": "code",
   "execution_count": null,
   "id": "40feab39",
   "metadata": {},
   "outputs": [],
   "source": []
  },
  {
   "cell_type": "code",
   "execution_count": 8,
   "id": "83304baf",
   "metadata": {},
   "outputs": [],
   "source": [
    "from utils import graph_to_low_tri_mat, graph_to_low_tri_mat_sparse\n",
    "import numpy as np\n",
    "from jax import vmap"
   ]
  },
  {
   "cell_type": "code",
   "execution_count": 9,
   "id": "ff674784",
   "metadata": {},
   "outputs": [
    {
     "data": {
      "text/plain": [
       "(5, 288)"
      ]
     },
     "execution_count": 9,
     "metadata": {},
     "output_type": "execute_result"
    }
   ],
   "source": [
    "edges.shape"
   ]
  },
  {
   "cell_type": "code",
   "execution_count": 10,
   "id": "f4924a59",
   "metadata": {},
   "outputs": [
    {
     "data": {
      "text/plain": [
       "64"
      ]
     },
     "execution_count": 10,
     "metadata": {},
     "output_type": "execute_result"
    }
   ],
   "source": [
    "nodes.shape[-1]"
   ]
  },
  {
   "cell_type": "code",
   "execution_count": 11,
   "id": "c8babfe3",
   "metadata": {},
   "outputs": [
    {
     "data": {
      "text/plain": [
       "(288,)"
      ]
     },
     "execution_count": 11,
     "metadata": {},
     "output_type": "execute_result"
    }
   ],
   "source": [
    "receivers[0, :].shape"
   ]
  },
  {
   "cell_type": "code",
   "execution_count": 12,
   "id": "33b73611",
   "metadata": {},
   "outputs": [
    {
     "data": {
      "text/plain": [
       "(288, 2)"
      ]
     },
     "execution_count": 12,
     "metadata": {},
     "output_type": "execute_result"
    }
   ],
   "source": [
    "A[0, ...].indices.shape"
   ]
  },
  {
   "cell_type": "code",
   "execution_count": 13,
   "id": "c71a844f",
   "metadata": {},
   "outputs": [
    {
     "data": {
      "text/plain": [
       "(288,)"
      ]
     },
     "execution_count": 13,
     "metadata": {},
     "output_type": "execute_result"
    }
   ],
   "source": [
    "senders[0, ...].shape"
   ]
  },
  {
   "cell_type": "code",
   "execution_count": 23,
   "id": "421da287",
   "metadata": {},
   "outputs": [
    {
     "data": {
      "text/plain": [
       "BCOO(float64[5, 64, 64], nse=288, n_batch=1)"
      ]
     },
     "execution_count": 23,
     "metadata": {},
     "output_type": "execute_result"
    }
   ],
   "source": [
    "A"
   ]
  },
  {
   "cell_type": "code",
   "execution_count": 25,
   "id": "f3a97f89",
   "metadata": {},
   "outputs": [
    {
     "ename": "NotImplementedError",
     "evalue": "sparse rule for stop_gradient is not implemented.",
     "output_type": "error",
     "traceback": [
      "\u001b[0;31m---------------------------------------------------------------------------\u001b[0m",
      "\u001b[0;31mNotImplementedError\u001b[0m                       Traceback (most recent call last)",
      "Cell \u001b[0;32mIn[25], line 5\u001b[0m\n\u001b[1;32m      2\u001b[0m     \u001b[38;5;28;01mreturn\u001b[39;00m jnp\u001b[38;5;241m.\u001b[39mlinalg\u001b[38;5;241m.\u001b[39minv(A)\n\u001b[1;32m      4\u001b[0m f_sparse \u001b[38;5;241m=\u001b[39m jsparse\u001b[38;5;241m.\u001b[39msparsify(f)\n\u001b[0;32m----> 5\u001b[0m \u001b[43mf_sparse\u001b[49m\u001b[43m(\u001b[49m\u001b[43mA\u001b[49m\u001b[43m)\u001b[49m\n",
      "File \u001b[0;32m/usr/local/lib/python3.10/dist-packages/jax/experimental/sparse/transform.py:466\u001b[0m, in \u001b[0;36m_sparsify_with_interpreter.<locals>.wrapped\u001b[0;34m(*args, **params)\u001b[0m\n\u001b[1;32m    464\u001b[0m spenv \u001b[38;5;241m=\u001b[39m SparsifyEnv()\n\u001b[1;32m    465\u001b[0m spvalues \u001b[38;5;241m=\u001b[39m arrays_to_spvalues(spenv, args)\n\u001b[0;32m--> 466\u001b[0m spvalues_out, out_tree \u001b[38;5;241m=\u001b[39m \u001b[43mf_raw\u001b[49m\u001b[43m(\u001b[49m\u001b[43mspenv\u001b[49m\u001b[43m,\u001b[49m\u001b[43m \u001b[49m\u001b[38;5;241;43m*\u001b[39;49m\u001b[43mspvalues\u001b[49m\u001b[43m,\u001b[49m\u001b[43m \u001b[49m\u001b[38;5;241;43m*\u001b[39;49m\u001b[38;5;241;43m*\u001b[39;49m\u001b[43mparams\u001b[49m\u001b[43m)\u001b[49m\n\u001b[1;32m    467\u001b[0m out \u001b[38;5;241m=\u001b[39m spvalues_to_arrays(spenv, spvalues_out)\n\u001b[1;32m    468\u001b[0m \u001b[38;5;28;01mreturn\u001b[39;00m tree_unflatten(out_tree, out)\n",
      "File \u001b[0;32m/usr/local/lib/python3.10/dist-packages/jax/experimental/sparse/transform.py:451\u001b[0m, in \u001b[0;36msparsify_raw.<locals>.wrapped\u001b[0;34m(spenv, *spvalues, **params)\u001b[0m\n\u001b[1;32m    449\u001b[0m wrapped_fun, out_tree \u001b[38;5;241m=\u001b[39m flatten_fun_nokwargs(lu\u001b[38;5;241m.\u001b[39mwrap_init(f, params), in_tree)\n\u001b[1;32m    450\u001b[0m jaxpr, out_avals_flat, consts, () \u001b[38;5;241m=\u001b[39m pe\u001b[38;5;241m.\u001b[39mtrace_to_jaxpr_dynamic(wrapped_fun, in_avals_flat)\n\u001b[0;32m--> 451\u001b[0m result \u001b[38;5;241m=\u001b[39m \u001b[43meval_sparse\u001b[49m\u001b[43m(\u001b[49m\u001b[43mjaxpr\u001b[49m\u001b[43m,\u001b[49m\u001b[43m \u001b[49m\u001b[43mconsts\u001b[49m\u001b[43m,\u001b[49m\u001b[43m \u001b[49m\u001b[43mspvalues_flat\u001b[49m\u001b[43m,\u001b[49m\u001b[43m \u001b[49m\u001b[43mspenv\u001b[49m\u001b[43m)\u001b[49m\n\u001b[1;32m    452\u001b[0m \u001b[38;5;28;01mif\u001b[39;00m \u001b[38;5;28mlen\u001b[39m(out_avals_flat) \u001b[38;5;241m!=\u001b[39m \u001b[38;5;28mlen\u001b[39m(result):\n\u001b[1;32m    453\u001b[0m   \u001b[38;5;28;01mraise\u001b[39;00m \u001b[38;5;167;01mException\u001b[39;00m(\u001b[38;5;124m\"\u001b[39m\u001b[38;5;124mInternal: eval_sparse does not return expected number of arguments. \u001b[39m\u001b[38;5;124m\"\u001b[39m\n\u001b[1;32m    454\u001b[0m                   \u001b[38;5;124m\"\u001b[39m\u001b[38;5;124mGot \u001b[39m\u001b[38;5;132;01m{result}\u001b[39;00m\u001b[38;5;124m for avals \u001b[39m\u001b[38;5;132;01m{out_avals_flat}\u001b[39;00m\u001b[38;5;124m\"\u001b[39m)\n",
      "File \u001b[0;32m/usr/local/lib/python3.10/dist-packages/jax/experimental/sparse/transform.py:428\u001b[0m, in \u001b[0;36meval_sparse\u001b[0;34m(jaxpr, consts, spvalues, spenv)\u001b[0m\n\u001b[1;32m    426\u001b[0m   \u001b[38;5;28;01mif\u001b[39;00m prim \u001b[38;5;129;01mnot\u001b[39;00m \u001b[38;5;129;01min\u001b[39;00m sparse_rules_bcoo:\n\u001b[1;32m    427\u001b[0m     _raise_unimplemented_primitive(prim)\n\u001b[0;32m--> 428\u001b[0m   out \u001b[38;5;241m=\u001b[39m \u001b[43msparse_rules_bcoo\u001b[49m\u001b[43m[\u001b[49m\u001b[43mprim\u001b[49m\u001b[43m]\u001b[49m\u001b[43m(\u001b[49m\u001b[43mspenv\u001b[49m\u001b[43m,\u001b[49m\u001b[43m \u001b[49m\u001b[38;5;241;43m*\u001b[39;49m\u001b[43minvals\u001b[49m\u001b[43m,\u001b[49m\u001b[43m \u001b[49m\u001b[38;5;241;43m*\u001b[39;49m\u001b[38;5;241;43m*\u001b[39;49m\u001b[43meqn\u001b[49m\u001b[38;5;241;43m.\u001b[39;49m\u001b[43mparams\u001b[49m\u001b[43m)\u001b[49m\n\u001b[1;32m    429\u001b[0m \u001b[38;5;28;01melse\u001b[39;00m:\n\u001b[1;32m    430\u001b[0m   out_bufs \u001b[38;5;241m=\u001b[39m prim\u001b[38;5;241m.\u001b[39mbind(\u001b[38;5;241m*\u001b[39m(spenv\u001b[38;5;241m.\u001b[39mdata(val) \u001b[38;5;28;01mfor\u001b[39;00m val \u001b[38;5;129;01min\u001b[39;00m invals), \u001b[38;5;241m*\u001b[39m\u001b[38;5;241m*\u001b[39meqn\u001b[38;5;241m.\u001b[39mparams)\n",
      "File \u001b[0;32m/usr/local/lib/python3.10/dist-packages/jax/experimental/sparse/transform.py:779\u001b[0m, in \u001b[0;36m_pjit_sparse\u001b[0;34m(spenv, jaxpr, in_shardings, out_shardings, resource_env, donated_invars, name, keep_unused, inline, *spvalues)\u001b[0m\n\u001b[1;32m    776\u001b[0m \u001b[38;5;28;01mif\u001b[39;00m \u001b[38;5;28many\u001b[39m(donated_invars):\n\u001b[1;32m    777\u001b[0m   \u001b[38;5;28;01mraise\u001b[39;00m \u001b[38;5;167;01mNotImplementedError\u001b[39;00m(\u001b[38;5;124m\"\u001b[39m\u001b[38;5;124msparse xla_call with donated_invars\u001b[39m\u001b[38;5;124m\"\u001b[39m)\n\u001b[0;32m--> 779\u001b[0m sp_call_jaxpr, out_tree \u001b[38;5;241m=\u001b[39m \u001b[43m_sparsify_jaxpr\u001b[49m\u001b[43m(\u001b[49m\u001b[43mspenv\u001b[49m\u001b[43m,\u001b[49m\u001b[43m \u001b[49m\u001b[43mjaxpr\u001b[49m\u001b[43m,\u001b[49m\u001b[43m \u001b[49m\u001b[38;5;241;43m*\u001b[39;49m\u001b[43mspvalues\u001b[49m\u001b[43m)\u001b[49m\n\u001b[1;32m    780\u001b[0m args_flat, _ \u001b[38;5;241m=\u001b[39m tree_flatten(spvalues_to_arrays(spenv, spvalues))\n\u001b[1;32m    781\u001b[0m donated_invars \u001b[38;5;241m=\u001b[39m \u001b[38;5;28mtuple\u001b[39m(\u001b[38;5;28;01mFalse\u001b[39;00m \u001b[38;5;28;01mfor\u001b[39;00m arg \u001b[38;5;129;01min\u001b[39;00m args_flat)\n",
      "File \u001b[0;32m/usr/local/lib/python3.10/dist-packages/jax/experimental/sparse/transform.py:750\u001b[0m, in \u001b[0;36m_sparsify_jaxpr\u001b[0;34m(spenv, jaxpr, *spvalues)\u001b[0m\n\u001b[1;32m    748\u001b[0m args_flat, in_tree \u001b[38;5;241m=\u001b[39m tree_flatten(args)\n\u001b[1;32m    749\u001b[0m avals_flat \u001b[38;5;241m=\u001b[39m [core\u001b[38;5;241m.\u001b[39mraise_to_shaped(core\u001b[38;5;241m.\u001b[39mget_aval(arg)) \u001b[38;5;28;01mfor\u001b[39;00m arg \u001b[38;5;129;01min\u001b[39;00m args_flat]\n\u001b[0;32m--> 750\u001b[0m sp_jaxpr, _, consts, () \u001b[38;5;241m=\u001b[39m \u001b[43mpe\u001b[49m\u001b[38;5;241;43m.\u001b[39;49m\u001b[43mtrace_to_jaxpr_dynamic\u001b[49m\u001b[43m(\u001b[49m\u001b[43mwrapped\u001b[49m\u001b[43m,\u001b[49m\u001b[43m \u001b[49m\u001b[43mavals_flat\u001b[49m\u001b[43m)\u001b[49m\n\u001b[1;32m    751\u001b[0m sp_jaxpr \u001b[38;5;241m=\u001b[39m pe\u001b[38;5;241m.\u001b[39mClosedJaxpr(sp_jaxpr, consts)\n\u001b[1;32m    752\u001b[0m \u001b[38;5;28;01massert\u001b[39;00m out_tree \u001b[38;5;129;01mis\u001b[39;00m \u001b[38;5;129;01mnot\u001b[39;00m \u001b[38;5;28;01mNone\u001b[39;00m\n",
      "File \u001b[0;32m/usr/local/lib/python3.10/dist-packages/jax/_src/profiler.py:336\u001b[0m, in \u001b[0;36mannotate_function.<locals>.wrapper\u001b[0;34m(*args, **kwargs)\u001b[0m\n\u001b[1;32m    333\u001b[0m \u001b[38;5;129m@wraps\u001b[39m(func)\n\u001b[1;32m    334\u001b[0m \u001b[38;5;28;01mdef\u001b[39;00m \u001b[38;5;21mwrapper\u001b[39m(\u001b[38;5;241m*\u001b[39margs, \u001b[38;5;241m*\u001b[39m\u001b[38;5;241m*\u001b[39mkwargs):\n\u001b[1;32m    335\u001b[0m   \u001b[38;5;28;01mwith\u001b[39;00m TraceAnnotation(name, \u001b[38;5;241m*\u001b[39m\u001b[38;5;241m*\u001b[39mdecorator_kwargs):\n\u001b[0;32m--> 336\u001b[0m     \u001b[38;5;28;01mreturn\u001b[39;00m \u001b[43mfunc\u001b[49m\u001b[43m(\u001b[49m\u001b[38;5;241;43m*\u001b[39;49m\u001b[43margs\u001b[49m\u001b[43m,\u001b[49m\u001b[43m \u001b[49m\u001b[38;5;241;43m*\u001b[39;49m\u001b[38;5;241;43m*\u001b[39;49m\u001b[43mkwargs\u001b[49m\u001b[43m)\u001b[49m\n\u001b[1;32m    337\u001b[0m   \u001b[38;5;28;01mreturn\u001b[39;00m wrapper\n",
      "File \u001b[0;32m/usr/local/lib/python3.10/dist-packages/jax/_src/interpreters/partial_eval.py:2314\u001b[0m, in \u001b[0;36mtrace_to_jaxpr_dynamic\u001b[0;34m(fun, in_avals, debug_info, keep_inputs)\u001b[0m\n\u001b[1;32m   2312\u001b[0m \u001b[38;5;28;01mwith\u001b[39;00m core\u001b[38;5;241m.\u001b[39mnew_main(DynamicJaxprTrace, dynamic\u001b[38;5;241m=\u001b[39m\u001b[38;5;28;01mTrue\u001b[39;00m) \u001b[38;5;28;01mas\u001b[39;00m main:  \u001b[38;5;66;03m# type: ignore\u001b[39;00m\n\u001b[1;32m   2313\u001b[0m   main\u001b[38;5;241m.\u001b[39mjaxpr_stack \u001b[38;5;241m=\u001b[39m ()  \u001b[38;5;66;03m# type: ignore\u001b[39;00m\n\u001b[0;32m-> 2314\u001b[0m   jaxpr, out_avals, consts, attrs_tracked \u001b[38;5;241m=\u001b[39m \u001b[43mtrace_to_subjaxpr_dynamic\u001b[49m\u001b[43m(\u001b[49m\n\u001b[1;32m   2315\u001b[0m \u001b[43m    \u001b[49m\u001b[43mfun\u001b[49m\u001b[43m,\u001b[49m\u001b[43m \u001b[49m\u001b[43mmain\u001b[49m\u001b[43m,\u001b[49m\u001b[43m \u001b[49m\u001b[43min_avals\u001b[49m\u001b[43m,\u001b[49m\u001b[43m \u001b[49m\u001b[43mkeep_inputs\u001b[49m\u001b[38;5;241;43m=\u001b[39;49m\u001b[43mkeep_inputs\u001b[49m\u001b[43m,\u001b[49m\u001b[43m \u001b[49m\u001b[43mdebug_info\u001b[49m\u001b[38;5;241;43m=\u001b[39;49m\u001b[43mdebug_info\u001b[49m\u001b[43m)\u001b[49m\n\u001b[1;32m   2316\u001b[0m   \u001b[38;5;28;01mdel\u001b[39;00m main, fun\n\u001b[1;32m   2317\u001b[0m \u001b[38;5;28;01mreturn\u001b[39;00m jaxpr, out_avals, consts, attrs_tracked\n",
      "File \u001b[0;32m/usr/local/lib/python3.10/dist-packages/jax/_src/interpreters/partial_eval.py:2336\u001b[0m, in \u001b[0;36mtrace_to_subjaxpr_dynamic\u001b[0;34m(fun, main, in_avals, keep_inputs, debug_info)\u001b[0m\n\u001b[1;32m   2334\u001b[0m in_tracers \u001b[38;5;241m=\u001b[39m _input_type_to_tracers(trace\u001b[38;5;241m.\u001b[39mnew_arg, in_avals)\n\u001b[1;32m   2335\u001b[0m in_tracers_ \u001b[38;5;241m=\u001b[39m [t \u001b[38;5;28;01mfor\u001b[39;00m t, keep \u001b[38;5;129;01min\u001b[39;00m \u001b[38;5;28mzip\u001b[39m(in_tracers, keep_inputs) \u001b[38;5;28;01mif\u001b[39;00m keep]\n\u001b[0;32m-> 2336\u001b[0m ans \u001b[38;5;241m=\u001b[39m \u001b[43mfun\u001b[49m\u001b[38;5;241;43m.\u001b[39;49m\u001b[43mcall_wrapped\u001b[49m\u001b[43m(\u001b[49m\u001b[38;5;241;43m*\u001b[39;49m\u001b[43min_tracers_\u001b[49m\u001b[43m)\u001b[49m\n\u001b[1;32m   2337\u001b[0m out_tracers \u001b[38;5;241m=\u001b[39m \u001b[38;5;28mmap\u001b[39m(trace\u001b[38;5;241m.\u001b[39mfull_raise, ans)\n\u001b[1;32m   2338\u001b[0m jaxpr, consts, attrs_tracked \u001b[38;5;241m=\u001b[39m frame\u001b[38;5;241m.\u001b[39mto_jaxpr(out_tracers)\n",
      "File \u001b[0;32m/usr/local/lib/python3.10/dist-packages/jax/_src/linear_util.py:191\u001b[0m, in \u001b[0;36mWrappedFun.call_wrapped\u001b[0;34m(self, *args, **kwargs)\u001b[0m\n\u001b[1;32m    188\u001b[0m gen \u001b[38;5;241m=\u001b[39m gen_static_args \u001b[38;5;241m=\u001b[39m out_store \u001b[38;5;241m=\u001b[39m \u001b[38;5;28;01mNone\u001b[39;00m\n\u001b[1;32m    190\u001b[0m \u001b[38;5;28;01mtry\u001b[39;00m:\n\u001b[0;32m--> 191\u001b[0m   ans \u001b[38;5;241m=\u001b[39m \u001b[38;5;28;43mself\u001b[39;49m\u001b[38;5;241;43m.\u001b[39;49m\u001b[43mf\u001b[49m\u001b[43m(\u001b[49m\u001b[38;5;241;43m*\u001b[39;49m\u001b[43margs\u001b[49m\u001b[43m,\u001b[49m\u001b[43m \u001b[49m\u001b[38;5;241;43m*\u001b[39;49m\u001b[38;5;241;43m*\u001b[39;49m\u001b[38;5;28;43mdict\u001b[39;49m\u001b[43m(\u001b[49m\u001b[38;5;28;43mself\u001b[39;49m\u001b[38;5;241;43m.\u001b[39;49m\u001b[43mparams\u001b[49m\u001b[43m,\u001b[49m\u001b[43m \u001b[49m\u001b[38;5;241;43m*\u001b[39;49m\u001b[38;5;241;43m*\u001b[39;49m\u001b[43mkwargs\u001b[49m\u001b[43m)\u001b[49m\u001b[43m)\u001b[49m\n\u001b[1;32m    192\u001b[0m \u001b[38;5;28;01mexcept\u001b[39;00m:\n\u001b[1;32m    193\u001b[0m   \u001b[38;5;66;03m# Some transformations yield from inside context managers, so we have to\u001b[39;00m\n\u001b[1;32m    194\u001b[0m   \u001b[38;5;66;03m# interrupt them before reraising the exception. Otherwise they will only\u001b[39;00m\n\u001b[1;32m    195\u001b[0m   \u001b[38;5;66;03m# get garbage-collected at some later time, running their cleanup tasks\u001b[39;00m\n\u001b[1;32m    196\u001b[0m   \u001b[38;5;66;03m# only after this exception is handled, which can corrupt the global\u001b[39;00m\n\u001b[1;32m    197\u001b[0m   \u001b[38;5;66;03m# state.\u001b[39;00m\n\u001b[1;32m    198\u001b[0m   \u001b[38;5;28;01mwhile\u001b[39;00m stack:\n",
      "File \u001b[0;32m/usr/local/lib/python3.10/dist-packages/jax/experimental/sparse/transform.py:742\u001b[0m, in \u001b[0;36m_sparsify_jaxpr.<locals>.wrapped\u001b[0;34m(*args_flat)\u001b[0m\n\u001b[1;32m    740\u001b[0m args \u001b[38;5;241m=\u001b[39m tree_unflatten(in_tree, args_flat)\n\u001b[1;32m    741\u001b[0m spvalues \u001b[38;5;241m=\u001b[39m arrays_to_spvalues(spenv, args)\n\u001b[0;32m--> 742\u001b[0m result \u001b[38;5;241m=\u001b[39m \u001b[43meval_sparse\u001b[49m\u001b[43m(\u001b[49m\u001b[43mjaxpr\u001b[49m\u001b[38;5;241;43m.\u001b[39;49m\u001b[43mjaxpr\u001b[49m\u001b[43m,\u001b[49m\u001b[43m \u001b[49m\u001b[43mjaxpr\u001b[49m\u001b[38;5;241;43m.\u001b[39;49m\u001b[43mconsts\u001b[49m\u001b[43m,\u001b[49m\u001b[43m \u001b[49m\u001b[43mspvalues\u001b[49m\u001b[43m,\u001b[49m\u001b[43m \u001b[49m\u001b[43mspenv\u001b[49m\u001b[43m)\u001b[49m\n\u001b[1;32m    743\u001b[0m out \u001b[38;5;241m=\u001b[39m spvalues_to_arrays(spenv, result)\n\u001b[1;32m    744\u001b[0m out_flat, out_tree \u001b[38;5;241m=\u001b[39m tree_flatten(out)\n",
      "File \u001b[0;32m/usr/local/lib/python3.10/dist-packages/jax/experimental/sparse/transform.py:428\u001b[0m, in \u001b[0;36meval_sparse\u001b[0;34m(jaxpr, consts, spvalues, spenv)\u001b[0m\n\u001b[1;32m    426\u001b[0m   \u001b[38;5;28;01mif\u001b[39;00m prim \u001b[38;5;129;01mnot\u001b[39;00m \u001b[38;5;129;01min\u001b[39;00m sparse_rules_bcoo:\n\u001b[1;32m    427\u001b[0m     _raise_unimplemented_primitive(prim)\n\u001b[0;32m--> 428\u001b[0m   out \u001b[38;5;241m=\u001b[39m \u001b[43msparse_rules_bcoo\u001b[49m\u001b[43m[\u001b[49m\u001b[43mprim\u001b[49m\u001b[43m]\u001b[49m\u001b[43m(\u001b[49m\u001b[43mspenv\u001b[49m\u001b[43m,\u001b[49m\u001b[43m \u001b[49m\u001b[38;5;241;43m*\u001b[39;49m\u001b[43minvals\u001b[49m\u001b[43m,\u001b[49m\u001b[43m \u001b[49m\u001b[38;5;241;43m*\u001b[39;49m\u001b[38;5;241;43m*\u001b[39;49m\u001b[43meqn\u001b[49m\u001b[38;5;241;43m.\u001b[39;49m\u001b[43mparams\u001b[49m\u001b[43m)\u001b[49m\n\u001b[1;32m    429\u001b[0m \u001b[38;5;28;01melse\u001b[39;00m:\n\u001b[1;32m    430\u001b[0m   out_bufs \u001b[38;5;241m=\u001b[39m prim\u001b[38;5;241m.\u001b[39mbind(\u001b[38;5;241m*\u001b[39m(spenv\u001b[38;5;241m.\u001b[39mdata(val) \u001b[38;5;28;01mfor\u001b[39;00m val \u001b[38;5;129;01min\u001b[39;00m invals), \u001b[38;5;241m*\u001b[39m\u001b[38;5;241m*\u001b[39meqn\u001b[38;5;241m.\u001b[39mparams)\n",
      "File \u001b[0;32m/usr/local/lib/python3.10/dist-packages/jax/experimental/sparse/transform.py:779\u001b[0m, in \u001b[0;36m_pjit_sparse\u001b[0;34m(spenv, jaxpr, in_shardings, out_shardings, resource_env, donated_invars, name, keep_unused, inline, *spvalues)\u001b[0m\n\u001b[1;32m    776\u001b[0m \u001b[38;5;28;01mif\u001b[39;00m \u001b[38;5;28many\u001b[39m(donated_invars):\n\u001b[1;32m    777\u001b[0m   \u001b[38;5;28;01mraise\u001b[39;00m \u001b[38;5;167;01mNotImplementedError\u001b[39;00m(\u001b[38;5;124m\"\u001b[39m\u001b[38;5;124msparse xla_call with donated_invars\u001b[39m\u001b[38;5;124m\"\u001b[39m)\n\u001b[0;32m--> 779\u001b[0m sp_call_jaxpr, out_tree \u001b[38;5;241m=\u001b[39m \u001b[43m_sparsify_jaxpr\u001b[49m\u001b[43m(\u001b[49m\u001b[43mspenv\u001b[49m\u001b[43m,\u001b[49m\u001b[43m \u001b[49m\u001b[43mjaxpr\u001b[49m\u001b[43m,\u001b[49m\u001b[43m \u001b[49m\u001b[38;5;241;43m*\u001b[39;49m\u001b[43mspvalues\u001b[49m\u001b[43m)\u001b[49m\n\u001b[1;32m    780\u001b[0m args_flat, _ \u001b[38;5;241m=\u001b[39m tree_flatten(spvalues_to_arrays(spenv, spvalues))\n\u001b[1;32m    781\u001b[0m donated_invars \u001b[38;5;241m=\u001b[39m \u001b[38;5;28mtuple\u001b[39m(\u001b[38;5;28;01mFalse\u001b[39;00m \u001b[38;5;28;01mfor\u001b[39;00m arg \u001b[38;5;129;01min\u001b[39;00m args_flat)\n",
      "File \u001b[0;32m/usr/local/lib/python3.10/dist-packages/jax/experimental/sparse/transform.py:750\u001b[0m, in \u001b[0;36m_sparsify_jaxpr\u001b[0;34m(spenv, jaxpr, *spvalues)\u001b[0m\n\u001b[1;32m    748\u001b[0m args_flat, in_tree \u001b[38;5;241m=\u001b[39m tree_flatten(args)\n\u001b[1;32m    749\u001b[0m avals_flat \u001b[38;5;241m=\u001b[39m [core\u001b[38;5;241m.\u001b[39mraise_to_shaped(core\u001b[38;5;241m.\u001b[39mget_aval(arg)) \u001b[38;5;28;01mfor\u001b[39;00m arg \u001b[38;5;129;01min\u001b[39;00m args_flat]\n\u001b[0;32m--> 750\u001b[0m sp_jaxpr, _, consts, () \u001b[38;5;241m=\u001b[39m \u001b[43mpe\u001b[49m\u001b[38;5;241;43m.\u001b[39;49m\u001b[43mtrace_to_jaxpr_dynamic\u001b[49m\u001b[43m(\u001b[49m\u001b[43mwrapped\u001b[49m\u001b[43m,\u001b[49m\u001b[43m \u001b[49m\u001b[43mavals_flat\u001b[49m\u001b[43m)\u001b[49m\n\u001b[1;32m    751\u001b[0m sp_jaxpr \u001b[38;5;241m=\u001b[39m pe\u001b[38;5;241m.\u001b[39mClosedJaxpr(sp_jaxpr, consts)\n\u001b[1;32m    752\u001b[0m \u001b[38;5;28;01massert\u001b[39;00m out_tree \u001b[38;5;129;01mis\u001b[39;00m \u001b[38;5;129;01mnot\u001b[39;00m \u001b[38;5;28;01mNone\u001b[39;00m\n",
      "File \u001b[0;32m/usr/local/lib/python3.10/dist-packages/jax/_src/profiler.py:336\u001b[0m, in \u001b[0;36mannotate_function.<locals>.wrapper\u001b[0;34m(*args, **kwargs)\u001b[0m\n\u001b[1;32m    333\u001b[0m \u001b[38;5;129m@wraps\u001b[39m(func)\n\u001b[1;32m    334\u001b[0m \u001b[38;5;28;01mdef\u001b[39;00m \u001b[38;5;21mwrapper\u001b[39m(\u001b[38;5;241m*\u001b[39margs, \u001b[38;5;241m*\u001b[39m\u001b[38;5;241m*\u001b[39mkwargs):\n\u001b[1;32m    335\u001b[0m   \u001b[38;5;28;01mwith\u001b[39;00m TraceAnnotation(name, \u001b[38;5;241m*\u001b[39m\u001b[38;5;241m*\u001b[39mdecorator_kwargs):\n\u001b[0;32m--> 336\u001b[0m     \u001b[38;5;28;01mreturn\u001b[39;00m \u001b[43mfunc\u001b[49m\u001b[43m(\u001b[49m\u001b[38;5;241;43m*\u001b[39;49m\u001b[43margs\u001b[49m\u001b[43m,\u001b[49m\u001b[43m \u001b[49m\u001b[38;5;241;43m*\u001b[39;49m\u001b[38;5;241;43m*\u001b[39;49m\u001b[43mkwargs\u001b[49m\u001b[43m)\u001b[49m\n\u001b[1;32m    337\u001b[0m   \u001b[38;5;28;01mreturn\u001b[39;00m wrapper\n",
      "File \u001b[0;32m/usr/local/lib/python3.10/dist-packages/jax/_src/interpreters/partial_eval.py:2314\u001b[0m, in \u001b[0;36mtrace_to_jaxpr_dynamic\u001b[0;34m(fun, in_avals, debug_info, keep_inputs)\u001b[0m\n\u001b[1;32m   2312\u001b[0m \u001b[38;5;28;01mwith\u001b[39;00m core\u001b[38;5;241m.\u001b[39mnew_main(DynamicJaxprTrace, dynamic\u001b[38;5;241m=\u001b[39m\u001b[38;5;28;01mTrue\u001b[39;00m) \u001b[38;5;28;01mas\u001b[39;00m main:  \u001b[38;5;66;03m# type: ignore\u001b[39;00m\n\u001b[1;32m   2313\u001b[0m   main\u001b[38;5;241m.\u001b[39mjaxpr_stack \u001b[38;5;241m=\u001b[39m ()  \u001b[38;5;66;03m# type: ignore\u001b[39;00m\n\u001b[0;32m-> 2314\u001b[0m   jaxpr, out_avals, consts, attrs_tracked \u001b[38;5;241m=\u001b[39m \u001b[43mtrace_to_subjaxpr_dynamic\u001b[49m\u001b[43m(\u001b[49m\n\u001b[1;32m   2315\u001b[0m \u001b[43m    \u001b[49m\u001b[43mfun\u001b[49m\u001b[43m,\u001b[49m\u001b[43m \u001b[49m\u001b[43mmain\u001b[49m\u001b[43m,\u001b[49m\u001b[43m \u001b[49m\u001b[43min_avals\u001b[49m\u001b[43m,\u001b[49m\u001b[43m \u001b[49m\u001b[43mkeep_inputs\u001b[49m\u001b[38;5;241;43m=\u001b[39;49m\u001b[43mkeep_inputs\u001b[49m\u001b[43m,\u001b[49m\u001b[43m \u001b[49m\u001b[43mdebug_info\u001b[49m\u001b[38;5;241;43m=\u001b[39;49m\u001b[43mdebug_info\u001b[49m\u001b[43m)\u001b[49m\n\u001b[1;32m   2316\u001b[0m   \u001b[38;5;28;01mdel\u001b[39;00m main, fun\n\u001b[1;32m   2317\u001b[0m \u001b[38;5;28;01mreturn\u001b[39;00m jaxpr, out_avals, consts, attrs_tracked\n",
      "File \u001b[0;32m/usr/local/lib/python3.10/dist-packages/jax/_src/interpreters/partial_eval.py:2336\u001b[0m, in \u001b[0;36mtrace_to_subjaxpr_dynamic\u001b[0;34m(fun, main, in_avals, keep_inputs, debug_info)\u001b[0m\n\u001b[1;32m   2334\u001b[0m in_tracers \u001b[38;5;241m=\u001b[39m _input_type_to_tracers(trace\u001b[38;5;241m.\u001b[39mnew_arg, in_avals)\n\u001b[1;32m   2335\u001b[0m in_tracers_ \u001b[38;5;241m=\u001b[39m [t \u001b[38;5;28;01mfor\u001b[39;00m t, keep \u001b[38;5;129;01min\u001b[39;00m \u001b[38;5;28mzip\u001b[39m(in_tracers, keep_inputs) \u001b[38;5;28;01mif\u001b[39;00m keep]\n\u001b[0;32m-> 2336\u001b[0m ans \u001b[38;5;241m=\u001b[39m \u001b[43mfun\u001b[49m\u001b[38;5;241;43m.\u001b[39;49m\u001b[43mcall_wrapped\u001b[49m\u001b[43m(\u001b[49m\u001b[38;5;241;43m*\u001b[39;49m\u001b[43min_tracers_\u001b[49m\u001b[43m)\u001b[49m\n\u001b[1;32m   2337\u001b[0m out_tracers \u001b[38;5;241m=\u001b[39m \u001b[38;5;28mmap\u001b[39m(trace\u001b[38;5;241m.\u001b[39mfull_raise, ans)\n\u001b[1;32m   2338\u001b[0m jaxpr, consts, attrs_tracked \u001b[38;5;241m=\u001b[39m frame\u001b[38;5;241m.\u001b[39mto_jaxpr(out_tracers)\n",
      "File \u001b[0;32m/usr/local/lib/python3.10/dist-packages/jax/_src/linear_util.py:191\u001b[0m, in \u001b[0;36mWrappedFun.call_wrapped\u001b[0;34m(self, *args, **kwargs)\u001b[0m\n\u001b[1;32m    188\u001b[0m gen \u001b[38;5;241m=\u001b[39m gen_static_args \u001b[38;5;241m=\u001b[39m out_store \u001b[38;5;241m=\u001b[39m \u001b[38;5;28;01mNone\u001b[39;00m\n\u001b[1;32m    190\u001b[0m \u001b[38;5;28;01mtry\u001b[39;00m:\n\u001b[0;32m--> 191\u001b[0m   ans \u001b[38;5;241m=\u001b[39m \u001b[38;5;28;43mself\u001b[39;49m\u001b[38;5;241;43m.\u001b[39;49m\u001b[43mf\u001b[49m\u001b[43m(\u001b[49m\u001b[38;5;241;43m*\u001b[39;49m\u001b[43margs\u001b[49m\u001b[43m,\u001b[49m\u001b[43m \u001b[49m\u001b[38;5;241;43m*\u001b[39;49m\u001b[38;5;241;43m*\u001b[39;49m\u001b[38;5;28;43mdict\u001b[39;49m\u001b[43m(\u001b[49m\u001b[38;5;28;43mself\u001b[39;49m\u001b[38;5;241;43m.\u001b[39;49m\u001b[43mparams\u001b[49m\u001b[43m,\u001b[49m\u001b[43m \u001b[49m\u001b[38;5;241;43m*\u001b[39;49m\u001b[38;5;241;43m*\u001b[39;49m\u001b[43mkwargs\u001b[49m\u001b[43m)\u001b[49m\u001b[43m)\u001b[49m\n\u001b[1;32m    192\u001b[0m \u001b[38;5;28;01mexcept\u001b[39;00m:\n\u001b[1;32m    193\u001b[0m   \u001b[38;5;66;03m# Some transformations yield from inside context managers, so we have to\u001b[39;00m\n\u001b[1;32m    194\u001b[0m   \u001b[38;5;66;03m# interrupt them before reraising the exception. Otherwise they will only\u001b[39;00m\n\u001b[1;32m    195\u001b[0m   \u001b[38;5;66;03m# get garbage-collected at some later time, running their cleanup tasks\u001b[39;00m\n\u001b[1;32m    196\u001b[0m   \u001b[38;5;66;03m# only after this exception is handled, which can corrupt the global\u001b[39;00m\n\u001b[1;32m    197\u001b[0m   \u001b[38;5;66;03m# state.\u001b[39;00m\n\u001b[1;32m    198\u001b[0m   \u001b[38;5;28;01mwhile\u001b[39;00m stack:\n",
      "File \u001b[0;32m/usr/local/lib/python3.10/dist-packages/jax/experimental/sparse/transform.py:742\u001b[0m, in \u001b[0;36m_sparsify_jaxpr.<locals>.wrapped\u001b[0;34m(*args_flat)\u001b[0m\n\u001b[1;32m    740\u001b[0m args \u001b[38;5;241m=\u001b[39m tree_unflatten(in_tree, args_flat)\n\u001b[1;32m    741\u001b[0m spvalues \u001b[38;5;241m=\u001b[39m arrays_to_spvalues(spenv, args)\n\u001b[0;32m--> 742\u001b[0m result \u001b[38;5;241m=\u001b[39m \u001b[43meval_sparse\u001b[49m\u001b[43m(\u001b[49m\u001b[43mjaxpr\u001b[49m\u001b[38;5;241;43m.\u001b[39;49m\u001b[43mjaxpr\u001b[49m\u001b[43m,\u001b[49m\u001b[43m \u001b[49m\u001b[43mjaxpr\u001b[49m\u001b[38;5;241;43m.\u001b[39;49m\u001b[43mconsts\u001b[49m\u001b[43m,\u001b[49m\u001b[43m \u001b[49m\u001b[43mspvalues\u001b[49m\u001b[43m,\u001b[49m\u001b[43m \u001b[49m\u001b[43mspenv\u001b[49m\u001b[43m)\u001b[49m\n\u001b[1;32m    743\u001b[0m out \u001b[38;5;241m=\u001b[39m spvalues_to_arrays(spenv, result)\n\u001b[1;32m    744\u001b[0m out_flat, out_tree \u001b[38;5;241m=\u001b[39m tree_flatten(out)\n",
      "File \u001b[0;32m/usr/local/lib/python3.10/dist-packages/jax/experimental/sparse/transform.py:427\u001b[0m, in \u001b[0;36meval_sparse\u001b[0;34m(jaxpr, consts, spvalues, spenv)\u001b[0m\n\u001b[1;32m    425\u001b[0m \u001b[38;5;28;01melif\u001b[39;00m \u001b[38;5;28many\u001b[39m(val\u001b[38;5;241m.\u001b[39mis_bcoo() \u001b[38;5;28;01mfor\u001b[39;00m val \u001b[38;5;129;01min\u001b[39;00m invals):\n\u001b[1;32m    426\u001b[0m   \u001b[38;5;28;01mif\u001b[39;00m prim \u001b[38;5;129;01mnot\u001b[39;00m \u001b[38;5;129;01min\u001b[39;00m sparse_rules_bcoo:\n\u001b[0;32m--> 427\u001b[0m     \u001b[43m_raise_unimplemented_primitive\u001b[49m\u001b[43m(\u001b[49m\u001b[43mprim\u001b[49m\u001b[43m)\u001b[49m\n\u001b[1;32m    428\u001b[0m   out \u001b[38;5;241m=\u001b[39m sparse_rules_bcoo[prim](spenv, \u001b[38;5;241m*\u001b[39minvals, \u001b[38;5;241m*\u001b[39m\u001b[38;5;241m*\u001b[39meqn\u001b[38;5;241m.\u001b[39mparams)\n\u001b[1;32m    429\u001b[0m \u001b[38;5;28;01melse\u001b[39;00m:\n",
      "File \u001b[0;32m/usr/local/lib/python3.10/dist-packages/jax/experimental/sparse/transform.py:127\u001b[0m, in \u001b[0;36m_raise_unimplemented_primitive\u001b[0;34m(primitive)\u001b[0m\n\u001b[1;32m    123\u001b[0m \u001b[38;5;28;01mif\u001b[39;00m primitive \u001b[38;5;129;01min\u001b[39;00m _densifying_primitives:\n\u001b[1;32m    124\u001b[0m   \u001b[38;5;28;01mraise\u001b[39;00m \u001b[38;5;167;01mNotImplementedError\u001b[39;00m(\u001b[38;5;124mf\u001b[39m\u001b[38;5;124m\"\u001b[39m\u001b[38;5;124msparse rule for \u001b[39m\u001b[38;5;132;01m{\u001b[39;00mprimitive\u001b[38;5;132;01m}\u001b[39;00m\u001b[38;5;124m is not implemented because it \u001b[39m\u001b[38;5;124m\"\u001b[39m\n\u001b[1;32m    125\u001b[0m                             \u001b[38;5;124m\"\u001b[39m\u001b[38;5;124mwould result in dense output. If this is your intent, use \u001b[39m\u001b[38;5;124m\"\u001b[39m\n\u001b[1;32m    126\u001b[0m                             \u001b[38;5;124m\"\u001b[39m\u001b[38;5;124msparse.todense() to convert your arguments to dense matrices.\u001b[39m\u001b[38;5;124m\"\u001b[39m)\n\u001b[0;32m--> 127\u001b[0m \u001b[38;5;28;01mraise\u001b[39;00m \u001b[38;5;167;01mNotImplementedError\u001b[39;00m(\u001b[38;5;124mf\u001b[39m\u001b[38;5;124m\"\u001b[39m\u001b[38;5;124msparse rule for \u001b[39m\u001b[38;5;132;01m{\u001b[39;00mprimitive\u001b[38;5;132;01m}\u001b[39;00m\u001b[38;5;124m is not implemented.\u001b[39m\u001b[38;5;124m\"\u001b[39m)\n",
      "\u001b[0;31mNotImplementedError\u001b[0m: sparse rule for stop_gradient is not implemented."
     ]
    }
   ],
   "source": [
    "def f(A):\n",
    "    return jnp.linalg.inv(A)\n",
    "\n",
    "f_sparse = jsparse.sparsify(f)\n",
    "f_sparse(A)"
   ]
  },
  {
   "cell_type": "code",
   "execution_count": null,
   "id": "56b6e6d4",
   "metadata": {},
   "outputs": [],
   "source": [
    "i = jnp.concatenate([senders[0, ...][:, None], receivers[0, ...][:, None]], axis=-1)\n",
    "print(i.shape)\n",
    "jsparse.BCOO((edges[0, ...], i), shape=(nodes.shape[-1], nodes.shape[-1]))"
   ]
  },
  {
   "cell_type": "code",
   "execution_count": null,
   "id": "548d1990",
   "metadata": {},
   "outputs": [],
   "source": [
    "# receivers = receivers.at[:, -1].set(0)\n",
    "# senders = receivers.at[:, -1].set(63)\n",
    "# edges = edges.at[:, -1].set(1000)"
   ]
  },
  {
   "cell_type": "code",
   "execution_count": null,
   "id": "4e34768c",
   "metadata": {},
   "outputs": [],
   "source": [
    "senders.shape"
   ]
  },
  {
   "cell_type": "code",
   "execution_count": null,
   "id": "7c75d4e2",
   "metadata": {},
   "outputs": [],
   "source": [
    "senders[0, 2, None], receivers[0, 2, None]"
   ]
  },
  {
   "cell_type": "code",
   "execution_count": 14,
   "id": "0e874c8a",
   "metadata": {},
   "outputs": [],
   "source": [
    "non_diag_edge_idx = jnp.where(jnp.diff(jnp.hstack([senders[0, :, None], receivers[0, :, None]])) > 0, 0, 1)"
   ]
  },
  {
   "cell_type": "code",
   "execution_count": 15,
   "id": "6aae0637",
   "metadata": {},
   "outputs": [
    {
     "data": {
      "text/plain": [
       "(288, 1)"
      ]
     },
     "execution_count": 15,
     "metadata": {},
     "output_type": "execute_result"
    }
   ],
   "source": [
    "non_diag_edge_idx.shape"
   ]
  },
  {
   "cell_type": "code",
   "execution_count": null,
   "id": "6957d18a",
   "metadata": {},
   "outputs": [],
   "source": []
  },
  {
   "cell_type": "code",
   "execution_count": 21,
   "id": "e7b9280c",
   "metadata": {},
   "outputs": [
    {
     "name": "stdout",
     "output_type": "stream",
     "text": [
      "(288, 1)\n"
     ]
    }
   ],
   "source": [
    "print(non_diag_edge_idx.shape)"
   ]
  },
  {
   "cell_type": "code",
   "execution_count": 22,
   "id": "24f11a0b",
   "metadata": {},
   "outputs": [
    {
     "data": {
      "text/plain": [
       "<matplotlib.image.AxesImage at 0x7f0a21c141c0>"
      ]
     },
     "execution_count": 22,
     "metadata": {},
     "output_type": "execute_result"
    },
    {
     "data": {
      "image/png": "[encoded data removed]",
      "text/plain": [
       "<Figure size 640x480 with 1 Axes>"
      ]
     },
     "metadata": {},
     "output_type": "display_data"
    }
   ],
   "source": [
    "edges_upd = edges.at[:, non_diag_edge_idx.astype(jnp.int32).squeeze()].get()\n",
    "receivers_upd = receivers.at[:, non_diag_edge_idx.astype(jnp.int32).squeeze()].get()\n",
    "senders_upd = senders.at[:, non_diag_edge_idx.astype(jnp.int32).squeeze()].get()\n",
    "\n",
    "plt.imshow(vmap(graph_to_low_tri_mat, in_axes=(0, 0, 0, 0), out_axes=(0))(nodes, edges_upd, receivers_upd, senders_upd)[0, ...])"
   ]
  },
  {
   "cell_type": "code",
   "execution_count": null,
   "id": "c9184304",
   "metadata": {},
   "outputs": [],
   "source": []
  },
  {
   "cell_type": "code",
   "execution_count": null,
   "id": "853b9806",
   "metadata": {},
   "outputs": [],
   "source": [
    "rng = np.random.default_rng(42)\n",
    "a = rng.random(edges.shape)\n",
    "# a[:, -1] = 0\n",
    "# receivers = receivers.at[:, -1].set(0)\n",
    "check_1 = vmap(graph_to_low_tri_mat_sparse, in_axes=(0, 0, 0, 0), out_axes=(0))(nodes, jnp.asarray(a), receivers, senders)\n",
    "check_2 = vmap(graph_to_low_tri_mat, in_axes=(0, 0, 0, 0), out_axes=(0))(nodes, jnp.asarray(a), receivers, senders)"
   ]
  },
  {
   "cell_type": "code",
   "execution_count": null,
   "id": "6a3ae4be",
   "metadata": {},
   "outputs": [],
   "source": [
    "jnp.allclose(check_1.todense(), check_2)"
   ]
  },
  {
   "cell_type": "code",
   "execution_count": null,
   "id": "d9112242",
   "metadata": {},
   "outputs": [],
   "source": [
    "plt.imshow(check_2[0, ...])"
   ]
  },
  {
   "cell_type": "code",
   "execution_count": null,
   "id": "ca2e2da2",
   "metadata": {},
   "outputs": [],
   "source": [
    "A[0, ...]"
   ]
  },
  {
   "cell_type": "code",
   "execution_count": null,
   "id": "127e0ffb",
   "metadata": {},
   "outputs": [],
   "source": [
    "jsparse.coo_matmat(A[0, ...], b[0, ...])"
   ]
  },
  {
   "cell_type": "code",
   "execution_count": null,
   "id": "e445d578",
   "metadata": {},
   "outputs": [],
   "source": [
    "jnp.allclose(\n",
    "    jsparse.bcoo_dot_general(A[None, 0, ...],b[None, 0, ...], dimension_numbers=((2, 1), (0, 0))),\n",
    "    A[0, ...].todense() @ b[0, ...]\n",
    ")"
   ]
  },
  {
   "cell_type": "code",
   "execution_count": null,
   "id": "ca44f7db",
   "metadata": {},
   "outputs": [],
   "source": []
  },
  {
   "cell_type": "code",
   "execution_count": null,
   "id": "183feb6c",
   "metadata": {},
   "outputs": [],
   "source": [
    "jnp.allclose(jsparse.bcoo_transpose(A, permutation=[0, 2, 1]).todense(), jnp.transpose(A.todense(), axes=[0, 2, 1]))"
   ]
  },
  {
   "cell_type": "code",
   "execution_count": null,
   "id": "94d3f9d9",
   "metadata": {},
   "outputs": [],
   "source": [
    "check_1.shape"
   ]
  },
  {
   "cell_type": "code",
   "execution_count": null,
   "id": "4798432f",
   "metadata": {},
   "outputs": [],
   "source": [
    "tril_i"
   ]
  },
  {
   "cell_type": "code",
   "execution_count": null,
   "id": "4a516804",
   "metadata": {},
   "outputs": [],
   "source": [
    "tril_i[0].shape"
   ]
  },
  {
   "cell_type": "code",
   "execution_count": null,
   "id": "fa1af3c1",
   "metadata": {},
   "outputs": [],
   "source": [
    "check_2[0, tril_i[0], tril_i[0]].shape"
   ]
  },
  {
   "cell_type": "code",
   "execution_count": null,
   "id": "1e3b441b",
   "metadata": {},
   "outputs": [],
   "source": [
    "jnp.stack(triu_i).shape"
   ]
  },
  {
   "cell_type": "code",
   "execution_count": null,
   "id": "2fb57a02",
   "metadata": {},
   "outputs": [],
   "source": [
    "_, axes = plt.subplots(1, 2, figsize=(10, 10))\n",
    "\n",
    "triu_i = jnp.triu_indices(check_2.shape[-1], k=1)\n",
    "\n",
    "axes[0].imshow(check_2[0, ...])\n",
    "abc = check_2 * triu_i[None, ...]\n",
    "axes[1].imshow(abc[0, ...])"
   ]
  },
  {
   "cell_type": "code",
   "execution_count": null,
   "id": "db1547ae",
   "metadata": {},
   "outputs": [],
   "source": [
    "(A.todense()[0, ...]).shape"
   ]
  },
  {
   "cell_type": "code",
   "execution_count": null,
   "id": "3b50e747",
   "metadata": {},
   "outputs": [],
   "source": [
    "senders.shape"
   ]
  },
  {
   "cell_type": "code",
   "execution_count": null,
   "id": "2b53fe49",
   "metadata": {},
   "outputs": [],
   "source": [
    "nodes.shape"
   ]
  },
  {
   "cell_type": "code",
   "execution_count": null,
   "id": "6f4f98c3",
   "metadata": {},
   "outputs": [],
   "source": [
    "check = jnp.nonzero(jnp.diff(jnp.hstack([senders[0, :, None], receivers[0, :, None]])), size=senders.shape[1]-nodes.shape[1], fill_value=jnp.nan)[0].astype(jnp.int32)\n",
    "check_2 = jnp.where(jnp.diff(jnp.hstack([senders[0, :, None], receivers[0, :, None]])) == 0, 0, 1)\n",
    "check_2 = jnp.squeeze(check_2).astype(bool)"
   ]
  },
  {
   "cell_type": "code",
   "execution_count": null,
   "id": "fe39ba14",
   "metadata": {},
   "outputs": [],
   "source": [
    "check, check_2"
   ]
  },
  {
   "cell_type": "code",
   "execution_count": null,
   "id": "631bd09f",
   "metadata": {},
   "outputs": [],
   "source": [
    "check"
   ]
  },
  {
   "cell_type": "code",
   "execution_count": null,
   "id": "3089a538",
   "metadata": {},
   "outputs": [],
   "source": [
    "print(check.shape)\n",
    "print(edges.shape)\n",
    "print(edges[0, check].shape)\n",
    "edges, edges[:, check]"
   ]
  },
  {
   "cell_type": "code",
   "execution_count": null,
   "id": "0699b2de",
   "metadata": {},
   "outputs": [],
   "source": [
    "print(check_2.shape)\n",
    "print(edges.shape)\n",
    "print(edges[0, check_2].shape)\n",
    "display(edges.shape, edges[0, check_2].shape)\n",
    "jnp.allclose(edges[:, check], edges[:, check_2])"
   ]
  },
  {
   "cell_type": "code",
   "execution_count": null,
   "id": "1b52d889",
   "metadata": {},
   "outputs": [],
   "source": [
    "A[0, ...].indices[:, 0]"
   ]
  },
  {
   "cell_type": "code",
   "execution_count": null,
   "id": "897968f4",
   "metadata": {},
   "outputs": [],
   "source": [
    "import numpy as np\n",
    "def bi_direc_indx(receivers, senders, n_node):\n",
    "    '''Returns indices of edges which corresponds to bi-direcional connetions.'''\n",
    "    r_s = jnp.hstack([receivers[..., None], senders[..., None]])\n",
    "    s_r = jnp.hstack([senders[..., None], receivers[..., None]])\n",
    "\n",
    "    nrows, ncols = r_s.shape\n",
    "    dtype={'names': ['f{}'.format(i) for i in range(ncols)], 'formats': ncols * [r_s.dtype]}\n",
    "    _, comm1, comm2 = np.intersect1d(np.array(r_s).view(dtype), np.array(s_r).view(dtype), return_indices=True)\n",
    "    \n",
    "    bi_edge_pairs = jnp.hstack([comm1[..., None], comm2[..., None]])\n",
    "    bi_edge_pairs = np.unique(bi_edge_pairs.sort(axis=1), axis=0)\n",
    "    non_duplicated_nodes = np.nonzero(np.diff(bi_edge_pairs, axis=1))[0]\n",
    "    bi_edge_pairs = bi_edge_pairs[non_duplicated_nodes]\n",
    "    return bi_edge_pairs"
   ]
  },
  {
   "cell_type": "code",
   "execution_count": null,
   "id": "95a92ca9",
   "metadata": {},
   "outputs": [],
   "source": [
    "edges[0, ...].shape"
   ]
  },
  {
   "cell_type": "code",
   "execution_count": null,
   "id": "e61fe685",
   "metadata": {},
   "outputs": [],
   "source": [
    "abc = bi_direc_indx(receivers[0, ...], senders[0, ...], nodes[1])"
   ]
  },
  {
   "cell_type": "code",
   "execution_count": null,
   "id": "0d31c004",
   "metadata": {},
   "outputs": [],
   "source": [
    "A[0, :, :].data"
   ]
  },
  {
   "cell_type": "code",
   "execution_count": null,
   "id": "3267c4e8",
   "metadata": {},
   "outputs": [],
   "source": [
    "A[0, ...].data"
   ]
  },
  {
   "cell_type": "code",
   "execution_count": null,
   "id": "ac83bc21",
   "metadata": {},
   "outputs": [],
   "source": [
    "i = 0 # [0, 23]\n",
    "for i in range(24):\n",
    "    edges_new = edges[0, ...].at[abc[i, :]].set(20)\n",
    "    ABC = jsparse.BCOO((edges_new, A[0, ...].indices), shape=A[0, ...].shape)\n",
    "    plt.imshow(ABC.todense())\n",
    "    plt.show()\n",
    "    plt.clf();"
   ]
  },
  {
   "cell_type": "code",
   "execution_count": null,
   "id": "d15790af",
   "metadata": {},
   "outputs": [],
   "source": [
    "def bi_direc_edge_avg(edges, indices):\n",
    "#     edges_upd = edges.copy()\n",
    "#     for i in range(len(indices)):\n",
    "#         edges_upd = edges_upd.at[indices[i]].set(jnp.mean(edges_upd[indices[i]]))\n",
    "    b = len(edges)\n",
    "    edges_new = edges[:, indices].mean(-1).reshape(b, -1, 1)\n",
    "    edges_upd = edges.at[:, indices].set(edges_new)\n",
    "    return edges_upd"
   ]
  },
  {
   "cell_type": "code",
   "execution_count": null,
   "id": "dbf8641f",
   "metadata": {},
   "outputs": [],
   "source": [
    "egdes_new = jnp.arange(edges[0, ...].shape[0]*3).reshape(3, 64) * 4.\n",
    "# egdes_new = jnp.ones_like(edges[0, ...])[None, :] / 1.\n",
    "egdes_new"
   ]
  },
  {
   "cell_type": "code",
   "execution_count": null,
   "id": "8d9ead88",
   "metadata": {},
   "outputs": [],
   "source": [
    "bi_direc_edge_avg(egdes_new, bi_edges[0, ...])"
   ]
  },
  {
   "cell_type": "code",
   "execution_count": null,
   "id": "5d9b3b84",
   "metadata": {},
   "outputs": [],
   "source": [
    "f = egdes_new.shape[0]\n",
    "bi_ind_local = bi_edges[0, ...]\n",
    "edges_local = egdes_new\n",
    "edges_upd = edges_local[:, bi_ind_local].mean(-1).reshape(f, -1, 1)\n",
    "edges_upd = edges_local.at[:, bi_ind_local].set(edges_upd)\n",
    "\n",
    "# edges_new.shape, edges_local[:, bi_ind_local].shape\n",
    "# jnp.vstack([egdes_new, edges_upd])\n",
    "egdes_new, edges_upd"
   ]
  },
  {
   "cell_type": "code",
   "execution_count": null,
   "id": "560397b8",
   "metadata": {},
   "outputs": [],
   "source": [
    "edges_upd"
   ]
  },
  {
   "cell_type": "code",
   "execution_count": null,
   "id": "6756732f",
   "metadata": {},
   "outputs": [],
   "source": [
    "egdes_new"
   ]
  },
  {
   "cell_type": "code",
   "execution_count": null,
   "id": "285bb7ad",
   "metadata": {},
   "outputs": [],
   "source": [
    "display(egdes_new[:, 1])\n",
    "display(edges_upd[:, 1])"
   ]
  },
  {
   "cell_type": "code",
   "execution_count": null,
   "id": "c4bccee1",
   "metadata": {},
   "outputs": [],
   "source": [
    "for i in range(egdes_new.shape[-1]):\n",
    "    print(egdes_new[:, i], edges_upd[:, i])"
   ]
  },
  {
   "cell_type": "code",
   "execution_count": null,
   "id": "8a9d4f9d",
   "metadata": {},
   "outputs": [],
   "source": [
    "_, axes = plt.subplots(1, 2, figsize=(11, 11))\n",
    "\n",
    "ABC_1 = jsparse.BCOO((egdes_new.squeeze()[0, ...], A[0, ...].indices), shape=A[0, ...].shape)\n",
    "ABC_2 = jsparse.BCOO((edges_upd.squeeze()[0, ...], A[0, ...].indices), shape=A[0, ...].shape)\n",
    "\n",
    "axes[0].imshow(ABC_1.todense())\n",
    "axes[1].imshow(ABC_2.todense())\n",
    "# plt.show()\n",
    "# plt.clf();"
   ]
  },
  {
   "cell_type": "code",
   "execution_count": null,
   "id": "246c8f76",
   "metadata": {},
   "outputs": [],
   "source": [
    "jnp.allclose(ABC_2.todense(), ABC_2.todense().T)"
   ]
  },
  {
   "cell_type": "code",
   "execution_count": null,
   "id": "e3ed4efe",
   "metadata": {},
   "outputs": [],
   "source": [
    "nodes.shape"
   ]
  },
  {
   "cell_type": "code",
   "execution_count": null,
   "id": "9646ad91",
   "metadata": {},
   "outputs": [],
   "source": [
    "L = jnp.zeros([nodes.shape[1]]*2)\n",
    "L = L.at[senders, receivers].set(edges)"
   ]
  },
  {
   "cell_type": "code",
   "execution_count": null,
   "id": "275b7068",
   "metadata": {},
   "outputs": [],
   "source": [
    "A"
   ]
  },
  {
   "cell_type": "code",
   "execution_count": null,
   "id": "2dfe1e19",
   "metadata": {},
   "outputs": [],
   "source": [
    "jnp.allclose(L, A[0, ...].todense())"
   ]
  },
  {
   "cell_type": "code",
   "execution_count": null,
   "id": "b4c0e2f7",
   "metadata": {},
   "outputs": [],
   "source": [
    "[1,2 ,3 ,4 , 5, 6][:-1]"
   ]
  },
  {
   "cell_type": "code",
   "execution_count": null,
   "id": "7cab11eb",
   "metadata": {},
   "outputs": [],
   "source": [
    "[2]*2"
   ]
  },
  {
   "cell_type": "code",
   "execution_count": null,
   "id": "391ee44a",
   "metadata": {},
   "outputs": [],
   "source": [
    "23300 ** (1/2)"
   ]
  },
  {
   "cell_type": "code",
   "execution_count": null,
   "id": "52fe4c0f",
   "metadata": {},
   "outputs": [],
   "source": []
  }
 ],
 "metadata": {
  "kernelspec": {
   "display_name": "Python 3 (ipykernel)",
   "language": "python",
   "name": "python3"
  },
  "language_info": {
   "codemirror_mode": {
    "name": "ipython",
    "version": 3
   },
   "file_extension": ".py",
   "mimetype": "text/x-python",
   "name": "python",
   "nbconvert_exporter": "python",
   "pygments_lexer": "ipython3",
   "version": "3.10.6"
  }
 },
 "nbformat": 4,
 "nbformat_minor": 5
}
