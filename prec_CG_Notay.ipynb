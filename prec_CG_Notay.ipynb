{
 "cells": [
  {
   "cell_type": "code",
   "execution_count": null,
   "id": "85bad9e7",
   "metadata": {},
   "outputs": [],
   "source": [
    "import jax.numpy as jnp\n",
    "import torch\n",
    "from torch import optim\n",
    "import numpy as np\n",
    "import matplotlib.pyplot as plt\n",
    "from dlpack import asdlpack\n",
    "\n",
    "import os\n",
    "import sys\n",
    "import random\n",
    "from functools import partial\n",
    "\n",
    "from data import direc_graph_from_linear_system, bi_direc_indx"
   ]
  },
  {
   "cell_type": "code",
   "execution_count": null,
   "id": "71558971",
   "metadata": {},
   "outputs": [],
   "source": [
    "sys.path.append('/mnt/local/data/vtrifonov/PNO')\n",
    "from datasets.Elliptic import solvers\n",
    "\n",
    "torch.manual_seed(42)\n",
    "np.random.seed(42)\n",
    "random.seed(42)\n",
    "\n",
    "os.environ['CUDA_VISIBLE_DEVICES'] = ''"
   ]
  },
  {
   "cell_type": "code",
   "execution_count": null,
   "id": "cb2e25e6",
   "metadata": {},
   "outputs": [],
   "source": [
    "def discret_linear_operator(N_points, F, BCs, M_int=8, conservative=False):\n",
    "    coeff = solvers.BVP_DD(N_points-2, F, BCs, M_int=M_int, conservative=conservative)\n",
    "    A = jnp.diag(coeff[:, 1]) + jnp.diag(coeff[1:, 0], k=-1) + jnp.diag(coeff[:-1, 2], k=+1)\n",
    "    f = coeff[:, -1]\n",
    "    return A, f\n",
    "\n",
    "a = lambda x: jnp.ones_like(x)\n",
    "d = lambda x: jnp.zeros_like(x)\n",
    "c = lambda x: jnp.zeros_like(x)\n",
    "f = lambda x: -2*jnp.cos(jnp.pi*x)*jnp.sin(jnp.pi*x)*jnp.pi - jnp.exp(-x)*x**2 + jnp.sin(jnp.pi*x)*0.1\n",
    "\n",
    "F = [a, d, c, f]\n",
    "BCs = [0, 0]\n",
    "N_points = 9\n",
    "\n",
    "A_jax, f_jax = discret_linear_operator(N_points, F, BCs)\n",
    "A = torch.from_dlpack(asdlpack(A_jax))\n",
    "f_ = torch.from_dlpack(asdlpack(f_jax))\n",
    "\n",
    "sol_fem_jax = solvers.solve_BVP(N_points, F, BCs)\n",
    "sol_fem = torch.from_dlpack(asdlpack(sol_fem_jax))"
   ]
  },
  {
   "cell_type": "code",
   "execution_count": null,
   "id": "c806a9d4",
   "metadata": {},
   "outputs": [],
   "source": []
  },
  {
   "cell_type": "code",
   "execution_count": null,
   "id": "9bf8a685",
   "metadata": {},
   "outputs": [],
   "source": []
  },
  {
   "cell_type": "code",
   "execution_count": null,
   "id": "9d800b7c",
   "metadata": {},
   "outputs": [],
   "source": []
  },
  {
   "cell_type": "code",
   "execution_count": null,
   "id": "fef7aef5",
   "metadata": {},
   "outputs": [],
   "source": []
  },
  {
   "cell_type": "code",
   "execution_count": null,
   "id": "9e6b4459",
   "metadata": {},
   "outputs": [],
   "source": []
  },
  {
   "cell_type": "code",
   "execution_count": 1,
   "id": "c2ce6ba7",
   "metadata": {},
   "outputs": [],
   "source": [
    "import jax.numpy as jnp\n",
    "# import equinox as eqx\n",
    "\n",
    "from jax.nn import relu\n",
    "from jax import random\n",
    "import jraph\n",
    "\n",
    "import os\n",
    "os.environ[\"CUDA_VISIBLE_DEVICES\"] = ''"
   ]
  },
  {
   "cell_type": "code",
   "execution_count": 9,
   "id": "b41b1b83",
   "metadata": {},
   "outputs": [
    {
     "data": {
      "text/plain": [
       "Array([[ 5., -1.,  0.,  0.,  0.,  0.,  0.,  0.,  0.,  0.],\n",
       "       [-8.,  2., -8.,  0.,  0.,  0.,  0.,  2.,  0.,  0.],\n",
       "       [ 0., -8.,  3., -5.,  0.,  0.,  0.,  0.,  0.,  0.],\n",
       "       [ 0.,  0., -2.,  7., -8.,  0.,  0.,  0.,  0.,  0.],\n",
       "       [ 0.,  0.,  0., -5.,  5.,  0.,  0.,  0.,  0.,  0.],\n",
       "       [ 0.,  0.,  0.,  0.,  0.,  5., -6.,  0.,  0.,  0.],\n",
       "       [ 0.,  0.,  0.,  0.,  0., -1.,  9., -2.,  0.,  0.],\n",
       "       [ 0.,  9.,  0.,  0.,  0.,  0., -1.,  6., -5.,  0.],\n",
       "       [ 0.,  0.,  0.,  0.,  0.,  0.,  0., -6.,  2., -1.],\n",
       "       [ 0.,  0.,  0.,  0.,  0.,  0.,  0.,  0., -4.,  9.]], dtype=float32)"
      ]
     },
     "metadata": {},
     "output_type": "display_data"
    },
    {
     "data": {
      "text/plain": [
       "Array([2, 4, 6, 0, 2, 0, 2, 2, 4, 4], dtype=int32)"
      ]
     },
     "execution_count": 9,
     "metadata": {},
     "output_type": "execute_result"
    }
   ],
   "source": [
    "A = jnp.eye(10, k=0)*random.randint(random.PRNGKey(42), [10], 0, 10) - jnp.eye(10, k=-1)*random.randint(random.PRNGKey(43), [10], 0, 10) - jnp.eye(10, k=1)*random.randint(random.PRNGKey(41), [10], 0, 10)\n",
    "b = random.randint(random.PRNGKey(40), [10], 0, 10)\n",
    "A = A.at[1, 7].set(2)\n",
    "A = A.at[7, 1].set(9)\n",
    "display(A)\n",
    "b"
   ]
  },
  {
   "cell_type": "code",
   "execution_count": 10,
   "id": "c58fc0f6",
   "metadata": {},
   "outputs": [],
   "source": [
    "from data import *"
   ]
  },
  {
   "cell_type": "code",
   "execution_count": 11,
   "id": "5d3b92f3",
   "metadata": {},
   "outputs": [],
   "source": [
    "g = direc_graph_from_linear_system(A, b)"
   ]
  },
  {
   "cell_type": "code",
   "execution_count": 12,
   "id": "bc6cb026",
   "metadata": {},
   "outputs": [],
   "source": [
    "ls = bi_direc_indx(g)"
   ]
  },
  {
   "cell_type": "code",
   "execution_count": 13,
   "id": "f0f21c53",
   "metadata": {},
   "outputs": [
    {
     "data": {
      "text/plain": [
       "Array([0, 0, 1, 1, 1, 1, 2, 2, 2, 3, 3, 3, 4, 4, 5, 5, 6, 6, 6, 7, 7, 7,\n",
       "       7, 8, 8, 8, 9, 9], dtype=int32)"
      ]
     },
     "metadata": {},
     "output_type": "display_data"
    },
    {
     "data": {
      "text/plain": [
       "Array([0, 1, 0, 1, 2, 7, 1, 2, 3, 2, 3, 4, 3, 4, 5, 6, 5, 6, 7, 1, 6, 7,\n",
       "       8, 7, 8, 9, 8, 9], dtype=int32)"
      ]
     },
     "execution_count": 13,
     "metadata": {},
     "output_type": "execute_result"
    }
   ],
   "source": [
    "display(g.senders)\n",
    "g.receivers"
   ]
  },
  {
   "cell_type": "code",
   "execution_count": 14,
   "id": "3106a406",
   "metadata": {},
   "outputs": [
    {
     "data": {
      "text/plain": [
       "Array([[ 1,  2],\n",
       "       [ 4,  6],\n",
       "       [ 5, 19],\n",
       "       [ 8,  9],\n",
       "       [11, 12],\n",
       "       [15, 16],\n",
       "       [18, 20],\n",
       "       [22, 23],\n",
       "       [25, 26]], dtype=int32)"
      ]
     },
     "execution_count": 14,
     "metadata": {},
     "output_type": "execute_result"
    }
   ],
   "source": [
    "ls"
   ]
  },
  {
   "cell_type": "code",
   "execution_count": null,
   "id": "0236abd4",
   "metadata": {},
   "outputs": [],
   "source": []
  },
  {
   "cell_type": "code",
   "execution_count": null,
   "id": "2ff7a351",
   "metadata": {},
   "outputs": [],
   "source": []
  },
  {
   "cell_type": "code",
   "execution_count": null,
   "id": "2602c245",
   "metadata": {},
   "outputs": [],
   "source": []
  },
  {
   "cell_type": "code",
   "execution_count": null,
   "id": "508b1372",
   "metadata": {},
   "outputs": [],
   "source": []
  },
  {
   "cell_type": "code",
   "execution_count": null,
   "id": "342802a7",
   "metadata": {},
   "outputs": [],
   "source": []
  },
  {
   "cell_type": "code",
   "execution_count": 7,
   "id": "d9c97a6e",
   "metadata": {},
   "outputs": [
    {
     "data": {
      "text/plain": [
       "Array([0, 0, 1, 1, 1, 2, 2, 2, 3, 3, 3, 4, 4, 5, 5, 6, 6, 6, 7, 7, 7, 8,\n",
       "       8, 8, 9, 9], dtype=int32)"
      ]
     },
     "metadata": {},
     "output_type": "display_data"
    },
    {
     "data": {
      "text/plain": [
       "Array([0, 1, 0, 1, 2, 1, 2, 3, 2, 3, 4, 3, 4, 5, 6, 5, 6, 7, 6, 7, 8, 7,\n",
       "       8, 9, 8, 9], dtype=int32)"
      ]
     },
     "execution_count": 7,
     "metadata": {},
     "output_type": "execute_result"
    }
   ],
   "source": [
    "display(check.senders)\n",
    "check.receivers"
   ]
  },
  {
   "cell_type": "code",
   "execution_count": 25,
   "id": "8248914b",
   "metadata": {},
   "outputs": [
    {
     "data": {
      "text/plain": [
       "Array([0, 1, 0, 1, 2, 1, 2, 3, 2, 3, 4, 3, 4, 5, 6, 5, 6, 7, 6, 7, 8, 7,\n",
       "       8, 9, 8, 9], dtype=int32)"
      ]
     },
     "execution_count": 25,
     "metadata": {},
     "output_type": "execute_result"
    }
   ],
   "source": [
    "check.receivers"
   ]
  },
  {
   "cell_type": "code",
   "execution_count": 28,
   "id": "9acab8b3",
   "metadata": {},
   "outputs": [
    {
     "data": {
      "text/plain": [
       "Array([3, 4], dtype=int32)"
      ]
     },
     "metadata": {},
     "output_type": "display_data"
    },
    {
     "data": {
      "text/plain": [
       "Array([0], dtype=int32)"
      ]
     },
     "execution_count": 28,
     "metadata": {},
     "output_type": "execute_result"
    }
   ],
   "source": [
    "a = check.receivers[check.senders == 4]\n",
    "display(a)\n",
    "jnp.nonzero(a==3)[0]"
   ]
  },
  {
   "cell_type": "code",
   "execution_count": 29,
   "id": "b67c2568",
   "metadata": {},
   "outputs": [
    {
     "data": {
      "text/plain": [
       "Array([0, 1, 0, 1, 2, 1, 2, 3, 2, 3, 4, 3, 4, 5, 6, 5, 6, 7, 6, 7, 8, 7,\n",
       "       8, 9, 8, 9], dtype=int32)"
      ]
     },
     "execution_count": 29,
     "metadata": {},
     "output_type": "execute_result"
    }
   ],
   "source": [
    "check.receivers"
   ]
  },
  {
   "cell_type": "code",
   "execution_count": 17,
   "id": "695cc075",
   "metadata": {},
   "outputs": [
    {
     "data": {
      "text/plain": [
       "Array([0, 0, 1, 1, 1, 2, 2, 2, 3, 3, 3, 4, 4, 5, 5, 6, 6, 6, 7, 7, 7, 8,\n",
       "       8, 8, 9, 9], dtype=int32)"
      ]
     },
     "metadata": {},
     "output_type": "display_data"
    },
    {
     "data": {
      "text/plain": [
       "(Array([11, 12], dtype=int32),)"
      ]
     },
     "execution_count": 17,
     "metadata": {},
     "output_type": "execute_result"
    }
   ],
   "source": [
    "display(check.senders)\n",
    "jnp.nonzero(check.senders == 4)"
   ]
  },
  {
   "cell_type": "code",
   "execution_count": 20,
   "id": "4cd27490",
   "metadata": {},
   "outputs": [
    {
     "data": {
      "text/plain": [
       "Array(11, dtype=int32)"
      ]
     },
     "execution_count": 20,
     "metadata": {},
     "output_type": "execute_result"
    }
   ],
   "source": [
    "# First senders index\n",
    "jnp.nonzero(check.senders == 4)[0][0]\n",
    "\n",
    "# To what first edge is connected\n",
    "abc = check.receivers[check.senders == 4]\n",
    "\n",
    "# Index within first node connection\n",
    "jnp.nonzero(a==3)[0]"
   ]
  },
  {
   "cell_type": "code",
   "execution_count": null,
   "id": "19088daf",
   "metadata": {},
   "outputs": [],
   "source": []
  },
  {
   "cell_type": "code",
   "execution_count": null,
   "id": "7b4227ae",
   "metadata": {},
   "outputs": [],
   "source": []
  },
  {
   "cell_type": "code",
   "execution_count": null,
   "id": "01061089",
   "metadata": {},
   "outputs": [],
   "source": []
  },
  {
   "cell_type": "code",
   "execution_count": 18,
   "id": "09ec2a17",
   "metadata": {},
   "outputs": [
    {
     "data": {
      "text/plain": [
       "Array([0, 0, 1, 1, 1], dtype=int32)"
      ]
     },
     "execution_count": 18,
     "metadata": {},
     "output_type": "execute_result"
    }
   ],
   "source": [
    "a = jnp.vstack([check.senders, check.receivers]).T\n",
    "a[a == jnp.asarray([0, 1])]"
   ]
  },
  {
   "cell_type": "code",
   "execution_count": 107,
   "id": "8bbe00d3",
   "metadata": {},
   "outputs": [
    {
     "data": {
      "text/plain": [
       "Array([0, 0, 0, 0, 0, 0, 0, 0, 1, 1, 1, 0, 0, 0, 0, 0, 0, 0, 0, 0, 0, 0,\n",
       "       0, 0, 0, 0], dtype=int32)"
      ]
     },
     "execution_count": 107,
     "metadata": {},
     "output_type": "execute_result"
    }
   ],
   "source": [
    "(check.senders == 3).astype(int)"
   ]
  },
  {
   "cell_type": "code",
   "execution_count": 10,
   "id": "d11b7092",
   "metadata": {},
   "outputs": [
    {
     "data": {
      "text/plain": [
       "Array([2, 3, 4], dtype=int32)"
      ]
     },
     "execution_count": 10,
     "metadata": {},
     "output_type": "execute_result"
    }
   ],
   "source": [
    "check.receivers[check.senders == 3]"
   ]
  },
  {
   "cell_type": "code",
   "execution_count": 101,
   "id": "85cf3ce7",
   "metadata": {},
   "outputs": [
    {
     "data": {
      "text/plain": [
       "Array([ 8,  9, 10], dtype=int32)"
      ]
     },
     "metadata": {},
     "output_type": "display_data"
    },
    {
     "data": {
      "text/plain": [
       "Array([2, 3, 4], dtype=int32)"
      ]
     },
     "metadata": {},
     "output_type": "display_data"
    },
    {
     "data": {
      "text/plain": [
       "True"
      ]
     },
     "execution_count": 101,
     "metadata": {},
     "output_type": "execute_result"
    }
   ],
   "source": [
    "display(jnp.where(check.senders == 3)[0])\n",
    "display(check.receivers[jnp.where(check.senders == 3)[0]])\n",
    "2 in check.receivers[jnp.where(check.senders == 3)[0]]"
   ]
  },
  {
   "cell_type": "code",
   "execution_count": 4,
   "id": "df063726",
   "metadata": {},
   "outputs": [],
   "source": [
    "def direc_graph_from_linear_system(A, b):\n",
    "    '''Matrix `A` should be sparse.'''\n",
    "    node_features = jnp.asarray(b)\n",
    "    senders, receivers = jnp.nonzero(A)\n",
    "    edge_features = A[senders, receivers]\n",
    "    n_node = jnp.array([len(node_features)])\n",
    "    n_edge = jnp.array([len(senders)])\n",
    "    graph = jraph.GraphsTuple(nodes=node_features, edges=edge_features, senders=senders,\n",
    "                              receivers=receivers, n_node=n_node, n_edge=n_edge, globals=None)\n",
    "    return graph"
   ]
  },
  {
   "cell_type": "code",
   "execution_count": 5,
   "id": "bd40d9b7",
   "metadata": {},
   "outputs": [],
   "source": [
    "check = direc_graph_from_linear_system(A, b)"
   ]
  },
  {
   "cell_type": "code",
   "execution_count": 6,
   "id": "1dbb4b8c",
   "metadata": {},
   "outputs": [
    {
     "data": {
      "text/plain": [
       "GraphsTuple(nodes=Array([2, 4, 6, 0, 2, 0, 2, 2, 4, 4], dtype=int32), edges=Array([ 5., -1., -8.,  2., -8., -8.,  3., -5., -2.,  7., -8., -5.,  5.,\n",
       "        5., -6., -1.,  9., -2., -1.,  6., -5., -6.,  2., -1., -4.,  9.],      dtype=float32), receivers=Array([0, 1, 0, 1, 2, 1, 2, 3, 2, 3, 4, 3, 4, 5, 6, 5, 6, 7, 6, 7, 8, 7,\n",
       "       8, 9, 8, 9], dtype=int32), senders=Array([0, 0, 1, 1, 1, 2, 2, 2, 3, 3, 3, 4, 4, 5, 5, 6, 6, 6, 7, 7, 7, 8,\n",
       "       8, 8, 9, 9], dtype=int32), globals=None, n_node=Array([10], dtype=int32), n_edge=Array([26], dtype=int32))"
      ]
     },
     "execution_count": 6,
     "metadata": {},
     "output_type": "execute_result"
    }
   ],
   "source": [
    "check"
   ]
  },
  {
   "cell_type": "code",
   "execution_count": 21,
   "id": "2875ea01",
   "metadata": {},
   "outputs": [
    {
     "data": {
      "text/plain": [
       "Array([[1, 2],\n",
       "       [2, 3],\n",
       "       [4, 5],\n",
       "       [2, 3]], dtype=int32)"
      ]
     },
     "execution_count": 21,
     "metadata": {},
     "output_type": "execute_result"
    }
   ],
   "source": [
    "re = jnp.stack(jnp.array([[1,2], [2, 3], [4,5], [2,3]]))\n",
    "re"
   ]
  },
  {
   "cell_type": "code",
   "execution_count": null,
   "id": "4c32b873",
   "metadata": {},
   "outputs": [],
   "source": []
  }
 ],
 "metadata": {
  "kernelspec": {
   "display_name": "Python 3 (ipykernel)",
   "language": "python",
   "name": "python3"
  },
  "language_info": {
   "codemirror_mode": {
    "name": "ipython",
    "version": 3
   },
   "file_extension": ".py",
   "mimetype": "text/x-python",
   "name": "python",
   "nbconvert_exporter": "python",
   "pygments_lexer": "ipython3",
   "version": "3.10.6"
  }
 },
 "nbformat": 4,
 "nbformat_minor": 5
}
