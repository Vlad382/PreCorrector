{
 "cells": [
  {
   "cell_type": "code",
   "execution_count": 1,
   "id": "60306656",
   "metadata": {},
   "outputs": [],
   "source": [
    "import jax.numpy as jnp\n",
    "# import equinox as eqx\n",
    "\n",
    "from jax.nn import relu\n",
    "from jax import random\n",
    "import jraph\n",
    "\n",
    "import os\n",
    "os.environ[\"CUDA_VISIBLE_DEVICES\"] = ''"
   ]
  },
  {
   "cell_type": "code",
   "execution_count": 2,
   "id": "c2a60414",
   "metadata": {},
   "outputs": [
    {
     "name": "stderr",
     "output_type": "stream",
     "text": [
      "2024-02-22 14:16:43.212243: E external/xla/xla/stream_executor/cuda/cuda_driver.cc:282] failed call to cuInit: CUDA_ERROR_NO_DEVICE: no CUDA-capable device is detected\n",
      "CUDA backend failed to initialize: FAILED_PRECONDITION: No visible GPU devices. (Set TF_CPP_MIN_LOG_LEVEL=0 and rerun for more info.)\n"
     ]
    },
    {
     "data": {
      "text/plain": [
       "Array([[ 5., -1.,  0.,  0.,  0.,  0.,  0.,  0.,  0.,  0.],\n",
       "       [-8.,  2., -8.,  0.,  0.,  0.,  0.,  0.,  0.,  0.],\n",
       "       [ 0., -8.,  3., -5.,  0.,  0.,  0.,  0.,  0.,  0.],\n",
       "       [ 0.,  0., -2.,  7., -8.,  0.,  0.,  0.,  0.,  0.],\n",
       "       [ 0.,  0.,  0., -5.,  5.,  0.,  0.,  0.,  0.,  0.],\n",
       "       [ 0.,  0.,  0.,  0.,  0.,  5., -6.,  0.,  0.,  0.],\n",
       "       [ 0.,  0.,  0.,  0.,  0., -1.,  9., -2.,  0.,  0.],\n",
       "       [ 0.,  0.,  0.,  0.,  0.,  0., -1.,  6., -5.,  0.],\n",
       "       [ 0.,  0.,  0.,  0.,  0.,  0.,  0., -6.,  2., -1.],\n",
       "       [ 0.,  0.,  0.,  0.,  0.,  0.,  0.,  0., -4.,  9.]], dtype=float32)"
      ]
     },
     "metadata": {},
     "output_type": "display_data"
    },
    {
     "data": {
      "text/plain": [
       "Array([2, 4, 6, 0, 2, 0, 2, 2, 4, 4], dtype=int32)"
      ]
     },
     "execution_count": 2,
     "metadata": {},
     "output_type": "execute_result"
    }
   ],
   "source": [
    "A = jnp.eye(10, k=0)*random.randint(random.PRNGKey(42), [10], 0, 10) - jnp.eye(10, k=-1)*random.randint(random.PRNGKey(43), [10], 0, 10) - jnp.eye(10, k=1)*random.randint(random.PRNGKey(41), [10], 0, 10)\n",
    "b = random.randint(random.PRNGKey(40), [10], 0, 10)\n",
    "display(A)\n",
    "b"
   ]
  },
  {
   "cell_type": "code",
   "execution_count": 7,
   "id": "ccb20168",
   "metadata": {},
   "outputs": [
    {
     "data": {
      "text/plain": [
       "Array([0, 0, 1, 1, 1, 2, 2, 2, 3, 3, 3, 4, 4, 5, 5, 6, 6, 6, 7, 7, 7, 8,\n",
       "       8, 8, 9, 9], dtype=int32)"
      ]
     },
     "metadata": {},
     "output_type": "display_data"
    },
    {
     "data": {
      "text/plain": [
       "Array([0, 1, 0, 1, 2, 1, 2, 3, 2, 3, 4, 3, 4, 5, 6, 5, 6, 7, 6, 7, 8, 7,\n",
       "       8, 9, 8, 9], dtype=int32)"
      ]
     },
     "execution_count": 7,
     "metadata": {},
     "output_type": "execute_result"
    }
   ],
   "source": [
    "display(check.senders)\n",
    "check.receivers"
   ]
  },
  {
   "cell_type": "code",
   "execution_count": 18,
   "id": "2c74cd93",
   "metadata": {},
   "outputs": [
    {
     "data": {
      "text/plain": [
       "Array([0, 0, 1, 1, 1], dtype=int32)"
      ]
     },
     "execution_count": 18,
     "metadata": {},
     "output_type": "execute_result"
    }
   ],
   "source": [
    "a = jnp.vstack([check.senders, check.receivers]).T\n",
    "a[a == jnp.asarray([0, 1])]"
   ]
  },
  {
   "cell_type": "code",
   "execution_count": 107,
   "id": "9b2de0cd",
   "metadata": {},
   "outputs": [
    {
     "data": {
      "text/plain": [
       "Array([0, 0, 0, 0, 0, 0, 0, 0, 1, 1, 1, 0, 0, 0, 0, 0, 0, 0, 0, 0, 0, 0,\n",
       "       0, 0, 0, 0], dtype=int32)"
      ]
     },
     "execution_count": 107,
     "metadata": {},
     "output_type": "execute_result"
    }
   ],
   "source": [
    "(check.senders == 3).astype(int)"
   ]
  },
  {
   "cell_type": "code",
   "execution_count": 10,
   "id": "8584378e",
   "metadata": {},
   "outputs": [
    {
     "data": {
      "text/plain": [
       "Array([2, 3, 4], dtype=int32)"
      ]
     },
     "execution_count": 10,
     "metadata": {},
     "output_type": "execute_result"
    }
   ],
   "source": [
    "check.receivers[check.senders == 3]"
   ]
  },
  {
   "cell_type": "code",
   "execution_count": 101,
   "id": "6002a641",
   "metadata": {},
   "outputs": [
    {
     "data": {
      "text/plain": [
       "Array([ 8,  9, 10], dtype=int32)"
      ]
     },
     "metadata": {},
     "output_type": "display_data"
    },
    {
     "data": {
      "text/plain": [
       "Array([2, 3, 4], dtype=int32)"
      ]
     },
     "metadata": {},
     "output_type": "display_data"
    },
    {
     "data": {
      "text/plain": [
       "True"
      ]
     },
     "execution_count": 101,
     "metadata": {},
     "output_type": "execute_result"
    }
   ],
   "source": [
    "display(jnp.where(check.senders == 3)[0])\n",
    "display(check.receivers[jnp.where(check.senders == 3)[0]])\n",
    "2 in check.receivers[jnp.where(check.senders == 3)[0]]"
   ]
  },
  {
   "cell_type": "code",
   "execution_count": 4,
   "id": "aa969334",
   "metadata": {},
   "outputs": [],
   "source": [
    "def direc_graph_from_linear_system(A, b):\n",
    "    '''Matrix `A` should be sparse.'''\n",
    "    node_features = jnp.asarray(b)\n",
    "    senders, receivers = jnp.nonzero(A)\n",
    "    edge_features = A[senders, receivers]\n",
    "    n_node = jnp.array([len(node_features)])\n",
    "    n_edge = jnp.array([len(senders)])\n",
    "    graph = jraph.GraphsTuple(nodes=node_features, edges=edge_features, senders=senders,\n",
    "                              receivers=receivers, n_node=n_node, n_edge=n_edge, globals=None)\n",
    "    return graph"
   ]
  },
  {
   "cell_type": "code",
   "execution_count": 5,
   "id": "85589594",
   "metadata": {},
   "outputs": [],
   "source": [
    "check = direc_graph_from_linear_system(A, b)"
   ]
  },
  {
   "cell_type": "code",
   "execution_count": 6,
   "id": "f78c9918",
   "metadata": {},
   "outputs": [
    {
     "data": {
      "text/plain": [
       "GraphsTuple(nodes=Array([2, 4, 6, 0, 2, 0, 2, 2, 4, 4], dtype=int32), edges=Array([ 5., -1., -8.,  2., -8., -8.,  3., -5., -2.,  7., -8., -5.,  5.,\n",
       "        5., -6., -1.,  9., -2., -1.,  6., -5., -6.,  2., -1., -4.,  9.],      dtype=float32), receivers=Array([0, 1, 0, 1, 2, 1, 2, 3, 2, 3, 4, 3, 4, 5, 6, 5, 6, 7, 6, 7, 8, 7,\n",
       "       8, 9, 8, 9], dtype=int32), senders=Array([0, 0, 1, 1, 1, 2, 2, 2, 3, 3, 3, 4, 4, 5, 5, 6, 6, 6, 7, 7, 7, 8,\n",
       "       8, 8, 9, 9], dtype=int32), globals=None, n_node=Array([10], dtype=int32), n_edge=Array([26], dtype=int32))"
      ]
     },
     "execution_count": 6,
     "metadata": {},
     "output_type": "execute_result"
    }
   ],
   "source": [
    "check"
   ]
  },
  {
   "cell_type": "code",
   "execution_count": 21,
   "id": "6efcd6a7",
   "metadata": {},
   "outputs": [
    {
     "data": {
      "text/plain": [
       "Array([[1, 2],\n",
       "       [2, 3],\n",
       "       [4, 5],\n",
       "       [2, 3]], dtype=int32)"
      ]
     },
     "execution_count": 21,
     "metadata": {},
     "output_type": "execute_result"
    }
   ],
   "source": [
    "re = jnp.stack(jnp.array([[1,2], [2, 3], [4,5], [2,3]]))\n",
    "re"
   ]
  },
  {
   "cell_type": "code",
   "execution_count": null,
   "id": "1741fe94",
   "metadata": {},
   "outputs": [],
   "source": []
  }
 ],
 "metadata": {
  "kernelspec": {
   "display_name": "Python 3 (ipykernel)",
   "language": "python",
   "name": "python3"
  },
  "language_info": {
   "codemirror_mode": {
    "name": "ipython",
    "version": 3
   },
   "file_extension": ".py",
   "mimetype": "text/x-python",
   "name": "python",
   "nbconvert_exporter": "python",
   "pygments_lexer": "ipython3",
   "version": "3.10.6"
  }
 },
 "nbformat": 4,
 "nbformat_minor": 5
}
