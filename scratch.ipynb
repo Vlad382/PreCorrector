{
 "cells": [
  {
   "cell_type": "code",
   "execution_count": 1,
   "id": "68cc2189",
   "metadata": {},
   "outputs": [],
   "source": [
    "import jax.numpy as jnp\n",
    "# import equinox as eqx\n",
    "\n",
    "from jax.nn import relu\n",
    "from jax import random\n",
    "import jraph\n",
    "\n",
    "import os\n",
    "os.environ[\"CUDA_VISIBLE_DEVICES\"] = ''"
   ]
  },
  {
   "cell_type": "code",
   "execution_count": 9,
   "id": "fd727522",
   "metadata": {},
   "outputs": [
    {
     "data": {
      "text/plain": [
       "Array([[ 5., -1.,  0.,  0.,  0.,  0.,  0.,  0.,  0.,  0.],\n",
       "       [-8.,  2., -8.,  0.,  0.,  0.,  0.,  2.,  0.,  0.],\n",
       "       [ 0., -8.,  3., -5.,  0.,  0.,  0.,  0.,  0.,  0.],\n",
       "       [ 0.,  0., -2.,  7., -8.,  0.,  0.,  0.,  0.,  0.],\n",
       "       [ 0.,  0.,  0., -5.,  5.,  0.,  0.,  0.,  0.,  0.],\n",
       "       [ 0.,  0.,  0.,  0.,  0.,  5., -6.,  0.,  0.,  0.],\n",
       "       [ 0.,  0.,  0.,  0.,  0., -1.,  9., -2.,  0.,  0.],\n",
       "       [ 0.,  9.,  0.,  0.,  0.,  0., -1.,  6., -5.,  0.],\n",
       "       [ 0.,  0.,  0.,  0.,  0.,  0.,  0., -6.,  2., -1.],\n",
       "       [ 0.,  0.,  0.,  0.,  0.,  0.,  0.,  0., -4.,  9.]], dtype=float32)"
      ]
     },
     "metadata": {},
     "output_type": "display_data"
    },
    {
     "data": {
      "text/plain": [
       "Array([2, 4, 6, 0, 2, 0, 2, 2, 4, 4], dtype=int32)"
      ]
     },
     "execution_count": 9,
     "metadata": {},
     "output_type": "execute_result"
    }
   ],
   "source": [
    "A = jnp.eye(10, k=0)*random.randint(random.PRNGKey(42), [10], 0, 10) - jnp.eye(10, k=-1)*random.randint(random.PRNGKey(43), [10], 0, 10) - jnp.eye(10, k=1)*random.randint(random.PRNGKey(41), [10], 0, 10)\n",
    "b = random.randint(random.PRNGKey(40), [10], 0, 10)\n",
    "A = A.at[1, 7].set(2)\n",
    "A = A.at[7, 1].set(9)\n",
    "display(A)\n",
    "b"
   ]
  },
  {
   "cell_type": "code",
   "execution_count": 10,
   "id": "36d1a0e2",
   "metadata": {},
   "outputs": [],
   "source": [
    "from data import *"
   ]
  },
  {
   "cell_type": "code",
   "execution_count": 11,
   "id": "18a26d04",
   "metadata": {},
   "outputs": [],
   "source": [
    "g = direc_graph_from_linear_system(A, b)"
   ]
  },
  {
   "cell_type": "code",
   "execution_count": 12,
   "id": "e25e94d4",
   "metadata": {},
   "outputs": [],
   "source": [
    "ls = bi_direc_indx(g)"
   ]
  },
  {
   "cell_type": "code",
   "execution_count": 13,
   "id": "e461f88c",
   "metadata": {},
   "outputs": [
    {
     "data": {
      "text/plain": [
       "Array([0, 0, 1, 1, 1, 1, 2, 2, 2, 3, 3, 3, 4, 4, 5, 5, 6, 6, 6, 7, 7, 7,\n",
       "       7, 8, 8, 8, 9, 9], dtype=int32)"
      ]
     },
     "metadata": {},
     "output_type": "display_data"
    },
    {
     "data": {
      "text/plain": [
       "Array([0, 1, 0, 1, 2, 7, 1, 2, 3, 2, 3, 4, 3, 4, 5, 6, 5, 6, 7, 1, 6, 7,\n",
       "       8, 7, 8, 9, 8, 9], dtype=int32)"
      ]
     },
     "execution_count": 13,
     "metadata": {},
     "output_type": "execute_result"
    }
   ],
   "source": [
    "display(g.senders)\n",
    "g.receivers"
   ]
  },
  {
   "cell_type": "code",
   "execution_count": 14,
   "id": "b2950fb5",
   "metadata": {},
   "outputs": [
    {
     "data": {
      "text/plain": [
       "Array([[ 1,  2],\n",
       "       [ 4,  6],\n",
       "       [ 5, 19],\n",
       "       [ 8,  9],\n",
       "       [11, 12],\n",
       "       [15, 16],\n",
       "       [18, 20],\n",
       "       [22, 23],\n",
       "       [25, 26]], dtype=int32)"
      ]
     },
     "execution_count": 14,
     "metadata": {},
     "output_type": "execute_result"
    }
   ],
   "source": [
    "ls"
   ]
  },
  {
   "cell_type": "code",
   "execution_count": null,
   "id": "81ecd0b7",
   "metadata": {},
   "outputs": [],
   "source": []
  },
  {
   "cell_type": "code",
   "execution_count": null,
   "id": "bafea320",
   "metadata": {},
   "outputs": [],
   "source": []
  },
  {
   "cell_type": "code",
   "execution_count": null,
   "id": "3d79df58",
   "metadata": {},
   "outputs": [],
   "source": []
  },
  {
   "cell_type": "code",
   "execution_count": null,
   "id": "13784141",
   "metadata": {},
   "outputs": [],
   "source": []
  },
  {
   "cell_type": "code",
   "execution_count": null,
   "id": "bbe2cf15",
   "metadata": {},
   "outputs": [],
   "source": []
  },
  {
   "cell_type": "code",
   "execution_count": 7,
   "id": "ebbbee9b",
   "metadata": {},
   "outputs": [
    {
     "data": {
      "text/plain": [
       "Array([0, 0, 1, 1, 1, 2, 2, 2, 3, 3, 3, 4, 4, 5, 5, 6, 6, 6, 7, 7, 7, 8,\n",
       "       8, 8, 9, 9], dtype=int32)"
      ]
     },
     "metadata": {},
     "output_type": "display_data"
    },
    {
     "data": {
      "text/plain": [
       "Array([0, 1, 0, 1, 2, 1, 2, 3, 2, 3, 4, 3, 4, 5, 6, 5, 6, 7, 6, 7, 8, 7,\n",
       "       8, 9, 8, 9], dtype=int32)"
      ]
     },
     "execution_count": 7,
     "metadata": {},
     "output_type": "execute_result"
    }
   ],
   "source": [
    "display(check.senders)\n",
    "check.receivers"
   ]
  },
  {
   "cell_type": "code",
   "execution_count": 25,
   "id": "b365b052",
   "metadata": {},
   "outputs": [
    {
     "data": {
      "text/plain": [
       "Array([0, 1, 0, 1, 2, 1, 2, 3, 2, 3, 4, 3, 4, 5, 6, 5, 6, 7, 6, 7, 8, 7,\n",
       "       8, 9, 8, 9], dtype=int32)"
      ]
     },
     "execution_count": 25,
     "metadata": {},
     "output_type": "execute_result"
    }
   ],
   "source": [
    "check.receivers"
   ]
  },
  {
   "cell_type": "code",
   "execution_count": 28,
   "id": "81b5962a",
   "metadata": {},
   "outputs": [
    {
     "data": {
      "text/plain": [
       "Array([3, 4], dtype=int32)"
      ]
     },
     "metadata": {},
     "output_type": "display_data"
    },
    {
     "data": {
      "text/plain": [
       "Array([0], dtype=int32)"
      ]
     },
     "execution_count": 28,
     "metadata": {},
     "output_type": "execute_result"
    }
   ],
   "source": [
    "a = check.receivers[check.senders == 4]\n",
    "display(a)\n",
    "jnp.nonzero(a==3)[0]"
   ]
  },
  {
   "cell_type": "code",
   "execution_count": 29,
   "id": "05c93e35",
   "metadata": {},
   "outputs": [
    {
     "data": {
      "text/plain": [
       "Array([0, 1, 0, 1, 2, 1, 2, 3, 2, 3, 4, 3, 4, 5, 6, 5, 6, 7, 6, 7, 8, 7,\n",
       "       8, 9, 8, 9], dtype=int32)"
      ]
     },
     "execution_count": 29,
     "metadata": {},
     "output_type": "execute_result"
    }
   ],
   "source": [
    "check.receivers"
   ]
  },
  {
   "cell_type": "code",
   "execution_count": 17,
   "id": "b36fb7cc",
   "metadata": {},
   "outputs": [
    {
     "data": {
      "text/plain": [
       "Array([0, 0, 1, 1, 1, 2, 2, 2, 3, 3, 3, 4, 4, 5, 5, 6, 6, 6, 7, 7, 7, 8,\n",
       "       8, 8, 9, 9], dtype=int32)"
      ]
     },
     "metadata": {},
     "output_type": "display_data"
    },
    {
     "data": {
      "text/plain": [
       "(Array([11, 12], dtype=int32),)"
      ]
     },
     "execution_count": 17,
     "metadata": {},
     "output_type": "execute_result"
    }
   ],
   "source": [
    "display(check.senders)\n",
    "jnp.nonzero(check.senders == 4)"
   ]
  },
  {
   "cell_type": "code",
   "execution_count": 20,
   "id": "add5252f",
   "metadata": {},
   "outputs": [
    {
     "data": {
      "text/plain": [
       "Array(11, dtype=int32)"
      ]
     },
     "execution_count": 20,
     "metadata": {},
     "output_type": "execute_result"
    }
   ],
   "source": [
    "# First senders index\n",
    "jnp.nonzero(check.senders == 4)[0][0]\n",
    "\n",
    "# To what first edge is connected\n",
    "abc = check.receivers[check.senders == 4]\n",
    "\n",
    "# Index within first node connection\n",
    "jnp.nonzero(a==3)[0]"
   ]
  },
  {
   "cell_type": "code",
   "execution_count": null,
   "id": "94fc01a4",
   "metadata": {},
   "outputs": [],
   "source": []
  },
  {
   "cell_type": "code",
   "execution_count": null,
   "id": "c7a1afcc",
   "metadata": {},
   "outputs": [],
   "source": []
  },
  {
   "cell_type": "code",
   "execution_count": null,
   "id": "a14c5203",
   "metadata": {},
   "outputs": [],
   "source": []
  },
  {
   "cell_type": "code",
   "execution_count": 18,
   "id": "acfac84f",
   "metadata": {},
   "outputs": [
    {
     "data": {
      "text/plain": [
       "Array([0, 0, 1, 1, 1], dtype=int32)"
      ]
     },
     "execution_count": 18,
     "metadata": {},
     "output_type": "execute_result"
    }
   ],
   "source": [
    "a = jnp.vstack([check.senders, check.receivers]).T\n",
    "a[a == jnp.asarray([0, 1])]"
   ]
  },
  {
   "cell_type": "code",
   "execution_count": 107,
   "id": "9241c44d",
   "metadata": {},
   "outputs": [
    {
     "data": {
      "text/plain": [
       "Array([0, 0, 0, 0, 0, 0, 0, 0, 1, 1, 1, 0, 0, 0, 0, 0, 0, 0, 0, 0, 0, 0,\n",
       "       0, 0, 0, 0], dtype=int32)"
      ]
     },
     "execution_count": 107,
     "metadata": {},
     "output_type": "execute_result"
    }
   ],
   "source": [
    "(check.senders == 3).astype(int)"
   ]
  },
  {
   "cell_type": "code",
   "execution_count": 10,
   "id": "034a3b53",
   "metadata": {},
   "outputs": [
    {
     "data": {
      "text/plain": [
       "Array([2, 3, 4], dtype=int32)"
      ]
     },
     "execution_count": 10,
     "metadata": {},
     "output_type": "execute_result"
    }
   ],
   "source": [
    "check.receivers[check.senders == 3]"
   ]
  },
  {
   "cell_type": "code",
   "execution_count": 101,
   "id": "ce0bd0ab",
   "metadata": {},
   "outputs": [
    {
     "data": {
      "text/plain": [
       "Array([ 8,  9, 10], dtype=int32)"
      ]
     },
     "metadata": {},
     "output_type": "display_data"
    },
    {
     "data": {
      "text/plain": [
       "Array([2, 3, 4], dtype=int32)"
      ]
     },
     "metadata": {},
     "output_type": "display_data"
    },
    {
     "data": {
      "text/plain": [
       "True"
      ]
     },
     "execution_count": 101,
     "metadata": {},
     "output_type": "execute_result"
    }
   ],
   "source": [
    "display(jnp.where(check.senders == 3)[0])\n",
    "display(check.receivers[jnp.where(check.senders == 3)[0]])\n",
    "2 in check.receivers[jnp.where(check.senders == 3)[0]]"
   ]
  },
  {
   "cell_type": "code",
   "execution_count": 4,
   "id": "f15a503f",
   "metadata": {},
   "outputs": [],
   "source": [
    "def direc_graph_from_linear_system(A, b):\n",
    "    '''Matrix `A` should be sparse.'''\n",
    "    node_features = jnp.asarray(b)\n",
    "    senders, receivers = jnp.nonzero(A)\n",
    "    edge_features = A[senders, receivers]\n",
    "    n_node = jnp.array([len(node_features)])\n",
    "    n_edge = jnp.array([len(senders)])\n",
    "    graph = jraph.GraphsTuple(nodes=node_features, edges=edge_features, senders=senders,\n",
    "                              receivers=receivers, n_node=n_node, n_edge=n_edge, globals=None)\n",
    "    return graph"
   ]
  },
  {
   "cell_type": "code",
   "execution_count": 5,
   "id": "26ee1a20",
   "metadata": {},
   "outputs": [],
   "source": [
    "check = direc_graph_from_linear_system(A, b)"
   ]
  },
  {
   "cell_type": "code",
   "execution_count": 6,
   "id": "e36c5644",
   "metadata": {},
   "outputs": [
    {
     "data": {
      "text/plain": [
       "GraphsTuple(nodes=Array([2, 4, 6, 0, 2, 0, 2, 2, 4, 4], dtype=int32), edges=Array([ 5., -1., -8.,  2., -8., -8.,  3., -5., -2.,  7., -8., -5.,  5.,\n",
       "        5., -6., -1.,  9., -2., -1.,  6., -5., -6.,  2., -1., -4.,  9.],      dtype=float32), receivers=Array([0, 1, 0, 1, 2, 1, 2, 3, 2, 3, 4, 3, 4, 5, 6, 5, 6, 7, 6, 7, 8, 7,\n",
       "       8, 9, 8, 9], dtype=int32), senders=Array([0, 0, 1, 1, 1, 2, 2, 2, 3, 3, 3, 4, 4, 5, 5, 6, 6, 6, 7, 7, 7, 8,\n",
       "       8, 8, 9, 9], dtype=int32), globals=None, n_node=Array([10], dtype=int32), n_edge=Array([26], dtype=int32))"
      ]
     },
     "execution_count": 6,
     "metadata": {},
     "output_type": "execute_result"
    }
   ],
   "source": [
    "check"
   ]
  },
  {
   "cell_type": "code",
   "execution_count": 21,
   "id": "9faabbdd",
   "metadata": {},
   "outputs": [
    {
     "data": {
      "text/plain": [
       "Array([[1, 2],\n",
       "       [2, 3],\n",
       "       [4, 5],\n",
       "       [2, 3]], dtype=int32)"
      ]
     },
     "execution_count": 21,
     "metadata": {},
     "output_type": "execute_result"
    }
   ],
   "source": [
    "re = jnp.stack(jnp.array([[1,2], [2, 3], [4,5], [2,3]]))\n",
    "re"
   ]
  },
  {
   "cell_type": "code",
   "execution_count": null,
   "id": "9bb98d3e",
   "metadata": {},
   "outputs": [],
   "source": []
  }
 ],
 "metadata": {
  "kernelspec": {
   "display_name": "Python 3 (ipykernel)",
   "language": "python",
   "name": "python3"
  },
  "language_info": {
   "codemirror_mode": {
    "name": "ipython",
    "version": 3
   },
   "file_extension": ".py",
   "mimetype": "text/x-python",
   "name": "python",
   "nbconvert_exporter": "python",
   "pygments_lexer": "ipython3",
   "version": "3.10.6"
  }
 },
 "nbformat": 4,
 "nbformat_minor": 5
}
