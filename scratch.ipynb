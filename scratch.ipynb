{
 "cells": [
  {
   "cell_type": "code",
   "execution_count": 1,
   "id": "b654986e",
   "metadata": {},
   "outputs": [],
   "source": [
    "import jax.numpy as jnp\n",
    "# import equinox as eqx\n",
    "\n",
    "from jax.nn import relu\n",
    "from jax import random\n",
    "import jraph\n",
    "\n",
    "import os\n",
    "os.environ[\"CUDA_VISIBLE_DEVICES\"] = ''"
   ]
  },
  {
   "cell_type": "code",
   "execution_count": 2,
   "id": "96e12793",
   "metadata": {},
   "outputs": [
    {
     "name": "stderr",
     "output_type": "stream",
     "text": [
      "2024-02-26 09:38:39.688007: E external/xla/xla/stream_executor/cuda/cuda_driver.cc:282] failed call to cuInit: CUDA_ERROR_NO_DEVICE: no CUDA-capable device is detected\n",
      "CUDA backend failed to initialize: FAILED_PRECONDITION: No visible GPU devices. (Set TF_CPP_MIN_LOG_LEVEL=0 and rerun for more info.)\n"
     ]
    },
    {
     "data": {
      "text/plain": [
       "Array([[ 5., -1.,  0.,  0.,  0.,  0.,  0.,  0.,  0.,  0.],\n",
       "       [-8.,  2., -8.,  0.,  0.,  0.,  0.,  2.,  0.,  0.],\n",
       "       [ 0., -8.,  3., -5.,  0.,  0.,  0.,  0.,  0.,  0.],\n",
       "       [ 0.,  0., -2.,  7., -8.,  0.,  0.,  0.,  0.,  0.],\n",
       "       [ 0.,  0.,  0., -5.,  5.,  0.,  0.,  0.,  0.,  0.],\n",
       "       [ 0.,  0.,  0.,  0.,  0.,  5., -6.,  0.,  0.,  0.],\n",
       "       [ 0.,  0.,  0.,  0.,  0., -1.,  9., -2.,  0.,  0.],\n",
       "       [ 0.,  9.,  0.,  0.,  0.,  0., -1.,  6., -5.,  0.],\n",
       "       [ 0.,  0.,  0.,  0.,  0.,  0.,  0., -6.,  2., -1.],\n",
       "       [ 0.,  0.,  0.,  0.,  0.,  0.,  0.,  0., -4.,  9.]], dtype=float32)"
      ]
     },
     "metadata": {},
     "output_type": "display_data"
    },
    {
     "data": {
      "text/plain": [
       "Array([2, 4, 6, 0, 2, 0, 2, 2, 4, 4], dtype=int32)"
      ]
     },
     "execution_count": 2,
     "metadata": {},
     "output_type": "execute_result"
    }
   ],
   "source": [
    "A = jnp.eye(10, k=0)*random.randint(random.PRNGKey(42), [10], 0, 10) - jnp.eye(10, k=-1)*random.randint(random.PRNGKey(43), [10], 0, 10) - jnp.eye(10, k=1)*random.randint(random.PRNGKey(41), [10], 0, 10)\n",
    "b = random.randint(random.PRNGKey(40), [10], 0, 10)\n",
    "A = A.at[1, 7].set(2)\n",
    "A = A.at[7, 1].set(9)\n",
    "display(A)\n",
    "b"
   ]
  },
  {
   "cell_type": "code",
   "execution_count": 3,
   "id": "5df8dae6",
   "metadata": {},
   "outputs": [],
   "source": [
    "from data import *\n",
    "from utils import *"
   ]
  },
  {
   "cell_type": "code",
   "execution_count": 4,
   "id": "84c25a61",
   "metadata": {},
   "outputs": [],
   "source": [
    "g = direc_graph_from_linear_system(A, b)"
   ]
  },
  {
   "cell_type": "code",
   "execution_count": 5,
   "id": "2f5f9b5e",
   "metadata": {},
   "outputs": [],
   "source": [
    "ls = bi_direc_indx(g)"
   ]
  },
  {
   "cell_type": "code",
   "execution_count": 6,
   "id": "da641649",
   "metadata": {},
   "outputs": [
    {
     "data": {
      "text/plain": [
       "Array([0, 0, 1, 1, 1, 1, 2, 2, 2, 3, 3, 3, 4, 4, 5, 5, 6, 6, 6, 7, 7, 7,\n",
       "       7, 8, 8, 8, 9, 9], dtype=int32)"
      ]
     },
     "metadata": {},
     "output_type": "display_data"
    },
    {
     "data": {
      "text/plain": [
       "Array([0, 1, 0, 1, 2, 7, 1, 2, 3, 2, 3, 4, 3, 4, 5, 6, 5, 6, 7, 1, 6, 7,\n",
       "       8, 7, 8, 9, 8, 9], dtype=int32)"
      ]
     },
     "execution_count": 6,
     "metadata": {},
     "output_type": "execute_result"
    }
   ],
   "source": [
    "display(g.senders)\n",
    "g.receivers"
   ]
  },
  {
   "cell_type": "code",
   "execution_count": 7,
   "id": "3e38dbe8",
   "metadata": {},
   "outputs": [
    {
     "data": {
      "text/plain": [
       "Array([[ 1,  2],\n",
       "       [ 4,  6],\n",
       "       [ 5, 19],\n",
       "       [ 8,  9],\n",
       "       [11, 12],\n",
       "       [15, 16],\n",
       "       [18, 20],\n",
       "       [22, 23],\n",
       "       [25, 26]], dtype=int32)"
      ]
     },
     "execution_count": 7,
     "metadata": {},
     "output_type": "execute_result"
    }
   ],
   "source": [
    "ls"
   ]
  },
  {
   "cell_type": "code",
   "execution_count": 8,
   "id": "2342907d",
   "metadata": {},
   "outputs": [],
   "source": [
    "edges_new = g.edges.copy()\n",
    "for i in range(len(ls)):\n",
    "    edges_new = edges_new.at[ls[i]].set(jnp.mean(edges_new[ls[i]]))\n",
    "g = jraph.GraphsTuple(nodes=g.nodes, edges=edges_new, senders=g.senders,\n",
    "                      receivers=g.receivers, n_node=g.n_node, n_edge=g.n_edge, globals=None)"
   ]
  },
  {
   "cell_type": "code",
   "execution_count": 9,
   "id": "e95908f3",
   "metadata": {},
   "outputs": [
    {
     "data": {
      "text/plain": [
       "Array([ 5. , -4.5, -4.5,  2. , -8. ,  5.5, -8. ,  3. , -3.5, -3.5,  7. ,\n",
       "       -6.5, -6.5,  5. ,  5. , -3.5, -3.5,  9. , -1.5,  5.5, -1.5,  6. ,\n",
       "       -5.5, -5.5,  2. , -2.5, -2.5,  9. ], dtype=float32)"
      ]
     },
     "execution_count": 9,
     "metadata": {},
     "output_type": "execute_result"
    }
   ],
   "source": [
    "g.edges"
   ]
  },
  {
   "cell_type": "code",
   "execution_count": null,
   "id": "9807de66",
   "metadata": {},
   "outputs": [],
   "source": []
  },
  {
   "cell_type": "code",
   "execution_count": 10,
   "id": "20024b27",
   "metadata": {},
   "outputs": [
    {
     "data": {
      "text/plain": [
       "Array([[ 5., -1.,  0.,  0.,  0.,  0.,  0.,  0.,  0.,  0.],\n",
       "       [-8.,  2., -8.,  0.,  0.,  0.,  0.,  2.,  0.,  0.],\n",
       "       [ 0., -8.,  3., -5.,  0.,  0.,  0.,  0.,  0.,  0.],\n",
       "       [ 0.,  0., -2.,  7., -8.,  0.,  0.,  0.,  0.,  0.],\n",
       "       [ 0.,  0.,  0., -5.,  5.,  0.,  0.,  0.,  0.,  0.],\n",
       "       [ 0.,  0.,  0.,  0.,  0.,  5., -6.,  0.,  0.,  0.],\n",
       "       [ 0.,  0.,  0.,  0.,  0., -1.,  9., -2.,  0.,  0.],\n",
       "       [ 0.,  9.,  0.,  0.,  0.,  0., -1.,  6., -5.,  0.],\n",
       "       [ 0.,  0.,  0.,  0.,  0.,  0.,  0., -6.,  2., -1.],\n",
       "       [ 0.,  0.,  0.,  0.,  0.,  0.,  0.,  0., -4.,  9.]], dtype=float32)"
      ]
     },
     "metadata": {},
     "output_type": "display_data"
    },
    {
     "data": {
      "text/plain": [
       "Array([[ 5. ,  0. ,  0. ,  0. ,  0. ,  0. ,  0. ,  0. ,  0. ,  0. ],\n",
       "       [-4.5,  2. ,  0. ,  0. ,  0. ,  0. ,  0. ,  0. ,  0. ,  0. ],\n",
       "       [ 0. , -8. ,  3. ,  0. ,  0. ,  0. ,  0. ,  0. ,  0. ,  0. ],\n",
       "       [ 0. ,  0. , -3.5,  7. ,  0. ,  0. ,  0. ,  0. ,  0. ,  0. ],\n",
       "       [ 0. ,  0. ,  0. , -6.5,  5. ,  0. ,  0. ,  0. ,  0. ,  0. ],\n",
       "       [ 0. ,  0. ,  0. ,  0. ,  0. ,  5. ,  0. ,  0. ,  0. ,  0. ],\n",
       "       [ 0. ,  0. ,  0. ,  0. ,  0. , -3.5,  9. ,  0. ,  0. ,  0. ],\n",
       "       [ 0. ,  5.5,  0. ,  0. ,  0. ,  0. , -1.5,  6. ,  0. ,  0. ],\n",
       "       [ 0. ,  0. ,  0. ,  0. ,  0. ,  0. ,  0. , -5.5,  2. ,  0. ],\n",
       "       [ 0. ,  0. ,  0. ,  0. ,  0. ,  0. ,  0. ,  0. , -2.5,  9. ]],      dtype=float32)"
      ]
     },
     "execution_count": 10,
     "metadata": {},
     "output_type": "execute_result"
    }
   ],
   "source": [
    "display(A)\n",
    "L = graph_to_low_tri_mat(g)\n",
    "L"
   ]
  },
  {
   "cell_type": "code",
   "execution_count": null,
   "id": "f207e9ee",
   "metadata": {},
   "outputs": [],
   "source": []
  },
  {
   "cell_type": "code",
   "execution_count": 86,
   "id": "1949df41",
   "metadata": {},
   "outputs": [],
   "source": [
    "As = []\n",
    "for key in range(50):\n",
    "    A = jnp.eye(10, k=0)*random.randint(random.PRNGKey(key-1), [10], 0, 10) - jnp.eye(10, k=-1)*random.randint(random.PRNGKey(key-2), [10], 0, 10) - jnp.eye(10, k=1)*random.randint(random.PRNGKey(key-3), [10], 0, 10)\n",
    "    As.append(A)\n",
    "As = jnp.stack(As)"
   ]
  },
  {
   "cell_type": "code",
   "execution_count": 96,
   "id": "f0792715",
   "metadata": {},
   "outputs": [
    {
     "data": {
      "text/plain": [
       "(50, 10, 10)"
      ]
     },
     "execution_count": 96,
     "metadata": {},
     "output_type": "execute_result"
    }
   ],
   "source": [
    "As.shape"
   ]
  },
  {
   "cell_type": "code",
   "execution_count": 123,
   "id": "f4a079fc",
   "metadata": {},
   "outputs": [],
   "source": [
    "batch_size = 16\n",
    "\n",
    "n_samples = len(As)\n",
    "list_of_indices = jnp.arange(n_samples)\n",
    "bacth_num = n_samples // batch_size\n",
    "train_batch_indices = random.choice(random.PRNGKey(42), list_of_indices, shape=[bacth_num, batch_size])"
   ]
  },
  {
   "cell_type": "code",
   "execution_count": 101,
   "id": "c0fa4d12",
   "metadata": {},
   "outputs": [
    {
     "data": {
      "text/plain": [
       "(3, 16)"
      ]
     },
     "execution_count": 101,
     "metadata": {},
     "output_type": "execute_result"
    }
   ],
   "source": [
    "train_batch_indices.shape"
   ]
  },
  {
   "cell_type": "code",
   "execution_count": 102,
   "id": "fcc1c875",
   "metadata": {},
   "outputs": [],
   "source": [
    "abc = As[train_batch_indices, :, :]"
   ]
  },
  {
   "cell_type": "code",
   "execution_count": 103,
   "id": "bd30bbc8",
   "metadata": {},
   "outputs": [
    {
     "data": {
      "text/plain": [
       "(3, 16, 10, 10)"
      ]
     },
     "execution_count": 103,
     "metadata": {},
     "output_type": "execute_result"
    }
   ],
   "source": [
    "abc.shape"
   ]
  },
  {
   "cell_type": "code",
   "execution_count": 115,
   "id": "3f8b8f45",
   "metadata": {},
   "outputs": [
    {
     "data": {
      "text/plain": [
       "3"
      ]
     },
     "execution_count": 115,
     "metadata": {},
     "output_type": "execute_result"
    }
   ],
   "source": [
    "(len(As) // batch_size)"
   ]
  },
  {
   "cell_type": "code",
   "execution_count": 120,
   "id": "a97ca769",
   "metadata": {},
   "outputs": [
    {
     "data": {
      "text/plain": [
       "3"
      ]
     },
     "execution_count": 120,
     "metadata": {},
     "output_type": "execute_result"
    }
   ],
   "source": [
    "len(As) // batch_size"
   ]
  },
  {
   "cell_type": "code",
   "execution_count": 118,
   "id": "1a546b66",
   "metadata": {},
   "outputs": [],
   "source": [
    "abc = jnp.stack(jnp.array_split(As, len(As) // batch_size)[:-1])"
   ]
  },
  {
   "cell_type": "code",
   "execution_count": 125,
   "id": "a6eb7ad6",
   "metadata": {},
   "outputs": [
    {
     "name": "stdout",
     "output_type": "stream",
     "text": [
      "(17, 10, 10)\n",
      "(17, 10, 10)\n",
      "(16, 10, 10)\n"
     ]
    }
   ],
   "source": [
    "for i in jnp.array_split(As, len(As) // batch_size):\n",
    "    print(i.shape)"
   ]
  },
  {
   "cell_type": "code",
   "execution_count": 128,
   "id": "29c7d9b6",
   "metadata": {},
   "outputs": [],
   "source": [
    "c = As.shape[0] // batch_size\n",
    "keys = [value * c for value in range(50, 1000, 50)]\n",
    "values = [0.5, ] * len(keys)\n",
    "dict_lr = dict(zip(keys, values))"
   ]
  },
  {
   "cell_type": "code",
   "execution_count": 129,
   "id": "240d4a6a",
   "metadata": {},
   "outputs": [
    {
     "data": {
      "text/plain": [
       "{150: 0.5,\n",
       " 300: 0.5,\n",
       " 450: 0.5,\n",
       " 600: 0.5,\n",
       " 750: 0.5,\n",
       " 900: 0.5,\n",
       " 1050: 0.5,\n",
       " 1200: 0.5,\n",
       " 1350: 0.5,\n",
       " 1500: 0.5,\n",
       " 1650: 0.5,\n",
       " 1800: 0.5,\n",
       " 1950: 0.5,\n",
       " 2100: 0.5,\n",
       " 2250: 0.5,\n",
       " 2400: 0.5,\n",
       " 2550: 0.5,\n",
       " 2700: 0.5,\n",
       " 2850: 0.5}"
      ]
     },
     "execution_count": 129,
     "metadata": {},
     "output_type": "execute_result"
    }
   ],
   "source": [
    "dict_lr"
   ]
  },
  {
   "cell_type": "code",
   "execution_count": 132,
   "id": "eeebf4db",
   "metadata": {},
   "outputs": [
    {
     "data": {
      "text/plain": [
       "(10, 1, 10)"
      ]
     },
     "execution_count": 132,
     "metadata": {},
     "output_type": "execute_result"
    }
   ],
   "source": [
    "A[:, None, :].shape"
   ]
  },
  {
   "cell_type": "code",
   "execution_count": null,
   "id": "ad013f6e",
   "metadata": {},
   "outputs": [],
   "source": []
  },
  {
   "cell_type": "code",
   "execution_count": null,
   "id": "54645878",
   "metadata": {},
   "outputs": [],
   "source": []
  },
  {
   "cell_type": "code",
   "execution_count": null,
   "id": "f4bf7623",
   "metadata": {},
   "outputs": [],
   "source": []
  },
  {
   "cell_type": "code",
   "execution_count": null,
   "id": "9f2040cd",
   "metadata": {},
   "outputs": [],
   "source": []
  },
  {
   "cell_type": "code",
   "execution_count": 19,
   "id": "244ef532",
   "metadata": {},
   "outputs": [],
   "source": [
    "N_samples = 100000\n",
    "batch_size = 512\n",
    "n_batches = N_samples // batch_size\n",
    "\n",
    "list_of_indices = jnp.linspace(0, N_samples-1, N_samples, dtype=jnp.int64)\n",
    "\n",
    "n = random.choice(random.PRNGKey(42), list_of_indices, shape = (n_batches, batch_size))"
   ]
  },
  {
   "cell_type": "code",
   "execution_count": 34,
   "id": "e4cf442d",
   "metadata": {},
   "outputs": [
    {
     "data": {
      "text/plain": [
       "Array([6, 9, 3, 5, 7, 0, 4, 8, 2, 1], dtype=int32)"
      ]
     },
     "metadata": {},
     "output_type": "display_data"
    },
    {
     "data": {
      "text/plain": [
       "Array([[60, 61, 62, 63, 64, 65, 66, 67, 68, 69],\n",
       "       [90, 91, 92, 93, 94, 95, 96, 97, 98, 99],\n",
       "       [30, 31, 32, 33, 34, 35, 36, 37, 38, 39],\n",
       "       [50, 51, 52, 53, 54, 55, 56, 57, 58, 59],\n",
       "       [70, 71, 72, 73, 74, 75, 76, 77, 78, 79],\n",
       "       [ 0,  1,  2,  3,  4,  5,  6,  7,  8,  9],\n",
       "       [40, 41, 42, 43, 44, 45, 46, 47, 48, 49],\n",
       "       [80, 81, 82, 83, 84, 85, 86, 87, 88, 89],\n",
       "       [20, 21, 22, 23, 24, 25, 26, 27, 28, 29],\n",
       "       [10, 11, 12, 13, 14, 15, 16, 17, 18, 19]], dtype=int32)"
      ]
     },
     "execution_count": 34,
     "metadata": {},
     "output_type": "execute_result"
    }
   ],
   "source": [
    "a = jnp.arange(100).reshape(10, 10)\n",
    "b = jnp.arange(10).reshape(10)\n",
    "\n",
    "b = random.permutation(random.PRNGKey(32), b, axis=0)\n",
    "a = random.permutation(random.PRNGKey(32), a, axis=0)\n",
    "\n",
    "display(b)\n",
    "a"
   ]
  },
  {
   "cell_type": "code",
   "execution_count": 35,
   "id": "229287b5",
   "metadata": {},
   "outputs": [
    {
     "data": {
      "text/plain": [
       "10"
      ]
     },
     "execution_count": 35,
     "metadata": {},
     "output_type": "execute_result"
    }
   ],
   "source": [
    "len(a)"
   ]
  },
  {
   "cell_type": "code",
   "execution_count": null,
   "id": "d9250d82",
   "metadata": {},
   "outputs": [],
   "source": []
  },
  {
   "cell_type": "code",
   "execution_count": 7,
   "id": "22d1237f",
   "metadata": {},
   "outputs": [
    {
     "data": {
      "text/plain": [
       "Array([0, 0, 1, 1, 1, 2, 2, 2, 3, 3, 3, 4, 4, 5, 5, 6, 6, 6, 7, 7, 7, 8,\n",
       "       8, 8, 9, 9], dtype=int32)"
      ]
     },
     "metadata": {},
     "output_type": "display_data"
    },
    {
     "data": {
      "text/plain": [
       "Array([0, 1, 0, 1, 2, 1, 2, 3, 2, 3, 4, 3, 4, 5, 6, 5, 6, 7, 6, 7, 8, 7,\n",
       "       8, 9, 8, 9], dtype=int32)"
      ]
     },
     "execution_count": 7,
     "metadata": {},
     "output_type": "execute_result"
    }
   ],
   "source": [
    "display(check.senders)\n",
    "check.receivers"
   ]
  },
  {
   "cell_type": "code",
   "execution_count": 25,
   "id": "77f14a57",
   "metadata": {},
   "outputs": [
    {
     "data": {
      "text/plain": [
       "Array([0, 1, 0, 1, 2, 1, 2, 3, 2, 3, 4, 3, 4, 5, 6, 5, 6, 7, 6, 7, 8, 7,\n",
       "       8, 9, 8, 9], dtype=int32)"
      ]
     },
     "execution_count": 25,
     "metadata": {},
     "output_type": "execute_result"
    }
   ],
   "source": [
    "check.receivers"
   ]
  },
  {
   "cell_type": "code",
   "execution_count": 28,
   "id": "93fb2d6e",
   "metadata": {},
   "outputs": [
    {
     "data": {
      "text/plain": [
       "Array([3, 4], dtype=int32)"
      ]
     },
     "metadata": {},
     "output_type": "display_data"
    },
    {
     "data": {
      "text/plain": [
       "Array([0], dtype=int32)"
      ]
     },
     "execution_count": 28,
     "metadata": {},
     "output_type": "execute_result"
    }
   ],
   "source": [
    "a = check.receivers[check.senders == 4]\n",
    "display(a)\n",
    "jnp.nonzero(a==3)[0]"
   ]
  },
  {
   "cell_type": "code",
   "execution_count": 29,
   "id": "62e40edd",
   "metadata": {},
   "outputs": [
    {
     "data": {
      "text/plain": [
       "Array([0, 1, 0, 1, 2, 1, 2, 3, 2, 3, 4, 3, 4, 5, 6, 5, 6, 7, 6, 7, 8, 7,\n",
       "       8, 9, 8, 9], dtype=int32)"
      ]
     },
     "execution_count": 29,
     "metadata": {},
     "output_type": "execute_result"
    }
   ],
   "source": [
    "check.receivers"
   ]
  },
  {
   "cell_type": "code",
   "execution_count": 17,
   "id": "7bdf83cc",
   "metadata": {},
   "outputs": [
    {
     "data": {
      "text/plain": [
       "Array([0, 0, 1, 1, 1, 2, 2, 2, 3, 3, 3, 4, 4, 5, 5, 6, 6, 6, 7, 7, 7, 8,\n",
       "       8, 8, 9, 9], dtype=int32)"
      ]
     },
     "metadata": {},
     "output_type": "display_data"
    },
    {
     "data": {
      "text/plain": [
       "(Array([11, 12], dtype=int32),)"
      ]
     },
     "execution_count": 17,
     "metadata": {},
     "output_type": "execute_result"
    }
   ],
   "source": [
    "display(check.senders)\n",
    "jnp.nonzero(check.senders == 4)"
   ]
  },
  {
   "cell_type": "code",
   "execution_count": 20,
   "id": "e97883cc",
   "metadata": {},
   "outputs": [
    {
     "data": {
      "text/plain": [
       "Array(11, dtype=int32)"
      ]
     },
     "execution_count": 20,
     "metadata": {},
     "output_type": "execute_result"
    }
   ],
   "source": [
    "# First senders index\n",
    "jnp.nonzero(check.senders == 4)[0][0]\n",
    "\n",
    "# To what first edge is connected\n",
    "abc = check.receivers[check.senders == 4]\n",
    "\n",
    "# Index within first node connection\n",
    "jnp.nonzero(a==3)[0]"
   ]
  },
  {
   "cell_type": "code",
   "execution_count": null,
   "id": "a8474e8e",
   "metadata": {},
   "outputs": [],
   "source": []
  },
  {
   "cell_type": "code",
   "execution_count": null,
   "id": "60fc62c2",
   "metadata": {},
   "outputs": [],
   "source": []
  },
  {
   "cell_type": "code",
   "execution_count": null,
   "id": "340fac9b",
   "metadata": {},
   "outputs": [],
   "source": []
  },
  {
   "cell_type": "code",
   "execution_count": 18,
   "id": "d82c25ff",
   "metadata": {},
   "outputs": [
    {
     "data": {
      "text/plain": [
       "Array([0, 0, 1, 1, 1], dtype=int32)"
      ]
     },
     "execution_count": 18,
     "metadata": {},
     "output_type": "execute_result"
    }
   ],
   "source": [
    "a = jnp.vstack([check.senders, check.receivers]).T\n",
    "a[a == jnp.asarray([0, 1])]"
   ]
  },
  {
   "cell_type": "code",
   "execution_count": 107,
   "id": "d973bf78",
   "metadata": {},
   "outputs": [
    {
     "data": {
      "text/plain": [
       "Array([0, 0, 0, 0, 0, 0, 0, 0, 1, 1, 1, 0, 0, 0, 0, 0, 0, 0, 0, 0, 0, 0,\n",
       "       0, 0, 0, 0], dtype=int32)"
      ]
     },
     "execution_count": 107,
     "metadata": {},
     "output_type": "execute_result"
    }
   ],
   "source": [
    "(check.senders == 3).astype(int)"
   ]
  },
  {
   "cell_type": "code",
   "execution_count": 10,
   "id": "08751139",
   "metadata": {},
   "outputs": [
    {
     "data": {
      "text/plain": [
       "Array([2, 3, 4], dtype=int32)"
      ]
     },
     "execution_count": 10,
     "metadata": {},
     "output_type": "execute_result"
    }
   ],
   "source": [
    "check.receivers[check.senders == 3]"
   ]
  },
  {
   "cell_type": "code",
   "execution_count": 101,
   "id": "4d4c22b3",
   "metadata": {},
   "outputs": [
    {
     "data": {
      "text/plain": [
       "Array([ 8,  9, 10], dtype=int32)"
      ]
     },
     "metadata": {},
     "output_type": "display_data"
    },
    {
     "data": {
      "text/plain": [
       "Array([2, 3, 4], dtype=int32)"
      ]
     },
     "metadata": {},
     "output_type": "display_data"
    },
    {
     "data": {
      "text/plain": [
       "True"
      ]
     },
     "execution_count": 101,
     "metadata": {},
     "output_type": "execute_result"
    }
   ],
   "source": [
    "display(jnp.where(check.senders == 3)[0])\n",
    "display(check.receivers[jnp.where(check.senders == 3)[0]])\n",
    "2 in check.receivers[jnp.where(check.senders == 3)[0]]"
   ]
  },
  {
   "cell_type": "code",
   "execution_count": 4,
   "id": "3ba068ea",
   "metadata": {},
   "outputs": [],
   "source": [
    "def direc_graph_from_linear_system(A, b):\n",
    "    '''Matrix `A` should be sparse.'''\n",
    "    node_features = jnp.asarray(b)\n",
    "    senders, receivers = jnp.nonzero(A)\n",
    "    edge_features = A[senders, receivers]\n",
    "    n_node = jnp.array([len(node_features)])\n",
    "    n_edge = jnp.array([len(senders)])\n",
    "    graph = jraph.GraphsTuple(nodes=node_features, edges=edge_features, senders=senders,\n",
    "                              receivers=receivers, n_node=n_node, n_edge=n_edge, globals=None)\n",
    "    return graph"
   ]
  },
  {
   "cell_type": "code",
   "execution_count": 5,
   "id": "d9f3b766",
   "metadata": {},
   "outputs": [],
   "source": [
    "check = direc_graph_from_linear_system(A, b)"
   ]
  },
  {
   "cell_type": "code",
   "execution_count": 6,
   "id": "b3756955",
   "metadata": {},
   "outputs": [
    {
     "data": {
      "text/plain": [
       "GraphsTuple(nodes=Array([2, 4, 6, 0, 2, 0, 2, 2, 4, 4], dtype=int32), edges=Array([ 5., -1., -8.,  2., -8., -8.,  3., -5., -2.,  7., -8., -5.,  5.,\n",
       "        5., -6., -1.,  9., -2., -1.,  6., -5., -6.,  2., -1., -4.,  9.],      dtype=float32), receivers=Array([0, 1, 0, 1, 2, 1, 2, 3, 2, 3, 4, 3, 4, 5, 6, 5, 6, 7, 6, 7, 8, 7,\n",
       "       8, 9, 8, 9], dtype=int32), senders=Array([0, 0, 1, 1, 1, 2, 2, 2, 3, 3, 3, 4, 4, 5, 5, 6, 6, 6, 7, 7, 7, 8,\n",
       "       8, 8, 9, 9], dtype=int32), globals=None, n_node=Array([10], dtype=int32), n_edge=Array([26], dtype=int32))"
      ]
     },
     "execution_count": 6,
     "metadata": {},
     "output_type": "execute_result"
    }
   ],
   "source": [
    "check"
   ]
  },
  {
   "cell_type": "code",
   "execution_count": 21,
   "id": "efdf71e8",
   "metadata": {},
   "outputs": [
    {
     "data": {
      "text/plain": [
       "Array([[1, 2],\n",
       "       [2, 3],\n",
       "       [4, 5],\n",
       "       [2, 3]], dtype=int32)"
      ]
     },
     "execution_count": 21,
     "metadata": {},
     "output_type": "execute_result"
    }
   ],
   "source": [
    "re = jnp.stack(jnp.array([[1,2], [2, 3], [4,5], [2,3]]))\n",
    "re"
   ]
  },
  {
   "cell_type": "code",
   "execution_count": null,
   "id": "2675ee60",
   "metadata": {},
   "outputs": [],
   "source": []
  }
 ],
 "metadata": {
  "kernelspec": {
   "display_name": "Python 3 (ipykernel)",
   "language": "python",
   "name": "python3"
  },
  "language_info": {
   "codemirror_mode": {
    "name": "ipython",
    "version": 3
   },
   "file_extension": ".py",
   "mimetype": "text/x-python",
   "name": "python",
   "nbconvert_exporter": "python",
   "pygments_lexer": "ipython3",
   "version": "3.10.6"
  }
 },
 "nbformat": 4,
 "nbformat_minor": 5
}
