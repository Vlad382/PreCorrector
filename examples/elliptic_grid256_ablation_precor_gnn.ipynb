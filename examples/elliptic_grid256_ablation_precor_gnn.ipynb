{
 "cells": [
  {
   "cell_type": "code",
   "execution_count": 1,
   "id": "c8fbf28d",
   "metadata": {},
   "outputs": [],
   "source": [
    "import sys\n",
    "import os\n",
    "os.environ[\"CUDA_VISIBLE_DEVICES\"] = '2'\n",
    "os.environ['XLA_PYTHON_CLIENT_MEM_FRACTION'] = '.95'\n",
    "sys.path.append('/mnt/local/data/vtrifonov/prec-learning-Notay-loss/')"
   ]
  },
  {
   "cell_type": "code",
   "execution_count": 2,
   "id": "b6d28db3",
   "metadata": {},
   "outputs": [],
   "source": [
    "from copy import deepcopy\n",
    "\n",
    "import optax\n",
    "import numpy as np\n",
    "from sklearn.model_selection import ParameterGrid\n",
    "\n",
    "from utils import grid_script\n",
    "from config import default_precorrector_gnn_config\n",
    "from experiments.script_gnn_prec import script_gnn_prec"
   ]
  },
  {
   "cell_type": "code",
   "execution_count": 3,
   "id": "7a66147b",
   "metadata": {},
   "outputs": [
    {
     "name": "stderr",
     "output_type": "stream",
     "text": [
      "2025-01-25 10:13:52.638258: W external/xla/xla/service/gpu/nvptx_compiler.cc:760] The NVIDIA driver's CUDA version is 12.4 which is older than the ptxas CUDA version (12.5.40). Because the driver is older than the ptxas version, XLA is disabling parallel compilation, which may slow down compilation. You should update your NVIDIA driver or use the NVIDIA-provided CUDA forward compatibility packages.\n"
     ]
    },
    {
     "data": {
      "text/plain": [
       "Array([1.], dtype=float32)"
      ]
     },
     "execution_count": 3,
     "metadata": {},
     "output_type": "execute_result"
    }
   ],
   "source": [
    "import jax.numpy as jnp\n",
    "jnp.ones(1)"
   ]
  },
  {
   "cell_type": "code",
   "execution_count": 3,
   "id": "53ccfbd2",
   "metadata": {},
   "outputs": [],
   "source": [
    "seed = 42\n",
    "path = '/mnt/local/data/vtrifonov/prec-learning-Notay-loss/'\n",
    "folder = 'results_cases/23.01_elliptic_grid256_ablation_precor_gnn'"
   ]
  },
  {
   "cell_type": "code",
   "execution_count": 4,
   "id": "95b5fd2f",
   "metadata": {},
   "outputs": [],
   "source": [
    "data_config = {\n",
    "    'data_dir': path,\n",
    "    'pde': np.nan,\n",
    "    'grid': np.nan,\n",
    "    'variance': np.nan,\n",
    "    'lhs_type': np.nan,\n",
    "    'N_samples_train': 1000,\n",
    "    'N_samples_test': 200,\n",
    "    'fill_factor': 1,\n",
    "    'threshold': 1e-4\n",
    "}\n",
    "\n",
    "train_config = {\n",
    "    'model_type': 'precorrector_gnn',\n",
    "    'loss_type': np.nan,\n",
    "    'batch_size': 8,\n",
    "    'optimizer': optax.adam,\n",
    "    'lr': 1e-3,\n",
    "    'optim_params': {},\n",
    "    'epoch_num': np.nan\n",
    "}\n",
    "\n",
    "base_config = {\n",
    "    'path': path,\n",
    "    'folder_model': folder,\n",
    "    'folder_log': folder,\n",
    "    'name': np.nan,\n",
    "    'model_use': np.nan,\n",
    "    'save_model': True,\n",
    "    'cg_maxiter': np.nan,\n",
    "    'cg_atol': np.nan,\n",
    "    'data_config': data_config,\n",
    "    'model_config': np.nan,\n",
    "    'train_config': train_config,\n",
    "    'seed': seed\n",
    "}"
   ]
  },
  {
   "cell_type": "markdown",
   "id": "a6cfb982",
   "metadata": {},
   "source": [
    "# Div-k-grad"
   ]
  },
  {
   "cell_type": "code",
   "execution_count": 5,
   "id": "df0c8e7b",
   "metadata": {},
   "outputs": [],
   "source": [
    "# # Static diag PreCorrectorGNN. Nodes are not used, without node MLP\n",
    "# base_config['model_config'] = default_precorrector_gnn_config\n",
    "\n",
    "# params_grid = ParameterGrid({\n",
    "#     'model_use': ['train'],\n",
    "#     'cg_maxiter': [500],\n",
    "#     'cg_atol': [1e-12],\n",
    "#     'model_type': ['precorrector_gnn'],\n",
    "#     'loss_type': ['low_freq_loss'],\n",
    "#     'batch_size': [8],\n",
    "#     'lr': [1e-3],\n",
    "#     'epoch_num': [500],\n",
    "#     'pde': ['div_k_grad'],\n",
    "#     'grid': [256],\n",
    "#     'variance': [.5, .7, 1.1],\n",
    "#     'lhs_type': ['l_ic0', 'l_ict'],\n",
    "#     'fill_factor': [1],\n",
    "#     'threshold': [1e-4]\n",
    "# })\n",
    "\n",
    "# grid_script(script_gnn_prec, base_config, params_grid)"
   ]
  },
  {
   "cell_type": "code",
   "execution_count": null,
   "id": "8aebacce",
   "metadata": {},
   "outputs": [
    {
     "name": "stdout",
     "output_type": "stream",
     "text": [
      "Started: 0\n"
     ]
    },
    {
     "name": "stderr",
     "output_type": "stream",
     "text": [
      "2025-01-24 08:04:19.444510: W external/xla/xla/service/gpu/nvptx_compiler.cc:760] The NVIDIA driver's CUDA version is 12.4 which is older than the ptxas CUDA version (12.5.40). Because the driver is older than the ptxas version, XLA is disabling parallel compilation, which may slow down compilation. You should update your NVIDIA driver or use the NVIDIA-provided CUDA forward compatibility packages.\n",
      "[INFO | root | 2025-01-24 08:04:19] - %%%%%%%%%%%%%%%%%%%%%%%%%%%%%%%%%%%%%%%%%%%%%%%%%%%%%%%%%%%%%%%%%\n",
      "[INFO | root | 2025-01-24 08:04:19] - [GNN precs] script `6bweuz` started execution.\n",
      "[INFO | root | 2025-01-24 08:04:19] - Config: {'path': '/mnt/local/data/vtrifonov/prec-learning-Notay-loss/', 'folder_model': 'results_cases/23.01_elliptic_grid256_ablation_precor_gnn', 'folder_log': 'results_cases/23.01_elliptic_grid256_ablation_precor_gnn', 'name': '6bweuz', 'model_use': 'train', 'save_model': True, 'cg_maxiter': 500, 'cg_atol': 1e-12, 'data_config': {'data_dir': '/mnt/local/data/vtrifonov/prec-learning-Notay-loss/', 'pde': 'div_k_grad', 'grid': 256, 'variance': 0.5, 'lhs_type': 'l_ict', 'N_samples_train': 1000, 'N_samples_test': 200, 'fill_factor': 1, 'threshold': 0.0001}, 'model_config': {'layer_type': 'Conv1d', 'use_nodes': False, 'node_upd_mlp': False, 'static_diag': False, 'alpha': 0.0, 'edge_enc': {'features': [1, 16, 16], 'N_layers': 2}, 'edge_dec': {'features': [16, 16, 1], 'N_layers': 2}, 'mp': {'edge_upd': {'features': [18, 16, 16], 'N_layers': 2}, 'node_upd': {'features': [17, 1, 1], 'N_layers': 2}, 'mp_rounds': 5, 'aggregate_edges': 'min'}}, 'train_config': {'model_type': 'precorrector_gnn', 'loss_type': 'low_freq_loss', 'batch_size': 8, 'optimizer': <function adam at 0x7f1edee1e9e0>, 'lr': 0.001, 'optim_params': {}, 'epoch_num': 500}, 'seed': 42}.\n",
      "\n",
      "[INFO | root | 2025-01-24 08:05:14] - Data is loaded in 5.498e+01 sec.\n",
      "\n"
     ]
    }
   ],
   "source": [
    "# Not static diag PreCorrectorGNN. Nodes are not used, without node MLP\n",
    "notstatic_precorrector_gnn_config = deepcopy(default_precorrector_gnn_config)\n",
    "notstatic_precorrector_gnn_config['static_diag'] = False\n",
    "notstatic_precorrector_gnn_config['mp']['mp_rounds'] = 5\n",
    "base_config['model_config'] = notstatic_precorrector_gnn_config\n",
    "\n",
    "params_grid = ParameterGrid({\n",
    "    'model_use': ['train'],\n",
    "    'cg_maxiter': [500],\n",
    "    'cg_atol': [1e-12],\n",
    "    'model_type': ['precorrector_gnn'],\n",
    "    'loss_type': ['low_freq_loss'],\n",
    "    'batch_size': [8],\n",
    "    'lr': [1e-3],\n",
    "    'epoch_num': [500],\n",
    "    'pde': ['div_k_grad'],\n",
    "    'grid': [256],\n",
    "    'variance': [.5, .7, 1.1],\n",
    "    'lhs_type': ['l_ict'],\n",
    "    'fill_factor': [1],\n",
    "    'threshold': [1e-4]\n",
    "})\n",
    "\n",
    "grid_script(script_gnn_prec, base_config, params_grid)"
   ]
  },
  {
   "cell_type": "code",
   "execution_count": null,
   "id": "5a4447b5",
   "metadata": {},
   "outputs": [],
   "source": [
    "# Not static diag PreCorrectorGNN. Nodes are not used, without node MLP\n",
    "notstatic_precorrector_gnn_config = deepcopy(default_precorrector_gnn_config)\n",
    "notstatic_precorrector_gnn_config['static_diag'] = False\n",
    "notstatic_precorrector_gnn_config['mp']['mp_rounds'] = 7\n",
    "base_config['model_config'] = notstatic_precorrector_gnn_config\n",
    "\n",
    "params_grid = ParameterGrid({\n",
    "    'model_use': ['train'],\n",
    "    'cg_maxiter': [500],\n",
    "    'cg_atol': [1e-12],\n",
    "    'model_type': ['precorrector_gnn'],\n",
    "    'loss_type': ['low_freq_loss'],\n",
    "    'batch_size': [8],\n",
    "    'lr': [1e-3],\n",
    "    'epoch_num': [500],\n",
    "    'pde': ['div_k_grad'],\n",
    "    'grid': [256],\n",
    "    'variance': [.5, .7, 1.1],\n",
    "    'lhs_type': ['l_ic0'],\n",
    "    'fill_factor': [1],\n",
    "    'threshold': [1e-4]\n",
    "})\n",
    "\n",
    "grid_script(script_gnn_prec, base_config, params_grid)"
   ]
  },
  {
   "cell_type": "markdown",
   "id": "3607f802",
   "metadata": {},
   "source": [
    "# Poisson"
   ]
  },
  {
   "cell_type": "code",
   "execution_count": null,
   "id": "0f0cb499",
   "metadata": {},
   "outputs": [],
   "source": [
    "# # Static diag PreCorrectorGNN. Nodes are not used, without node MLP\n",
    "# base_config['model_config'] = default_precorrector_gnn_config\n",
    "\n",
    "# params_grid = ParameterGrid({\n",
    "#     'model_use': ['train'],\n",
    "#     'cg_maxiter': [500],\n",
    "#     'cg_atol': [1e-12],\n",
    "#     'model_type': ['precorrector_gnn'],\n",
    "#     'loss_type': ['low_freq_loss'],\n",
    "#     'batch_size': [8],\n",
    "#     'lr': [1e-3],\n",
    "#     'epoch_num': [500],\n",
    "#     'pde': ['poisson'],\n",
    "#     'grid': [256],\n",
    "#     'variance': [.5],\n",
    "#     'lhs_type': ['l_ic0', 'l_ict'],\n",
    "#     'fill_factor': [1],\n",
    "#     'threshold': [1e-4]\n",
    "# })\n",
    "\n",
    "# grid_script(script_gnn_prec, base_config, params_grid)"
   ]
  },
  {
   "cell_type": "code",
   "execution_count": null,
   "id": "8c20aebb",
   "metadata": {},
   "outputs": [],
   "source": [
    "# # Not static diag PreCorrectorGNN. Nodes are not used, without node MLP\n",
    "# notstatic_precorrector_gnn_config = deepcopy(default_precorrector_gnn_config)\n",
    "# notstatic_precorrector_gnn_config['static_diag'] = False\n",
    "# base_config['model_config'] = notstatic_precorrector_gnn_config\n",
    "\n",
    "# params_grid = ParameterGrid({\n",
    "#     'model_use': ['train'],\n",
    "#     'cg_maxiter': [500],\n",
    "#     'cg_atol': [1e-12],\n",
    "#     'model_type': ['precorrector_gnn'],\n",
    "#     'loss_type': ['low_freq_loss'],\n",
    "#     'batch_size': [8],\n",
    "#     'lr': [1e-3],\n",
    "#     'epoch_num': [500],\n",
    "#     'pde': ['poisson'],\n",
    "#     'grid': [256],\n",
    "#     'variance': [.5],\n",
    "#     'lhs_type': ['l_ic0', 'l_ict'],\n",
    "#     'fill_factor': [1],\n",
    "#     'threshold': [1e-4]\n",
    "# })\n",
    "\n",
    "# grid_script(script_gnn_prec, base_config, params_grid)"
   ]
  },
  {
   "cell_type": "code",
   "execution_count": null,
   "id": "65ef6c37",
   "metadata": {},
   "outputs": [],
   "source": [
    "exit()"
   ]
  },
  {
   "cell_type": "code",
   "execution_count": null,
   "id": "ae66f154",
   "metadata": {},
   "outputs": [],
   "source": []
  }
 ],
 "metadata": {
  "kernelspec": {
   "display_name": "Python 3 (ipykernel)",
   "language": "python",
   "name": "python3"
  },
  "language_info": {
   "codemirror_mode": {
    "name": "ipython",
    "version": 3
   },
   "file_extension": ".py",
   "mimetype": "text/x-python",
   "name": "python",
   "nbconvert_exporter": "python",
   "pygments_lexer": "ipython3",
   "version": "3.10.6"
  }
 },
 "nbformat": 4,
 "nbformat_minor": 5
}
