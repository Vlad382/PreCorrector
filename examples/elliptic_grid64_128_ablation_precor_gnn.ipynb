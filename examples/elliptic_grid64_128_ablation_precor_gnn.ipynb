{
 "cells": [
  {
   "cell_type": "code",
   "execution_count": 1,
   "id": "9054ea3c",
   "metadata": {},
   "outputs": [],
   "source": [
    "import sys\n",
    "import os\n",
    "os.environ[\"CUDA_VISIBLE_DEVICES\"] = '2'\n",
    "os.environ['XLA_PYTHON_CLIENT_MEM_FRACTION'] = '.95'\n",
    "sys.path.append('/mnt/local/data/vtrifonov/prec-learning-Notay-loss/')"
   ]
  },
  {
   "cell_type": "code",
   "execution_count": 2,
   "id": "326829a1",
   "metadata": {},
   "outputs": [],
   "source": [
    "from copy import deepcopy\n",
    "\n",
    "import optax\n",
    "import numpy as np\n",
    "from sklearn.model_selection import ParameterGrid\n",
    "\n",
    "from utils import grid_script\n",
    "from config import default_precorrector_gnn_config\n",
    "from experiments.script_gnn_prec import script_gnn_prec"
   ]
  },
  {
   "cell_type": "code",
   "execution_count": 3,
   "id": "fdbfeb17",
   "metadata": {},
   "outputs": [],
   "source": [
    "seed = 42\n",
    "path = '/mnt/local/data/vtrifonov/prec-learning-Notay-loss/'\n",
    "folder = 'results_cases/22.01_elliptic_grid64_128_ablation_precor_gnn'"
   ]
  },
  {
   "cell_type": "code",
   "execution_count": 4,
   "id": "989d27fb",
   "metadata": {},
   "outputs": [],
   "source": [
    "data_config = {\n",
    "    'data_dir': path,\n",
    "    'pde': np.nan,\n",
    "    'grid': np.nan,\n",
    "    'variance': np.nan,\n",
    "    'lhs_type': np.nan,\n",
    "    'N_samples_train': 1000,\n",
    "    'N_samples_test': 200,\n",
    "    'fill_factor': 1,\n",
    "    'threshold': 1e-4\n",
    "}\n",
    "\n",
    "train_config = {\n",
    "    'model_type': 'precorrector_gnn',\n",
    "    'loss_type': np.nan,\n",
    "    'batch_size': 8,\n",
    "    'optimizer': optax.adam,\n",
    "    'lr': 1e-3,\n",
    "    'optim_params': {},\n",
    "    'epoch_num': 500\n",
    "}\n",
    "\n",
    "base_config = {\n",
    "    'path': path,\n",
    "    'folder_model': folder,\n",
    "    'folder_log': folder,\n",
    "    'name': np.nan,\n",
    "    'model_use': np.nan,\n",
    "    'save_model': True,\n",
    "    'cg_maxiter': np.nan,\n",
    "    'cg_atol': np.nan,\n",
    "    'data_config': data_config,\n",
    "    'model_config': np.nan,\n",
    "    'train_config': train_config,\n",
    "    'seed': seed\n",
    "}"
   ]
  },
  {
   "cell_type": "markdown",
   "id": "780b37de",
   "metadata": {},
   "source": [
    "# Div-k-grad"
   ]
  },
  {
   "cell_type": "code",
   "execution_count": null,
   "id": "eda3c9ad",
   "metadata": {
    "collapsed": true,
    "jupyter": {
     "outputs_hidden": true
    }
   },
   "outputs": [
    {
     "name": "stdout",
     "output_type": "stream",
     "text": [
      "Started: 0\n"
     ]
    },
    {
     "name": "stderr",
     "output_type": "stream",
     "text": [
      "2025-01-22 11:41:41.471792: W external/xla/xla/service/gpu/nvptx_compiler.cc:760] The NVIDIA driver's CUDA version is 12.4 which is older than the ptxas CUDA version (12.5.40). Because the driver is older than the ptxas version, XLA is disabling parallel compilation, which may slow down compilation. You should update your NVIDIA driver or use the NVIDIA-provided CUDA forward compatibility packages.\n",
      "[INFO | root | 2025-01-22 11:41:42] - %%%%%%%%%%%%%%%%%%%%%%%%%%%%%%%%%%%%%%%%%%%%%%%%%%%%%%%%%%%%%%%%%\n",
      "[INFO | root | 2025-01-22 11:41:42] - [GNN precs] script `e8d3q1` started execution.\n",
      "[INFO | root | 2025-01-22 11:41:42] - Config: {'path': '/mnt/local/data/vtrifonov/prec-learning-Notay-loss/', 'folder': 'results_cases/22.01_elliptic_grid64_128_ablation_precor_gnn', 'name': 'e8d3q1', 'model_use': 'train', 'save_model': True, 'cg_maxiter': 500, 'cg_atol': 1e-12, 'data_config': {'data_dir': '/mnt/local/data/vtrifonov/prec-learning-Notay-loss/', 'pde': 'div_k_grad', 'grid': 64, 'variance': 0.5, 'lhs_type': 'l_ic0', 'N_samples_train': 1000, 'N_samples_test': 200, 'fill_factor': 1, 'threshold': 0.0001}, 'model_config': {'layer_type': 'Conv1d', 'use_nodes': False, 'node_upd_mlp': False, 'static_diag': True, 'alpha': 0.0, 'edge_enc': {'features': [1, 16, 16], 'N_layers': 2}, 'edge_dec': {'features': [16, 16, 1], 'N_layers': 2}, 'mp': {'edge_upd': {'features': [18, 16, 16], 'N_layers': 2}, 'node_upd': {'features': [17, 1, 1], 'N_layers': 2}, 'mp_rounds': 5, 'aggregate_edges': 'min'}}, 'train_config': {'model_type': 'precorrector_gnn', 'loss_type': 'low_freq_loss', 'batch_size': 8, 'optimizer': <function adam at 0x7fdeb47b69e0>, 'lr': 0.001, 'optim_params': {}, 'epoch_num': 500}, 'seed': 42}.\n",
      "\n",
      "[INFO | root | 2025-01-22 11:42:02] - Data is loaded in 2.013e+01 sec.\n",
      "\n",
      "[INFO | root | 2025-01-22 11:47:12] - Model is trained in 3.108e+02 sec.\n",
      "[INFO | root | 2025-01-22 11:47:12] - PreCorrector's alpha = 0.0608.\n",
      "[INFO | root | 2025-01-22 11:47:13] - First and last losses: train = [1.889e+04, 5.057e+02], test = [5.170e+03, 5.085e+02].\n",
      "\n",
      "[INFO | root | 2025-01-22 11:47:19] - Precs are combined:\n",
      "[INFO | root | 2025-01-22 11:47:19] -  GNN prec construction time (sec) : mean = 3.231e-04, std = 1.287e-05.\n",
      "\n",
      "[INFO | root | 2025-01-22 11:48:12] - CG with GNN is finished:\n",
      "[INFO | root | 2025-01-22 11:48:12] -  iterations to atol([mean, std]): {0.001: [45.3, 2.1], 1e-06: [58.1, 2.32], 1e-09: [69.8, 2.56], 1e-12: [81.2, 2.88]};\n",
      "[INFO | root | 2025-01-22 11:48:12] -  time to atol([mean, std]): {0.001: [0.1405, 0.01027], 1e-06: [0.1797, 0.01259], 1e-09: [0.2157, 0.0146], 1e-12: [0.2507, 0.01671]};\n",
      "[INFO | root | 2025-01-22 11:48:12] -  number of linsystems for which CG did not conerge to atol: {0.001: 0, 1e-06: 0, 1e-09: 0, 1e-12: 0}.\n",
      "\n",
      "[INFO | root | 2025-01-22 11:48:12] - [GNN precs] script `e8d3q1` finished execution.\n",
      "\n",
      "\n",
      "\n",
      "[INFO | root | 2025-01-22 11:48:12] - %%%%%%%%%%%%%%%%%%%%%%%%%%%%%%%%%%%%%%%%%%%%%%%%%%%%%%%%%%%%%%%%%\n",
      "[INFO | root | 2025-01-22 11:48:12] - [GNN precs] script `ouakrb` started execution.\n",
      "[INFO | root | 2025-01-22 11:48:12] - Config: {'path': '/mnt/local/data/vtrifonov/prec-learning-Notay-loss/', 'folder': 'results_cases/22.01_elliptic_grid64_128_ablation_precor_gnn', 'name': 'ouakrb', 'model_use': 'train', 'save_model': True, 'cg_maxiter': 500, 'cg_atol': 1e-12, 'data_config': {'data_dir': '/mnt/local/data/vtrifonov/prec-learning-Notay-loss/', 'pde': 'div_k_grad', 'grid': 64, 'variance': 0.7, 'lhs_type': 'l_ic0', 'N_samples_train': 1000, 'N_samples_test': 200, 'fill_factor': 1, 'threshold': 0.0001}, 'model_config': {'layer_type': 'Conv1d', 'use_nodes': False, 'node_upd_mlp': False, 'static_diag': True, 'alpha': 0.0, 'edge_enc': {'features': [1, 16, 16], 'N_layers': 2}, 'edge_dec': {'features': [16, 16, 1], 'N_layers': 2}, 'mp': {'edge_upd': {'features': [18, 16, 16], 'N_layers': 2}, 'node_upd': {'features': [17, 1, 1], 'N_layers': 2}, 'mp_rounds': 5, 'aggregate_edges': 'min'}}, 'train_config': {'model_type': 'precorrector_gnn', 'loss_type': 'low_freq_loss', 'batch_size': 8, 'optimizer': <function adam at 0x7fdeb47b69e0>, 'lr': 0.001, 'optim_params': {}, 'epoch_num': 500}, 'seed': 42}.\n",
      "\n"
     ]
    },
    {
     "name": "stdout",
     "output_type": "stream",
     "text": [
      "Started: 1\n"
     ]
    },
    {
     "name": "stderr",
     "output_type": "stream",
     "text": [
      "[INFO | root | 2025-01-22 11:48:30] - Data is loaded in 1.788e+01 sec.\n",
      "\n",
      "[INFO | root | 2025-01-22 11:53:37] - Model is trained in 3.068e+02 sec.\n",
      "[INFO | root | 2025-01-22 11:53:37] - PreCorrector's alpha = 0.0592.\n",
      "[INFO | root | 2025-01-22 11:53:37] - First and last losses: train = [3.914e+04, 5.731e+02], test = [7.563e+03, 5.397e+02].\n",
      "\n",
      "[INFO | root | 2025-01-22 11:53:41] - Precs are combined:\n",
      "[INFO | root | 2025-01-22 11:53:41] -  GNN prec construction time (sec) : mean = 4.926e-04, std = 8.492e-06.\n",
      "\n",
      "[INFO | root | 2025-01-22 11:54:39] - CG with GNN is finished:\n",
      "[INFO | root | 2025-01-22 11:54:39] -  iterations to atol([mean, std]): {0.001: [50.5, 2.69], 1e-06: [64.7, 3.12], 1e-09: [77.8, 3.5], 1e-12: [90.5, 3.89]};\n",
      "[INFO | root | 2025-01-22 11:54:39] -  time to atol([mean, std]): {0.001: [0.1586, 0.00834], 1e-06: [0.2026, 0.00967], 1e-09: [0.2435, 0.01082], 1e-12: [0.283, 0.01204]};\n",
      "[INFO | root | 2025-01-22 11:54:39] -  number of linsystems for which CG did not conerge to atol: {0.001: 0, 1e-06: 0, 1e-09: 0, 1e-12: 0}.\n",
      "\n",
      "[INFO | root | 2025-01-22 11:54:39] - [GNN precs] script `ouakrb` finished execution.\n",
      "\n",
      "\n",
      "\n",
      "[INFO | root | 2025-01-22 11:54:40] - %%%%%%%%%%%%%%%%%%%%%%%%%%%%%%%%%%%%%%%%%%%%%%%%%%%%%%%%%%%%%%%%%\n",
      "[INFO | root | 2025-01-22 11:54:40] - [GNN precs] script `3kdsoi` started execution.\n",
      "[INFO | root | 2025-01-22 11:54:40] - Config: {'path': '/mnt/local/data/vtrifonov/prec-learning-Notay-loss/', 'folder': 'results_cases/22.01_elliptic_grid64_128_ablation_precor_gnn', 'name': '3kdsoi', 'model_use': 'train', 'save_model': True, 'cg_maxiter': 500, 'cg_atol': 1e-12, 'data_config': {'data_dir': '/mnt/local/data/vtrifonov/prec-learning-Notay-loss/', 'pde': 'div_k_grad', 'grid': 64, 'variance': 1.1, 'lhs_type': 'l_ic0', 'N_samples_train': 1000, 'N_samples_test': 200, 'fill_factor': 1, 'threshold': 0.0001}, 'model_config': {'layer_type': 'Conv1d', 'use_nodes': False, 'node_upd_mlp': False, 'static_diag': True, 'alpha': 0.0, 'edge_enc': {'features': [1, 16, 16], 'N_layers': 2}, 'edge_dec': {'features': [16, 16, 1], 'N_layers': 2}, 'mp': {'edge_upd': {'features': [18, 16, 16], 'N_layers': 2}, 'node_upd': {'features': [17, 1, 1], 'N_layers': 2}, 'mp_rounds': 5, 'aggregate_edges': 'min'}}, 'train_config': {'model_type': 'precorrector_gnn', 'loss_type': 'low_freq_loss', 'batch_size': 8, 'optimizer': <function adam at 0x7fdeb47b69e0>, 'lr': 0.001, 'optim_params': {}, 'epoch_num': 500}, 'seed': 42}.\n",
      "\n"
     ]
    },
    {
     "name": "stdout",
     "output_type": "stream",
     "text": [
      "Started: 2\n"
     ]
    },
    {
     "name": "stderr",
     "output_type": "stream",
     "text": [
      "[INFO | root | 2025-01-22 11:54:58] - Data is loaded in 1.806e+01 sec.\n",
      "\n",
      "[INFO | root | 2025-01-22 12:00:04] - Model is trained in 3.068e+02 sec.\n",
      "[INFO | root | 2025-01-22 12:00:04] - PreCorrector's alpha = 0.0462.\n",
      "[INFO | root | 2025-01-22 12:00:04] - First and last losses: train = [6.058e+04, 6.567e+02], test = [2.697e+04, 6.569e+02].\n",
      "\n",
      "[INFO | root | 2025-01-22 12:00:08] - Precs are combined:\n",
      "[INFO | root | 2025-01-22 12:00:08] -  GNN prec construction time (sec) : mean = 4.471e-04, std = 8.813e-06.\n",
      "\n",
      "[INFO | root | 2025-01-22 12:00:58] - CG with GNN is finished:\n",
      "[INFO | root | 2025-01-22 12:00:58] -  iterations to atol([mean, std]): {0.001: [59.5, 3.32], 1e-06: [76.6, 4.04], 1e-09: [92.9, 4.87], 1e-12: [109.0, 5.81]};\n",
      "[INFO | root | 2025-01-22 12:00:58] -  time to atol([mean, std]): {0.001: [0.1318, 0.00735], 1e-06: [0.1692, 0.00891], 1e-09: [0.2046, 0.01066], 1e-12: [0.2397, 0.01267]};\n",
      "[INFO | root | 2025-01-22 12:00:58] -  number of linsystems for which CG did not conerge to atol: {0.001: 0, 1e-06: 0, 1e-09: 0, 1e-12: 0}.\n",
      "\n",
      "[INFO | root | 2025-01-22 12:00:58] - [GNN precs] script `3kdsoi` finished execution.\n",
      "\n",
      "\n",
      "\n",
      "[INFO | root | 2025-01-22 12:00:58] - %%%%%%%%%%%%%%%%%%%%%%%%%%%%%%%%%%%%%%%%%%%%%%%%%%%%%%%%%%%%%%%%%\n",
      "[INFO | root | 2025-01-22 12:00:58] - [GNN precs] script `cjr0m0` started execution.\n",
      "[INFO | root | 2025-01-22 12:00:58] - Config: {'path': '/mnt/local/data/vtrifonov/prec-learning-Notay-loss/', 'folder': 'results_cases/22.01_elliptic_grid64_128_ablation_precor_gnn', 'name': 'cjr0m0', 'model_use': 'train', 'save_model': True, 'cg_maxiter': 500, 'cg_atol': 1e-12, 'data_config': {'data_dir': '/mnt/local/data/vtrifonov/prec-learning-Notay-loss/', 'pde': 'div_k_grad', 'grid': 64, 'variance': 0.5, 'lhs_type': 'l_ic0', 'N_samples_train': 1000, 'N_samples_test': 200, 'fill_factor': 1, 'threshold': 0.0001}, 'model_config': {'layer_type': 'Conv1d', 'use_nodes': False, 'node_upd_mlp': False, 'static_diag': True, 'alpha': 0.0, 'edge_enc': {'features': [1, 16, 16], 'N_layers': 2}, 'edge_dec': {'features': [16, 16, 1], 'N_layers': 2}, 'mp': {'edge_upd': {'features': [18, 16, 16], 'N_layers': 2}, 'node_upd': {'features': [17, 1, 1], 'N_layers': 2}, 'mp_rounds': 5, 'aggregate_edges': 'min'}}, 'train_config': {'model_type': 'precorrector_gnn', 'loss_type': 'high_freq_loss', 'batch_size': 8, 'optimizer': <function adam at 0x7fdeb47b69e0>, 'lr': 0.001, 'optim_params': {}, 'epoch_num': 500}, 'seed': 42}.\n",
      "\n"
     ]
    },
    {
     "name": "stdout",
     "output_type": "stream",
     "text": [
      "Started: 3\n"
     ]
    },
    {
     "name": "stderr",
     "output_type": "stream",
     "text": [
      "[INFO | root | 2025-01-22 12:01:16] - Data is loaded in 1.786e+01 sec.\n",
      "\n",
      "[INFO | root | 2025-01-22 12:06:27] - Model is trained in 3.111e+02 sec.\n",
      "[INFO | root | 2025-01-22 12:06:27] - PreCorrector's alpha = -0.0556.\n",
      "[INFO | root | 2025-01-22 12:06:27] - First and last losses: train = [2.793e+10, 2.631e+10], test = [2.714e+10, 2.634e+10].\n",
      "\n",
      "[INFO | root | 2025-01-22 12:06:31] - Precs are combined:\n",
      "[INFO | root | 2025-01-22 12:06:31] -  GNN prec construction time (sec) : mean = 5.377e-04, std = 1.019e-05.\n",
      "\n",
      "[INFO | root | 2025-01-22 12:08:01] - CG with GNN is finished:\n",
      "[INFO | root | 2025-01-22 12:08:01] -  iterations to atol([mean, std]): {0.001: [83.4, 2.65], 1e-06: [106.3, 2.41], 1e-09: [124.9, 2.47], 1e-12: [141.1, 2.55]};\n",
      "[INFO | root | 2025-01-22 12:08:01] -  time to atol([mean, std]): {0.001: [0.2596, 0.02831], 1e-06: [0.33, 0.03447], 1e-09: [0.3874, 0.03993], 1e-12: [0.4373, 0.04483]};\n",
      "[INFO | root | 2025-01-22 12:08:01] -  number of linsystems for which CG did not conerge to atol: {0.001: 0, 1e-06: 0, 1e-09: 0, 1e-12: 0}.\n",
      "\n",
      "[INFO | root | 2025-01-22 12:08:01] - [GNN precs] script `cjr0m0` finished execution.\n",
      "\n",
      "\n",
      "\n",
      "[INFO | root | 2025-01-22 12:08:01] - %%%%%%%%%%%%%%%%%%%%%%%%%%%%%%%%%%%%%%%%%%%%%%%%%%%%%%%%%%%%%%%%%\n",
      "[INFO | root | 2025-01-22 12:08:01] - [GNN precs] script `p2m0vq` started execution.\n",
      "[INFO | root | 2025-01-22 12:08:01] - Config: {'path': '/mnt/local/data/vtrifonov/prec-learning-Notay-loss/', 'folder': 'results_cases/22.01_elliptic_grid64_128_ablation_precor_gnn', 'name': 'p2m0vq', 'model_use': 'train', 'save_model': True, 'cg_maxiter': 500, 'cg_atol': 1e-12, 'data_config': {'data_dir': '/mnt/local/data/vtrifonov/prec-learning-Notay-loss/', 'pde': 'div_k_grad', 'grid': 64, 'variance': 0.7, 'lhs_type': 'l_ic0', 'N_samples_train': 1000, 'N_samples_test': 200, 'fill_factor': 1, 'threshold': 0.0001}, 'model_config': {'layer_type': 'Conv1d', 'use_nodes': False, 'node_upd_mlp': False, 'static_diag': True, 'alpha': 0.0, 'edge_enc': {'features': [1, 16, 16], 'N_layers': 2}, 'edge_dec': {'features': [16, 16, 1], 'N_layers': 2}, 'mp': {'edge_upd': {'features': [18, 16, 16], 'N_layers': 2}, 'node_upd': {'features': [17, 1, 1], 'N_layers': 2}, 'mp_rounds': 5, 'aggregate_edges': 'min'}}, 'train_config': {'model_type': 'precorrector_gnn', 'loss_type': 'high_freq_loss', 'batch_size': 8, 'optimizer': <function adam at 0x7fdeb47b69e0>, 'lr': 0.001, 'optim_params': {}, 'epoch_num': 500}, 'seed': 42}.\n",
      "\n"
     ]
    },
    {
     "name": "stdout",
     "output_type": "stream",
     "text": [
      "Started: 4\n"
     ]
    },
    {
     "name": "stderr",
     "output_type": "stream",
     "text": [
      "[INFO | root | 2025-01-22 12:08:20] - Data is loaded in 1.911e+01 sec.\n",
      "\n",
      "[INFO | root | 2025-01-22 12:13:29] - Model is trained in 3.090e+02 sec.\n",
      "[INFO | root | 2025-01-22 12:13:29] - PreCorrector's alpha = -0.0560.\n",
      "[INFO | root | 2025-01-22 12:13:29] - First and last losses: train = [4.372e+10, 4.123e+10], test = [4.117e+10, 4.160e+10].\n",
      "\n",
      "[INFO | root | 2025-01-22 12:13:32] - Precs are combined:\n",
      "[INFO | root | 2025-01-22 12:13:32] -  GNN prec construction time (sec) : mean = 4.582e-04, std = 9.327e-06.\n",
      "\n",
      "[INFO | root | 2025-01-22 12:15:10] - CG with GNN is finished:\n",
      "[INFO | root | 2025-01-22 12:15:10] -  iterations to atol([mean, std]): {0.001: [88.1, 3.42], 1e-06: [111.5, 3.51], 1e-09: [130.4, 3.4], 1e-12: [146.6, 3.31]};\n",
      "[INFO | root | 2025-01-22 12:15:10] -  time to atol([mean, std]): {0.001: [0.2869, 0.01104], 1e-06: [0.3629, 0.01134], 1e-09: [0.4241, 0.01096], 1e-12: [0.4765, 0.0107]};\n",
      "[INFO | root | 2025-01-22 12:15:10] -  number of linsystems for which CG did not conerge to atol: {0.001: 0, 1e-06: 0, 1e-09: 0, 1e-12: 0}.\n",
      "\n",
      "[INFO | root | 2025-01-22 12:15:10] - [GNN precs] script `p2m0vq` finished execution.\n",
      "\n",
      "\n",
      "\n",
      "[INFO | root | 2025-01-22 12:15:10] - %%%%%%%%%%%%%%%%%%%%%%%%%%%%%%%%%%%%%%%%%%%%%%%%%%%%%%%%%%%%%%%%%\n",
      "[INFO | root | 2025-01-22 12:15:10] - [GNN precs] script `0e15eg` started execution.\n",
      "[INFO | root | 2025-01-22 12:15:10] - Config: {'path': '/mnt/local/data/vtrifonov/prec-learning-Notay-loss/', 'folder': 'results_cases/22.01_elliptic_grid64_128_ablation_precor_gnn', 'name': '0e15eg', 'model_use': 'train', 'save_model': True, 'cg_maxiter': 500, 'cg_atol': 1e-12, 'data_config': {'data_dir': '/mnt/local/data/vtrifonov/prec-learning-Notay-loss/', 'pde': 'div_k_grad', 'grid': 64, 'variance': 1.1, 'lhs_type': 'l_ic0', 'N_samples_train': 1000, 'N_samples_test': 200, 'fill_factor': 1, 'threshold': 0.0001}, 'model_config': {'layer_type': 'Conv1d', 'use_nodes': False, 'node_upd_mlp': False, 'static_diag': True, 'alpha': 0.0, 'edge_enc': {'features': [1, 16, 16], 'N_layers': 2}, 'edge_dec': {'features': [16, 16, 1], 'N_layers': 2}, 'mp': {'edge_upd': {'features': [18, 16, 16], 'N_layers': 2}, 'node_upd': {'features': [17, 1, 1], 'N_layers': 2}, 'mp_rounds': 5, 'aggregate_edges': 'min'}}, 'train_config': {'model_type': 'precorrector_gnn', 'loss_type': 'high_freq_loss', 'batch_size': 8, 'optimizer': <function adam at 0x7fdeb47b69e0>, 'lr': 0.001, 'optim_params': {}, 'epoch_num': 500}, 'seed': 42}.\n",
      "\n"
     ]
    },
    {
     "name": "stdout",
     "output_type": "stream",
     "text": [
      "Started: 5\n"
     ]
    },
    {
     "name": "stderr",
     "output_type": "stream",
     "text": [
      "[INFO | root | 2025-01-22 12:15:29] - Data is loaded in 1.882e+01 sec.\n",
      "\n",
      "[INFO | root | 2025-01-22 12:20:39] - Model is trained in 3.098e+02 sec.\n",
      "[INFO | root | 2025-01-22 12:20:39] - PreCorrector's alpha = -0.0496.\n",
      "[INFO | root | 2025-01-22 12:20:39] - First and last losses: train = [8.281e+10, 7.622e+10], test = [7.982e+10, 7.716e+10].\n",
      "\n",
      "[INFO | root | 2025-01-22 12:20:42] - Precs are combined:\n",
      "[INFO | root | 2025-01-22 12:20:42] -  GNN prec construction time (sec) : mean = 4.399e-04, std = 1.103e-05.\n",
      "\n",
      "[INFO | root | 2025-01-22 12:21:56] - CG with GNN is finished:\n",
      "[INFO | root | 2025-01-22 12:21:56] -  iterations to atol([mean, std]): {0.001: [96.9, 4.01], 1e-06: [121.5, 4.01], 1e-09: [140.9, 4.13], 1e-12: [156.9, 3.99]};\n",
      "[INFO | root | 2025-01-22 12:21:57] -  time to atol([mean, std]): {0.001: [0.2249, 0.01535], 1e-06: [0.2814, 0.01743], 1e-09: [0.326, 0.01925], 1e-12: [0.3627, 0.02064]};\n",
      "[INFO | root | 2025-01-22 12:21:57] -  number of linsystems for which CG did not conerge to atol: {0.001: 0, 1e-06: 0, 1e-09: 0, 1e-12: 0}.\n",
      "\n",
      "[INFO | root | 2025-01-22 12:21:57] - [GNN precs] script `0e15eg` finished execution.\n",
      "\n",
      "\n",
      "\n",
      "[INFO | root | 2025-01-22 12:21:57] - %%%%%%%%%%%%%%%%%%%%%%%%%%%%%%%%%%%%%%%%%%%%%%%%%%%%%%%%%%%%%%%%%\n",
      "[INFO | root | 2025-01-22 12:21:57] - [GNN precs] script `v6w6z4` started execution.\n",
      "[INFO | root | 2025-01-22 12:21:57] - Config: {'path': '/mnt/local/data/vtrifonov/prec-learning-Notay-loss/', 'folder': 'results_cases/22.01_elliptic_grid64_128_ablation_precor_gnn', 'name': 'v6w6z4', 'model_use': 'train', 'save_model': True, 'cg_maxiter': 500, 'cg_atol': 1e-12, 'data_config': {'data_dir': '/mnt/local/data/vtrifonov/prec-learning-Notay-loss/', 'pde': 'div_k_grad', 'grid': 64, 'variance': 0.5, 'lhs_type': 'l_ict', 'N_samples_train': 1000, 'N_samples_test': 200, 'fill_factor': 1, 'threshold': 0.0001}, 'model_config': {'layer_type': 'Conv1d', 'use_nodes': False, 'node_upd_mlp': False, 'static_diag': True, 'alpha': 0.0, 'edge_enc': {'features': [1, 16, 16], 'N_layers': 2}, 'edge_dec': {'features': [16, 16, 1], 'N_layers': 2}, 'mp': {'edge_upd': {'features': [18, 16, 16], 'N_layers': 2}, 'node_upd': {'features': [17, 1, 1], 'N_layers': 2}, 'mp_rounds': 5, 'aggregate_edges': 'min'}}, 'train_config': {'model_type': 'precorrector_gnn', 'loss_type': 'low_freq_loss', 'batch_size': 8, 'optimizer': <function adam at 0x7fdeb47b69e0>, 'lr': 0.001, 'optim_params': {}, 'epoch_num': 500}, 'seed': 42}.\n",
      "\n"
     ]
    },
    {
     "name": "stdout",
     "output_type": "stream",
     "text": [
      "Started: 6\n"
     ]
    },
    {
     "name": "stderr",
     "output_type": "stream",
     "text": [
      "[INFO | root | 2025-01-22 12:22:16] - Data is loaded in 1.951e+01 sec.\n",
      "\n",
      "[INFO | root | 2025-01-22 12:29:26] - Model is trained in 4.301e+02 sec.\n",
      "[INFO | root | 2025-01-22 12:29:26] - PreCorrector's alpha = 0.0558.\n",
      "[INFO | root | 2025-01-22 12:29:26] - First and last losses: train = [2.500e+03, 2.562e+02], test = [1.371e+03, 2.557e+02].\n",
      "\n",
      "[INFO | root | 2025-01-22 12:29:34] - Precs are combined:\n",
      "[INFO | root | 2025-01-22 12:29:34] -  GNN prec construction time (sec) : mean = 1.052e-03, std = 7.336e-05.\n",
      "\n",
      "[INFO | root | 2025-01-22 12:30:16] - CG with GNN is finished:\n",
      "[INFO | root | 2025-01-22 12:30:16] -  iterations to atol([mean, std]): {0.001: [33.7, 1.3], 1e-06: [43.5, 1.47], 1e-09: [52.6, 1.66], 1e-12: [61.3, 1.91]};\n",
      "[INFO | root | 2025-01-22 12:30:16] -  time to atol([mean, std]): {0.001: [0.1132, 0.01065], 1e-06: [0.1454, 0.01346], 1e-09: [0.1756, 0.01642], 1e-12: [0.2044, 0.0191]};\n",
      "[INFO | root | 2025-01-22 12:30:16] -  number of linsystems for which CG did not conerge to atol: {0.001: 0, 1e-06: 0, 1e-09: 0, 1e-12: 0}.\n",
      "\n",
      "[INFO | root | 2025-01-22 12:30:16] - [GNN precs] script `v6w6z4` finished execution.\n",
      "\n",
      "\n",
      "\n",
      "[INFO | root | 2025-01-22 12:30:16] - %%%%%%%%%%%%%%%%%%%%%%%%%%%%%%%%%%%%%%%%%%%%%%%%%%%%%%%%%%%%%%%%%\n",
      "[INFO | root | 2025-01-22 12:30:16] - [GNN precs] script `3gbde5` started execution.\n",
      "[INFO | root | 2025-01-22 12:30:16] - Config: {'path': '/mnt/local/data/vtrifonov/prec-learning-Notay-loss/', 'folder': 'results_cases/22.01_elliptic_grid64_128_ablation_precor_gnn', 'name': '3gbde5', 'model_use': 'train', 'save_model': True, 'cg_maxiter': 500, 'cg_atol': 1e-12, 'data_config': {'data_dir': '/mnt/local/data/vtrifonov/prec-learning-Notay-loss/', 'pde': 'div_k_grad', 'grid': 64, 'variance': 0.7, 'lhs_type': 'l_ict', 'N_samples_train': 1000, 'N_samples_test': 200, 'fill_factor': 1, 'threshold': 0.0001}, 'model_config': {'layer_type': 'Conv1d', 'use_nodes': False, 'node_upd_mlp': False, 'static_diag': True, 'alpha': 0.0, 'edge_enc': {'features': [1, 16, 16], 'N_layers': 2}, 'edge_dec': {'features': [16, 16, 1], 'N_layers': 2}, 'mp': {'edge_upd': {'features': [18, 16, 16], 'N_layers': 2}, 'node_upd': {'features': [17, 1, 1], 'N_layers': 2}, 'mp_rounds': 5, 'aggregate_edges': 'min'}}, 'train_config': {'model_type': 'precorrector_gnn', 'loss_type': 'low_freq_loss', 'batch_size': 8, 'optimizer': <function adam at 0x7fdeb47b69e0>, 'lr': 0.001, 'optim_params': {}, 'epoch_num': 500}, 'seed': 42}.\n",
      "\n"
     ]
    },
    {
     "name": "stdout",
     "output_type": "stream",
     "text": [
      "Started: 7\n"
     ]
    },
    {
     "name": "stderr",
     "output_type": "stream",
     "text": [
      "[INFO | root | 2025-01-22 12:30:39] - Data is loaded in 2.299e+01 sec.\n",
      "\n",
      "[INFO | root | 2025-01-22 12:37:47] - Model is trained in 4.280e+02 sec.\n",
      "[INFO | root | 2025-01-22 12:37:47] - PreCorrector's alpha = 0.0541.\n",
      "[INFO | root | 2025-01-22 12:37:47] - First and last losses: train = [5.163e+03, 3.158e+02], test = [1.986e+03, 2.927e+02].\n",
      "\n",
      "[INFO | root | 2025-01-22 12:37:52] - Precs are combined:\n",
      "[INFO | root | 2025-01-22 12:37:52] -  GNN prec construction time (sec) : mean = 1.513e-03, std = 9.284e-06.\n",
      "\n",
      "[INFO | root | 2025-01-22 12:38:41] - CG with GNN is finished:\n",
      "[INFO | root | 2025-01-22 12:38:41] -  iterations to atol([mean, std]): {0.001: [38.1, 1.74], 1e-06: [48.9, 2.01], 1e-09: [59.1, 2.44], 1e-12: [68.9, 2.71]};\n",
      "[INFO | root | 2025-01-22 12:38:41] -  time to atol([mean, std]): {0.001: [0.1332, 0.006], 1e-06: [0.1702, 0.00694], 1e-09: [0.2054, 0.00851], 1e-12: [0.2388, 0.00942]};\n",
      "[INFO | root | 2025-01-22 12:38:41] -  number of linsystems for which CG did not conerge to atol: {0.001: 0, 1e-06: 0, 1e-09: 0, 1e-12: 0}.\n",
      "\n",
      "[INFO | root | 2025-01-22 12:38:41] - [GNN precs] script `3gbde5` finished execution.\n",
      "\n",
      "\n",
      "\n",
      "[INFO | root | 2025-01-22 12:38:41] - %%%%%%%%%%%%%%%%%%%%%%%%%%%%%%%%%%%%%%%%%%%%%%%%%%%%%%%%%%%%%%%%%\n",
      "[INFO | root | 2025-01-22 12:38:41] - [GNN precs] script `oit7aj` started execution.\n",
      "[INFO | root | 2025-01-22 12:38:41] - Config: {'path': '/mnt/local/data/vtrifonov/prec-learning-Notay-loss/', 'folder': 'results_cases/22.01_elliptic_grid64_128_ablation_precor_gnn', 'name': 'oit7aj', 'model_use': 'train', 'save_model': True, 'cg_maxiter': 500, 'cg_atol': 1e-12, 'data_config': {'data_dir': '/mnt/local/data/vtrifonov/prec-learning-Notay-loss/', 'pde': 'div_k_grad', 'grid': 64, 'variance': 1.1, 'lhs_type': 'l_ict', 'N_samples_train': 1000, 'N_samples_test': 200, 'fill_factor': 1, 'threshold': 0.0001}, 'model_config': {'layer_type': 'Conv1d', 'use_nodes': False, 'node_upd_mlp': False, 'static_diag': True, 'alpha': 0.0, 'edge_enc': {'features': [1, 16, 16], 'N_layers': 2}, 'edge_dec': {'features': [16, 16, 1], 'N_layers': 2}, 'mp': {'edge_upd': {'features': [18, 16, 16], 'N_layers': 2}, 'node_upd': {'features': [17, 1, 1], 'N_layers': 2}, 'mp_rounds': 5, 'aggregate_edges': 'min'}}, 'train_config': {'model_type': 'precorrector_gnn', 'loss_type': 'low_freq_loss', 'batch_size': 8, 'optimizer': <function adam at 0x7fdeb47b69e0>, 'lr': 0.001, 'optim_params': {}, 'epoch_num': 500}, 'seed': 42}.\n",
      "\n"
     ]
    },
    {
     "name": "stdout",
     "output_type": "stream",
     "text": [
      "Started: 8\n"
     ]
    },
    {
     "name": "stderr",
     "output_type": "stream",
     "text": [
      "[INFO | root | 2025-01-22 12:39:06] - Data is loaded in 2.465e+01 sec.\n",
      "\n",
      "[INFO | root | 2025-01-22 12:46:15] - Model is trained in 4.285e+02 sec.\n",
      "[INFO | root | 2025-01-22 12:46:15] - PreCorrector's alpha = 0.0439.\n",
      "[INFO | root | 2025-01-22 12:46:15] - First and last losses: train = [8.239e+03, 4.841e+02], test = [6.874e+03, 4.641e+02].\n",
      "\n",
      "[INFO | root | 2025-01-22 12:46:19] - Precs are combined:\n",
      "[INFO | root | 2025-01-22 12:46:19] -  GNN prec construction time (sec) : mean = 1.511e-03, std = 9.656e-06.\n",
      "\n",
      "[INFO | root | 2025-01-22 12:47:16] - CG with GNN is finished:\n",
      "[INFO | root | 2025-01-22 12:47:16] -  iterations to atol([mean, std]): {0.001: [43.6, 2.16], 1e-06: [55.9, 2.64], 1e-09: [67.6, 3.05], 1e-12: [79.1, 3.64]};\n",
      "[INFO | root | 2025-01-22 12:47:16] -  time to atol([mean, std]): {0.001: [0.1539, 0.00753], 1e-06: [0.1965, 0.00916], 1e-09: [0.2372, 0.01069], 1e-12: [0.277, 0.01281]};\n",
      "[INFO | root | 2025-01-22 12:47:16] -  number of linsystems for which CG did not conerge to atol: {0.001: 0, 1e-06: 0, 1e-09: 0, 1e-12: 0}.\n",
      "\n",
      "[INFO | root | 2025-01-22 12:47:16] - [GNN precs] script `oit7aj` finished execution.\n",
      "\n",
      "\n",
      "\n",
      "[INFO | root | 2025-01-22 12:47:16] - %%%%%%%%%%%%%%%%%%%%%%%%%%%%%%%%%%%%%%%%%%%%%%%%%%%%%%%%%%%%%%%%%\n",
      "[INFO | root | 2025-01-22 12:47:16] - [GNN precs] script `nc3k7w` started execution.\n",
      "[INFO | root | 2025-01-22 12:47:16] - Config: {'path': '/mnt/local/data/vtrifonov/prec-learning-Notay-loss/', 'folder': 'results_cases/22.01_elliptic_grid64_128_ablation_precor_gnn', 'name': 'nc3k7w', 'model_use': 'train', 'save_model': True, 'cg_maxiter': 500, 'cg_atol': 1e-12, 'data_config': {'data_dir': '/mnt/local/data/vtrifonov/prec-learning-Notay-loss/', 'pde': 'div_k_grad', 'grid': 64, 'variance': 0.5, 'lhs_type': 'l_ict', 'N_samples_train': 1000, 'N_samples_test': 200, 'fill_factor': 1, 'threshold': 0.0001}, 'model_config': {'layer_type': 'Conv1d', 'use_nodes': False, 'node_upd_mlp': False, 'static_diag': True, 'alpha': 0.0, 'edge_enc': {'features': [1, 16, 16], 'N_layers': 2}, 'edge_dec': {'features': [16, 16, 1], 'N_layers': 2}, 'mp': {'edge_upd': {'features': [18, 16, 16], 'N_layers': 2}, 'node_upd': {'features': [17, 1, 1], 'N_layers': 2}, 'mp_rounds': 5, 'aggregate_edges': 'min'}}, 'train_config': {'model_type': 'precorrector_gnn', 'loss_type': 'high_freq_loss', 'batch_size': 8, 'optimizer': <function adam at 0x7fdeb47b69e0>, 'lr': 0.001, 'optim_params': {}, 'epoch_num': 500}, 'seed': 42}.\n",
      "\n"
     ]
    },
    {
     "name": "stdout",
     "output_type": "stream",
     "text": [
      "Started: 9\n"
     ]
    },
    {
     "name": "stderr",
     "output_type": "stream",
     "text": [
      "[INFO | root | 2025-01-22 12:47:35] - Data is loaded in 1.848e+01 sec.\n",
      "\n",
      "[INFO | root | 2025-01-22 12:54:48] - Model is trained in 4.327e+02 sec.\n",
      "[INFO | root | 2025-01-22 12:54:48] - PreCorrector's alpha = -0.0219.\n",
      "[INFO | root | 2025-01-22 12:54:48] - First and last losses: train = [3.965e+09, 3.487e+09], test = [3.923e+09, 3.483e+09].\n",
      "\n",
      "[INFO | root | 2025-01-22 12:54:52] - Precs are combined:\n",
      "[INFO | root | 2025-01-22 12:54:52] -  GNN prec construction time (sec) : mean = 1.118e-03, std = 1.016e-05.\n",
      "\n",
      "[INFO | root | 2025-01-22 12:55:41] - CG with GNN is finished:\n",
      "[INFO | root | 2025-01-22 12:55:41] -  iterations to atol([mean, std]): {0.001: [50.9, 1.66], 1e-06: [65.0, 1.51], 1e-09: [76.6, 1.52], 1e-12: [86.7, 1.55]};\n",
      "[INFO | root | 2025-01-22 12:55:41] -  time to atol([mean, std]): {0.001: [0.139, 0.02241], 1e-06: [0.1768, 0.02858], 1e-09: [0.208, 0.03336], 1e-12: [0.235, 0.03737]};\n",
      "[INFO | root | 2025-01-22 12:55:41] -  number of linsystems for which CG did not conerge to atol: {0.001: 0, 1e-06: 0, 1e-09: 0, 1e-12: 0}.\n",
      "\n",
      "[INFO | root | 2025-01-22 12:55:41] - [GNN precs] script `nc3k7w` finished execution.\n",
      "\n",
      "\n",
      "\n",
      "[INFO | root | 2025-01-22 12:55:41] - %%%%%%%%%%%%%%%%%%%%%%%%%%%%%%%%%%%%%%%%%%%%%%%%%%%%%%%%%%%%%%%%%\n",
      "[INFO | root | 2025-01-22 12:55:41] - [GNN precs] script `nrrc60` started execution.\n",
      "[INFO | root | 2025-01-22 12:55:41] - Config: {'path': '/mnt/local/data/vtrifonov/prec-learning-Notay-loss/', 'folder': 'results_cases/22.01_elliptic_grid64_128_ablation_precor_gnn', 'name': 'nrrc60', 'model_use': 'train', 'save_model': True, 'cg_maxiter': 500, 'cg_atol': 1e-12, 'data_config': {'data_dir': '/mnt/local/data/vtrifonov/prec-learning-Notay-loss/', 'pde': 'div_k_grad', 'grid': 64, 'variance': 0.7, 'lhs_type': 'l_ict', 'N_samples_train': 1000, 'N_samples_test': 200, 'fill_factor': 1, 'threshold': 0.0001}, 'model_config': {'layer_type': 'Conv1d', 'use_nodes': False, 'node_upd_mlp': False, 'static_diag': True, 'alpha': 0.0, 'edge_enc': {'features': [1, 16, 16], 'N_layers': 2}, 'edge_dec': {'features': [16, 16, 1], 'N_layers': 2}, 'mp': {'edge_upd': {'features': [18, 16, 16], 'N_layers': 2}, 'node_upd': {'features': [17, 1, 1], 'N_layers': 2}, 'mp_rounds': 5, 'aggregate_edges': 'min'}}, 'train_config': {'model_type': 'precorrector_gnn', 'loss_type': 'high_freq_loss', 'batch_size': 8, 'optimizer': <function adam at 0x7fdeb47b69e0>, 'lr': 0.001, 'optim_params': {}, 'epoch_num': 500}, 'seed': 42}.\n",
      "\n"
     ]
    },
    {
     "name": "stdout",
     "output_type": "stream",
     "text": [
      "Started: 10\n"
     ]
    },
    {
     "name": "stderr",
     "output_type": "stream",
     "text": [
      "[INFO | root | 2025-01-22 12:55:58] - Data is loaded in 1.721e+01 sec.\n",
      "\n",
      "[INFO | root | 2025-01-22 13:03:09] - Model is trained in 4.310e+02 sec.\n",
      "[INFO | root | 2025-01-22 13:03:09] - PreCorrector's alpha = -0.0301.\n",
      "[INFO | root | 2025-01-22 13:03:09] - First and last losses: train = [6.191e+09, 5.532e+09], test = [5.887e+09, 5.569e+09].\n",
      "\n",
      "[INFO | root | 2025-01-22 13:03:12] - Precs are combined:\n",
      "[INFO | root | 2025-01-22 13:03:12] -  GNN prec construction time (sec) : mean = 1.053e-03, std = 2.147e-05.\n",
      "\n",
      "[INFO | root | 2025-01-22 13:03:59] - CG with GNN is finished:\n",
      "[INFO | root | 2025-01-22 13:03:59] -  iterations to atol([mean, std]): {0.001: [54.5, 2.01], 1e-06: [69.1, 2.2], 1e-09: [80.9, 2.16], 1e-12: [91.2, 2.12]};\n",
      "[INFO | root | 2025-01-22 13:03:59] -  time to atol([mean, std]): {0.001: [0.1361, 0.00619], 1e-06: [0.1721, 0.0074], 1e-09: [0.2012, 0.00769], 1e-12: [0.2265, 0.00818]};\n",
      "[INFO | root | 2025-01-22 13:03:59] -  number of linsystems for which CG did not conerge to atol: {0.001: 0, 1e-06: 0, 1e-09: 0, 1e-12: 0}.\n",
      "\n",
      "[INFO | root | 2025-01-22 13:03:59] - [GNN precs] script `nrrc60` finished execution.\n",
      "\n",
      "\n",
      "\n",
      "[INFO | root | 2025-01-22 13:03:59] - %%%%%%%%%%%%%%%%%%%%%%%%%%%%%%%%%%%%%%%%%%%%%%%%%%%%%%%%%%%%%%%%%\n",
      "[INFO | root | 2025-01-22 13:03:59] - [GNN precs] script `1n1nsa` started execution.\n",
      "[INFO | root | 2025-01-22 13:03:59] - Config: {'path': '/mnt/local/data/vtrifonov/prec-learning-Notay-loss/', 'folder': 'results_cases/22.01_elliptic_grid64_128_ablation_precor_gnn', 'name': '1n1nsa', 'model_use': 'train', 'save_model': True, 'cg_maxiter': 500, 'cg_atol': 1e-12, 'data_config': {'data_dir': '/mnt/local/data/vtrifonov/prec-learning-Notay-loss/', 'pde': 'div_k_grad', 'grid': 64, 'variance': 1.1, 'lhs_type': 'l_ict', 'N_samples_train': 1000, 'N_samples_test': 200, 'fill_factor': 1, 'threshold': 0.0001}, 'model_config': {'layer_type': 'Conv1d', 'use_nodes': False, 'node_upd_mlp': False, 'static_diag': True, 'alpha': 0.0, 'edge_enc': {'features': [1, 16, 16], 'N_layers': 2}, 'edge_dec': {'features': [16, 16, 1], 'N_layers': 2}, 'mp': {'edge_upd': {'features': [18, 16, 16], 'N_layers': 2}, 'node_upd': {'features': [17, 1, 1], 'N_layers': 2}, 'mp_rounds': 5, 'aggregate_edges': 'min'}}, 'train_config': {'model_type': 'precorrector_gnn', 'loss_type': 'high_freq_loss', 'batch_size': 8, 'optimizer': <function adam at 0x7fdeb47b69e0>, 'lr': 0.001, 'optim_params': {}, 'epoch_num': 500}, 'seed': 42}.\n",
      "\n"
     ]
    },
    {
     "name": "stdout",
     "output_type": "stream",
     "text": [
      "Started: 11\n"
     ]
    },
    {
     "name": "stderr",
     "output_type": "stream",
     "text": [
      "[INFO | root | 2025-01-22 13:04:16] - Data is loaded in 1.726e+01 sec.\n",
      "\n",
      "[INFO | root | 2025-01-22 13:11:27] - Model is trained in 4.305e+02 sec.\n",
      "[INFO | root | 2025-01-22 13:11:27] - PreCorrector's alpha = -0.0244.\n",
      "[INFO | root | 2025-01-22 13:11:27] - First and last losses: train = [1.156e+10, 1.016e+10], test = [1.146e+10, 1.028e+10].\n",
      "\n",
      "[INFO | root | 2025-01-22 13:11:30] - Precs are combined:\n",
      "[INFO | root | 2025-01-22 13:11:30] -  GNN prec construction time (sec) : mean = 1.058e-03, std = 2.260e-05.\n",
      "\n",
      "[INFO | root | 2025-01-22 13:12:20] - CG with GNN is finished:\n",
      "[INFO | root | 2025-01-22 13:12:20] -  iterations to atol([mean, std]): {0.001: [58.7, 2.48], 1e-06: [73.8, 2.53], 1e-09: [85.7, 2.6], 1e-12: [95.7, 2.45]};\n",
      "[INFO | root | 2025-01-22 13:12:20] -  time to atol([mean, std]): {0.001: [0.1464, 0.00646], 1e-06: [0.1835, 0.00654], 1e-09: [0.2126, 0.00668], 1e-12: [0.2371, 0.00632]};\n",
      "[INFO | root | 2025-01-22 13:12:20] -  number of linsystems for which CG did not conerge to atol: {0.001: 0, 1e-06: 0, 1e-09: 0, 1e-12: 0}.\n",
      "\n",
      "[INFO | root | 2025-01-22 13:12:20] - [GNN precs] script `1n1nsa` finished execution.\n",
      "\n",
      "\n",
      "\n",
      "[INFO | root | 2025-01-22 13:12:20] - %%%%%%%%%%%%%%%%%%%%%%%%%%%%%%%%%%%%%%%%%%%%%%%%%%%%%%%%%%%%%%%%%\n",
      "[INFO | root | 2025-01-22 13:12:20] - [GNN precs] script `3os23z` started execution.\n",
      "[INFO | root | 2025-01-22 13:12:20] - Config: {'path': '/mnt/local/data/vtrifonov/prec-learning-Notay-loss/', 'folder': 'results_cases/22.01_elliptic_grid64_128_ablation_precor_gnn', 'name': '3os23z', 'model_use': 'train', 'save_model': True, 'cg_maxiter': 500, 'cg_atol': 1e-12, 'data_config': {'data_dir': '/mnt/local/data/vtrifonov/prec-learning-Notay-loss/', 'pde': 'div_k_grad', 'grid': 128, 'variance': 0.5, 'lhs_type': 'l_ic0', 'N_samples_train': 1000, 'N_samples_test': 200, 'fill_factor': 1, 'threshold': 0.0001}, 'model_config': {'layer_type': 'Conv1d', 'use_nodes': False, 'node_upd_mlp': False, 'static_diag': True, 'alpha': 0.0, 'edge_enc': {'features': [1, 16, 16], 'N_layers': 2}, 'edge_dec': {'features': [16, 16, 1], 'N_layers': 2}, 'mp': {'edge_upd': {'features': [18, 16, 16], 'N_layers': 2}, 'node_upd': {'features': [17, 1, 1], 'N_layers': 2}, 'mp_rounds': 5, 'aggregate_edges': 'min'}}, 'train_config': {'model_type': 'precorrector_gnn', 'loss_type': 'low_freq_loss', 'batch_size': 8, 'optimizer': <function adam at 0x7fdeb47b69e0>, 'lr': 0.001, 'optim_params': {}, 'epoch_num': 500}, 'seed': 42}.\n",
      "\n"
     ]
    },
    {
     "name": "stdout",
     "output_type": "stream",
     "text": [
      "Started: 12\n"
     ]
    },
    {
     "name": "stderr",
     "output_type": "stream",
     "text": [
      "[INFO | root | 2025-01-22 13:12:44] - Data is loaded in 2.407e+01 sec.\n",
      "\n",
      "[INFO | root | 2025-01-22 13:31:44] - Model is trained in 1.140e+03 sec.\n",
      "[INFO | root | 2025-01-22 13:31:44] - PreCorrector's alpha = 0.0813.\n",
      "[INFO | root | 2025-01-22 13:31:44] - First and last losses: train = [2.424e+05, 1.832e+03], test = [4.167e+04, 1.858e+03].\n",
      "\n",
      "[INFO | root | 2025-01-22 13:31:57] - Precs are combined:\n",
      "[INFO | root | 2025-01-22 13:31:57] -  GNN prec construction time (sec) : mean = 8.938e-04, std = 9.808e-05.\n",
      "\n",
      "[INFO | root | 2025-01-22 13:36:08] - CG with GNN is finished:\n",
      "[INFO | root | 2025-01-22 13:36:08] -  iterations to atol([mean, std]): {0.001: [67.0, 2.71], 1e-06: [85.2, 3.27], 1e-09: [102.8, 3.85], 1e-12: [119.6, 4.16]};\n",
      "[INFO | root | 2025-01-22 13:36:08] -  time to atol([mean, std]): {0.001: [0.6906, 0.12638], 1e-06: [0.8775, 0.15802], 1e-09: [1.0619, 0.193], 1e-12: [1.236, 0.222]};\n",
      "[INFO | root | 2025-01-22 13:36:08] -  number of linsystems for which CG did not conerge to atol: {0.001: 0, 1e-06: 0, 1e-09: 0, 1e-12: 0}.\n",
      "\n",
      "[INFO | root | 2025-01-22 13:36:08] - [GNN precs] script `3os23z` finished execution.\n",
      "\n",
      "\n",
      "\n",
      "[INFO | root | 2025-01-22 13:36:08] - %%%%%%%%%%%%%%%%%%%%%%%%%%%%%%%%%%%%%%%%%%%%%%%%%%%%%%%%%%%%%%%%%\n",
      "[INFO | root | 2025-01-22 13:36:08] - [GNN precs] script `d72vn9` started execution.\n",
      "[INFO | root | 2025-01-22 13:36:08] - Config: {'path': '/mnt/local/data/vtrifonov/prec-learning-Notay-loss/', 'folder': 'results_cases/22.01_elliptic_grid64_128_ablation_precor_gnn', 'name': 'd72vn9', 'model_use': 'train', 'save_model': True, 'cg_maxiter': 500, 'cg_atol': 1e-12, 'data_config': {'data_dir': '/mnt/local/data/vtrifonov/prec-learning-Notay-loss/', 'pde': 'div_k_grad', 'grid': 128, 'variance': 0.7, 'lhs_type': 'l_ic0', 'N_samples_train': 1000, 'N_samples_test': 200, 'fill_factor': 1, 'threshold': 0.0001}, 'model_config': {'layer_type': 'Conv1d', 'use_nodes': False, 'node_upd_mlp': False, 'static_diag': True, 'alpha': 0.0, 'edge_enc': {'features': [1, 16, 16], 'N_layers': 2}, 'edge_dec': {'features': [16, 16, 1], 'N_layers': 2}, 'mp': {'edge_upd': {'features': [18, 16, 16], 'N_layers': 2}, 'node_upd': {'features': [17, 1, 1], 'N_layers': 2}, 'mp_rounds': 5, 'aggregate_edges': 'min'}}, 'train_config': {'model_type': 'precorrector_gnn', 'loss_type': 'low_freq_loss', 'batch_size': 8, 'optimizer': <function adam at 0x7fdeb47b69e0>, 'lr': 0.001, 'optim_params': {}, 'epoch_num': 500}, 'seed': 42}.\n",
      "\n"
     ]
    },
    {
     "name": "stdout",
     "output_type": "stream",
     "text": [
      "Started: 13\n"
     ]
    },
    {
     "name": "stderr",
     "output_type": "stream",
     "text": [
      "[INFO | root | 2025-01-22 13:36:31] - Data is loaded in 2.285e+01 sec.\n",
      "\n",
      "[INFO | root | 2025-01-22 13:55:27] - Model is trained in 1.136e+03 sec.\n",
      "[INFO | root | 2025-01-22 13:55:27] - PreCorrector's alpha = 0.0568.\n",
      "[INFO | root | 2025-01-22 13:55:27] - First and last losses: train = [5.000e+05, 1.942e+03], test = [1.825e+05, 2.346e+03].\n",
      "\n",
      "[INFO | root | 2025-01-22 13:55:33] - Precs are combined:\n",
      "[INFO | root | 2025-01-22 13:55:33] -  GNN prec construction time (sec) : mean = 1.227e-03, std = 9.818e-05.\n",
      "\n",
      "[INFO | root | 2025-01-22 13:59:38] - CG with GNN is finished:\n",
      "[INFO | root | 2025-01-22 13:59:38] -  iterations to atol([mean, std]): {0.001: [80.1, 4.36], 1e-06: [100.2, 5.06], 1e-09: [118.6, 5.71], 1e-12: [135.5, 6.39]};\n",
      "[INFO | root | 2025-01-22 13:59:38] -  time to atol([mean, std]): {0.001: [0.7165, 0.15075], 1e-06: [0.8963, 0.18787], 1e-09: [1.0604, 0.22079], 1e-12: [1.2112, 0.25009]};\n",
      "[INFO | root | 2025-01-22 13:59:38] -  number of linsystems for which CG did not conerge to atol: {0.001: 0, 1e-06: 0, 1e-09: 0, 1e-12: 0}.\n",
      "\n",
      "[INFO | root | 2025-01-22 13:59:38] - [GNN precs] script `d72vn9` finished execution.\n",
      "\n",
      "\n",
      "\n",
      "[INFO | root | 2025-01-22 13:59:38] - %%%%%%%%%%%%%%%%%%%%%%%%%%%%%%%%%%%%%%%%%%%%%%%%%%%%%%%%%%%%%%%%%\n",
      "[INFO | root | 2025-01-22 13:59:38] - [GNN precs] script `agx6io` started execution.\n",
      "[INFO | root | 2025-01-22 13:59:38] - Config: {'path': '/mnt/local/data/vtrifonov/prec-learning-Notay-loss/', 'folder': 'results_cases/22.01_elliptic_grid64_128_ablation_precor_gnn', 'name': 'agx6io', 'model_use': 'train', 'save_model': True, 'cg_maxiter': 500, 'cg_atol': 1e-12, 'data_config': {'data_dir': '/mnt/local/data/vtrifonov/prec-learning-Notay-loss/', 'pde': 'div_k_grad', 'grid': 128, 'variance': 1.1, 'lhs_type': 'l_ic0', 'N_samples_train': 1000, 'N_samples_test': 200, 'fill_factor': 1, 'threshold': 0.0001}, 'model_config': {'layer_type': 'Conv1d', 'use_nodes': False, 'node_upd_mlp': False, 'static_diag': True, 'alpha': 0.0, 'edge_enc': {'features': [1, 16, 16], 'N_layers': 2}, 'edge_dec': {'features': [16, 16, 1], 'N_layers': 2}, 'mp': {'edge_upd': {'features': [18, 16, 16], 'N_layers': 2}, 'node_upd': {'features': [17, 1, 1], 'N_layers': 2}, 'mp_rounds': 5, 'aggregate_edges': 'min'}}, 'train_config': {'model_type': 'precorrector_gnn', 'loss_type': 'low_freq_loss', 'batch_size': 8, 'optimizer': <function adam at 0x7fdeb47b69e0>, 'lr': 0.001, 'optim_params': {}, 'epoch_num': 500}, 'seed': 42}.\n",
      "\n"
     ]
    },
    {
     "name": "stdout",
     "output_type": "stream",
     "text": [
      "Started: 14\n"
     ]
    },
    {
     "name": "stderr",
     "output_type": "stream",
     "text": [
      "[INFO | root | 2025-01-22 14:00:00] - Data is loaded in 2.223e+01 sec.\n",
      "\n",
      "[INFO | root | 2025-01-22 14:18:57] - Model is trained in 1.136e+03 sec.\n",
      "[INFO | root | 2025-01-22 14:18:57] - PreCorrector's alpha = 0.0589.\n",
      "[INFO | root | 2025-01-22 14:18:57] - First and last losses: train = [1.043e+06, 2.039e+03], test = [3.482e+05, 2.052e+03].\n",
      "\n",
      "[INFO | root | 2025-01-22 14:19:01] - Precs are combined:\n",
      "[INFO | root | 2025-01-22 14:19:01] -  GNN prec construction time (sec) : mean = 1.229e-03, std = 1.257e-04.\n",
      "\n",
      "[INFO | root | 2025-01-22 14:24:22] - CG with GNN is finished:\n",
      "[INFO | root | 2025-01-22 14:24:22] -  iterations to atol([mean, std]): {0.001: [92.6, 5.27], 1e-06: [117.9, 6.51], 1e-09: [142.2, 7.63], 1e-12: [166.0, 8.9]};\n",
      "[INFO | root | 2025-01-22 14:24:22] -  time to atol([mean, std]): {0.001: [0.8931, 0.15298], 1e-06: [1.1317, 0.1819], 1e-09: [1.3649, 0.21365], 1e-12: [1.5888, 0.23922]};\n",
      "[INFO | root | 2025-01-22 14:24:22] -  number of linsystems for which CG did not conerge to atol: {0.001: 0, 1e-06: 0, 1e-09: 0, 1e-12: 0}.\n",
      "\n",
      "[INFO | root | 2025-01-22 14:24:22] - [GNN precs] script `agx6io` finished execution.\n",
      "\n",
      "\n",
      "\n",
      "[INFO | root | 2025-01-22 14:24:22] - %%%%%%%%%%%%%%%%%%%%%%%%%%%%%%%%%%%%%%%%%%%%%%%%%%%%%%%%%%%%%%%%%\n",
      "[INFO | root | 2025-01-22 14:24:22] - [GNN precs] script `rkiloj` started execution.\n",
      "[INFO | root | 2025-01-22 14:24:22] - Config: {'path': '/mnt/local/data/vtrifonov/prec-learning-Notay-loss/', 'folder': 'results_cases/22.01_elliptic_grid64_128_ablation_precor_gnn', 'name': 'rkiloj', 'model_use': 'train', 'save_model': True, 'cg_maxiter': 500, 'cg_atol': 1e-12, 'data_config': {'data_dir': '/mnt/local/data/vtrifonov/prec-learning-Notay-loss/', 'pde': 'div_k_grad', 'grid': 128, 'variance': 0.5, 'lhs_type': 'l_ic0', 'N_samples_train': 1000, 'N_samples_test': 200, 'fill_factor': 1, 'threshold': 0.0001}, 'model_config': {'layer_type': 'Conv1d', 'use_nodes': False, 'node_upd_mlp': False, 'static_diag': True, 'alpha': 0.0, 'edge_enc': {'features': [1, 16, 16], 'N_layers': 2}, 'edge_dec': {'features': [16, 16, 1], 'N_layers': 2}, 'mp': {'edge_upd': {'features': [18, 16, 16], 'N_layers': 2}, 'node_upd': {'features': [17, 1, 1], 'N_layers': 2}, 'mp_rounds': 5, 'aggregate_edges': 'min'}}, 'train_config': {'model_type': 'precorrector_gnn', 'loss_type': 'high_freq_loss', 'batch_size': 8, 'optimizer': <function adam at 0x7fdeb47b69e0>, 'lr': 0.001, 'optim_params': {}, 'epoch_num': 500}, 'seed': 42}.\n",
      "\n"
     ]
    },
    {
     "name": "stdout",
     "output_type": "stream",
     "text": [
      "Started: 15\n"
     ]
    },
    {
     "name": "stderr",
     "output_type": "stream",
     "text": [
      "[INFO | root | 2025-01-22 14:24:44] - Data is loaded in 2.151e+01 sec.\n",
      "\n",
      "[INFO | root | 2025-01-22 14:43:50] - Model is trained in 1.146e+03 sec.\n",
      "[INFO | root | 2025-01-22 14:43:50] - PreCorrector's alpha = -0.0512.\n",
      "[INFO | root | 2025-01-22 14:43:50] - First and last losses: train = [1.739e+12, 1.657e+12], test = [1.673e+12, 1.635e+12].\n",
      "\n",
      "[INFO | root | 2025-01-22 14:43:55] - Precs are combined:\n",
      "[INFO | root | 2025-01-22 14:43:55] -  GNN prec construction time (sec) : mean = 1.227e-03, std = 9.957e-05.\n",
      "\n",
      "[INFO | root | 2025-01-22 14:53:05] - CG with GNN is finished:\n",
      "[INFO | root | 2025-01-22 14:53:05] -  iterations to atol([mean, std]): {0.001: [167.4, 4.68], 1e-06: [211.6, 4.61], 1e-09: [247.6, 4.81], 1e-12: [278.8, 4.8]};\n",
      "[INFO | root | 2025-01-22 14:53:05] -  time to atol([mean, std]): {0.001: [1.6444, 0.2814], 1e-06: [2.0715, 0.33405], 1e-09: [2.4227, 0.38009], 1e-12: [2.7302, 0.42585]};\n",
      "[INFO | root | 2025-01-22 14:53:05] -  number of linsystems for which CG did not conerge to atol: {0.001: 0, 1e-06: 0, 1e-09: 0, 1e-12: 0}.\n",
      "\n",
      "[INFO | root | 2025-01-22 14:53:05] - [GNN precs] script `rkiloj` finished execution.\n",
      "\n",
      "\n",
      "\n",
      "[INFO | root | 2025-01-22 14:53:05] - %%%%%%%%%%%%%%%%%%%%%%%%%%%%%%%%%%%%%%%%%%%%%%%%%%%%%%%%%%%%%%%%%\n",
      "[INFO | root | 2025-01-22 14:53:05] - [GNN precs] script `ipdu1q` started execution.\n",
      "[INFO | root | 2025-01-22 14:53:05] - Config: {'path': '/mnt/local/data/vtrifonov/prec-learning-Notay-loss/', 'folder': 'results_cases/22.01_elliptic_grid64_128_ablation_precor_gnn', 'name': 'ipdu1q', 'model_use': 'train', 'save_model': True, 'cg_maxiter': 500, 'cg_atol': 1e-12, 'data_config': {'data_dir': '/mnt/local/data/vtrifonov/prec-learning-Notay-loss/', 'pde': 'div_k_grad', 'grid': 128, 'variance': 0.7, 'lhs_type': 'l_ic0', 'N_samples_train': 1000, 'N_samples_test': 200, 'fill_factor': 1, 'threshold': 0.0001}, 'model_config': {'layer_type': 'Conv1d', 'use_nodes': False, 'node_upd_mlp': False, 'static_diag': True, 'alpha': 0.0, 'edge_enc': {'features': [1, 16, 16], 'N_layers': 2}, 'edge_dec': {'features': [16, 16, 1], 'N_layers': 2}, 'mp': {'edge_upd': {'features': [18, 16, 16], 'N_layers': 2}, 'node_upd': {'features': [17, 1, 1], 'N_layers': 2}, 'mp_rounds': 5, 'aggregate_edges': 'min'}}, 'train_config': {'model_type': 'precorrector_gnn', 'loss_type': 'high_freq_loss', 'batch_size': 8, 'optimizer': <function adam at 0x7fdeb47b69e0>, 'lr': 0.001, 'optim_params': {}, 'epoch_num': 500}, 'seed': 42}.\n",
      "\n"
     ]
    },
    {
     "name": "stdout",
     "output_type": "stream",
     "text": [
      "Started: 16\n"
     ]
    },
    {
     "name": "stderr",
     "output_type": "stream",
     "text": [
      "[INFO | root | 2025-01-22 14:53:25] - Data is loaded in 2.011e+01 sec.\n",
      "\n",
      "[INFO | root | 2025-01-22 15:12:30] - Model is trained in 1.145e+03 sec.\n",
      "[INFO | root | 2025-01-22 15:12:30] - PreCorrector's alpha = -0.0468.\n",
      "[INFO | root | 2025-01-22 15:12:30] - First and last losses: train = [2.889e+12, 2.727e+12], test = [2.943e+12, 2.737e+12].\n",
      "\n",
      "[INFO | root | 2025-01-22 15:12:36] - Precs are combined:\n",
      "[INFO | root | 2025-01-22 15:12:36] -  GNN prec construction time (sec) : mean = 9.975e-04, std = 9.870e-05.\n",
      "\n",
      "[INFO | root | 2025-01-22 15:22:02] - CG with GNN is finished:\n",
      "[INFO | root | 2025-01-22 15:22:02] -  iterations to atol([mean, std]): {0.001: [177.5, 6.27], 1e-06: [222.5, 6.54], 1e-09: [258.8, 6.47], 1e-12: [289.5, 6.45]};\n",
      "[INFO | root | 2025-01-22 15:22:02] -  time to atol([mean, std]): {0.001: [1.7316, 0.30002], 1e-06: [2.1632, 0.35763], 1e-09: [2.5147, 0.40335], 1e-12: [2.8145, 0.44368]};\n",
      "[INFO | root | 2025-01-22 15:22:02] -  number of linsystems for which CG did not conerge to atol: {0.001: 0, 1e-06: 0, 1e-09: 0, 1e-12: 0}.\n",
      "\n",
      "[INFO | root | 2025-01-22 15:22:02] - [GNN precs] script `ipdu1q` finished execution.\n",
      "\n",
      "\n",
      "\n",
      "[INFO | root | 2025-01-22 15:22:02] - %%%%%%%%%%%%%%%%%%%%%%%%%%%%%%%%%%%%%%%%%%%%%%%%%%%%%%%%%%%%%%%%%\n",
      "[INFO | root | 2025-01-22 15:22:02] - [GNN precs] script `qi961y` started execution.\n",
      "[INFO | root | 2025-01-22 15:22:02] - Config: {'path': '/mnt/local/data/vtrifonov/prec-learning-Notay-loss/', 'folder': 'results_cases/22.01_elliptic_grid64_128_ablation_precor_gnn', 'name': 'qi961y', 'model_use': 'train', 'save_model': True, 'cg_maxiter': 500, 'cg_atol': 1e-12, 'data_config': {'data_dir': '/mnt/local/data/vtrifonov/prec-learning-Notay-loss/', 'pde': 'div_k_grad', 'grid': 128, 'variance': 1.1, 'lhs_type': 'l_ic0', 'N_samples_train': 1000, 'N_samples_test': 200, 'fill_factor': 1, 'threshold': 0.0001}, 'model_config': {'layer_type': 'Conv1d', 'use_nodes': False, 'node_upd_mlp': False, 'static_diag': True, 'alpha': 0.0, 'edge_enc': {'features': [1, 16, 16], 'N_layers': 2}, 'edge_dec': {'features': [16, 16, 1], 'N_layers': 2}, 'mp': {'edge_upd': {'features': [18, 16, 16], 'N_layers': 2}, 'node_upd': {'features': [17, 1, 1], 'N_layers': 2}, 'mp_rounds': 5, 'aggregate_edges': 'min'}}, 'train_config': {'model_type': 'precorrector_gnn', 'loss_type': 'high_freq_loss', 'batch_size': 8, 'optimizer': <function adam at 0x7fdeb47b69e0>, 'lr': 0.001, 'optim_params': {}, 'epoch_num': 500}, 'seed': 42}.\n",
      "\n"
     ]
    },
    {
     "name": "stdout",
     "output_type": "stream",
     "text": [
      "Started: 17\n"
     ]
    },
    {
     "name": "stderr",
     "output_type": "stream",
     "text": [
      "[INFO | root | 2025-01-22 15:22:24] - Data is loaded in 2.249e+01 sec.\n",
      "\n",
      "[INFO | root | 2025-01-22 15:41:30] - Model is trained in 1.145e+03 sec.\n",
      "[INFO | root | 2025-01-22 15:41:30] - PreCorrector's alpha = -0.0483.\n",
      "[INFO | root | 2025-01-22 15:41:30] - First and last losses: train = [5.158e+12, 4.740e+12], test = [4.961e+12, 4.626e+12].\n",
      "\n",
      "[INFO | root | 2025-01-22 15:41:34] - Precs are combined:\n",
      "[INFO | root | 2025-01-22 15:41:34] -  GNN prec construction time (sec) : mean = 1.231e-03, std = 1.258e-04.\n",
      "\n",
      "[INFO | root | 2025-01-22 15:48:37] - CG with GNN is finished:\n",
      "[INFO | root | 2025-01-22 15:48:37] -  iterations to atol([mean, std]): {0.001: [193.8, 7.69], 1e-06: [240.5, 7.97], 1e-09: [277.4, 7.78], 1e-12: [308.4, 7.42]};\n",
      "[INFO | root | 2025-01-22 15:48:37] -  time to atol([mean, std]): {0.001: [1.3226, 0.19075], 1e-06: [1.6405, 0.23257], 1e-09: [1.8929, 0.26412], 1e-12: [2.1052, 0.29225]};\n",
      "[INFO | root | 2025-01-22 15:48:37] -  number of linsystems for which CG did not conerge to atol: {0.001: 0, 1e-06: 0, 1e-09: 0, 1e-12: 0}.\n",
      "\n",
      "[INFO | root | 2025-01-22 15:48:37] - [GNN precs] script `qi961y` finished execution.\n",
      "\n",
      "\n",
      "\n",
      "[INFO | root | 2025-01-22 15:48:37] - %%%%%%%%%%%%%%%%%%%%%%%%%%%%%%%%%%%%%%%%%%%%%%%%%%%%%%%%%%%%%%%%%\n",
      "[INFO | root | 2025-01-22 15:48:37] - [GNN precs] script `248gix` started execution.\n",
      "[INFO | root | 2025-01-22 15:48:37] - Config: {'path': '/mnt/local/data/vtrifonov/prec-learning-Notay-loss/', 'folder': 'results_cases/22.01_elliptic_grid64_128_ablation_precor_gnn', 'name': '248gix', 'model_use': 'train', 'save_model': True, 'cg_maxiter': 500, 'cg_atol': 1e-12, 'data_config': {'data_dir': '/mnt/local/data/vtrifonov/prec-learning-Notay-loss/', 'pde': 'div_k_grad', 'grid': 128, 'variance': 0.5, 'lhs_type': 'l_ict', 'N_samples_train': 1000, 'N_samples_test': 200, 'fill_factor': 1, 'threshold': 0.0001}, 'model_config': {'layer_type': 'Conv1d', 'use_nodes': False, 'node_upd_mlp': False, 'static_diag': True, 'alpha': 0.0, 'edge_enc': {'features': [1, 16, 16], 'N_layers': 2}, 'edge_dec': {'features': [16, 16, 1], 'N_layers': 2}, 'mp': {'edge_upd': {'features': [18, 16, 16], 'N_layers': 2}, 'node_upd': {'features': [17, 1, 1], 'N_layers': 2}, 'mp_rounds': 5, 'aggregate_edges': 'min'}}, 'train_config': {'model_type': 'precorrector_gnn', 'loss_type': 'low_freq_loss', 'batch_size': 8, 'optimizer': <function adam at 0x7fdeb47b69e0>, 'lr': 0.001, 'optim_params': {}, 'epoch_num': 500}, 'seed': 42}.\n",
      "\n"
     ]
    },
    {
     "name": "stdout",
     "output_type": "stream",
     "text": [
      "Started: 18\n"
     ]
    },
    {
     "name": "stderr",
     "output_type": "stream",
     "text": [
      "[INFO | root | 2025-01-22 15:49:03] - Data is loaded in 2.595e+01 sec.\n",
      "\n",
      "2025-01-22 15:49:09.714789: E external/xla/xla/service/slow_operation_alarm.cc:65] Trying algorithm eng21{k2=1,k4=0,k5=1,k6=0,k7=0} for conv (f32[16,16,1]{2,1,0}, u8[0]{0}) custom-call(f32[8,16,65025]{2,1,0}, f32[8,16,65025]{2,1,0}), window={size=1}, dim_labels=bf0_oi0->bf0, custom_call_target=\"__cudnn$convBackwardFilter\", backend_config={\"operation_queue_id\":\"0\",\"wait_on_operation_queues\":[],\"cudnn_conv_backend_config\":{\"conv_result_scale\":1,\"activation_mode\":\"kNone\",\"side_input_scale\":0,\"leakyrelu_alpha\":0},\"force_earliest_schedule\":false} is taking a while...\n",
      "2025-01-22 15:49:09.797353: E external/xla/xla/service/slow_operation_alarm.cc:133] The operation took 1.082720761s\n",
      "Trying algorithm eng21{k2=1,k4=0,k5=1,k6=0,k7=0} for conv (f32[16,16,1]{2,1,0}, u8[0]{0}) custom-call(f32[8,16,65025]{2,1,0}, f32[8,16,65025]{2,1,0}), window={size=1}, dim_labels=bf0_oi0->bf0, custom_call_target=\"__cudnn$convBackwardFilter\", backend_config={\"operation_queue_id\":\"0\",\"wait_on_operation_queues\":[],\"cudnn_conv_backend_config\":{\"conv_result_scale\":1,\"activation_mode\":\"kNone\",\"side_input_scale\":0,\"leakyrelu_alpha\":0},\"force_earliest_schedule\":false} is taking a while...\n"
     ]
    }
   ],
   "source": [
    "# Static diag PreCorrectorGNN. Nodes are not used, without node MLP\n",
    "base_config['model_config'] = default_precorrector_gnn_config\n",
    "\n",
    "params_grid = ParameterGrid({\n",
    "    'model_use': ['train'],\n",
    "    'cg_maxiter': [500],\n",
    "    'cg_atol': [1e-12],\n",
    "    'model_type': ['precorrector_gnn'],\n",
    "    'loss_type': ['low_freq_loss', 'high_freq_loss'],\n",
    "    'batch_size': [8],\n",
    "    'lr': [1e-3],\n",
    "    'epoch_num': [500],\n",
    "    'pde': ['div_k_grad'],\n",
    "    'grid': [64, 128],\n",
    "    'variance': [.5, .7, 1.1],\n",
    "    'lhs_type': ['l_ic0', 'l_ict'],\n",
    "    'fill_factor': [1],\n",
    "    'threshold': [1e-4]\n",
    "})\n",
    "\n",
    "grid_script(script_gnn_prec, base_config, params_grid)"
   ]
  },
  {
   "cell_type": "code",
   "execution_count": null,
   "id": "1cd5de62",
   "metadata": {},
   "outputs": [],
   "source": [
    "# Not static diag PreCorrectorGNN. Nodes are not used, without node MLP\n",
    "notstatic_precorrector_gnn_config = deepcopy(default_precorrector_gnn_config)\n",
    "notstatic_precorrector_gnn_config['static_diag'] = False\n",
    "base_config['model_config'] = notstatic_precorrector_gnn_config\n",
    "\n",
    "params_grid = ParameterGrid({\n",
    "    'model_use': ['train'],\n",
    "    'cg_maxiter': [500],\n",
    "    'cg_atol': [1e-12],\n",
    "    'model_type': ['precorrector_gnn'],\n",
    "    'loss_type': ['low_freq_loss', 'high_freq_loss'],\n",
    "    'batch_size': [8],\n",
    "    'lr': [1e-3],\n",
    "    'epoch_num': [500],\n",
    "    'pde': ['div_k_grad'],\n",
    "    'grid': [64, 128],\n",
    "    'variance': [.5, .7, 1.1],\n",
    "    'lhs_type': ['l_ic0', 'l_ict'],\n",
    "    'fill_factor': [1],\n",
    "    'threshold': [1e-4]\n",
    "})\n",
    "\n",
    "grid_script(script_gnn_prec, base_config, params_grid)"
   ]
  },
  {
   "cell_type": "markdown",
   "id": "872cfa17",
   "metadata": {},
   "source": [
    "# Poisson"
   ]
  },
  {
   "cell_type": "code",
   "execution_count": null,
   "id": "f3207c3f",
   "metadata": {},
   "outputs": [],
   "source": [
    "# Static diag PreCorrectorGNN. Nodes are not used, without node MLP\n",
    "base_config['model_config'] = default_precorrector_gnn_config\n",
    "\n",
    "params_grid = ParameterGrid({\n",
    "    'model_use': ['train'],\n",
    "    'cg_maxiter': [500],\n",
    "    'cg_atol': [1e-12],\n",
    "    'model_type': ['precorrector_gnn'],\n",
    "    'loss_type': ['low_freq_loss', 'high_freq_loss'],\n",
    "    'batch_size': [8],\n",
    "    'lr': [1e-3],\n",
    "    'epoch_num': [500],\n",
    "    'pde': ['poisson'],\n",
    "    'grid': [64, 128],\n",
    "    'variance': [.5],\n",
    "    'lhs_type': ['l_ic0', 'l_ict'],\n",
    "    'fill_factor': [1],\n",
    "    'threshold': [1e-4]\n",
    "})\n",
    "\n",
    "grid_script(script_gnn_prec, base_config, params_grid)"
   ]
  },
  {
   "cell_type": "code",
   "execution_count": null,
   "id": "74e63be1",
   "metadata": {},
   "outputs": [],
   "source": [
    "# Not static diag PreCorrectorGNN. Nodes are not used, without node MLP\n",
    "notstatic_precorrector_gnn_config = deepcopy(default_precorrector_gnn_config)\n",
    "notstatic_precorrector_gnn_config['static_diag'] = False\n",
    "base_config['model_config'] = notstatic_precorrector_gnn_config\n",
    "\n",
    "params_grid = ParameterGrid({\n",
    "    'model_use': ['train'],\n",
    "    'cg_maxiter': [500],\n",
    "    'cg_atol': [1e-12],\n",
    "    'model_type': ['precorrector_gnn'],\n",
    "    'loss_type': ['low_freq_loss', 'high_freq_loss'],\n",
    "    'batch_size': [8],\n",
    "    'lr': [1e-3],\n",
    "    'epoch_num': [500],\n",
    "    'pde': ['poisson'],\n",
    "    'grid': [64, 128],\n",
    "    'variance': [.5],\n",
    "    'lhs_type': ['l_ic0', 'l_ict'],\n",
    "    'fill_factor': [1],\n",
    "    'threshold': [1e-4]\n",
    "})\n",
    "\n",
    "grid_script(script_gnn_prec, base_config, params_grid)"
   ]
  },
  {
   "cell_type": "code",
   "execution_count": null,
   "id": "cb40c054",
   "metadata": {},
   "outputs": [],
   "source": [
    "exit()"
   ]
  }
 ],
 "metadata": {
  "kernelspec": {
   "display_name": "Python 3 (ipykernel)",
   "language": "python",
   "name": "python3"
  },
  "language_info": {
   "codemirror_mode": {
    "name": "ipython",
    "version": 3
   },
   "file_extension": ".py",
   "mimetype": "text/x-python",
   "name": "python",
   "nbconvert_exporter": "python",
   "pygments_lexer": "ipython3",
   "version": "3.10.6"
  }
 },
 "nbformat": 4,
 "nbformat_minor": 5
}
