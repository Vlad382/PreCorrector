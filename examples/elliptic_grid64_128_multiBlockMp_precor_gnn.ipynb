{
 "cells": [
  {
   "cell_type": "code",
   "execution_count": null,
   "id": "390b9970",
   "metadata": {},
   "outputs": [],
   "source": [
    "import sys\n",
    "import os\n",
    "os.environ[\"CUDA_VISIBLE_DEVICES\"] = '2'\n",
    "os.environ['XLA_PYTHON_CLIENT_MEM_FRACTION'] = '.95'\n",
    "sys.path.append('/mnt/local/data/vtrifonov/prec-learning-Notay-loss/')"
   ]
  },
  {
   "cell_type": "code",
   "execution_count": 2,
   "id": "40b3e39e",
   "metadata": {},
   "outputs": [],
   "source": [
    "from copy import deepcopy\n",
    "\n",
    "import optax\n",
    "import numpy as np\n",
    "from sklearn.model_selection import ParameterGrid\n",
    "\n",
    "from utils import grid_script\n",
    "from config import default_precorrector_gnn_config\n",
    "from experiments.script_gnn_prec import script_gnn_prec"
   ]
  },
  {
   "cell_type": "code",
   "execution_count": 3,
   "id": "ef21a99e",
   "metadata": {},
   "outputs": [],
   "source": [
    "seed = 42\n",
    "path = '/mnt/local/data/vtrifonov/prec-learning-Notay-loss/'"
   ]
  },
  {
   "cell_type": "code",
   "execution_count": 4,
   "id": "5e3c3227",
   "metadata": {},
   "outputs": [],
   "source": [
    "data_config = {\n",
    "    'data_dir': path,\n",
    "    'pde': np.nan,\n",
    "    'grid': np.nan,\n",
    "    'variance': np.nan,\n",
    "    'lhs_type': np.nan,\n",
    "    'N_samples_train': 1000,\n",
    "    'N_samples_test': 200,\n",
    "    'fill_factor': 1,\n",
    "    'threshold': 1e-4\n",
    "}\n",
    "\n",
    "train_config = {\n",
    "    'model_type': 'precorrector_gnn_multiblock',\n",
    "    'loss_type': np.nan,\n",
    "    'batch_size': 8,\n",
    "    'optimizer': optax.adam,\n",
    "    'lr': 1e-3,\n",
    "    'optim_params': {},\n",
    "    'epoch_num': 500\n",
    "}\n",
    "\n",
    "base_config = {\n",
    "    'path': path,\n",
    "    'folder_model': np.nan,\n",
    "    'folder_log': np.nan,\n",
    "    'name': np.nan,\n",
    "    'model_use': np.nan,\n",
    "    'save_model': True,\n",
    "    'cg_maxiter': np.nan,\n",
    "    'cg_atol': np.nan,\n",
    "    'data_config': data_config,\n",
    "    'model_config': np.nan,\n",
    "    'train_config': train_config,\n",
    "    'seed': seed\n",
    "}"
   ]
  },
  {
   "cell_type": "markdown",
   "id": "aa3d2703",
   "metadata": {},
   "source": [
    "# Div-k-grad"
   ]
  },
  {
   "cell_type": "markdown",
   "id": "6eb126de",
   "metadata": {},
   "source": [
    "## 2 mp blocks"
   ]
  },
  {
   "cell_type": "code",
   "execution_count": 5,
   "id": "d3f14afd",
   "metadata": {},
   "outputs": [],
   "source": [
    "folder = 'results_cases/29.01_elliptic_grid64_128_multiBlockMp_precor_gnn/mp_rounds2'"
   ]
  },
  {
   "cell_type": "code",
   "execution_count": 6,
   "id": "f831030d",
   "metadata": {
    "collapsed": true,
    "jupyter": {
     "outputs_hidden": true
    }
   },
   "outputs": [
    {
     "name": "stdout",
     "output_type": "stream",
     "text": [
      "Started: 0\n"
     ]
    },
    {
     "name": "stderr",
     "output_type": "stream",
     "text": [
      "2025-01-28 23:26:52.241933: W external/xla/xla/service/gpu/nvptx_compiler.cc:760] The NVIDIA driver's CUDA version is 12.4 which is older than the ptxas CUDA version (12.5.40). Because the driver is older than the ptxas version, XLA is disabling parallel compilation, which may slow down compilation. You should update your NVIDIA driver or use the NVIDIA-provided CUDA forward compatibility packages.\n",
      "[INFO | root | 2025-01-28 23:26:52] - %%%%%%%%%%%%%%%%%%%%%%%%%%%%%%%%%%%%%%%%%%%%%%%%%%%%%%%%%%%%%%%%%\n",
      "[INFO | root | 2025-01-28 23:26:52] - [GNN precs] script `c4athy` started execution.\n",
      "[INFO | root | 2025-01-28 23:26:52] - Config: {'path': '/mnt/local/data/vtrifonov/prec-learning-Notay-loss/', 'folder_model': 'results_cases/29.01_elliptic_grid64_128_multiBlockMp_precor_gnn/mp_rounds2', 'folder_log': 'results_cases/29.01_elliptic_grid64_128_multiBlockMp_precor_gnn/mp_rounds2', 'name': 'c4athy', 'model_use': 'train', 'save_model': True, 'cg_maxiter': 500, 'cg_atol': 1e-12, 'data_config': {'data_dir': '/mnt/local/data/vtrifonov/prec-learning-Notay-loss/', 'pde': 'div_k_grad', 'grid': 64, 'variance': 0.5, 'lhs_type': 'l_ic0', 'N_samples_train': 1000, 'N_samples_test': 200, 'fill_factor': 1, 'threshold': 0.0001}, 'model_config': {'layer_type': 'Conv1d', 'use_nodes': False, 'node_upd_mlp': False, 'static_diag': False, 'alpha': 0.0, 'edge_enc': {'features': [1, 16, 16], 'N_layers': 2}, 'edge_dec': {'features': [16, 16, 1], 'N_layers': 2}, 'mp': {'edge_upd': {'features': [18, 16, 16], 'N_layers': 2}, 'node_upd': {'features': [17, 1, 1], 'N_layers': 2}, 'mp_rounds': 2, 'aggregate_edges': 'max'}}, 'train_config': {'model_type': 'precorrector_gnn_multiblock', 'loss_type': 'low_freq_loss', 'batch_size': 8, 'optimizer': <function adam at 0x7fb9ab53acb0>, 'lr': 0.001, 'optim_params': {}, 'epoch_num': 500}, 'seed': 42}.\n",
      "\n",
      "[INFO | root | 2025-01-28 23:27:12] - Data is loaded in 1.988e+01 sec.\n",
      "\n",
      "[INFO | root | 2025-01-28 23:29:20] - Model is trained in 1.276e+02 sec.\n",
      "[INFO | root | 2025-01-28 23:29:20] - PreCorrector's alpha = 0.0642.\n",
      "[INFO | root | 2025-01-28 23:29:20] - First and last losses: train = [1.727e+04, 4.977e+02], test = [5.760e+03, 4.998e+02].\n",
      "\n",
      "[INFO | root | 2025-01-28 23:29:25] - Precs are combined:\n",
      "[INFO | root | 2025-01-28 23:29:25] -  GNN prec construction time (sec) : mean = 2.806e-04, std = 1.127e-05.\n",
      "\n",
      "[INFO | root | 2025-01-28 23:30:02] - CG with GNN is finished:\n",
      "[INFO | root | 2025-01-28 23:30:02] -  iterations to atol([mean, std]): {0.001: [44.5, 1.99], 1e-06: [57.1, 2.15], 1e-09: [68.6, 2.34], 1e-12: [79.8, 2.65]};\n",
      "[INFO | root | 2025-01-28 23:30:02] -  time to atol([mean, std]): {0.001: [0.0986, 0.00457], 1e-06: [0.126, 0.00501], 1e-09: [0.1511, 0.00543], 1e-12: [0.1756, 0.00619]};\n",
      "[INFO | root | 2025-01-28 23:30:02] -  number of linsystems for which CG did not conerge to atol: {0.001: 0, 1e-06: 0, 1e-09: 0, 1e-12: 0}.\n",
      "\n",
      "[INFO | root | 2025-01-28 23:30:02] - [GNN precs] script `c4athy` finished execution.\n",
      "\n",
      "\n",
      "\n",
      "[INFO | root | 2025-01-28 23:30:02] - %%%%%%%%%%%%%%%%%%%%%%%%%%%%%%%%%%%%%%%%%%%%%%%%%%%%%%%%%%%%%%%%%\n",
      "[INFO | root | 2025-01-28 23:30:02] - [GNN precs] script `rzwr9h` started execution.\n",
      "[INFO | root | 2025-01-28 23:30:02] - Config: {'path': '/mnt/local/data/vtrifonov/prec-learning-Notay-loss/', 'folder_model': 'results_cases/29.01_elliptic_grid64_128_multiBlockMp_precor_gnn/mp_rounds2', 'folder_log': 'results_cases/29.01_elliptic_grid64_128_multiBlockMp_precor_gnn/mp_rounds2', 'name': 'rzwr9h', 'model_use': 'train', 'save_model': True, 'cg_maxiter': 500, 'cg_atol': 1e-12, 'data_config': {'data_dir': '/mnt/local/data/vtrifonov/prec-learning-Notay-loss/', 'pde': 'div_k_grad', 'grid': 64, 'variance': 0.7, 'lhs_type': 'l_ic0', 'N_samples_train': 1000, 'N_samples_test': 200, 'fill_factor': 1, 'threshold': 0.0001}, 'model_config': {'layer_type': 'Conv1d', 'use_nodes': False, 'node_upd_mlp': False, 'static_diag': False, 'alpha': 0.0, 'edge_enc': {'features': [1, 16, 16], 'N_layers': 2}, 'edge_dec': {'features': [16, 16, 1], 'N_layers': 2}, 'mp': {'edge_upd': {'features': [18, 16, 16], 'N_layers': 2}, 'node_upd': {'features': [17, 1, 1], 'N_layers': 2}, 'mp_rounds': 2, 'aggregate_edges': 'max'}}, 'train_config': {'model_type': 'precorrector_gnn_multiblock', 'loss_type': 'low_freq_loss', 'batch_size': 8, 'optimizer': <function adam at 0x7fb9ab53acb0>, 'lr': 0.001, 'optim_params': {}, 'epoch_num': 500}, 'seed': 42}.\n",
      "\n"
     ]
    },
    {
     "name": "stdout",
     "output_type": "stream",
     "text": [
      "Started: 1\n"
     ]
    },
    {
     "name": "stderr",
     "output_type": "stream",
     "text": [
      "[INFO | root | 2025-01-28 23:30:18] - Data is loaded in 1.543e+01 sec.\n",
      "\n",
      "[INFO | root | 2025-01-28 23:32:21] - Model is trained in 1.234e+02 sec.\n",
      "[INFO | root | 2025-01-28 23:32:21] - PreCorrector's alpha = 0.0579.\n",
      "[INFO | root | 2025-01-28 23:32:21] - First and last losses: train = [3.693e+04, 5.688e+02], test = [9.289e+03, 5.340e+02].\n",
      "\n",
      "[INFO | root | 2025-01-28 23:32:24] - Precs are combined:\n",
      "[INFO | root | 2025-01-28 23:32:24] -  GNN prec construction time (sec) : mean = 2.679e-04, std = 6.931e-06.\n",
      "\n",
      "[INFO | root | 2025-01-28 23:33:07] - CG with GNN is finished:\n",
      "[INFO | root | 2025-01-28 23:33:07] -  iterations to atol([mean, std]): {0.001: [49.4, 2.45], 1e-06: [63.4, 2.72], 1e-09: [76.6, 3.08], 1e-12: [89.3, 3.46]};\n",
      "[INFO | root | 2025-01-28 23:33:07] -  time to atol([mean, std]): {0.001: [0.1127, 0.01028], 1e-06: [0.1442, 0.01276], 1e-09: [0.174, 0.01511], 1e-12: [0.2024, 0.01718]};\n",
      "[INFO | root | 2025-01-28 23:33:07] -  number of linsystems for which CG did not conerge to atol: {0.001: 0, 1e-06: 0, 1e-09: 0, 1e-12: 0}.\n",
      "\n",
      "[INFO | root | 2025-01-28 23:33:07] - [GNN precs] script `rzwr9h` finished execution.\n",
      "\n",
      "\n",
      "\n",
      "[INFO | root | 2025-01-28 23:33:07] - %%%%%%%%%%%%%%%%%%%%%%%%%%%%%%%%%%%%%%%%%%%%%%%%%%%%%%%%%%%%%%%%%\n",
      "[INFO | root | 2025-01-28 23:33:07] - [GNN precs] script `r8blhc` started execution.\n",
      "[INFO | root | 2025-01-28 23:33:07] - Config: {'path': '/mnt/local/data/vtrifonov/prec-learning-Notay-loss/', 'folder_model': 'results_cases/29.01_elliptic_grid64_128_multiBlockMp_precor_gnn/mp_rounds2', 'folder_log': 'results_cases/29.01_elliptic_grid64_128_multiBlockMp_precor_gnn/mp_rounds2', 'name': 'r8blhc', 'model_use': 'train', 'save_model': True, 'cg_maxiter': 500, 'cg_atol': 1e-12, 'data_config': {'data_dir': '/mnt/local/data/vtrifonov/prec-learning-Notay-loss/', 'pde': 'div_k_grad', 'grid': 64, 'variance': 1.1, 'lhs_type': 'l_ic0', 'N_samples_train': 1000, 'N_samples_test': 200, 'fill_factor': 1, 'threshold': 0.0001}, 'model_config': {'layer_type': 'Conv1d', 'use_nodes': False, 'node_upd_mlp': False, 'static_diag': False, 'alpha': 0.0, 'edge_enc': {'features': [1, 16, 16], 'N_layers': 2}, 'edge_dec': {'features': [16, 16, 1], 'N_layers': 2}, 'mp': {'edge_upd': {'features': [18, 16, 16], 'N_layers': 2}, 'node_upd': {'features': [17, 1, 1], 'N_layers': 2}, 'mp_rounds': 2, 'aggregate_edges': 'max'}}, 'train_config': {'model_type': 'precorrector_gnn_multiblock', 'loss_type': 'low_freq_loss', 'batch_size': 8, 'optimizer': <function adam at 0x7fb9ab53acb0>, 'lr': 0.001, 'optim_params': {}, 'epoch_num': 500}, 'seed': 42}.\n",
      "\n"
     ]
    },
    {
     "name": "stdout",
     "output_type": "stream",
     "text": [
      "Started: 2\n"
     ]
    },
    {
     "name": "stderr",
     "output_type": "stream",
     "text": [
      "[INFO | root | 2025-01-28 23:33:23] - Data is loaded in 1.589e+01 sec.\n",
      "\n",
      "[INFO | root | 2025-01-28 23:35:27] - Model is trained in 1.238e+02 sec.\n",
      "[INFO | root | 2025-01-28 23:35:27] - PreCorrector's alpha = 0.0511.\n",
      "[INFO | root | 2025-01-28 23:35:27] - First and last losses: train = [5.848e+04, 6.437e+02], test = [3.875e+04, 6.459e+02].\n",
      "\n",
      "[INFO | root | 2025-01-28 23:35:29] - Precs are combined:\n",
      "[INFO | root | 2025-01-28 23:35:29] -  GNN prec construction time (sec) : mean = 2.856e-04, std = 8.442e-06.\n",
      "\n",
      "[INFO | root | 2025-01-28 23:36:18] - CG with GNN is finished:\n",
      "[INFO | root | 2025-01-28 23:36:18] -  iterations to atol([mean, std]): {0.001: [58.8, 3.29], 1e-06: [75.4, 3.9], 1e-09: [91.4, 4.67], 1e-12: [106.9, 5.48]};\n",
      "[INFO | root | 2025-01-28 23:36:18] -  time to atol([mean, std]): {0.001: [0.1299, 0.00736], 1e-06: [0.1663, 0.00878], 1e-09: [0.2011, 0.01048], 1e-12: [0.235, 0.01229]};\n",
      "[INFO | root | 2025-01-28 23:36:18] -  number of linsystems for which CG did not conerge to atol: {0.001: 0, 1e-06: 0, 1e-09: 0, 1e-12: 0}.\n",
      "\n",
      "[INFO | root | 2025-01-28 23:36:18] - [GNN precs] script `r8blhc` finished execution.\n",
      "\n",
      "\n",
      "\n",
      "[INFO | root | 2025-01-28 23:36:18] - %%%%%%%%%%%%%%%%%%%%%%%%%%%%%%%%%%%%%%%%%%%%%%%%%%%%%%%%%%%%%%%%%\n",
      "[INFO | root | 2025-01-28 23:36:18] - [GNN precs] script `schf5z` started execution.\n",
      "[INFO | root | 2025-01-28 23:36:18] - Config: {'path': '/mnt/local/data/vtrifonov/prec-learning-Notay-loss/', 'folder_model': 'results_cases/29.01_elliptic_grid64_128_multiBlockMp_precor_gnn/mp_rounds2', 'folder_log': 'results_cases/29.01_elliptic_grid64_128_multiBlockMp_precor_gnn/mp_rounds2', 'name': 'schf5z', 'model_use': 'train', 'save_model': True, 'cg_maxiter': 500, 'cg_atol': 1e-12, 'data_config': {'data_dir': '/mnt/local/data/vtrifonov/prec-learning-Notay-loss/', 'pde': 'div_k_grad', 'grid': 64, 'variance': 0.5, 'lhs_type': 'l_ic0', 'N_samples_train': 1000, 'N_samples_test': 200, 'fill_factor': 1, 'threshold': 0.0001}, 'model_config': {'layer_type': 'Conv1d', 'use_nodes': False, 'node_upd_mlp': False, 'static_diag': False, 'alpha': 0.0, 'edge_enc': {'features': [1, 16, 16], 'N_layers': 2}, 'edge_dec': {'features': [16, 16, 1], 'N_layers': 2}, 'mp': {'edge_upd': {'features': [18, 16, 16], 'N_layers': 2}, 'node_upd': {'features': [17, 1, 1], 'N_layers': 2}, 'mp_rounds': 2, 'aggregate_edges': 'max'}}, 'train_config': {'model_type': 'precorrector_gnn_multiblock', 'loss_type': 'high_freq_loss', 'batch_size': 8, 'optimizer': <function adam at 0x7fb9ab53acb0>, 'lr': 0.001, 'optim_params': {}, 'epoch_num': 500}, 'seed': 42}.\n",
      "\n"
     ]
    },
    {
     "name": "stdout",
     "output_type": "stream",
     "text": [
      "Started: 3\n"
     ]
    },
    {
     "name": "stderr",
     "output_type": "stream",
     "text": [
      "[INFO | root | 2025-01-28 23:36:34] - Data is loaded in 1.631e+01 sec.\n",
      "\n",
      "[INFO | root | 2025-01-28 23:38:41] - Model is trained in 1.265e+02 sec.\n",
      "[INFO | root | 2025-01-28 23:38:41] - PreCorrector's alpha = -0.0580.\n",
      "[INFO | root | 2025-01-28 23:38:41] - First and last losses: train = [2.804e+10, 2.613e+10], test = [2.744e+10, 2.617e+10].\n",
      "\n",
      "[INFO | root | 2025-01-28 23:38:43] - Precs are combined:\n",
      "[INFO | root | 2025-01-28 23:38:43] -  GNN prec construction time (sec) : mean = 2.770e-04, std = 6.158e-06.\n",
      "\n",
      "[INFO | root | 2025-01-28 23:39:51] - CG with GNN is finished:\n",
      "[INFO | root | 2025-01-28 23:39:51] -  iterations to atol([mean, std]): {0.001: [83.5, 2.55], 1e-06: [106.4, 2.35], 1e-09: [125.1, 2.45], 1e-12: [141.4, 2.38]};\n",
      "[INFO | root | 2025-01-28 23:39:51] -  time to atol([mean, std]): {0.001: [0.1956, 0.01685], 1e-06: [0.2484, 0.02011], 1e-09: [0.2917, 0.02309], 1e-12: [0.3292, 0.02523]};\n",
      "[INFO | root | 2025-01-28 23:39:51] -  number of linsystems for which CG did not conerge to atol: {0.001: 0, 1e-06: 0, 1e-09: 0, 1e-12: 0}.\n",
      "\n",
      "[INFO | root | 2025-01-28 23:39:51] - [GNN precs] script `schf5z` finished execution.\n",
      "\n",
      "\n",
      "\n",
      "[INFO | root | 2025-01-28 23:39:51] - %%%%%%%%%%%%%%%%%%%%%%%%%%%%%%%%%%%%%%%%%%%%%%%%%%%%%%%%%%%%%%%%%\n",
      "[INFO | root | 2025-01-28 23:39:51] - [GNN precs] script `n4wwq3` started execution.\n",
      "[INFO | root | 2025-01-28 23:39:51] - Config: {'path': '/mnt/local/data/vtrifonov/prec-learning-Notay-loss/', 'folder_model': 'results_cases/29.01_elliptic_grid64_128_multiBlockMp_precor_gnn/mp_rounds2', 'folder_log': 'results_cases/29.01_elliptic_grid64_128_multiBlockMp_precor_gnn/mp_rounds2', 'name': 'n4wwq3', 'model_use': 'train', 'save_model': True, 'cg_maxiter': 500, 'cg_atol': 1e-12, 'data_config': {'data_dir': '/mnt/local/data/vtrifonov/prec-learning-Notay-loss/', 'pde': 'div_k_grad', 'grid': 64, 'variance': 0.7, 'lhs_type': 'l_ic0', 'N_samples_train': 1000, 'N_samples_test': 200, 'fill_factor': 1, 'threshold': 0.0001}, 'model_config': {'layer_type': 'Conv1d', 'use_nodes': False, 'node_upd_mlp': False, 'static_diag': False, 'alpha': 0.0, 'edge_enc': {'features': [1, 16, 16], 'N_layers': 2}, 'edge_dec': {'features': [16, 16, 1], 'N_layers': 2}, 'mp': {'edge_upd': {'features': [18, 16, 16], 'N_layers': 2}, 'node_upd': {'features': [17, 1, 1], 'N_layers': 2}, 'mp_rounds': 2, 'aggregate_edges': 'max'}}, 'train_config': {'model_type': 'precorrector_gnn_multiblock', 'loss_type': 'high_freq_loss', 'batch_size': 8, 'optimizer': <function adam at 0x7fb9ab53acb0>, 'lr': 0.001, 'optim_params': {}, 'epoch_num': 500}, 'seed': 42}.\n",
      "\n"
     ]
    },
    {
     "name": "stdout",
     "output_type": "stream",
     "text": [
      "Started: 4\n"
     ]
    },
    {
     "name": "stderr",
     "output_type": "stream",
     "text": [
      "[INFO | root | 2025-01-28 23:40:07] - Data is loaded in 1.629e+01 sec.\n",
      "\n",
      "[INFO | root | 2025-01-28 23:42:13] - Model is trained in 1.262e+02 sec.\n",
      "[INFO | root | 2025-01-28 23:42:14] - PreCorrector's alpha = -0.0581.\n",
      "[INFO | root | 2025-01-28 23:42:14] - First and last losses: train = [4.394e+10, 4.077e+10], test = [4.172e+10, 4.121e+10].\n",
      "\n",
      "[INFO | root | 2025-01-28 23:42:16] - Precs are combined:\n",
      "[INFO | root | 2025-01-28 23:42:16] -  GNN prec construction time (sec) : mean = 2.958e-04, std = 7.478e-06.\n",
      "\n",
      "[INFO | root | 2025-01-28 23:43:24] - CG with GNN is finished:\n",
      "[INFO | root | 2025-01-28 23:43:24] -  iterations to atol([mean, std]): {0.001: [87.7, 3.41], 1e-06: [111.2, 3.59], 1e-09: [130.1, 3.42], 1e-12: [146.5, 3.3]};\n",
      "[INFO | root | 2025-01-28 23:43:24] -  time to atol([mean, std]): {0.001: [0.1993, 0.01275], 1e-06: [0.252, 0.01477], 1e-09: [0.2943, 0.0156], 1e-12: [0.3308, 0.01646]};\n",
      "[INFO | root | 2025-01-28 23:43:24] -  number of linsystems for which CG did not conerge to atol: {0.001: 0, 1e-06: 0, 1e-09: 0, 1e-12: 0}.\n",
      "\n",
      "[INFO | root | 2025-01-28 23:43:24] - [GNN precs] script `n4wwq3` finished execution.\n",
      "\n",
      "\n",
      "\n",
      "[INFO | root | 2025-01-28 23:43:24] - %%%%%%%%%%%%%%%%%%%%%%%%%%%%%%%%%%%%%%%%%%%%%%%%%%%%%%%%%%%%%%%%%\n",
      "[INFO | root | 2025-01-28 23:43:24] - [GNN precs] script `qoi2xs` started execution.\n",
      "[INFO | root | 2025-01-28 23:43:24] - Config: {'path': '/mnt/local/data/vtrifonov/prec-learning-Notay-loss/', 'folder_model': 'results_cases/29.01_elliptic_grid64_128_multiBlockMp_precor_gnn/mp_rounds2', 'folder_log': 'results_cases/29.01_elliptic_grid64_128_multiBlockMp_precor_gnn/mp_rounds2', 'name': 'qoi2xs', 'model_use': 'train', 'save_model': True, 'cg_maxiter': 500, 'cg_atol': 1e-12, 'data_config': {'data_dir': '/mnt/local/data/vtrifonov/prec-learning-Notay-loss/', 'pde': 'div_k_grad', 'grid': 64, 'variance': 1.1, 'lhs_type': 'l_ic0', 'N_samples_train': 1000, 'N_samples_test': 200, 'fill_factor': 1, 'threshold': 0.0001}, 'model_config': {'layer_type': 'Conv1d', 'use_nodes': False, 'node_upd_mlp': False, 'static_diag': False, 'alpha': 0.0, 'edge_enc': {'features': [1, 16, 16], 'N_layers': 2}, 'edge_dec': {'features': [16, 16, 1], 'N_layers': 2}, 'mp': {'edge_upd': {'features': [18, 16, 16], 'N_layers': 2}, 'node_upd': {'features': [17, 1, 1], 'N_layers': 2}, 'mp_rounds': 2, 'aggregate_edges': 'max'}}, 'train_config': {'model_type': 'precorrector_gnn_multiblock', 'loss_type': 'high_freq_loss', 'batch_size': 8, 'optimizer': <function adam at 0x7fb9ab53acb0>, 'lr': 0.001, 'optim_params': {}, 'epoch_num': 500}, 'seed': 42}.\n",
      "\n"
     ]
    },
    {
     "name": "stdout",
     "output_type": "stream",
     "text": [
      "Started: 5\n"
     ]
    },
    {
     "name": "stderr",
     "output_type": "stream",
     "text": [
      "[INFO | root | 2025-01-28 23:43:44] - Data is loaded in 1.951e+01 sec.\n",
      "\n",
      "[INFO | root | 2025-01-28 23:45:50] - Model is trained in 1.262e+02 sec.\n",
      "[INFO | root | 2025-01-28 23:45:50] - PreCorrector's alpha = -0.0567.\n",
      "[INFO | root | 2025-01-28 23:45:50] - First and last losses: train = [8.344e+10, 7.531e+10], test = [8.173e+10, 7.621e+10].\n",
      "\n",
      "[INFO | root | 2025-01-28 23:45:53] - Precs are combined:\n",
      "[INFO | root | 2025-01-28 23:45:53] -  GNN prec construction time (sec) : mean = 3.169e-04, std = 1.263e-05.\n",
      "\n",
      "[INFO | root | 2025-01-28 23:47:08] - CG with GNN is finished:\n",
      "[INFO | root | 2025-01-28 23:47:08] -  iterations to atol([mean, std]): {0.001: [97.2, 4.1], 1e-06: [121.8, 4.12], 1e-09: [141.4, 4.17], 1e-12: [157.7, 3.99]};\n",
      "[INFO | root | 2025-01-28 23:47:08] -  time to atol([mean, std]): {0.001: [0.2267, 0.02326], 1e-06: [0.2836, 0.02711], 1e-09: [0.3288, 0.03033], 1e-12: [0.3663, 0.03272]};\n",
      "[INFO | root | 2025-01-28 23:47:08] -  number of linsystems for which CG did not conerge to atol: {0.001: 0, 1e-06: 0, 1e-09: 0, 1e-12: 0}.\n",
      "\n",
      "[INFO | root | 2025-01-28 23:47:08] - [GNN precs] script `qoi2xs` finished execution.\n",
      "\n",
      "\n",
      "\n",
      "[INFO | root | 2025-01-28 23:47:08] - %%%%%%%%%%%%%%%%%%%%%%%%%%%%%%%%%%%%%%%%%%%%%%%%%%%%%%%%%%%%%%%%%\n",
      "[INFO | root | 2025-01-28 23:47:08] - [GNN precs] script `73r9ef` started execution.\n",
      "[INFO | root | 2025-01-28 23:47:08] - Config: {'path': '/mnt/local/data/vtrifonov/prec-learning-Notay-loss/', 'folder_model': 'results_cases/29.01_elliptic_grid64_128_multiBlockMp_precor_gnn/mp_rounds2', 'folder_log': 'results_cases/29.01_elliptic_grid64_128_multiBlockMp_precor_gnn/mp_rounds2', 'name': '73r9ef', 'model_use': 'train', 'save_model': True, 'cg_maxiter': 500, 'cg_atol': 1e-12, 'data_config': {'data_dir': '/mnt/local/data/vtrifonov/prec-learning-Notay-loss/', 'pde': 'div_k_grad', 'grid': 128, 'variance': 0.5, 'lhs_type': 'l_ic0', 'N_samples_train': 1000, 'N_samples_test': 200, 'fill_factor': 1, 'threshold': 0.0001}, 'model_config': {'layer_type': 'Conv1d', 'use_nodes': False, 'node_upd_mlp': False, 'static_diag': False, 'alpha': 0.0, 'edge_enc': {'features': [1, 16, 16], 'N_layers': 2}, 'edge_dec': {'features': [16, 16, 1], 'N_layers': 2}, 'mp': {'edge_upd': {'features': [18, 16, 16], 'N_layers': 2}, 'node_upd': {'features': [17, 1, 1], 'N_layers': 2}, 'mp_rounds': 2, 'aggregate_edges': 'max'}}, 'train_config': {'model_type': 'precorrector_gnn_multiblock', 'loss_type': 'low_freq_loss', 'batch_size': 8, 'optimizer': <function adam at 0x7fb9ab53acb0>, 'lr': 0.001, 'optim_params': {}, 'epoch_num': 500}, 'seed': 42}.\n",
      "\n"
     ]
    },
    {
     "name": "stdout",
     "output_type": "stream",
     "text": [
      "Started: 6\n"
     ]
    },
    {
     "name": "stderr",
     "output_type": "stream",
     "text": [
      "[INFO | root | 2025-01-28 23:47:35] - Data is loaded in 2.687e+01 sec.\n",
      "\n",
      "[INFO | root | 2025-01-28 23:54:54] - Model is trained in 4.388e+02 sec.\n",
      "[INFO | root | 2025-01-28 23:54:54] - PreCorrector's alpha = 0.0565.\n",
      "[INFO | root | 2025-01-28 23:54:54] - First and last losses: train = [2.253e+05, 1.809e+03], test = [5.711e+04, 1.801e+03].\n",
      "\n",
      "[INFO | root | 2025-01-28 23:55:02] - Precs are combined:\n",
      "[INFO | root | 2025-01-28 23:55:02] -  GNN prec construction time (sec) : mean = 6.813e-04, std = 5.126e-05.\n",
      "\n",
      "[INFO | root | 2025-01-28 23:58:58] - CG with GNN is finished:\n",
      "[INFO | root | 2025-01-28 23:58:58] -  iterations to atol([mean, std]): {0.001: [66.9, 3.09], 1e-06: [84.8, 3.4], 1e-09: [101.8, 3.86], 1e-12: [118.3, 4.4]};\n",
      "[INFO | root | 2025-01-28 23:58:58] -  time to atol([mean, std]): {0.001: [0.6571, 0.08578], 1e-06: [0.8302, 0.094], 1e-09: [0.9965, 0.10196], 1e-12: [1.1589, 0.1097]};\n",
      "[INFO | root | 2025-01-28 23:58:58] -  number of linsystems for which CG did not conerge to atol: {0.001: 0, 1e-06: 0, 1e-09: 0, 1e-12: 0}.\n",
      "\n",
      "[INFO | root | 2025-01-28 23:58:58] - [GNN precs] script `73r9ef` finished execution.\n",
      "\n",
      "\n",
      "\n",
      "[INFO | root | 2025-01-28 23:58:58] - %%%%%%%%%%%%%%%%%%%%%%%%%%%%%%%%%%%%%%%%%%%%%%%%%%%%%%%%%%%%%%%%%\n",
      "[INFO | root | 2025-01-28 23:58:58] - [GNN precs] script `e41uj6` started execution.\n",
      "[INFO | root | 2025-01-28 23:58:58] - Config: {'path': '/mnt/local/data/vtrifonov/prec-learning-Notay-loss/', 'folder_model': 'results_cases/29.01_elliptic_grid64_128_multiBlockMp_precor_gnn/mp_rounds2', 'folder_log': 'results_cases/29.01_elliptic_grid64_128_multiBlockMp_precor_gnn/mp_rounds2', 'name': 'e41uj6', 'model_use': 'train', 'save_model': True, 'cg_maxiter': 500, 'cg_atol': 1e-12, 'data_config': {'data_dir': '/mnt/local/data/vtrifonov/prec-learning-Notay-loss/', 'pde': 'div_k_grad', 'grid': 128, 'variance': 0.7, 'lhs_type': 'l_ic0', 'N_samples_train': 1000, 'N_samples_test': 200, 'fill_factor': 1, 'threshold': 0.0001}, 'model_config': {'layer_type': 'Conv1d', 'use_nodes': False, 'node_upd_mlp': False, 'static_diag': False, 'alpha': 0.0, 'edge_enc': {'features': [1, 16, 16], 'N_layers': 2}, 'edge_dec': {'features': [16, 16, 1], 'N_layers': 2}, 'mp': {'edge_upd': {'features': [18, 16, 16], 'N_layers': 2}, 'node_upd': {'features': [17, 1, 1], 'N_layers': 2}, 'mp_rounds': 2, 'aggregate_edges': 'max'}}, 'train_config': {'model_type': 'precorrector_gnn_multiblock', 'loss_type': 'low_freq_loss', 'batch_size': 8, 'optimizer': <function adam at 0x7fb9ab53acb0>, 'lr': 0.001, 'optim_params': {}, 'epoch_num': 500}, 'seed': 42}.\n",
      "\n"
     ]
    },
    {
     "name": "stdout",
     "output_type": "stream",
     "text": [
      "Started: 7\n"
     ]
    },
    {
     "name": "stderr",
     "output_type": "stream",
     "text": [
      "[INFO | root | 2025-01-28 23:59:17] - Data is loaded in 1.949e+01 sec.\n",
      "\n",
      "[INFO | root | 2025-01-29 00:06:33] - Model is trained in 4.356e+02 sec.\n",
      "[INFO | root | 2025-01-29 00:06:33] - PreCorrector's alpha = 0.0444.\n",
      "[INFO | root | 2025-01-29 00:06:33] - First and last losses: train = [4.676e+05, 1.872e+03], test = [2.461e+05, 1.864e+03].\n",
      "\n",
      "[INFO | root | 2025-01-29 00:06:37] - Precs are combined:\n",
      "[INFO | root | 2025-01-29 00:06:37] -  GNN prec construction time (sec) : mean = 6.383e-04, std = 3.715e-05.\n",
      "\n",
      "[INFO | root | 2025-01-29 00:11:07] - CG with GNN is finished:\n",
      "[INFO | root | 2025-01-29 00:11:07] -  iterations to atol([mean, std]): {0.001: [78.4, 4.61], 1e-06: [98.5, 5.42], 1e-09: [117.7, 6.38], 1e-12: [136.1, 6.92]};\n",
      "[INFO | root | 2025-01-29 00:11:07] -  time to atol([mean, std]): {0.001: [0.7689, 0.09365], 1e-06: [0.966, 0.11289], 1e-09: [1.1516, 0.13015], 1e-12: [1.3331, 0.14114]};\n",
      "[INFO | root | 2025-01-29 00:11:07] -  number of linsystems for which CG did not conerge to atol: {0.001: 0, 1e-06: 0, 1e-09: 0, 1e-12: 0}.\n",
      "\n",
      "[INFO | root | 2025-01-29 00:11:07] - [GNN precs] script `e41uj6` finished execution.\n",
      "\n",
      "\n",
      "\n",
      "[INFO | root | 2025-01-29 00:11:07] - %%%%%%%%%%%%%%%%%%%%%%%%%%%%%%%%%%%%%%%%%%%%%%%%%%%%%%%%%%%%%%%%%\n",
      "[INFO | root | 2025-01-29 00:11:07] - [GNN precs] script `awefn9` started execution.\n",
      "[INFO | root | 2025-01-29 00:11:07] - Config: {'path': '/mnt/local/data/vtrifonov/prec-learning-Notay-loss/', 'folder_model': 'results_cases/29.01_elliptic_grid64_128_multiBlockMp_precor_gnn/mp_rounds2', 'folder_log': 'results_cases/29.01_elliptic_grid64_128_multiBlockMp_precor_gnn/mp_rounds2', 'name': 'awefn9', 'model_use': 'train', 'save_model': True, 'cg_maxiter': 500, 'cg_atol': 1e-12, 'data_config': {'data_dir': '/mnt/local/data/vtrifonov/prec-learning-Notay-loss/', 'pde': 'div_k_grad', 'grid': 128, 'variance': 1.1, 'lhs_type': 'l_ic0', 'N_samples_train': 1000, 'N_samples_test': 200, 'fill_factor': 1, 'threshold': 0.0001}, 'model_config': {'layer_type': 'Conv1d', 'use_nodes': False, 'node_upd_mlp': False, 'static_diag': False, 'alpha': 0.0, 'edge_enc': {'features': [1, 16, 16], 'N_layers': 2}, 'edge_dec': {'features': [16, 16, 1], 'N_layers': 2}, 'mp': {'edge_upd': {'features': [18, 16, 16], 'N_layers': 2}, 'node_upd': {'features': [17, 1, 1], 'N_layers': 2}, 'mp_rounds': 2, 'aggregate_edges': 'max'}}, 'train_config': {'model_type': 'precorrector_gnn_multiblock', 'loss_type': 'low_freq_loss', 'batch_size': 8, 'optimizer': <function adam at 0x7fb9ab53acb0>, 'lr': 0.001, 'optim_params': {}, 'epoch_num': 500}, 'seed': 42}.\n",
      "\n"
     ]
    },
    {
     "name": "stdout",
     "output_type": "stream",
     "text": [
      "Started: 8\n"
     ]
    },
    {
     "name": "stderr",
     "output_type": "stream",
     "text": [
      "[INFO | root | 2025-01-29 00:11:27] - Data is loaded in 1.956e+01 sec.\n",
      "\n",
      "[INFO | root | 2025-01-29 00:18:42] - Model is trained in 4.356e+02 sec.\n",
      "[INFO | root | 2025-01-29 00:18:42] - PreCorrector's alpha = 0.0455.\n",
      "[INFO | root | 2025-01-29 00:18:42] - First and last losses: train = [9.933e+05, 2.035e+03], test = [5.055e+05, 2.202e+03].\n",
      "\n",
      "[INFO | root | 2025-01-29 00:18:46] - Precs are combined:\n",
      "[INFO | root | 2025-01-29 00:18:46] -  GNN prec construction time (sec) : mean = 6.392e-04, std = 5.547e-05.\n",
      "\n",
      "[INFO | root | 2025-01-29 00:25:02] - CG with GNN is finished:\n",
      "[INFO | root | 2025-01-29 00:25:02] -  iterations to atol([mean, std]): {0.001: [104.4, 6.87], 1e-06: [132.9, 8.91], 1e-09: [160.8, 10.9], 1e-12: [188.1, 13.02]};\n",
      "[INFO | root | 2025-01-29 00:25:02] -  time to atol([mean, std]): {0.001: [1.0415, 0.12894], 1e-06: [1.3243, 0.16058], 1e-09: [1.6015, 0.1902], 1e-12: [1.8671, 0.21858]};\n",
      "[INFO | root | 2025-01-29 00:25:02] -  number of linsystems for which CG did not conerge to atol: {0.001: 0, 1e-06: 0, 1e-09: 0, 1e-12: 0}.\n",
      "\n",
      "[INFO | root | 2025-01-29 00:25:02] - [GNN precs] script `awefn9` finished execution.\n",
      "\n",
      "\n",
      "\n",
      "[INFO | root | 2025-01-29 00:25:02] - %%%%%%%%%%%%%%%%%%%%%%%%%%%%%%%%%%%%%%%%%%%%%%%%%%%%%%%%%%%%%%%%%\n",
      "[INFO | root | 2025-01-29 00:25:02] - [GNN precs] script `a7l4p0` started execution.\n",
      "[INFO | root | 2025-01-29 00:25:02] - Config: {'path': '/mnt/local/data/vtrifonov/prec-learning-Notay-loss/', 'folder_model': 'results_cases/29.01_elliptic_grid64_128_multiBlockMp_precor_gnn/mp_rounds2', 'folder_log': 'results_cases/29.01_elliptic_grid64_128_multiBlockMp_precor_gnn/mp_rounds2', 'name': 'a7l4p0', 'model_use': 'train', 'save_model': True, 'cg_maxiter': 500, 'cg_atol': 1e-12, 'data_config': {'data_dir': '/mnt/local/data/vtrifonov/prec-learning-Notay-loss/', 'pde': 'div_k_grad', 'grid': 128, 'variance': 0.5, 'lhs_type': 'l_ic0', 'N_samples_train': 1000, 'N_samples_test': 200, 'fill_factor': 1, 'threshold': 0.0001}, 'model_config': {'layer_type': 'Conv1d', 'use_nodes': False, 'node_upd_mlp': False, 'static_diag': False, 'alpha': 0.0, 'edge_enc': {'features': [1, 16, 16], 'N_layers': 2}, 'edge_dec': {'features': [16, 16, 1], 'N_layers': 2}, 'mp': {'edge_upd': {'features': [18, 16, 16], 'N_layers': 2}, 'node_upd': {'features': [17, 1, 1], 'N_layers': 2}, 'mp_rounds': 2, 'aggregate_edges': 'max'}}, 'train_config': {'model_type': 'precorrector_gnn_multiblock', 'loss_type': 'high_freq_loss', 'batch_size': 8, 'optimizer': <function adam at 0x7fb9ab53acb0>, 'lr': 0.001, 'optim_params': {}, 'epoch_num': 500}, 'seed': 42}.\n",
      "\n"
     ]
    },
    {
     "name": "stdout",
     "output_type": "stream",
     "text": [
      "Started: 9\n"
     ]
    },
    {
     "name": "stderr",
     "output_type": "stream",
     "text": [
      "[INFO | root | 2025-01-29 00:25:24] - Data is loaded in 2.189e+01 sec.\n",
      "\n",
      "[INFO | root | 2025-01-29 00:32:43] - Model is trained in 4.384e+02 sec.\n",
      "[INFO | root | 2025-01-29 00:32:43] - PreCorrector's alpha = -0.0645.\n",
      "[INFO | root | 2025-01-29 00:32:43] - First and last losses: train = [1.748e+12, 1.652e+12], test = [1.691e+12, 1.632e+12].\n",
      "\n",
      "[INFO | root | 2025-01-29 00:32:46] - Precs are combined:\n",
      "[INFO | root | 2025-01-29 00:32:46] -  GNN prec construction time (sec) : mean = 6.567e-04, std = 4.704e-05.\n",
      "\n",
      "[INFO | root | 2025-01-29 00:42:05] - CG with GNN is finished:\n",
      "[INFO | root | 2025-01-29 00:42:05] -  iterations to atol([mean, std]): {0.001: [168.1, 4.52], 1e-06: [212.4, 4.52], 1e-09: [248.7, 4.79], 1e-12: [280.0, 4.67]};\n",
      "[INFO | root | 2025-01-29 00:42:05] -  time to atol([mean, std]): {0.001: [1.6739, 0.11947], 1e-06: [2.1138, 0.13269], 1e-09: [2.4727, 0.15991], 1e-12: [2.7743, 0.17258]};\n",
      "[INFO | root | 2025-01-29 00:42:05] -  number of linsystems for which CG did not conerge to atol: {0.001: 0, 1e-06: 0, 1e-09: 0, 1e-12: 0}.\n",
      "\n",
      "[INFO | root | 2025-01-29 00:42:05] - [GNN precs] script `a7l4p0` finished execution.\n",
      "\n",
      "\n",
      "\n",
      "[INFO | root | 2025-01-29 00:42:05] - %%%%%%%%%%%%%%%%%%%%%%%%%%%%%%%%%%%%%%%%%%%%%%%%%%%%%%%%%%%%%%%%%\n",
      "[INFO | root | 2025-01-29 00:42:05] - [GNN precs] script `znlwro` started execution.\n",
      "[INFO | root | 2025-01-29 00:42:05] - Config: {'path': '/mnt/local/data/vtrifonov/prec-learning-Notay-loss/', 'folder_model': 'results_cases/29.01_elliptic_grid64_128_multiBlockMp_precor_gnn/mp_rounds2', 'folder_log': 'results_cases/29.01_elliptic_grid64_128_multiBlockMp_precor_gnn/mp_rounds2', 'name': 'znlwro', 'model_use': 'train', 'save_model': True, 'cg_maxiter': 500, 'cg_atol': 1e-12, 'data_config': {'data_dir': '/mnt/local/data/vtrifonov/prec-learning-Notay-loss/', 'pde': 'div_k_grad', 'grid': 128, 'variance': 0.7, 'lhs_type': 'l_ic0', 'N_samples_train': 1000, 'N_samples_test': 200, 'fill_factor': 1, 'threshold': 0.0001}, 'model_config': {'layer_type': 'Conv1d', 'use_nodes': False, 'node_upd_mlp': False, 'static_diag': False, 'alpha': 0.0, 'edge_enc': {'features': [1, 16, 16], 'N_layers': 2}, 'edge_dec': {'features': [16, 16, 1], 'N_layers': 2}, 'mp': {'edge_upd': {'features': [18, 16, 16], 'N_layers': 2}, 'node_upd': {'features': [17, 1, 1], 'N_layers': 2}, 'mp_rounds': 2, 'aggregate_edges': 'max'}}, 'train_config': {'model_type': 'precorrector_gnn_multiblock', 'loss_type': 'high_freq_loss', 'batch_size': 8, 'optimizer': <function adam at 0x7fb9ab53acb0>, 'lr': 0.001, 'optim_params': {}, 'epoch_num': 500}, 'seed': 42}.\n",
      "\n"
     ]
    },
    {
     "name": "stdout",
     "output_type": "stream",
     "text": [
      "Started: 10\n"
     ]
    },
    {
     "name": "stderr",
     "output_type": "stream",
     "text": [
      "[INFO | root | 2025-01-29 00:42:28] - Data is loaded in 2.266e+01 sec.\n",
      "\n",
      "[INFO | root | 2025-01-29 00:49:46] - Model is trained in 4.385e+02 sec.\n",
      "[INFO | root | 2025-01-29 00:49:46] - PreCorrector's alpha = -0.0526.\n",
      "[INFO | root | 2025-01-29 00:49:46] - First and last losses: train = [2.904e+12, 2.716e+12], test = [2.983e+12, 2.726e+12].\n",
      "\n",
      "[INFO | root | 2025-01-29 00:49:49] - Precs are combined:\n",
      "[INFO | root | 2025-01-29 00:49:49] -  GNN prec construction time (sec) : mean = 7.250e-04, std = 4.469e-05.\n",
      "\n",
      "[INFO | root | 2025-01-29 00:59:09] - CG with GNN is finished:\n",
      "[INFO | root | 2025-01-29 00:59:09] -  iterations to atol([mean, std]): {0.001: [178.3, 6.47], 1e-06: [223.6, 6.5], 1e-09: [260.2, 6.6], 1e-12: [291.3, 6.62]};\n",
      "[INFO | root | 2025-01-29 00:59:09] -  time to atol([mean, std]): {0.001: [1.7047, 0.15702], 1e-06: [2.1382, 0.18381], 1e-09: [2.4867, 0.21545], 1e-12: [2.784, 0.23227]};\n",
      "[INFO | root | 2025-01-29 00:59:09] -  number of linsystems for which CG did not conerge to atol: {0.001: 0, 1e-06: 0, 1e-09: 0, 1e-12: 0}.\n",
      "\n",
      "[INFO | root | 2025-01-29 00:59:09] - [GNN precs] script `znlwro` finished execution.\n",
      "\n",
      "\n",
      "\n",
      "[INFO | root | 2025-01-29 00:59:09] - %%%%%%%%%%%%%%%%%%%%%%%%%%%%%%%%%%%%%%%%%%%%%%%%%%%%%%%%%%%%%%%%%\n",
      "[INFO | root | 2025-01-29 00:59:09] - [GNN precs] script `cp6cih` started execution.\n",
      "[INFO | root | 2025-01-29 00:59:09] - Config: {'path': '/mnt/local/data/vtrifonov/prec-learning-Notay-loss/', 'folder_model': 'results_cases/29.01_elliptic_grid64_128_multiBlockMp_precor_gnn/mp_rounds2', 'folder_log': 'results_cases/29.01_elliptic_grid64_128_multiBlockMp_precor_gnn/mp_rounds2', 'name': 'cp6cih', 'model_use': 'train', 'save_model': True, 'cg_maxiter': 500, 'cg_atol': 1e-12, 'data_config': {'data_dir': '/mnt/local/data/vtrifonov/prec-learning-Notay-loss/', 'pde': 'div_k_grad', 'grid': 128, 'variance': 1.1, 'lhs_type': 'l_ic0', 'N_samples_train': 1000, 'N_samples_test': 200, 'fill_factor': 1, 'threshold': 0.0001}, 'model_config': {'layer_type': 'Conv1d', 'use_nodes': False, 'node_upd_mlp': False, 'static_diag': False, 'alpha': 0.0, 'edge_enc': {'features': [1, 16, 16], 'N_layers': 2}, 'edge_dec': {'features': [16, 16, 1], 'N_layers': 2}, 'mp': {'edge_upd': {'features': [18, 16, 16], 'N_layers': 2}, 'node_upd': {'features': [17, 1, 1], 'N_layers': 2}, 'mp_rounds': 2, 'aggregate_edges': 'max'}}, 'train_config': {'model_type': 'precorrector_gnn_multiblock', 'loss_type': 'high_freq_loss', 'batch_size': 8, 'optimizer': <function adam at 0x7fb9ab53acb0>, 'lr': 0.001, 'optim_params': {}, 'epoch_num': 500}, 'seed': 42}.\n",
      "\n"
     ]
    },
    {
     "name": "stdout",
     "output_type": "stream",
     "text": [
      "Started: 11\n"
     ]
    },
    {
     "name": "stderr",
     "output_type": "stream",
     "text": [
      "[INFO | root | 2025-01-29 00:59:31] - Data is loaded in 2.166e+01 sec.\n",
      "\n",
      "[INFO | root | 2025-01-29 01:06:49] - Model is trained in 4.383e+02 sec.\n",
      "[INFO | root | 2025-01-29 01:06:49] - PreCorrector's alpha = -0.0530.\n",
      "[INFO | root | 2025-01-29 01:06:49] - First and last losses: train = [5.194e+12, 4.717e+12], test = [5.051e+12, 4.602e+12].\n",
      "\n",
      "[INFO | root | 2025-01-29 01:06:53] - Precs are combined:\n",
      "[INFO | root | 2025-01-29 01:06:53] -  GNN prec construction time (sec) : mean = 7.146e-04, std = 4.405e-05.\n",
      "\n",
      "[INFO | root | 2025-01-29 01:16:21] - CG with GNN is finished:\n",
      "[INFO | root | 2025-01-29 01:16:21] -  iterations to atol([mean, std]): {0.001: [196.0, 7.92], 1e-06: [243.3, 8.5], 1e-09: [280.7, 8.08], 1e-12: [312.4, 7.75]};\n",
      "[INFO | root | 2025-01-29 01:16:21] -  time to atol([mean, std]): {0.001: [1.769, 0.27617], 1e-06: [2.1945, 0.34071], 1e-09: [2.537, 0.38935], 1e-12: [2.8239, 0.42651]};\n",
      "[INFO | root | 2025-01-29 01:16:21] -  number of linsystems for which CG did not conerge to atol: {0.001: 0, 1e-06: 0, 1e-09: 0, 1e-12: 0}.\n",
      "\n",
      "[INFO | root | 2025-01-29 01:16:21] - [GNN precs] script `cp6cih` finished execution.\n",
      "\n",
      "\n",
      "\n"
     ]
    }
   ],
   "source": [
    "notstatic_precorrector_gnn_config = deepcopy(default_precorrector_gnn_config)\n",
    "notstatic_precorrector_gnn_config['static_diag'] = False\n",
    "notstatic_precorrector_gnn_config['mp']['mp_rounds'] = 2\n",
    "base_config['model_config'] = notstatic_precorrector_gnn_config\n",
    "\n",
    "base_config['folder_model'] = folder\n",
    "base_config['folder_log'] = folder\n",
    "\n",
    "params_grid = ParameterGrid({\n",
    "    'model_use': ['train'],\n",
    "    'cg_maxiter': [500],\n",
    "    'cg_atol': [1e-12],\n",
    "    'model_type': ['precorrector_gnn_multiblock'],\n",
    "    'loss_type': ['low_freq_loss', 'high_freq_loss'],\n",
    "    'batch_size': [8],\n",
    "    'lr': [1e-3],\n",
    "    'epoch_num': [500],\n",
    "    'pde': ['div_k_grad'],\n",
    "    'grid': [64, 128],\n",
    "    'variance': [.5, .7, 1.1],\n",
    "    'lhs_type': ['l_ic0'],\n",
    "    'fill_factor': [1],\n",
    "    'threshold': [1e-4]\n",
    "})\n",
    "\n",
    "grid_script(script_gnn_prec, base_config, params_grid)"
   ]
  },
  {
   "cell_type": "markdown",
   "id": "d57aa63b",
   "metadata": {},
   "source": [
    "## 3 mp blocks"
   ]
  },
  {
   "cell_type": "code",
   "execution_count": 7,
   "id": "cb74a60a",
   "metadata": {},
   "outputs": [],
   "source": [
    "folder = 'results_cases/29.01_elliptic_grid64_128_multiBlockMp_precor_gnn/mp_rounds3'"
   ]
  },
  {
   "cell_type": "code",
   "execution_count": 8,
   "id": "ade2e2df",
   "metadata": {
    "collapsed": true,
    "jupyter": {
     "outputs_hidden": true
    }
   },
   "outputs": [
    {
     "name": "stderr",
     "output_type": "stream",
     "text": [
      "[INFO | root | 2025-01-29 01:16:21] - %%%%%%%%%%%%%%%%%%%%%%%%%%%%%%%%%%%%%%%%%%%%%%%%%%%%%%%%%%%%%%%%%\n",
      "[INFO | root | 2025-01-29 01:16:21] - [GNN precs] script `5hnfj1` started execution.\n",
      "[INFO | root | 2025-01-29 01:16:21] - Config: {'path': '/mnt/local/data/vtrifonov/prec-learning-Notay-loss/', 'folder_model': 'results_cases/29.01_elliptic_grid64_128_multiBlockMp_precor_gnn/mp_rounds3', 'folder_log': 'results_cases/29.01_elliptic_grid64_128_multiBlockMp_precor_gnn/mp_rounds3', 'name': '5hnfj1', 'model_use': 'train', 'save_model': True, 'cg_maxiter': 500, 'cg_atol': 1e-12, 'data_config': {'data_dir': '/mnt/local/data/vtrifonov/prec-learning-Notay-loss/', 'pde': 'div_k_grad', 'grid': 64, 'variance': 0.5, 'lhs_type': 'l_ic0', 'N_samples_train': 1000, 'N_samples_test': 200, 'fill_factor': 1, 'threshold': 0.0001}, 'model_config': {'layer_type': 'Conv1d', 'use_nodes': False, 'node_upd_mlp': False, 'static_diag': False, 'alpha': 0.0, 'edge_enc': {'features': [1, 16, 16], 'N_layers': 2}, 'edge_dec': {'features': [16, 16, 1], 'N_layers': 2}, 'mp': {'edge_upd': {'features': [18, 16, 16], 'N_layers': 2}, 'node_upd': {'features': [17, 1, 1], 'N_layers': 2}, 'mp_rounds': 3, 'aggregate_edges': 'max'}}, 'train_config': {'model_type': 'precorrector_gnn_multiblock', 'loss_type': 'low_freq_loss', 'batch_size': 8, 'optimizer': <function adam at 0x7fb9ab53acb0>, 'lr': 0.001, 'optim_params': {}, 'epoch_num': 500}, 'seed': 42}.\n",
      "\n"
     ]
    },
    {
     "name": "stdout",
     "output_type": "stream",
     "text": [
      "Started: 0\n"
     ]
    },
    {
     "name": "stderr",
     "output_type": "stream",
     "text": [
      "[INFO | root | 2025-01-29 01:16:36] - Data is loaded in 1.516e+01 sec.\n",
      "\n",
      "[INFO | root | 2025-01-29 01:19:21] - Model is trained in 1.649e+02 sec.\n",
      "[INFO | root | 2025-01-29 01:19:21] - PreCorrector's alpha = 0.0641.\n",
      "[INFO | root | 2025-01-29 01:19:21] - First and last losses: train = [1.706e+04, 4.982e+02], test = [5.748e+03, 5.012e+02].\n",
      "\n",
      "[INFO | root | 2025-01-29 01:19:24] - Precs are combined:\n",
      "[INFO | root | 2025-01-29 01:19:24] -  GNN prec construction time (sec) : mean = 3.071e-04, std = 6.658e-06.\n",
      "\n",
      "[INFO | root | 2025-01-29 01:20:00] - CG with GNN is finished:\n",
      "[INFO | root | 2025-01-29 01:20:00] -  iterations to atol([mean, std]): {0.001: [44.3, 1.85], 1e-06: [56.8, 2.04], 1e-09: [68.4, 2.27], 1e-12: [79.6, 2.55]};\n",
      "[INFO | root | 2025-01-29 01:20:00] -  time to atol([mean, std]): {0.001: [0.0965, 0.00396], 1e-06: [0.1232, 0.00439], 1e-09: [0.1481, 0.00487], 1e-12: [0.172, 0.00547]};\n",
      "[INFO | root | 2025-01-29 01:20:00] -  number of linsystems for which CG did not conerge to atol: {0.001: 0, 1e-06: 0, 1e-09: 0, 1e-12: 0}.\n",
      "\n",
      "[INFO | root | 2025-01-29 01:20:00] - [GNN precs] script `5hnfj1` finished execution.\n",
      "\n",
      "\n",
      "\n",
      "[INFO | root | 2025-01-29 01:20:00] - %%%%%%%%%%%%%%%%%%%%%%%%%%%%%%%%%%%%%%%%%%%%%%%%%%%%%%%%%%%%%%%%%\n",
      "[INFO | root | 2025-01-29 01:20:00] - [GNN precs] script `d35nfj` started execution.\n",
      "[INFO | root | 2025-01-29 01:20:00] - Config: {'path': '/mnt/local/data/vtrifonov/prec-learning-Notay-loss/', 'folder_model': 'results_cases/29.01_elliptic_grid64_128_multiBlockMp_precor_gnn/mp_rounds3', 'folder_log': 'results_cases/29.01_elliptic_grid64_128_multiBlockMp_precor_gnn/mp_rounds3', 'name': 'd35nfj', 'model_use': 'train', 'save_model': True, 'cg_maxiter': 500, 'cg_atol': 1e-12, 'data_config': {'data_dir': '/mnt/local/data/vtrifonov/prec-learning-Notay-loss/', 'pde': 'div_k_grad', 'grid': 64, 'variance': 0.7, 'lhs_type': 'l_ic0', 'N_samples_train': 1000, 'N_samples_test': 200, 'fill_factor': 1, 'threshold': 0.0001}, 'model_config': {'layer_type': 'Conv1d', 'use_nodes': False, 'node_upd_mlp': False, 'static_diag': False, 'alpha': 0.0, 'edge_enc': {'features': [1, 16, 16], 'N_layers': 2}, 'edge_dec': {'features': [16, 16, 1], 'N_layers': 2}, 'mp': {'edge_upd': {'features': [18, 16, 16], 'N_layers': 2}, 'node_upd': {'features': [17, 1, 1], 'N_layers': 2}, 'mp_rounds': 3, 'aggregate_edges': 'max'}}, 'train_config': {'model_type': 'precorrector_gnn_multiblock', 'loss_type': 'low_freq_loss', 'batch_size': 8, 'optimizer': <function adam at 0x7fb9ab53acb0>, 'lr': 0.001, 'optim_params': {}, 'epoch_num': 500}, 'seed': 42}.\n",
      "\n"
     ]
    },
    {
     "name": "stdout",
     "output_type": "stream",
     "text": [
      "Started: 1\n"
     ]
    },
    {
     "name": "stderr",
     "output_type": "stream",
     "text": [
      "[INFO | root | 2025-01-29 01:20:15] - Data is loaded in 1.526e+01 sec.\n",
      "\n",
      "[INFO | root | 2025-01-29 01:23:00] - Model is trained in 1.646e+02 sec.\n",
      "[INFO | root | 2025-01-29 01:23:00] - PreCorrector's alpha = 0.0593.\n",
      "[INFO | root | 2025-01-29 01:23:00] - First and last losses: train = [3.667e+04, 4.921e+02], test = [9.279e+03, 4.752e+02].\n",
      "\n",
      "[INFO | root | 2025-01-29 01:23:02] - Precs are combined:\n",
      "[INFO | root | 2025-01-29 01:23:02] -  GNN prec construction time (sec) : mean = 2.793e-04, std = 7.872e-06.\n",
      "\n",
      "[INFO | root | 2025-01-29 01:23:41] - CG with GNN is finished:\n",
      "[INFO | root | 2025-01-29 01:23:41] -  iterations to atol([mean, std]): {0.001: [45.9, 2.03], 1e-06: [59.3, 2.33], 1e-09: [71.8, 2.55], 1e-12: [83.9, 2.89]};\n",
      "[INFO | root | 2025-01-29 01:23:41] -  time to atol([mean, std]): {0.001: [0.1003, 0.00439], 1e-06: [0.1291, 0.00502], 1e-09: [0.156, 0.0055], 1e-12: [0.1821, 0.00623]};\n",
      "[INFO | root | 2025-01-29 01:23:41] -  number of linsystems for which CG did not conerge to atol: {0.001: 0, 1e-06: 0, 1e-09: 0, 1e-12: 0}.\n",
      "\n",
      "[INFO | root | 2025-01-29 01:23:41] - [GNN precs] script `d35nfj` finished execution.\n",
      "\n",
      "\n",
      "\n",
      "[INFO | root | 2025-01-29 01:23:41] - %%%%%%%%%%%%%%%%%%%%%%%%%%%%%%%%%%%%%%%%%%%%%%%%%%%%%%%%%%%%%%%%%\n",
      "[INFO | root | 2025-01-29 01:23:41] - [GNN precs] script `eq2vla` started execution.\n",
      "[INFO | root | 2025-01-29 01:23:41] - Config: {'path': '/mnt/local/data/vtrifonov/prec-learning-Notay-loss/', 'folder_model': 'results_cases/29.01_elliptic_grid64_128_multiBlockMp_precor_gnn/mp_rounds3', 'folder_log': 'results_cases/29.01_elliptic_grid64_128_multiBlockMp_precor_gnn/mp_rounds3', 'name': 'eq2vla', 'model_use': 'train', 'save_model': True, 'cg_maxiter': 500, 'cg_atol': 1e-12, 'data_config': {'data_dir': '/mnt/local/data/vtrifonov/prec-learning-Notay-loss/', 'pde': 'div_k_grad', 'grid': 64, 'variance': 1.1, 'lhs_type': 'l_ic0', 'N_samples_train': 1000, 'N_samples_test': 200, 'fill_factor': 1, 'threshold': 0.0001}, 'model_config': {'layer_type': 'Conv1d', 'use_nodes': False, 'node_upd_mlp': False, 'static_diag': False, 'alpha': 0.0, 'edge_enc': {'features': [1, 16, 16], 'N_layers': 2}, 'edge_dec': {'features': [16, 16, 1], 'N_layers': 2}, 'mp': {'edge_upd': {'features': [18, 16, 16], 'N_layers': 2}, 'node_upd': {'features': [17, 1, 1], 'N_layers': 2}, 'mp_rounds': 3, 'aggregate_edges': 'max'}}, 'train_config': {'model_type': 'precorrector_gnn_multiblock', 'loss_type': 'low_freq_loss', 'batch_size': 8, 'optimizer': <function adam at 0x7fb9ab53acb0>, 'lr': 0.001, 'optim_params': {}, 'epoch_num': 500}, 'seed': 42}.\n",
      "\n"
     ]
    },
    {
     "name": "stdout",
     "output_type": "stream",
     "text": [
      "Started: 2\n"
     ]
    },
    {
     "name": "stderr",
     "output_type": "stream",
     "text": [
      "[INFO | root | 2025-01-29 01:23:57] - Data is loaded in 1.606e+01 sec.\n",
      "\n",
      "[INFO | root | 2025-01-29 01:26:41] - Model is trained in 1.643e+02 sec.\n",
      "[INFO | root | 2025-01-29 01:26:41] - PreCorrector's alpha = 0.0559.\n",
      "[INFO | root | 2025-01-29 01:26:41] - First and last losses: train = [5.807e+04, 6.491e+02], test = [3.883e+04, 6.482e+02].\n",
      "\n",
      "[INFO | root | 2025-01-29 01:26:44] - Precs are combined:\n",
      "[INFO | root | 2025-01-29 01:26:44] -  GNN prec construction time (sec) : mean = 2.865e-04, std = 8.762e-06.\n",
      "\n",
      "[INFO | root | 2025-01-29 01:27:33] - CG with GNN is finished:\n",
      "[INFO | root | 2025-01-29 01:27:33] -  iterations to atol([mean, std]): {0.001: [58.9, 3.3], 1e-06: [75.7, 4.01], 1e-09: [91.6, 4.64], 1e-12: [107.2, 5.5]};\n",
      "[INFO | root | 2025-01-29 01:27:33] -  time to atol([mean, std]): {0.001: [0.1284, 0.00712], 1e-06: [0.1644, 0.00865], 1e-09: [0.199, 0.01058], 1e-12: [0.2326, 0.01242]};\n",
      "[INFO | root | 2025-01-29 01:27:33] -  number of linsystems for which CG did not conerge to atol: {0.001: 0, 1e-06: 0, 1e-09: 0, 1e-12: 0}.\n",
      "\n",
      "[INFO | root | 2025-01-29 01:27:33] - [GNN precs] script `eq2vla` finished execution.\n",
      "\n",
      "\n",
      "\n",
      "[INFO | root | 2025-01-29 01:27:33] - %%%%%%%%%%%%%%%%%%%%%%%%%%%%%%%%%%%%%%%%%%%%%%%%%%%%%%%%%%%%%%%%%\n",
      "[INFO | root | 2025-01-29 01:27:33] - [GNN precs] script `c9qkou` started execution.\n",
      "[INFO | root | 2025-01-29 01:27:33] - Config: {'path': '/mnt/local/data/vtrifonov/prec-learning-Notay-loss/', 'folder_model': 'results_cases/29.01_elliptic_grid64_128_multiBlockMp_precor_gnn/mp_rounds3', 'folder_log': 'results_cases/29.01_elliptic_grid64_128_multiBlockMp_precor_gnn/mp_rounds3', 'name': 'c9qkou', 'model_use': 'train', 'save_model': True, 'cg_maxiter': 500, 'cg_atol': 1e-12, 'data_config': {'data_dir': '/mnt/local/data/vtrifonov/prec-learning-Notay-loss/', 'pde': 'div_k_grad', 'grid': 64, 'variance': 0.5, 'lhs_type': 'l_ic0', 'N_samples_train': 1000, 'N_samples_test': 200, 'fill_factor': 1, 'threshold': 0.0001}, 'model_config': {'layer_type': 'Conv1d', 'use_nodes': False, 'node_upd_mlp': False, 'static_diag': False, 'alpha': 0.0, 'edge_enc': {'features': [1, 16, 16], 'N_layers': 2}, 'edge_dec': {'features': [16, 16, 1], 'N_layers': 2}, 'mp': {'edge_upd': {'features': [18, 16, 16], 'N_layers': 2}, 'node_upd': {'features': [17, 1, 1], 'N_layers': 2}, 'mp_rounds': 3, 'aggregate_edges': 'max'}}, 'train_config': {'model_type': 'precorrector_gnn_multiblock', 'loss_type': 'high_freq_loss', 'batch_size': 8, 'optimizer': <function adam at 0x7fb9ab53acb0>, 'lr': 0.001, 'optim_params': {}, 'epoch_num': 500}, 'seed': 42}.\n",
      "\n"
     ]
    },
    {
     "name": "stdout",
     "output_type": "stream",
     "text": [
      "Started: 3\n"
     ]
    },
    {
     "name": "stderr",
     "output_type": "stream",
     "text": [
      "[INFO | root | 2025-01-29 01:27:49] - Data is loaded in 1.606e+01 sec.\n",
      "\n",
      "[INFO | root | 2025-01-29 01:30:37] - Model is trained in 1.676e+02 sec.\n",
      "[INFO | root | 2025-01-29 01:30:37] - PreCorrector's alpha = -0.0653.\n",
      "[INFO | root | 2025-01-29 01:30:37] - First and last losses: train = [2.806e+10, 2.604e+10], test = [2.736e+10, 2.611e+10].\n",
      "\n",
      "[INFO | root | 2025-01-29 01:30:39] - Precs are combined:\n",
      "[INFO | root | 2025-01-29 01:30:39] -  GNN prec construction time (sec) : mean = 2.812e-04, std = 8.355e-06.\n",
      "\n",
      "[INFO | root | 2025-01-29 01:31:44] - CG with GNN is finished:\n",
      "[INFO | root | 2025-01-29 01:31:44] -  iterations to atol([mean, std]): {0.001: [83.3, 2.59], 1e-06: [106.3, 2.45], 1e-09: [125.0, 2.44], 1e-12: [141.3, 2.45]};\n",
      "[INFO | root | 2025-01-29 01:31:44] -  time to atol([mean, std]): {0.001: [0.1862, 0.00579], 1e-06: [0.237, 0.00556], 1e-09: [0.2784, 0.00552], 1e-12: [0.3145, 0.00561]};\n",
      "[INFO | root | 2025-01-29 01:31:44] -  number of linsystems for which CG did not conerge to atol: {0.001: 0, 1e-06: 0, 1e-09: 0, 1e-12: 0}.\n",
      "\n",
      "[INFO | root | 2025-01-29 01:31:44] - [GNN precs] script `c9qkou` finished execution.\n",
      "\n",
      "\n",
      "\n",
      "[INFO | root | 2025-01-29 01:31:44] - %%%%%%%%%%%%%%%%%%%%%%%%%%%%%%%%%%%%%%%%%%%%%%%%%%%%%%%%%%%%%%%%%\n",
      "[INFO | root | 2025-01-29 01:31:44] - [GNN precs] script `4wzr03` started execution.\n",
      "[INFO | root | 2025-01-29 01:31:44] - Config: {'path': '/mnt/local/data/vtrifonov/prec-learning-Notay-loss/', 'folder_model': 'results_cases/29.01_elliptic_grid64_128_multiBlockMp_precor_gnn/mp_rounds3', 'folder_log': 'results_cases/29.01_elliptic_grid64_128_multiBlockMp_precor_gnn/mp_rounds3', 'name': '4wzr03', 'model_use': 'train', 'save_model': True, 'cg_maxiter': 500, 'cg_atol': 1e-12, 'data_config': {'data_dir': '/mnt/local/data/vtrifonov/prec-learning-Notay-loss/', 'pde': 'div_k_grad', 'grid': 64, 'variance': 0.7, 'lhs_type': 'l_ic0', 'N_samples_train': 1000, 'N_samples_test': 200, 'fill_factor': 1, 'threshold': 0.0001}, 'model_config': {'layer_type': 'Conv1d', 'use_nodes': False, 'node_upd_mlp': False, 'static_diag': False, 'alpha': 0.0, 'edge_enc': {'features': [1, 16, 16], 'N_layers': 2}, 'edge_dec': {'features': [16, 16, 1], 'N_layers': 2}, 'mp': {'edge_upd': {'features': [18, 16, 16], 'N_layers': 2}, 'node_upd': {'features': [17, 1, 1], 'N_layers': 2}, 'mp_rounds': 3, 'aggregate_edges': 'max'}}, 'train_config': {'model_type': 'precorrector_gnn_multiblock', 'loss_type': 'high_freq_loss', 'batch_size': 8, 'optimizer': <function adam at 0x7fb9ab53acb0>, 'lr': 0.001, 'optim_params': {}, 'epoch_num': 500}, 'seed': 42}.\n",
      "\n"
     ]
    },
    {
     "name": "stdout",
     "output_type": "stream",
     "text": [
      "Started: 4\n"
     ]
    },
    {
     "name": "stderr",
     "output_type": "stream",
     "text": [
      "[INFO | root | 2025-01-29 01:32:00] - Data is loaded in 1.579e+01 sec.\n",
      "\n",
      "[INFO | root | 2025-01-29 01:34:47] - Model is trained in 1.672e+02 sec.\n",
      "[INFO | root | 2025-01-29 01:34:47] - PreCorrector's alpha = -0.0563.\n",
      "[INFO | root | 2025-01-29 01:34:47] - First and last losses: train = [4.403e+10, 4.056e+10], test = [4.166e+10, 4.102e+10].\n",
      "\n",
      "[INFO | root | 2025-01-29 01:34:49] - Precs are combined:\n",
      "[INFO | root | 2025-01-29 01:34:49] -  GNN prec construction time (sec) : mean = 2.894e-04, std = 6.358e-06.\n",
      "\n",
      "[INFO | root | 2025-01-29 01:35:55] - CG with GNN is finished:\n",
      "[INFO | root | 2025-01-29 01:35:55] -  iterations to atol([mean, std]): {0.001: [87.4, 3.36], 1e-06: [110.8, 3.63], 1e-09: [129.6, 3.49], 1e-12: [145.9, 3.35]};\n",
      "[INFO | root | 2025-01-29 01:35:55] -  time to atol([mean, std]): {0.001: [0.193, 0.00734], 1e-06: [0.244, 0.00789], 1e-09: [0.285, 0.00755], 1e-12: [0.3205, 0.00726]};\n",
      "[INFO | root | 2025-01-29 01:35:55] -  number of linsystems for which CG did not conerge to atol: {0.001: 0, 1e-06: 0, 1e-09: 0, 1e-12: 0}.\n",
      "\n",
      "[INFO | root | 2025-01-29 01:35:55] - [GNN precs] script `4wzr03` finished execution.\n",
      "\n",
      "\n",
      "\n",
      "[INFO | root | 2025-01-29 01:35:55] - %%%%%%%%%%%%%%%%%%%%%%%%%%%%%%%%%%%%%%%%%%%%%%%%%%%%%%%%%%%%%%%%%\n",
      "[INFO | root | 2025-01-29 01:35:55] - [GNN precs] script `wr6j42` started execution.\n",
      "[INFO | root | 2025-01-29 01:35:55] - Config: {'path': '/mnt/local/data/vtrifonov/prec-learning-Notay-loss/', 'folder_model': 'results_cases/29.01_elliptic_grid64_128_multiBlockMp_precor_gnn/mp_rounds3', 'folder_log': 'results_cases/29.01_elliptic_grid64_128_multiBlockMp_precor_gnn/mp_rounds3', 'name': 'wr6j42', 'model_use': 'train', 'save_model': True, 'cg_maxiter': 500, 'cg_atol': 1e-12, 'data_config': {'data_dir': '/mnt/local/data/vtrifonov/prec-learning-Notay-loss/', 'pde': 'div_k_grad', 'grid': 64, 'variance': 1.1, 'lhs_type': 'l_ic0', 'N_samples_train': 1000, 'N_samples_test': 200, 'fill_factor': 1, 'threshold': 0.0001}, 'model_config': {'layer_type': 'Conv1d', 'use_nodes': False, 'node_upd_mlp': False, 'static_diag': False, 'alpha': 0.0, 'edge_enc': {'features': [1, 16, 16], 'N_layers': 2}, 'edge_dec': {'features': [16, 16, 1], 'N_layers': 2}, 'mp': {'edge_upd': {'features': [18, 16, 16], 'N_layers': 2}, 'node_upd': {'features': [17, 1, 1], 'N_layers': 2}, 'mp_rounds': 3, 'aggregate_edges': 'max'}}, 'train_config': {'model_type': 'precorrector_gnn_multiblock', 'loss_type': 'high_freq_loss', 'batch_size': 8, 'optimizer': <function adam at 0x7fb9ab53acb0>, 'lr': 0.001, 'optim_params': {}, 'epoch_num': 500}, 'seed': 42}.\n",
      "\n"
     ]
    },
    {
     "name": "stdout",
     "output_type": "stream",
     "text": [
      "Started: 5\n"
     ]
    },
    {
     "name": "stderr",
     "output_type": "stream",
     "text": [
      "[INFO | root | 2025-01-29 01:36:11] - Data is loaded in 1.582e+01 sec.\n",
      "\n",
      "[INFO | root | 2025-01-29 01:38:58] - Model is trained in 1.670e+02 sec.\n",
      "[INFO | root | 2025-01-29 01:38:58] - PreCorrector's alpha = -0.0558.\n",
      "[INFO | root | 2025-01-29 01:38:58] - First and last losses: train = [8.350e+10, 7.476e+10], test = [8.118e+10, 7.566e+10].\n",
      "\n",
      "[INFO | root | 2025-01-29 01:39:01] - Precs are combined:\n",
      "[INFO | root | 2025-01-29 01:39:01] -  GNN prec construction time (sec) : mean = 2.892e-04, std = 1.426e-05.\n",
      "\n",
      "[INFO | root | 2025-01-29 01:40:12] - CG with GNN is finished:\n",
      "[INFO | root | 2025-01-29 01:40:12] -  iterations to atol([mean, std]): {0.001: [96.9, 4.1], 1e-06: [121.5, 4.12], 1e-09: [140.9, 4.12], 1e-12: [157.1, 3.94]};\n",
      "[INFO | root | 2025-01-29 01:40:12] -  time to atol([mean, std]): {0.001: [0.2142, 0.00895], 1e-06: [0.268, 0.0091], 1e-09: [0.311, 0.00997], 1e-12: [0.3465, 0.00968]};\n",
      "[INFO | root | 2025-01-29 01:40:12] -  number of linsystems for which CG did not conerge to atol: {0.001: 0, 1e-06: 0, 1e-09: 0, 1e-12: 0}.\n",
      "\n",
      "[INFO | root | 2025-01-29 01:40:12] - [GNN precs] script `wr6j42` finished execution.\n",
      "\n",
      "\n",
      "\n",
      "[INFO | root | 2025-01-29 01:40:12] - %%%%%%%%%%%%%%%%%%%%%%%%%%%%%%%%%%%%%%%%%%%%%%%%%%%%%%%%%%%%%%%%%\n",
      "[INFO | root | 2025-01-29 01:40:12] - [GNN precs] script `fttvqm` started execution.\n",
      "[INFO | root | 2025-01-29 01:40:12] - Config: {'path': '/mnt/local/data/vtrifonov/prec-learning-Notay-loss/', 'folder_model': 'results_cases/29.01_elliptic_grid64_128_multiBlockMp_precor_gnn/mp_rounds3', 'folder_log': 'results_cases/29.01_elliptic_grid64_128_multiBlockMp_precor_gnn/mp_rounds3', 'name': 'fttvqm', 'model_use': 'train', 'save_model': True, 'cg_maxiter': 500, 'cg_atol': 1e-12, 'data_config': {'data_dir': '/mnt/local/data/vtrifonov/prec-learning-Notay-loss/', 'pde': 'div_k_grad', 'grid': 128, 'variance': 0.5, 'lhs_type': 'l_ic0', 'N_samples_train': 1000, 'N_samples_test': 200, 'fill_factor': 1, 'threshold': 0.0001}, 'model_config': {'layer_type': 'Conv1d', 'use_nodes': False, 'node_upd_mlp': False, 'static_diag': False, 'alpha': 0.0, 'edge_enc': {'features': [1, 16, 16], 'N_layers': 2}, 'edge_dec': {'features': [16, 16, 1], 'N_layers': 2}, 'mp': {'edge_upd': {'features': [18, 16, 16], 'N_layers': 2}, 'node_upd': {'features': [17, 1, 1], 'N_layers': 2}, 'mp_rounds': 3, 'aggregate_edges': 'max'}}, 'train_config': {'model_type': 'precorrector_gnn_multiblock', 'loss_type': 'low_freq_loss', 'batch_size': 8, 'optimizer': <function adam at 0x7fb9ab53acb0>, 'lr': 0.001, 'optim_params': {}, 'epoch_num': 500}, 'seed': 42}.\n",
      "\n"
     ]
    },
    {
     "name": "stdout",
     "output_type": "stream",
     "text": [
      "Started: 6\n"
     ]
    },
    {
     "name": "stderr",
     "output_type": "stream",
     "text": [
      "[INFO | root | 2025-01-29 01:40:32] - Data is loaded in 1.982e+01 sec.\n",
      "\n",
      "[INFO | root | 2025-01-29 01:50:19] - Model is trained in 5.869e+02 sec.\n",
      "[INFO | root | 2025-01-29 01:50:19] - PreCorrector's alpha = 0.0551.\n",
      "[INFO | root | 2025-01-29 01:50:19] - First and last losses: train = [2.216e+05, 1.794e+03], test = [5.697e+04, 1.797e+03].\n",
      "\n",
      "[INFO | root | 2025-01-29 01:50:22] - Precs are combined:\n",
      "[INFO | root | 2025-01-29 01:50:22] -  GNN prec construction time (sec) : mean = 7.056e-04, std = 6.884e-05.\n",
      "\n",
      "[INFO | root | 2025-01-29 01:53:39] - CG with GNN is finished:\n",
      "[INFO | root | 2025-01-29 01:53:39] -  iterations to atol([mean, std]): {0.001: [67.5, 3.12], 1e-06: [85.6, 3.69], 1e-09: [102.6, 4.14], 1e-12: [119.2, 4.71]};\n",
      "[INFO | root | 2025-01-29 01:53:39] -  time to atol([mean, std]): {0.001: [0.5518, 0.05045], 1e-06: [0.6984, 0.0633], 1e-09: [0.837, 0.07464], 1e-12: [0.9719, 0.08704]};\n",
      "[INFO | root | 2025-01-29 01:53:39] -  number of linsystems for which CG did not conerge to atol: {0.001: 0, 1e-06: 0, 1e-09: 0, 1e-12: 0}.\n",
      "\n",
      "[INFO | root | 2025-01-29 01:53:39] - [GNN precs] script `fttvqm` finished execution.\n",
      "\n",
      "\n",
      "\n",
      "[INFO | root | 2025-01-29 01:53:39] - %%%%%%%%%%%%%%%%%%%%%%%%%%%%%%%%%%%%%%%%%%%%%%%%%%%%%%%%%%%%%%%%%\n",
      "[INFO | root | 2025-01-29 01:53:39] - [GNN precs] script `deca7m` started execution.\n",
      "[INFO | root | 2025-01-29 01:53:39] - Config: {'path': '/mnt/local/data/vtrifonov/prec-learning-Notay-loss/', 'folder_model': 'results_cases/29.01_elliptic_grid64_128_multiBlockMp_precor_gnn/mp_rounds3', 'folder_log': 'results_cases/29.01_elliptic_grid64_128_multiBlockMp_precor_gnn/mp_rounds3', 'name': 'deca7m', 'model_use': 'train', 'save_model': True, 'cg_maxiter': 500, 'cg_atol': 1e-12, 'data_config': {'data_dir': '/mnt/local/data/vtrifonov/prec-learning-Notay-loss/', 'pde': 'div_k_grad', 'grid': 128, 'variance': 0.7, 'lhs_type': 'l_ic0', 'N_samples_train': 1000, 'N_samples_test': 200, 'fill_factor': 1, 'threshold': 0.0001}, 'model_config': {'layer_type': 'Conv1d', 'use_nodes': False, 'node_upd_mlp': False, 'static_diag': False, 'alpha': 0.0, 'edge_enc': {'features': [1, 16, 16], 'N_layers': 2}, 'edge_dec': {'features': [16, 16, 1], 'N_layers': 2}, 'mp': {'edge_upd': {'features': [18, 16, 16], 'N_layers': 2}, 'node_upd': {'features': [17, 1, 1], 'N_layers': 2}, 'mp_rounds': 3, 'aggregate_edges': 'max'}}, 'train_config': {'model_type': 'precorrector_gnn_multiblock', 'loss_type': 'low_freq_loss', 'batch_size': 8, 'optimizer': <function adam at 0x7fb9ab53acb0>, 'lr': 0.001, 'optim_params': {}, 'epoch_num': 500}, 'seed': 42}.\n",
      "\n"
     ]
    },
    {
     "name": "stdout",
     "output_type": "stream",
     "text": [
      "Started: 7\n"
     ]
    },
    {
     "name": "stderr",
     "output_type": "stream",
     "text": [
      "[INFO | root | 2025-01-29 01:53:59] - Data is loaded in 2.001e+01 sec.\n",
      "\n",
      "[INFO | root | 2025-01-29 02:03:45] - Model is trained in 5.863e+02 sec.\n",
      "[INFO | root | 2025-01-29 02:03:45] - PreCorrector's alpha = 0.0551.\n",
      "[INFO | root | 2025-01-29 02:03:45] - First and last losses: train = [4.585e+05, 1.922e+03], test = [2.461e+05, 2.202e+03].\n",
      "\n",
      "[INFO | root | 2025-01-29 02:03:49] - Precs are combined:\n",
      "[INFO | root | 2025-01-29 02:03:49] -  GNN prec construction time (sec) : mean = 6.967e-04, std = 7.089e-05.\n",
      "\n",
      "[INFO | root | 2025-01-29 02:07:03] - CG with GNN is finished:\n",
      "[INFO | root | 2025-01-29 02:07:03] -  iterations to atol([mean, std]): {0.001: [78.1, 4.17], 1e-06: [97.9, 5.01], 1e-09: [116.3, 5.58], 1e-12: [133.4, 6.2]};\n",
      "[INFO | root | 2025-01-29 02:07:03] -  time to atol([mean, std]): {0.001: [0.5608, 0.09347], 1e-06: [0.7023, 0.11729], 1e-09: [0.8336, 0.13737], 1e-12: [0.9562, 0.15758]};\n",
      "[INFO | root | 2025-01-29 02:07:03] -  number of linsystems for which CG did not conerge to atol: {0.001: 0, 1e-06: 0, 1e-09: 0, 1e-12: 0}.\n",
      "\n",
      "[INFO | root | 2025-01-29 02:07:03] - [GNN precs] script `deca7m` finished execution.\n",
      "\n",
      "\n",
      "\n",
      "[INFO | root | 2025-01-29 02:07:03] - %%%%%%%%%%%%%%%%%%%%%%%%%%%%%%%%%%%%%%%%%%%%%%%%%%%%%%%%%%%%%%%%%\n",
      "[INFO | root | 2025-01-29 02:07:03] - [GNN precs] script `6b3i1g` started execution.\n",
      "[INFO | root | 2025-01-29 02:07:03] - Config: {'path': '/mnt/local/data/vtrifonov/prec-learning-Notay-loss/', 'folder_model': 'results_cases/29.01_elliptic_grid64_128_multiBlockMp_precor_gnn/mp_rounds3', 'folder_log': 'results_cases/29.01_elliptic_grid64_128_multiBlockMp_precor_gnn/mp_rounds3', 'name': '6b3i1g', 'model_use': 'train', 'save_model': True, 'cg_maxiter': 500, 'cg_atol': 1e-12, 'data_config': {'data_dir': '/mnt/local/data/vtrifonov/prec-learning-Notay-loss/', 'pde': 'div_k_grad', 'grid': 128, 'variance': 1.1, 'lhs_type': 'l_ic0', 'N_samples_train': 1000, 'N_samples_test': 200, 'fill_factor': 1, 'threshold': 0.0001}, 'model_config': {'layer_type': 'Conv1d', 'use_nodes': False, 'node_upd_mlp': False, 'static_diag': False, 'alpha': 0.0, 'edge_enc': {'features': [1, 16, 16], 'N_layers': 2}, 'edge_dec': {'features': [16, 16, 1], 'N_layers': 2}, 'mp': {'edge_upd': {'features': [18, 16, 16], 'N_layers': 2}, 'node_upd': {'features': [17, 1, 1], 'N_layers': 2}, 'mp_rounds': 3, 'aggregate_edges': 'max'}}, 'train_config': {'model_type': 'precorrector_gnn_multiblock', 'loss_type': 'low_freq_loss', 'batch_size': 8, 'optimizer': <function adam at 0x7fb9ab53acb0>, 'lr': 0.001, 'optim_params': {}, 'epoch_num': 500}, 'seed': 42}.\n",
      "\n"
     ]
    },
    {
     "name": "stdout",
     "output_type": "stream",
     "text": [
      "Started: 8\n"
     ]
    },
    {
     "name": "stderr",
     "output_type": "stream",
     "text": [
      "[INFO | root | 2025-01-29 02:07:24] - Data is loaded in 2.091e+01 sec.\n",
      "\n",
      "[INFO | root | 2025-01-29 02:17:10] - Model is trained in 5.861e+02 sec.\n",
      "[INFO | root | 2025-01-29 02:17:10] - PreCorrector's alpha = 0.0440.\n",
      "[INFO | root | 2025-01-29 02:17:10] - First and last losses: train = [9.809e+05, 1.992e+03], test = [5.061e+05, 1.991e+03].\n",
      "\n",
      "[INFO | root | 2025-01-29 02:17:13] - Precs are combined:\n",
      "[INFO | root | 2025-01-29 02:17:13] -  GNN prec construction time (sec) : mean = 7.894e-04, std = 7.163e-05.\n",
      "\n",
      "[INFO | root | 2025-01-29 02:21:34] - CG with GNN is finished:\n",
      "[INFO | root | 2025-01-29 02:21:34] -  iterations to atol([mean, std]): {0.001: [94.3, 6.05], 1e-06: [119.3, 7.37], 1e-09: [143.1, 8.47], 1e-12: [166.1, 9.48]};\n",
      "[INFO | root | 2025-01-29 02:21:34] -  time to atol([mean, std]): {0.001: [0.7341, 0.09889], 1e-06: [0.9281, 0.12305], 1e-09: [1.1132, 0.14605], 1e-12: [1.2912, 0.16846]};\n",
      "[INFO | root | 2025-01-29 02:21:34] -  number of linsystems for which CG did not conerge to atol: {0.001: 0, 1e-06: 0, 1e-09: 0, 1e-12: 0}.\n",
      "\n",
      "[INFO | root | 2025-01-29 02:21:34] - [GNN precs] script `6b3i1g` finished execution.\n",
      "\n",
      "\n",
      "\n",
      "[INFO | root | 2025-01-29 02:21:34] - %%%%%%%%%%%%%%%%%%%%%%%%%%%%%%%%%%%%%%%%%%%%%%%%%%%%%%%%%%%%%%%%%\n",
      "[INFO | root | 2025-01-29 02:21:34] - [GNN precs] script `yyoxko` started execution.\n",
      "[INFO | root | 2025-01-29 02:21:34] - Config: {'path': '/mnt/local/data/vtrifonov/prec-learning-Notay-loss/', 'folder_model': 'results_cases/29.01_elliptic_grid64_128_multiBlockMp_precor_gnn/mp_rounds3', 'folder_log': 'results_cases/29.01_elliptic_grid64_128_multiBlockMp_precor_gnn/mp_rounds3', 'name': 'yyoxko', 'model_use': 'train', 'save_model': True, 'cg_maxiter': 500, 'cg_atol': 1e-12, 'data_config': {'data_dir': '/mnt/local/data/vtrifonov/prec-learning-Notay-loss/', 'pde': 'div_k_grad', 'grid': 128, 'variance': 0.5, 'lhs_type': 'l_ic0', 'N_samples_train': 1000, 'N_samples_test': 200, 'fill_factor': 1, 'threshold': 0.0001}, 'model_config': {'layer_type': 'Conv1d', 'use_nodes': False, 'node_upd_mlp': False, 'static_diag': False, 'alpha': 0.0, 'edge_enc': {'features': [1, 16, 16], 'N_layers': 2}, 'edge_dec': {'features': [16, 16, 1], 'N_layers': 2}, 'mp': {'edge_upd': {'features': [18, 16, 16], 'N_layers': 2}, 'node_upd': {'features': [17, 1, 1], 'N_layers': 2}, 'mp_rounds': 3, 'aggregate_edges': 'max'}}, 'train_config': {'model_type': 'precorrector_gnn_multiblock', 'loss_type': 'high_freq_loss', 'batch_size': 8, 'optimizer': <function adam at 0x7fb9ab53acb0>, 'lr': 0.001, 'optim_params': {}, 'epoch_num': 500}, 'seed': 42}.\n",
      "\n"
     ]
    },
    {
     "name": "stdout",
     "output_type": "stream",
     "text": [
      "Started: 9\n"
     ]
    },
    {
     "name": "stderr",
     "output_type": "stream",
     "text": [
      "[INFO | root | 2025-01-29 02:21:53] - Data is loaded in 1.931e+01 sec.\n",
      "\n",
      "[INFO | root | 2025-01-29 02:31:42] - Model is trained in 5.892e+02 sec.\n",
      "[INFO | root | 2025-01-29 02:31:42] - PreCorrector's alpha = -0.0567.\n",
      "[INFO | root | 2025-01-29 02:31:42] - First and last losses: train = [1.749e+12, 1.650e+12], test = [1.688e+12, 1.630e+12].\n",
      "\n",
      "[INFO | root | 2025-01-29 02:31:46] - Precs are combined:\n",
      "[INFO | root | 2025-01-29 02:31:46] -  GNN prec construction time (sec) : mean = 6.996e-04, std = 7.325e-05.\n",
      "\n",
      "[INFO | root | 2025-01-29 02:38:14] - CG with GNN is finished:\n",
      "[INFO | root | 2025-01-29 02:38:14] -  iterations to atol([mean, std]): {0.001: [168.4, 4.53], 1e-06: [212.7, 4.77], 1e-09: [249.1, 4.91], 1e-12: [280.6, 4.73]};\n",
      "[INFO | root | 2025-01-29 02:38:14] -  time to atol([mean, std]): {0.001: [1.1606, 0.16619], 1e-06: [1.4653, 0.21106], 1e-09: [1.7146, 0.24377], 1e-12: [1.9302, 0.27318]};\n",
      "[INFO | root | 2025-01-29 02:38:14] -  number of linsystems for which CG did not conerge to atol: {0.001: 0, 1e-06: 0, 1e-09: 0, 1e-12: 0}.\n",
      "\n",
      "[INFO | root | 2025-01-29 02:38:14] - [GNN precs] script `yyoxko` finished execution.\n",
      "\n",
      "\n",
      "\n",
      "[INFO | root | 2025-01-29 02:38:14] - %%%%%%%%%%%%%%%%%%%%%%%%%%%%%%%%%%%%%%%%%%%%%%%%%%%%%%%%%%%%%%%%%\n",
      "[INFO | root | 2025-01-29 02:38:14] - [GNN precs] script `5vk0z2` started execution.\n",
      "[INFO | root | 2025-01-29 02:38:14] - Config: {'path': '/mnt/local/data/vtrifonov/prec-learning-Notay-loss/', 'folder_model': 'results_cases/29.01_elliptic_grid64_128_multiBlockMp_precor_gnn/mp_rounds3', 'folder_log': 'results_cases/29.01_elliptic_grid64_128_multiBlockMp_precor_gnn/mp_rounds3', 'name': '5vk0z2', 'model_use': 'train', 'save_model': True, 'cg_maxiter': 500, 'cg_atol': 1e-12, 'data_config': {'data_dir': '/mnt/local/data/vtrifonov/prec-learning-Notay-loss/', 'pde': 'div_k_grad', 'grid': 128, 'variance': 0.7, 'lhs_type': 'l_ic0', 'N_samples_train': 1000, 'N_samples_test': 200, 'fill_factor': 1, 'threshold': 0.0001}, 'model_config': {'layer_type': 'Conv1d', 'use_nodes': False, 'node_upd_mlp': False, 'static_diag': False, 'alpha': 0.0, 'edge_enc': {'features': [1, 16, 16], 'N_layers': 2}, 'edge_dec': {'features': [16, 16, 1], 'N_layers': 2}, 'mp': {'edge_upd': {'features': [18, 16, 16], 'N_layers': 2}, 'node_upd': {'features': [17, 1, 1], 'N_layers': 2}, 'mp_rounds': 3, 'aggregate_edges': 'max'}}, 'train_config': {'model_type': 'precorrector_gnn_multiblock', 'loss_type': 'high_freq_loss', 'batch_size': 8, 'optimizer': <function adam at 0x7fb9ab53acb0>, 'lr': 0.001, 'optim_params': {}, 'epoch_num': 500}, 'seed': 42}.\n",
      "\n"
     ]
    },
    {
     "name": "stdout",
     "output_type": "stream",
     "text": [
      "Started: 10\n"
     ]
    },
    {
     "name": "stderr",
     "output_type": "stream",
     "text": [
      "[INFO | root | 2025-01-29 02:38:34] - Data is loaded in 2.008e+01 sec.\n",
      "\n",
      "[INFO | root | 2025-01-29 02:48:23] - Model is trained in 5.889e+02 sec.\n",
      "[INFO | root | 2025-01-29 02:48:23] - PreCorrector's alpha = -0.0479.\n",
      "[INFO | root | 2025-01-29 02:48:23] - First and last losses: train = [2.907e+12, 2.713e+12], test = [2.966e+12, 2.724e+12].\n",
      "\n",
      "[INFO | root | 2025-01-29 02:48:27] - Precs are combined:\n",
      "[INFO | root | 2025-01-29 02:48:27] -  GNN prec construction time (sec) : mean = 7.027e-04, std = 7.304e-05.\n",
      "\n",
      "[INFO | root | 2025-01-29 02:54:45] - CG with GNN is finished:\n",
      "[INFO | root | 2025-01-29 02:54:45] -  iterations to atol([mean, std]): {0.001: [178.5, 6.49], 1e-06: [223.9, 6.53], 1e-09: [260.4, 6.6], 1e-12: [291.4, 6.59]};\n",
      "[INFO | root | 2025-01-29 02:54:45] -  time to atol([mean, std]): {0.001: [1.1546, 0.12559], 1e-06: [1.4468, 0.15345], 1e-09: [1.6829, 0.17654], 1e-12: [1.8819, 0.19265]};\n",
      "[INFO | root | 2025-01-29 02:54:45] -  number of linsystems for which CG did not conerge to atol: {0.001: 0, 1e-06: 0, 1e-09: 0, 1e-12: 0}.\n",
      "\n",
      "[INFO | root | 2025-01-29 02:54:45] - [GNN precs] script `5vk0z2` finished execution.\n",
      "\n",
      "\n",
      "\n",
      "[INFO | root | 2025-01-29 02:54:45] - %%%%%%%%%%%%%%%%%%%%%%%%%%%%%%%%%%%%%%%%%%%%%%%%%%%%%%%%%%%%%%%%%\n",
      "[INFO | root | 2025-01-29 02:54:45] - [GNN precs] script `zqausv` started execution.\n",
      "[INFO | root | 2025-01-29 02:54:45] - Config: {'path': '/mnt/local/data/vtrifonov/prec-learning-Notay-loss/', 'folder_model': 'results_cases/29.01_elliptic_grid64_128_multiBlockMp_precor_gnn/mp_rounds3', 'folder_log': 'results_cases/29.01_elliptic_grid64_128_multiBlockMp_precor_gnn/mp_rounds3', 'name': 'zqausv', 'model_use': 'train', 'save_model': True, 'cg_maxiter': 500, 'cg_atol': 1e-12, 'data_config': {'data_dir': '/mnt/local/data/vtrifonov/prec-learning-Notay-loss/', 'pde': 'div_k_grad', 'grid': 128, 'variance': 1.1, 'lhs_type': 'l_ic0', 'N_samples_train': 1000, 'N_samples_test': 200, 'fill_factor': 1, 'threshold': 0.0001}, 'model_config': {'layer_type': 'Conv1d', 'use_nodes': False, 'node_upd_mlp': False, 'static_diag': False, 'alpha': 0.0, 'edge_enc': {'features': [1, 16, 16], 'N_layers': 2}, 'edge_dec': {'features': [16, 16, 1], 'N_layers': 2}, 'mp': {'edge_upd': {'features': [18, 16, 16], 'N_layers': 2}, 'node_upd': {'features': [17, 1, 1], 'N_layers': 2}, 'mp_rounds': 3, 'aggregate_edges': 'max'}}, 'train_config': {'model_type': 'precorrector_gnn_multiblock', 'loss_type': 'high_freq_loss', 'batch_size': 8, 'optimizer': <function adam at 0x7fb9ab53acb0>, 'lr': 0.001, 'optim_params': {}, 'epoch_num': 500}, 'seed': 42}.\n",
      "\n"
     ]
    },
    {
     "name": "stdout",
     "output_type": "stream",
     "text": [
      "Started: 11\n"
     ]
    },
    {
     "name": "stderr",
     "output_type": "stream",
     "text": [
      "[INFO | root | 2025-01-29 02:55:05] - Data is loaded in 1.960e+01 sec.\n",
      "\n",
      "[INFO | root | 2025-01-29 03:04:54] - Model is trained in 5.885e+02 sec.\n",
      "[INFO | root | 2025-01-29 03:04:54] - PreCorrector's alpha = -0.0508.\n",
      "[INFO | root | 2025-01-29 03:04:54] - First and last losses: train = [5.199e+12, 4.706e+12], test = [5.016e+12, 4.593e+12].\n",
      "\n",
      "[INFO | root | 2025-01-29 03:04:58] - Precs are combined:\n",
      "[INFO | root | 2025-01-29 03:04:58] -  GNN prec construction time (sec) : mean = 7.018e-04, std = 7.331e-05.\n",
      "\n",
      "[INFO | root | 2025-01-29 03:13:39] - CG with GNN is finished:\n",
      "[INFO | root | 2025-01-29 03:13:39] -  iterations to atol([mean, std]): {0.001: [196.5, 8.03], 1e-06: [244.3, 8.18], 1e-09: [281.8, 8.32], 1e-12: [313.5, 8.0]};\n",
      "[INFO | root | 2025-01-29 03:13:39] -  time to atol([mean, std]): {0.001: [1.6288, 0.09979], 1e-06: [2.0236, 0.11501], 1e-09: [2.3327, 0.12841], 1e-12: [2.5947, 0.13513]};\n",
      "[INFO | root | 2025-01-29 03:13:39] -  number of linsystems for which CG did not conerge to atol: {0.001: 0, 1e-06: 0, 1e-09: 0, 1e-12: 0}.\n",
      "\n",
      "[INFO | root | 2025-01-29 03:13:39] - [GNN precs] script `zqausv` finished execution.\n",
      "\n",
      "\n",
      "\n"
     ]
    }
   ],
   "source": [
    "notstatic_precorrector_gnn_config = deepcopy(default_precorrector_gnn_config)\n",
    "notstatic_precorrector_gnn_config['static_diag'] = False\n",
    "notstatic_precorrector_gnn_config['mp']['mp_rounds'] = 3\n",
    "base_config['model_config'] = notstatic_precorrector_gnn_config\n",
    "\n",
    "base_config['folder_model'] = folder\n",
    "base_config['folder_log'] = folder\n",
    "\n",
    "params_grid = ParameterGrid({\n",
    "    'model_use': ['train'],\n",
    "    'cg_maxiter': [500],\n",
    "    'cg_atol': [1e-12],\n",
    "    'model_type': ['precorrector_gnn_multiblock'],\n",
    "    'loss_type': ['low_freq_loss', 'high_freq_loss'],\n",
    "    'batch_size': [8],\n",
    "    'lr': [1e-3],\n",
    "    'epoch_num': [500],\n",
    "    'pde': ['div_k_grad'],\n",
    "    'grid': [64, 128],\n",
    "    'variance': [.5, .7, 1.1],\n",
    "    'lhs_type': ['l_ic0'],\n",
    "    'fill_factor': [1],\n",
    "    'threshold': [1e-4]\n",
    "})\n",
    "\n",
    "grid_script(script_gnn_prec, base_config, params_grid)"
   ]
  },
  {
   "cell_type": "markdown",
   "id": "94ad37c1",
   "metadata": {},
   "source": [
    "## 5 mp blocks"
   ]
  },
  {
   "cell_type": "code",
   "execution_count": 9,
   "id": "1fbcb1fe",
   "metadata": {},
   "outputs": [],
   "source": [
    "folder = 'results_cases/29.01_elliptic_grid64_128_multiBlockMp_precor_gnn/mp_rounds5'"
   ]
  },
  {
   "cell_type": "code",
   "execution_count": null,
   "id": "4ab562b3",
   "metadata": {
    "collapsed": true,
    "jupyter": {
     "outputs_hidden": true
    }
   },
   "outputs": [
    {
     "name": "stderr",
     "output_type": "stream",
     "text": [
      "[INFO | root | 2025-01-29 03:13:39] - %%%%%%%%%%%%%%%%%%%%%%%%%%%%%%%%%%%%%%%%%%%%%%%%%%%%%%%%%%%%%%%%%\n",
      "[INFO | root | 2025-01-29 03:13:39] - [GNN precs] script `bvk87j` started execution.\n",
      "[INFO | root | 2025-01-29 03:13:39] - Config: {'path': '/mnt/local/data/vtrifonov/prec-learning-Notay-loss/', 'folder_model': 'results_cases/29.01_elliptic_grid64_128_multiBlockMp_precor_gnn/mp_rounds5', 'folder_log': 'results_cases/29.01_elliptic_grid64_128_multiBlockMp_precor_gnn/mp_rounds5', 'name': 'bvk87j', 'model_use': 'train', 'save_model': True, 'cg_maxiter': 500, 'cg_atol': 1e-12, 'data_config': {'data_dir': '/mnt/local/data/vtrifonov/prec-learning-Notay-loss/', 'pde': 'div_k_grad', 'grid': 64, 'variance': 0.5, 'lhs_type': 'l_ic0', 'N_samples_train': 1000, 'N_samples_test': 200, 'fill_factor': 1, 'threshold': 0.0001}, 'model_config': {'layer_type': 'Conv1d', 'use_nodes': False, 'node_upd_mlp': False, 'static_diag': False, 'alpha': 0.0, 'edge_enc': {'features': [1, 16, 16], 'N_layers': 2}, 'edge_dec': {'features': [16, 16, 1], 'N_layers': 2}, 'mp': {'edge_upd': {'features': [18, 16, 16], 'N_layers': 2}, 'node_upd': {'features': [17, 1, 1], 'N_layers': 2}, 'mp_rounds': 5, 'aggregate_edges': 'max'}}, 'train_config': {'model_type': 'precorrector_gnn_multiblock', 'loss_type': 'low_freq_loss', 'batch_size': 8, 'optimizer': <function adam at 0x7fb9ab53acb0>, 'lr': 0.001, 'optim_params': {}, 'epoch_num': 500}, 'seed': 42}.\n",
      "\n"
     ]
    },
    {
     "name": "stdout",
     "output_type": "stream",
     "text": [
      "Started: 0\n"
     ]
    },
    {
     "name": "stderr",
     "output_type": "stream",
     "text": [
      "[INFO | root | 2025-01-29 03:13:54] - Data is loaded in 1.519e+01 sec.\n",
      "\n",
      "[INFO | root | 2025-01-29 03:18:02] - Model is trained in 2.476e+02 sec.\n",
      "[INFO | root | 2025-01-29 03:18:02] - PreCorrector's alpha = 0.0812.\n",
      "[INFO | root | 2025-01-29 03:18:02] - First and last losses: train = [1.695e+04, 5.046e+02], test = [5.823e+03, 5.088e+02].\n",
      "\n",
      "[INFO | root | 2025-01-29 03:18:04] - Precs are combined:\n",
      "[INFO | root | 2025-01-29 03:18:04] -  GNN prec construction time (sec) : mean = 3.152e-04, std = 6.834e-06.\n",
      "\n",
      "[INFO | root | 2025-01-29 03:18:41] - CG with GNN is finished:\n",
      "[INFO | root | 2025-01-29 03:18:41] -  iterations to atol([mean, std]): {0.001: [44.8, 1.97], 1e-06: [57.6, 2.18], 1e-09: [69.3, 2.38], 1e-12: [80.6, 2.76]};\n",
      "[INFO | root | 2025-01-29 03:18:41] -  time to atol([mean, std]): {0.001: [0.0984, 0.00448], 1e-06: [0.126, 0.00496], 1e-09: [0.1512, 0.00543], 1e-12: [0.1757, 0.00627]};\n",
      "[INFO | root | 2025-01-29 03:18:41] -  number of linsystems for which CG did not conerge to atol: {0.001: 0, 1e-06: 0, 1e-09: 0, 1e-12: 0}.\n",
      "\n",
      "[INFO | root | 2025-01-29 03:18:41] - [GNN precs] script `bvk87j` finished execution.\n",
      "\n",
      "\n",
      "\n",
      "[INFO | root | 2025-01-29 03:18:41] - %%%%%%%%%%%%%%%%%%%%%%%%%%%%%%%%%%%%%%%%%%%%%%%%%%%%%%%%%%%%%%%%%\n",
      "[INFO | root | 2025-01-29 03:18:41] - [GNN precs] script `hek0up` started execution.\n",
      "[INFO | root | 2025-01-29 03:18:41] - Config: {'path': '/mnt/local/data/vtrifonov/prec-learning-Notay-loss/', 'folder_model': 'results_cases/29.01_elliptic_grid64_128_multiBlockMp_precor_gnn/mp_rounds5', 'folder_log': 'results_cases/29.01_elliptic_grid64_128_multiBlockMp_precor_gnn/mp_rounds5', 'name': 'hek0up', 'model_use': 'train', 'save_model': True, 'cg_maxiter': 500, 'cg_atol': 1e-12, 'data_config': {'data_dir': '/mnt/local/data/vtrifonov/prec-learning-Notay-loss/', 'pde': 'div_k_grad', 'grid': 64, 'variance': 0.7, 'lhs_type': 'l_ic0', 'N_samples_train': 1000, 'N_samples_test': 200, 'fill_factor': 1, 'threshold': 0.0001}, 'model_config': {'layer_type': 'Conv1d', 'use_nodes': False, 'node_upd_mlp': False, 'static_diag': False, 'alpha': 0.0, 'edge_enc': {'features': [1, 16, 16], 'N_layers': 2}, 'edge_dec': {'features': [16, 16, 1], 'N_layers': 2}, 'mp': {'edge_upd': {'features': [18, 16, 16], 'N_layers': 2}, 'node_upd': {'features': [17, 1, 1], 'N_layers': 2}, 'mp_rounds': 5, 'aggregate_edges': 'max'}}, 'train_config': {'model_type': 'precorrector_gnn_multiblock', 'loss_type': 'low_freq_loss', 'batch_size': 8, 'optimizer': <function adam at 0x7fb9ab53acb0>, 'lr': 0.001, 'optim_params': {}, 'epoch_num': 500}, 'seed': 42}.\n",
      "\n"
     ]
    },
    {
     "name": "stdout",
     "output_type": "stream",
     "text": [
      "Started: 1\n"
     ]
    },
    {
     "name": "stderr",
     "output_type": "stream",
     "text": [
      "[INFO | root | 2025-01-29 03:18:57] - Data is loaded in 1.525e+01 sec.\n",
      "\n",
      "[INFO | root | 2025-01-29 03:23:04] - Model is trained in 2.470e+02 sec.\n",
      "[INFO | root | 2025-01-29 03:23:04] - PreCorrector's alpha = 0.0699.\n",
      "[INFO | root | 2025-01-29 03:23:04] - First and last losses: train = [3.666e+04, 5.634e+02], test = [9.323e+03, 5.379e+02].\n",
      "\n",
      "[INFO | root | 2025-01-29 03:23:06] - Precs are combined:\n",
      "[INFO | root | 2025-01-29 03:23:06] -  GNN prec construction time (sec) : mean = 3.165e-04, std = 6.927e-06.\n",
      "\n",
      "[INFO | root | 2025-01-29 03:23:48] - CG with GNN is finished:\n",
      "[INFO | root | 2025-01-29 03:23:48] -  iterations to atol([mean, std]): {0.001: [50.0, 2.5], 1e-06: [64.2, 2.78], 1e-09: [77.5, 3.16], 1e-12: [90.3, 3.57]};\n",
      "[INFO | root | 2025-01-29 03:23:48] -  time to atol([mean, std]): {0.001: [0.111, 0.00551], 1e-06: [0.1421, 0.00614], 1e-09: [0.1711, 0.00698], 1e-12: [0.1991, 0.00786]};\n",
      "[INFO | root | 2025-01-29 03:23:48] -  number of linsystems for which CG did not conerge to atol: {0.001: 0, 1e-06: 0, 1e-09: 0, 1e-12: 0}.\n",
      "\n",
      "[INFO | root | 2025-01-29 03:23:48] - [GNN precs] script `hek0up` finished execution.\n",
      "\n",
      "\n",
      "\n",
      "[INFO | root | 2025-01-29 03:23:48] - %%%%%%%%%%%%%%%%%%%%%%%%%%%%%%%%%%%%%%%%%%%%%%%%%%%%%%%%%%%%%%%%%\n",
      "[INFO | root | 2025-01-29 03:23:48] - [GNN precs] script `6tmo53` started execution.\n",
      "[INFO | root | 2025-01-29 03:23:48] - Config: {'path': '/mnt/local/data/vtrifonov/prec-learning-Notay-loss/', 'folder_model': 'results_cases/29.01_elliptic_grid64_128_multiBlockMp_precor_gnn/mp_rounds5', 'folder_log': 'results_cases/29.01_elliptic_grid64_128_multiBlockMp_precor_gnn/mp_rounds5', 'name': '6tmo53', 'model_use': 'train', 'save_model': True, 'cg_maxiter': 500, 'cg_atol': 1e-12, 'data_config': {'data_dir': '/mnt/local/data/vtrifonov/prec-learning-Notay-loss/', 'pde': 'div_k_grad', 'grid': 64, 'variance': 1.1, 'lhs_type': 'l_ic0', 'N_samples_train': 1000, 'N_samples_test': 200, 'fill_factor': 1, 'threshold': 0.0001}, 'model_config': {'layer_type': 'Conv1d', 'use_nodes': False, 'node_upd_mlp': False, 'static_diag': False, 'alpha': 0.0, 'edge_enc': {'features': [1, 16, 16], 'N_layers': 2}, 'edge_dec': {'features': [16, 16, 1], 'N_layers': 2}, 'mp': {'edge_upd': {'features': [18, 16, 16], 'N_layers': 2}, 'node_upd': {'features': [17, 1, 1], 'N_layers': 2}, 'mp_rounds': 5, 'aggregate_edges': 'max'}}, 'train_config': {'model_type': 'precorrector_gnn_multiblock', 'loss_type': 'low_freq_loss', 'batch_size': 8, 'optimizer': <function adam at 0x7fb9ab53acb0>, 'lr': 0.001, 'optim_params': {}, 'epoch_num': 500}, 'seed': 42}.\n",
      "\n"
     ]
    },
    {
     "name": "stdout",
     "output_type": "stream",
     "text": [
      "Started: 2\n"
     ]
    },
    {
     "name": "stderr",
     "output_type": "stream",
     "text": [
      "[INFO | root | 2025-01-29 03:24:04] - Data is loaded in 1.559e+01 sec.\n",
      "\n",
      "[INFO | root | 2025-01-29 03:28:11] - Model is trained in 2.471e+02 sec.\n",
      "[INFO | root | 2025-01-29 03:28:11] - PreCorrector's alpha = 0.0535.\n",
      "[INFO | root | 2025-01-29 03:28:11] - First and last losses: train = [5.812e+04, 5.531e+02], test = [3.894e+04, 5.579e+02].\n",
      "\n",
      "[INFO | root | 2025-01-29 03:28:13] - Precs are combined:\n",
      "[INFO | root | 2025-01-29 03:28:13] -  GNN prec construction time (sec) : mean = 3.158e-04, std = 7.618e-06.\n",
      "\n",
      "[INFO | root | 2025-01-29 03:29:00] - CG with GNN is finished:\n",
      "[INFO | root | 2025-01-29 03:29:00] -  iterations to atol([mean, std]): {0.001: [54.7, 3.43], 1e-06: [70.0, 3.9], 1e-09: [84.5, 4.41], 1e-12: [98.4, 4.76]};\n",
      "[INFO | root | 2025-01-29 03:29:00] -  time to atol([mean, std]): {0.001: [0.1248, 0.00886], 1e-06: [0.1591, 0.01026], 1e-09: [0.1918, 0.0118], 1e-12: [0.223, 0.01289]};\n",
      "[INFO | root | 2025-01-29 03:29:00] -  number of linsystems for which CG did not conerge to atol: {0.001: 0, 1e-06: 0, 1e-09: 0, 1e-12: 0}.\n",
      "\n",
      "[INFO | root | 2025-01-29 03:29:00] - [GNN precs] script `6tmo53` finished execution.\n",
      "\n",
      "\n",
      "\n",
      "[INFO | root | 2025-01-29 03:29:00] - %%%%%%%%%%%%%%%%%%%%%%%%%%%%%%%%%%%%%%%%%%%%%%%%%%%%%%%%%%%%%%%%%\n",
      "[INFO | root | 2025-01-29 03:29:00] - [GNN precs] script `3o74fu` started execution.\n",
      "[INFO | root | 2025-01-29 03:29:00] - Config: {'path': '/mnt/local/data/vtrifonov/prec-learning-Notay-loss/', 'folder_model': 'results_cases/29.01_elliptic_grid64_128_multiBlockMp_precor_gnn/mp_rounds5', 'folder_log': 'results_cases/29.01_elliptic_grid64_128_multiBlockMp_precor_gnn/mp_rounds5', 'name': '3o74fu', 'model_use': 'train', 'save_model': True, 'cg_maxiter': 500, 'cg_atol': 1e-12, 'data_config': {'data_dir': '/mnt/local/data/vtrifonov/prec-learning-Notay-loss/', 'pde': 'div_k_grad', 'grid': 64, 'variance': 0.5, 'lhs_type': 'l_ic0', 'N_samples_train': 1000, 'N_samples_test': 200, 'fill_factor': 1, 'threshold': 0.0001}, 'model_config': {'layer_type': 'Conv1d', 'use_nodes': False, 'node_upd_mlp': False, 'static_diag': False, 'alpha': 0.0, 'edge_enc': {'features': [1, 16, 16], 'N_layers': 2}, 'edge_dec': {'features': [16, 16, 1], 'N_layers': 2}, 'mp': {'edge_upd': {'features': [18, 16, 16], 'N_layers': 2}, 'node_upd': {'features': [17, 1, 1], 'N_layers': 2}, 'mp_rounds': 5, 'aggregate_edges': 'max'}}, 'train_config': {'model_type': 'precorrector_gnn_multiblock', 'loss_type': 'high_freq_loss', 'batch_size': 8, 'optimizer': <function adam at 0x7fb9ab53acb0>, 'lr': 0.001, 'optim_params': {}, 'epoch_num': 500}, 'seed': 42}.\n",
      "\n"
     ]
    },
    {
     "name": "stdout",
     "output_type": "stream",
     "text": [
      "Started: 3\n"
     ]
    },
    {
     "name": "stderr",
     "output_type": "stream",
     "text": [
      "[INFO | root | 2025-01-29 03:29:15] - Data is loaded in 1.553e+01 sec.\n",
      "\n",
      "[INFO | root | 2025-01-29 03:33:23] - Model is trained in 2.480e+02 sec.\n",
      "[INFO | root | 2025-01-29 03:33:23] - PreCorrector's alpha = -0.0667.\n",
      "[INFO | root | 2025-01-29 03:33:23] - First and last losses: train = [2.819e+10, 2.602e+10], test = [2.773e+10, 2.612e+10].\n",
      "\n",
      "[INFO | root | 2025-01-29 03:33:26] - Precs are combined:\n",
      "[INFO | root | 2025-01-29 03:33:26] -  GNN prec construction time (sec) : mean = 3.174e-04, std = 7.024e-06.\n",
      "\n",
      "[INFO | root | 2025-01-29 03:34:31] - CG with GNN is finished:\n",
      "[INFO | root | 2025-01-29 03:34:31] -  iterations to atol([mean, std]): {0.001: [83.7, 2.5], 1e-06: [106.7, 2.41], 1e-09: [125.4, 2.52], 1e-12: [141.8, 2.43]};\n",
      "[INFO | root | 2025-01-29 03:34:31] -  time to atol([mean, std]): {0.001: [0.1858, 0.00563], 1e-06: [0.2363, 0.00552], 1e-09: [0.2774, 0.00584], 1e-12: [0.3134, 0.00568]};\n",
      "[INFO | root | 2025-01-29 03:34:31] -  number of linsystems for which CG did not conerge to atol: {0.001: 0, 1e-06: 0, 1e-09: 0, 1e-12: 0}.\n",
      "\n",
      "[INFO | root | 2025-01-29 03:34:31] - [GNN precs] script `3o74fu` finished execution.\n",
      "\n",
      "\n",
      "\n",
      "[INFO | root | 2025-01-29 03:34:31] - %%%%%%%%%%%%%%%%%%%%%%%%%%%%%%%%%%%%%%%%%%%%%%%%%%%%%%%%%%%%%%%%%\n",
      "[INFO | root | 2025-01-29 03:34:31] - [GNN precs] script `r5njh4` started execution.\n",
      "[INFO | root | 2025-01-29 03:34:31] - Config: {'path': '/mnt/local/data/vtrifonov/prec-learning-Notay-loss/', 'folder_model': 'results_cases/29.01_elliptic_grid64_128_multiBlockMp_precor_gnn/mp_rounds5', 'folder_log': 'results_cases/29.01_elliptic_grid64_128_multiBlockMp_precor_gnn/mp_rounds5', 'name': 'r5njh4', 'model_use': 'train', 'save_model': True, 'cg_maxiter': 500, 'cg_atol': 1e-12, 'data_config': {'data_dir': '/mnt/local/data/vtrifonov/prec-learning-Notay-loss/', 'pde': 'div_k_grad', 'grid': 64, 'variance': 0.7, 'lhs_type': 'l_ic0', 'N_samples_train': 1000, 'N_samples_test': 200, 'fill_factor': 1, 'threshold': 0.0001}, 'model_config': {'layer_type': 'Conv1d', 'use_nodes': False, 'node_upd_mlp': False, 'static_diag': False, 'alpha': 0.0, 'edge_enc': {'features': [1, 16, 16], 'N_layers': 2}, 'edge_dec': {'features': [16, 16, 1], 'N_layers': 2}, 'mp': {'edge_upd': {'features': [18, 16, 16], 'N_layers': 2}, 'node_upd': {'features': [17, 1, 1], 'N_layers': 2}, 'mp_rounds': 5, 'aggregate_edges': 'max'}}, 'train_config': {'model_type': 'precorrector_gnn_multiblock', 'loss_type': 'high_freq_loss', 'batch_size': 8, 'optimizer': <function adam at 0x7fb9ab53acb0>, 'lr': 0.001, 'optim_params': {}, 'epoch_num': 500}, 'seed': 42}.\n",
      "\n"
     ]
    },
    {
     "name": "stdout",
     "output_type": "stream",
     "text": [
      "Started: 4\n"
     ]
    },
    {
     "name": "stderr",
     "output_type": "stream",
     "text": [
      "[INFO | root | 2025-01-29 03:34:46] - Data is loaded in 1.558e+01 sec.\n",
      "\n",
      "[INFO | root | 2025-01-29 03:38:54] - Model is trained in 2.473e+02 sec.\n",
      "[INFO | root | 2025-01-29 03:38:54] - PreCorrector's alpha = -0.0576.\n",
      "[INFO | root | 2025-01-29 03:38:54] - First and last losses: train = [4.417e+10, 4.053e+10], test = [4.235e+10, 4.103e+10].\n",
      "\n",
      "[INFO | root | 2025-01-29 03:38:57] - Precs are combined:\n",
      "[INFO | root | 2025-01-29 03:38:57] -  GNN prec construction time (sec) : mean = 3.227e-04, std = 6.780e-06.\n",
      "\n",
      "[INFO | root | 2025-01-29 03:40:05] - CG with GNN is finished:\n",
      "[INFO | root | 2025-01-29 03:40:05] -  iterations to atol([mean, std]): {0.001: [87.5, 3.38], 1e-06: [110.9, 3.61], 1e-09: [129.8, 3.5], 1e-12: [146.0, 3.34]};\n",
      "[INFO | root | 2025-01-29 03:40:05] -  time to atol([mean, std]): {0.001: [0.201, 0.01813], 1e-06: [0.2539, 0.01959], 1e-09: [0.2967, 0.02149], 1e-12: [0.3336, 0.02324]};\n",
      "[INFO | root | 2025-01-29 03:40:05] -  number of linsystems for which CG did not conerge to atol: {0.001: 0, 1e-06: 0, 1e-09: 0, 1e-12: 0}.\n",
      "\n",
      "[INFO | root | 2025-01-29 03:40:05] - [GNN precs] script `r5njh4` finished execution.\n",
      "\n",
      "\n",
      "\n",
      "[INFO | root | 2025-01-29 03:40:06] - %%%%%%%%%%%%%%%%%%%%%%%%%%%%%%%%%%%%%%%%%%%%%%%%%%%%%%%%%%%%%%%%%\n",
      "[INFO | root | 2025-01-29 03:40:06] - [GNN precs] script `r2yozo` started execution.\n",
      "[INFO | root | 2025-01-29 03:40:06] - Config: {'path': '/mnt/local/data/vtrifonov/prec-learning-Notay-loss/', 'folder_model': 'results_cases/29.01_elliptic_grid64_128_multiBlockMp_precor_gnn/mp_rounds5', 'folder_log': 'results_cases/29.01_elliptic_grid64_128_multiBlockMp_precor_gnn/mp_rounds5', 'name': 'r2yozo', 'model_use': 'train', 'save_model': True, 'cg_maxiter': 500, 'cg_atol': 1e-12, 'data_config': {'data_dir': '/mnt/local/data/vtrifonov/prec-learning-Notay-loss/', 'pde': 'div_k_grad', 'grid': 64, 'variance': 1.1, 'lhs_type': 'l_ic0', 'N_samples_train': 1000, 'N_samples_test': 200, 'fill_factor': 1, 'threshold': 0.0001}, 'model_config': {'layer_type': 'Conv1d', 'use_nodes': False, 'node_upd_mlp': False, 'static_diag': False, 'alpha': 0.0, 'edge_enc': {'features': [1, 16, 16], 'N_layers': 2}, 'edge_dec': {'features': [16, 16, 1], 'N_layers': 2}, 'mp': {'edge_upd': {'features': [18, 16, 16], 'N_layers': 2}, 'node_upd': {'features': [17, 1, 1], 'N_layers': 2}, 'mp_rounds': 5, 'aggregate_edges': 'max'}}, 'train_config': {'model_type': 'precorrector_gnn_multiblock', 'loss_type': 'high_freq_loss', 'batch_size': 8, 'optimizer': <function adam at 0x7fb9ab53acb0>, 'lr': 0.001, 'optim_params': {}, 'epoch_num': 500}, 'seed': 42}.\n",
      "\n"
     ]
    },
    {
     "name": "stdout",
     "output_type": "stream",
     "text": [
      "Started: 5\n"
     ]
    },
    {
     "name": "stderr",
     "output_type": "stream",
     "text": [
      "[INFO | root | 2025-01-29 03:40:27] - Data is loaded in 2.114e+01 sec.\n",
      "\n",
      "[INFO | root | 2025-01-29 03:44:35] - Model is trained in 2.481e+02 sec.\n",
      "[INFO | root | 2025-01-29 03:44:35] - PreCorrector's alpha = -0.0555.\n",
      "[INFO | root | 2025-01-29 03:44:35] - First and last losses: train = [8.379e+10, 7.474e+10], test = [8.306e+10, 7.573e+10].\n",
      "\n",
      "[INFO | root | 2025-01-29 03:44:37] - Precs are combined:\n",
      "[INFO | root | 2025-01-29 03:44:37] -  GNN prec construction time (sec) : mean = 3.849e-04, std = 7.365e-06.\n",
      "\n",
      "[INFO | root | 2025-01-29 03:45:50] - CG with GNN is finished:\n",
      "[INFO | root | 2025-01-29 03:45:50] -  iterations to atol([mean, std]): {0.001: [96.8, 4.01], 1e-06: [121.3, 4.13], 1e-09: [140.8, 4.12], 1e-12: [156.9, 3.97]};\n",
      "[INFO | root | 2025-01-29 03:45:50] -  time to atol([mean, std]): {0.001: [0.2195, 0.00921], 1e-06: [0.2745, 0.00961], 1e-09: [0.3183, 0.00948], 1e-12: [0.3546, 0.00933]};\n",
      "[INFO | root | 2025-01-29 03:45:50] -  number of linsystems for which CG did not conerge to atol: {0.001: 0, 1e-06: 0, 1e-09: 0, 1e-12: 0}.\n",
      "\n",
      "[INFO | root | 2025-01-29 03:45:50] - [GNN precs] script `r2yozo` finished execution.\n",
      "\n",
      "\n",
      "\n",
      "[INFO | root | 2025-01-29 03:45:50] - %%%%%%%%%%%%%%%%%%%%%%%%%%%%%%%%%%%%%%%%%%%%%%%%%%%%%%%%%%%%%%%%%\n",
      "[INFO | root | 2025-01-29 03:45:50] - [GNN precs] script `1im99e` started execution.\n",
      "[INFO | root | 2025-01-29 03:45:50] - Config: {'path': '/mnt/local/data/vtrifonov/prec-learning-Notay-loss/', 'folder_model': 'results_cases/29.01_elliptic_grid64_128_multiBlockMp_precor_gnn/mp_rounds5', 'folder_log': 'results_cases/29.01_elliptic_grid64_128_multiBlockMp_precor_gnn/mp_rounds5', 'name': '1im99e', 'model_use': 'train', 'save_model': True, 'cg_maxiter': 500, 'cg_atol': 1e-12, 'data_config': {'data_dir': '/mnt/local/data/vtrifonov/prec-learning-Notay-loss/', 'pde': 'div_k_grad', 'grid': 128, 'variance': 0.5, 'lhs_type': 'l_ic0', 'N_samples_train': 1000, 'N_samples_test': 200, 'fill_factor': 1, 'threshold': 0.0001}, 'model_config': {'layer_type': 'Conv1d', 'use_nodes': False, 'node_upd_mlp': False, 'static_diag': False, 'alpha': 0.0, 'edge_enc': {'features': [1, 16, 16], 'N_layers': 2}, 'edge_dec': {'features': [16, 16, 1], 'N_layers': 2}, 'mp': {'edge_upd': {'features': [18, 16, 16], 'N_layers': 2}, 'node_upd': {'features': [17, 1, 1], 'N_layers': 2}, 'mp_rounds': 5, 'aggregate_edges': 'max'}}, 'train_config': {'model_type': 'precorrector_gnn_multiblock', 'loss_type': 'low_freq_loss', 'batch_size': 8, 'optimizer': <function adam at 0x7fb9ab53acb0>, 'lr': 0.001, 'optim_params': {}, 'epoch_num': 500}, 'seed': 42}.\n",
      "\n"
     ]
    },
    {
     "name": "stdout",
     "output_type": "stream",
     "text": [
      "Started: 6\n"
     ]
    },
    {
     "name": "stderr",
     "output_type": "stream",
     "text": [
      "[INFO | root | 2025-01-29 03:46:10] - Data is loaded in 1.996e+01 sec.\n",
      "\n"
     ]
    }
   ],
   "source": [
    "notstatic_precorrector_gnn_config = deepcopy(default_precorrector_gnn_config)\n",
    "notstatic_precorrector_gnn_config['static_diag'] = False\n",
    "notstatic_precorrector_gnn_config['mp']['mp_rounds'] = 5\n",
    "base_config['model_config'] = notstatic_precorrector_gnn_config\n",
    "\n",
    "base_config['folder_model'] = folder\n",
    "base_config['folder_log'] = folder\n",
    "\n",
    "params_grid = ParameterGrid({\n",
    "    'model_use': ['train'],\n",
    "    'cg_maxiter': [500],\n",
    "    'cg_atol': [1e-12],\n",
    "    'model_type': ['precorrector_gnn_multiblock'],\n",
    "    'loss_type': ['low_freq_loss', 'high_freq_loss'],\n",
    "    'batch_size': [8],\n",
    "    'lr': [1e-3],\n",
    "    'epoch_num': [500],\n",
    "    'pde': ['div_k_grad'],\n",
    "    'grid': [64, 128],\n",
    "    'variance': [.5, .7, 1.1],\n",
    "    'lhs_type': ['l_ic0'],\n",
    "    'fill_factor': [1],\n",
    "    'threshold': [1e-4]\n",
    "})\n",
    "\n",
    "grid_script(script_gnn_prec, base_config, params_grid)"
   ]
  },
  {
   "cell_type": "code",
   "execution_count": null,
   "id": "e6335894",
   "metadata": {},
   "outputs": [],
   "source": []
  },
  {
   "cell_type": "code",
   "execution_count": null,
   "id": "58f78aea",
   "metadata": {},
   "outputs": [],
   "source": [
    "exit()"
   ]
  }
 ],
 "metadata": {
  "kernelspec": {
   "display_name": "Python 3 (ipykernel)",
   "language": "python",
   "name": "python3"
  },
  "language_info": {
   "codemirror_mode": {
    "name": "ipython",
    "version": 3
   },
   "file_extension": ".py",
   "mimetype": "text/x-python",
   "name": "python",
   "nbconvert_exporter": "python",
   "pygments_lexer": "ipython3",
   "version": "3.10.6"
  }
 },
 "nbformat": 4,
 "nbformat_minor": 5
}
