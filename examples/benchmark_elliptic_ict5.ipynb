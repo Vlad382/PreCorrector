{
 "cells": [
  {
   "cell_type": "code",
   "execution_count": 1,
   "id": "f4be284e",
   "metadata": {},
   "outputs": [],
   "source": [
    "import sys\n",
    "import os\n",
    "os.environ[\"CUDA_VISIBLE_DEVICES\"] = '2'\n",
    "os.environ['XLA_PYTHON_CLIENT_MEM_FRACTION'] = '.95'\n",
    "sys.path.append('/mnt/local/data/vtrifonov/prec-learning-Notay-loss/')"
   ]
  },
  {
   "cell_type": "code",
   "execution_count": 2,
   "id": "722cde20",
   "metadata": {},
   "outputs": [],
   "source": [
    "from copy import deepcopy\n",
    "\n",
    "import numpy as np\n",
    "from sklearn.model_selection import ParameterGrid\n",
    "\n",
    "from utils import grid_script\n",
    "from config import default_precorrector_mlp_config\n",
    "from experiments.script_classical_prec import script_classical_prec"
   ]
  },
  {
   "cell_type": "code",
   "execution_count": 3,
   "id": "0e8beef9",
   "metadata": {},
   "outputs": [],
   "source": [
    "seed = 42\n",
    "path = '/mnt/local/data/vtrifonov/prec-learning-Notay-loss/'\n",
    "folder = 'results_cases/29.01_benchmark_elliptic_datasets_ict5'"
   ]
  },
  {
   "cell_type": "code",
   "execution_count": 4,
   "id": "ca200972",
   "metadata": {},
   "outputs": [],
   "source": [
    "data_config = {\n",
    "    'data_dir': path,\n",
    "    'pde': np.nan,\n",
    "    'grid': np.nan,\n",
    "    'variance': np.nan,\n",
    "    'lhs_type': np.nan,\n",
    "    'N_samples_train': 1000, # Not used\n",
    "    'N_samples_test': 200,\n",
    "    'fill_factor': 1,\n",
    "    'threshold': 1e-4\n",
    "}\n",
    "\n",
    "# Not used\n",
    "train_config = {\n",
    "    'model_type': np.nan,\n",
    "    'loss_type': np.nan,\n",
    "    'batch_size': np.nan,\n",
    "    'optimizer': np.nan,\n",
    "    'lr': np.nan,\n",
    "    'optim_params': np.nan,\n",
    "    'epoch_num': np.nan\n",
    "}\n",
    "\n",
    "base_config = {\n",
    "    'path': path,\n",
    "    'folder_model': folder,\n",
    "    'folder_log': folder,\n",
    "    'name': np.nan,\n",
    "    'model_use': np.nan,\n",
    "    'save_model': True,\n",
    "    'cg_maxiter': np.nan,\n",
    "    'cg_atol': np.nan,\n",
    "    'data_config': data_config,\n",
    "    'model_config': default_precorrector_mlp_config, # Not used\n",
    "    'train_config': train_config, # Not used\n",
    "    'seed': seed\n",
    "}"
   ]
  },
  {
   "cell_type": "markdown",
   "id": "7cfa7c47",
   "metadata": {},
   "source": [
    "# Div-k-grad"
   ]
  },
  {
   "cell_type": "code",
   "execution_count": 5,
   "id": "5eab67fd",
   "metadata": {},
   "outputs": [
    {
     "name": "stdout",
     "output_type": "stream",
     "text": [
      "Started: 0\n"
     ]
    },
    {
     "name": "stderr",
     "output_type": "stream",
     "text": [
      "2025-01-29 05:42:51.112454: W external/xla/xla/service/gpu/nvptx_compiler.cc:760] The NVIDIA driver's CUDA version is 12.4 which is older than the ptxas CUDA version (12.5.40). Because the driver is older than the ptxas version, XLA is disabling parallel compilation, which may slow down compilation. You should update your NVIDIA driver or use the NVIDIA-provided CUDA forward compatibility packages.\n",
      "[INFO | root | 2025-01-29 05:42:51] - %%%%%%%%%%%%%%%%%%%%%%%%%%%%%%%%%%%%%%%%%%%%%%%%%%%%%%%%%%%%%%%%%\n",
      "[INFO | root | 2025-01-29 05:42:51] - [Classical precs] script `nirc42` started execution.\n",
      "[INFO | root | 2025-01-29 05:42:51] - Config: {'path': '/mnt/local/data/vtrifonov/prec-learning-Notay-loss/', 'folder_model': 'results_cases/29.01_benchmark_elliptic_datasets_ict5', 'folder_log': 'results_cases/29.01_benchmark_elliptic_datasets_ict5', 'name': 'nirc42', 'model_use': nan, 'save_model': True, 'cg_maxiter': 2000, 'cg_atol': 1e-12, 'data_config': {'data_dir': '/mnt/local/data/vtrifonov/prec-learning-Notay-loss/', 'pde': 'div_k_grad', 'grid': 64, 'variance': 0.5, 'lhs_type': 'l_ict', 'N_samples_train': 1000, 'N_samples_test': 200, 'fill_factor': 5, 'threshold': 0.0001}, 'model_config': {'layer_type': 'Conv1d', 'static_diag': False, 'alpha': 0.0, 'mlp': {'features': [1, 16, 1], 'N_layers': 2}}, 'train_config': {'model_type': nan, 'loss_type': nan, 'batch_size': nan, 'optimizer': nan, 'lr': nan, 'optim_params': nan, 'epoch_num': nan}, 'seed': 42}.\n",
      "\n",
      "[INFO | root | 2025-01-29 05:44:37] - Data is loaded in 1.055e+02 sec.\n",
      "\n",
      "[INFO | root | 2025-01-29 05:44:46] - Precs are combined:\n",
      "[INFO | root | 2025-01-29 05:44:46] -  classical prec construction time (sec) : mean = 2.102e-03, std = 2.150e-04;\n",
      "[INFO | root | 2025-01-29 05:45:15] - CG with classical prec is finished:\n",
      "[INFO | root | 2025-01-29 05:45:15] -  iterations to atol([mean, std]): {0.001: [22.0, 0.73], 1e-06: [28.3, 0.64], 1e-09: [33.8, 0.62], 1e-12: [38.6, 0.67]};\n",
      "[INFO | root | 2025-01-29 05:45:15] -  time to atol([mean, std]): {0.001: [0.0776, 0.00266], 1e-06: [0.0991, 0.0027], 1e-09: [0.1178, 0.00293], 1e-12: [0.1341, 0.0033]};\n",
      "[INFO | root | 2025-01-29 05:45:15] -  number of linsystems for which CG did not conerge to atol: {0.001: 0, 1e-06: 0, 1e-09: 0, 1e-12: 0}.\n",
      "\n",
      "[INFO | root | 2025-01-29 05:45:15] - [Classical precs] script `nirc42` finished execution.\n",
      "\n",
      "\n",
      "\n",
      "[INFO | root | 2025-01-29 05:45:15] - %%%%%%%%%%%%%%%%%%%%%%%%%%%%%%%%%%%%%%%%%%%%%%%%%%%%%%%%%%%%%%%%%\n",
      "[INFO | root | 2025-01-29 05:45:15] - [Classical precs] script `zwpi22` started execution.\n",
      "[INFO | root | 2025-01-29 05:45:15] - Config: {'path': '/mnt/local/data/vtrifonov/prec-learning-Notay-loss/', 'folder_model': 'results_cases/29.01_benchmark_elliptic_datasets_ict5', 'folder_log': 'results_cases/29.01_benchmark_elliptic_datasets_ict5', 'name': 'zwpi22', 'model_use': nan, 'save_model': True, 'cg_maxiter': 2000, 'cg_atol': 1e-12, 'data_config': {'data_dir': '/mnt/local/data/vtrifonov/prec-learning-Notay-loss/', 'pde': 'div_k_grad', 'grid': 64, 'variance': 0.7, 'lhs_type': 'l_ict', 'N_samples_train': 1000, 'N_samples_test': 200, 'fill_factor': 5, 'threshold': 0.0001}, 'model_config': {'layer_type': 'Conv1d', 'static_diag': False, 'alpha': 0.0, 'mlp': {'features': [1, 16, 1], 'N_layers': 2}}, 'train_config': {'model_type': nan, 'loss_type': nan, 'batch_size': nan, 'optimizer': nan, 'lr': nan, 'optim_params': nan, 'epoch_num': nan}, 'seed': 42}.\n",
      "\n"
     ]
    },
    {
     "name": "stdout",
     "output_type": "stream",
     "text": [
      "Started: 1\n"
     ]
    },
    {
     "name": "stderr",
     "output_type": "stream",
     "text": [
      "[INFO | root | 2025-01-29 05:45:39] - Data is loaded in 2.404e+01 sec.\n",
      "\n",
      "[INFO | root | 2025-01-29 05:45:47] - Precs are combined:\n",
      "[INFO | root | 2025-01-29 05:45:47] -  classical prec construction time (sec) : mean = 2.102e-03, std = 1.872e-04;\n",
      "[INFO | root | 2025-01-29 05:46:16] - CG with classical prec is finished:\n",
      "[INFO | root | 2025-01-29 05:46:16] -  iterations to atol([mean, std]): {0.001: [22.6, 0.83], 1e-06: [29.0, 0.85], 1e-09: [34.3, 0.8], 1e-12: [39.1, 0.84]};\n",
      "[INFO | root | 2025-01-29 05:46:16] -  time to atol([mean, std]): {0.001: [0.0797, 0.00297], 1e-06: [0.1016, 0.00308], 1e-09: [0.1199, 0.00294], 1e-12: [0.1362, 0.00302]};\n",
      "[INFO | root | 2025-01-29 05:46:16] -  number of linsystems for which CG did not conerge to atol: {0.001: 0, 1e-06: 0, 1e-09: 0, 1e-12: 0}.\n",
      "\n",
      "[INFO | root | 2025-01-29 05:46:16] - [Classical precs] script `zwpi22` finished execution.\n",
      "\n",
      "\n",
      "\n",
      "[INFO | root | 2025-01-29 05:46:16] - %%%%%%%%%%%%%%%%%%%%%%%%%%%%%%%%%%%%%%%%%%%%%%%%%%%%%%%%%%%%%%%%%\n",
      "[INFO | root | 2025-01-29 05:46:16] - [Classical precs] script `fw9u6o` started execution.\n",
      "[INFO | root | 2025-01-29 05:46:16] - Config: {'path': '/mnt/local/data/vtrifonov/prec-learning-Notay-loss/', 'folder_model': 'results_cases/29.01_benchmark_elliptic_datasets_ict5', 'folder_log': 'results_cases/29.01_benchmark_elliptic_datasets_ict5', 'name': 'fw9u6o', 'model_use': nan, 'save_model': True, 'cg_maxiter': 2000, 'cg_atol': 1e-12, 'data_config': {'data_dir': '/mnt/local/data/vtrifonov/prec-learning-Notay-loss/', 'pde': 'div_k_grad', 'grid': 64, 'variance': 1.1, 'lhs_type': 'l_ict', 'N_samples_train': 1000, 'N_samples_test': 200, 'fill_factor': 5, 'threshold': 0.0001}, 'model_config': {'layer_type': 'Conv1d', 'static_diag': False, 'alpha': 0.0, 'mlp': {'features': [1, 16, 1], 'N_layers': 2}}, 'train_config': {'model_type': nan, 'loss_type': nan, 'batch_size': nan, 'optimizer': nan, 'lr': nan, 'optim_params': nan, 'epoch_num': nan}, 'seed': 42}.\n",
      "\n"
     ]
    },
    {
     "name": "stdout",
     "output_type": "stream",
     "text": [
      "Started: 2\n"
     ]
    },
    {
     "name": "stderr",
     "output_type": "stream",
     "text": [
      "[INFO | root | 2025-01-29 05:46:36] - Data is loaded in 2.032e+01 sec.\n",
      "\n",
      "[INFO | root | 2025-01-29 05:46:44] - Precs are combined:\n",
      "[INFO | root | 2025-01-29 05:46:44] -  classical prec construction time (sec) : mean = 2.076e-03, std = 4.142e-05;\n",
      "[INFO | root | 2025-01-29 05:47:13] - CG with classical prec is finished:\n",
      "[INFO | root | 2025-01-29 05:47:13] -  iterations to atol([mean, std]): {0.001: [23.4, 0.91], 1e-06: [29.9, 0.9], 1e-09: [35.3, 0.99], 1e-12: [40.1, 0.99]};\n",
      "[INFO | root | 2025-01-29 05:47:13] -  time to atol([mean, std]): {0.001: [0.0824, 0.00313], 1e-06: [0.1042, 0.00312], 1e-09: [0.1227, 0.0034], 1e-12: [0.1389, 0.0034]};\n",
      "[INFO | root | 2025-01-29 05:47:13] -  number of linsystems for which CG did not conerge to atol: {0.001: 0, 1e-06: 0, 1e-09: 0, 1e-12: 0}.\n",
      "\n",
      "[INFO | root | 2025-01-29 05:47:13] - [Classical precs] script `fw9u6o` finished execution.\n",
      "\n",
      "\n",
      "\n",
      "[INFO | root | 2025-01-29 05:47:13] - %%%%%%%%%%%%%%%%%%%%%%%%%%%%%%%%%%%%%%%%%%%%%%%%%%%%%%%%%%%%%%%%%\n",
      "[INFO | root | 2025-01-29 05:47:13] - [Classical precs] script `82lt3z` started execution.\n",
      "[INFO | root | 2025-01-29 05:47:13] - Config: {'path': '/mnt/local/data/vtrifonov/prec-learning-Notay-loss/', 'folder_model': 'results_cases/29.01_benchmark_elliptic_datasets_ict5', 'folder_log': 'results_cases/29.01_benchmark_elliptic_datasets_ict5', 'name': '82lt3z', 'model_use': nan, 'save_model': True, 'cg_maxiter': 2000, 'cg_atol': 1e-12, 'data_config': {'data_dir': '/mnt/local/data/vtrifonov/prec-learning-Notay-loss/', 'pde': 'div_k_grad', 'grid': 128, 'variance': 0.5, 'lhs_type': 'l_ict', 'N_samples_train': 1000, 'N_samples_test': 200, 'fill_factor': 5, 'threshold': 0.0001}, 'model_config': {'layer_type': 'Conv1d', 'static_diag': False, 'alpha': 0.0, 'mlp': {'features': [1, 16, 1], 'N_layers': 2}}, 'train_config': {'model_type': nan, 'loss_type': nan, 'batch_size': nan, 'optimizer': nan, 'lr': nan, 'optim_params': nan, 'epoch_num': nan}, 'seed': 42}.\n",
      "\n"
     ]
    },
    {
     "name": "stdout",
     "output_type": "stream",
     "text": [
      "Started: 3\n"
     ]
    },
    {
     "name": "stderr",
     "output_type": "stream",
     "text": [
      "[INFO | root | 2025-01-29 05:49:29] - Data is loaded in 1.356e+02 sec.\n",
      "\n",
      "[INFO | root | 2025-01-29 05:49:41] - Precs are combined:\n",
      "[INFO | root | 2025-01-29 05:49:41] -  classical prec construction time (sec) : mean = 7.854e-03, std = 5.547e-04;\n",
      "[INFO | root | 2025-01-29 05:52:58] - CG with classical prec is finished:\n",
      "[INFO | root | 2025-01-29 05:52:58] -  iterations to atol([mean, std]): {0.001: [46.0, 1.35], 1e-06: [58.5, 1.36], 1e-09: [68.8, 1.3], 1e-12: [77.8, 1.27]};\n",
      "[INFO | root | 2025-01-29 05:52:58] -  time to atol([mean, std]): {0.001: [0.582, 0.06562], 1e-06: [0.7369, 0.08148], 1e-09: [0.8654, 0.09628], 1e-12: [0.9768, 0.10836]};\n",
      "[INFO | root | 2025-01-29 05:52:58] -  number of linsystems for which CG did not conerge to atol: {0.001: 0, 1e-06: 0, 1e-09: 0, 1e-12: 0}.\n",
      "\n",
      "[INFO | root | 2025-01-29 05:52:58] - [Classical precs] script `82lt3z` finished execution.\n",
      "\n",
      "\n",
      "\n",
      "[INFO | root | 2025-01-29 05:52:58] - %%%%%%%%%%%%%%%%%%%%%%%%%%%%%%%%%%%%%%%%%%%%%%%%%%%%%%%%%%%%%%%%%\n",
      "[INFO | root | 2025-01-29 05:52:58] - [Classical precs] script `7yb84x` started execution.\n",
      "[INFO | root | 2025-01-29 05:52:58] - Config: {'path': '/mnt/local/data/vtrifonov/prec-learning-Notay-loss/', 'folder_model': 'results_cases/29.01_benchmark_elliptic_datasets_ict5', 'folder_log': 'results_cases/29.01_benchmark_elliptic_datasets_ict5', 'name': '7yb84x', 'model_use': nan, 'save_model': True, 'cg_maxiter': 2000, 'cg_atol': 1e-12, 'data_config': {'data_dir': '/mnt/local/data/vtrifonov/prec-learning-Notay-loss/', 'pde': 'div_k_grad', 'grid': 128, 'variance': 0.7, 'lhs_type': 'l_ict', 'N_samples_train': 1000, 'N_samples_test': 200, 'fill_factor': 5, 'threshold': 0.0001}, 'model_config': {'layer_type': 'Conv1d', 'static_diag': False, 'alpha': 0.0, 'mlp': {'features': [1, 16, 1], 'N_layers': 2}}, 'train_config': {'model_type': nan, 'loss_type': nan, 'batch_size': nan, 'optimizer': nan, 'lr': nan, 'optim_params': nan, 'epoch_num': nan}, 'seed': 42}.\n",
      "\n"
     ]
    },
    {
     "name": "stdout",
     "output_type": "stream",
     "text": [
      "Started: 4\n"
     ]
    },
    {
     "name": "stderr",
     "output_type": "stream",
     "text": [
      "[INFO | root | 2025-01-29 05:54:07] - Data is loaded in 6.915e+01 sec.\n",
      "\n",
      "[INFO | root | 2025-01-29 05:54:19] - Precs are combined:\n",
      "[INFO | root | 2025-01-29 05:54:19] -  classical prec construction time (sec) : mean = 7.546e-03, std = 4.182e-04;\n",
      "[INFO | root | 2025-01-29 05:57:58] - CG with classical prec is finished:\n",
      "[INFO | root | 2025-01-29 05:57:58] -  iterations to atol([mean, std]): {0.001: [48.5, 1.66], 1e-06: [61.1, 1.66], 1e-09: [71.4, 1.8], 1e-12: [80.4, 1.71]};\n",
      "[INFO | root | 2025-01-29 05:57:58] -  time to atol([mean, std]): {0.001: [0.6605, 0.05282], 1e-06: [0.8291, 0.06491], 1e-09: [0.9675, 0.07526], 1e-12: [1.0877, 0.08371]};\n",
      "[INFO | root | 2025-01-29 05:57:58] -  number of linsystems for which CG did not conerge to atol: {0.001: 0, 1e-06: 0, 1e-09: 0, 1e-12: 0}.\n",
      "\n",
      "[INFO | root | 2025-01-29 05:57:58] - [Classical precs] script `7yb84x` finished execution.\n",
      "\n",
      "\n",
      "\n",
      "[INFO | root | 2025-01-29 05:57:58] - %%%%%%%%%%%%%%%%%%%%%%%%%%%%%%%%%%%%%%%%%%%%%%%%%%%%%%%%%%%%%%%%%\n",
      "[INFO | root | 2025-01-29 05:57:58] - [Classical precs] script `e7tyog` started execution.\n",
      "[INFO | root | 2025-01-29 05:57:58] - Config: {'path': '/mnt/local/data/vtrifonov/prec-learning-Notay-loss/', 'folder_model': 'results_cases/29.01_benchmark_elliptic_datasets_ict5', 'folder_log': 'results_cases/29.01_benchmark_elliptic_datasets_ict5', 'name': 'e7tyog', 'model_use': nan, 'save_model': True, 'cg_maxiter': 2000, 'cg_atol': 1e-12, 'data_config': {'data_dir': '/mnt/local/data/vtrifonov/prec-learning-Notay-loss/', 'pde': 'div_k_grad', 'grid': 128, 'variance': 1.1, 'lhs_type': 'l_ict', 'N_samples_train': 1000, 'N_samples_test': 200, 'fill_factor': 5, 'threshold': 0.0001}, 'model_config': {'layer_type': 'Conv1d', 'static_diag': False, 'alpha': 0.0, 'mlp': {'features': [1, 16, 1], 'N_layers': 2}}, 'train_config': {'model_type': nan, 'loss_type': nan, 'batch_size': nan, 'optimizer': nan, 'lr': nan, 'optim_params': nan, 'epoch_num': nan}, 'seed': 42}.\n",
      "\n"
     ]
    },
    {
     "name": "stdout",
     "output_type": "stream",
     "text": [
      "Started: 5\n"
     ]
    },
    {
     "name": "stderr",
     "output_type": "stream",
     "text": [
      "[INFO | root | 2025-01-29 05:58:36] - Data is loaded in 3.813e+01 sec.\n",
      "\n",
      "[INFO | root | 2025-01-29 05:58:48] - Precs are combined:\n",
      "[INFO | root | 2025-01-29 05:58:48] -  classical prec construction time (sec) : mean = 7.446e-03, std = 3.430e-04;\n",
      "[INFO | root | 2025-01-29 06:02:39] - CG with classical prec is finished:\n",
      "[INFO | root | 2025-01-29 06:02:39] -  iterations to atol([mean, std]): {0.001: [52.1, 2.05], 1e-06: [65.0, 2.1], 1e-09: [75.5, 2.02], 1e-12: [84.3, 1.95]};\n",
      "[INFO | root | 2025-01-29 06:02:39] -  time to atol([mean, std]): {0.001: [0.7158, 0.05359], 1e-06: [0.89, 0.06221], 1e-09: [1.0326, 0.06984], 1e-12: [1.1522, 0.07542]};\n",
      "[INFO | root | 2025-01-29 06:02:39] -  number of linsystems for which CG did not conerge to atol: {0.001: 0, 1e-06: 0, 1e-09: 0, 1e-12: 0}.\n",
      "\n",
      "[INFO | root | 2025-01-29 06:02:39] - [Classical precs] script `e7tyog` finished execution.\n",
      "\n",
      "\n",
      "\n",
      "[INFO | root | 2025-01-29 06:02:40] - %%%%%%%%%%%%%%%%%%%%%%%%%%%%%%%%%%%%%%%%%%%%%%%%%%%%%%%%%%%%%%%%%\n",
      "[INFO | root | 2025-01-29 06:02:40] - [Classical precs] script `1u4k84` started execution.\n",
      "[INFO | root | 2025-01-29 06:02:40] - Config: {'path': '/mnt/local/data/vtrifonov/prec-learning-Notay-loss/', 'folder_model': 'results_cases/29.01_benchmark_elliptic_datasets_ict5', 'folder_log': 'results_cases/29.01_benchmark_elliptic_datasets_ict5', 'name': '1u4k84', 'model_use': nan, 'save_model': True, 'cg_maxiter': 2000, 'cg_atol': 1e-12, 'data_config': {'data_dir': '/mnt/local/data/vtrifonov/prec-learning-Notay-loss/', 'pde': 'div_k_grad', 'grid': 256, 'variance': 0.5, 'lhs_type': 'l_ict', 'N_samples_train': 1000, 'N_samples_test': 200, 'fill_factor': 5, 'threshold': 0.0001}, 'model_config': {'layer_type': 'Conv1d', 'static_diag': False, 'alpha': 0.0, 'mlp': {'features': [1, 16, 1], 'N_layers': 2}}, 'train_config': {'model_type': nan, 'loss_type': nan, 'batch_size': nan, 'optimizer': nan, 'lr': nan, 'optim_params': nan, 'epoch_num': nan}, 'seed': 42}.\n",
      "\n"
     ]
    },
    {
     "name": "stdout",
     "output_type": "stream",
     "text": [
      "Started: 6\n"
     ]
    },
    {
     "name": "stderr",
     "output_type": "stream",
     "text": [
      "[INFO | root | 2025-01-29 06:05:49] - Data is loaded in 1.894e+02 sec.\n",
      "\n",
      "[INFO | root | 2025-01-29 06:06:09] - Precs are combined:\n",
      "[INFO | root | 2025-01-29 06:06:09] -  classical prec construction time (sec) : mean = 3.044e-02, std = 1.564e-03;\n",
      "[INFO | root | 2025-01-29 06:32:11] - CG with classical prec is finished:\n",
      "[INFO | root | 2025-01-29 06:32:11] -  iterations to atol([mean, std]): {0.001: [97.1, 2.7], 1e-06: [121.4, 2.91], 1e-09: [141.5, 2.81], 1e-12: [159.5, 2.6]};\n",
      "[INFO | root | 2025-01-29 06:32:11] -  time to atol([mean, std]): {0.001: [4.7762, 0.41022], 1e-06: [5.9584, 0.50674], 1e-09: [6.9423, 0.58268], 1e-12: [7.8168, 0.64965]};\n",
      "[INFO | root | 2025-01-29 06:32:11] -  number of linsystems for which CG did not conerge to atol: {0.001: 0, 1e-06: 0, 1e-09: 0, 1e-12: 0}.\n",
      "\n",
      "[INFO | root | 2025-01-29 06:32:11] - [Classical precs] script `1u4k84` finished execution.\n",
      "\n",
      "\n",
      "\n",
      "[INFO | root | 2025-01-29 06:32:11] - %%%%%%%%%%%%%%%%%%%%%%%%%%%%%%%%%%%%%%%%%%%%%%%%%%%%%%%%%%%%%%%%%\n",
      "[INFO | root | 2025-01-29 06:32:11] - [Classical precs] script `uccc4k` started execution.\n",
      "[INFO | root | 2025-01-29 06:32:11] - Config: {'path': '/mnt/local/data/vtrifonov/prec-learning-Notay-loss/', 'folder_model': 'results_cases/29.01_benchmark_elliptic_datasets_ict5', 'folder_log': 'results_cases/29.01_benchmark_elliptic_datasets_ict5', 'name': 'uccc4k', 'model_use': nan, 'save_model': True, 'cg_maxiter': 2000, 'cg_atol': 1e-12, 'data_config': {'data_dir': '/mnt/local/data/vtrifonov/prec-learning-Notay-loss/', 'pde': 'div_k_grad', 'grid': 256, 'variance': 0.7, 'lhs_type': 'l_ict', 'N_samples_train': 1000, 'N_samples_test': 200, 'fill_factor': 5, 'threshold': 0.0001}, 'model_config': {'layer_type': 'Conv1d', 'static_diag': False, 'alpha': 0.0, 'mlp': {'features': [1, 16, 1], 'N_layers': 2}}, 'train_config': {'model_type': nan, 'loss_type': nan, 'batch_size': nan, 'optimizer': nan, 'lr': nan, 'optim_params': nan, 'epoch_num': nan}, 'seed': 42}.\n",
      "\n"
     ]
    },
    {
     "name": "stdout",
     "output_type": "stream",
     "text": [
      "Started: 7\n"
     ]
    },
    {
     "name": "stderr",
     "output_type": "stream",
     "text": [
      "[INFO | root | 2025-01-29 06:34:13] - Data is loaded in 1.221e+02 sec.\n",
      "\n",
      "[INFO | root | 2025-01-29 06:34:34] - Precs are combined:\n",
      "[INFO | root | 2025-01-29 06:34:34] -  classical prec construction time (sec) : mean = 2.979e-02, std = 1.587e-03;\n",
      "[INFO | root | 2025-01-29 07:00:27] - CG with classical prec is finished:\n",
      "[INFO | root | 2025-01-29 07:00:27] -  iterations to atol([mean, std]): {0.001: [101.8, 3.41], 1e-06: [126.9, 3.37], 1e-09: [147.4, 3.29], 1e-12: [165.4, 3.32]};\n",
      "[INFO | root | 2025-01-29 07:00:27] -  time to atol([mean, std]): {0.001: [4.8003, 0.62358], 1e-06: [5.9792, 0.76409], 1e-09: [6.9382, 0.87386], 1e-12: [7.7762, 0.96745]};\n",
      "[INFO | root | 2025-01-29 07:00:27] -  number of linsystems for which CG did not conerge to atol: {0.001: 0, 1e-06: 0, 1e-09: 0, 1e-12: 0}.\n",
      "\n",
      "[INFO | root | 2025-01-29 07:00:27] - [Classical precs] script `uccc4k` finished execution.\n",
      "\n",
      "\n",
      "\n",
      "[INFO | root | 2025-01-29 07:00:27] - %%%%%%%%%%%%%%%%%%%%%%%%%%%%%%%%%%%%%%%%%%%%%%%%%%%%%%%%%%%%%%%%%\n",
      "[INFO | root | 2025-01-29 07:00:27] - [Classical precs] script `xtueyq` started execution.\n",
      "[INFO | root | 2025-01-29 07:00:27] - Config: {'path': '/mnt/local/data/vtrifonov/prec-learning-Notay-loss/', 'folder_model': 'results_cases/29.01_benchmark_elliptic_datasets_ict5', 'folder_log': 'results_cases/29.01_benchmark_elliptic_datasets_ict5', 'name': 'xtueyq', 'model_use': nan, 'save_model': True, 'cg_maxiter': 2000, 'cg_atol': 1e-12, 'data_config': {'data_dir': '/mnt/local/data/vtrifonov/prec-learning-Notay-loss/', 'pde': 'div_k_grad', 'grid': 256, 'variance': 1.1, 'lhs_type': 'l_ict', 'N_samples_train': 1000, 'N_samples_test': 200, 'fill_factor': 5, 'threshold': 0.0001}, 'model_config': {'layer_type': 'Conv1d', 'static_diag': False, 'alpha': 0.0, 'mlp': {'features': [1, 16, 1], 'N_layers': 2}}, 'train_config': {'model_type': nan, 'loss_type': nan, 'batch_size': nan, 'optimizer': nan, 'lr': nan, 'optim_params': nan, 'epoch_num': nan}, 'seed': 42}.\n",
      "\n"
     ]
    },
    {
     "name": "stdout",
     "output_type": "stream",
     "text": [
      "Started: 8\n"
     ]
    },
    {
     "name": "stderr",
     "output_type": "stream",
     "text": [
      "[INFO | root | 2025-01-29 07:02:03] - Data is loaded in 9.614e+01 sec.\n",
      "\n",
      "[INFO | root | 2025-01-29 07:02:25] - Precs are combined:\n",
      "[INFO | root | 2025-01-29 07:02:25] -  classical prec construction time (sec) : mean = 2.954e-02, std = 7.454e-04;\n",
      "[INFO | root | 2025-01-29 07:29:00] - CG with classical prec is finished:\n",
      "[INFO | root | 2025-01-29 07:29:00] -  iterations to atol([mean, std]): {0.001: [109.7, 4.44], 1e-06: [135.9, 4.61], 1e-09: [157.0, 4.58], 1e-12: [174.8, 4.58]};\n",
      "[INFO | root | 2025-01-29 07:29:00] -  time to atol([mean, std]): {0.001: [5.0312, 0.62233], 1e-06: [6.2223, 0.75401], 1e-09: [7.1781, 0.85166], 1e-12: [7.9872, 0.94207]};\n",
      "[INFO | root | 2025-01-29 07:29:00] -  number of linsystems for which CG did not conerge to atol: {0.001: 0, 1e-06: 0, 1e-09: 0, 1e-12: 0}.\n",
      "\n",
      "[INFO | root | 2025-01-29 07:29:00] - [Classical precs] script `xtueyq` finished execution.\n",
      "\n",
      "\n",
      "\n"
     ]
    }
   ],
   "source": [
    "params_grid = ParameterGrid({\n",
    "    'model_use': [np.nan],\n",
    "    'cg_maxiter': [2000],\n",
    "    'cg_atol': [1e-12],\n",
    "    'model_type': [np.nan],\n",
    "    'loss_type': [np.nan],\n",
    "    'batch_size': [np.nan],\n",
    "    'lr': [np.nan],\n",
    "    'epoch_num': [np.nan],\n",
    "    'pde': ['div_k_grad'],\n",
    "    'grid': [64, 128, 256],\n",
    "    'variance': [.5, .7, 1.1],\n",
    "    'lhs_type': ['l_ict'],\n",
    "    'fill_factor': [5],\n",
    "    'threshold': [1e-4]\n",
    "})\n",
    "\n",
    "grid_script(script_classical_prec, base_config, params_grid)"
   ]
  },
  {
   "cell_type": "code",
   "execution_count": null,
   "id": "ac003d3e",
   "metadata": {},
   "outputs": [],
   "source": []
  },
  {
   "cell_type": "markdown",
   "id": "36fbce9f",
   "metadata": {},
   "source": [
    "# Poisson"
   ]
  },
  {
   "cell_type": "code",
   "execution_count": null,
   "id": "e4589a52",
   "metadata": {},
   "outputs": [
    {
     "name": "stderr",
     "output_type": "stream",
     "text": [
      "[INFO | root | 2025-01-29 07:29:00] - %%%%%%%%%%%%%%%%%%%%%%%%%%%%%%%%%%%%%%%%%%%%%%%%%%%%%%%%%%%%%%%%%\n",
      "[INFO | root | 2025-01-29 07:29:00] - [Classical precs] script `lxb9l3` started execution.\n",
      "[INFO | root | 2025-01-29 07:29:00] - Config: {'path': '/mnt/local/data/vtrifonov/prec-learning-Notay-loss/', 'folder_model': 'results_cases/29.01_benchmark_elliptic_datasets_ict5', 'folder_log': 'results_cases/29.01_benchmark_elliptic_datasets_ict5', 'name': 'lxb9l3', 'model_use': nan, 'save_model': True, 'cg_maxiter': 2000, 'cg_atol': 1e-12, 'data_config': {'data_dir': '/mnt/local/data/vtrifonov/prec-learning-Notay-loss/', 'pde': 'poisson', 'grid': 64, 'variance': 0.5, 'lhs_type': 'l_ict', 'N_samples_train': 1000, 'N_samples_test': 200, 'fill_factor': 5, 'threshold': 0.0001}, 'model_config': {'layer_type': 'Conv1d', 'static_diag': False, 'alpha': 0.0, 'mlp': {'features': [1, 16, 1], 'N_layers': 2}}, 'train_config': {'model_type': nan, 'loss_type': nan, 'batch_size': nan, 'optimizer': nan, 'lr': nan, 'optim_params': nan, 'epoch_num': nan}, 'seed': 42}.\n",
      "\n"
     ]
    },
    {
     "name": "stdout",
     "output_type": "stream",
     "text": [
      "Started: 0\n"
     ]
    },
    {
     "name": "stderr",
     "output_type": "stream",
     "text": [
      "[INFO | root | 2025-01-29 07:29:05] - Data is loaded in 4.705e+00 sec.\n",
      "\n",
      "[INFO | root | 2025-01-29 07:29:08] - Precs are combined:\n",
      "[INFO | root | 2025-01-29 07:29:08] -  classical prec construction time (sec) : mean = 1.839e-03, std = 4.885e-05;\n",
      "[INFO | root | 2025-01-29 07:29:35] - CG with classical prec is finished:\n",
      "[INFO | root | 2025-01-29 07:29:35] -  iterations to atol([mean, std]): {0.001: [22.0, 0.0], 1e-06: [28.0, 0.0], 1e-09: [33.0, 0.0], 1e-12: [38.0, 0.0]};\n",
      "[INFO | root | 2025-01-29 07:29:35] -  time to atol([mean, std]): {0.001: [0.0738, 0.00039], 1e-06: [0.0932, 0.00046], 1e-09: [0.1094, 0.00052], 1e-12: [0.1256, 0.00058]};\n",
      "[INFO | root | 2025-01-29 07:29:35] -  number of linsystems for which CG did not conerge to atol: {0.001: 0, 1e-06: 0, 1e-09: 0, 1e-12: 0}.\n",
      "\n",
      "[INFO | root | 2025-01-29 07:29:35] - [Classical precs] script `lxb9l3` finished execution.\n",
      "\n",
      "\n",
      "\n",
      "[INFO | root | 2025-01-29 07:29:35] - %%%%%%%%%%%%%%%%%%%%%%%%%%%%%%%%%%%%%%%%%%%%%%%%%%%%%%%%%%%%%%%%%\n",
      "[INFO | root | 2025-01-29 07:29:35] - [Classical precs] script `mcxuyk` started execution.\n",
      "[INFO | root | 2025-01-29 07:29:35] - Config: {'path': '/mnt/local/data/vtrifonov/prec-learning-Notay-loss/', 'folder_model': 'results_cases/29.01_benchmark_elliptic_datasets_ict5', 'folder_log': 'results_cases/29.01_benchmark_elliptic_datasets_ict5', 'name': 'mcxuyk', 'model_use': nan, 'save_model': True, 'cg_maxiter': 2000, 'cg_atol': 1e-12, 'data_config': {'data_dir': '/mnt/local/data/vtrifonov/prec-learning-Notay-loss/', 'pde': 'poisson', 'grid': 128, 'variance': 0.5, 'lhs_type': 'l_ict', 'N_samples_train': 1000, 'N_samples_test': 200, 'fill_factor': 5, 'threshold': 0.0001}, 'model_config': {'layer_type': 'Conv1d', 'static_diag': False, 'alpha': 0.0, 'mlp': {'features': [1, 16, 1], 'N_layers': 2}}, 'train_config': {'model_type': nan, 'loss_type': nan, 'batch_size': nan, 'optimizer': nan, 'lr': nan, 'optim_params': nan, 'epoch_num': nan}, 'seed': 42}.\n",
      "\n"
     ]
    },
    {
     "name": "stdout",
     "output_type": "stream",
     "text": [
      "Started: 1\n"
     ]
    },
    {
     "name": "stderr",
     "output_type": "stream",
     "text": [
      "[INFO | root | 2025-01-29 07:29:41] - Data is loaded in 6.525e+00 sec.\n",
      "\n",
      "[INFO | root | 2025-01-29 07:29:46] - Precs are combined:\n",
      "[INFO | root | 2025-01-29 07:29:46] -  classical prec construction time (sec) : mean = 7.213e-03, std = 5.146e-04;\n",
      "[INFO | root | 2025-01-29 07:33:02] - CG with classical prec is finished:\n",
      "[INFO | root | 2025-01-29 07:33:02] -  iterations to atol([mean, std]): {0.001: [42.0, 0.0], 1e-06: [54.9, 0.27], 1e-09: [65.0, 0.0], 1e-12: [74.0, 0.0]};\n",
      "[INFO | root | 2025-01-29 07:33:02] -  time to atol([mean, std]): {0.001: [0.5582, 0.05625], 1e-06: [0.7272, 0.07333], 1e-09: [0.859, 0.08702], 1e-12: [0.9768, 0.099]};\n",
      "[INFO | root | 2025-01-29 07:33:02] -  number of linsystems for which CG did not conerge to atol: {0.001: 0, 1e-06: 0, 1e-09: 0, 1e-12: 0}.\n",
      "\n",
      "[INFO | root | 2025-01-29 07:33:02] - [Classical precs] script `mcxuyk` finished execution.\n",
      "\n",
      "\n",
      "\n",
      "[INFO | root | 2025-01-29 07:33:02] - %%%%%%%%%%%%%%%%%%%%%%%%%%%%%%%%%%%%%%%%%%%%%%%%%%%%%%%%%%%%%%%%%\n",
      "[INFO | root | 2025-01-29 07:33:02] - [Classical precs] script `m0u9lm` started execution.\n",
      "[INFO | root | 2025-01-29 07:33:02] - Config: {'path': '/mnt/local/data/vtrifonov/prec-learning-Notay-loss/', 'folder_model': 'results_cases/29.01_benchmark_elliptic_datasets_ict5', 'folder_log': 'results_cases/29.01_benchmark_elliptic_datasets_ict5', 'name': 'm0u9lm', 'model_use': nan, 'save_model': True, 'cg_maxiter': 2000, 'cg_atol': 1e-12, 'data_config': {'data_dir': '/mnt/local/data/vtrifonov/prec-learning-Notay-loss/', 'pde': 'poisson', 'grid': 256, 'variance': 0.5, 'lhs_type': 'l_ict', 'N_samples_train': 1000, 'N_samples_test': 200, 'fill_factor': 5, 'threshold': 0.0001}, 'model_config': {'layer_type': 'Conv1d', 'static_diag': False, 'alpha': 0.0, 'mlp': {'features': [1, 16, 1], 'N_layers': 2}}, 'train_config': {'model_type': nan, 'loss_type': nan, 'batch_size': nan, 'optimizer': nan, 'lr': nan, 'optim_params': nan, 'epoch_num': nan}, 'seed': 42}.\n",
      "\n"
     ]
    },
    {
     "name": "stdout",
     "output_type": "stream",
     "text": [
      "Started: 2\n"
     ]
    },
    {
     "name": "stderr",
     "output_type": "stream",
     "text": [
      "[INFO | root | 2025-01-29 07:33:16] - Data is loaded in 1.330e+01 sec.\n",
      "\n",
      "[INFO | root | 2025-01-29 07:33:27] - Precs are combined:\n",
      "[INFO | root | 2025-01-29 07:33:27] -  classical prec construction time (sec) : mean = 2.845e-02, std = 3.752e-04;\n"
     ]
    }
   ],
   "source": [
    "params_grid = ParameterGrid({\n",
    "    'model_use': [np.nan],\n",
    "    'cg_maxiter': [2000],\n",
    "    'cg_atol': [1e-12],\n",
    "    'model_type': [np.nan],\n",
    "    'loss_type': [np.nan],\n",
    "    'batch_size': [np.nan],\n",
    "    'lr': [np.nan],\n",
    "    'epoch_num': [np.nan],\n",
    "    'pde': ['poisson'],\n",
    "    'grid': [64, 128, 256],\n",
    "    'variance': [.5],\n",
    "    'lhs_type': ['l_ict'],\n",
    "    'fill_factor': [5],\n",
    "    'threshold': [1e-4]\n",
    "})\n",
    "\n",
    "grid_script(script_classical_prec, base_config, params_grid)"
   ]
  },
  {
   "cell_type": "code",
   "execution_count": null,
   "id": "b38f8524",
   "metadata": {},
   "outputs": [],
   "source": [
    "# exit()"
   ]
  }
 ],
 "metadata": {
  "kernelspec": {
   "display_name": "Python 3 (ipykernel)",
   "language": "python",
   "name": "python3"
  },
  "language_info": {
   "codemirror_mode": {
    "name": "ipython",
    "version": 3
   },
   "file_extension": ".py",
   "mimetype": "text/x-python",
   "name": "python",
   "nbconvert_exporter": "python",
   "pygments_lexer": "ipython3",
   "version": "3.10.6"
  }
 },
 "nbformat": 4,
 "nbformat_minor": 5
}
