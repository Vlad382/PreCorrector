{
 "cells": [
  {
   "cell_type": "code",
   "execution_count": 1,
   "id": "8cb28cdd",
   "metadata": {},
   "outputs": [],
   "source": [
    "import sys\n",
    "import os\n",
    "os.environ[\"CUDA_VISIBLE_DEVICES\"] = '2'\n",
    "os.environ['XLA_PYTHON_CLIENT_MEM_FRACTION'] = '.95'\n",
    "sys.path.append('/mnt/local/data/vtrifonov/prec-learning-Notay-loss/')"
   ]
  },
  {
   "cell_type": "code",
   "execution_count": 2,
   "id": "99d7a364",
   "metadata": {},
   "outputs": [],
   "source": [
    "from copy import deepcopy\n",
    "from functools import partial\n",
    "from time import perf_counter\n",
    "\n",
    "import numpy as np\n",
    "import pandas as pd\n",
    "from jax import random, vmap, numpy as jnp\n",
    "from jax.experimental import sparse as jsparse\n",
    "\n",
    "from data.dataset import load_dataset\n",
    "from data.graph_utils import spmatrix_to_graph\n",
    "from config import default_precorrector_gnn_config\n",
    "from scipy_linsolve import make_Chol_prec_from_bcoo, batched_cg_scipy, single_lhs_cg\n",
    "from train import construction_time_with_gnn, train_inference_finetune, load_hp_and_model, make_neural_prec_model\n",
    "from architecture.neural_preconditioner_design import PreCorrectorGNN, NaiveGNN, PreCorrectorMLP, PreCorrectorMLP_StaticDiag, PreCorrectorMultiblockGNN"
   ]
  },
  {
   "cell_type": "code",
   "execution_count": 3,
   "id": "a9eff936",
   "metadata": {},
   "outputs": [],
   "source": [
    "key = random.PRNGKey(42)\n",
    "path = '/mnt/local/data/vtrifonov/prec-learning-Notay-loss/'\n",
    "folder = 'results_cases/28.03_final_elliptic_grid400_precor_gnn/'\n",
    "name = 'rjlvwh'\n",
    "model_path = os.path.join(path, folder, name, name+'.eqx')"
   ]
  },
  {
   "cell_type": "code",
   "execution_count": 6,
   "id": "2908c7f6",
   "metadata": {},
   "outputs": [],
   "source": [
    "data_config = {\n",
    "    'data_dir': path,\n",
    "    'pde': 'div_k_grad',\n",
    "    'grid': 400,\n",
    "    'variance': .5,\n",
    "    'lhs_type': 'l_ic0',\n",
    "    'N_samples_train': 1000,\n",
    "    'N_samples_test': 200,\n",
    "    'fill_factor': 1,\n",
    "    'threshold': 1e-4\n",
    "}\n",
    "class_time_mean_test = 5.461 * 1e-3\n",
    "\n",
    "cg_atol = 1e-12\n",
    "cg_maxiter = 500\n",
    "\n",
    "model_config = deepcopy(default_precorrector_gnn_config)\n",
    "model_config['static_diag'] = True\n",
    "model_config['mp']['aggregate_edges'] = 'sum'"
   ]
  },
  {
   "cell_type": "code",
   "execution_count": 7,
   "id": "438a8676",
   "metadata": {},
   "outputs": [
    {
     "ename": "LinAlgError",
     "evalue": "A is singular: zero entry on diagonal.",
     "output_type": "error",
     "traceback": [
      "\u001b[0;31m---------------------------------------------------------------------------\u001b[0m",
      "\u001b[0;31mLinAlgError\u001b[0m                               Traceback (most recent call last)",
      "Cell \u001b[0;32mIn[7], line 15\u001b[0m\n\u001b[1;32m     13\u001b[0m \u001b[38;5;28;01mfor\u001b[39;00m i \u001b[38;5;129;01min\u001b[39;00m \u001b[38;5;28mrange\u001b[39m(A_test\u001b[38;5;241m.\u001b[39mshape[\u001b[38;5;241m0\u001b[39m]):\n\u001b[1;32m     14\u001b[0m     L\u001b[38;5;241m.\u001b[39mappend(vmap(model, in_axes\u001b[38;5;241m=\u001b[39m(\u001b[38;5;241m0\u001b[39m), out_axes\u001b[38;5;241m=\u001b[39m(\u001b[38;5;241m0\u001b[39m))(spmatrix_to_graph(A_pad_test[i:i\u001b[38;5;241m+\u001b[39m\u001b[38;5;241m1\u001b[39m, \u001b[38;5;241m.\u001b[39m\u001b[38;5;241m.\u001b[39m\u001b[38;5;241m.\u001b[39m], b_test[i:i\u001b[38;5;241m+\u001b[39m\u001b[38;5;241m1\u001b[39m, \u001b[38;5;241m.\u001b[39m\u001b[38;5;241m.\u001b[39m\u001b[38;5;241m.\u001b[39m])))\n\u001b[0;32m---> 15\u001b[0m P \u001b[38;5;241m=\u001b[39m \u001b[43mmake_Chol_prec_from_bcoo\u001b[49m\u001b[43m(\u001b[49m\u001b[43mjsparse\u001b[49m\u001b[38;5;241;43m.\u001b[39;49m\u001b[43mbcoo_concatenate\u001b[49m\u001b[43m(\u001b[49m\u001b[43mL\u001b[49m\u001b[43m,\u001b[49m\u001b[43m \u001b[49m\u001b[43mdimension\u001b[49m\u001b[38;5;241;43m=\u001b[39;49m\u001b[38;5;241;43m0\u001b[39;49m\u001b[43m)\u001b[49m\u001b[43m)\u001b[49m\n\u001b[1;32m     17\u001b[0m \u001b[38;5;28mprint\u001b[39m(\u001b[38;5;124mf\u001b[39m\u001b[38;5;124m'\u001b[39m\u001b[38;5;124mPrecs are combined:\u001b[39m\u001b[38;5;124m'\u001b[39m)\n\u001b[1;32m     18\u001b[0m \u001b[38;5;28mprint\u001b[39m(\u001b[38;5;124mf\u001b[39m\u001b[38;5;124m'\u001b[39m\u001b[38;5;124m GNN prec construction time (sec) : mean = \u001b[39m\u001b[38;5;132;01m{\u001b[39;00mtime_gnn_mean\u001b[38;5;132;01m:\u001b[39;00m\u001b[38;5;124m.3e\u001b[39m\u001b[38;5;132;01m}\u001b[39;00m\u001b[38;5;124m, std = \u001b[39m\u001b[38;5;132;01m{\u001b[39;00mtime_gnn_std\u001b[38;5;132;01m:\u001b[39;00m\u001b[38;5;124m.3e\u001b[39m\u001b[38;5;132;01m}\u001b[39;00m\u001b[38;5;124m.\u001b[39m\u001b[38;5;130;01m\\n\u001b[39;00m\u001b[38;5;124m'\u001b[39m)\n",
      "File \u001b[0;32m/mnt/local/data/vtrifonov/prec-learning-Notay-loss/scipy_linsolve.py:80\u001b[0m, in \u001b[0;36mmake_Chol_prec_from_bcoo\u001b[0;34m(L)\u001b[0m\n\u001b[1;32m     79\u001b[0m \u001b[38;5;28;01mdef\u001b[39;00m \u001b[38;5;21mmake_Chol_prec_from_bcoo\u001b[39m(L):\n\u001b[0;32m---> 80\u001b[0m     \u001b[38;5;28;01mreturn\u001b[39;00m [LinearOperator(shape\u001b[38;5;241m=\u001b[39mL_\u001b[38;5;241m.\u001b[39mshape, matvec\u001b[38;5;241m=\u001b[39mpartial(solve_precChol, L\u001b[38;5;241m=\u001b[39mjBCOO_to_scipyCSR(L_))) \u001b[38;5;28;01mfor\u001b[39;00m L_ \u001b[38;5;129;01min\u001b[39;00m L]\n",
      "File \u001b[0;32m/mnt/local/data/vtrifonov/prec-learning-Notay-loss/scipy_linsolve.py:80\u001b[0m, in \u001b[0;36m<listcomp>\u001b[0;34m(.0)\u001b[0m\n\u001b[1;32m     79\u001b[0m \u001b[38;5;28;01mdef\u001b[39;00m \u001b[38;5;21mmake_Chol_prec_from_bcoo\u001b[39m(L):\n\u001b[0;32m---> 80\u001b[0m     \u001b[38;5;28;01mreturn\u001b[39;00m [\u001b[43mLinearOperator\u001b[49m\u001b[43m(\u001b[49m\u001b[43mshape\u001b[49m\u001b[38;5;241;43m=\u001b[39;49m\u001b[43mL_\u001b[49m\u001b[38;5;241;43m.\u001b[39;49m\u001b[43mshape\u001b[49m\u001b[43m,\u001b[49m\u001b[43m \u001b[49m\u001b[43mmatvec\u001b[49m\u001b[38;5;241;43m=\u001b[39;49m\u001b[43mpartial\u001b[49m\u001b[43m(\u001b[49m\u001b[43msolve_precChol\u001b[49m\u001b[43m,\u001b[49m\u001b[43m \u001b[49m\u001b[43mL\u001b[49m\u001b[38;5;241;43m=\u001b[39;49m\u001b[43mjBCOO_to_scipyCSR\u001b[49m\u001b[43m(\u001b[49m\u001b[43mL_\u001b[49m\u001b[43m)\u001b[49m\u001b[43m)\u001b[49m\u001b[43m)\u001b[49m \u001b[38;5;28;01mfor\u001b[39;00m L_ \u001b[38;5;129;01min\u001b[39;00m L]\n",
      "File \u001b[0;32m/usr/local/lib/python3.10/dist-packages/scipy/sparse/linalg/_interface.py:604\u001b[0m, in \u001b[0;36m_CustomLinearOperator.__init__\u001b[0;34m(self, shape, matvec, rmatvec, matmat, dtype, rmatmat)\u001b[0m\n\u001b[1;32m    601\u001b[0m \u001b[38;5;28mself\u001b[39m\u001b[38;5;241m.\u001b[39m__rmatmat_impl \u001b[38;5;241m=\u001b[39m rmatmat\n\u001b[1;32m    602\u001b[0m \u001b[38;5;28mself\u001b[39m\u001b[38;5;241m.\u001b[39m__matmat_impl \u001b[38;5;241m=\u001b[39m matmat\n\u001b[0;32m--> 604\u001b[0m \u001b[38;5;28;43mself\u001b[39;49m\u001b[38;5;241;43m.\u001b[39;49m\u001b[43m_init_dtype\u001b[49m\u001b[43m(\u001b[49m\u001b[43m)\u001b[49m\n",
      "File \u001b[0;32m/usr/local/lib/python3.10/dist-packages/scipy/sparse/linalg/_interface.py:199\u001b[0m, in \u001b[0;36mLinearOperator._init_dtype\u001b[0;34m(self)\u001b[0m\n\u001b[1;32m    197\u001b[0m v \u001b[38;5;241m=\u001b[39m np\u001b[38;5;241m.\u001b[39mzeros(\u001b[38;5;28mself\u001b[39m\u001b[38;5;241m.\u001b[39mshape[\u001b[38;5;241m-\u001b[39m\u001b[38;5;241m1\u001b[39m], dtype\u001b[38;5;241m=\u001b[39mnp\u001b[38;5;241m.\u001b[39mint8)\n\u001b[1;32m    198\u001b[0m \u001b[38;5;28;01mtry\u001b[39;00m:\n\u001b[0;32m--> 199\u001b[0m     matvec_v \u001b[38;5;241m=\u001b[39m np\u001b[38;5;241m.\u001b[39masarray(\u001b[38;5;28;43mself\u001b[39;49m\u001b[38;5;241;43m.\u001b[39;49m\u001b[43mmatvec\u001b[49m\u001b[43m(\u001b[49m\u001b[43mv\u001b[49m\u001b[43m)\u001b[49m)\n\u001b[1;32m    200\u001b[0m \u001b[38;5;28;01mexcept\u001b[39;00m \u001b[38;5;167;01mOverflowError\u001b[39;00m:\n\u001b[1;32m    201\u001b[0m     \u001b[38;5;66;03m# Python large `int` promoted to `np.int64`or `np.int32`\u001b[39;00m\n\u001b[1;32m    202\u001b[0m     \u001b[38;5;28mself\u001b[39m\u001b[38;5;241m.\u001b[39mdtype \u001b[38;5;241m=\u001b[39m np\u001b[38;5;241m.\u001b[39mdtype(\u001b[38;5;28mint\u001b[39m)\n",
      "File \u001b[0;32m/usr/local/lib/python3.10/dist-packages/scipy/sparse/linalg/_interface.py:258\u001b[0m, in \u001b[0;36mLinearOperator.matvec\u001b[0;34m(self, x)\u001b[0m\n\u001b[1;32m    255\u001b[0m \u001b[38;5;28;01mif\u001b[39;00m x\u001b[38;5;241m.\u001b[39mshape \u001b[38;5;241m!=\u001b[39m (N,) \u001b[38;5;129;01mand\u001b[39;00m x\u001b[38;5;241m.\u001b[39mshape \u001b[38;5;241m!=\u001b[39m (N,\u001b[38;5;241m1\u001b[39m):\n\u001b[1;32m    256\u001b[0m     \u001b[38;5;28;01mraise\u001b[39;00m \u001b[38;5;167;01mValueError\u001b[39;00m(\u001b[38;5;124m'\u001b[39m\u001b[38;5;124mdimension mismatch\u001b[39m\u001b[38;5;124m'\u001b[39m)\n\u001b[0;32m--> 258\u001b[0m y \u001b[38;5;241m=\u001b[39m \u001b[38;5;28;43mself\u001b[39;49m\u001b[38;5;241;43m.\u001b[39;49m\u001b[43m_matvec\u001b[49m\u001b[43m(\u001b[49m\u001b[43mx\u001b[49m\u001b[43m)\u001b[49m\n\u001b[1;32m    260\u001b[0m \u001b[38;5;28;01mif\u001b[39;00m \u001b[38;5;28misinstance\u001b[39m(x, np\u001b[38;5;241m.\u001b[39mmatrix):\n\u001b[1;32m    261\u001b[0m     y \u001b[38;5;241m=\u001b[39m asmatrix(y)\n",
      "File \u001b[0;32m/usr/local/lib/python3.10/dist-packages/scipy/sparse/linalg/_interface.py:613\u001b[0m, in \u001b[0;36m_CustomLinearOperator._matvec\u001b[0;34m(self, x)\u001b[0m\n\u001b[1;32m    612\u001b[0m \u001b[38;5;28;01mdef\u001b[39;00m \u001b[38;5;21m_matvec\u001b[39m(\u001b[38;5;28mself\u001b[39m, x):\n\u001b[0;32m--> 613\u001b[0m     \u001b[38;5;28;01mreturn\u001b[39;00m \u001b[38;5;28;43mself\u001b[39;49m\u001b[38;5;241;43m.\u001b[39;49m\u001b[43m__matvec_impl\u001b[49m\u001b[43m(\u001b[49m\u001b[43mx\u001b[49m\u001b[43m)\u001b[49m\n",
      "File \u001b[0;32m/mnt/local/data/vtrifonov/prec-learning-Notay-loss/scipy_linsolve.py:87\u001b[0m, in \u001b[0;36msolve_precChol\u001b[0;34m(x, L, *args)\u001b[0m\n\u001b[1;32m     85\u001b[0m \u001b[38;5;28;01mdef\u001b[39;00m \u001b[38;5;21msolve_precChol\u001b[39m(x, L, \u001b[38;5;241m*\u001b[39margs):\n\u001b[1;32m     86\u001b[0m     \u001b[38;5;66;03m# r = (LL')^{-1} x\u001b[39;00m\n\u001b[0;32m---> 87\u001b[0m     Linv_x \u001b[38;5;241m=\u001b[39m \u001b[43mspsolve_triangular\u001b[49m\u001b[43m(\u001b[49m\u001b[43mL\u001b[49m\u001b[43m,\u001b[49m\u001b[43m \u001b[49m\u001b[43mx\u001b[49m\u001b[43m,\u001b[49m\u001b[43m \u001b[49m\u001b[43mlower\u001b[49m\u001b[38;5;241;43m=\u001b[39;49m\u001b[38;5;28;43;01mTrue\u001b[39;49;00m\u001b[43m)\u001b[49m\n\u001b[1;32m     88\u001b[0m     res \u001b[38;5;241m=\u001b[39m spsolve_triangular(L\u001b[38;5;241m.\u001b[39mT, Linv_x, lower\u001b[38;5;241m=\u001b[39m\u001b[38;5;28;01mFalse\u001b[39;00m)\n\u001b[1;32m     89\u001b[0m     \u001b[38;5;28;01mreturn\u001b[39;00m res\n",
      "File \u001b[0;32m/usr/local/lib/python3.10/dist-packages/scipy/sparse/linalg/_dsolve/linsolve.py:685\u001b[0m, in \u001b[0;36mspsolve_triangular\u001b[0;34m(A, b, lower, overwrite_A, overwrite_b, unit_diagonal)\u001b[0m\n\u001b[1;32m    683\u001b[0m diag \u001b[38;5;241m=\u001b[39m A\u001b[38;5;241m.\u001b[39mdiagonal()\n\u001b[1;32m    684\u001b[0m \u001b[38;5;28;01mif\u001b[39;00m np\u001b[38;5;241m.\u001b[39many(diag \u001b[38;5;241m==\u001b[39m \u001b[38;5;241m0\u001b[39m):\n\u001b[0;32m--> 685\u001b[0m     \u001b[38;5;28;01mraise\u001b[39;00m LinAlgError(\n\u001b[1;32m    686\u001b[0m         \u001b[38;5;124m'\u001b[39m\u001b[38;5;124mA is singular: zero entry on diagonal.\u001b[39m\u001b[38;5;124m'\u001b[39m)\n\u001b[1;32m    687\u001b[0m invdiag \u001b[38;5;241m=\u001b[39m \u001b[38;5;241m1\u001b[39m\u001b[38;5;241m/\u001b[39mdiag\n\u001b[1;32m    688\u001b[0m \u001b[38;5;28;01mif\u001b[39;00m trans \u001b[38;5;241m==\u001b[39m \u001b[38;5;124m\"\u001b[39m\u001b[38;5;124mN\u001b[39m\u001b[38;5;124m\"\u001b[39m:\n",
      "\u001b[0;31mLinAlgError\u001b[0m: A is singular: zero entry on diagonal."
     ]
    }
   ],
   "source": [
    "make_model = partial(make_neural_prec_model, model_type='precorrector_gnn')\n",
    "model = make_model(key, model_config)\n",
    "model, model_config = load_hp_and_model(model_path, make_model)\n",
    "\n",
    "test_set = load_dataset(data_config, return_train=False)\n",
    "A_test, A_pad_test, b_test, bi_edges_test, x_test, class_time_mean_test, class_time_std_test = test_set\n",
    "\n",
    "time_gnn_mean, time_gnn_std = construction_time_with_gnn(model, A_test[0, ...], A_pad_test[0, ...], b_test[0, ...],\n",
    "                                                         bi_edges_test[0, ...], num_rounds=A_test.shape[0],\n",
    "                                                         pre_time_ic=class_time_mean_test)\n",
    "\n",
    "L = []\n",
    "for i in range(A_test.shape[0]):\n",
    "    L.append(vmap(model, in_axes=(0), out_axes=(0))(spmatrix_to_graph(A_pad_test[i:i+1, ...], b_test[i:i+1, ...])))\n",
    "P = make_Chol_prec_from_bcoo(jsparse.bcoo_concatenate(L, dimension=0))\n",
    "\n",
    "print(f'Precs are combined:')\n",
    "print(f' GNN prec construction time (sec) : mean = {time_gnn_mean:.3e}, std = {time_gnn_std:.3e}.\\n')\n",
    "\n",
    "# CG with PreCorrector's prec\n",
    "cg_func = single_lhs_cg(batched_cg_scipy, single_lhs=True if A_test.shape[0] == 1 else False)\n",
    "iters_stats, time_stats, nan_flag = cg_func(A=A_test, b=b_test, pre_time=time_gnn_mean, x0='random',\n",
    "                                            key=key, P=P, atol=cg_atol,\n",
    "                                            maxiter=cg_maxiter, thresholds=[1e-3, 1e-6, 1e-9, 1e-12])\n",
    "print('CG with GNN is finished:')\n",
    "print(f' iterations to atol([mean, std]): %s;', iters_stats)\n",
    "print(f' time to atol([mean, std]): %s;', time_stats)\n",
    "print(f' number of linsystems for which CG did not conerge to atol: %s.\\n', nan_flag)"
   ]
  },
  {
   "cell_type": "code",
   "execution_count": null,
   "id": "b3a2d726",
   "metadata": {},
   "outputs": [],
   "source": [
    "print('CG with GNN is finished:')\n",
    "print(f' iterations to atol([mean, std]): %s;', iters_stats)\n",
    "print(f' time to atol([mean, std]): %s;', time_stats)\n",
    "print(f' number of linsystems for which CG did not conerge to atol: %s.\\n', nan_flag)"
   ]
  },
  {
   "cell_type": "code",
   "execution_count": null,
   "id": "77cdf019",
   "metadata": {},
   "outputs": [],
   "source": []
  }
 ],
 "metadata": {
  "kernelspec": {
   "display_name": "Python 3 (ipykernel)",
   "language": "python",
   "name": "python3"
  },
  "language_info": {
   "codemirror_mode": {
    "name": "ipython",
    "version": 3
   },
   "file_extension": ".py",
   "mimetype": "text/x-python",
   "name": "python",
   "nbconvert_exporter": "python",
   "pygments_lexer": "ipython3",
   "version": "3.10.6"
  }
 },
 "nbformat": 4,
 "nbformat_minor": 5
}
