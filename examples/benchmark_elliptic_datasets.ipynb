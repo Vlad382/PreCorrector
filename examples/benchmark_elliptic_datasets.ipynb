{
 "cells": [
  {
   "cell_type": "code",
   "execution_count": 1,
   "id": "af161400",
   "metadata": {},
   "outputs": [],
   "source": [
    "import sys\n",
    "import os\n",
    "os.environ[\"CUDA_VISIBLE_DEVICES\"] = '0'\n",
    "os.environ['XLA_PYTHON_CLIENT_MEM_FRACTION'] = '.95'\n",
    "sys.path.append('/mnt/local/data/vtrifonov/prec-learning-Notay-loss/')"
   ]
  },
  {
   "cell_type": "code",
   "execution_count": 2,
   "id": "625e0b23",
   "metadata": {},
   "outputs": [],
   "source": [
    "from copy import deepcopy\n",
    "\n",
    "import numpy as np\n",
    "from sklearn.model_selection import ParameterGrid\n",
    "\n",
    "from utils import grid_script\n",
    "from config import default_precorrector_mlp_config\n",
    "from experiments.script_classical_prec import script_classical_prec"
   ]
  },
  {
   "cell_type": "code",
   "execution_count": 3,
   "id": "b8ea8dea",
   "metadata": {},
   "outputs": [],
   "source": [
    "seed = 42\n",
    "path = '/mnt/local/data/vtrifonov/prec-learning-Notay-loss/'\n",
    "folder = 'results_cases/30.01_benchmark_elliptic32_256_datasets'"
   ]
  },
  {
   "cell_type": "code",
   "execution_count": 4,
   "id": "0ec592f6",
   "metadata": {},
   "outputs": [],
   "source": [
    "data_config = {\n",
    "    'data_dir': path,\n",
    "    'pde': np.nan,\n",
    "    'grid': np.nan,\n",
    "    'variance': np.nan,\n",
    "    'lhs_type': np.nan,\n",
    "    'N_samples_train': 1000, # Not used\n",
    "    'N_samples_test': 200,\n",
    "    'fill_factor': 1,\n",
    "    'threshold': 1e-4\n",
    "}\n",
    "\n",
    "# Not used\n",
    "train_config = {\n",
    "    'model_type': np.nan,\n",
    "    'loss_type': np.nan,\n",
    "    'batch_size': np.nan,\n",
    "    'optimizer': np.nan,\n",
    "    'lr': np.nan,\n",
    "    'optim_params': np.nan,\n",
    "    'epoch_num': np.nan\n",
    "}\n",
    "\n",
    "base_config = {\n",
    "    'path': path,\n",
    "    'folder_model': folder,\n",
    "    'folder_log': folder,\n",
    "    'name': np.nan,\n",
    "    'model_use': np.nan,\n",
    "    'save_model': True,\n",
    "    'cg_maxiter': np.nan,\n",
    "    'cg_atol': np.nan,\n",
    "    'data_config': data_config,\n",
    "    'model_config': default_precorrector_mlp_config, # Not used\n",
    "    'train_config': train_config, # Not used\n",
    "    'seed': seed\n",
    "}"
   ]
  },
  {
   "cell_type": "markdown",
   "id": "a8212daf",
   "metadata": {},
   "source": [
    "# Div-k-grad"
   ]
  },
  {
   "cell_type": "code",
   "execution_count": 5,
   "id": "4caa0f9d",
   "metadata": {
    "collapsed": true,
    "jupyter": {
     "outputs_hidden": true
    }
   },
   "outputs": [
    {
     "name": "stdout",
     "output_type": "stream",
     "text": [
      "Started: 0\n"
     ]
    },
    {
     "name": "stderr",
     "output_type": "stream",
     "text": [
      "2025-01-30 19:33:30.519550: W external/xla/xla/service/gpu/nvptx_compiler.cc:760] The NVIDIA driver's CUDA version is 12.4 which is older than the ptxas CUDA version (12.5.40). Because the driver is older than the ptxas version, XLA is disabling parallel compilation, which may slow down compilation. You should update your NVIDIA driver or use the NVIDIA-provided CUDA forward compatibility packages.\n",
      "[INFO | root | 2025-01-30 19:33:31] - %%%%%%%%%%%%%%%%%%%%%%%%%%%%%%%%%%%%%%%%%%%%%%%%%%%%%%%%%%%%%%%%%\n",
      "[INFO | root | 2025-01-30 19:33:31] - [Classical precs] script `5sr5q8` started execution.\n",
      "[INFO | root | 2025-01-30 19:33:31] - Config: {'path': '/mnt/local/data/vtrifonov/prec-learning-Notay-loss/', 'folder_model': 'results_cases/30.01_benchmark_elliptic32_256_datasets', 'folder_log': 'results_cases/30.01_benchmark_elliptic32_256_datasets', 'name': '5sr5q8', 'model_use': nan, 'save_model': True, 'cg_maxiter': 2000, 'cg_atol': 1e-12, 'data_config': {'data_dir': '/mnt/local/data/vtrifonov/prec-learning-Notay-loss/', 'pde': 'div_k_grad', 'grid': 32, 'variance': 0.1, 'lhs_type': 'l_ic0', 'N_samples_train': 1000, 'N_samples_test': 200, 'fill_factor': 1, 'threshold': 0.0001}, 'model_config': {'layer_type': 'Conv1d', 'static_diag': False, 'alpha': 0.0, 'mlp': {'features': [1, 16, 1], 'N_layers': 2}}, 'train_config': {'model_type': nan, 'loss_type': nan, 'batch_size': nan, 'optimizer': nan, 'lr': nan, 'optim_params': nan, 'epoch_num': nan}, 'seed': 42}.\n",
      "\n",
      "[INFO | root | 2025-01-30 19:33:35] - Data is loaded in 4.521e+00 sec.\n",
      "\n",
      "[INFO | root | 2025-01-30 19:33:39] - Precs are combined:\n",
      "[INFO | root | 2025-01-30 19:33:39] -  classical prec construction time (sec) : mean = 7.295e-05, std = 2.727e-06;\n",
      "[INFO | root | 2025-01-30 19:33:58] - CG with classical prec is finished:\n",
      "[INFO | root | 2025-01-30 19:33:58] -  iterations to atol([mean, std]): {0.001: [33.3, 0.67], 1e-06: [43.2, 0.76], 1e-09: [51.5, 0.57], 1e-12: [58.9, 0.58]};\n",
      "[INFO | root | 2025-01-30 19:33:58] -  time to atol([mean, std]): {0.001: [0.0464, 0.00361], 1e-06: [0.0598, 0.00459], 1e-09: [0.0711, 0.00545], 1e-12: [0.0812, 0.00616]};\n",
      "[INFO | root | 2025-01-30 19:33:58] -  number of linsystems for which CG did not conerge to atol: {0.001: 0, 1e-06: 0, 1e-09: 0, 1e-12: 0}.\n",
      "\n",
      "[INFO | root | 2025-01-30 19:33:58] - [Classical precs] script `5sr5q8` finished execution.\n",
      "\n",
      "\n",
      "\n",
      "[INFO | root | 2025-01-30 19:33:58] - %%%%%%%%%%%%%%%%%%%%%%%%%%%%%%%%%%%%%%%%%%%%%%%%%%%%%%%%%%%%%%%%%\n",
      "[INFO | root | 2025-01-30 19:33:58] - [Classical precs] script `tjufpv` started execution.\n",
      "[INFO | root | 2025-01-30 19:33:58] - Config: {'path': '/mnt/local/data/vtrifonov/prec-learning-Notay-loss/', 'folder_model': 'results_cases/30.01_benchmark_elliptic32_256_datasets', 'folder_log': 'results_cases/30.01_benchmark_elliptic32_256_datasets', 'name': 'tjufpv', 'model_use': nan, 'save_model': True, 'cg_maxiter': 2000, 'cg_atol': 1e-12, 'data_config': {'data_dir': '/mnt/local/data/vtrifonov/prec-learning-Notay-loss/', 'pde': 'div_k_grad', 'grid': 32, 'variance': 0.5, 'lhs_type': 'l_ic0', 'N_samples_train': 1000, 'N_samples_test': 200, 'fill_factor': 1, 'threshold': 0.0001}, 'model_config': {'layer_type': 'Conv1d', 'static_diag': False, 'alpha': 0.0, 'mlp': {'features': [1, 16, 1], 'N_layers': 2}}, 'train_config': {'model_type': nan, 'loss_type': nan, 'batch_size': nan, 'optimizer': nan, 'lr': nan, 'optim_params': nan, 'epoch_num': nan}, 'seed': 42}.\n",
      "\n"
     ]
    },
    {
     "name": "stdout",
     "output_type": "stream",
     "text": [
      "Started: 1\n"
     ]
    },
    {
     "name": "stderr",
     "output_type": "stream",
     "text": [
      "[INFO | root | 2025-01-30 19:34:00] - Data is loaded in 2.431e+00 sec.\n",
      "\n",
      "[INFO | root | 2025-01-30 19:34:02] - Precs are combined:\n",
      "[INFO | root | 2025-01-30 19:34:02] -  classical prec construction time (sec) : mean = 7.496e-05, std = 5.490e-06;\n",
      "[INFO | root | 2025-01-30 19:34:22] - CG with classical prec is finished:\n",
      "[INFO | root | 2025-01-30 19:34:22] -  iterations to atol([mean, std]): {0.001: [37.4, 1.15], 1e-06: [47.8, 1.12], 1e-09: [56.6, 1.16], 1e-12: [64.1, 1.18]};\n",
      "[INFO | root | 2025-01-30 19:34:22] -  time to atol([mean, std]): {0.001: [0.0515, 0.00407], 1e-06: [0.0656, 0.00506], 1e-09: [0.0775, 0.00588], 1e-12: [0.0878, 0.00677]};\n",
      "[INFO | root | 2025-01-30 19:34:22] -  number of linsystems for which CG did not conerge to atol: {0.001: 0, 1e-06: 0, 1e-09: 0, 1e-12: 0}.\n",
      "\n",
      "[INFO | root | 2025-01-30 19:34:22] - [Classical precs] script `tjufpv` finished execution.\n",
      "\n",
      "\n",
      "\n",
      "[INFO | root | 2025-01-30 19:34:22] - %%%%%%%%%%%%%%%%%%%%%%%%%%%%%%%%%%%%%%%%%%%%%%%%%%%%%%%%%%%%%%%%%\n",
      "[INFO | root | 2025-01-30 19:34:22] - [Classical precs] script `d25tz8` started execution.\n",
      "[INFO | root | 2025-01-30 19:34:22] - Config: {'path': '/mnt/local/data/vtrifonov/prec-learning-Notay-loss/', 'folder_model': 'results_cases/30.01_benchmark_elliptic32_256_datasets', 'folder_log': 'results_cases/30.01_benchmark_elliptic32_256_datasets', 'name': 'd25tz8', 'model_use': nan, 'save_model': True, 'cg_maxiter': 2000, 'cg_atol': 1e-12, 'data_config': {'data_dir': '/mnt/local/data/vtrifonov/prec-learning-Notay-loss/', 'pde': 'div_k_grad', 'grid': 32, 'variance': 0.7, 'lhs_type': 'l_ic0', 'N_samples_train': 1000, 'N_samples_test': 200, 'fill_factor': 1, 'threshold': 0.0001}, 'model_config': {'layer_type': 'Conv1d', 'static_diag': False, 'alpha': 0.0, 'mlp': {'features': [1, 16, 1], 'N_layers': 2}}, 'train_config': {'model_type': nan, 'loss_type': nan, 'batch_size': nan, 'optimizer': nan, 'lr': nan, 'optim_params': nan, 'epoch_num': nan}, 'seed': 42}.\n",
      "\n"
     ]
    },
    {
     "name": "stdout",
     "output_type": "stream",
     "text": [
      "Started: 2\n"
     ]
    },
    {
     "name": "stderr",
     "output_type": "stream",
     "text": [
      "[INFO | root | 2025-01-30 19:34:24] - Data is loaded in 2.401e+00 sec.\n",
      "\n",
      "[INFO | root | 2025-01-30 19:34:26] - Precs are combined:\n",
      "[INFO | root | 2025-01-30 19:34:26] -  classical prec construction time (sec) : mean = 7.314e-05, std = 1.975e-06;\n",
      "[INFO | root | 2025-01-30 19:34:46] - CG with classical prec is finished:\n",
      "[INFO | root | 2025-01-30 19:34:46] -  iterations to atol([mean, std]): {0.001: [39.8, 1.38], 1e-06: [50.5, 1.55], 1e-09: [59.3, 1.47], 1e-12: [67.1, 1.46]};\n",
      "[INFO | root | 2025-01-30 19:34:46] -  time to atol([mean, std]): {0.001: [0.0538, 0.00271], 1e-06: [0.0679, 0.00305], 1e-09: [0.0797, 0.00319], 1e-12: [0.09, 0.00344]};\n",
      "[INFO | root | 2025-01-30 19:34:46] -  number of linsystems for which CG did not conerge to atol: {0.001: 0, 1e-06: 0, 1e-09: 0, 1e-12: 0}.\n",
      "\n",
      "[INFO | root | 2025-01-30 19:34:46] - [Classical precs] script `d25tz8` finished execution.\n",
      "\n",
      "\n",
      "\n",
      "[INFO | root | 2025-01-30 19:34:46] - %%%%%%%%%%%%%%%%%%%%%%%%%%%%%%%%%%%%%%%%%%%%%%%%%%%%%%%%%%%%%%%%%\n",
      "[INFO | root | 2025-01-30 19:34:46] - [Classical precs] script `y17c2n` started execution.\n",
      "[INFO | root | 2025-01-30 19:34:46] - Config: {'path': '/mnt/local/data/vtrifonov/prec-learning-Notay-loss/', 'folder_model': 'results_cases/30.01_benchmark_elliptic32_256_datasets', 'folder_log': 'results_cases/30.01_benchmark_elliptic32_256_datasets', 'name': 'y17c2n', 'model_use': nan, 'save_model': True, 'cg_maxiter': 2000, 'cg_atol': 1e-12, 'data_config': {'data_dir': '/mnt/local/data/vtrifonov/prec-learning-Notay-loss/', 'pde': 'div_k_grad', 'grid': 32, 'variance': 0.1, 'lhs_type': 'l_ict', 'N_samples_train': 1000, 'N_samples_test': 200, 'fill_factor': 1, 'threshold': 0.0001}, 'model_config': {'layer_type': 'Conv1d', 'static_diag': False, 'alpha': 0.0, 'mlp': {'features': [1, 16, 1], 'N_layers': 2}}, 'train_config': {'model_type': nan, 'loss_type': nan, 'batch_size': nan, 'optimizer': nan, 'lr': nan, 'optim_params': nan, 'epoch_num': nan}, 'seed': 42}.\n",
      "\n"
     ]
    },
    {
     "name": "stdout",
     "output_type": "stream",
     "text": [
      "Started: 3\n"
     ]
    },
    {
     "name": "stderr",
     "output_type": "stream",
     "text": [
      "[INFO | root | 2025-01-30 19:34:51] - Data is loaded in 5.302e+00 sec.\n",
      "\n",
      "[INFO | root | 2025-01-30 19:34:56] - Precs are combined:\n",
      "[INFO | root | 2025-01-30 19:34:56] -  classical prec construction time (sec) : mean = 3.097e-04, std = 3.181e-05;\n",
      "[INFO | root | 2025-01-30 19:35:10] - CG with classical prec is finished:\n",
      "[INFO | root | 2025-01-30 19:35:10] -  iterations to atol([mean, std]): {0.001: [20.8, 0.47], 1e-06: [26.9, 0.41], 1e-09: [32.4, 0.49], 1e-12: [37.1, 0.27]};\n",
      "[INFO | root | 2025-01-30 19:35:10] -  time to atol([mean, std]): {0.001: [0.0325, 0.00301], 1e-06: [0.0417, 0.00382], 1e-09: [0.0498, 0.00458], 1e-12: [0.0568, 0.00506]};\n",
      "[INFO | root | 2025-01-30 19:35:10] -  number of linsystems for which CG did not conerge to atol: {0.001: 0, 1e-06: 0, 1e-09: 0, 1e-12: 0}.\n",
      "\n",
      "[INFO | root | 2025-01-30 19:35:10] - [Classical precs] script `y17c2n` finished execution.\n",
      "\n",
      "\n",
      "\n",
      "[INFO | root | 2025-01-30 19:35:10] - %%%%%%%%%%%%%%%%%%%%%%%%%%%%%%%%%%%%%%%%%%%%%%%%%%%%%%%%%%%%%%%%%\n",
      "[INFO | root | 2025-01-30 19:35:10] - [Classical precs] script `ejvbop` started execution.\n",
      "[INFO | root | 2025-01-30 19:35:10] - Config: {'path': '/mnt/local/data/vtrifonov/prec-learning-Notay-loss/', 'folder_model': 'results_cases/30.01_benchmark_elliptic32_256_datasets', 'folder_log': 'results_cases/30.01_benchmark_elliptic32_256_datasets', 'name': 'ejvbop', 'model_use': nan, 'save_model': True, 'cg_maxiter': 2000, 'cg_atol': 1e-12, 'data_config': {'data_dir': '/mnt/local/data/vtrifonov/prec-learning-Notay-loss/', 'pde': 'div_k_grad', 'grid': 32, 'variance': 0.5, 'lhs_type': 'l_ict', 'N_samples_train': 1000, 'N_samples_test': 200, 'fill_factor': 1, 'threshold': 0.0001}, 'model_config': {'layer_type': 'Conv1d', 'static_diag': False, 'alpha': 0.0, 'mlp': {'features': [1, 16, 1], 'N_layers': 2}}, 'train_config': {'model_type': nan, 'loss_type': nan, 'batch_size': nan, 'optimizer': nan, 'lr': nan, 'optim_params': nan, 'epoch_num': nan}, 'seed': 42}.\n",
      "\n"
     ]
    },
    {
     "name": "stdout",
     "output_type": "stream",
     "text": [
      "Started: 4\n"
     ]
    },
    {
     "name": "stderr",
     "output_type": "stream",
     "text": [
      "[INFO | root | 2025-01-30 19:35:18] - Data is loaded in 8.294e+00 sec.\n",
      "\n",
      "[INFO | root | 2025-01-30 19:35:23] - Precs are combined:\n",
      "[INFO | root | 2025-01-30 19:35:23] -  classical prec construction time (sec) : mean = 3.301e-04, std = 2.645e-05;\n",
      "[INFO | root | 2025-01-30 19:35:37] - CG with classical prec is finished:\n",
      "[INFO | root | 2025-01-30 19:35:37] -  iterations to atol([mean, std]): {0.001: [22.5, 0.71], 1e-06: [28.9, 0.76], 1e-09: [34.5, 0.77], 1e-12: [39.4, 0.78]};\n",
      "[INFO | root | 2025-01-30 19:35:37] -  time to atol([mean, std]): {0.001: [0.0354, 0.00347], 1e-06: [0.0451, 0.00435], 1e-09: [0.0535, 0.0052], 1e-12: [0.061, 0.00591]};\n",
      "[INFO | root | 2025-01-30 19:35:37] -  number of linsystems for which CG did not conerge to atol: {0.001: 0, 1e-06: 0, 1e-09: 0, 1e-12: 0}.\n",
      "\n",
      "[INFO | root | 2025-01-30 19:35:37] - [Classical precs] script `ejvbop` finished execution.\n",
      "\n",
      "\n",
      "\n",
      "[INFO | root | 2025-01-30 19:35:37] - %%%%%%%%%%%%%%%%%%%%%%%%%%%%%%%%%%%%%%%%%%%%%%%%%%%%%%%%%%%%%%%%%\n",
      "[INFO | root | 2025-01-30 19:35:37] - [Classical precs] script `2h8snz` started execution.\n",
      "[INFO | root | 2025-01-30 19:35:37] - Config: {'path': '/mnt/local/data/vtrifonov/prec-learning-Notay-loss/', 'folder_model': 'results_cases/30.01_benchmark_elliptic32_256_datasets', 'folder_log': 'results_cases/30.01_benchmark_elliptic32_256_datasets', 'name': '2h8snz', 'model_use': nan, 'save_model': True, 'cg_maxiter': 2000, 'cg_atol': 1e-12, 'data_config': {'data_dir': '/mnt/local/data/vtrifonov/prec-learning-Notay-loss/', 'pde': 'div_k_grad', 'grid': 32, 'variance': 0.7, 'lhs_type': 'l_ict', 'N_samples_train': 1000, 'N_samples_test': 200, 'fill_factor': 1, 'threshold': 0.0001}, 'model_config': {'layer_type': 'Conv1d', 'static_diag': False, 'alpha': 0.0, 'mlp': {'features': [1, 16, 1], 'N_layers': 2}}, 'train_config': {'model_type': nan, 'loss_type': nan, 'batch_size': nan, 'optimizer': nan, 'lr': nan, 'optim_params': nan, 'epoch_num': nan}, 'seed': 42}.\n",
      "\n"
     ]
    },
    {
     "name": "stdout",
     "output_type": "stream",
     "text": [
      "Started: 5\n"
     ]
    },
    {
     "name": "stderr",
     "output_type": "stream",
     "text": [
      "[INFO | root | 2025-01-30 19:35:43] - Data is loaded in 5.794e+00 sec.\n",
      "\n",
      "[INFO | root | 2025-01-30 19:35:45] - Precs are combined:\n",
      "[INFO | root | 2025-01-30 19:35:45] -  classical prec construction time (sec) : mean = 2.637e-04, std = 2.174e-05;\n",
      "[INFO | root | 2025-01-30 19:35:59] - CG with classical prec is finished:\n",
      "[INFO | root | 2025-01-30 19:35:59] -  iterations to atol([mean, std]): {0.001: [23.9, 0.82], 1e-06: [30.4, 0.87], 1e-09: [35.9, 0.94], 1e-12: [40.9, 0.91]};\n",
      "[INFO | root | 2025-01-30 19:35:59] -  time to atol([mean, std]): {0.001: [0.0339, 0.00147], 1e-06: [0.0428, 0.00163], 1e-09: [0.0504, 0.0018], 1e-12: [0.0572, 0.00186]};\n",
      "[INFO | root | 2025-01-30 19:35:59] -  number of linsystems for which CG did not conerge to atol: {0.001: 0, 1e-06: 0, 1e-09: 0, 1e-12: 0}.\n",
      "\n",
      "[INFO | root | 2025-01-30 19:35:59] - [Classical precs] script `2h8snz` finished execution.\n",
      "\n",
      "\n",
      "\n"
     ]
    }
   ],
   "source": [
    "params_grid = ParameterGrid({\n",
    "    'model_use': [np.nan],\n",
    "    'cg_maxiter': [2000],\n",
    "    'cg_atol': [1e-12],\n",
    "    'model_type': [np.nan],\n",
    "    'loss_type': [np.nan],\n",
    "    'batch_size': [np.nan],\n",
    "    'lr': [np.nan],\n",
    "    'epoch_num': [np.nan],\n",
    "    'pde': ['div_k_grad'],\n",
    "    'grid': [32],\n",
    "    'variance': [.1, .5, .7],\n",
    "    'lhs_type': ['l_ic0', 'l_ict'],\n",
    "    'fill_factor': [1],\n",
    "    'threshold': [1e-4]\n",
    "})\n",
    "\n",
    "grid_script(script_classical_prec, base_config, params_grid)"
   ]
  },
  {
   "cell_type": "code",
   "execution_count": 7,
   "id": "2777c052",
   "metadata": {},
   "outputs": [
    {
     "name": "stderr",
     "output_type": "stream",
     "text": [
      "[INFO | root | 2025-01-30 22:18:44] - %%%%%%%%%%%%%%%%%%%%%%%%%%%%%%%%%%%%%%%%%%%%%%%%%%%%%%%%%%%%%%%%%\n",
      "[INFO | root | 2025-01-30 22:18:44] - [Classical precs] script `rrprtu` started execution.\n",
      "[INFO | root | 2025-01-30 22:18:44] - Config: {'path': '/mnt/local/data/vtrifonov/prec-learning-Notay-loss/', 'folder_model': 'results_cases/30.01_benchmark_elliptic32_256_datasets', 'folder_log': 'results_cases/30.01_benchmark_elliptic32_256_datasets', 'name': 'rrprtu', 'model_use': nan, 'save_model': True, 'cg_maxiter': 2000, 'cg_atol': 1e-12, 'data_config': {'data_dir': '/mnt/local/data/vtrifonov/prec-learning-Notay-loss/', 'pde': 'div_k_grad', 'grid': 256, 'variance': 0.5, 'lhs_type': 'l_ict', 'N_samples_train': 1000, 'N_samples_test': 200, 'fill_factor': 1, 'threshold': 0.0001}, 'model_config': {'layer_type': 'Conv1d', 'static_diag': False, 'alpha': 0.0, 'mlp': {'features': [1, 16, 1], 'N_layers': 2}}, 'train_config': {'model_type': nan, 'loss_type': nan, 'batch_size': nan, 'optimizer': nan, 'lr': nan, 'optim_params': nan, 'epoch_num': nan}, 'seed': 42}.\n",
      "\n"
     ]
    },
    {
     "name": "stdout",
     "output_type": "stream",
     "text": [
      "Started: 0\n"
     ]
    },
    {
     "name": "stderr",
     "output_type": "stream",
     "text": [
      "[INFO | root | 2025-01-30 22:18:54] - Data is loaded in 1.053e+01 sec.\n",
      "\n",
      "[INFO | root | 2025-01-30 22:19:03] - Precs are combined:\n",
      "[INFO | root | 2025-01-30 22:19:03] -  classical prec construction time (sec) : mean = 1.313e-02, std = 7.335e-04;\n",
      "[INFO | root | 2025-01-30 22:52:51] - CG with classical prec is finished:\n",
      "[INFO | root | 2025-01-30 22:52:51] -  iterations to atol([mean, std]): {0.001: [183.0, 5.28], 1e-06: [228.2, 5.35], 1e-09: [265.9, 5.3], 1e-12: [299.2, 5.02]};\n",
      "[INFO | root | 2025-01-30 22:52:51] -  time to atol([mean, std]): {0.001: [6.2162, 0.4824], 1e-06: [7.7468, 0.58991], 1e-09: [9.0061, 0.64612], 1e-12: [10.1277, 0.67888]};\n",
      "[INFO | root | 2025-01-30 22:52:51] -  number of linsystems for which CG did not conerge to atol: {0.001: 0, 1e-06: 0, 1e-09: 0, 1e-12: 0}.\n",
      "\n",
      "[INFO | root | 2025-01-30 22:52:51] - [Classical precs] script `rrprtu` finished execution.\n",
      "\n",
      "\n",
      "\n",
      "[INFO | root | 2025-01-30 22:52:51] - %%%%%%%%%%%%%%%%%%%%%%%%%%%%%%%%%%%%%%%%%%%%%%%%%%%%%%%%%%%%%%%%%\n",
      "[INFO | root | 2025-01-30 22:52:51] - [Classical precs] script `epzi15` started execution.\n",
      "[INFO | root | 2025-01-30 22:52:51] - Config: {'path': '/mnt/local/data/vtrifonov/prec-learning-Notay-loss/', 'folder_model': 'results_cases/30.01_benchmark_elliptic32_256_datasets', 'folder_log': 'results_cases/30.01_benchmark_elliptic32_256_datasets', 'name': 'epzi15', 'model_use': nan, 'save_model': True, 'cg_maxiter': 2000, 'cg_atol': 1e-12, 'data_config': {'data_dir': '/mnt/local/data/vtrifonov/prec-learning-Notay-loss/', 'pde': 'div_k_grad', 'grid': 256, 'variance': 0.7, 'lhs_type': 'l_ict', 'N_samples_train': 1000, 'N_samples_test': 200, 'fill_factor': 1, 'threshold': 0.0001}, 'model_config': {'layer_type': 'Conv1d', 'static_diag': False, 'alpha': 0.0, 'mlp': {'features': [1, 16, 1], 'N_layers': 2}}, 'train_config': {'model_type': nan, 'loss_type': nan, 'batch_size': nan, 'optimizer': nan, 'lr': nan, 'optim_params': nan, 'epoch_num': nan}, 'seed': 42}.\n",
      "\n"
     ]
    },
    {
     "name": "stdout",
     "output_type": "stream",
     "text": [
      "Started: 1\n"
     ]
    },
    {
     "name": "stderr",
     "output_type": "stream",
     "text": [
      "[INFO | root | 2025-01-30 22:52:59] - Data is loaded in 8.313e+00 sec.\n",
      "\n",
      "[INFO | root | 2025-01-30 22:53:06] - Precs are combined:\n",
      "[INFO | root | 2025-01-30 22:53:06] -  classical prec construction time (sec) : mean = 1.257e-02, std = 3.122e-04;\n",
      "[INFO | root | 2025-01-30 23:28:51] - CG with classical prec is finished:\n",
      "[INFO | root | 2025-01-30 23:28:51] -  iterations to atol([mean, std]): {0.001: [192.8, 6.75], 1e-06: [239.7, 6.47], 1e-09: [278.4, 6.49], 1e-12: [311.7, 6.56]};\n",
      "[INFO | root | 2025-01-30 23:28:51] -  time to atol([mean, std]): {0.001: [6.6085, 0.53644], 1e-06: [8.2268, 0.6419], 1e-09: [9.5582, 0.71231], 1e-12: [10.7092, 0.79622]};\n",
      "[INFO | root | 2025-01-30 23:28:51] -  number of linsystems for which CG did not conerge to atol: {0.001: 0, 1e-06: 0, 1e-09: 0, 1e-12: 0}.\n",
      "\n",
      "[INFO | root | 2025-01-30 23:28:51] - [Classical precs] script `epzi15` finished execution.\n",
      "\n",
      "\n",
      "\n",
      "[INFO | root | 2025-01-30 23:28:51] - %%%%%%%%%%%%%%%%%%%%%%%%%%%%%%%%%%%%%%%%%%%%%%%%%%%%%%%%%%%%%%%%%\n",
      "[INFO | root | 2025-01-30 23:28:51] - [Classical precs] script `pj508e` started execution.\n",
      "[INFO | root | 2025-01-30 23:28:51] - Config: {'path': '/mnt/local/data/vtrifonov/prec-learning-Notay-loss/', 'folder_model': 'results_cases/30.01_benchmark_elliptic32_256_datasets', 'folder_log': 'results_cases/30.01_benchmark_elliptic32_256_datasets', 'name': 'pj508e', 'model_use': nan, 'save_model': True, 'cg_maxiter': 2000, 'cg_atol': 1e-12, 'data_config': {'data_dir': '/mnt/local/data/vtrifonov/prec-learning-Notay-loss/', 'pde': 'div_k_grad', 'grid': 256, 'variance': 1.1, 'lhs_type': 'l_ict', 'N_samples_train': 1000, 'N_samples_test': 200, 'fill_factor': 1, 'threshold': 0.0001}, 'model_config': {'layer_type': 'Conv1d', 'static_diag': False, 'alpha': 0.0, 'mlp': {'features': [1, 16, 1], 'N_layers': 2}}, 'train_config': {'model_type': nan, 'loss_type': nan, 'batch_size': nan, 'optimizer': nan, 'lr': nan, 'optim_params': nan, 'epoch_num': nan}, 'seed': 42}.\n",
      "\n"
     ]
    },
    {
     "name": "stdout",
     "output_type": "stream",
     "text": [
      "Started: 2\n"
     ]
    },
    {
     "name": "stderr",
     "output_type": "stream",
     "text": [
      "[INFO | root | 2025-01-30 23:28:59] - Data is loaded in 8.298e+00 sec.\n",
      "\n",
      "[INFO | root | 2025-01-30 23:29:06] - Precs are combined:\n",
      "[INFO | root | 2025-01-30 23:29:06] -  classical prec construction time (sec) : mean = 1.260e-02, std = 3.226e-04;\n",
      "[INFO | root | 2025-01-31 00:07:33] - CG with classical prec is finished:\n",
      "[INFO | root | 2025-01-31 00:07:33] -  iterations to atol([mean, std]): {0.001: [209.3, 8.42], 1e-06: [258.7, 8.99], 1e-09: [298.4, 9.08], 1e-12: [331.5, 8.78]};\n",
      "[INFO | root | 2025-01-31 00:07:33] -  time to atol([mean, std]): {0.001: [7.2776, 0.50896], 1e-06: [8.9956, 0.55408], 1e-09: [10.3673, 0.57229], 1e-12: [11.5215, 0.5903]};\n",
      "[INFO | root | 2025-01-31 00:07:33] -  number of linsystems for which CG did not conerge to atol: {0.001: 0, 1e-06: 0, 1e-09: 0, 1e-12: 0}.\n",
      "\n",
      "[INFO | root | 2025-01-31 00:07:33] - [Classical precs] script `pj508e` finished execution.\n",
      "\n",
      "\n",
      "\n"
     ]
    }
   ],
   "source": [
    "params_grid = ParameterGrid({\n",
    "    'model_use': [np.nan],\n",
    "    'cg_maxiter': [2000],\n",
    "    'cg_atol': [1e-12],\n",
    "    'model_type': [np.nan],\n",
    "    'loss_type': [np.nan],\n",
    "    'batch_size': [np.nan],\n",
    "    'lr': [np.nan],\n",
    "    'epoch_num': [np.nan],\n",
    "    'pde': ['div_k_grad'],\n",
    "    'grid': [256],\n",
    "    'variance': [.5, .7, 1.1],\n",
    "    'lhs_type': ['l_ict'],\n",
    "    'fill_factor': [1],\n",
    "    'threshold': [1e-4]\n",
    "})\n",
    "\n",
    "grid_script(script_classical_prec, base_config, params_grid)"
   ]
  },
  {
   "cell_type": "code",
   "execution_count": null,
   "id": "d2852f2a",
   "metadata": {},
   "outputs": [],
   "source": []
  },
  {
   "cell_type": "markdown",
   "id": "1c24d17a",
   "metadata": {},
   "source": [
    "# Poisson"
   ]
  },
  {
   "cell_type": "code",
   "execution_count": null,
   "id": "3e7a3a52",
   "metadata": {},
   "outputs": [],
   "source": [
    "params_grid = ParameterGrid({\n",
    "    'model_use': [np.nan],\n",
    "    'cg_maxiter': [2000],\n",
    "    'cg_atol': [1e-12],\n",
    "    'model_type': [np.nan],\n",
    "    'loss_type': [np.nan],\n",
    "    'batch_size': [np.nan],\n",
    "    'lr': [np.nan],\n",
    "    'epoch_num': [np.nan],\n",
    "    'pde': ['poisson'],\n",
    "    'grid': [64, 128, 256],\n",
    "    'variance': [.5],\n",
    "    'lhs_type': ['l_ic0', 'l_ict'],\n",
    "    'fill_factor': [1],\n",
    "    'threshold': [1e-4]\n",
    "})\n",
    "\n",
    "grid_script(script_classical_prec, base_config, params_grid)"
   ]
  },
  {
   "cell_type": "code",
   "execution_count": null,
   "id": "d169fd5e",
   "metadata": {},
   "outputs": [],
   "source": [
    "# exit()"
   ]
  }
 ],
 "metadata": {
  "kernelspec": {
   "display_name": "Python 3 (ipykernel)",
   "language": "python",
   "name": "python3"
  },
  "language_info": {
   "codemirror_mode": {
    "name": "ipython",
    "version": 3
   },
   "file_extension": ".py",
   "mimetype": "text/x-python",
   "name": "python",
   "nbconvert_exporter": "python",
   "pygments_lexer": "ipython3",
   "version": "3.10.6"
  }
 },
 "nbformat": 4,
 "nbformat_minor": 5
}
