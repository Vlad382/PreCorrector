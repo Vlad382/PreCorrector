{
 "cells": [
  {
   "cell_type": "code",
   "execution_count": 1,
   "id": "996e76c0",
   "metadata": {},
   "outputs": [],
   "source": [
    "import sys\n",
    "import os\n",
    "os.environ[\"CUDA_VISIBLE_DEVICES\"] = '2'\n",
    "os.environ['XLA_PYTHON_CLIENT_MEM_FRACTION'] = '.95'\n",
    "sys.path.append('/mnt/local/data/vtrifonov/prec-learning-Notay-loss/')"
   ]
  },
  {
   "cell_type": "code",
   "execution_count": 9,
   "id": "77669759",
   "metadata": {},
   "outputs": [
    {
     "data": {
      "text/plain": [
       "Array([1.], dtype=float32)"
      ]
     },
     "execution_count": 9,
     "metadata": {},
     "output_type": "execute_result"
    }
   ],
   "source": [
    "import jax.numpy as jnp\n",
    "jnp.ones(1)"
   ]
  },
  {
   "cell_type": "code",
   "execution_count": 3,
   "id": "53e7517e",
   "metadata": {},
   "outputs": [],
   "source": [
    "from copy import deepcopy\n",
    "\n",
    "import numpy as np\n",
    "from sklearn.model_selection import ParameterGrid\n",
    "\n",
    "from utils import grid_script\n",
    "from config import default_precorrector_mlp_config\n",
    "from experiments.script_classical_prec import script_classical_prec"
   ]
  },
  {
   "cell_type": "code",
   "execution_count": 4,
   "id": "7e34ddb3",
   "metadata": {},
   "outputs": [],
   "source": [
    "seed = 42\n",
    "path = '/mnt/local/data/vtrifonov/prec-learning-Notay-loss/'\n",
    "folder = 'results_cases/28.03_benchmark_elliptic_grid400_ic0'"
   ]
  },
  {
   "cell_type": "code",
   "execution_count": 5,
   "id": "12775704",
   "metadata": {},
   "outputs": [],
   "source": [
    "data_config = {\n",
    "    'data_dir': path,\n",
    "    'pde': np.nan,\n",
    "    'grid': np.nan,\n",
    "    'variance': np.nan,\n",
    "    'lhs_type': np.nan,\n",
    "    'N_samples_train': 1000, # Not used\n",
    "    'N_samples_test': 200,\n",
    "    'fill_factor': 1,\n",
    "    'threshold': 1e-4\n",
    "}\n",
    "\n",
    "# Not used\n",
    "train_config = {\n",
    "    'model_type': np.nan,\n",
    "    'loss_type': np.nan,\n",
    "    'batch_size': np.nan,\n",
    "    'optimizer': np.nan,\n",
    "    'lr': np.nan,\n",
    "    'optim_params': np.nan,\n",
    "    'epoch_num': np.nan\n",
    "}\n",
    "\n",
    "base_config = {\n",
    "    'path': path,\n",
    "    'folder_model': folder,\n",
    "    'folder_log': folder,\n",
    "    'name': np.nan,\n",
    "    'model_use': np.nan,\n",
    "    'save_model': True,\n",
    "    'cg_maxiter': np.nan,\n",
    "    'cg_atol': np.nan,\n",
    "    'data_config': data_config,\n",
    "    'model_config': default_precorrector_mlp_config, # Not used\n",
    "    'train_config': train_config, # Not used\n",
    "    'seed': seed\n",
    "}"
   ]
  },
  {
   "cell_type": "markdown",
   "id": "08cc3e08",
   "metadata": {},
   "source": [
    "# Div-k-grad"
   ]
  },
  {
   "cell_type": "code",
   "execution_count": null,
   "id": "e1a94acf",
   "metadata": {},
   "outputs": [
    {
     "name": "stderr",
     "output_type": "stream",
     "text": [
      "[INFO | root | 2025-03-28 10:24:50] - %%%%%%%%%%%%%%%%%%%%%%%%%%%%%%%%%%%%%%%%%%%%%%%%%%%%%%%%%%%%%%%%%\n",
      "[INFO | root | 2025-03-28 10:24:50] - [Classical precs] script `6okkg6` started execution.\n",
      "[INFO | root | 2025-03-28 10:24:50] - Config: {'path': '/mnt/local/data/vtrifonov/prec-learning-Notay-loss/', 'folder_model': 'results_cases/28.03_benchmark_elliptic_grid400_ic0', 'folder_log': 'results_cases/28.03_benchmark_elliptic_grid400_ic0', 'name': '6okkg6', 'model_use': nan, 'save_model': True, 'cg_maxiter': 2000, 'cg_atol': 1e-12, 'data_config': {'data_dir': '/mnt/local/data/vtrifonov/prec-learning-Notay-loss/', 'pde': 'div_k_grad', 'grid': 400, 'variance': 0.5, 'lhs_type': 'l_ic0', 'N_samples_train': 1000, 'N_samples_test': 200, 'fill_factor': 1, 'threshold': 0.0001}, 'model_config': {'layer_type': 'Conv1d', 'static_diag': False, 'alpha': 0.0, 'mlp': {'features': [1, 16, 1], 'N_layers': 2}}, 'train_config': {'model_type': nan, 'loss_type': nan, 'batch_size': nan, 'optimizer': nan, 'lr': nan, 'optim_params': nan, 'epoch_num': nan}, 'seed': 42}.\n",
      "\n"
     ]
    },
    {
     "name": "stdout",
     "output_type": "stream",
     "text": [
      "Started: 0\n"
     ]
    },
    {
     "name": "stderr",
     "output_type": "stream",
     "text": [
      "[INFO | root | 2025-03-28 10:25:09] - Data is loaded in 1.906e+01 sec.\n",
      "\n",
      "[INFO | root | 2025-03-28 10:25:27] - Precs are combined:\n",
      "[INFO | root | 2025-03-28 10:25:27] -  classical prec construction time (sec) : mean = 5.461e-03, std = 6.007e-04;\n"
     ]
    }
   ],
   "source": [
    "params_grid = ParameterGrid({\n",
    "    'model_use': [np.nan],\n",
    "    'cg_maxiter': [2000],\n",
    "    'cg_atol': [1e-12],\n",
    "    'model_type': [np.nan],\n",
    "    'loss_type': [np.nan],\n",
    "    'batch_size': [np.nan],\n",
    "    'lr': [np.nan],\n",
    "    'epoch_num': [np.nan],\n",
    "    'pde': ['div_k_grad'],\n",
    "    'grid': [400],\n",
    "    'variance': [.5],\n",
    "    'lhs_type': ['l_ic0'],\n",
    "    'fill_factor': [1],\n",
    "    'threshold': [1e-4]\n",
    "})\n",
    "\n",
    "grid_script(script_classical_prec, base_config, params_grid)"
   ]
  },
  {
   "cell_type": "code",
   "execution_count": null,
   "id": "ee16d225",
   "metadata": {},
   "outputs": [],
   "source": [
    "# exit()"
   ]
  }
 ],
 "metadata": {
  "kernelspec": {
   "display_name": "Python 3 (ipykernel)",
   "language": "python",
   "name": "python3"
  },
  "language_info": {
   "codemirror_mode": {
    "name": "ipython",
    "version": 3
   },
   "file_extension": ".py",
   "mimetype": "text/x-python",
   "name": "python",
   "nbconvert_exporter": "python",
   "pygments_lexer": "ipython3",
   "version": "3.10.6"
  }
 },
 "nbformat": 4,
 "nbformat_minor": 5
}
