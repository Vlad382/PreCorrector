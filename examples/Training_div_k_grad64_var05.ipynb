{
 "cells": [
  {
   "cell_type": "code",
   "execution_count": 1,
   "id": "87fb7c88",
   "metadata": {},
   "outputs": [],
   "source": [
    "name = 'div_k_grad64_var05'\n",
    "seed = 42\n",
    "path = '/mnt/local/data/vtrifonov/prec-learning-Notay-loss/'\n",
    "cuda_num = '3'\n",
    "\n",
    "folder = 'examples'"
   ]
  },
  {
   "cell_type": "code",
   "execution_count": 2,
   "id": "5008fe15",
   "metadata": {},
   "outputs": [],
   "source": [
    "import sys\n",
    "import os\n",
    "os.environ[\"CUDA_VISIBLE_DEVICES\"] = cuda_num\n",
    "os.environ['XLA_PYTHON_CLIENT_MEM_FRACTION'] = '.95'\n",
    "sys.path.append(path)"
   ]
  },
  {
   "cell_type": "code",
   "execution_count": 3,
   "id": "a1cd3d5a",
   "metadata": {},
   "outputs": [],
   "source": [
    "import logging\n",
    "import getpass\n",
    "from time import perf_counter\n",
    "\n",
    "import optax\n",
    "from jax import random, vmap, numpy as jnp\n",
    "\n",
    "import matplotlib.pyplot as plt\n",
    "\n",
    "from data.dataset import load_dataset\n",
    "from data.graph_utils import spmatrix_to_graph\n",
    "from config import default_precorrector_config\n",
    "from scipy_linsolve import make_Chol_prec_from_bcoo, batched_cg_scipy\n",
    "from train import construction_time_with_gnn, train_inference_finetune, make_PreCorrector"
   ]
  },
  {
   "cell_type": "code",
   "execution_count": 4,
   "id": "2bf4e643",
   "metadata": {},
   "outputs": [
    {
     "name": "stderr",
     "output_type": "stream",
     "text": [
      "2025-01-15 09:42:41.268230: W external/xla/xla/service/gpu/nvptx_compiler.cc:760] The NVIDIA driver's CUDA version is 12.4 which is older than the ptxas CUDA version (12.5.40). Because the driver is older than the ptxas version, XLA is disabling parallel compilation, which may slow down compilation. You should update your NVIDIA driver or use the NVIDIA-provided CUDA forward compatibility packages.\n"
     ]
    }
   ],
   "source": [
    "key = random.PRNGKey(seed)"
   ]
  },
  {
   "cell_type": "code",
   "execution_count": 5,
   "id": "54392a75",
   "metadata": {},
   "outputs": [],
   "source": [
    "config = {\n",
    "    'model_path': os.path.join(path, folder, name+'.eqx'), \n",
    "    'model_use': 'train',\n",
    "    'save_model': True,\n",
    "    'cg_maxiter': 250,\n",
    "    'cg_atol': 1e-12\n",
    "}\n",
    "\n",
    "data_config = {\n",
    "    'data_dir': path,\n",
    "    'pde': 'div_k_grad',\n",
    "    'grid': 64,\n",
    "    'variance': .5,\n",
    "    'lhs_type': 'l_ic0',\n",
    "    'N_samples_train': 1000,\n",
    "    'N_samples_test': 200,\n",
    "    'precision': 'f64',\n",
    "    'fill_factor': '-',\n",
    "    'threshold': '-'\n",
    "}\n",
    "\n",
    "model_config = default_precorrector_config\n",
    "\n",
    "train_config = {\n",
    "    'loss_type': 'low_freq_loss',\n",
    "    'model_type': 'precorrector',\n",
    "    'batch_size': 8,\n",
    "    'optimizer': optax.adam,\n",
    "    'lr': 1e-3,\n",
    "    'optim_params': {},\n",
    "    'epoch_num': 500\n",
    "}"
   ]
  },
  {
   "cell_type": "code",
   "execution_count": 6,
   "id": "d488f1ee",
   "metadata": {},
   "outputs": [
    {
     "name": "stderr",
     "output_type": "stream",
     "text": [
      "[INFO | root | 2025-01-15 09:42:41] - %%%%%%%%%%%%%%%%%%%%%%%%%%%%%%%%%%%%%%%%%%%%%%%%%%%%%%%%%%%%%%%%%\n",
      "[INFO | root | 2025-01-15 09:42:41] - Script with model \"div_k_grad64_var05\" started execution.\n"
     ]
    }
   ],
   "source": [
    "log_filename = os.path.join(path, folder, name+'.log')\n",
    "\n",
    "logging.basicConfig(\n",
    "    level = logging.INFO,\n",
    "    format = '[%(levelname)s | ' + getpass.getuser() + ' | %(asctime)s] - %(message)s',\n",
    "    force = True,\n",
    "    datefmt = \"%Y-%m-%d %H:%M:%S\",\n",
    "    handlers = [logging.FileHandler(log_filename, \"a\", \"utf-8\"),\n",
    "                logging.StreamHandler()]\n",
    ")\n",
    "logging.captureWarnings(True)\n",
    "logging.info('%%%%%%%%%%%%%%%%%%%%%%%%%%%%%%%%%%%%%%%%%%%%%%%%%%%%%%%%%%%%%%%%%')\n",
    "logging.info(f'Script with model \"{name}\" started execution.')"
   ]
  },
  {
   "cell_type": "code",
   "execution_count": 7,
   "id": "f563990a",
   "metadata": {},
   "outputs": [
    {
     "name": "stderr",
     "output_type": "stream",
     "text": [
      "[INFO | root | 2025-01-15 09:42:41] - Input arguments: name = div_k_grad64_var05, seed = 42, cuda_num = 3.\n",
      "\n"
     ]
    }
   ],
   "source": [
    "logging.info(f'Input arguments: name = {name}, seed = {seed}, cuda_num = {cuda_num}.\\n')\n",
    "try:\n",
    "    assert os.path.isdir(path) and os.path.isdir(os.path.join(path, folder)) and os.path.isdir(data_config['data_dir']), 'Check directories'\n",
    "except Exception as e:\n",
    "    logging.critical(e)\n",
    "    raise"
   ]
  },
  {
   "cell_type": "code",
   "execution_count": 8,
   "id": "6875fd83",
   "metadata": {},
   "outputs": [
    {
     "name": "stderr",
     "output_type": "stream",
     "text": [
      "[INFO | root | 2025-01-15 09:42:41] - Configs:\n",
      "[INFO | root | 2025-01-15 09:42:41] -   config: {'model_path': '/mnt/local/data/vtrifonov/prec-learning-Notay-loss/examples/div_k_grad64_var05.eqx', 'model_use': 'train', 'save_model': True, 'cg_maxiter': 250, 'cg_atol': 1e-12};\n",
      "[INFO | root | 2025-01-15 09:42:41] -   data_config: {'data_dir': '/mnt/local/data/vtrifonov/prec-learning-Notay-loss/', 'pde': 'div_k_grad', 'grid': 64, 'variance': 0.5, 'lhs_type': 'l_ic0', 'N_samples_train': 1000, 'N_samples_test': 200, 'precision': 'f64', 'fill_factor': '-', 'threshold': '-'};\n",
      "[INFO | root | 2025-01-15 09:42:41] -   model_config: {'layer_type': 'Conv1d', 'alpha': 0.0, 'edge_enc': {'features': [1, 16, 16], 'N_layers': 2}, 'edge_dec': {'features': [16, 16, 1], 'N_layers': 2}, 'mp': {'edge_upd': {'features': [18, 16, 16], 'N_layers': 2}, 'node_upd': {'features': [17, 1, 1], 'N_layers': 2}, 'mp_rounds': 5}};\n",
      "[INFO | root | 2025-01-15 09:42:41] -   train_config: {'loss_type': 'low_freq_loss', 'model_type': 'precorrector', 'batch_size': 8, 'optimizer': <function adam at 0x7fb22ef7ad40>, 'lr': 0.001, 'optim_params': {}, 'epoch_num': 500}.\n",
      "\n"
     ]
    }
   ],
   "source": [
    "logging.info('Configs:')\n",
    "logging.info('  config: %s;', config)\n",
    "logging.info('  data_config: %s;', data_config)\n",
    "logging.info('  model_config: %s;', model_config)\n",
    "logging.info('  train_config: %s.\\n', train_config)"
   ]
  },
  {
   "cell_type": "code",
   "execution_count": 9,
   "id": "fac243bb",
   "metadata": {},
   "outputs": [
    {
     "name": "stderr",
     "output_type": "stream",
     "text": [
      "[INFO | root | 2025-01-15 09:43:00] - Data is generated in 1.905e+01 sec.\n",
      "\n"
     ]
    }
   ],
   "source": [
    "try:\n",
    "    s = perf_counter()\n",
    "    train_set = load_dataset(data_config, return_train=True)\n",
    "    A_train, A_pad_train, b_train, bi_edges_train, x_train, ic_time_mean_train, ic_time_std_train = train_set\n",
    "\n",
    "    test_set = load_dataset(data_config, return_train=False)\n",
    "    A_test, A_pad_test, b_test, bi_edges_test, x_test, ic_time_mean_test, ic_time_std_test = test_set\n",
    "\n",
    "    data = (\n",
    "        [A_train, A_pad_train, b_train, bi_edges_train, x_train],\n",
    "        [A_test, A_pad_test, b_test, bi_edges_test, x_test]\n",
    "    )\n",
    "    data_time = perf_counter() - s\n",
    "    logging.info(f'Data is generated in {data_time:.3e} sec.\\n')\n",
    "except Exception as e:\n",
    "    logging.critical(f'Script failed on data generation.\\n{e}\\n\\n\\n')\n",
    "    raise"
   ]
  },
  {
   "cell_type": "code",
   "execution_count": 10,
   "id": "5ef78c38",
   "metadata": {},
   "outputs": [
    {
     "name": "stderr",
     "output_type": "stream",
     "text": [
      "[INFO | root | 2025-01-15 09:47:41] - Model is trained in 2.806e+02 sec.\n",
      "[INFO | root | 2025-01-15 09:47:41] - First and last losses: train = [1.831e+04, 4.285e+02], test = [4.886e+03, 4.316e+02]\n",
      ".\n"
     ]
    }
   ],
   "source": [
    "try:\n",
    "    s = perf_counter()\n",
    "    model, losses, _ = train_inference_finetune(key, data, make_PreCorrector, model_config,\n",
    "                                                train_config, model_path=config['model_path'],\n",
    "                                                model_use=config['model_use'], save_model=config['save_model'])\n",
    "    training_time = perf_counter() - s\n",
    "    logging.info(f'Model is trained in {training_time:.3e} sec.')\n",
    "    logging.info(f'First and last losses: train = [{losses[0][0]:.3e}, {losses[0][-1]:.3e}], test = [{losses[1][0]:.3e}, {losses[1][-1]:.3e}]\\n.')\n",
    "except Exception as e:\n",
    "    logging.critical(f'Script failed on model training.\\n{e}\\n\\n\\n')\n",
    "    raise"
   ]
  },
  {
   "cell_type": "code",
   "execution_count": 11,
   "id": "f3a1df4f",
   "metadata": {},
   "outputs": [
    {
     "data": {
      "image/png": "[encoded data removed]",
      "text/plain": [
       "<Figure size 640x480 with 1 Axes>"
      ]
     },
     "metadata": {},
     "output_type": "display_data"
    }
   ],
   "source": [
    "plt.plot(range(len(losses[0])), losses[1], label='Test')\n",
    "plt.plot(range(len(losses[0])), losses[0], label='Train')\n",
    "plt.legend()\n",
    "plt.yscale('log')\n",
    "plt.xlabel('Epoch')\n",
    "plt.ylabel('Loss')\n",
    "plt.grid()\n",
    "plt.tight_layout();"
   ]
  },
  {
   "cell_type": "code",
   "execution_count": 12,
   "id": "3ae2e7ba",
   "metadata": {},
   "outputs": [
    {
     "name": "stderr",
     "output_type": "stream",
     "text": [
      "[INFO | root | 2025-01-15 09:47:50] - Precs are combined:\n",
      "[INFO | root | 2025-01-15 09:47:50] -  classical prec construction time (sec) : mean = 1.494e-04, std = 3.264e-06;\n",
      "[INFO | root | 2025-01-15 09:47:50] -  GNN prec construction time (sec) : mean = 3.644e-04, std = 7.702e-06.\n",
      "\n"
     ]
    }
   ],
   "source": [
    "try:\n",
    "    time_gnn_mean, time_gnn_std = construction_time_with_gnn(model, A_test[0, ...], A_pad_test[0, ...], b_test[0, ...],\n",
    "                                                             bi_edges_test[0, ...], num_rounds=A_test.shape[0],\n",
    "                                                             pre_time_ic=ic_time_mean_test)\n",
    "    L = vmap(model, in_axes=(0), out_axes=(0))(spmatrix_to_graph(A_pad_test, b_test))\n",
    "    P = make_Chol_prec_from_bcoo(L)\n",
    "    P_ic0 = make_Chol_prec_from_bcoo(A_pad_test)\n",
    "    \n",
    "    logging.info(f'Precs are combined:')\n",
    "    logging.info(f' classical prec construction time (sec) : mean = {ic_time_mean_test:.3e}, std = {ic_time_std_test:.3e};')\n",
    "    logging.info(f' GNN prec construction time (sec) : mean = {time_gnn_mean:.3e}, std = {time_gnn_std:.3e}.\\n')\n",
    "except Exception as e:\n",
    "    logging.critical(f'Script failed on precs combination.\\n{e}\\n\\n\\n')\n",
    "    raise"
   ]
  },
  {
   "cell_type": "code",
   "execution_count": 13,
   "id": "0fd2aa7b",
   "metadata": {},
   "outputs": [
    {
     "name": "stderr",
     "output_type": "stream",
     "text": [
      "[INFO | root | 2025-01-15 09:48:24] - CG with GNN is finished:\n",
      "[INFO | root | 2025-01-15 09:48:24] -  iterations to atol([mean, std]): {0.001: [40.1, 1.77], 1e-06: [51.6, 1.85], 1e-09: [62.0, 1.97], 1e-12: [72.2, 2.1]};\n",
      "[INFO | root | 2025-01-15 09:48:24] -  time to atol([mean, std]): {0.001: [0.0883, 0.00393], 1e-06: [0.1132, 0.00409], 1e-09: [0.1358, 0.00437], 1e-12: [0.1579, 0.00462]};\n",
      "[INFO | root | 2025-01-15 09:48:24] -  number of linsystems for which CG did not conerge to atol: {0.001: [0.0883, 0.00393], 1e-06: [0.1132, 0.00409], 1e-09: [0.1358, 0.00437], 1e-12: [0.1579, 0.00462]}.\n",
      "\n"
     ]
    }
   ],
   "source": [
    "try:\n",
    "    iters_stats, time_stats, nan_flag = batched_cg_scipy(A_test, b_test, time_gnn_mean, 'random',\n",
    "                                                         key, P, config['cg_atol'],\n",
    "                                                         config['cg_maxiter'], thresholds=[1e-3, 1e-6, 1e-9, 1e-12])\n",
    "    logging.info('CG with GNN is finished:')\n",
    "    logging.info(f' iterations to atol([mean, std]): %s;', iters_stats)\n",
    "    logging.info(f' time to atol([mean, std]): %s;', time_stats)\n",
    "    logging.info(f' number of linsystems for which CG did not conerge to atol: %s.\\n', time_stats)\n",
    "except Exception as e:\n",
    "    logging.critical(f'Script failed on CG with GNN.\\n{e}\\n\\n\\n')\n",
    "    raise"
   ]
  },
  {
   "cell_type": "code",
   "execution_count": 14,
   "id": "a41cd61e",
   "metadata": {},
   "outputs": [
    {
     "name": "stderr",
     "output_type": "stream",
     "text": [
      "[INFO | root | 2025-01-15 09:49:21] - CG with classical prec is finished:\n",
      "[INFO | root | 2025-01-15 09:49:21] -  iterations to atol([mean, std]): {0.001: [40.1, 1.77], 1e-06: [51.6, 1.85], 1e-09: [62.0, 1.97], 1e-12: [72.2, 2.1]};\n",
      "[INFO | root | 2025-01-15 09:49:21] -  time to atol([mean, std]): {0.001: [0.0883, 0.00393], 1e-06: [0.1132, 0.00409], 1e-09: [0.1358, 0.00437], 1e-12: [0.1579, 0.00462]};\n",
      "[INFO | root | 2025-01-15 09:49:21] -  number of linsystems for which CG did not conerge to atol: {0.001: [0.0883, 0.00393], 1e-06: [0.1132, 0.00409], 1e-09: [0.1358, 0.00437], 1e-12: [0.1579, 0.00462]}.\n",
      "\n"
     ]
    }
   ],
   "source": [
    "try:\n",
    "    iters_stats_ic0, time_stats_ic0, nan_flag_ic0 = batched_cg_scipy(A_test, b_test, ic_time_mean_test, 'random',\n",
    "                                                                     key, P_ic0, config['cg_atol'],\n",
    "                                                                     config['cg_maxiter'], thresholds=[1e-3, 1e-6, 1e-9, 1e-12])\n",
    "    logging.info('CG with classical prec is finished:')\n",
    "    logging.info(f' iterations to atol([mean, std]): %s;', iters_stats_ic0)\n",
    "    logging.info(f' time to atol([mean, std]): %s;', time_stats_ic0)\n",
    "    logging.info(f' number of linsystems for which CG did not conerge to atol: %s.\\n', nan_flag_ic0)\n",
    "except Exception as e:\n",
    "    logging.critical(f'Script failed on CG with classical prec.\\n{e}\\n\\n\\n')\n",
    "    raise"
   ]
  },
  {
   "cell_type": "code",
   "execution_count": 15,
   "id": "84c23ff9",
   "metadata": {},
   "outputs": [
    {
     "name": "stderr",
     "output_type": "stream",
     "text": [
      "[INFO | root | 2025-01-15 09:49:21] - Script with model \"div_k_grad64_var05\" finished execution.\n",
      "\n",
      "\n",
      "\n"
     ]
    }
   ],
   "source": [
    "logging.info(f'Script with model \"{name}\" finished execution.\\n\\n\\n')"
   ]
  },
  {
   "cell_type": "code",
   "execution_count": null,
   "id": "a53e800e",
   "metadata": {},
   "outputs": [],
   "source": []
  }
 ],
 "metadata": {
  "kernelspec": {
   "display_name": "Python 3 (ipykernel)",
   "language": "python",
   "name": "python3"
  },
  "language_info": {
   "codemirror_mode": {
    "name": "ipython",
    "version": 3
   },
   "file_extension": ".py",
   "mimetype": "text/x-python",
   "name": "python",
   "nbconvert_exporter": "python",
   "pygments_lexer": "ipython3",
   "version": "3.10.6"
  }
 },
 "nbformat": 4,
 "nbformat_minor": 5
}
