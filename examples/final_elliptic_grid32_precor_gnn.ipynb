{
 "cells": [
  {
   "cell_type": "code",
   "execution_count": null,
   "id": "6e73bc7a",
   "metadata": {},
   "outputs": [],
   "source": [
    "import sys\n",
    "import os\n",
    "os.environ[\"CUDA_VISIBLE_DEVICES\"] = '2'\n",
    "os.environ['XLA_PYTHON_CLIENT_MEM_FRACTION'] = '.95'\n",
    "sys.path.append('/mnt/local/data/vtrifonov/prec-learning-Notay-loss/')"
   ]
  },
  {
   "cell_type": "code",
   "execution_count": 2,
   "id": "bce45fc6",
   "metadata": {},
   "outputs": [
    {
     "data": {
      "text/plain": [
       "Array([1.], dtype=float32)"
      ]
     },
     "execution_count": 2,
     "metadata": {},
     "output_type": "execute_result"
    }
   ],
   "source": [
    "import jax.numpy as jnp\n",
    "jnp.ones(1)"
   ]
  },
  {
   "cell_type": "code",
   "execution_count": 3,
   "id": "385b94da",
   "metadata": {},
   "outputs": [],
   "source": [
    "from copy import deepcopy\n",
    "\n",
    "import jax\n",
    "import optax\n",
    "import numpy as np\n",
    "from sklearn.model_selection import ParameterGrid\n",
    "\n",
    "from utils import grid_script\n",
    "from config import default_precorrector_gnn_config\n",
    "from experiments.script_gnn_prec import script_gnn_prec"
   ]
  },
  {
   "cell_type": "code",
   "execution_count": 4,
   "id": "6f7efd87",
   "metadata": {},
   "outputs": [],
   "source": [
    "seed = 42\n",
    "path = '/mnt/local/data/vtrifonov/prec-learning-Notay-loss/'\n",
    "folder = 'results_cases/01.04_final_elliptic_grid32_precor_gnn'"
   ]
  },
  {
   "cell_type": "code",
   "execution_count": 5,
   "id": "1f481688",
   "metadata": {},
   "outputs": [],
   "source": [
    "data_config = {\n",
    "    'data_dir': path,\n",
    "    'pde': np.nan,\n",
    "    'grid': np.nan,\n",
    "    'variance': np.nan,\n",
    "    'lhs_type': np.nan,\n",
    "    'N_samples_train': 1000,\n",
    "    'N_samples_test': 200,\n",
    "    'fill_factor': 1,\n",
    "    'threshold': 1e-4\n",
    "}\n",
    "\n",
    "train_config = {\n",
    "    'model_type': 'precorrector_gnn',\n",
    "    'loss_type': np.nan,\n",
    "    'batch_size': 8,\n",
    "    'optimizer': optax.adam,\n",
    "    'lr': 1e-3,\n",
    "    'optim_params': {},\n",
    "    'epoch_num': 500\n",
    "}\n",
    "\n",
    "base_config = {\n",
    "    'path': path,\n",
    "    'folder_model': folder,\n",
    "    'folder_log': folder,\n",
    "    'name': np.nan,\n",
    "    'model_use': np.nan,\n",
    "    'save_model': True,\n",
    "    'cg_maxiter': np.nan,\n",
    "    'cg_atol': np.nan,\n",
    "    'data_config': data_config,\n",
    "    'model_config': np.nan,\n",
    "    'train_config': train_config,\n",
    "    'seed': seed\n",
    "}"
   ]
  },
  {
   "cell_type": "markdown",
   "id": "aa16eba4",
   "metadata": {},
   "source": [
    "# Div-k-grad"
   ]
  },
  {
   "cell_type": "code",
   "execution_count": 6,
   "id": "1feddb2b",
   "metadata": {},
   "outputs": [
    {
     "name": "stderr",
     "output_type": "stream",
     "text": [
      "[INFO | root | 2025-04-01 08:11:05] - %%%%%%%%%%%%%%%%%%%%%%%%%%%%%%%%%%%%%%%%%%%%%%%%%%%%%%%%%%%%%%%%%\n",
      "[INFO | root | 2025-04-01 08:11:05] - [GNN precs] script `y2e5gg` started execution.\n",
      "[INFO | root | 2025-04-01 08:11:05] - Config: {'path': '/mnt/local/data/vtrifonov/prec-learning-Notay-loss/', 'folder_model': 'results_cases/01.04_final_elliptic_grid32_precor_gnn', 'folder_log': 'results_cases/01.04_final_elliptic_grid32_precor_gnn', 'name': 'y2e5gg', 'model_use': 'train', 'save_model': True, 'cg_maxiter': 500, 'cg_atol': 1e-12, 'data_config': {'data_dir': '/mnt/local/data/vtrifonov/prec-learning-Notay-loss/', 'pde': 'div_k_grad', 'grid': 32, 'variance': 0.1, 'lhs_type': 'l_ic0', 'N_samples_train': 1000, 'N_samples_test': 200, 'fill_factor': 1, 'threshold': 0.0001}, 'model_config': {'layer_type': 'Conv1d', 'use_nodes': False, 'node_upd_mlp': False, 'static_diag': False, 'alpha': 0.0, 'edge_enc': {'features': [1, 16, 16], 'N_layers': 2}, 'edge_dec': {'features': [16, 16, 1], 'N_layers': 2}, 'mp': {'edge_upd': {'features': [18, 16, 16], 'N_layers': 2}, 'node_upd': {'features': [17, 1, 1], 'N_layers': 2}, 'mp_rounds': 5, 'aggregate_edges': 'max'}}, 'train_config': {'model_type': 'precorrector_gnn', 'loss_type': 'low_freq_loss', 'batch_size': 8, 'optimizer': <function adam at 0x7f1e801fef80>, 'lr': 0.001, 'optim_params': {}, 'epoch_num': 500}, 'seed': 42}.\n",
      "\n"
     ]
    },
    {
     "name": "stdout",
     "output_type": "stream",
     "text": [
      "Started: 0\n"
     ]
    },
    {
     "name": "stderr",
     "output_type": "stream",
     "text": [
      "[INFO | root | 2025-04-01 08:11:31] - Data is loaded in 2.593e+01 sec.\n",
      "\n",
      "[INFO | root | 2025-04-01 08:13:25] - Model is trained in 1.145e+02 sec.\n",
      "[INFO | root | 2025-04-01 08:13:25] - PreCorrector's alpha = -0.1133.\n",
      "[INFO | root | 2025-04-01 08:13:26] - First and last losses: train = [5.685e+02, 8.251e+01], test = [1.695e+02, 8.112e+01].\n",
      "\n",
      "[INFO | root | 2025-04-01 08:13:32] - Precs are combined:\n",
      "[INFO | root | 2025-04-01 08:13:32] -  GNN prec construction time (sec) : mean = 2.464e-04, std = 6.597e-06.\n",
      "\n",
      "[INFO | root | 2025-04-01 08:13:45] - CG with GNN is finished:\n",
      "[INFO | root | 2025-04-01 08:13:45] -  iterations to atol([mean, std]): {0.001: [21.8, 0.37], 1e-06: [28.8, 0.46], 1e-09: [35.6, 0.48], 1e-12: [42.0, 0.26]};\n",
      "[INFO | root | 2025-04-01 08:13:45] -  time to atol([mean, std]): {0.001: [0.0289, 0.00115], 1e-06: [0.0378, 0.00138], 1e-09: [0.0466, 0.00166], 1e-12: [0.0547, 0.00187]};\n",
      "[INFO | root | 2025-04-01 08:13:45] -  number of linsystems for which CG did not conerge to atol: {0.001: 0, 1e-06: 0, 1e-09: 0, 1e-12: 0}.\n",
      "\n",
      "[INFO | root | 2025-04-01 08:13:45] - [GNN precs] script `y2e5gg` finished execution.\n",
      "\n",
      "\n",
      "\n",
      "[INFO | root | 2025-04-01 08:13:45] - %%%%%%%%%%%%%%%%%%%%%%%%%%%%%%%%%%%%%%%%%%%%%%%%%%%%%%%%%%%%%%%%%\n",
      "[INFO | root | 2025-04-01 08:13:45] - [GNN precs] script `d4qyvh` started execution.\n",
      "[INFO | root | 2025-04-01 08:13:45] - Config: {'path': '/mnt/local/data/vtrifonov/prec-learning-Notay-loss/', 'folder_model': 'results_cases/01.04_final_elliptic_grid32_precor_gnn', 'folder_log': 'results_cases/01.04_final_elliptic_grid32_precor_gnn', 'name': 'd4qyvh', 'model_use': 'train', 'save_model': True, 'cg_maxiter': 500, 'cg_atol': 1e-12, 'data_config': {'data_dir': '/mnt/local/data/vtrifonov/prec-learning-Notay-loss/', 'pde': 'div_k_grad', 'grid': 32, 'variance': 0.5, 'lhs_type': 'l_ic0', 'N_samples_train': 1000, 'N_samples_test': 200, 'fill_factor': 1, 'threshold': 0.0001}, 'model_config': {'layer_type': 'Conv1d', 'use_nodes': False, 'node_upd_mlp': False, 'static_diag': False, 'alpha': 0.0, 'edge_enc': {'features': [1, 16, 16], 'N_layers': 2}, 'edge_dec': {'features': [16, 16, 1], 'N_layers': 2}, 'mp': {'edge_upd': {'features': [18, 16, 16], 'N_layers': 2}, 'node_upd': {'features': [17, 1, 1], 'N_layers': 2}, 'mp_rounds': 5, 'aggregate_edges': 'max'}}, 'train_config': {'model_type': 'precorrector_gnn', 'loss_type': 'low_freq_loss', 'batch_size': 8, 'optimizer': <function adam at 0x7f1e801fef80>, 'lr': 0.001, 'optim_params': {}, 'epoch_num': 500}, 'seed': 42}.\n",
      "\n"
     ]
    },
    {
     "name": "stdout",
     "output_type": "stream",
     "text": [
      "Started: 1\n"
     ]
    },
    {
     "name": "stderr",
     "output_type": "stream",
     "text": [
      "[INFO | root | 2025-04-01 08:14:02] - Data is loaded in 1.649e+01 sec.\n",
      "\n",
      "[INFO | root | 2025-04-01 08:15:52] - Model is trained in 1.102e+02 sec.\n",
      "[INFO | root | 2025-04-01 08:15:52] - PreCorrector's alpha = -0.0836.\n",
      "[INFO | root | 2025-04-01 08:15:52] - First and last losses: train = [1.286e+03, 1.039e+02], test = [7.480e+02, 1.028e+02].\n",
      "\n",
      "[INFO | root | 2025-04-01 08:15:54] - Precs are combined:\n",
      "[INFO | root | 2025-04-01 08:15:54] -  GNN prec construction time (sec) : mean = 2.437e-04, std = 7.890e-06.\n",
      "\n",
      "[INFO | root | 2025-04-01 08:16:08] - CG with GNN is finished:\n",
      "[INFO | root | 2025-04-01 08:16:08] -  iterations to atol([mean, std]): {0.001: [24.9, 0.8], 1e-06: [32.6, 0.84], 1e-09: [39.8, 0.88], 1e-12: [46.7, 0.97]};\n",
      "[INFO | root | 2025-04-01 08:16:08] -  time to atol([mean, std]): {0.001: [0.0328, 0.00105], 1e-06: [0.0426, 0.00109], 1e-09: [0.0518, 0.00118], 1e-12: [0.0606, 0.0013]};\n",
      "[INFO | root | 2025-04-01 08:16:08] -  number of linsystems for which CG did not conerge to atol: {0.001: 0, 1e-06: 0, 1e-09: 0, 1e-12: 0}.\n",
      "\n",
      "[INFO | root | 2025-04-01 08:16:08] - [GNN precs] script `d4qyvh` finished execution.\n",
      "\n",
      "\n",
      "\n"
     ]
    }
   ],
   "source": [
    "notstatic_precorrector_gnn_config = deepcopy(default_precorrector_gnn_config)\n",
    "notstatic_precorrector_gnn_config['static_diag'] = False\n",
    "notstatic_precorrector_gnn_config['mp']['aggregate_edges'] = 'max'\n",
    "base_config['model_config'] = notstatic_precorrector_gnn_config\n",
    "\n",
    "params_grid = ParameterGrid({\n",
    "    'model_use': ['train'],\n",
    "    'cg_maxiter': [500],\n",
    "    'cg_atol': [1e-12],\n",
    "    'model_type': ['precorrector_gnn'],\n",
    "    'loss_type': ['low_freq_loss'],\n",
    "    'batch_size': [8],\n",
    "    'lr': [1e-3],\n",
    "    'epoch_num': [500],\n",
    "    'pde': ['div_k_grad'],\n",
    "    'grid': [32],\n",
    "    'variance': [.1, .5],\n",
    "    'lhs_type': ['l_ic0'],\n",
    "    'fill_factor': [1],\n",
    "    'threshold': [1e-4]\n",
    "})\n",
    "\n",
    "# with jax.disable_jit():\n",
    "grid_script(script_gnn_prec, base_config, params_grid)"
   ]
  },
  {
   "cell_type": "code",
   "execution_count": 7,
   "id": "d0cd5988",
   "metadata": {},
   "outputs": [],
   "source": [
    "# exit()"
   ]
  },
  {
   "cell_type": "code",
   "execution_count": null,
   "id": "08709204",
   "metadata": {},
   "outputs": [],
   "source": []
  }
 ],
 "metadata": {
  "kernelspec": {
   "display_name": "Python 3 (ipykernel)",
   "language": "python",
   "name": "python3"
  },
  "language_info": {
   "codemirror_mode": {
    "name": "ipython",
    "version": 3
   },
   "file_extension": ".py",
   "mimetype": "text/x-python",
   "name": "python",
   "nbconvert_exporter": "python",
   "pygments_lexer": "ipython3",
   "version": "3.10.6"
  }
 },
 "nbformat": 4,
 "nbformat_minor": 5
}
