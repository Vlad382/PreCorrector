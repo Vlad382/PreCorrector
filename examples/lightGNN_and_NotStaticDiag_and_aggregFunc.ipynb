{
 "cells": [
  {
   "cell_type": "code",
   "execution_count": 1,
   "id": "178382b6",
   "metadata": {},
   "outputs": [],
   "source": [
    "import sys\n",
    "import os\n",
    "os.environ[\"CUDA_VISIBLE_DEVICES\"] = '2'\n",
    "os.environ['XLA_PYTHON_CLIENT_MEM_FRACTION'] = '.95'\n",
    "sys.path.append('/mnt/local/data/vtrifonov/prec-learning-Notay-loss/')"
   ]
  },
  {
   "cell_type": "code",
   "execution_count": 2,
   "id": "9cf9b676",
   "metadata": {},
   "outputs": [],
   "source": [
    "from copy import deepcopy\n",
    "from functools import partial\n",
    "\n",
    "import optax\n",
    "import numpy as np\n",
    "\n",
    "from script_train import grid_train\n",
    "from config import default_precorrector_config, default_edgemlp_config\n",
    "from train import make_PreCorrector_rhsOnes, make_LightGNN, make_EdgeMLP\n",
    "from utils import params_count"
   ]
  },
  {
   "cell_type": "code",
   "execution_count": 3,
   "id": "3d628720",
   "metadata": {},
   "outputs": [],
   "source": [
    "seed = 42\n",
    "path = '/mnt/local/data/vtrifonov/prec-learning-Notay-loss/'\n",
    "folder = 'results_cases/check_why_test_loss_lower'"
   ]
  },
  {
   "cell_type": "code",
   "execution_count": 4,
   "id": "cf02f1df",
   "metadata": {},
   "outputs": [],
   "source": [
    "data_config = {\n",
    "    'data_dir': path,\n",
    "    'pde': 'div_k_grad',\n",
    "    'grid': 128,\n",
    "    'variance': .7,\n",
    "    'lhs_type': 'l_ic0',\n",
    "    'N_samples_train': 100,\n",
    "    'N_samples_test': 200,\n",
    "    'precision': 'f64',\n",
    "    'fill_factor': 1,\n",
    "    'threshold': 1e-4\n",
    "}\n",
    "\n",
    "train_config = {\n",
    "    'loss_type': 'low_freq_loss',\n",
    "    'model_type': 'precorrector_rhs_ones',\n",
    "    'batch_size': 8,\n",
    "    'optimizer': optax.adam,\n",
    "    'lr': 1e-3,\n",
    "    'optim_params': {},\n",
    "    'epoch_num': 201\n",
    "}\n",
    "\n",
    "base_config = {\n",
    "    'path': path,\n",
    "    'folder': folder,\n",
    "    'name': np.nan,\n",
    "    'model_use': 'train',\n",
    "    'save_model': False,\n",
    "    'cg_maxiter': 10,\n",
    "    'cg_atol': 1e-12,\n",
    "    'data_config': data_config,\n",
    "    'model_config': np.nan,\n",
    "    'train_config': train_config,\n",
    "    'seed': seed\n",
    "}"
   ]
  },
  {
   "cell_type": "code",
   "execution_count": 5,
   "id": "f1d3ad57",
   "metadata": {},
   "outputs": [],
   "source": [
    "# PreCorrector_NotStaticDiag (make_model, config)\n",
    "precor_notstatic = (\n",
    "    partial(make_PreCorrector_rhsOnes, static_diag=False),\n",
    "    default_precorrector_config\n",
    ")"
   ]
  },
  {
   "cell_type": "code",
   "execution_count": 6,
   "id": "b7917724",
   "metadata": {},
   "outputs": [],
   "source": [
    "# LightGNN_StaticDiag_NoNodeMLP (make_model, config)\n",
    "lgnn_static_nonode = (\n",
    "    partial(make_LightGNN, static_diag=True, node_mlp=False, edge_mlp=True),\n",
    "    default_precorrector_config\n",
    ")"
   ]
  },
  {
   "cell_type": "code",
   "execution_count": 7,
   "id": "070eb784",
   "metadata": {},
   "outputs": [],
   "source": [
    "# LightGNN_StaticDiag_NoNodeMLP_NoEdgeMLP (make_model, config)\n",
    "lgnn_static_nonode_noedge = (\n",
    "    partial(make_LightGNN, static_diag=True, node_mlp=False, edge_mlp=False),\n",
    "    default_precorrector_config\n",
    ")"
   ]
  },
  {
   "cell_type": "code",
   "execution_count": 8,
   "id": "dcc99a9c",
   "metadata": {},
   "outputs": [],
   "source": [
    "# PreCorrector_aggregMin (make_model, config)\n",
    "config_aggrmin = deepcopy(default_precorrector_config)\n",
    "config_aggrmin['mp']['aggregate_edges'] = 'min'\n",
    "precor_aggrmin = (\n",
    "    partial(make_PreCorrector_rhsOnes, static_diag=True),\n",
    "    config_aggrmin\n",
    ")"
   ]
  },
  {
   "cell_type": "code",
   "execution_count": 9,
   "id": "366d9ad4",
   "metadata": {},
   "outputs": [],
   "source": [
    "# PreCorrector_aggregMax (make_model, config)\n",
    "config_aggrmax = deepcopy(default_precorrector_config)\n",
    "config_aggrmax['mp']['aggregate_edges'] = 'max'\n",
    "precor_aggrmax = (\n",
    "    partial(make_PreCorrector_rhsOnes, static_diag=True),\n",
    "    config_aggrmax\n",
    ")"
   ]
  },
  {
   "cell_type": "code",
   "execution_count": 10,
   "id": "3e4cc7ae",
   "metadata": {},
   "outputs": [],
   "source": [
    "# EdgeMLP_NotStaticDiag\n",
    "edgemlp_notstatic = (\n",
    "    partial(make_EdgeMLP, static_diag=False),\n",
    "    default_edgemlp_config\n",
    ")"
   ]
  },
  {
   "cell_type": "code",
   "execution_count": 11,
   "id": "4cad05f9",
   "metadata": {},
   "outputs": [],
   "source": [
    "# EdgeMLP_StaticDiag\n",
    "edgemlp_static = (\n",
    "    partial(make_EdgeMLP, static_diag=True),\n",
    "    default_edgemlp_config\n",
    ")"
   ]
  },
  {
   "cell_type": "code",
   "execution_count": 12,
   "id": "b10a2367",
   "metadata": {},
   "outputs": [],
   "source": [
    "runs_dict = {\n",
    "    'EdgeMLP_StaticDiag': edgemlp_static,\n",
    "#     'EdgeMLP_NotStaticDiag': edgemlp_notstatic\n",
    "#     'PreCorrector_NotStaticDiag': precor_notstatic,\n",
    "#     'LightGNN_StaticDiag_NoNodeMLP': lgnn_static_nonode,\n",
    "#     'LightGNN_StaticDiag_NoNodeMLP_NoEdgeMLP': lgnn_static_nonode_noedge,\n",
    "#     'PreCorrector_aggregMin': precor_aggrmin,\n",
    "#     'PreCorrector_aggregMax': precor_aggrmax\n",
    "}"
   ]
  },
  {
   "cell_type": "markdown",
   "id": "7cee3811",
   "metadata": {},
   "source": [
    "## Exmperiments function"
   ]
  },
  {
   "cell_type": "code",
   "execution_count": 13,
   "id": "74069bc2",
   "metadata": {},
   "outputs": [],
   "source": [
    "import os\n",
    "import getpass\n",
    "import logging\n",
    "from copy import deepcopy\n",
    "from time import perf_counter\n",
    "\n",
    "import optax\n",
    "from jax import random, vmap, numpy as jnp\n",
    "\n",
    "import pandas as pd\n",
    "import matplotlib.pyplot as plt\n",
    "\n",
    "from data.dataset import load_dataset\n",
    "from data.graph_utils import spmatrix_to_graph\n",
    "from config import default_precorrector_config\n",
    "from scipy_linsolve import make_Chol_prec_from_bcoo, batched_cg_scipy\n",
    "from train import construction_time_with_gnn, train_inference_finetune\n",
    "from train import make_PreCorrector_rhsOnes, make_PreCorrector, make_NaiveGNN\n",
    "from utils import id_generator"
   ]
  },
  {
   "cell_type": "code",
   "execution_count": 14,
   "id": "82bc8f1a",
   "metadata": {},
   "outputs": [],
   "source": [
    "def run(config, name, run_spec):\n",
    "    # Setup\n",
    "    key = random.PRNGKey(config['seed'])\n",
    "    config['name'] = name\n",
    "    config['model_config'] = run_spec[1]\n",
    "    \n",
    "    data_config = config['data_config']\n",
    "    model_config = config['model_config']\n",
    "    train_config = config['train_config']\n",
    "    \n",
    "    make_model = run_spec[0]\n",
    "    base_dir = os.path.join(config['path'], config['folder'], config['name'])\n",
    "    try: os.mkdir(base_dir)\n",
    "    except: pass\n",
    "    \n",
    "    # Logging\n",
    "    model_file = os.path.join(base_dir, config['name']+'.eqx')\n",
    "    log_file = os.path.join(base_dir, config['name']+'.log')\n",
    "    loss_file = os.path.join(base_dir, 'losses_'+config['name']+'.npz')\n",
    "    \n",
    "    logging.basicConfig(\n",
    "        level = logging.INFO,\n",
    "        format = '[%(levelname)s | ' + getpass.getuser() + ' | %(asctime)s] - %(message)s',\n",
    "        force = True,\n",
    "        datefmt = \"%Y-%m-%d %H:%M:%S\",\n",
    "        handlers = [logging.FileHandler(log_file, \"a\", \"utf-8\"),\n",
    "                    logging.StreamHandler()]\n",
    "    )\n",
    "    logging.captureWarnings(True)\n",
    "    logging.info('%%%%%%%%%%%%%%%%%%%%%%%%%%%%%%%%%%%%%%%%%%%%%%%%%%%%%%%%%%%%%%%%%')\n",
    "    logging.info(f'Script with model `{config[\"name\"]}` started execution.')    \n",
    "    logging.info('Config: %s.\\n', config)\n",
    "    \n",
    "    try:\n",
    "        results_folder_exists = os.path.isdir(os.path.join(config['path'], config['folder']))\n",
    "        data_dir_exists = os.path.isdir(data_config['data_dir'])\n",
    "        assert os.path.isdir(config['path']) and results_folder_exists and data_dir_exists, 'Check directories'\n",
    "    except Exception as e:\n",
    "        logging.critical(e)\n",
    "        return False\n",
    "    \n",
    "    # Data loading\n",
    "    try:\n",
    "        s = perf_counter()\n",
    "        train_set = load_dataset(data_config, return_train=True)\n",
    "        A_train, A_pad_train, b_train, bi_edges_train, x_train, class_time_mean_train, class_time_std_train = train_set\n",
    "\n",
    "        test_set = load_dataset(data_config, return_train=False)\n",
    "        A_test, A_pad_test, b_test, bi_edges_test, x_test, class_time_mean_test, class_time_std_test = test_set\n",
    "        \n",
    "        data = (\n",
    "            [A_train, A_pad_train, b_train, bi_edges_train, x_train],\n",
    "            [A_test, A_pad_test, b_test, bi_edges_test, x_test]\n",
    "        )\n",
    "        data_time = perf_counter() - s\n",
    "        logging.info(f'Data is loaded in {data_time:.3e} sec.\\n')\n",
    "    except Exception as e:\n",
    "        logging.critical(f'Script failed on data loading.\\n{e}\\n\\n\\n')\n",
    "        return False\n",
    "        \n",
    "    # Model training\n",
    "    try:\n",
    "        s = perf_counter()\n",
    "        model, losses, _ = train_inference_finetune(key, data, make_model, model_config,\n",
    "                                                    train_config, model_path=model_file,\n",
    "                                                    model_use=config['model_use'], save_model=config['save_model'])\n",
    "        training_time = perf_counter() - s\n",
    "        if train_config['model_type'] != 'naivegnn':\n",
    "            alpha = f'{model.alpha.item():.4f}' \n",
    "        else:\n",
    "            alpha = '-'\n",
    "\n",
    "\n",
    "        logging.info(f'Model is trained in {training_time:.3e} sec.')\n",
    "        logging.info(f\"GNN's alpha = {alpha}.\")\n",
    "        logging.info(f'First and last losses: train = [{losses[0][0]:.3e}, {losses[0][-1]:.3e}], test = [{losses[1][0]:.3e}, {losses[1][-1]:.3e}].\\n')\n",
    "        jnp.savez(loss_file, train_loss=losses[0], test_loss=losses[1])\n",
    "    except Exception as e:\n",
    "        logging.critical(f'Script failed on model training.\\n{e}\\n\\n\\n')\n",
    "        return False\n",
    "    \n",
    "    # Preconditioner construction\n",
    "    try:\n",
    "        time_gnn_mean, time_gnn_std = construction_time_with_gnn(model, A_test[0, ...], A_pad_test[0, ...], b_test[0, ...],\n",
    "                                                                 bi_edges_test[0, ...], num_rounds=A_test.shape[0],\n",
    "                                                                 pre_time_ic=class_time_mean_test)\n",
    "        L = vmap(model, in_axes=(0), out_axes=(0))(spmatrix_to_graph(A_pad_test, b_test))\n",
    "        P = make_Chol_prec_from_bcoo(L)\n",
    "        P_class = make_Chol_prec_from_bcoo(A_pad_test)\n",
    "\n",
    "        logging.info(f'Precs are combined:')\n",
    "        logging.info(f' classical prec construction time (sec) : mean = {class_time_mean_test:.3e}, std = {class_time_std_test:.3e};')\n",
    "        logging.info(f' GNN prec construction time (sec) : mean = {time_gnn_mean:.3e}, std = {time_gnn_std:.3e}.\\n')\n",
    "    except Exception as e:\n",
    "        logging.critical(f'Script failed on precs combination.\\n{e}\\n\\n\\n')\n",
    "        return False\n",
    "        \n",
    "    # CG with PreCorrector's prec\n",
    "    try:\n",
    "        iters_stats, time_stats, nan_flag = batched_cg_scipy(A_test, b_test, time_gnn_mean, 'random',\n",
    "                                                             key, P, config['cg_atol'],\n",
    "                                                             config['cg_maxiter'], thresholds=[1e-3, 1e-6, 1e-9, 1e-12])\n",
    "        logging.info('CG with GNN is finished:')\n",
    "        logging.info(f' iterations to atol([mean, std]): %s;', iters_stats)\n",
    "        logging.info(f' time to atol([mean, std]): %s;', time_stats)\n",
    "        logging.info(f' number of linsystems for which CG did not conerge to atol: %s.\\n', nan_flag)\n",
    "    except Exception as e:\n",
    "        logging.critical(f'Script failed on CG with GNN.\\n{e}\\n\\n\\n')\n",
    "        return False\n",
    "        \n",
    "    # CG with classical prec\n",
    "    try:\n",
    "        iters_stats_class, time_stats_class, nan_flag_class = batched_cg_scipy(A_test, b_test, class_time_mean_test, 'random',\n",
    "                                                                               key, P_class, config['cg_atol'],\n",
    "                                                                               config['cg_maxiter'], thresholds=[1e-3, 1e-6, 1e-9, 1e-12])\n",
    "        logging.info('CG with classical prec is finished:')\n",
    "        logging.info(f' iterations to atol([mean, std]): %s;', iters_stats_class)\n",
    "        logging.info(f' time to atol([mean, std]): %s;', time_stats_class)\n",
    "        logging.info(f' number of linsystems for which CG did not conerge to atol: %s.\\n', nan_flag_class)\n",
    "    except Exception as e:\n",
    "        logging.critical(f'Script failed on CG with classical prec.\\n{e}\\n\\n\\n')\n",
    "        return False\n",
    "        \n",
    "    logging.info(f'Script with model `{config[\"name\"]}` finished execution.\\n\\n\\n')\n",
    "    return model"
   ]
  },
  {
   "cell_type": "code",
   "execution_count": 15,
   "id": "a93ac9e7",
   "metadata": {},
   "outputs": [
    {
     "name": "stderr",
     "output_type": "stream",
     "text": [
      "2025-01-20 18:59:08.891856: W external/xla/xla/service/gpu/nvptx_compiler.cc:760] The NVIDIA driver's CUDA version is 12.4 which is older than the ptxas CUDA version (12.5.40). Because the driver is older than the ptxas version, XLA is disabling parallel compilation, which may slow down compilation. You should update your NVIDIA driver or use the NVIDIA-provided CUDA forward compatibility packages.\n",
      "[INFO | root | 2025-01-20 18:59:09] - %%%%%%%%%%%%%%%%%%%%%%%%%%%%%%%%%%%%%%%%%%%%%%%%%%%%%%%%%%%%%%%%%\n",
      "[INFO | root | 2025-01-20 18:59:09] - Script with model `EdgeMLP_StaticDiag` started execution.\n",
      "[INFO | root | 2025-01-20 18:59:09] - Config: {'path': '/mnt/local/data/vtrifonov/prec-learning-Notay-loss/', 'folder': 'results_cases/check_why_test_loss_lower', 'name': 'EdgeMLP_StaticDiag', 'model_use': 'train', 'save_model': False, 'cg_maxiter': 10, 'cg_atol': 1e-12, 'data_config': {'data_dir': '/mnt/local/data/vtrifonov/prec-learning-Notay-loss/', 'pde': 'div_k_grad', 'grid': 128, 'variance': 0.7, 'lhs_type': 'l_ic0', 'N_samples_train': 100, 'N_samples_test': 200, 'precision': 'f64', 'fill_factor': 1, 'threshold': 0.0001}, 'model_config': {'layer_type': 'Conv1d', 'alpha': 0.0, 'mlp': {'features': [1, 16, 1], 'N_layers': 2}}, 'train_config': {'loss_type': 'low_freq_loss', 'model_type': 'precorrector_rhs_ones', 'batch_size': 8, 'optimizer': <function adam at 0x7fc3fc8f29e0>, 'lr': 0.001, 'optim_params': {}, 'epoch_num': 201}, 'seed': 42}.\n",
      "\n",
      "[INFO | root | 2025-01-20 18:59:20] - Data is loaded in 1.092e+01 sec.\n",
      "\n",
      "[INFO | root | 2025-01-20 18:59:30] - Model is trained in 1.016e+01 sec.\n",
      "[INFO | root | 2025-01-20 18:59:30] - GNN's alpha = -0.1698.\n",
      "[INFO | root | 2025-01-20 18:59:30] - First and last losses: train = [1.400e+06, 2.097e+04], test = [1.762e+06, 2.895e+04].\n",
      "\n",
      "[INFO | root | 2025-01-20 18:59:40] - Precs are combined:\n",
      "[INFO | root | 2025-01-20 18:59:40] -  classical prec construction time (sec) : mean = 4.625e-04, std = 8.941e-06;\n",
      "[INFO | root | 2025-01-20 18:59:40] -  GNN prec construction time (sec) : mean = 5.332e-04, std = 5.987e-06.\n",
      "\n",
      "[WARNING | root | 2025-01-20 18:59:57] - /mnt/local/data/vtrifonov/prec-learning-Notay-loss/scipy_linsolve.py:37: RuntimeWarning: Mean of empty slice\n",
      "  np.round(np.nanmean(iter_time_per_res[:, j, 0]), 1),\n",
      "\n",
      "[WARNING | root | 2025-01-20 18:59:57] - /usr/local/lib/python3.10/dist-packages/numpy/lib/nanfunctions.py:1872: RuntimeWarning: Degrees of freedom <= 0 for slice.\n",
      "  var = nanvar(a, axis=axis, dtype=dtype, out=out, ddof=ddof,\n",
      "\n",
      "[WARNING | root | 2025-01-20 18:59:57] - /mnt/local/data/vtrifonov/prec-learning-Notay-loss/scipy_linsolve.py:41: RuntimeWarning: Mean of empty slice\n",
      "  np.round(np.nanmean(iter_time_per_res[:, j, 1]), 4),\n",
      "\n",
      "[INFO | root | 2025-01-20 18:59:57] - CG with GNN is finished:\n",
      "[INFO | root | 2025-01-20 18:59:57] -  iterations to atol([mean, std]): {0.001: [nan, nan], 1e-06: [nan, nan], 1e-09: [nan, nan], 1e-12: [nan, nan]};\n",
      "[INFO | root | 2025-01-20 18:59:57] -  time to atol([mean, std]): {0.001: [nan, nan], 1e-06: [nan, nan], 1e-09: [nan, nan], 1e-12: [nan, nan]};\n",
      "[INFO | root | 2025-01-20 18:59:57] -  number of linsystems for which CG did not conerge to atol: {0.001: 200, 1e-06: 200, 1e-09: 200, 1e-12: 200}.\n",
      "\n",
      "[INFO | root | 2025-01-20 19:00:12] - CG with classical prec is finished:\n",
      "[INFO | root | 2025-01-20 19:00:12] -  iterations to atol([mean, std]): {0.001: [nan, nan], 1e-06: [nan, nan], 1e-09: [nan, nan], 1e-12: [nan, nan]};\n",
      "[INFO | root | 2025-01-20 19:00:12] -  time to atol([mean, std]): {0.001: [nan, nan], 1e-06: [nan, nan], 1e-09: [nan, nan], 1e-12: [nan, nan]};\n",
      "[INFO | root | 2025-01-20 19:00:12] -  number of linsystems for which CG did not conerge to atol: {0.001: 200, 1e-06: 200, 1e-09: 200, 1e-12: 200}.\n",
      "\n",
      "[INFO | root | 2025-01-20 19:00:12] - Script with model `EdgeMLP_StaticDiag` finished execution.\n",
      "\n",
      "\n",
      "\n"
     ]
    }
   ],
   "source": [
    "for k, v in runs_dict.items():\n",
    "    model = run(base_config, k, v)"
   ]
  },
  {
   "cell_type": "code",
   "execution_count": 16,
   "id": "8da62d14",
   "metadata": {},
   "outputs": [
    {
     "data": {
      "text/plain": [
       "50"
      ]
     },
     "execution_count": 16,
     "metadata": {},
     "output_type": "execute_result"
    }
   ],
   "source": [
    "params_count(model)"
   ]
  },
  {
   "cell_type": "code",
   "execution_count": 17,
   "id": "4525d31d",
   "metadata": {},
   "outputs": [],
   "source": [
    "name = 'EdgeMLP_StaticDiag'"
   ]
  },
  {
   "cell_type": "code",
   "execution_count": 18,
   "id": "0e255382",
   "metadata": {},
   "outputs": [
    {
     "name": "stdout",
     "output_type": "stream",
     "text": [
      "28948.705\n"
     ]
    },
    {
     "data": {
      "image/png": "[encoded data removed]",
      "text/plain": [
       "<Figure size 640x480 with 1 Axes>"
      ]
     },
     "metadata": {},
     "output_type": "display_data"
    }
   ],
   "source": [
    "f = np.load(os.path.join(path, folder, name, 'losses_'+name+'.npz'))\n",
    "plt.plot(range(f['train_loss'][:100].shape[0]), f['train_loss'][:100], label='Train')\n",
    "plt.plot(range(f['test_loss'][:100].shape[0]), f['test_loss'][:100], label='Test')\n",
    "plt.yscale('log')\n",
    "plt.legend()\n",
    "\n",
    "print(f['test_loss'][-1])"
   ]
  },
  {
   "cell_type": "code",
   "execution_count": null,
   "id": "38d22411",
   "metadata": {},
   "outputs": [],
   "source": []
  }
 ],
 "metadata": {
  "kernelspec": {
   "display_name": "Python 3 (ipykernel)",
   "language": "python",
   "name": "python3"
  },
  "language_info": {
   "codemirror_mode": {
    "name": "ipython",
    "version": 3
   },
   "file_extension": ".py",
   "mimetype": "text/x-python",
   "name": "python",
   "nbconvert_exporter": "python",
   "pygments_lexer": "ipython3",
   "version": "3.10.6"
  }
 },
 "nbformat": 4,
 "nbformat_minor": 5
}
