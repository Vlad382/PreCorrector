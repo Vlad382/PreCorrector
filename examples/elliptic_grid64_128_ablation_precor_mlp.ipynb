{
 "cells": [
  {
   "cell_type": "code",
   "execution_count": null,
   "id": "77d76d0d",
   "metadata": {},
   "outputs": [],
   "source": [
    "import sys\n",
    "import os\n",
    "os.environ[\"CUDA_VISIBLE_DEVICES\"] = '3'\n",
    "os.environ['XLA_PYTHON_CLIENT_MEM_FRACTION'] = '.95'\n",
    "sys.path.append('/mnt/local/data/vtrifonov/prec-learning-Notay-loss/')"
   ]
  },
  {
   "cell_type": "code",
   "execution_count": 2,
   "id": "f1922bac",
   "metadata": {},
   "outputs": [],
   "source": [
    "from copy import deepcopy\n",
    "\n",
    "import optax\n",
    "import numpy as np\n",
    "from sklearn.model_selection import ParameterGrid\n",
    "\n",
    "from utils import grid_script\n",
    "from config import default_precorrector_mlp_config\n",
    "from experiments.script_gnn_prec import script_gnn_prec"
   ]
  },
  {
   "cell_type": "code",
   "execution_count": 3,
   "id": "dc7cf852",
   "metadata": {},
   "outputs": [],
   "source": [
    "seed = 42\n",
    "path = '/mnt/local/data/vtrifonov/prec-learning-Notay-loss/'\n",
    "folder = 'results_cases/22.01_elliptic_grid64_128_ablation_precor_mlp'"
   ]
  },
  {
   "cell_type": "code",
   "execution_count": 4,
   "id": "972d408c",
   "metadata": {},
   "outputs": [],
   "source": [
    "data_config = {\n",
    "    'data_dir': path,\n",
    "    'pde': np.nan,\n",
    "    'grid': np.nan,\n",
    "    'variance': np.nan,\n",
    "    'lhs_type': np.nan,\n",
    "    'N_samples_train': 1000,\n",
    "    'N_samples_test': 200,\n",
    "    'fill_factor': 1,\n",
    "    'threshold': 1e-4\n",
    "}\n",
    "\n",
    "train_config = {\n",
    "    'model_type': 'precorrector_mlp',\n",
    "    'loss_type': np.nan,\n",
    "    'batch_size': 8,\n",
    "    'optimizer': optax.adam,\n",
    "    'lr': 1e-3,\n",
    "    'optim_params': {},\n",
    "    'epoch_num': 500\n",
    "}\n",
    "\n",
    "base_config = {\n",
    "    'path': path,\n",
    "    'folder': folder,\n",
    "    'name': np.nan,\n",
    "    'model_use': np.nan,\n",
    "    'save_model': True,\n",
    "    'cg_maxiter': np.nan,\n",
    "    'cg_atol': np.nan,\n",
    "    'data_config': data_config,\n",
    "    'model_config': np.nan,\n",
    "    'train_config': train_config,\n",
    "    'seed': seed\n",
    "}"
   ]
  },
  {
   "cell_type": "markdown",
   "id": "9540324a",
   "metadata": {},
   "source": [
    "# Div-k-grad"
   ]
  },
  {
   "cell_type": "code",
   "execution_count": null,
   "id": "80d0f4d9",
   "metadata": {},
   "outputs": [
    {
     "name": "stdout",
     "output_type": "stream",
     "text": [
      "Started: 0\n"
     ]
    },
    {
     "name": "stderr",
     "output_type": "stream",
     "text": [
      "2025-01-22 11:17:52.768704: W external/xla/xla/service/gpu/nvptx_compiler.cc:760] The NVIDIA driver's CUDA version is 12.4 which is older than the ptxas CUDA version (12.5.40). Because the driver is older than the ptxas version, XLA is disabling parallel compilation, which may slow down compilation. You should update your NVIDIA driver or use the NVIDIA-provided CUDA forward compatibility packages.\n",
      "[INFO | root | 2025-01-22 11:17:53] - %%%%%%%%%%%%%%%%%%%%%%%%%%%%%%%%%%%%%%%%%%%%%%%%%%%%%%%%%%%%%%%%%\n",
      "[INFO | root | 2025-01-22 11:17:53] - [GNN precs] script `1c8jsi` started execution.\n",
      "[INFO | root | 2025-01-22 11:17:53] - Config: {'path': '/mnt/local/data/vtrifonov/prec-learning-Notay-loss/', 'folder': 'results_cases/22.01_elliptic_grid64_128_ablation_precor_mlp', 'name': '1c8jsi', 'model_use': 'train', 'save_model': True, 'cg_maxiter': 500, 'cg_atol': 1e-12, 'data_config': {'data_dir': '/mnt/local/data/vtrifonov/prec-learning-Notay-loss/', 'pde': 'div_k_grad', 'grid': 64, 'variance': 0.5, 'lhs_type': 'l_ic0', 'N_samples_train': 1000, 'N_samples_test': 200, 'fill_factor': 1, 'threshold': 0.0001}, 'model_config': {'layer_type': 'Conv1d', 'static_diag': False, 'alpha': 0.0, 'mlp': {'features': [1, 16, 1], 'N_layers': 2}}, 'train_config': {'model_type': 'precorrector_mlp', 'loss_type': 'low_freq_loss', 'batch_size': 8, 'optimizer': <function adam at 0x7f37ff0529e0>, 'lr': 0.001, 'optim_params': {}, 'epoch_num': 500}, 'seed': 42}.\n",
      "\n",
      "[INFO | root | 2025-01-22 11:18:12] - Data is loaded in 1.936e+01 sec.\n",
      "\n",
      "[INFO | root | 2025-01-22 11:18:34] - Model is trained in 2.211e+01 sec.\n",
      "[INFO | root | 2025-01-22 11:18:34] - PreCorrector's alpha = 0.2743.\n",
      "[INFO | root | 2025-01-22 11:18:34] - First and last losses: train = [2.281e+04, 9.772e+02], test = [4.627e+03, 9.915e+02].\n",
      "\n",
      "[INFO | root | 2025-01-22 11:18:38] - Precs are combined:\n",
      "[INFO | root | 2025-01-22 11:18:38] -  GNN prec construction time (sec) : mean = 2.058e-04, std = 4.635e-06.\n",
      "\n",
      "[INFO | root | 2025-01-22 11:19:20] - CG with GNN is finished:\n",
      "[INFO | root | 2025-01-22 11:19:20] -  iterations to atol([mean, std]): {0.001: [48.5, 2.43], 1e-06: [62.2, 2.86], 1e-09: [74.8, 3.31], 1e-12: [87.2, 3.69]};\n",
      "[INFO | root | 2025-01-22 11:19:20] -  time to atol([mean, std]): {0.001: [0.1101, 0.01034], 1e-06: [0.1408, 0.01267], 1e-09: [0.1692, 0.01504], 1e-12: [0.1967, 0.01733]};\n",
      "[INFO | root | 2025-01-22 11:19:20] -  number of linsystems for which CG did not conerge to atol: {0.001: 0, 1e-06: 0, 1e-09: 0, 1e-12: 0}.\n",
      "\n",
      "[INFO | root | 2025-01-22 11:19:20] - [GNN precs] script `1c8jsi` finished execution.\n",
      "\n",
      "\n",
      "\n",
      "[INFO | root | 2025-01-22 11:19:20] - %%%%%%%%%%%%%%%%%%%%%%%%%%%%%%%%%%%%%%%%%%%%%%%%%%%%%%%%%%%%%%%%%\n",
      "[INFO | root | 2025-01-22 11:19:20] - [GNN precs] script `0q8q92` started execution.\n",
      "[INFO | root | 2025-01-22 11:19:20] - Config: {'path': '/mnt/local/data/vtrifonov/prec-learning-Notay-loss/', 'folder': 'results_cases/22.01_elliptic_grid64_128_ablation_precor_mlp', 'name': '0q8q92', 'model_use': 'train', 'save_model': True, 'cg_maxiter': 500, 'cg_atol': 1e-12, 'data_config': {'data_dir': '/mnt/local/data/vtrifonov/prec-learning-Notay-loss/', 'pde': 'div_k_grad', 'grid': 64, 'variance': 0.7, 'lhs_type': 'l_ic0', 'N_samples_train': 1000, 'N_samples_test': 200, 'fill_factor': 1, 'threshold': 0.0001}, 'model_config': {'layer_type': 'Conv1d', 'static_diag': False, 'alpha': 0.0, 'mlp': {'features': [1, 16, 1], 'N_layers': 2}}, 'train_config': {'model_type': 'precorrector_mlp', 'loss_type': 'low_freq_loss', 'batch_size': 8, 'optimizer': <function adam at 0x7f37ff0529e0>, 'lr': 0.001, 'optim_params': {}, 'epoch_num': 500}, 'seed': 42}.\n",
      "\n"
     ]
    },
    {
     "name": "stdout",
     "output_type": "stream",
     "text": [
      "Started: 1\n"
     ]
    },
    {
     "name": "stderr",
     "output_type": "stream",
     "text": [
      "[INFO | root | 2025-01-22 11:19:38] - Data is loaded in 1.822e+01 sec.\n",
      "\n",
      "[INFO | root | 2025-01-22 11:19:58] - Model is trained in 2.023e+01 sec.\n",
      "[INFO | root | 2025-01-22 11:19:58] - PreCorrector's alpha = 0.2716.\n",
      "[INFO | root | 2025-01-22 11:19:58] - First and last losses: train = [4.427e+04, 1.195e+03], test = [7.965e+03, 1.108e+03].\n",
      "\n",
      "[INFO | root | 2025-01-22 11:20:00] - Precs are combined:\n",
      "[INFO | root | 2025-01-22 11:20:00] -  GNN prec construction time (sec) : mean = 2.267e-04, std = 4.510e-06.\n",
      "\n",
      "[INFO | root | 2025-01-22 11:20:48] - CG with GNN is finished:\n",
      "[INFO | root | 2025-01-22 11:20:48] -  iterations to atol([mean, std]): {0.001: [57.5, 3.47], 1e-06: [73.3, 4.16], 1e-09: [88.2, 4.82], 1e-12: [102.5, 5.56]};\n",
      "[INFO | root | 2025-01-22 11:20:48] -  time to atol([mean, std]): {0.001: [0.129, 0.00765], 1e-06: [0.164, 0.00915], 1e-09: [0.1969, 0.01061], 1e-12: [0.2286, 0.01221]};\n",
      "[INFO | root | 2025-01-22 11:20:48] -  number of linsystems for which CG did not conerge to atol: {0.001: 0, 1e-06: 0, 1e-09: 0, 1e-12: 0}.\n",
      "\n",
      "[INFO | root | 2025-01-22 11:20:48] - [GNN precs] script `0q8q92` finished execution.\n",
      "\n",
      "\n",
      "\n",
      "[INFO | root | 2025-01-22 11:20:48] - %%%%%%%%%%%%%%%%%%%%%%%%%%%%%%%%%%%%%%%%%%%%%%%%%%%%%%%%%%%%%%%%%\n",
      "[INFO | root | 2025-01-22 11:20:48] - [GNN precs] script `agodz6` started execution.\n",
      "[INFO | root | 2025-01-22 11:20:48] - Config: {'path': '/mnt/local/data/vtrifonov/prec-learning-Notay-loss/', 'folder': 'results_cases/22.01_elliptic_grid64_128_ablation_precor_mlp', 'name': 'agodz6', 'model_use': 'train', 'save_model': True, 'cg_maxiter': 500, 'cg_atol': 1e-12, 'data_config': {'data_dir': '/mnt/local/data/vtrifonov/prec-learning-Notay-loss/', 'pde': 'div_k_grad', 'grid': 64, 'variance': 1.1, 'lhs_type': 'l_ic0', 'N_samples_train': 1000, 'N_samples_test': 200, 'fill_factor': 1, 'threshold': 0.0001}, 'model_config': {'layer_type': 'Conv1d', 'static_diag': False, 'alpha': 0.0, 'mlp': {'features': [1, 16, 1], 'N_layers': 2}}, 'train_config': {'model_type': 'precorrector_mlp', 'loss_type': 'low_freq_loss', 'batch_size': 8, 'optimizer': <function adam at 0x7f37ff0529e0>, 'lr': 0.001, 'optim_params': {}, 'epoch_num': 500}, 'seed': 42}.\n",
      "\n"
     ]
    },
    {
     "name": "stdout",
     "output_type": "stream",
     "text": [
      "Started: 2\n"
     ]
    },
    {
     "name": "stderr",
     "output_type": "stream",
     "text": [
      "[INFO | root | 2025-01-22 11:21:04] - Data is loaded in 1.570e+01 sec.\n",
      "\n",
      "[INFO | root | 2025-01-22 11:21:23] - Model is trained in 1.927e+01 sec.\n",
      "[INFO | root | 2025-01-22 11:21:23] - PreCorrector's alpha = 0.2601.\n",
      "[INFO | root | 2025-01-22 11:21:23] - First and last losses: train = [6.802e+04, 1.457e+03], test = [3.211e+04, 1.498e+03].\n",
      "\n",
      "[INFO | root | 2025-01-22 11:21:25] - Precs are combined:\n",
      "[INFO | root | 2025-01-22 11:21:25] -  GNN prec construction time (sec) : mean = 2.163e-04, std = 4.864e-06.\n",
      "\n",
      "[INFO | root | 2025-01-22 11:22:25] - CG with GNN is finished:\n",
      "[INFO | root | 2025-01-22 11:22:25] -  iterations to atol([mean, std]): {0.001: [73.2, 7.51], 1e-06: [92.9, 9.25], 1e-09: [111.4, 10.79], 1e-12: [129.1, 12.05]};\n",
      "[INFO | root | 2025-01-22 11:22:25] -  time to atol([mean, std]): {0.001: [0.1654, 0.01766], 1e-06: [0.2093, 0.02157], 1e-09: [0.2506, 0.02534], 1e-12: [0.2901, 0.02838]};\n",
      "[INFO | root | 2025-01-22 11:22:25] -  number of linsystems for which CG did not conerge to atol: {0.001: 0, 1e-06: 0, 1e-09: 0, 1e-12: 0}.\n",
      "\n",
      "[INFO | root | 2025-01-22 11:22:25] - [GNN precs] script `agodz6` finished execution.\n",
      "\n",
      "\n",
      "\n",
      "[INFO | root | 2025-01-22 11:22:25] - %%%%%%%%%%%%%%%%%%%%%%%%%%%%%%%%%%%%%%%%%%%%%%%%%%%%%%%%%%%%%%%%%\n",
      "[INFO | root | 2025-01-22 11:22:25] - [GNN precs] script `a0gbfq` started execution.\n",
      "[INFO | root | 2025-01-22 11:22:25] - Config: {'path': '/mnt/local/data/vtrifonov/prec-learning-Notay-loss/', 'folder': 'results_cases/22.01_elliptic_grid64_128_ablation_precor_mlp', 'name': 'a0gbfq', 'model_use': 'train', 'save_model': True, 'cg_maxiter': 500, 'cg_atol': 1e-12, 'data_config': {'data_dir': '/mnt/local/data/vtrifonov/prec-learning-Notay-loss/', 'pde': 'div_k_grad', 'grid': 64, 'variance': 0.5, 'lhs_type': 'l_ic0', 'N_samples_train': 1000, 'N_samples_test': 200, 'fill_factor': 1, 'threshold': 0.0001}, 'model_config': {'layer_type': 'Conv1d', 'static_diag': False, 'alpha': 0.0, 'mlp': {'features': [1, 16, 1], 'N_layers': 2}}, 'train_config': {'model_type': 'precorrector_mlp', 'loss_type': 'high_freq_loss', 'batch_size': 8, 'optimizer': <function adam at 0x7f37ff0529e0>, 'lr': 0.001, 'optim_params': {}, 'epoch_num': 500}, 'seed': 42}.\n",
      "\n"
     ]
    },
    {
     "name": "stdout",
     "output_type": "stream",
     "text": [
      "Started: 3\n"
     ]
    },
    {
     "name": "stderr",
     "output_type": "stream",
     "text": [
      "[INFO | root | 2025-01-22 11:22:41] - Data is loaded in 1.552e+01 sec.\n",
      "\n",
      "[INFO | root | 2025-01-22 11:23:03] - Model is trained in 2.163e+01 sec.\n",
      "[INFO | root | 2025-01-22 11:23:03] - PreCorrector's alpha = -0.0550.\n",
      "[INFO | root | 2025-01-22 11:23:03] - First and last losses: train = [2.798e+10, 2.631e+10], test = [2.735e+10, 2.635e+10].\n",
      "\n",
      "[INFO | root | 2025-01-22 11:23:05] - Precs are combined:\n",
      "[INFO | root | 2025-01-22 11:23:05] -  GNN prec construction time (sec) : mean = 2.103e-04, std = 4.844e-06.\n",
      "\n"
     ]
    }
   ],
   "source": [
    "# Not static diag in PreCorrectorMLP\n",
    "base_config['model_config'] = default_precorrector_mlp_config\n",
    "\n",
    "params_grid = ParameterGrid({\n",
    "    'model_use': ['train'],\n",
    "    'cg_maxiter': [500],\n",
    "    'cg_atol': [1e-12],\n",
    "    'model_type': ['precorrector_mlp'],\n",
    "    'loss_type': ['low_freq_loss', 'high_freq_loss'],\n",
    "    'batch_size': [8],\n",
    "    'lr': [1e-3],\n",
    "    'epoch_num': [500],\n",
    "    'pde': ['div_k_grad'],\n",
    "    'grid': [64, 128],\n",
    "    'variance': [.5, .7, 1.1],\n",
    "    'lhs_type': ['l_ic0', 'l_ict'],\n",
    "    'fill_factor': [1],\n",
    "    'threshold': [1e-4]\n",
    "})\n",
    "\n",
    "grid_script(script_gnn_prec, base_config, params_grid)"
   ]
  },
  {
   "cell_type": "code",
   "execution_count": null,
   "id": "592b54ae",
   "metadata": {},
   "outputs": [],
   "source": [
    "# Static diag in PreCorrectorMLP\n",
    "notstatic_precorrector_mlp_config = deepcopy(default_precorrector_mlp_config)\n",
    "notstatic_precorrector_mlp_config['static_diag'] = True\n",
    "base_config['model_config'] = notstatic_precorrector_mlp_config\n",
    "\n",
    "params_grid = ParameterGrid({\n",
    "    'model_use': ['train'],\n",
    "    'cg_maxiter': [500],\n",
    "    'cg_atol': [1e-12],\n",
    "    'model_type': ['precorrector_mlp'],\n",
    "    'loss_type': ['low_freq_loss', 'high_freq_loss'],\n",
    "    'batch_size': [8],\n",
    "    'lr': [1e-3],\n",
    "    'epoch_num': [500],\n",
    "    'pde': ['div_k_grad'],\n",
    "    'grid': [64, 128],\n",
    "    'variance': [.5, .7, 1.1],\n",
    "    'lhs_type': ['l_ic0', 'l_ict'],\n",
    "    'fill_factor': [1],\n",
    "    'threshold': [1e-4]\n",
    "})\n",
    "\n",
    "grid_script(script_gnn_prec, base_config, params_grid)"
   ]
  },
  {
   "cell_type": "markdown",
   "id": "f695f1ca",
   "metadata": {},
   "source": [
    "# Poisson"
   ]
  },
  {
   "cell_type": "code",
   "execution_count": null,
   "id": "edb5b782",
   "metadata": {},
   "outputs": [],
   "source": [
    "# Not static diag in PreCorrectorMLP\n",
    "base_config['model_config'] = default_precorrector_mlp_config\n",
    "\n",
    "params_grid = ParameterGrid({\n",
    "    'model_use': ['train'],\n",
    "    'cg_maxiter': [500],\n",
    "    'cg_atol': [1e-12],\n",
    "    'model_type': ['precorrector_mlp'],\n",
    "    'loss_type': ['low_freq_loss', 'high_freq_loss'],\n",
    "    'batch_size': [8],\n",
    "    'lr': [1e-3],\n",
    "    'epoch_num': [500],\n",
    "    'pde': ['poisson'],\n",
    "    'grid': [64, 128],\n",
    "    'variance': [.5],\n",
    "    'lhs_type': ['l_ic0', 'l_ict'],\n",
    "    'fill_factor': [1],\n",
    "    'threshold': [1e-4]\n",
    "})\n",
    "\n",
    "grid_script(script_gnn_prec, base_config, params_grid)"
   ]
  },
  {
   "cell_type": "code",
   "execution_count": null,
   "id": "fa7ad62a",
   "metadata": {},
   "outputs": [],
   "source": [
    "# Static diag in PreCorrectorMLP\n",
    "notstatic_precorrector_mlp_config = deepcopy(default_precorrector_mlp_config)\n",
    "notstatic_precorrector_mlp_config['static_diag'] = True\n",
    "base_config['model_config'] = notstatic_precorrector_mlp_config\n",
    "\n",
    "params_grid = ParameterGrid({\n",
    "    'model_use': ['train'],\n",
    "    'cg_maxiter': [500],\n",
    "    'cg_atol': [1e-12],\n",
    "    'model_type': ['precorrector_mlp'],\n",
    "    'loss_type': ['low_freq_loss', 'high_freq_loss'],\n",
    "    'batch_size': [8],\n",
    "    'lr': [1e-3],\n",
    "    'epoch_num': [500],\n",
    "    'pde': ['poisson'],\n",
    "    'grid': [64, 128],\n",
    "    'variance': [.5],\n",
    "    'lhs_type': ['l_ic0', 'l_ict'],\n",
    "    'fill_factor': [1],\n",
    "    'threshold': [1e-4]\n",
    "})\n",
    "\n",
    "grid_script(script_gnn_prec, base_config, params_grid)"
   ]
  },
  {
   "cell_type": "code",
   "execution_count": null,
   "id": "0b164a0b",
   "metadata": {},
   "outputs": [],
   "source": [
    "# exit()"
   ]
  }
 ],
 "metadata": {
  "kernelspec": {
   "display_name": "Python 3 (ipykernel)",
   "language": "python",
   "name": "python3"
  },
  "language_info": {
   "codemirror_mode": {
    "name": "ipython",
    "version": 3
   },
   "file_extension": ".py",
   "mimetype": "text/x-python",
   "name": "python",
   "nbconvert_exporter": "python",
   "pygments_lexer": "ipython3",
   "version": "3.10.6"
  }
 },
 "nbformat": 4,
 "nbformat_minor": 5
}
