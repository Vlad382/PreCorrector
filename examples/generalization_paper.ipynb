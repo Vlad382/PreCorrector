{
 "cells": [
  {
   "cell_type": "code",
   "execution_count": 2,
   "id": "4ef771ac",
   "metadata": {},
   "outputs": [],
   "source": [
    "import sys\n",
    "import os\n",
    "os.environ[\"CUDA_VISIBLE_DEVICES\"] = '3'\n",
    "os.environ['XLA_PYTHON_CLIENT_MEM_FRACTION'] = '.95'\n",
    "sys.path.append('/mnt/local/data/vtrifonov/prec-learning-Notay-loss/')"
   ]
  },
  {
   "cell_type": "code",
   "execution_count": 3,
   "id": "99adb477",
   "metadata": {},
   "outputs": [],
   "source": [
    "from copy import deepcopy\n",
    "\n",
    "import optax\n",
    "import numpy as np\n",
    "from sklearn.model_selection import ParameterGrid\n",
    "\n",
    "from utils import grid_script\n",
    "from config import default_precorrector_gnn_config\n",
    "from experiments.script_gnn_prec import script_gnn_prec"
   ]
  },
  {
   "cell_type": "code",
   "execution_count": 4,
   "id": "5b9fb135",
   "metadata": {},
   "outputs": [],
   "source": [
    "import os\n",
    "import getpass\n",
    "import logging\n",
    "import traceback\n",
    "from time import perf_counter\n",
    "\n",
    "import pandas as pd\n",
    "from jax import random, vmap, numpy as jnp\n",
    "\n",
    "from data.dataset import load_dataset\n",
    "from data.graph_utils import spmatrix_to_graph\n",
    "from train import construction_time_with_gnn, train_inference_finetune\n",
    "from scipy_linsolve import make_Chol_prec_from_bcoo, batched_cg_scipy, single_lhs_cg\n",
    "from architecture.neural_preconditioner_design import PreCorrectorGNN, NaiveGNN, PreCorrectorMLP, PreCorrectorMLP_StaticDiag, PreCorrectorMultiblockGNN"
   ]
  },
  {
   "cell_type": "code",
   "execution_count": 5,
   "id": "41154cc1",
   "metadata": {},
   "outputs": [],
   "source": [
    "# This notebook is intentionally hardcoded to the\n",
    "# generalization experiment presented in the manuscript"
   ]
  },
  {
   "cell_type": "code",
   "execution_count": 6,
   "id": "b21df34f",
   "metadata": {},
   "outputs": [],
   "source": [
    "seed = 42\n",
    "path = '/mnt/local/data/vtrifonov/prec-learning-Notay-loss/'\n",
    "folder_model = 'results_cases/29.01_final_elliptic_grid_precor_gnn'\n",
    "folder_log = 'results_cases/30.01_generalization_precor_gnn'\n",
    "name = '009nt9'"
   ]
  },
  {
   "cell_type": "code",
   "execution_count": 7,
   "id": "ccc745e6",
   "metadata": {},
   "outputs": [],
   "source": [
    "data_config = {\n",
    "    'data_dir': path,\n",
    "    'pde': 'div_k_grad',\n",
    "    'grid': 128,\n",
    "    'variance': .7,\n",
    "    'lhs_type': 'l_ic0',\n",
    "    'N_samples_train': np.nan,\n",
    "    'N_samples_test': 200,\n",
    "    'fill_factor': np.nan,\n",
    "    'threshold': np.nan\n",
    "}\n",
    "\n",
    "train_config = {\n",
    "    'model_type': 'precorrector_gnn',\n",
    "    'loss_type': np.nan,\n",
    "    'batch_size': np.nan,\n",
    "    'optimizer': np.nan,\n",
    "    'lr': np.nan,\n",
    "    'optim_params': np.nan,\n",
    "    'epoch_num': np.nan\n",
    "}\n",
    "\n",
    "config = {\n",
    "    'path': path,\n",
    "    'folder_model': folder_model,\n",
    "    'folder_log': folder_log,\n",
    "    'name': name,\n",
    "    'model_use': 'inference',\n",
    "    'save_model': False,\n",
    "    'cg_maxiter': 700,\n",
    "    'cg_atol': 1e-12,\n",
    "    'data_config': data_config,\n",
    "    'model_config': np.nan,\n",
    "    'train_config': train_config,\n",
    "    'seed': seed\n",
    "}"
   ]
  },
  {
   "cell_type": "code",
   "execution_count": 8,
   "id": "690eb9b7",
   "metadata": {},
   "outputs": [],
   "source": [
    "model_config = deepcopy(default_precorrector_gnn_config)\n",
    "model_config['static_diag'] = False\n",
    "model_config['mp']['aggregate_edges'] = 'max'\n",
    "config['model_config'] = model_config"
   ]
  },
  {
   "cell_type": "code",
   "execution_count": 9,
   "id": "89ed43ec",
   "metadata": {},
   "outputs": [
    {
     "name": "stderr",
     "output_type": "stream",
     "text": [
      "2025-01-30 21:51:03.884076: W external/xla/xla/service/gpu/nvptx_compiler.cc:760] The NVIDIA driver's CUDA version is 12.4 which is older than the ptxas CUDA version (12.5.40). Because the driver is older than the ptxas version, XLA is disabling parallel compilation, which may slow down compilation. You should update your NVIDIA driver or use the NVIDIA-provided CUDA forward compatibility packages.\n"
     ]
    }
   ],
   "source": [
    "key = random.PRNGKey(config['seed'])\n",
    "\n",
    "base_dir = os.path.join(config['path'], config['folder_model'], config['name'])\n",
    "log_dir = os.path.join(config['path'], config['folder_log'], config['name'])\n",
    "        \n",
    "model_file = os.path.join(base_dir, config['name']+'.eqx')\n",
    "log_file = os.path.join(log_dir, config['name']+'.log')\n",
    "loss_file = os.path.join(log_dir, 'losses_'+config['name']+'.npz')"
   ]
  },
  {
   "cell_type": "code",
   "execution_count": 9,
   "id": "c6853a5a",
   "metadata": {},
   "outputs": [],
   "source": [
    "iters_dict = {\n",
    "    64: {\n",
    "        0.5: -42,\n",
    "        0.7: -42,\n",
    "        1.1: -42\n",
    "    },\n",
    "    128: {\n",
    "        0.5: -42,\n",
    "        1.1: -42\n",
    "    },\n",
    "    256: {\n",
    "        0.5: -42,\n",
    "        0.7: -42,\n",
    "        1.1: -42\n",
    "    },\n",
    "}\n",
    "\n",
    "model, _, _ = train_inference_finetune(key, None, model_config, train_config, model_path=model_file,\n",
    "                                       model_use=config['model_use'], save_model=config['save_model'])\n",
    "\n",
    "for grid in iters_dict.keys():\n",
    "    for var in iters_dict[grid].keys():\n",
    "        \n",
    "        data_config['grid'] = grid\n",
    "        data_config['variance'] = var\n",
    "        \n",
    "        test_set = load_dataset(data_config, return_train=False)\n",
    "        A_test, A_pad_test, b_test, bi_edges_test, x_test, class_time_mean_test, class_time_std_test = test_set\n",
    "        \n",
    "        L = vmap(model, in_axes=(0), out_axes=(0))(spmatrix_to_graph(A_pad_test, b_test))\n",
    "        P = make_Chol_prec_from_bcoo(L)\n",
    "        \n",
    "        cg_func = single_lhs_cg(batched_cg_scipy, single_lhs=True if A_test.shape[0] == 1 else False)\n",
    "        iters_stats, _, nan_flag = cg_func(A=A_test, b=b_test, pre_time=0, x0='random',\n",
    "                                                    key=key, P=P, atol=config['cg_atol'],\n",
    "                                                    maxiter=config['cg_maxiter'], thresholds=[1e-3, 1e-6, 1e-9, 1e-12])\n",
    "        \n",
    "        iters_dict[grid][var] = [iters_stats, nan_flag]"
   ]
  },
  {
   "cell_type": "code",
   "execution_count": 10,
   "id": "8456cde7",
   "metadata": {},
   "outputs": [
    {
     "data": {
      "text/plain": [
       "5"
      ]
     },
     "execution_count": 10,
     "metadata": {},
     "output_type": "execute_result"
    }
   ],
   "source": [
    "2+3"
   ]
  },
  {
   "cell_type": "code",
   "execution_count": 12,
   "id": "e290efa0",
   "metadata": {},
   "outputs": [
    {
     "data": {
      "text/plain": [
       "{64: {0.5: [{0.001: [48.1, 1.71],\n",
       "    1e-06: [62.5, 2.12],\n",
       "    1e-09: [76.7, 2.62],\n",
       "    1e-12: [90.7, 3.07]},\n",
       "   {0.001: 0, 1e-06: 0, 1e-09: 0, 1e-12: 0}],\n",
       "  0.7: [{0.001: [52.3, 2.17],\n",
       "    1e-06: [67.6, 2.83],\n",
       "    1e-09: [82.6, 3.4],\n",
       "    1e-12: [97.3, 4.03]},\n",
       "   {0.001: 0, 1e-06: 0, 1e-09: 0, 1e-12: 0}],\n",
       "  1.1: [{0.001: [59.9, 3.31],\n",
       "    1e-06: [76.8, 3.95],\n",
       "    1e-09: [93.1, 4.65],\n",
       "    1e-12: [108.8, 5.4]},\n",
       "   {0.001: 0, 1e-06: 0, 1e-09: 0, 1e-12: 0}]},\n",
       " 128: {0.5: [{0.001: [68.0, 2.93],\n",
       "    1e-06: [85.9, 3.49],\n",
       "    1e-09: [102.7, 4.02],\n",
       "    1e-12: [119.1, 4.57]},\n",
       "   {0.001: 0, 1e-06: 0, 1e-09: 0, 1e-12: 0}],\n",
       "  1.1: [{0.001: [91.6, 6.23],\n",
       "    1e-06: [114.8, 7.78],\n",
       "    1e-09: [136.2, 8.8],\n",
       "    1e-12: [156.3, 9.75]},\n",
       "   {0.001: 0, 1e-06: 0, 1e-09: 0, 1e-12: 0}]},\n",
       " 256: {0.5: [{0.001: [117.1, 6.08],\n",
       "    1e-06: [145.3, 7.21],\n",
       "    1e-09: [170.5, 8.21],\n",
       "    1e-12: [193.7, 9.18]},\n",
       "   {0.001: 0, 1e-06: 0, 1e-09: 0, 1e-12: 0}],\n",
       "  0.7: [{0.001: [139.9, 11.15],\n",
       "    1e-06: [173.6, 13.51],\n",
       "    1e-09: [203.3, 15.63],\n",
       "    1e-12: [230.6, 17.51]},\n",
       "   {0.001: 0, 1e-06: 0, 1e-09: 0, 1e-12: 0}],\n",
       "  1.1: [{0.001: [169.5, 15.71],\n",
       "    1e-06: [210.1, 19.27],\n",
       "    1e-09: [245.9, 22.29],\n",
       "    1e-12: [278.4, 24.7]},\n",
       "   {0.001: 0, 1e-06: 0, 1e-09: 0, 1e-12: 0}]}}"
      ]
     },
     "execution_count": 12,
     "metadata": {},
     "output_type": "execute_result"
    }
   ],
   "source": [
    "iters_dict"
   ]
  },
  {
   "cell_type": "code",
   "execution_count": 11,
   "id": "c586705d",
   "metadata": {},
   "outputs": [],
   "source": [
    "grid_ls = [32, 64, 128, 256]"
   ]
  },
  {
   "cell_type": "code",
   "execution_count": 14,
   "id": "0df3173d",
   "metadata": {},
   "outputs": [
    {
     "name": "stdout",
     "output_type": "stream",
     "text": [
      "grid = 32\n",
      " A\n",
      "  shape (1024, 1024) nnz 0.47607421875\n",
      " IC(0)\n",
      "  shape (1024, 1024) nnz 0.286865234375\n",
      " ICt(1)\n",
      "  shape (1024, 1024) nnz 0.37860870361328125\n",
      " ICt(5)\n",
      "  shape (1024, 1024) nnz 0.7584571838378906\n",
      "\n",
      "grid = 64\n",
      " A\n",
      "  shape (4096, 4096) nnz 0.12054443359375\n",
      " IC(0)\n",
      "  shape (4096, 4096) nnz 0.072479248046875\n",
      " ICt(1)\n",
      "  shape (4096, 4096) nnz 0.09613633155822754\n",
      " ICt(5)\n",
      "  shape (4096, 4096) nnz 0.19243359565734863\n",
      "\n",
      "grid = 128\n",
      " A\n",
      "  shape (16384, 16384) nnz 0.03032684326171875\n",
      " IC(0)\n",
      "  shape (16384, 16384) nnz 0.018215179443359375\n",
      " ICt(1)\n",
      "  shape (16384, 16384) nnz 0.024223700165748596\n",
      " ICt(5)\n",
      "  shape (16384, 16384) nnz 0.048476457595825195\n",
      "\n",
      "grid = 256\n",
      " A\n",
      "  shape (65536, 65536) nnz 0.007605552673339844\n",
      " IC(0)\n",
      "  shape (65536, 65536) nnz 0.004565715789794922\n",
      " ICt(1)\n",
      "  shape (65536, 65536) nnz 0.006079697050154209\n",
      " ICt(5)\n",
      "  shape (65536, 65536) nnz 0.012163445353507996\n",
      "\n"
     ]
    }
   ],
   "source": [
    "for grid in grid_ls:\n",
    "    print('grid =', grid)\n",
    "    data_config['grid'] = grid\n",
    "    data_config['variance'] = .5\n",
    "\n",
    "    \n",
    "    data_config['lhs_type'] = 'l_ic0'\n",
    "    test_set = load_dataset(data_config, return_train=False)\n",
    "    A_test, A_pad_test, b_test, bi_edges_test, x_test, class_time_mean_test, class_time_std_test = test_set\n",
    "\n",
    "    print(' A')\n",
    "    print('  shape', A_test[0, ...].shape, 'nnz', A_test[0, ...].nse*100/(A_test[0, ...].shape[0]**2))\n",
    "    \n",
    "    print(' IC(0)')\n",
    "    print('  shape', A_pad_test[0, ...].shape, 'nnz', A_pad_test[0, ...].nse*100/(A_pad_test[0, ...].shape[0]**2))\n",
    "    \n",
    "    data_config['lhs_type'] = 'l_ict'\n",
    "    data_config['threshold'] = 1e-4\n",
    "    data_config['fill_factor'] = 1\n",
    "    test_set = load_dataset(data_config, return_train=False)\n",
    "    A_test, A_pad_test, b_test, bi_edges_test, x_test, class_time_mean_test, class_time_std_test = test_set\n",
    "    \n",
    "    print(' ICt(1)')\n",
    "    print('  shape', A_pad_test[0, ...].shape, 'nnz', A_pad_test[0, ...].nse*100/(A_pad_test[0, ...].shape[0]**2))\n",
    "    \n",
    "    data_config['lhs_type'] = 'l_ict'\n",
    "    data_config['threshold'] = 1e-4\n",
    "    data_config['fill_factor'] = 5\n",
    "    test_set = load_dataset(data_config, return_train=False)\n",
    "    A_test, A_pad_test, b_test, bi_edges_test, x_test, class_time_mean_test, class_time_std_test = test_set\n",
    "    \n",
    "    print(' ICt(5)')\n",
    "    print('  shape', A_pad_test[0, ...].shape, 'nnz', A_pad_test[0, ...].nse*100/(A_pad_test[0, ...].shape[0]**2))\n",
    "    print()"
   ]
  },
  {
   "cell_type": "code",
   "execution_count": null,
   "id": "38cd3f3b",
   "metadata": {},
   "outputs": [],
   "source": []
  }
 ],
 "metadata": {
  "kernelspec": {
   "display_name": "Python 3 (ipykernel)",
   "language": "python",
   "name": "python3"
  },
  "language_info": {
   "codemirror_mode": {
    "name": "ipython",
    "version": 3
   },
   "file_extension": ".py",
   "mimetype": "text/x-python",
   "name": "python",
   "nbconvert_exporter": "python",
   "pygments_lexer": "ipython3",
   "version": "3.10.6"
  }
 },
 "nbformat": 4,
 "nbformat_minor": 5
}
