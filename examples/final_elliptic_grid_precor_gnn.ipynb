{
 "cells": [
  {
   "cell_type": "code",
   "execution_count": null,
   "id": "d393730d",
   "metadata": {},
   "outputs": [],
   "source": [
    "import sys\n",
    "import os\n",
    "os.environ[\"CUDA_VISIBLE_DEVICES\"] = '2'\n",
    "os.environ['XLA_PYTHON_CLIENT_MEM_FRACTION'] = '.95'\n",
    "sys.path.append('/mnt/local/data/vtrifonov/prec-learning-Notay-loss/')"
   ]
  },
  {
   "cell_type": "code",
   "execution_count": 2,
   "id": "0e80445e",
   "metadata": {},
   "outputs": [],
   "source": [
    "from copy import deepcopy\n",
    "\n",
    "import optax\n",
    "import numpy as np\n",
    "from sklearn.model_selection import ParameterGrid\n",
    "\n",
    "from utils import grid_script\n",
    "from config import default_precorrector_gnn_config\n",
    "from experiments.script_gnn_prec import script_gnn_prec"
   ]
  },
  {
   "cell_type": "code",
   "execution_count": 3,
   "id": "60661420",
   "metadata": {},
   "outputs": [],
   "source": [
    "seed = 42\n",
    "path = '/mnt/local/data/vtrifonov/prec-learning-Notay-loss/'\n",
    "folder = 'results_cases/29.01_final_elliptic_grid_precor_gnn'"
   ]
  },
  {
   "cell_type": "code",
   "execution_count": 4,
   "id": "b045866d",
   "metadata": {},
   "outputs": [],
   "source": [
    "data_config = {\n",
    "    'data_dir': path,\n",
    "    'pde': np.nan,\n",
    "    'grid': np.nan,\n",
    "    'variance': np.nan,\n",
    "    'lhs_type': np.nan,\n",
    "    'N_samples_train': 1000,\n",
    "    'N_samples_test': 200,\n",
    "    'fill_factor': 1,\n",
    "    'threshold': 1e-4\n",
    "}\n",
    "\n",
    "train_config = {\n",
    "    'model_type': 'precorrector_gnn',\n",
    "    'loss_type': np.nan,\n",
    "    'batch_size': 8,\n",
    "    'optimizer': optax.adam,\n",
    "    'lr': 1e-3,\n",
    "    'optim_params': {},\n",
    "    'epoch_num': 500\n",
    "}\n",
    "\n",
    "base_config = {\n",
    "    'path': path,\n",
    "    'folder_model': folder,\n",
    "    'folder_log': folder,\n",
    "    'name': np.nan,\n",
    "    'model_use': np.nan,\n",
    "    'save_model': True,\n",
    "    'cg_maxiter': np.nan,\n",
    "    'cg_atol': np.nan,\n",
    "    'data_config': data_config,\n",
    "    'model_config': np.nan,\n",
    "    'train_config': train_config,\n",
    "    'seed': seed\n",
    "}"
   ]
  },
  {
   "cell_type": "markdown",
   "id": "70afac1d",
   "metadata": {},
   "source": [
    "# Div-k-grad, 64x64 and 128x128"
   ]
  },
  {
   "cell_type": "code",
   "execution_count": null,
   "id": "41424b6a",
   "metadata": {
    "collapsed": true,
    "jupyter": {
     "outputs_hidden": true
    }
   },
   "outputs": [
    {
     "name": "stdout",
     "output_type": "stream",
     "text": [
      "Started: 0\n"
     ]
    },
    {
     "name": "stderr",
     "output_type": "stream",
     "text": [
      "2025-01-29 09:08:11.400331: W external/xla/xla/service/gpu/nvptx_compiler.cc:760] The NVIDIA driver's CUDA version is 12.4 which is older than the ptxas CUDA version (12.5.40). Because the driver is older than the ptxas version, XLA is disabling parallel compilation, which may slow down compilation. You should update your NVIDIA driver or use the NVIDIA-provided CUDA forward compatibility packages.\n",
      "[INFO | root | 2025-01-29 09:08:11] - %%%%%%%%%%%%%%%%%%%%%%%%%%%%%%%%%%%%%%%%%%%%%%%%%%%%%%%%%%%%%%%%%\n",
      "[INFO | root | 2025-01-29 09:08:11] - [GNN precs] script `1qk66l` started execution.\n",
      "[INFO | root | 2025-01-29 09:08:11] - Config: {'path': '/mnt/local/data/vtrifonov/prec-learning-Notay-loss/', 'folder_model': 'results_cases/29.01_final_elliptic_grid_precor_gnn', 'folder_log': 'results_cases/29.01_final_elliptic_grid_precor_gnn', 'name': '1qk66l', 'model_use': 'train', 'save_model': True, 'cg_maxiter': 500, 'cg_atol': 1e-12, 'data_config': {'data_dir': '/mnt/local/data/vtrifonov/prec-learning-Notay-loss/', 'pde': 'div_k_grad', 'grid': 64, 'variance': 0.5, 'lhs_type': 'l_ic0', 'N_samples_train': 1000, 'N_samples_test': 200, 'fill_factor': 1, 'threshold': 0.0001}, 'model_config': {'layer_type': 'Conv1d', 'use_nodes': False, 'node_upd_mlp': False, 'static_diag': False, 'alpha': 0.0, 'edge_enc': {'features': [1, 16, 16], 'N_layers': 2}, 'edge_dec': {'features': [16, 16, 1], 'N_layers': 2}, 'mp': {'edge_upd': {'features': [18, 16, 16], 'N_layers': 2}, 'node_upd': {'features': [17, 1, 1], 'N_layers': 2}, 'mp_rounds': 5, 'aggregate_edges': 'max'}}, 'train_config': {'model_type': 'precorrector_gnn', 'loss_type': 'low_freq_loss', 'batch_size': 8, 'optimizer': <function adam at 0x7f36760269e0>, 'lr': 0.001, 'optim_params': {}, 'epoch_num': 500}, 'seed': 42}.\n",
      "\n",
      "[INFO | root | 2025-01-29 09:08:31] - Data is loaded in 1.985e+01 sec.\n",
      "\n",
      "[INFO | root | 2025-01-29 09:12:52] - Model is trained in 2.609e+02 sec.\n",
      "[INFO | root | 2025-01-29 09:12:52] - PreCorrector's alpha = 0.0796.\n",
      "[INFO | root | 2025-01-29 09:12:52] - First and last losses: train = [1.859e+04, 4.401e+02], test = [5.832e+03, 4.441e+02].\n",
      "\n",
      "[INFO | root | 2025-01-29 09:12:57] - Precs are combined:\n",
      "[INFO | root | 2025-01-29 09:12:57] -  GNN prec construction time (sec) : mean = 2.949e-04, std = 8.108e-06.\n",
      "\n",
      "[INFO | root | 2025-01-29 09:13:33] - CG with GNN is finished:\n",
      "[INFO | root | 2025-01-29 09:13:33] -  iterations to atol([mean, std]): {0.001: [42.0, 2.09], 1e-06: [53.8, 2.27], 1e-09: [64.8, 2.51], 1e-12: [75.4, 2.74]};\n",
      "[INFO | root | 2025-01-29 09:13:33] -  time to atol([mean, std]): {0.001: [0.0937, 0.00715], 1e-06: [0.1195, 0.00772], 1e-09: [0.1436, 0.00835], 1e-12: [0.1668, 0.00891]};\n",
      "[INFO | root | 2025-01-29 09:13:33] -  number of linsystems for which CG did not conerge to atol: {0.001: 0, 1e-06: 0, 1e-09: 0, 1e-12: 0}.\n",
      "\n",
      "[INFO | root | 2025-01-29 09:13:33] - [GNN precs] script `1qk66l` finished execution.\n",
      "\n",
      "\n",
      "\n",
      "[INFO | root | 2025-01-29 09:13:33] - %%%%%%%%%%%%%%%%%%%%%%%%%%%%%%%%%%%%%%%%%%%%%%%%%%%%%%%%%%%%%%%%%\n",
      "[INFO | root | 2025-01-29 09:13:33] - [GNN precs] script `68f847` started execution.\n",
      "[INFO | root | 2025-01-29 09:13:33] - Config: {'path': '/mnt/local/data/vtrifonov/prec-learning-Notay-loss/', 'folder_model': 'results_cases/29.01_final_elliptic_grid_precor_gnn', 'folder_log': 'results_cases/29.01_final_elliptic_grid_precor_gnn', 'name': '68f847', 'model_use': 'train', 'save_model': True, 'cg_maxiter': 500, 'cg_atol': 1e-12, 'data_config': {'data_dir': '/mnt/local/data/vtrifonov/prec-learning-Notay-loss/', 'pde': 'div_k_grad', 'grid': 64, 'variance': 0.7, 'lhs_type': 'l_ic0', 'N_samples_train': 1000, 'N_samples_test': 200, 'fill_factor': 1, 'threshold': 0.0001}, 'model_config': {'layer_type': 'Conv1d', 'use_nodes': False, 'node_upd_mlp': False, 'static_diag': False, 'alpha': 0.0, 'edge_enc': {'features': [1, 16, 16], 'N_layers': 2}, 'edge_dec': {'features': [16, 16, 1], 'N_layers': 2}, 'mp': {'edge_upd': {'features': [18, 16, 16], 'N_layers': 2}, 'node_upd': {'features': [17, 1, 1], 'N_layers': 2}, 'mp_rounds': 5, 'aggregate_edges': 'max'}}, 'train_config': {'model_type': 'precorrector_gnn', 'loss_type': 'low_freq_loss', 'batch_size': 8, 'optimizer': <function adam at 0x7f36760269e0>, 'lr': 0.001, 'optim_params': {}, 'epoch_num': 500}, 'seed': 42}.\n",
      "\n"
     ]
    },
    {
     "name": "stdout",
     "output_type": "stream",
     "text": [
      "Started: 1\n"
     ]
    },
    {
     "name": "stderr",
     "output_type": "stream",
     "text": [
      "[INFO | root | 2025-01-29 09:13:48] - Data is loaded in 1.528e+01 sec.\n",
      "\n",
      "[INFO | root | 2025-01-29 09:18:06] - Model is trained in 2.576e+02 sec.\n",
      "[INFO | root | 2025-01-29 09:18:06] - PreCorrector's alpha = 0.0859.\n",
      "[INFO | root | 2025-01-29 09:18:06] - First and last losses: train = [3.891e+04, 4.878e+02], test = [9.312e+03, 4.547e+02].\n",
      "\n",
      "[INFO | root | 2025-01-29 09:18:08] - Precs are combined:\n",
      "[INFO | root | 2025-01-29 09:18:08] -  GNN prec construction time (sec) : mean = 3.006e-04, std = 3.384e-05.\n",
      "\n",
      "[INFO | root | 2025-01-29 09:18:47] - CG with GNN is finished:\n",
      "[INFO | root | 2025-01-29 09:18:47] -  iterations to atol([mean, std]): {0.001: [46.3, 2.55], 1e-06: [59.5, 2.89], 1e-09: [71.7, 3.32], 1e-12: [83.6, 3.57]};\n",
      "[INFO | root | 2025-01-29 09:18:47] -  time to atol([mean, std]): {0.001: [0.1012, 0.00617], 1e-06: [0.1296, 0.00699], 1e-09: [0.1559, 0.00798], 1e-12: [0.1815, 0.00867]};\n",
      "[INFO | root | 2025-01-29 09:18:47] -  number of linsystems for which CG did not conerge to atol: {0.001: 0, 1e-06: 0, 1e-09: 0, 1e-12: 0}.\n",
      "\n",
      "[INFO | root | 2025-01-29 09:18:47] - [GNN precs] script `68f847` finished execution.\n",
      "\n",
      "\n",
      "\n",
      "[INFO | root | 2025-01-29 09:18:47] - %%%%%%%%%%%%%%%%%%%%%%%%%%%%%%%%%%%%%%%%%%%%%%%%%%%%%%%%%%%%%%%%%\n",
      "[INFO | root | 2025-01-29 09:18:47] - [GNN precs] script `u0ktoy` started execution.\n",
      "[INFO | root | 2025-01-29 09:18:47] - Config: {'path': '/mnt/local/data/vtrifonov/prec-learning-Notay-loss/', 'folder_model': 'results_cases/29.01_final_elliptic_grid_precor_gnn', 'folder_log': 'results_cases/29.01_final_elliptic_grid_precor_gnn', 'name': 'u0ktoy', 'model_use': 'train', 'save_model': True, 'cg_maxiter': 500, 'cg_atol': 1e-12, 'data_config': {'data_dir': '/mnt/local/data/vtrifonov/prec-learning-Notay-loss/', 'pde': 'div_k_grad', 'grid': 64, 'variance': 1.1, 'lhs_type': 'l_ic0', 'N_samples_train': 1000, 'N_samples_test': 200, 'fill_factor': 1, 'threshold': 0.0001}, 'model_config': {'layer_type': 'Conv1d', 'use_nodes': False, 'node_upd_mlp': False, 'static_diag': False, 'alpha': 0.0, 'edge_enc': {'features': [1, 16, 16], 'N_layers': 2}, 'edge_dec': {'features': [16, 16, 1], 'N_layers': 2}, 'mp': {'edge_upd': {'features': [18, 16, 16], 'N_layers': 2}, 'node_upd': {'features': [17, 1, 1], 'N_layers': 2}, 'mp_rounds': 5, 'aggregate_edges': 'max'}}, 'train_config': {'model_type': 'precorrector_gnn', 'loss_type': 'low_freq_loss', 'batch_size': 8, 'optimizer': <function adam at 0x7f36760269e0>, 'lr': 0.001, 'optim_params': {}, 'epoch_num': 500}, 'seed': 42}.\n",
      "\n"
     ]
    },
    {
     "name": "stdout",
     "output_type": "stream",
     "text": [
      "Started: 2\n"
     ]
    },
    {
     "name": "stderr",
     "output_type": "stream",
     "text": [
      "[INFO | root | 2025-01-29 09:19:02] - Data is loaded in 1.546e+01 sec.\n",
      "\n",
      "[INFO | root | 2025-01-29 09:23:20] - Model is trained in 2.579e+02 sec.\n",
      "[INFO | root | 2025-01-29 09:23:20] - PreCorrector's alpha = 0.0605.\n",
      "[INFO | root | 2025-01-29 09:23:20] - First and last losses: train = [6.130e+04, 5.354e+02], test = [3.895e+04, 5.385e+02].\n",
      "\n",
      "[INFO | root | 2025-01-29 09:23:22] - Precs are combined:\n",
      "[INFO | root | 2025-01-29 09:23:22] -  GNN prec construction time (sec) : mean = 3.010e-04, std = 8.924e-06.\n",
      "\n",
      "[INFO | root | 2025-01-29 09:24:06] - CG with GNN is finished:\n",
      "[INFO | root | 2025-01-29 09:24:06] -  iterations to atol([mean, std]): {0.001: [53.3, 3.27], 1e-06: [68.5, 3.77], 1e-09: [82.9, 4.31], 1e-12: [96.7, 4.86]};\n",
      "[INFO | root | 2025-01-29 09:24:06] -  time to atol([mean, std]): {0.001: [0.1164, 0.00717], 1e-06: [0.149, 0.0083], 1e-09: [0.1801, 0.00942], 1e-12: [0.2098, 0.01059]};\n",
      "[INFO | root | 2025-01-29 09:24:06] -  number of linsystems for which CG did not conerge to atol: {0.001: 0, 1e-06: 0, 1e-09: 0, 1e-12: 0}.\n",
      "\n",
      "[INFO | root | 2025-01-29 09:24:06] - [GNN precs] script `u0ktoy` finished execution.\n",
      "\n",
      "\n",
      "\n",
      "[INFO | root | 2025-01-29 09:24:06] - %%%%%%%%%%%%%%%%%%%%%%%%%%%%%%%%%%%%%%%%%%%%%%%%%%%%%%%%%%%%%%%%%\n",
      "[INFO | root | 2025-01-29 09:24:06] - [GNN precs] script `k6dud3` started execution.\n",
      "[INFO | root | 2025-01-29 09:24:06] - Config: {'path': '/mnt/local/data/vtrifonov/prec-learning-Notay-loss/', 'folder_model': 'results_cases/29.01_final_elliptic_grid_precor_gnn', 'folder_log': 'results_cases/29.01_final_elliptic_grid_precor_gnn', 'name': 'k6dud3', 'model_use': 'train', 'save_model': True, 'cg_maxiter': 500, 'cg_atol': 1e-12, 'data_config': {'data_dir': '/mnt/local/data/vtrifonov/prec-learning-Notay-loss/', 'pde': 'div_k_grad', 'grid': 64, 'variance': 0.5, 'lhs_type': 'l_ic0', 'N_samples_train': 1000, 'N_samples_test': 200, 'fill_factor': 1, 'threshold': 0.0001}, 'model_config': {'layer_type': 'Conv1d', 'use_nodes': False, 'node_upd_mlp': False, 'static_diag': False, 'alpha': 0.0, 'edge_enc': {'features': [1, 16, 16], 'N_layers': 2}, 'edge_dec': {'features': [16, 16, 1], 'N_layers': 2}, 'mp': {'edge_upd': {'features': [18, 16, 16], 'N_layers': 2}, 'node_upd': {'features': [17, 1, 1], 'N_layers': 2}, 'mp_rounds': 5, 'aggregate_edges': 'max'}}, 'train_config': {'model_type': 'precorrector_gnn', 'loss_type': 'high_freq_loss', 'batch_size': 8, 'optimizer': <function adam at 0x7f36760269e0>, 'lr': 0.001, 'optim_params': {}, 'epoch_num': 500}, 'seed': 42}.\n",
      "\n"
     ]
    },
    {
     "name": "stdout",
     "output_type": "stream",
     "text": [
      "Started: 3\n"
     ]
    },
    {
     "name": "stderr",
     "output_type": "stream",
     "text": [
      "[INFO | root | 2025-01-29 09:24:25] - Data is loaded in 1.864e+01 sec.\n",
      "\n",
      "[INFO | root | 2025-01-29 09:28:45] - Model is trained in 2.605e+02 sec.\n",
      "[INFO | root | 2025-01-29 09:28:45] - PreCorrector's alpha = -0.0570.\n",
      "[INFO | root | 2025-01-29 09:28:45] - First and last losses: train = [2.826e+10, 2.611e+10], test = [2.794e+10, 2.616e+10].\n",
      "\n",
      "[INFO | root | 2025-01-29 09:28:48] - Precs are combined:\n",
      "[INFO | root | 2025-01-29 09:28:48] -  GNN prec construction time (sec) : mean = 3.088e-04, std = 7.637e-06.\n",
      "\n",
      "[INFO | root | 2025-01-29 09:29:50] - CG with GNN is finished:\n",
      "[INFO | root | 2025-01-29 09:29:50] -  iterations to atol([mean, std]): {0.001: [83.3, 2.48], 1e-06: [106.2, 2.39], 1e-09: [124.9, 2.51], 1e-12: [141.2, 2.44]};\n",
      "[INFO | root | 2025-01-29 09:29:50] -  time to atol([mean, std]): {0.001: [0.1804, 0.00546], 1e-06: [0.2295, 0.00528], 1e-09: [0.2696, 0.00554], 1e-12: [0.3045, 0.00541]};\n",
      "[INFO | root | 2025-01-29 09:29:50] -  number of linsystems for which CG did not conerge to atol: {0.001: 0, 1e-06: 0, 1e-09: 0, 1e-12: 0}.\n",
      "\n",
      "[INFO | root | 2025-01-29 09:29:50] - [GNN precs] script `k6dud3` finished execution.\n",
      "\n",
      "\n",
      "\n",
      "[INFO | root | 2025-01-29 09:29:51] - %%%%%%%%%%%%%%%%%%%%%%%%%%%%%%%%%%%%%%%%%%%%%%%%%%%%%%%%%%%%%%%%%\n",
      "[INFO | root | 2025-01-29 09:29:51] - [GNN precs] script `p0fo2v` started execution.\n",
      "[INFO | root | 2025-01-29 09:29:51] - Config: {'path': '/mnt/local/data/vtrifonov/prec-learning-Notay-loss/', 'folder_model': 'results_cases/29.01_final_elliptic_grid_precor_gnn', 'folder_log': 'results_cases/29.01_final_elliptic_grid_precor_gnn', 'name': 'p0fo2v', 'model_use': 'train', 'save_model': True, 'cg_maxiter': 500, 'cg_atol': 1e-12, 'data_config': {'data_dir': '/mnt/local/data/vtrifonov/prec-learning-Notay-loss/', 'pde': 'div_k_grad', 'grid': 64, 'variance': 0.7, 'lhs_type': 'l_ic0', 'N_samples_train': 1000, 'N_samples_test': 200, 'fill_factor': 1, 'threshold': 0.0001}, 'model_config': {'layer_type': 'Conv1d', 'use_nodes': False, 'node_upd_mlp': False, 'static_diag': False, 'alpha': 0.0, 'edge_enc': {'features': [1, 16, 16], 'N_layers': 2}, 'edge_dec': {'features': [16, 16, 1], 'N_layers': 2}, 'mp': {'edge_upd': {'features': [18, 16, 16], 'N_layers': 2}, 'node_upd': {'features': [17, 1, 1], 'N_layers': 2}, 'mp_rounds': 5, 'aggregate_edges': 'max'}}, 'train_config': {'model_type': 'precorrector_gnn', 'loss_type': 'high_freq_loss', 'batch_size': 8, 'optimizer': <function adam at 0x7f36760269e0>, 'lr': 0.001, 'optim_params': {}, 'epoch_num': 500}, 'seed': 42}.\n",
      "\n"
     ]
    },
    {
     "name": "stdout",
     "output_type": "stream",
     "text": [
      "Started: 4\n"
     ]
    },
    {
     "name": "stderr",
     "output_type": "stream",
     "text": [
      "[INFO | root | 2025-01-29 09:30:06] - Data is loaded in 1.539e+01 sec.\n",
      "\n",
      "[INFO | root | 2025-01-29 09:34:26] - Model is trained in 2.597e+02 sec.\n",
      "[INFO | root | 2025-01-29 09:34:26] - PreCorrector's alpha = -0.0400.\n",
      "[INFO | root | 2025-01-29 09:34:26] - First and last losses: train = [4.425e+10, 4.074e+10], test = [4.245e+10, 4.116e+10].\n",
      "\n",
      "[INFO | root | 2025-01-29 09:34:28] - Precs are combined:\n",
      "[INFO | root | 2025-01-29 09:34:28] -  GNN prec construction time (sec) : mean = 2.977e-04, std = 8.038e-06.\n",
      "\n",
      "[INFO | root | 2025-01-29 09:35:33] - CG with GNN is finished:\n",
      "[INFO | root | 2025-01-29 09:35:33] -  iterations to atol([mean, std]): {0.001: [87.4, 3.49], 1e-06: [110.7, 3.64], 1e-09: [129.6, 3.43], 1e-12: [145.7, 3.37]};\n",
      "[INFO | root | 2025-01-29 09:35:33] -  time to atol([mean, std]): {0.001: [0.1898, 0.00755], 1e-06: [0.2398, 0.00791], 1e-09: [0.2806, 0.00752], 1e-12: [0.3153, 0.00739]};\n",
      "[INFO | root | 2025-01-29 09:35:33] -  number of linsystems for which CG did not conerge to atol: {0.001: 0, 1e-06: 0, 1e-09: 0, 1e-12: 0}.\n",
      "\n",
      "[INFO | root | 2025-01-29 09:35:33] - [GNN precs] script `p0fo2v` finished execution.\n",
      "\n",
      "\n",
      "\n",
      "[INFO | root | 2025-01-29 09:35:33] - %%%%%%%%%%%%%%%%%%%%%%%%%%%%%%%%%%%%%%%%%%%%%%%%%%%%%%%%%%%%%%%%%\n",
      "[INFO | root | 2025-01-29 09:35:33] - [GNN precs] script `vkerv4` started execution.\n",
      "[INFO | root | 2025-01-29 09:35:33] - Config: {'path': '/mnt/local/data/vtrifonov/prec-learning-Notay-loss/', 'folder_model': 'results_cases/29.01_final_elliptic_grid_precor_gnn', 'folder_log': 'results_cases/29.01_final_elliptic_grid_precor_gnn', 'name': 'vkerv4', 'model_use': 'train', 'save_model': True, 'cg_maxiter': 500, 'cg_atol': 1e-12, 'data_config': {'data_dir': '/mnt/local/data/vtrifonov/prec-learning-Notay-loss/', 'pde': 'div_k_grad', 'grid': 64, 'variance': 1.1, 'lhs_type': 'l_ic0', 'N_samples_train': 1000, 'N_samples_test': 200, 'fill_factor': 1, 'threshold': 0.0001}, 'model_config': {'layer_type': 'Conv1d', 'use_nodes': False, 'node_upd_mlp': False, 'static_diag': False, 'alpha': 0.0, 'edge_enc': {'features': [1, 16, 16], 'N_layers': 2}, 'edge_dec': {'features': [16, 16, 1], 'N_layers': 2}, 'mp': {'edge_upd': {'features': [18, 16, 16], 'N_layers': 2}, 'node_upd': {'features': [17, 1, 1], 'N_layers': 2}, 'mp_rounds': 5, 'aggregate_edges': 'max'}}, 'train_config': {'model_type': 'precorrector_gnn', 'loss_type': 'high_freq_loss', 'batch_size': 8, 'optimizer': <function adam at 0x7f36760269e0>, 'lr': 0.001, 'optim_params': {}, 'epoch_num': 500}, 'seed': 42}.\n",
      "\n"
     ]
    },
    {
     "name": "stdout",
     "output_type": "stream",
     "text": [
      "Started: 5\n"
     ]
    },
    {
     "name": "stderr",
     "output_type": "stream",
     "text": [
      "[INFO | root | 2025-01-29 09:35:48] - Data is loaded in 1.521e+01 sec.\n",
      "\n",
      "[INFO | root | 2025-01-29 09:40:07] - Model is trained in 2.593e+02 sec.\n",
      "[INFO | root | 2025-01-29 09:40:08] - PreCorrector's alpha = -0.0481.\n",
      "[INFO | root | 2025-01-29 09:40:08] - First and last losses: train = [8.392e+10, 7.510e+10], test = [8.322e+10, 7.597e+10].\n",
      "\n",
      "[INFO | root | 2025-01-29 09:40:10] - Precs are combined:\n",
      "[INFO | root | 2025-01-29 09:40:10] -  GNN prec construction time (sec) : mean = 2.977e-04, std = 7.823e-06.\n",
      "\n",
      "[INFO | root | 2025-01-29 09:41:19] - CG with GNN is finished:\n",
      "[INFO | root | 2025-01-29 09:41:19] -  iterations to atol([mean, std]): {0.001: [97.5, 4.0], 1e-06: [122.3, 4.15], 1e-09: [141.6, 4.04], 1e-12: [158.0, 3.95]};\n",
      "[INFO | root | 2025-01-29 09:41:19] -  time to atol([mean, std]): {0.001: [0.2092, 0.00853], 1e-06: [0.2618, 0.00882], 1e-09: [0.3031, 0.00854], 1e-12: [0.3378, 0.00845]};\n",
      "[INFO | root | 2025-01-29 09:41:19] -  number of linsystems for which CG did not conerge to atol: {0.001: 0, 1e-06: 0, 1e-09: 0, 1e-12: 0}.\n",
      "\n",
      "[INFO | root | 2025-01-29 09:41:19] - [GNN precs] script `vkerv4` finished execution.\n",
      "\n",
      "\n",
      "\n",
      "[INFO | root | 2025-01-29 09:41:19] - %%%%%%%%%%%%%%%%%%%%%%%%%%%%%%%%%%%%%%%%%%%%%%%%%%%%%%%%%%%%%%%%%\n",
      "[INFO | root | 2025-01-29 09:41:19] - [GNN precs] script `2404zw` started execution.\n",
      "[INFO | root | 2025-01-29 09:41:19] - Config: {'path': '/mnt/local/data/vtrifonov/prec-learning-Notay-loss/', 'folder_model': 'results_cases/29.01_final_elliptic_grid_precor_gnn', 'folder_log': 'results_cases/29.01_final_elliptic_grid_precor_gnn', 'name': '2404zw', 'model_use': 'train', 'save_model': True, 'cg_maxiter': 500, 'cg_atol': 1e-12, 'data_config': {'data_dir': '/mnt/local/data/vtrifonov/prec-learning-Notay-loss/', 'pde': 'div_k_grad', 'grid': 64, 'variance': 0.5, 'lhs_type': 'l_ict', 'N_samples_train': 1000, 'N_samples_test': 200, 'fill_factor': 1, 'threshold': 0.0001}, 'model_config': {'layer_type': 'Conv1d', 'use_nodes': False, 'node_upd_mlp': False, 'static_diag': False, 'alpha': 0.0, 'edge_enc': {'features': [1, 16, 16], 'N_layers': 2}, 'edge_dec': {'features': [16, 16, 1], 'N_layers': 2}, 'mp': {'edge_upd': {'features': [18, 16, 16], 'N_layers': 2}, 'node_upd': {'features': [17, 1, 1], 'N_layers': 2}, 'mp_rounds': 5, 'aggregate_edges': 'max'}}, 'train_config': {'model_type': 'precorrector_gnn', 'loss_type': 'low_freq_loss', 'batch_size': 8, 'optimizer': <function adam at 0x7f36760269e0>, 'lr': 0.001, 'optim_params': {}, 'epoch_num': 500}, 'seed': 42}.\n",
      "\n"
     ]
    },
    {
     "name": "stdout",
     "output_type": "stream",
     "text": [
      "Started: 6\n"
     ]
    },
    {
     "name": "stderr",
     "output_type": "stream",
     "text": [
      "[INFO | root | 2025-01-29 09:41:39] - Data is loaded in 1.918e+01 sec.\n",
      "\n",
      "[INFO | root | 2025-01-29 09:47:15] - Model is trained in 3.365e+02 sec.\n",
      "[INFO | root | 2025-01-29 09:47:15] - PreCorrector's alpha = 0.0559.\n",
      "[INFO | root | 2025-01-29 09:47:15] - First and last losses: train = [2.483e+03, 1.632e+02], test = [1.413e+03, 1.641e+02].\n",
      "\n",
      "[INFO | root | 2025-01-29 09:47:20] - Precs are combined:\n",
      "[INFO | root | 2025-01-29 09:47:20] -  GNN prec construction time (sec) : mean = 1.002e-03, std = 2.629e-05.\n",
      "\n",
      "[INFO | root | 2025-01-29 09:47:52] - CG with GNN is finished:\n",
      "[INFO | root | 2025-01-29 09:47:52] -  iterations to atol([mean, std]): {0.001: [28.6, 1.14], 1e-06: [37.2, 1.17], 1e-09: [45.1, 1.24], 1e-12: [52.6, 1.24]};\n",
      "[INFO | root | 2025-01-29 09:47:52] -  time to atol([mean, std]): {0.001: [0.0798, 0.00771], 1e-06: [0.1031, 0.00957], 1e-09: [0.1243, 0.01149], 1e-12: [0.1445, 0.01321]};\n",
      "[INFO | root | 2025-01-29 09:47:52] -  number of linsystems for which CG did not conerge to atol: {0.001: 0, 1e-06: 0, 1e-09: 0, 1e-12: 0}.\n",
      "\n",
      "[INFO | root | 2025-01-29 09:47:52] - [GNN precs] script `2404zw` finished execution.\n",
      "\n",
      "\n",
      "\n",
      "[INFO | root | 2025-01-29 09:47:52] - %%%%%%%%%%%%%%%%%%%%%%%%%%%%%%%%%%%%%%%%%%%%%%%%%%%%%%%%%%%%%%%%%\n",
      "[INFO | root | 2025-01-29 09:47:52] - [GNN precs] script `b6pmrp` started execution.\n",
      "[INFO | root | 2025-01-29 09:47:52] - Config: {'path': '/mnt/local/data/vtrifonov/prec-learning-Notay-loss/', 'folder_model': 'results_cases/29.01_final_elliptic_grid_precor_gnn', 'folder_log': 'results_cases/29.01_final_elliptic_grid_precor_gnn', 'name': 'b6pmrp', 'model_use': 'train', 'save_model': True, 'cg_maxiter': 500, 'cg_atol': 1e-12, 'data_config': {'data_dir': '/mnt/local/data/vtrifonov/prec-learning-Notay-loss/', 'pde': 'div_k_grad', 'grid': 64, 'variance': 0.7, 'lhs_type': 'l_ict', 'N_samples_train': 1000, 'N_samples_test': 200, 'fill_factor': 1, 'threshold': 0.0001}, 'model_config': {'layer_type': 'Conv1d', 'use_nodes': False, 'node_upd_mlp': False, 'static_diag': False, 'alpha': 0.0, 'edge_enc': {'features': [1, 16, 16], 'N_layers': 2}, 'edge_dec': {'features': [16, 16, 1], 'N_layers': 2}, 'mp': {'edge_upd': {'features': [18, 16, 16], 'N_layers': 2}, 'node_upd': {'features': [17, 1, 1], 'N_layers': 2}, 'mp_rounds': 5, 'aggregate_edges': 'max'}}, 'train_config': {'model_type': 'precorrector_gnn', 'loss_type': 'low_freq_loss', 'batch_size': 8, 'optimizer': <function adam at 0x7f36760269e0>, 'lr': 0.001, 'optim_params': {}, 'epoch_num': 500}, 'seed': 42}.\n",
      "\n"
     ]
    },
    {
     "name": "stdout",
     "output_type": "stream",
     "text": [
      "Started: 7\n"
     ]
    },
    {
     "name": "stderr",
     "output_type": "stream",
     "text": [
      "[INFO | root | 2025-01-29 09:48:23] - Data is loaded in 3.157e+01 sec.\n",
      "\n",
      "[INFO | root | 2025-01-29 09:54:00] - Model is trained in 3.368e+02 sec.\n",
      "[INFO | root | 2025-01-29 09:54:00] - PreCorrector's alpha = 0.0570.\n",
      "[INFO | root | 2025-01-29 09:54:00] - First and last losses: train = [5.138e+03, 1.954e+02], test = [2.058e+03, 1.724e+02].\n",
      "\n",
      "[INFO | root | 2025-01-29 09:54:03] - Precs are combined:\n",
      "[INFO | root | 2025-01-29 09:54:03] -  GNN prec construction time (sec) : mean = 1.440e-03, std = 2.669e-05.\n",
      "\n",
      "[INFO | root | 2025-01-29 09:54:31] - CG with GNN is finished:\n",
      "[INFO | root | 2025-01-29 09:54:31] -  iterations to atol([mean, std]): {0.001: [30.8, 1.37], 1e-06: [39.7, 1.58], 1e-09: [48.1, 1.68], 1e-12: [56.0, 1.73]};\n",
      "[INFO | root | 2025-01-29 09:54:31] -  time to atol([mean, std]): {0.001: [0.075, 0.00336], 1e-06: [0.0962, 0.00387], 1e-09: [0.1161, 0.00414], 1e-12: [0.1347, 0.00428]};\n",
      "[INFO | root | 2025-01-29 09:54:31] -  number of linsystems for which CG did not conerge to atol: {0.001: 0, 1e-06: 0, 1e-09: 0, 1e-12: 0}.\n",
      "\n",
      "[INFO | root | 2025-01-29 09:54:31] - [GNN precs] script `b6pmrp` finished execution.\n",
      "\n",
      "\n",
      "\n",
      "[INFO | root | 2025-01-29 09:54:31] - %%%%%%%%%%%%%%%%%%%%%%%%%%%%%%%%%%%%%%%%%%%%%%%%%%%%%%%%%%%%%%%%%\n",
      "[INFO | root | 2025-01-29 09:54:31] - [GNN precs] script `l8ywee` started execution.\n",
      "[INFO | root | 2025-01-29 09:54:31] - Config: {'path': '/mnt/local/data/vtrifonov/prec-learning-Notay-loss/', 'folder_model': 'results_cases/29.01_final_elliptic_grid_precor_gnn', 'folder_log': 'results_cases/29.01_final_elliptic_grid_precor_gnn', 'name': 'l8ywee', 'model_use': 'train', 'save_model': True, 'cg_maxiter': 500, 'cg_atol': 1e-12, 'data_config': {'data_dir': '/mnt/local/data/vtrifonov/prec-learning-Notay-loss/', 'pde': 'div_k_grad', 'grid': 64, 'variance': 1.1, 'lhs_type': 'l_ict', 'N_samples_train': 1000, 'N_samples_test': 200, 'fill_factor': 1, 'threshold': 0.0001}, 'model_config': {'layer_type': 'Conv1d', 'use_nodes': False, 'node_upd_mlp': False, 'static_diag': False, 'alpha': 0.0, 'edge_enc': {'features': [1, 16, 16], 'N_layers': 2}, 'edge_dec': {'features': [16, 16, 1], 'N_layers': 2}, 'mp': {'edge_upd': {'features': [18, 16, 16], 'N_layers': 2}, 'node_upd': {'features': [17, 1, 1], 'N_layers': 2}, 'mp_rounds': 5, 'aggregate_edges': 'max'}}, 'train_config': {'model_type': 'precorrector_gnn', 'loss_type': 'low_freq_loss', 'batch_size': 8, 'optimizer': <function adam at 0x7f36760269e0>, 'lr': 0.001, 'optim_params': {}, 'epoch_num': 500}, 'seed': 42}.\n",
      "\n"
     ]
    },
    {
     "name": "stdout",
     "output_type": "stream",
     "text": [
      "Started: 8\n"
     ]
    },
    {
     "name": "stderr",
     "output_type": "stream",
     "text": [
      "[INFO | root | 2025-01-29 09:54:51] - Data is loaded in 2.004e+01 sec.\n",
      "\n",
      "[INFO | root | 2025-01-29 10:00:28] - Model is trained in 3.371e+02 sec.\n",
      "[INFO | root | 2025-01-29 10:00:28] - PreCorrector's alpha = 0.0541.\n",
      "[INFO | root | 2025-01-29 10:00:28] - First and last losses: train = [8.280e+03, 2.368e+02], test = [7.353e+03, 2.427e+02].\n",
      "\n",
      "[INFO | root | 2025-01-29 10:00:31] - Precs are combined:\n",
      "[INFO | root | 2025-01-29 10:00:31] -  GNN prec construction time (sec) : mean = 9.960e-04, std = 2.357e-05.\n",
      "\n",
      "[INFO | root | 2025-01-29 10:01:04] - CG with GNN is finished:\n",
      "[INFO | root | 2025-01-29 10:01:04] -  iterations to atol([mean, std]): {0.001: [34.1, 1.73], 1e-06: [43.9, 1.92], 1e-09: [53.1, 2.21], 1e-12: [61.9, 2.38]};\n",
      "[INFO | root | 2025-01-29 10:01:04] -  time to atol([mean, std]): {0.001: [0.0851, 0.0045], 1e-06: [0.1089, 0.00503], 1e-09: [0.1313, 0.00579], 1e-12: [0.1528, 0.0063]};\n",
      "[INFO | root | 2025-01-29 10:01:04] -  number of linsystems for which CG did not conerge to atol: {0.001: 0, 1e-06: 0, 1e-09: 0, 1e-12: 0}.\n",
      "\n",
      "[INFO | root | 2025-01-29 10:01:04] - [GNN precs] script `l8ywee` finished execution.\n",
      "\n",
      "\n",
      "\n",
      "[INFO | root | 2025-01-29 10:01:04] - %%%%%%%%%%%%%%%%%%%%%%%%%%%%%%%%%%%%%%%%%%%%%%%%%%%%%%%%%%%%%%%%%\n",
      "[INFO | root | 2025-01-29 10:01:04] - [GNN precs] script `9ft55a` started execution.\n",
      "[INFO | root | 2025-01-29 10:01:04] - Config: {'path': '/mnt/local/data/vtrifonov/prec-learning-Notay-loss/', 'folder_model': 'results_cases/29.01_final_elliptic_grid_precor_gnn', 'folder_log': 'results_cases/29.01_final_elliptic_grid_precor_gnn', 'name': '9ft55a', 'model_use': 'train', 'save_model': True, 'cg_maxiter': 500, 'cg_atol': 1e-12, 'data_config': {'data_dir': '/mnt/local/data/vtrifonov/prec-learning-Notay-loss/', 'pde': 'div_k_grad', 'grid': 64, 'variance': 0.5, 'lhs_type': 'l_ict', 'N_samples_train': 1000, 'N_samples_test': 200, 'fill_factor': 1, 'threshold': 0.0001}, 'model_config': {'layer_type': 'Conv1d', 'use_nodes': False, 'node_upd_mlp': False, 'static_diag': False, 'alpha': 0.0, 'edge_enc': {'features': [1, 16, 16], 'N_layers': 2}, 'edge_dec': {'features': [16, 16, 1], 'N_layers': 2}, 'mp': {'edge_upd': {'features': [18, 16, 16], 'N_layers': 2}, 'node_upd': {'features': [17, 1, 1], 'N_layers': 2}, 'mp_rounds': 5, 'aggregate_edges': 'max'}}, 'train_config': {'model_type': 'precorrector_gnn', 'loss_type': 'high_freq_loss', 'batch_size': 8, 'optimizer': <function adam at 0x7f36760269e0>, 'lr': 0.001, 'optim_params': {}, 'epoch_num': 500}, 'seed': 42}.\n",
      "\n"
     ]
    },
    {
     "name": "stdout",
     "output_type": "stream",
     "text": [
      "Started: 9\n"
     ]
    },
    {
     "name": "stderr",
     "output_type": "stream",
     "text": [
      "[INFO | root | 2025-01-29 10:01:21] - Data is loaded in 1.723e+01 sec.\n",
      "\n",
      "[INFO | root | 2025-01-29 10:07:02] - Model is trained in 3.407e+02 sec.\n",
      "[INFO | root | 2025-01-29 10:07:02] - PreCorrector's alpha = -0.0381.\n",
      "[INFO | root | 2025-01-29 10:07:02] - First and last losses: train = [3.973e+09, 3.411e+09], test = [3.938e+09, 3.415e+09].\n",
      "\n",
      "[INFO | root | 2025-01-29 10:07:04] - Precs are combined:\n",
      "[INFO | root | 2025-01-29 10:07:04] -  GNN prec construction time (sec) : mean = 1.017e-03, std = 9.614e-06.\n",
      "\n",
      "[INFO | root | 2025-01-29 10:07:49] - CG with GNN is finished:\n",
      "[INFO | root | 2025-01-29 10:07:49] -  iterations to atol([mean, std]): {0.001: [51.1, 1.61], 1e-06: [65.2, 1.5], 1e-09: [76.9, 1.56], 1e-12: [87.1, 1.53]};\n",
      "[INFO | root | 2025-01-29 10:07:49] -  time to atol([mean, std]): {0.001: [0.1266, 0.00436], 1e-06: [0.161, 0.00428], 1e-09: [0.1895, 0.00436], 1e-12: [0.2144, 0.00448]};\n",
      "[INFO | root | 2025-01-29 10:07:49] -  number of linsystems for which CG did not conerge to atol: {0.001: 0, 1e-06: 0, 1e-09: 0, 1e-12: 0}.\n",
      "\n",
      "[INFO | root | 2025-01-29 10:07:49] - [GNN precs] script `9ft55a` finished execution.\n",
      "\n",
      "\n",
      "\n",
      "[INFO | root | 2025-01-29 10:07:49] - %%%%%%%%%%%%%%%%%%%%%%%%%%%%%%%%%%%%%%%%%%%%%%%%%%%%%%%%%%%%%%%%%\n",
      "[INFO | root | 2025-01-29 10:07:49] - [GNN precs] script `w6vqs5` started execution.\n",
      "[INFO | root | 2025-01-29 10:07:49] - Config: {'path': '/mnt/local/data/vtrifonov/prec-learning-Notay-loss/', 'folder_model': 'results_cases/29.01_final_elliptic_grid_precor_gnn', 'folder_log': 'results_cases/29.01_final_elliptic_grid_precor_gnn', 'name': 'w6vqs5', 'model_use': 'train', 'save_model': True, 'cg_maxiter': 500, 'cg_atol': 1e-12, 'data_config': {'data_dir': '/mnt/local/data/vtrifonov/prec-learning-Notay-loss/', 'pde': 'div_k_grad', 'grid': 64, 'variance': 0.7, 'lhs_type': 'l_ict', 'N_samples_train': 1000, 'N_samples_test': 200, 'fill_factor': 1, 'threshold': 0.0001}, 'model_config': {'layer_type': 'Conv1d', 'use_nodes': False, 'node_upd_mlp': False, 'static_diag': False, 'alpha': 0.0, 'edge_enc': {'features': [1, 16, 16], 'N_layers': 2}, 'edge_dec': {'features': [16, 16, 1], 'N_layers': 2}, 'mp': {'edge_upd': {'features': [18, 16, 16], 'N_layers': 2}, 'node_upd': {'features': [17, 1, 1], 'N_layers': 2}, 'mp_rounds': 5, 'aggregate_edges': 'max'}}, 'train_config': {'model_type': 'precorrector_gnn', 'loss_type': 'high_freq_loss', 'batch_size': 8, 'optimizer': <function adam at 0x7f36760269e0>, 'lr': 0.001, 'optim_params': {}, 'epoch_num': 500}, 'seed': 42}.\n",
      "\n"
     ]
    },
    {
     "name": "stdout",
     "output_type": "stream",
     "text": [
      "Started: 10\n"
     ]
    },
    {
     "name": "stderr",
     "output_type": "stream",
     "text": [
      "[INFO | root | 2025-01-29 10:08:05] - Data is loaded in 1.657e+01 sec.\n",
      "\n",
      "[INFO | root | 2025-01-29 10:13:44] - Model is trained in 3.391e+02 sec.\n",
      "[INFO | root | 2025-01-29 10:13:44] - PreCorrector's alpha = -0.0385.\n",
      "[INFO | root | 2025-01-29 10:13:44] - First and last losses: train = [6.203e+09, 5.283e+09], test = [5.920e+09, 5.371e+09].\n",
      "\n",
      "[INFO | root | 2025-01-29 10:13:47] - Precs are combined:\n",
      "[INFO | root | 2025-01-29 10:13:47] -  GNN prec construction time (sec) : mean = 1.014e-03, std = 2.552e-05.\n",
      "\n",
      "[INFO | root | 2025-01-29 10:14:33] - CG with GNN is finished:\n",
      "[INFO | root | 2025-01-29 10:14:33] -  iterations to atol([mean, std]): {0.001: [53.6, 1.95], 1e-06: [68.0, 2.24], 1e-09: [79.7, 2.16], 1e-12: [89.9, 2.12]};\n",
      "[INFO | root | 2025-01-29 10:14:33] -  time to atol([mean, std]): {0.001: [0.134, 0.00502], 1e-06: [0.1694, 0.00598], 1e-09: [0.1983, 0.00581], 1e-12: [0.2234, 0.00581]};\n",
      "[INFO | root | 2025-01-29 10:14:33] -  number of linsystems for which CG did not conerge to atol: {0.001: 0, 1e-06: 0, 1e-09: 0, 1e-12: 0}.\n",
      "\n",
      "[INFO | root | 2025-01-29 10:14:33] - [GNN precs] script `w6vqs5` finished execution.\n",
      "\n",
      "\n",
      "\n",
      "[INFO | root | 2025-01-29 10:14:33] - %%%%%%%%%%%%%%%%%%%%%%%%%%%%%%%%%%%%%%%%%%%%%%%%%%%%%%%%%%%%%%%%%\n",
      "[INFO | root | 2025-01-29 10:14:33] - [GNN precs] script `k70h7s` started execution.\n",
      "[INFO | root | 2025-01-29 10:14:33] - Config: {'path': '/mnt/local/data/vtrifonov/prec-learning-Notay-loss/', 'folder_model': 'results_cases/29.01_final_elliptic_grid_precor_gnn', 'folder_log': 'results_cases/29.01_final_elliptic_grid_precor_gnn', 'name': 'k70h7s', 'model_use': 'train', 'save_model': True, 'cg_maxiter': 500, 'cg_atol': 1e-12, 'data_config': {'data_dir': '/mnt/local/data/vtrifonov/prec-learning-Notay-loss/', 'pde': 'div_k_grad', 'grid': 64, 'variance': 1.1, 'lhs_type': 'l_ict', 'N_samples_train': 1000, 'N_samples_test': 200, 'fill_factor': 1, 'threshold': 0.0001}, 'model_config': {'layer_type': 'Conv1d', 'use_nodes': False, 'node_upd_mlp': False, 'static_diag': False, 'alpha': 0.0, 'edge_enc': {'features': [1, 16, 16], 'N_layers': 2}, 'edge_dec': {'features': [16, 16, 1], 'N_layers': 2}, 'mp': {'edge_upd': {'features': [18, 16, 16], 'N_layers': 2}, 'node_upd': {'features': [17, 1, 1], 'N_layers': 2}, 'mp_rounds': 5, 'aggregate_edges': 'max'}}, 'train_config': {'model_type': 'precorrector_gnn', 'loss_type': 'high_freq_loss', 'batch_size': 8, 'optimizer': <function adam at 0x7f36760269e0>, 'lr': 0.001, 'optim_params': {}, 'epoch_num': 500}, 'seed': 42}.\n",
      "\n"
     ]
    },
    {
     "name": "stdout",
     "output_type": "stream",
     "text": [
      "Started: 11\n"
     ]
    },
    {
     "name": "stderr",
     "output_type": "stream",
     "text": [
      "[INFO | root | 2025-01-29 10:14:50] - Data is loaded in 1.669e+01 sec.\n",
      "\n",
      "[INFO | root | 2025-01-29 10:20:30] - Model is trained in 3.400e+02 sec.\n",
      "[INFO | root | 2025-01-29 10:20:30] - PreCorrector's alpha = -0.0234.\n",
      "[INFO | root | 2025-01-29 10:20:30] - First and last losses: train = [1.159e+10, 9.533e+09], test = [1.158e+10, 9.730e+09].\n",
      "\n",
      "[INFO | root | 2025-01-29 10:20:33] - Precs are combined:\n",
      "[INFO | root | 2025-01-29 10:20:33] -  GNN prec construction time (sec) : mean = 1.024e-03, std = 2.531e-05.\n",
      "\n"
     ]
    }
   ],
   "source": [
    "notstatic_precorrector_gnn_config = deepcopy(default_precorrector_gnn_config)\n",
    "notstatic_precorrector_gnn_config['static_diag'] = False\n",
    "notstatic_precorrector_gnn_config['mp']['aggregate_edges'] = 'max'\n",
    "base_config['model_config'] = notstatic_precorrector_gnn_config\n",
    "\n",
    "params_grid = ParameterGrid({\n",
    "    'model_use': ['train'],\n",
    "    'cg_maxiter': [500],\n",
    "    'cg_atol': [1e-12],\n",
    "    'model_type': ['precorrector_gnn'],\n",
    "    'loss_type': ['low_freq_loss', 'high_freq_loss'],\n",
    "    'batch_size': [8],\n",
    "    'lr': [1e-3],\n",
    "    'epoch_num': [500],\n",
    "    'pde': ['div_k_grad'],\n",
    "    'grid': [64, 128],\n",
    "    'variance': [.5, .7, 1.1],\n",
    "    'lhs_type': ['l_ic0', 'l_ict'],\n",
    "    'fill_factor': [1],\n",
    "    'threshold': [1e-4]\n",
    "})\n",
    "\n",
    "grid_script(script_gnn_prec, base_config, params_grid)"
   ]
  },
  {
   "cell_type": "markdown",
   "id": "40515671",
   "metadata": {},
   "source": [
    "# Poisson, 64x64 and 128x128"
   ]
  },
  {
   "cell_type": "code",
   "execution_count": null,
   "id": "4298e4d2",
   "metadata": {},
   "outputs": [],
   "source": [
    "notstatic_precorrector_gnn_config = deepcopy(default_precorrector_gnn_config)\n",
    "notstatic_precorrector_gnn_config['static_diag'] = False\n",
    "notstatic_precorrector_gnn_config['mp']['aggregate_edges'] = 'max'\n",
    "base_config['model_config'] = notstatic_precorrector_gnn_config\n",
    "\n",
    "params_grid = ParameterGrid({\n",
    "    'model_use': ['train'],\n",
    "    'cg_maxiter': [500],\n",
    "    'cg_atol': [1e-12],\n",
    "    'model_type': ['precorrector_gnn'],\n",
    "    'loss_type': ['low_freq_loss', 'high_freq_loss'],\n",
    "    'batch_size': [8],\n",
    "    'lr': [1e-3],\n",
    "    'epoch_num': [500],\n",
    "    'pde': ['poisson'],\n",
    "    'grid': [64, 128],\n",
    "    'variance': [.5],\n",
    "    'lhs_type': ['l_ic0', 'l_ict'],\n",
    "    'fill_factor': [1],\n",
    "    'threshold': [1e-4]\n",
    "})\n",
    "\n",
    "grid_script(script_gnn_prec, base_config, params_grid)"
   ]
  },
  {
   "cell_type": "markdown",
   "id": "b6c047ac",
   "metadata": {},
   "source": [
    "# Div-k-grad, 256x256, no high-freq-loss"
   ]
  },
  {
   "cell_type": "code",
   "execution_count": null,
   "id": "0e81d61d",
   "metadata": {},
   "outputs": [],
   "source": [
    "notstatic_precorrector_gnn_config = deepcopy(default_precorrector_gnn_config)\n",
    "notstatic_precorrector_gnn_config['static_diag'] = False\n",
    "notstatic_precorrector_gnn_config['mp']['aggregate_edges'] = 'max'\n",
    "base_config['model_config'] = notstatic_precorrector_gnn_config\n",
    "\n",
    "params_grid = ParameterGrid({\n",
    "    'model_use': ['train'],\n",
    "    'cg_maxiter': [500],\n",
    "    'cg_atol': [1e-12],\n",
    "    'model_type': ['precorrector_gnn'],\n",
    "    'loss_type': ['low_freq_loss'],\n",
    "    'batch_size': [8],\n",
    "    'lr': [1e-3],\n",
    "    'epoch_num': [500],\n",
    "    'pde': ['div_k_grad'],\n",
    "    'grid': [256],\n",
    "    'variance': [.5, .7, 1.1],\n",
    "    'lhs_type': ['l_ic0', 'l_ict'],\n",
    "    'fill_factor': [1],\n",
    "    'threshold': [1e-4]\n",
    "})\n",
    "\n",
    "grid_script(script_gnn_prec, base_config, params_grid)"
   ]
  },
  {
   "cell_type": "markdown",
   "id": "6797d9e6",
   "metadata": {},
   "source": [
    "# Poisson, 256x256, no high-freq-loss"
   ]
  },
  {
   "cell_type": "code",
   "execution_count": null,
   "id": "0692bb3f",
   "metadata": {},
   "outputs": [],
   "source": [
    "notstatic_precorrector_gnn_config = deepcopy(default_precorrector_gnn_config)\n",
    "notstatic_precorrector_gnn_config['static_diag'] = False\n",
    "notstatic_precorrector_gnn_config['mp']['aggregate_edges'] = 'max'\n",
    "base_config['model_config'] = notstatic_precorrector_gnn_config\n",
    "\n",
    "params_grid = ParameterGrid({\n",
    "    'model_use': ['train'],\n",
    "    'cg_maxiter': [500],\n",
    "    'cg_atol': [1e-12],\n",
    "    'model_type': ['precorrector_gnn'],\n",
    "    'loss_type': ['low_freq_loss'],\n",
    "    'batch_size': [8],\n",
    "    'lr': [1e-3],\n",
    "    'epoch_num': [500],\n",
    "    'pde': ['poisson'],\n",
    "    'grid': [256],\n",
    "    'variance': [.5],\n",
    "    'lhs_type': ['l_ic0', 'l_ict'],\n",
    "    'fill_factor': [1],\n",
    "    'threshold': [1e-4]\n",
    "})\n",
    "\n",
    "grid_script(script_gnn_prec, base_config, params_grid)"
   ]
  },
  {
   "cell_type": "code",
   "execution_count": null,
   "id": "bad8a991",
   "metadata": {},
   "outputs": [],
   "source": [
    "exit()"
   ]
  },
  {
   "cell_type": "code",
   "execution_count": null,
   "id": "c35b14ca",
   "metadata": {},
   "outputs": [],
   "source": [
    "2+3"
   ]
  },
  {
   "cell_type": "code",
   "execution_count": null,
   "id": "7ec7f2df",
   "metadata": {},
   "outputs": [],
   "source": []
  }
 ],
 "metadata": {
  "kernelspec": {
   "display_name": "Python 3 (ipykernel)",
   "language": "python",
   "name": "python3"
  },
  "language_info": {
   "codemirror_mode": {
    "name": "ipython",
    "version": 3
   },
   "file_extension": ".py",
   "mimetype": "text/x-python",
   "name": "python",
   "nbconvert_exporter": "python",
   "pygments_lexer": "ipython3",
   "version": "3.10.6"
  }
 },
 "nbformat": 4,
 "nbformat_minor": 5
}
