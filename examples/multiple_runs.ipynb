{
 "cells": [
  {
   "cell_type": "code",
   "execution_count": 1,
   "id": "5db1e95d",
   "metadata": {},
   "outputs": [],
   "source": [
    "import sys\n",
    "import os\n",
    "os.environ[\"CUDA_VISIBLE_DEVICES\"] = '2'\n",
    "os.environ['XLA_PYTHON_CLIENT_MEM_FRACTION'] = '.95'\n",
    "sys.path.append('/mnt/local/data/vtrifonov/prec-learning-Notay-loss/')"
   ]
  },
  {
   "cell_type": "code",
   "execution_count": 2,
   "id": "1766e273",
   "metadata": {},
   "outputs": [],
   "source": [
    "import optax\n",
    "import numpy as np\n",
    "from sklearn.model_selection import ParameterGrid\n",
    "\n",
    "from script_train import grid_train\n",
    "from config import default_precorrector_config"
   ]
  },
  {
   "cell_type": "code",
   "execution_count": 3,
   "id": "74f94bf4",
   "metadata": {},
   "outputs": [],
   "source": [
    "seed = 42\n",
    "path = '/mnt/local/data/vtrifonov/prec-learning-Notay-loss/'\n",
    "folder = 'results_cases/15_01_2024_dkg_g128'"
   ]
  },
  {
   "cell_type": "code",
   "execution_count": 4,
   "id": "5d626faa",
   "metadata": {},
   "outputs": [],
   "source": [
    "model_config = default_precorrector_config\n",
    "\n",
    "data_config = {\n",
    "    'data_dir': path,\n",
    "    'pde': np.nan,\n",
    "    'grid': np.nan,\n",
    "    'variance': np.nan,\n",
    "    'lhs_type': np.nan,\n",
    "    'N_samples_train': 1000,\n",
    "    'N_samples_test': 200,\n",
    "    'precision': 'f64',\n",
    "    'fill_factor': 1,\n",
    "    'threshold': 1e-4\n",
    "}\n",
    "\n",
    "train_config = {\n",
    "    'loss_type': 'low_freq_loss',\n",
    "    'model_type': 'precorrector',\n",
    "    'batch_size': 8,\n",
    "    'optimizer': optax.adam,\n",
    "    'lr': 1e-3,\n",
    "    'optim_params': {},\n",
    "    'epoch_num': 500\n",
    "}\n",
    "\n",
    "base_config = {\n",
    "    'path': path,\n",
    "    'folder': folder,\n",
    "    'name': np.nan,\n",
    "    'model_use': 'train',\n",
    "    'save_model': True,\n",
    "    'cg_maxiter': np.nan,\n",
    "    'cg_atol': 1e-12,\n",
    "    'data_config': data_config,\n",
    "    'model_config': model_config,\n",
    "    'train_config': train_config,\n",
    "    'seed': seed\n",
    "}"
   ]
  },
  {
   "cell_type": "code",
   "execution_count": 5,
   "id": "1034f16c",
   "metadata": {},
   "outputs": [],
   "source": [
    "params_dkg_128 = {\n",
    "    'cg_maxiter': [350],\n",
    "    'model_type': ['precorrector'],\n",
    "    'loss_type': ['low_freq_loss'],\n",
    "    'batch_size': [8],\n",
    "    'lr': [1e-3],\n",
    "    'epoch_num': [1000],\n",
    "    'pde': ['div_k_grad'],\n",
    "    'grid': [128],\n",
    "    'variance': [.1, .5, .7],\n",
    "    'lhs_type': ['l_ic0', 'l_ict'],\n",
    "    'fill_factor': [1],\n",
    "    'threshold': [1e-4]\n",
    "}\n",
    "params_grid = ParameterGrid(params_dkg_128)"
   ]
  },
  {
   "cell_type": "code",
   "execution_count": null,
   "id": "4babc6b8",
   "metadata": {},
   "outputs": [
    {
     "name": "stdout",
     "output_type": "stream",
     "text": [
      "Started: 0\n"
     ]
    },
    {
     "name": "stderr",
     "output_type": "stream",
     "text": [
      "2025-01-16 10:01:26.165927: W external/xla/xla/service/gpu/nvptx_compiler.cc:760] The NVIDIA driver's CUDA version is 12.4 which is older than the ptxas CUDA version (12.5.40). Because the driver is older than the ptxas version, XLA is disabling parallel compilation, which may slow down compilation. You should update your NVIDIA driver or use the NVIDIA-provided CUDA forward compatibility packages.\n",
      "[INFO | root | 2025-01-16 10:01:26] - %%%%%%%%%%%%%%%%%%%%%%%%%%%%%%%%%%%%%%%%%%%%%%%%%%%%%%%%%%%%%%%%%\n",
      "[INFO | root | 2025-01-16 10:01:26] - Script with model `18q6qz` started execution.\n",
      "[INFO | root | 2025-01-16 10:01:26] - Config: {'path': '/mnt/local/data/vtrifonov/prec-learning-Notay-loss/', 'folder': 'results_cases/15_01_2024_dkg_g128', 'name': '18q6qz', 'model_use': 'train', 'save_model': True, 'cg_maxiter': 350, 'cg_atol': 1e-12, 'data_config': {'data_dir': '/mnt/local/data/vtrifonov/prec-learning-Notay-loss/', 'pde': 'div_k_grad', 'grid': 128, 'variance': 0.1, 'lhs_type': 'l_ic0', 'N_samples_train': 1000, 'N_samples_test': 200, 'precision': 'f64', 'fill_factor': 1, 'threshold': 0.0001}, 'model_config': {'layer_type': 'Conv1d', 'alpha': 0.0, 'edge_enc': {'features': [1, 16, 16], 'N_layers': 2}, 'edge_dec': {'features': [16, 16, 1], 'N_layers': 2}, 'mp': {'edge_upd': {'features': [18, 16, 16], 'N_layers': 2}, 'node_upd': {'features': [17, 1, 1], 'N_layers': 2}, 'mp_rounds': 5}}, 'train_config': {'loss_type': 'low_freq_loss', 'model_type': 'precorrector', 'batch_size': 8, 'optimizer': <function adam at 0x7fa0b912ed40>, 'lr': 0.001, 'optim_params': {}, 'epoch_num': 1000}, 'seed': 42}.\n",
      "\n",
      "[INFO | root | 2025-01-16 10:01:54] - Data is loaded in 2.769e+01 sec.\n",
      "\n"
     ]
    }
   ],
   "source": [
    "grid_train(base_config, params_grid)"
   ]
  }
 ],
 "metadata": {
  "kernelspec": {
   "display_name": "Python 3 (ipykernel)",
   "language": "python",
   "name": "python3"
  },
  "language_info": {
   "codemirror_mode": {
    "name": "ipython",
    "version": 3
   },
   "file_extension": ".py",
   "mimetype": "text/x-python",
   "name": "python",
   "nbconvert_exporter": "python",
   "pygments_lexer": "ipython3",
   "version": "3.10.6"
  }
 },
 "nbformat": 4,
 "nbformat_minor": 5
}
