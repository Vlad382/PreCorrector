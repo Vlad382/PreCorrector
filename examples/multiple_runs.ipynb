{
 "cells": [
  {
   "cell_type": "code",
   "execution_count": 1,
   "id": "fd93e4f1",
   "metadata": {},
   "outputs": [],
   "source": [
    "import sys\n",
    "import os\n",
    "os.environ[\"CUDA_VISIBLE_DEVICES\"] = '2'\n",
    "os.environ['XLA_PYTHON_CLIENT_MEM_FRACTION'] = '.95'\n",
    "sys.path.append('/mnt/local/data/vtrifonov/prec-learning-Notay-loss/')"
   ]
  },
  {
   "cell_type": "code",
   "execution_count": 3,
   "id": "300d21a6",
   "metadata": {},
   "outputs": [],
   "source": [
    "import optax\n",
    "import numpy as np\n",
    "from sklearn.model_selection import ParameterGrid\n",
    "\n",
    "# from script_train import grid_train\n",
    "# from config import default_precorrector_config"
   ]
  },
  {
   "cell_type": "code",
   "execution_count": 4,
   "id": "d53b1b1e",
   "metadata": {},
   "outputs": [],
   "source": [
    "import jax.numpy as jnp"
   ]
  },
  {
   "cell_type": "code",
   "execution_count": 3,
   "id": "ba477dcc",
   "metadata": {},
   "outputs": [],
   "source": [
    "seed = 42\n",
    "path = '/mnt/local/data/vtrifonov/prec-learning-Notay-loss/'\n",
    "folder = 'results_cases/15_01_2024_dkg_g128'"
   ]
  },
  {
   "cell_type": "code",
   "execution_count": 4,
   "id": "1aa438f7",
   "metadata": {},
   "outputs": [],
   "source": [
    "model_config = default_precorrector_config\n",
    "\n",
    "data_config = {\n",
    "    'data_dir': path,\n",
    "    'pde': 'div_k_grad',\n",
    "    'grid': 128,\n",
    "    'variance': .7,\n",
    "    'lhs_type': 'l_ic0',\n",
    "    'N_samples_train': 1000,\n",
    "    'N_samples_test': 200,\n",
    "    'precision': 'f64',\n",
    "    'fill_factor': 1,\n",
    "    'threshold': 1e-4\n",
    "}\n",
    "\n",
    "train_config = {\n",
    "    'loss_type': 'low_freq_loss',\n",
    "    'model_type': 'precorrector_rhs_ones',\n",
    "    'batch_size': 8,\n",
    "    'optimizer': optax.adam,\n",
    "    'lr': 1e-3,\n",
    "    'optim_params': {},\n",
    "    'epoch_num': 1000\n",
    "}\n",
    "\n",
    "base_config = {\n",
    "    'path': path,\n",
    "    'folder': folder,\n",
    "    'name': np.nan,\n",
    "    'model_use': 'train',\n",
    "    'save_model': True,\n",
    "    'cg_maxiter': 350,\n",
    "    'cg_atol': 1e-12,\n",
    "    'data_config': data_config,\n",
    "    'model_config': model_config,\n",
    "    'train_config': train_config,\n",
    "    'seed': seed\n",
    "}"
   ]
  },
  {
   "cell_type": "code",
   "execution_count": 5,
   "id": "19123ed1",
   "metadata": {},
   "outputs": [],
   "source": []
  },
  {
   "cell_type": "code",
   "execution_count": 6,
   "id": "e2ef7efa",
   "metadata": {},
   "outputs": [
    {
     "name": "stdout",
     "output_type": "stream",
     "text": [
      "Started: 0\n"
     ]
    },
    {
     "name": "stderr",
     "output_type": "stream",
     "text": [
      "2025-01-16 10:01:26.165927: W external/xla/xla/service/gpu/nvptx_compiler.cc:760] The NVIDIA driver's CUDA version is 12.4 which is older than the ptxas CUDA version (12.5.40). Because the driver is older than the ptxas version, XLA is disabling parallel compilation, which may slow down compilation. You should update your NVIDIA driver or use the NVIDIA-provided CUDA forward compatibility packages.\n",
      "[INFO | root | 2025-01-16 10:01:26] - %%%%%%%%%%%%%%%%%%%%%%%%%%%%%%%%%%%%%%%%%%%%%%%%%%%%%%%%%%%%%%%%%\n",
      "[INFO | root | 2025-01-16 10:01:26] - Script with model `18q6qz` started execution.\n",
      "[INFO | root | 2025-01-16 10:01:26] - Config: {'path': '/mnt/local/data/vtrifonov/prec-learning-Notay-loss/', 'folder': 'results_cases/15_01_2024_dkg_g128', 'name': '18q6qz', 'model_use': 'train', 'save_model': True, 'cg_maxiter': 350, 'cg_atol': 1e-12, 'data_config': {'data_dir': '/mnt/local/data/vtrifonov/prec-learning-Notay-loss/', 'pde': 'div_k_grad', 'grid': 128, 'variance': 0.1, 'lhs_type': 'l_ic0', 'N_samples_train': 1000, 'N_samples_test': 200, 'precision': 'f64', 'fill_factor': 1, 'threshold': 0.0001}, 'model_config': {'layer_type': 'Conv1d', 'alpha': 0.0, 'edge_enc': {'features': [1, 16, 16], 'N_layers': 2}, 'edge_dec': {'features': [16, 16, 1], 'N_layers': 2}, 'mp': {'edge_upd': {'features': [18, 16, 16], 'N_layers': 2}, 'node_upd': {'features': [17, 1, 1], 'N_layers': 2}, 'mp_rounds': 5}}, 'train_config': {'loss_type': 'low_freq_loss', 'model_type': 'precorrector', 'batch_size': 8, 'optimizer': <function adam at 0x7fa0b912ed40>, 'lr': 0.001, 'optim_params': {}, 'epoch_num': 1000}, 'seed': 42}.\n",
      "\n",
      "[INFO | root | 2025-01-16 10:01:54] - Data is loaded in 2.769e+01 sec.\n",
      "\n",
      "[INFO | root | 2025-01-16 10:35:37] - Model is trained in 2.023e+03 sec.\n",
      "[INFO | root | 2025-01-16 10:35:37] - GNN's alpha = -0.1474.\n",
      "[INFO | root | 2025-01-16 10:35:37] - First and last losses: train = [1.339e+05, 1.605e+03], test = [4.521e+03, 1.582e+03]\n",
      ".\n",
      "[INFO | root | 2025-01-16 10:35:51] - Precs are combined:\n",
      "[INFO | root | 2025-01-16 10:35:51] -  classical prec construction time (sec) : mean = 4.603e-04, std = 2.984e-05;\n",
      "[INFO | root | 2025-01-16 10:35:51] -  GNN prec construction time (sec) : mean = 8.460e-04, std = 8.800e-05.\n",
      "\n",
      "[INFO | root | 2025-01-16 10:38:17] - CG with GNN is finished:\n",
      "[INFO | root | 2025-01-16 10:38:17] -  iterations to atol([mean, std]): {0.001: [54.0, 1.26], 1e-06: [67.6, 1.61], 1e-09: [81.0, 1.88], 1e-12: [94.1, 1.83]};\n",
      "[INFO | root | 2025-01-16 10:38:17] -  time to atol([mean, std]): {0.001: [0.411, 0.05651], 1e-06: [0.5152, 0.06847], 1e-09: [0.6181, 0.08211], 1e-12: [0.717, 0.09476]};\n",
      "[INFO | root | 2025-01-16 10:38:17] -  number of linsystems for which CG did not conerge to atol: {0.001: 0, 1e-06: 0, 1e-09: 0, 1e-12: 0}.\n",
      "\n",
      "[INFO | root | 2025-01-16 10:44:36] - CG with classical prec is finished:\n",
      "[INFO | root | 2025-01-16 10:44:36] -  iterations to atol([mean, std]): {0.001: [132.1, 1.94], 1e-06: [168.8, 2.18], 1e-09: [198.2, 1.9], 1e-12: [224.9, 1.89]};\n",
      "[INFO | root | 2025-01-16 10:44:36] -  time to atol([mean, std]): {0.001: [1.1043, 0.04549], 1e-06: [1.4105, 0.05922], 1e-09: [1.6567, 0.06899], 1e-12: [1.8796, 0.07868]};\n",
      "[INFO | root | 2025-01-16 10:44:36] -  number of linsystems for which CG did not conerge to atol: {0.001: 0, 1e-06: 0, 1e-09: 0, 1e-12: 0}.\n",
      "\n",
      "[INFO | root | 2025-01-16 10:44:36] - Script with model `18q6qz` finished execution.\n",
      "\n",
      "\n",
      "\n",
      "[INFO | root | 2025-01-16 10:44:36] - %%%%%%%%%%%%%%%%%%%%%%%%%%%%%%%%%%%%%%%%%%%%%%%%%%%%%%%%%%%%%%%%%\n",
      "[INFO | root | 2025-01-16 10:44:36] - Script with model `ua7uha` started execution.\n",
      "[INFO | root | 2025-01-16 10:44:36] - Config: {'path': '/mnt/local/data/vtrifonov/prec-learning-Notay-loss/', 'folder': 'results_cases/15_01_2024_dkg_g128', 'name': 'ua7uha', 'model_use': 'train', 'save_model': True, 'cg_maxiter': 350, 'cg_atol': 1e-12, 'data_config': {'data_dir': '/mnt/local/data/vtrifonov/prec-learning-Notay-loss/', 'pde': 'div_k_grad', 'grid': 128, 'variance': 0.5, 'lhs_type': 'l_ic0', 'N_samples_train': 1000, 'N_samples_test': 200, 'precision': 'f64', 'fill_factor': 1, 'threshold': 0.0001}, 'model_config': {'layer_type': 'Conv1d', 'alpha': 0.0, 'edge_enc': {'features': [1, 16, 16], 'N_layers': 2}, 'edge_dec': {'features': [16, 16, 1], 'N_layers': 2}, 'mp': {'edge_upd': {'features': [18, 16, 16], 'N_layers': 2}, 'node_upd': {'features': [17, 1, 1], 'N_layers': 2}, 'mp_rounds': 5}}, 'train_config': {'loss_type': 'low_freq_loss', 'model_type': 'precorrector', 'batch_size': 8, 'optimizer': <function adam at 0x7fa0b912ed40>, 'lr': 0.001, 'optim_params': {}, 'epoch_num': 1000}, 'seed': 42}.\n",
      "\n"
     ]
    },
    {
     "name": "stdout",
     "output_type": "stream",
     "text": [
      "Started: 1\n"
     ]
    },
    {
     "name": "stderr",
     "output_type": "stream",
     "text": [
      "[INFO | root | 2025-01-16 10:45:04] - Data is loaded in 2.812e+01 sec.\n",
      "\n",
      "[INFO | root | 2025-01-16 11:18:41] - Model is trained in 2.017e+03 sec.\n",
      "[INFO | root | 2025-01-16 11:18:41] - GNN's alpha = -0.0987.\n",
      "[INFO | root | 2025-01-16 11:18:41] - First and last losses: train = [2.376e+05, 1.691e+03], test = [4.744e+04, 1.722e+03]\n",
      ".\n",
      "[INFO | root | 2025-01-16 11:18:48] - Precs are combined:\n",
      "[INFO | root | 2025-01-16 11:18:48] -  classical prec construction time (sec) : mean = 4.626e-04, std = 9.256e-06;\n",
      "[INFO | root | 2025-01-16 11:18:48] -  GNN prec construction time (sec) : mean = 8.481e-04, std = 8.865e-05.\n",
      "\n",
      "[INFO | root | 2025-01-16 11:22:03] - CG with GNN is finished:\n",
      "[INFO | root | 2025-01-16 11:22:03] -  iterations to atol([mean, std]): {0.001: [63.5, 1.91], 1e-06: [81.2, 2.1], 1e-09: [98.2, 2.54], 1e-12: [114.9, 3.12]};\n",
      "[INFO | root | 2025-01-16 11:22:03] -  time to atol([mean, std]): {0.001: [0.5325, 0.02009], 1e-06: [0.6802, 0.02322], 1e-09: [0.822, 0.02827], 1e-12: [0.9616, 0.03402]};\n",
      "[INFO | root | 2025-01-16 11:22:03] -  number of linsystems for which CG did not conerge to atol: {0.001: 0, 1e-06: 0, 1e-09: 0, 1e-12: 0}.\n",
      "\n",
      "[INFO | root | 2025-01-16 11:28:07] - CG with classical prec is finished:\n",
      "[INFO | root | 2025-01-16 11:28:07] -  iterations to atol([mean, std]): {0.001: [147.5, 4.11], 1e-06: [186.2, 3.99], 1e-09: [217.9, 4.32], 1e-12: [245.3, 4.13]};\n",
      "[INFO | root | 2025-01-16 11:28:07] -  time to atol([mean, std]): {0.001: [1.0883, 0.17006], 1e-06: [1.3721, 0.21026], 1e-09: [1.6056, 0.24727], 1e-12: [1.8071, 0.27872]};\n",
      "[INFO | root | 2025-01-16 11:28:07] -  number of linsystems for which CG did not conerge to atol: {0.001: 0, 1e-06: 0, 1e-09: 0, 1e-12: 0}.\n",
      "\n",
      "[INFO | root | 2025-01-16 11:28:07] - Script with model `ua7uha` finished execution.\n",
      "\n",
      "\n",
      "\n",
      "[INFO | root | 2025-01-16 11:28:07] - %%%%%%%%%%%%%%%%%%%%%%%%%%%%%%%%%%%%%%%%%%%%%%%%%%%%%%%%%%%%%%%%%\n",
      "[INFO | root | 2025-01-16 11:28:07] - Script with model `hchos2` started execution.\n",
      "[INFO | root | 2025-01-16 11:28:07] - Config: {'path': '/mnt/local/data/vtrifonov/prec-learning-Notay-loss/', 'folder': 'results_cases/15_01_2024_dkg_g128', 'name': 'hchos2', 'model_use': 'train', 'save_model': True, 'cg_maxiter': 350, 'cg_atol': 1e-12, 'data_config': {'data_dir': '/mnt/local/data/vtrifonov/prec-learning-Notay-loss/', 'pde': 'div_k_grad', 'grid': 128, 'variance': 0.7, 'lhs_type': 'l_ic0', 'N_samples_train': 1000, 'N_samples_test': 200, 'precision': 'f64', 'fill_factor': 1, 'threshold': 0.0001}, 'model_config': {'layer_type': 'Conv1d', 'alpha': 0.0, 'edge_enc': {'features': [1, 16, 16], 'N_layers': 2}, 'edge_dec': {'features': [16, 16, 1], 'N_layers': 2}, 'mp': {'edge_upd': {'features': [18, 16, 16], 'N_layers': 2}, 'node_upd': {'features': [17, 1, 1], 'N_layers': 2}, 'mp_rounds': 5}}, 'train_config': {'loss_type': 'low_freq_loss', 'model_type': 'precorrector', 'batch_size': 8, 'optimizer': <function adam at 0x7fa0b912ed40>, 'lr': 0.001, 'optim_params': {}, 'epoch_num': 1000}, 'seed': 42}.\n",
      "\n"
     ]
    },
    {
     "name": "stdout",
     "output_type": "stream",
     "text": [
      "Started: 2\n"
     ]
    },
    {
     "name": "stderr",
     "output_type": "stream",
     "text": [
      "[INFO | root | 2025-01-16 11:28:27] - Data is loaded in 1.996e+01 sec.\n",
      "\n",
      "[INFO | root | 2025-01-16 12:02:03] - Model is trained in 2.017e+03 sec.\n",
      "[INFO | root | 2025-01-16 12:02:03] - GNN's alpha = -0.0885.\n",
      "[INFO | root | 2025-01-16 12:02:03] - First and last losses: train = [4.873e+05, 1.744e+03], test = [1.981e+05, 1.739e+03]\n",
      ".\n",
      "[INFO | root | 2025-01-16 12:02:11] - Precs are combined:\n",
      "[INFO | root | 2025-01-16 12:02:11] -  classical prec construction time (sec) : mean = 4.557e-04, std = 7.188e-06;\n",
      "[INFO | root | 2025-01-16 12:02:11] -  GNN prec construction time (sec) : mean = 8.416e-04, std = 8.956e-05.\n",
      "\n",
      "[INFO | root | 2025-01-16 12:05:51] - CG with GNN is finished:\n",
      "[INFO | root | 2025-01-16 12:05:51] -  iterations to atol([mean, std]): {0.001: [76.2, 5.15], 1e-06: [95.6, 6.12], 1e-09: [114.0, 7.04], 1e-12: [131.1, 7.56]};\n",
      "[INFO | root | 2025-01-16 12:05:51] -  time to atol([mean, std]): {0.001: [0.6329, 0.04279], 1e-06: [0.7943, 0.0507], 1e-09: [0.9462, 0.0584], 1e-12: [1.0877, 0.06287]};\n",
      "[INFO | root | 2025-01-16 12:05:51] -  number of linsystems for which CG did not conerge to atol: {0.001: 0, 1e-06: 0, 1e-09: 0, 1e-12: 0}.\n",
      "\n",
      "[INFO | root | 2025-01-16 12:12:27] - CG with classical prec is finished:\n",
      "[INFO | root | 2025-01-16 12:12:27] -  iterations to atol([mean, std]): {0.001: [157.4, 5.58], 1e-06: [197.1, 5.73], 1e-09: [229.2, 5.75], 1e-12: [256.5, 5.69]};\n",
      "[INFO | root | 2025-01-16 12:12:27] -  time to atol([mean, std]): {0.001: [1.2109, 0.16382], 1e-06: [1.5154, 0.20408], 1e-09: [1.7612, 0.23661], 1e-12: [1.9701, 0.26356]};\n",
      "[INFO | root | 2025-01-16 12:12:27] -  number of linsystems for which CG did not conerge to atol: {0.001: 0, 1e-06: 0, 1e-09: 0, 1e-12: 0}.\n",
      "\n",
      "[INFO | root | 2025-01-16 12:12:27] - Script with model `hchos2` finished execution.\n",
      "\n",
      "\n",
      "\n",
      "[INFO | root | 2025-01-16 12:12:27] - %%%%%%%%%%%%%%%%%%%%%%%%%%%%%%%%%%%%%%%%%%%%%%%%%%%%%%%%%%%%%%%%%\n",
      "[INFO | root | 2025-01-16 12:12:27] - Script with model `wl3lix` started execution.\n",
      "[INFO | root | 2025-01-16 12:12:27] - Config: {'path': '/mnt/local/data/vtrifonov/prec-learning-Notay-loss/', 'folder': 'results_cases/15_01_2024_dkg_g128', 'name': 'wl3lix', 'model_use': 'train', 'save_model': True, 'cg_maxiter': 350, 'cg_atol': 1e-12, 'data_config': {'data_dir': '/mnt/local/data/vtrifonov/prec-learning-Notay-loss/', 'pde': 'div_k_grad', 'grid': 128, 'variance': 0.1, 'lhs_type': 'l_ict', 'N_samples_train': 1000, 'N_samples_test': 200, 'precision': 'f64', 'fill_factor': 1, 'threshold': 0.0001}, 'model_config': {'layer_type': 'Conv1d', 'alpha': 0.0, 'edge_enc': {'features': [1, 16, 16], 'N_layers': 2}, 'edge_dec': {'features': [16, 16, 1], 'N_layers': 2}, 'mp': {'edge_upd': {'features': [18, 16, 16], 'N_layers': 2}, 'node_upd': {'features': [17, 1, 1], 'N_layers': 2}, 'mp_rounds': 5}}, 'train_config': {'loss_type': 'low_freq_loss', 'model_type': 'precorrector', 'batch_size': 8, 'optimizer': <function adam at 0x7fa0b912ed40>, 'lr': 0.001, 'optim_params': {}, 'epoch_num': 1000}, 'seed': 42}.\n",
      "\n"
     ]
    },
    {
     "name": "stdout",
     "output_type": "stream",
     "text": [
      "Started: 3\n"
     ]
    },
    {
     "name": "stderr",
     "output_type": "stream",
     "text": [
      "[INFO | root | 2025-01-16 12:12:53] - Data is loaded in 2.570e+01 sec.\n",
      "\n",
      "2025-01-16 12:12:59.076759: E external/xla/xla/service/slow_operation_alarm.cc:65] Trying algorithm eng21{k2=1,k4=0,k5=1,k6=0,k7=0} for conv (f32[16,16,1]{2,1,0}, u8[0]{0}) custom-call(f32[8,16,65025]{2,1,0}, f32[8,16,65025]{2,1,0}), window={size=1}, dim_labels=bf0_oi0->bf0, custom_call_target=\"__cudnn$convBackwardFilter\", backend_config={\"operation_queue_id\":\"0\",\"wait_on_operation_queues\":[],\"cudnn_conv_backend_config\":{\"conv_result_scale\":1,\"activation_mode\":\"kNone\",\"side_input_scale\":0,\"leakyrelu_alpha\":0},\"force_earliest_schedule\":false} is taking a while...\n",
      "2025-01-16 12:12:59.159414: E external/xla/xla/service/slow_operation_alarm.cc:133] The operation took 1.082802263s\n",
      "Trying algorithm eng21{k2=1,k4=0,k5=1,k6=0,k7=0} for conv (f32[16,16,1]{2,1,0}, u8[0]{0}) custom-call(f32[8,16,65025]{2,1,0}, f32[8,16,65025]{2,1,0}), window={size=1}, dim_labels=bf0_oi0->bf0, custom_call_target=\"__cudnn$convBackwardFilter\", backend_config={\"operation_queue_id\":\"0\",\"wait_on_operation_queues\":[],\"cudnn_conv_backend_config\":{\"conv_result_scale\":1,\"activation_mode\":\"kNone\",\"side_input_scale\":0,\"leakyrelu_alpha\":0},\"force_earliest_schedule\":false} is taking a while...\n",
      "[INFO | root | 2025-01-16 13:00:16] - Model is trained in 2.844e+03 sec.\n",
      "[INFO | root | 2025-01-16 13:00:16] - GNN's alpha = -0.0918.\n",
      "[INFO | root | 2025-01-16 13:00:16] - First and last losses: train = [1.453e+04, 5.652e+02], test = [1.327e+03, 5.629e+02]\n",
      ".\n",
      "[INFO | root | 2025-01-16 13:00:31] - Precs are combined:\n",
      "[INFO | root | 2025-01-16 13:00:31] -  classical prec construction time (sec) : mean = 3.077e-03, std = 5.188e-05;\n",
      "[INFO | root | 2025-01-16 13:00:31] -  GNN prec construction time (sec) : mean = 3.611e-03, std = 1.455e-04.\n",
      "\n",
      "[INFO | root | 2025-01-16 13:02:14] - CG with GNN is finished:\n",
      "[INFO | root | 2025-01-16 13:02:14] -  iterations to atol([mean, std]): {0.001: [38.0, 0.6], 1e-06: [48.7, 0.74], 1e-09: [58.4, 0.64], 1e-12: [67.5, 0.68]};\n",
      "[INFO | root | 2025-01-16 13:02:14] -  time to atol([mean, std]): {0.001: [0.2877, 0.03314], 1e-06: [0.3668, 0.0433], 1e-09: [0.439, 0.05117], 1e-12: [0.5071, 0.05842]};\n",
      "[INFO | root | 2025-01-16 13:02:14] -  number of linsystems for which CG did not conerge to atol: {0.001: 0, 1e-06: 0, 1e-09: 0, 1e-12: 0}.\n",
      "\n",
      "[INFO | root | 2025-01-16 13:05:47] - CG with classical prec is finished:\n",
      "[INFO | root | 2025-01-16 13:05:47] -  iterations to atol([mean, std]): {0.001: [80.3, 1.4], 1e-06: [102.9, 1.41], 1e-09: [121.0, 1.2], 1e-12: [137.3, 1.23]};\n",
      "[INFO | root | 2025-01-16 13:05:47] -  time to atol([mean, std]): {0.001: [0.6176, 0.07117], 1e-06: [0.7901, 0.09035], 1e-09: [0.93, 0.10704], 1e-12: [1.0554, 0.12121]};\n",
      "[INFO | root | 2025-01-16 13:05:47] -  number of linsystems for which CG did not conerge to atol: {0.001: 0, 1e-06: 0, 1e-09: 0, 1e-12: 0}.\n",
      "\n",
      "[INFO | root | 2025-01-16 13:05:47] - Script with model `wl3lix` finished execution.\n",
      "\n",
      "\n",
      "\n",
      "[INFO | root | 2025-01-16 13:05:47] - %%%%%%%%%%%%%%%%%%%%%%%%%%%%%%%%%%%%%%%%%%%%%%%%%%%%%%%%%%%%%%%%%\n",
      "[INFO | root | 2025-01-16 13:05:47] - Script with model `3z4vdx` started execution.\n",
      "[INFO | root | 2025-01-16 13:05:47] - Config: {'path': '/mnt/local/data/vtrifonov/prec-learning-Notay-loss/', 'folder': 'results_cases/15_01_2024_dkg_g128', 'name': '3z4vdx', 'model_use': 'train', 'save_model': True, 'cg_maxiter': 350, 'cg_atol': 1e-12, 'data_config': {'data_dir': '/mnt/local/data/vtrifonov/prec-learning-Notay-loss/', 'pde': 'div_k_grad', 'grid': 128, 'variance': 0.5, 'lhs_type': 'l_ict', 'N_samples_train': 1000, 'N_samples_test': 200, 'precision': 'f64', 'fill_factor': 1, 'threshold': 0.0001}, 'model_config': {'layer_type': 'Conv1d', 'alpha': 0.0, 'edge_enc': {'features': [1, 16, 16], 'N_layers': 2}, 'edge_dec': {'features': [16, 16, 1], 'N_layers': 2}, 'mp': {'edge_upd': {'features': [18, 16, 16], 'N_layers': 2}, 'node_upd': {'features': [17, 1, 1], 'N_layers': 2}, 'mp_rounds': 5}}, 'train_config': {'loss_type': 'low_freq_loss', 'model_type': 'precorrector', 'batch_size': 8, 'optimizer': <function adam at 0x7fa0b912ed40>, 'lr': 0.001, 'optim_params': {}, 'epoch_num': 1000}, 'seed': 42}.\n",
      "\n"
     ]
    },
    {
     "name": "stdout",
     "output_type": "stream",
     "text": [
      "Started: 4\n"
     ]
    },
    {
     "name": "stderr",
     "output_type": "stream",
     "text": [
      "[INFO | root | 2025-01-16 13:06:10] - Data is loaded in 2.289e+01 sec.\n",
      "\n",
      "[INFO | root | 2025-01-16 13:53:29] - Model is trained in 2.838e+03 sec.\n",
      "[INFO | root | 2025-01-16 13:53:29] - GNN's alpha = -0.0709.\n",
      "[INFO | root | 2025-01-16 13:53:29] - First and last losses: train = [2.805e+04, 5.985e+02], test = [8.984e+03, 5.915e+02]\n",
      ".\n",
      "[INFO | root | 2025-01-16 13:53:37] - Precs are combined:\n",
      "[INFO | root | 2025-01-16 13:53:37] -  classical prec construction time (sec) : mean = 3.118e-03, std = 2.525e-05;\n",
      "[INFO | root | 2025-01-16 13:53:37] -  GNN prec construction time (sec) : mean = 3.652e-03, std = 1.455e-04.\n",
      "\n",
      "[INFO | root | 2025-01-16 13:56:07] - CG with GNN is finished:\n",
      "[INFO | root | 2025-01-16 13:56:07] -  iterations to atol([mean, std]): {0.001: [44.0, 1.52], 1e-06: [56.2, 1.78], 1e-09: [68.0, 1.83], 1e-12: [79.2, 1.89]};\n",
      "[INFO | root | 2025-01-16 13:56:07] -  time to atol([mean, std]): {0.001: [0.4156, 0.01657], 1e-06: [0.5293, 0.01929], 1e-09: [0.6396, 0.02115], 1e-12: [0.7446, 0.02375]};\n",
      "[INFO | root | 2025-01-16 13:56:07] -  number of linsystems for which CG did not conerge to atol: {0.001: 0, 1e-06: 0, 1e-09: 0, 1e-12: 0}.\n",
      "\n",
      "[INFO | root | 2025-01-16 14:00:41] - CG with classical prec is finished:\n",
      "[INFO | root | 2025-01-16 14:00:41] -  iterations to atol([mean, std]): {0.001: [89.7, 2.48], 1e-06: [113.3, 2.54], 1e-09: [132.8, 2.65], 1e-12: [149.7, 2.58]};\n",
      "[INFO | root | 2025-01-16 14:00:41] -  time to atol([mean, std]): {0.001: [0.8163, 0.07239], 1e-06: [1.0315, 0.0853], 1e-09: [1.2078, 0.09919], 1e-12: [1.3609, 0.11141]};\n",
      "[INFO | root | 2025-01-16 14:00:41] -  number of linsystems for which CG did not conerge to atol: {0.001: 0, 1e-06: 0, 1e-09: 0, 1e-12: 0}.\n",
      "\n",
      "[INFO | root | 2025-01-16 14:00:41] - Script with model `3z4vdx` finished execution.\n",
      "\n",
      "\n",
      "\n",
      "[INFO | root | 2025-01-16 14:00:41] - %%%%%%%%%%%%%%%%%%%%%%%%%%%%%%%%%%%%%%%%%%%%%%%%%%%%%%%%%%%%%%%%%\n",
      "[INFO | root | 2025-01-16 14:00:41] - Script with model `7pxa4f` started execution.\n",
      "[INFO | root | 2025-01-16 14:00:41] - Config: {'path': '/mnt/local/data/vtrifonov/prec-learning-Notay-loss/', 'folder': 'results_cases/15_01_2024_dkg_g128', 'name': '7pxa4f', 'model_use': 'train', 'save_model': True, 'cg_maxiter': 350, 'cg_atol': 1e-12, 'data_config': {'data_dir': '/mnt/local/data/vtrifonov/prec-learning-Notay-loss/', 'pde': 'div_k_grad', 'grid': 128, 'variance': 0.7, 'lhs_type': 'l_ict', 'N_samples_train': 1000, 'N_samples_test': 200, 'precision': 'f64', 'fill_factor': 1, 'threshold': 0.0001}, 'model_config': {'layer_type': 'Conv1d', 'alpha': 0.0, 'edge_enc': {'features': [1, 16, 16], 'N_layers': 2}, 'edge_dec': {'features': [16, 16, 1], 'N_layers': 2}, 'mp': {'edge_upd': {'features': [18, 16, 16], 'N_layers': 2}, 'node_upd': {'features': [17, 1, 1], 'N_layers': 2}, 'mp_rounds': 5}}, 'train_config': {'loss_type': 'low_freq_loss', 'model_type': 'precorrector', 'batch_size': 8, 'optimizer': <function adam at 0x7fa0b912ed40>, 'lr': 0.001, 'optim_params': {}, 'epoch_num': 1000}, 'seed': 42}.\n",
      "\n"
     ]
    },
    {
     "name": "stdout",
     "output_type": "stream",
     "text": [
      "Started: 5\n"
     ]
    },
    {
     "name": "stderr",
     "output_type": "stream",
     "text": [
      "[INFO | root | 2025-01-16 14:01:04] - Data is loaded in 2.257e+01 sec.\n",
      "\n",
      "[INFO | root | 2025-01-16 14:48:22] - Model is trained in 2.838e+03 sec.\n",
      "[INFO | root | 2025-01-16 14:48:22] - GNN's alpha = -0.0728.\n",
      "[INFO | root | 2025-01-16 14:48:22] - First and last losses: train = [5.800e+04, 6.340e+02], test = [3.307e+04, 6.342e+02]\n",
      ".\n",
      "[INFO | root | 2025-01-16 14:48:30] - Precs are combined:\n",
      "[INFO | root | 2025-01-16 14:48:30] -  classical prec construction time (sec) : mean = 3.047e-03, std = 4.245e-05;\n",
      "[INFO | root | 2025-01-16 14:48:30] -  GNN prec construction time (sec) : mean = 3.582e-03, std = 1.441e-04.\n",
      "\n",
      "[INFO | root | 2025-01-16 14:51:20] - CG with GNN is finished:\n",
      "[INFO | root | 2025-01-16 14:51:20] -  iterations to atol([mean, std]): {0.001: [52.2, 3.3], 1e-06: [66.0, 3.78], 1e-09: [78.8, 4.1], 1e-12: [90.9, 4.46]};\n",
      "[INFO | root | 2025-01-16 14:51:20] -  time to atol([mean, std]): {0.001: [0.4839, 0.04099], 1e-06: [0.6106, 0.04897], 1e-09: [0.7278, 0.05571], 1e-12: [0.8391, 0.0634]};\n",
      "[INFO | root | 2025-01-16 14:51:20] -  number of linsystems for which CG did not conerge to atol: {0.001: 0, 1e-06: 0, 1e-09: 0, 1e-12: 0}.\n",
      "\n",
      "[INFO | root | 2025-01-16 14:55:12] - CG with classical prec is finished:\n",
      "[INFO | root | 2025-01-16 14:55:12] -  iterations to atol([mean, std]): {0.001: [95.6, 3.37], 1e-06: [119.9, 3.52], 1e-09: [139.7, 3.52], 1e-12: [156.4, 3.59]};\n",
      "[INFO | root | 2025-01-16 14:55:12] -  time to atol([mean, std]): {0.001: [0.7062, 0.07314], 1e-06: [0.8844, 0.08829], 1e-09: [1.03, 0.10348], 1e-12: [1.1535, 0.11531]};\n",
      "[INFO | root | 2025-01-16 14:55:12] -  number of linsystems for which CG did not conerge to atol: {0.001: 0, 1e-06: 0, 1e-09: 0, 1e-12: 0}.\n",
      "\n",
      "[INFO | root | 2025-01-16 14:55:12] - Script with model `7pxa4f` finished execution.\n",
      "\n",
      "\n",
      "\n"
     ]
    }
   ],
   "source": [
    "grid_train(base_config, params_grid)"
   ]
  },
  {
   "cell_type": "code",
   "execution_count": 8,
   "id": "b50d3e49",
   "metadata": {},
   "outputs": [],
   "source": [
    "exit()"
   ]
  },
  {
   "cell_type": "code",
   "execution_count": null,
   "id": "08d8f530",
   "metadata": {},
   "outputs": [],
   "source": []
  }
 ],
 "metadata": {
  "kernelspec": {
   "display_name": "Python 3 (ipykernel)",
   "language": "python",
   "name": "python3"
  },
  "language_info": {
   "codemirror_mode": {
    "name": "ipython",
    "version": 3
   },
   "file_extension": ".py",
   "mimetype": "text/x-python",
   "name": "python",
   "nbconvert_exporter": "python",
   "pygments_lexer": "ipython3",
   "version": "3.10.6"
  }
 },
 "nbformat": 4,
 "nbformat_minor": 5
}
