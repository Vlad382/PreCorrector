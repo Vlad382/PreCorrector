{
 "cells": [
  {
   "cell_type": "code",
   "execution_count": 1,
   "id": "747c2732",
   "metadata": {},
   "outputs": [],
   "source": [
    "import sys\n",
    "import os\n",
    "os.environ[\"CUDA_VISIBLE_DEVICES\"] = '3'\n",
    "os.environ['XLA_PYTHON_CLIENT_MEM_FRACTION'] = '.95'\n",
    "sys.path.append('/mnt/local/data/vtrifonov/prec-learning-Notay-loss/')"
   ]
  },
  {
   "cell_type": "code",
   "execution_count": 2,
   "id": "bd62ab26",
   "metadata": {},
   "outputs": [],
   "source": [
    "import optax\n",
    "import numpy as np\n",
    "from sklearn.model_selection import ParameterGrid\n",
    "\n",
    "from script_train import grid_train\n",
    "from config import default_precorrector_config"
   ]
  },
  {
   "cell_type": "code",
   "execution_count": 3,
   "id": "2f3e8ce4",
   "metadata": {},
   "outputs": [],
   "source": [
    "seed = 42\n",
    "path = '/mnt/local/data/vtrifonov/prec-learning-Notay-loss/'\n",
    "folder = 'results_cases/16_01_2024_dkg_noRhs'"
   ]
  },
  {
   "cell_type": "code",
   "execution_count": 4,
   "id": "ff057ab2",
   "metadata": {},
   "outputs": [],
   "source": [
    "model_config = default_precorrector_config\n",
    "\n",
    "data_config = {\n",
    "    'data_dir': path,\n",
    "    'pde': np.nan,\n",
    "    'grid': np.nan,\n",
    "    'variance': np.nan,\n",
    "    'lhs_type': np.nan,\n",
    "    'N_samples_train': 1000,\n",
    "    'N_samples_test': 200,\n",
    "    'precision': 'f64',\n",
    "    'fill_factor': 1,\n",
    "    'threshold': 1e-4\n",
    "}\n",
    "\n",
    "train_config = {\n",
    "    'loss_type': 'low_freq_loss',\n",
    "    'model_type': 'precorrector',\n",
    "    'batch_size': 8,\n",
    "    'optimizer': optax.adam,\n",
    "    'lr': 1e-3,\n",
    "    'optim_params': {},\n",
    "    'epoch_num': 500\n",
    "}\n",
    "\n",
    "base_config = {\n",
    "    'path': path,\n",
    "    'folder': folder,\n",
    "    'name': np.nan,\n",
    "    'model_use': 'train',\n",
    "    'save_model': True,\n",
    "    'cg_maxiter': np.nan,\n",
    "    'cg_atol': 1e-12,\n",
    "    'data_config': data_config,\n",
    "    'model_config': model_config,\n",
    "    'train_config': train_config,\n",
    "    'seed': seed\n",
    "}"
   ]
  },
  {
   "cell_type": "code",
   "execution_count": 5,
   "id": "4facbb79",
   "metadata": {},
   "outputs": [],
   "source": [
    "params_dkg = {\n",
    "    'cg_maxiter': [350],\n",
    "    'model_type': ['precorrector_rhs_ones'],\n",
    "    'loss_type': ['low_freq_loss', 'high_freq_loss'],\n",
    "    'batch_size': [8],\n",
    "    'lr': [1e-3],\n",
    "    'epoch_num': [1000],\n",
    "    'pde': ['div_k_grad'],\n",
    "    'grid': [32, 64, 128],\n",
    "    'variance': [.1, .5, .7],\n",
    "    'lhs_type': ['l_ic0', 'l_ict'],\n",
    "    'fill_factor': [1],\n",
    "    'threshold': [1e-4]\n",
    "}\n",
    "params_grid = ParameterGrid(params_dkg)"
   ]
  },
  {
   "cell_type": "code",
   "execution_count": null,
   "id": "aea3c92b",
   "metadata": {},
   "outputs": [
    {
     "name": "stdout",
     "output_type": "stream",
     "text": [
      "Started: 0\n"
     ]
    },
    {
     "name": "stderr",
     "output_type": "stream",
     "text": [
      "2025-01-16 14:02:44.180556: W external/xla/xla/service/gpu/nvptx_compiler.cc:760] The NVIDIA driver's CUDA version is 12.4 which is older than the ptxas CUDA version (12.5.40). Because the driver is older than the ptxas version, XLA is disabling parallel compilation, which may slow down compilation. You should update your NVIDIA driver or use the NVIDIA-provided CUDA forward compatibility packages.\n",
      "[INFO | root | 2025-01-16 14:02:44] - %%%%%%%%%%%%%%%%%%%%%%%%%%%%%%%%%%%%%%%%%%%%%%%%%%%%%%%%%%%%%%%%%\n",
      "[INFO | root | 2025-01-16 14:02:44] - Script with model `qpxrpn` started execution.\n",
      "[INFO | root | 2025-01-16 14:02:44] - Config: {'path': '/mnt/local/data/vtrifonov/prec-learning-Notay-loss/', 'folder': 'results_cases/16_01_2024_dkg_noRhs', 'name': 'qpxrpn', 'model_use': 'train', 'save_model': True, 'cg_maxiter': 350, 'cg_atol': 1e-12, 'data_config': {'data_dir': '/mnt/local/data/vtrifonov/prec-learning-Notay-loss/', 'pde': 'div_k_grad', 'grid': 32, 'variance': 0.1, 'lhs_type': 'l_ic0', 'N_samples_train': 1000, 'N_samples_test': 200, 'precision': 'f64', 'fill_factor': 1, 'threshold': 0.0001}, 'model_config': {'layer_type': 'Conv1d', 'alpha': 0.0, 'edge_enc': {'features': [1, 16, 16], 'N_layers': 2}, 'edge_dec': {'features': [16, 16, 1], 'N_layers': 2}, 'mp': {'edge_upd': {'features': [18, 16, 16], 'N_layers': 2}, 'node_upd': {'features': [17, 1, 1], 'N_layers': 2}, 'mp_rounds': 5}}, 'train_config': {'loss_type': 'low_freq_loss', 'model_type': 'precorrector_rhs_ones', 'batch_size': 8, 'optimizer': <function adam at 0x7f5cbd32e9e0>, 'lr': 0.001, 'optim_params': {}, 'epoch_num': 1000}, 'seed': 42}.\n",
      "\n",
      "[INFO | root | 2025-01-16 14:03:03] - Data is loaded in 1.863e+01 sec.\n",
      "\n",
      "[INFO | root | 2025-01-16 14:06:22] - Model is trained in 1.991e+02 sec.\n",
      "[INFO | root | 2025-01-16 14:06:22] - GNN's alpha = -0.1202.\n",
      "[INFO | root | 2025-01-16 14:06:22] - First and last losses: train = [6.010e+02, 7.976e+01], test = [1.570e+02, 7.894e+01].\n",
      "\n",
      "[INFO | root | 2025-01-16 14:06:30] - Precs are combined:\n",
      "[INFO | root | 2025-01-16 14:06:30] -  classical prec construction time (sec) : mean = 7.382e-05, std = 1.811e-06;\n",
      "[INFO | root | 2025-01-16 14:06:30] -  GNN prec construction time (sec) : mean = 2.838e-04, std = 9.598e-06.\n",
      "\n",
      "[INFO | root | 2025-01-16 14:06:43] - CG with GNN is finished:\n",
      "[INFO | root | 2025-01-16 14:06:43] -  iterations to atol([mean, std]): {0.001: [21.8, 0.49], 1e-06: [28.9, 0.49], 1e-09: [35.6, 0.52], 1e-12: [41.9, 0.38]};\n",
      "[INFO | root | 2025-01-16 14:06:43] -  time to atol([mean, std]): {0.001: [0.0294, 0.00079], 1e-06: [0.0386, 0.00081], 1e-09: [0.0473, 0.00089], 1e-12: [0.0555, 0.00074]};\n",
      "[INFO | root | 2025-01-16 14:06:43] -  number of linsystems for which CG did not conerge to atol: {0.001: 0, 1e-06: 0, 1e-09: 0, 1e-12: 0}.\n",
      "\n",
      "[INFO | root | 2025-01-16 14:07:01] - CG with classical prec is finished:\n",
      "[INFO | root | 2025-01-16 14:07:01] -  iterations to atol([mean, std]): {0.001: [33.3, 0.67], 1e-06: [43.2, 0.76], 1e-09: [51.5, 0.57], 1e-12: [58.9, 0.58]};\n",
      "[INFO | root | 2025-01-16 14:07:01] -  time to atol([mean, std]): {0.001: [0.0444, 0.00238], 1e-06: [0.0572, 0.003], 1e-09: [0.068, 0.00336], 1e-12: [0.0777, 0.00366]};\n",
      "[INFO | root | 2025-01-16 14:07:01] -  number of linsystems for which CG did not conerge to atol: {0.001: 0, 1e-06: 0, 1e-09: 0, 1e-12: 0}.\n",
      "\n",
      "[INFO | root | 2025-01-16 14:07:01] - Script with model `qpxrpn` finished execution.\n",
      "\n",
      "\n",
      "\n",
      "[INFO | root | 2025-01-16 14:07:01] - %%%%%%%%%%%%%%%%%%%%%%%%%%%%%%%%%%%%%%%%%%%%%%%%%%%%%%%%%%%%%%%%%\n",
      "[INFO | root | 2025-01-16 14:07:01] - Script with model `mj6kri` started execution.\n",
      "[INFO | root | 2025-01-16 14:07:01] - Config: {'path': '/mnt/local/data/vtrifonov/prec-learning-Notay-loss/', 'folder': 'results_cases/16_01_2024_dkg_noRhs', 'name': 'mj6kri', 'model_use': 'train', 'save_model': True, 'cg_maxiter': 350, 'cg_atol': 1e-12, 'data_config': {'data_dir': '/mnt/local/data/vtrifonov/prec-learning-Notay-loss/', 'pde': 'div_k_grad', 'grid': 32, 'variance': 0.5, 'lhs_type': 'l_ic0', 'N_samples_train': 1000, 'N_samples_test': 200, 'precision': 'f64', 'fill_factor': 1, 'threshold': 0.0001}, 'model_config': {'layer_type': 'Conv1d', 'alpha': 0.0, 'edge_enc': {'features': [1, 16, 16], 'N_layers': 2}, 'edge_dec': {'features': [16, 16, 1], 'N_layers': 2}, 'mp': {'edge_upd': {'features': [18, 16, 16], 'N_layers': 2}, 'node_upd': {'features': [17, 1, 1], 'N_layers': 2}, 'mp_rounds': 5}}, 'train_config': {'loss_type': 'low_freq_loss', 'model_type': 'precorrector_rhs_ones', 'batch_size': 8, 'optimizer': <function adam at 0x7f5cbd32e9e0>, 'lr': 0.001, 'optim_params': {}, 'epoch_num': 1000}, 'seed': 42}.\n",
      "\n"
     ]
    },
    {
     "name": "stdout",
     "output_type": "stream",
     "text": [
      "Started: 1\n"
     ]
    },
    {
     "name": "stderr",
     "output_type": "stream",
     "text": [
      "[INFO | root | 2025-01-16 14:07:16] - Data is loaded in 1.541e+01 sec.\n",
      "\n",
      "[INFO | root | 2025-01-16 14:10:30] - Model is trained in 1.937e+02 sec.\n",
      "[INFO | root | 2025-01-16 14:10:30] - GNN's alpha = -0.0948.\n",
      "[INFO | root | 2025-01-16 14:10:30] - First and last losses: train = [1.438e+03, 1.074e+02], test = [7.077e+02, 1.099e+02].\n",
      "\n",
      "[INFO | root | 2025-01-16 14:10:35] - Precs are combined:\n",
      "[INFO | root | 2025-01-16 14:10:35] -  classical prec construction time (sec) : mean = 8.969e-05, std = 7.842e-06;\n",
      "[INFO | root | 2025-01-16 14:10:35] -  GNN prec construction time (sec) : mean = 2.970e-04, std = 9.539e-06.\n",
      "\n",
      "[INFO | root | 2025-01-16 14:10:49] - CG with GNN is finished:\n",
      "[INFO | root | 2025-01-16 14:10:49] -  iterations to atol([mean, std]): {0.001: [24.7, 0.78], 1e-06: [32.4, 0.89], 1e-09: [39.8, 1.0], 1e-12: [46.8, 1.13]};\n",
      "[INFO | root | 2025-01-16 14:10:49] -  time to atol([mean, std]): {0.001: [0.0336, 0.00109], 1e-06: [0.0438, 0.00127], 1e-09: [0.0535, 0.00143], 1e-12: [0.0629, 0.00162]};\n",
      "[INFO | root | 2025-01-16 14:10:49] -  number of linsystems for which CG did not conerge to atol: {0.001: 0, 1e-06: 0, 1e-09: 0, 1e-12: 0}.\n",
      "\n",
      "[INFO | root | 2025-01-16 14:11:08] - CG with classical prec is finished:\n",
      "[INFO | root | 2025-01-16 14:11:08] -  iterations to atol([mean, std]): {0.001: [37.4, 1.15], 1e-06: [47.8, 1.12], 1e-09: [56.6, 1.16], 1e-12: [64.1, 1.18]};\n",
      "[INFO | root | 2025-01-16 14:11:08] -  time to atol([mean, std]): {0.001: [0.0502, 0.00159], 1e-06: [0.0639, 0.00155], 1e-09: [0.0755, 0.00158], 1e-12: [0.0855, 0.00164]};\n",
      "[INFO | root | 2025-01-16 14:11:08] -  number of linsystems for which CG did not conerge to atol: {0.001: 0, 1e-06: 0, 1e-09: 0, 1e-12: 0}.\n",
      "\n",
      "[INFO | root | 2025-01-16 14:11:08] - Script with model `mj6kri` finished execution.\n",
      "\n",
      "\n",
      "\n",
      "[INFO | root | 2025-01-16 14:11:08] - %%%%%%%%%%%%%%%%%%%%%%%%%%%%%%%%%%%%%%%%%%%%%%%%%%%%%%%%%%%%%%%%%\n",
      "[INFO | root | 2025-01-16 14:11:08] - Script with model `f83kmv` started execution.\n",
      "[INFO | root | 2025-01-16 14:11:08] - Config: {'path': '/mnt/local/data/vtrifonov/prec-learning-Notay-loss/', 'folder': 'results_cases/16_01_2024_dkg_noRhs', 'name': 'f83kmv', 'model_use': 'train', 'save_model': True, 'cg_maxiter': 350, 'cg_atol': 1e-12, 'data_config': {'data_dir': '/mnt/local/data/vtrifonov/prec-learning-Notay-loss/', 'pde': 'div_k_grad', 'grid': 32, 'variance': 0.7, 'lhs_type': 'l_ic0', 'N_samples_train': 1000, 'N_samples_test': 200, 'precision': 'f64', 'fill_factor': 1, 'threshold': 0.0001}, 'model_config': {'layer_type': 'Conv1d', 'alpha': 0.0, 'edge_enc': {'features': [1, 16, 16], 'N_layers': 2}, 'edge_dec': {'features': [16, 16, 1], 'N_layers': 2}, 'mp': {'edge_upd': {'features': [18, 16, 16], 'N_layers': 2}, 'node_upd': {'features': [17, 1, 1], 'N_layers': 2}, 'mp_rounds': 5}}, 'train_config': {'loss_type': 'low_freq_loss', 'model_type': 'precorrector_rhs_ones', 'batch_size': 8, 'optimizer': <function adam at 0x7f5cbd32e9e0>, 'lr': 0.001, 'optim_params': {}, 'epoch_num': 1000}, 'seed': 42}.\n",
      "\n"
     ]
    },
    {
     "name": "stdout",
     "output_type": "stream",
     "text": [
      "Started: 2\n"
     ]
    },
    {
     "name": "stderr",
     "output_type": "stream",
     "text": [
      "[INFO | root | 2025-01-16 14:11:23] - Data is loaded in 1.465e+01 sec.\n",
      "\n",
      "[INFO | root | 2025-01-16 14:14:36] - Model is trained in 1.935e+02 sec.\n",
      "[INFO | root | 2025-01-16 14:14:36] - GNN's alpha = -0.1209.\n",
      "[INFO | root | 2025-01-16 14:14:36] - First and last losses: train = [2.160e+03, 1.327e+02], test = [1.063e+03, 1.343e+02].\n",
      "\n",
      "[INFO | root | 2025-01-16 14:14:41] - Precs are combined:\n",
      "[INFO | root | 2025-01-16 14:14:41] -  classical prec construction time (sec) : mean = 7.880e-05, std = 2.781e-06;\n",
      "[INFO | root | 2025-01-16 14:14:41] -  GNN prec construction time (sec) : mean = 2.847e-04, std = 8.066e-06.\n",
      "\n",
      "[INFO | root | 2025-01-16 14:14:57] - CG with GNN is finished:\n",
      "[INFO | root | 2025-01-16 14:14:57] -  iterations to atol([mean, std]): {0.001: [26.5, 0.95], 1e-06: [34.8, 1.14], 1e-09: [42.8, 1.36], 1e-12: [50.7, 1.6]};\n",
      "[INFO | root | 2025-01-16 14:14:57] -  time to atol([mean, std]): {0.001: [0.0373, 0.00312], 1e-06: [0.0486, 0.00411], 1e-09: [0.0597, 0.00517], 1e-12: [0.0704, 0.0062]};\n",
      "[INFO | root | 2025-01-16 14:14:57] -  number of linsystems for which CG did not conerge to atol: {0.001: 0, 1e-06: 0, 1e-09: 0, 1e-12: 0}.\n",
      "\n",
      "[INFO | root | 2025-01-16 14:15:17] - CG with classical prec is finished:\n",
      "[INFO | root | 2025-01-16 14:15:17] -  iterations to atol([mean, std]): {0.001: [39.8, 1.38], 1e-06: [50.5, 1.55], 1e-09: [59.3, 1.47], 1e-12: [67.1, 1.46]};\n",
      "[INFO | root | 2025-01-16 14:15:17] -  time to atol([mean, std]): {0.001: [0.053, 0.00189], 1e-06: [0.067, 0.00205], 1e-09: [0.0786, 0.00201], 1e-12: [0.0887, 0.002]};\n",
      "[INFO | root | 2025-01-16 14:15:17] -  number of linsystems for which CG did not conerge to atol: {0.001: 0, 1e-06: 0, 1e-09: 0, 1e-12: 0}.\n",
      "\n",
      "[INFO | root | 2025-01-16 14:15:17] - Script with model `f83kmv` finished execution.\n",
      "\n",
      "\n",
      "\n",
      "[INFO | root | 2025-01-16 14:15:17] - %%%%%%%%%%%%%%%%%%%%%%%%%%%%%%%%%%%%%%%%%%%%%%%%%%%%%%%%%%%%%%%%%\n",
      "[INFO | root | 2025-01-16 14:15:17] - Script with model `0xz29r` started execution.\n",
      "[INFO | root | 2025-01-16 14:15:17] - Config: {'path': '/mnt/local/data/vtrifonov/prec-learning-Notay-loss/', 'folder': 'results_cases/16_01_2024_dkg_noRhs', 'name': '0xz29r', 'model_use': 'train', 'save_model': True, 'cg_maxiter': 350, 'cg_atol': 1e-12, 'data_config': {'data_dir': '/mnt/local/data/vtrifonov/prec-learning-Notay-loss/', 'pde': 'div_k_grad', 'grid': 32, 'variance': 0.1, 'lhs_type': 'l_ic0', 'N_samples_train': 1000, 'N_samples_test': 200, 'precision': 'f64', 'fill_factor': 1, 'threshold': 0.0001}, 'model_config': {'layer_type': 'Conv1d', 'alpha': 0.0, 'edge_enc': {'features': [1, 16, 16], 'N_layers': 2}, 'edge_dec': {'features': [16, 16, 1], 'N_layers': 2}, 'mp': {'edge_upd': {'features': [18, 16, 16], 'N_layers': 2}, 'node_upd': {'features': [17, 1, 1], 'N_layers': 2}, 'mp_rounds': 5}}, 'train_config': {'loss_type': 'high_freq_loss', 'model_type': 'precorrector_rhs_ones', 'batch_size': 8, 'optimizer': <function adam at 0x7f5cbd32e9e0>, 'lr': 0.001, 'optim_params': {}, 'epoch_num': 1000}, 'seed': 42}.\n",
      "\n"
     ]
    },
    {
     "name": "stdout",
     "output_type": "stream",
     "text": [
      "Started: 3\n"
     ]
    },
    {
     "name": "stderr",
     "output_type": "stream",
     "text": [
      "[INFO | root | 2025-01-16 14:15:31] - Data is loaded in 1.447e+01 sec.\n",
      "\n",
      "[INFO | root | 2025-01-16 14:18:48] - Model is trained in 1.965e+02 sec.\n",
      "[INFO | root | 2025-01-16 14:18:48] - GNN's alpha = 0.0839.\n",
      "[INFO | root | 2025-01-16 14:18:48] - First and last losses: train = [2.012e+08, 1.921e+08], test = [1.947e+08, 1.924e+08].\n",
      "\n",
      "[INFO | root | 2025-01-16 14:18:52] - Precs are combined:\n",
      "[INFO | root | 2025-01-16 14:18:52] -  classical prec construction time (sec) : mean = 7.698e-05, std = 1.720e-06;\n",
      "[INFO | root | 2025-01-16 14:18:52] -  GNN prec construction time (sec) : mean = 2.812e-04, std = 9.984e-06.\n",
      "\n",
      "[INFO | root | 2025-01-16 14:19:12] - CG with GNN is finished:\n",
      "[INFO | root | 2025-01-16 14:19:12] -  iterations to atol([mean, std]): {0.001: [37.4, 0.72], 1e-06: [48.6, 0.78], 1e-09: [57.8, 0.58], 1e-12: [66.0, 0.6]};\n",
      "[INFO | root | 2025-01-16 14:19:12] -  time to atol([mean, std]): {0.001: [0.0507, 0.00305], 1e-06: [0.0654, 0.00379], 1e-09: [0.0776, 0.00398], 1e-12: [0.0885, 0.00423]};\n",
      "[INFO | root | 2025-01-16 14:19:12] -  number of linsystems for which CG did not conerge to atol: {0.001: 0, 1e-06: 0, 1e-09: 0, 1e-12: 0}.\n",
      "\n",
      "[INFO | root | 2025-01-16 14:19:29] - CG with classical prec is finished:\n",
      "[INFO | root | 2025-01-16 14:19:29] -  iterations to atol([mean, std]): {0.001: [33.3, 0.67], 1e-06: [43.2, 0.76], 1e-09: [51.5, 0.57], 1e-12: [58.9, 0.58]};\n",
      "[INFO | root | 2025-01-16 14:19:29] -  time to atol([mean, std]): {0.001: [0.0447, 0.00126], 1e-06: [0.0577, 0.00126], 1e-09: [0.0686, 0.00119], 1e-12: [0.0784, 0.00116]};\n",
      "[INFO | root | 2025-01-16 14:19:29] -  number of linsystems for which CG did not conerge to atol: {0.001: 0, 1e-06: 0, 1e-09: 0, 1e-12: 0}.\n",
      "\n",
      "[INFO | root | 2025-01-16 14:19:29] - Script with model `0xz29r` finished execution.\n",
      "\n",
      "\n",
      "\n",
      "[INFO | root | 2025-01-16 14:19:29] - %%%%%%%%%%%%%%%%%%%%%%%%%%%%%%%%%%%%%%%%%%%%%%%%%%%%%%%%%%%%%%%%%\n",
      "[INFO | root | 2025-01-16 14:19:29] - Script with model `tqgjpc` started execution.\n",
      "[INFO | root | 2025-01-16 14:19:29] - Config: {'path': '/mnt/local/data/vtrifonov/prec-learning-Notay-loss/', 'folder': 'results_cases/16_01_2024_dkg_noRhs', 'name': 'tqgjpc', 'model_use': 'train', 'save_model': True, 'cg_maxiter': 350, 'cg_atol': 1e-12, 'data_config': {'data_dir': '/mnt/local/data/vtrifonov/prec-learning-Notay-loss/', 'pde': 'div_k_grad', 'grid': 32, 'variance': 0.5, 'lhs_type': 'l_ic0', 'N_samples_train': 1000, 'N_samples_test': 200, 'precision': 'f64', 'fill_factor': 1, 'threshold': 0.0001}, 'model_config': {'layer_type': 'Conv1d', 'alpha': 0.0, 'edge_enc': {'features': [1, 16, 16], 'N_layers': 2}, 'edge_dec': {'features': [16, 16, 1], 'N_layers': 2}, 'mp': {'edge_upd': {'features': [18, 16, 16], 'N_layers': 2}, 'node_upd': {'features': [17, 1, 1], 'N_layers': 2}, 'mp_rounds': 5}}, 'train_config': {'loss_type': 'high_freq_loss', 'model_type': 'precorrector_rhs_ones', 'batch_size': 8, 'optimizer': <function adam at 0x7f5cbd32e9e0>, 'lr': 0.001, 'optim_params': {}, 'epoch_num': 1000}, 'seed': 42}.\n",
      "\n"
     ]
    },
    {
     "name": "stdout",
     "output_type": "stream",
     "text": [
      "Started: 4\n"
     ]
    },
    {
     "name": "stderr",
     "output_type": "stream",
     "text": [
      "[INFO | root | 2025-01-16 14:19:44] - Data is loaded in 1.467e+01 sec.\n",
      "\n",
      "[INFO | root | 2025-01-16 14:22:59] - Model is trained in 1.951e+02 sec.\n",
      "[INFO | root | 2025-01-16 14:22:59] - GNN's alpha = 0.0488.\n",
      "[INFO | root | 2025-01-16 14:22:59] - First and last losses: train = [4.429e+08, 4.021e+08], test = [4.120e+08, 4.148e+08].\n",
      "\n",
      "[INFO | root | 2025-01-16 14:23:04] - Precs are combined:\n",
      "[INFO | root | 2025-01-16 14:23:04] -  classical prec construction time (sec) : mean = 7.911e-05, std = 2.812e-06;\n",
      "[INFO | root | 2025-01-16 14:23:04] -  GNN prec construction time (sec) : mean = 2.870e-04, std = 9.031e-06.\n",
      "\n",
      "[INFO | root | 2025-01-16 14:23:26] - CG with GNN is finished:\n",
      "[INFO | root | 2025-01-16 14:23:26] -  iterations to atol([mean, std]): {0.001: [42.3, 1.29], 1e-06: [54.0, 1.26], 1e-09: [63.9, 1.35], 1e-12: [72.4, 1.29]};\n",
      "[INFO | root | 2025-01-16 14:23:26] -  time to atol([mean, std]): {0.001: [0.0586, 0.00411], 1e-06: [0.0746, 0.00517], 1e-09: [0.0879, 0.00592], 1e-12: [0.0994, 0.00659]};\n",
      "[INFO | root | 2025-01-16 14:23:26] -  number of linsystems for which CG did not conerge to atol: {0.001: 0, 1e-06: 0, 1e-09: 0, 1e-12: 0}.\n",
      "\n",
      "[INFO | root | 2025-01-16 14:23:45] - CG with classical prec is finished:\n",
      "[INFO | root | 2025-01-16 14:23:45] -  iterations to atol([mean, std]): {0.001: [37.4, 1.15], 1e-06: [47.8, 1.12], 1e-09: [56.6, 1.16], 1e-12: [64.1, 1.18]};\n",
      "[INFO | root | 2025-01-16 14:23:45] -  time to atol([mean, std]): {0.001: [0.05, 0.00162], 1e-06: [0.0637, 0.00165], 1e-09: [0.0753, 0.00162], 1e-12: [0.0853, 0.00204]};\n",
      "[INFO | root | 2025-01-16 14:23:45] -  number of linsystems for which CG did not conerge to atol: {0.001: 0, 1e-06: 0, 1e-09: 0, 1e-12: 0}.\n",
      "\n",
      "[INFO | root | 2025-01-16 14:23:45] - Script with model `tqgjpc` finished execution.\n",
      "\n",
      "\n",
      "\n",
      "[INFO | root | 2025-01-16 14:23:45] - %%%%%%%%%%%%%%%%%%%%%%%%%%%%%%%%%%%%%%%%%%%%%%%%%%%%%%%%%%%%%%%%%\n",
      "[INFO | root | 2025-01-16 14:23:45] - Script with model `j531w2` started execution.\n",
      "[INFO | root | 2025-01-16 14:23:45] - Config: {'path': '/mnt/local/data/vtrifonov/prec-learning-Notay-loss/', 'folder': 'results_cases/16_01_2024_dkg_noRhs', 'name': 'j531w2', 'model_use': 'train', 'save_model': True, 'cg_maxiter': 350, 'cg_atol': 1e-12, 'data_config': {'data_dir': '/mnt/local/data/vtrifonov/prec-learning-Notay-loss/', 'pde': 'div_k_grad', 'grid': 32, 'variance': 0.7, 'lhs_type': 'l_ic0', 'N_samples_train': 1000, 'N_samples_test': 200, 'precision': 'f64', 'fill_factor': 1, 'threshold': 0.0001}, 'model_config': {'layer_type': 'Conv1d', 'alpha': 0.0, 'edge_enc': {'features': [1, 16, 16], 'N_layers': 2}, 'edge_dec': {'features': [16, 16, 1], 'N_layers': 2}, 'mp': {'edge_upd': {'features': [18, 16, 16], 'N_layers': 2}, 'node_upd': {'features': [17, 1, 1], 'N_layers': 2}, 'mp_rounds': 5}}, 'train_config': {'loss_type': 'high_freq_loss', 'model_type': 'precorrector_rhs_ones', 'batch_size': 8, 'optimizer': <function adam at 0x7f5cbd32e9e0>, 'lr': 0.001, 'optim_params': {}, 'epoch_num': 1000}, 'seed': 42}.\n",
      "\n"
     ]
    },
    {
     "name": "stdout",
     "output_type": "stream",
     "text": [
      "Started: 5\n"
     ]
    },
    {
     "name": "stderr",
     "output_type": "stream",
     "text": [
      "[INFO | root | 2025-01-16 14:23:59] - Data is loaded in 1.457e+01 sec.\n",
      "\n",
      "[INFO | root | 2025-01-16 14:27:15] - Model is trained in 1.953e+02 sec.\n",
      "[INFO | root | 2025-01-16 14:27:15] - GNN's alpha = 0.0632.\n",
      "[INFO | root | 2025-01-16 14:27:15] - First and last losses: train = [7.102e+08, 6.262e+08], test = [6.609e+08, 6.095e+08].\n",
      "\n",
      "[INFO | root | 2025-01-16 14:27:20] - Precs are combined:\n",
      "[INFO | root | 2025-01-16 14:27:20] -  classical prec construction time (sec) : mean = 8.659e-05, std = 3.993e-06;\n",
      "[INFO | root | 2025-01-16 14:27:20] -  GNN prec construction time (sec) : mean = 2.967e-04, std = 8.852e-06.\n",
      "\n",
      "[INFO | root | 2025-01-16 14:27:42] - CG with GNN is finished:\n",
      "[INFO | root | 2025-01-16 14:27:42] -  iterations to atol([mean, std]): {0.001: [45.0, 1.54], 1e-06: [57.0, 1.64], 1e-09: [67.0, 1.59], 1e-12: [75.6, 1.58]};\n",
      "[INFO | root | 2025-01-16 14:27:42] -  time to atol([mean, std]): {0.001: [0.0612, 0.00239], 1e-06: [0.0771, 0.00255], 1e-09: [0.0904, 0.0026], 1e-12: [0.1018, 0.00258]};\n",
      "[INFO | root | 2025-01-16 14:27:42] -  number of linsystems for which CG did not conerge to atol: {0.001: 0, 1e-06: 0, 1e-09: 0, 1e-12: 0}.\n",
      "\n",
      "[INFO | root | 2025-01-16 14:28:02] - CG with classical prec is finished:\n",
      "[INFO | root | 2025-01-16 14:28:02] -  iterations to atol([mean, std]): {0.001: [39.8, 1.38], 1e-06: [50.5, 1.55], 1e-09: [59.3, 1.47], 1e-12: [67.1, 1.46]};\n",
      "[INFO | root | 2025-01-16 14:28:02] -  time to atol([mean, std]): {0.001: [0.0545, 0.00373], 1e-06: [0.0689, 0.00468], 1e-09: [0.0808, 0.00534], 1e-12: [0.0913, 0.00596]};\n",
      "[INFO | root | 2025-01-16 14:28:02] -  number of linsystems for which CG did not conerge to atol: {0.001: 0, 1e-06: 0, 1e-09: 0, 1e-12: 0}.\n",
      "\n",
      "[INFO | root | 2025-01-16 14:28:02] - Script with model `j531w2` finished execution.\n",
      "\n",
      "\n",
      "\n",
      "[INFO | root | 2025-01-16 14:28:02] - %%%%%%%%%%%%%%%%%%%%%%%%%%%%%%%%%%%%%%%%%%%%%%%%%%%%%%%%%%%%%%%%%\n",
      "[INFO | root | 2025-01-16 14:28:02] - Script with model `xns8n3` started execution.\n",
      "[INFO | root | 2025-01-16 14:28:02] - Config: {'path': '/mnt/local/data/vtrifonov/prec-learning-Notay-loss/', 'folder': 'results_cases/16_01_2024_dkg_noRhs', 'name': 'xns8n3', 'model_use': 'train', 'save_model': True, 'cg_maxiter': 350, 'cg_atol': 1e-12, 'data_config': {'data_dir': '/mnt/local/data/vtrifonov/prec-learning-Notay-loss/', 'pde': 'div_k_grad', 'grid': 32, 'variance': 0.1, 'lhs_type': 'l_ict', 'N_samples_train': 1000, 'N_samples_test': 200, 'precision': 'f64', 'fill_factor': 1, 'threshold': 0.0001}, 'model_config': {'layer_type': 'Conv1d', 'alpha': 0.0, 'edge_enc': {'features': [1, 16, 16], 'N_layers': 2}, 'edge_dec': {'features': [16, 16, 1], 'N_layers': 2}, 'mp': {'edge_upd': {'features': [18, 16, 16], 'N_layers': 2}, 'node_upd': {'features': [17, 1, 1], 'N_layers': 2}, 'mp_rounds': 5}}, 'train_config': {'loss_type': 'low_freq_loss', 'model_type': 'precorrector_rhs_ones', 'batch_size': 8, 'optimizer': <function adam at 0x7f5cbd32e9e0>, 'lr': 0.001, 'optim_params': {}, 'epoch_num': 1000}, 'seed': 42}.\n",
      "\n"
     ]
    },
    {
     "name": "stdout",
     "output_type": "stream",
     "text": [
      "Started: 6\n"
     ]
    },
    {
     "name": "stderr",
     "output_type": "stream",
     "text": [
      "[INFO | root | 2025-01-16 14:28:21] - Data is loaded in 1.838e+01 sec.\n",
      "\n",
      "[INFO | root | 2025-01-16 14:32:29] - Model is trained in 2.487e+02 sec.\n",
      "[INFO | root | 2025-01-16 14:32:29] - GNN's alpha = -0.1094.\n",
      "[INFO | root | 2025-01-16 14:32:29] - First and last losses: train = [7.608e+01, 2.378e+01], test = [4.156e+01, 2.341e+01].\n",
      "\n",
      "[INFO | root | 2025-01-16 14:32:38] - Precs are combined:\n",
      "[INFO | root | 2025-01-16 14:32:38] -  classical prec construction time (sec) : mean = 2.677e-04, std = 1.821e-05;\n",
      "[INFO | root | 2025-01-16 14:32:38] -  GNN prec construction time (sec) : mean = 5.233e-04, std = 8.116e-06.\n",
      "\n",
      "[INFO | root | 2025-01-16 14:32:48] - CG with GNN is finished:\n",
      "[INFO | root | 2025-01-16 14:32:48] -  iterations to atol([mean, std]): {0.001: [15.7, 0.45], 1e-06: [21.0, 0.16], 1e-09: [25.9, 0.29], 1e-12: [30.7, 0.44]};\n",
      "[INFO | root | 2025-01-16 14:32:48] -  time to atol([mean, std]): {0.001: [0.0229, 0.00161], 1e-06: [0.0302, 0.00196], 1e-09: [0.0371, 0.00241], 1e-12: [0.0438, 0.00299]};\n",
      "[INFO | root | 2025-01-16 14:32:48] -  number of linsystems for which CG did not conerge to atol: {0.001: 0, 1e-06: 0, 1e-09: 0, 1e-12: 0}.\n",
      "\n",
      "[INFO | root | 2025-01-16 14:33:01] - CG with classical prec is finished:\n",
      "[INFO | root | 2025-01-16 14:33:01] -  iterations to atol([mean, std]): {0.001: [20.8, 0.47], 1e-06: [26.9, 0.41], 1e-09: [32.4, 0.49], 1e-12: [37.1, 0.27]};\n",
      "[INFO | root | 2025-01-16 14:33:01] -  time to atol([mean, std]): {0.001: [0.0302, 0.00256], 1e-06: [0.0388, 0.00324], 1e-09: [0.0464, 0.00379], 1e-12: [0.053, 0.00424]};\n",
      "[INFO | root | 2025-01-16 14:33:01] -  number of linsystems for which CG did not conerge to atol: {0.001: 0, 1e-06: 0, 1e-09: 0, 1e-12: 0}.\n",
      "\n",
      "[INFO | root | 2025-01-16 14:33:01] - Script with model `xns8n3` finished execution.\n",
      "\n",
      "\n",
      "\n",
      "[INFO | root | 2025-01-16 14:33:01] - %%%%%%%%%%%%%%%%%%%%%%%%%%%%%%%%%%%%%%%%%%%%%%%%%%%%%%%%%%%%%%%%%\n",
      "[INFO | root | 2025-01-16 14:33:01] - Script with model `qrbxmt` started execution.\n",
      "[INFO | root | 2025-01-16 14:33:01] - Config: {'path': '/mnt/local/data/vtrifonov/prec-learning-Notay-loss/', 'folder': 'results_cases/16_01_2024_dkg_noRhs', 'name': 'qrbxmt', 'model_use': 'train', 'save_model': True, 'cg_maxiter': 350, 'cg_atol': 1e-12, 'data_config': {'data_dir': '/mnt/local/data/vtrifonov/prec-learning-Notay-loss/', 'pde': 'div_k_grad', 'grid': 32, 'variance': 0.5, 'lhs_type': 'l_ict', 'N_samples_train': 1000, 'N_samples_test': 200, 'precision': 'f64', 'fill_factor': 1, 'threshold': 0.0001}, 'model_config': {'layer_type': 'Conv1d', 'alpha': 0.0, 'edge_enc': {'features': [1, 16, 16], 'N_layers': 2}, 'edge_dec': {'features': [16, 16, 1], 'N_layers': 2}, 'mp': {'edge_upd': {'features': [18, 16, 16], 'N_layers': 2}, 'node_upd': {'features': [17, 1, 1], 'N_layers': 2}, 'mp_rounds': 5}}, 'train_config': {'loss_type': 'low_freq_loss', 'model_type': 'precorrector_rhs_ones', 'batch_size': 8, 'optimizer': <function adam at 0x7f5cbd32e9e0>, 'lr': 0.001, 'optim_params': {}, 'epoch_num': 1000}, 'seed': 42}.\n",
      "\n"
     ]
    },
    {
     "name": "stdout",
     "output_type": "stream",
     "text": [
      "Started: 7\n"
     ]
    },
    {
     "name": "stderr",
     "output_type": "stream",
     "text": [
      "[INFO | root | 2025-01-16 14:33:22] - Data is loaded in 2.142e+01 sec.\n",
      "\n",
      "[INFO | root | 2025-01-16 14:37:33] - Model is trained in 2.507e+02 sec.\n",
      "[INFO | root | 2025-01-16 14:37:33] - GNN's alpha = -0.0626.\n",
      "[INFO | root | 2025-01-16 14:37:33] - First and last losses: train = [1.917e+02, 3.226e+01], test = [1.699e+02, 3.423e+01].\n",
      "\n",
      "[INFO | root | 2025-01-16 14:37:41] - Precs are combined:\n",
      "[INFO | root | 2025-01-16 14:37:41] -  classical prec construction time (sec) : mean = 2.808e-04, std = 2.452e-05;\n",
      "[INFO | root | 2025-01-16 14:37:41] -  GNN prec construction time (sec) : mean = 4.898e-04, std = 9.249e-06.\n",
      "\n",
      "[INFO | root | 2025-01-16 14:37:52] - CG with GNN is finished:\n",
      "[INFO | root | 2025-01-16 14:37:52] -  iterations to atol([mean, std]): {0.001: [17.1, 0.54], 1e-06: [22.7, 0.58], 1e-09: [28.0, 0.62], 1e-12: [33.1, 0.68]};\n",
      "[INFO | root | 2025-01-16 14:37:52] -  time to atol([mean, std]): {0.001: [0.0243, 0.0011], 1e-06: [0.0319, 0.00118], 1e-09: [0.039, 0.0013], 1e-12: [0.0459, 0.00135]};\n",
      "[INFO | root | 2025-01-16 14:37:52] -  number of linsystems for which CG did not conerge to atol: {0.001: 0, 1e-06: 0, 1e-09: 0, 1e-12: 0}.\n",
      "\n",
      "[INFO | root | 2025-01-16 14:38:05] - CG with classical prec is finished:\n",
      "[INFO | root | 2025-01-16 14:38:05] -  iterations to atol([mean, std]): {0.001: [22.5, 0.71], 1e-06: [28.9, 0.76], 1e-09: [34.5, 0.77], 1e-12: [39.4, 0.78]};\n",
      "[INFO | root | 2025-01-16 14:38:05] -  time to atol([mean, std]): {0.001: [0.0313, 0.00097], 1e-06: [0.0399, 0.00105], 1e-09: [0.0475, 0.00107], 1e-12: [0.0541, 0.00111]};\n",
      "[INFO | root | 2025-01-16 14:38:05] -  number of linsystems for which CG did not conerge to atol: {0.001: 0, 1e-06: 0, 1e-09: 0, 1e-12: 0}.\n",
      "\n",
      "[INFO | root | 2025-01-16 14:38:05] - Script with model `qrbxmt` finished execution.\n",
      "\n",
      "\n",
      "\n",
      "[INFO | root | 2025-01-16 14:38:05] - %%%%%%%%%%%%%%%%%%%%%%%%%%%%%%%%%%%%%%%%%%%%%%%%%%%%%%%%%%%%%%%%%\n",
      "[INFO | root | 2025-01-16 14:38:05] - Script with model `c7b7h8` started execution.\n",
      "[INFO | root | 2025-01-16 14:38:05] - Config: {'path': '/mnt/local/data/vtrifonov/prec-learning-Notay-loss/', 'folder': 'results_cases/16_01_2024_dkg_noRhs', 'name': 'c7b7h8', 'model_use': 'train', 'save_model': True, 'cg_maxiter': 350, 'cg_atol': 1e-12, 'data_config': {'data_dir': '/mnt/local/data/vtrifonov/prec-learning-Notay-loss/', 'pde': 'div_k_grad', 'grid': 32, 'variance': 0.7, 'lhs_type': 'l_ict', 'N_samples_train': 1000, 'N_samples_test': 200, 'precision': 'f64', 'fill_factor': 1, 'threshold': 0.0001}, 'model_config': {'layer_type': 'Conv1d', 'alpha': 0.0, 'edge_enc': {'features': [1, 16, 16], 'N_layers': 2}, 'edge_dec': {'features': [16, 16, 1], 'N_layers': 2}, 'mp': {'edge_upd': {'features': [18, 16, 16], 'N_layers': 2}, 'node_upd': {'features': [17, 1, 1], 'N_layers': 2}, 'mp_rounds': 5}}, 'train_config': {'loss_type': 'low_freq_loss', 'model_type': 'precorrector_rhs_ones', 'batch_size': 8, 'optimizer': <function adam at 0x7f5cbd32e9e0>, 'lr': 0.001, 'optim_params': {}, 'epoch_num': 1000}, 'seed': 42}.\n",
      "\n"
     ]
    },
    {
     "name": "stdout",
     "output_type": "stream",
     "text": [
      "Started: 8\n"
     ]
    },
    {
     "name": "stderr",
     "output_type": "stream",
     "text": [
      "[INFO | root | 2025-01-16 14:38:24] - Data is loaded in 1.903e+01 sec.\n",
      "\n",
      "[INFO | root | 2025-01-16 14:42:33] - Model is trained in 2.486e+02 sec.\n",
      "[INFO | root | 2025-01-16 14:42:33] - GNN's alpha = -0.0575.\n",
      "[INFO | root | 2025-01-16 14:42:33] - First and last losses: train = [2.897e+02, 4.046e+01], test = [2.285e+02, 4.160e+01].\n",
      "\n",
      "[INFO | root | 2025-01-16 14:42:38] - Precs are combined:\n",
      "[INFO | root | 2025-01-16 14:42:38] -  classical prec construction time (sec) : mean = 2.760e-04, std = 2.572e-05;\n",
      "[INFO | root | 2025-01-16 14:42:38] -  GNN prec construction time (sec) : mean = 4.845e-04, std = 8.367e-06.\n",
      "\n",
      "[INFO | root | 2025-01-16 14:42:49] - CG with GNN is finished:\n",
      "[INFO | root | 2025-01-16 14:42:49] -  iterations to atol([mean, std]): {0.001: [18.1, 0.67], 1e-06: [24.0, 0.76], 1e-09: [29.4, 0.86], 1e-12: [34.7, 0.97]};\n",
      "[INFO | root | 2025-01-16 14:42:49] -  time to atol([mean, std]): {0.001: [0.0258, 0.00097], 1e-06: [0.0339, 0.00193], 1e-09: [0.0413, 0.00199], 1e-12: [0.0485, 0.0021]};\n",
      "[INFO | root | 2025-01-16 14:42:49] -  number of linsystems for which CG did not conerge to atol: {0.001: 0, 1e-06: 0, 1e-09: 0, 1e-12: 0}.\n",
      "\n",
      "[INFO | root | 2025-01-16 14:43:02] - CG with classical prec is finished:\n",
      "[INFO | root | 2025-01-16 14:43:02] -  iterations to atol([mean, std]): {0.001: [23.9, 0.82], 1e-06: [30.4, 0.87], 1e-09: [35.9, 0.94], 1e-12: [40.9, 0.91]};\n",
      "[INFO | root | 2025-01-16 14:43:02] -  time to atol([mean, std]): {0.001: [0.0334, 0.00116], 1e-06: [0.0422, 0.00123], 1e-09: [0.0497, 0.00135], 1e-12: [0.0564, 0.00133]};\n",
      "[INFO | root | 2025-01-16 14:43:02] -  number of linsystems for which CG did not conerge to atol: {0.001: 0, 1e-06: 0, 1e-09: 0, 1e-12: 0}.\n",
      "\n",
      "[INFO | root | 2025-01-16 14:43:02] - Script with model `c7b7h8` finished execution.\n",
      "\n",
      "\n",
      "\n",
      "[INFO | root | 2025-01-16 14:43:02] - %%%%%%%%%%%%%%%%%%%%%%%%%%%%%%%%%%%%%%%%%%%%%%%%%%%%%%%%%%%%%%%%%\n",
      "[INFO | root | 2025-01-16 14:43:02] - Script with model `djtg1v` started execution.\n",
      "[INFO | root | 2025-01-16 14:43:02] - Config: {'path': '/mnt/local/data/vtrifonov/prec-learning-Notay-loss/', 'folder': 'results_cases/16_01_2024_dkg_noRhs', 'name': 'djtg1v', 'model_use': 'train', 'save_model': True, 'cg_maxiter': 350, 'cg_atol': 1e-12, 'data_config': {'data_dir': '/mnt/local/data/vtrifonov/prec-learning-Notay-loss/', 'pde': 'div_k_grad', 'grid': 32, 'variance': 0.1, 'lhs_type': 'l_ict', 'N_samples_train': 1000, 'N_samples_test': 200, 'precision': 'f64', 'fill_factor': 1, 'threshold': 0.0001}, 'model_config': {'layer_type': 'Conv1d', 'alpha': 0.0, 'edge_enc': {'features': [1, 16, 16], 'N_layers': 2}, 'edge_dec': {'features': [16, 16, 1], 'N_layers': 2}, 'mp': {'edge_upd': {'features': [18, 16, 16], 'N_layers': 2}, 'node_upd': {'features': [17, 1, 1], 'N_layers': 2}, 'mp_rounds': 5}}, 'train_config': {'loss_type': 'high_freq_loss', 'model_type': 'precorrector_rhs_ones', 'batch_size': 8, 'optimizer': <function adam at 0x7f5cbd32e9e0>, 'lr': 0.001, 'optim_params': {}, 'epoch_num': 1000}, 'seed': 42}.\n",
      "\n"
     ]
    },
    {
     "name": "stdout",
     "output_type": "stream",
     "text": [
      "Started: 9\n"
     ]
    },
    {
     "name": "stderr",
     "output_type": "stream",
     "text": [
      "[INFO | root | 2025-01-16 14:43:18] - Data is loaded in 1.520e+01 sec.\n",
      "\n",
      "[INFO | root | 2025-01-16 14:47:27] - Model is trained in 2.498e+02 sec.\n",
      "[INFO | root | 2025-01-16 14:47:27] - GNN's alpha = 0.0503.\n",
      "[INFO | root | 2025-01-16 14:47:27] - First and last losses: train = [2.731e+07, 2.483e+07], test = [2.688e+07, 2.497e+07].\n",
      "\n",
      "[INFO | root | 2025-01-16 14:47:32] - Precs are combined:\n",
      "[INFO | root | 2025-01-16 14:47:32] -  classical prec construction time (sec) : mean = 2.621e-04, std = 1.538e-05;\n",
      "[INFO | root | 2025-01-16 14:47:32] -  GNN prec construction time (sec) : mean = 4.686e-04, std = 8.556e-06.\n",
      "\n",
      "[INFO | root | 2025-01-16 14:47:46] - CG with GNN is finished:\n",
      "[INFO | root | 2025-01-16 14:47:46] -  iterations to atol([mean, std]): {0.001: [23.3, 0.61], 1e-06: [30.3, 0.53], 1e-09: [36.3, 0.5], 1e-12: [41.7, 0.47]};\n",
      "[INFO | root | 2025-01-16 14:47:46] -  time to atol([mean, std]): {0.001: [0.0335, 0.00087], 1e-06: [0.0432, 0.0008], 1e-09: [0.0515, 0.00081], 1e-12: [0.0589, 0.00081]};\n",
      "[INFO | root | 2025-01-16 14:47:46] -  number of linsystems for which CG did not conerge to atol: {0.001: 0, 1e-06: 0, 1e-09: 0, 1e-12: 0}.\n",
      "\n",
      "[INFO | root | 2025-01-16 14:47:58] - CG with classical prec is finished:\n",
      "[INFO | root | 2025-01-16 14:47:58] -  iterations to atol([mean, std]): {0.001: [20.8, 0.47], 1e-06: [26.9, 0.41], 1e-09: [32.4, 0.49], 1e-12: [37.1, 0.27]};\n",
      "[INFO | root | 2025-01-16 14:47:58] -  time to atol([mean, std]): {0.001: [0.0304, 0.00237], 1e-06: [0.0391, 0.00306], 1e-09: [0.0467, 0.0036], 1e-12: [0.0534, 0.00399]};\n",
      "[INFO | root | 2025-01-16 14:47:58] -  number of linsystems for which CG did not conerge to atol: {0.001: 0, 1e-06: 0, 1e-09: 0, 1e-12: 0}.\n",
      "\n",
      "[INFO | root | 2025-01-16 14:47:58] - Script with model `djtg1v` finished execution.\n",
      "\n",
      "\n",
      "\n",
      "[INFO | root | 2025-01-16 14:47:58] - %%%%%%%%%%%%%%%%%%%%%%%%%%%%%%%%%%%%%%%%%%%%%%%%%%%%%%%%%%%%%%%%%\n",
      "[INFO | root | 2025-01-16 14:47:58] - Script with model `plf3rj` started execution.\n",
      "[INFO | root | 2025-01-16 14:47:58] - Config: {'path': '/mnt/local/data/vtrifonov/prec-learning-Notay-loss/', 'folder': 'results_cases/16_01_2024_dkg_noRhs', 'name': 'plf3rj', 'model_use': 'train', 'save_model': True, 'cg_maxiter': 350, 'cg_atol': 1e-12, 'data_config': {'data_dir': '/mnt/local/data/vtrifonov/prec-learning-Notay-loss/', 'pde': 'div_k_grad', 'grid': 32, 'variance': 0.5, 'lhs_type': 'l_ict', 'N_samples_train': 1000, 'N_samples_test': 200, 'precision': 'f64', 'fill_factor': 1, 'threshold': 0.0001}, 'model_config': {'layer_type': 'Conv1d', 'alpha': 0.0, 'edge_enc': {'features': [1, 16, 16], 'N_layers': 2}, 'edge_dec': {'features': [16, 16, 1], 'N_layers': 2}, 'mp': {'edge_upd': {'features': [18, 16, 16], 'N_layers': 2}, 'node_upd': {'features': [17, 1, 1], 'N_layers': 2}, 'mp_rounds': 5}}, 'train_config': {'loss_type': 'high_freq_loss', 'model_type': 'precorrector_rhs_ones', 'batch_size': 8, 'optimizer': <function adam at 0x7f5cbd32e9e0>, 'lr': 0.001, 'optim_params': {}, 'epoch_num': 1000}, 'seed': 42}.\n",
      "\n"
     ]
    },
    {
     "name": "stdout",
     "output_type": "stream",
     "text": [
      "Started: 10\n"
     ]
    },
    {
     "name": "stderr",
     "output_type": "stream",
     "text": [
      "[INFO | root | 2025-01-16 14:48:14] - Data is loaded in 1.546e+01 sec.\n",
      "\n",
      "[INFO | root | 2025-01-16 14:52:26] - Model is trained in 2.516e+02 sec.\n",
      "[INFO | root | 2025-01-16 14:52:26] - GNN's alpha = 0.0207.\n",
      "[INFO | root | 2025-01-16 14:52:26] - First and last losses: train = [5.477e+07, 4.772e+07], test = [5.132e+07, 4.871e+07].\n",
      "\n",
      "[INFO | root | 2025-01-16 14:52:31] - Precs are combined:\n",
      "[INFO | root | 2025-01-16 14:52:31] -  classical prec construction time (sec) : mean = 2.657e-04, std = 6.312e-06;\n",
      "[INFO | root | 2025-01-16 14:52:31] -  GNN prec construction time (sec) : mean = 5.820e-04, std = 9.223e-06.\n",
      "\n",
      "[INFO | root | 2025-01-16 14:52:50] - CG with GNN is finished:\n",
      "[INFO | root | 2025-01-16 14:52:50] -  iterations to atol([mean, std]): {0.001: [25.4, 0.81], 1e-06: [32.6, 0.79], 1e-09: [38.7, 0.81], 1e-12: [44.1, 0.82]};\n",
      "[INFO | root | 2025-01-16 14:52:50] -  time to atol([mean, std]): {0.001: [0.0492, 0.00153], 1e-06: [0.0629, 0.00148], 1e-09: [0.0743, 0.00154], 1e-12: [0.0845, 0.00157]};\n",
      "[INFO | root | 2025-01-16 14:52:50] -  number of linsystems for which CG did not conerge to atol: {0.001: 0, 1e-06: 0, 1e-09: 0, 1e-12: 0}.\n",
      "\n",
      "[INFO | root | 2025-01-16 14:53:07] - CG with classical prec is finished:\n",
      "[INFO | root | 2025-01-16 14:53:07] -  iterations to atol([mean, std]): {0.001: [22.5, 0.71], 1e-06: [28.9, 0.76], 1e-09: [34.5, 0.77], 1e-12: [39.4, 0.78]};\n",
      "[INFO | root | 2025-01-16 14:53:07] -  time to atol([mean, std]): {0.001: [0.0437, 0.00283], 1e-06: [0.0558, 0.00284], 1e-09: [0.0663, 0.00291], 1e-12: [0.0756, 0.0028]};\n",
      "[INFO | root | 2025-01-16 14:53:07] -  number of linsystems for which CG did not conerge to atol: {0.001: 0, 1e-06: 0, 1e-09: 0, 1e-12: 0}.\n",
      "\n",
      "[INFO | root | 2025-01-16 14:53:07] - Script with model `plf3rj` finished execution.\n",
      "\n",
      "\n",
      "\n",
      "[INFO | root | 2025-01-16 14:53:07] - %%%%%%%%%%%%%%%%%%%%%%%%%%%%%%%%%%%%%%%%%%%%%%%%%%%%%%%%%%%%%%%%%\n",
      "[INFO | root | 2025-01-16 14:53:07] - Script with model `8gyoyq` started execution.\n",
      "[INFO | root | 2025-01-16 14:53:07] - Config: {'path': '/mnt/local/data/vtrifonov/prec-learning-Notay-loss/', 'folder': 'results_cases/16_01_2024_dkg_noRhs', 'name': '8gyoyq', 'model_use': 'train', 'save_model': True, 'cg_maxiter': 350, 'cg_atol': 1e-12, 'data_config': {'data_dir': '/mnt/local/data/vtrifonov/prec-learning-Notay-loss/', 'pde': 'div_k_grad', 'grid': 32, 'variance': 0.7, 'lhs_type': 'l_ict', 'N_samples_train': 1000, 'N_samples_test': 200, 'precision': 'f64', 'fill_factor': 1, 'threshold': 0.0001}, 'model_config': {'layer_type': 'Conv1d', 'alpha': 0.0, 'edge_enc': {'features': [1, 16, 16], 'N_layers': 2}, 'edge_dec': {'features': [16, 16, 1], 'N_layers': 2}, 'mp': {'edge_upd': {'features': [18, 16, 16], 'N_layers': 2}, 'node_upd': {'features': [17, 1, 1], 'N_layers': 2}, 'mp_rounds': 5}}, 'train_config': {'loss_type': 'high_freq_loss', 'model_type': 'precorrector_rhs_ones', 'batch_size': 8, 'optimizer': <function adam at 0x7f5cbd32e9e0>, 'lr': 0.001, 'optim_params': {}, 'epoch_num': 1000}, 'seed': 42}.\n",
      "\n"
     ]
    },
    {
     "name": "stdout",
     "output_type": "stream",
     "text": [
      "Started: 11\n"
     ]
    },
    {
     "name": "stderr",
     "output_type": "stream",
     "text": [
      "[INFO | root | 2025-01-16 14:53:26] - Data is loaded in 1.826e+01 sec.\n",
      "\n",
      "[INFO | root | 2025-01-16 14:57:36] - Model is trained in 2.501e+02 sec.\n",
      "[INFO | root | 2025-01-16 14:57:36] - GNN's alpha = 0.0240.\n",
      "[INFO | root | 2025-01-16 14:57:36] - First and last losses: train = [8.166e+07, 6.975e+07], test = [7.505e+07, 6.861e+07].\n",
      "\n",
      "[INFO | root | 2025-01-16 14:57:41] - Precs are combined:\n",
      "[INFO | root | 2025-01-16 14:57:41] -  classical prec construction time (sec) : mean = 3.744e-04, std = 6.246e-06;\n",
      "[INFO | root | 2025-01-16 14:57:41] -  GNN prec construction time (sec) : mean = 5.915e-04, std = 1.029e-05.\n",
      "\n",
      "[INFO | root | 2025-01-16 14:57:56] - CG with GNN is finished:\n",
      "[INFO | root | 2025-01-16 14:57:56] -  iterations to atol([mean, std]): {0.001: [27.6, 0.95], 1e-06: [35.2, 1.03], 1e-09: [41.4, 1.08], 1e-12: [47.0, 1.03]};\n",
      "[INFO | root | 2025-01-16 14:57:56] -  time to atol([mean, std]): {0.001: [0.0406, 0.00294], 1e-06: [0.0513, 0.00373], 1e-09: [0.0602, 0.00432], 1e-12: [0.068, 0.00493]};\n",
      "[INFO | root | 2025-01-16 14:57:56] -  number of linsystems for which CG did not conerge to atol: {0.001: 0, 1e-06: 0, 1e-09: 0, 1e-12: 0}.\n",
      "\n",
      "[INFO | root | 2025-01-16 14:58:10] - CG with classical prec is finished:\n",
      "[INFO | root | 2025-01-16 14:58:10] -  iterations to atol([mean, std]): {0.001: [23.9, 0.82], 1e-06: [30.4, 0.87], 1e-09: [35.9, 0.94], 1e-12: [40.9, 0.91]};\n",
      "[INFO | root | 2025-01-16 14:58:10] -  time to atol([mean, std]): {0.001: [0.034, 0.00124], 1e-06: [0.0429, 0.00134], 1e-09: [0.0505, 0.00139], 1e-12: [0.0573, 0.00135]};\n",
      "[INFO | root | 2025-01-16 14:58:10] -  number of linsystems for which CG did not conerge to atol: {0.001: 0, 1e-06: 0, 1e-09: 0, 1e-12: 0}.\n",
      "\n",
      "[INFO | root | 2025-01-16 14:58:10] - Script with model `8gyoyq` finished execution.\n",
      "\n",
      "\n",
      "\n",
      "[INFO | root | 2025-01-16 14:58:10] - %%%%%%%%%%%%%%%%%%%%%%%%%%%%%%%%%%%%%%%%%%%%%%%%%%%%%%%%%%%%%%%%%\n",
      "[INFO | root | 2025-01-16 14:58:10] - Script with model `bzycix` started execution.\n",
      "[INFO | root | 2025-01-16 14:58:10] - Config: {'path': '/mnt/local/data/vtrifonov/prec-learning-Notay-loss/', 'folder': 'results_cases/16_01_2024_dkg_noRhs', 'name': 'bzycix', 'model_use': 'train', 'save_model': True, 'cg_maxiter': 350, 'cg_atol': 1e-12, 'data_config': {'data_dir': '/mnt/local/data/vtrifonov/prec-learning-Notay-loss/', 'pde': 'div_k_grad', 'grid': 64, 'variance': 0.1, 'lhs_type': 'l_ic0', 'N_samples_train': 1000, 'N_samples_test': 200, 'precision': 'f64', 'fill_factor': 1, 'threshold': 0.0001}, 'model_config': {'layer_type': 'Conv1d', 'alpha': 0.0, 'edge_enc': {'features': [1, 16, 16], 'N_layers': 2}, 'edge_dec': {'features': [16, 16, 1], 'N_layers': 2}, 'mp': {'edge_upd': {'features': [18, 16, 16], 'N_layers': 2}, 'node_upd': {'features': [17, 1, 1], 'N_layers': 2}, 'mp_rounds': 5}}, 'train_config': {'loss_type': 'low_freq_loss', 'model_type': 'precorrector_rhs_ones', 'batch_size': 8, 'optimizer': <function adam at 0x7f5cbd32e9e0>, 'lr': 0.001, 'optim_params': {}, 'epoch_num': 1000}, 'seed': 42}.\n",
      "\n"
     ]
    },
    {
     "name": "stdout",
     "output_type": "stream",
     "text": [
      "Started: 12\n"
     ]
    },
    {
     "name": "stderr",
     "output_type": "stream",
     "text": [
      "[INFO | root | 2025-01-16 14:58:29] - Data is loaded in 1.964e+01 sec.\n",
      "\n"
     ]
    }
   ],
   "source": [
    "grid_train(base_config, params_grid)"
   ]
  },
  {
   "cell_type": "code",
   "execution_count": null,
   "id": "66d054e3",
   "metadata": {},
   "outputs": [],
   "source": [
    "params_poisson = {\n",
    "    'cg_maxiter': [350],\n",
    "    'model_type': ['precorrector_rhs_ones'],\n",
    "    'loss_type': ['low_freq_loss', 'high_freq_loss'],\n",
    "    'batch_size': [8],\n",
    "    'lr': [1e-3],\n",
    "    'epoch_num': [1000],\n",
    "    'pde': ['poisson'],\n",
    "    'grid': [32, 64, 128],\n",
    "    'variance': [.1],\n",
    "    'lhs_type': ['l_ic0', 'l_ict'],\n",
    "    'fill_factor': [1],\n",
    "    'threshold': [1e-4]\n",
    "}\n",
    "params_grid = ParameterGrid(params_poisson)"
   ]
  },
  {
   "cell_type": "code",
   "execution_count": null,
   "id": "d82a7f1b",
   "metadata": {},
   "outputs": [],
   "source": [
    "grid_train(base_config, params_grid)"
   ]
  },
  {
   "cell_type": "code",
   "execution_count": null,
   "id": "314da2b5",
   "metadata": {},
   "outputs": [],
   "source": [
    "exit()"
   ]
  }
 ],
 "metadata": {
  "kernelspec": {
   "display_name": "Python 3 (ipykernel)",
   "language": "python",
   "name": "python3"
  },
  "language_info": {
   "codemirror_mode": {
    "name": "ipython",
    "version": 3
   },
   "file_extension": ".py",
   "mimetype": "text/x-python",
   "name": "python",
   "nbconvert_exporter": "python",
   "pygments_lexer": "ipython3",
   "version": "3.10.6"
  }
 },
 "nbformat": 4,
 "nbformat_minor": 5
}
