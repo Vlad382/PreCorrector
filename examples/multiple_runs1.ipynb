{
 "cells": [
  {
   "cell_type": "code",
   "execution_count": 1,
   "id": "d26d4d95",
   "metadata": {},
   "outputs": [],
   "source": [
    "import sys\n",
    "import os\n",
    "os.environ[\"CUDA_VISIBLE_DEVICES\"] = '3'\n",
    "os.environ['XLA_PYTHON_CLIENT_MEM_FRACTION'] = '.95'\n",
    "sys.path.append('/mnt/local/data/vtrifonov/prec-learning-Notay-loss/')"
   ]
  },
  {
   "cell_type": "code",
   "execution_count": 2,
   "id": "d6afda7a",
   "metadata": {},
   "outputs": [],
   "source": [
    "import optax\n",
    "import numpy as np\n",
    "from sklearn.model_selection import ParameterGrid\n",
    "\n",
    "from script_train import grid_train\n",
    "from config import default_precorrector_config"
   ]
  },
  {
   "cell_type": "code",
   "execution_count": 3,
   "id": "7745525a",
   "metadata": {},
   "outputs": [],
   "source": [
    "seed = 42\n",
    "path = '/mnt/local/data/vtrifonov/prec-learning-Notay-loss/'\n",
    "folder = 'results_cases/16_01_2024_dkg_noRhs'"
   ]
  },
  {
   "cell_type": "code",
   "execution_count": 4,
   "id": "45f0354c",
   "metadata": {},
   "outputs": [],
   "source": [
    "model_config = default_precorrector_config\n",
    "\n",
    "data_config = {\n",
    "    'data_dir': path,\n",
    "    'pde': np.nan,\n",
    "    'grid': np.nan,\n",
    "    'variance': np.nan,\n",
    "    'lhs_type': np.nan,\n",
    "    'N_samples_train': 1000,\n",
    "    'N_samples_test': 200,\n",
    "    'precision': 'f64',\n",
    "    'fill_factor': 1,\n",
    "    'threshold': 1e-4\n",
    "}\n",
    "\n",
    "train_config = {\n",
    "    'loss_type': 'low_freq_loss',\n",
    "    'model_type': 'precorrector',\n",
    "    'batch_size': 8,\n",
    "    'optimizer': optax.adam,\n",
    "    'lr': 1e-3,\n",
    "    'optim_params': {},\n",
    "    'epoch_num': 500\n",
    "}\n",
    "\n",
    "base_config = {\n",
    "    'path': path,\n",
    "    'folder': folder,\n",
    "    'name': np.nan,\n",
    "    'model_use': 'train',\n",
    "    'save_model': True,\n",
    "    'cg_maxiter': np.nan,\n",
    "    'cg_atol': 1e-12,\n",
    "    'data_config': data_config,\n",
    "    'model_config': model_config,\n",
    "    'train_config': train_config,\n",
    "    'seed': seed\n",
    "}"
   ]
  },
  {
   "cell_type": "code",
   "execution_count": 5,
   "id": "27f59a18",
   "metadata": {},
   "outputs": [],
   "source": [
    "params_dkg = {\n",
    "    'cg_maxiter': [350],\n",
    "    'model_type': ['precorrector_rhs_ones'],\n",
    "    'loss_type': ['low_freq_loss', 'high_freq_loss'],\n",
    "    'batch_size': [8],\n",
    "    'lr': [1e-3],\n",
    "    'epoch_num': [1000],\n",
    "    'pde': ['div_k_grad'],\n",
    "    'grid': [32, 64, 128],\n",
    "    'variance': [.1, .5, .7],\n",
    "    'lhs_type': ['l_ic0', 'l_ict'],\n",
    "    'fill_factor': [1],\n",
    "    'threshold': [1e-4]\n",
    "}\n",
    "params_grid = ParameterGrid(params_dkg)"
   ]
  },
  {
   "cell_type": "code",
   "execution_count": null,
   "id": "36c49f11",
   "metadata": {},
   "outputs": [
    {
     "name": "stdout",
     "output_type": "stream",
     "text": [
      "Started: 0\n"
     ]
    },
    {
     "name": "stderr",
     "output_type": "stream",
     "text": [
      "2025-01-16 14:02:44.180556: W external/xla/xla/service/gpu/nvptx_compiler.cc:760] The NVIDIA driver's CUDA version is 12.4 which is older than the ptxas CUDA version (12.5.40). Because the driver is older than the ptxas version, XLA is disabling parallel compilation, which may slow down compilation. You should update your NVIDIA driver or use the NVIDIA-provided CUDA forward compatibility packages.\n",
      "[INFO | root | 2025-01-16 14:02:44] - %%%%%%%%%%%%%%%%%%%%%%%%%%%%%%%%%%%%%%%%%%%%%%%%%%%%%%%%%%%%%%%%%\n",
      "[INFO | root | 2025-01-16 14:02:44] - Script with model `qpxrpn` started execution.\n",
      "[INFO | root | 2025-01-16 14:02:44] - Config: {'path': '/mnt/local/data/vtrifonov/prec-learning-Notay-loss/', 'folder': 'results_cases/16_01_2024_dkg_noRhs', 'name': 'qpxrpn', 'model_use': 'train', 'save_model': True, 'cg_maxiter': 350, 'cg_atol': 1e-12, 'data_config': {'data_dir': '/mnt/local/data/vtrifonov/prec-learning-Notay-loss/', 'pde': 'div_k_grad', 'grid': 32, 'variance': 0.1, 'lhs_type': 'l_ic0', 'N_samples_train': 1000, 'N_samples_test': 200, 'precision': 'f64', 'fill_factor': 1, 'threshold': 0.0001}, 'model_config': {'layer_type': 'Conv1d', 'alpha': 0.0, 'edge_enc': {'features': [1, 16, 16], 'N_layers': 2}, 'edge_dec': {'features': [16, 16, 1], 'N_layers': 2}, 'mp': {'edge_upd': {'features': [18, 16, 16], 'N_layers': 2}, 'node_upd': {'features': [17, 1, 1], 'N_layers': 2}, 'mp_rounds': 5}}, 'train_config': {'loss_type': 'low_freq_loss', 'model_type': 'precorrector_rhs_ones', 'batch_size': 8, 'optimizer': <function adam at 0x7f5cbd32e9e0>, 'lr': 0.001, 'optim_params': {}, 'epoch_num': 1000}, 'seed': 42}.\n",
      "\n",
      "[INFO | root | 2025-01-16 14:03:03] - Data is loaded in 1.863e+01 sec.\n",
      "\n",
      "[INFO | root | 2025-01-16 14:06:22] - Model is trained in 1.991e+02 sec.\n",
      "[INFO | root | 2025-01-16 14:06:22] - GNN's alpha = -0.1202.\n",
      "[INFO | root | 2025-01-16 14:06:22] - First and last losses: train = [6.010e+02, 7.976e+01], test = [1.570e+02, 7.894e+01].\n",
      "\n",
      "[INFO | root | 2025-01-16 14:06:30] - Precs are combined:\n",
      "[INFO | root | 2025-01-16 14:06:30] -  classical prec construction time (sec) : mean = 7.382e-05, std = 1.811e-06;\n",
      "[INFO | root | 2025-01-16 14:06:30] -  GNN prec construction time (sec) : mean = 2.838e-04, std = 9.598e-06.\n",
      "\n",
      "[INFO | root | 2025-01-16 14:06:43] - CG with GNN is finished:\n",
      "[INFO | root | 2025-01-16 14:06:43] -  iterations to atol([mean, std]): {0.001: [21.8, 0.49], 1e-06: [28.9, 0.49], 1e-09: [35.6, 0.52], 1e-12: [41.9, 0.38]};\n",
      "[INFO | root | 2025-01-16 14:06:43] -  time to atol([mean, std]): {0.001: [0.0294, 0.00079], 1e-06: [0.0386, 0.00081], 1e-09: [0.0473, 0.00089], 1e-12: [0.0555, 0.00074]};\n",
      "[INFO | root | 2025-01-16 14:06:43] -  number of linsystems for which CG did not conerge to atol: {0.001: 0, 1e-06: 0, 1e-09: 0, 1e-12: 0}.\n",
      "\n",
      "[INFO | root | 2025-01-16 14:07:01] - CG with classical prec is finished:\n",
      "[INFO | root | 2025-01-16 14:07:01] -  iterations to atol([mean, std]): {0.001: [33.3, 0.67], 1e-06: [43.2, 0.76], 1e-09: [51.5, 0.57], 1e-12: [58.9, 0.58]};\n",
      "[INFO | root | 2025-01-16 14:07:01] -  time to atol([mean, std]): {0.001: [0.0444, 0.00238], 1e-06: [0.0572, 0.003], 1e-09: [0.068, 0.00336], 1e-12: [0.0777, 0.00366]};\n",
      "[INFO | root | 2025-01-16 14:07:01] -  number of linsystems for which CG did not conerge to atol: {0.001: 0, 1e-06: 0, 1e-09: 0, 1e-12: 0}.\n",
      "\n",
      "[INFO | root | 2025-01-16 14:07:01] - Script with model `qpxrpn` finished execution.\n",
      "\n",
      "\n",
      "\n",
      "[INFO | root | 2025-01-16 14:07:01] - %%%%%%%%%%%%%%%%%%%%%%%%%%%%%%%%%%%%%%%%%%%%%%%%%%%%%%%%%%%%%%%%%\n",
      "[INFO | root | 2025-01-16 14:07:01] - Script with model `mj6kri` started execution.\n",
      "[INFO | root | 2025-01-16 14:07:01] - Config: {'path': '/mnt/local/data/vtrifonov/prec-learning-Notay-loss/', 'folder': 'results_cases/16_01_2024_dkg_noRhs', 'name': 'mj6kri', 'model_use': 'train', 'save_model': True, 'cg_maxiter': 350, 'cg_atol': 1e-12, 'data_config': {'data_dir': '/mnt/local/data/vtrifonov/prec-learning-Notay-loss/', 'pde': 'div_k_grad', 'grid': 32, 'variance': 0.5, 'lhs_type': 'l_ic0', 'N_samples_train': 1000, 'N_samples_test': 200, 'precision': 'f64', 'fill_factor': 1, 'threshold': 0.0001}, 'model_config': {'layer_type': 'Conv1d', 'alpha': 0.0, 'edge_enc': {'features': [1, 16, 16], 'N_layers': 2}, 'edge_dec': {'features': [16, 16, 1], 'N_layers': 2}, 'mp': {'edge_upd': {'features': [18, 16, 16], 'N_layers': 2}, 'node_upd': {'features': [17, 1, 1], 'N_layers': 2}, 'mp_rounds': 5}}, 'train_config': {'loss_type': 'low_freq_loss', 'model_type': 'precorrector_rhs_ones', 'batch_size': 8, 'optimizer': <function adam at 0x7f5cbd32e9e0>, 'lr': 0.001, 'optim_params': {}, 'epoch_num': 1000}, 'seed': 42}.\n",
      "\n"
     ]
    },
    {
     "name": "stdout",
     "output_type": "stream",
     "text": [
      "Started: 1\n"
     ]
    },
    {
     "name": "stderr",
     "output_type": "stream",
     "text": [
      "[INFO | root | 2025-01-16 14:07:16] - Data is loaded in 1.541e+01 sec.\n",
      "\n",
      "[INFO | root | 2025-01-16 14:10:30] - Model is trained in 1.937e+02 sec.\n",
      "[INFO | root | 2025-01-16 14:10:30] - GNN's alpha = -0.0948.\n",
      "[INFO | root | 2025-01-16 14:10:30] - First and last losses: train = [1.438e+03, 1.074e+02], test = [7.077e+02, 1.099e+02].\n",
      "\n",
      "[INFO | root | 2025-01-16 14:10:35] - Precs are combined:\n",
      "[INFO | root | 2025-01-16 14:10:35] -  classical prec construction time (sec) : mean = 8.969e-05, std = 7.842e-06;\n",
      "[INFO | root | 2025-01-16 14:10:35] -  GNN prec construction time (sec) : mean = 2.970e-04, std = 9.539e-06.\n",
      "\n",
      "[INFO | root | 2025-01-16 14:10:49] - CG with GNN is finished:\n",
      "[INFO | root | 2025-01-16 14:10:49] -  iterations to atol([mean, std]): {0.001: [24.7, 0.78], 1e-06: [32.4, 0.89], 1e-09: [39.8, 1.0], 1e-12: [46.8, 1.13]};\n",
      "[INFO | root | 2025-01-16 14:10:49] -  time to atol([mean, std]): {0.001: [0.0336, 0.00109], 1e-06: [0.0438, 0.00127], 1e-09: [0.0535, 0.00143], 1e-12: [0.0629, 0.00162]};\n",
      "[INFO | root | 2025-01-16 14:10:49] -  number of linsystems for which CG did not conerge to atol: {0.001: 0, 1e-06: 0, 1e-09: 0, 1e-12: 0}.\n",
      "\n",
      "[INFO | root | 2025-01-16 14:11:08] - CG with classical prec is finished:\n",
      "[INFO | root | 2025-01-16 14:11:08] -  iterations to atol([mean, std]): {0.001: [37.4, 1.15], 1e-06: [47.8, 1.12], 1e-09: [56.6, 1.16], 1e-12: [64.1, 1.18]};\n",
      "[INFO | root | 2025-01-16 14:11:08] -  time to atol([mean, std]): {0.001: [0.0502, 0.00159], 1e-06: [0.0639, 0.00155], 1e-09: [0.0755, 0.00158], 1e-12: [0.0855, 0.00164]};\n",
      "[INFO | root | 2025-01-16 14:11:08] -  number of linsystems for which CG did not conerge to atol: {0.001: 0, 1e-06: 0, 1e-09: 0, 1e-12: 0}.\n",
      "\n",
      "[INFO | root | 2025-01-16 14:11:08] - Script with model `mj6kri` finished execution.\n",
      "\n",
      "\n",
      "\n",
      "[INFO | root | 2025-01-16 14:11:08] - %%%%%%%%%%%%%%%%%%%%%%%%%%%%%%%%%%%%%%%%%%%%%%%%%%%%%%%%%%%%%%%%%\n",
      "[INFO | root | 2025-01-16 14:11:08] - Script with model `f83kmv` started execution.\n",
      "[INFO | root | 2025-01-16 14:11:08] - Config: {'path': '/mnt/local/data/vtrifonov/prec-learning-Notay-loss/', 'folder': 'results_cases/16_01_2024_dkg_noRhs', 'name': 'f83kmv', 'model_use': 'train', 'save_model': True, 'cg_maxiter': 350, 'cg_atol': 1e-12, 'data_config': {'data_dir': '/mnt/local/data/vtrifonov/prec-learning-Notay-loss/', 'pde': 'div_k_grad', 'grid': 32, 'variance': 0.7, 'lhs_type': 'l_ic0', 'N_samples_train': 1000, 'N_samples_test': 200, 'precision': 'f64', 'fill_factor': 1, 'threshold': 0.0001}, 'model_config': {'layer_type': 'Conv1d', 'alpha': 0.0, 'edge_enc': {'features': [1, 16, 16], 'N_layers': 2}, 'edge_dec': {'features': [16, 16, 1], 'N_layers': 2}, 'mp': {'edge_upd': {'features': [18, 16, 16], 'N_layers': 2}, 'node_upd': {'features': [17, 1, 1], 'N_layers': 2}, 'mp_rounds': 5}}, 'train_config': {'loss_type': 'low_freq_loss', 'model_type': 'precorrector_rhs_ones', 'batch_size': 8, 'optimizer': <function adam at 0x7f5cbd32e9e0>, 'lr': 0.001, 'optim_params': {}, 'epoch_num': 1000}, 'seed': 42}.\n",
      "\n"
     ]
    },
    {
     "name": "stdout",
     "output_type": "stream",
     "text": [
      "Started: 2\n"
     ]
    },
    {
     "name": "stderr",
     "output_type": "stream",
     "text": [
      "[INFO | root | 2025-01-16 14:11:23] - Data is loaded in 1.465e+01 sec.\n",
      "\n",
      "[INFO | root | 2025-01-16 14:14:36] - Model is trained in 1.935e+02 sec.\n",
      "[INFO | root | 2025-01-16 14:14:36] - GNN's alpha = -0.1209.\n",
      "[INFO | root | 2025-01-16 14:14:36] - First and last losses: train = [2.160e+03, 1.327e+02], test = [1.063e+03, 1.343e+02].\n",
      "\n",
      "[INFO | root | 2025-01-16 14:14:41] - Precs are combined:\n",
      "[INFO | root | 2025-01-16 14:14:41] -  classical prec construction time (sec) : mean = 7.880e-05, std = 2.781e-06;\n",
      "[INFO | root | 2025-01-16 14:14:41] -  GNN prec construction time (sec) : mean = 2.847e-04, std = 8.066e-06.\n",
      "\n",
      "[INFO | root | 2025-01-16 14:14:57] - CG with GNN is finished:\n",
      "[INFO | root | 2025-01-16 14:14:57] -  iterations to atol([mean, std]): {0.001: [26.5, 0.95], 1e-06: [34.8, 1.14], 1e-09: [42.8, 1.36], 1e-12: [50.7, 1.6]};\n",
      "[INFO | root | 2025-01-16 14:14:57] -  time to atol([mean, std]): {0.001: [0.0373, 0.00312], 1e-06: [0.0486, 0.00411], 1e-09: [0.0597, 0.00517], 1e-12: [0.0704, 0.0062]};\n",
      "[INFO | root | 2025-01-16 14:14:57] -  number of linsystems for which CG did not conerge to atol: {0.001: 0, 1e-06: 0, 1e-09: 0, 1e-12: 0}.\n",
      "\n",
      "[INFO | root | 2025-01-16 14:15:17] - CG with classical prec is finished:\n",
      "[INFO | root | 2025-01-16 14:15:17] -  iterations to atol([mean, std]): {0.001: [39.8, 1.38], 1e-06: [50.5, 1.55], 1e-09: [59.3, 1.47], 1e-12: [67.1, 1.46]};\n",
      "[INFO | root | 2025-01-16 14:15:17] -  time to atol([mean, std]): {0.001: [0.053, 0.00189], 1e-06: [0.067, 0.00205], 1e-09: [0.0786, 0.00201], 1e-12: [0.0887, 0.002]};\n",
      "[INFO | root | 2025-01-16 14:15:17] -  number of linsystems for which CG did not conerge to atol: {0.001: 0, 1e-06: 0, 1e-09: 0, 1e-12: 0}.\n",
      "\n",
      "[INFO | root | 2025-01-16 14:15:17] - Script with model `f83kmv` finished execution.\n",
      "\n",
      "\n",
      "\n",
      "[INFO | root | 2025-01-16 14:15:17] - %%%%%%%%%%%%%%%%%%%%%%%%%%%%%%%%%%%%%%%%%%%%%%%%%%%%%%%%%%%%%%%%%\n",
      "[INFO | root | 2025-01-16 14:15:17] - Script with model `0xz29r` started execution.\n",
      "[INFO | root | 2025-01-16 14:15:17] - Config: {'path': '/mnt/local/data/vtrifonov/prec-learning-Notay-loss/', 'folder': 'results_cases/16_01_2024_dkg_noRhs', 'name': '0xz29r', 'model_use': 'train', 'save_model': True, 'cg_maxiter': 350, 'cg_atol': 1e-12, 'data_config': {'data_dir': '/mnt/local/data/vtrifonov/prec-learning-Notay-loss/', 'pde': 'div_k_grad', 'grid': 32, 'variance': 0.1, 'lhs_type': 'l_ic0', 'N_samples_train': 1000, 'N_samples_test': 200, 'precision': 'f64', 'fill_factor': 1, 'threshold': 0.0001}, 'model_config': {'layer_type': 'Conv1d', 'alpha': 0.0, 'edge_enc': {'features': [1, 16, 16], 'N_layers': 2}, 'edge_dec': {'features': [16, 16, 1], 'N_layers': 2}, 'mp': {'edge_upd': {'features': [18, 16, 16], 'N_layers': 2}, 'node_upd': {'features': [17, 1, 1], 'N_layers': 2}, 'mp_rounds': 5}}, 'train_config': {'loss_type': 'high_freq_loss', 'model_type': 'precorrector_rhs_ones', 'batch_size': 8, 'optimizer': <function adam at 0x7f5cbd32e9e0>, 'lr': 0.001, 'optim_params': {}, 'epoch_num': 1000}, 'seed': 42}.\n",
      "\n"
     ]
    },
    {
     "name": "stdout",
     "output_type": "stream",
     "text": [
      "Started: 3\n"
     ]
    },
    {
     "name": "stderr",
     "output_type": "stream",
     "text": [
      "[INFO | root | 2025-01-16 14:15:31] - Data is loaded in 1.447e+01 sec.\n",
      "\n",
      "[INFO | root | 2025-01-16 14:18:48] - Model is trained in 1.965e+02 sec.\n",
      "[INFO | root | 2025-01-16 14:18:48] - GNN's alpha = 0.0839.\n",
      "[INFO | root | 2025-01-16 14:18:48] - First and last losses: train = [2.012e+08, 1.921e+08], test = [1.947e+08, 1.924e+08].\n",
      "\n",
      "[INFO | root | 2025-01-16 14:18:52] - Precs are combined:\n",
      "[INFO | root | 2025-01-16 14:18:52] -  classical prec construction time (sec) : mean = 7.698e-05, std = 1.720e-06;\n",
      "[INFO | root | 2025-01-16 14:18:52] -  GNN prec construction time (sec) : mean = 2.812e-04, std = 9.984e-06.\n",
      "\n",
      "[INFO | root | 2025-01-16 14:19:12] - CG with GNN is finished:\n",
      "[INFO | root | 2025-01-16 14:19:12] -  iterations to atol([mean, std]): {0.001: [37.4, 0.72], 1e-06: [48.6, 0.78], 1e-09: [57.8, 0.58], 1e-12: [66.0, 0.6]};\n",
      "[INFO | root | 2025-01-16 14:19:12] -  time to atol([mean, std]): {0.001: [0.0507, 0.00305], 1e-06: [0.0654, 0.00379], 1e-09: [0.0776, 0.00398], 1e-12: [0.0885, 0.00423]};\n",
      "[INFO | root | 2025-01-16 14:19:12] -  number of linsystems for which CG did not conerge to atol: {0.001: 0, 1e-06: 0, 1e-09: 0, 1e-12: 0}.\n",
      "\n",
      "[INFO | root | 2025-01-16 14:19:29] - CG with classical prec is finished:\n",
      "[INFO | root | 2025-01-16 14:19:29] -  iterations to atol([mean, std]): {0.001: [33.3, 0.67], 1e-06: [43.2, 0.76], 1e-09: [51.5, 0.57], 1e-12: [58.9, 0.58]};\n",
      "[INFO | root | 2025-01-16 14:19:29] -  time to atol([mean, std]): {0.001: [0.0447, 0.00126], 1e-06: [0.0577, 0.00126], 1e-09: [0.0686, 0.00119], 1e-12: [0.0784, 0.00116]};\n",
      "[INFO | root | 2025-01-16 14:19:29] -  number of linsystems for which CG did not conerge to atol: {0.001: 0, 1e-06: 0, 1e-09: 0, 1e-12: 0}.\n",
      "\n",
      "[INFO | root | 2025-01-16 14:19:29] - Script with model `0xz29r` finished execution.\n",
      "\n",
      "\n",
      "\n",
      "[INFO | root | 2025-01-16 14:19:29] - %%%%%%%%%%%%%%%%%%%%%%%%%%%%%%%%%%%%%%%%%%%%%%%%%%%%%%%%%%%%%%%%%\n",
      "[INFO | root | 2025-01-16 14:19:29] - Script with model `tqgjpc` started execution.\n",
      "[INFO | root | 2025-01-16 14:19:29] - Config: {'path': '/mnt/local/data/vtrifonov/prec-learning-Notay-loss/', 'folder': 'results_cases/16_01_2024_dkg_noRhs', 'name': 'tqgjpc', 'model_use': 'train', 'save_model': True, 'cg_maxiter': 350, 'cg_atol': 1e-12, 'data_config': {'data_dir': '/mnt/local/data/vtrifonov/prec-learning-Notay-loss/', 'pde': 'div_k_grad', 'grid': 32, 'variance': 0.5, 'lhs_type': 'l_ic0', 'N_samples_train': 1000, 'N_samples_test': 200, 'precision': 'f64', 'fill_factor': 1, 'threshold': 0.0001}, 'model_config': {'layer_type': 'Conv1d', 'alpha': 0.0, 'edge_enc': {'features': [1, 16, 16], 'N_layers': 2}, 'edge_dec': {'features': [16, 16, 1], 'N_layers': 2}, 'mp': {'edge_upd': {'features': [18, 16, 16], 'N_layers': 2}, 'node_upd': {'features': [17, 1, 1], 'N_layers': 2}, 'mp_rounds': 5}}, 'train_config': {'loss_type': 'high_freq_loss', 'model_type': 'precorrector_rhs_ones', 'batch_size': 8, 'optimizer': <function adam at 0x7f5cbd32e9e0>, 'lr': 0.001, 'optim_params': {}, 'epoch_num': 1000}, 'seed': 42}.\n",
      "\n"
     ]
    },
    {
     "name": "stdout",
     "output_type": "stream",
     "text": [
      "Started: 4\n"
     ]
    },
    {
     "name": "stderr",
     "output_type": "stream",
     "text": [
      "[INFO | root | 2025-01-16 14:19:44] - Data is loaded in 1.467e+01 sec.\n",
      "\n"
     ]
    }
   ],
   "source": [
    "grid_train(base_config, params_grid)"
   ]
  },
  {
   "cell_type": "code",
   "execution_count": null,
   "id": "4dd545ed",
   "metadata": {},
   "outputs": [],
   "source": [
    "params_poisson = {\n",
    "    'cg_maxiter': [350],\n",
    "    'model_type': ['precorrector_rhs_ones'],\n",
    "    'loss_type': ['low_freq_loss', 'high_freq_loss'],\n",
    "    'batch_size': [8],\n",
    "    'lr': [1e-3],\n",
    "    'epoch_num': [1000],\n",
    "    'pde': ['poisson'],\n",
    "    'grid': [32, 64, 128],\n",
    "    'variance': [.1],\n",
    "    'lhs_type': ['l_ic0', 'l_ict'],\n",
    "    'fill_factor': [1],\n",
    "    'threshold': [1e-4]\n",
    "}\n",
    "params_grid = ParameterGrid(params_poisson)"
   ]
  },
  {
   "cell_type": "code",
   "execution_count": null,
   "id": "cbe839c6",
   "metadata": {},
   "outputs": [],
   "source": [
    "grid_train(base_config, params_grid)"
   ]
  },
  {
   "cell_type": "code",
   "execution_count": null,
   "id": "c125cb25",
   "metadata": {},
   "outputs": [],
   "source": [
    "exit()"
   ]
  }
 ],
 "metadata": {
  "kernelspec": {
   "display_name": "Python 3 (ipykernel)",
   "language": "python",
   "name": "python3"
  },
  "language_info": {
   "codemirror_mode": {
    "name": "ipython",
    "version": 3
   },
   "file_extension": ".py",
   "mimetype": "text/x-python",
   "name": "python",
   "nbconvert_exporter": "python",
   "pygments_lexer": "ipython3",
   "version": "3.10.6"
  }
 },
 "nbformat": 4,
 "nbformat_minor": 5
}
