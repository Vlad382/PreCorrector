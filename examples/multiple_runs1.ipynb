{
 "cells": [
  {
   "cell_type": "code",
   "execution_count": 1,
   "id": "a416f5cc",
   "metadata": {},
   "outputs": [],
   "source": [
    "import sys\n",
    "import os\n",
    "os.environ[\"CUDA_VISIBLE_DEVICES\"] = '3'\n",
    "os.environ['XLA_PYTHON_CLIENT_MEM_FRACTION'] = '.95'\n",
    "sys.path.append('/mnt/local/data/vtrifonov/prec-learning-Notay-loss/')"
   ]
  },
  {
   "cell_type": "code",
   "execution_count": 2,
   "id": "3d64c439",
   "metadata": {},
   "outputs": [],
   "source": [
    "import optax\n",
    "import numpy as np\n",
    "from sklearn.model_selection import ParameterGrid\n",
    "\n",
    "from script_train import grid_train\n",
    "from config import default_precorrector_config"
   ]
  },
  {
   "cell_type": "code",
   "execution_count": 3,
   "id": "15d38cba",
   "metadata": {},
   "outputs": [],
   "source": [
    "seed = 42\n",
    "path = '/mnt/local/data/vtrifonov/prec-learning-Notay-loss/'\n",
    "folder = 'results_cases/15_01_2024_dkg_g32_64'"
   ]
  },
  {
   "cell_type": "code",
   "execution_count": 4,
   "id": "0d439436",
   "metadata": {},
   "outputs": [],
   "source": [
    "model_config = default_precorrector_config\n",
    "\n",
    "data_config = {\n",
    "    'data_dir': path,\n",
    "    'pde': np.nan,\n",
    "    'grid': np.nan,\n",
    "    'variance': np.nan,\n",
    "    'lhs_type': np.nan,\n",
    "    'N_samples_train': 1000,\n",
    "    'N_samples_test': 200,\n",
    "    'precision': 'f64',\n",
    "    'fill_factor': 1,\n",
    "    'threshold': 1e-4\n",
    "}\n",
    "\n",
    "train_config = {\n",
    "    'loss_type': 'low_freq_loss',\n",
    "    'model_type': 'precorrector',\n",
    "    'batch_size': 8,\n",
    "    'optimizer': optax.adam,\n",
    "    'lr': 1e-3,\n",
    "    'optim_params': {},\n",
    "    'epoch_num': 500\n",
    "}\n",
    "\n",
    "base_config = {\n",
    "    'path': path,\n",
    "    'folder': folder,\n",
    "    'name': np.nan,\n",
    "    'model_use': 'train',\n",
    "    'save_model': True,\n",
    "    'cg_maxiter': np.nan,\n",
    "    'cg_atol': 1e-12,\n",
    "    'data_config': data_config,\n",
    "    'model_config': model_config,\n",
    "    'train_config': train_config,\n",
    "    'seed': seed\n",
    "}"
   ]
  },
  {
   "cell_type": "code",
   "execution_count": 5,
   "id": "b3d7e890",
   "metadata": {},
   "outputs": [],
   "source": [
    "params_dkg_128 = {\n",
    "    'cg_maxiter': [350],\n",
    "    'model_type': ['precorrector'],\n",
    "    'loss_type': ['low_freq_loss', 'high_freq_loss'],\n",
    "    'batch_size': [8],\n",
    "    'lr': [1e-3],\n",
    "    'epoch_num': [1000],\n",
    "    'pde': ['div_k_grad'],\n",
    "    'grid': [64, 32],\n",
    "    'variance': [.1, .5, .7],\n",
    "    'lhs_type': ['l_ic0', 'l_ict'],\n",
    "    'fill_factor': [1],\n",
    "    'threshold': [1e-4]\n",
    "}\n",
    "params_grid = ParameterGrid(params_dkg_128)"
   ]
  },
  {
   "cell_type": "code",
   "execution_count": null,
   "id": "8c25939f",
   "metadata": {},
   "outputs": [
    {
     "name": "stdout",
     "output_type": "stream",
     "text": [
      "Started: 0\n"
     ]
    },
    {
     "name": "stderr",
     "output_type": "stream",
     "text": [
      "2025-01-16 10:01:23.725771: W external/xla/xla/service/gpu/nvptx_compiler.cc:760] The NVIDIA driver's CUDA version is 12.4 which is older than the ptxas CUDA version (12.5.40). Because the driver is older than the ptxas version, XLA is disabling parallel compilation, which may slow down compilation. You should update your NVIDIA driver or use the NVIDIA-provided CUDA forward compatibility packages.\n",
      "[INFO | root | 2025-01-16 10:01:24] - %%%%%%%%%%%%%%%%%%%%%%%%%%%%%%%%%%%%%%%%%%%%%%%%%%%%%%%%%%%%%%%%%\n",
      "[INFO | root | 2025-01-16 10:01:24] - Script with model `qupal6` started execution.\n",
      "[INFO | root | 2025-01-16 10:01:24] - Config: {'path': '/mnt/local/data/vtrifonov/prec-learning-Notay-loss/', 'folder': 'results_cases/15_01_2024_dkg_g32_64', 'name': 'qupal6', 'model_use': 'train', 'save_model': True, 'cg_maxiter': 350, 'cg_atol': 1e-12, 'data_config': {'data_dir': '/mnt/local/data/vtrifonov/prec-learning-Notay-loss/', 'pde': 'div_k_grad', 'grid': 64, 'variance': 0.1, 'lhs_type': 'l_ic0', 'N_samples_train': 1000, 'N_samples_test': 200, 'precision': 'f64', 'fill_factor': 1, 'threshold': 0.0001}, 'model_config': {'layer_type': 'Conv1d', 'alpha': 0.0, 'edge_enc': {'features': [1, 16, 16], 'N_layers': 2}, 'edge_dec': {'features': [16, 16, 1], 'N_layers': 2}, 'mp': {'edge_upd': {'features': [18, 16, 16], 'N_layers': 2}, 'node_upd': {'features': [17, 1, 1], 'N_layers': 2}, 'mp_rounds': 5}}, 'train_config': {'loss_type': 'low_freq_loss', 'model_type': 'precorrector', 'batch_size': 8, 'optimizer': <function adam at 0x7f0dc66529e0>, 'lr': 0.001, 'optim_params': {}, 'epoch_num': 1000}, 'seed': 42}.\n",
      "\n",
      "[INFO | root | 2025-01-16 10:01:48] - Data is loaded in 2.414e+01 sec.\n",
      "\n",
      "[INFO | root | 2025-01-16 10:10:56] - Model is trained in 5.483e+02 sec.\n",
      "[INFO | root | 2025-01-16 10:10:56] - GNN's alpha = -0.1434.\n",
      "[INFO | root | 2025-01-16 10:10:56] - First and last losses: train = [8.167e+03, 3.646e+02], test = [8.628e+02, 3.662e+02]\n",
      ".\n",
      "[INFO | root | 2025-01-16 10:11:06] - Precs are combined:\n",
      "[INFO | root | 2025-01-16 10:11:06] -  classical prec construction time (sec) : mean = 1.532e-04, std = 6.065e-06;\n",
      "[INFO | root | 2025-01-16 10:11:06] -  GNN prec construction time (sec) : mean = 3.580e-04, std = 7.299e-06.\n",
      "\n",
      "[INFO | root | 2025-01-16 10:11:35] - CG with GNN is finished:\n",
      "[INFO | root | 2025-01-16 10:11:35] -  iterations to atol([mean, std]): {0.001: [33.5, 0.68], 1e-06: [43.4, 0.53], 1e-09: [52.4, 0.56], 1e-12: [61.2, 0.58]};\n",
      "[INFO | root | 2025-01-16 10:11:35] -  time to atol([mean, std]): {0.001: [0.0741, 0.00184], 1e-06: [0.0955, 0.00207], 1e-09: [0.115, 0.00234], 1e-12: [0.1342, 0.00267]};\n",
      "[INFO | root | 2025-01-16 10:11:35] -  number of linsystems for which CG did not conerge to atol: {0.001: 0, 1e-06: 0, 1e-09: 0, 1e-12: 0}.\n",
      "\n",
      "[INFO | root | 2025-01-16 10:12:27] - CG with classical prec is finished:\n",
      "[INFO | root | 2025-01-16 10:12:27] -  iterations to atol([mean, std]): {0.001: [65.4, 1.19], 1e-06: [84.3, 1.13], 1e-09: [99.6, 0.9], 1e-12: [113.6, 1.0]};\n",
      "[INFO | root | 2025-01-16 10:12:27] -  time to atol([mean, std]): {0.001: [0.1452, 0.00844], 1e-06: [0.1865, 0.00967], 1e-09: [0.2199, 0.01], 1e-12: [0.2505, 0.0103]};\n",
      "[INFO | root | 2025-01-16 10:12:27] -  number of linsystems for which CG did not conerge to atol: {0.001: 0, 1e-06: 0, 1e-09: 0, 1e-12: 0}.\n",
      "\n",
      "[INFO | root | 2025-01-16 10:12:27] - Script with model `qupal6` finished execution.\n",
      "\n",
      "\n",
      "\n",
      "[INFO | root | 2025-01-16 10:12:27] - %%%%%%%%%%%%%%%%%%%%%%%%%%%%%%%%%%%%%%%%%%%%%%%%%%%%%%%%%%%%%%%%%\n",
      "[INFO | root | 2025-01-16 10:12:27] - Script with model `sl17cy` started execution.\n",
      "[INFO | root | 2025-01-16 10:12:27] - Config: {'path': '/mnt/local/data/vtrifonov/prec-learning-Notay-loss/', 'folder': 'results_cases/15_01_2024_dkg_g32_64', 'name': 'sl17cy', 'model_use': 'train', 'save_model': True, 'cg_maxiter': 350, 'cg_atol': 1e-12, 'data_config': {'data_dir': '/mnt/local/data/vtrifonov/prec-learning-Notay-loss/', 'pde': 'div_k_grad', 'grid': 64, 'variance': 0.5, 'lhs_type': 'l_ic0', 'N_samples_train': 1000, 'N_samples_test': 200, 'precision': 'f64', 'fill_factor': 1, 'threshold': 0.0001}, 'model_config': {'layer_type': 'Conv1d', 'alpha': 0.0, 'edge_enc': {'features': [1, 16, 16], 'N_layers': 2}, 'edge_dec': {'features': [16, 16, 1], 'N_layers': 2}, 'mp': {'edge_upd': {'features': [18, 16, 16], 'N_layers': 2}, 'node_upd': {'features': [17, 1, 1], 'N_layers': 2}, 'mp_rounds': 5}}, 'train_config': {'loss_type': 'low_freq_loss', 'model_type': 'precorrector', 'batch_size': 8, 'optimizer': <function adam at 0x7f0dc66529e0>, 'lr': 0.001, 'optim_params': {}, 'epoch_num': 1000}, 'seed': 42}.\n",
      "\n"
     ]
    },
    {
     "name": "stdout",
     "output_type": "stream",
     "text": [
      "Started: 1\n"
     ]
    },
    {
     "name": "stderr",
     "output_type": "stream",
     "text": [
      "[INFO | root | 2025-01-16 10:12:42] - Data is loaded in 1.537e+01 sec.\n",
      "\n"
     ]
    }
   ],
   "source": [
    "grid_train(base_config, params_grid)"
   ]
  },
  {
   "cell_type": "code",
   "execution_count": null,
   "id": "91ad6637",
   "metadata": {},
   "outputs": [],
   "source": [
    "exit()"
   ]
  }
 ],
 "metadata": {
  "kernelspec": {
   "display_name": "Python 3 (ipykernel)",
   "language": "python",
   "name": "python3"
  },
  "language_info": {
   "codemirror_mode": {
    "name": "ipython",
    "version": 3
   },
   "file_extension": ".py",
   "mimetype": "text/x-python",
   "name": "python",
   "nbconvert_exporter": "python",
   "pygments_lexer": "ipython3",
   "version": "3.10.6"
  }
 },
 "nbformat": 4,
 "nbformat_minor": 5
}
