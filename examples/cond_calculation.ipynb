{
 "cells": [
  {
   "cell_type": "code",
   "execution_count": null,
   "id": "25f2ab35",
   "metadata": {},
   "outputs": [],
   "source": [
    "import sys\n",
    "import os\n",
    "os.environ[\"CUDA_VISIBLE_DEVICES\"] = '0'\n",
    "os.environ['XLA_PYTHON_CLIENT_MEM_FRACTION'] = '.95'\n",
    "sys.path.append('/mnt/local/data/vtrifonov/prec-learning-Notay-loss/')"
   ]
  },
  {
   "cell_type": "code",
   "execution_count": 2,
   "id": "560b7488",
   "metadata": {},
   "outputs": [],
   "source": [
    "from time import perf_counter\n",
    "\n",
    "import jax.numpy as jnp\n",
    "import numpy as np\n",
    "\n",
    "import scipy.sparse\n",
    "import scipy.sparse.linalg as lg\n",
    "\n",
    "from data.dataset import load_dataset\n",
    "from utils import jBCOO_to_scipyCSR"
   ]
  },
  {
   "cell_type": "code",
   "execution_count": 3,
   "id": "f864530f",
   "metadata": {},
   "outputs": [],
   "source": [
    "path = '/mnt/local/data/vtrifonov/prec-learning-Notay-loss/'"
   ]
  },
  {
   "cell_type": "code",
   "execution_count": 5,
   "id": "4a340891",
   "metadata": {},
   "outputs": [
    {
     "name": "stdout",
     "output_type": "stream",
     "text": [
      "Finished: grid = 256, var = 0.5, cond = 346580.4\n",
      "Finished: grid = 256, var = 0.7, cond = 602658.9\n",
      "Finished: grid = 256, var = 1.1, cond = 406557.1\n"
     ]
    }
   ],
   "source": [
    "cond_dict = {\n",
    "#     64: {\n",
    "#         .5: -42,\n",
    "#         .7: -42,\n",
    "#         1.1: -42\n",
    "#     },\n",
    "#     128: {\n",
    "#         .5: -42,\n",
    "#         .7: -42,\n",
    "#         1.1: -42\n",
    "#     },\n",
    "    256: {\n",
    "        .5: -42,\n",
    "        .7: -42,\n",
    "        1.1: -42\n",
    "    },\n",
    "}\n",
    "\n",
    "for grid in cond_dict.keys():\n",
    "    for var in cond_dict[grid].keys():\n",
    "        data_config = {\n",
    "            'data_dir': path,\n",
    "            'pde': 'div_k_grad',\n",
    "            'grid': grid,\n",
    "            'variance': var,\n",
    "            'lhs_type': 'fd',\n",
    "            'N_samples_train': np.nan,\n",
    "            'N_samples_test': 200,\n",
    "            'fill_factor': np.nan,\n",
    "            'threshold': np.nan\n",
    "        }\n",
    "        test_set = load_dataset(data_config, return_train=False)\n",
    "        A_test, A_pad_test, b_test, bi_edges_test, x_test, class_time_mean_test, class_time_std_test = test_set\n",
    "\n",
    "        A = jBCOO_to_scipyCSR(A_test[0, ...])\n",
    "\n",
    "        ew1, ev = lg.eigsh(A, k=10, which='LM')\n",
    "        ew2, ev = lg.eigsh(A, k=10, sigma=1e-8)   #<--- takes a long time\n",
    "\n",
    "        ew1 = abs(ew1)\n",
    "        ew2 = abs(ew2)\n",
    "\n",
    "        cond = ew1.max()/ew2.min()\n",
    "        cond_dict[grid][var] = cond\n",
    "        del A\n",
    "        print(f'Finished: grid = {grid}, var = {var}, cond = {cond:.1f}')"
   ]
  },
  {
   "cell_type": "code",
   "execution_count": null,
   "id": "c08064f1",
   "metadata": {},
   "outputs": [],
   "source": []
  },
  {
   "cell_type": "code",
   "execution_count": 8,
   "id": "0c849981",
   "metadata": {},
   "outputs": [
    {
     "name": "stdout",
     "output_type": "stream",
     "text": [
      "Finished: grid = 256, var = 0.5, cond = 261316.3\n",
      "Finished: grid = 256, var = 0.7, cond = 277895.9\n",
      "Finished: grid = 256, var = 1.1, cond = 637528.8\n"
     ]
    }
   ],
   "source": [
    "cond_dict = {\n",
    "#     64: {\n",
    "#         .5: -42,\n",
    "#         .7: -42,\n",
    "#         1.1: -42\n",
    "#     },\n",
    "#     128: {\n",
    "#         .5: -42,\n",
    "#         .7: -42,\n",
    "#         1.1: -42\n",
    "#     },\n",
    "    256: {\n",
    "        .5: -42,\n",
    "        .7: -42,\n",
    "        1.1: -42\n",
    "    },\n",
    "}\n",
    "\n",
    "for grid in cond_dict.keys():\n",
    "    for var in cond_dict[grid].keys():\n",
    "        data_config = {\n",
    "            'data_dir': path,\n",
    "            'pde': 'div_k_grad',\n",
    "            'grid': grid,\n",
    "            'variance': var,\n",
    "            'lhs_type': 'fd',\n",
    "            'N_samples_train': np.nan,\n",
    "            'N_samples_test': 200,\n",
    "            'fill_factor': np.nan,\n",
    "            'threshold': np.nan\n",
    "        }\n",
    "        test_set = load_dataset(data_config, return_train=False)\n",
    "        A_test, A_pad_test, b_test, bi_edges_test, x_test, class_time_mean_test, class_time_std_test = test_set\n",
    "\n",
    "        A = jBCOO_to_scipyCSR(A_test[1, ...])\n",
    "\n",
    "        ew1, ev = lg.eigsh(A, k=50, which='LM')\n",
    "        ew2, ev = lg.eigsh(A, k=50, sigma=1e-8)   #<--- takes a long time\n",
    "\n",
    "        ew1 = abs(ew1)\n",
    "        ew2 = abs(ew2)\n",
    "\n",
    "        cond = ew1.max()/ew2.min()\n",
    "        cond_dict[grid][var] = cond\n",
    "        del A\n",
    "        print(f'Finished: grid = {grid}, var = {var}, cond = {cond:.1f}')"
   ]
  }
 ],
 "metadata": {
  "kernelspec": {
   "display_name": "Python 3 (ipykernel)",
   "language": "python",
   "name": "python3"
  },
  "language_info": {
   "codemirror_mode": {
    "name": "ipython",
    "version": 3
   },
   "file_extension": ".py",
   "mimetype": "text/x-python",
   "name": "python",
   "nbconvert_exporter": "python",
   "pygments_lexer": "ipython3",
   "version": "3.10.6"
  }
 },
 "nbformat": 4,
 "nbformat_minor": 5
}
