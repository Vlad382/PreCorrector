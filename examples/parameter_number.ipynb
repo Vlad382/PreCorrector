{
 "cells": [
  {
   "cell_type": "code",
   "execution_count": 1,
   "id": "6cd248c2",
   "metadata": {},
   "outputs": [],
   "source": [
    "import sys\n",
    "import os\n",
    "os.environ[\"CUDA_VISIBLE_DEVICES\"] = '3'\n",
    "os.environ['XLA_PYTHON_CLIENT_MEM_FRACTION'] = '.95'\n",
    "sys.path.append('/mnt/local/data/vtrifonov/prec-learning-Notay-loss/')"
   ]
  },
  {
   "cell_type": "code",
   "execution_count": 5,
   "id": "e243bf47",
   "metadata": {},
   "outputs": [],
   "source": [
    "from copy import deepcopy\n",
    "\n",
    "from jax import random\n",
    "\n",
    "from train import make_neural_prec_model\n",
    "from utils import params_count"
   ]
  },
  {
   "cell_type": "code",
   "execution_count": 9,
   "id": "e47330cf",
   "metadata": {},
   "outputs": [],
   "source": [
    "default_precorrector_mlp_config = {\n",
    "    'layer_type': 'Conv1d',\n",
    "    'static_diag': False,\n",
    "    'alpha': 0.,\n",
    "    'mlp': {\n",
    "        'features': [1, 16, 1],\n",
    "        'N_layers': 2,\n",
    "    }\n",
    "}\n",
    "\n",
    "default_precorrector_gnn_config = {\n",
    "    'layer_type': 'Conv1d',\n",
    "    'use_nodes': False,\n",
    "    'node_upd_mlp': False,\n",
    "    'static_diag': True,\n",
    "    'alpha': 0.,\n",
    "    'edge_enc': {\n",
    "        'features': [1, 16, 16],\n",
    "        'N_layers': 2,\n",
    "    },\n",
    "    'edge_dec': {\n",
    "        'features': [16, 16, 1],\n",
    "        'N_layers': 2,\n",
    "    },\n",
    "    'mp': {\n",
    "        'edge_upd': {\n",
    "            'features': [18, 16, 16],\n",
    "            'N_layers': 2,\n",
    "        },\n",
    "        'node_upd': {\n",
    "            'features': [17, 1, 1],\n",
    "            'N_layers': 2,\n",
    "        },\n",
    "        'mp_rounds': 5,\n",
    "        'aggregate_edges': 'max'\n",
    "    }\n",
    "}\n",
    "\n",
    "default_naive_gnn_config = {\n",
    "    'layer_type': 'ConstantConv1d',\n",
    "    'node_enc': {\n",
    "        'features': [1, 16, 16],\n",
    "        'N_layers': 2,\n",
    "    },\n",
    "    'edge_enc': {\n",
    "        'features': [1, 16, 16],\n",
    "        'N_layers': 2,\n",
    "    },\n",
    "    'edge_dec': {\n",
    "        'features': [16, 16, 1],\n",
    "        'N_layers': 2,\n",
    "    },\n",
    "    'mp': {\n",
    "        'edge_upd': {\n",
    "            'features': [48, 16, 16],\n",
    "            'N_layers': 2,\n",
    "        },\n",
    "        'node_upd': {\n",
    "            'features': [32, 16, 16],\n",
    "            'N_layers': 2,\n",
    "        },\n",
    "        'mp_rounds': 5,\n",
    "        'aggregate_edges': 'sum'\n",
    "    }\n",
    "}\n",
    "\n",
    "# model_type in {'precorrector_gnn', 'precorrector_gnn_multiblock', 'naive_gnn', 'precorrector_mlp'}"
   ]
  },
  {
   "cell_type": "markdown",
   "id": "43b9814b",
   "metadata": {},
   "source": [
    "# PreCorrector paper"
   ]
  },
  {
   "cell_type": "code",
   "execution_count": 4,
   "id": "f6b3d5a9",
   "metadata": {},
   "outputs": [
    {
     "name": "stderr",
     "output_type": "stream",
     "text": [
      "2025-01-30 22:48:20.471344: W external/xla/xla/service/gpu/nvptx_compiler.cc:760] The NVIDIA driver's CUDA version is 12.4 which is older than the ptxas CUDA version (12.5.40). Because the driver is older than the ptxas version, XLA is disabling parallel compilation, which may slow down compilation. You should update your NVIDIA driver or use the NVIDIA-provided CUDA forward compatibility packages.\n"
     ]
    },
    {
     "data": {
      "text/plain": [
       "1170"
      ]
     },
     "execution_count": 4,
     "metadata": {},
     "output_type": "execute_result"
    }
   ],
   "source": [
    "params_count(make_neural_prec_model(\n",
    "    key = random.PRNGKey(42),\n",
    "    config = default_precorrector_gnn_config,\n",
    "    model_type = 'precorrector_gnn'\n",
    "))"
   ]
  },
  {
   "cell_type": "markdown",
   "id": "6f9c7492",
   "metadata": {},
   "source": [
    "# NaiveGNN and PreCorrector with nodes update MLP and with nodes encoder"
   ]
  },
  {
   "cell_type": "code",
   "execution_count": 10,
   "id": "fcb1a7ef",
   "metadata": {},
   "outputs": [
    {
     "data": {
      "text/plain": [
       "2753"
      ]
     },
     "execution_count": 10,
     "metadata": {},
     "output_type": "execute_result"
    }
   ],
   "source": [
    "params_count(make_neural_prec_model(\n",
    "    key = random.PRNGKey(42),\n",
    "    config = default_naive_gnn_config,\n",
    "    model_type = 'naive_gnn'\n",
    "))"
   ]
  },
  {
   "cell_type": "markdown",
   "id": "e2e67d56",
   "metadata": {},
   "source": [
    "# PreCorrector with multi block message-passing protocol"
   ]
  },
  {
   "cell_type": "code",
   "execution_count": 11,
   "id": "95ab9495",
   "metadata": {},
   "outputs": [
    {
     "data": {
      "text/plain": [
       "3474"
      ]
     },
     "execution_count": 11,
     "metadata": {},
     "output_type": "execute_result"
    }
   ],
   "source": [
    "params_count(make_neural_prec_model(\n",
    "    key = random.PRNGKey(42),\n",
    "    config = default_precorrector_gnn_config,\n",
    "    model_type = 'precorrector_gnn_multiblock'\n",
    "))"
   ]
  },
  {
   "cell_type": "markdown",
   "id": "1c632c37",
   "metadata": {},
   "source": [
    "# PreCorrector with MLP instead of GNN"
   ]
  },
  {
   "cell_type": "code",
   "execution_count": 12,
   "id": "f162a582",
   "metadata": {},
   "outputs": [
    {
     "data": {
      "text/plain": [
       "50"
      ]
     },
     "execution_count": 12,
     "metadata": {},
     "output_type": "execute_result"
    }
   ],
   "source": [
    "params_count(make_neural_prec_model(\n",
    "    key = random.PRNGKey(42),\n",
    "    config = default_precorrector_mlp_config,\n",
    "    model_type = 'precorrector_mlp'\n",
    "))"
   ]
  },
  {
   "cell_type": "code",
   "execution_count": null,
   "id": "e8c73914",
   "metadata": {},
   "outputs": [],
   "source": []
  }
 ],
 "metadata": {
  "kernelspec": {
   "display_name": "Python 3 (ipykernel)",
   "language": "python",
   "name": "python3"
  },
  "language_info": {
   "codemirror_mode": {
    "name": "ipython",
    "version": 3
   },
   "file_extension": ".py",
   "mimetype": "text/x-python",
   "name": "python",
   "nbconvert_exporter": "python",
   "pygments_lexer": "ipython3",
   "version": "3.10.6"
  }
 },
 "nbformat": 4,
 "nbformat_minor": 5
}
