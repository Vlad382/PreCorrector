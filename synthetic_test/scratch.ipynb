{
 "cells": [
  {
   "cell_type": "code",
   "execution_count": 1,
   "id": "4411f2a5",
   "metadata": {},
   "outputs": [],
   "source": [
    "import os\n",
    "os.environ[\"CUDA_VISIBLE_DEVICES\"] = '1'\n",
    "os.environ['XLA_PYTHON_CLIENT_MEM_FRACTION'] = '.95'\n",
    "os.environ['JAX_ENABLE_X64'] = 'False'"
   ]
  },
  {
   "cell_type": "code",
   "execution_count": 2,
   "id": "d94da94b",
   "metadata": {},
   "outputs": [],
   "source": [
    "from scipy import stats\n",
    "import numpy as np\n",
    "\n",
    "from synthetic_utils import matrix1, matrix2, matrix3, matrix_gersh\n",
    "from synthetic_utils import gen_synthetic_dataset, bx_ones_sol\n",
    "from synthetic_utils import load_synthetic_dataset"
   ]
  },
  {
   "cell_type": "code",
   "execution_count": 3,
   "id": "954f9ede",
   "metadata": {},
   "outputs": [
    {
     "name": "stderr",
     "output_type": "stream",
     "text": [
      "2024-11-24 16:47:27.449659: W external/xla/xla/service/gpu/nvptx_compiler.cc:760] The NVIDIA driver's CUDA version is 12.4 which is older than the ptxas CUDA version (12.5.40). Because the driver is older than the ptxas version, XLA is disabling parallel compilation, which may slow down compilation. You should update your NVIDIA driver or use the NVIDIA-provided CUDA forward compatibility packages.\n"
     ]
    },
    {
     "data": {
      "text/plain": [
       "Array([1., 1.], dtype=float32)"
      ]
     },
     "execution_count": 3,
     "metadata": {},
     "output_type": "execute_result"
    }
   ],
   "source": [
    "import jax.numpy as jnp\n",
    "jnp.ones(2)"
   ]
  },
  {
   "cell_type": "code",
   "execution_count": 4,
   "id": "528fcf46",
   "metadata": {},
   "outputs": [],
   "source": [
    "folder_path = '/mnt/local/data/vtrifonov/prec-learning-Notay-loss/synthetic_datasets'"
   ]
  },
  {
   "cell_type": "code",
   "execution_count": 100,
   "id": "f189e42a",
   "metadata": {},
   "outputs": [
    {
     "name": "stdout",
     "output_type": "stream",
     "text": [
      "Started\n",
      "0! \n",
      "Current len: 0. Matrix is not positive definite\n",
      "0! \n",
      "Current len: 0. Matrix is not positive definite\n",
      "0! \n",
      "Current len: 0. Matrix is not positive definite\n",
      "0! \n",
      "Current len: 0. Matrix is not positive definite\n",
      "0! 1! 2! \n",
      "All systems and precs are created\n",
      "Condition numbers are calculated\n",
      "Saved\n"
     ]
    }
   ],
   "source": [
    "# Matrix Gersh dataset\n",
    "\n",
    "file_path = os.path.join(folder_path, 'matrixGersh_sol_ones_nnz0.5%.npz')\n",
    "N = 3\n",
    "size = 1e3\n",
    "density = .05\n",
    "alpha = 0.6\n",
    "lhs_func = matrix_gersh\n",
    "bx_func = bx_ones_sol\n",
    "sol_func = np.ones\n",
    "rhs_func = lambda A, x: A @ x\n",
    "lhs_distr = stats.uniform(loc=-1, scale=2) # stats.norm(loc=0, scale=1)\n",
    "\n",
    "gen_synthetic_dataset(file_path, N, size, density, alpha,\n",
    "                      bx_func, sol_func, rhs_func, lhs_func, \n",
    "                      lhs_distr=lhs_distr,\n",
    "                      prec_type='ic(0)')"
   ]
  },
  {
   "cell_type": "code",
   "execution_count": 101,
   "id": "86aa1502",
   "metadata": {},
   "outputs": [],
   "source": [
    "abc = np.load(file_path, allow_pickle=True)"
   ]
  },
  {
   "cell_type": "code",
   "execution_count": 102,
   "id": "ad28d190",
   "metadata": {},
   "outputs": [
    {
     "data": {
      "text/plain": [
       "['A', 'L', 'b', 'x', 'nnz_A', 'nnz_L', 'cond_A', 'max_len', 'min_len']"
      ]
     },
     "execution_count": 102,
     "metadata": {},
     "output_type": "execute_result"
    }
   ],
   "source": [
    "list(abc.keys())"
   ]
  },
  {
   "cell_type": "code",
   "execution_count": 103,
   "id": "e2847527",
   "metadata": {},
   "outputs": [
    {
     "data": {
      "text/plain": [
       "array([426.0, 1470.0, 4216.0], dtype=object)"
      ]
     },
     "execution_count": 103,
     "metadata": {},
     "output_type": "execute_result"
    }
   ],
   "source": [
    "abc['cond_A']"
   ]
  },
  {
   "cell_type": "code",
   "execution_count": 104,
   "id": "daca41f7",
   "metadata": {},
   "outputs": [
    {
     "data": {
      "text/plain": [
       "array([5.082, 5.082, 5.082], dtype=object)"
      ]
     },
     "execution_count": 104,
     "metadata": {},
     "output_type": "execute_result"
    }
   ],
   "source": [
    "abc['nnz_A']"
   ]
  },
  {
   "cell_type": "code",
   "execution_count": null,
   "id": "724ae841",
   "metadata": {},
   "outputs": [],
   "source": []
  },
  {
   "cell_type": "code",
   "execution_count": null,
   "id": "03ecf173",
   "metadata": {},
   "outputs": [],
   "source": []
  },
  {
   "cell_type": "code",
   "execution_count": null,
   "id": "de7af1a6",
   "metadata": {},
   "outputs": [],
   "source": []
  },
  {
   "cell_type": "code",
   "execution_count": null,
   "id": "5ed9aacb",
   "metadata": {},
   "outputs": [],
   "source": []
  },
  {
   "cell_type": "code",
   "execution_count": 2,
   "id": "0b55754f",
   "metadata": {},
   "outputs": [],
   "source": [
    "import numpy as np\n",
    "import jax.numpy as jnp\n",
    "from scipy import sparse, stats"
   ]
  },
  {
   "cell_type": "code",
   "execution_count": 3,
   "id": "ff96afc4",
   "metadata": {},
   "outputs": [],
   "source": [
    "def matrix1(size, density, seed=42, sample_distr=stats.uniform(loc=-1, scale=2)):\n",
    "    size = int(size)\n",
    "    A = sparse.random(size, size, density=density, format='csr',\n",
    "                      random_state=np.random.default_rng(seed),\n",
    "                      data_rvs=sample_distr.rvs)\n",
    "    return (sparse.eye(size) + A) @ (sparse.eye(size) + A.T)\n",
    "\n",
    "def dataset_matrix1(name, N, size, density, path):\n",
    "    A_list = []\n",
    "    for _ in range(N):\n",
    "        A_list.append(matrix1(size, density, sample_distr=stats.norm(loc=0, scale=1)))\n",
    "    nnz = A_n.nnz * 100 / (n * n)\n",
    "    cond_n = jnp.linalg.cond(jnp.asarray(A_n.todense()))\n",
    "    print(f'Size = {n:.0f}, nnz = {nnz:.1f}%, cond = {cond_n:.1f}')"
   ]
  },
  {
   "cell_type": "code",
   "execution_count": 4,
   "id": "91c3c7d7",
   "metadata": {},
   "outputs": [],
   "source": [
    "size = 1e4\n",
    "density = 0.001\n",
    "N_train = 1000\n",
    "N_test = 200"
   ]
  },
  {
   "cell_type": "code",
   "execution_count": 6,
   "id": "ec57f3a7",
   "metadata": {},
   "outputs": [
    {
     "name": "stdout",
     "output_type": "stream",
     "text": [
      "Size = 10000, nnz = 1.2%, cond = 548952704.0\n",
      "Size = 10000, nnz = 1.2%, cond = 2165645312.0\n",
      "Size = 10000, nnz = 1.2%, cond = 581705600.0\n"
     ]
    }
   ],
   "source": [
    "# A_train\n",
    "\n",
    "for _ in range(3):\n",
    "    A_n = matrix1(size, density, sample_distr=stats.norm(loc=0, scale=1))\n",
    "    nnz = A_n.nnz * 100 / (size * size)\n",
    "    cond_n = jnp.linalg.cond(jnp.asarray(A_n.todense()))\n",
    "    print(f'Size = {size:.0f}, nnz = {nnz:.1f}%, cond = {cond_n:.1f}')"
   ]
  },
  {
   "cell_type": "code",
   "execution_count": 7,
   "id": "d41454c0",
   "metadata": {},
   "outputs": [],
   "source": [
    "check = np.linalg.cholesky(A_n.todense())"
   ]
  },
  {
   "cell_type": "code",
   "execution_count": 9,
   "id": "30890df1",
   "metadata": {},
   "outputs": [
    {
     "name": "stdout",
     "output_type": "stream",
     "text": [
      "PERFORMANCE WARNING:\n",
      "Thresholded incomplete Cholesky decomposition failed due to insufficient positive-definiteness of matrix A with parameters:\n",
      "    discard_threshold = 1.000000e-02\n",
      "    shift = 0.000000e+00\n",
      "Try decreasing discard_threshold or start with a larger shift\n",
      "\n",
      "PERFORMANCE WARNING:\n",
      "Thresholded incomplete Cholesky decomposition failed due to insufficient positive-definiteness of matrix A with parameters:\n",
      "    discard_threshold = 1.000000e-02\n",
      "    shift = 1.000000e-04\n",
      "Try decreasing discard_threshold or start with a larger shift\n",
      "\n",
      "PERFORMANCE WARNING:\n",
      "Thresholded incomplete Cholesky decomposition failed due to insufficient positive-definiteness of matrix A with parameters:\n",
      "    discard_threshold = 1.000000e-02\n",
      "    shift = 1.000000e-03\n",
      "Try decreasing discard_threshold or start with a larger shift\n",
      "\n",
      "PERFORMANCE WARNING:\n",
      "Thresholded incomplete Cholesky decomposition failed due to insufficient positive-definiteness of matrix A with parameters:\n",
      "    discard_threshold = 1.000000e-02\n",
      "    shift = 1.000000e-02\n",
      "Try decreasing discard_threshold or start with a larger shift\n",
      "\n",
      "PERFORMANCE WARNING:\n",
      "Thresholded incomplete Cholesky decomposition failed due to insufficient positive-definiteness of matrix A with parameters:\n",
      "    discard_threshold = 1.000000e-02\n",
      "    shift = 1.000000e-01\n",
      "Try decreasing discard_threshold or start with a larger shift\n",
      "\n",
      "NaNs\n",
      "  ilupp False\n",
      "  pymatting False\n",
      "\n",
      "Min abs on diagonal\n",
      "  ilupp 0.5895376328670706\n",
      "  pymatting 0.776969922914124\n"
     ]
    }
   ],
   "source": [
    "import ilupp\n",
    "import pymatting\n",
    "\n",
    "L_ilupp = ilupp.ichol0(A_n)\n",
    "L_pymat = pymatting.ichol(A_n, discard_threshold=1e-2).L\n",
    "\n",
    "print('NaNs')\n",
    "print('  ilupp:', np.any(np.isnan(L_ilupp.todense())))\n",
    "print('  pymatting:', np.any(np.isnan(L_pymat.todense())))\n",
    "print()\n",
    "\n",
    "print('Min abs on diagonal')\n",
    "print('  ilupp:', np.min(np.abs(L_ilupp.diagonal())))\n",
    "print('  pymatting:', np.min(np.abs(L_pymat.diagonal())))"
   ]
  },
  {
   "cell_type": "code",
   "execution_count": null,
   "id": "3a6c97d7",
   "metadata": {},
   "outputs": [],
   "source": [
    "# for n in [1e3, 1e4, 1e5]:\n",
    "#     A_n = matrix_gesh(n, sample_distr=stats.norm(loc=0, scale=1))\n",
    "#     nnz = A_n.nnz * 100 / (n * n)\n",
    "#     cond_n = jnp.linalg.cond(jnp.asarray(A_n.todense()))\n",
    "#     print(f'Size = {n:.0f}, nnz = {nnz:.1f}%, cond = {cond_n:.1f}')"
   ]
  },
  {
   "cell_type": "code",
   "execution_count": null,
   "id": "004bbca7",
   "metadata": {},
   "outputs": [],
   "source": []
  },
  {
   "cell_type": "code",
   "execution_count": 47,
   "id": "6aa535e8",
   "metadata": {},
   "outputs": [
    {
     "data": {
      "text/plain": [
       "50820"
      ]
     },
     "execution_count": 47,
     "metadata": {},
     "output_type": "execute_result"
    }
   ],
   "source": [
    "matrix_gesh(1000).nnz"
   ]
  },
  {
   "cell_type": "code",
   "execution_count": 12,
   "id": "d71b52f8",
   "metadata": {},
   "outputs": [
    {
     "data": {
      "text/plain": [
       "(10,)"
      ]
     },
     "execution_count": 12,
     "metadata": {},
     "output_type": "execute_result"
    }
   ],
   "source": [
    "np.ones([10, 7]).sum(1).shape"
   ]
  },
  {
   "cell_type": "code",
   "execution_count": 20,
   "id": "81c35095",
   "metadata": {},
   "outputs": [],
   "source": [
    "a = np.random.default_rng()"
   ]
  },
  {
   "cell_type": "code",
   "execution_count": null,
   "id": "801239c4",
   "metadata": {},
   "outputs": [],
   "source": [
    "a.uniform()"
   ]
  }
 ],
 "metadata": {
  "kernelspec": {
   "display_name": "Python 3 (ipykernel)",
   "language": "python",
   "name": "python3"
  },
  "language_info": {
   "codemirror_mode": {
    "name": "ipython",
    "version": 3
   },
   "file_extension": ".py",
   "mimetype": "text/x-python",
   "name": "python",
   "nbconvert_exporter": "python",
   "pygments_lexer": "ipython3",
   "version": "3.10.6"
  }
 },
 "nbformat": 4,
 "nbformat_minor": 5
}
