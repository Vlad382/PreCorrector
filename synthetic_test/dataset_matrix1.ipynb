{
 "cells": [
  {
   "cell_type": "code",
   "execution_count": 1,
   "id": "eba2a205",
   "metadata": {},
   "outputs": [],
   "source": [
    "import os\n",
    "os.environ[\"CUDA_VISIBLE_DEVICES\"] = '1'\n",
    "os.environ['XLA_PYTHON_CLIENT_MEM_FRACTION'] = '.95'\n",
    "os.environ['JAX_ENABLE_X64'] = 'False'"
   ]
  },
  {
   "cell_type": "code",
   "execution_count": 2,
   "id": "990c0784",
   "metadata": {},
   "outputs": [],
   "source": [
    "import numpy as np\n",
    "import jax.numpy as jnp\n",
    "from scipy import sparse, stats"
   ]
  },
  {
   "cell_type": "code",
   "execution_count": 3,
   "id": "727c1478",
   "metadata": {},
   "outputs": [],
   "source": [
    "def matrix1(size, density, seed=42, sample_distr=stats.uniform(loc=-1, scale=2)):\n",
    "    size = int(size)\n",
    "    A = sparse.random(size, size, density=density, format='csr',\n",
    "                      random_state=np.random.default_rng(seed),\n",
    "                      data_rvs=sample_distr.rvs)\n",
    "    return (sparse.eye(size) + A) @ (sparse.eye(size) + A.T)\n",
    "\n",
    "def dataset_matrix1(name, N, size, density, path):\n",
    "    A_list = []\n",
    "    for _ in range(N):\n",
    "        A_list.append(matrix1(size, density, sample_distr=stats.norm(loc=0, scale=1)))\n",
    "    nnz = A_n.nnz * 100 / (n * n)\n",
    "    cond_n = jnp.linalg.cond(jnp.asarray(A_n.todense()))\n",
    "    print(f'Size = {n:.0f}, nnz = {nnz:.1f}%, cond = {cond_n:.1f}')"
   ]
  },
  {
   "cell_type": "code",
   "execution_count": null,
   "id": "2b508dfa",
   "metadata": {},
   "outputs": [],
   "source": [
    "size = 1e4\n",
    "density = 0.001\n",
    "N_train = 1000\n",
    "N_test = 200"
   ]
  },
  {
   "cell_type": "code",
   "execution_count": 11,
   "id": "adc6c174",
   "metadata": {},
   "outputs": [
    {
     "name": "stdout",
     "output_type": "stream",
     "text": [
      "Size = 10000, nnz = 1.2%, cond = 1324561152.0\n"
     ]
    }
   ],
   "source": [
    "A_train\n",
    "\n",
    "for _ in range(N_train):\n",
    "    A_n = matrix1(size, density, sample_distr=stats.norm(loc=0, scale=1))\n",
    "    nnz = A_n.nnz * 100 / (n * n)\n",
    "    cond_n = jnp.linalg.cond(jnp.asarray(A_n.todense()))\n",
    "    print(f'Size = {n:.0f}, nnz = {nnz:.1f}%, cond = {cond_n:.1f}')"
   ]
  },
  {
   "cell_type": "code",
   "execution_count": 7,
   "id": "c203d8cb",
   "metadata": {},
   "outputs": [],
   "source": [
    "check = np.linalg.cholesky(A_n.todense())"
   ]
  },
  {
   "cell_type": "code",
   "execution_count": 9,
   "id": "2a0d86b6",
   "metadata": {},
   "outputs": [
    {
     "name": "stdout",
     "output_type": "stream",
     "text": [
      "PERFORMANCE WARNING:\n",
      "Thresholded incomplete Cholesky decomposition failed due to insufficient positive-definiteness of matrix A with parameters:\n",
      "    discard_threshold = 1.000000e-02\n",
      "    shift = 0.000000e+00\n",
      "Try decreasing discard_threshold or start with a larger shift\n",
      "\n",
      "PERFORMANCE WARNING:\n",
      "Thresholded incomplete Cholesky decomposition failed due to insufficient positive-definiteness of matrix A with parameters:\n",
      "    discard_threshold = 1.000000e-02\n",
      "    shift = 1.000000e-04\n",
      "Try decreasing discard_threshold or start with a larger shift\n",
      "\n",
      "PERFORMANCE WARNING:\n",
      "Thresholded incomplete Cholesky decomposition failed due to insufficient positive-definiteness of matrix A with parameters:\n",
      "    discard_threshold = 1.000000e-02\n",
      "    shift = 1.000000e-03\n",
      "Try decreasing discard_threshold or start with a larger shift\n",
      "\n",
      "PERFORMANCE WARNING:\n",
      "Thresholded incomplete Cholesky decomposition failed due to insufficient positive-definiteness of matrix A with parameters:\n",
      "    discard_threshold = 1.000000e-02\n",
      "    shift = 1.000000e-02\n",
      "Try decreasing discard_threshold or start with a larger shift\n",
      "\n",
      "PERFORMANCE WARNING:\n",
      "Thresholded incomplete Cholesky decomposition failed due to insufficient positive-definiteness of matrix A with parameters:\n",
      "    discard_threshold = 1.000000e-02\n",
      "    shift = 1.000000e-01\n",
      "Try decreasing discard_threshold or start with a larger shift\n",
      "\n",
      "NaNs\n",
      "  ilupp False\n",
      "  pymatting False\n",
      "\n",
      "Min abs on diagonal\n",
      "  ilupp 0.5895376328670706\n",
      "  pymatting 0.776969922914124\n"
     ]
    }
   ],
   "source": [
    "import ilupp\n",
    "import pymatting\n",
    "\n",
    "L_ilupp = ilupp.ichol0(A_n)\n",
    "L_pymat = pymatting.ichol(A_n, discard_threshold=1e-2).L\n",
    "\n",
    "print('NaNs')\n",
    "print('  ilupp:', np.any(np.isnan(L_ilupp.todense())))\n",
    "print('  pymatting:', np.any(np.isnan(L_pymat.todense())))\n",
    "print()\n",
    "\n",
    "print('Min abs on diagonal')\n",
    "print('  ilupp:', np.min(np.abs(L_ilupp.diagonal())))\n",
    "print('  pymatting:', np.min(np.abs(L_pymat.diagonal())))"
   ]
  },
  {
   "cell_type": "code",
   "execution_count": null,
   "id": "19d457d5",
   "metadata": {},
   "outputs": [],
   "source": [
    "# for n in [1e3, 1e4, 1e5]:\n",
    "#     A_n = matrix_gesh(n, sample_distr=stats.norm(loc=0, scale=1))\n",
    "#     nnz = A_n.nnz * 100 / (n * n)\n",
    "#     cond_n = jnp.linalg.cond(jnp.asarray(A_n.todense()))\n",
    "#     print(f'Size = {n:.0f}, nnz = {nnz:.1f}%, cond = {cond_n:.1f}')"
   ]
  },
  {
   "cell_type": "code",
   "execution_count": null,
   "id": "496f1701",
   "metadata": {},
   "outputs": [],
   "source": []
  },
  {
   "cell_type": "code",
   "execution_count": 47,
   "id": "b03fd29d",
   "metadata": {},
   "outputs": [
    {
     "data": {
      "text/plain": [
       "50820"
      ]
     },
     "execution_count": 47,
     "metadata": {},
     "output_type": "execute_result"
    }
   ],
   "source": [
    "matrix_gesh(1000).nnz"
   ]
  },
  {
   "cell_type": "code",
   "execution_count": 12,
   "id": "0040ef82",
   "metadata": {},
   "outputs": [
    {
     "data": {
      "text/plain": [
       "(10,)"
      ]
     },
     "execution_count": 12,
     "metadata": {},
     "output_type": "execute_result"
    }
   ],
   "source": [
    "np.ones([10, 7]).sum(1).shape"
   ]
  },
  {
   "cell_type": "code",
   "execution_count": 20,
   "id": "cc2d23e2",
   "metadata": {},
   "outputs": [],
   "source": [
    "a = np.random.default_rng()"
   ]
  },
  {
   "cell_type": "code",
   "execution_count": null,
   "id": "33ea074d",
   "metadata": {},
   "outputs": [],
   "source": [
    "a.uniform()"
   ]
  }
 ],
 "metadata": {
  "kernelspec": {
   "display_name": "Python 3 (ipykernel)",
   "language": "python",
   "name": "python3"
  },
  "language_info": {
   "codemirror_mode": {
    "name": "ipython",
    "version": 3
   },
   "file_extension": ".py",
   "mimetype": "text/x-python",
   "name": "python",
   "nbconvert_exporter": "python",
   "pygments_lexer": "ipython3",
   "version": "3.10.6"
  }
 },
 "nbformat": 4,
 "nbformat_minor": 5
}
