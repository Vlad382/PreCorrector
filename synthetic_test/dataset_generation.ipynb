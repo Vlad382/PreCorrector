{
 "cells": [
  {
   "cell_type": "code",
   "execution_count": 1,
   "id": "6d8b7df9",
   "metadata": {},
   "outputs": [],
   "source": [
    "import os\n",
    "os.environ[\"CUDA_VISIBLE_DEVICES\"] = '1'\n",
    "os.environ['XLA_PYTHON_CLIENT_MEM_FRACTION'] = '.95'\n",
    "os.environ['JAX_ENABLE_X64'] = 'False'"
   ]
  },
  {
   "cell_type": "code",
   "execution_count": 2,
   "id": "6a66d547",
   "metadata": {},
   "outputs": [],
   "source": [
    "from scipy import stats\n",
    "import numpy as np\n",
    "\n",
    "from synthetic_utils import matrix1, matrix2, matrix3, matrix_gersh\n",
    "from synthetic_utils import gen_synthetic_dataset, bx_ones_sol\n",
    "from synthetic_utils import load_synthetic_dataset"
   ]
  },
  {
   "cell_type": "code",
   "execution_count": 3,
   "id": "bd8fbc50",
   "metadata": {},
   "outputs": [
    {
     "name": "stderr",
     "output_type": "stream",
     "text": [
      "2024-11-24 17:03:30.555480: W external/xla/xla/service/gpu/nvptx_compiler.cc:760] The NVIDIA driver's CUDA version is 12.4 which is older than the ptxas CUDA version (12.5.40). Because the driver is older than the ptxas version, XLA is disabling parallel compilation, which may slow down compilation. You should update your NVIDIA driver or use the NVIDIA-provided CUDA forward compatibility packages.\n"
     ]
    },
    {
     "data": {
      "text/plain": [
       "Array([1., 1.], dtype=float32)"
      ]
     },
     "execution_count": 3,
     "metadata": {},
     "output_type": "execute_result"
    }
   ],
   "source": [
    "import jax.numpy as jnp\n",
    "jnp.ones(2)"
   ]
  },
  {
   "cell_type": "code",
   "execution_count": 4,
   "id": "604f7a48",
   "metadata": {},
   "outputs": [],
   "source": [
    "# folder_path = '/mnt/local/data/vtrifonov/prec-learning-Notay-loss/synthetic_datasets'\n",
    "# file_path = os.path.join(folder_path, 'matrix3_sol_ones.npz')\n",
    "\n",
    "# train, test = load_synthetic_dataset(file_path, N_train=1000, N_test=200)"
   ]
  },
  {
   "cell_type": "code",
   "execution_count": 6,
   "id": "8ae5ff69",
   "metadata": {},
   "outputs": [],
   "source": [
    "folder_path = '/mnt/local/data/vtrifonov/prec-learning-Notay-loss/synthetic_datasets'"
   ]
  },
  {
   "cell_type": "code",
   "execution_count": null,
   "id": "4966528f",
   "metadata": {
    "collapsed": true,
    "jupyter": {
     "outputs_hidden": true
    }
   },
   "outputs": [
    {
     "name": "stdout",
     "output_type": "stream",
     "text": [
      "Started\n",
      "0! 1! 2! 3! 4! 5! 6! 7! 8! 9! 10! 11! 12! 13! 14! 15! 16! 17! 18! 19! 20! 21! \n",
      "Current len: 21. NaNs in L\n",
      "21! 22! 23! 24! 25! 26! 27! 28! 29! 30! 31! 32! 33! 34! 35! 36! 37! 38! 39! 40! 41! 42! 43! 44! 45! 46! 47! 48! 49! 50! 51! 52! 53! 54! 55! 56! 57! 58! 59! 60! 61! 62! 63! 64! 65! 66! 67! 68! 69! 70! 71! 72! 73! 74! 75! 76! 77! 78! 79! 80! 81! 82! 83! 84! 85! 86! 87! 88! 89! 90! 91! 92! 93! 94! 95! 96! 97! 98! 99! 100! 101! 102! 103! 104! 105! 106! 107! 108! 109! \n",
      "Current len: 109. NaNs in L\n",
      "109! 110! 111! 112! 113! 114! "
     ]
    }
   ],
   "source": [
    "# Matrix 1 dataset\n",
    "\n",
    "file_path = os.path.join(folder_path, 'matrix1_sol_ones_nnz0.5%.npz')\n",
    "N = 1200\n",
    "size = 1e4\n",
    "density = .0006\n",
    "alpha = None\n",
    "lhs_func = matrix1\n",
    "bx_func = bx_ones_sol\n",
    "sol_func = np.ones\n",
    "rhs_func = lambda A, x: A @ x\n",
    "\n",
    "gen_synthetic_dataset(file_path, N, size, density, alpha,\n",
    "                      bx_func, sol_func, rhs_func, lhs_func, \n",
    "                      lhs_distr=stats.norm(loc=0, scale=1),\n",
    "                      prec_type='ic(0)')"
   ]
  },
  {
   "cell_type": "code",
   "execution_count": null,
   "id": "701ad67f",
   "metadata": {},
   "outputs": [],
   "source": [
    "# Matrix 3 dataset\n",
    "\n",
    "file_path = os.path.join(folder_path, 'matrix3_sol_ones_nnz0.5%.npz')\n",
    "N = 1200\n",
    "size = 1e4\n",
    "density = .0007\n",
    "alpha = 1e-3\n",
    "lhs_func = matrix3\n",
    "bx_func = bx_ones_sol\n",
    "sol_func = np.ones\n",
    "rhs_func = lambda A, x: A @ x\n",
    "lhs_distr = stats.norm(loc=0, scale=1) # stats.norm(loc=0, scale=1)\n",
    "\n",
    "gen_synthetic_dataset(file_path, N, size, density, alpha,\n",
    "                      bx_func, sol_func, rhs_func, lhs_func, \n",
    "                      lhs_distr=lhs_distr,\n",
    "                      prec_type='ic(0)')"
   ]
  },
  {
   "cell_type": "code",
   "execution_count": null,
   "id": "15df14c8",
   "metadata": {},
   "outputs": [],
   "source": [
    "# Matrix Gersh dataset\n",
    "\n",
    "file_path = os.path.join(folder_path, 'matrixGersh_sol_ones_nnz5%_size1e3.npz')\n",
    "N = 1200\n",
    "size = 1e3\n",
    "density = .05\n",
    "alpha = 0.6\n",
    "lhs_func = matrix_gersh\n",
    "bx_func = bx_ones_sol\n",
    "sol_func = np.ones\n",
    "rhs_func = lambda A, x: A @ x\n",
    "lhs_distr = stats.uniform(loc=-1, scale=2) # stats.norm(loc=0, scale=1)\n",
    "\n",
    "gen_synthetic_dataset(file_path, N, size, density, alpha,\n",
    "                      bx_func, sol_func, rhs_func, lhs_func, \n",
    "                      lhs_distr=lhs_distr,\n",
    "                      prec_type='ic(0)')"
   ]
  },
  {
   "cell_type": "code",
   "execution_count": 15,
   "id": "47ab7552",
   "metadata": {},
   "outputs": [],
   "source": [
    "abc = np.load(file_path, allow_pickle=True)"
   ]
  },
  {
   "cell_type": "code",
   "execution_count": 16,
   "id": "2ec43883",
   "metadata": {},
   "outputs": [
    {
     "data": {
      "text/plain": [
       "['A', 'L', 'b', 'x', 'nnz_A', 'nnz_L', 'cond_A', 'max_len', 'min_len']"
      ]
     },
     "execution_count": 16,
     "metadata": {},
     "output_type": "execute_result"
    }
   ],
   "source": [
    "list(abc.keys())"
   ]
  },
  {
   "cell_type": "code",
   "execution_count": 17,
   "id": "c2845c8d",
   "metadata": {},
   "outputs": [
    {
     "data": {
      "text/plain": [
       "array([3451.0, 8024.0, 9742.0], dtype=object)"
      ]
     },
     "execution_count": 17,
     "metadata": {},
     "output_type": "execute_result"
    }
   ],
   "source": [
    "abc['cond_A']"
   ]
  },
  {
   "cell_type": "code",
   "execution_count": 18,
   "id": "d2193da2",
   "metadata": {},
   "outputs": [
    {
     "data": {
      "text/plain": [
       "2509816"
      ]
     },
     "execution_count": 18,
     "metadata": {},
     "output_type": "execute_result"
    }
   ],
   "source": [
    "abc['min_len'].item()"
   ]
  },
  {
   "cell_type": "code",
   "execution_count": 21,
   "id": "74250811",
   "metadata": {},
   "outputs": [
    {
     "data": {
      "text/plain": [
       "5.009632"
      ]
     },
     "execution_count": 21,
     "metadata": {},
     "output_type": "execute_result"
    }
   ],
   "source": [
    "abc['nnz_A'][2]"
   ]
  },
  {
   "cell_type": "code",
   "execution_count": null,
   "id": "08446ecb",
   "metadata": {},
   "outputs": [],
   "source": []
  },
  {
   "cell_type": "code",
   "execution_count": null,
   "id": "a76a37c9",
   "metadata": {},
   "outputs": [],
   "source": []
  },
  {
   "cell_type": "code",
   "execution_count": null,
   "id": "05325e5f",
   "metadata": {},
   "outputs": [],
   "source": []
  },
  {
   "cell_type": "code",
   "execution_count": 13,
   "id": "306cc7a8",
   "metadata": {},
   "outputs": [],
   "source": [
    "# A = abc['A']\n",
    "b = abc['b'].astype(np.float32)\n",
    "x = abc['x'].astype(np.float32)"
   ]
  },
  {
   "cell_type": "code",
   "execution_count": 11,
   "id": "5a286387",
   "metadata": {},
   "outputs": [],
   "source": [
    "A = abc['A']"
   ]
  },
  {
   "cell_type": "code",
   "execution_count": 12,
   "id": "ecd1c124",
   "metadata": {},
   "outputs": [
    {
     "data": {
      "text/plain": [
       "1200"
      ]
     },
     "execution_count": 12,
     "metadata": {},
     "output_type": "execute_result"
    }
   ],
   "source": [
    "len(A)"
   ]
  },
  {
   "cell_type": "code",
   "execution_count": null,
   "id": "61a1158b",
   "metadata": {},
   "outputs": [],
   "source": [
    "A\n",
    "#.astype(np.float32)"
   ]
  },
  {
   "cell_type": "code",
   "execution_count": 14,
   "id": "c2b7566f",
   "metadata": {},
   "outputs": [
    {
     "data": {
      "text/plain": [
       "2.5257418974810468e-08"
      ]
     },
     "execution_count": 14,
     "metadata": {},
     "output_type": "execute_result"
    }
   ],
   "source": [
    "np.linalg.norm(A[0] @ x[0] - b[0]) / np.linalg.norm(b[0])"
   ]
  },
  {
   "cell_type": "code",
   "execution_count": 27,
   "id": "854c04e6",
   "metadata": {},
   "outputs": [
    {
     "data": {
      "text/plain": [
       "0.0"
      ]
     },
     "execution_count": 27,
     "metadata": {},
     "output_type": "execute_result"
    }
   ],
   "source": [
    "A_ = A[0]\n",
    "x_ = np.ones(A_.shape[0])\n",
    "b_ = A_ @ x_\n",
    "\n",
    "np.linalg.norm(b_ - A_ @ x_) / np.linalg.norm(b_)"
   ]
  },
  {
   "cell_type": "code",
   "execution_count": 36,
   "id": "feddbb37",
   "metadata": {},
   "outputs": [
    {
     "data": {
      "text/plain": [
       "1.0"
      ]
     },
     "execution_count": 36,
     "metadata": {},
     "output_type": "execute_result"
    }
   ],
   "source": [
    "np.abs(x_.data).min()"
   ]
  },
  {
   "cell_type": "code",
   "execution_count": null,
   "id": "418d6d96",
   "metadata": {},
   "outputs": [],
   "source": []
  }
 ],
 "metadata": {
  "kernelspec": {
   "display_name": "Python 3 (ipykernel)",
   "language": "python",
   "name": "python3"
  },
  "language_info": {
   "codemirror_mode": {
    "name": "ipython",
    "version": 3
   },
   "file_extension": ".py",
   "mimetype": "text/x-python",
   "name": "python",
   "nbconvert_exporter": "python",
   "pygments_lexer": "ipython3",
   "version": "3.10.6"
  }
 },
 "nbformat": 4,
 "nbformat_minor": 5
}
