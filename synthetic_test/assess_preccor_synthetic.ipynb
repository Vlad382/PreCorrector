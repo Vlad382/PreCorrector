{
 "cells": [
  {
   "cell_type": "code",
   "execution_count": 1,
   "id": "21709f02",
   "metadata": {},
   "outputs": [],
   "source": [
    "import warnings\n",
    "import sys\n",
    "import os\n",
    "\n",
    "warnings.filterwarnings('ignore')\n",
    "os.environ[\"CUDA_VISIBLE_DEVICES\"] = '1'\n",
    "os.environ['XLA_PYTHON_CLIENT_MEM_FRACTION'] = '.95'\n",
    "sys.path.append('/mnt/local/data/vtrifonov/prec-learning-Notay-loss/')"
   ]
  },
  {
   "cell_type": "code",
   "execution_count": 2,
   "id": "4291539d",
   "metadata": {},
   "outputs": [],
   "source": [
    "import jax.numpy as jnp\n",
    "from jax import random, vmap, clear_caches, jit\n",
    "import numpy as np\n",
    "\n",
    "import optax\n",
    "from equinox.nn import Conv1d\n",
    "import matplotlib.pyplot as plt\n",
    "from functools import partial\n",
    "from time import perf_counter\n",
    "import cloudpickle\n",
    "\n",
    "from data.dataset import dataset_qtt\n",
    "from linsolve.cg import ConjGrad\n",
    "from linsolve.precond import llt_prec_trig_solve, llt_inv_prec\n",
    "# from model import MessagePassing, FullyConnectedNet, PrecNet, ConstantConv1d, MessagePassingWithDot, CorrectionNet\n",
    "\n",
    "from utils import params_count, asses_cond, iter_per_residual, batch_indices\n",
    "from data.graph_utils import direc_graph_from_linear_system_sparse\n",
    "from synthetic_utils import load_synthetic_dataset\n",
    "from train import train\n",
    "\n",
    "plt.rcParams['figure.figsize'] = (11, 7)"
   ]
  },
  {
   "cell_type": "markdown",
   "id": "a8b9d278",
   "metadata": {},
   "source": [
    "# Setup experiment"
   ]
  },
  {
   "cell_type": "code",
   "execution_count": 3,
   "id": "e69dc036",
   "metadata": {},
   "outputs": [],
   "source": [
    "trained_models = list(filter(lambda x: x != '', [a if 'matrix' in a else '' for a in os.listdir('/mnt/local/data/vtrifonov/prec-learning-Notay-loss/trained_models')]))\n",
    "# trained_models"
   ]
  },
  {
   "cell_type": "code",
   "execution_count": 4,
   "id": "8f85e58f",
   "metadata": {},
   "outputs": [
    {
     "data": {
      "text/plain": [
       "['matrix3_rhs_randn_size1e3_nnz0.5%_lr1e-4_epoch_num800.pkl',\n",
       " 'matrix3_sol_ones_nnz0.5%_lr1e-4_epoch_num1200.pkl',\n",
       " 'matrix3_sol_ones_nnz0.5%_lr1e-4_epoch_num600.pkl',\n",
       " 'matrix3_rhs_randn_size1e3_nnz0.5%_5rounds_lr1e-4_epoch_num800.pkl',\n",
       " 'matrix3_sol_ones_nnz0.5%_lr1e-4_epoch_num400.pkl',\n",
       " 'matrix3_sol_ones_nnz0.5%_lr1e-4_epoch_num1800.pkl',\n",
       " 'matrix3_sol_ones_nnz0.5%.pkl',\n",
       " 'matrix3_rhs_randn_size1e3_nnz0.5%_5rounds_lr1e-4_epoch_num200.pkl']"
      ]
     },
     "execution_count": 4,
     "metadata": {},
     "output_type": "execute_result"
    }
   ],
   "source": [
    "list(filter(lambda x: x != '', [a if 'matrix3' in a else '' for a in trained_models]))"
   ]
  },
  {
   "cell_type": "code",
   "execution_count": 5,
   "id": "6bbb2636",
   "metadata": {},
   "outputs": [],
   "source": [
    "N_train = 1000\n",
    "N_test = 200\n",
    "dataset_name = 'matrixGersh_sol_ones_nnz5%_size1e3'\n",
    "dataset_path = f'/mnt/local/data/vtrifonov/prec-learning-Notay-loss/synthetic_datasets/{dataset_name}.npz'"
   ]
  },
  {
   "cell_type": "code",
   "execution_count": 6,
   "id": "6887fc9f",
   "metadata": {},
   "outputs": [],
   "source": [
    "save_path = '/mnt/local/data/vtrifonov/prec-learning-Notay-loss/trained_models/'\n",
    "model_name = 'matrixGersh_sol_ones_nnz5%_size1e3_5rounds_lr1e-4_epoch_num200' # dataset_name + '_5rounds_lr1e-4_epoch_num800'"
   ]
  },
  {
   "cell_type": "markdown",
   "id": "cf0976b9",
   "metadata": {},
   "source": [
    "# Make dataset"
   ]
  },
  {
   "cell_type": "code",
   "execution_count": 7,
   "id": "253398ed",
   "metadata": {},
   "outputs": [
    {
     "name": "stdout",
     "output_type": "stream",
     "text": [
      "Dataset is loaded\n",
      "Padding: no\n"
     ]
    },
    {
     "name": "stderr",
     "output_type": "stream",
     "text": [
      "2024-11-27 09:50:25.466266: W external/xla/xla/service/gpu/nvptx_compiler.cc:760] The NVIDIA driver's CUDA version is 12.4 which is older than the ptxas CUDA version (12.5.40). Because the driver is older than the ptxas version, XLA is disabling parallel compilation, which may slow down compilation. You should update your NVIDIA driver or use the NVIDIA-provided CUDA forward compatibility packages.\n"
     ]
    },
    {
     "name": "stdout",
     "output_type": "stream",
     "text": [
      "13.958877205848694\n"
     ]
    }
   ],
   "source": [
    "s1 = perf_counter()\n",
    "_, test_set = load_synthetic_dataset(dataset_path, N_train=N_train, N_test=N_test)\n",
    "print(perf_counter() - s1)"
   ]
  },
  {
   "cell_type": "code",
   "execution_count": 8,
   "id": "76e3d945",
   "metadata": {},
   "outputs": [],
   "source": [
    "A_test, A_pad_test, L_test, b_test, u_exact_test = test_set\n",
    "del _, test_set"
   ]
  },
  {
   "cell_type": "code",
   "execution_count": 9,
   "id": "1d656204",
   "metadata": {},
   "outputs": [],
   "source": [
    "with open(save_path + model_name + '.pkl', 'rb') as f:\n",
    "    model = cloudpickle.load(f)"
   ]
  },
  {
   "cell_type": "markdown",
   "id": "a6678c7a",
   "metadata": {},
   "source": [
    "## Run batched CG for PreCorrector"
   ]
  },
  {
   "cell_type": "code",
   "execution_count": 10,
   "id": "5e471d13",
   "metadata": {},
   "outputs": [],
   "source": [
    "from linsolve.scipy_linsolve import batched_cg_scipy, make_Chol_prec_from_bcoo\n",
    "import jax.experimental.sparse as jsparse"
   ]
  },
  {
   "cell_type": "code",
   "execution_count": 11,
   "id": "7ca01095",
   "metadata": {},
   "outputs": [],
   "source": [
    "# model()"
   ]
  },
  {
   "cell_type": "code",
   "execution_count": 12,
   "id": "d885fcd4",
   "metadata": {},
   "outputs": [],
   "source": [
    "nodes, edges, receivers, senders, _ = direc_graph_from_linear_system_sparse(A_pad_test, b_test)\n",
    "L_preccor = []\n",
    "for i in range(len(A_pad_test)):\n",
    "    L_preccor.append(model((nodes[i, ...], edges[i, ...], receivers[i, ...], senders[i, ...]))[None, ...])\n",
    "L_preccor = jsparse.bcoo_concatenate(L_preccor, dimension=0)"
   ]
  },
  {
   "cell_type": "code",
   "execution_count": 13,
   "id": "150879f6",
   "metadata": {},
   "outputs": [],
   "source": [
    "from linsolve.scipy_linsolve import cg_scipy\n",
    "\n",
    "def batched_cg_scipy(A, b, P=None, atol=1e-12, maxiter=1000, x0='random'):\n",
    "    assert (x0 == 'random') | (x0 == None)\n",
    "    iters_ls = [[], [], [], []]\n",
    "    time_ls = [[], [], [], []]\n",
    "    P = P if P else [None]*A.shape[0]\n",
    "    \n",
    "    for i in range(A.shape[0]):\n",
    "        A_i, b_i, P_i, = A[i], b[i, ...], P[i]\n",
    "        sol, res_i, time_i = cg_scipy(A_i, b_i, P_i, atol=atol, maxiter=maxiter, x0=x0)        \n",
    "        iters = iter_per_residual(res_i)\n",
    "        \n",
    "        iters_ls[0].append(iters[1e-3])\n",
    "        \n",
    "        if np.isnan(iters_ls[0][-1]):\n",
    "            print(f'{i} - alert')\n",
    "            continue\n",
    "        \n",
    "        time_ls[0].append(time_i[iters_ls[0][-1]])\n",
    "    \n",
    "    if np.isnan(iters_ls[0]).any():\n",
    "        print(f'All nans to 1e-3? {np.isnan(iters_ls[0]).all()}')\n",
    "    \n",
    "    iters_mean = [\n",
    "        np.mean(iters_ls[0])]#, np.mean(iters_ls[1]), np.mean(iters_ls[2]), np.mean(iters_ls[3])\n",
    "    iters_std = [\n",
    "        np.std(iters_ls[0])]#, np.std(iters_ls[1]), np.std(iters_ls[2]), np.std(iters_ls[3])\n",
    "    time_mean = [\n",
    "        np.mean(time_ls[0])]#, np.mean(time_ls[1]), np.mean(time_ls[2]), np.mean(time_ls[3])\n",
    "    time_std = [\n",
    "        np.std(time_ls[0])]#, np.std(time_ls[1]), np.std(time_ls[2]), np.std(time_ls[3])\n",
    "    return sol, iters_mean, iters_std, time_mean, time_std"
   ]
  },
  {
   "cell_type": "code",
   "execution_count": 21,
   "id": "b7ab7ea7",
   "metadata": {},
   "outputs": [],
   "source": [
    "P_preccor = make_Chol_prec_from_bcoo(L_preccor)\n",
    "_, iters_mean, iters_std, time_mean, time_std = batched_cg_scipy(A_test, b_test, P=P_preccor,\n",
    "                                                                 atol=1e-3, maxiter=1500, x0=None)"
   ]
  },
  {
   "cell_type": "code",
   "execution_count": 22,
   "id": "57666e5c",
   "metadata": {},
   "outputs": [
    {
     "name": "stdout",
     "output_type": "stream",
     "text": [
      "iters\n"
     ]
    },
    {
     "data": {
      "text/plain": [
       "[5.245]"
      ]
     },
     "metadata": {},
     "output_type": "display_data"
    },
    {
     "data": {
      "text/plain": [
       "[0.514757224330072]"
      ]
     },
     "execution_count": 22,
     "metadata": {},
     "output_type": "execute_result"
    }
   ],
   "source": [
    "print('iters')\n",
    "display(iters_mean)\n",
    "iters_std"
   ]
  },
  {
   "cell_type": "code",
   "execution_count": 23,
   "id": "cb067606",
   "metadata": {},
   "outputs": [
    {
     "name": "stdout",
     "output_type": "stream",
     "text": [
      "time\n"
     ]
    },
    {
     "data": {
      "text/plain": [
       "[0.020629338584840298]"
      ]
     },
     "metadata": {},
     "output_type": "display_data"
    },
    {
     "data": {
      "text/plain": [
       "[0.002972132373694839]"
      ]
     },
     "execution_count": 23,
     "metadata": {},
     "output_type": "execute_result"
    }
   ],
   "source": [
    "print('time')\n",
    "display(time_mean)\n",
    "time_std"
   ]
  },
  {
   "cell_type": "markdown",
   "id": "878f77ff",
   "metadata": {},
   "source": [
    "## Run batched CG for baseline"
   ]
  },
  {
   "cell_type": "code",
   "execution_count": 24,
   "id": "af082ceb",
   "metadata": {},
   "outputs": [],
   "source": [
    "from linsolve.scipy_linsolve import make_Chol_prec"
   ]
  },
  {
   "cell_type": "code",
   "execution_count": 25,
   "id": "5cbc2906",
   "metadata": {},
   "outputs": [],
   "source": [
    "P_baseline = make_Chol_prec(L_test)\n",
    "_, iters_mean, iters_std, time_mean, time_std = batched_cg_scipy(A_test, b_test, P=P_baseline,\n",
    "                                                                 atol=1e-3, maxiter=1500, x0=None)"
   ]
  },
  {
   "cell_type": "code",
   "execution_count": 26,
   "id": "8b859522",
   "metadata": {},
   "outputs": [
    {
     "name": "stdout",
     "output_type": "stream",
     "text": [
      "iters\n"
     ]
    },
    {
     "data": {
      "text/plain": [
       "[5.245]"
      ]
     },
     "metadata": {},
     "output_type": "display_data"
    },
    {
     "data": {
      "text/plain": [
       "[0.514757224330072]"
      ]
     },
     "execution_count": 26,
     "metadata": {},
     "output_type": "execute_result"
    }
   ],
   "source": [
    "print('iters')\n",
    "display(iters_mean)\n",
    "iters_std"
   ]
  },
  {
   "cell_type": "code",
   "execution_count": 27,
   "id": "aee9f7f2",
   "metadata": {},
   "outputs": [
    {
     "name": "stdout",
     "output_type": "stream",
     "text": [
      "time\n"
     ]
    },
    {
     "data": {
      "text/plain": [
       "[0.016873917672783137]"
      ]
     },
     "metadata": {},
     "output_type": "display_data"
    },
    {
     "data": {
      "text/plain": [
       "[0.0013754841147539023]"
      ]
     },
     "execution_count": 27,
     "metadata": {},
     "output_type": "execute_result"
    }
   ],
   "source": [
    "print('time')\n",
    "display(time_mean)\n",
    "time_std"
   ]
  },
  {
   "cell_type": "code",
   "execution_count": null,
   "id": "ace0de3a",
   "metadata": {},
   "outputs": [],
   "source": []
  }
 ],
 "metadata": {
  "kernelspec": {
   "display_name": "Python 3 (ipykernel)",
   "language": "python",
   "name": "python3"
  },
  "language_info": {
   "codemirror_mode": {
    "name": "ipython",
    "version": 3
   },
   "file_extension": ".py",
   "mimetype": "text/x-python",
   "name": "python",
   "nbconvert_exporter": "python",
   "pygments_lexer": "ipython3",
   "version": "3.10.6"
  }
 },
 "nbformat": 4,
 "nbformat_minor": 5
}
