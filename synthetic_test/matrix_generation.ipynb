{
 "cells": [
  {
   "cell_type": "code",
   "execution_count": 1,
   "id": "ba99b06b",
   "metadata": {},
   "outputs": [],
   "source": [
    "import os\n",
    "os.environ[\"CUDA_VISIBLE_DEVICES\"] = '1'\n",
    "os.environ['XLA_PYTHON_CLIENT_MEM_FRACTION'] = '.95'\n",
    "os.environ['JAX_ENABLE_X64'] = 'False'"
   ]
  },
  {
   "cell_type": "code",
   "execution_count": 2,
   "id": "c26d1c51",
   "metadata": {},
   "outputs": [],
   "source": [
    "import numpy as np\n",
    "import jax.numpy as jnp\n",
    "from scipy import sparse, stats"
   ]
  },
  {
   "cell_type": "code",
   "execution_count": 3,
   "id": "dbaaf40d",
   "metadata": {},
   "outputs": [],
   "source": [
    "def matrix_gersh(size, fill_val=1, density=.05, seed=42,\n",
    "                 sample_distr=stats.uniform(loc=-1, scale=2)):\n",
    "    size = int(size)\n",
    "    A = sparse.random(size, size, density=density, format='csr',\n",
    "                      random_state=np.random.default_rng(seed),\n",
    "                      data_rvs=sample_distr.rvs)\n",
    "    L = sparse.tril(A, -1)\n",
    "    B = L + L.T\n",
    "    diag_ = np.asarray(np.abs(B).sum(axis=1))[:, 0]# + fill_val\n",
    "    diag_[0] += fill_val\n",
    "#     diag_ = [fill_val] * size\n",
    "    return B + sparse.diags(diag_)"
   ]
  },
  {
   "cell_type": "code",
   "execution_count": 4,
   "id": "85e4e2ef",
   "metadata": {},
   "outputs": [],
   "source": [
    "def matrix1(size, fill_val=1, density=.05, seed=42,\n",
    "                 sample_distr=stats.uniform(loc=-1, scale=2)):\n",
    "    size = int(size)\n",
    "    A = sparse.random(size, size, density=density, format='csr',\n",
    "                      random_state=np.random.default_rng(seed),\n",
    "                      data_rvs=sample_distr.rvs)\n",
    "    return (sparse.eye(size) + A) @ (sparse.eye(size) + A.T)\n",
    "\n",
    "def matrix2(size, fill_val=1, density=.05, seed=42,\n",
    "                 sample_distr=stats.uniform(loc=-1, scale=2)):\n",
    "    size = int(size)\n",
    "    A = sparse.random(size, size, density=density, format='csr',\n",
    "                      random_state=np.random.default_rng(seed),\n",
    "                      data_rvs=sample_distr.rvs)\n",
    "    return (sparse.eye(size) + A + A.T)\n",
    "\n",
    "def matrix3(size, fill_val=1, density=.05, seed=42,\n",
    "                 sample_distr=stats.uniform(loc=-1, scale=2)):\n",
    "    size = int(size)\n",
    "    A = sparse.random(size, size, density=density, format='csr',\n",
    "                      random_state=np.random.default_rng(seed),\n",
    "                      data_rvs=sample_distr.rvs)\n",
    "    return A @ A.T + fill_val * sparse.eye(size)"
   ]
  },
  {
   "cell_type": "code",
   "execution_count": 11,
   "id": "3ba0b5b4",
   "metadata": {},
   "outputs": [
    {
     "name": "stdout",
     "output_type": "stream",
     "text": [
      "Size = 10000, nnz = 1.2%, cond = 1324561152.0\n"
     ]
    }
   ],
   "source": [
    "for n in [1e4]:\n",
    "    A_n = matrix1(n, fill_val=1e-4, density=.001, sample_distr=stats.norm(loc=0, scale=1))\n",
    "    nnz = A_n.nnz * 100 / (n * n)\n",
    "    cond_n = jnp.linalg.cond(jnp.asarray(A_n.todense()))\n",
    "    print(f'Size = {n:.0f}, nnz = {nnz:.1f}%, cond = {cond_n:.1f}')"
   ]
  },
  {
   "cell_type": "code",
   "execution_count": 7,
   "id": "54cc442e",
   "metadata": {},
   "outputs": [],
   "source": [
    "check = np.linalg.cholesky(A_n.todense())"
   ]
  },
  {
   "cell_type": "code",
   "execution_count": 9,
   "id": "70979e1c",
   "metadata": {},
   "outputs": [
    {
     "name": "stdout",
     "output_type": "stream",
     "text": [
      "PERFORMANCE WARNING:\n",
      "Thresholded incomplete Cholesky decomposition failed due to insufficient positive-definiteness of matrix A with parameters:\n",
      "    discard_threshold = 1.000000e-02\n",
      "    shift = 0.000000e+00\n",
      "Try decreasing discard_threshold or start with a larger shift\n",
      "\n",
      "PERFORMANCE WARNING:\n",
      "Thresholded incomplete Cholesky decomposition failed due to insufficient positive-definiteness of matrix A with parameters:\n",
      "    discard_threshold = 1.000000e-02\n",
      "    shift = 1.000000e-04\n",
      "Try decreasing discard_threshold or start with a larger shift\n",
      "\n",
      "PERFORMANCE WARNING:\n",
      "Thresholded incomplete Cholesky decomposition failed due to insufficient positive-definiteness of matrix A with parameters:\n",
      "    discard_threshold = 1.000000e-02\n",
      "    shift = 1.000000e-03\n",
      "Try decreasing discard_threshold or start with a larger shift\n",
      "\n",
      "PERFORMANCE WARNING:\n",
      "Thresholded incomplete Cholesky decomposition failed due to insufficient positive-definiteness of matrix A with parameters:\n",
      "    discard_threshold = 1.000000e-02\n",
      "    shift = 1.000000e-02\n",
      "Try decreasing discard_threshold or start with a larger shift\n",
      "\n",
      "PERFORMANCE WARNING:\n",
      "Thresholded incomplete Cholesky decomposition failed due to insufficient positive-definiteness of matrix A with parameters:\n",
      "    discard_threshold = 1.000000e-02\n",
      "    shift = 1.000000e-01\n",
      "Try decreasing discard_threshold or start with a larger shift\n",
      "\n",
      "NaNs\n",
      "  ilupp False\n",
      "  pymatting False\n",
      "\n",
      "Min abs on diagonal\n",
      "  ilupp 0.5895376328670706\n",
      "  pymatting 0.776969922914124\n"
     ]
    }
   ],
   "source": [
    "import ilupp\n",
    "import pymatting\n",
    "\n",
    "L_ilupp = ilupp.ichol0(A_n)\n",
    "L_pymat = pymatting.ichol(A_n, discard_threshold=1e-2).L\n",
    "\n",
    "print('NaNs')\n",
    "print('  ilupp:', np.any(np.isnan(L_ilupp.todense())))\n",
    "print('  pymatting:', np.any(np.isnan(L_pymat.todense())))\n",
    "print()\n",
    "\n",
    "print('Min abs on diagonal')\n",
    "print('  ilupp:', np.min(np.abs(L_ilupp.diagonal())))\n",
    "print('  pymatting:', np.min(np.abs(L_pymat.diagonal())))"
   ]
  },
  {
   "cell_type": "code",
   "execution_count": null,
   "id": "0f83f85f",
   "metadata": {},
   "outputs": [],
   "source": [
    "# for n in [1e3, 1e4, 1e5]:\n",
    "#     A_n = matrix_gesh(n, sample_distr=stats.norm(loc=0, scale=1))\n",
    "#     nnz = A_n.nnz * 100 / (n * n)\n",
    "#     cond_n = jnp.linalg.cond(jnp.asarray(A_n.todense()))\n",
    "#     print(f'Size = {n:.0f}, nnz = {nnz:.1f}%, cond = {cond_n:.1f}')"
   ]
  },
  {
   "cell_type": "code",
   "execution_count": null,
   "id": "99c0349c",
   "metadata": {},
   "outputs": [],
   "source": []
  },
  {
   "cell_type": "code",
   "execution_count": 47,
   "id": "c86b7344",
   "metadata": {},
   "outputs": [
    {
     "data": {
      "text/plain": [
       "50820"
      ]
     },
     "execution_count": 47,
     "metadata": {},
     "output_type": "execute_result"
    }
   ],
   "source": [
    "matrix_gesh(1000).nnz"
   ]
  },
  {
   "cell_type": "code",
   "execution_count": 12,
   "id": "c644dae0",
   "metadata": {},
   "outputs": [
    {
     "data": {
      "text/plain": [
       "(10,)"
      ]
     },
     "execution_count": 12,
     "metadata": {},
     "output_type": "execute_result"
    }
   ],
   "source": [
    "np.ones([10, 7]).sum(1).shape"
   ]
  },
  {
   "cell_type": "code",
   "execution_count": 20,
   "id": "a210e590",
   "metadata": {},
   "outputs": [],
   "source": [
    "a = np.random.default_rng()"
   ]
  },
  {
   "cell_type": "code",
   "execution_count": null,
   "id": "c4938e82",
   "metadata": {},
   "outputs": [],
   "source": [
    "a.uniform()"
   ]
  }
 ],
 "metadata": {
  "kernelspec": {
   "display_name": "Python 3 (ipykernel)",
   "language": "python",
   "name": "python3"
  },
  "language_info": {
   "codemirror_mode": {
    "name": "ipython",
    "version": 3
   },
   "file_extension": ".py",
   "mimetype": "text/x-python",
   "name": "python",
   "nbconvert_exporter": "python",
   "pygments_lexer": "ipython3",
   "version": "3.10.6"
  }
 },
 "nbformat": 4,
 "nbformat_minor": 5
}
