{
 "cells": [
  {
   "cell_type": "code",
   "execution_count": 1,
   "id": "32bf6289",
   "metadata": {},
   "outputs": [],
   "source": [
    "import os\n",
    "os.environ[\"CUDA_VISIBLE_DEVICES\"] = ''\n",
    "os.environ['XLA_PYTHON_CLIENT_MEM_FRACTION'] = '.95'\n",
    "os.environ['JAX_ENABLE_X64'] = 'False'"
   ]
  },
  {
   "cell_type": "code",
   "execution_count": 2,
   "id": "93d2762f",
   "metadata": {},
   "outputs": [],
   "source": [
    "import numpy as np\n",
    "import jax.numpy as jnp\n",
    "from scipy import sparse, stats"
   ]
  },
  {
   "cell_type": "code",
   "execution_count": 3,
   "id": "d3ed28cd",
   "metadata": {},
   "outputs": [
    {
     "data": {
      "text/plain": [
       "numpy.ndarray"
      ]
     },
     "execution_count": 3,
     "metadata": {},
     "output_type": "execute_result"
    }
   ],
   "source": [
    "import jax.numpy as jnp\n",
    "type(np.array([np.ones(2), np.ones(11), np.ones(4)], dtype=object)[1])"
   ]
  },
  {
   "cell_type": "code",
   "execution_count": 4,
   "id": "f96e6d0d",
   "metadata": {},
   "outputs": [],
   "source": [
    "def matrix_gersh(size, fill_val=1, density=.05, seed=42,\n",
    "                 sample_distr=stats.uniform(loc=-1, scale=2)):\n",
    "    size = int(size)\n",
    "    A = sparse.random(size, size, density=density, format='csr',\n",
    "                      random_state=np.random.default_rng(seed),\n",
    "                      data_rvs=sample_distr.rvs)\n",
    "    L = sparse.tril(A, -1)\n",
    "    B = L + L.T\n",
    "    diag_ = np.asarray(np.abs(B).sum(axis=1))[:, 0]# + fill_val\n",
    "    diag_[0] += fill_val\n",
    "#     diag_ = [fill_val] * size\n",
    "    return B + sparse.diags(diag_)"
   ]
  },
  {
   "cell_type": "code",
   "execution_count": 5,
   "id": "09db5d0e",
   "metadata": {},
   "outputs": [],
   "source": [
    "def matrix1(size, fill_val=1, density=.05, seed=42,\n",
    "                 sample_distr=stats.uniform(loc=-1, scale=2)):\n",
    "    size = int(size)\n",
    "    A = sparse.random(size, size, density=density, format='csr',\n",
    "                      random_state=np.random.default_rng(seed),\n",
    "                      data_rvs=sample_distr.rvs)\n",
    "    return (sparse.eye(size) + A) @ (sparse.eye(size) + A.T)\n",
    "\n",
    "def matrix2(size, fill_val=1, density=.05, seed=42,\n",
    "                 sample_distr=stats.uniform(loc=-1, scale=2)):\n",
    "    size = int(size)\n",
    "    A = sparse.random(size, size, density=density, format='csr',\n",
    "                      random_state=np.random.default_rng(seed),\n",
    "                      data_rvs=sample_distr.rvs)\n",
    "    return (sparse.eye(size) + A + A.T)\n",
    "\n",
    "def matrix3(size, fill_val=1, density=.05, seed=42,\n",
    "                 sample_distr=stats.uniform(loc=-1, scale=2)):\n",
    "    size = int(size)\n",
    "    A = sparse.random(size, size, density=density, format='csr',\n",
    "                      random_state=np.random.default_rng(seed),\n",
    "                      data_rvs=sample_distr.rvs)\n",
    "    return A @ A.T + fill_val * sparse.eye(size)"
   ]
  },
  {
   "cell_type": "code",
   "execution_count": 6,
   "id": "75332532",
   "metadata": {},
   "outputs": [
    {
     "name": "stdout",
     "output_type": "stream",
     "text": [
      "Size = 2000, nnz = 0.52%, cond = 8229823378.0\n"
     ]
    }
   ],
   "source": [
    "for n in [2e3]:\n",
    "    A_n = matrix1(n, fill_val=1e-3, density=.0011, sample_distr=stats.norm(loc=0, scale=1))\n",
    "    nnz = A_n.nnz * 100 / (n * n)\n",
    "    cond_n = np.linalg.cond(np.asarray(A_n.todense()))\n",
    "    print(f'Size = {n:.0f}, nnz = {nnz:.2f}%, cond = {cond_n:.1f}')"
   ]
  },
  {
   "cell_type": "code",
   "execution_count": 87,
   "id": "333b8f0e",
   "metadata": {},
   "outputs": [],
   "source": [
    "import ilupp"
   ]
  },
  {
   "cell_type": "code",
   "execution_count": 88,
   "id": "1ccde680",
   "metadata": {},
   "outputs": [],
   "source": [
    "_ = np.linalg.cholesky(A_n.todense())"
   ]
  },
  {
   "cell_type": "code",
   "execution_count": 89,
   "id": "f0d5eb82",
   "metadata": {},
   "outputs": [],
   "source": [
    "L_ic0 = ilupp.ichol0(A_n)\n",
    "L_ilu0, U_ilu0 = ilupp.ilu0(A_n)"
   ]
  },
  {
   "cell_type": "code",
   "execution_count": 90,
   "id": "ec09f5b4",
   "metadata": {},
   "outputs": [
    {
     "data": {
      "text/plain": [
       "False"
      ]
     },
     "execution_count": 90,
     "metadata": {},
     "output_type": "execute_result"
    }
   ],
   "source": [
    "np.allclose(L_ic0.todense(), L_ilu0.todense())"
   ]
  },
  {
   "cell_type": "code",
   "execution_count": 91,
   "id": "9891892b",
   "metadata": {},
   "outputs": [
    {
     "data": {
      "text/plain": [
       "False"
      ]
     },
     "execution_count": 91,
     "metadata": {},
     "output_type": "execute_result"
    }
   ],
   "source": [
    "np.allclose(L_ic0.diagonal(), L_ilu0.diagonal())"
   ]
  },
  {
   "cell_type": "code",
   "execution_count": 92,
   "id": "b54ffc56",
   "metadata": {},
   "outputs": [
    {
     "data": {
      "text/plain": [
       "False"
      ]
     },
     "execution_count": 92,
     "metadata": {},
     "output_type": "execute_result"
    }
   ],
   "source": [
    "L_ic0.setdiag(np.ones(L_ic0.shape[0]))\n",
    "L_ilu0.setdiag(np.ones(L_ic0.shape[0]))\n",
    "\n",
    "np.allclose(L_ic0.todense(), L_ilu0.todense())"
   ]
  },
  {
   "cell_type": "code",
   "execution_count": null,
   "id": "ca5509cf",
   "metadata": {},
   "outputs": [],
   "source": []
  },
  {
   "cell_type": "code",
   "execution_count": 7,
   "id": "36ff145c",
   "metadata": {},
   "outputs": [],
   "source": [
    "check = np.linalg.cholesky(A_n.todense())"
   ]
  },
  {
   "cell_type": "code",
   "execution_count": 51,
   "id": "51f25cc0",
   "metadata": {},
   "outputs": [],
   "source": [
    "b_n = np.random.randn(int(n))\n",
    "x_n = sparse.linalg.spsolve(A_n, b_n)"
   ]
  },
  {
   "cell_type": "code",
   "execution_count": 52,
   "id": "e7776130",
   "metadata": {},
   "outputs": [
    {
     "data": {
      "text/plain": [
       "7.831102048300585e-11"
      ]
     },
     "execution_count": 52,
     "metadata": {},
     "output_type": "execute_result"
    }
   ],
   "source": [
    "np.linalg.norm(b_n - x_n @ A_n) / np.linalg.norm(b_n)"
   ]
  },
  {
   "cell_type": "code",
   "execution_count": 7,
   "id": "a4cea68f",
   "metadata": {},
   "outputs": [],
   "source": [
    "check = np.linalg.cholesky(A_n.todense())"
   ]
  },
  {
   "cell_type": "code",
   "execution_count": 9,
   "id": "ee2d1b6c",
   "metadata": {},
   "outputs": [
    {
     "name": "stdout",
     "output_type": "stream",
     "text": [
      "PERFORMANCE WARNING:\n",
      "Thresholded incomplete Cholesky decomposition failed due to insufficient positive-definiteness of matrix A with parameters:\n",
      "    discard_threshold = 1.000000e-02\n",
      "    shift = 0.000000e+00\n",
      "Try decreasing discard_threshold or start with a larger shift\n",
      "\n",
      "PERFORMANCE WARNING:\n",
      "Thresholded incomplete Cholesky decomposition failed due to insufficient positive-definiteness of matrix A with parameters:\n",
      "    discard_threshold = 1.000000e-02\n",
      "    shift = 1.000000e-04\n",
      "Try decreasing discard_threshold or start with a larger shift\n",
      "\n",
      "PERFORMANCE WARNING:\n",
      "Thresholded incomplete Cholesky decomposition failed due to insufficient positive-definiteness of matrix A with parameters:\n",
      "    discard_threshold = 1.000000e-02\n",
      "    shift = 1.000000e-03\n",
      "Try decreasing discard_threshold or start with a larger shift\n",
      "\n",
      "PERFORMANCE WARNING:\n",
      "Thresholded incomplete Cholesky decomposition failed due to insufficient positive-definiteness of matrix A with parameters:\n",
      "    discard_threshold = 1.000000e-02\n",
      "    shift = 1.000000e-02\n",
      "Try decreasing discard_threshold or start with a larger shift\n",
      "\n",
      "PERFORMANCE WARNING:\n",
      "Thresholded incomplete Cholesky decomposition failed due to insufficient positive-definiteness of matrix A with parameters:\n",
      "    discard_threshold = 1.000000e-02\n",
      "    shift = 1.000000e-01\n",
      "Try decreasing discard_threshold or start with a larger shift\n",
      "\n",
      "NaNs\n",
      "  ilupp False\n",
      "  pymatting False\n",
      "\n",
      "Min abs on diagonal\n",
      "  ilupp 0.5895376328670706\n",
      "  pymatting 0.776969922914124\n"
     ]
    }
   ],
   "source": [
    "import ilupp\n",
    "import pymatting\n",
    "\n",
    "L_ilupp = ilupp.ichol0(A_n)\n",
    "L_pymat = pymatting.ichol(A_n, discard_threshold=1e-2).L\n",
    "\n",
    "print('NaNs')\n",
    "print('  ilupp:', np.any(np.isnan(L_ilupp.todense())))\n",
    "print('  pymatting:', np.any(np.isnan(L_pymat.todense())))\n",
    "print()\n",
    "\n",
    "print('Min abs on diagonal')\n",
    "print('  ilupp:', np.min(np.abs(L_ilupp.diagonal())))\n",
    "print('  pymatting:', np.min(np.abs(L_pymat.diagonal())))"
   ]
  },
  {
   "cell_type": "code",
   "execution_count": null,
   "id": "85af5191",
   "metadata": {},
   "outputs": [],
   "source": [
    "# for n in [1e3, 1e4, 1e5]:\n",
    "#     A_n = matrix_gesh(n, sample_distr=stats.norm(loc=0, scale=1))\n",
    "#     nnz = A_n.nnz * 100 / (n * n)\n",
    "#     cond_n = jnp.linalg.cond(jnp.asarray(A_n.todense()))\n",
    "#     print(f'Size = {n:.0f}, nnz = {nnz:.1f}%, cond = {cond_n:.1f}')"
   ]
  },
  {
   "cell_type": "code",
   "execution_count": null,
   "id": "d6af16b6",
   "metadata": {},
   "outputs": [],
   "source": []
  },
  {
   "cell_type": "code",
   "execution_count": 47,
   "id": "f3ddbe8b",
   "metadata": {},
   "outputs": [
    {
     "data": {
      "text/plain": [
       "50820"
      ]
     },
     "execution_count": 47,
     "metadata": {},
     "output_type": "execute_result"
    }
   ],
   "source": [
    "matrix_gesh(1000).nnz"
   ]
  },
  {
   "cell_type": "code",
   "execution_count": 12,
   "id": "51394436",
   "metadata": {},
   "outputs": [
    {
     "data": {
      "text/plain": [
       "(10,)"
      ]
     },
     "execution_count": 12,
     "metadata": {},
     "output_type": "execute_result"
    }
   ],
   "source": [
    "np.ones([10, 7]).sum(1).shape"
   ]
  },
  {
   "cell_type": "code",
   "execution_count": 20,
   "id": "11f30e4e",
   "metadata": {},
   "outputs": [],
   "source": [
    "a = np.random.default_rng()"
   ]
  },
  {
   "cell_type": "code",
   "execution_count": null,
   "id": "f8a873b4",
   "metadata": {},
   "outputs": [],
   "source": [
    "a.uniform()"
   ]
  }
 ],
 "metadata": {
  "kernelspec": {
   "display_name": "Python 3 (ipykernel)",
   "language": "python",
   "name": "python3"
  },
  "language_info": {
   "codemirror_mode": {
    "name": "ipython",
    "version": 3
   },
   "file_extension": ".py",
   "mimetype": "text/x-python",
   "name": "python",
   "nbconvert_exporter": "python",
   "pygments_lexer": "ipython3",
   "version": "3.10.6"
  }
 },
 "nbformat": 4,
 "nbformat_minor": 5
}
