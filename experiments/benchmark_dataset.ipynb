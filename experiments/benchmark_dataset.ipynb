{
 "cells": [
  {
   "cell_type": "code",
   "execution_count": null,
   "id": "7f697519",
   "metadata": {},
   "outputs": [],
   "source": [
    "import warnings\n",
    "import sys\n",
    "import os\n",
    "\n",
    "warnings.filterwarnings('ignore')\n",
    "os.environ[\"CUDA_VISIBLE_DEVICES\"] = '2'\n",
    "os.environ['XLA_PYTHON_CLIENT_MEM_FRACTION'] = '.95'\n",
    "sys.path.append('/mnt/local/data/vtrifonov/prec-learning-Notay-loss/')"
   ]
  },
  {
   "cell_type": "code",
   "execution_count": null,
   "id": "bf2278cd",
   "metadata": {},
   "outputs": [],
   "source": [
    "import jax.experimental.sparse as jsparse\n",
    "import jax.numpy as jnp\n",
    "from jax import device_put, random\n",
    "from jax.lax import scan\n",
    "import numpy as np\n",
    "\n",
    "import matplotlib.pyplot as plt\n",
    "from functools import partial\n",
    "from time import perf_counter\n",
    "import ilupp\n",
    "\n",
    "from data.dataset import dataset_qtt\n",
    "from linsolve.cg import ConjGrad\n",
    "from linsolve.precond import llt_prec_trig_solve\n",
    "from utils import iter_per_residual, jBCOO_to_scipyCSR\n",
    "\n",
    "plt.rcParams['figure.figsize'] = (11, 7)\n",
    "plt.rcParams['font.size'] = 20\n",
    "plt.rcParams[\"lines.linewidth\"] = 3"
   ]
  },
  {
   "cell_type": "markdown",
   "id": "505b1dbc",
   "metadata": {},
   "source": [
    "# Benachmark dataset"
   ]
  },
  {
   "cell_type": "code",
   "execution_count": 3,
   "id": "61211e79",
   "metadata": {},
   "outputs": [],
   "source": [
    "def benchmark_linsys(A, b, N=50):\n",
    "    L0, Lt1, Lt5, Lt10 = [], [], [], []\n",
    "    for i in range(N):\n",
    "        A_i = jBCOO_to_scipyCSR(A[i, ...])\n",
    "        \n",
    "        L0_i = jsparse.BCOO.from_scipy_sparse(ilupp.ichol0(A_i))\n",
    "        L0.append(L0_i[None, ...])\n",
    "        L0nnz = (L0_i.nse*100) / (L0_i.shape[-1] ** 2)\n",
    "        \n",
    "        Lt1_i = jsparse.BCOO.from_scipy_sparse(ilupp.icholt(A_i, add_fill_in=1, threshold=1e-4))\n",
    "        Lt1.append(Lt1_i[None, ...])\n",
    "        Lt1nnz = (Lt1_i.nse*100) / (Lt1_i.shape[-1] ** 2)\n",
    "        \n",
    "        Lt5_i = jsparse.BCOO.from_scipy_sparse(ilupp.icholt(A_i, add_fill_in=5, threshold=1e-4))\n",
    "        Lt5.append(Lt5_i[None, ...])\n",
    "        Lt5nnz = (Lt5_i.nse*100) / (Lt5_i.shape[-1] ** 2)\n",
    "        \n",
    "        Lt10_i = jsparse.BCOO.from_scipy_sparse(ilupp.icholt(A_i, add_fill_in=10, threshold=1e-4))\n",
    "        Lt10.append(Lt10_i[None, ...])\n",
    "        Lt10nnz = (Lt10_i.nse*100) / (Lt10_i.shape[-1] ** 2)\n",
    "        \n",
    "    L0 = device_put(jsparse.bcoo_concatenate(L0, dimension=0))\n",
    "    Lt1 = device_put(jsparse.bcoo_concatenate(Lt1, dimension=0))\n",
    "    Lt5 = device_put(jsparse.bcoo_concatenate(Lt5, dimension=0))\n",
    "    Lt10 = device_put(jsparse.bcoo_concatenate(Lt10, dimension=0))\n",
    "    \n",
    "    print('  Precs are combined')\n",
    "    A_loc = A[:N, ...]\n",
    "    b_loc = b[:N, ...]\n",
    "\n",
    "    # I\n",
    "    _, res = ConjGrad(A_loc, b_loc, N_iter=2000, prec_func=None, seed=42)\n",
    "    i_tol = iter_per_residual(jnp.linalg.norm(res, axis=1).mean(0))\n",
    "    print('  I is done')\n",
    "\n",
    "    # L0\n",
    "    _, res = ConjGrad(A_loc, b_loc, N_iter=500, prec_func=partial(llt_prec_trig_solve, L=L0), seed=42)\n",
    "    l0_tol = iter_per_residual(jnp.linalg.norm(res, axis=1).mean(0))\n",
    "    print('  L0 is done')\n",
    "    \n",
    "    # Lt1\n",
    "    _, res = ConjGrad(A_loc, b_loc, N_iter=500, prec_func=partial(llt_prec_trig_solve, L=Lt1), seed=42)\n",
    "    lt1_tol = iter_per_residual(jnp.linalg.norm(res, axis=1).mean(0))\n",
    "    print('  Lt1 is done')\n",
    "    \n",
    "    # Lt5\n",
    "    _, res = ConjGrad(A_loc, b_loc, N_iter=500, prec_func=partial(llt_prec_trig_solve, L=Lt5), seed=42)\n",
    "    lt5_tol = iter_per_residual(jnp.linalg.norm(res, axis=1).mean(0))\n",
    "    print('  Lt5 is done')\n",
    "    \n",
    "    # Lt10\n",
    "    _, res = ConjGrad(A_loc, b_loc, N_iter=500, prec_func=partial(llt_prec_trig_solve, L=Lt10), seed=42)\n",
    "    lt10_tol = iter_per_residual(jnp.linalg.norm(res, axis=1).mean(0))\n",
    "    print('  Lt10 is done')\n",
    "    \n",
    "    return i_tol, (L0nnz, l0_tol), (Lt1nnz, lt1_tol), (Lt5nnz, lt5_tol), (Lt10nnz, lt10_tol)"
   ]
  },
  {
   "cell_type": "code",
   "execution_count": 4,
   "id": "4805c1f9",
   "metadata": {},
   "outputs": [],
   "source": [
    "def benchmark_all(params_grid, N=50):\n",
    "    for p in params_grid:\n",
    "        print(p)\n",
    "        A, _, b, _, _ = dataset_qtt(pde=p[0], grid=p[1], variance=p[2], lhs_type='fd', return_train=False)\n",
    "        out = benchmark_linsys(A, b, N=N)\n",
    "        print(f'\\nCG:  {out[0]}')\n",
    "        print(f'L0:  {out[1][1]}, nnz(L) = {out[1][0]:.6f}')\n",
    "        print(f'Lt1: {out[2][1]}, nnz(L) = {out[2][0]:.6f}')\n",
    "        print(f'Lt5: {out[3][1]}, nnz(L) = {out[3][0]:.6f}')\n",
    "        print(f'Lt10: {out[4][1]}, nnz(L) = {out[4][0]:.6f}', end='\\n------------------------------------------------------------\\n\\n')\n",
    "    return"
   ]
  },
  {
   "cell_type": "code",
   "execution_count": 5,
   "id": "ebe11532",
   "metadata": {},
   "outputs": [
    {
     "name": "stderr",
     "output_type": "stream",
     "text": [
      "2024-05-11 07:30:08.334728: W external/xla/xla/service/gpu/nvptx_compiler.cc:760] The NVIDIA driver's CUDA version is 12.2 which is older than the ptxas CUDA version (12.3.107). Because the driver is older than the ptxas version, XLA is disabling parallel compilation, which may slow down compilation. You should update your NVIDIA driver or use the NVIDIA-provided CUDA forward compatibility packages.\n"
     ]
    },
    {
     "data": {
      "text/plain": [
       "Array([1], dtype=int32)"
      ]
     },
     "execution_count": 5,
     "metadata": {},
     "output_type": "execute_result"
    }
   ],
   "source": [
    "jnp.array([1])"
   ]
  },
  {
   "cell_type": "code",
   "execution_count": null,
   "id": "07315049",
   "metadata": {},
   "outputs": [
    {
     "name": "stdout",
     "output_type": "stream",
     "text": [
      "['poisson', 128, 0.1]\n",
      "  Precs are combined\n"
     ]
    },
    {
     "name": "stderr",
     "output_type": "stream",
     "text": [
      "2024-05-11 07:30:16.390874: W external/xla/xla/service/hlo_rematerialization.cc:2948] Can't reduce memory use below 16.95GiB (18202411941 bytes) by rematerialization; only reduced to 24.46GiB (26260173148 bytes), down from 24.46GiB (26260173148 bytes) originally\n"
     ]
    }
   ],
   "source": [
    "params_grid = [\n",
    "#     ['poisson',    32,  .1],\n",
    "#     ['poisson',    64,  .1],\n",
    "    ['poisson',    128, .1],\n",
    "    ['div_k_grad', 32,  .1],\n",
    "    ['div_k_grad', 64,  .1],\n",
    "    ['div_k_grad', 128, .1],\n",
    "    ['div_k_grad', 32,  .5],\n",
    "    ['div_k_grad', 64,  .5],\n",
    "    ['div_k_grad', 128, .5],\n",
    "    ['div_k_grad', 32,  1.],\n",
    "    ['div_k_grad', 64,  1.],\n",
    "    ['div_k_grad', 128, 1.],\n",
    "    ['div_k_grad', 32,  1.5],\n",
    "    ['div_k_grad', 64,  1.5],\n",
    "    ['div_k_grad', 128, 1.5],\n",
    "]\n",
    "benchmark_all(params_grid, N=50)"
   ]
  },
  {
   "cell_type": "code",
   "execution_count": null,
   "id": "c8c0c868",
   "metadata": {},
   "outputs": [],
   "source": [
    "2+3"
   ]
  },
  {
   "cell_type": "code",
   "execution_count": null,
   "id": "5632efcb",
   "metadata": {},
   "outputs": [],
   "source": []
  },
  {
   "cell_type": "code",
   "execution_count": null,
   "id": "49b721f0",
   "metadata": {},
   "outputs": [],
   "source": []
  },
  {
   "cell_type": "code",
   "execution_count": null,
   "id": "8182130b",
   "metadata": {},
   "outputs": [],
   "source": []
  },
  {
   "cell_type": "code",
   "execution_count": null,
   "id": "e6b00be0",
   "metadata": {},
   "outputs": [],
   "source": []
  },
  {
   "cell_type": "code",
   "execution_count": null,
   "id": "c76f60f7",
   "metadata": {},
   "outputs": [],
   "source": []
  },
  {
   "cell_type": "code",
   "execution_count": null,
   "id": "c54ff826",
   "metadata": {},
   "outputs": [],
   "source": []
  },
  {
   "cell_type": "code",
   "execution_count": null,
   "id": "b991dc09",
   "metadata": {},
   "outputs": [],
   "source": []
  },
  {
   "cell_type": "code",
   "execution_count": null,
   "id": "0993bf40",
   "metadata": {},
   "outputs": [],
   "source": []
  },
  {
   "cell_type": "code",
   "execution_count": null,
   "id": "c3eea367",
   "metadata": {},
   "outputs": [],
   "source": []
  },
  {
   "cell_type": "markdown",
   "id": "6330148e",
   "metadata": {},
   "source": [
    "---\n",
    "\n",
    "---\n",
    "\n",
    "# Check number of iterations"
   ]
  },
  {
   "cell_type": "code",
   "execution_count": null,
   "id": "d95f1723",
   "metadata": {},
   "outputs": [],
   "source": [
    "pde = 'div_k_grad'      # 'poisson', 'div_k_grad'\n",
    "grid = 64            # 32, 64, 128\n",
    "variance = 1.5        # 0.1, 0.5, 1.0 1.5"
   ]
  },
  {
   "cell_type": "code",
   "execution_count": null,
   "id": "ea092e95",
   "metadata": {},
   "outputs": [],
   "source": [
    "s1 = perf_counter()\n",
    "A, _, b, _, _ = dataset_qtt(pde, grid, variance, lhs_type='fd', return_train=False)\n",
    "dt_data = perf_counter() - s1"
   ]
  },
  {
   "cell_type": "code",
   "execution_count": null,
   "id": "af4dd31c",
   "metadata": {},
   "outputs": [],
   "source": [
    "i = 101\n",
    "fill_factor = 10\n",
    "threshold = 1e-4"
   ]
  },
  {
   "cell_type": "code",
   "execution_count": null,
   "id": "a42a1083",
   "metadata": {},
   "outputs": [],
   "source": [
    "L0 = ilupp.ichol0(jBCOO_to_scipyCSR(A[i, ...]))\n",
    "print(f'IC0 NNZ(L) = {(L0.nnz*100) / (L0.shape[-1] ** 2):.3f}%')"
   ]
  },
  {
   "cell_type": "code",
   "execution_count": null,
   "id": "538c1e67",
   "metadata": {},
   "outputs": [],
   "source": [
    "_, res_I = ConjGrad(A[i:i+1, ...], b[i:i+1, ...], N_iter=1000, prec_func=None, seed=42)\n",
    "print('CG is done')\n",
    "\n",
    "# L = ilupp.icholt(jBCOO_to_scipyCSR(A[i, ...]), add_fill_in=fill_factor, threshold=threshold)\n",
    "L = L0\n",
    "prec = partial(llt_prec_trig_solve, L=jsparse.BCOO.from_scipy_sparse(L)[None, ...])\n",
    "print('Prec is generated', end='\\n\\n')\n",
    "\n",
    "s_prec = perf_counter()\n",
    "_, res = ConjGrad(A[i:i+1, ...], b[i:i+1, ...], N_iter=1000, prec_func=prec, seed=42)\n",
    "dt_cg = perf_counter() - s_prec\n",
    "\n",
    "plt.plot(range(res_I.shape[-1]), jnp.linalg.norm(res_I, axis=1).mean(0), label=\"CG\")\n",
    "plt.plot(range(res.shape[-1]), jnp.linalg.norm(res, axis=1).mean(0), label=\"PCG\")\n",
    "plt.xlabel('Iteration')\n",
    "plt.ylabel('$\\|res\\|$')\n",
    "plt.legend()\n",
    "plt.yscale('log')\n",
    "plt.grid();\n",
    "\n",
    "cg_tol = iter_per_residual(jnp.linalg.norm(res_I, axis=1).mean(0))\n",
    "pcg_tol = iter_per_residual(jnp.linalg.norm(res, axis=1).mean(0))\n",
    "\n",
    "print(f'CG: {cg_tol}')\n",
    "print(f'PCG: {pcg_tol}')\n",
    "print(f'NNZ(L) = {(L.nnz*100) / (L.shape[-1] ** 2):.3f}%')"
   ]
  },
  {
   "cell_type": "code",
   "execution_count": null,
   "id": "ad139d62",
   "metadata": {},
   "outputs": [],
   "source": []
  }
 ],
 "metadata": {
  "kernelspec": {
   "display_name": "Python 3 (ipykernel)",
   "language": "python",
   "name": "python3"
  },
  "language_info": {
   "codemirror_mode": {
    "name": "ipython",
    "version": 3
   },
   "file_extension": ".py",
   "mimetype": "text/x-python",
   "name": "python",
   "nbconvert_exporter": "python",
   "pygments_lexer": "ipython3",
   "version": "3.10.6"
  }
 },
 "nbformat": 4,
 "nbformat_minor": 5
}
