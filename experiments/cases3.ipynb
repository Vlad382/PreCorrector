{
 "cells": [
  {
   "cell_type": "code",
   "execution_count": null,
   "id": "8d5679f3",
   "metadata": {},
   "outputs": [],
   "source": [
    "import warnings\n",
    "import sys\n",
    "import os\n",
    "\n",
    "warnings.filterwarnings('ignore')\n",
    "os.environ[\"CUDA_VISIBLE_DEVICES\"] = '3'\n",
    "os.environ['XLA_PYTHON_CLIENT_MEM_FRACTION'] = '.95'\n",
    "sys.path.append('/mnt/local/data/vtrifonov/prec-learning-Notay-loss/')"
   ]
  },
  {
   "cell_type": "code",
   "execution_count": 2,
   "id": "e93ffd5a",
   "metadata": {},
   "outputs": [],
   "source": [
    "import jax.numpy as jnp\n",
    "from train_utils import training_search\n",
    "from sklearn.model_selection import ParameterGrid"
   ]
  },
  {
   "cell_type": "code",
   "execution_count": 3,
   "id": "7882ca0c",
   "metadata": {},
   "outputs": [],
   "source": [
    "# 'dataset': [],          # 'simple', 'krylov'\n",
    "# 'grid': [],             # int \n",
    "# 'N_samples_train': [],  # int\n",
    "# 'N_samples_test': [],   # int\n",
    "# 'rhs_train': [],        # 'random', 'laplace', [5, 5, 2]\n",
    "# 'rhs_test': [],         # 'random', 'laplace', [5, 5, 2]\n",
    "# 'k_train': [],          # 'poisson', [5, 5, 2]\n",
    "# 'k_test': [],           # 'poisson', [5, 5, 2]\n",
    "# 'rhs_offset_train': [], # float\n",
    "# 'rhs_offset_test': [],  # float\n",
    "# 'k_offset_train': [],   # float\n",
    "# 'k_offset_test': [],    # float\n",
    "# 'lhs_type': [],         # 'fd', 'ilu0', 'ilu1', 'ilu2'\n",
    "# 'cg_repeats': [],       # int\n",
    "# 'loss_type': [],        # 'llt', 'llt-norm', 'notay', 'llt-res', 'llt-res-norm'\n",
    "# 'loss_reduction': [],   # jnp.mean,  jnp.sum\n",
    "# 'batch_size': [],       # int\n",
    "# 'epoch_num': [],        # int\n",
    "# 'lr_start': [],         # float\n",
    "# 'schedule_params': [],  # [start, stop, step, decay_size], type:[int, int, int, float]\n",
    "# 'cg_valid_repeats': []  # int"
   ]
  },
  {
   "cell_type": "code",
   "execution_count": 4,
   "id": "b25e6119",
   "metadata": {},
   "outputs": [],
   "source": [
    "loss = 'llt-res'"
   ]
  },
  {
   "cell_type": "code",
   "execution_count": 5,
   "id": "fdd60c96",
   "metadata": {},
   "outputs": [],
   "source": [
    "# # Simple\n",
    "# params = {\n",
    "#     'dataset': ['simple'],\n",
    "#     'grid': [64, 128], \n",
    "#     'N_samples_train': [20, 40, 80, 100],\n",
    "#     'N_samples_test': [5, 10, 20],\n",
    "#     'rhs_train': ['random'],\n",
    "#     'k_train': ['poisson', [5, 5, 2]],\n",
    "#     'rhs_offset_train': [0],\n",
    "#     'k_offset_train': [10],\n",
    "#     'lhs_type': ['fd', 'ilu0', 'ilu1', 'ilu2'],\n",
    "#     'cg_repeats': [1],\n",
    "#     'loss_type': [loss],\n",
    "#     'loss_reduction': [jnp.mean],\n",
    "#     'batch_size': [8, 16, 32, 64],\n",
    "#     'epoch_num': [500, 800, 1200, 2000],\n",
    "#     'lr_start': [1e-2, 1e-3, 1e-4],\n",
    "#     'schedule_params': [None],\n",
    "#     'cg_valid_repeats': [500]\n",
    "# }\n",
    "# params_grid = ParameterGrid(params)\n",
    "\n",
    "# training_search(params_grid, loss)"
   ]
  },
  {
   "cell_type": "code",
   "execution_count": null,
   "id": "fc8416c2",
   "metadata": {},
   "outputs": [
    {
     "name": "stdout",
     "output_type": "stream",
     "text": [
      "Started: 0\n"
     ]
    },
    {
     "name": "stderr",
     "output_type": "stream",
     "text": [
      "2024-05-03 12:56:00.087053: E external/xla/xla/service/slow_operation_alarm.cc:65] Trying algorithm eng21{k2=1,k4=0,k5=1,k6=0,k7=0} for conv (f32[16,48,1]{2,1,0}, u8[0]{0}) custom-call(f32[32,48,47376]{2,1,0}, f32[32,16,47376]{2,1,0}), window={size=1}, dim_labels=bf0_oi0->bf0, custom_call_target=\"__cudnn$convBackwardFilter\", backend_config={\"operation_queue_id\":\"0\",\"wait_on_operation_queues\":[],\"cudnn_conv_backend_config\":{\"conv_result_scale\":1,\"activation_mode\":\"kNone\",\"side_input_scale\":0,\"leakyrelu_alpha\":0},\"force_earliest_schedule\":false} is taking a while...\n",
      "2024-05-03 12:56:00.159047: E external/xla/xla/service/slow_operation_alarm.cc:133] The operation took 1.072194303s\n",
      "Trying algorithm eng21{k2=1,k4=0,k5=1,k6=0,k7=0} for conv (f32[16,48,1]{2,1,0}, u8[0]{0}) custom-call(f32[32,48,47376]{2,1,0}, f32[32,16,47376]{2,1,0}), window={size=1}, dim_labels=bf0_oi0->bf0, custom_call_target=\"__cudnn$convBackwardFilter\", backend_config={\"operation_queue_id\":\"0\",\"wait_on_operation_queues\":[],\"cudnn_conv_backend_config\":{\"conv_result_scale\":1,\"activation_mode\":\"kNone\",\"side_input_scale\":0,\"leakyrelu_alpha\":0},\"force_earliest_schedule\":false} is taking a while...\n"
     ]
    }
   ],
   "source": [
    "# Krylov | 300 cg_repeats\n",
    "params = {\n",
    "    'dataset': ['krylov'],\n",
    "    'grid': [64], \n",
    "    'N_samples_train': [10],\n",
    "    'N_samples_test': [5],\n",
    "    'rhs_train': ['random', [5, 5, 2]],\n",
    "    'k_train': ['poisson', [5, 5, 2]],\n",
    "    'rhs_offset_train': [0],\n",
    "    'k_offset_train': [10],\n",
    "    'lhs_type': ['ilu2'],\n",
    "    'cg_repeats': [250],\n",
    "    'loss_type': [loss],\n",
    "    'loss_reduction': [jnp.mean],\n",
    "    'batch_size': [32],\n",
    "    'epoch_num': [1200],#[500, 800, 1200, 2000],\n",
    "    'lr_start': [1e-3],#[1e-2, 1e-3, 1e-4],\n",
    "    'schedule_params': [None],\n",
    "    'cg_valid_repeats': [500]\n",
    "}\n",
    "params_grid = ParameterGrid(params)\n",
    "\n",
    "training_search(params_grid, loss)"
   ]
  },
  {
   "cell_type": "code",
   "execution_count": null,
   "id": "3a506c27",
   "metadata": {},
   "outputs": [],
   "source": [
    "2+3"
   ]
  },
  {
   "cell_type": "code",
   "execution_count": null,
   "id": "5669471a",
   "metadata": {},
   "outputs": [],
   "source": []
  }
 ],
 "metadata": {
  "kernelspec": {
   "display_name": "Python 3 (ipykernel)",
   "language": "python",
   "name": "python3"
  },
  "language_info": {
   "codemirror_mode": {
    "name": "ipython",
    "version": 3
   },
   "file_extension": ".py",
   "mimetype": "text/x-python",
   "name": "python",
   "nbconvert_exporter": "python",
   "pygments_lexer": "ipython3",
   "version": "3.10.6"
  }
 },
 "nbformat": 4,
 "nbformat_minor": 5
}
