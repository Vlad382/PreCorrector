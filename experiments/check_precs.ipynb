{
 "cells": [
  {
   "cell_type": "code",
   "execution_count": 1,
   "id": "30b31996",
   "metadata": {},
   "outputs": [],
   "source": [
    "import warnings\n",
    "import sys\n",
    "import os\n",
    "\n",
    "warnings.filterwarnings('ignore')\n",
    "os.environ[\"CUDA_VISIBLE_DEVICES\"] = ''\n",
    "os.environ['XLA_PYTHON_CLIENT_MEM_FRACTION'] = '.95'\n",
    "sys.path.append('/mnt/local/data/vtrifonov/prec-learning-Notay-loss/')"
   ]
  },
  {
   "cell_type": "code",
   "execution_count": 2,
   "id": "1364cbf5",
   "metadata": {},
   "outputs": [],
   "source": [
    "import jax.numpy as jnp\n",
    "from jax import random, vmap\n",
    "from jax.experimental import sparse as jsparse\n",
    "from jax.scipy.sparse.linalg import cg as jcg\n",
    "\n",
    "import numpy as np\n",
    "from scipy.sparse.linalg import LinearOperator, cg\n",
    "from scipy.sparse import tril, triu, eye\n",
    "\n",
    "import matplotlib.pyplot as plt\n",
    "from functools import partial\n",
    "from time import perf_counter\n",
    "import ilupp\n",
    "\n",
    "from linsolve.precond import llt_prec_trig_solve, llt_inv_prec\n",
    "from utils import factorsILUp, batchedILUp, ILU2, jILU2, iter_per_residual, jBCOO_to_scipyCSR\n",
    "from linsolve.cg import ConjGrad\n",
    "from data.qtt import div_k_grad, scipy_validation, solve_precChol, solve_precLU"
   ]
  },
  {
   "cell_type": "code",
   "execution_count": 3,
   "id": "52e18917",
   "metadata": {},
   "outputs": [
    {
     "name": "stderr",
     "output_type": "stream",
     "text": [
      "CUDA backend failed to initialize: jaxlib/cuda/versions_helpers.cc:98: operation cuInit(0) failed: CUDA_ERROR_NO_DEVICE (Set TF_CPP_MIN_LOG_LEVEL=0 and rerun for more info.)\n"
     ]
    },
    {
     "name": "stdout",
     "output_type": "stream",
     "text": [
      "{'min': 342.0, 'max': 342.0, 'mean': 342.0}\n"
     ]
    }
   ],
   "source": [
    "A, b, x, k_stats = div_k_grad(1, 32, 'gaussian', 1.)\n",
    "print(k_stats)\n",
    "\n",
    "A_ = jBCOO_to_scipyCSR(A[0, ...])\n",
    "b_ = np.asarray(b[0, ...])"
   ]
  },
  {
   "cell_type": "code",
   "execution_count": 4,
   "id": "cfc3467a",
   "metadata": {},
   "outputs": [
    {
     "name": "stdout",
     "output_type": "stream",
     "text": [
      "CG: {'1e-3': 269, '1e-6': 344, '1e-12': 469}\n"
     ]
    }
   ],
   "source": [
    "d_tol = scipy_validation(A_, b_, prec_f=lambda x: x)\n",
    "print(f'CG: {d_tol}')"
   ]
  },
  {
   "cell_type": "markdown",
   "id": "0a3c6b42",
   "metadata": {},
   "source": [
    "# ILU with recursive call of ILU(0)"
   ]
  },
  {
   "cell_type": "code",
   "execution_count": 5,
   "id": "a465e636",
   "metadata": {},
   "outputs": [
    {
     "name": "stdout",
     "output_type": "stream",
     "text": [
      "PCG: {'1e-3': 45, '1e-6': 57, '1e-12': 74}\n",
      "NNZ(L) = 0.287%\n"
     ]
    }
   ],
   "source": [
    "L, U = factorsILUp(A_, p=0)\n",
    "prec_f = partial(solve_precLU, L=L, U=U)\n",
    "d_tol = scipy_validation(A_, b_, prec_f)\n",
    "print(f'PCG: {d_tol}')\n",
    "print(f'NNZ(L) = {L.nnz*100 / L.shape[-1] ** 2:.3f}%')"
   ]
  },
  {
   "cell_type": "code",
   "execution_count": 6,
   "id": "febe7cf5",
   "metadata": {},
   "outputs": [
    {
     "name": "stdout",
     "output_type": "stream",
     "text": [
      "PCG: {'1e-3': 45, '1e-6': 57, '1e-12': 74}\n",
      "NNZ(L) = 0.379%\n"
     ]
    }
   ],
   "source": [
    "L, U = factorsILUp(A_, p=1)\n",
    "prec_f = partial(solve_precLU, L=L, U=U)\n",
    "d_tol = scipy_validation(A_, b_, prec_f)\n",
    "print(f'PCG: {d_tol}')\n",
    "print(f'NNZ(L) = {L.nnz*100 / L.shape[-1] ** 2:.3f}%')"
   ]
  },
  {
   "cell_type": "code",
   "execution_count": 7,
   "id": "761d593d",
   "metadata": {},
   "outputs": [
    {
     "name": "stdout",
     "output_type": "stream",
     "text": [
      "PCG: {'1e-3': 45, '1e-6': 57, '1e-12': 74}\n",
      "NNZ(L) = 0.386%\n"
     ]
    }
   ],
   "source": [
    "L, U = factorsILUp(A_, p=2)\n",
    "prec_f = partial(solve_precLU, L=L, U=U)\n",
    "d_tol = scipy_validation(A_, b_, prec_f)\n",
    "print(f'PCG: {d_tol}')\n",
    "print(f'NNZ(L) = {L.nnz*100 / L.shape[-1] ** 2:.3f}%')"
   ]
  },
  {
   "cell_type": "markdown",
   "id": "45a4b096",
   "metadata": {},
   "source": [
    "# ILU(2) from Fortran"
   ]
  },
  {
   "cell_type": "code",
   "execution_count": 8,
   "id": "7ee88b26",
   "metadata": {},
   "outputs": [],
   "source": [
    "# s = perf_counter()\n",
    "# sILU = ILU2(A_)\n",
    "# print(perf_counter() - s)"
   ]
  },
  {
   "cell_type": "code",
   "execution_count": 9,
   "id": "0e1e47f1",
   "metadata": {},
   "outputs": [],
   "source": [
    "# LU = A_.copy()\n",
    "# LU.data = sILU\n",
    "# L = tril(LU, k=-1) + eye(LU.shape[0])\n",
    "# U = triu(LU)"
   ]
  },
  {
   "cell_type": "code",
   "execution_count": 10,
   "id": "ee165fb9",
   "metadata": {},
   "outputs": [],
   "source": [
    "# Do not converge\n",
    "\n",
    "# prec_f = partial(solve_precLU, L=L, U=U)\n",
    "# d_tol = scipy_validation(A_, b_, prec_f)\n",
    "# print(f'CG with from matlab code ILU(2): {d_tol}')"
   ]
  },
  {
   "cell_type": "markdown",
   "id": "fc15803f",
   "metadata": {},
   "source": [
    "# IC(0)"
   ]
  },
  {
   "cell_type": "code",
   "execution_count": 11,
   "id": "8ecea22f",
   "metadata": {},
   "outputs": [
    {
     "name": "stdout",
     "output_type": "stream",
     "text": [
      "PCG: {'1e-3': 45, '1e-6': 57, '1e-12': 74}\n",
      "NNZ(L) = 0.287%\n"
     ]
    }
   ],
   "source": [
    "L = ilupp.ichol0(A_)\n",
    "\n",
    "prec_f = partial(solve_precChol, L=L, U=L)\n",
    "d_tol = scipy_validation(A_, b_, prec_f)\n",
    "print(f'PCG: {d_tol}')\n",
    "print(f'NNZ(L) = {L.nnz*100 / L.shape[-1] ** 2:.3f}%')"
   ]
  },
  {
   "cell_type": "markdown",
   "id": "ae5aea4e",
   "metadata": {},
   "source": [
    "# ICt"
   ]
  },
  {
   "cell_type": "code",
   "execution_count": 12,
   "id": "c9fcda7a",
   "metadata": {},
   "outputs": [
    {
     "name": "stdout",
     "output_type": "stream",
     "text": [
      "PCG: {'1e-3': 27, '1e-6': 34, '1e-12': 44}\n",
      "NNZ(L) = 0.378%\n"
     ]
    }
   ],
   "source": [
    "L = ilupp.icholt(A_, add_fill_in=1, threshold=1e-4)\n",
    "\n",
    "prec_f = partial(solve_precChol, L=L, U=L)\n",
    "d_tol = scipy_validation(A_, b_, prec_f)\n",
    "print(f'PCG: {d_tol}')\n",
    "print(f'NNZ(L) = {L.nnz*100 / L.shape[-1] ** 2:.3f}%')"
   ]
  },
  {
   "cell_type": "code",
   "execution_count": 13,
   "id": "dfb46a68",
   "metadata": {},
   "outputs": [
    {
     "name": "stdout",
     "output_type": "stream",
     "text": [
      "PCG: {'1e-3': 20, '1e-6': 25, '1e-12': 33}\n",
      "NNZ(L) = 0.475%\n"
     ]
    }
   ],
   "source": [
    "L = ilupp.icholt(A_, add_fill_in=2, threshold=1e-4)\n",
    "\n",
    "prec_f = partial(solve_precChol, L=L, U=L)\n",
    "d_tol = scipy_validation(A_, b_, prec_f)\n",
    "print(f'PCG: {d_tol}')\n",
    "print(f'NNZ(L) = {L.nnz*100 / L.shape[-1] ** 2:.3f}%')"
   ]
  },
  {
   "cell_type": "code",
   "execution_count": 14,
   "id": "e90356f2",
   "metadata": {},
   "outputs": [
    {
     "name": "stdout",
     "output_type": "stream",
     "text": [
      "PCG: {'1e-3': 12, '1e-6': 15, '1e-12': 22}\n",
      "NNZ(L) = 0.755%\n"
     ]
    }
   ],
   "source": [
    "L = ilupp.icholt(A_, add_fill_in=5, threshold=1e-4)\n",
    "\n",
    "prec_f = partial(solve_precChol, L=L, U=L)\n",
    "d_tol = scipy_validation(A_, b_, prec_f)\n",
    "print(f'PCG: {d_tol}')\n",
    "print(f'NNZ(L) = {L.nnz*100 / L.shape[-1] ** 2:.3f}%')"
   ]
  },
  {
   "cell_type": "code",
   "execution_count": 15,
   "id": "5c417365",
   "metadata": {},
   "outputs": [
    {
     "name": "stdout",
     "output_type": "stream",
     "text": [
      "PCG: {'1e-3': 8, '1e-6': 10, '1e-12': 15}\n",
      "NNZ(L) = 1.178%\n"
     ]
    }
   ],
   "source": [
    "L = ilupp.icholt(A_, add_fill_in=10, threshold=1e-4)\n",
    "\n",
    "prec_f = partial(solve_precChol, L=L, U=L)\n",
    "d_tol = scipy_validation(A_, b_, prec_f)\n",
    "print(f'PCG: {d_tol}')\n",
    "print(f'NNZ(L) = {L.nnz*100 / L.shape[-1] ** 2:.3f}%')"
   ]
  },
  {
   "cell_type": "code",
   "execution_count": 16,
   "id": "1ea1c8ef",
   "metadata": {},
   "outputs": [
    {
     "name": "stdout",
     "output_type": "stream",
     "text": [
      "PCG: {'1e-3': 5, '1e-6': 7, '1e-12': 11}\n",
      "NNZ(L) = 1.529%\n"
     ]
    }
   ],
   "source": [
    "L = ilupp.icholt(A_, add_fill_in=15, threshold=1e-4)\n",
    "\n",
    "prec_f = partial(solve_precChol, L=L, U=L)\n",
    "d_tol = scipy_validation(A_, b_, prec_f)\n",
    "print(f'PCG: {d_tol}')\n",
    "print(f'NNZ(L) = {L.nnz*100 / L.shape[-1] ** 2:.3f}%')"
   ]
  },
  {
   "cell_type": "code",
   "execution_count": 17,
   "id": "8b6b4a3e",
   "metadata": {},
   "outputs": [
    {
     "name": "stdout",
     "output_type": "stream",
     "text": [
      "PCG: {'1e-3': 5, '1e-6': 6, '1e-12': 10}\n",
      "NNZ(L) = 1.776%\n"
     ]
    }
   ],
   "source": [
    "L = ilupp.icholt(A_, add_fill_in=20, threshold=1e-4)\n",
    "\n",
    "prec_f = partial(solve_precChol, L=L, U=L)\n",
    "d_tol = scipy_validation(A_, b_, prec_f)\n",
    "print(f'PCG: {d_tol}')\n",
    "print(f'NNZ(L) = {L.nnz*100 / L.shape[-1] ** 2:.3f}%')"
   ]
  },
  {
   "cell_type": "code",
   "execution_count": 18,
   "id": "e30aacda",
   "metadata": {},
   "outputs": [
    {
     "name": "stdout",
     "output_type": "stream",
     "text": [
      "PCG: {'1e-3': 4, '1e-6': 6, '1e-12': 9}\n",
      "NNZ(L) = 1.908%\n"
     ]
    }
   ],
   "source": [
    "L = ilupp.icholt(A_, add_fill_in=30, threshold=1e-4)\n",
    "\n",
    "prec_f = partial(solve_precChol, L=L, U=L)\n",
    "d_tol = scipy_validation(A_, b_, prec_f)\n",
    "print(f'PCG: {d_tol}')\n",
    "print(f'NNZ(L) = {L.nnz*100 / L.shape[-1] ** 2:.3f}%')"
   ]
  },
  {
   "cell_type": "markdown",
   "id": "2dfc1c9e",
   "metadata": {},
   "source": [
    "# ILUt"
   ]
  },
  {
   "cell_type": "code",
   "execution_count": 19,
   "id": "6cf32eff",
   "metadata": {},
   "outputs": [
    {
     "name": "stdout",
     "output_type": "stream",
     "text": [
      "PCG: {'1e-3': 143, '1e-6': 179, '1e-12': 230}\n",
      "NNZ(L) = 0.098%\n"
     ]
    }
   ],
   "source": [
    "L, U = ilupp.ilut(A_, fill_in=1, threshold=1e-4)\n",
    "\n",
    "prec_f = partial(solve_precLU, L=L, U=U)\n",
    "d_tol = scipy_validation(A_, b_, prec_f)\n",
    "print(f'PCG: {d_tol}')\n",
    "print(f'NNZ(L) = {L.nnz*100 / L.shape[-1] ** 2:.3f}%')"
   ]
  },
  {
   "cell_type": "code",
   "execution_count": 20,
   "id": "fdb776f2",
   "metadata": {},
   "outputs": [
    {
     "name": "stdout",
     "output_type": "stream",
     "text": [
      "PCG: {'1e-3': 10240, '1e-6': 10240, '1e-12': 10240}\n",
      "NNZ(L) = 0.195%\n"
     ]
    }
   ],
   "source": [
    "L, U = ilupp.ilut(A_, fill_in=2, threshold=1e-4)\n",
    "\n",
    "prec_f = partial(solve_precLU, L=L, U=U)\n",
    "d_tol = scipy_validation(A_, b_, prec_f)\n",
    "print(f'PCG: {d_tol}')\n",
    "print(f'NNZ(L) = {L.nnz*100 / L.shape[-1] ** 2:.3f}%')"
   ]
  },
  {
   "cell_type": "code",
   "execution_count": 21,
   "id": "f11c71f7",
   "metadata": {},
   "outputs": [
    {
     "name": "stdout",
     "output_type": "stream",
     "text": [
      "PCG: {'1e-3': 10240, '1e-6': 10240, '1e-12': 10240}\n",
      "NNZ(L) = 0.290%\n"
     ]
    }
   ],
   "source": [
    "L, U = ilupp.ilut(A_, fill_in=3, threshold=1e-4)\n",
    "\n",
    "prec_f = partial(solve_precLU, L=L, U=U)\n",
    "d_tol = scipy_validation(A_, b_, prec_f)\n",
    "print(f'PCG: {d_tol}')\n",
    "print(f'NNZ(L) = {L.nnz*100 / L.shape[-1] ** 2:.3f}%')"
   ]
  },
  {
   "cell_type": "code",
   "execution_count": 22,
   "id": "2ecc9e6f",
   "metadata": {},
   "outputs": [
    {
     "name": "stdout",
     "output_type": "stream",
     "text": [
      "PCG: {'1e-3': 10240, '1e-6': 10240, '1e-12': 10240}\n",
      "NNZ(L) = 0.384%\n"
     ]
    }
   ],
   "source": [
    "L, U = ilupp.ilut(A_, fill_in=4, threshold=1e-4)\n",
    "\n",
    "prec_f = partial(solve_precLU, L=L, U=U)\n",
    "d_tol = scipy_validation(A_, b_, prec_f)\n",
    "print(f'PCG: {d_tol}')\n",
    "print(f'NNZ(L) = {L.nnz*100 / L.shape[-1] ** 2:.3f}%')"
   ]
  },
  {
   "cell_type": "code",
   "execution_count": 23,
   "id": "7bbb9a33",
   "metadata": {},
   "outputs": [
    {
     "name": "stdout",
     "output_type": "stream",
     "text": [
      "PCG: {'1e-3': 24, '1e-6': 37, '1e-12': 73}\n",
      "NNZ(L) = 0.479%\n"
     ]
    }
   ],
   "source": [
    "L, U = ilupp.ilut(A_, fill_in=5, threshold=1e-4)\n",
    "\n",
    "prec_f = partial(solve_precLU, L=L, U=U)\n",
    "d_tol = scipy_validation(A_, b_, prec_f)\n",
    "print(f'PCG: {d_tol}')\n",
    "print(f'NNZ(L) = {L.nnz*100 / L.shape[-1] ** 2:.3f}%')"
   ]
  },
  {
   "cell_type": "code",
   "execution_count": 24,
   "id": "e6fdb98d",
   "metadata": {},
   "outputs": [
    {
     "name": "stdout",
     "output_type": "stream",
     "text": [
      "PCG: {'1e-3': 19, '1e-6': 32, '1e-12': 86}\n",
      "NNZ(L) = 0.574%\n"
     ]
    }
   ],
   "source": [
    "L, U = ilupp.ilut(A_, fill_in=6, threshold=1e-4)\n",
    "\n",
    "prec_f = partial(solve_precLU, L=L, U=U)\n",
    "d_tol = scipy_validation(A_, b_, prec_f)\n",
    "print(f'PCG: {d_tol}')\n",
    "print(f'NNZ(L) = {L.nnz*100 / L.shape[-1] ** 2:.3f}%')"
   ]
  },
  {
   "cell_type": "code",
   "execution_count": 25,
   "id": "f65b8b6d",
   "metadata": {},
   "outputs": [
    {
     "name": "stdout",
     "output_type": "stream",
     "text": [
      "PCG: {'1e-3': 16, '1e-6': 26, '1e-12': 87}\n",
      "NNZ(L) = 0.668%\n"
     ]
    }
   ],
   "source": [
    "L, U = ilupp.ilut(A_, fill_in=7, threshold=1e-4)\n",
    "\n",
    "prec_f = partial(solve_precLU, L=L, U=U)\n",
    "d_tol = scipy_validation(A_, b_, prec_f)\n",
    "print(f'PCG: {d_tol}')\n",
    "print(f'NNZ(L) = {L.nnz*100 / L.shape[-1] ** 2:.3f}%')"
   ]
  },
  {
   "cell_type": "code",
   "execution_count": 26,
   "id": "9fce7178",
   "metadata": {},
   "outputs": [
    {
     "name": "stdout",
     "output_type": "stream",
     "text": [
      "PCG: {'1e-3': 11, '1e-6': 17, '1e-12': 33}\n",
      "NNZ(L) = 0.950%\n"
     ]
    }
   ],
   "source": [
    "L, U = ilupp.ilut(A_, fill_in=10, threshold=1e-4)\n",
    "\n",
    "prec_f = partial(solve_precLU, L=L, U=U)\n",
    "d_tol = scipy_validation(A_, b_, prec_f)\n",
    "print(f'PCG: {d_tol}')\n",
    "print(f'NNZ(L) = {L.nnz*100 / L.shape[-1] ** 2:.3f}%')"
   ]
  },
  {
   "cell_type": "code",
   "execution_count": 27,
   "id": "0349399a",
   "metadata": {},
   "outputs": [
    {
     "name": "stdout",
     "output_type": "stream",
     "text": [
      "PCG: {'1e-3': 7, '1e-6': 10, '1e-12': 18}\n",
      "NNZ(L) = 1.392%\n"
     ]
    }
   ],
   "source": [
    "L, U = ilupp.ilut(A_, fill_in=15, threshold=1e-4)\n",
    "\n",
    "prec_f = partial(solve_precLU, L=L, U=U)\n",
    "d_tol = scipy_validation(A_, b_, prec_f)\n",
    "print(f'PCG: {d_tol}')\n",
    "print(f'NNZ(L) = {L.nnz*100 / L.shape[-1] ** 2:.3f}%')"
   ]
  },
  {
   "cell_type": "code",
   "execution_count": 28,
   "id": "06440a2d",
   "metadata": {},
   "outputs": [
    {
     "name": "stdout",
     "output_type": "stream",
     "text": [
      "PCG: {'1e-3': 5, '1e-6': 7, '1e-12': 12}\n",
      "NNZ(L) = 1.760%\n"
     ]
    }
   ],
   "source": [
    "L, U = ilupp.ilut(A_, fill_in=20, threshold=1e-4)\n",
    "\n",
    "prec_f = partial(solve_precLU, L=L, U=U)\n",
    "d_tol = scipy_validation(A_, b_, prec_f)\n",
    "print(f'PCG: {d_tol}')\n",
    "print(f'NNZ(L) = {L.nnz*100 / L.shape[-1] ** 2:.3f}%')"
   ]
  },
  {
   "cell_type": "code",
   "execution_count": 29,
   "id": "060e7725",
   "metadata": {},
   "outputs": [
    {
     "name": "stdout",
     "output_type": "stream",
     "text": [
      "PCG: {'1e-3': 3, '1e-6': 5, '1e-12': 8}\n",
      "NNZ(L) = 2.165%\n"
     ]
    }
   ],
   "source": [
    "L, U = ilupp.ilut(A_, fill_in=30, threshold=1e-4)\n",
    "\n",
    "prec_f = partial(solve_precLU, L=L, U=U)\n",
    "d_tol = scipy_validation(A_, b_, prec_f)\n",
    "print(f'PCG: {d_tol}')\n",
    "print(f'NNZ(L) = {L.nnz*100 / L.shape[-1] ** 2:.3f}%')"
   ]
  },
  {
   "cell_type": "code",
   "execution_count": null,
   "id": "70257818",
   "metadata": {},
   "outputs": [],
   "source": []
  }
 ],
 "metadata": {
  "kernelspec": {
   "display_name": "Python 3 (ipykernel)",
   "language": "python",
   "name": "python3"
  },
  "language_info": {
   "codemirror_mode": {
    "name": "ipython",
    "version": 3
   },
   "file_extension": ".py",
   "mimetype": "text/x-python",
   "name": "python",
   "nbconvert_exporter": "python",
   "pygments_lexer": "ipython3",
   "version": "3.10.6"
  }
 },
 "nbformat": 4,
 "nbformat_minor": 5
}
