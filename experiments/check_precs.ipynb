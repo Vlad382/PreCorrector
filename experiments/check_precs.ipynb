{
 "cells": [
  {
   "cell_type": "code",
   "execution_count": 1,
   "id": "34b37932",
   "metadata": {},
   "outputs": [],
   "source": [
    "import warnings\n",
    "import sys\n",
    "import os\n",
    "\n",
    "warnings.filterwarnings('ignore')\n",
    "os.environ[\"CUDA_VISIBLE_DEVICES\"] = ''\n",
    "os.environ['XLA_PYTHON_CLIENT_MEM_FRACTION'] = '.95'\n",
    "sys.path.append('/mnt/local/data/vtrifonov/prec-learning-Notay-loss/')"
   ]
  },
  {
   "cell_type": "code",
   "execution_count": 2,
   "id": "d6d59145",
   "metadata": {},
   "outputs": [],
   "source": [
    "import jax.numpy as jnp\n",
    "from jax import random, vmap\n",
    "from jax.experimental import sparse as jsparse\n",
    "from jax.scipy.sparse.linalg import cg as jcg\n",
    "\n",
    "import numpy as np\n",
    "from scipy.sparse.linalg import LinearOperator, cg\n",
    "from scipy.sparse import tril, triu, eye, csr_matrix\n",
    "\n",
    "import matplotlib.pyplot as plt\n",
    "from functools import partial\n",
    "from time import perf_counter\n",
    "import ilupp\n",
    "\n",
    "from linsolve.precond import llt_prec_trig_solve, llt_inv_prec\n",
    "from utils import factorsILUp, batchedILUp, ILU2, jILU2, iter_per_residual, jBCOO_to_scipyCSR\n",
    "from linsolve.cg import ConjGrad\n",
    "from data.qtt import div_k_grad, scipy_validation, solve_precChol, solve_precLU"
   ]
  },
  {
   "cell_type": "code",
   "execution_count": 3,
   "id": "14ff80f7",
   "metadata": {},
   "outputs": [
    {
     "name": "stderr",
     "output_type": "stream",
     "text": [
      "CUDA backend failed to initialize: jaxlib/cuda/versions_helpers.cc:98: operation cuInit(0) failed: CUDA_ERROR_NO_DEVICE (Set TF_CPP_MIN_LOG_LEVEL=0 and rerun for more info.)\n"
     ]
    },
    {
     "name": "stdout",
     "output_type": "stream",
     "text": [
      "{'min': 462.0, 'max': 462.0, 'mean': 462.0}\n"
     ]
    }
   ],
   "source": [
    "A, b, x, k_stats = div_k_grad(1, 32, 'gaussian', 1.)\n",
    "print(k_stats)\n",
    "\n",
    "A_ = jBCOO_to_scipyCSR(A[0, ...])\n",
    "b_ = np.asarray(b[0, ...])"
   ]
  },
  {
   "cell_type": "code",
   "execution_count": 4,
   "id": "3f7b28f1",
   "metadata": {},
   "outputs": [
    {
     "name": "stdout",
     "output_type": "stream",
     "text": [
      "CG: {'1e-3': 262, '1e-6': 333, '1e-12': 450}\n"
     ]
    }
   ],
   "source": [
    "d_tol = scipy_validation(A_, b_, prec_f=lambda x: x)\n",
    "print(f'CG: {d_tol}')"
   ]
  },
  {
   "cell_type": "markdown",
   "id": "becde020",
   "metadata": {},
   "source": [
    "# ILU with recursive call of ILU(0)"
   ]
  },
  {
   "cell_type": "code",
   "execution_count": 5,
   "id": "2a8fdd88",
   "metadata": {},
   "outputs": [],
   "source": [
    "L0, U0 = factorsILUp(A_, p=0)\n",
    "L1, U1 = factorsILUp(A_, p=1)\n",
    "L2, U2 = factorsILUp(A_, p=2)"
   ]
  },
  {
   "cell_type": "code",
   "execution_count": 6,
   "id": "980ab016",
   "metadata": {},
   "outputs": [
    {
     "name": "stdout",
     "output_type": "stream",
     "text": [
      "L0.nnz = 3008\n",
      "L1.nnz = 3969\n",
      "L2.nnz = 4046\n",
      "\n",
      "(L1 - L0).nnz = 254\n",
      "(L2 - L1).nnz = 306\n",
      "\n",
      "max((L1 - L0)) = 1.1102230246251565e-16\n",
      "max((L2 - L1)) = 1.1102230246251565e-16\n"
     ]
    }
   ],
   "source": [
    "print(f'L0.nnz = {L0.nnz}')\n",
    "print(f'L1.nnz = {L1.nnz}')\n",
    "print(f'L2.nnz = {L2.nnz}')\n",
    "print()\n",
    "print(f'(L1 - L0).nnz = {(L1 - L0).nnz}')\n",
    "print(f'(L2 - L1).nnz = {(L2 - L1).nnz}')\n",
    "print()\n",
    "print(f'max((L1 - L0)) = {np.abs(L1 - L0).max()}')\n",
    "print(f'max((L2 - L1)) = {np.abs(L2 - L1).max()}')"
   ]
  },
  {
   "cell_type": "code",
   "execution_count": 7,
   "id": "00a5232b",
   "metadata": {},
   "outputs": [
    {
     "name": "stdout",
     "output_type": "stream",
     "text": [
      "PCG: {'1e-3': 43, '1e-6': 54, '1e-12': 72}\n",
      "NNZ(L) = 0.287%\n"
     ]
    }
   ],
   "source": [
    "L, U = factorsILUp(A_, p=0)\n",
    "prec_f = partial(solve_precLU, L=L, U=U)\n",
    "d_tol = scipy_validation(A_, b_, prec_f)\n",
    "print(f'PCG: {d_tol}')\n",
    "print(f'NNZ(L) = {L.nnz*100 / L.shape[-1] ** 2:.3f}%')"
   ]
  },
  {
   "cell_type": "code",
   "execution_count": 8,
   "id": "aaa0544a",
   "metadata": {},
   "outputs": [
    {
     "name": "stdout",
     "output_type": "stream",
     "text": [
      "PCG: {'1e-3': 43, '1e-6': 54, '1e-12': 72}\n",
      "NNZ(L) = 0.379%\n"
     ]
    }
   ],
   "source": [
    "L, U = factorsILUp(A_, p=1)\n",
    "prec_f = partial(solve_precLU, L=L, U=U)\n",
    "d_tol = scipy_validation(A_, b_, prec_f)\n",
    "print(f'PCG: {d_tol}')\n",
    "print(f'NNZ(L) = {L.nnz*100 / L.shape[-1] ** 2:.3f}%')"
   ]
  },
  {
   "cell_type": "code",
   "execution_count": 9,
   "id": "8616ad8b",
   "metadata": {},
   "outputs": [
    {
     "name": "stdout",
     "output_type": "stream",
     "text": [
      "PCG: {'1e-3': 43, '1e-6': 54, '1e-12': 72}\n",
      "NNZ(L) = 0.386%\n"
     ]
    }
   ],
   "source": [
    "L, U = factorsILUp(A_, p=2)\n",
    "prec_f = partial(solve_precLU, L=L, U=U)\n",
    "d_tol = scipy_validation(A_, b_, prec_f)\n",
    "print(f'PCG: {d_tol}')\n",
    "print(f'NNZ(L) = {L.nnz*100 / L.shape[-1] ** 2:.3f}%')"
   ]
  },
  {
   "cell_type": "markdown",
   "id": "5cad062d",
   "metadata": {},
   "source": [
    "# ILU(2) from Fortran"
   ]
  },
  {
   "cell_type": "code",
   "execution_count": 26,
   "id": "ddd1f063",
   "metadata": {},
   "outputs": [],
   "source": [
    "import jax\n",
    "import jax.numpy as jnp\n",
    "from jax import lax\n",
    "\n",
    "def incomplete_lu_factorization(A, B, p):\n",
    "    \"\"\"\n",
    "    Incomplete LU factorization of a matrix A in CSR format.\n",
    "\n",
    "    Parameters:\n",
    "    A (csr_matrix): Input matrix in CSR format\n",
    "    p (int): Level of fill-in\n",
    "\n",
    "    Returns:\n",
    "    B (csr_matrix): Matrix B in CSR format after incomplete LU factorization\n",
    "    \"\"\"\n",
    "    n = A.shape[0]\n",
    "\n",
    "    def body(carry, i):\n",
    "        k = jnp.arange(1, i)\n",
    "        mask = (B[k, i] != 0) & (lev(B[k, i]) <= p)\n",
    "        B_i = B[i, :]\n",
    "        B_k = B[k, :]\n",
    "        B_ik = B[k, i]\n",
    "        B_i /= B_k[:, jnp.newaxis] * B_ik\n",
    "        B_i -= jnp.sum(B_k[:, jnp.newaxis] * B_ik, axis=0)\n",
    "        update_levels(B, i, k, p)\n",
    "        return carry, B_i\n",
    "\n",
    "    init = jnp.zeros((n,))\n",
    "    B, _ = lax.scan(body, init, jnp.arange(2, n))\n",
    "    B = jnp.where(lev(B) <= p, B, 0)\n",
    "    return B\n",
    "\n",
    "def lev(aij):\n",
    "    # Define a function to compute the level of fill-in for an element aij\n",
    "    # This function is not specified in the algorithm, so I assume it's a simple function\n",
    "    # that returns 0 for all nonzero elements\n",
    "    return 0 if aij != 0 else float('inf')\n",
    "\n",
    "def update_levels(B, i, k, p):\n",
    "    # Define a function to update the levels of fill-in for the nonzero elements in row i\n",
    "    # This function is not specified in the algorithm, so I assume it's a simple function\n",
    "    # that updates the levels based on the formula levij = min{levij, levik + levkj + 1}\n",
    "    for j in range(B.shape[1]):\n",
    "        if B[i, j] != 0:\n",
    "            B[i, j] = jnp.minimum(B[i, j], lev(B[k, j]) + lev(B[k, i]) + 1)\n",
    "    return B"
   ]
  },
  {
   "cell_type": "code",
   "execution_count": 25,
   "id": "1dd05faa",
   "metadata": {
    "collapsed": true,
    "jupyter": {
     "outputs_hidden": true
    }
   },
   "outputs": [
    {
     "ename": "TracerArrayConversionError",
     "evalue": "The numpy.ndarray conversion method __array__() was called on traced array with shape int32[].\nThe error occurred while tracing the function body at /tmp/ipykernel_708849/4232006813.py:18 for scan. This concrete value was not available in Python because it depends on the value of the argument i.\nSee https://jax.readthedocs.io/en/latest/errors.html#jax.errors.TracerArrayConversionError",
     "output_type": "error",
     "traceback": [
      "\u001b[0;31m---------------------------------------------------------------------------\u001b[0m",
      "\u001b[0;31mTracerArrayConversionError\u001b[0m                Traceback (most recent call last)",
      "Cell \u001b[0;32mIn[25], line 3\u001b[0m\n\u001b[1;32m      1\u001b[0m s \u001b[38;5;241m=\u001b[39m perf_counter()\n\u001b[1;32m      2\u001b[0m \u001b[38;5;66;03m# sILU = ILU2(A_)\u001b[39;00m\n\u001b[0;32m----> 3\u001b[0m ILUp \u001b[38;5;241m=\u001b[39m \u001b[43mincomplete_lu_factorization\u001b[49m\u001b[43m(\u001b[49m\u001b[43mjsparse\u001b[49m\u001b[38;5;241;43m.\u001b[39;49m\u001b[43mBCSR\u001b[49m\u001b[38;5;241;43m.\u001b[39;49m\u001b[43mfrom_scipy_sparse\u001b[49m\u001b[43m(\u001b[49m\u001b[43mA_\u001b[49m\u001b[43m)\u001b[49m\u001b[43m,\u001b[49m\u001b[43m \u001b[49m\u001b[43mjsparse\u001b[49m\u001b[38;5;241;43m.\u001b[39;49m\u001b[43mBCSR\u001b[49m\u001b[38;5;241;43m.\u001b[39;49m\u001b[43mfrom_scipy_sparse\u001b[49m\u001b[43m(\u001b[49m\u001b[43mA_\u001b[49m\u001b[43m)\u001b[49m\u001b[43m,\u001b[49m\u001b[43m \u001b[49m\u001b[38;5;241;43m0\u001b[39;49m\u001b[43m)\u001b[49m\n\u001b[1;32m      4\u001b[0m \u001b[38;5;28mprint\u001b[39m(perf_counter() \u001b[38;5;241m-\u001b[39m s)\n",
      "Cell \u001b[0;32mIn[24], line 30\u001b[0m, in \u001b[0;36mincomplete_lu_factorization\u001b[0;34m(A, B, p)\u001b[0m\n\u001b[1;32m     27\u001b[0m     \u001b[38;5;28;01mreturn\u001b[39;00m carry, B_i\n\u001b[1;32m     29\u001b[0m init \u001b[38;5;241m=\u001b[39m jnp\u001b[38;5;241m.\u001b[39mzeros((n,))\n\u001b[0;32m---> 30\u001b[0m B, _ \u001b[38;5;241m=\u001b[39m \u001b[43mlax\u001b[49m\u001b[38;5;241;43m.\u001b[39;49m\u001b[43mscan\u001b[49m\u001b[43m(\u001b[49m\u001b[43mbody\u001b[49m\u001b[43m,\u001b[49m\u001b[43m \u001b[49m\u001b[43minit\u001b[49m\u001b[43m,\u001b[49m\u001b[43m \u001b[49m\u001b[43mjnp\u001b[49m\u001b[38;5;241;43m.\u001b[39;49m\u001b[43marange\u001b[49m\u001b[43m(\u001b[49m\u001b[38;5;241;43m2\u001b[39;49m\u001b[43m,\u001b[49m\u001b[43m \u001b[49m\u001b[43mn\u001b[49m\u001b[43m)\u001b[49m\u001b[43m)\u001b[49m\n\u001b[1;32m     31\u001b[0m B \u001b[38;5;241m=\u001b[39m jnp\u001b[38;5;241m.\u001b[39mwhere(lev(B) \u001b[38;5;241m<\u001b[39m\u001b[38;5;241m=\u001b[39m p, B, \u001b[38;5;241m0\u001b[39m)\n\u001b[1;32m     32\u001b[0m \u001b[38;5;28;01mreturn\u001b[39;00m B\n",
      "    \u001b[0;31m[... skipping hidden 9 frame]\u001b[0m\n",
      "Cell \u001b[0;32mIn[24], line 19\u001b[0m, in \u001b[0;36mincomplete_lu_factorization.<locals>.body\u001b[0;34m(carry, i)\u001b[0m\n\u001b[1;32m     18\u001b[0m \u001b[38;5;28;01mdef\u001b[39;00m \u001b[38;5;21mbody\u001b[39m(carry, i):\n\u001b[0;32m---> 19\u001b[0m     k \u001b[38;5;241m=\u001b[39m \u001b[43mnp\u001b[49m\u001b[38;5;241;43m.\u001b[39;49m\u001b[43marange\u001b[49m\u001b[43m(\u001b[49m\u001b[38;5;241;43m1\u001b[39;49m\u001b[43m,\u001b[49m\u001b[43m \u001b[49m\u001b[43mi\u001b[49m\u001b[43m)\u001b[49m\n\u001b[1;32m     20\u001b[0m     mask \u001b[38;5;241m=\u001b[39m (B[k, i] \u001b[38;5;241m!=\u001b[39m \u001b[38;5;241m0\u001b[39m) \u001b[38;5;241m&\u001b[39m (lev(B[k, i]) \u001b[38;5;241m<\u001b[39m\u001b[38;5;241m=\u001b[39m p)\n\u001b[1;32m     21\u001b[0m     B_i \u001b[38;5;241m=\u001b[39m B[i, :]\n",
      "File \u001b[0;32m/usr/local/lib/python3.10/dist-packages/jax/_src/core.py:684\u001b[0m, in \u001b[0;36mTracer.__array__\u001b[0;34m(self, *args, **kw)\u001b[0m\n\u001b[1;32m    683\u001b[0m \u001b[38;5;28;01mdef\u001b[39;00m \u001b[38;5;21m__array__\u001b[39m(\u001b[38;5;28mself\u001b[39m, \u001b[38;5;241m*\u001b[39margs, \u001b[38;5;241m*\u001b[39m\u001b[38;5;241m*\u001b[39mkw):\n\u001b[0;32m--> 684\u001b[0m   \u001b[38;5;28;01mraise\u001b[39;00m TracerArrayConversionError(\u001b[38;5;28mself\u001b[39m)\n",
      "\u001b[0;31mTracerArrayConversionError\u001b[0m: The numpy.ndarray conversion method __array__() was called on traced array with shape int32[].\nThe error occurred while tracing the function body at /tmp/ipykernel_708849/4232006813.py:18 for scan. This concrete value was not available in Python because it depends on the value of the argument i.\nSee https://jax.readthedocs.io/en/latest/errors.html#jax.errors.TracerArrayConversionError"
     ]
    }
   ],
   "source": [
    "s = perf_counter()\n",
    "# sILU = ILU2(A_)\n",
    "ILUp = incomplete_lu_factorization(jsparse.BCSR.from_scipy_sparse(A_), jsparse.BCSR.from_scipy_sparse(A_), 0)\n",
    "print(perf_counter() - s)"
   ]
  },
  {
   "cell_type": "code",
   "execution_count": null,
   "id": "856f5153",
   "metadata": {},
   "outputs": [],
   "source": [
    "plt.imshow(ILUp.todense())"
   ]
  },
  {
   "cell_type": "code",
   "execution_count": 12,
   "id": "3430b9f6",
   "metadata": {},
   "outputs": [],
   "source": [
    "# LU = jBCOO_to_scipyCSR(A[0, ...])\n",
    "# LU.data = sILU\n",
    "# L = tril(LU, k=-1) + eye(A_.shape[0])\n",
    "# U = triu(LU)"
   ]
  },
  {
   "cell_type": "code",
   "execution_count": 10,
   "id": "e37b3722",
   "metadata": {},
   "outputs": [],
   "source": [
    "# Do not converge\n",
    "\n",
    "# prec_f = partial(solve_precLU, L=L, U=U)\n",
    "# d_tol = scipy_validation(A_, b_, prec_f)\n",
    "# print(f'CG with from matlab code ILU(2): {d_tol}')"
   ]
  },
  {
   "cell_type": "markdown",
   "id": "a0d51b6a",
   "metadata": {},
   "source": [
    "# IC(0)"
   ]
  },
  {
   "cell_type": "code",
   "execution_count": 11,
   "id": "40a0fec4",
   "metadata": {},
   "outputs": [
    {
     "name": "stdout",
     "output_type": "stream",
     "text": [
      "PCG: {'1e-3': 45, '1e-6': 57, '1e-12': 74}\n",
      "NNZ(L) = 0.287%\n"
     ]
    }
   ],
   "source": [
    "L = ilupp.ichol0(A_)\n",
    "\n",
    "prec_f = partial(solve_precChol, L=L, U=L)\n",
    "d_tol = scipy_validation(A_, b_, prec_f)\n",
    "print(f'PCG: {d_tol}')\n",
    "print(f'NNZ(L) = {L.nnz*100 / L.shape[-1] ** 2:.3f}%')"
   ]
  },
  {
   "cell_type": "markdown",
   "id": "f0d39c43",
   "metadata": {},
   "source": [
    "# ICt"
   ]
  },
  {
   "cell_type": "code",
   "execution_count": 12,
   "id": "b95f0da7",
   "metadata": {},
   "outputs": [
    {
     "name": "stdout",
     "output_type": "stream",
     "text": [
      "PCG: {'1e-3': 27, '1e-6': 34, '1e-12': 44}\n",
      "NNZ(L) = 0.378%\n"
     ]
    }
   ],
   "source": [
    "L = ilupp.icholt(A_, add_fill_in=1, threshold=1e-4)\n",
    "\n",
    "prec_f = partial(solve_precChol, L=L, U=L)\n",
    "d_tol = scipy_validation(A_, b_, prec_f)\n",
    "print(f'PCG: {d_tol}')\n",
    "print(f'NNZ(L) = {L.nnz*100 / L.shape[-1] ** 2:.3f}%')"
   ]
  },
  {
   "cell_type": "code",
   "execution_count": 13,
   "id": "9201855a",
   "metadata": {},
   "outputs": [
    {
     "name": "stdout",
     "output_type": "stream",
     "text": [
      "PCG: {'1e-3': 20, '1e-6': 25, '1e-12': 33}\n",
      "NNZ(L) = 0.475%\n"
     ]
    }
   ],
   "source": [
    "L = ilupp.icholt(A_, add_fill_in=2, threshold=1e-4)\n",
    "\n",
    "prec_f = partial(solve_precChol, L=L, U=L)\n",
    "d_tol = scipy_validation(A_, b_, prec_f)\n",
    "print(f'PCG: {d_tol}')\n",
    "print(f'NNZ(L) = {L.nnz*100 / L.shape[-1] ** 2:.3f}%')"
   ]
  },
  {
   "cell_type": "code",
   "execution_count": 14,
   "id": "6de1e129",
   "metadata": {},
   "outputs": [
    {
     "name": "stdout",
     "output_type": "stream",
     "text": [
      "PCG: {'1e-3': 12, '1e-6': 15, '1e-12': 22}\n",
      "NNZ(L) = 0.755%\n"
     ]
    }
   ],
   "source": [
    "L = ilupp.icholt(A_, add_fill_in=5, threshold=1e-4)\n",
    "\n",
    "prec_f = partial(solve_precChol, L=L, U=L)\n",
    "d_tol = scipy_validation(A_, b_, prec_f)\n",
    "print(f'PCG: {d_tol}')\n",
    "print(f'NNZ(L) = {L.nnz*100 / L.shape[-1] ** 2:.3f}%')"
   ]
  },
  {
   "cell_type": "code",
   "execution_count": 15,
   "id": "89599129",
   "metadata": {},
   "outputs": [
    {
     "name": "stdout",
     "output_type": "stream",
     "text": [
      "PCG: {'1e-3': 8, '1e-6': 10, '1e-12': 15}\n",
      "NNZ(L) = 1.178%\n"
     ]
    }
   ],
   "source": [
    "L = ilupp.icholt(A_, add_fill_in=10, threshold=1e-4)\n",
    "\n",
    "prec_f = partial(solve_precChol, L=L, U=L)\n",
    "d_tol = scipy_validation(A_, b_, prec_f)\n",
    "print(f'PCG: {d_tol}')\n",
    "print(f'NNZ(L) = {L.nnz*100 / L.shape[-1] ** 2:.3f}%')"
   ]
  },
  {
   "cell_type": "code",
   "execution_count": 16,
   "id": "27857eac",
   "metadata": {},
   "outputs": [
    {
     "name": "stdout",
     "output_type": "stream",
     "text": [
      "PCG: {'1e-3': 5, '1e-6': 7, '1e-12': 11}\n",
      "NNZ(L) = 1.529%\n"
     ]
    }
   ],
   "source": [
    "L = ilupp.icholt(A_, add_fill_in=15, threshold=1e-4)\n",
    "\n",
    "prec_f = partial(solve_precChol, L=L, U=L)\n",
    "d_tol = scipy_validation(A_, b_, prec_f)\n",
    "print(f'PCG: {d_tol}')\n",
    "print(f'NNZ(L) = {L.nnz*100 / L.shape[-1] ** 2:.3f}%')"
   ]
  },
  {
   "cell_type": "code",
   "execution_count": 17,
   "id": "47741dc7",
   "metadata": {},
   "outputs": [
    {
     "name": "stdout",
     "output_type": "stream",
     "text": [
      "PCG: {'1e-3': 5, '1e-6': 6, '1e-12': 10}\n",
      "NNZ(L) = 1.776%\n"
     ]
    }
   ],
   "source": [
    "L = ilupp.icholt(A_, add_fill_in=20, threshold=1e-4)\n",
    "\n",
    "prec_f = partial(solve_precChol, L=L, U=L)\n",
    "d_tol = scipy_validation(A_, b_, prec_f)\n",
    "print(f'PCG: {d_tol}')\n",
    "print(f'NNZ(L) = {L.nnz*100 / L.shape[-1] ** 2:.3f}%')"
   ]
  },
  {
   "cell_type": "code",
   "execution_count": 18,
   "id": "f039def4",
   "metadata": {},
   "outputs": [
    {
     "name": "stdout",
     "output_type": "stream",
     "text": [
      "PCG: {'1e-3': 4, '1e-6': 6, '1e-12': 9}\n",
      "NNZ(L) = 1.908%\n"
     ]
    }
   ],
   "source": [
    "L = ilupp.icholt(A_, add_fill_in=30, threshold=1e-4)\n",
    "\n",
    "prec_f = partial(solve_precChol, L=L, U=L)\n",
    "d_tol = scipy_validation(A_, b_, prec_f)\n",
    "print(f'PCG: {d_tol}')\n",
    "print(f'NNZ(L) = {L.nnz*100 / L.shape[-1] ** 2:.3f}%')"
   ]
  },
  {
   "cell_type": "markdown",
   "id": "d5c21768",
   "metadata": {},
   "source": [
    "# ILUt"
   ]
  },
  {
   "cell_type": "code",
   "execution_count": 19,
   "id": "5cd5821b",
   "metadata": {},
   "outputs": [
    {
     "name": "stdout",
     "output_type": "stream",
     "text": [
      "PCG: {'1e-3': 143, '1e-6': 179, '1e-12': 230}\n",
      "NNZ(L) = 0.098%\n"
     ]
    }
   ],
   "source": [
    "L, U = ilupp.ilut(A_, fill_in=1, threshold=1e-4)\n",
    "\n",
    "prec_f = partial(solve_precLU, L=L, U=U)\n",
    "d_tol = scipy_validation(A_, b_, prec_f)\n",
    "print(f'PCG: {d_tol}')\n",
    "print(f'NNZ(L) = {L.nnz*100 / L.shape[-1] ** 2:.3f}%')"
   ]
  },
  {
   "cell_type": "code",
   "execution_count": 20,
   "id": "46cc83dd",
   "metadata": {},
   "outputs": [
    {
     "name": "stdout",
     "output_type": "stream",
     "text": [
      "PCG: {'1e-3': 10240, '1e-6': 10240, '1e-12': 10240}\n",
      "NNZ(L) = 0.195%\n"
     ]
    }
   ],
   "source": [
    "L, U = ilupp.ilut(A_, fill_in=2, threshold=1e-4)\n",
    "\n",
    "prec_f = partial(solve_precLU, L=L, U=U)\n",
    "d_tol = scipy_validation(A_, b_, prec_f)\n",
    "print(f'PCG: {d_tol}')\n",
    "print(f'NNZ(L) = {L.nnz*100 / L.shape[-1] ** 2:.3f}%')"
   ]
  },
  {
   "cell_type": "code",
   "execution_count": 21,
   "id": "54b57931",
   "metadata": {},
   "outputs": [
    {
     "name": "stdout",
     "output_type": "stream",
     "text": [
      "PCG: {'1e-3': 10240, '1e-6': 10240, '1e-12': 10240}\n",
      "NNZ(L) = 0.290%\n"
     ]
    }
   ],
   "source": [
    "L, U = ilupp.ilut(A_, fill_in=3, threshold=1e-4)\n",
    "\n",
    "prec_f = partial(solve_precLU, L=L, U=U)\n",
    "d_tol = scipy_validation(A_, b_, prec_f)\n",
    "print(f'PCG: {d_tol}')\n",
    "print(f'NNZ(L) = {L.nnz*100 / L.shape[-1] ** 2:.3f}%')"
   ]
  },
  {
   "cell_type": "code",
   "execution_count": 22,
   "id": "26646856",
   "metadata": {},
   "outputs": [
    {
     "name": "stdout",
     "output_type": "stream",
     "text": [
      "PCG: {'1e-3': 10240, '1e-6': 10240, '1e-12': 10240}\n",
      "NNZ(L) = 0.384%\n"
     ]
    }
   ],
   "source": [
    "L, U = ilupp.ilut(A_, fill_in=4, threshold=1e-4)\n",
    "\n",
    "prec_f = partial(solve_precLU, L=L, U=U)\n",
    "d_tol = scipy_validation(A_, b_, prec_f)\n",
    "print(f'PCG: {d_tol}')\n",
    "print(f'NNZ(L) = {L.nnz*100 / L.shape[-1] ** 2:.3f}%')"
   ]
  },
  {
   "cell_type": "code",
   "execution_count": 23,
   "id": "17b24283",
   "metadata": {},
   "outputs": [
    {
     "name": "stdout",
     "output_type": "stream",
     "text": [
      "PCG: {'1e-3': 24, '1e-6': 37, '1e-12': 73}\n",
      "NNZ(L) = 0.479%\n"
     ]
    }
   ],
   "source": [
    "L, U = ilupp.ilut(A_, fill_in=5, threshold=1e-4)\n",
    "\n",
    "prec_f = partial(solve_precLU, L=L, U=U)\n",
    "d_tol = scipy_validation(A_, b_, prec_f)\n",
    "print(f'PCG: {d_tol}')\n",
    "print(f'NNZ(L) = {L.nnz*100 / L.shape[-1] ** 2:.3f}%')"
   ]
  },
  {
   "cell_type": "code",
   "execution_count": 24,
   "id": "e3423b0a",
   "metadata": {},
   "outputs": [
    {
     "name": "stdout",
     "output_type": "stream",
     "text": [
      "PCG: {'1e-3': 19, '1e-6': 32, '1e-12': 86}\n",
      "NNZ(L) = 0.574%\n"
     ]
    }
   ],
   "source": [
    "L, U = ilupp.ilut(A_, fill_in=6, threshold=1e-4)\n",
    "\n",
    "prec_f = partial(solve_precLU, L=L, U=U)\n",
    "d_tol = scipy_validation(A_, b_, prec_f)\n",
    "print(f'PCG: {d_tol}')\n",
    "print(f'NNZ(L) = {L.nnz*100 / L.shape[-1] ** 2:.3f}%')"
   ]
  },
  {
   "cell_type": "code",
   "execution_count": 25,
   "id": "cc62254c",
   "metadata": {},
   "outputs": [
    {
     "name": "stdout",
     "output_type": "stream",
     "text": [
      "PCG: {'1e-3': 16, '1e-6': 26, '1e-12': 87}\n",
      "NNZ(L) = 0.668%\n"
     ]
    }
   ],
   "source": [
    "L, U = ilupp.ilut(A_, fill_in=7, threshold=1e-4)\n",
    "\n",
    "prec_f = partial(solve_precLU, L=L, U=U)\n",
    "d_tol = scipy_validation(A_, b_, prec_f)\n",
    "print(f'PCG: {d_tol}')\n",
    "print(f'NNZ(L) = {L.nnz*100 / L.shape[-1] ** 2:.3f}%')"
   ]
  },
  {
   "cell_type": "code",
   "execution_count": 26,
   "id": "7b3a22ab",
   "metadata": {},
   "outputs": [
    {
     "name": "stdout",
     "output_type": "stream",
     "text": [
      "PCG: {'1e-3': 11, '1e-6': 17, '1e-12': 33}\n",
      "NNZ(L) = 0.950%\n"
     ]
    }
   ],
   "source": [
    "L, U = ilupp.ilut(A_, fill_in=10, threshold=1e-4)\n",
    "\n",
    "prec_f = partial(solve_precLU, L=L, U=U)\n",
    "d_tol = scipy_validation(A_, b_, prec_f)\n",
    "print(f'PCG: {d_tol}')\n",
    "print(f'NNZ(L) = {L.nnz*100 / L.shape[-1] ** 2:.3f}%')"
   ]
  },
  {
   "cell_type": "code",
   "execution_count": 27,
   "id": "5fd6fc7b",
   "metadata": {},
   "outputs": [
    {
     "name": "stdout",
     "output_type": "stream",
     "text": [
      "PCG: {'1e-3': 7, '1e-6': 10, '1e-12': 18}\n",
      "NNZ(L) = 1.392%\n"
     ]
    }
   ],
   "source": [
    "L, U = ilupp.ilut(A_, fill_in=15, threshold=1e-4)\n",
    "\n",
    "prec_f = partial(solve_precLU, L=L, U=U)\n",
    "d_tol = scipy_validation(A_, b_, prec_f)\n",
    "print(f'PCG: {d_tol}')\n",
    "print(f'NNZ(L) = {L.nnz*100 / L.shape[-1] ** 2:.3f}%')"
   ]
  },
  {
   "cell_type": "code",
   "execution_count": 28,
   "id": "66887fd6",
   "metadata": {},
   "outputs": [
    {
     "name": "stdout",
     "output_type": "stream",
     "text": [
      "PCG: {'1e-3': 5, '1e-6': 7, '1e-12': 12}\n",
      "NNZ(L) = 1.760%\n"
     ]
    }
   ],
   "source": [
    "L, U = ilupp.ilut(A_, fill_in=20, threshold=1e-4)\n",
    "\n",
    "prec_f = partial(solve_precLU, L=L, U=U)\n",
    "d_tol = scipy_validation(A_, b_, prec_f)\n",
    "print(f'PCG: {d_tol}')\n",
    "print(f'NNZ(L) = {L.nnz*100 / L.shape[-1] ** 2:.3f}%')"
   ]
  },
  {
   "cell_type": "code",
   "execution_count": 29,
   "id": "fee97b8e",
   "metadata": {},
   "outputs": [
    {
     "name": "stdout",
     "output_type": "stream",
     "text": [
      "PCG: {'1e-3': 3, '1e-6': 5, '1e-12': 8}\n",
      "NNZ(L) = 2.165%\n"
     ]
    }
   ],
   "source": [
    "L, U = ilupp.ilut(A_, fill_in=30, threshold=1e-4)\n",
    "\n",
    "prec_f = partial(solve_precLU, L=L, U=U)\n",
    "d_tol = scipy_validation(A_, b_, prec_f)\n",
    "print(f'PCG: {d_tol}')\n",
    "print(f'NNZ(L) = {L.nnz*100 / L.shape[-1] ** 2:.3f}%')"
   ]
  },
  {
   "cell_type": "code",
   "execution_count": null,
   "id": "c06213c0",
   "metadata": {},
   "outputs": [],
   "source": []
  }
 ],
 "metadata": {
  "kernelspec": {
   "display_name": "Python 3 (ipykernel)",
   "language": "python",
   "name": "python3"
  },
  "language_info": {
   "codemirror_mode": {
    "name": "ipython",
    "version": 3
   },
   "file_extension": ".py",
   "mimetype": "text/x-python",
   "name": "python",
   "nbconvert_exporter": "python",
   "pygments_lexer": "ipython3",
   "version": "3.10.6"
  }
 },
 "nbformat": 4,
 "nbformat_minor": 5
}
