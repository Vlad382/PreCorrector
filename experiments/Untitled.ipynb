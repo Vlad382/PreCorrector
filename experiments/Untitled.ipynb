{
 "cells": [
  {
   "cell_type": "code",
   "execution_count": 1,
   "id": "c99fe2c4",
   "metadata": {},
   "outputs": [],
   "source": [
    "name = 'check_rebuilt_code_dkg128'\n",
    "seed = 42\n",
    "path = '/mnt/local/data/vtrifonov/prec-learning-Notay-loss/'\n",
    "cuda_num = '3'"
   ]
  },
  {
   "cell_type": "code",
   "execution_count": 2,
   "id": "247ed796",
   "metadata": {},
   "outputs": [],
   "source": [
    "import sys\n",
    "import os\n",
    "os.environ[\"CUDA_VISIBLE_DEVICES\"] = cuda_num\n",
    "os.environ['XLA_PYTHON_CLIENT_MEM_FRACTION'] = '.95'\n",
    "sys.path.append(path)"
   ]
  },
  {
   "cell_type": "code",
   "execution_count": 3,
   "id": "aaf3ea13",
   "metadata": {},
   "outputs": [],
   "source": [
    "import logging\n",
    "import getpass\n",
    "from time import perf_counter\n",
    "\n",
    "import optax\n",
    "from jax import random, vmap, numpy as jnp\n",
    "\n",
    "import matplotlib.pyplot as plt\n",
    "\n",
    "from data.dataset import load_dataset\n",
    "from data.graph_utils import spmatrix_to_graph\n",
    "from config import default_precorrector_config\n",
    "from scipy_linsolve import make_Chol_prec_from_bcoo, batched_cg_scipy\n",
    "from train import construction_time_with_gnn, train_inference_finetune, make_PreCorrector"
   ]
  },
  {
   "cell_type": "code",
   "execution_count": 4,
   "id": "2d55ab3d",
   "metadata": {},
   "outputs": [
    {
     "name": "stderr",
     "output_type": "stream",
     "text": [
      "2025-01-15 09:19:44.123851: W external/xla/xla/service/gpu/nvptx_compiler.cc:760] The NVIDIA driver's CUDA version is 12.4 which is older than the ptxas CUDA version (12.5.40). Because the driver is older than the ptxas version, XLA is disabling parallel compilation, which may slow down compilation. You should update your NVIDIA driver or use the NVIDIA-provided CUDA forward compatibility packages.\n"
     ]
    }
   ],
   "source": [
    "key = random.PRNGKey(seed)"
   ]
  },
  {
   "cell_type": "code",
   "execution_count": 5,
   "id": "be926f62",
   "metadata": {},
   "outputs": [],
   "source": [
    "config = {\n",
    "    'model_path': os.path.join(path, 'trained_models', name+'.eqx'), \n",
    "    'model_use': 'fine-tune',\n",
    "    'save_model': True,\n",
    "    'cg_maxiter': 50,\n",
    "    'cg_atol': 1e-9\n",
    "}\n",
    "\n",
    "data_config = {\n",
    "    'data_dir': path,\n",
    "    'pde': 'div_k_grad',\n",
    "    'grid': 128,\n",
    "    'variance': .1,\n",
    "    'lhs_type': 'l_ic0',\n",
    "    'N_samples_train': 1000,\n",
    "    'N_samples_test': 200,\n",
    "    'precision': 'f64',\n",
    "    'fill_factor': '-',\n",
    "    'threshold': '-'\n",
    "}\n",
    "\n",
    "model_config = default_precorrector_config\n",
    "\n",
    "train_config = {\n",
    "    'loss_type': 'low_freq_loss',\n",
    "    'model_type': 'precorrector',\n",
    "    'batch_size': 8,\n",
    "    'optimizer': optax.adam,\n",
    "    'lr': 1e-3,\n",
    "    'optim_params': {},\n",
    "    'epoch_num': 5\n",
    "}\n",
    "\n",
    "assert os.path.isdir(path) and os.path.isdir(os.path.join(path, 'trained_models'))"
   ]
  },
  {
   "cell_type": "code",
   "execution_count": 6,
   "id": "2bd192e4",
   "metadata": {},
   "outputs": [
    {
     "name": "stderr",
     "output_type": "stream",
     "text": [
      "[INFO | root | 2025-01-15 09:19:44] - %%%%%%%%%%%%%%%%%%%%%%%%%%%%%%%%%%%%%%%%%%%%%%%%%%%%%%%%%%%%%%%%%\n",
      "[INFO | root | 2025-01-15 09:19:44] - Script \"check_rebuilt_code_dkg128\" started execution.\n"
     ]
    }
   ],
   "source": [
    "log_filename = os.path.join(path, 'trained_models', name+'.log')\n",
    "\n",
    "logging.basicConfig(\n",
    "    level = logging.INFO,\n",
    "    format = '[%(levelname)s | ' + getpass.getuser() + ' | %(asctime)s] - %(message)s',\n",
    "    force = True,\n",
    "    datefmt = \"%Y-%m-%d %H:%M:%S\",\n",
    "    handlers = [logging.FileHandler(log_filename, \"a\", \"utf-8\"),\n",
    "                logging.StreamHandler()]\n",
    ")\n",
    "logging.captureWarnings(True)\n",
    "logging.info('%%%%%%%%%%%%%%%%%%%%%%%%%%%%%%%%%%%%%%%%%%%%%%%%%%%%%%%%%%%%%%%%%')\n",
    "logging.info(f'Script with model \"{name}\" started execution.')"
   ]
  },
  {
   "cell_type": "code",
   "execution_count": 7,
   "id": "4aca78a7",
   "metadata": {},
   "outputs": [
    {
     "name": "stderr",
     "output_type": "stream",
     "text": [
      "[INFO | root | 2025-01-15 09:19:44] - Input arguments: name = check_rebuilt_code_dkg128, path = /mnt/local/data/vtrifonov/prec-learning-Notay-loss/, seed = 42, cuda_num = 3.\n",
      "\n"
     ]
    }
   ],
   "source": [
    "logging.info(f'Input arguments: name = {name}, path = {path}, seed = {seed}, cuda_num = {cuda_num}.\\n')"
   ]
  },
  {
   "cell_type": "code",
   "execution_count": 8,
   "id": "2c1951bb",
   "metadata": {},
   "outputs": [
    {
     "name": "stderr",
     "output_type": "stream",
     "text": [
      "[INFO | root | 2025-01-15 09:19:44] - Configs:\n",
      "[INFO | root | 2025-01-15 09:19:44] -   config: {'model_path': '/mnt/local/data/vtrifonov/prec-learning-Notay-loss/trained_models/check_rebuilt_code_dkg128.eqx', 'model_use': 'fine-tune', 'save_model': True, 'cg_maxiter': 50, 'cg_atol': 1e-09};\n",
      "[INFO | root | 2025-01-15 09:19:44] -   data_config: {'data_dir': '/mnt/local/data/vtrifonov/prec-learning-Notay-loss/', 'pde': 'div_k_grad', 'grid': 128, 'variance': 0.1, 'lhs_type': 'l_ic0', 'N_samples_train': 1000, 'N_samples_test': 200, 'precision': 'f64', 'fill_factor': '-', 'threshold': '-'};\n",
      "[INFO | root | 2025-01-15 09:19:44] -   model_config: {'layer_type': 'Conv1d', 'alpha': 0.0, 'edge_enc': {'features': [1, 16, 16], 'N_layers': 2}, 'edge_dec': {'features': [16, 16, 1], 'N_layers': 2}, 'mp': {'edge_upd': {'features': [18, 16, 16], 'N_layers': 2}, 'node_upd': {'features': [17, 1, 1], 'N_layers': 2}, 'mp_rounds': 5}};\n",
      "[INFO | root | 2025-01-15 09:19:44] -   train_config: {'loss_type': 'low_freq_loss', 'model_type': 'precorrector', 'batch_size': 8, 'optimizer': <function adam at 0x7f805285ed40>, 'lr': 0.001, 'optim_params': {}, 'epoch_num': 5}.\n",
      "\n"
     ]
    }
   ],
   "source": [
    "logging.info('Configs:')\n",
    "logging.info('  config: %s;', config)\n",
    "logging.info('  data_config: %s;', data_config)\n",
    "logging.info('  model_config: %s;', model_config)\n",
    "logging.info('  train_config: %s.\\n', train_config)"
   ]
  },
  {
   "cell_type": "code",
   "execution_count": 9,
   "id": "7aa9b1cd",
   "metadata": {},
   "outputs": [
    {
     "name": "stderr",
     "output_type": "stream",
     "text": [
      "[INFO | root | 2025-01-15 09:20:14] - Data is generated in 2.931075e+01 sec.\n"
     ]
    }
   ],
   "source": [
    "try:\n",
    "    s = perf_counter()\n",
    "    train_set = load_dataset(data_config, return_train=True)\n",
    "    A_train, A_pad_train, b_train, bi_edges_train, x_train, ic_time_mean_train, ic_time_std_train = train_set\n",
    "\n",
    "    test_set = load_dataset(data_config, return_train=False)\n",
    "    A_test, A_pad_test, b_test, bi_edges_test, x_test, ic_time_mean_test, ic_time_std_test = test_set\n",
    "\n",
    "    data = (\n",
    "        [A_train, A_pad_train, b_train, bi_edges_train, x_train],\n",
    "        [A_test, A_pad_test, b_test, bi_edges_test, x_test]\n",
    "    )\n",
    "    data_time = perf_counter() - s\n",
    "    logging.info(f'Data is generated in {data_time:.3e} sec.\\n')\n",
    "except Exception as e:\n",
    "    logging.critical(f'Script failed on data generation.\\n\\n\\n')"
   ]
  },
  {
   "cell_type": "code",
   "execution_count": 10,
   "id": "6f37c92a",
   "metadata": {},
   "outputs": [
    {
     "name": "stderr",
     "output_type": "stream",
     "text": [
      "[WARNING | root | 2025-01-15 09:20:16] - /mnt/local/data/vtrifonov/prec-learning-Notay-loss/train.py:29: UserWarning: Path leads to a trained model. It will be overwritten.\n",
      "  warnings.warn('Path leads to a trained model. It will be overwritten.')\n",
      "\n",
      "[INFO | root | 2025-01-15 09:20:41] - Model is trained in 2.723745e+01 sec.\n",
      "\n",
      "[INFO | root | 2025-01-15 09:20:41] - First and last losses: train = [1.599e+03, 1.589e+03], test = [1.615e+03, 1.601e+03]\n"
     ]
    }
   ],
   "source": [
    "try:\n",
    "    s = perf_counter()\n",
    "    model, losses, _ = train_inference_finetune(key, data, make_PreCorrector, model_config,\n",
    "                                                train_config, model_path=config['model_path'],\n",
    "                                                model_use=config['model_use'], save_model=config['save_model'])\n",
    "    training_time = perf_counter() - s\n",
    "    logging.info(f'Model is trained in {training_time:.3e} sec.')\n",
    "    logging.info(f'First and last losses: train = [{losses[0][0]:.3e}, {losses[0][-1]:.3e}], test = [{losses[1][0]:.3e}, {losses[1][-1]:.3e}]\\n.')\n",
    "except Exception as e:\n",
    "    logging.critical(f'Script failed on model training.\\n\\n\\n')"
   ]
  },
  {
   "cell_type": "code",
   "execution_count": 11,
   "id": "4b72bc68",
   "metadata": {},
   "outputs": [
    {
     "data": {
      "image/png": "[encoded data removed]",
      "text/plain": [
       "<Figure size 640x480 with 1 Axes>"
      ]
     },
     "metadata": {},
     "output_type": "display_data"
    }
   ],
   "source": [
    "plt.plot(range(len(losses[0])), losses[1], label='Test')\n",
    "plt.plot(range(len(losses[0])), losses[0], label='Train')\n",
    "plt.legend()\n",
    "plt.yscale('log')\n",
    "plt.xlabel('Epoch')\n",
    "plt.ylabel('Loss')\n",
    "plt.grid()\n",
    "plt.tight_layout();"
   ]
  },
  {
   "cell_type": "code",
   "execution_count": 12,
   "id": "95c5e319",
   "metadata": {},
   "outputs": [
    {
     "name": "stderr",
     "output_type": "stream",
     "text": [
      "[INFO | root | 2025-01-15 09:20:55] - Precs are combined:\n",
      "[INFO | root | 2025-01-15 09:20:55] -  classical prec construction time (sec) : mean = 5.993217e-04, std = 4.414463e-05;\n",
      "[INFO | root | 2025-01-15 09:20:55] -  GNN prec construction time (sec) : mean = 9.848890e-04, std = 9.203973e-05.\n",
      "\n"
     ]
    }
   ],
   "source": [
    "try:\n",
    "    time_gnn_mean, time_gnn_std = construction_time_with_gnn(model, A_test[0, ...], A_pad_test[0, ...], b_test[0, ...],\n",
    "                                                             bi_edges_test[0, ...], num_rounds=A_test.shape[0],\n",
    "                                                             pre_time_ic=ic_time_mean_test)\n",
    "    L = vmap(model, in_axes=(0), out_axes=(0))(spmatrix_to_graph(A_pad_test, b_test))\n",
    "    P = make_Chol_prec_from_bcoo(L)\n",
    "    P_ic0 = make_Chol_prec_from_bcoo(A_pad_test)\n",
    "    \n",
    "    logging.info(f'Precs are combined:')\n",
    "    logging.info(f' classical prec construction time (sec) : mean = {ic_time_mean_test:.3e}, std = {ic_time_std_test:.3e};')\n",
    "    logging.info(f' GNN prec construction time (sec) : mean = {time_gnn_mean:.3e}, std = {time_gnn_std:.3e}.\\n')\n",
    "except Exception as e:\n",
    "    logging.critical(f'Script failed on precs combination.\\n\\n\\n')"
   ]
  },
  {
   "cell_type": "code",
   "execution_count": 13,
   "id": "c1f1bb2c",
   "metadata": {},
   "outputs": [
    {
     "name": "stderr",
     "output_type": "stream",
     "text": [
      "[WARNING | root | 2025-01-15 09:22:19] - /mnt/local/data/vtrifonov/prec-learning-Notay-loss/scipy_linsolve.py:37: RuntimeWarning: Mean of empty slice\n",
      "  np.round(np.nanmean(iter_time_per_res[:, j, 0]), 1),\n",
      "\n",
      "[WARNING | root | 2025-01-15 09:22:19] - /usr/local/lib/python3.10/dist-packages/numpy/lib/nanfunctions.py:1872: RuntimeWarning: Degrees of freedom <= 0 for slice.\n",
      "  var = nanvar(a, axis=axis, dtype=dtype, out=out, ddof=ddof,\n",
      "\n",
      "[WARNING | root | 2025-01-15 09:22:19] - /mnt/local/data/vtrifonov/prec-learning-Notay-loss/scipy_linsolve.py:41: RuntimeWarning: Mean of empty slice\n",
      "  np.round(np.nanmean(iter_time_per_res[:, j, 1]), 4),\n",
      "\n",
      "[INFO | root | 2025-01-15 09:22:19] - CG with GNN is finished:\n",
      "[INFO | root | 2025-01-15 09:22:19] -  iterations to atol([mean, std]): {0.001: [nan, nan], 1e-06: [nan, nan], 1e-09: [nan, nan], 1e-12: [nan, nan]};\n",
      "[INFO | root | 2025-01-15 09:22:19] -  time to atol([mean, std]): {0.001: [nan, nan], 1e-06: [nan, nan], 1e-09: [nan, nan], 1e-12: [nan, nan]};\n",
      "[INFO | root | 2025-01-15 09:22:19] -  number of linsystems for which CG did not conerge to atol: {0.001: [nan, nan], 1e-06: [nan, nan], 1e-09: [nan, nan], 1e-12: [nan, nan]}.\n",
      "\n"
     ]
    }
   ],
   "source": [
    "try:\n",
    "    iters_stats, time_stats, nan_flag = batched_cg_scipy(A_test, b_test, time_gnn_mean, 'random',\n",
    "                                                         key, P, config['cg_atol'],\n",
    "                                                         config['cg_maxiter'], thresholds=[1e-3, 1e-6, 1e-9, 1e-12])\n",
    "    logging.info('CG with GNN is finished:')\n",
    "    logging.info(f' iterations to atol([mean, std]): %s;', iters_stats)\n",
    "    logging.info(f' time to atol([mean, std]): %s;', time_stats)\n",
    "    logging.info(f' number of linsystems for which CG did not conerge to atol: %s.\\n', time_stats)\n",
    "except Exception as e:\n",
    "    logging.critical(f'Script failed on CG with GNN.\\n\\n\\n')"
   ]
  },
  {
   "cell_type": "code",
   "execution_count": 14,
   "id": "b83b312f",
   "metadata": {},
   "outputs": [
    {
     "name": "stderr",
     "output_type": "stream",
     "text": [
      "[INFO | root | 2025-01-15 09:23:42] - CG with classical prec is finished:\n",
      "[INFO | root | 2025-01-15 09:23:42] -  iterations to atol([mean, std]): {0.001: [nan, nan], 1e-06: [nan, nan], 1e-09: [nan, nan], 1e-12: [nan, nan]};\n",
      "[INFO | root | 2025-01-15 09:23:42] -  time to atol([mean, std]): {0.001: [nan, nan], 1e-06: [nan, nan], 1e-09: [nan, nan], 1e-12: [nan, nan]};\n",
      "[INFO | root | 2025-01-15 09:23:42] -  number of linsystems for which CG did not conerge to atol: {0.001: [nan, nan], 1e-06: [nan, nan], 1e-09: [nan, nan], 1e-12: [nan, nan]}.\n",
      "\n"
     ]
    }
   ],
   "source": [
    "try:\n",
    "    iters_stats_ic0, time_stats_ic0, nan_flag_ic0 = batched_cg_scipy(A_test, b_test, ic_time_mean_test, 'random',\n",
    "                                                                     key, P_ic0, config['cg_atol'],\n",
    "                                                                     config['cg_maxiter'], thresholds=[1e-3, 1e-6, 1e-9, 1e-12])\n",
    "    logging.info('CG with classical prec is finished:')\n",
    "    logging.info(f' iterations to atol([mean, std]): %s;', iters_stats)\n",
    "    logging.info(f' time to atol([mean, std]): %s;', time_stats)\n",
    "    logging.info(f' number of linsystems for which CG did not conerge to atol: %s.\\n', time_stats)\n",
    "except Exception as e:\n",
    "    logging.critical(f'Script failed on CG with classical prec.\\n\\n\\n')"
   ]
  },
  {
   "cell_type": "code",
   "execution_count": 15,
   "id": "1008beb6",
   "metadata": {},
   "outputs": [
    {
     "name": "stderr",
     "output_type": "stream",
     "text": [
      "[INFO | root | 2025-01-15 09:23:42] - Script \"check_rebuilt_code_dkg128\" finished execution.\n",
      "\n",
      "\n",
      "\n"
     ]
    }
   ],
   "source": [
    "logging.info(f'Script with model \"{name}\" finished execution.\\n\\n\\n')"
   ]
  },
  {
   "cell_type": "code",
   "execution_count": null,
   "id": "ff716c72",
   "metadata": {},
   "outputs": [],
   "source": []
  }
 ],
 "metadata": {
  "kernelspec": {
   "display_name": "Python 3 (ipykernel)",
   "language": "python",
   "name": "python3"
  },
  "language_info": {
   "codemirror_mode": {
    "name": "ipython",
    "version": 3
   },
   "file_extension": ".py",
   "mimetype": "text/x-python",
   "name": "python",
   "nbconvert_exporter": "python",
   "pygments_lexer": "ipython3",
   "version": "3.10.6"
  }
 },
 "nbformat": 4,
 "nbformat_minor": 5
}
