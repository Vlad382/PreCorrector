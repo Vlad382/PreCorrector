{
 "cells": [
  {
   "cell_type": "code",
   "execution_count": 1,
   "id": "4b732e44",
   "metadata": {},
   "outputs": [],
   "source": [
    "import sys\n",
    "import os\n",
    "os.environ[\"CUDA_VISIBLE_DEVICES\"] = '3'\n",
    "os.environ['XLA_PYTHON_CLIENT_MEM_FRACTION'] = '.95'\n",
    "sys.path.append('/mnt/local/data/vtrifonov/prec-learning-Notay-loss/')"
   ]
  },
  {
   "cell_type": "code",
   "execution_count": 2,
   "id": "24b7ce12",
   "metadata": {},
   "outputs": [],
   "source": [
    "import optax\n",
    "from jax import random, vmap, numpy as jnp\n",
    "\n",
    "import matplotlib.pyplot as plt\n",
    "\n",
    "from data.dataset import load_dataset\n",
    "from data.graph_utils import spmatrix_to_graph\n",
    "from config import default_precorrector_config\n",
    "from scipy_linsolve import make_Chol_prec_from_bcoo, batched_cg_scipy\n",
    "from train import construction_time_with_gnn, train_inference_finetune, make_PreCorrector"
   ]
  },
  {
   "cell_type": "code",
   "execution_count": 3,
   "id": "de48cc80",
   "metadata": {},
   "outputs": [
    {
     "name": "stderr",
     "output_type": "stream",
     "text": [
      "2025-01-14 16:55:26.664891: W external/xla/xla/service/gpu/nvptx_compiler.cc:760] The NVIDIA driver's CUDA version is 12.4 which is older than the ptxas CUDA version (12.5.40). Because the driver is older than the ptxas version, XLA is disabling parallel compilation, which may slow down compilation. You should update your NVIDIA driver or use the NVIDIA-provided CUDA forward compatibility packages.\n"
     ]
    }
   ],
   "source": [
    "jnp.ones(1);"
   ]
  },
  {
   "cell_type": "code",
   "execution_count": 4,
   "id": "4239f08f",
   "metadata": {},
   "outputs": [],
   "source": [
    "path = '/mnt/local/data/vtrifonov/prec-learning-Notay-loss/'\n",
    "trained_models_path = os.path.join(path, 'trained_models')\n",
    "name = 'check_rebuilt_code.eqx'\n",
    "key = random.PRNGKey(42)"
   ]
  },
  {
   "cell_type": "code",
   "execution_count": 5,
   "id": "bf38fdf8",
   "metadata": {},
   "outputs": [],
   "source": [
    "config = {\n",
    "    'model_path': os.path.join(trained_models_path, name), \n",
    "    'model_use': 'train',\n",
    "    'load_model': False,\n",
    "    'save_model': True,\n",
    "    'cg_maxiter': 100,\n",
    "    'cg_atol': 1e-12\n",
    "}\n",
    "\n",
    "data_config = {\n",
    "    'data_dir': path,\n",
    "    'pde': 'div_k_grad',\n",
    "    'grid': 64,\n",
    "    'variance': .5,\n",
    "    'lhs_type': 'l_ic0',\n",
    "    'N_samples_train': 1000,\n",
    "    'N_samples_test': 200,\n",
    "    'precision': 'f64',\n",
    "    'fill_factor': '-',\n",
    "    'threshold': '-'\n",
    "}\n",
    "\n",
    "model_config = default_precorrector_config\n",
    "\n",
    "train_config = {\n",
    "    'loss_type': 'low_freq_loss',\n",
    "    'model_type': 'precorrector',\n",
    "    'batch_size': 8,\n",
    "    'optimizer': optax.adam,\n",
    "    'lr': 1e-3,\n",
    "    'optim_params': {},\n",
    "    'epoch_num': 500\n",
    "}"
   ]
  },
  {
   "cell_type": "code",
   "execution_count": 6,
   "id": "86854fbe",
   "metadata": {},
   "outputs": [],
   "source": [
    "train_set = load_dataset(data_config, return_train=True)\n",
    "A_train, A_pad_train, b_train, bi_edges_train, x_train, ic_time_mean_train, ic_time_std_train = train_set\n",
    "\n",
    "test_set = load_dataset(data_config, return_train=False)\n",
    "A_test, A_pad_test, b_test, bi_edges_test, x_test, ic_time_mean_test, ic_time_std_test = test_set\n",
    "\n",
    "data = (\n",
    "    [A_train, A_pad_train, b_train, bi_edges_train, x_train],\n",
    "    [A_test, A_pad_test, b_test, bi_edges_test, x_test]\n",
    ")"
   ]
  },
  {
   "cell_type": "code",
   "execution_count": 7,
   "id": "e7b0a886",
   "metadata": {},
   "outputs": [
    {
     "data": {
      "text/plain": [
       "(0.0002247583121061325, 1.5181316288411205e-05)"
      ]
     },
     "execution_count": 7,
     "metadata": {},
     "output_type": "execute_result"
    }
   ],
   "source": [
    "ic_time_mean_test, ic_time_std_test"
   ]
  },
  {
   "cell_type": "code",
   "execution_count": 8,
   "id": "e97cb116",
   "metadata": {},
   "outputs": [
    {
     "name": "stderr",
     "output_type": "stream",
     "text": [
      "/mnt/local/data/vtrifonov/prec-learning-Notay-loss/train.py:29: UserWarning: Path leads to a trained model. It will be overwritten.\n",
      "  warnings.warn('Path leads to a trained model. It will be overwritten.')\n"
     ]
    }
   ],
   "source": [
    "model, losses, _ = train_inference_finetune(key, data, make_PreCorrector, model_config, train_config,\n",
    "                                            model_path=config['model_path'], model_use=config['model_use'],\n",
    "                                            load_model=config['load_model'], save_model=config['save_model'])"
   ]
  },
  {
   "cell_type": "code",
   "execution_count": 9,
   "id": "ff218e0b",
   "metadata": {},
   "outputs": [
    {
     "data": {
      "image/png": "[encoded data removed]",
      "text/plain": [
       "<Figure size 640x480 with 1 Axes>"
      ]
     },
     "metadata": {},
     "output_type": "display_data"
    }
   ],
   "source": [
    "plt.plot(range(len(losses[0])), losses[1], label='Test')\n",
    "plt.plot(range(len(losses[0])), losses[0], label='Train')\n",
    "plt.legend()\n",
    "plt.yscale('log')\n",
    "plt.xlabel('Epoch')\n",
    "plt.ylabel('Loss')\n",
    "plt.grid()\n",
    "plt.tight_layout();"
   ]
  },
  {
   "cell_type": "code",
   "execution_count": 10,
   "id": "4c9df1d4",
   "metadata": {},
   "outputs": [],
   "source": [
    "time_gnn_mean, time_gnn_std = construction_time_with_gnn(model, A_test[0, ...], A_pad_test[0, ...], b_test[0, ...],\n",
    "                                                         bi_edges_test[0, ...], num_rounds=A_test.shape[0],\n",
    "                                                         pre_time_ic=ic_time_mean_test)"
   ]
  },
  {
   "cell_type": "code",
   "execution_count": 11,
   "id": "243356e2",
   "metadata": {},
   "outputs": [
    {
     "data": {
      "text/plain": [
       "(0.0004340565763413907, 7.582414838607467e-06)"
      ]
     },
     "execution_count": 11,
     "metadata": {},
     "output_type": "execute_result"
    }
   ],
   "source": [
    "time_gnn_mean, time_gnn_std"
   ]
  },
  {
   "cell_type": "code",
   "execution_count": 12,
   "id": "dbd6dac8",
   "metadata": {},
   "outputs": [],
   "source": [
    "L = vmap(model, in_axes=(0), out_axes=(0))(spmatrix_to_graph(A_pad_test, b_test))\n",
    "P = make_Chol_prec_from_bcoo(L)"
   ]
  },
  {
   "cell_type": "code",
   "execution_count": 13,
   "id": "a1ef493b",
   "metadata": {},
   "outputs": [
    {
     "name": "stdout",
     "output_type": "stream",
     "text": [
      "[[[2.60000000e+01 5.76046526e-02]\n",
      "  [3.80000000e+01 8.34217078e-02]\n",
      "  [4.90000000e+01 1.07626469e-01]\n",
      "  [6.00000000e+01 1.31433115e-01]]\n",
      "\n",
      " [[2.70000000e+01 5.99176778e-02]\n",
      "  [3.80000000e+01 8.37716728e-02]\n",
      "  [4.90000000e+01 1.07687608e-01]\n",
      "  [5.90000000e+01 1.29386482e-01]]\n",
      "\n",
      " [[2.50000000e+01 5.55807806e-02]\n",
      "  [3.70000000e+01 8.18192481e-02]\n",
      "  [4.90000000e+01 1.07925837e-01]\n",
      "  [6.00000000e+01 1.31714129e-01]]\n",
      "\n",
      " ...\n",
      "\n",
      " [[2.60000000e+01 5.74367165e-02]\n",
      "  [3.90000000e+01 8.54048437e-02]\n",
      "  [4.90000000e+01 1.06988751e-01]\n",
      "  [5.90000000e+01 1.28490892e-01]]\n",
      "\n",
      " [[2.50000000e+01 5.49534268e-02]\n",
      "  [3.80000000e+01 8.29893171e-02]\n",
      "  [4.90000000e+01 1.06754471e-01]\n",
      "  [5.90000000e+01 1.28222459e-01]]\n",
      "\n",
      " [[2.90000000e+01 6.38876787e-02]\n",
      "  [4.10000000e+01 8.96749652e-02]\n",
      "  [5.30000000e+01 1.15505290e-01]\n",
      "  [6.30000000e+01 1.36964299e-01]]]\n"
     ]
    }
   ],
   "source": [
    "iters_mean, iters_std, time_mean, time_std, nan_flag = batched_cg_scipy(A_test, b_test, time_gnn_mean,\n",
    "                                                                        P, config['cg_atol'], config['cg_maxiter'],\n",
    "                                                                        thresholds=[1e-3, 1e-6, 1e-9, 1e-12])"
   ]
  },
  {
   "cell_type": "code",
   "execution_count": 14,
   "id": "3b973ace",
   "metadata": {},
   "outputs": [
    {
     "data": {
      "text/plain": [
       "({0.001: 26.44, 1e-06: 38.8, 1e-09: 49.58, 1e-12: 59.895},\n",
       " {0.001: 1.538310761842353,\n",
       "  1e-06: 1.797220075561143,\n",
       "  1e-09: 2.0575713839378693,\n",
       "  1e-12: 2.189514786431003},\n",
       " {0.001: 0.05860307909548283,\n",
       "  1e-06: 0.08535072511062029,\n",
       "  1e-09: 0.10867580430582169,\n",
       "  1e-12: 0.13099071655422453},\n",
       " {0.001: 0.0034611204877787183,\n",
       "  1e-06: 0.0040765057941836895,\n",
       "  1e-09: 0.004654597643767466,\n",
       "  1e-12: 0.00492403998613049},\n",
       " {0.001: 0, 1e-06: 0, 1e-09: 0, 1e-12: 0})"
      ]
     },
     "execution_count": 14,
     "metadata": {},
     "output_type": "execute_result"
    }
   ],
   "source": [
    "iters_mean, iters_std, time_mean, time_std, nan_flag"
   ]
  },
  {
   "cell_type": "code",
   "execution_count": 15,
   "id": "5b4097b9",
   "metadata": {},
   "outputs": [
    {
     "ename": "AssertionError",
     "evalue": "",
     "output_type": "error",
     "traceback": [
      "\u001b[0;31m---------------------------------------------------------------------------\u001b[0m",
      "\u001b[0;31mAssertionError\u001b[0m                            Traceback (most recent call last)",
      "Cell \u001b[0;32mIn[15], line 1\u001b[0m\n\u001b[0;32m----> 1\u001b[0m \u001b[38;5;28;01massert\u001b[39;00m \u001b[38;5;28;01mFalse\u001b[39;00m\n",
      "\u001b[0;31mAssertionError\u001b[0m: "
     ]
    }
   ],
   "source": [
    "assert False"
   ]
  },
  {
   "cell_type": "code",
   "execution_count": null,
   "id": "66a3ac89",
   "metadata": {},
   "outputs": [],
   "source": []
  },
  {
   "cell_type": "code",
   "execution_count": null,
   "id": "4fe1d65b",
   "metadata": {},
   "outputs": [],
   "source": []
  },
  {
   "cell_type": "code",
   "execution_count": null,
   "id": "848a7af8",
   "metadata": {},
   "outputs": [],
   "source": [
    "iters_mean, iters_std, time_mean, time_std, nan_flag = batched_cg_scipy(A_test, b_test, time_gnn_mean,\n",
    "                                                                        None, config['cg_atol'], 400,\n",
    "                                                                        thresholds=[1e-3, 1e-6, 1e-9, 1e-12])"
   ]
  },
  {
   "cell_type": "code",
   "execution_count": null,
   "id": "3506d9d0",
   "metadata": {},
   "outputs": [],
   "source": [
    "iters_mean, iters_std, time_mean, time_std, nan_flag"
   ]
  },
  {
   "cell_type": "code",
   "execution_count": null,
   "id": "4a3d7388",
   "metadata": {},
   "outputs": [],
   "source": [
    "from time import perf_counter\n",
    "import numpy as np\n",
    "import inspect\n",
    "from utils import jBCOO_to_scipyCSR\n",
    "from scipy.sparse.linalg import LinearOperator, cg, spsolve_triangular\n",
    "\n",
    "\n",
    "def cg_scipy(A, b, P, atol, maxiter):\n",
    "    res_nonlocal = []\n",
    "    time_per_iter = []\n",
    "    def residuals_callback(xk):\n",
    "        nonlocal res_nonlocal, time_per_iter\n",
    "        time_per_iter.append(perf_counter())\n",
    "        peek = inspect.currentframe().f_back\n",
    "        res_nonlocal.append(np.linalg.norm(peek.f_locals['r']))\n",
    "    \n",
    "    x0 = None # Initialization with zero vector. Always x0 = None\n",
    "    t_start = perf_counter()\n",
    "    solution, info = cg(A, np.array(b, dtype=np.float64), M=P, callback=residuals_callback,\n",
    "                        rtol=0, atol=atol, maxiter=maxiter, x0=x0)\n",
    "\n",
    "    res_nonlocal = np.array(res_nonlocal)\n",
    "    time_per_iter = np.array(time_per_iter) - t_start\n",
    "    return solution, res_nonlocal, time_per_iter"
   ]
  },
  {
   "cell_type": "code",
   "execution_count": null,
   "id": "4603313b",
   "metadata": {},
   "outputs": [],
   "source": [
    "sol, res_, time_ = cg_scipy(jBCOO_to_scipyCSR(A_test[0, ...]), np.asarray(b_test[0, ...]), None, config['cg_atol'], 400)"
   ]
  },
  {
   "cell_type": "code",
   "execution_count": null,
   "id": "52e8c6ed",
   "metadata": {},
   "outputs": [],
   "source": [
    "res_.shape, res_[-10:]"
   ]
  },
  {
   "cell_type": "code",
   "execution_count": null,
   "id": "acd2a711",
   "metadata": {},
   "outputs": [],
   "source": [
    "sol, res_, time_ = cg_scipy(jBCOO_to_scipyCSR(A_test[0, ...]), np.asarray(b_test[0, ...]), P[0], config['cg_atol'], 400)"
   ]
  },
  {
   "cell_type": "code",
   "execution_count": null,
   "id": "7b5fc993",
   "metadata": {},
   "outputs": [],
   "source": [
    "res_.shape, res_[-10:]"
   ]
  },
  {
   "cell_type": "code",
   "execution_count": null,
   "id": "16fe91be",
   "metadata": {},
   "outputs": [],
   "source": [
    "np.where(res_ <= 1e-3)[0][0]"
   ]
  },
  {
   "cell_type": "code",
   "execution_count": null,
   "id": "f6d84cc7",
   "metadata": {},
   "outputs": [],
   "source": [
    "time_[25]"
   ]
  },
  {
   "cell_type": "code",
   "execution_count": null,
   "id": "73593c1d",
   "metadata": {},
   "outputs": [],
   "source": [
    "np.where(res_ <= 1e-3)[0][0] + 1, time_[25] + ic_time_mean_test"
   ]
  },
  {
   "cell_type": "code",
   "execution_count": null,
   "id": "f65710df",
   "metadata": {},
   "outputs": [],
   "source": [
    "np.nanmean(np.where(res_ <= 1e-3)[0][0] + 1), np.nanmean(time_[25] + ic_time_mean_test)\n"
   ]
  },
  {
   "cell_type": "code",
   "execution_count": null,
   "id": "3db0a326",
   "metadata": {},
   "outputs": [],
   "source": []
  }
 ],
 "metadata": {
  "kernelspec": {
   "display_name": "Python 3 (ipykernel)",
   "language": "python",
   "name": "python3"
  },
  "language_info": {
   "codemirror_mode": {
    "name": "ipython",
    "version": 3
   },
   "file_extension": ".py",
   "mimetype": "text/x-python",
   "name": "python",
   "nbconvert_exporter": "python",
   "pygments_lexer": "ipython3",
   "version": "3.10.6"
  }
 },
 "nbformat": 4,
 "nbformat_minor": 5
}
