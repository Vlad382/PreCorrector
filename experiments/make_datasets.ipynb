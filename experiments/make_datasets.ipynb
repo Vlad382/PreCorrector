{
 "cells": [
  {
   "cell_type": "code",
   "execution_count": 3,
   "id": "f95d50d6",
   "metadata": {},
   "outputs": [],
   "source": [
    "import warnings\n",
    "import sys\n",
    "import os\n",
    "\n",
    "warnings.filterwarnings('ignore')\n",
    "os.environ[\"CUDA_VISIBLE_DEVICES\"] = ''\n",
    "os.environ['XLA_PYTHON_CLIENT_MEM_FRACTION'] = '.95'\n",
    "sys.path.append('/mnt/local/data/vtrifonov/prec-learning-Notay-loss/')"
   ]
  },
  {
   "cell_type": "code",
   "execution_count": 4,
   "id": "743e4923",
   "metadata": {},
   "outputs": [],
   "source": [
    "import jax.numpy as jnp\n",
    "from jax import random, vmap\n",
    "from jax.experimental import sparse as jsparse\n",
    "from jax.scipy.sparse.linalg import cg as jcg\n",
    "\n",
    "import numpy as np\n",
    "from scipy.sparse.linalg import LinearOperator, cg\n",
    "from scipy.sparse import tril, triu, eye\n",
    "\n",
    "import matplotlib.pyplot as plt\n",
    "from functools import partial\n",
    "from time import perf_counter\n",
    "import ilupp\n",
    "\n",
    "from linsolve.precond import llt_prec_trig_solve, llt_inv_prec\n",
    "from utils import factorsILUp, batchedILUp, ILU2, jILU2, iter_per_residual, jBCOO_to_scipyCSR\n",
    "from linsolve.cg import ConjGrad\n",
    "from data.qtt import poisson, div_k_grad, scipy_validation, solve_precChol, solve_precLU"
   ]
  },
  {
   "cell_type": "markdown",
   "id": "ae7938f7",
   "metadata": {},
   "source": [
    "## Poisson dataset"
   ]
  },
  {
   "cell_type": "code",
   "execution_count": 5,
   "id": "a85e0caa",
   "metadata": {},
   "outputs": [],
   "source": [
    "path = '/mnt/local/data/vtrifonov/prec-learning-Notay-loss/'\n",
    "try:\n",
    "    os.mkdir(os.path.join(path, 'paper_datasets'))\n",
    "except:\n",
    "    pass\n",
    "\n",
    "save_dir = os.path.join(path, 'paper_datasets')\n",
    "grid_ls = [32, 64, 128]\n",
    "N_train = 1000\n",
    "N_test = 200"
   ]
  },
  {
   "cell_type": "code",
   "execution_count": 7,
   "id": "71a6fa7c",
   "metadata": {},
   "outputs": [],
   "source": [
    "# Poisson\n",
    "\n",
    "for g in grid_ls:\n",
    "    A_train, b_train, x_train = poisson(N_train, g)\n",
    "    A_test, b_test, x_test = poisson(N_test, g)\n",
    "    jnp.savez(os.path.join(save_dir, 'poisson'+str(g)+'_train.npz'), Aval=A_train.data, Aind=A_train.indices, b=b_train, x=x_train)\n",
    "    jnp.savez(os.path.join(save_dir, 'poisson'+str(g)+'_test.npz'), Aval=A_test.data, Aind=A_test.indices, b=b_test, x=x_test)"
   ]
  },
  {
   "cell_type": "code",
   "execution_count": 7,
   "id": "8bc90ed3",
   "metadata": {},
   "outputs": [],
   "source": [
    "# Div-k-grad\n",
    "\n",
    "for g in grid_ls:\n",
    "    for var_i in [0.1, 0.5, 1.0, 1.5]:\n",
    "        A_train, b_train, x_train, k_stats_train = div_k_grad(N_train, g, cov_model='gaussian', var=var_i)\n",
    "        A_test, b_test, x_test, k_stats_test = div_k_grad(N_test, g, cov_model='gaussian', var=var_i)\n",
    "        jnp.savez(os.path.join(save_dir, 'div_k_grad'+str(g)+'_Gauss'+str(var_i)+'_train.npz'),\n",
    "                  Aval=A_train.data, Aind=A_train.indices, b=b_train, x=x_train,\n",
    "                  kmin=k_stats_train['min'], kmax=k_stats_train['max'], kmean=k_stats_train['mean'])\n",
    "        jnp.savez(os.path.join(save_dir, 'div_k_grad'+str(g)+'_Gauss'+str(var_i)+'_test.npz'),\n",
    "                  Aval=A_test.data, Aind=A_test.indices, b=b_test, x=x_test,\n",
    "                  kmin=k_stats_test['min'], kmax=k_stats_test['max'], kmean=k_stats_test['mean'])"
   ]
  },
  {
   "cell_type": "code",
   "execution_count": 55,
   "id": "f50d9a90",
   "metadata": {},
   "outputs": [
    {
     "name": "stdout",
     "output_type": "stream",
     "text": [
      "Grid 32, test,  var 0.1. Min k: 5, max k: 11, mean k: 7\n",
      "Grid 32, train, var 0.1. Min k: 5, max k: 13, mean k: 7\n",
      "Grid 32, test,  var 0.5. Min k: 35, max k: 234, mean k: 91\n",
      "Grid 32, train, var 0.5. Min k: 32, max k: 474, mean k: 91\n",
      "Grid 32, test,  var 1.0. Min k: 136, max k: 2097, mean k: 565\n",
      "Grid 32, train, var 1.0. Min k: 130, max k: 4241, mean k: 607\n",
      "Grid 32, test,  var 1.5. Min k: 520, max k: 16452, mean k: 2755\n",
      "Grid 32, train, var 1.5. Min k: 361, max k: 25140, mean k: 2620\n",
      "\n",
      "Grid 64, test,  var 0.1. Min k: 5, max k: 12, mean k: 8\n",
      "Grid 64, train, var 0.1. Min k: 5, max k: 13, mean k: 8\n",
      "Grid 64, test,  var 0.5. Min k: 46, max k: 555, mean k: 117\n",
      "Grid 64, train, var 0.5. Min k: 40, max k: 373, mean k: 111\n",
      "Grid 64, test,  var 1.0. Min k: 256, max k: 3832, mean k: 837\n",
      "Grid 64, train, var 1.0. Min k: 183, max k: 6276, mean k: 816\n",
      "Grid 64, test,  var 1.5. Min k: 552, max k: 26604, mean k: 3930\n",
      "Grid 64, train, var 1.5. Min k: 566, max k: 34226, mean k: 4009\n",
      "\n",
      "Grid 128, test,  var 0.1. Min k: 6, max k: 14, mean k: 8\n",
      "Grid 128, train, var 0.1. Min k: 5, max k: 19, mean k: 8\n",
      "Grid 128, test,  var 0.5. Min k: 47, max k: 388, mean k: 122\n",
      "Grid 128, train, var 0.5. Min k: 40, max k: 431, mean k: 121\n",
      "Grid 128, test,  var 1.0. Min k: 198, max k: 4270, mean k: 888\n",
      "Grid 128, train, var 1.0. Min k: 187, max k: 9587, mean k: 873\n",
      "Grid 128, test,  var 1.5. Min k: 762, max k: 49897, mean k: 4410\n",
      "Grid 128, train, var 1.5. Min k: 600, max k: 80462, mean k: 4564\n"
     ]
    }
   ],
   "source": [
    "ls32, ls64, ls128 = [], [], []\n",
    "for f in os.listdir(save_dir):\n",
    "    if os.path.isdir(f):\n",
    "        continue\n",
    "    if 'div_k_grad32' in f:\n",
    "        ls32.append(os.path.join(save_dir, f))\n",
    "    elif 'div_k_grad64' in f:\n",
    "        ls64.append(os.path.join(save_dir, f))\n",
    "    elif 'div_k_grad128' in f:\n",
    "        ls128.append(os.path.join(save_dir, f))\n",
    "        \n",
    "ls32.sort()\n",
    "ls64.sort()\n",
    "ls128.sort()\n",
    "\n",
    "for d in ls32:\n",
    "    a = jnp.load(os.path.join(save_dir, d))\n",
    "    if 'train' in d:\n",
    "        print(f\"Grid 32, train, var {d.split('Gauss')[1][:3]}. Min k: {a['kmin']:.0f}, max k: {a['kmax']:.0f}, mean k: {a['kmean']:.0f}\")\n",
    "    elif 'test' in d:\n",
    "        print(f\"Grid 32, test,  var {d.split('Gauss')[1][:3]}. Min k: {a['kmin']:.0f}, max k: {a['kmax']:.0f}, mean k: {a['kmean']:.0f}\")\n",
    "        \n",
    "print()\n",
    "for d in ls64:\n",
    "    a = jnp.load(os.path.join(save_dir, d))\n",
    "    if 'train' in d:\n",
    "        print(f\"Grid 64, train, var {d.split('Gauss')[1][:3]}. Min k: {a['kmin']:.0f}, max k: {a['kmax']:.0f}, mean k: {a['kmean']:.0f}\")\n",
    "    elif 'test' in d:\n",
    "        print(f\"Grid 64, test,  var {d.split('Gauss')[1][:3]}. Min k: {a['kmin']:.0f}, max k: {a['kmax']:.0f}, mean k: {a['kmean']:.0f}\")\n",
    "\n",
    "print()\n",
    "for d in ls128:\n",
    "    a = jnp.load(os.path.join(save_dir, d))\n",
    "    if 'train' in d:\n",
    "        print(f\"Grid 128, train, var {d.split('Gauss')[1][:3]}. Min k: {a['kmin']:.0f}, max k: {a['kmax']:.0f}, mean k: {a['kmean']:.0f}\")\n",
    "    elif 'test' in d:\n",
    "        print(f\"Grid 128, test,  var {d.split('Gauss')[1][:3]}. Min k: {a['kmin']:.0f}, max k: {a['kmax']:.0f}, mean k: {a['kmean']:.0f}\")"
   ]
  },
  {
   "cell_type": "code",
   "execution_count": 46,
   "id": "7f7f381e",
   "metadata": {},
   "outputs": [
    {
     "data": {
      "text/plain": [
       "['/mnt/local/data/vtrifonov/prec-learning-Notay-loss/paper_datasets/div_k_grad32_Gauss0.5_test.npz',\n",
       " '/mnt/local/data/vtrifonov/prec-learning-Notay-loss/paper_datasets/div_k_grad32_Gauss0.5_train.npz',\n",
       " '/mnt/local/data/vtrifonov/prec-learning-Notay-loss/paper_datasets/div_k_grad32_Gauss0.1_train.npz',\n",
       " '/mnt/local/data/vtrifonov/prec-learning-Notay-loss/paper_datasets/div_k_grad32_Gauss1.0_test.npz',\n",
       " '/mnt/local/data/vtrifonov/prec-learning-Notay-loss/paper_datasets/div_k_grad32_Gauss1.0_train.npz',\n",
       " '/mnt/local/data/vtrifonov/prec-learning-Notay-loss/paper_datasets/div_k_grad32_Gauss1.5_train.npz',\n",
       " '/mnt/local/data/vtrifonov/prec-learning-Notay-loss/paper_datasets/div_k_grad32_Gauss1.5_test.npz',\n",
       " '/mnt/local/data/vtrifonov/prec-learning-Notay-loss/paper_datasets/div_k_grad32_Gauss0.1_test.npz']"
      ]
     },
     "execution_count": 46,
     "metadata": {},
     "output_type": "execute_result"
    }
   ],
   "source": [
    "ls32"
   ]
  },
  {
   "cell_type": "code",
   "execution_count": null,
   "id": "21eb0614",
   "metadata": {},
   "outputs": [],
   "source": []
  }
 ],
 "metadata": {
  "kernelspec": {
   "display_name": "Python 3 (ipykernel)",
   "language": "python",
   "name": "python3"
  },
  "language_info": {
   "codemirror_mode": {
    "name": "ipython",
    "version": 3
   },
   "file_extension": ".py",
   "mimetype": "text/x-python",
   "name": "python",
   "nbconvert_exporter": "python",
   "pygments_lexer": "ipython3",
   "version": "3.10.6"
  }
 },
 "nbformat": 4,
 "nbformat_minor": 5
}
