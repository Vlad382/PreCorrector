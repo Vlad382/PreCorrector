{
 "cells": [
  {
   "cell_type": "code",
   "execution_count": 7,
   "id": "2ccef572",
   "metadata": {},
   "outputs": [],
   "source": [
    "import warnings\n",
    "import sys\n",
    "import os\n",
    "\n",
    "warnings.filterwarnings('ignore')\n",
    "os.environ[\"CUDA_VISIBLE_DEVICES\"] = ''\n",
    "os.environ['XLA_PYTHON_CLIENT_MEM_FRACTION'] = '.95'\n",
    "sys.path.append('/mnt/local/data/vtrifonov/prec-learning-Notay-loss/')"
   ]
  },
  {
   "cell_type": "code",
   "execution_count": 8,
   "id": "4526569d",
   "metadata": {},
   "outputs": [],
   "source": [
    "import jax.numpy as jnp\n",
    "from jax import random, vmap\n",
    "from jax.experimental import sparse as jsparse\n",
    "from jax.scipy.sparse.linalg import cg as jcg\n",
    "\n",
    "import numpy as np\n",
    "from scipy.sparse.linalg import LinearOperator, cg\n",
    "from scipy.sparse import tril, triu, eye\n",
    "\n",
    "import matplotlib.pyplot as plt\n",
    "from functools import partial\n",
    "from time import perf_counter\n",
    "import ilupp\n",
    "\n",
    "from linsolve.precond import llt_prec_trig_solve, llt_inv_prec\n",
    "from utils import factorsILUp, batchedILUp, ILU2, jILU2, iter_per_residual, jBCOO_to_scipyCSR\n",
    "from linsolve.cg import ConjGrad\n",
    "from data.qtt import poisson, div_k_grad, scipy_validation, solve_precChol, solve_precLU"
   ]
  },
  {
   "cell_type": "markdown",
   "id": "8ba43b00",
   "metadata": {},
   "source": [
    "## Poisson dataset"
   ]
  },
  {
   "cell_type": "code",
   "execution_count": 9,
   "id": "f0d4bf97",
   "metadata": {},
   "outputs": [],
   "source": [
    "path = '/mnt/local/data/vtrifonov/prec-learning-Notay-loss/'\n",
    "try:\n",
    "    os.mkdir(os.path.join(path, 'paper_datasets'))\n",
    "except:\n",
    "    pass\n",
    "\n",
    "save_dir = os.path.join(path, 'paper_datasets')\n",
    "grid_ls = [32, 64, 128]\n",
    "N_train = 1000\n",
    "N_test = 200"
   ]
  },
  {
   "cell_type": "code",
   "execution_count": 4,
   "id": "70355aa3",
   "metadata": {},
   "outputs": [
    {
     "name": "stderr",
     "output_type": "stream",
     "text": [
      "CUDA backend failed to initialize: jaxlib/cuda/versions_helpers.cc:98: operation cuInit(0) failed: CUDA_ERROR_NO_DEVICE (Set TF_CPP_MIN_LOG_LEVEL=0 and rerun for more info.)\n"
     ]
    }
   ],
   "source": [
    "# Poisson\n",
    "\n",
    "for g in grid_ls:\n",
    "    A_train, b_train, x_train = poisson(N_train, g)\n",
    "    A_test, b_test, x_test = poisson(N_test, g)\n",
    "    jnp.savez(os.path.join(save_dir, 'poisson'+str(g)+'_train.npz'), Aval=A_train.data, Aind=A_train.indices, b=b_train, x=x_train)\n",
    "    jnp.savez(os.path.join(save_dir, 'poisson'+str(g)+'_test.npz'), Aval=A_test.data, Aind=A_test.indices, b=b_test, x=x_test)"
   ]
  },
  {
   "cell_type": "code",
   "execution_count": 5,
   "id": "2c3eeb4e",
   "metadata": {},
   "outputs": [],
   "source": [
    "# Div-k-grad\n",
    "boundaries_ls = [\n",
    "    [[5, 11], [35, 180], [300, 1200], [1500, 3500]],\n",
    "    [[5, 12], [45, 200], [350, 1400], [2000, 6000]],\n",
    "    [[6, 14], [50, 300], [500, 2000], [2500, 6500]]\n",
    "]\n",
    "var_ls = [0.1, 0.5, 1.0, 1.5]\n",
    "\n",
    "for g, bound_ls in zip(grid_ls, boundaries_ls):\n",
    "    for var_i, b_ in zip(var_ls, bound_ls):\n",
    "        A_train, b_train, x_train, k_stats_train = div_k_grad(N_train, g, bounds=b_, cov_model='gaussian', var=var_i)\n",
    "        A_test, b_test, x_test, k_stats_test = div_k_grad(N_test, g, bounds=b_, cov_model='gaussian', var=var_i)\n",
    "        jnp.savez(os.path.join(save_dir, 'div_k_grad'+str(g)+'_Gauss'+str(var_i)+'_train.npz'),\n",
    "                  Aval=A_train.data, Aind=A_train.indices, b=b_train, x=x_train,\n",
    "                  kmin=k_stats_train['min'], kmax=k_stats_train['max'], kmean=k_stats_train['mean'])\n",
    "        jnp.savez(os.path.join(save_dir, 'div_k_grad'+str(g)+'_Gauss'+str(var_i)+'_test.npz'),\n",
    "                  Aval=A_test.data, Aind=A_test.indices, b=b_test, x=x_test,\n",
    "                  kmin=k_stats_test['min'], kmax=k_stats_test['max'], kmean=k_stats_test['mean'])"
   ]
  },
  {
   "cell_type": "code",
   "execution_count": 6,
   "id": "93f21b22",
   "metadata": {},
   "outputs": [
    {
     "name": "stdout",
     "output_type": "stream",
     "text": [
      "Grid 32, test,  var 0.1. Min k: 5, max k: 11, mean k: 7\n",
      "Grid 32, train, var 0.1. Min k: 5, max k: 11, mean k: 7\n",
      "Grid 32, test,  var 0.5. Min k: 39, max k: 175, mean k: 87\n",
      "Grid 32, train, var 0.5. Min k: 36, max k: 180, mean k: 86\n",
      "Grid 32, test,  var 1.0. Min k: 300, max k: 1191, mean k: 601\n",
      "Grid 32, train, var 1.0. Min k: 300, max k: 1198, mean k: 588\n",
      "Grid 32, test,  var 1.5. Min k: 1504, max k: 3495, mean k: 2268\n",
      "Grid 32, train, var 1.5. Min k: 1501, max k: 3499, mean k: 2303\n",
      "\n",
      "Grid 64, test,  var 0.1. Min k: 6, max k: 12, mean k: 8\n",
      "Grid 64, train, var 0.1. Min k: 5, max k: 12, mean k: 8\n",
      "Grid 64, test,  var 0.5. Min k: 46, max k: 198, mean k: 102\n",
      "Grid 64, train, var 0.5. Min k: 46, max k: 198, mean k: 104\n",
      "Grid 64, test,  var 1.0. Min k: 354, max k: 1400, mean k: 704\n",
      "Grid 64, train, var 1.0. Min k: 350, max k: 1400, mean k: 721\n",
      "Grid 64, test,  var 1.5. Min k: 2024, max k: 5974, mean k: 3338\n",
      "Grid 64, train, var 1.5. Min k: 2001, max k: 5988, mean k: 3482\n",
      "\n",
      "Grid 128, test,  var 0.1. Min k: 6, max k: 13, mean k: 8\n",
      "Grid 128, train, var 0.1. Min k: 6, max k: 14, mean k: 8\n",
      "Grid 128, test,  var 0.5. Min k: 51, max k: 283, mean k: 120\n",
      "Grid 128, train, var 0.5. Min k: 50, max k: 294, mean k: 116\n",
      "Grid 128, test,  var 1.0. Min k: 506, max k: 1941, mean k: 913\n",
      "Grid 128, train, var 1.0. Min k: 500, max k: 1996, mean k: 939\n",
      "Grid 128, test,  var 1.5. Min k: 2520, max k: 6405, mean k: 3903\n",
      "Grid 128, train, var 1.5. Min k: 2502, max k: 6499, mean k: 4011\n"
     ]
    }
   ],
   "source": [
    "ls32, ls64, ls128 = [], [], []\n",
    "for f in os.listdir(save_dir):\n",
    "    if os.path.isdir(f):\n",
    "        continue\n",
    "    if 'div_k_grad32' in f:\n",
    "        ls32.append(os.path.join(save_dir, f))\n",
    "    elif 'div_k_grad64' in f:\n",
    "        ls64.append(os.path.join(save_dir, f))\n",
    "    elif 'div_k_grad128' in f:\n",
    "        ls128.append(os.path.join(save_dir, f))\n",
    "        \n",
    "ls32.sort()\n",
    "ls64.sort()\n",
    "ls128.sort()\n",
    "\n",
    "for d in ls32:\n",
    "    a = jnp.load(os.path.join(save_dir, d))\n",
    "    if 'train' in d:\n",
    "        print(f\"Grid 32, train, var {d.split('Gauss')[1][:3]}. Min k: {a['kmin']:.0f}, max k: {a['kmax']:.0f}, mean k: {a['kmean']:.0f}\")\n",
    "    elif 'test' in d:\n",
    "        print(f\"Grid 32, test,  var {d.split('Gauss')[1][:3]}. Min k: {a['kmin']:.0f}, max k: {a['kmax']:.0f}, mean k: {a['kmean']:.0f}\")\n",
    "        \n",
    "print()\n",
    "for d in ls64:\n",
    "    a = jnp.load(os.path.join(save_dir, d))\n",
    "    if 'train' in d:\n",
    "        print(f\"Grid 64, train, var {d.split('Gauss')[1][:3]}. Min k: {a['kmin']:.0f}, max k: {a['kmax']:.0f}, mean k: {a['kmean']:.0f}\")\n",
    "    elif 'test' in d:\n",
    "        print(f\"Grid 64, test,  var {d.split('Gauss')[1][:3]}. Min k: {a['kmin']:.0f}, max k: {a['kmax']:.0f}, mean k: {a['kmean']:.0f}\")\n",
    "\n",
    "print()\n",
    "for d in ls128:\n",
    "    a = jnp.load(os.path.join(save_dir, d))\n",
    "    if 'train' in d:\n",
    "        print(f\"Grid 128, train, var {d.split('Gauss')[1][:3]}. Min k: {a['kmin']:.0f}, max k: {a['kmax']:.0f}, mean k: {a['kmean']:.0f}\")\n",
    "    elif 'test' in d:\n",
    "        print(f\"Grid 128, test,  var {d.split('Gauss')[1][:3]}. Min k: {a['kmin']:.0f}, max k: {a['kmax']:.0f}, mean k: {a['kmean']:.0f}\")"
   ]
  },
  {
   "cell_type": "code",
   "execution_count": null,
   "id": "027593e4",
   "metadata": {},
   "outputs": [],
   "source": []
  },
  {
   "cell_type": "code",
   "execution_count": 13,
   "id": "380d7a1e",
   "metadata": {},
   "outputs": [],
   "source": [
    "def make_BCOO(Aval, Aind, N_points):\n",
    "    return jsparse.BCOO((Aval, Aind), shape=(N_points**2, N_points**2))"
   ]
  },
  {
   "cell_type": "code",
   "execution_count": 10,
   "id": "b553266e",
   "metadata": {},
   "outputs": [],
   "source": [
    "a = jnp.load('/mnt/local/data/vtrifonov/prec-learning-Notay-loss/paper_datasets/div_k_grad32_Gauss0.1_test.npz')"
   ]
  },
  {
   "cell_type": "code",
   "execution_count": 21,
   "id": "facf92bd",
   "metadata": {},
   "outputs": [
    {
     "data": {
      "text/plain": [
       "['Aval', 'Aind', 'b', 'x', 'kmin', 'kmax', 'kmean']"
      ]
     },
     "execution_count": 21,
     "metadata": {},
     "output_type": "execute_result"
    }
   ],
   "source": [
    "list(a.keys())"
   ]
  },
  {
   "cell_type": "code",
   "execution_count": 14,
   "id": "a5e9d691",
   "metadata": {},
   "outputs": [
    {
     "data": {
      "text/plain": [
       "((200, 4992), (200, 4992, 2))"
      ]
     },
     "execution_count": 14,
     "metadata": {},
     "output_type": "execute_result"
    }
   ],
   "source": [
    "A_val = a['Aval']\n",
    "A_ind = a['Aind']\n",
    "A_val.shape, A_ind.shape"
   ]
  },
  {
   "cell_type": "code",
   "execution_count": null,
   "id": "f31ec66f",
   "metadata": {},
   "outputs": [],
   "source": []
  }
 ],
 "metadata": {
  "kernelspec": {
   "display_name": "Python 3 (ipykernel)",
   "language": "python",
   "name": "python3"
  },
  "language_info": {
   "codemirror_mode": {
    "name": "ipython",
    "version": 3
   },
   "file_extension": ".py",
   "mimetype": "text/x-python",
   "name": "python",
   "nbconvert_exporter": "python",
   "pygments_lexer": "ipython3",
   "version": "3.10.6"
  }
 },
 "nbformat": 4,
 "nbformat_minor": 5
}
