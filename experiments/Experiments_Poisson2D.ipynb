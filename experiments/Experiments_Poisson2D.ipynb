{
 "cells": [
  {
   "cell_type": "code",
   "execution_count": 1,
   "id": "c7b5cd08",
   "metadata": {},
   "outputs": [],
   "source": [
    "import warnings\n",
    "import sys\n",
    "import os\n",
    "\n",
    "warnings.filterwarnings('ignore')\n",
    "os.environ[\"CUDA_VISIBLE_DEVICES\"] = ''\n",
    "os.environ['XLA_PYTHON_CLIENT_MEM_FRACTION'] = '1.'\n",
    "sys.path.append('/mnt/local/data/vtrifonov/prec-learning-Notay-loss/')"
   ]
  },
  {
   "cell_type": "code",
   "execution_count": 2,
   "id": "5f59c0e9",
   "metadata": {},
   "outputs": [],
   "source": [
    "import jax.numpy as jnp\n",
    "from jax import random, vmap, clear_caches, jit\n",
    "import numpy as np\n",
    "\n",
    "import optax\n",
    "from equinox.nn import Conv1d\n",
    "import matplotlib.pyplot as plt\n",
    "from functools import partial\n",
    "from time import perf_counter\n",
    "\n",
    "from data.dataset import dataset_Krylov, dataset_FD\n",
    "from linsolve.cg import ConjGrad\n",
    "from linsolve.precond import llt_prec\n",
    "from model import MessagePassing, FullyConnectedNet, PrecNet, ConstantConv1d, MessagePassingWithDot\n",
    "\n",
    "from utils import params_count, asses_cond, iter_per_residual, batch_indices\n",
    "from data.utils import direc_graph_from_linear_system_sparse\n",
    "from train import train"
   ]
  },
  {
   "cell_type": "markdown",
   "id": "653b1fb5",
   "metadata": {},
   "source": [
    "# Setup experiment"
   ]
  },
  {
   "cell_type": "code",
   "execution_count": 71,
   "id": "c7a13447",
   "metadata": {},
   "outputs": [],
   "source": [
    "dataset = 'simple'                # 'krylov', 'simple'\n",
    "grid = 4\n",
    "N_samples_train = 30\n",
    "N_samples_test = 5\n",
    "\n",
    "rhs_train = rhs_test = [5, 5, 2]           # 'random', 'laplace', [5, 5, 2]\n",
    "k_train = k_test = 'poisson'           # 'random', 'poisson', [5, 5, 2]\n",
    "rhs_offset_train = rhs_offset_test = 0\n",
    "k_offset_train = k_offset_test = 10\n",
    "lhs_type = 'fd'\n",
    "\n",
    "cg_repeats = 300\n",
    "if dataset == 'simple': cg_repeats = 1"
   ]
  },
  {
   "cell_type": "code",
   "execution_count": 72,
   "id": "beb0dba2",
   "metadata": {},
   "outputs": [],
   "source": [
    "layer_ = ConstantConv1d         # 'ConstantConv1d' to make a \"zero\" NN initialization; 'Conv1d' to make a random initialization\n",
    "loss_type = 'notay'               # Either 'llt' or 'notay'\n",
    "with_cond = True               # If True will calculate cond during training. Extremly bad scaling (materialization of matrix)\n",
    "with_final_cond = False         # If True will calculate cond with final L. Also bad scaling"
   ]
  },
  {
   "cell_type": "code",
   "execution_count": 73,
   "id": "8c538195",
   "metadata": {},
   "outputs": [],
   "source": [
    "batch_size = 8\n",
    "lr = 5e-4\n",
    "epoch_num = 100"
   ]
  },
  {
   "cell_type": "code",
   "execution_count": 74,
   "id": "ddebc063",
   "metadata": {},
   "outputs": [],
   "source": [
    "# # Uncomment and setup to make steps in learning rate\n",
    "\n",
    "# steps_per_batch = N_samples_train * cg_repeats // batch_size\n",
    "# start, stop, step = 45*steps_per_batch, 101*steps_per_batch, 45*steps_per_batch\n",
    "# decay_size = 1e-1\n",
    "# lr = optax.piecewise_constant_schedule(\n",
    "#     lr,\n",
    "# #     {k: v for k, v in zip([37], [1e-1])}\n",
    "#     {k: v for k, v in zip(np.arange(start, stop, step), [decay_size, ] * len(jnp.arange(start, stop, step)))}\n",
    "# )"
   ]
  },
  {
   "cell_type": "markdown",
   "id": "637a1768",
   "metadata": {},
   "source": [
    "# Make dataset"
   ]
  },
  {
   "cell_type": "code",
   "execution_count": 75,
   "id": "0941571f",
   "metadata": {},
   "outputs": [
    {
     "name": "stdout",
     "output_type": "stream",
     "text": [
      "5.814397179987282\n"
     ]
    }
   ],
   "source": [
    "s1 = perf_counter()\n",
    "if dataset == 'krylov':\n",
    "    A_train, b_train, u_exact_train, bi_edges_train, res_train, u_app_train = dataset_Krylov(grid, N_samples_train, seed=42, rhs_distr=rhs_train, rhs_offset=rhs_offset_train,\n",
    "                                                                                             k_distr=k_train, k_offset=k_offset_train, cg_repeats=cg_repeats, lhs_type=lhs_type)\n",
    "    A_test, b_test, u_exact_test, bi_edges_test, res_test, u_app_test = dataset_Krylov(grid, N_samples_test, seed=43, rhs_distr=rhs_test, rhs_offset=rhs_offset_test,\n",
    "                                                                                       k_distr=k_test, k_offset=k_offset_test, cg_repeats=cg_repeats, lhs_type=lhs_type)\n",
    "elif dataset == 'simple':\n",
    "    A_train, b_train, u_exact_train, bi_edges_train = dataset_FD(grid, N_samples_train, seed=42, rhs_distr=rhs_train, rhs_offset=rhs_offset_train,\n",
    "                                                                 k_distr=k_train, k_offset=k_offset_train, lhs_type=lhs_type)\n",
    "    A_test, b_test, u_exact_test, bi_edges_test = dataset_FD(grid, N_samples_test, seed=43, rhs_distr=rhs_test, rhs_offset=rhs_offset_test,\n",
    "                                                             k_distr=k_test, k_offset=k_offset_test, lhs_type=lhs_type)\n",
    "print(perf_counter() - s1)"
   ]
  },
  {
   "cell_type": "code",
   "execution_count": 76,
   "id": "587944fa",
   "metadata": {},
   "outputs": [
    {
     "data": {
      "text/plain": [
       "(344,)"
      ]
     },
     "execution_count": 76,
     "metadata": {},
     "output_type": "execute_result"
    }
   ],
   "source": [
    "receivers.shape"
   ]
  },
  {
   "cell_type": "code",
   "execution_count": 126,
   "id": "b57534de",
   "metadata": {},
   "outputs": [
    {
     "name": "stdout",
     "output_type": "stream",
     "text": [
      "(30, 64) (30, 64) (30, 64)\n",
      "(40,) (40,) (40,)\n"
     ]
    },
    {
     "data": {
      "image/png": "[encoded data removed]",
      "text/plain": [
       "<Figure size 640x480 with 1 Axes>"
      ]
     },
     "metadata": {},
     "output_type": "display_data"
    }
   ],
   "source": [
    "from data.utils import direc_graph_from_linear_system_sparse, graph_tril, graph_to_low_tri_mat_sparse\n",
    "from jax.experimental import sparse as jsparse \n",
    "\n",
    "nodes, edges, receivers, senders, _ = direc_graph_from_linear_system_sparse(A_train, b_train)\n",
    "print(edges.shape, receivers.shape, senders.shape)\n",
    "nodes, edges, receivers, senders = nodes[0, ...][None, ...], edges[0, ...], receivers[0, ...], senders[0, ...]\n",
    "nodes, edges, receivers, senders = graph_tril(nodes, edges, receivers, senders)\n",
    "print(edges.shape, receivers.shape, senders.shape)\n",
    "\n",
    "# abc_tril = vmap(graph_to_low_tri_mat_sparse, in_axes=(0, 0, 0, 0), out_axes=(0))(nodes[None, ...], edges[None, ...], receivers[None, ...], senders[None, ...])\n",
    "abc_tril = graph_to_low_tri_mat_sparse(nodes, edges, receivers, senders)\n",
    "# abc_tril.data = abc_tril.data * 0 + 1\n",
    "plt.imshow(abc_tril.todense());"
   ]
  },
  {
   "cell_type": "code",
   "execution_count": 127,
   "id": "b75df171",
   "metadata": {},
   "outputs": [
    {
     "data": {
      "text/plain": [
       "Array([ 0,  1,  1,  2,  2,  3,  3,  4,  4,  5,  5,  5,  6,  6,  6,  7,  7,\n",
       "        7,  8,  8,  9,  9,  9, 10, 10, 10, 11, 11, 11, 12, 12, 13, 13, 13,\n",
       "       14, 14, 14, 15, 15, 15], dtype=int32)"
      ]
     },
     "execution_count": 127,
     "metadata": {},
     "output_type": "execute_result"
    }
   ],
   "source": [
    "abc_tril.indices[:, 0]"
   ]
  },
  {
   "cell_type": "code",
   "execution_count": 128,
   "id": "d8618870",
   "metadata": {},
   "outputs": [
    {
     "data": {
      "text/plain": [
       "Array([ 0,  0,  1,  1,  2,  2,  3,  0,  4,  1,  4,  5,  2,  5,  6,  3,  6,\n",
       "        7,  4,  8,  5,  8,  9,  6,  9, 10,  7, 10, 11,  8, 12,  9, 12, 13,\n",
       "       10, 13, 14, 11, 14, 15], dtype=int32)"
      ]
     },
     "execution_count": 128,
     "metadata": {},
     "output_type": "execute_result"
    }
   ],
   "source": [
    "abc_tril.indices[:, 1]"
   ]
  },
  {
   "cell_type": "code",
   "execution_count": 229,
   "id": "9be876c4",
   "metadata": {},
   "outputs": [
    {
     "data": {
      "text/plain": [
       "Array(3, dtype=int32)"
      ]
     },
     "execution_count": 229,
     "metadata": {},
     "output_type": "execute_result"
    }
   ],
   "source": [
    "i = 5\n",
    "abc_tril_csr.indptr[i+1] - abc_tril_csr.indptr[i]"
   ]
  },
  {
   "cell_type": "code",
   "execution_count": null,
   "id": "1b695140",
   "metadata": {},
   "outputs": [],
   "source": []
  },
  {
   "cell_type": "code",
   "execution_count": null,
   "id": "d97c2ac0",
   "metadata": {},
   "outputs": [],
   "source": []
  },
  {
   "cell_type": "code",
   "execution_count": 420,
   "id": "647314e7",
   "metadata": {},
   "outputs": [],
   "source": [
    "import jax\n",
    "GRID = grid\n",
    "\n",
    "# @partial(jit, static_argnums=(2, 4))\n",
    "def jspsolve_triangular_efficient(A_, b, lower=True):\n",
    "    '''A must be a lower/upper triangular matrix.\n",
    "       It should be \"valid\": not singular (have no zeros on diagonal, no empty rows, etc.)'''\n",
    "#     Aval, bval = A.data, b\n",
    "#     Arows, Acols = A.indices[:, 0], A.indices[:, 1]\n",
    "#     Aindptr = jsparse.BCSR.from_bcoo(A).indptr\n",
    "    A = jsparse.BCSR.from_bcoo(A_)\n",
    "#     x = jnp.zeros(bval.shape[0] + 1)\n",
    "    x = jnp.copy(b)\n",
    "#     A = A.sum_duplicates()\n",
    "\n",
    "    if lower:\n",
    "#         f_pointer = partial(pointer_over_dim, iterate_dim=Arows, retrive_dim=Acols)\n",
    "#         dim_range = jnp.arange(1, x.shape[0])\n",
    "        dim_range = jnp.arange(x.shape[0])\n",
    "#         x = x.at[0].set(bval[0] / Aval[0])\n",
    "    else:\n",
    "#         f_pointer = partial(pointer_over_dim, iterate_dim=Acols, retrive_dim=Arows)\n",
    "#         dim_range = jnp.arange(x.shape[0] - 2, -1, -1)\n",
    "        dim_range = jnp.arange(x.shape[0] - 1, -1, -1)\n",
    "#         x = x.at[-1].divide(bval[-1] / Aval[-1])\n",
    "    \n",
    "#     for i in dim_range:\n",
    "#         lhs_ind = f_pointer(i)\n",
    "# #         rhs_ind = rhs_ind[:-1]\n",
    "#         nondiag_ind, diag_ind = lhs_ind[:-1], lhs_ind[-1]\n",
    "        \n",
    "#         c = jnp.sum(Aval.at[nondiag_ind].get() * x.at[rhs_ind].get())\n",
    "#         x = x.at[i].set(bval[i]-c)\n",
    "#         x = x.at[i].divide(Aval[diag_ind])\n",
    "        \n",
    "    for i in dim_range:\n",
    "\n",
    "        # Get indices for i-th row.\n",
    "        indptr_start = A.indptr[i]\n",
    "        indptr_stop = A.indptr[i + 1]\n",
    "\n",
    "        if lower:\n",
    "            A_diagonal_index_row_i = indptr_stop - 1\n",
    "            A_off_start, A_off_end = indptr_start, indptr_stop - 1\n",
    "#             A_off_diagonal_indices_row_i = jax.lax.slice(indptr_start, indptr_stop - 1)\n",
    "        else:\n",
    "            A_diagonal_index_row_i = indptr_start\n",
    "            A_off_start, A_off_end = indptr_start + 1, indptr_stop\n",
    "#             A_off_diagonal_indices_row_i = jax.lax.slice(indptr_start + 1, indptr_stop)\n",
    "\n",
    "        # Incorporate off-diagonal entries.\n",
    "        print(A.indices.ndim, A.indices.shape)\n",
    "        A_column_indices_in_row_i = jax.lax.dynamic_slice_in_dim(A.indices, A_off_start, A_off_end)\n",
    "        A_values_in_row_i = jax.lax.dynamic_slice_in_dim(A.data, A_off_start, A_off_end)\n",
    "#         A_column_indices_in_row_i = A.indices.at[A_off_start:A_off_end].get()\n",
    "#         A_values_in_row_i = A.data.at[A_off_start:A_off_end].get()\n",
    "#         A_column_indices_in_row_i = A.indices[A_off_diagonal_indices_row_i]\n",
    "#         A_values_in_row_i = A.data[A_off_diagonal_indices_row_i]\n",
    "        x = x.at[i].add(-jnp.dot(x[A_column_indices_in_row_i].T, A_values_in_row_i))\n",
    "\n",
    "        # Compute i-th entry of x.\n",
    "        x = x.at[i].divide(A.data[A_diagonal_index_row_i])\n",
    "\n",
    "    return x\n",
    "        \n",
    "# def pointer_over_dim(i, iterate_dim, retrive_dim):\n",
    "#     '''Returns all indices in the columns/row of the i-th row/column.'''\n",
    "#     A_pos = jnp.nonzero(jnp.where(iterate_dim == i, 1, 0), size=GRID**2/2, fill_value=GRID**2)[0].astype(jnp.int32)\n",
    "# #     x_pos = retrive_dim[A_pos]\n",
    "#     return A_pos#, x_pos"
   ]
  },
  {
   "cell_type": "code",
   "execution_count": 421,
   "id": "647fe0f6",
   "metadata": {},
   "outputs": [
    {
     "name": "stdout",
     "output_type": "stream",
     "text": [
      "1 (40,)\n"
     ]
    },
    {
     "ename": "TracerIntegerConversionError",
     "evalue": "The __index__() method was called on traced array with shape int32[].\nThe error occurred while tracing the function jspsolve_triangular_efficient at /tmp/ipykernel_314911/1117027653.py:5 for jit. This concrete value was not available in Python because it depends on the values of the arguments A_[<flat index 0>] and A_[<flat index 1>].\nSee https://jax.readthedocs.io/en/latest/errors.html#jax.errors.TracerIntegerConversionError",
     "output_type": "error",
     "traceback": [
      "\u001b[0;31m---------------------------------------------------------------------------\u001b[0m",
      "\u001b[0;31mTracerIntegerConversionError\u001b[0m              Traceback (most recent call last)",
      "Cell \u001b[0;32mIn[421], line 1\u001b[0m\n\u001b[0;32m----> 1\u001b[0m x1 \u001b[38;5;241m=\u001b[39m \u001b[43mjax\u001b[49m\u001b[38;5;241;43m.\u001b[39;49m\u001b[43mjit\u001b[49m\u001b[43m(\u001b[49m\u001b[43mjspsolve_triangular_efficient\u001b[49m\u001b[43m,\u001b[49m\u001b[43m \u001b[49m\u001b[43mstatic_argnums\u001b[49m\u001b[38;5;241;43m=\u001b[39;49m\u001b[43m(\u001b[49m\u001b[38;5;241;43m2\u001b[39;49m\u001b[43m)\u001b[49m\u001b[43m)\u001b[49m\u001b[43m(\u001b[49m\u001b[43mabc_tril\u001b[49m\u001b[43m,\u001b[49m\u001b[43m \u001b[49m\u001b[43mb_train\u001b[49m\u001b[43m[\u001b[49m\u001b[38;5;241;43m0\u001b[39;49m\u001b[43m,\u001b[49m\u001b[43m \u001b[49m\u001b[43m:\u001b[49m\u001b[43m]\u001b[49m\u001b[43m,\u001b[49m\u001b[43m \u001b[49m\u001b[43mlower\u001b[49m\u001b[38;5;241;43m=\u001b[39;49m\u001b[38;5;28;43;01mTrue\u001b[39;49;00m\u001b[43m)\u001b[49m\n\u001b[1;32m      2\u001b[0m \u001b[38;5;66;03m# x1 = jspsolve_triangular_efficient(abc_tril, b_train[0, :], lower=True)\u001b[39;00m\n\u001b[1;32m      3\u001b[0m display(x1)\n",
      "    \u001b[0;31m[... skipping hidden 11 frame]\u001b[0m\n",
      "Cell \u001b[0;32mIn[420], line 53\u001b[0m, in \u001b[0;36mjspsolve_triangular_efficient\u001b[0;34m(A_, b, lower)\u001b[0m\n\u001b[1;32m     49\u001b[0m \u001b[38;5;66;03m#             A_off_diagonal_indices_row_i = jax.lax.slice(indptr_start + 1, indptr_stop)\u001b[39;00m\n\u001b[1;32m     50\u001b[0m \n\u001b[1;32m     51\u001b[0m         \u001b[38;5;66;03m# Incorporate off-diagonal entries.\u001b[39;00m\n\u001b[1;32m     52\u001b[0m         \u001b[38;5;28mprint\u001b[39m(A\u001b[38;5;241m.\u001b[39mindices\u001b[38;5;241m.\u001b[39mndim, A\u001b[38;5;241m.\u001b[39mindices\u001b[38;5;241m.\u001b[39mshape)\n\u001b[0;32m---> 53\u001b[0m         A_column_indices_in_row_i \u001b[38;5;241m=\u001b[39m \u001b[43mjax\u001b[49m\u001b[38;5;241;43m.\u001b[39;49m\u001b[43mlax\u001b[49m\u001b[38;5;241;43m.\u001b[39;49m\u001b[43mdynamic_slice_in_dim\u001b[49m\u001b[43m(\u001b[49m\u001b[43mA\u001b[49m\u001b[38;5;241;43m.\u001b[39;49m\u001b[43mindices\u001b[49m\u001b[43m,\u001b[49m\u001b[43m \u001b[49m\u001b[43mA_off_start\u001b[49m\u001b[43m,\u001b[49m\u001b[43m \u001b[49m\u001b[43mA_off_end\u001b[49m\u001b[43m)\u001b[49m\n\u001b[1;32m     54\u001b[0m         A_values_in_row_i \u001b[38;5;241m=\u001b[39m jax\u001b[38;5;241m.\u001b[39mlax\u001b[38;5;241m.\u001b[39mdynamic_slice_in_dim(A\u001b[38;5;241m.\u001b[39mdata, A_off_start, A_off_end)\n\u001b[1;32m     55\u001b[0m \u001b[38;5;66;03m#         A_column_indices_in_row_i = A.indices.at[A_off_start:A_off_end].get()\u001b[39;00m\n\u001b[1;32m     56\u001b[0m \u001b[38;5;66;03m#         A_values_in_row_i = A.data.at[A_off_start:A_off_end].get()\u001b[39;00m\n\u001b[1;32m     57\u001b[0m \u001b[38;5;66;03m#         A_column_indices_in_row_i = A.indices[A_off_diagonal_indices_row_i]\u001b[39;00m\n\u001b[1;32m     58\u001b[0m \u001b[38;5;66;03m#         A_values_in_row_i = A.data[A_off_diagonal_indices_row_i]\u001b[39;00m\n",
      "    \u001b[0;31m[... skipping hidden 4 frame]\u001b[0m\n",
      "File \u001b[0;32m/usr/local/lib/python3.10/dist-packages/jax/_src/core.py:1495\u001b[0m, in \u001b[0;36mconcretization_function_error.<locals>.error\u001b[0;34m(self, arg)\u001b[0m\n\u001b[1;32m   1494\u001b[0m \u001b[38;5;28;01mdef\u001b[39;00m \u001b[38;5;21merror\u001b[39m(\u001b[38;5;28mself\u001b[39m, arg):\n\u001b[0;32m-> 1495\u001b[0m   \u001b[38;5;28;01mraise\u001b[39;00m TracerIntegerConversionError(arg)\n",
      "\u001b[0;31mTracerIntegerConversionError\u001b[0m: The __index__() method was called on traced array with shape int32[].\nThe error occurred while tracing the function jspsolve_triangular_efficient at /tmp/ipykernel_314911/1117027653.py:5 for jit. This concrete value was not available in Python because it depends on the values of the arguments A_[<flat index 0>] and A_[<flat index 1>].\nSee https://jax.readthedocs.io/en/latest/errors.html#jax.errors.TracerIntegerConversionError"
     ]
    }
   ],
   "source": [
    "x1 = jax.jit(jspsolve_triangular_efficient, static_argnums=(2))(abc_tril, b_train[0, :], lower=True)\n",
    "# x1 = jspsolve_triangular_efficient(abc_tril, b_train[0, :], lower=True)\n",
    "display(x1)\n",
    "nodes[0, :] - abc_tril @ x1"
   ]
  },
  {
   "cell_type": "code",
   "execution_count": null,
   "id": "1b620284",
   "metadata": {},
   "outputs": [],
   "source": [
    "Adata = abc_tril.data\n",
    "Aindices = abc_tril.indices\n",
    "Aindptr = jsparse.BCSR.from_bcoo(abc_tril).indptr\n",
    "\n",
    "x1 = jspsolve_triangular_efficient(Adata, Aindices, Aindptr, b_train[0, :], lower=True)\n",
    "display(x1)\n",
    "nodes[0, :] - abc_tril @ x1"
   ]
  },
  {
   "cell_type": "code",
   "execution_count": null,
   "id": "b7809f2d",
   "metadata": {},
   "outputs": [],
   "source": []
  },
  {
   "cell_type": "code",
   "execution_count": null,
   "id": "108c161f",
   "metadata": {},
   "outputs": [],
   "source": []
  },
  {
   "cell_type": "code",
   "execution_count": null,
   "id": "8cb0684d",
   "metadata": {},
   "outputs": [],
   "source": []
  },
  {
   "cell_type": "code",
   "execution_count": null,
   "id": "2c5bb5b0",
   "metadata": {},
   "outputs": [],
   "source": []
  },
  {
   "cell_type": "code",
   "execution_count": null,
   "id": "c53d7619",
   "metadata": {},
   "outputs": [],
   "source": []
  },
  {
   "cell_type": "code",
   "execution_count": null,
   "id": "dba83f42",
   "metadata": {},
   "outputs": [],
   "source": []
  },
  {
   "cell_type": "code",
   "execution_count": 679,
   "id": "7d447985",
   "metadata": {},
   "outputs": [],
   "source": [
    "import jax\n",
    "\n",
    "@partial(jit, static_argnums=(2))\n",
    "def jspsolve_triangular_efficient(A, b, lower):\n",
    "    '''A must be a lower/upper triangular matrix.\n",
    "       It should be \"valid\": not singular (have no zeros on diagonal, no empty rows, etc.)'''\n",
    "    Aval, bval = A.data, b\n",
    "    Arows, Acols = A.indices[:, 0], A.indices[:, 1]\n",
    "    x = jnp.zeros_like(bval)    \n",
    "    \n",
    "    diag_edge_indx = jnp.diff(jnp.hstack([Arows[:, None], Acols[:, None]]))\n",
    "    diag_edge_indx = jnp.where(diag_edge_indx == 0, 1, 0)\n",
    "    diag_edge_indx = jnp.nonzero(diag_edge_indx, size=nodes.shape[1], fill_value=jnp.nan)[0].astype(jnp.int32)\n",
    "    \n",
    "    if lower:\n",
    "        dim_range = jnp.arange(1, x.shape[0])\n",
    "        x = x.at[0].set(bval[0] / Aval[0])\n",
    "    else:\n",
    "        dim_range = jnp.arange(x.shape[0] - 2, -1, -1)\n",
    "        x = x.at[-1].divide(bval[-1] / Aval[-1])\n",
    "    \n",
    "#     for i, diag_ind in zip(dim_range, diag_edge_indx[1:]):\n",
    "#         nondiag_ind = jnp.where(Arows == i, 1, 0)\n",
    "#         x_i = x.at[jnp.where(nondiag_ind, Acols, Acols.shape[0])].get(mode='fill', fill_value=0)\n",
    "#         c = jnp.sum(Aval.at[nondiag_ind].get() * x_i)\n",
    "#         x = x.at[i].set(bval[i]-c)\n",
    "#         x = x.at[i].divide(Aval[diag_ind])\n",
    "        \n",
    "    def f_(carry, k):\n",
    "        i, diag_ind = k\n",
    "        Aval_, Arows_, Acols_, bval_, x_ = carry\n",
    "        nondiag_ind = jnp.where(Arows_ == i, 1, 0)\n",
    "        x_i = x_.at[jnp.where(nondiag_ind, Acols_, Acols_.shape[0])].get(mode='fill', fill_value=0)\n",
    "        \n",
    "        c = jnp.sum(Aval_.at[nondiag_ind].get() * x_i)\n",
    "        x_ = x_.at[i].set(bval_[i]-c)\n",
    "        x_ = x_.at[i].divide(Aval_[diag_ind])\n",
    "        return (Aval_, Arows_, Acols_, bval_, x_), None\n",
    "    \n",
    "    carry_ = (Aval, Arows, Acols, bval, x)\n",
    "    (_, _, _, _, x), _ = jax.lax.scan(f_, carry_, jnp.hstack([dim_range[:, None], diag_edge_indx[1:][:, None]]))\n",
    "    return x\n",
    "        \n",
    "\n",
    "def pointer_over_dim(i, size_, iterate_dim, retrive_dim):\n",
    "    '''Returns all indices in the columns/row of the i-th row/column.'''\n",
    "    \n",
    "#     A_pos = jnp.zeros(N, bool).at[jnp.where(cols==3, rows, N)].set(True, mode='drop')\n",
    "    A_pos = np.nonzero(np.where(iterate_dim == i, 1, 0))[0].astype(np.int32)\n",
    "#     A_pos = jnp.nonzero(jnp.where(iterate_dim == i, 1, 0), size=size_, fill_value=0)[0].astype(jnp.int32)\n",
    "    x_pos = retrive_dim[A_pos]\n",
    "    return A_pos, x_pos"
   ]
  },
  {
   "cell_type": "code",
   "execution_count": 680,
   "id": "324ffe63",
   "metadata": {},
   "outputs": [
    {
     "data": {
      "text/plain": [
       "Array([ 0,  2,  4,  6,  8, 11, 14, 17, 19, 22, 25, 28, 30, 33, 36, 39],      dtype=int32)"
      ]
     },
     "execution_count": 680,
     "metadata": {},
     "output_type": "execute_result"
    }
   ],
   "source": [
    "diag_edge_indx = jnp.diff(jnp.hstack([senders[:, None], receivers[:, None]]))\n",
    "diag_edge_indx = jnp.where(diag_edge_indx == 0, 1, 0)\n",
    "diag_edge_indx = jnp.nonzero(diag_edge_indx, size=nodes.shape[1], fill_value=jnp.nan)[0].astype(jnp.int32)\n",
    "diag_edge_indx"
   ]
  },
  {
   "cell_type": "code",
   "execution_count": 681,
   "id": "f0ed2675",
   "metadata": {},
   "outputs": [
    {
     "data": {
      "text/plain": [
       "Array([ 0,  1,  1,  2,  2,  3,  3,  4,  4,  5,  5,  5,  6,  6,  6,  7,  7,\n",
       "        7,  8,  8,  9,  9,  9, 10, 10, 10, 11, 11, 11, 12, 12, 13, 13, 13,\n",
       "       14, 14, 14, 15, 15, 15], dtype=int32)"
      ]
     },
     "execution_count": 681,
     "metadata": {},
     "output_type": "execute_result"
    }
   ],
   "source": [
    "abc_tril.indices[:, 0]"
   ]
  },
  {
   "cell_type": "code",
   "execution_count": 682,
   "id": "ab07b16e",
   "metadata": {},
   "outputs": [
    {
     "data": {
      "text/plain": [
       "Array([-0.15317   , -0.08858586, -0.10272937, -0.03668332, -0.16018477,\n",
       "       -0.10423788, -0.10477789, -0.05557638, -0.14603297, -0.05063239,\n",
       "       -0.04826519, -0.05530344, -0.12375249, -0.01204653,  0.00430035,\n",
       "        0.01369833], dtype=float32)"
      ]
     },
     "metadata": {},
     "output_type": "display_data"
    },
    {
     "data": {
      "text/plain": [
       "Array([ 0.0000000e+00,  0.0000000e+00,  0.0000000e+00,  0.0000000e+00,\n",
       "        0.0000000e+00,  0.0000000e+00,  0.0000000e+00,  1.4901161e-08,\n",
       "       -5.9604645e-08,  7.4505806e-09,  1.4901161e-08, -1.4901161e-08,\n",
       "        0.0000000e+00,  0.0000000e+00,  0.0000000e+00,  0.0000000e+00],      dtype=float32)"
      ]
     },
     "execution_count": 682,
     "metadata": {},
     "output_type": "execute_result"
    }
   ],
   "source": [
    "Adata = abc_tril.data\n",
    "Aindices = abc_tril.indices\n",
    "Aindptr = jsparse.BCSR.from_bcoo(abc_tril).indptr\n",
    "\n",
    "x1 = jspsolve_triangular_efficient(abc_tril, b_train[0, :], lower=True)\n",
    "display(x1)\n",
    "nodes[0, :] - abc_tril @ x1"
   ]
  },
  {
   "cell_type": "code",
   "execution_count": null,
   "id": "03bbd3c7",
   "metadata": {},
   "outputs": [],
   "source": []
  },
  {
   "cell_type": "code",
   "execution_count": null,
   "id": "c40669f6",
   "metadata": {},
   "outputs": [],
   "source": []
  },
  {
   "cell_type": "code",
   "execution_count": null,
   "id": "5579e0d3",
   "metadata": {},
   "outputs": [],
   "source": []
  },
  {
   "cell_type": "code",
   "execution_count": null,
   "id": "eec737b1",
   "metadata": {},
   "outputs": [],
   "source": []
  },
  {
   "cell_type": "code",
   "execution_count": 220,
   "id": "84378d77",
   "metadata": {},
   "outputs": [
    {
     "data": {
      "text/plain": [
       "Array([10, 11, 12, 13, 14, 15, 16, 17, 18, 19], dtype=int32)"
      ]
     },
     "metadata": {},
     "output_type": "display_data"
    },
    {
     "data": {
      "text/plain": [
       "Array([11, 12, 14, 15, 15, 15, 15], dtype=int32)"
      ]
     },
     "execution_count": 220,
     "metadata": {},
     "output_type": "execute_result"
    }
   ],
   "source": [
    "ind = jnp.array([1, 2, 4, 5, 5, 5, 5], dtype=jnp.int32)\n",
    "val = jnp.arange(10, 20)\n",
    "display(val)\n",
    "val[ind]"
   ]
  },
  {
   "cell_type": "code",
   "execution_count": null,
   "id": "349699cf",
   "metadata": {},
   "outputs": [],
   "source": []
  },
  {
   "cell_type": "code",
   "execution_count": null,
   "id": "45916203",
   "metadata": {},
   "outputs": [],
   "source": []
  },
  {
   "cell_type": "code",
   "execution_count": 367,
   "id": "e915b44b",
   "metadata": {},
   "outputs": [],
   "source": [
    "import jax\n",
    "def jspsolve_triangular_efficient(A: jax.experimental.sparse.bcoo.BCOO, Aindptr, b: jax.Array, lower: bool=True) -> jax.Array:\n",
    "    '''A must be a lower/upper triangular matrix.\n",
    "       It should be \"valid\": not singular (have no zeros on diagonal, no empty rows, etc.)'''\n",
    "    Aval, bval = A.data, b\n",
    "    Arows, Acols = A.indices[:, 0], A.indices[:, 1]\n",
    "    x = jnp.zeros_like(bval)\n",
    "\n",
    "    if lower:\n",
    "        f_pointer = partial(pointer_over_dim, iterate_dim=Arows, retrive_dim=Acols)\n",
    "        dim_range = np.arange(1, x.shape[0])\n",
    "        x = x.at[0].set(bval[0] / Aval[0])\n",
    "    else:\n",
    "        f_pointer = partial(pointer_over_dim, iterate_dim=Acols, retrive_dim=Arows)\n",
    "        dim_range = np.arange(x.shape[0] - 2, -1, -1)\n",
    "        x = x.at[-1].divide(bval[-1] / Aval[-1])\n",
    "    \n",
    "#     for i in dim_range:\n",
    "#         sl = Aindptr[i+1] - Aindptr[i]\n",
    "#         lhs_ind, rhs_ind = f_pointer(i, size=sl)\n",
    "# #         rhs_ind = lhs_ind[:sl]\n",
    "#         rhs_ind = rhs_ind[:-1]#sl]\n",
    "#         nondiag_ind, diag_ind = lhs_ind[:-1], lhs_ind[-1]\n",
    "        \n",
    "# #         print('rhs', x.at[rhs_ind].get().shape)\n",
    "# #         print('a', Aval.at[nondiag_ind].get().shape)\n",
    "#         c = jnp.sum(Aval.at[nondiag_ind].get() * x.at[rhs_ind].get())\n",
    "#         x = x.at[i].set(bval[i]-c)\n",
    "#         x = x.at[i].divide(Aval[diag_ind])\n",
    "        \n",
    "    @partial(jit, static_argnums=(2))\n",
    "    def f_(carry, (i, sl)):\n",
    "        Aval_, bval_, x_ = carry\n",
    "#         sl = Aindptr_[i+1] - Aindptr_[i]\n",
    "        lhs_ind, rhs_ind = f_pointer(i, size=sl)\n",
    "        rhs_ind = rhs_ind[:-1]\n",
    "        nondiag_ind, diag_ind = lhs_ind[:-1], lhs_ind[-1]\n",
    "        \n",
    "        c = jnp.sum(Aval_.at[nondiag_ind].get() * x_.at[rhs_ind].get())\n",
    "        x = x.at[i].set(bval_[i]-c)\n",
    "        x = x.at[i].divide(Aval_[diag_ind])\n",
    "        return (Aval_, bval_, x_), None\n",
    "    \n",
    "    carry_ = (Aval, bval, x)\n",
    "    (_, _, x), _ = jax.lax.scan(f_, carry_, dim_range)\n",
    "    return x\n",
    "        \n",
    "\n",
    "# def pointer_over_dim(i, iterate_dim, retrive_dim):\n",
    "#     '''Returns all indices in the columns/row of the i-th row/column.'''\n",
    "#     A_pos = jnp.nonzero(jnp.where(iterate_dim == i, 1, 0), size=i, fill_value=0)[0].astype(jnp.int32)\n",
    "#     return A_pos\n",
    "\n",
    "  \n",
    "def pointer_over_dim(i, size, iterate_dim, retrive_dim):\n",
    "    '''Returns all indices in the columns/row of the i-th row/column.'''\n",
    "    nnz_ = partial(jnp.nonzero, size=i, fill_value=0) \n",
    "    \n",
    "    A_pos = jnp.nonzero(jnp.where(iterate_dim == i, 1, 0), size=size.item(), fill_value=0)[0].astype(jnp.int32)\n",
    "#     A_pos = jnp.nonzero(jnp.where(iterate_dim == i, 1, 0))[0].astype(jnp.int32)\n",
    "    x_pos = retrive_dim[A_pos]\n",
    "#     jnp.where(iterate_dim == i, 1, 0)\n",
    "    \n",
    "#     pass\n",
    "#     return retrive_dim[jnp.where(iterate_dim == i, 1, 0).astype(bool)]\n",
    "#     return jnp.nonzero(jnp.where(iterate_dim == i, 1, 0), size=i, fill_value=0)[0].astype(jnp.int32)\n",
    "    return A_pos, x_pos"
   ]
  },
  {
   "cell_type": "code",
   "execution_count": 368,
   "id": "0e12df96",
   "metadata": {},
   "outputs": [],
   "source": [
    "# for i in jnp.unique(abc_tril.indices[:, 0]):\n",
    "#     t, y = (pointer_over_dim(i, abc_tril.indices[:, 0], abc_tril.indices[:, 1]))\n",
    "#     print(t)\n",
    "#     print(y)\n",
    "#     print()"
   ]
  },
  {
   "cell_type": "code",
   "execution_count": 369,
   "id": "c774eb2c",
   "metadata": {},
   "outputs": [
    {
     "data": {
      "text/plain": [
       "(0, 1, 3, 5, 7, 9, 12, 15, 18, 20, 23, 26, 29, 31, 34, 37, 40)"
      ]
     },
     "execution_count": 369,
     "metadata": {},
     "output_type": "execute_result"
    }
   ],
   "source": [
    "tuple(np.array(Aindptr))"
   ]
  },
  {
   "cell_type": "code",
   "execution_count": 370,
   "id": "4e92550d",
   "metadata": {},
   "outputs": [
    {
     "name": "stdout",
     "output_type": "stream",
     "text": [
      "(0, 1, 3, 5, 7, 9, 12, 15, 18, 20, 23, 26, 29, 31, 34, 37, 40)\n"
     ]
    },
    {
     "ename": "TracerIntegerConversionError",
     "evalue": "The __index__() method was called on traced array with shape int32[].\nThe error occurred while tracing the function f_ at /tmp/ipykernel_314911/4230714008.py:31 for jit. This concrete value was not available in Python because it depends on the value of the argument i.\nSee https://jax.readthedocs.io/en/latest/errors.html#jax.errors.TracerIntegerConversionError",
     "output_type": "error",
     "traceback": [
      "\u001b[0;31m---------------------------------------------------------------------------\u001b[0m",
      "\u001b[0;31mTracerIntegerConversionError\u001b[0m              Traceback (most recent call last)",
      "Cell \u001b[0;32mIn[370], line 3\u001b[0m\n\u001b[1;32m      1\u001b[0m Aindptr \u001b[38;5;241m=\u001b[39m jsparse\u001b[38;5;241m.\u001b[39mBCSR\u001b[38;5;241m.\u001b[39mfrom_bcoo(abc_tril)\u001b[38;5;241m.\u001b[39mindptr\n\u001b[0;32m----> 3\u001b[0m x1 \u001b[38;5;241m=\u001b[39m \u001b[43mjax\u001b[49m\u001b[38;5;241;43m.\u001b[39;49m\u001b[43mjit\u001b[49m\u001b[43m(\u001b[49m\u001b[43mjspsolve_triangular_efficient\u001b[49m\u001b[43m,\u001b[49m\u001b[43m \u001b[49m\u001b[43mstatic_argnums\u001b[49m\u001b[38;5;241;43m=\u001b[39;49m\u001b[43m(\u001b[49m\u001b[38;5;241;43m1\u001b[39;49m\u001b[43m)\u001b[49m\u001b[43m)\u001b[49m\u001b[43m(\u001b[49m\u001b[43mabc_tril\u001b[49m\u001b[43m,\u001b[49m\u001b[43m \u001b[49m\u001b[38;5;28;43mtuple\u001b[39;49m\u001b[43m(\u001b[49m\u001b[43mnp\u001b[49m\u001b[38;5;241;43m.\u001b[39;49m\u001b[43marray\u001b[49m\u001b[43m(\u001b[49m\u001b[43mAindptr\u001b[49m\u001b[43m)\u001b[49m\u001b[43m)\u001b[49m\u001b[43m,\u001b[49m\u001b[43m \u001b[49m\u001b[43mb_train\u001b[49m\u001b[43m[\u001b[49m\u001b[38;5;241;43m0\u001b[39;49m\u001b[43m,\u001b[49m\u001b[43m \u001b[49m\u001b[43m:\u001b[49m\u001b[43m]\u001b[49m\u001b[43m)\u001b[49m\n\u001b[1;32m      4\u001b[0m \u001b[38;5;66;03m# x1 = jspsolve_triangular_efficient(abc_tril, b_train[0, :])\u001b[39;00m\n\u001b[1;32m      5\u001b[0m display(x1)\n",
      "    \u001b[0;31m[... skipping hidden 11 frame]\u001b[0m\n",
      "Cell \u001b[0;32mIn[367], line 46\u001b[0m, in \u001b[0;36mjspsolve_triangular_efficient\u001b[0;34m(A, Aindptr, b, lower)\u001b[0m\n\u001b[1;32m     43\u001b[0m     \u001b[38;5;28;01mreturn\u001b[39;00m (Aval_, bval_, x_), \u001b[38;5;28;01mNone\u001b[39;00m\n\u001b[1;32m     45\u001b[0m carry_ \u001b[38;5;241m=\u001b[39m (Aval, bval, x)\n\u001b[0;32m---> 46\u001b[0m (_, _, x), _ \u001b[38;5;241m=\u001b[39m \u001b[43mjax\u001b[49m\u001b[38;5;241;43m.\u001b[39;49m\u001b[43mlax\u001b[49m\u001b[38;5;241;43m.\u001b[39;49m\u001b[43mscan\u001b[49m\u001b[43m(\u001b[49m\u001b[43mf_\u001b[49m\u001b[43m,\u001b[49m\u001b[43m \u001b[49m\u001b[43mcarry_\u001b[49m\u001b[43m,\u001b[49m\u001b[43m \u001b[49m\u001b[43mdim_range\u001b[49m\u001b[43m)\u001b[49m\n\u001b[1;32m     47\u001b[0m \u001b[38;5;28;01mreturn\u001b[39;00m x\n",
      "    \u001b[0;31m[... skipping hidden 20 frame]\u001b[0m\n",
      "Cell \u001b[0;32mIn[367], line 35\u001b[0m, in \u001b[0;36mjspsolve_triangular_efficient.<locals>.f_\u001b[0;34m(carry, i, Aindptr_)\u001b[0m\n\u001b[1;32m     33\u001b[0m Aval_, bval_, x_ \u001b[38;5;241m=\u001b[39m carry\n\u001b[1;32m     34\u001b[0m \u001b[38;5;28mprint\u001b[39m(Aindptr_)\n\u001b[0;32m---> 35\u001b[0m sl \u001b[38;5;241m=\u001b[39m \u001b[43mAindptr_\u001b[49m\u001b[43m[\u001b[49m\u001b[43mi\u001b[49m\u001b[38;5;241;43m+\u001b[39;49m\u001b[38;5;241;43m1\u001b[39;49m\u001b[43m]\u001b[49m \u001b[38;5;241m-\u001b[39m Aindptr_[i]\n\u001b[1;32m     36\u001b[0m lhs_ind, rhs_ind \u001b[38;5;241m=\u001b[39m f_pointer(i, size\u001b[38;5;241m=\u001b[39msl)\n\u001b[1;32m     37\u001b[0m rhs_ind \u001b[38;5;241m=\u001b[39m rhs_ind[:\u001b[38;5;241m-\u001b[39m\u001b[38;5;241m1\u001b[39m]\n",
      "    \u001b[0;31m[... skipping hidden 1 frame]\u001b[0m\n",
      "File \u001b[0;32m/usr/local/lib/python3.10/dist-packages/jax/_src/core.py:1495\u001b[0m, in \u001b[0;36mconcretization_function_error.<locals>.error\u001b[0;34m(self, arg)\u001b[0m\n\u001b[1;32m   1494\u001b[0m \u001b[38;5;28;01mdef\u001b[39;00m \u001b[38;5;21merror\u001b[39m(\u001b[38;5;28mself\u001b[39m, arg):\n\u001b[0;32m-> 1495\u001b[0m   \u001b[38;5;28;01mraise\u001b[39;00m TracerIntegerConversionError(arg)\n",
      "\u001b[0;31mTracerIntegerConversionError\u001b[0m: The __index__() method was called on traced array with shape int32[].\nThe error occurred while tracing the function f_ at /tmp/ipykernel_314911/4230714008.py:31 for jit. This concrete value was not available in Python because it depends on the value of the argument i.\nSee https://jax.readthedocs.io/en/latest/errors.html#jax.errors.TracerIntegerConversionError"
     ]
    }
   ],
   "source": [
    "Aindptr = jsparse.BCSR.from_bcoo(abc_tril).indptr\n",
    "\n",
    "x1 = jax.jit(jspsolve_triangular_efficient, static_argnums=(1))(abc_tril, tuple(np.array(Aindptr)), b_train[0, :])\n",
    "# x1 = jspsolve_triangular_efficient(abc_tril, b_train[0, :])\n",
    "display(x1)\n",
    "nodes[0, :] - abc_tril @ x1"
   ]
  },
  {
   "cell_type": "code",
   "execution_count": 337,
   "id": "0f1cdb75",
   "metadata": {},
   "outputs": [
    {
     "data": {
      "text/plain": [
       "array([-0.15317   , -0.08858586, -0.10272937, -0.03668332, -0.16018477,\n",
       "       -0.10423788, -0.10477789, -0.05557638, -0.14603297, -0.05063239,\n",
       "       -0.04826519, -0.05530344, -0.12375249, -0.01204653,  0.00430035,\n",
       "        0.01369833], dtype=float32)"
      ]
     },
     "metadata": {},
     "output_type": "display_data"
    },
    {
     "data": {
      "text/plain": [
       "Array([ 0.0000000e+00,  0.0000000e+00,  0.0000000e+00,  0.0000000e+00,\n",
       "        0.0000000e+00,  0.0000000e+00,  0.0000000e+00,  2.9802322e-08,\n",
       "       -5.9604645e-08,  2.2351742e-08,  7.4505806e-09, -1.4901161e-08,\n",
       "        0.0000000e+00,  0.0000000e+00,  0.0000000e+00,  0.0000000e+00],      dtype=float32)"
      ]
     },
     "execution_count": 337,
     "metadata": {},
     "output_type": "execute_result"
    }
   ],
   "source": [
    "from scipy.linalg import solve_triangular\n",
    "x2 = solve_triangular(np.asarray(abc_tril.todense()), np.asarray(b_train[0, :]), lower=True)\n",
    "display(x2)\n",
    "\n",
    "nodes[0, :] - np.asarray(abc_tril.todense()) @ x2"
   ]
  },
  {
   "cell_type": "code",
   "execution_count": null,
   "id": "04c5cacb",
   "metadata": {},
   "outputs": [],
   "source": []
  },
  {
   "cell_type": "code",
   "execution_count": null,
   "id": "fd9ec6ff",
   "metadata": {},
   "outputs": [],
   "source": []
  },
  {
   "cell_type": "code",
   "execution_count": null,
   "id": "55b133c4",
   "metadata": {},
   "outputs": [],
   "source": [
    "def jspsolve_triangular(A: jax.experimental.sparse.bcoo.BCOO, b: jax.Array, lower: bool=True) -> jax.Array:\n",
    "    '''A must be a lower/upper triangular matrix.\n",
    "       It should be \"valid\": not singular (have no zeros on diagonal, no empty rows, etc.)'''\n",
    "    A_local, b_local = A, b\n",
    "    A_csr = jsparse.BCSR.from_bcoo(A_local)\n",
    "    \n",
    "    x = jnp.zeros_like(b_local)\n",
    "    dim_range = jnp.arange(x.shape[0]) if lower else jnp.arange(x.shape[0] - 1, -1, -1)\n",
    "    \n",
    "    for size, i in enumerate(dim_range):\n",
    "        \n",
    "        \n",
    "        \n",
    "        vec = jnp.zeros(size)\n",
    "        vec = vec.at[].set()\n",
    "        \n",
    "        a_ij, a_ii = A_local[i, :].todense(), A_local[i, i].todense()\n",
    "        c = b_local[i] - jnp.sum(a_ij * x)\n",
    "        x = x.at[i].add(c)\n",
    "        x = x.at[i].divide(a_ii)\n",
    "    return x"
   ]
  },
  {
   "cell_type": "code",
   "execution_count": null,
   "id": "6f9deb59",
   "metadata": {},
   "outputs": [],
   "source": []
  },
  {
   "cell_type": "code",
   "execution_count": null,
   "id": "b8bede39",
   "metadata": {},
   "outputs": [],
   "source": []
  },
  {
   "cell_type": "code",
   "execution_count": null,
   "id": "47b39f17",
   "metadata": {},
   "outputs": [],
   "source": [
    "import scipy\n",
    "print(A_train[0, ...].nse, A_train[0, ...].indices.shape)\n",
    "A_train_scipy = A_train[0, ...]\n",
    "A_train_scipy = scipy.sparse.coo_matrix((A_train_scipy.data, (A_train_scipy.indices[:, 0], A_train_scipy.indices[:, 1])), shape=A_train_scipy.shape, dtype=np.float64).tocsr()\n",
    "print(A_train_scipy.nnz)\n",
    "afg = A_train[0, ...]\n",
    "afg.data = afg.data * 0 + 1\n",
    "plt.imshow(afg.todense());"
   ]
  },
  {
   "cell_type": "code",
   "execution_count": null,
   "id": "ceb5caef",
   "metadata": {},
   "outputs": [],
   "source": []
  },
  {
   "cell_type": "code",
   "execution_count": null,
   "id": "3e166d3c",
   "metadata": {},
   "outputs": [],
   "source": [
    "from utils import factorsILUp\n",
    "from jax.experimental import sparse as jsparse\n",
    "\n",
    "L0, U0 = factorsILUp(A_train[0, ...], p=0)\n",
    "L1, U1 = factorsILUp(A_train[0, ...], p=1)\n",
    "L2, U2 = factorsILUp(A_train[0, ...], p=2)\n",
    "\n",
    "# LU = [(jsparse.BCOO.from_scipy_sparse(L0), jsparse.BCOO.from_scipy_sparse(U0)),\n",
    "#       (jsparse.BCOO.from_scipy_sparse(L1), jsparse.BCOO.from_scipy_sparse(U1)),\n",
    "#       (jsparse.BCOO.from_scipy_sparse(L2), jsparse.BCOO.from_scipy_sparse(U2))]\n",
    "LU = [(L0, U0), (L1, U1), (L2, U2)]\n",
    "\n",
    "# for i, lu in enumerate(LU):\n",
    "#     l_pattern, u_pattern = lu\n",
    "#     l_pattern.data = l_pattern.data * 0 + 1\n",
    "#     u_pattern.data = u_pattern.data * 0 + 1\n",
    "#     LU[i] = (l_pattern, u_pattern)\n",
    "\n",
    "LU_pattern = []\n",
    "for i in range(3):\n",
    "    l_pattern, u_pattern = factorsILUp(A_train[0, ...], p=0)\n",
    "    for _ in range(i):\n",
    "        print(i)\n",
    "        lu_ = l_pattern @ u_pattern\n",
    "        lu_.data = (lu_.data * 0) + 1\n",
    "        print(lu_.nnz)\n",
    "        l_pattern, u_pattern = factorsILUp(jsparse.BCOO.from_scipy_sparse(lu_.tocoo()), p=0)\n",
    "    LU_pattern.append((l_pattern, u_pattern))\n",
    "    \n",
    "# for i in range(3):\n",
    "#     LU_pattern[i] = (jsparse.BCOO.from_scipy_sparse(LU_pattern[i][0]), jsparse.BCOO.from_scipy_sparse(LU_pattern[i][1]))"
   ]
  },
  {
   "cell_type": "code",
   "execution_count": null,
   "id": "ab6d0904",
   "metadata": {},
   "outputs": [],
   "source": [
    "plt.set_cmap('binary')\n",
    "_, axes = plt.subplots(3, 3, figsize=(10, 10))\n",
    "\n",
    "for i, lu, ttl in zip(range(len(LU)), LU_pattern, ['ilu0', 'ilu1', 'ilu2']):\n",
    "    try: print('   ', lu[0].nnz)\n",
    "    except: print('   ', lu[0].nse)\n",
    "    lu_ = lu[0] @ lu[1]\n",
    "    lu_.data = (lu_.data * 0) + 1\n",
    "    try: print('L@U', lu_.nnz)\n",
    "    except: print('L@U', lu_.nse)\n",
    "        \n",
    "    axes[i, 0].imshow(lu[0].todense(), label='L')\n",
    "    axes[i, 1].imshow(lu[1].todense(), label='L')\n",
    "    axes[i, 2].imshow(lu_.todense(), label='L @ U')\n",
    "    axes[i, 1].set_title(ttl)\n",
    "    print()\n",
    "\n",
    "for i in range(3):\n",
    "    for j in range(3):\n",
    "        axes[i, j].set_xticks([])\n",
    "        axes[i, j].set_yticks([])\n",
    "plt.tight_layout()"
   ]
  },
  {
   "cell_type": "code",
   "execution_count": null,
   "id": "1e9527ec",
   "metadata": {},
   "outputs": [],
   "source": [
    "L, U = factorsILUp(A_train[0, ...], p=0)\n",
    "print(L.nnz)\n",
    "print((L @ U).nnz)\n",
    "print(jsparse.BCOO.from_scipy_sparse(L @ U).nse, jsparse.BCOO.from_scipy_sparse(L @ U).dtype)\n",
    "_, axes = plt.subplots(1, 3, figsize=(14,14))\n",
    "axes[0].imshow(A_train[0, ...].todense(), vmin=-1, vmax=1)\n",
    "axes[1].imshow(L.todense(), vmin=-1, vmax=1)\n",
    "axes[2].imshow(U.todense(), vmin=-1, vmax=1)"
   ]
  },
  {
   "cell_type": "code",
   "execution_count": null,
   "id": "95589b33",
   "metadata": {},
   "outputs": [],
   "source": [
    "B = L @ U\n",
    "# B.data = (B.data * 0) + 1\n",
    "L1, U1 = factorsILUp(jsparse.BCOO.from_scipy_sparse(B), 0)\n",
    "print(L1.nnz)\n",
    "print((L1 @ U1).nnz)\n",
    "print(jsparse.BCOO.from_scipy_sparse(L1 @ U1).nse)\n",
    "_, axes = plt.subplots(1, 3, figsize=(14,14))\n",
    "axes[0].imshow(B.todense(), vmin=-1, vmax=1)\n",
    "axes[1].imshow(L1.todense(), vmin=-1, vmax=1)\n",
    "axes[2].imshow(U1.todense(), vmin=-1, vmax=1)"
   ]
  },
  {
   "cell_type": "code",
   "execution_count": null,
   "id": "72371ae9",
   "metadata": {},
   "outputs": [],
   "source": [
    "C = L1 @ U1\n",
    "# C.data = (C.data * 0) + 1\n",
    "L2, U2 = factorsILUp(jsparse.BCOO.from_scipy_sparse(C), 0)\n",
    "print(L2.nnz)\n",
    "print((L2 @ U2).nnz)\n",
    "print(jsparse.BCOO.from_scipy_sparse(L2 @ U2).nse)\n",
    "_, axes = plt.subplots(1, 3, figsize=(14,14))\n",
    "axes[0].imshow(C.todense(), vmin=-1, vmax=1)\n",
    "axes[1].imshow(L2.todense(), vmin=-1, vmax=1)\n",
    "axes[2].imshow(U2.todense(), vmin=-1, vmax=1)"
   ]
  },
  {
   "cell_type": "code",
   "execution_count": null,
   "id": "844b966d",
   "metadata": {},
   "outputs": [],
   "source": []
  },
  {
   "cell_type": "markdown",
   "id": "a3a01633",
   "metadata": {},
   "source": [
    "# Train model"
   ]
  },
  {
   "cell_type": "code",
   "execution_count": null,
   "id": "5f578632",
   "metadata": {},
   "outputs": [],
   "source": [
    "seed = 42\n",
    "NodeEncoder = FullyConnectedNet(features=[1, 16, 16], N_layers=2, key=random.PRNGKey(seed), layer_=layer_)\n",
    "EdgeEncoder = FullyConnectedNet(features=[1, 16, 16], N_layers=2, key=random.PRNGKey(seed), layer_=layer_)\n",
    "EdgeDecoder = FullyConnectedNet(features=[16, 16, 1], N_layers=2, key=random.PRNGKey(seed), layer_=layer_)\n",
    "\n",
    "mp_rounds = 5\n",
    "MessagePass = MessagePassing(\n",
    "    update_edge_fn = FullyConnectedNet(features=[48, 16, 16], N_layers=2, key=random.PRNGKey(seed), layer_=layer_),    \n",
    "    update_node_fn = FullyConnectedNet(features=[32, 16, 16], N_layers=2, key=random.PRNGKey(seed), layer_=layer_),\n",
    "    mp_rounds=mp_rounds\n",
    ")\n",
    "\n",
    "model = PrecNet(NodeEncoder=NodeEncoder, EdgeEncoder=EdgeEncoder, \n",
    "                EdgeDecoder=EdgeDecoder, MessagePass=MessagePass)\n",
    "print(f'Parameter number: {params_count(model)}')"
   ]
  },
  {
   "cell_type": "code",
   "execution_count": null,
   "id": "5526afd2",
   "metadata": {},
   "outputs": [],
   "source": [
    "# data = (X_train, X_test, y_train, y_test)\n",
    "if dataset == 'krylov':\n",
    "    data = (\n",
    "        [A_train, b_train, bi_edges_train, u_exact_train, res_train, u_app_train],\n",
    "        [A_test, b_test, bi_edges_test, u_exact_test, res_test, u_app_test],\n",
    "        jnp.array([1]), jnp.array([1])\n",
    "    )\n",
    "elif dataset == 'simple':\n",
    "    data = (\n",
    "        [A_train, b_train, bi_edges_train, u_exact_train],\n",
    "        [A_test, b_test, bi_edges_test, u_exact_test],\n",
    "        jnp.array([1]), jnp.array([1])\n",
    "    )\n",
    "train_config = {\n",
    "    'optimizer': optax.adam,\n",
    "    'lr': lr,\n",
    "    'optim_params': {},#{'weight_decay': 1e-8}, \n",
    "    'epoch_num': epoch_num,\n",
    "    'batch_size': batch_size\n",
    "}"
   ]
  },
  {
   "cell_type": "markdown",
   "id": "aedb6dee",
   "metadata": {},
   "source": [
    "### Pre-train with $LL^T$ loss "
   ]
  },
  {
   "cell_type": "code",
   "execution_count": null,
   "id": "15db4f9a",
   "metadata": {},
   "outputs": [],
   "source": [
    "# batch_size = 4\n",
    "# lr = 1e-2\n",
    "\n",
    "# # steps_per_batch = N_samples_train // batch_size\n",
    "# # start, stop, step = 20*steps_per_batch, 101*steps_per_batch, 20*steps_per_batch\n",
    "# # decay_size = 1e-1\n",
    "# # lr = optax.piecewise_constant_schedule(\n",
    "# #     lr,\n",
    "# # #     {k: v for k, v in zip([37], [1e-1])}\n",
    "# #     {k: v for k, v in zip(np.arange(start, stop, step), [decay_size, ] * len(jnp.arange(start, stop, step)))}\n",
    "# # )\n",
    "# pretrain_train_config = {\n",
    "#     'optimizer': optax.adam,\n",
    "#     'lr': lr,\n",
    "#     'optim_params': {},#{'weight_decay': 1e-8}, \n",
    "#     'epoch_num': 150,\n",
    "#     'batch_size': batch_size\n",
    "# }\n",
    "# model, losses_pre = train(model, data, pretrain_train_config, loss_name='llt', with_cond=True)"
   ]
  },
  {
   "cell_type": "markdown",
   "id": "a93b530a",
   "metadata": {},
   "source": [
    "-----"
   ]
  },
  {
   "cell_type": "code",
   "execution_count": null,
   "id": "1ecd6292",
   "metadata": {},
   "outputs": [],
   "source": [
    "s = perf_counter()\n",
    "model, losses = train(model, data, train_config, loss_name=loss_type, with_cond=with_cond, repeat_step=cg_repeats)\n",
    "dt = perf_counter() - s"
   ]
  },
  {
   "cell_type": "code",
   "execution_count": null,
   "id": "f9f526ab",
   "metadata": {},
   "outputs": [],
   "source": [
    "dt"
   ]
  },
  {
   "cell_type": "code",
   "execution_count": null,
   "id": "fe92318e",
   "metadata": {},
   "outputs": [],
   "source": [
    "L = vmap(model, in_axes=(0, 0, 0, 0, 0), out_axes=(0))(*direc_graph_from_linear_system_sparse(A_test[::cg_repeats, ...], b_test[::cg_repeats, ...])[:-1], bi_edges_test[::cg_repeats, ...])\n",
    "del model, data, A_train, b_train, u_exact_train, bi_edges_train\n",
    "if dataset == 'krylov': del res_train, res_test, u_app_train, u_app_test\n",
    "clear_caches()"
   ]
  },
  {
   "cell_type": "code",
   "execution_count": null,
   "id": "a0c03f0d",
   "metadata": {},
   "outputs": [],
   "source": [
    "_, axes = plt.subplots(1, 2, figsize=(14, 5))\n",
    "\n",
    "# No pre-train\n",
    "axes[0].plot(range(len(losses[0])), losses[1], label='Test')\n",
    "axes[0].plot(range(len(losses[0])), losses[0], label='Train')\n",
    "\n",
    "# # With pre-train\n",
    "# axes[0].plot(range(len(losses_pre[0])), losses_pre[1], label='Test')\n",
    "# axes[0].plot(range(len(losses_pre[0])), losses_pre[0], label='Train')\n",
    "# axes[0].plot(range(len(losses_pre[0]), len(losses_pre[0])+len(losses[0])), losses[1], label='Test')\n",
    "# axes[0].plot(range(len(losses_pre[0]), len(losses_pre[0])+len(losses[0])), losses[0], label='Train')\n",
    "\n",
    "axes[0].legend()\n",
    "axes[0].set_yscale('log')\n",
    "axes[0].set_xlabel('Epoch')\n",
    "axes[0].set_ylabel('Notay loss');\n",
    "axes[0].grid();\n",
    "\n",
    "\n",
    "if with_cond:\n",
    "    # No pre-train\n",
    "    axes[1].plot(range(len(losses[0])), losses[2], label='Test real cond P^(-1)A')\n",
    "\n",
    "    # With pre-train\n",
    "    # axes[1].plot(range(len(losses_pre[0])), losses_pre[2], label='Test')\n",
    "    # axes[1].plot(range(len(losses_pre[0]), len(losses_pre[0])+len(losses[0])), losses[2], label='Test')\n",
    "\n",
    "    axes[1].legend()\n",
    "    axes[1].set_yscale('log')\n",
    "    axes[1].set_xlabel('Epoch')\n",
    "    axes[1].set_ylabel('Condition number of $LL^T$')\n",
    "    axes[1].grid();\n",
    "\n",
    "\n",
    "# axes[0].axvline(pretrain_train_config['epoch_num'], 0, 1e11, linestyle='--', c='k')\n",
    "# axes[1].axvline(pretrain_train_config['epoch_num'], 0, 1e11, linestyle='--', c='k')\n",
    "# for vl in [28]:#[13, 17, 22, 25, 29, 39, 59, 79]:\n",
    "#     axes[0].axvline(vl, 0, 1e11, linestyle='--', c='k')\n",
    "#     axes[1].axvline(vl, 0, 1e11, linestyle='--', c='k')\n",
    "plt.tight_layout()\n",
    "\n",
    "\n",
    "if with_cond: \n",
    "    print(f'Final values\\n  train loss: {losses[0][-1]:.4f}\\n   test loss: {losses[1][-1]:.4f}\\n    LLT cond: {losses[2][-1]:.0f}')\n",
    "    print(f'\\nMinimim test loss `{jnp.min(losses[1]).item():.4f}` at epoch `{jnp.argmin(losses[1]).item():.0f}`')\n",
    "    print(f'\\nMinimim test P^(-1)A cond `{jnp.min(losses[2]).item():.0f}` at epoch `{jnp.argmin(losses[2]).item():.0f}`')\n",
    "else:\n",
    "    print(f'Final values\\n  train loss: {losses[0][-1]:.4f}\\n   test loss: {losses[1][-1]:.4f}')\n",
    "    print(f'\\nMinimim test loss `{jnp.min(losses[1]).item():.4f}` at epoch `{jnp.argmin(losses[1]).item():.0f}`')\n",
    "if with_final_cond:\n",
    "    cond_A, cond_LLT = jit(asses_cond)(A_test[::cg_repeats, ...], L)\n",
    "    print(f'\\nTest lhs A cond: {cond_A:.0f}, test P^(-1)A cond: {cond_LLT:.0f}')"
   ]
  },
  {
   "cell_type": "markdown",
   "id": "61acce01",
   "metadata": {},
   "source": [
    "# Apply model to CG"
   ]
  },
  {
   "cell_type": "code",
   "execution_count": null,
   "id": "e2162cb7",
   "metadata": {},
   "outputs": [],
   "source": [
    "# Not preconditioned\n",
    "X_I, R_I = ConjGrad(A_test[::cg_repeats, ...], b_test[::cg_repeats, ...], N_iter=300, prec_func=None, seed=42)"
   ]
  },
  {
   "cell_type": "code",
   "execution_count": null,
   "id": "5c9f525b",
   "metadata": {},
   "outputs": [],
   "source": [
    "# Prec = LL^T\n",
    "prec = partial(llt_prec, L=L)\n",
    "\n",
    "X_LLT, R_LLT = ConjGrad(A_test[::cg_repeats, ...], b_test[::cg_repeats, ...], N_iter=300, prec_func=prec, seed=42)"
   ]
  },
  {
   "cell_type": "code",
   "execution_count": null,
   "id": "1207559b",
   "metadata": {},
   "outputs": [],
   "source": [
    "plt.plot(range(R_I.shape[-1]), jnp.linalg.norm(R_I, axis=1).mean(0), label=\"Not preconditioned\")\n",
    "plt.plot(range(R_LLT.shape[-1]), jnp.linalg.norm(R_LLT, axis=1).mean(0), label=\"Notay loss\")\n",
    "\n",
    "plt.xlabel('Iteration')\n",
    "plt.ylabel('Norm residual')\n",
    "plt.legend();\n",
    "plt.yscale('log')\n",
    "plt.grid();\n",
    "\n",
    "# plt.ylim([1e-15, 1e0]);\n",
    "# plt.vlines([10, 20], [1e-15]*2, [100]*2, linestyle='--', color='k')\n",
    "\n",
    "res_I_dict = iter_per_residual(R_I)\n",
    "res_LLT_dict = iter_per_residual(R_LLT)\n",
    "print('        Simple CG:', res_I_dict)\n",
    "print('Preconditioned CG:', res_LLT_dict)"
   ]
  },
  {
   "cell_type": "code",
   "execution_count": null,
   "id": "0e3a240d",
   "metadata": {},
   "outputs": [],
   "source": [
    "_, axes = plt.subplots(1, 3, figsize=(14, 14))\n",
    "\n",
    "axes[0].imshow(X_I[0, :, -1].reshape([grid]*2))\n",
    "axes[1].imshow(X_LLT[0, :, -1].reshape([grid]*2))\n",
    "axes[2].imshow(u_exact_test[0, :].reshape([grid]*2))\n",
    "\n",
    "axes[0].set_title('No prec')\n",
    "axes[1].set_title('Notay-loss prec')\n",
    "axes[2].set_title('Exact solution')\n",
    "\n",
    "plt.tight_layout()"
   ]
  },
  {
   "cell_type": "code",
   "execution_count": null,
   "id": "901e4631",
   "metadata": {},
   "outputs": [],
   "source": []
  },
  {
   "cell_type": "code",
   "execution_count": null,
   "id": "31048788",
   "metadata": {},
   "outputs": [],
   "source": []
  }
 ],
 "metadata": {
  "kernelspec": {
   "display_name": "Python 3 (ipykernel)",
   "language": "python",
   "name": "python3"
  },
  "language_info": {
   "codemirror_mode": {
    "name": "ipython",
    "version": 3
   },
   "file_extension": ".py",
   "mimetype": "text/x-python",
   "name": "python",
   "nbconvert_exporter": "python",
   "pygments_lexer": "ipython3",
   "version": "3.10.6"
  }
 },
 "nbformat": 4,
 "nbformat_minor": 5
}
