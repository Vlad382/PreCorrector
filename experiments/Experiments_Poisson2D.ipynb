{
 "cells": [
  {
   "cell_type": "code",
   "execution_count": 1,
   "id": "e3bcffbb",
   "metadata": {},
   "outputs": [],
   "source": [
    "import warnings\n",
    "import sys\n",
    "import os\n",
    "\n",
    "warnings.filterwarnings('ignore')\n",
    "os.environ[\"CUDA_VISIBLE_DEVICES\"] = '3'\n",
    "os.environ['XLA_PYTHON_CLIENT_MEM_FRACTION'] = '1.'\n",
    "sys.path.append('/mnt/local/data/vtrifonov/prec-learning-Notay-loss/')"
   ]
  },
  {
   "cell_type": "code",
   "execution_count": 2,
   "id": "387f015b",
   "metadata": {},
   "outputs": [],
   "source": [
    "import jax.numpy as jnp\n",
    "from jax import random, vmap, clear_caches, jit\n",
    "import numpy as np\n",
    "\n",
    "import optax\n",
    "from equinox.nn import Conv1d\n",
    "import matplotlib.pyplot as plt\n",
    "from functools import partial\n",
    "from time import perf_counter\n",
    "\n",
    "from data import dataset_Krylov, dataset_FD\n",
    "from conj_grad import ConjGrad, apply_LLT\n",
    "from model import MessagePassing, FullyConnectedNet, PrecNet, ConstantConv1d, MessagePassingWithDot\n",
    "\n",
    "from utils import params_count, asses_cond, iter_per_residual, batch_indices\n",
    "from data import direc_graph_from_linear_system_sparse\n",
    "from train import train"
   ]
  },
  {
   "cell_type": "markdown",
   "id": "0a65e03a",
   "metadata": {},
   "source": [
    "# Setup experiment"
   ]
  },
  {
   "cell_type": "code",
   "execution_count": 3,
   "id": "e5479282",
   "metadata": {},
   "outputs": [],
   "source": [
    "dataset = 'simple'                # 'krylov', 'simple'\n",
    "grid = 64\n",
    "N_samples_train = 80\n",
    "N_samples_test = 20\n",
    "\n",
    "rhs_train = rhs_test = [5, 5, 2]           # 'random', 'laplace', [5, 5, 2]\n",
    "k_train = k_test = [5, 5, 2]           # 'random', 'poisson', [5, 5, 2]\n",
    "rhs_offset_train = rhs_offset_test = 0\n",
    "k_offset_train = k_offset_test = 10\n",
    "\n",
    "cg_repeats = 100\n",
    "if dataset == 'simple': cg_repeats = 1"
   ]
  },
  {
   "cell_type": "code",
   "execution_count": 4,
   "id": "5604446b",
   "metadata": {},
   "outputs": [],
   "source": [
    "layer_ = ConstantConv1d         # 'ConstantConv1d' to make a \"zero\" NN initialization; 'Conv1d' to make a random initialization\n",
    "loss_type = 'llt'               # Either 'llt' or 'notay'\n",
    "with_cond = True               # If True will calculate cond during training. Extremly bad scaling (materialization of matrix)\n",
    "with_final_cond = True         # If True will calculate cond with final L. Also bad scaling"
   ]
  },
  {
   "cell_type": "code",
   "execution_count": 5,
   "id": "0d489dff",
   "metadata": {},
   "outputs": [],
   "source": [
    "batch_size = 32\n",
    "lr = 1e-2\n",
    "epoch_num = 1000"
   ]
  },
  {
   "cell_type": "code",
   "execution_count": 6,
   "id": "c8bcb316",
   "metadata": {},
   "outputs": [],
   "source": [
    "# # Uncomment and setup to make steps in learning rate\n",
    "\n",
    "# steps_per_batch = N_samples_train * cg_repeats // batch_size\n",
    "# start, stop, step = 30*steps_per_batch, 101*steps_per_batch, 30*steps_per_batch\n",
    "# decay_size = 1e-1\n",
    "# lr = optax.piecewise_constant_schedule(\n",
    "#     lr,\n",
    "# #     {k: v for k, v in zip([37], [1e-1])}\n",
    "#     {k: v for k, v in zip(np.arange(start, stop, step), [decay_size, ] * len(jnp.arange(start, stop, step)))}\n",
    "# )"
   ]
  },
  {
   "cell_type": "markdown",
   "id": "8ecdf4b6",
   "metadata": {},
   "source": [
    "# Make dataset"
   ]
  },
  {
   "cell_type": "code",
   "execution_count": null,
   "id": "92f32560",
   "metadata": {},
   "outputs": [
    {
     "name": "stderr",
     "output_type": "stream",
     "text": [
      "2024-04-19 13:00:28.142416: W external/xla/xla/service/gpu/nvptx_compiler.cc:718] The NVIDIA driver's CUDA version is 12.2 which is older than the ptxas CUDA version (12.4.131). Because the driver is older than the ptxas version, XLA is disabling parallel compilation, which may slow down compilation. You should update your NVIDIA driver or use the NVIDIA-provided CUDA forward compatibility packages.\n"
     ]
    }
   ],
   "source": [
    "if dataset == 'krylov':\n",
    "    A_train, b_train, u_exact_train, bi_edges_train, res_train, u_app_train = dataset_Krylov(grid, N_samples_train, seed=42, rhs_distr=rhs_train, rhs_offset=rhs_offset_train,\n",
    "                                                                                             k_distr=k_train, k_offset=k_offset_train, cg_repeats=cg_repeats)\n",
    "    A_test, b_test, u_exact_test, bi_edges_test, res_test, u_app_test = dataset_Krylov(grid, N_samples_test, seed=43, rhs_distr=rhs_test, rhs_offset=rhs_offset_test,\n",
    "                                                                                       k_distr=k_test, k_offset=k_offset_test, cg_repeats=cg_repeats)\n",
    "elif dataset == 'simple':\n",
    "    A_train, b_train, u_exact_train, bi_edges_train = dataset_FD(grid, N_samples_train, seed=42, rhs_distr=rhs_train,\n",
    "                                                                 rhs_offset=rhs_offset_train, k_distr=k_train, k_offset=k_offset_train)\n",
    "    A_test, b_test, u_exact_test, bi_edges_test = dataset_FD(grid, N_samples_test, seed=43, rhs_distr=rhs_test,\n",
    "                                                             rhs_offset=rhs_offset_test, k_distr=k_test, k_offset=k_offset_test)"
   ]
  },
  {
   "cell_type": "code",
   "execution_count": null,
   "id": "466462e9",
   "metadata": {},
   "outputs": [],
   "source": [
    "jnp.unique(A_train.data).shape"
   ]
  },
  {
   "cell_type": "code",
   "execution_count": null,
   "id": "b3f27396",
   "metadata": {},
   "outputs": [],
   "source": [
    "A_test[3, ...].todense().diagonal()"
   ]
  },
  {
   "cell_type": "code",
   "execution_count": null,
   "id": "89452897",
   "metadata": {},
   "outputs": [],
   "source": [
    "jnp.sqrt(A_test[0, ...].todense().diagonal())"
   ]
  },
  {
   "cell_type": "markdown",
   "id": "a67eefe9",
   "metadata": {},
   "source": [
    "# Train model"
   ]
  },
  {
   "cell_type": "code",
   "execution_count": null,
   "id": "bbb90b64",
   "metadata": {},
   "outputs": [],
   "source": [
    "seed = 42\n",
    "NodeEncoder = FullyConnectedNet(features=[1, 16, 16], N_layers=2, key=random.PRNGKey(seed), layer_=layer_)\n",
    "EdgeEncoder = FullyConnectedNet(features=[1, 16, 16], N_layers=2, key=random.PRNGKey(seed), layer_=layer_)\n",
    "EdgeDecoder = FullyConnectedNet(features=[16, 16, 1], N_layers=2, key=random.PRNGKey(seed), layer_=layer_)\n",
    "\n",
    "mp_rounds = 5\n",
    "MessagePass = MessagePassing(\n",
    "    update_edge_fn = FullyConnectedNet(features=[48, 16, 16], N_layers=2, key=random.PRNGKey(seed), layer_=layer_),    \n",
    "    update_node_fn = FullyConnectedNet(features=[32, 16, 16], N_layers=2, key=random.PRNGKey(seed), layer_=layer_),\n",
    "    mp_rounds=mp_rounds\n",
    ")\n",
    "\n",
    "model = PrecNet(NodeEncoder=NodeEncoder, EdgeEncoder=EdgeEncoder, \n",
    "                EdgeDecoder=EdgeDecoder, MessagePass=MessagePass)\n",
    "print(f'Parameter number: {params_count(model)}')"
   ]
  },
  {
   "cell_type": "code",
   "execution_count": null,
   "id": "a3441afe",
   "metadata": {},
   "outputs": [],
   "source": [
    "# data = (X_train, X_test, y_train, y_test)\n",
    "if dataset == 'krylov':\n",
    "    data = (\n",
    "        [A_train, b_train, bi_edges_train, u_exact_train, res_train, u_app_train],\n",
    "        [A_test, b_test, bi_edges_test, u_exact_test, res_test, u_app_test],\n",
    "        jnp.array([1]), jnp.array([1])\n",
    "    )\n",
    "elif dataset == 'simple':\n",
    "    data = (\n",
    "        [A_train, b_train, bi_edges_train, u_exact_train],\n",
    "        [A_test, b_test, bi_edges_test, u_exact_test],\n",
    "        jnp.array([1]), jnp.array([1])\n",
    "    )\n",
    "train_config = {\n",
    "    'optimizer': optax.adam,\n",
    "    'lr': lr,\n",
    "    'optim_params': {},#{'weight_decay': 1e-8}, \n",
    "    'epoch_num': epoch_num,\n",
    "    'batch_size': batch_size\n",
    "}"
   ]
  },
  {
   "cell_type": "markdown",
   "id": "3542d9bb",
   "metadata": {},
   "source": [
    "### Pre-train with $LL^T$ loss "
   ]
  },
  {
   "cell_type": "code",
   "execution_count": null,
   "id": "f5de89d2",
   "metadata": {},
   "outputs": [],
   "source": [
    "# batch_size = 4\n",
    "# lr = 1e-2\n",
    "\n",
    "# # steps_per_batch = N_samples_train // batch_size\n",
    "# # start, stop, step = 20*steps_per_batch, 101*steps_per_batch, 20*steps_per_batch\n",
    "# # decay_size = 1e-1\n",
    "# # lr = optax.piecewise_constant_schedule(\n",
    "# #     lr,\n",
    "# # #     {k: v for k, v in zip([37], [1e-1])}\n",
    "# #     {k: v for k, v in zip(np.arange(start, stop, step), [decay_size, ] * len(jnp.arange(start, stop, step)))}\n",
    "# # )\n",
    "# pretrain_train_config = {\n",
    "#     'optimizer': optax.adam,\n",
    "#     'lr': lr,\n",
    "#     'optim_params': {},#{'weight_decay': 1e-8}, \n",
    "#     'epoch_num': 150,\n",
    "#     'batch_size': batch_size\n",
    "# }\n",
    "# model, losses_pre = train(model, data, pretrain_train_config, loss_name='llt', with_cond=True)"
   ]
  },
  {
   "cell_type": "markdown",
   "id": "c7be5e7b",
   "metadata": {},
   "source": [
    "-----"
   ]
  },
  {
   "cell_type": "code",
   "execution_count": null,
   "id": "cc051ca6",
   "metadata": {},
   "outputs": [],
   "source": [
    "s = perf_counter()\n",
    "model, losses = train(model, data, train_config, loss_name=loss_type, with_cond=with_cond, repeat_step=cg_repeats)\n",
    "print(perf_counter() - s)"
   ]
  },
  {
   "cell_type": "code",
   "execution_count": null,
   "id": "4deb9362",
   "metadata": {},
   "outputs": [],
   "source": [
    "L = vmap(model, in_axes=(0, 0, 0, 0, 0), out_axes=(0))(*direc_graph_from_linear_system_sparse(A_test[::cg_repeats, ...], b_test[::cg_repeats, ...])[:-1], bi_edges_test[::cg_repeats, ...])\n",
    "del model, data, A_train, b_train, u_exact_train, bi_edges_train\n",
    "if dataset == 'krylov': del res_train, res_test, u_app_train, u_app_test\n",
    "clear_caches()"
   ]
  },
  {
   "cell_type": "code",
   "execution_count": null,
   "id": "34ed8535",
   "metadata": {},
   "outputs": [],
   "source": [
    "_, axes = plt.subplots(1, 2, figsize=(14, 5))\n",
    "\n",
    "# No pre-train\n",
    "axes[0].plot(range(len(losses[0])), losses[1], label='Test')\n",
    "axes[0].plot(range(len(losses[0])), losses[0], label='Train')\n",
    "\n",
    "# # With pre-train\n",
    "# axes[0].plot(range(len(losses_pre[0])), losses_pre[1], label='Test')\n",
    "# axes[0].plot(range(len(losses_pre[0])), losses_pre[0], label='Train')\n",
    "# axes[0].plot(range(len(losses_pre[0]), len(losses_pre[0])+len(losses[0])), losses[1], label='Test')\n",
    "# axes[0].plot(range(len(losses_pre[0]), len(losses_pre[0])+len(losses[0])), losses[0], label='Train')\n",
    "\n",
    "axes[0].legend()\n",
    "axes[0].set_yscale('log')\n",
    "axes[0].set_xlabel('Epoch')\n",
    "axes[0].set_ylabel('Notay loss');\n",
    "axes[0].grid();\n",
    "\n",
    "\n",
    "if with_cond:\n",
    "    # No pre-train\n",
    "    axes[1].plot(range(len(losses[0])), losses[2], label='Test real cond P^(-1)A')\n",
    "\n",
    "    # With pre-train\n",
    "    # axes[1].plot(range(len(losses_pre[0])), losses_pre[2], label='Test')\n",
    "    # axes[1].plot(range(len(losses_pre[0]), len(losses_pre[0])+len(losses[0])), losses[2], label='Test')\n",
    "\n",
    "    axes[1].legend()\n",
    "    axes[1].set_yscale('log')\n",
    "    axes[1].set_xlabel('Epoch')\n",
    "    axes[1].set_ylabel('Condition number of $LL^T$')\n",
    "    axes[1].grid();\n",
    "\n",
    "\n",
    "# axes[0].axvline(pretrain_train_config['epoch_num'], 0, 1e11, linestyle='--', c='k')\n",
    "# axes[1].axvline(pretrain_train_config['epoch_num'], 0, 1e11, linestyle='--', c='k')\n",
    "# for vl in [28]:#[13, 17, 22, 25, 29, 39, 59, 79]:\n",
    "#     axes[0].axvline(vl, 0, 1e11, linestyle='--', c='k')\n",
    "#     axes[1].axvline(vl, 0, 1e11, linestyle='--', c='k')\n",
    "plt.tight_layout()\n",
    "\n",
    "\n",
    "if with_cond: \n",
    "    print(f'Final values\\n  train loss: {losses[0][-1]:.4f}\\n   test loss: {losses[1][-1]:.4f}\\n    LLT cond: {losses[2][-1]:.0f}')\n",
    "    print(f'\\nMinimim test loss `{jnp.min(losses[1]).item():.4f}` at epoch `{jnp.argmin(losses[1]).item():.0f}`')\n",
    "    print(f'\\nMinimim test P^(-1)A cond `{jnp.min(losses[2]).item():.0f}` at epoch `{jnp.argmin(losses[2]).item():.0f}`')\n",
    "else:\n",
    "    print(f'Final values\\n  train loss: {losses[0][-1]:.4f}\\n   test loss: {losses[1][-1]:.4f}')\n",
    "    print(f'\\nMinimim test loss `{jnp.min(losses[1]).item():.4f}` at epoch `{jnp.argmin(losses[1]).item():.0f}`')\n",
    "if with_final_cond:\n",
    "    cond_A, cond_LLT = jit(asses_cond)(A_test[::cg_repeats, ...], L)\n",
    "    print(f'\\nTest lhs A cond: {cond_A:.0f}, test P^(-1)A cond: {cond_LLT:.0f}')"
   ]
  },
  {
   "cell_type": "markdown",
   "id": "58264b05",
   "metadata": {},
   "source": [
    "# Apply model to CG"
   ]
  },
  {
   "cell_type": "code",
   "execution_count": null,
   "id": "2a73c4a8",
   "metadata": {},
   "outputs": [],
   "source": [
    "# Not preconditioned\n",
    "X_I, R_I = ConjGrad(A_test[::cg_repeats, ...], b_test[::cg_repeats, ...], N_iter=300, prec_func=None, seed=42)"
   ]
  },
  {
   "cell_type": "code",
   "execution_count": null,
   "id": "f10c4ac6",
   "metadata": {},
   "outputs": [],
   "source": [
    "# Prec = LL^T\n",
    "prec = partial(apply_LLT, L=L)\n",
    "\n",
    "X_LLT, R_LLT = ConjGrad(A_test[::cg_repeats, ...], b_test[::cg_repeats, ...], N_iter=300, prec_func=prec, seed=42)"
   ]
  },
  {
   "cell_type": "code",
   "execution_count": null,
   "id": "b26793cf",
   "metadata": {},
   "outputs": [],
   "source": [
    "plt.plot(range(R_I.shape[-1]), jnp.linalg.norm(R_I, axis=1).mean(0), label=\"Not preconditioned\")\n",
    "plt.plot(range(R_LLT.shape[-1]), jnp.linalg.norm(R_LLT, axis=1).mean(0), label=\"Notay loss\")\n",
    "\n",
    "plt.xlabel('Iteration')\n",
    "plt.ylabel('Norm residual')\n",
    "plt.legend();\n",
    "plt.yscale('log')\n",
    "plt.grid();\n",
    "\n",
    "# plt.ylim([1e-15, 1e0]);\n",
    "# plt.vlines([10, 20], [1e-15]*2, [100]*2, linestyle='--', color='k')\n",
    "\n",
    "res_I_dict = iter_per_residual(R_I)\n",
    "res_LLT_dict = iter_per_residual(R_LLT)\n",
    "print('        Simple CG:', res_I_dict)\n",
    "print('Preconditioned CG:', res_LLT_dict)"
   ]
  },
  {
   "cell_type": "code",
   "execution_count": null,
   "id": "55a16db2",
   "metadata": {},
   "outputs": [],
   "source": [
    "_, axes = plt.subplots(1, 3, figsize=(14, 14))\n",
    "\n",
    "axes[0].imshow(X_I[0, :, -1].reshape([grid]*2))\n",
    "axes[1].imshow(X_LLT[0, :, -1].reshape([grid]*2))\n",
    "axes[2].imshow(u_exact_test[0, :].reshape([grid]*2))\n",
    "\n",
    "axes[0].set_title('No prec')\n",
    "axes[1].set_title('Notay-loss prec')\n",
    "axes[2].set_title('Exact solution')\n",
    "\n",
    "plt.tight_layout()"
   ]
  },
  {
   "cell_type": "code",
   "execution_count": null,
   "id": "d43888f6",
   "metadata": {},
   "outputs": [],
   "source": []
  },
  {
   "cell_type": "code",
   "execution_count": null,
   "id": "00188471",
   "metadata": {},
   "outputs": [],
   "source": []
  }
 ],
 "metadata": {
  "kernelspec": {
   "display_name": "Python 3 (ipykernel)",
   "language": "python",
   "name": "python3"
  },
  "language_info": {
   "codemirror_mode": {
    "name": "ipython",
    "version": 3
   },
   "file_extension": ".py",
   "mimetype": "text/x-python",
   "name": "python",
   "nbconvert_exporter": "python",
   "pygments_lexer": "ipython3",
   "version": "3.10.6"
  }
 },
 "nbformat": 4,
 "nbformat_minor": 5
}
