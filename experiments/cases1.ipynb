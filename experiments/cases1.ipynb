{
 "cells": [
  {
   "cell_type": "code",
   "execution_count": 1,
   "id": "c399ac3d",
   "metadata": {},
   "outputs": [],
   "source": [
    "import warnings\n",
    "import sys\n",
    "import os\n",
    "\n",
    "warnings.filterwarnings('ignore')\n",
    "os.environ[\"CUDA_VISIBLE_DEVICES\"] = '1'\n",
    "os.environ['XLA_PYTHON_CLIENT_MEM_FRACTION'] = '.95'\n",
    "sys.path.append('/mnt/local/data/vtrifonov/prec-learning-Notay-loss/')"
   ]
  },
  {
   "cell_type": "code",
   "execution_count": 2,
   "id": "4f5bc78e",
   "metadata": {},
   "outputs": [],
   "source": [
    "import jax.numpy as jnp\n",
    "from train_utils import training_search\n",
    "from sklearn.model_selection import ParameterGrid"
   ]
  },
  {
   "cell_type": "code",
   "execution_count": 3,
   "id": "aee9589e",
   "metadata": {},
   "outputs": [],
   "source": [
    "# 'dataset': [],          # 'simple', 'krylov'\n",
    "# 'grid': [],             # int \n",
    "# 'N_samples_train': [],  # int\n",
    "# 'N_samples_test': [],   # int\n",
    "# 'rhs_train': [],        # 'random', 'laplace', [5, 5, 2]\n",
    "# 'rhs_test': [],         # 'random', 'laplace', [5, 5, 2]\n",
    "# 'k_train': [],          # 'poisson', [5, 5, 2]\n",
    "# 'k_test': [],           # 'poisson', [5, 5, 2]\n",
    "# 'rhs_offset_train': [], # float\n",
    "# 'rhs_offset_test': [],  # float\n",
    "# 'k_offset_train': [],   # float\n",
    "# 'k_offset_test': [],    # float\n",
    "# 'lhs_type': [],         # 'fd', 'ilu0', 'ilu1', 'ilu2'\n",
    "# 'cg_repeats': [],       # int\n",
    "# 'loss_type': [],        # 'llt', 'llt-norm', 'notay', 'llt-res', 'llt-res-norm'\n",
    "# 'loss_reduction': [],   # jnp.mean,  jnp.sum\n",
    "# 'batch_size': [],       # int\n",
    "# 'epoch_num': [],        # int\n",
    "# 'lr_start': [],         # float\n",
    "# 'schedule_params': [],  # [start, stop, step, decay_size], type:[int, int, int, float]\n",
    "# 'cg_valid_repeats': []  # int"
   ]
  },
  {
   "cell_type": "code",
   "execution_count": 4,
   "id": "7e0f5467",
   "metadata": {},
   "outputs": [],
   "source": [
    "loss = 'llt'"
   ]
  },
  {
   "cell_type": "code",
   "execution_count": null,
   "id": "84b2b91e",
   "metadata": {},
   "outputs": [
    {
     "name": "stdout",
     "output_type": "stream",
     "text": [
      "Started: 0\n",
      "Started: 1\n",
      "Started: 2\n"
     ]
    }
   ],
   "source": [
    "# Simple\n",
    "params = {\n",
    "    'dataset': ['simple'],\n",
    "    'grid': [64, 128], \n",
    "    'N_samples_train': [100],#[20, 40, 80, 100],\n",
    "    'N_samples_test': [20],#[5, 10, 20],\n",
    "    'rhs_train': ['random'],\n",
    "    'k_train': ['poisson', [5, 5, 2]],\n",
    "    'rhs_offset_train': [0],\n",
    "    'k_offset_train': [10],\n",
    "    'lhs_type': ['fd', 'ilu0', 'ilu1', 'ilu2'],\n",
    "    'cg_repeats': [1],\n",
    "    'loss_type': [loss],\n",
    "    'loss_reduction': [jnp.mean],\n",
    "    'batch_size': [32],#[8, 16, 32, 64],\n",
    "    'epoch_num': [1200],#[500, 800, 1200, 2000],\n",
    "    'lr_start': [1e-3, 1e-4],#[1e-2, 1e-3, 1e-4],\n",
    "    'schedule_params': [None],\n",
    "    'cg_valid_repeats': [500]\n",
    "}\n",
    "params_grid = ParameterGrid(params)\n",
    "\n",
    "training_search(params_grid, loss)"
   ]
  },
  {
   "cell_type": "code",
   "execution_count": null,
   "id": "945afdf1",
   "metadata": {},
   "outputs": [],
   "source": [
    "# # Krylov | 300 cg_repeats\n",
    "# params = {\n",
    "#     'dataset': ['krylov'],\n",
    "#     'grid': [64], \n",
    "#     'N_samples_train': ,\n",
    "#     'N_samples_test': [20],\n",
    "#     'rhs_train': ['random', [5, 5, 2]],\n",
    "#     'k_train': ['poisson', [5, 5, 2]],\n",
    "#     'rhs_offset_train': [0],\n",
    "#     'k_offset_train': [10],\n",
    "#     'lhs_type': ['fd', 'ilu0', 'ilu1', 'ilu2'],\n",
    "#     'cg_repeats': [300],\n",
    "#     'loss_type': [loss],\n",
    "#     'loss_reduction': [jnp.mean],\n",
    "#     'batch_size': [64, 128, 256],\n",
    "#     'epoch_num': [500, 800, 1200, 2000],\n",
    "#     'lr_start': [1e-2, 1e-3, 1e-4],\n",
    "#     'schedule_params': [None],\n",
    "#     'cg_valid_repeats': [500]\n",
    "# }\n",
    "# params_grid = ParameterGrid(params)\n",
    "\n",
    "# training_search(params_grid, loss)"
   ]
  },
  {
   "cell_type": "code",
   "execution_count": 3,
   "id": "c62485b3",
   "metadata": {},
   "outputs": [],
   "source": [
    "loss = 'llt-norm'"
   ]
  },
  {
   "cell_type": "code",
   "execution_count": null,
   "id": "520d4c77",
   "metadata": {},
   "outputs": [
    {
     "name": "stdout",
     "output_type": "stream",
     "text": [
      "Started: 0\n",
      "Started: 1\n",
      "Started: 2\n",
      "Started: 3\n",
      "Started: 4\n"
     ]
    }
   ],
   "source": [
    "# Simple\n",
    "params = {\n",
    "    'dataset': ['simple'],\n",
    "    'grid': [64, 128], \n",
    "    'N_samples_train': [100],#[20, 40, 80, 100],\n",
    "    'N_samples_test': [20],#[5, 10, 20],\n",
    "    'rhs_train': ['random'],\n",
    "    'k_train': ['poisson', [5, 5, 2]],\n",
    "    'rhs_offset_train': [0],\n",
    "    'k_offset_train': [10],\n",
    "    'lhs_type': ['fd', 'ilu0', 'ilu1', 'ilu2'],\n",
    "    'cg_repeats': [1],\n",
    "    'loss_type': [loss],\n",
    "    'loss_reduction': [jnp.mean],\n",
    "    'batch_size': [32],#[8, 16, 32, 64],\n",
    "    'epoch_num': [1200],#[500, 800, 1200, 2000],\n",
    "    'lr_start': [1e-3, 1e-4],#[1e-2, 1e-3, 1e-4],\n",
    "    'schedule_params': [None],\n",
    "    'cg_valid_repeats': [500]\n",
    "}\n",
    "params_grid = ParameterGrid(params)\n",
    "\n",
    "training_search(params_grid, loss)"
   ]
  },
  {
   "cell_type": "code",
   "execution_count": null,
   "id": "67730e1f",
   "metadata": {},
   "outputs": [],
   "source": [
    "import pandas as pd\n",
    "import jax.numpy as jnp"
   ]
  },
  {
   "cell_type": "code",
   "execution_count": null,
   "id": "970c04f6",
   "metadata": {},
   "outputs": [],
   "source": [
    "2+3"
   ]
  },
  {
   "cell_type": "code",
   "execution_count": null,
   "id": "5e2d253f",
   "metadata": {},
   "outputs": [],
   "source": []
  }
 ],
 "metadata": {
  "kernelspec": {
   "display_name": "Python 3 (ipykernel)",
   "language": "python",
   "name": "python3"
  },
  "language_info": {
   "codemirror_mode": {
    "name": "ipython",
    "version": 3
   },
   "file_extension": ".py",
   "mimetype": "text/x-python",
   "name": "python",
   "nbconvert_exporter": "python",
   "pygments_lexer": "ipython3",
   "version": "3.10.6"
  }
 },
 "nbformat": 4,
 "nbformat_minor": 5
}
