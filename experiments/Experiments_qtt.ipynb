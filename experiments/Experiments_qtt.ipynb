{
 "cells": [
  {
   "cell_type": "code",
   "execution_count": null,
   "id": "d604bdd7",
   "metadata": {},
   "outputs": [],
   "source": [
    "import warnings\n",
    "import sys\n",
    "import os\n",
    "\n",
    "warnings.filterwarnings('ignore')\n",
    "os.environ[\"CUDA_VISIBLE_DEVICES\"] = '2'\n",
    "os.environ['XLA_PYTHON_CLIENT_MEM_FRACTION'] = '.95'\n",
    "sys.path.append('/mnt/local/data/vtrifonov/prec-learning-Notay-loss/')"
   ]
  },
  {
   "cell_type": "code",
   "execution_count": 2,
   "id": "e8d459e2",
   "metadata": {},
   "outputs": [],
   "source": [
    "import jax.numpy as jnp\n",
    "from jax import random, vmap, clear_caches, jit\n",
    "import numpy as np\n",
    "\n",
    "import optax\n",
    "from equinox.nn import Conv1d\n",
    "import matplotlib.pyplot as plt\n",
    "from functools import partial\n",
    "from time import perf_counter\n",
    "\n",
    "from data.dataset import dataset_qtt\n",
    "from linsolve.cg import ConjGrad\n",
    "from linsolve.precond import llt_prec_trig_solve, llt_inv_prec\n",
    "from model import MessagePassing, FullyConnectedNet, PrecNet, ConstantConv1d, MessagePassingWithDot\n",
    "\n",
    "from utils import params_count, asses_cond, iter_per_residual, batch_indices\n",
    "from data.utils import direc_graph_from_linear_system_sparse\n",
    "from train import train"
   ]
  },
  {
   "cell_type": "markdown",
   "id": "0ffe9d8f",
   "metadata": {},
   "source": [
    "# Setup experiment"
   ]
  },
  {
   "cell_type": "code",
   "execution_count": 3,
   "id": "16014d38",
   "metadata": {},
   "outputs": [],
   "source": [
    "pde = 'div_k_grad'      # 'poisson', 'div_k_grad'\n",
    "grid = 128            # 32, 64, 128\n",
    "variance = 1.5        # 0.1, 0.5, 1.0 1.5\n",
    "lhs_type = 'ilu2'      # 'fd', 'ilu0', 'ilu1', 'ilu2', 'iсt', 'l_iсt', 'a_pow'\n",
    "fill_factor = 20     # int\n",
    "threshold = 1e-2     # float\n",
    "power = 2            # int\n",
    "N_valid_CG = 300     # Number of CG iterations for validation in the very end"
   ]
  },
  {
   "cell_type": "code",
   "execution_count": 4,
   "id": "c467fd0c",
   "metadata": {},
   "outputs": [],
   "source": [
    "layer_ = ConstantConv1d         # 'ConstantConv1d' to make a \"zero\" NN initialization; 'Conv1d' to make a random initialization\n",
    "loss_type = 'llt'               # 'llt', 'llt-res', 'inv_prec'\n",
    "loss_reduction = jnp.mean"
   ]
  },
  {
   "cell_type": "code",
   "execution_count": 5,
   "id": "5a4eeb07",
   "metadata": {},
   "outputs": [],
   "source": [
    "batch_size = 32\n",
    "epoch_num = 100\n",
    "lr = 1e-2\n",
    "schedule_params = None    # [start, stop, step, decay_size]"
   ]
  },
  {
   "cell_type": "code",
   "execution_count": 6,
   "id": "a27b728e",
   "metadata": {},
   "outputs": [],
   "source": [
    "# if (loss_type in {'notay', 'llt-res', 'llt-res-norm'} and dataset == 'simple') or (loss_type in {'llt', 'llt-norm'} and dataset == 'krylov'):\n",
    "#     raise ValueError('Not valid dataset for a chosen loss')\n",
    "\n",
    "if schedule_params != None:\n",
    "    assert len(schedule_params) == 4\n",
    "    \n",
    "    start, stop, step, decay_size = schedule_params\n",
    "    steps_per_batch = N_samples_train // batch_size\n",
    "    start, stop, step = start*steps_per_batch, stop*steps_per_batch, step*steps_per_batch\n",
    "    lr = optax.piecewise_constant_schedule(\n",
    "        lr,\n",
    "        {k: v for k, v in zip(np.arange(start, stop, step), [decay_size, ] * len(jnp.arange(start, stop, step)))}\n",
    "    )"
   ]
  },
  {
   "cell_type": "code",
   "execution_count": 7,
   "id": "92956ac0",
   "metadata": {},
   "outputs": [],
   "source": [
    "model_config = {\n",
    "    'node_enc': {\n",
    "        'features': [1, 16, 16],\n",
    "        'N_layers': 2,\n",
    "        'layer_': layer_\n",
    "    },\n",
    "    'edge_enc': {\n",
    "        'features': [1, 16, 16],\n",
    "        'N_layers': 2,\n",
    "        'layer_': layer_\n",
    "    },\n",
    "    'edge_dec': {\n",
    "        'features': [16, 16, 1],\n",
    "        'N_layers': 2,\n",
    "        'layer_': layer_\n",
    "    },\n",
    "    'mp': {\n",
    "        'edge_upd': {\n",
    "            'features': [48, 16, 16],\n",
    "            'N_layers': 2,\n",
    "            'layer_': layer_\n",
    "        },\n",
    "        'node_upd': {\n",
    "            'features': [32, 16, 16],\n",
    "            'N_layers': 2,\n",
    "            'layer_': layer_\n",
    "        },\n",
    "        'mp_rounds': 5\n",
    "    }\n",
    "}"
   ]
  },
  {
   "cell_type": "markdown",
   "id": "fa3d5e92",
   "metadata": {},
   "source": [
    "# Make dataset"
   ]
  },
  {
   "cell_type": "code",
   "execution_count": 8,
   "id": "6cafc03c",
   "metadata": {},
   "outputs": [
    {
     "name": "stderr",
     "output_type": "stream",
     "text": [
      "2024-05-09 17:50:22.066745: W external/xla/xla/service/gpu/nvptx_compiler.cc:760] The NVIDIA driver's CUDA version is 12.2 which is older than the ptxas CUDA version (12.3.107). Because the driver is older than the ptxas version, XLA is disabling parallel compilation, which may slow down compilation. You should update your NVIDIA driver or use the NVIDIA-provided CUDA forward compatibility packages.\n"
     ]
    },
    {
     "name": "stdout",
     "output_type": "stream",
     "text": [
      "62.43664985895157\n"
     ]
    }
   ],
   "source": [
    "s1 = perf_counter()\n",
    "A_train, A_pad_train, b_train, u_exact_train, bi_edges_train = dataset_qtt(pde, grid, variance, lhs_type, return_train=True, fill_factor=fill_factor, threshold=threshold, power=power)\n",
    "A_test, A_pad_test, b_test, u_exact_test, bi_edges_test = dataset_qtt(pde, grid, variance, lhs_type, return_train=False, fill_factor=fill_factor, threshold=threshold, power=power)\n",
    "print(perf_counter() - s1)"
   ]
  },
  {
   "cell_type": "markdown",
   "id": "94c1c3aa",
   "metadata": {},
   "source": [
    "# Train model"
   ]
  },
  {
   "cell_type": "code",
   "execution_count": 9,
   "id": "4562b5d2",
   "metadata": {},
   "outputs": [
    {
     "name": "stdout",
     "output_type": "stream",
     "text": [
      "Parameter number: 2753\n"
     ]
    }
   ],
   "source": [
    "seed = 42\n",
    "NodeEncoder = FullyConnectedNet(**model_config['node_enc'], key=random.PRNGKey(seed))\n",
    "EdgeEncoder = FullyConnectedNet(**model_config['edge_enc'], key=random.PRNGKey(seed))\n",
    "EdgeDecoder = FullyConnectedNet(**model_config['edge_dec'], key=random.PRNGKey(seed))\n",
    "\n",
    "mp_rounds = 5\n",
    "MessagePass = MessagePassing(\n",
    "    update_edge_fn = FullyConnectedNet(**model_config['mp']['edge_upd'], key=random.PRNGKey(seed)),    \n",
    "    update_node_fn = FullyConnectedNet(**model_config['mp']['node_upd'], key=random.PRNGKey(seed)),\n",
    "    mp_rounds=model_config['mp']['mp_rounds']\n",
    ")\n",
    "\n",
    "model = PrecNet(NodeEncoder=NodeEncoder, EdgeEncoder=EdgeEncoder, \n",
    "                EdgeDecoder=EdgeDecoder, MessagePass=MessagePass)\n",
    "print(f'Parameter number: {params_count(model)}')"
   ]
  },
  {
   "cell_type": "code",
   "execution_count": 10,
   "id": "808fb812",
   "metadata": {},
   "outputs": [],
   "source": [
    "# data = (X_train, X_test, y_train, y_test)\n",
    "data = (\n",
    "    [A_train, A_pad_train, b_train, bi_edges_train, u_exact_train],\n",
    "    [A_test, A_pad_test, b_test, bi_edges_test, u_exact_test],\n",
    "    jnp.array([1]), jnp.array([1])\n",
    ")\n",
    "train_config = {\n",
    "    'optimizer': optax.adam,\n",
    "    'lr': lr,\n",
    "    'optim_params': {},#{'weight_decay': 1e-8}, \n",
    "    'epoch_num': epoch_num,\n",
    "    'batch_size': batch_size,\n",
    "    'loss_reduction': loss_reduction\n",
    "}"
   ]
  },
  {
   "cell_type": "code",
   "execution_count": null,
   "id": "cb4f1541",
   "metadata": {},
   "outputs": [],
   "source": [
    "s = perf_counter()\n",
    "model, losses = train(model, data, train_config, loss_name=loss_type, repeat_step=1)\n",
    "dt = perf_counter() - s"
   ]
  },
  {
   "cell_type": "code",
   "execution_count": null,
   "id": "f7c6cf4a",
   "metadata": {},
   "outputs": [],
   "source": [
    "dt"
   ]
  },
  {
   "cell_type": "code",
   "execution_count": null,
   "id": "1aeb9bb0",
   "metadata": {},
   "outputs": [],
   "source": [
    "nodes, edges, receivers, senders, _ = direc_graph_from_linear_system_sparse(A_pad_test, b_test)\n",
    "lhs_nodes, lhs_edges, lhs_receivers, lhs_senders, _ = direc_graph_from_linear_system_sparse(A_test, b_test)\n",
    "\n",
    "L = vmap(model, in_axes=((0, 0, 0, 0), 0, (0, 0, 0, 0)), out_axes=(0))((nodes, edges, receivers, senders), bi_edges_test, (lhs_nodes, lhs_edges, lhs_receivers, lhs_senders))\n",
    "del model, data, A_train, A_pad_train, b_train, u_exact_train, bi_edges_train, bi_edges_test\n",
    "clear_caches()"
   ]
  },
  {
   "cell_type": "code",
   "execution_count": null,
   "id": "2330e0a6",
   "metadata": {},
   "outputs": [],
   "source": [
    "_, axes = plt.subplots(1, 2, figsize=(14, 5))\n",
    "\n",
    "axes[0].plot(range(len(losses[0])), losses[1], label='Test')\n",
    "axes[0].plot(range(len(losses[0])), losses[0], label='Train')\n",
    "axes[0].legend()\n",
    "axes[0].set_yscale('log')\n",
    "axes[0].set_xlabel('Epoch')\n",
    "axes[0].set_ylabel('Notay loss');\n",
    "axes[0].grid();\n",
    "\n",
    "axes[1].plot(range(len(losses[0])), losses[2], label='Test')\n",
    "axes[1].legend()\n",
    "axes[1].set_yscale('log')\n",
    "axes[1].set_xlabel('Epoch')\n",
    "axes[1].set_ylabel('Cond of $P^{-1}A$')\n",
    "axes[1].grid();\n",
    "\n",
    "plt.tight_layout()\n",
    "\n",
    "print(f'Final values\\n  train loss: {losses[0][-1]:.4f}\\n   test loss: {losses[1][-1]:.4f}\\n    LLT cond: {losses[2][-1]:.0f}')\n",
    "print(f'\\nMinimim test loss `{jnp.min(losses[1]).item():.4f}` at epoch `{jnp.argmin(losses[1]).item():.0f}`')\n",
    "print(f'\\nMinimim test P^(-1)A cond `{jnp.min(losses[2]).item():.0f}` at epoch `{jnp.argmin(losses[2]).item():.0f}`')"
   ]
  },
  {
   "cell_type": "markdown",
   "id": "27464dc6",
   "metadata": {},
   "source": [
    "# Apply model to CG"
   ]
  },
  {
   "cell_type": "code",
   "execution_count": null,
   "id": "28c2dce3",
   "metadata": {},
   "outputs": [],
   "source": [
    "# Not preconditioned\n",
    "X_I, R_I = ConjGrad(A_test, b_test, N_iter=N_valid_CG, prec_func=None, seed=42)"
   ]
  },
  {
   "cell_type": "code",
   "execution_count": null,
   "id": "156b4b71",
   "metadata": {},
   "outputs": [],
   "source": [
    "if loss_type != 'inv_prec':\n",
    "    # P = LL^T\n",
    "    prec = partial(llt_prec_trig_solve, L=L)\n",
    "else:\n",
    "    # P^{-1} = LL^T\n",
    "    prec = partial(llt_inv_prec, L=L)\n",
    "\n",
    "s_prec = perf_counter()\n",
    "X_LLT, R_LLT = ConjGrad(A_test, b_test, N_iter=N_valid_CG, prec_func=prec, seed=42)\n",
    "print(perf_counter() - s_prec)"
   ]
  },
  {
   "cell_type": "code",
   "execution_count": null,
   "id": "2e894fc3",
   "metadata": {},
   "outputs": [],
   "source": [
    "plt.plot(range(R_I.shape[-1]), jnp.linalg.norm(R_I, axis=1).mean(0), label=\"Not preconditioned\")\n",
    "plt.plot(range(R_LLT.shape[-1]), jnp.linalg.norm(R_LLT, axis=1).mean(0), label=\"Notay loss\")\n",
    "\n",
    "plt.xlabel('Iteration')\n",
    "plt.ylabel('Norm residual')\n",
    "plt.legend();\n",
    "plt.yscale('log')\n",
    "plt.grid();\n",
    "\n",
    "res_I_dict = iter_per_residual(jnp.linalg.norm(R_I, axis=1).mean(0))\n",
    "res_LLT_dict = iter_per_residual(jnp.linalg.norm(R_LLT, axis=1).mean(0))\n",
    "print('        Simple CG:', res_I_dict)\n",
    "print('Preconditioned CG:', res_LLT_dict)"
   ]
  },
  {
   "cell_type": "code",
   "execution_count": null,
   "id": "bb5015dc",
   "metadata": {},
   "outputs": [],
   "source": [
    "_, axes = plt.subplots(1, 3, figsize=(14, 14))\n",
    "\n",
    "axes[0].imshow(X_I[0, :, -1].reshape([grid]*2))\n",
    "axes[1].imshow(X_LLT[0, :, -1].reshape([grid]*2))\n",
    "axes[2].imshow(u_exact_test[0, :].reshape([grid]*2))\n",
    "\n",
    "axes[0].set_title('No prec')\n",
    "axes[1].set_title('Notay-loss prec')\n",
    "axes[2].set_title('Exact solution')\n",
    "\n",
    "plt.tight_layout()"
   ]
  },
  {
   "cell_type": "code",
   "execution_count": null,
   "id": "c2d1421e",
   "metadata": {},
   "outputs": [],
   "source": []
  }
 ],
 "metadata": {
  "kernelspec": {
   "display_name": "Python 3 (ipykernel)",
   "language": "python",
   "name": "python3"
  },
  "language_info": {
   "codemirror_mode": {
    "name": "ipython",
    "version": 3
   },
   "file_extension": ".py",
   "mimetype": "text/x-python",
   "name": "python",
   "nbconvert_exporter": "python",
   "pygments_lexer": "ipython3",
   "version": "3.10.6"
  }
 },
 "nbformat": 4,
 "nbformat_minor": 5
}
