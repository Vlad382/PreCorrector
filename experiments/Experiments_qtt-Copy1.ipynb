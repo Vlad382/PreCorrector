{
 "cells": [
  {
   "cell_type": "code",
   "execution_count": null,
   "id": "ac22e2a8",
   "metadata": {},
   "outputs": [],
   "source": [
    "import warnings\n",
    "import sys\n",
    "import os\n",
    "\n",
    "warnings.filterwarnings('ignore')\n",
    "os.environ[\"CUDA_VISIBLE_DEVICES\"] = '3'\n",
    "os.environ['XLA_PYTHON_CLIENT_MEM_FRACTION'] = '.95'\n",
    "sys.path.append('/mnt/local/data/vtrifonov/prec-learning-Notay-loss/')"
   ]
  },
  {
   "cell_type": "code",
   "execution_count": 2,
   "id": "941bf314",
   "metadata": {},
   "outputs": [],
   "source": [
    "import jax.numpy as jnp\n",
    "from jax import random, vmap, clear_caches, jit\n",
    "import numpy as np\n",
    "\n",
    "import optax\n",
    "from equinox.nn import Conv1d\n",
    "import matplotlib.pyplot as plt\n",
    "from functools import partial\n",
    "from time import perf_counter\n",
    "import cloudpickle\n",
    "\n",
    "from data.dataset import dataset_qtt\n",
    "from linsolve.cg import ConjGrad\n",
    "from linsolve.precond import llt_prec_trig_solve, llt_inv_prec\n",
    "from model import MessagePassing, FullyConnectedNet, PrecNet, ConstantConv1d, MessagePassingWithDot, CorrectionNet\n",
    "\n",
    "from utils import params_count, asses_cond, iter_per_residual, batch_indices\n",
    "from data.graph_utils import direc_graph_from_linear_system_sparse\n",
    "from train import train\n",
    "\n",
    "plt.rcParams['figure.figsize'] = (11, 7)"
   ]
  },
  {
   "cell_type": "markdown",
   "id": "6a71ccae",
   "metadata": {},
   "source": [
    "# Train/retrain/overwrite"
   ]
  },
  {
   "cell_type": "code",
   "execution_count": 3,
   "id": "139424da",
   "metadata": {},
   "outputs": [],
   "source": [
    "save_path = '/mnt/local/data/vtrifonov/prec-learning-Notay-loss/trained_models/'\n",
    "model_name = 'div_k_grad_64_0.5_ilu0_llt_loss_1000epoch'\n",
    "train_from_scratch = True"
   ]
  },
  {
   "cell_type": "markdown",
   "id": "5ec2d85a",
   "metadata": {},
   "source": [
    "# Setup experiment"
   ]
  },
  {
   "cell_type": "code",
   "execution_count": 66,
   "id": "70273935",
   "metadata": {},
   "outputs": [],
   "source": [
    "pde = 'poisson'      # 'poisson', 'div_k_grad'\n",
    "grid = 128            # 32, 64, 128\n",
    "variance = .5        # 0.1, 0.5, 1.0 1.5\n",
    "lhs_type = 'fd'      # 'fd', 'ilu0', 'ilu1', 'ilu2', 'ict', 'l_ict', 'a_pow'\n",
    "N_train = 1000\n",
    "N_test = 200\n",
    "precision = 'f64'\n",
    "\n",
    "fill_factor = 1     # int\n",
    "threshold = 1e-4     # float\n",
    "power = 2            # int\n",
    "N_valid_CG = 300     # Number of CG iterations for validation in the very end"
   ]
  },
  {
   "cell_type": "code",
   "execution_count": 67,
   "id": "65c61b31",
   "metadata": {},
   "outputs": [],
   "source": [
    "with_cond = False\n",
    "layer_ = Conv1d\n",
    "# layer_ = ConstantConv1d         # 'ConstantConv1d' to make a \"zero\" NN initialization; 'Conv1d' to make a random initialization\n",
    "alpha = jnp.array([0.])\n",
    "\n",
    "loss_type = 'llt'               # 'llt', 'llt-res', 'inv-prec'"
   ]
  },
  {
   "cell_type": "code",
   "execution_count": 68,
   "id": "22f31860",
   "metadata": {},
   "outputs": [],
   "source": [
    "batch_size = 8\n",
    "epoch_num = 1000\n",
    "lr = 1e-3\n",
    "schedule_params = None #[1700, 2001, 300, 1e-1]    # [start, stop, step, decay_size]"
   ]
  },
  {
   "cell_type": "code",
   "execution_count": 69,
   "id": "c64831c6",
   "metadata": {},
   "outputs": [],
   "source": [
    "# if (loss_type in {'notay', 'llt-res', 'llt-res-norm'} and dataset == 'simple') or (loss_type in {'llt', 'llt-norm'} and dataset == 'krylov'):\n",
    "#     raise ValueError('Not valid dataset for a chosen loss')\n",
    "\n",
    "if schedule_params != None:\n",
    "    assert len(schedule_params) == 4\n",
    "    \n",
    "    start, stop, step, decay_size = schedule_params\n",
    "    steps_per_batch = N_train // batch_size\n",
    "    start, stop, step = start*steps_per_batch, stop*steps_per_batch, step*steps_per_batch\n",
    "    lr = optax.piecewise_constant_schedule(\n",
    "        lr,\n",
    "        {k: v for k, v in zip(np.arange(start, stop, step), [decay_size, ] * len(jnp.arange(start, stop, step)))}\n",
    "    )"
   ]
  },
  {
   "cell_type": "code",
   "execution_count": 70,
   "id": "f3edae9e",
   "metadata": {},
   "outputs": [],
   "source": [
    "model_config = {\n",
    "    'node_enc': {\n",
    "        'features': [1, 16, 16],\n",
    "        'N_layers': 2,\n",
    "        'layer_': layer_\n",
    "    },\n",
    "    'edge_enc': {\n",
    "        'features': [1, 16, 16],\n",
    "        'N_layers': 2,\n",
    "        'layer_': layer_\n",
    "    },\n",
    "    'edge_dec': {\n",
    "        'features': [16, 16, 1],\n",
    "        'N_layers': 2,\n",
    "        'layer_': layer_\n",
    "    },\n",
    "    'mp': {\n",
    "        'edge_upd': {\n",
    "            'features': [48, 16, 16],\n",
    "            'N_layers': 2,\n",
    "            'layer_': layer_\n",
    "        },\n",
    "        'node_upd': {\n",
    "            'features': [32, 16, 16],\n",
    "            'N_layers': 2,\n",
    "            'layer_': layer_\n",
    "        },\n",
    "        'mp_rounds': 5\n",
    "    }\n",
    "}"
   ]
  },
  {
   "cell_type": "markdown",
   "id": "519031e8",
   "metadata": {},
   "source": [
    "# Make dataset"
   ]
  },
  {
   "cell_type": "code",
   "execution_count": 71,
   "id": "6a1c444c",
   "metadata": {},
   "outputs": [
    {
     "name": "stdout",
     "output_type": "stream",
     "text": [
      "3.6856514792889357\n"
     ]
    }
   ],
   "source": [
    "s1 = perf_counter()\n",
    "A_train, A_pad_train, b_train, u_exact_train, bi_edges_train = dataset_qtt(pde, grid, variance, lhs_type,\n",
    "                                                                           return_train=True, N_samples=N_train,\n",
    "                                                                           fill_factor=fill_factor, threshold=threshold,\n",
    "                                                                           power=power, precision=precision)\n",
    "A_test, A_pad_test, b_test, u_exact_test, bi_edges_test = dataset_qtt(pde, grid, variance, lhs_type,\n",
    "                                                                      return_train=False, N_samples=N_test,\n",
    "                                                                      fill_factor=fill_factor, threshold=threshold,\n",
    "                                                                      power=power, precision=precision)\n",
    "print(perf_counter() - s1)"
   ]
  },
  {
   "cell_type": "code",
   "execution_count": 72,
   "id": "5e4e7a0e",
   "metadata": {},
   "outputs": [],
   "source": [
    "# jnp.linalg.cond(A_test[0, ...].todense())"
   ]
  },
  {
   "cell_type": "markdown",
   "id": "f315d8a6",
   "metadata": {},
   "source": [
    "# Train model"
   ]
  },
  {
   "cell_type": "code",
   "execution_count": 73,
   "id": "0a0b6c6b",
   "metadata": {},
   "outputs": [
    {
     "name": "stdout",
     "output_type": "stream",
     "text": [
      "Parameter number: 2753\n"
     ]
    }
   ],
   "source": [
    "seed = 42\n",
    "NodeEncoder = FullyConnectedNet(**model_config['node_enc'], key=random.PRNGKey(seed))\n",
    "EdgeEncoder = FullyConnectedNet(**model_config['edge_enc'], key=random.PRNGKey(seed))\n",
    "EdgeDecoder = FullyConnectedNet(**model_config['edge_dec'], key=random.PRNGKey(seed))\n",
    "\n",
    "mp_rounds = 5\n",
    "MessagePass = MessagePassing(\n",
    "    update_edge_fn = FullyConnectedNet(**model_config['mp']['edge_upd'], key=random.PRNGKey(seed)),    \n",
    "    update_node_fn = FullyConnectedNet(**model_config['mp']['node_upd'], key=random.PRNGKey(seed)),\n",
    "    mp_rounds=model_config['mp']['mp_rounds']\n",
    ")\n",
    "\n",
    "model = PrecNet(NodeEncoder=NodeEncoder, EdgeEncoder=EdgeEncoder, \n",
    "                EdgeDecoder=EdgeDecoder, MessagePass=MessagePass)\n",
    "\n",
    "# model = CorrectionNet(NodeEncoder=NodeEncoder, EdgeEncoder=EdgeEncoder, \n",
    "#                 EdgeDecoder=EdgeDecoder, MessagePass=MessagePass, alpha=alpha)\n",
    "\n",
    "# w = jnp.zeros(A_pad_train[0, ...].nse)\n",
    "# b = alpha\n",
    "# model = ShiftNet(NodeEncoder=NodeEncoder, EdgeEncoder=EdgeEncoder, \n",
    "#                 EdgeDecoder=EdgeDecoder, MessagePass=MessagePass, w=w, b=b)\n",
    "print(f'Parameter number: {params_count(model)}')"
   ]
  },
  {
   "cell_type": "code",
   "execution_count": 74,
   "id": "394d3287",
   "metadata": {},
   "outputs": [],
   "source": [
    "# data = (X_train, X_test, y_train, y_test)\n",
    "data = (\n",
    "    [A_train, A_pad_train, b_train, bi_edges_train, u_exact_train],\n",
    "    [A_test, A_pad_test, b_test, bi_edges_test, u_exact_test],\n",
    "    jnp.array([1]), jnp.array([1])\n",
    ")\n",
    "train_config = {\n",
    "    'optimizer': optax.adam,\n",
    "    'lr': lr,\n",
    "    'optim_params': {},#{'weight_decay': 1e-8}, \n",
    "    'epoch_num': epoch_num,\n",
    "    'batch_size': batch_size,\n",
    "}"
   ]
  },
  {
   "cell_type": "code",
   "execution_count": 13,
   "id": "63e23084",
   "metadata": {},
   "outputs": [],
   "source": [
    "if train_from_scratch:\n",
    "    s = perf_counter()\n",
    "    model, losses = train(model, data, train_config, loss_name=loss_type, repeat_step=1, with_cond=with_cond)\n",
    "    dt = perf_counter() - s\n",
    "    \n",
    "    with open(save_path + model_name + '.pkl', 'wb') as f:\n",
    "        cloudpickle.dump(model, f)\n",
    "else:\n",
    "    with open(save_path + model_name + '.pkl', 'rb') as f:\n",
    "        model = cloudpickle.load(f)\n",
    "    losses, dt = [np.nan], np.nan"
   ]
  },
  {
   "cell_type": "code",
   "execution_count": 14,
   "id": "bb27c1eb",
   "metadata": {},
   "outputs": [
    {
     "data": {
      "text/plain": [
       "1600.381208203733"
      ]
     },
     "execution_count": 14,
     "metadata": {},
     "output_type": "execute_result"
    }
   ],
   "source": [
    "dt"
   ]
  },
  {
   "cell_type": "code",
   "execution_count": 15,
   "id": "f8c8c1aa",
   "metadata": {},
   "outputs": [
    {
     "name": "stdout",
     "output_type": "stream",
     "text": [
      "alpha:"
     ]
    },
    {
     "data": {
      "text/plain": [
       "Array([-0.07419068], dtype=float32)"
      ]
     },
     "execution_count": 15,
     "metadata": {},
     "output_type": "execute_result"
    }
   ],
   "source": [
    "print('alpha:', end='')\n",
    "model.alpha"
   ]
  },
  {
   "cell_type": "markdown",
   "id": "d7a4ee1a",
   "metadata": {},
   "source": [
    "## Forward call time"
   ]
  },
  {
   "cell_type": "code",
   "execution_count": 75,
   "id": "72d2b4c3",
   "metadata": {},
   "outputs": [],
   "source": [
    "def calc_forward(model, A_i, b_i, bi_edges_i, num_rounds=200):\n",
    "    nodes_i, edges_i, receivers_i, senders_i, _ = direc_graph_from_linear_system_sparse(A_i[None, ...], b_i[None, ...])\n",
    "    jit_model = jit(lambda t1, t2, t3, t4, t5: model((t1, t2, t3, t4), t5))\n",
    "    L = jit_model(nodes_i[0, ...], edges_i[0, ...], receivers_i[0, ...], senders_i[0, ...], bi_edges_i)\n",
    "    \n",
    "    t_ls = []\n",
    "    for _ in range(num_rounds):\n",
    "        s = perf_counter()\n",
    "        L = jit_model(nodes_i[0, ...], edges_i[0, ...], receivers_i[0, ...], senders_i[0, ...], bi_edges_i)\n",
    "        t_ls.append(perf_counter() - s)\n",
    "    return np.mean(t_ls), np.std(t_ls)\n",
    "\n",
    "def calc_forward_PrecNet(model, A_i, A_lhs_i, b_i, bi_edges_i, num_rounds=200):\n",
    "    nodes_i, edges_i, receivers_i, senders_i, _ = direc_graph_from_linear_system_sparse(A_i[None, ...], b_i[None, ...])\n",
    "    lhs_nodes_i, lhs_edges_i, lhs_receivers_i, lhs_senders_i, _ = direc_graph_from_linear_system_sparse(A_lhs_i[None, ...], b_i[None, ...])\n",
    "    \n",
    "    jit_model = jit(lambda t1, t2, t3, t4, t5, t6, t7, t8, t9: model((t1, t2, t3, t4), t5, (t6, t7, t8, t9)))\n",
    "    L = jit_model(nodes_i[0, ...], edges_i[0, ...], receivers_i[0, ...], senders_i[0, ...], bi_edges_i,\n",
    "                  lhs_nodes_i[0, ...], lhs_edges_i[0, ...], lhs_receivers_i[0, ...], lhs_senders_i[0, ...])\n",
    "    \n",
    "    t_ls = []\n",
    "    for _ in range(num_rounds):\n",
    "        s = perf_counter()\n",
    "        L = jit_model(nodes_i[0, ...], edges_i[0, ...], receivers_i[0, ...], senders_i[0, ...], bi_edges_i,\n",
    "                      lhs_nodes_i[0, ...], lhs_edges_i[0, ...], lhs_receivers_i[0, ...], lhs_senders_i[0, ...])\n",
    "        t_ls.append(perf_counter() - s)\n",
    "    return np.mean(t_ls), np.std(t_ls)"
   ]
  },
  {
   "cell_type": "code",
   "execution_count": 76,
   "id": "3a0210ae",
   "metadata": {},
   "outputs": [],
   "source": [
    "i = 0\n",
    "# mean_, std_ = calc_forward(model, A_pad_test[i, ...], b_test[i, ...], bi_edges_test[i, ...], num_rounds=200)\n",
    "mean_, std_ = calc_forward_PrecNet(model, A_pad_test[i, ...], A_test[i, ...], b_test[i, ...], bi_edges_test[i, ...], num_rounds=200)"
   ]
  },
  {
   "cell_type": "code",
   "execution_count": 77,
   "id": "a728bb25",
   "metadata": {},
   "outputs": [
    {
     "name": "stdout",
     "output_type": "stream",
     "text": [
      "Grid = 128, lhs_type = fd. Average over 200 forward calls 0.002455±0.000165\n"
     ]
    }
   ],
   "source": [
    "print(f'Grid = {grid}, lhs_type = {lhs_type}. Average over 200 forward calls {mean_:.6f}±{std_:.6f}')"
   ]
  },
  {
   "cell_type": "markdown",
   "id": "e7c02c19",
   "metadata": {},
   "source": [
    "## Make precs"
   ]
  },
  {
   "cell_type": "code",
   "execution_count": 20,
   "id": "23575eb3",
   "metadata": {},
   "outputs": [],
   "source": [
    "nodes, edges, receivers, senders, _ = direc_graph_from_linear_system_sparse(A_pad_test, b_test)\n",
    "# lhs_nodes, lhs_edges, lhs_receivers, lhs_senders, _ = direc_graph_from_linear_system_sparse(A_test, b_test)\n",
    "\n",
    "L = vmap(model, in_axes=((0, 0, 0, 0), 0), out_axes=(0))((nodes, edges, receivers, senders), bi_edges_test)#, (lhs_nodes, lhs_edges, lhs_receivers, lhs_senders))\n",
    "# del model, data, A_train, A_pad_train, b_train, u_exact_train, bi_edges_train, bi_edges_test\n",
    "# clear_caches()"
   ]
  },
  {
   "cell_type": "code",
   "execution_count": 16,
   "id": "34acf438",
   "metadata": {},
   "outputs": [
    {
     "name": "stdout",
     "output_type": "stream",
     "text": [
      "Final values\n",
      "  train loss: 399.9403\n",
      "   test loss: 397.2411\n",
      "    LLT cond: 1\n",
      "\n",
      "Minimim test loss `395.1739` at epoch `971`\n",
      "\n",
      "Minimim test P^(-1)A cond `1` at epoch `0`\n"
     ]
    },
    {
     "data": {
      "image/png": "[encoded data removed]",
      "text/plain": [
       "<Figure size 1500x500 with 2 Axes>"
      ]
     },
     "metadata": {},
     "output_type": "display_data"
    }
   ],
   "source": [
    "_, axes = plt.subplots(1, 2, figsize=(15, 5))\n",
    "\n",
    "axes[0].plot(range(len(losses[0])), losses[1], label='Test')\n",
    "axes[0].plot(range(len(losses[0])), losses[0], label='Train')\n",
    "axes[0].legend()\n",
    "axes[0].set_yscale('log')\n",
    "axes[0].set_xlabel('Epoch')\n",
    "axes[0].set_ylabel('Loss');\n",
    "axes[0].grid();\n",
    "\n",
    "axes[1].plot(range(len(losses[0])), losses[2], label='Test')\n",
    "axes[1].legend()\n",
    "axes[1].set_yscale('log')\n",
    "axes[1].set_xlabel('Epoch')\n",
    "axes[1].set_ylabel('Cond of $P^{-1}A$')\n",
    "axes[1].grid();\n",
    "\n",
    "plt.tight_layout()\n",
    "\n",
    "print(f'Final values\\n  train loss: {losses[0][-1]:.4f}\\n   test loss: {losses[1][-1]:.4f}\\n    LLT cond: {losses[2][-1]:.0f}')\n",
    "print(f'\\nMinimim test loss `{jnp.min(losses[1]).item():.4f}` at epoch `{jnp.argmin(losses[1]).item():.0f}`')\n",
    "print(f'\\nMinimim test P^(-1)A cond `{jnp.min(losses[2]).item():.0f}` at epoch `{jnp.argmin(losses[2]).item():.0f}`')"
   ]
  },
  {
   "cell_type": "code",
   "execution_count": 17,
   "id": "fbc5a1a3",
   "metadata": {},
   "outputs": [
    {
     "data": {
      "text/plain": [
       "(Array(405.73242, dtype=float32), Array(397.24115, dtype=float32))"
      ]
     },
     "execution_count": 17,
     "metadata": {},
     "output_type": "execute_result"
    }
   ],
   "source": [
    "losses[1][500], losses[1][-1]"
   ]
  },
  {
   "cell_type": "markdown",
   "id": "c57af87d",
   "metadata": {},
   "source": [
    "# Apply model to CG"
   ]
  },
  {
   "cell_type": "code",
   "execution_count": 18,
   "id": "3f889929",
   "metadata": {},
   "outputs": [],
   "source": [
    "from linsolve.scipy_linsolve import batched_cg_scipy, make_Chol_prec_from_bcoo, cg_scipy\n",
    "from utils import jBCOO_to_scipyCSR\n",
    "\n",
    "import scipy.sparse.linalg as sci_sp_linalg\n",
    "import scipy.linalg as sci_linalg"
   ]
  },
  {
   "cell_type": "code",
   "execution_count": 21,
   "id": "09051e58",
   "metadata": {},
   "outputs": [],
   "source": [
    "P = make_Chol_prec_from_bcoo(L)"
   ]
  },
  {
   "cell_type": "code",
   "execution_count": 22,
   "id": "7f06b64b",
   "metadata": {},
   "outputs": [],
   "source": [
    "_, iters_mean, iters_std, time_mean, time_std = batched_cg_scipy(A_test, b_test, P=P, atol=1e-12, maxiter=N_valid_CG)"
   ]
  },
  {
   "cell_type": "code",
   "execution_count": 23,
   "id": "918e8e91",
   "metadata": {},
   "outputs": [
    {
     "data": {
      "text/plain": [
       "[38.065, 49.635, 60.52, 71.1]"
      ]
     },
     "execution_count": 23,
     "metadata": {},
     "output_type": "execute_result"
    }
   ],
   "source": [
    "iters_mean"
   ]
  },
  {
   "cell_type": "markdown",
   "id": "7933a29c",
   "metadata": {},
   "source": [
    "# Spectrum w/ PreCorrecrtor"
   ]
  },
  {
   "cell_type": "code",
   "execution_count": 43,
   "id": "8accb81a",
   "metadata": {
    "collapsed": true,
    "jupyter": {
     "outputs_hidden": true
    }
   },
   "outputs": [
    {
     "name": "stdout",
     "output_type": "stream",
     "text": [
      "1\n",
      " A, L and P are combined\n",
      " A and P are inverted\n",
      " Eigenvalues are calculated\n",
      " Norms are calculated\n",
      " All done\n",
      "  cond = 131.24338, lambda_min = 0.15369, lambda_max = 20.17122\n",
      "  loss = 1706.49053, lambda_max_bound = 4402.34414\n",
      "  lambda_min_bound = 0.00829, lambda_min_long_bound = 0.02364\n",
      "2\n",
      " A, L and P are combined\n",
      " A and P are inverted\n",
      " Eigenvalues are calculated\n",
      " Norms are calculated\n",
      " All done\n",
      "  cond = 177.82838, lambda_min = 0.12098, lambda_max = 21.51283\n",
      "  loss = 1761.81278, lambda_max_bound = 4289.11751\n",
      "  lambda_min_bound = 0.00822, lambda_min_long_bound = 0.02327\n",
      "3\n",
      " A, L and P are combined\n",
      " A and P are inverted\n",
      " Eigenvalues are calculated\n",
      " Norms are calculated\n",
      " All done\n",
      "  cond = 93.24665, lambda_min = 0.22720, lambda_max = 21.18580\n",
      "  loss = 1755.87698, lambda_max_bound = 4426.08225\n",
      "  lambda_min_bound = 0.00840, lambda_min_long_bound = 0.02331\n",
      "4\n",
      " A, L and P are combined\n",
      " A and P are inverted\n",
      " Eigenvalues are calculated\n",
      " Norms are calculated\n",
      " All done\n",
      "  cond = 98.03062, lambda_min = 0.22059, lambda_max = 21.62421\n",
      "  loss = 1745.97701, lambda_max_bound = 4615.74773\n",
      "  lambda_min_bound = 0.00839, lambda_min_long_bound = 0.02337\n",
      "5\n",
      " A, L and P are combined\n",
      " A and P are inverted\n",
      " Eigenvalues are calculated\n",
      " Norms are calculated\n",
      " All done\n",
      "  cond = 142.28935, lambda_min = 0.13177, lambda_max = 18.74962\n",
      "  loss = 1709.50948, lambda_max_bound = 4274.83558\n",
      "  lambda_min_bound = 0.00825, lambda_min_long_bound = 0.02361\n",
      "6\n",
      " A, L and P are combined\n",
      " A and P are inverted\n",
      " Eigenvalues are calculated\n",
      " Norms are calculated\n",
      " All done\n",
      "  cond = 133.01298, lambda_min = 0.12987, lambda_max = 17.27445\n",
      "  loss = 1790.17930, lambda_max_bound = 3960.52087\n",
      "  lambda_min_bound = 0.00824, lambda_min_long_bound = 0.02309\n",
      "7\n",
      " A, L and P are combined\n",
      " A and P are inverted\n",
      " Eigenvalues are calculated\n",
      " Norms are calculated\n",
      " All done\n",
      "  cond = 92.11078, lambda_min = 0.23222, lambda_max = 21.39040\n",
      "  loss = 1768.57062, lambda_max_bound = 4223.33410\n",
      "  lambda_min_bound = 0.00843, lambda_min_long_bound = 0.02323\n",
      "8\n",
      " A, L and P are combined\n",
      " A and P are inverted\n",
      " Eigenvalues are calculated\n",
      " Norms are calculated\n",
      " All done\n",
      "  cond = 172.90504, lambda_min = 0.10307, lambda_max = 17.82164\n",
      "  loss = 1762.40739, lambda_max_bound = 4070.47972\n",
      "  lambda_min_bound = 0.00817, lambda_min_long_bound = 0.02327\n",
      "9\n",
      " A, L and P are combined\n",
      " A and P are inverted\n",
      " Eigenvalues are calculated\n",
      " Norms are calculated\n",
      " All done\n",
      "  cond = 111.28062, lambda_min = 0.11102, lambda_max = 12.35478\n",
      "  loss = 1718.80379, lambda_max_bound = 4079.41636\n",
      "  lambda_min_bound = 0.00819, lambda_min_long_bound = 0.02355\n",
      "10\n",
      " A, L and P are combined\n",
      " A and P are inverted\n",
      " Eigenvalues are calculated\n",
      " Norms are calculated\n",
      " All done\n",
      "  cond = 73.92465, lambda_min = 0.27704, lambda_max = 20.47979\n",
      "  loss = 1784.30369, lambda_max_bound = 4094.07463\n",
      "  lambda_min_bound = 0.00848, lambda_min_long_bound = 0.02313\n",
      "11\n",
      " A, L and P are combined\n",
      " A and P are inverted\n",
      " Eigenvalues are calculated\n",
      " Norms are calculated\n",
      " All done\n",
      "  cond = 175.02144, lambda_min = 0.09357, lambda_max = 16.37655\n",
      "  loss = 1790.95317, lambda_max_bound = 4174.55219\n",
      "  lambda_min_bound = 0.00815, lambda_min_long_bound = 0.02308\n",
      "12\n",
      " A, L and P are combined\n",
      " A and P are inverted\n",
      " Eigenvalues are calculated\n",
      " Norms are calculated\n",
      " All done\n",
      "  cond = 155.34146, lambda_min = 0.10890, lambda_max = 16.91627\n",
      "  loss = 1757.10181, lambda_max_bound = 4170.60223\n",
      "  lambda_min_bound = 0.00819, lambda_min_long_bound = 0.02330\n",
      "13\n",
      " A, L and P are combined\n",
      " A and P are inverted\n",
      " Eigenvalues are calculated\n",
      " Norms are calculated\n",
      " All done\n",
      "  cond = 159.15163, lambda_min = 0.11829, lambda_max = 18.82592\n",
      "  loss = 1775.28511, lambda_max_bound = 4168.52415\n",
      "  lambda_min_bound = 0.00821, lambda_min_long_bound = 0.02318\n",
      "14\n",
      " A, L and P are combined\n",
      " A and P are inverted\n",
      " Eigenvalues are calculated\n",
      " Norms are calculated\n",
      " All done\n",
      "  cond = 92.90124, lambda_min = 0.13039, lambda_max = 12.11344\n",
      "  loss = 1718.46792, lambda_max_bound = 3459.92253\n",
      "  lambda_min_bound = 0.00824, lambda_min_long_bound = 0.02355\n",
      "15\n",
      " A, L and P are combined\n",
      " A and P are inverted\n",
      " Eigenvalues are calculated\n",
      " Norms are calculated\n",
      " All done\n",
      "  cond = 100.92463, lambda_min = 0.19272, lambda_max = 19.45042\n",
      "  loss = 1731.77923, lambda_max_bound = 4334.73731\n",
      "  lambda_min_bound = 0.00835, lambda_min_long_bound = 0.02347\n",
      "16\n",
      " A, L and P are combined\n",
      " A and P are inverted\n",
      " Eigenvalues are calculated\n",
      " Norms are calculated\n",
      " All done\n",
      "  cond = 163.06244, lambda_min = 0.13385, lambda_max = 21.82618\n",
      "  loss = 1805.21603, lambda_max_bound = 4240.29439\n",
      "  lambda_min_bound = 0.00825, lambda_min_long_bound = 0.02299\n",
      "17\n",
      " A, L and P are combined\n",
      " A and P are inverted\n",
      " Eigenvalues are calculated\n",
      " Norms are calculated\n",
      " All done\n",
      "  cond = 163.70299, lambda_min = 0.13733, lambda_max = 22.48136\n",
      "  loss = 1753.24359, lambda_max_bound = 4367.39479\n",
      "  lambda_min_bound = 0.00826, lambda_min_long_bound = 0.02333\n",
      "18\n",
      " A, L and P are combined\n",
      " A and P are inverted\n",
      " Eigenvalues are calculated\n",
      " Norms are calculated\n",
      " All done\n",
      "  cond = 135.43942, lambda_min = 0.13373, lambda_max = 18.11237\n",
      "  loss = 1729.33950, lambda_max_bound = 4323.40647\n",
      "  lambda_min_bound = 0.00825, lambda_min_long_bound = 0.02348\n",
      "19\n",
      " A, L and P are combined\n",
      " A and P are inverted\n",
      " Eigenvalues are calculated\n",
      " Norms are calculated\n",
      " All done\n",
      "  cond = 141.60716, lambda_min = 0.10194, lambda_max = 14.43540\n",
      "  loss = 1790.05783, lambda_max_bound = 4504.54539\n",
      "  lambda_min_bound = 0.00820, lambda_min_long_bound = 0.02309\n",
      "20\n",
      " A, L and P are combined\n",
      " A and P are inverted\n",
      " Eigenvalues are calculated\n",
      " Norms are calculated\n",
      " All done\n",
      "  cond = 104.85071, lambda_min = 0.15256, lambda_max = 15.99572\n",
      "  loss = 1709.42750, lambda_max_bound = 4247.64930\n",
      "  lambda_min_bound = 0.00831, lambda_min_long_bound = 0.02362\n",
      "21\n",
      " A, L and P are combined\n",
      " A and P are inverted\n",
      " Eigenvalues are calculated\n",
      " Norms are calculated\n",
      " All done\n",
      "  cond = 123.30962, lambda_min = 0.13406, lambda_max = 16.53045\n",
      "  loss = 1716.20820, lambda_max_bound = 4153.83983\n",
      "  lambda_min_bound = 0.00824, lambda_min_long_bound = 0.02357\n",
      "22\n",
      " A, L and P are combined\n",
      " A and P are inverted\n",
      " Eigenvalues are calculated\n",
      " Norms are calculated\n",
      " All done\n",
      "  cond = 120.39143, lambda_min = 0.14824, lambda_max = 17.84629\n",
      "  loss = 1739.26036, lambda_max_bound = 4011.92869\n",
      "  lambda_min_bound = 0.00828, lambda_min_long_bound = 0.02342\n",
      "23\n",
      " A, L and P are combined\n",
      " A and P are inverted\n",
      " Eigenvalues are calculated\n",
      " Norms are calculated\n",
      " All done\n",
      "  cond = 115.93997, lambda_min = 0.16296, lambda_max = 18.89346\n",
      "  loss = 1745.71908, lambda_max_bound = 4123.14079\n",
      "  lambda_min_bound = 0.00830, lambda_min_long_bound = 0.02337\n",
      "24\n",
      " A, L and P are combined\n",
      " A and P are inverted\n",
      " Eigenvalues are calculated\n",
      " Norms are calculated\n",
      " All done\n",
      "  cond = 110.93232, lambda_min = 0.15780, lambda_max = 17.50487\n",
      "  loss = 1725.62097, lambda_max_bound = 4283.81361\n",
      "  lambda_min_bound = 0.00831, lambda_min_long_bound = 0.02351\n",
      "25\n",
      " A, L and P are combined\n",
      " A and P are inverted\n",
      " Eigenvalues are calculated\n",
      " Norms are calculated\n",
      " All done\n",
      "  cond = 85.84704, lambda_min = 0.22540, lambda_max = 19.35013\n",
      "  loss = 1741.62642, lambda_max_bound = 4255.01514\n",
      "  lambda_min_bound = 0.00842, lambda_min_long_bound = 0.02340\n",
      "26\n",
      " A, L and P are combined\n",
      " A and P are inverted\n",
      " Eigenvalues are calculated\n",
      " Norms are calculated\n",
      " All done\n",
      "  cond = 84.39095, lambda_min = 0.25408, lambda_max = 21.44237\n",
      "  loss = 1751.69196, lambda_max_bound = 4073.76255\n",
      "  lambda_min_bound = 0.00844, lambda_min_long_bound = 0.02334\n",
      "27\n",
      " A, L and P are combined\n",
      " A and P are inverted\n",
      " Eigenvalues are calculated\n",
      " Norms are calculated\n",
      " All done\n",
      "  cond = 103.18053, lambda_min = 0.16168, lambda_max = 16.68206\n",
      "  loss = 1734.55119, lambda_max_bound = 4063.99985\n",
      "  lambda_min_bound = 0.00829, lambda_min_long_bound = 0.02345\n",
      "28\n",
      " A, L and P are combined\n",
      " A and P are inverted\n",
      " Eigenvalues are calculated\n",
      " Norms are calculated\n",
      " All done\n",
      "  cond = 113.57142, lambda_min = 0.15572, lambda_max = 17.68482\n",
      "  loss = 1761.27364, lambda_max_bound = 4222.20193\n",
      "  lambda_min_bound = 0.00828, lambda_min_long_bound = 0.02327\n",
      "29\n",
      " A, L and P are combined\n",
      " A and P are inverted\n",
      " Eigenvalues are calculated\n",
      " Norms are calculated\n",
      " All done\n",
      "  cond = 110.36810, lambda_min = 0.17067, lambda_max = 18.83705\n",
      "  loss = 1725.84947, lambda_max_bound = 4292.28925\n",
      "  lambda_min_bound = 0.00832, lambda_min_long_bound = 0.02351\n",
      "30\n",
      " A, L and P are combined\n",
      " A and P are inverted\n",
      " Eigenvalues are calculated\n",
      " Norms are calculated\n",
      " All done\n",
      "  cond = 139.40905, lambda_min = 0.10370, lambda_max = 14.45705\n",
      "  loss = 1748.61665, lambda_max_bound = 3634.25593\n",
      "  lambda_min_bound = 0.00819, lambda_min_long_bound = 0.02336\n",
      "31\n",
      " A, L and P are combined\n",
      " A and P are inverted\n",
      " Eigenvalues are calculated\n",
      " Norms are calculated\n",
      " All done\n",
      "  cond = 113.31043, lambda_min = 0.19400, lambda_max = 21.98274\n",
      "  loss = 1747.59395, lambda_max_bound = 4481.88320\n",
      "  lambda_min_bound = 0.00835, lambda_min_long_bound = 0.02336\n",
      "32\n",
      " A, L and P are combined\n",
      " A and P are inverted\n",
      " Eigenvalues are calculated\n",
      " Norms are calculated\n",
      " All done\n",
      "  cond = 123.32256, lambda_min = 0.13387, lambda_max = 16.50895\n",
      "  loss = 1713.15830, lambda_max_bound = 4169.86371\n",
      "  lambda_min_bound = 0.00826, lambda_min_long_bound = 0.02359\n",
      "33\n",
      " A, L and P are combined\n",
      " A and P are inverted\n",
      " Eigenvalues are calculated\n",
      " Norms are calculated\n",
      " All done\n",
      "  cond = 86.64674, lambda_min = 0.18972, lambda_max = 16.43870\n",
      "  loss = 1793.86462, lambda_max_bound = 4436.67448\n",
      "  lambda_min_bound = 0.00838, lambda_min_long_bound = 0.02307\n",
      "34\n",
      " A, L and P are combined\n",
      " A and P are inverted\n",
      " Eigenvalues are calculated\n",
      " Norms are calculated\n",
      " All done\n",
      "  cond = 139.77921, lambda_min = 0.09679, lambda_max = 13.52938\n",
      "  loss = 1821.76940, lambda_max_bound = 3966.12265\n",
      "  lambda_min_bound = 0.00815, lambda_min_long_bound = 0.02289\n",
      "35\n",
      " A, L and P are combined\n",
      " A and P are inverted\n",
      " Eigenvalues are calculated\n",
      " Norms are calculated\n",
      " All done\n",
      "  cond = 112.79581, lambda_min = 0.11084, lambda_max = 12.50228\n",
      "  loss = 1732.62100, lambda_max_bound = 3990.12829\n",
      "  lambda_min_bound = 0.00819, lambda_min_long_bound = 0.02346\n",
      "36\n",
      " A, L and P are combined\n",
      " A and P are inverted\n",
      " Eigenvalues are calculated\n",
      " Norms are calculated\n",
      " All done\n",
      "  cond = 105.68391, lambda_min = 0.13774, lambda_max = 14.55719\n",
      "  loss = 1708.85101, lambda_max_bound = 4055.29943\n",
      "  lambda_min_bound = 0.00825, lambda_min_long_bound = 0.02362\n",
      "37\n",
      " A, L and P are combined\n",
      " A and P are inverted\n",
      " Eigenvalues are calculated\n",
      " Norms are calculated\n",
      " All done\n",
      "  cond = 76.63401, lambda_min = 0.24118, lambda_max = 18.48252\n",
      "  loss = 1770.51875, lambda_max_bound = 3998.84048\n",
      "  lambda_min_bound = 0.00842, lambda_min_long_bound = 0.02321\n",
      "38\n",
      " A, L and P are combined\n",
      " A and P are inverted\n",
      " Eigenvalues are calculated\n",
      " Norms are calculated\n",
      " All done\n",
      "  cond = 156.66772, lambda_min = 0.09928, lambda_max = 15.55357\n",
      "  loss = 1784.98454, lambda_max_bound = 4110.79060\n",
      "  lambda_min_bound = 0.00818, lambda_min_long_bound = 0.02312\n",
      "39\n",
      " A, L and P are combined\n",
      " A and P are inverted\n",
      " Eigenvalues are calculated\n",
      " Norms are calculated\n",
      " All done\n",
      "  cond = 94.33907, lambda_min = 0.17747, lambda_max = 16.74276\n",
      "  loss = 1729.44545, lambda_max_bound = 4175.71643\n",
      "  lambda_min_bound = 0.00832, lambda_min_long_bound = 0.02348\n",
      "40\n",
      " A, L and P are combined\n",
      " A and P are inverted\n",
      " Eigenvalues are calculated\n",
      " Norms are calculated\n",
      " All done\n",
      "  cond = 124.39477, lambda_min = 0.12324, lambda_max = 15.33006\n",
      "  loss = 1758.24029, lambda_max_bound = 3927.74935\n",
      "  lambda_min_bound = 0.00821, lambda_min_long_bound = 0.02329\n",
      "41\n",
      " A, L and P are combined\n",
      " A and P are inverted\n",
      " Eigenvalues are calculated\n",
      " Norms are calculated\n",
      " All done\n",
      "  cond = 72.48210, lambda_min = 0.27297, lambda_max = 19.78520\n",
      "  loss = 1788.13068, lambda_max_bound = 4136.16366\n",
      "  lambda_min_bound = 0.00847, lambda_min_long_bound = 0.02310\n",
      "42\n",
      " A, L and P are combined\n",
      " A and P are inverted\n",
      " Eigenvalues are calculated\n",
      " Norms are calculated\n",
      " All done\n",
      "  cond = 81.50172, lambda_min = 0.17226, lambda_max = 14.03970\n",
      "  loss = 1724.94700, lambda_max_bound = 4039.55913\n",
      "  lambda_min_bound = 0.00833, lambda_min_long_bound = 0.02351\n",
      "43\n",
      " A, L and P are combined\n",
      " A and P are inverted\n",
      " Eigenvalues are calculated\n",
      " Norms are calculated\n",
      " All done\n",
      "  cond = 114.97528, lambda_min = 0.13082, lambda_max = 15.04124\n",
      "  loss = 1738.14681, lambda_max_bound = 4182.21620\n",
      "  lambda_min_bound = 0.00825, lambda_min_long_bound = 0.02342\n",
      "44\n",
      " A, L and P are combined\n",
      " A and P are inverted\n",
      " Eigenvalues are calculated\n",
      " Norms are calculated\n",
      " All done\n",
      "  cond = 112.31000, lambda_min = 0.14597, lambda_max = 16.39384\n",
      "  loss = 1713.99502, lambda_max_bound = 4115.86619\n",
      "  lambda_min_bound = 0.00827, lambda_min_long_bound = 0.02358\n",
      "45\n",
      " A, L and P are combined\n",
      " A and P are inverted\n",
      " Eigenvalues are calculated\n",
      " Norms are calculated\n",
      " All done\n",
      "  cond = 141.58029, lambda_min = 0.13768, lambda_max = 19.49265\n",
      "  loss = 1755.75094, lambda_max_bound = 4311.62339\n",
      "  lambda_min_bound = 0.00827, lambda_min_long_bound = 0.02331\n",
      "46\n",
      " A, L and P are combined\n",
      " A and P are inverted\n",
      " Eigenvalues are calculated\n",
      " Norms are calculated\n",
      " All done\n",
      "  cond = 109.08101, lambda_min = 0.16935, lambda_max = 18.47282\n",
      "  loss = 1739.33971, lambda_max_bound = 4196.52261\n",
      "  lambda_min_bound = 0.00831, lambda_min_long_bound = 0.02342\n",
      "47\n",
      " A, L and P are combined\n",
      " A and P are inverted\n",
      " Eigenvalues are calculated\n",
      " Norms are calculated\n",
      " All done\n",
      "  cond = 65.64321, lambda_min = 0.27576, lambda_max = 18.10164\n",
      "  loss = 1755.56174, lambda_max_bound = 4225.99901\n",
      "  lambda_min_bound = 0.00848, lambda_min_long_bound = 0.02331\n",
      "48\n",
      " A, L and P are combined\n",
      " A and P are inverted\n",
      " Eigenvalues are calculated\n",
      " Norms are calculated\n",
      " All done\n",
      "  cond = 109.87292, lambda_min = 0.18372, lambda_max = 20.18602\n",
      "  loss = 1745.47131, lambda_max_bound = 4376.08989\n",
      "  lambda_min_bound = 0.00836, lambda_min_long_bound = 0.02338\n",
      "49\n",
      " A, L and P are combined\n",
      " A and P are inverted\n",
      " Eigenvalues are calculated\n",
      " Norms are calculated\n",
      " All done\n",
      "  cond = 106.56623, lambda_min = 0.18711, lambda_max = 19.94007\n",
      "  loss = 1756.77182, lambda_max_bound = 4154.95387\n",
      "  lambda_min_bound = 0.00836, lambda_min_long_bound = 0.02330\n",
      "50\n",
      " A, L and P are combined\n",
      " A and P are inverted\n",
      " Eigenvalues are calculated\n",
      " Norms are calculated\n",
      " All done\n",
      "  cond = 118.35713, lambda_min = 0.13342, lambda_max = 15.79146\n",
      "  loss = 1761.08247, lambda_max_bound = 4078.31567\n",
      "  lambda_min_bound = 0.00827, lambda_min_long_bound = 0.02327\n",
      "51\n",
      " A, L and P are combined\n",
      " A and P are inverted\n",
      " Eigenvalues are calculated\n",
      " Norms are calculated\n",
      " All done\n",
      "  cond = 119.62947, lambda_min = 0.12209, lambda_max = 14.60536\n",
      "  loss = 1779.03158, lambda_max_bound = 3994.69242\n",
      "  lambda_min_bound = 0.00822, lambda_min_long_bound = 0.02316\n",
      "52\n",
      " A, L and P are combined\n",
      " A and P are inverted\n",
      " Eigenvalues are calculated\n"
     ]
    },
    {
     "ename": "KeyboardInterrupt",
     "evalue": "",
     "output_type": "error",
     "traceback": [
      "\u001b[0;31m---------------------------------------------------------------------------\u001b[0m",
      "\u001b[0;31mKeyboardInterrupt\u001b[0m                         Traceback (most recent call last)",
      "Cell \u001b[0;32mIn[43], line 30\u001b[0m\n\u001b[1;32m     28\u001b[0m min_bound_i \u001b[38;5;241m=\u001b[39m \u001b[38;5;241m1\u001b[39m \u001b[38;5;241m/\u001b[39m (np\u001b[38;5;241m.\u001b[39mlinalg\u001b[38;5;241m.\u001b[39mnorm(P_Ainv_i, \u001b[38;5;28mord\u001b[39m\u001b[38;5;241m=\u001b[39m\u001b[38;5;124m'\u001b[39m\u001b[38;5;124mfro\u001b[39m\u001b[38;5;124m'\u001b[39m))\n\u001b[1;32m     29\u001b[0m min_bound_long_i \u001b[38;5;241m=\u001b[39m \u001b[38;5;241m1\u001b[39m \u001b[38;5;241m/\u001b[39m (sqrt_loss \u001b[38;5;241m+\u001b[39m \u001b[38;5;241m1\u001b[39m)\n\u001b[0;32m---> 30\u001b[0m max_bound_i \u001b[38;5;241m=\u001b[39m np\u001b[38;5;241m.\u001b[39mlinalg\u001b[38;5;241m.\u001b[39mnorm(A_i \u001b[38;5;241m-\u001b[39m P_i, \u001b[38;5;28mord\u001b[39m\u001b[38;5;241m=\u001b[39m\u001b[38;5;241m2\u001b[39m) \u001b[38;5;241m*\u001b[39m \u001b[43mnp\u001b[49m\u001b[38;5;241;43m.\u001b[39;49m\u001b[43mlinalg\u001b[49m\u001b[38;5;241;43m.\u001b[39;49m\u001b[43mnorm\u001b[49m\u001b[43m(\u001b[49m\u001b[43mPinv_i\u001b[49m\u001b[43m,\u001b[49m\u001b[43m \u001b[49m\u001b[38;5;28;43mord\u001b[39;49m\u001b[38;5;241;43m=\u001b[39;49m\u001b[38;5;241;43m2\u001b[39;49m\u001b[43m)\u001b[49m \u001b[38;5;241m+\u001b[39m \u001b[38;5;241m1\u001b[39m\n\u001b[1;32m     31\u001b[0m \u001b[38;5;28mprint\u001b[39m(\u001b[38;5;124m'\u001b[39m\u001b[38;5;124m Norms are calculated\u001b[39m\u001b[38;5;124m'\u001b[39m)\n\u001b[1;32m     33\u001b[0m cond\u001b[38;5;241m.\u001b[39mappend(cond_i)\n",
      "File \u001b[0;32m/usr/local/lib/python3.10/dist-packages/numpy/linalg/linalg.py:2601\u001b[0m, in \u001b[0;36mnorm\u001b[0;34m(x, ord, axis, keepdims)\u001b[0m\n\u001b[1;32m   2599\u001b[0m     \u001b[38;5;28;01mraise\u001b[39;00m \u001b[38;5;167;01mValueError\u001b[39;00m(\u001b[38;5;124m'\u001b[39m\u001b[38;5;124mDuplicate axes given.\u001b[39m\u001b[38;5;124m'\u001b[39m)\n\u001b[1;32m   2600\u001b[0m \u001b[38;5;28;01mif\u001b[39;00m \u001b[38;5;28mord\u001b[39m \u001b[38;5;241m==\u001b[39m \u001b[38;5;241m2\u001b[39m:\n\u001b[0;32m-> 2601\u001b[0m     ret \u001b[38;5;241m=\u001b[39m  \u001b[43m_multi_svd_norm\u001b[49m\u001b[43m(\u001b[49m\u001b[43mx\u001b[49m\u001b[43m,\u001b[49m\u001b[43m \u001b[49m\u001b[43mrow_axis\u001b[49m\u001b[43m,\u001b[49m\u001b[43m \u001b[49m\u001b[43mcol_axis\u001b[49m\u001b[43m,\u001b[49m\u001b[43m \u001b[49m\u001b[43mamax\u001b[49m\u001b[43m)\u001b[49m\n\u001b[1;32m   2602\u001b[0m \u001b[38;5;28;01melif\u001b[39;00m \u001b[38;5;28mord\u001b[39m \u001b[38;5;241m==\u001b[39m \u001b[38;5;241m-\u001b[39m\u001b[38;5;241m2\u001b[39m:\n\u001b[1;32m   2603\u001b[0m     ret \u001b[38;5;241m=\u001b[39m _multi_svd_norm(x, row_axis, col_axis, amin)\n",
      "File \u001b[0;32m/usr/local/lib/python3.10/dist-packages/numpy/linalg/linalg.py:2375\u001b[0m, in \u001b[0;36m_multi_svd_norm\u001b[0;34m(x, row_axis, col_axis, op)\u001b[0m\n\u001b[1;32m   2352\u001b[0m \u001b[38;5;250m\u001b[39m\u001b[38;5;124;03m\"\"\"Compute a function of the singular values of the 2-D matrices in `x`.\u001b[39;00m\n\u001b[1;32m   2353\u001b[0m \n\u001b[1;32m   2354\u001b[0m \u001b[38;5;124;03mThis is a private utility function used by `numpy.linalg.norm()`.\u001b[39;00m\n\u001b[0;32m   (...)\u001b[0m\n\u001b[1;32m   2372\u001b[0m \n\u001b[1;32m   2373\u001b[0m \u001b[38;5;124;03m\"\"\"\u001b[39;00m\n\u001b[1;32m   2374\u001b[0m y \u001b[38;5;241m=\u001b[39m moveaxis(x, (row_axis, col_axis), (\u001b[38;5;241m-\u001b[39m\u001b[38;5;241m2\u001b[39m, \u001b[38;5;241m-\u001b[39m\u001b[38;5;241m1\u001b[39m))\n\u001b[0;32m-> 2375\u001b[0m result \u001b[38;5;241m=\u001b[39m op(\u001b[43msvd\u001b[49m\u001b[43m(\u001b[49m\u001b[43my\u001b[49m\u001b[43m,\u001b[49m\u001b[43m \u001b[49m\u001b[43mcompute_uv\u001b[49m\u001b[38;5;241;43m=\u001b[39;49m\u001b[38;5;28;43;01mFalse\u001b[39;49;00m\u001b[43m)\u001b[49m, axis\u001b[38;5;241m=\u001b[39m\u001b[38;5;241m-\u001b[39m\u001b[38;5;241m1\u001b[39m)\n\u001b[1;32m   2376\u001b[0m \u001b[38;5;28;01mreturn\u001b[39;00m result\n",
      "File \u001b[0;32m/usr/local/lib/python3.10/dist-packages/numpy/linalg/linalg.py:1693\u001b[0m, in \u001b[0;36msvd\u001b[0;34m(a, full_matrices, compute_uv, hermitian)\u001b[0m\n\u001b[1;32m   1690\u001b[0m     gufunc \u001b[38;5;241m=\u001b[39m _umath_linalg\u001b[38;5;241m.\u001b[39msvd_n\n\u001b[1;32m   1692\u001b[0m signature \u001b[38;5;241m=\u001b[39m \u001b[38;5;124m'\u001b[39m\u001b[38;5;124mD->d\u001b[39m\u001b[38;5;124m'\u001b[39m \u001b[38;5;28;01mif\u001b[39;00m isComplexType(t) \u001b[38;5;28;01melse\u001b[39;00m \u001b[38;5;124m'\u001b[39m\u001b[38;5;124md->d\u001b[39m\u001b[38;5;124m'\u001b[39m\n\u001b[0;32m-> 1693\u001b[0m s \u001b[38;5;241m=\u001b[39m \u001b[43mgufunc\u001b[49m\u001b[43m(\u001b[49m\u001b[43ma\u001b[49m\u001b[43m,\u001b[49m\u001b[43m \u001b[49m\u001b[43msignature\u001b[49m\u001b[38;5;241;43m=\u001b[39;49m\u001b[43msignature\u001b[49m\u001b[43m,\u001b[49m\u001b[43m \u001b[49m\u001b[43mextobj\u001b[49m\u001b[38;5;241;43m=\u001b[39;49m\u001b[43mextobj\u001b[49m\u001b[43m)\u001b[49m\n\u001b[1;32m   1694\u001b[0m s \u001b[38;5;241m=\u001b[39m s\u001b[38;5;241m.\u001b[39mastype(_realType(result_t), copy\u001b[38;5;241m=\u001b[39m\u001b[38;5;28;01mFalse\u001b[39;00m)\n\u001b[1;32m   1695\u001b[0m \u001b[38;5;28;01mreturn\u001b[39;00m s\n",
      "\u001b[0;31mKeyboardInterrupt\u001b[0m: "
     ]
    }
   ],
   "source": [
    "cond, lambda_min, lambda_max = [], [], []\n",
    "loss, lambda_max_bound = [], []\n",
    "lambda_min_bound, lambda_min_long_bound = [], []\n",
    "i = \n",
    "\n",
    "\n",
    "# for i in range(1, A_test.shape[0]):\n",
    "print(i)\n",
    "A_i = jBCOO_to_scipyCSR(A_test[i, ...]).todense(order='C')\n",
    "L_i = jBCOO_to_scipyCSR(L[i, ...])\n",
    "P_i = (L_i @ L_i.T).todense(order='C')\n",
    "print(' A, L and P are combined')\n",
    "\n",
    "Pinv_i = sci_linalg.inv(P_i)\n",
    "Ainv_i = sci_linalg.inv(A_i)\n",
    "print(' A and P are inverted')\n",
    "\n",
    "Pinv_A_i = Pinv_i @ A_i\n",
    "\n",
    "eigen_i = np.abs(sci_linalg.eigvals(Pinv_A_i))\n",
    "eigen_min_i = np.min(eigen_i)\n",
    "eigen_max_i = np.max(eigen_i)\n",
    "cond_i = eigen_max_i / eigen_min_i\n",
    "print(' Eigenvalues are calculated')\n",
    "\n",
    "\n",
    "P_Ainv_i = P_i @ Ainv_i\n",
    "sqrt_loss = np.linalg.norm(P_Ainv_i - np.eye(P_i.shape[0]), ord='fro')\n",
    "loss_i = np.square(sqrt_loss)\n",
    "min_bound_i = 1 / (np.linalg.norm(P_Ainv_i, ord='fro'))\n",
    "min_bound_long_i = 1 / (sqrt_loss + 1)\n",
    "max_bound_i = np.linalg.norm(A_i - P_i, ord=2) * np.linalg.norm(Pinv_i, ord=2) + 1\n",
    "print(' Norms are calculated')\n",
    "\n",
    "cond.append(cond_i)\n",
    "lambda_min.append(eigen_min_i)\n",
    "lambda_max.append(eigen_max_i)\n",
    "loss.append(loss_i)\n",
    "lambda_max_bound.append(max_bound_i)\n",
    "lambda_min_bound.append(min_bound_i)\n",
    "lambda_min_long_bound.append(min_bound_long_i)\n",
    "print(' All done')\n",
    "print(f'  cond = {cond[-1]:.5f}, lambda_min = {lambda_min[-1]:.5f}, lambda_max = {lambda_max[-1]:.5f}')\n",
    "print(f'  loss = {loss[-1]:.5f}, lambda_max_bound = {lambda_max_bound[-1]:.5f}')\n",
    "print(f'  lambda_min_bound = {lambda_min_bound[-1]:.5f}, lambda_min_long_bound = {lambda_min_long_bound[-1]:.5f}')"
   ]
  },
  {
   "cell_type": "code",
   "execution_count": 42,
   "id": "6ce7194f",
   "metadata": {},
   "outputs": [
    {
     "name": "stdout",
     "output_type": "stream",
     "text": [
      " All done\n",
      "  cond = 78.03987, lambda_min = 0.19814, lambda_max = 15.46266\n",
      "  loss = 1732.12761, lambda_max_bound = 4157.04033\n",
      "  lambda_min_bound = 0.00838, lambda_min_long_bound = 0.02346\n"
     ]
    }
   ],
   "source": [
    "cond.append(cond_i)\n",
    "lambda_min.append(eigen_min_i)\n",
    "lambda_max.append(eigen_max_i)\n",
    "loss.append(loss_i)\n",
    "lambda_max_bound.append(max_bound_i)\n",
    "lambda_min_bound.append(min_bound_i)\n",
    "lambda_min_long_bound.append(min_bound_long_i)\n",
    "print(' All done')\n",
    "print(f'  cond = {cond[-1]:.5f}, lambda_min = {lambda_min[-1]:.5f}, lambda_max = {lambda_max[-1]:.5f}')\n",
    "print(f'  loss = {loss[-1]:.5f}, lambda_max_bound = {lambda_max_bound[-1]:.5f}')\n",
    "print(f'  lambda_min_bound = {lambda_min_bound[-1]:.5f}, lambda_min_long_bound = {lambda_min_long_bound[-1]:.5f}')"
   ]
  },
  {
   "cell_type": "markdown",
   "id": "49960be1",
   "metadata": {},
   "source": [
    "# Spectrum with NLA IC(0)"
   ]
  },
  {
   "cell_type": "code",
   "execution_count": 18,
   "id": "d44aba7b",
   "metadata": {},
   "outputs": [],
   "source": [
    "import ilupp"
   ]
  },
  {
   "cell_type": "code",
   "execution_count": 19,
   "id": "b85e7afc",
   "metadata": {},
   "outputs": [],
   "source": [
    "i = 0"
   ]
  },
  {
   "cell_type": "code",
   "execution_count": 20,
   "id": "691261e7",
   "metadata": {},
   "outputs": [],
   "source": [
    "L = ilupp.ichol0(jBCOO_to_scipyCSR(A_test[i, ...]))"
   ]
  },
  {
   "cell_type": "code",
   "execution_count": null,
   "id": "32db9eb3",
   "metadata": {},
   "outputs": [
    {
     "name": "stdout",
     "output_type": "stream",
     "text": [
      " A, L and P are combined\n",
      " A and P are inverted\n",
      " Eigenvalues are calculated\n"
     ]
    }
   ],
   "source": [
    "A_i = jBCOO_to_scipyCSR(A_test[i, ...]).todense(order='C')\n",
    "L_i = L\n",
    "P_i = (L_i @ L_i.T).todense(order='C')\n",
    "print(' A, L and P are combined')\n",
    "\n",
    "Pinv_i = sci_linalg.inv(P_i)\n",
    "Ainv_i = sci_linalg.inv(A_i)\n",
    "print(' A and P are inverted')\n",
    "\n",
    "Pinv_A_i = Pinv_i @ A_i\n",
    "\n",
    "eigen_i = np.abs(sci_linalg.eigvals(Pinv_A_i))\n",
    "eigen_min_i = np.min(eigen_i)\n",
    "eigen_max_i = np.max(eigen_i)\n",
    "cond_i = eigen_max_i / eigen_min_i\n",
    "print(' Eigenvalues are calculated')\n",
    "\n",
    "\n",
    "P_Ainv_i = P_i @ Ainv_i\n",
    "sqrt_loss = np.linalg.norm(P_Ainv_i - np.eye(P_i.shape[0]), ord='fro')\n",
    "loss_i = np.square(sqrt_loss)\n",
    "min_bound_i = 1 / (np.linalg.norm(P_Ainv_i, ord='fro'))\n",
    "min_bound_long_i = 1 / (sqrt_loss + 1)\n",
    "max_bound_i = np.linalg.norm(A_i - P_i, ord=2) * np.linalg.norm(Pinv_i, ord=2) + 1\n",
    "print(' Norms are calculated')\n",
    "\n",
    "cond.append(cond_i)\n",
    "lambda_min.append(eigen_min_i)\n",
    "lambda_max.append(eigen_max_i)\n",
    "loss.append(loss_i)\n",
    "lambda_max_bound.append(max_bound_i)\n",
    "lambda_min_bound.append(min_bound_i)\n",
    "lambda_min_long_bound.append(min_bound_long_i)\n",
    "print(' All done')\n",
    "print(f'  cond = {cond[-1]:.5f}, lambda_min = {lambda_min[-1]:.5f}, lambda_max = {lambda_max[-1]:.5f}')\n",
    "print(f'  loss = {loss[-1]:.5f}, lambda_max_bound = {lambda_max_bound[-1]:.5f}')\n",
    "print(f'  lambda_min_bound = {lambda_min_bound[-1]:.5f}, lambda_min_long_bound = {lambda_min_long_bound[-1]:.5f}')"
   ]
  },
  {
   "cell_type": "code",
   "execution_count": null,
   "id": "4223574d",
   "metadata": {},
   "outputs": [],
   "source": []
  },
  {
   "cell_type": "code",
   "execution_count": null,
   "id": "b5d44c46",
   "metadata": {},
   "outputs": [],
   "source": []
  },
  {
   "cell_type": "code",
   "execution_count": 22,
   "id": "1c97b143",
   "metadata": {},
   "outputs": [
    {
     "data": {
      "image/png": "[encoded data removed]",
      "text/plain": [
       "<Figure size 1400x1400 with 3 Axes>"
      ]
     },
     "metadata": {},
     "output_type": "display_data"
    }
   ],
   "source": [
    "_, axes = plt.subplots(1, 3, figsize=(14, 14))\n",
    "\n",
    "axes[0].imshow(X_I[0, :, -1].reshape([grid]*2))\n",
    "axes[1].imshow(X_LLT[0, :, -1].reshape([grid]*2))\n",
    "axes[2].imshow(u_exact_test[0, :].reshape([grid]*2))\n",
    "\n",
    "axes[0].set_title('No prec')\n",
    "axes[1].set_title('Notay-loss prec')\n",
    "axes[2].set_title('Exact solution')\n",
    "\n",
    "plt.tight_layout()"
   ]
  },
  {
   "cell_type": "code",
   "execution_count": null,
   "id": "92ec402a",
   "metadata": {},
   "outputs": [],
   "source": []
  },
  {
   "cell_type": "code",
   "execution_count": null,
   "id": "f5048c25",
   "metadata": {},
   "outputs": [],
   "source": []
  }
 ],
 "metadata": {
  "kernelspec": {
   "display_name": "Python 3 (ipykernel)",
   "language": "python",
   "name": "python3"
  },
  "language_info": {
   "codemirror_mode": {
    "name": "ipython",
    "version": 3
   },
   "file_extension": ".py",
   "mimetype": "text/x-python",
   "name": "python",
   "nbconvert_exporter": "python",
   "pygments_lexer": "ipython3",
   "version": "3.10.6"
  }
 },
 "nbformat": 4,
 "nbformat_minor": 5
}
