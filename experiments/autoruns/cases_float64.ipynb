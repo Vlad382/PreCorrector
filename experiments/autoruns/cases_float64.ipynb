{
 "cells": [
  {
   "cell_type": "code",
   "execution_count": 1,
   "id": "6090fe89",
   "metadata": {},
   "outputs": [],
   "source": [
    "import warnings\n",
    "import sys\n",
    "import os\n",
    "import jax\n",
    "\n",
    "jax.config.update(\"jax_enable_x64\", True)\n",
    "warnings.filterwarnings('ignore')\n",
    "os.environ[\"CUDA_VISIBLE_DEVICES\"] = '0'\n",
    "os.environ['XLA_PYTHON_CLIENT_MEM_FRACTION'] = '.95'\n",
    "sys.path.append('/mnt/local/data/vtrifonov/prec-learning-Notay-loss/')"
   ]
  },
  {
   "cell_type": "code",
   "execution_count": 9,
   "id": "62c7ebe1",
   "metadata": {},
   "outputs": [
    {
     "data": {
      "text/plain": [
       "5"
      ]
     },
     "execution_count": 9,
     "metadata": {},
     "output_type": "execute_result"
    }
   ],
   "source": [
    "2+3"
   ]
  },
  {
   "cell_type": "code",
   "execution_count": 3,
   "id": "2868e70f",
   "metadata": {},
   "outputs": [],
   "source": [
    "import jax.numpy as jnp\n",
    "from train_utils import training_search\n",
    "from sklearn.model_selection import ParameterGrid"
   ]
  },
  {
   "cell_type": "code",
   "execution_count": 4,
   "id": "2f67520e",
   "metadata": {},
   "outputs": [],
   "source": [
    "# 'pde': [],                # 'poisson', 'div_k_grad'\n",
    "# 'grid': [],               # 32, 64, 128, 256\n",
    "# 'variance': [],           # 0.1, 0.5, 0.7\n",
    "# 'N_samples_train': [],    # int in {1, 1000}\n",
    "# 'N_samples_test': [],     # int in {1, 200}\n",
    "# 'lhs_type': [],           # 'i_ilu0', 'l_ict'\n",
    "# 'batch_size': [],         # int\n",
    "# 'epoch_num': [],          # int\n",
    "# 'lr_start': [],           # float\n",
    "# 'schedule_params': [],    # None or [start, stop, step, decay_size], type:[int, int, int, float]\n",
    "# 'cg_valid_repeats': [],   # int; 400 is a good value\n",
    "# 'corrector_net': [],      # 'True' for PreCorrector; 'False' for simple GNN\n",
    "# 'norm_prec_net': [],      # 'True' for normalization in simple GNN similar to normaliztion in PreCorrector; ignored for PreCorrector\n",
    "# 'precision': [],          # 'f32', 'f64'"
   ]
  },
  {
   "cell_type": "markdown",
   "id": "5e6475ec",
   "metadata": {},
   "source": [
    "## Run all the experiments in double precision \n",
    "\n",
    "### (!) Same hyperparameters used as with single precision"
   ]
  },
  {
   "cell_type": "code",
   "execution_count": 5,
   "id": "1b256299",
   "metadata": {},
   "outputs": [],
   "source": [
    "folder = 'full_dataset_f64'"
   ]
  },
  {
   "cell_type": "code",
   "execution_count": 6,
   "id": "e2fabf52",
   "metadata": {},
   "outputs": [],
   "source": [
    "main_part_config = {\n",
    "    'pde': ['poisson'],\n",
    "    'grid': [128],\n",
    "    'variance': [.1],\n",
    "    'N_samples_train': [1000],\n",
    "    'N_samples_test': [200],\n",
    "    'lhs_type': ['l_ict', 'l_ict'],\n",
    "    'batch_size': [8],\n",
    "    'epoch_num': [700],\n",
    "    'lr_start': [1e-3],\n",
    "    'schedule_params': [None],\n",
    "    'cg_valid_repeats': [140],\n",
    "    'corrector_net': [True],\n",
    "    'norm_prec_net': [False],\n",
    "    'precision': ['f64']\n",
    "}"
   ]
  },
  {
   "cell_type": "code",
   "execution_count": null,
   "id": "3c635b14",
   "metadata": {},
   "outputs": [
    {
     "name": "stdout",
     "output_type": "stream",
     "text": [
      "Started: 0\n"
     ]
    },
    {
     "name": "stderr",
     "output_type": "stream",
     "text": [
      "2024-07-11 16:44:53.244283: W external/xla/xla/service/gpu/nvptx_compiler.cc:760] The NVIDIA driver's CUDA version is 12.4 which is older than the ptxas CUDA version (12.5.40). Because the driver is older than the ptxas version, XLA is disabling parallel compilation, which may slow down compilation. You should update your NVIDIA driver or use the NVIDIA-provided CUDA forward compatibility packages.\n"
     ]
    }
   ],
   "source": [
    "params_grid = ParameterGrid(main_part_config)\n",
    "training_search(params_grid, folder)"
   ]
  },
  {
   "cell_type": "code",
   "execution_count": null,
   "id": "07271987",
   "metadata": {},
   "outputs": [],
   "source": [
    "2+3"
   ]
  },
  {
   "cell_type": "code",
   "execution_count": null,
   "id": "5c78dfef",
   "metadata": {},
   "outputs": [],
   "source": []
  }
 ],
 "metadata": {
  "kernelspec": {
   "display_name": "Python 3 (ipykernel)",
   "language": "python",
   "name": "python3"
  },
  "language_info": {
   "codemirror_mode": {
    "name": "ipython",
    "version": 3
   },
   "file_extension": ".py",
   "mimetype": "text/x-python",
   "name": "python",
   "nbconvert_exporter": "python",
   "pygments_lexer": "ipython3",
   "version": "3.10.6"
  }
 },
 "nbformat": 4,
 "nbformat_minor": 5
}
