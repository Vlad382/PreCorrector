{
 "cells": [
  {
   "cell_type": "code",
   "execution_count": 1,
   "id": "dc082937",
   "metadata": {},
   "outputs": [],
   "source": [
    "import warnings\n",
    "import sys\n",
    "import os\n",
    "import jax\n",
    "\n",
    "jax.config.update(\"jax_enable_x64\", True)\n",
    "warnings.filterwarnings('ignore')\n",
    "os.environ[\"CUDA_VISIBLE_DEVICES\"] = '2'\n",
    "os.environ['XLA_PYTHON_CLIENT_MEM_FRACTION'] = '.95'\n",
    "sys.path.append('/mnt/local/data/vtrifonov/prec-learning-Notay-loss/')"
   ]
  },
  {
   "cell_type": "code",
   "execution_count": 11,
   "id": "16d57c51",
   "metadata": {},
   "outputs": [
    {
     "data": {
      "text/plain": [
       "5"
      ]
     },
     "execution_count": 11,
     "metadata": {},
     "output_type": "execute_result"
    }
   ],
   "source": [
    "2+3"
   ]
  },
  {
   "cell_type": "code",
   "execution_count": 3,
   "id": "94923c10",
   "metadata": {},
   "outputs": [],
   "source": [
    "import jax.numpy as jnp\n",
    "from train_utils import training_search\n",
    "from sklearn.model_selection import ParameterGrid"
   ]
  },
  {
   "cell_type": "code",
   "execution_count": 4,
   "id": "599b8cdb",
   "metadata": {},
   "outputs": [],
   "source": [
    "# 'pde': [],                # 'poisson', 'div_k_grad'\n",
    "# 'grid': [],               # 32, 64, 128, 256\n",
    "# 'variance': [],           # 0.1, 0.5, 0.7\n",
    "# 'N_samples_train': [],    # int in {1, 1000}\n",
    "# 'N_samples_test': [],     # int in {1, 200}\n",
    "# 'lhs_type': [],           # 'i_ilu0', 'l_ict', 'fd', 'a_pow'\n",
    "# 'batch_size': [],         # int\n",
    "# 'epoch_num': [],          # int\n",
    "# 'lr_start': [],           # float\n",
    "# 'schedule_params': [],    # None or [start, stop, step, decay_size], type:[int, int, int, float]\n",
    "# 'cg_valid_repeats': [],   # int; 400 is a good value\n",
    "# 'corrector_net': [],      # 'True' for PreCorrector; 'False' for simple GNN\n",
    "# 'norm_prec_net': [],      # 'True' for normalization in simple GNN similar to normaliztion in PreCorrector; ignored for PreCorrector\n",
    "# 'precision': [],          # 'f32', 'f64'\n",
    "# 'prec_inverse': [],       # 'True' to use pres as z = Pr. 'False' to use prec as Pz = r\n",
    "# 'loss_type': [],          # 'llt_loss', 'llt_minus_A', 'log_kaporin', 'spai_P_hutch', 'spai_Pinv_hutch', 'spai_P_direct', 'spai_Pinv_direct'\n",
    "# 'power': [],              # int; A^{power} for padding"
   ]
  },
  {
   "cell_type": "markdown",
   "id": "afd28f12",
   "metadata": {},
   "source": [
    "## Run all the experiments in double precision \n",
    "\n",
    "### (!) Same hyperparameters used as with single precision"
   ]
  },
  {
   "cell_type": "code",
   "execution_count": 5,
   "id": "9b8004aa",
   "metadata": {},
   "outputs": [],
   "source": [
    "folder = 'spai_kaporin_corrector_net'"
   ]
  },
  {
   "cell_type": "code",
   "execution_count": 6,
   "id": "b5c951c0",
   "metadata": {},
   "outputs": [],
   "source": [
    "main_part_config = {\n",
    "    'pde': ['poisson'],\n",
    "    'grid': [32],\n",
    "    'variance': [.1],\n",
    "    'N_samples_train': [1000],\n",
    "    'N_samples_test': [200],\n",
    "    'lhs_type': ['l_ilu0', 'fd', 'a_pow'],\n",
    "    'batch_size': [8],\n",
    "    'epoch_num': [300], #!!!!!!\n",
    "    'lr_start': [1e-3],\n",
    "    'schedule_params': [None],\n",
    "    'cg_valid_repeats': [100], #!!!!!!\n",
    "    'corrector_net': [True],\n",
    "    'norm_prec_net': [False],\n",
    "    'precision': ['f64'],\n",
    "    'prec_inverse': [True, False],\n",
    "    'loss_type': ['log_kaporin', 'spai_P_hutch', 'spai_Pinv_hutch', 'spai_P_direct', 'spai_Pinv_direct'],\n",
    "    'power': [2],\n",
    "}"
   ]
  },
  {
   "cell_type": "code",
   "execution_count": null,
   "id": "a13e81ca",
   "metadata": {},
   "outputs": [
    {
     "name": "stdout",
     "output_type": "stream",
     "text": [
      "Started: 0\n"
     ]
    },
    {
     "name": "stderr",
     "output_type": "stream",
     "text": [
      "2024-07-24 19:24:34.157696: W external/xla/xla/service/gpu/nvptx_compiler.cc:760] The NVIDIA driver's CUDA version is 12.4 which is older than the ptxas CUDA version (12.5.40). Because the driver is older than the ptxas version, XLA is disabling parallel compilation, which may slow down compilation. You should update your NVIDIA driver or use the NVIDIA-provided CUDA forward compatibility packages.\n"
     ]
    }
   ],
   "source": [
    "params_grid = ParameterGrid(main_part_config)\n",
    "training_search(params_grid, folder)"
   ]
  },
  {
   "cell_type": "code",
   "execution_count": null,
   "id": "494d5354",
   "metadata": {},
   "outputs": [],
   "source": [
    "2+3"
   ]
  },
  {
   "cell_type": "code",
   "execution_count": null,
   "id": "5e175a31",
   "metadata": {},
   "outputs": [],
   "source": []
  }
 ],
 "metadata": {
  "kernelspec": {
   "display_name": "Python 3 (ipykernel)",
   "language": "python",
   "name": "python3"
  },
  "language_info": {
   "codemirror_mode": {
    "name": "ipython",
    "version": 3
   },
   "file_extension": ".py",
   "mimetype": "text/x-python",
   "name": "python",
   "nbconvert_exporter": "python",
   "pygments_lexer": "ipython3",
   "version": "3.10.6"
  }
 },
 "nbformat": 4,
 "nbformat_minor": 5
}
