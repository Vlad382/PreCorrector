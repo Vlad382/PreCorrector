{
 "cells": [
  {
   "cell_type": "code",
   "execution_count": 1,
   "id": "a66f6f00",
   "metadata": {},
   "outputs": [],
   "source": [
    "import warnings\n",
    "import sys\n",
    "import os\n",
    "import jax\n",
    "\n",
    "# jax.config.update(\"jax_enable_x64\", True)\n",
    "warnings.filterwarnings('ignore')\n",
    "os.environ[\"CUDA_VISIBLE_DEVICES\"] = '2'\n",
    "os.environ['XLA_PYTHON_CLIENT_MEM_FRACTION'] = '.95'\n",
    "sys.path.append('/mnt/local/data/vtrifonov/prec-learning-Notay-loss/')"
   ]
  },
  {
   "cell_type": "code",
   "execution_count": 7,
   "id": "b03b4bbe",
   "metadata": {},
   "outputs": [
    {
     "data": {
      "text/plain": [
       "5"
      ]
     },
     "execution_count": 7,
     "metadata": {},
     "output_type": "execute_result"
    }
   ],
   "source": [
    "2+3"
   ]
  },
  {
   "cell_type": "code",
   "execution_count": 3,
   "id": "234bd2bc",
   "metadata": {},
   "outputs": [],
   "source": [
    "import pandas as pd\n",
    "import jax.numpy as jnp\n",
    "from train_utils import training_search\n",
    "from sklearn.model_selection import ParameterGrid"
   ]
  },
  {
   "cell_type": "code",
   "execution_count": 4,
   "id": "41c17476",
   "metadata": {},
   "outputs": [],
   "source": [
    "# 'pde': [],                # 'poisson', 'div_k_grad'\n",
    "# 'grid': [],               # 32, 64, 128, 256\n",
    "# 'variance': [],           # 0.1, 0.5, 0.7\n",
    "# 'N_samples_train': [],    # int in {1, 1000}\n",
    "# 'N_samples_test': [],     # int in {1, 200}\n",
    "# 'lhs_type': [],           # 'i_ilu0', 'l_ict'\n",
    "# 'batch_size': [],         # int\n",
    "# 'epoch_num': [],          # int\n",
    "# 'lr_start': [],           # float\n",
    "# 'schedule_params': [],    # None or [start, stop, step, decay_size], type:[int, int, int, float]\n",
    "# 'cg_valid_repeats': [],   # int; 400 is a good value"
   ]
  },
  {
   "cell_type": "code",
   "execution_count": 5,
   "id": "771d670b",
   "metadata": {},
   "outputs": [],
   "source": [
    "folder = 'scipy_PrecNet_grid3264_26.09'"
   ]
  },
  {
   "cell_type": "code",
   "execution_count": 6,
   "id": "acb46db8",
   "metadata": {},
   "outputs": [
    {
     "name": "stdout",
     "output_type": "stream",
     "text": [
      "Started: 0\n"
     ]
    },
    {
     "name": "stderr",
     "output_type": "stream",
     "text": [
      "2024-09-26 13:28:26.284414: W external/xla/xla/service/gpu/nvptx_compiler.cc:760] The NVIDIA driver's CUDA version is 12.4 which is older than the ptxas CUDA version (12.5.40). Because the driver is older than the ptxas version, XLA is disabling parallel compilation, which may slow down compilation. You should update your NVIDIA driver or use the NVIDIA-provided CUDA forward compatibility packages.\n"
     ]
    },
    {
     "name": "stdout",
     "output_type": "stream",
     "text": [
      "0 - alert\n",
      "1 - alert\n",
      "2 - alert\n",
      "3 - alert\n",
      "4 - alert\n",
      "5 - alert\n",
      "6 - alert\n",
      "7 - alert\n",
      "8 - alert\n",
      "9 - alert\n",
      "10 - alert\n",
      "11 - alert\n",
      "12 - alert\n",
      "13 - alert\n",
      "14 - alert\n",
      "15 - alert\n",
      "16 - alert\n",
      "17 - alert\n",
      "18 - alert\n",
      "19 - alert\n",
      "20 - alert\n",
      "21 - alert\n",
      "22 - alert\n",
      "23 - alert\n",
      "24 - alert\n",
      "25 - alert\n",
      "26 - alert\n",
      "27 - alert\n",
      "28 - alert\n",
      "29 - alert\n",
      "30 - alert\n",
      "31 - alert\n",
      "32 - alert\n",
      "33 - alert\n",
      "34 - alert\n",
      "35 - alert\n",
      "36 - alert\n",
      "37 - alert\n",
      "38 - alert\n",
      "39 - alert\n",
      "40 - alert\n",
      "41 - alert\n",
      "42 - alert\n",
      "43 - alert\n",
      "44 - alert\n",
      "45 - alert\n",
      "46 - alert\n",
      "47 - alert\n",
      "48 - alert\n",
      "49 - alert\n",
      "50 - alert\n",
      "51 - alert\n",
      "52 - alert\n",
      "53 - alert\n",
      "54 - alert\n",
      "55 - alert\n",
      "56 - alert\n",
      "57 - alert\n",
      "58 - alert\n",
      "59 - alert\n",
      "60 - alert\n",
      "61 - alert\n",
      "62 - alert\n",
      "63 - alert\n",
      "64 - alert\n",
      "65 - alert\n",
      "66 - alert\n",
      "67 - alert\n",
      "68 - alert\n",
      "69 - alert\n",
      "70 - alert\n",
      "71 - alert\n",
      "72 - alert\n",
      "73 - alert\n",
      "74 - alert\n",
      "75 - alert\n",
      "76 - alert\n",
      "77 - alert\n",
      "78 - alert\n",
      "79 - alert\n",
      "80 - alert\n",
      "81 - alert\n",
      "82 - alert\n",
      "83 - alert\n",
      "84 - alert\n",
      "85 - alert\n",
      "86 - alert\n",
      "87 - alert\n",
      "88 - alert\n",
      "89 - alert\n",
      "90 - alert\n",
      "91 - alert\n",
      "92 - alert\n",
      "93 - alert\n",
      "94 - alert\n",
      "95 - alert\n",
      "96 - alert\n",
      "97 - alert\n",
      "98 - alert\n",
      "99 - alert\n",
      "100 - alert\n",
      "101 - alert\n",
      "102 - alert\n",
      "103 - alert\n",
      "104 - alert\n",
      "105 - alert\n",
      "106 - alert\n",
      "107 - alert\n",
      "108 - alert\n",
      "109 - alert\n",
      "110 - alert\n",
      "111 - alert\n",
      "112 - alert\n",
      "113 - alert\n",
      "114 - alert\n",
      "115 - alert\n",
      "116 - alert\n",
      "117 - alert\n",
      "118 - alert\n",
      "119 - alert\n",
      "120 - alert\n",
      "121 - alert\n",
      "122 - alert\n",
      "123 - alert\n",
      "124 - alert\n",
      "125 - alert\n",
      "126 - alert\n",
      "127 - alert\n",
      "128 - alert\n",
      "129 - alert\n",
      "130 - alert\n",
      "131 - alert\n",
      "132 - alert\n",
      "133 - alert\n",
      "134 - alert\n",
      "135 - alert\n",
      "136 - alert\n",
      "137 - alert\n",
      "138 - alert\n",
      "139 - alert\n",
      "140 - alert\n",
      "141 - alert\n",
      "142 - alert\n",
      "143 - alert\n",
      "144 - alert\n",
      "145 - alert\n",
      "146 - alert\n",
      "147 - alert\n",
      "148 - alert\n",
      "149 - alert\n",
      "150 - alert\n",
      "151 - alert\n",
      "152 - alert\n",
      "153 - alert\n",
      "154 - alert\n",
      "155 - alert\n",
      "156 - alert\n",
      "157 - alert\n",
      "158 - alert\n",
      "159 - alert\n",
      "160 - alert\n",
      "161 - alert\n",
      "162 - alert\n",
      "163 - alert\n",
      "164 - alert\n",
      "165 - alert\n",
      "166 - alert\n",
      "167 - alert\n",
      "168 - alert\n",
      "169 - alert\n",
      "170 - alert\n",
      "171 - alert\n",
      "172 - alert\n",
      "173 - alert\n",
      "174 - alert\n",
      "175 - alert\n",
      "176 - alert\n",
      "177 - alert\n",
      "178 - alert\n",
      "179 - alert\n",
      "180 - alert\n",
      "181 - alert\n",
      "182 - alert\n",
      "183 - alert\n",
      "184 - alert\n",
      "185 - alert\n",
      "186 - alert\n",
      "187 - alert\n",
      "188 - alert\n",
      "189 - alert\n",
      "190 - alert\n",
      "191 - alert\n",
      "192 - alert\n",
      "193 - alert\n",
      "194 - alert\n",
      "195 - alert\n",
      "196 - alert\n",
      "197 - alert\n",
      "198 - alert\n",
      "199 - alert\n",
      "All nans to 1e-3? True\n"
     ]
    }
   ],
   "source": [
    "params_f64_scipy = {\n",
    "    'pde': ['div_k_grad'],\n",
    "    'grid': [64],\n",
    "    'variance': [.1],\n",
    "    'N_samples_train': [1000],\n",
    "    'N_samples_test': [200],\n",
    "    'lhs_type': ['fd'],\n",
    "    'batch_size': [8],\n",
    "    'epoch_num': [1000],\n",
    "    'lr_start': [1e-3],\n",
    "    'schedule_params': [None],\n",
    "    'cg_valid_repeats': [300],\n",
    "    'corrector_net': [False],\n",
    "    'norm_prec_net': [False],\n",
    "    'precision': ['f64'],\n",
    "    'prec_inverse': [False],\n",
    "    'loss_type': ['llt'],\n",
    "    'power': [1],\n",
    "}\n",
    "params_grid = ParameterGrid(params_f64_scipy)\n",
    "training_search(params_grid, folder)"
   ]
  },
  {
   "cell_type": "code",
   "execution_count": null,
   "id": "c296018e",
   "metadata": {},
   "outputs": [],
   "source": []
  },
  {
   "cell_type": "code",
   "execution_count": null,
   "id": "7468db34",
   "metadata": {},
   "outputs": [],
   "source": []
  },
  {
   "cell_type": "code",
   "execution_count": null,
   "id": "3ca9af78",
   "metadata": {},
   "outputs": [],
   "source": []
  },
  {
   "cell_type": "code",
   "execution_count": null,
   "id": "c5ad1c02",
   "metadata": {},
   "outputs": [],
   "source": []
  },
  {
   "cell_type": "code",
   "execution_count": null,
   "id": "cedbd6d3",
   "metadata": {},
   "outputs": [],
   "source": []
  },
  {
   "cell_type": "code",
   "execution_count": null,
   "id": "ac669f26",
   "metadata": {},
   "outputs": [],
   "source": []
  },
  {
   "cell_type": "code",
   "execution_count": null,
   "id": "bb46970d",
   "metadata": {},
   "outputs": [],
   "source": [
    "params_f64_scipy = {\n",
    "    'pde': ['div_k_grad'],\n",
    "    'grid': [32, 64 ,128],\n",
    "    'variance': [.1],\n",
    "    'N_samples_train': [1000],\n",
    "    'N_samples_test': [200],\n",
    "    'lhs_type': ['l_ilu0', 'l_ict'],\n",
    "    'batch_size': [8],\n",
    "    'epoch_num': [1000],\n",
    "    'lr_start': [1e-3],\n",
    "    'schedule_params': [None],\n",
    "    'cg_valid_repeats': [350],\n",
    "    'corrector_net': [True],\n",
    "    'norm_prec_net': [False],\n",
    "    'precision': ['f64'],\n",
    "    'prec_inverse': [False],\n",
    "    'loss_type': ['llt'],\n",
    "    'power': [1],\n",
    "}\n",
    "params_grid = ParameterGrid(params_f64_scipy)\n",
    "training_search(params_grid, folder)"
   ]
  },
  {
   "cell_type": "code",
   "execution_count": 6,
   "id": "bcc55465",
   "metadata": {},
   "outputs": [
    {
     "name": "stdout",
     "output_type": "stream",
     "text": [
      "Started: 0\n",
      "Started: 1\n",
      "Started: 2\n",
      "Started: 3\n",
      "Started: 4\n",
      "Started: 5\n",
      "Started: 6\n",
      "Started: 7\n",
      "Started: 8\n",
      "Started: 9\n",
      "Started: 10\n",
      "Started: 11\n",
      "Started: 12\n",
      "Started: 13\n",
      "Started: 14\n",
      "Started: 15\n",
      "Started: 16\n",
      "Started: 17\n"
     ]
    }
   ],
   "source": [
    "params_poisson_64 = {\n",
    "    'pde': ['poisson'],\n",
    "    'grid': [64],\n",
    "    'variance': [.1],\n",
    "    'N_samples_train': [1000],\n",
    "    'N_samples_test': [200],\n",
    "    'lhs_type': ['l_ilu0', 'l_ict'],\n",
    "    'batch_size': [8, 16, 32],\n",
    "    'epoch_num': [400],\n",
    "    'lr_start': [5e-3, 1e-3, 5e-4],\n",
    "    'schedule_params': [None],\n",
    "    'cg_valid_repeats': [80],\n",
    "}\n",
    "params_grid = ParameterGrid(params_poisson_64)\n",
    "training_search(params_grid, folder)"
   ]
  },
  {
   "cell_type": "code",
   "execution_count": null,
   "id": "1fa04394",
   "metadata": {},
   "outputs": [],
   "source": [
    "params_poisson_128 = {\n",
    "    'pde': ['poisson'],\n",
    "    'grid': [128],\n",
    "    'variance': [.1],\n",
    "    'N_samples_train': [1000],\n",
    "    'N_samples_test': [200],\n",
    "    'lhs_type': ['l_ilu0', 'l_ict'],\n",
    "    'batch_size': [8, 16, 32],\n",
    "    'epoch_num': [400],\n",
    "    'lr_start': [1e-2, 5e-3, 1e-3, 5e-4],\n",
    "    'schedule_params': [None],\n",
    "    'cg_valid_repeats': [110],\n",
    "    'corrector_net': [True],\n",
    "    'norm_prec_net': [False]\n",
    "}\n",
    "params_grid = ParameterGrid(params_poisson_128)\n",
    "training_search(params_grid, folder)"
   ]
  },
  {
   "cell_type": "markdown",
   "id": "ee7a8bd2",
   "metadata": {},
   "source": [
    "#### Part of dataset (250/50)"
   ]
  },
  {
   "cell_type": "code",
   "execution_count": null,
   "id": "47eb7a79",
   "metadata": {},
   "outputs": [
    {
     "name": "stdout",
     "output_type": "stream",
     "text": [
      "Started: 0\n",
      "Started: 1\n",
      "Started: 2\n",
      "Started: 3\n",
      "Started: 4\n",
      "Started: 5\n",
      "Started: 6\n",
      "Started: 7\n",
      "Started: 8\n",
      "Started: 9\n",
      "Started: 10\n"
     ]
    }
   ],
   "source": [
    "folder = 'to_delete_runs'\n",
    "\n",
    "params = {'pde': ['poisson'],\n",
    "          'grid': [32, 64, 128],\n",
    "          'variance': [.1],\n",
    "          'N_samples_train': [250],\n",
    "          'N_samples_test': [50],\n",
    "          'lhs_type': ['l_ilu0', 'l_ict'],\n",
    "          'batch_size': [8, 16, 32],\n",
    "          'epoch_num': [500],\n",
    "          'lr_start': [1e-2, 5e-3, 1e-3],\n",
    "          'schedule_params': [None],\n",
    "          'cg_valid_repeats': [400],\n",
    "}\n",
    "\n",
    "params_grid = ParameterGrid(params)\n",
    "training_search(params_grid, folder)"
   ]
  },
  {
   "cell_type": "markdown",
   "id": "d74d40cc",
   "metadata": {},
   "source": [
    "### Div-k-grad"
   ]
  },
  {
   "cell_type": "markdown",
   "id": "515c90e0",
   "metadata": {},
   "source": [
    "#### Full dataset"
   ]
  },
  {
   "cell_type": "code",
   "execution_count": 4,
   "id": "4ba2719d",
   "metadata": {},
   "outputs": [],
   "source": [
    "folder = 'div_k_grad_full_dataset'"
   ]
  },
  {
   "cell_type": "code",
   "execution_count": null,
   "id": "97f4ce59",
   "metadata": {},
   "outputs": [
    {
     "name": "stdout",
     "output_type": "stream",
     "text": [
      "Started: 0\n",
      "Started: 1\n",
      "Started: 2\n",
      "Started: 3\n",
      "Started: 4\n",
      "Started: 5\n",
      "Started: 6\n",
      "Started: 7\n",
      "Started: 8\n",
      "Started: 9\n"
     ]
    }
   ],
   "source": [
    "params_dkg_32 = {\n",
    "    'pde': ['div_k_grad'],\n",
    "    'grid': [32],\n",
    "    'variance': [.1, .5, .7],\n",
    "    'N_samples_train': [1000],\n",
    "    'N_samples_test': [200],\n",
    "    'lhs_type': ['l_ilu0', 'l_ict'],\n",
    "    'batch_size': [8, 16, 32],\n",
    "    'epoch_num': [1000],\n",
    "    'lr_start': [5e-3, 1e-3, 5e-4],\n",
    "    'schedule_params': [None],\n",
    "    'cg_valid_repeats': [60],\n",
    "}\n",
    "params_grid = ParameterGrid(params_dkg_32)\n",
    "training_search(params_grid, folder)"
   ]
  },
  {
   "cell_type": "code",
   "execution_count": null,
   "id": "c5a3a7bd",
   "metadata": {},
   "outputs": [
    {
     "name": "stdout",
     "output_type": "stream",
     "text": [
      "Started: 0\n"
     ]
    }
   ],
   "source": [
    "params_dkg_64 = {\n",
    "    'pde': ['div_k_grad'],\n",
    "    'grid': [64],\n",
    "    'variance': [.1, .5, .7],\n",
    "    'N_samples_train': [1000],\n",
    "    'N_samples_test': [200],\n",
    "    'lhs_type': ['l_ilu0', 'l_ict'],\n",
    "    'batch_size': [8, 16, 32],\n",
    "    'epoch_num': [1000],\n",
    "    'lr_start': [5e-3, 1e-3, 5e-4],\n",
    "    'schedule_params': [None],\n",
    "    'cg_valid_repeats': [130],\n",
    "    'corrector_net': [True],\n",
    "    'norm_prec_net': [False]\n",
    "}\n",
    "params_grid = ParameterGrid(params_dkg_64)\n",
    "training_search(params_grid, folder)"
   ]
  },
  {
   "cell_type": "code",
   "execution_count": null,
   "id": "72ae0768",
   "metadata": {},
   "outputs": [],
   "source": []
  },
  {
   "cell_type": "markdown",
   "id": "162a25d0",
   "metadata": {},
   "source": [
    "#### Part of dataset (250/50)"
   ]
  },
  {
   "cell_type": "code",
   "execution_count": null,
   "id": "ecb62c75",
   "metadata": {},
   "outputs": [],
   "source": [
    "folder = 'div_k_grad_runs'\n",
    "\n",
    "params = {'pde': ['div_k_grad'],\n",
    "          'grid': [32, 64],\n",
    "          'variance': [.1, .5, .7],\n",
    "          'N_samples_train': [250],\n",
    "          'N_samples_test': [50],\n",
    "          'lhs_type': ['l_ilu0', 'l_ict'],\n",
    "          'batch_size': [8, 16, 32],\n",
    "          'epoch_num': [500],\n",
    "          'lr_start': [1e-2, 5e-3, 1e-3],\n",
    "          'schedule_params': [None],\n",
    "          'cg_valid_repeats': [400],\n",
    "}\n",
    "\n",
    "params_grid = ParameterGrid(params)\n",
    "training_search(params_grid, folder)"
   ]
  },
  {
   "cell_type": "code",
   "execution_count": 7,
   "id": "01180e8b",
   "metadata": {},
   "outputs": [
    {
     "data": {
      "text/plain": [
       "5"
      ]
     },
     "execution_count": 7,
     "metadata": {},
     "output_type": "execute_result"
    }
   ],
   "source": [
    "2+3"
   ]
  },
  {
   "cell_type": "code",
   "execution_count": null,
   "id": "04ebf235",
   "metadata": {},
   "outputs": [],
   "source": []
  }
 ],
 "metadata": {
  "kernelspec": {
   "display_name": "Python 3 (ipykernel)",
   "language": "python",
   "name": "python3"
  },
  "language_info": {
   "codemirror_mode": {
    "name": "ipython",
    "version": 3
   },
   "file_extension": ".py",
   "mimetype": "text/x-python",
   "name": "python",
   "nbconvert_exporter": "python",
   "pygments_lexer": "ipython3",
   "version": "3.10.6"
  }
 },
 "nbformat": 4,
 "nbformat_minor": 5
}
