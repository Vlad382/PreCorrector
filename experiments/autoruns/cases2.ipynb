{
 "cells": [
  {
   "cell_type": "code",
   "execution_count": 1,
   "id": "6fa62d95",
   "metadata": {},
   "outputs": [],
   "source": [
    "import warnings\n",
    "import sys\n",
    "import os\n",
    "import jax\n",
    "\n",
    "# jax.config.update(\"jax_enable_x64\", True)\n",
    "warnings.filterwarnings('ignore')\n",
    "os.environ[\"CUDA_VISIBLE_DEVICES\"] = '0'\n",
    "os.environ['XLA_PYTHON_CLIENT_MEM_FRACTION'] = '.95'\n",
    "sys.path.append('/mnt/local/data/vtrifonov/prec-learning-Notay-loss/')"
   ]
  },
  {
   "cell_type": "code",
   "execution_count": 7,
   "id": "527d4885",
   "metadata": {},
   "outputs": [
    {
     "data": {
      "text/plain": [
       "5"
      ]
     },
     "execution_count": 7,
     "metadata": {},
     "output_type": "execute_result"
    }
   ],
   "source": [
    "2+3"
   ]
  },
  {
   "cell_type": "code",
   "execution_count": 15,
   "id": "27ef12aa",
   "metadata": {},
   "outputs": [],
   "source": [
    "import numpy as np"
   ]
  },
  {
   "cell_type": "code",
   "execution_count": 98,
   "id": "9ca790ef",
   "metadata": {},
   "outputs": [
    {
     "data": {
      "text/plain": [
       "0.7915"
      ]
     },
     "execution_count": 98,
     "metadata": {},
     "output_type": "execute_result"
    }
   ],
   "source": [
    "a = 0.7025\n",
    "\n",
    "0.089 + a"
   ]
  },
  {
   "cell_type": "code",
   "execution_count": 3,
   "id": "e89d547e",
   "metadata": {},
   "outputs": [],
   "source": [
    "import pandas as pd\n",
    "import jax.numpy as jnp\n",
    "from train_utils import training_search\n",
    "from sklearn.model_selection import ParameterGrid"
   ]
  },
  {
   "cell_type": "code",
   "execution_count": 4,
   "id": "307f551d",
   "metadata": {},
   "outputs": [],
   "source": [
    "# 'pde': [],                # 'poisson', 'div_k_grad'\n",
    "# 'grid': [],               # 32, 64, 128, 256\n",
    "# 'variance': [],           # 0.1, 0.5, 0.7\n",
    "# 'N_samples_train': [],    # int in {1, 1000}\n",
    "# 'N_samples_test': [],     # int in {1, 200}\n",
    "# 'lhs_type': [],           # 'i_ilu0', 'l_ict'\n",
    "# 'batch_size': [],         # int\n",
    "# 'epoch_num': [],          # int\n",
    "# 'lr_start': [],           # float\n",
    "# 'schedule_params': [],    # None or [start, stop, step, decay_size], type:[int, int, int, float]\n",
    "# 'cg_valid_repeats': [],   # int; 400 is a good value"
   ]
  },
  {
   "cell_type": "code",
   "execution_count": 5,
   "id": "74c9bdd0",
   "metadata": {},
   "outputs": [],
   "source": [
    "folder = 'scipy_PrecNet_grid128_25.09'"
   ]
  },
  {
   "cell_type": "code",
   "execution_count": 6,
   "id": "95d755fb",
   "metadata": {},
   "outputs": [
    {
     "name": "stdout",
     "output_type": "stream",
     "text": [
      "Started: 0\n"
     ]
    },
    {
     "name": "stderr",
     "output_type": "stream",
     "text": [
      "2024-09-26 17:11:30.654575: W external/xla/xla/service/gpu/nvptx_compiler.cc:760] The NVIDIA driver's CUDA version is 12.4 which is older than the ptxas CUDA version (12.5.40). Because the driver is older than the ptxas version, XLA is disabling parallel compilation, which may slow down compilation. You should update your NVIDIA driver or use the NVIDIA-provided CUDA forward compatibility packages.\n",
      "2024-09-26 17:11:44.957660: E external/xla/xla/service/slow_operation_alarm.cc:65] Trying algorithm eng21{k2=1,k4=0,k5=1,k6=0,k7=0} for conv (f32[16,48,1]{2,1,0}, u8[0]{0}) custom-call(f32[8,48,65024]{2,1,0}, f32[8,16,65024]{2,1,0}), window={size=1}, dim_labels=bf0_oi0->bf0, custom_call_target=\"__cudnn$convBackwardFilter\", backend_config={\"operation_queue_id\":\"0\",\"wait_on_operation_queues\":[],\"cudnn_conv_backend_config\":{\"conv_result_scale\":1,\"activation_mode\":\"kNone\",\"side_input_scale\":0,\"leakyrelu_alpha\":0},\"force_earliest_schedule\":false} is taking a while...\n",
      "2024-09-26 17:11:45.102653: E external/xla/xla/service/slow_operation_alarm.cc:133] The operation took 1.145114175s\n",
      "Trying algorithm eng21{k2=1,k4=0,k5=1,k6=0,k7=0} for conv (f32[16,48,1]{2,1,0}, u8[0]{0}) custom-call(f32[8,48,65024]{2,1,0}, f32[8,16,65024]{2,1,0}), window={size=1}, dim_labels=bf0_oi0->bf0, custom_call_target=\"__cudnn$convBackwardFilter\", backend_config={\"operation_queue_id\":\"0\",\"wait_on_operation_queues\":[],\"cudnn_conv_backend_config\":{\"conv_result_scale\":1,\"activation_mode\":\"kNone\",\"side_input_scale\":0,\"leakyrelu_alpha\":0},\"force_earliest_schedule\":false} is taking a while...\n"
     ]
    },
    {
     "name": "stdout",
     "output_type": "stream",
     "text": [
      "0 - alert\n",
      "1 - alert\n",
      "2 - alert\n",
      "3 - alert\n",
      "4 - alert\n",
      "5 - alert\n",
      "6 - alert\n",
      "7 - alert\n",
      "8 - alert\n",
      "9 - alert\n",
      "10 - alert\n",
      "11 - alert\n",
      "12 - alert\n",
      "13 - alert\n",
      "14 - alert\n",
      "15 - alert\n",
      "16 - alert\n",
      "17 - alert\n",
      "18 - alert\n",
      "19 - alert\n",
      "20 - alert\n",
      "21 - alert\n",
      "22 - alert\n",
      "23 - alert\n",
      "24 - alert\n",
      "25 - alert\n",
      "26 - alert\n",
      "27 - alert\n",
      "28 - alert\n",
      "29 - alert\n",
      "30 - alert\n",
      "31 - alert\n",
      "32 - alert\n",
      "33 - alert\n",
      "34 - alert\n",
      "35 - alert\n",
      "36 - alert\n",
      "37 - alert\n",
      "38 - alert\n",
      "39 - alert\n",
      "40 - alert\n",
      "41 - alert\n",
      "42 - alert\n",
      "43 - alert\n",
      "44 - alert\n",
      "45 - alert\n",
      "46 - alert\n",
      "47 - alert\n",
      "48 - alert\n",
      "49 - alert\n",
      "50 - alert\n",
      "51 - alert\n",
      "52 - alert\n",
      "53 - alert\n",
      "54 - alert\n",
      "55 - alert\n",
      "56 - alert\n",
      "57 - alert\n",
      "58 - alert\n",
      "59 - alert\n",
      "60 - alert\n",
      "61 - alert\n",
      "62 - alert\n",
      "63 - alert\n",
      "64 - alert\n",
      "65 - alert\n",
      "66 - alert\n",
      "67 - alert\n",
      "68 - alert\n",
      "69 - alert\n",
      "70 - alert\n",
      "71 - alert\n",
      "72 - alert\n",
      "73 - alert\n",
      "74 - alert\n",
      "75 - alert\n",
      "76 - alert\n",
      "77 - alert\n",
      "78 - alert\n",
      "79 - alert\n",
      "80 - alert\n",
      "81 - alert\n",
      "82 - alert\n",
      "83 - alert\n",
      "84 - alert\n",
      "85 - alert\n",
      "86 - alert\n",
      "87 - alert\n",
      "88 - alert\n",
      "89 - alert\n",
      "90 - alert\n",
      "91 - alert\n",
      "92 - alert\n",
      "93 - alert\n",
      "94 - alert\n",
      "95 - alert\n",
      "96 - alert\n",
      "97 - alert\n",
      "98 - alert\n",
      "99 - alert\n",
      "100 - alert\n",
      "101 - alert\n",
      "102 - alert\n",
      "103 - alert\n",
      "104 - alert\n",
      "105 - alert\n",
      "106 - alert\n",
      "107 - alert\n",
      "108 - alert\n",
      "109 - alert\n",
      "110 - alert\n",
      "111 - alert\n",
      "112 - alert\n",
      "113 - alert\n",
      "114 - alert\n",
      "115 - alert\n",
      "116 - alert\n",
      "117 - alert\n",
      "118 - alert\n",
      "119 - alert\n",
      "120 - alert\n",
      "121 - alert\n",
      "122 - alert\n",
      "123 - alert\n",
      "124 - alert\n",
      "125 - alert\n",
      "126 - alert\n",
      "127 - alert\n",
      "128 - alert\n",
      "129 - alert\n",
      "130 - alert\n",
      "131 - alert\n",
      "132 - alert\n",
      "133 - alert\n",
      "134 - alert\n",
      "135 - alert\n",
      "136 - alert\n",
      "137 - alert\n",
      "138 - alert\n",
      "139 - alert\n",
      "140 - alert\n",
      "141 - alert\n",
      "142 - alert\n",
      "143 - alert\n",
      "144 - alert\n",
      "145 - alert\n",
      "146 - alert\n",
      "147 - alert\n",
      "148 - alert\n",
      "149 - alert\n",
      "150 - alert\n",
      "151 - alert\n",
      "152 - alert\n",
      "153 - alert\n",
      "154 - alert\n",
      "155 - alert\n",
      "156 - alert\n",
      "157 - alert\n",
      "158 - alert\n",
      "159 - alert\n",
      "160 - alert\n",
      "161 - alert\n",
      "162 - alert\n",
      "163 - alert\n",
      "164 - alert\n",
      "165 - alert\n",
      "166 - alert\n",
      "167 - alert\n",
      "168 - alert\n",
      "169 - alert\n",
      "170 - alert\n",
      "171 - alert\n",
      "172 - alert\n",
      "173 - alert\n",
      "174 - alert\n",
      "175 - alert\n",
      "176 - alert\n",
      "177 - alert\n",
      "178 - alert\n",
      "179 - alert\n",
      "180 - alert\n",
      "181 - alert\n",
      "182 - alert\n",
      "183 - alert\n",
      "184 - alert\n",
      "185 - alert\n",
      "186 - alert\n",
      "187 - alert\n",
      "188 - alert\n",
      "189 - alert\n",
      "190 - alert\n",
      "191 - alert\n",
      "192 - alert\n",
      "193 - alert\n",
      "194 - alert\n",
      "195 - alert\n",
      "196 - alert\n",
      "197 - alert\n",
      "198 - alert\n",
      "199 - alert\n",
      "All nans to 1e-3? True\n"
     ]
    }
   ],
   "source": [
    "params_f64_scipy = {\n",
    "    'pde': ['div_k_grad'],\n",
    "    'grid': [128],\n",
    "    'variance': [.1],\n",
    "    'N_samples_train': [1000],\n",
    "    'N_samples_test': [200],\n",
    "    'lhs_type': ['fd'],\n",
    "    'batch_size': [8],\n",
    "    'epoch_num': [1500],\n",
    "    'lr_start': [1e-3],\n",
    "    'schedule_params': [None],\n",
    "    'cg_valid_repeats': [300],\n",
    "    'corrector_net': [False],\n",
    "    'norm_prec_net': [False],\n",
    "    'precision': ['f64'],\n",
    "    'prec_inverse': [False],\n",
    "    'loss_type': ['llt'],\n",
    "    'power': [1],\n",
    "}\n",
    "params_grid = ParameterGrid(params_f64_scipy)\n",
    "training_search(params_grid, folder)"
   ]
  },
  {
   "cell_type": "code",
   "execution_count": null,
   "id": "daa8a736",
   "metadata": {},
   "outputs": [],
   "source": []
  },
  {
   "cell_type": "code",
   "execution_count": null,
   "id": "c63de66d",
   "metadata": {},
   "outputs": [],
   "source": []
  },
  {
   "cell_type": "code",
   "execution_count": null,
   "id": "a0f23711",
   "metadata": {},
   "outputs": [],
   "source": []
  },
  {
   "cell_type": "code",
   "execution_count": null,
   "id": "6e909690",
   "metadata": {},
   "outputs": [],
   "source": []
  },
  {
   "cell_type": "code",
   "execution_count": null,
   "id": "cea50933",
   "metadata": {},
   "outputs": [
    {
     "name": "stdout",
     "output_type": "stream",
     "text": [
      "Started: 0\n"
     ]
    },
    {
     "name": "stderr",
     "output_type": "stream",
     "text": [
      "2024-05-17 08:52:15.998301: E external/xla/xla/service/slow_operation_alarm.cc:65] Trying algorithm eng21{k2=1,k4=0,k5=1,k6=0,k7=0} for conv (f32[16,48,1]{2,1,0}, u8[0]{0}) custom-call(f32[8,48,65024]{2,1,0}, f32[8,16,65024]{2,1,0}), window={size=1}, dim_labels=bf0_oi0->bf0, custom_call_target=\"__cudnn$convBackwardFilter\", backend_config={\"operation_queue_id\":\"0\",\"wait_on_operation_queues\":[],\"cudnn_conv_backend_config\":{\"conv_result_scale\":1,\"activation_mode\":\"kNone\",\"side_input_scale\":0,\"leakyrelu_alpha\":0},\"force_earliest_schedule\":false} is taking a while...\n",
      "2024-05-17 08:52:16.146406: E external/xla/xla/service/slow_operation_alarm.cc:133] The operation took 1.148231695s\n",
      "Trying algorithm eng21{k2=1,k4=0,k5=1,k6=0,k7=0} for conv (f32[16,48,1]{2,1,0}, u8[0]{0}) custom-call(f32[8,48,65024]{2,1,0}, f32[8,16,65024]{2,1,0}), window={size=1}, dim_labels=bf0_oi0->bf0, custom_call_target=\"__cudnn$convBackwardFilter\", backend_config={\"operation_queue_id\":\"0\",\"wait_on_operation_queues\":[],\"cudnn_conv_backend_config\":{\"conv_result_scale\":1,\"activation_mode\":\"kNone\",\"side_input_scale\":0,\"leakyrelu_alpha\":0},\"force_earliest_schedule\":false} is taking a while...\n"
     ]
    },
    {
     "name": "stdout",
     "output_type": "stream",
     "text": [
      "Started: 1\n",
      "Started: 2\n",
      "Started: 3\n"
     ]
    }
   ],
   "source": [
    "params_dkg05_128 = {\n",
    "    'pde': ['div_k_grad'],\n",
    "    'grid': [128],\n",
    "    'variance': [.5],\n",
    "    'N_samples_train': [1000],\n",
    "    'N_samples_test': [200],\n",
    "    'lhs_type': ['l_ilu0', 'l_ict'],\n",
    "    'batch_size': [8, 16, 32],\n",
    "    'epoch_num': [700],\n",
    "    'lr_start': [5e-3, 1e-3, 5e-4],\n",
    "    'schedule_params': [None],\n",
    "    'cg_valid_repeats': [250],\n",
    "    'corrector_net': [True],\n",
    "    'norm_prec_net': [False]\n",
    "}\n",
    "params_grid = ParameterGrid(params_dkg05_128)\n",
    "training_search(params_grid, folder)"
   ]
  },
  {
   "cell_type": "code",
   "execution_count": null,
   "id": "ffa61204",
   "metadata": {},
   "outputs": [],
   "source": []
  },
  {
   "cell_type": "markdown",
   "id": "033a82a6",
   "metadata": {},
   "source": [
    "### Simple GNN with normalization"
   ]
  },
  {
   "cell_type": "code",
   "execution_count": 5,
   "id": "35c176b1",
   "metadata": {},
   "outputs": [],
   "source": [
    "folder = 'simpleGNN_results_norm'"
   ]
  },
  {
   "cell_type": "code",
   "execution_count": null,
   "id": "d34429d3",
   "metadata": {},
   "outputs": [
    {
     "name": "stdout",
     "output_type": "stream",
     "text": [
      "Started: 0\n"
     ]
    }
   ],
   "source": [
    "params_poisson_32_64 = {\n",
    "    'pde': ['poisson'],\n",
    "    'grid': [32, 64],\n",
    "    'variance': [.1],\n",
    "    'N_samples_train': [1000],\n",
    "    'N_samples_test': [200],\n",
    "    'lhs_type': ['fd'],\n",
    "    'batch_size': [8, 16],\n",
    "    'epoch_num': [5000],\n",
    "    'lr_start': [1e-3],\n",
    "    'schedule_params': [None],\n",
    "    'cg_valid_repeats': [1000],\n",
    "    'corrector_net': [False],\n",
    "    'norm_prec_net': [True]\n",
    "}\n",
    "params_grid = ParameterGrid(params_poisson_32_64)\n",
    "training_search(params_grid, folder)"
   ]
  },
  {
   "cell_type": "code",
   "execution_count": null,
   "id": "48328cfe",
   "metadata": {},
   "outputs": [
    {
     "name": "stdout",
     "output_type": "stream",
     "text": [
      "Started: 0\n"
     ]
    }
   ],
   "source": [
    "params_dkg_32_64 = {\n",
    "    'pde': ['div_k_grad'],\n",
    "    'grid': [32, 64],\n",
    "    'variance': [.1, .5, .7],\n",
    "    'N_samples_train': [1000],\n",
    "    'N_samples_test': [200],\n",
    "    'lhs_type': ['fd'],\n",
    "    'batch_size': [8, 16],\n",
    "    'epoch_num': [5000],\n",
    "    'lr_start': [1e-3],\n",
    "    'schedule_params': [None],\n",
    "    'cg_valid_repeats': [1500],\n",
    "    'corrector_net': [False],\n",
    "    'norm_prec_net': [True]\n",
    "}\n",
    "params_grid = ParameterGrid(params_dkg_32_64)\n",
    "training_search(params_grid, folder)"
   ]
  },
  {
   "cell_type": "markdown",
   "id": "cb7be271",
   "metadata": {},
   "source": [
    "### Poisson"
   ]
  },
  {
   "cell_type": "code",
   "execution_count": 4,
   "id": "c2fe4794",
   "metadata": {},
   "outputs": [],
   "source": [
    "# folder = 'poisson_runs'\n",
    "\n",
    "# params = {'pde': ['poisson'],\n",
    "#           'grid': [32, 64, 128],\n",
    "#           'variance': [.1],\n",
    "#           'N_samples_train': [250],\n",
    "#           'N_samples_test': [50],\n",
    "#           'lhs_type': ['l_ilu0', 'l_ict'],\n",
    "#           'batch_size': [8, 16, 32],\n",
    "#           'epoch_num': [500],\n",
    "#           'lr_start': [1e-2, 5e-3, 1e-3],\n",
    "#           'schedule_params': [None],\n",
    "#           'cg_valid_repeats': [400],\n",
    "# }\n",
    "\n",
    "# params_grid = ParameterGrid(params)\n",
    "# training_search(params_grid, folder)"
   ]
  },
  {
   "cell_type": "markdown",
   "id": "23c4685f",
   "metadata": {},
   "source": [
    "### Div-k-grad"
   ]
  },
  {
   "cell_type": "code",
   "execution_count": null,
   "id": "eb4514f4",
   "metadata": {},
   "outputs": [
    {
     "name": "stdout",
     "output_type": "stream",
     "text": [
      "Started: 0\n"
     ]
    },
    {
     "name": "stderr",
     "output_type": "stream",
     "text": [
      "2024-05-14 17:52:26.446616: E external/xla/xla/service/slow_operation_alarm.cc:65] Trying algorithm eng21{k2=1,k4=0,k5=1,k6=0,k7=0} for conv (f32[16,48,1]{2,1,0}, u8[0]{0}) custom-call(f32[8,48,65024]{2,1,0}, f32[8,16,65024]{2,1,0}), window={size=1}, dim_labels=bf0_oi0->bf0, custom_call_target=\"__cudnn$convBackwardFilter\", backend_config={\"operation_queue_id\":\"0\",\"wait_on_operation_queues\":[],\"cudnn_conv_backend_config\":{\"conv_result_scale\":1,\"activation_mode\":\"kNone\",\"side_input_scale\":0,\"leakyrelu_alpha\":0},\"force_earliest_schedule\":false} is taking a while...\n",
      "2024-05-14 17:52:26.593286: E external/xla/xla/service/slow_operation_alarm.cc:133] The operation took 1.146784566s\n",
      "Trying algorithm eng21{k2=1,k4=0,k5=1,k6=0,k7=0} for conv (f32[16,48,1]{2,1,0}, u8[0]{0}) custom-call(f32[8,48,65024]{2,1,0}, f32[8,16,65024]{2,1,0}), window={size=1}, dim_labels=bf0_oi0->bf0, custom_call_target=\"__cudnn$convBackwardFilter\", backend_config={\"operation_queue_id\":\"0\",\"wait_on_operation_queues\":[],\"cudnn_conv_backend_config\":{\"conv_result_scale\":1,\"activation_mode\":\"kNone\",\"side_input_scale\":0,\"leakyrelu_alpha\":0},\"force_earliest_schedule\":false} is taking a while...\n"
     ]
    }
   ],
   "source": [
    "folder = 'div_k_grad_runs1'\n",
    "\n",
    "params = {'pde': ['div_k_grad'],\n",
    "          'grid': [128],\n",
    "          'variance': [.1, .5, .7],\n",
    "          'N_samples_train': [250],\n",
    "          'N_samples_test': [50],\n",
    "          'lhs_type': ['l_ilu0', 'l_ict'],\n",
    "          'batch_size': [8, 16, 32],\n",
    "          'epoch_num': [500],\n",
    "          'lr_start': [1e-2, 5e-3, 1e-3],\n",
    "          'schedule_params': [None],\n",
    "          'cg_valid_repeats': [400],\n",
    "}\n",
    "\n",
    "params_grid = ParameterGrid(params)\n",
    "training_search(params_grid, folder)"
   ]
  },
  {
   "cell_type": "code",
   "execution_count": null,
   "id": "49157932",
   "metadata": {},
   "outputs": [],
   "source": [
    "2+3"
   ]
  },
  {
   "cell_type": "code",
   "execution_count": null,
   "id": "2d5e5385",
   "metadata": {},
   "outputs": [],
   "source": []
  }
 ],
 "metadata": {
  "kernelspec": {
   "display_name": "Python 3 (ipykernel)",
   "language": "python",
   "name": "python3"
  },
  "language_info": {
   "codemirror_mode": {
    "name": "ipython",
    "version": 3
   },
   "file_extension": ".py",
   "mimetype": "text/x-python",
   "name": "python",
   "nbconvert_exporter": "python",
   "pygments_lexer": "ipython3",
   "version": "3.10.6"
  }
 },
 "nbformat": 4,
 "nbformat_minor": 5
}
