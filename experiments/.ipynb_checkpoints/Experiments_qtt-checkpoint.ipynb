{
 "cells": [
  {
   "cell_type": "code",
   "execution_count": null,
   "id": "78620e2a",
   "metadata": {},
   "outputs": [],
   "source": [
    "import warnings\n",
    "import sys\n",
    "import os\n",
    "\n",
    "warnings.filterwarnings('ignore')\n",
    "os.environ[\"CUDA_VISIBLE_DEVICES\"] = '1'\n",
    "os.environ['XLA_PYTHON_CLIENT_MEM_FRACTION'] = '.95'\n",
    "sys.path.append('/mnt/local/data/vtrifonov/prec-learning-Notay-loss/')"
   ]
  },
  {
   "cell_type": "code",
   "execution_count": 2,
   "id": "4885e261",
   "metadata": {},
   "outputs": [],
   "source": [
    "import jax.numpy as jnp\n",
    "from jax import random, vmap, clear_caches, jit\n",
    "import numpy as np\n",
    "\n",
    "import optax\n",
    "from equinox.nn import Conv1d\n",
    "import matplotlib.pyplot as plt\n",
    "from functools import partial\n",
    "from time import perf_counter\n",
    "\n",
    "from data.dataset import dataset_qtt\n",
    "from linsolve.cg import ConjGrad\n",
    "from linsolve.precond import llt_prec_trig_solve, llt_inv_prec\n",
    "from model import MessagePassing, FullyConnectedNet, PrecNet, ConstantConv1d, MessagePassingWithDot, CorrectionNet\n",
    "\n",
    "from utils import params_count, asses_cond, iter_per_residual, batch_indices\n",
    "from data.utils import direc_graph_from_linear_system_sparse\n",
    "from train import train\n",
    "\n",
    "plt.rcParams['figure.figsize'] = (11, 7)"
   ]
  },
  {
   "cell_type": "markdown",
   "id": "64a5f634",
   "metadata": {},
   "source": [
    "# Setup experiment"
   ]
  },
  {
   "cell_type": "code",
   "execution_count": 24,
   "id": "13ce41d7",
   "metadata": {},
   "outputs": [],
   "source": [
    "pde = 'poisson'      # 'poisson', 'div_k_grad'\n",
    "grid = 256            # 32, 64, 128\n",
    "variance = .5        # 0.1, 0.5, 1.0 1.5\n",
    "lhs_type = 'l_ilu0'      # 'fd', 'ilu0', 'ilu1', 'ilu2', 'ict', 'l_ict', 'a_pow'\n",
    "N_train = 250\n",
    "N_test = 50\n",
    "\n",
    "fill_factor = 1     # int\n",
    "threshold = 1e-4     # float\n",
    "power = 2            # int\n",
    "N_valid_CG = 100     # Number of CG iterations for validation in the very end"
   ]
  },
  {
   "cell_type": "code",
   "execution_count": 4,
   "id": "0697c417",
   "metadata": {},
   "outputs": [],
   "source": [
    "with_cond = False\n",
    "layer_ = Conv1d         # 'ConstantConv1d' to make a \"zero\" NN initialization; 'Conv1d' to make a random initialization\n",
    "alpha = jnp.array([0.])\n",
    "\n",
    "loss_type = 'llt'               # 'llt', 'llt-res', 'inv-prec'"
   ]
  },
  {
   "cell_type": "code",
   "execution_count": 5,
   "id": "91637786",
   "metadata": {},
   "outputs": [],
   "source": [
    "batch_size = 16\n",
    "epoch_num = 300\n",
    "lr = 5e-3\n",
    "schedule_params = None #[1700, 2001, 300, 1e-1]    # [start, stop, step, decay_size]"
   ]
  },
  {
   "cell_type": "code",
   "execution_count": 6,
   "id": "084d44f5",
   "metadata": {},
   "outputs": [],
   "source": [
    "# if (loss_type in {'notay', 'llt-res', 'llt-res-norm'} and dataset == 'simple') or (loss_type in {'llt', 'llt-norm'} and dataset == 'krylov'):\n",
    "#     raise ValueError('Not valid dataset for a chosen loss')\n",
    "\n",
    "if schedule_params != None:\n",
    "    assert len(schedule_params) == 4\n",
    "    \n",
    "    start, stop, step, decay_size = schedule_params\n",
    "    steps_per_batch = N_train // batch_size\n",
    "    start, stop, step = start*steps_per_batch, stop*steps_per_batch, step*steps_per_batch\n",
    "    lr = optax.piecewise_constant_schedule(\n",
    "        lr,\n",
    "        {k: v for k, v in zip(np.arange(start, stop, step), [decay_size, ] * len(jnp.arange(start, stop, step)))}\n",
    "    )"
   ]
  },
  {
   "cell_type": "code",
   "execution_count": 7,
   "id": "7715ceb9",
   "metadata": {},
   "outputs": [],
   "source": [
    "model_config = {\n",
    "    'node_enc': {\n",
    "        'features': [1, 16, 16],\n",
    "        'N_layers': 2,\n",
    "        'layer_': layer_\n",
    "    },\n",
    "    'edge_enc': {\n",
    "        'features': [1, 16, 16],\n",
    "        'N_layers': 2,\n",
    "        'layer_': layer_\n",
    "    },\n",
    "    'edge_dec': {\n",
    "        'features': [16, 16, 1],\n",
    "        'N_layers': 2,\n",
    "        'layer_': layer_\n",
    "    },\n",
    "    'mp': {\n",
    "        'edge_upd': {\n",
    "            'features': [48, 16, 16],\n",
    "            'N_layers': 2,\n",
    "            'layer_': layer_\n",
    "        },\n",
    "        'node_upd': {\n",
    "            'features': [32, 16, 16],\n",
    "            'N_layers': 2,\n",
    "            'layer_': layer_\n",
    "        },\n",
    "        'mp_rounds': 5\n",
    "    }\n",
    "}"
   ]
  },
  {
   "cell_type": "markdown",
   "id": "02705ec7",
   "metadata": {},
   "source": [
    "# Make dataset"
   ]
  },
  {
   "cell_type": "code",
   "execution_count": 8,
   "id": "309f05b2",
   "metadata": {},
   "outputs": [
    {
     "name": "stdout",
     "output_type": "stream",
     "text": [
      "20.845256581000285\n"
     ]
    }
   ],
   "source": [
    "s1 = perf_counter()\n",
    "A_train, A_pad_train, b_train, u_exact_train, bi_edges_train = dataset_qtt(pde, grid, variance, lhs_type, return_train=True, N_samples=N_train, fill_factor=fill_factor, threshold=threshold, power=power)\n",
    "A_test, A_pad_test, b_test, u_exact_test, bi_edges_test = dataset_qtt(pde, grid, variance, lhs_type, return_train=False, N_samples=N_test, fill_factor=fill_factor, threshold=threshold, power=power)\n",
    "print(perf_counter() - s1)"
   ]
  },
  {
   "cell_type": "code",
   "execution_count": 9,
   "id": "b04a953b",
   "metadata": {},
   "outputs": [],
   "source": [
    "# A_pad_train[80, ...].indices[300, :]"
   ]
  },
  {
   "cell_type": "code",
   "execution_count": 10,
   "id": "35f7916f",
   "metadata": {},
   "outputs": [],
   "source": [
    "# plt.rcParams['figure.figsize'] = (11, 7)\n",
    "# start, stop = 300, 350\n",
    "# start_im = 45\n",
    "# stop_im = start_im + 64\n",
    "\n",
    "# for j, ind in enumerate(bi_edges_train[80, start:stop, :]):\n",
    "#     A_loc = A_pad_train[80, ...]\n",
    "#     A_loc.data = A_loc.data * 0 + 1\n",
    "#     A_loc.data = A_loc.data.at[ind].set(5)\n",
    "#     plt.imshow(A_loc[start_im:stop_im, start_im:stop_im].todense())\n",
    "#     plt.axis(False)\n",
    "#     plt.show()\n",
    "    \n",
    "#     if j == 64: break"
   ]
  },
  {
   "cell_type": "markdown",
   "id": "6828a1b6",
   "metadata": {},
   "source": [
    "# Train model"
   ]
  },
  {
   "cell_type": "code",
   "execution_count": 11,
   "id": "952afe23",
   "metadata": {},
   "outputs": [
    {
     "name": "stdout",
     "output_type": "stream",
     "text": [
      "Parameter number: 2754\n"
     ]
    }
   ],
   "source": [
    "seed = 42\n",
    "NodeEncoder = FullyConnectedNet(**model_config['node_enc'], key=random.PRNGKey(seed))\n",
    "EdgeEncoder = FullyConnectedNet(**model_config['edge_enc'], key=random.PRNGKey(seed))\n",
    "EdgeDecoder = FullyConnectedNet(**model_config['edge_dec'], key=random.PRNGKey(seed))\n",
    "\n",
    "mp_rounds = 5\n",
    "MessagePass = MessagePassing(\n",
    "    update_edge_fn = FullyConnectedNet(**model_config['mp']['edge_upd'], key=random.PRNGKey(seed)),    \n",
    "    update_node_fn = FullyConnectedNet(**model_config['mp']['node_upd'], key=random.PRNGKey(seed)),\n",
    "    mp_rounds=model_config['mp']['mp_rounds']\n",
    ")\n",
    "\n",
    "# model = PrecNet(NodeEncoder=NodeEncoder, EdgeEncoder=EdgeEncoder, \n",
    "#                 EdgeDecoder=EdgeDecoder, MessagePass=MessagePass)\n",
    "\n",
    "\n",
    "model = CorrectionNet(NodeEncoder=NodeEncoder, EdgeEncoder=EdgeEncoder, \n",
    "                EdgeDecoder=EdgeDecoder, MessagePass=MessagePass, alpha=alpha)\n",
    "print(f'Parameter number: {params_count(model)}')"
   ]
  },
  {
   "cell_type": "code",
   "execution_count": 12,
   "id": "05163f8a",
   "metadata": {},
   "outputs": [],
   "source": [
    "# data = (X_train, X_test, y_train, y_test)\n",
    "data = (\n",
    "    [A_train, A_pad_train, b_train, bi_edges_train, u_exact_train],\n",
    "    [A_test, A_pad_test, b_test, bi_edges_test, u_exact_test],\n",
    "    jnp.array([1]), jnp.array([1])\n",
    ")\n",
    "train_config = {\n",
    "    'optimizer': optax.adam,\n",
    "    'lr': lr,\n",
    "    'optim_params': {},#{'weight_decay': 1e-8}, \n",
    "    'epoch_num': epoch_num,\n",
    "    'batch_size': batch_size,\n",
    "}"
   ]
  },
  {
   "cell_type": "code",
   "execution_count": 13,
   "id": "6e8af626",
   "metadata": {},
   "outputs": [],
   "source": [
    "s = perf_counter()\n",
    "model, losses = train(model, data, train_config, loss_name=loss_type, repeat_step=1, with_cond=with_cond)\n",
    "dt = perf_counter() - s"
   ]
  },
  {
   "cell_type": "code",
   "execution_count": 14,
   "id": "d5ce0000",
   "metadata": {},
   "outputs": [
    {
     "data": {
      "text/plain": [
       "1724.1110255270032"
      ]
     },
     "execution_count": 14,
     "metadata": {},
     "output_type": "execute_result"
    }
   ],
   "source": [
    "dt"
   ]
  },
  {
   "cell_type": "code",
   "execution_count": 15,
   "id": "7fcd1fc1",
   "metadata": {},
   "outputs": [
    {
     "name": "stdout",
     "output_type": "stream",
     "text": [
      "alpha:"
     ]
    },
    {
     "data": {
      "text/plain": [
       "Array([-0.07805541], dtype=float32)"
      ]
     },
     "execution_count": 15,
     "metadata": {},
     "output_type": "execute_result"
    }
   ],
   "source": [
    "print('alpha:', end='')\n",
    "model.alpha"
   ]
  },
  {
   "cell_type": "code",
   "execution_count": 16,
   "id": "4fdd5f2d",
   "metadata": {},
   "outputs": [],
   "source": [
    "nodes, edges, receivers, senders, _ = direc_graph_from_linear_system_sparse(A_pad_test, b_test)\n",
    "lhs_nodes, lhs_edges, lhs_receivers, lhs_senders, _ = direc_graph_from_linear_system_sparse(A_test, b_test)\n",
    "\n",
    "L = vmap(model, in_axes=((0, 0, 0, 0), 0, (0, 0, 0, 0)), out_axes=(0))((nodes, edges, receivers, senders), bi_edges_test, (lhs_nodes, lhs_edges, lhs_receivers, lhs_senders))\n",
    "del model, data, A_train, A_pad_train, b_train, u_exact_train, bi_edges_train, bi_edges_test\n",
    "clear_caches()"
   ]
  },
  {
   "cell_type": "code",
   "execution_count": 17,
   "id": "49063c51",
   "metadata": {},
   "outputs": [
    {
     "name": "stdout",
     "output_type": "stream",
     "text": [
      "Final values\n",
      "  train loss: 6801.7842\n",
      "   test loss: 6838.1338\n",
      "    LLT cond: 1\n",
      "\n",
      "Minimim test loss `6836.0981` at epoch `293`\n",
      "\n",
      "Minimim test P^(-1)A cond `1` at epoch `0`\n"
     ]
    },
    {
     "data": {
      "image/png": "[encoded data removed]",
      "text/plain": [
       "<Figure size 1500x500 with 2 Axes>"
      ]
     },
     "metadata": {},
     "output_type": "display_data"
    }
   ],
   "source": [
    "_, axes = plt.subplots(1, 2, figsize=(15, 5))\n",
    "\n",
    "axes[0].plot(range(len(losses[0])), losses[1], label='Test')\n",
    "axes[0].plot(range(len(losses[0])), losses[0], label='Train')\n",
    "axes[0].legend()\n",
    "axes[0].set_yscale('log')\n",
    "axes[0].set_xlabel('Epoch')\n",
    "axes[0].set_ylabel('Loss');\n",
    "axes[0].grid();\n",
    "\n",
    "axes[1].plot(range(len(losses[0])), losses[2], label='Test')\n",
    "axes[1].legend()\n",
    "axes[1].set_yscale('log')\n",
    "axes[1].set_xlabel('Epoch')\n",
    "axes[1].set_ylabel('Cond of $P^{-1}A$')\n",
    "axes[1].grid();\n",
    "\n",
    "plt.tight_layout()\n",
    "\n",
    "print(f'Final values\\n  train loss: {losses[0][-1]:.4f}\\n   test loss: {losses[1][-1]:.4f}\\n    LLT cond: {losses[2][-1]:.0f}')\n",
    "print(f'\\nMinimim test loss `{jnp.min(losses[1]).item():.4f}` at epoch `{jnp.argmin(losses[1]).item():.0f}`')\n",
    "print(f'\\nMinimim test P^(-1)A cond `{jnp.min(losses[2]).item():.0f}` at epoch `{jnp.argmin(losses[2]).item():.0f}`')"
   ]
  },
  {
   "cell_type": "code",
   "execution_count": 18,
   "id": "19d14945",
   "metadata": {},
   "outputs": [
    {
     "name": "stdout",
     "output_type": "stream",
     "text": [
      "Approx cond with constructed: 13.086364\n",
      "Approx cond with IC(0):       25.178904\n"
     ]
    }
   ],
   "source": [
    "import ilupp\n",
    "from utils import jBCOO_to_scipyCSR, asses_cond_with_res\n",
    "import jax.experimental.sparse as jsparse\n",
    "\n",
    "cg = partial(ConjGrad, prec_func=partial(llt_prec_trig_solve, L=L[0, ...][None, ...]))\n",
    "print('Approx cond with constructed:', asses_cond_with_res(A_test[0:1, ...], b_test[0:1, ...], cg))\n",
    "\n",
    "cg = partial(ConjGrad, prec_func=partial(llt_prec_trig_solve, L=jsparse.BCOO.from_scipy_sparse(ilupp.ichol0(jBCOO_to_scipyCSR(A_test[0, ...])))[None, ...]))\n",
    "print('Approx cond with IC(0):      ', asses_cond_with_res(A_test[0:1, ...], b_test[0:1, ...], cg))"
   ]
  },
  {
   "cell_type": "markdown",
   "id": "26d177f7",
   "metadata": {},
   "source": [
    "# Apply model to CG"
   ]
  },
  {
   "cell_type": "code",
   "execution_count": 25,
   "id": "10ee5a0c",
   "metadata": {},
   "outputs": [],
   "source": [
    "# Not preconditioned\n",
    "X_I, R_I = ConjGrad(A_test, b_test, N_iter=N_valid_CG, prec_func=None, seed=42)"
   ]
  },
  {
   "cell_type": "code",
   "execution_count": null,
   "id": "3a8b5ece",
   "metadata": {},
   "outputs": [],
   "source": [
    "if loss_type != 'inv-prec':\n",
    "    # P = LL^T\n",
    "    prec = partial(llt_prec_trig_solve, L=L)\n",
    "else:\n",
    "    # P^{-1} = LL^T\n",
    "    prec = partial(llt_inv_prec, L=L)\n",
    "\n",
    "s_prec = perf_counter()\n",
    "X_LLT, R_LLT = ConjGrad(A_test, b_test, N_iter=N_valid_CG, prec_func=prec, seed=42)\n",
    "print(perf_counter() - s_prec)"
   ]
  },
  {
   "cell_type": "code",
   "execution_count": null,
   "id": "143f2b6a",
   "metadata": {},
   "outputs": [],
   "source": [
    "# print(A_pad_test.shape)\n",
    "# a = A_pad_test[0, :100, :100]\n",
    "# a.data = a.data * 0 + 1\n",
    "# plt.imshow(a.todense())"
   ]
  },
  {
   "cell_type": "code",
   "execution_count": null,
   "id": "5a9ef872",
   "metadata": {},
   "outputs": [],
   "source": [
    "plt.plot(range(R_I.shape[-1]), jnp.linalg.norm(R_I, axis=1).mean(0), label=\"CG\")\n",
    "plt.plot(range(R_LLT.shape[-1]), jnp.linalg.norm(R_LLT, axis=1).mean(0), label=\"PCG\")\n",
    "\n",
    "plt.xlabel('Iteration')\n",
    "plt.ylabel('Norm residual')\n",
    "plt.legend();\n",
    "plt.yscale('log')\n",
    "plt.grid();\n",
    "    \n",
    "res_I_dict = iter_per_residual(jnp.linalg.norm(R_I, axis=1).mean(0))\n",
    "res_LLT_dict = iter_per_residual(jnp.linalg.norm(R_LLT, axis=1).mean(0))\n",
    "print(' CG:', res_I_dict)\n",
    "print('PCG:', res_LLT_dict)"
   ]
  },
  {
   "cell_type": "code",
   "execution_count": null,
   "id": "90bacfc4",
   "metadata": {},
   "outputs": [],
   "source": [
    "_, axes = plt.subplots(1, 3, figsize=(14, 14))\n",
    "\n",
    "axes[0].imshow(X_I[0, :, -1].reshape([grid]*2))\n",
    "axes[1].imshow(X_LLT[0, :, -1].reshape([grid]*2))\n",
    "axes[2].imshow(u_exact_test[0, :].reshape([grid]*2))\n",
    "\n",
    "axes[0].set_title('No prec')\n",
    "axes[1].set_title('Notay-loss prec')\n",
    "axes[2].set_title('Exact solution')\n",
    "\n",
    "plt.tight_layout()"
   ]
  },
  {
   "cell_type": "code",
   "execution_count": null,
   "id": "9f26924b",
   "metadata": {},
   "outputs": [],
   "source": []
  },
  {
   "cell_type": "code",
   "execution_count": null,
   "id": "77e093dd",
   "metadata": {},
   "outputs": [],
   "source": []
  }
 ],
 "metadata": {
  "kernelspec": {
   "display_name": "Python 3 (ipykernel)",
   "language": "python",
   "name": "python3"
  },
  "language_info": {
   "codemirror_mode": {
    "name": "ipython",
    "version": 3
   },
   "file_extension": ".py",
   "mimetype": "text/x-python",
   "name": "python",
   "nbconvert_exporter": "python",
   "pygments_lexer": "ipython3",
   "version": "3.10.6"
  }
 },
 "nbformat": 4,
 "nbformat_minor": 5
}
