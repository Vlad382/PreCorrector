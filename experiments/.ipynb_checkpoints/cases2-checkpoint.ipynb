{
 "cells": [
  {
   "cell_type": "code",
   "execution_count": 1,
   "id": "2d44c663",
   "metadata": {},
   "outputs": [],
   "source": [
    "import warnings\n",
    "import sys\n",
    "import os\n",
    "\n",
    "warnings.filterwarnings('ignore')\n",
    "os.environ[\"CUDA_VISIBLE_DEVICES\"] = '3'\n",
    "os.environ['XLA_PYTHON_CLIENT_MEM_FRACTION'] = '.95'\n",
    "sys.path.append('/mnt/local/data/vtrifonov/prec-learning-Notay-loss/')"
   ]
  },
  {
   "cell_type": "code",
   "execution_count": null,
   "id": "d78b18a7",
   "metadata": {},
   "outputs": [],
   "source": [
    "2+3"
   ]
  },
  {
   "cell_type": "code",
   "execution_count": 3,
   "id": "0e0cb7ba",
   "metadata": {},
   "outputs": [],
   "source": [
    "import jax.numpy as jnp\n",
    "from train_utils import training_search\n",
    "from sklearn.model_selection import ParameterGrid"
   ]
  },
  {
   "cell_type": "code",
   "execution_count": 4,
   "id": "2e9ab652",
   "metadata": {},
   "outputs": [],
   "source": [
    "# 'pde': [],                # 'poisson', 'div_k_grad'\n",
    "# 'grid': [],               # 32, 64, 128, 256\n",
    "# 'variance': [],           # 0.1, 0.5, 0.7\n",
    "# 'N_samples_train': [],    # int in {1, 1000}\n",
    "# 'N_samples_test': [],     # int in {1, 200}\n",
    "# 'lhs_type': [],           # 'i_ilu0', 'l_ict'\n",
    "# 'batch_size': [],         # int\n",
    "# 'epoch_num': [],          # int\n",
    "# 'lr_start': [],           # float\n",
    "# 'schedule_params': [],    # None or [start, stop, step, decay_size], type:[int, int, int, float]\n",
    "# 'cg_valid_repeats': [],   # int; 400 is a good value"
   ]
  },
  {
   "cell_type": "code",
   "execution_count": 5,
   "id": "851a85d5",
   "metadata": {},
   "outputs": [],
   "source": [
    "folder = 'div_k_grad05_128_full_dataset'"
   ]
  },
  {
   "cell_type": "code",
   "execution_count": null,
   "id": "abacbafa",
   "metadata": {},
   "outputs": [
    {
     "name": "stdout",
     "output_type": "stream",
     "text": [
      "Started: 0\n"
     ]
    },
    {
     "name": "stderr",
     "output_type": "stream",
     "text": [
      "2024-05-17 08:52:15.998301: E external/xla/xla/service/slow_operation_alarm.cc:65] Trying algorithm eng21{k2=1,k4=0,k5=1,k6=0,k7=0} for conv (f32[16,48,1]{2,1,0}, u8[0]{0}) custom-call(f32[8,48,65024]{2,1,0}, f32[8,16,65024]{2,1,0}), window={size=1}, dim_labels=bf0_oi0->bf0, custom_call_target=\"__cudnn$convBackwardFilter\", backend_config={\"operation_queue_id\":\"0\",\"wait_on_operation_queues\":[],\"cudnn_conv_backend_config\":{\"conv_result_scale\":1,\"activation_mode\":\"kNone\",\"side_input_scale\":0,\"leakyrelu_alpha\":0},\"force_earliest_schedule\":false} is taking a while...\n",
      "2024-05-17 08:52:16.146406: E external/xla/xla/service/slow_operation_alarm.cc:133] The operation took 1.148231695s\n",
      "Trying algorithm eng21{k2=1,k4=0,k5=1,k6=0,k7=0} for conv (f32[16,48,1]{2,1,0}, u8[0]{0}) custom-call(f32[8,48,65024]{2,1,0}, f32[8,16,65024]{2,1,0}), window={size=1}, dim_labels=bf0_oi0->bf0, custom_call_target=\"__cudnn$convBackwardFilter\", backend_config={\"operation_queue_id\":\"0\",\"wait_on_operation_queues\":[],\"cudnn_conv_backend_config\":{\"conv_result_scale\":1,\"activation_mode\":\"kNone\",\"side_input_scale\":0,\"leakyrelu_alpha\":0},\"force_earliest_schedule\":false} is taking a while...\n"
     ]
    },
    {
     "name": "stdout",
     "output_type": "stream",
     "text": [
      "Started: 1\n",
      "Started: 2\n",
      "Started: 3\n"
     ]
    }
   ],
   "source": [
    "params_dkg05_128 = {\n",
    "    'pde': ['div_k_grad'],\n",
    "    'grid': [128],\n",
    "    'variance': [.5],\n",
    "    'N_samples_train': [1000],\n",
    "    'N_samples_test': [200],\n",
    "    'lhs_type': ['l_ilu0', 'l_ict'],\n",
    "    'batch_size': [8, 16, 32],\n",
    "    'epoch_num': [700],\n",
    "    'lr_start': [5e-3, 1e-3, 5e-4],\n",
    "    'schedule_params': [None],\n",
    "    'cg_valid_repeats': [250],\n",
    "    'corrector_net': [True],\n",
    "    'norm_prec_net': [False]\n",
    "}\n",
    "params_grid = ParameterGrid(params_dkg05_128)\n",
    "training_search(params_grid, folder)"
   ]
  },
  {
   "cell_type": "code",
   "execution_count": null,
   "id": "b60925fe",
   "metadata": {},
   "outputs": [],
   "source": []
  },
  {
   "cell_type": "markdown",
   "id": "2619c686",
   "metadata": {},
   "source": [
    "### Simple GNN with normalization"
   ]
  },
  {
   "cell_type": "code",
   "execution_count": 5,
   "id": "2f07d047",
   "metadata": {},
   "outputs": [],
   "source": [
    "folder = 'simpleGNN_results_norm'"
   ]
  },
  {
   "cell_type": "code",
   "execution_count": null,
   "id": "77eefcff",
   "metadata": {},
   "outputs": [
    {
     "name": "stdout",
     "output_type": "stream",
     "text": [
      "Started: 0\n"
     ]
    }
   ],
   "source": [
    "params_poisson_32_64 = {\n",
    "    'pde': ['poisson'],\n",
    "    'grid': [32, 64],\n",
    "    'variance': [.1],\n",
    "    'N_samples_train': [1000],\n",
    "    'N_samples_test': [200],\n",
    "    'lhs_type': ['fd'],\n",
    "    'batch_size': [8, 16],\n",
    "    'epoch_num': [5000],\n",
    "    'lr_start': [1e-3],\n",
    "    'schedule_params': [None],\n",
    "    'cg_valid_repeats': [1000],\n",
    "    'corrector_net': [False],\n",
    "    'norm_prec_net': [True]\n",
    "}\n",
    "params_grid = ParameterGrid(params_poisson_32_64)\n",
    "training_search(params_grid, folder)"
   ]
  },
  {
   "cell_type": "code",
   "execution_count": null,
   "id": "516be296",
   "metadata": {},
   "outputs": [
    {
     "name": "stdout",
     "output_type": "stream",
     "text": [
      "Started: 0\n"
     ]
    }
   ],
   "source": [
    "params_dkg_32_64 = {\n",
    "    'pde': ['div_k_grad'],\n",
    "    'grid': [32, 64],\n",
    "    'variance': [.1, .5, .7],\n",
    "    'N_samples_train': [1000],\n",
    "    'N_samples_test': [200],\n",
    "    'lhs_type': ['fd'],\n",
    "    'batch_size': [8, 16],\n",
    "    'epoch_num': [5000],\n",
    "    'lr_start': [1e-3],\n",
    "    'schedule_params': [None],\n",
    "    'cg_valid_repeats': [1500],\n",
    "    'corrector_net': [False],\n",
    "    'norm_prec_net': [True]\n",
    "}\n",
    "params_grid = ParameterGrid(params_dkg_32_64)\n",
    "training_search(params_grid, folder)"
   ]
  },
  {
   "cell_type": "markdown",
   "id": "0d674ad7",
   "metadata": {},
   "source": [
    "### Poisson"
   ]
  },
  {
   "cell_type": "code",
   "execution_count": 4,
   "id": "a770ddd5",
   "metadata": {},
   "outputs": [],
   "source": [
    "# folder = 'poisson_runs'\n",
    "\n",
    "# params = {'pde': ['poisson'],\n",
    "#           'grid': [32, 64, 128],\n",
    "#           'variance': [.1],\n",
    "#           'N_samples_train': [250],\n",
    "#           'N_samples_test': [50],\n",
    "#           'lhs_type': ['l_ilu0', 'l_ict'],\n",
    "#           'batch_size': [8, 16, 32],\n",
    "#           'epoch_num': [500],\n",
    "#           'lr_start': [1e-2, 5e-3, 1e-3],\n",
    "#           'schedule_params': [None],\n",
    "#           'cg_valid_repeats': [400],\n",
    "# }\n",
    "\n",
    "# params_grid = ParameterGrid(params)\n",
    "# training_search(params_grid, folder)"
   ]
  },
  {
   "cell_type": "markdown",
   "id": "906897b1",
   "metadata": {},
   "source": [
    "### Div-k-grad"
   ]
  },
  {
   "cell_type": "code",
   "execution_count": null,
   "id": "f0c94588",
   "metadata": {},
   "outputs": [
    {
     "name": "stdout",
     "output_type": "stream",
     "text": [
      "Started: 0\n"
     ]
    },
    {
     "name": "stderr",
     "output_type": "stream",
     "text": [
      "2024-05-14 17:52:26.446616: E external/xla/xla/service/slow_operation_alarm.cc:65] Trying algorithm eng21{k2=1,k4=0,k5=1,k6=0,k7=0} for conv (f32[16,48,1]{2,1,0}, u8[0]{0}) custom-call(f32[8,48,65024]{2,1,0}, f32[8,16,65024]{2,1,0}), window={size=1}, dim_labels=bf0_oi0->bf0, custom_call_target=\"__cudnn$convBackwardFilter\", backend_config={\"operation_queue_id\":\"0\",\"wait_on_operation_queues\":[],\"cudnn_conv_backend_config\":{\"conv_result_scale\":1,\"activation_mode\":\"kNone\",\"side_input_scale\":0,\"leakyrelu_alpha\":0},\"force_earliest_schedule\":false} is taking a while...\n",
      "2024-05-14 17:52:26.593286: E external/xla/xla/service/slow_operation_alarm.cc:133] The operation took 1.146784566s\n",
      "Trying algorithm eng21{k2=1,k4=0,k5=1,k6=0,k7=0} for conv (f32[16,48,1]{2,1,0}, u8[0]{0}) custom-call(f32[8,48,65024]{2,1,0}, f32[8,16,65024]{2,1,0}), window={size=1}, dim_labels=bf0_oi0->bf0, custom_call_target=\"__cudnn$convBackwardFilter\", backend_config={\"operation_queue_id\":\"0\",\"wait_on_operation_queues\":[],\"cudnn_conv_backend_config\":{\"conv_result_scale\":1,\"activation_mode\":\"kNone\",\"side_input_scale\":0,\"leakyrelu_alpha\":0},\"force_earliest_schedule\":false} is taking a while...\n"
     ]
    }
   ],
   "source": [
    "folder = 'div_k_grad_runs1'\n",
    "\n",
    "params = {'pde': ['div_k_grad'],\n",
    "          'grid': [128],\n",
    "          'variance': [.1, .5, .7],\n",
    "          'N_samples_train': [250],\n",
    "          'N_samples_test': [50],\n",
    "          'lhs_type': ['l_ilu0', 'l_ict'],\n",
    "          'batch_size': [8, 16, 32],\n",
    "          'epoch_num': [500],\n",
    "          'lr_start': [1e-2, 5e-3, 1e-3],\n",
    "          'schedule_params': [None],\n",
    "          'cg_valid_repeats': [400],\n",
    "}\n",
    "\n",
    "params_grid = ParameterGrid(params)\n",
    "training_search(params_grid, folder)"
   ]
  },
  {
   "cell_type": "code",
   "execution_count": null,
   "id": "935d25fe",
   "metadata": {},
   "outputs": [],
   "source": [
    "2+3"
   ]
  },
  {
   "cell_type": "code",
   "execution_count": null,
   "id": "becf0b37",
   "metadata": {},
   "outputs": [],
   "source": []
  }
 ],
 "metadata": {
  "kernelspec": {
   "display_name": "Python 3 (ipykernel)",
   "language": "python",
   "name": "python3"
  },
  "language_info": {
   "codemirror_mode": {
    "name": "ipython",
    "version": 3
   },
   "file_extension": ".py",
   "mimetype": "text/x-python",
   "name": "python",
   "nbconvert_exporter": "python",
   "pygments_lexer": "ipython3",
   "version": "3.10.6"
  }
 },
 "nbformat": 4,
 "nbformat_minor": 5
}
