{
 "cells": [
  {
   "cell_type": "code",
   "execution_count": 1,
   "id": "a8922cbc",
   "metadata": {},
   "outputs": [],
   "source": [
    "import warnings\n",
    "import sys\n",
    "import os\n",
    "\n",
    "warnings.filterwarnings('ignore')\n",
    "os.environ[\"CUDA_VISIBLE_DEVICES\"] = '2'\n",
    "os.environ['XLA_PYTHON_CLIENT_MEM_FRACTION'] = '.95'\n",
    "sys.path.append('/mnt/local/data/vtrifonov/prec-learning-Notay-loss/')"
   ]
  },
  {
   "cell_type": "code",
   "execution_count": null,
   "id": "0c35269d",
   "metadata": {},
   "outputs": [],
   "source": [
    "2+3"
   ]
  },
  {
   "cell_type": "code",
   "execution_count": 3,
   "id": "a783e4b6",
   "metadata": {},
   "outputs": [],
   "source": [
    "import jax.numpy as jnp\n",
    "from train_utils import training_search\n",
    "from sklearn.model_selection import ParameterGrid"
   ]
  },
  {
   "cell_type": "code",
   "execution_count": 4,
   "id": "f07bc2d2",
   "metadata": {},
   "outputs": [],
   "source": [
    "# 'pde': [],                # 'poisson', 'div_k_grad'\n",
    "# 'grid': [],               # 32, 64, 128, 256\n",
    "# 'variance': [],           # 0.1, 0.5, 0.7\n",
    "# 'N_samples_train': [],    # int in {1, 1000}\n",
    "# 'N_samples_test': [],     # int in {1, 200}\n",
    "# 'lhs_type': [],           # 'i_ilu0', 'l_ict'\n",
    "# 'batch_size': [],         # int\n",
    "# 'epoch_num': [],          # int\n",
    "# 'lr_start': [],           # float\n",
    "# 'schedule_params': [],    # None or [start, stop, step, decay_size], type:[int, int, int, float]\n",
    "# 'cg_valid_repeats': [],   # int; 400 is a good value"
   ]
  },
  {
   "cell_type": "markdown",
   "id": "1d683db4",
   "metadata": {},
   "source": [
    "### Poisson"
   ]
  },
  {
   "cell_type": "markdown",
   "id": "f37bb9c8",
   "metadata": {},
   "source": [
    "#### Full dataset"
   ]
  },
  {
   "cell_type": "code",
   "execution_count": null,
   "id": "5e3a66c7",
   "metadata": {},
   "outputs": [],
   "source": [
    "folder = 'poisson_full_dataset'"
   ]
  },
  {
   "cell_type": "code",
   "execution_count": 5,
   "id": "42653605",
   "metadata": {},
   "outputs": [
    {
     "name": "stdout",
     "output_type": "stream",
     "text": [
      "Started: 0\n",
      "Started: 1\n",
      "Started: 2\n",
      "Started: 3\n",
      "Started: 4\n",
      "Started: 5\n",
      "Started: 6\n",
      "Started: 7\n",
      "Started: 8\n",
      "Started: 9\n",
      "Started: 10\n",
      "Started: 11\n",
      "Started: 12\n",
      "Started: 13\n",
      "Started: 14\n",
      "Started: 15\n",
      "Started: 16\n",
      "Started: 17\n"
     ]
    }
   ],
   "source": [
    "params_poisson_32 = {\n",
    "    'pde': ['poisson'],\n",
    "    'grid': [32],\n",
    "    'variance': [.1],\n",
    "    'N_samples_train': [1000],\n",
    "    'N_samples_test': [200],\n",
    "    'lhs_type': ['l_ilu0', 'l_ict'],\n",
    "    'batch_size': [8, 16, 32],\n",
    "    'epoch_num': [400],\n",
    "    'lr_start': [5e-3, 1e-3, 5e-4],\n",
    "    'schedule_params': [None],\n",
    "    'cg_valid_repeats': [60],\n",
    "}\n",
    "params_grid = ParameterGrid(params_poisson_32)\n",
    "training_search(params_grid, folder)"
   ]
  },
  {
   "cell_type": "code",
   "execution_count": 6,
   "id": "c0568a82",
   "metadata": {},
   "outputs": [
    {
     "name": "stdout",
     "output_type": "stream",
     "text": [
      "Started: 0\n",
      "Started: 1\n",
      "Started: 2\n",
      "Started: 3\n",
      "Started: 4\n",
      "Started: 5\n",
      "Started: 6\n",
      "Started: 7\n",
      "Started: 8\n",
      "Started: 9\n",
      "Started: 10\n",
      "Started: 11\n",
      "Started: 12\n",
      "Started: 13\n",
      "Started: 14\n",
      "Started: 15\n",
      "Started: 16\n",
      "Started: 17\n"
     ]
    }
   ],
   "source": [
    "params_poisson_64 = {\n",
    "    'pde': ['poisson'],\n",
    "    'grid': [64],\n",
    "    'variance': [.1],\n",
    "    'N_samples_train': [1000],\n",
    "    'N_samples_test': [200],\n",
    "    'lhs_type': ['l_ilu0', 'l_ict'],\n",
    "    'batch_size': [8, 16, 32],\n",
    "    'epoch_num': [400],\n",
    "    'lr_start': [5e-3, 1e-3, 5e-4],\n",
    "    'schedule_params': [None],\n",
    "    'cg_valid_repeats': [80],\n",
    "}\n",
    "params_grid = ParameterGrid(params_poisson_64)\n",
    "training_search(params_grid, folder)"
   ]
  },
  {
   "cell_type": "code",
   "execution_count": null,
   "id": "89f67801",
   "metadata": {},
   "outputs": [],
   "source": [
    "params_poisson_128 = {\n",
    "    'pde': ['poisson'],\n",
    "    'grid': [128],\n",
    "    'variance': [.1],\n",
    "    'N_samples_train': [1000],\n",
    "    'N_samples_test': [200],\n",
    "    'lhs_type': ['l_ilu0', 'l_ict'],\n",
    "    'batch_size': [8, 16, 32],\n",
    "    'epoch_num': [400],\n",
    "    'lr_start': [1e-2, 5e-3, 1e-3, 5e-4],\n",
    "    'schedule_params': [None],\n",
    "    'cg_valid_repeats': [110],\n",
    "    'corrector_net': [True],\n",
    "    'norm_prec_net': [False]\n",
    "}\n",
    "params_grid = ParameterGrid(params_poisson_128)\n",
    "training_search(params_grid, folder)"
   ]
  },
  {
   "cell_type": "markdown",
   "id": "56218d34",
   "metadata": {},
   "source": [
    "#### Part of dataset (250/50)"
   ]
  },
  {
   "cell_type": "code",
   "execution_count": null,
   "id": "c85dcedb",
   "metadata": {},
   "outputs": [
    {
     "name": "stdout",
     "output_type": "stream",
     "text": [
      "Started: 0\n",
      "Started: 1\n",
      "Started: 2\n",
      "Started: 3\n",
      "Started: 4\n",
      "Started: 5\n",
      "Started: 6\n",
      "Started: 7\n",
      "Started: 8\n",
      "Started: 9\n",
      "Started: 10\n"
     ]
    }
   ],
   "source": [
    "folder = 'to_delete_runs'\n",
    "\n",
    "params = {'pde': ['poisson'],\n",
    "          'grid': [32, 64, 128],\n",
    "          'variance': [.1],\n",
    "          'N_samples_train': [250],\n",
    "          'N_samples_test': [50],\n",
    "          'lhs_type': ['l_ilu0', 'l_ict'],\n",
    "          'batch_size': [8, 16, 32],\n",
    "          'epoch_num': [500],\n",
    "          'lr_start': [1e-2, 5e-3, 1e-3],\n",
    "          'schedule_params': [None],\n",
    "          'cg_valid_repeats': [400],\n",
    "}\n",
    "\n",
    "params_grid = ParameterGrid(params)\n",
    "training_search(params_grid, folder)"
   ]
  },
  {
   "cell_type": "markdown",
   "id": "1922104d",
   "metadata": {},
   "source": [
    "### Div-k-grad"
   ]
  },
  {
   "cell_type": "markdown",
   "id": "a01f117d",
   "metadata": {},
   "source": [
    "#### Full dataset"
   ]
  },
  {
   "cell_type": "code",
   "execution_count": 4,
   "id": "c4f4077a",
   "metadata": {},
   "outputs": [],
   "source": [
    "folder = 'div_k_grad_full_dataset'"
   ]
  },
  {
   "cell_type": "code",
   "execution_count": null,
   "id": "ca0cec37",
   "metadata": {},
   "outputs": [
    {
     "name": "stdout",
     "output_type": "stream",
     "text": [
      "Started: 0\n",
      "Started: 1\n",
      "Started: 2\n",
      "Started: 3\n",
      "Started: 4\n",
      "Started: 5\n",
      "Started: 6\n",
      "Started: 7\n",
      "Started: 8\n",
      "Started: 9\n"
     ]
    }
   ],
   "source": [
    "params_dkg_32 = {\n",
    "    'pde': ['div_k_grad'],\n",
    "    'grid': [32],\n",
    "    'variance': [.1, .5, .7],\n",
    "    'N_samples_train': [1000],\n",
    "    'N_samples_test': [200],\n",
    "    'lhs_type': ['l_ilu0', 'l_ict'],\n",
    "    'batch_size': [8, 16, 32],\n",
    "    'epoch_num': [1000],\n",
    "    'lr_start': [5e-3, 1e-3, 5e-4],\n",
    "    'schedule_params': [None],\n",
    "    'cg_valid_repeats': [60],\n",
    "}\n",
    "params_grid = ParameterGrid(params_dkg_32)\n",
    "training_search(params_grid, folder)"
   ]
  },
  {
   "cell_type": "code",
   "execution_count": null,
   "id": "9c5b9050",
   "metadata": {},
   "outputs": [
    {
     "name": "stdout",
     "output_type": "stream",
     "text": [
      "Started: 0\n"
     ]
    }
   ],
   "source": [
    "params_dkg_64 = {\n",
    "    'pde': ['div_k_grad'],\n",
    "    'grid': [64],\n",
    "    'variance': [.1, .5, .7],\n",
    "    'N_samples_train': [1000],\n",
    "    'N_samples_test': [200],\n",
    "    'lhs_type': ['l_ilu0', 'l_ict'],\n",
    "    'batch_size': [8, 16, 32],\n",
    "    'epoch_num': [1000],\n",
    "    'lr_start': [5e-3, 1e-3, 5e-4],\n",
    "    'schedule_params': [None],\n",
    "    'cg_valid_repeats': [130],\n",
    "    'corrector_net': [True],\n",
    "    'norm_prec_net': [False]\n",
    "}\n",
    "params_grid = ParameterGrid(params_dkg_64)\n",
    "training_search(params_grid, folder)"
   ]
  },
  {
   "cell_type": "code",
   "execution_count": null,
   "id": "d7b9adad",
   "metadata": {},
   "outputs": [],
   "source": []
  },
  {
   "cell_type": "markdown",
   "id": "b4ae3a35",
   "metadata": {},
   "source": [
    "#### Part of dataset (250/50)"
   ]
  },
  {
   "cell_type": "code",
   "execution_count": null,
   "id": "57c4fe32",
   "metadata": {},
   "outputs": [],
   "source": [
    "folder = 'div_k_grad_runs'\n",
    "\n",
    "params = {'pde': ['div_k_grad'],\n",
    "          'grid': [32, 64],\n",
    "          'variance': [.1, .5, .7],\n",
    "          'N_samples_train': [250],\n",
    "          'N_samples_test': [50],\n",
    "          'lhs_type': ['l_ilu0', 'l_ict'],\n",
    "          'batch_size': [8, 16, 32],\n",
    "          'epoch_num': [500],\n",
    "          'lr_start': [1e-2, 5e-3, 1e-3],\n",
    "          'schedule_params': [None],\n",
    "          'cg_valid_repeats': [400],\n",
    "}\n",
    "\n",
    "params_grid = ParameterGrid(params)\n",
    "training_search(params_grid, folder)"
   ]
  },
  {
   "cell_type": "code",
   "execution_count": 7,
   "id": "22b93ff4",
   "metadata": {},
   "outputs": [
    {
     "data": {
      "text/plain": [
       "5"
      ]
     },
     "execution_count": 7,
     "metadata": {},
     "output_type": "execute_result"
    }
   ],
   "source": [
    "2+3"
   ]
  },
  {
   "cell_type": "code",
   "execution_count": null,
   "id": "a0947c0b",
   "metadata": {},
   "outputs": [],
   "source": []
  }
 ],
 "metadata": {
  "kernelspec": {
   "display_name": "Python 3 (ipykernel)",
   "language": "python",
   "name": "python3"
  },
  "language_info": {
   "codemirror_mode": {
    "name": "ipython",
    "version": 3
   },
   "file_extension": ".py",
   "mimetype": "text/x-python",
   "name": "python",
   "nbconvert_exporter": "python",
   "pygments_lexer": "ipython3",
   "version": "3.10.6"
  }
 },
 "nbformat": 4,
 "nbformat_minor": 5
}
