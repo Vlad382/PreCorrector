{
 "cells": [
  {
   "cell_type": "code",
   "execution_count": 8,
   "id": "19ef5ab3",
   "metadata": {},
   "outputs": [
    {
     "data": {
      "text/plain": [
       "[1, 2, 3]"
      ]
     },
     "execution_count": 8,
     "metadata": {},
     "output_type": "execute_result"
    }
   ],
   "source": [
    "list({'a': 1, 'b': 2, 'c': 3}.values())"
   ]
  },
  {
   "cell_type": "code",
   "execution_count": 1,
   "id": "c490ceca",
   "metadata": {},
   "outputs": [],
   "source": [
    "import warnings\n",
    "import sys\n",
    "import os\n",
    "import jax\n",
    "\n",
    "jax.config.update(\"jax_enable_x64\", True)\n",
    "warnings.filterwarnings('ignore')\n",
    "os.environ[\"CUDA_VISIBLE_DEVICES\"] = '0'\n",
    "os.environ['XLA_PYTHON_CLIENT_MEM_FRACTION'] = '.95'\n",
    "sys.path.append('/mnt/local/data/vtrifonov/prec-learning-Notay-loss/')"
   ]
  },
  {
   "cell_type": "code",
   "execution_count": 2,
   "id": "a9b6cafa",
   "metadata": {},
   "outputs": [],
   "source": [
    "import jax.experimental.sparse as jsparse\n",
    "import jax.numpy as jnp\n",
    "from jax import device_put, random\n",
    "from jax.lax import scan\n",
    "import numpy as np\n",
    "\n",
    "import matplotlib.pyplot as plt\n",
    "from functools import partial\n",
    "from time import perf_counter\n",
    "import ilupp\n",
    "\n",
    "from data.dataset import dataset_qtt\n",
    "from linsolve.cg import ConjGrad, ConjGradReduced\n",
    "from linsolve.precond import llt_prec_trig_solve\n",
    "from utils import iter_per_residual, jBCOO_to_scipyCSR\n",
    "\n",
    "plt.rcParams['figure.figsize'] = (11, 7)\n",
    "plt.rcParams['font.size'] = 20\n",
    "plt.rcParams[\"lines.linewidth\"] = 3"
   ]
  },
  {
   "cell_type": "markdown",
   "id": "175543d1",
   "metadata": {},
   "source": [
    "# Benchmark dataset"
   ]
  },
  {
   "cell_type": "code",
   "execution_count": 3,
   "id": "3763c70d",
   "metadata": {},
   "outputs": [],
   "source": [
    "def benchmark_linsys(A, b, cg_iter, pcg_iter, small_linsys):\n",
    "    L0, Lt1, Lt5= [], [], []\n",
    "    L0_time, Lt1_time, Lt5_time = [], [], []\n",
    "    Annz, L0nnz, Lt1nnz, Lt5nnz = [], [], [], []\n",
    "    \n",
    "    for i in range(A.shape[0]):\n",
    "        A_i = jBCOO_to_scipyCSR(A[i, ...])\n",
    "        Annz.append((A_i.nnz*100) / (A_i.shape[-1] ** 2))\n",
    "        \n",
    "        # IC(0)\n",
    "        s = perf_counter()\n",
    "        Lscipy = ilupp.ichol0(A_i)\n",
    "        L0_time.append(perf_counter() - s)\n",
    "        \n",
    "        L0_i = jsparse.BCOO.from_scipy_sparse(Lscipy)\n",
    "        L0.append(L0_i[None, ...])\n",
    "        L0nnz.append((L0_i.nse*100) / (L0_i.shape[-1] ** 2))\n",
    "\n",
    "        # ICt(1)\n",
    "        s = perf_counter()\n",
    "        Lscipy = ilupp.icholt(A_i, add_fill_in=1, threshold=1e-4)\n",
    "        Lt1_time.append(perf_counter() - s)\n",
    "         \n",
    "        Lt1_i = jsparse.BCOO.from_scipy_sparse(Lscipy)\n",
    "        Lt1.append(Lt1_i[None, ...])\n",
    "        Lt1nnz.append((Lt1_i.nse*100) / (Lt1_i.shape[-1] ** 2))\n",
    "        \n",
    "        # ICt(5)\n",
    "        s = perf_counter()\n",
    "        Lscipy = ilupp.icholt(A_i, add_fill_in=5, threshold=1e-4)\n",
    "        Lt5_time.append(perf_counter() - s)\n",
    "        \n",
    "        Lt5_i = jsparse.BCOO.from_scipy_sparse(Lscipy)\n",
    "        Lt5.append(Lt5_i[None, ...])\n",
    "        Lt5nnz.append((Lt5_i.nse*100) / (Lt5_i.shape[-1] ** 2))\n",
    "        \n",
    "    # Average time and nnz\n",
    "    L0_time, Lt1_time, Lt5_time = np.mean(L0_time), np.mean(Lt1_time), np.mean(Lt5_time)\n",
    "    Annz, L0nnz, Lt1nnz, Lt5nnz = np.mean(Annz), np.mean(L0nnz), np.mean(Lt1nnz), np.mean(Lt5nnz)\n",
    "    \n",
    "    # Assemble precs\n",
    "    L0 = device_put(jsparse.bcoo_concatenate(L0, dimension=0))\n",
    "    Lt1 = device_put(jsparse.bcoo_concatenate(Lt1, dimension=0))\n",
    "    Lt5 = device_put(jsparse.bcoo_concatenate(Lt5, dimension=0))\n",
    "    print('  Precs are combined')\n",
    "    \n",
    "    ## Run PCG\n",
    "    if small_linsys:\n",
    "        ## Can fit everythinf in single run\n",
    "        # I\n",
    "        _, res = ConjGradReduced(A, b, N_iter=cg_iter, prec_func=None, seed=42)\n",
    "        i_tol = iter_per_residual(jnp.linalg.norm(res, axis=1).mean(0))\n",
    "        del res\n",
    "        print('  I is done')\n",
    "\n",
    "        # L0\n",
    "        _, res = ConjGradReduced(A, b, N_iter=pcg_iter, prec_func=partial(llt_prec_trig_solve, L=L0), seed=42)\n",
    "        l0_tol = iter_per_residual(jnp.linalg.norm(res, axis=1).mean(0))\n",
    "        del res\n",
    "        print('  L0 is done')\n",
    "\n",
    "        # Lt1\n",
    "        _, res = ConjGradReduced(A, b, N_iter=pcg_iter, prec_func=partial(llt_prec_trig_solve, L=Lt1), seed=42)\n",
    "        lt1_tol = iter_per_residual(jnp.linalg.norm(res, axis=1).mean(0))\n",
    "        del res\n",
    "        print('  Lt1 is done')\n",
    "\n",
    "        # Lt5\n",
    "        _, res = ConjGradReduced(A, b, N_iter=pcg_iter, prec_func=partial(llt_prec_trig_solve, L=Lt5), seed=42)\n",
    "        lt5_tol = iter_per_residual(jnp.linalg.norm(res, axis=1).mean(0))\n",
    "        del res\n",
    "        print('  Lt5 is done')\n",
    "    \n",
    "    else:\n",
    "        ## Cannot fit into GPU memory\n",
    "        print('  Chosen big linsys')\n",
    "        assert cg_iter % 500 == 0\n",
    "        n_cg = int(cg_iter // 500)\n",
    "        \n",
    "        # I\n",
    "        x_last, res = ConjGradReduced(A, b, N_iter=500, prec_func=None, seed=42)\n",
    "        res_ls = [jnp.linalg.norm(res, axis=1).mean(0)[:-1]]\n",
    "        print('  Loop starts')\n",
    "        for i in range(n_cg-1):\n",
    "            x_last, res = ConjGradReduced(A, b, N_iter=500, prec_func=None, seed=42, x0=x_last)\n",
    "            if len(res_ls) == (n_cg - 1):\n",
    "                res_ls.append(jnp.linalg.norm(res, axis=1).mean(0))\n",
    "                del res\n",
    "            else:\n",
    "                res_ls.append(jnp.linalg.norm(res, axis=1).mean(0)[:-1])\n",
    "                del res\n",
    "        print('  Loop ends')\n",
    "            \n",
    "        res_ls = jnp.concatenate(res_ls, axis=0)\n",
    "        i_tol = iter_per_residual(res_ls)\n",
    "        del res_ls\n",
    "        print('  I is done')\n",
    "\n",
    "        # L0\n",
    "        _, res = ConjGradReduced(A, b, N_iter=pcg_iter, prec_func=partial(llt_prec_trig_solve, L=L0), seed=42)\n",
    "        l0_tol = iter_per_residual(jnp.linalg.norm(res, axis=1).mean(0))\n",
    "        del res\n",
    "        print('  L0 is done')\n",
    "\n",
    "        # Lt1\n",
    "        _, res = ConjGradReduced(A, b, N_iter=pcg_iter, prec_func=partial(llt_prec_trig_solve, L=Lt1), seed=42)\n",
    "        lt1_tol = iter_per_residual(jnp.linalg.norm(res, axis=1).mean(0))\n",
    "        del res\n",
    "        print('  Lt1 is done')\n",
    "\n",
    "        # Lt5\n",
    "        _, res = ConjGradReduced(A, b, N_iter=pcg_iter, prec_func=partial(llt_prec_trig_solve, L=Lt5), seed=42)\n",
    "        lt5_tol = iter_per_residual(jnp.linalg.norm(res, axis=1).mean(0))\n",
    "        del res\n",
    "        print('  Lt5 is done')\n",
    "        \n",
    "    return (Annz, i_tol), (L0nnz, l0_tol, L0_time), (Lt1nnz, lt1_tol, Lt1_time), (Lt5nnz, lt5_tol, Lt5_time)"
   ]
  },
  {
   "cell_type": "code",
   "execution_count": 4,
   "id": "cdf5f763",
   "metadata": {},
   "outputs": [],
   "source": [
    "def benchmark_all(params_grid, N, cg_iter, pcg_iter, small_linsys):\n",
    "    for p in params_grid:\n",
    "        print(p)\n",
    "        A, _, b, _, _ = dataset_qtt(pde=p[0], grid=p[1], variance=p[2], lhs_type='fd', return_train=False, N_samples=N, precision='f64')\n",
    "        out = benchmark_linsys(A, b, cg_iter=cg_iter, pcg_iter=pcg_iter, small_linsys=small_linsys)\n",
    "        print(f'\\nCG:  {out[0][1]}, nnz(A) = {out[0][0]:.6f} %')\n",
    "        print(f'L0:  {out[1][1]}, nnz(L) = {out[1][0]:.6f} %, prec creation time = {out[1][2]:.8f} sec')\n",
    "        print(f'Lt1: {out[2][1]}, nnz(L) = {out[2][0]:.6f} %, prec creation time = {out[2][2]:.8f} sec')\n",
    "        print(f'Lt5: {out[3][1]}, nnz(L) = {out[3][0]:.6f} %, prec creation time = {out[3][2]:.8f} sec', end='\\n------------------------------------------------------------\\n\\n')\n",
    "    return"
   ]
  },
  {
   "cell_type": "code",
   "execution_count": 5,
   "id": "85c14598",
   "metadata": {},
   "outputs": [
    {
     "name": "stdout",
     "output_type": "stream",
     "text": [
      "['poisson', 128, 0.1]\n"
     ]
    },
    {
     "name": "stderr",
     "output_type": "stream",
     "text": [
      "2024-07-12 05:16:17.802287: W external/xla/xla/service/gpu/nvptx_compiler.cc:760] The NVIDIA driver's CUDA version is 12.4 which is older than the ptxas CUDA version (12.5.40). Because the driver is older than the ptxas version, XLA is disabling parallel compilation, which may slow down compilation. You should update your NVIDIA driver or use the NVIDIA-provided CUDA forward compatibility packages.\n"
     ]
    },
    {
     "name": "stdout",
     "output_type": "stream",
     "text": [
      "  Precs are combined\n",
      "  Chosen big linsys\n"
     ]
    },
    {
     "name": "stderr",
     "output_type": "stream",
     "text": [
      "2024-07-12 05:16:25.942243: W external/xla/xla/service/hlo_rematerialization.cc:2948] Can't reduce memory use below 16.94GiB (18192389843 bytes) by rematerialization; only reduced to 24.49GiB (26293043201 bytes), down from 24.49GiB (26293043201 bytes) originally\n",
      "2024-07-12 05:16:26.444054: W external/xla/xla/service/hlo_rematerialization.cc:2948] Can't reduce memory use below 16.60GiB (17820387304 bytes) by rematerialization; only reduced to 36.88GiB (39596443344 bytes), down from 36.88GiB (39596443344 bytes) originally\n"
     ]
    },
    {
     "name": "stdout",
     "output_type": "stream",
     "text": [
      "  Loop starts\n",
      "  Loop ends\n",
      "  I is done\n",
      "  L0 is done\n",
      "  Lt1 is done\n",
      "  Lt5 is done\n",
      "\n",
      "CG:  {0.001: 382, 1e-06: 472, 1e-09: nan, 1e-12: nan}, nnz(A) = 0.030327 %\n",
      "L0:  {0.001: 115, 1e-06: 156, 1e-09: 183, 1e-12: 212}, nnz(L) = 0.018215 %, prec creation time = 0.00046763 sec\n",
      "Lt1: {0.001: 75, 1e-06: 98, 1e-09: 117, 1e-12: 134}, nnz(L) = 0.024224 %, prec creation time = 0.00308485 sec\n",
      "Lt5: {0.001: 42, 1e-06: 55, 1e-09: 65, 1e-12: 74}, nnz(L) = 0.048488 %, prec creation time = 0.00708209 sec\n",
      "------------------------------------------------------------\n",
      "\n",
      "['div_k_grad', 128, 0.1]\n",
      "  Precs are combined\n",
      "  Chosen big linsys\n"
     ]
    },
    {
     "name": "stderr",
     "output_type": "stream",
     "text": [
      "2024-07-12 09:45:40.230262: W external/xla/xla/service/hlo_rematerialization.cc:2948] Can't reduce memory use below 16.60GiB (17820387304 bytes) by rematerialization; only reduced to 36.88GiB (39596443344 bytes), down from 36.88GiB (39596443344 bytes) originally\n"
     ]
    },
    {
     "name": "stdout",
     "output_type": "stream",
     "text": [
      "  Loop starts\n",
      "  Loop ends\n",
      "  I is done\n",
      "  L0 is done\n",
      "  Lt1 is done\n",
      "  Lt5 is done\n",
      "\n",
      "CG:  {0.001: nan, 1e-06: nan, 1e-09: nan, 1e-12: nan}, nnz(A) = 0.030327 %\n",
      "L0:  {0.001: 133, 1e-06: 169, 1e-09: 198, 1e-12: 225}, nnz(L) = 0.018215 %, prec creation time = 0.00055635 sec\n",
      "Lt1: {0.001: 81, 1e-06: 103, 1e-09: 121, 1e-12: 138}, nnz(L) = 0.024224 %, prec creation time = 0.00324600 sec\n",
      "Lt5: {0.001: 43, 1e-06: 55, 1e-09: 65, 1e-12: 74}, nnz(L) = 0.048458 %, prec creation time = 0.00773732 sec\n",
      "------------------------------------------------------------\n",
      "\n",
      "['div_k_grad', 128, 0.5]\n",
      "  Precs are combined\n",
      "  Chosen big linsys\n"
     ]
    },
    {
     "name": "stderr",
     "output_type": "stream",
     "text": [
      "2024-07-12 14:17:47.729330: W external/xla/xla/service/hlo_rematerialization.cc:2948] Can't reduce memory use below 16.60GiB (17820387304 bytes) by rematerialization; only reduced to 36.88GiB (39596443344 bytes), down from 36.88GiB (39596443344 bytes) originally\n"
     ]
    },
    {
     "name": "stdout",
     "output_type": "stream",
     "text": [
      "  Loop starts\n",
      "  Loop ends\n",
      "  I is done\n",
      "  L0 is done\n",
      "  Lt1 is done\n",
      "  Lt5 is done\n",
      "\n",
      "CG:  {0.001: nan, 1e-06: nan, 1e-09: nan, 1e-12: nan}, nnz(A) = 0.030327 %\n",
      "L0:  {0.001: 149, 1e-06: 188, 1e-09: 220, 1e-12: 248}, nnz(L) = 0.018215 %, prec creation time = 0.00057650 sec\n",
      "Lt1: {0.001: 91, 1e-06: 114, 1e-09: 134, 1e-12: 151}, nnz(L) = 0.024224 %, prec creation time = 0.00346401 sec\n",
      "Lt5: {0.001: 46, 1e-06: 59, 1e-09: 69, 1e-12: 78}, nnz(L) = 0.048431 %, prec creation time = 0.00824350 sec\n",
      "------------------------------------------------------------\n",
      "\n",
      "['div_k_grad', 128, 0.7]\n",
      "  Precs are combined\n",
      "  Chosen big linsys\n"
     ]
    },
    {
     "name": "stderr",
     "output_type": "stream",
     "text": [
      "2024-07-12 18:47:45.630776: W external/xla/xla/service/hlo_rematerialization.cc:2948] Can't reduce memory use below 16.60GiB (17820387304 bytes) by rematerialization; only reduced to 36.88GiB (39596443344 bytes), down from 36.88GiB (39596443344 bytes) originally\n"
     ]
    },
    {
     "name": "stdout",
     "output_type": "stream",
     "text": [
      "  Loop starts\n",
      "  Loop ends\n",
      "  I is done\n",
      "  L0 is done\n",
      "  Lt1 is done\n",
      "  Lt5 is done\n",
      "\n",
      "CG:  {0.001: nan, 1e-06: nan, 1e-09: nan, 1e-12: nan}, nnz(A) = 0.030327 %\n",
      "L0:  {0.001: 159, 1e-06: 199, 1e-09: 233, 1e-12: 261}, nnz(L) = 0.018215 %, prec creation time = 0.00051987 sec\n",
      "Lt1: {0.001: 97, 1e-06: 121, 1e-09: 142, 1e-12: 159}, nnz(L) = 0.024224 %, prec creation time = 0.00340330 sec\n",
      "Lt5: {0.001: 49, 1e-06: 62, 1e-09: 72, 1e-12: 81}, nnz(L) = 0.048429 %, prec creation time = 0.00804459 sec\n",
      "------------------------------------------------------------\n",
      "\n"
     ]
    }
   ],
   "source": [
    "params_grid = [\n",
    "    ['poisson',    128, .1],\n",
    "#     \n",
    "    ['div_k_grad', 128, .1],\n",
    "#     \n",
    "    ['div_k_grad', 128, .5],\n",
    "#     \n",
    "    ['div_k_grad', 128, .7]\n",
    "]\n",
    "benchmark_all(params_grid, N=200, cg_iter=500, pcg_iter=300, small_linsys=False)"
   ]
  },
  {
   "cell_type": "code",
   "execution_count": 7,
   "id": "da3a8a55",
   "metadata": {},
   "outputs": [
    {
     "data": {
      "text/plain": [
       "5"
      ]
     },
     "execution_count": 7,
     "metadata": {},
     "output_type": "execute_result"
    }
   ],
   "source": [
    "2+3"
   ]
  },
  {
   "cell_type": "code",
   "execution_count": null,
   "id": "4b3fcbfd",
   "metadata": {},
   "outputs": [],
   "source": []
  },
  {
   "cell_type": "code",
   "execution_count": null,
   "id": "72be826b",
   "metadata": {},
   "outputs": [],
   "source": []
  },
  {
   "cell_type": "code",
   "execution_count": null,
   "id": "22c7c6b1",
   "metadata": {},
   "outputs": [],
   "source": []
  },
  {
   "cell_type": "code",
   "execution_count": null,
   "id": "f9a6ba3a",
   "metadata": {},
   "outputs": [],
   "source": []
  },
  {
   "cell_type": "code",
   "execution_count": null,
   "id": "68404b91",
   "metadata": {},
   "outputs": [],
   "source": []
  },
  {
   "cell_type": "code",
   "execution_count": 5,
   "id": "80806e71",
   "metadata": {},
   "outputs": [
    {
     "name": "stdout",
     "output_type": "stream",
     "text": [
      "['poisson', 32, 0.1]\n"
     ]
    },
    {
     "name": "stderr",
     "output_type": "stream",
     "text": [
      "2024-07-11 17:09:10.849808: W external/xla/xla/service/gpu/nvptx_compiler.cc:760] The NVIDIA driver's CUDA version is 12.4 which is older than the ptxas CUDA version (12.5.40). Because the driver is older than the ptxas version, XLA is disabling parallel compilation, which may slow down compilation. You should update your NVIDIA driver or use the NVIDIA-provided CUDA forward compatibility packages.\n"
     ]
    },
    {
     "name": "stdout",
     "output_type": "stream",
     "text": [
      "  Precs are combined\n",
      "  I is done\n",
      "  L0 is done\n",
      "  Lt1 is done\n",
      "  Lt5 is done\n",
      "\n",
      "CG:  {0.001: nan, 1e-06: nan, 1e-09: nan, 1e-12: nan}, nnz(A) = 0.476074 %\n",
      "L0:  {0.001: 32, 1e-06: 41, 1e-09: 50, 1e-12: 57}, nnz(L) = 0.286865 %, prec creation time = 0.00008857 sec\n",
      "Lt1: {0.001: 20, 1e-06: 27, 1e-09: 32, 1e-12: 36}, nnz(L) = 0.378513 %, prec creation time = 0.00029969 sec\n",
      "Lt5: {0.001: 12, 1e-06: 15, 1e-09: 18, 1e-12: 21}, nnz(L) = 0.758362 %, prec creation time = 0.00058063 sec\n",
      "------------------------------------------------------------\n",
      "\n",
      "['poisson', 64, 0.1]\n",
      "  Precs are combined\n",
      "  I is done\n",
      "  L0 is done\n",
      "  Lt1 is done\n",
      "  Lt5 is done\n",
      "\n",
      "CG:  {0.001: nan, 1e-06: nan, 1e-09: nan, 1e-12: nan}, nnz(A) = 0.120544 %\n",
      "L0:  {0.001: 62, 1e-06: 79, 1e-09: 94, 1e-12: 109}, nnz(L) = 0.072479 %, prec creation time = 0.00016003 sec\n",
      "Lt1: {0.001: 39, 1e-06: 50, 1e-09: 60, 1e-12: 69}, nnz(L) = 0.096136 %, prec creation time = 0.00082627 sec\n",
      "Lt5: {0.001: 22, 1e-06: 28, 1e-09: 34, 1e-12: 38}, nnz(L) = 0.192547 %, prec creation time = 0.00181537 sec\n",
      "------------------------------------------------------------\n",
      "\n",
      "['div_k_grad', 32, 0.1]\n",
      "  Precs are combined\n",
      "  I is done\n",
      "  L0 is done\n",
      "  Lt1 is done\n",
      "  Lt5 is done\n",
      "\n",
      "CG:  {0.001: nan, 1e-06: nan, 1e-09: nan, 1e-12: nan}, nnz(A) = 0.476074 %\n",
      "L0:  {0.001: 33, 1e-06: 43, 1e-09: 52, 1e-12: 59}, nnz(L) = 0.286865 %, prec creation time = 0.00008511 sec\n",
      "Lt1: {0.001: 21, 1e-06: 27, 1e-09: 32, 1e-12: 37}, nnz(L) = 0.378513 %, prec creation time = 0.00028184 sec\n",
      "Lt5: {0.001: 11, 1e-06: 15, 1e-09: 18, 1e-12: 21}, nnz(L) = 0.755904 %, prec creation time = 0.00055866 sec\n",
      "------------------------------------------------------------\n",
      "\n",
      "['div_k_grad', 64, 0.1]\n",
      "  Precs are combined\n",
      "  I is done\n",
      "  L0 is done\n",
      "  Lt1 is done\n",
      "  Lt5 is done\n",
      "\n",
      "CG:  {0.001: nan, 1e-06: nan, 1e-09: nan, 1e-12: nan}, nnz(A) = 0.120544 %\n",
      "L0:  {0.001: 66, 1e-06: 85, 1e-09: 100, 1e-12: 114}, nnz(L) = 0.072479 %, prec creation time = 0.00018175 sec\n",
      "Lt1: {0.001: 40, 1e-06: 52, 1e-09: 62, 1e-12: 70}, nnz(L) = 0.096136 %, prec creation time = 0.00085226 sec\n",
      "Lt5: {0.001: 21, 1e-06: 28, 1e-09: 33, 1e-12: 38}, nnz(L) = 0.192201 %, prec creation time = 0.00194323 sec\n",
      "------------------------------------------------------------\n",
      "\n",
      "['div_k_grad', 32, 0.5]\n",
      "  Precs are combined\n",
      "  I is done\n",
      "  L0 is done\n",
      "  Lt1 is done\n",
      "  Lt5 is done\n",
      "\n",
      "CG:  {0.001: nan, 1e-06: nan, 1e-09: nan, 1e-12: nan}, nnz(A) = 0.476074 %\n",
      "L0:  {0.001: 38, 1e-06: 48, 1e-09: 57, 1e-12: 65}, nnz(L) = 0.286865 %, prec creation time = 0.00008472 sec\n",
      "Lt1: {0.001: 23, 1e-06: 29, 1e-09: 35, 1e-12: 40}, nnz(L) = 0.378494 %, prec creation time = 0.00028486 sec\n",
      "Lt5: {0.001: 11, 1e-06: 15, 1e-09: 18, 1e-12: 21}, nnz(L) = 0.754908 %, prec creation time = 0.00059377 sec\n",
      "------------------------------------------------------------\n",
      "\n",
      "['div_k_grad', 64, 0.5]\n",
      "  Precs are combined\n",
      "  I is done\n",
      "  L0 is done\n",
      "  Lt1 is done\n",
      "  Lt5 is done\n",
      "\n",
      "CG:  {0.001: nan, 1e-06: nan, 1e-09: nan, 1e-12: nan}, nnz(A) = 0.120544 %\n",
      "L0:  {0.001: 75, 1e-06: 95, 1e-09: 111, 1e-12: 126}, nnz(L) = 0.072479 %, prec creation time = 0.00017055 sec\n",
      "Lt1: {0.001: 45, 1e-06: 58, 1e-09: 68, 1e-12: 77}, nnz(L) = 0.096136 %, prec creation time = 0.00086143 sec\n",
      "Lt5: {0.001: 22, 1e-06: 29, 1e-09: 34, 1e-12: 39}, nnz(L) = 0.192035 %, prec creation time = 0.00200178 sec\n",
      "------------------------------------------------------------\n",
      "\n",
      "['div_k_grad', 32, 0.7]\n",
      "  Precs are combined\n",
      "  I is done\n",
      "  L0 is done\n",
      "  Lt1 is done\n",
      "  Lt5 is done\n",
      "\n",
      "CG:  {0.001: nan, 1e-06: nan, 1e-09: nan, 1e-12: nan}, nnz(A) = 0.476074 %\n",
      "L0:  {0.001: 40, 1e-06: 51, 1e-09: 60, 1e-12: 68}, nnz(L) = 0.286865 %, prec creation time = 0.00008774 sec\n",
      "Lt1: {0.001: 24, 1e-06: 31, 1e-09: 36, 1e-12: 42}, nnz(L) = 0.378388 %, prec creation time = 0.00029278 sec\n",
      "Lt5: {0.001: 12, 1e-06: 15, 1e-09: 18, 1e-12: 21}, nnz(L) = 0.754467 %, prec creation time = 0.00062338 sec\n",
      "------------------------------------------------------------\n",
      "\n",
      "['div_k_grad', 64, 0.7]\n",
      "  Precs are combined\n",
      "  I is done\n",
      "  L0 is done\n",
      "  Lt1 is done\n",
      "  Lt5 is done\n",
      "\n",
      "CG:  {0.001: nan, 1e-06: nan, 1e-09: nan, 1e-12: nan}, nnz(A) = 0.120544 %\n",
      "L0:  {0.001: 79, 1e-06: 101, 1e-09: 117, 1e-12: 132}, nnz(L) = 0.072479 %, prec creation time = 0.00016614 sec\n",
      "Lt1: {0.001: 48, 1e-06: 61, 1e-09: 71, 1e-12: 80}, nnz(L) = 0.096136 %, prec creation time = 0.00085203 sec\n",
      "Lt5: {0.001: 23, 1e-06: 29, 1e-09: 35, 1e-12: 40}, nnz(L) = 0.192010 %, prec creation time = 0.00201323 sec\n",
      "------------------------------------------------------------\n",
      "\n"
     ]
    }
   ],
   "source": [
    "params_grid = [\n",
    "    ['poisson',    32,  .1],\n",
    "    ['poisson',    64,  .1],\n",
    "#     \n",
    "    ['div_k_grad', 32,  .1],\n",
    "    ['div_k_grad', 64,  .1],\n",
    "#     \n",
    "    ['div_k_grad', 32,  .5],\n",
    "    ['div_k_grad', 64,  .5],\n",
    "#     \n",
    "    ['div_k_grad', 32,  .7],\n",
    "    ['div_k_grad', 64,  .7],\n",
    "]\n",
    "benchmark_all(params_grid, N=200, cg_iter=2, pcg_iter=150, small_linsys=True)"
   ]
  },
  {
   "cell_type": "code",
   "execution_count": null,
   "id": "02c9bd74",
   "metadata": {},
   "outputs": [],
   "source": []
  },
  {
   "cell_type": "code",
   "execution_count": null,
   "id": "b9178d8b",
   "metadata": {},
   "outputs": [],
   "source": []
  },
  {
   "cell_type": "code",
   "execution_count": null,
   "id": "c08c58cf",
   "metadata": {},
   "outputs": [],
   "source": []
  },
  {
   "cell_type": "code",
   "execution_count": null,
   "id": "20b94c0a",
   "metadata": {},
   "outputs": [],
   "source": []
  },
  {
   "cell_type": "code",
   "execution_count": null,
   "id": "0e2103df",
   "metadata": {},
   "outputs": [],
   "source": []
  },
  {
   "cell_type": "code",
   "execution_count": null,
   "id": "6e7d9fa4",
   "metadata": {},
   "outputs": [],
   "source": []
  },
  {
   "cell_type": "code",
   "execution_count": null,
   "id": "2650ce44",
   "metadata": {},
   "outputs": [],
   "source": []
  },
  {
   "cell_type": "markdown",
   "id": "7ed9a12e",
   "metadata": {},
   "source": [
    "---\n",
    "\n",
    "---\n",
    "\n",
    "# Check number of iterations"
   ]
  },
  {
   "cell_type": "code",
   "execution_count": null,
   "id": "e649251e",
   "metadata": {},
   "outputs": [],
   "source": [
    "pde = 'div_k_grad'      # 'poisson', 'div_k_grad'\n",
    "grid = 64            # 32, 64, 128\n",
    "variance = 1.5        # 0.1, 0.5, 1.0 1.5"
   ]
  },
  {
   "cell_type": "code",
   "execution_count": null,
   "id": "ac7535c1",
   "metadata": {},
   "outputs": [],
   "source": [
    "s1 = perf_counter()\n",
    "A, _, b, _, _ = dataset_qtt(pde, grid, variance, lhs_type='fd', return_train=False)\n",
    "dt_data = perf_counter() - s1"
   ]
  },
  {
   "cell_type": "code",
   "execution_count": null,
   "id": "c1f1ace5",
   "metadata": {},
   "outputs": [],
   "source": [
    "i = 101\n",
    "fill_factor = 10\n",
    "threshold = 1e-4"
   ]
  },
  {
   "cell_type": "code",
   "execution_count": null,
   "id": "6025bb2e",
   "metadata": {},
   "outputs": [],
   "source": [
    "L0 = ilupp.ichol0(jBCOO_to_scipyCSR(A[i, ...]))\n",
    "print(f'IC0 NNZ(L) = {(L0.nnz*100) / (L0.shape[-1] ** 2):.3f}%')"
   ]
  },
  {
   "cell_type": "code",
   "execution_count": null,
   "id": "2b8f8ef9",
   "metadata": {},
   "outputs": [],
   "source": [
    "_, res_I = ConjGrad(A[i:i+1, ...], b[i:i+1, ...], N_iter=1000, prec_func=None, seed=42)\n",
    "print('CG is done')\n",
    "\n",
    "# L = ilupp.icholt(jBCOO_to_scipyCSR(A[i, ...]), add_fill_in=fill_factor, threshold=threshold)\n",
    "L = L0\n",
    "prec = partial(llt_prec_trig_solve, L=jsparse.BCOO.from_scipy_sparse(L)[None, ...])\n",
    "print('Prec is generated', end='\\n\\n')\n",
    "\n",
    "s_prec = perf_counter()\n",
    "_, res = ConjGrad(A[i:i+1, ...], b[i:i+1, ...], N_iter=1000, prec_func=prec, seed=42)\n",
    "dt_cg = perf_counter() - s_prec\n",
    "\n",
    "plt.plot(range(res_I.shape[-1]), jnp.linalg.norm(res_I, axis=1).mean(0), label=\"CG\")\n",
    "plt.plot(range(res.shape[-1]), jnp.linalg.norm(res, axis=1).mean(0), label=\"PCG\")\n",
    "plt.xlabel('Iteration')\n",
    "plt.ylabel('$\\|res\\|$')\n",
    "plt.legend()\n",
    "plt.yscale('log')\n",
    "plt.grid();\n",
    "\n",
    "cg_tol = iter_per_residual(jnp.linalg.norm(res_I, axis=1).mean(0))\n",
    "pcg_tol = iter_per_residual(jnp.linalg.norm(res, axis=1).mean(0))\n",
    "\n",
    "print(f'CG: {cg_tol}')\n",
    "print(f'PCG: {pcg_tol}')\n",
    "print(f'NNZ(L) = {(L.nnz*100) / (L.shape[-1] ** 2):.3f}%')"
   ]
  },
  {
   "cell_type": "code",
   "execution_count": null,
   "id": "ddd00e69",
   "metadata": {},
   "outputs": [],
   "source": []
  }
 ],
 "metadata": {
  "kernelspec": {
   "display_name": "Python 3 (ipykernel)",
   "language": "python",
   "name": "python3"
  },
  "language_info": {
   "codemirror_mode": {
    "name": "ipython",
    "version": 3
   },
   "file_extension": ".py",
   "mimetype": "text/x-python",
   "name": "python",
   "nbconvert_exporter": "python",
   "pygments_lexer": "ipython3",
   "version": "3.10.6"
  }
 },
 "nbformat": 4,
 "nbformat_minor": 5
}
